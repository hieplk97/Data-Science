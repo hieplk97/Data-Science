{
 "cells": [
  {
   "cell_type": "code",
   "execution_count": 1,
   "id": "essential-banner",
   "metadata": {},
   "outputs": [],
   "source": [
    "import findspark\n",
    "findspark.init()"
   ]
  },
  {
   "cell_type": "code",
   "execution_count": 2,
   "id": "common-madagascar",
   "metadata": {},
   "outputs": [],
   "source": [
    "from pyspark import SparkContext\n",
    "from pyspark.conf import SparkConf\n",
    "\n",
    "from pyspark.sql import SparkSession\n",
    "from pyspark.sql import types \n",
    "from pyspark.sql.functions import col\n",
    "from pyspark.sql.types import DateType\n",
    "from pyspark.sql.functions import isnan, isnull, when, count\n",
    "from pyspark.sql.functions import lower"
   ]
  },
  {
   "cell_type": "code",
   "execution_count": 3,
   "id": "incredible-offering",
   "metadata": {},
   "outputs": [],
   "source": [
    "sc = SparkContext()\n",
    "spark = SparkSession(sc)"
   ]
  },
  {
   "cell_type": "markdown",
   "id": "humanitarian-motorcycle",
   "metadata": {},
   "source": [
    "### 1. Đọc dữ liệu => df"
   ]
  },
  {
   "cell_type": "code",
   "execution_count": 4,
   "id": "acceptable-enlargement",
   "metadata": {
    "tags": []
   },
   "outputs": [],
   "source": [
    "df = spark.read.csv([\"../../Data/AA_data\"], header=True, inferSchema=True)"
   ]
  },
  {
   "cell_type": "markdown",
   "id": "neutral-albany",
   "metadata": {},
   "source": [
    "### 2. Cho biết dữ liệu có bao nhiêu dòng, in scheme. Hiển thị 5 dòng dữ liệu đầu tiên."
   ]
  },
  {
   "cell_type": "code",
   "execution_count": 5,
   "id": "directed-heaven",
   "metadata": {},
   "outputs": [
    {
     "data": {
      "text/plain": [
       "583718"
      ]
     },
     "execution_count": 5,
     "metadata": {},
     "output_type": "execute_result"
    }
   ],
   "source": [
    "df.count()"
   ]
  },
  {
   "cell_type": "code",
   "execution_count": 6,
   "id": "increased-tennessee",
   "metadata": {},
   "outputs": [
    {
     "name": "stdout",
     "output_type": "stream",
     "text": [
      "root\n",
      " |-- Date (MM/DD/YYYY): string (nullable = true)\n",
      " |-- Flight Number: integer (nullable = true)\n",
      " |-- Destination Airport: string (nullable = true)\n",
      " |-- Actual elapsed time (Minutes): integer (nullable = true)\n",
      "\n"
     ]
    }
   ],
   "source": [
    "df.printSchema()"
   ]
  },
  {
   "cell_type": "code",
   "execution_count": 7,
   "id": "prostate-clinic",
   "metadata": {
    "tags": []
   },
   "outputs": [
    {
     "name": "stdout",
     "output_type": "stream",
     "text": [
      "+-----------------+-------------+-------------------+-----------------------------+\n",
      "|Date (MM/DD/YYYY)|Flight Number|Destination Airport|Actual elapsed time (Minutes)|\n",
      "+-----------------+-------------+-------------------+-----------------------------+\n",
      "|       01/01/2014|            5|                HNL|                          519|\n",
      "|       01/01/2014|            7|                OGG|                          505|\n",
      "|       01/01/2014|           35|                SLC|                          174|\n",
      "|       01/01/2014|           43|                DTW|                          153|\n",
      "|       01/01/2014|           52|                PIT|                          137|\n",
      "+-----------------+-------------+-------------------+-----------------------------+\n",
      "only showing top 5 rows\n",
      "\n"
     ]
    }
   ],
   "source": [
    "df.show(5)"
   ]
  },
  {
   "cell_type": "markdown",
   "id": "colored-ballot",
   "metadata": {},
   "source": [
    "### 3. Kiểm tra dữ liệu NaN, null."
   ]
  },
  {
   "cell_type": "code",
   "execution_count": 8,
   "id": "voluntary-customs",
   "metadata": {},
   "outputs": [
    {
     "data": {
      "text/html": [
       "<div>\n",
       "<style scoped>\n",
       "    .dataframe tbody tr th:only-of-type {\n",
       "        vertical-align: middle;\n",
       "    }\n",
       "\n",
       "    .dataframe tbody tr th {\n",
       "        vertical-align: top;\n",
       "    }\n",
       "\n",
       "    .dataframe thead th {\n",
       "        text-align: right;\n",
       "    }\n",
       "</style>\n",
       "<table border=\"1\" class=\"dataframe\">\n",
       "  <thead>\n",
       "    <tr style=\"text-align: right;\">\n",
       "      <th></th>\n",
       "      <th>0</th>\n",
       "    </tr>\n",
       "  </thead>\n",
       "  <tbody>\n",
       "    <tr>\n",
       "      <th>Date (MM/DD/YYYY)</th>\n",
       "      <td>0</td>\n",
       "    </tr>\n",
       "    <tr>\n",
       "      <th>Flight Number</th>\n",
       "      <td>0</td>\n",
       "    </tr>\n",
       "    <tr>\n",
       "      <th>Destination Airport</th>\n",
       "      <td>0</td>\n",
       "    </tr>\n",
       "    <tr>\n",
       "      <th>Actual elapsed time (Minutes)</th>\n",
       "      <td>0</td>\n",
       "    </tr>\n",
       "  </tbody>\n",
       "</table>\n",
       "</div>"
      ],
      "text/plain": [
       "                               0\n",
       "Date (MM/DD/YYYY)              0\n",
       "Flight Number                  0\n",
       "Destination Airport            0\n",
       "Actual elapsed time (Minutes)  0"
      ]
     },
     "execution_count": 8,
     "metadata": {},
     "output_type": "execute_result"
    }
   ],
   "source": [
    "df.select([count(when(isnan(c), c)).alias(c) for c in df.columns]).toPandas().T"
   ]
  },
  {
   "cell_type": "markdown",
   "id": "municipal-tender",
   "metadata": {},
   "source": [
    "=> Không có dữ liệu NaN"
   ]
  },
  {
   "cell_type": "code",
   "execution_count": 9,
   "id": "together-glance",
   "metadata": {},
   "outputs": [
    {
     "data": {
      "text/html": [
       "<div>\n",
       "<style scoped>\n",
       "    .dataframe tbody tr th:only-of-type {\n",
       "        vertical-align: middle;\n",
       "    }\n",
       "\n",
       "    .dataframe tbody tr th {\n",
       "        vertical-align: top;\n",
       "    }\n",
       "\n",
       "    .dataframe thead th {\n",
       "        text-align: right;\n",
       "    }\n",
       "</style>\n",
       "<table border=\"1\" class=\"dataframe\">\n",
       "  <thead>\n",
       "    <tr style=\"text-align: right;\">\n",
       "      <th></th>\n",
       "      <th>0</th>\n",
       "    </tr>\n",
       "  </thead>\n",
       "  <tbody>\n",
       "    <tr>\n",
       "      <th>Date (MM/DD/YYYY)</th>\n",
       "      <td>0</td>\n",
       "    </tr>\n",
       "    <tr>\n",
       "      <th>Flight Number</th>\n",
       "      <td>0</td>\n",
       "    </tr>\n",
       "    <tr>\n",
       "      <th>Destination Airport</th>\n",
       "      <td>0</td>\n",
       "    </tr>\n",
       "    <tr>\n",
       "      <th>Actual elapsed time (Minutes)</th>\n",
       "      <td>0</td>\n",
       "    </tr>\n",
       "  </tbody>\n",
       "</table>\n",
       "</div>"
      ],
      "text/plain": [
       "                               0\n",
       "Date (MM/DD/YYYY)              0\n",
       "Flight Number                  0\n",
       "Destination Airport            0\n",
       "Actual elapsed time (Minutes)  0"
      ]
     },
     "execution_count": 9,
     "metadata": {},
     "output_type": "execute_result"
    }
   ],
   "source": [
    "df.select([count(when(isnull(c), c)).alias(c) for c in df.columns]).toPandas().T"
   ]
  },
  {
   "cell_type": "markdown",
   "id": "impossible-holiday",
   "metadata": {},
   "source": [
    "=> Không có dữ liệu Null"
   ]
  },
  {
   "cell_type": "markdown",
   "id": "rough-mozambique",
   "metadata": {},
   "source": [
    "### 4. Kiểm tra dữ liệu trùng. Xóa dữ liệu trùng."
   ]
  },
  {
   "cell_type": "code",
   "execution_count": 10,
   "id": "mighty-jacket",
   "metadata": {},
   "outputs": [],
   "source": [
    "num_rows = df.count()\n",
    "num_dist_rows = df.distinct().count()\n",
    "dup_rows = num_rows - num_dist_rows"
   ]
  },
  {
   "cell_type": "code",
   "execution_count": 11,
   "id": "sonic-static",
   "metadata": {},
   "outputs": [
    {
     "data": {
      "text/plain": [
       "0"
      ]
     },
     "execution_count": 11,
     "metadata": {},
     "output_type": "execute_result"
    }
   ],
   "source": [
    "dup_rows"
   ]
  },
  {
   "cell_type": "markdown",
   "id": "distributed-portrait",
   "metadata": {},
   "source": [
    "=> Không có dữ liệu trùng"
   ]
  },
  {
   "cell_type": "markdown",
   "id": "crucial-greene",
   "metadata": {},
   "source": [
    "## Lazy processing operations"
   ]
  },
  {
   "cell_type": "markdown",
   "id": "changed-cream",
   "metadata": {},
   "source": [
    "### 5. Trong df, thêm một cột 'airport' lấy dữ liệu từ cột 'Destination Airport'. định dạng chữ thường cho nội dung."
   ]
  },
  {
   "cell_type": "code",
   "execution_count": 12,
   "id": "weighted-stuff",
   "metadata": {},
   "outputs": [
    {
     "name": "stdout",
     "output_type": "stream",
     "text": [
      "+-----------------+-------------+-----------------------------+-------+\n",
      "|Date (MM/DD/YYYY)|Flight Number|Actual elapsed time (Minutes)|airport|\n",
      "+-----------------+-------------+-----------------------------+-------+\n",
      "|       01/01/2014|            5|                          519|    hnl|\n",
      "|       01/01/2014|            7|                          505|    ogg|\n",
      "|       01/01/2014|           35|                          174|    slc|\n",
      "|       01/01/2014|           43|                          153|    dtw|\n",
      "|       01/01/2014|           52|                          137|    pit|\n",
      "+-----------------+-------------+-----------------------------+-------+\n",
      "only showing top 5 rows\n",
      "\n"
     ]
    }
   ],
   "source": [
    "df = df.withColumn('airport', lower(df['Destination Airport']))\n",
    "df = df.drop('Destination Airport')\n",
    "df.show(5)"
   ]
  },
  {
   "cell_type": "markdown",
   "id": "joined-promotion",
   "metadata": {},
   "source": [
    "### 6. Trong df, thêm một cột 'date' lấy dữ liệu từ cột 'Date (MM/DD/YYYY)', sau đó xóa cột 'Date (MM/DD/YYYY)')."
   ]
  },
  {
   "cell_type": "code",
   "execution_count": 13,
   "id": "local-sequence",
   "metadata": {},
   "outputs": [
    {
     "name": "stdout",
     "output_type": "stream",
     "text": [
      "+-------------+-----------------------------+-------+----------+\n",
      "|Flight Number|Actual elapsed time (Minutes)|airport|      date|\n",
      "+-------------+-----------------------------+-------+----------+\n",
      "|            5|                          519|    hnl|01/01/2014|\n",
      "|            7|                          505|    ogg|01/01/2014|\n",
      "|           35|                          174|    slc|01/01/2014|\n",
      "|           43|                          153|    dtw|01/01/2014|\n",
      "|           52|                          137|    pit|01/01/2014|\n",
      "+-------------+-----------------------------+-------+----------+\n",
      "only showing top 5 rows\n",
      "\n"
     ]
    }
   ],
   "source": [
    "df = df.withColumn('date', lower(df['Date (MM/DD/YYYY)']))\n",
    "df = df.drop('Date (MM/DD/YYYY)')\n",
    "df.show(5)"
   ]
  },
  {
   "cell_type": "markdown",
   "id": "robust-hygiene",
   "metadata": {},
   "source": [
    "### 7. Trong df, đổi tên cột 'Flight Number' thành 'flight_num', cột 'Actual elapsed time (Minutes)' thành 'actual_time'."
   ]
  },
  {
   "cell_type": "code",
   "execution_count": 14,
   "id": "actual-chapel",
   "metadata": {},
   "outputs": [
    {
     "name": "stdout",
     "output_type": "stream",
     "text": [
      "+----------+-----------+-------+----------+\n",
      "|flight_num|actual_time|airport|      date|\n",
      "+----------+-----------+-------+----------+\n",
      "|         5|        519|    hnl|01/01/2014|\n",
      "|         7|        505|    ogg|01/01/2014|\n",
      "|        35|        174|    slc|01/01/2014|\n",
      "|        43|        153|    dtw|01/01/2014|\n",
      "|        52|        137|    pit|01/01/2014|\n",
      "+----------+-----------+-------+----------+\n",
      "only showing top 5 rows\n",
      "\n"
     ]
    }
   ],
   "source": [
    "df = df.withColumnRenamed('Flight Number', 'flight_num')\n",
    "df = df.withColumnRenamed('Actual elapsed time (Minutes)', 'actual_time')\n",
    "df.show(5)"
   ]
  },
  {
   "cell_type": "markdown",
   "id": "enormous-former",
   "metadata": {},
   "source": [
    "## Parquet Format"
   ]
  },
  {
   "cell_type": "markdown",
   "id": "illegal-burner",
   "metadata": {},
   "source": [
    "### 8. Lưu df dưới dạng Parquet format với tên là \"AA_DFW_ALL.parquet\"."
   ]
  },
  {
   "cell_type": "code",
   "execution_count": 15,
   "id": "innovative-captain",
   "metadata": {},
   "outputs": [],
   "source": [
    "# Save the df DataFrame in Parquet format\n",
    "df.write.parquet('AA_DFW_ALL.parquet', mode='overwrite')"
   ]
  },
  {
   "cell_type": "markdown",
   "id": "signal-tamil",
   "metadata": {},
   "source": [
    "### 9. Đọc parquet \"AA_DFW_ALL.parquet\" => df_new."
   ]
  },
  {
   "cell_type": "code",
   "execution_count": 16,
   "id": "dried-catalog",
   "metadata": {},
   "outputs": [],
   "source": [
    "df_new = spark.read.parquet('AA_DFW_ALL.parquet')"
   ]
  },
  {
   "cell_type": "code",
   "execution_count": 17,
   "id": "alone-activation",
   "metadata": {},
   "outputs": [
    {
     "data": {
      "text/plain": [
       "583718"
      ]
     },
     "execution_count": 17,
     "metadata": {},
     "output_type": "execute_result"
    }
   ],
   "source": [
    "df_new.count()"
   ]
  },
  {
   "cell_type": "markdown",
   "id": "upper-turner",
   "metadata": {},
   "source": [
    "## SQL and Parquet"
   ]
  },
  {
   "cell_type": "markdown",
   "id": "greek-source",
   "metadata": {},
   "source": [
    "### 10. Tạo một bảng tạm 'flights'. Cho biết trung bình của 'actual_time' trong 'flights'."
   ]
  },
  {
   "cell_type": "code",
   "execution_count": 18,
   "id": "convertible-hunter",
   "metadata": {},
   "outputs": [],
   "source": [
    "df_new.createOrReplaceTempView('flights')"
   ]
  },
  {
   "cell_type": "code",
   "execution_count": 19,
   "id": "entertaining-glory",
   "metadata": {},
   "outputs": [
    {
     "name": "stdout",
     "output_type": "stream",
     "text": [
      "The average flight time is: 147\n"
     ]
    }
   ],
   "source": [
    "# Run a SQL query of the average Actual elapsed time\n",
    "avg_duration = spark.sql('SELECT AVG(actual_time) FROM flights').collect()[0]\n",
    "print(\"The average flight time is: %d\" % avg_duration)"
   ]
  },
  {
   "cell_type": "markdown",
   "id": "through-prototype",
   "metadata": {},
   "source": [
    "# Improve Performance\n",
    "#### Caching a DataFrame\n",
    "* Caching can improve performance when reusing DataFrame"
   ]
  },
  {
   "cell_type": "code",
   "execution_count": 20,
   "id": "aging-ownership",
   "metadata": {},
   "outputs": [],
   "source": [
    "import time"
   ]
  },
  {
   "cell_type": "markdown",
   "id": "moved-nursery",
   "metadata": {},
   "source": [
    "### 11. Caching các dòng dữ liệu duy nhất của df_new. Đếm số dòng. Cho biết thời gian thực hiện các công việc này."
   ]
  },
  {
   "cell_type": "code",
   "execution_count": 21,
   "id": "ideal-settle",
   "metadata": {},
   "outputs": [
    {
     "name": "stdout",
     "output_type": "stream",
     "text": [
      "Counting 583718 rows took 2.353077 seconds\n"
     ]
    }
   ],
   "source": [
    "start_time = time.time()\n",
    "# Add caching to the unique rows in df_new\n",
    "df_new = df_new.distinct().cache()\n",
    "# Count the unique rows in df_new, nothing how long the operation takes\n",
    "print(\"Counting %d rows took %f seconds\" % (df_new.count(), time.time() - start_time))"
   ]
  },
  {
   "cell_type": "markdown",
   "id": "forced-selection",
   "metadata": {},
   "source": [
    "### 12. Đếm lại số dòng. Cho biết thời gian thực hiện các công việc này."
   ]
  },
  {
   "cell_type": "code",
   "execution_count": 22,
   "id": "consolidated-attempt",
   "metadata": {},
   "outputs": [
    {
     "name": "stdout",
     "output_type": "stream",
     "text": [
      "Counting 583718 rows again took 0.580008 seconds\n"
     ]
    }
   ],
   "source": [
    "# Count the rows again, noting the variance in time of a cached DataFrame\n",
    "start_time = time.time()\n",
    "print(\"Counting %d rows again took %f seconds\" % (df_new.count(), time.time() - start_time))"
   ]
  },
  {
   "cell_type": "markdown",
   "id": "automated-canada",
   "metadata": {},
   "source": [
    "## Removing a DataFrame from cache"
   ]
  },
  {
   "cell_type": "markdown",
   "id": "damaged-headset",
   "metadata": {},
   "source": [
    "### 13. Kiểm tra xem df_new có trong cache hay không? Nếu có thì bỏ df_new khỏi cache."
   ]
  },
  {
   "cell_type": "code",
   "execution_count": 23,
   "id": "synthetic-reporter",
   "metadata": {},
   "outputs": [
    {
     "name": "stdout",
     "output_type": "stream",
     "text": [
      "Is df_new cached?: True\n"
     ]
    }
   ],
   "source": [
    "# Determine if df_new is in the cache\n",
    "print('Is df_new cached?: %s' % df_new.is_cached)"
   ]
  },
  {
   "cell_type": "code",
   "execution_count": 24,
   "id": "canadian-authorization",
   "metadata": {},
   "outputs": [
    {
     "name": "stdout",
     "output_type": "stream",
     "text": [
      "Removing df_new from cache\n",
      "Is df_new cached?: False\n"
     ]
    }
   ],
   "source": [
    "print('Removing df_new from cache')\n",
    "# Remove df_new from the cache\n",
    "df_new.unpersist()\n",
    "# Check the cache status again\n",
    "print('Is df_new cached?: %s' % df_new.is_cached)"
   ]
  },
  {
   "cell_type": "markdown",
   "id": "asian-innocent",
   "metadata": {},
   "source": [
    "* Note: Converting to a larger number of files with approximately equal quantity of rows lets Spark decide how best the data."
   ]
  },
  {
   "cell_type": "markdown",
   "id": "virtual-problem",
   "metadata": {},
   "source": [
    "## Cluster configurations"
   ]
  },
  {
   "cell_type": "code",
   "execution_count": 25,
   "id": "noble-arrival",
   "metadata": {},
   "outputs": [
    {
     "name": "stdout",
     "output_type": "stream",
     "text": [
      "Name: pyspark-shell\n",
      "Driver TCP port: 61139\n",
      "Number of partitions: 200\n"
     ]
    }
   ],
   "source": [
    "# Name of the Spark application instance\n",
    "app_name = spark.conf.get('spark.app.name')\n",
    "# Driver TCP port\n",
    "driver_tcp_port = spark.conf.get('spark.driver.port')\n",
    "# Number of join partitions\n",
    "num_partitions = spark.conf.get('spark.sql.shuffle.partitions')\n",
    "# Show the results\n",
    "print(\"Name: %s\" % app_name)\n",
    "print(\"Driver TCP port: %s\" % driver_tcp_port)\n",
    "print(\"Number of partitions: %s\" % num_partitions)"
   ]
  },
  {
   "cell_type": "code",
   "execution_count": 26,
   "id": "inner-signature",
   "metadata": {},
   "outputs": [
    {
     "name": "stdout",
     "output_type": "stream",
     "text": [
      "Partition count before change: 200\n",
      "Partition count after change: 500\n"
     ]
    }
   ],
   "source": [
    "# Store the number of partitions in variable\n",
    "before = df_new.rdd.getNumPartitions()\n",
    "# Configure Spark to use 500 partitions\n",
    "spark.conf.set('spark.sql.shuffle.partitions', 500)\n",
    "# Recreate the DataFrame using the departure data file\n",
    "df_new = spark.read.parquet('AA_DFW_ALL.parquet').distinct()\n",
    "# Print the number of partitions for each instance\n",
    "print(\"Partition count before change: %d\" % before)\n",
    "print(\"Partition count after change: %d\" % df_new.rdd.getNumPartitions())"
   ]
  },
  {
   "cell_type": "code",
   "execution_count": 27,
   "id": "classical-cleanup",
   "metadata": {},
   "outputs": [],
   "source": [
    "# Save data to json file\n",
    "df_new.write.json('AA_DFW_ALL.json')"
   ]
  }
 ],
 "metadata": {
  "kernelspec": {
   "display_name": "Python 3",
   "language": "python",
   "name": "python3"
  },
  "language_info": {
   "codemirror_mode": {
    "name": "ipython",
    "version": 3
   },
   "file_extension": ".py",
   "mimetype": "text/x-python",
   "name": "python",
   "nbconvert_exporter": "python",
   "pygments_lexer": "ipython3",
   "version": "3.8.3"
  }
 },
 "nbformat": 4,
 "nbformat_minor": 5
}
