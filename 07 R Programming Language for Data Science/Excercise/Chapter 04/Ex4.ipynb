{
 "cells": [
  {
   "cell_type": "code",
   "execution_count": 1,
   "metadata": {},
   "outputs": [],
   "source": [
    "check_prime.function = function(number){\n",
    "    if (number == 2){\n",
    "        return (number)\n",
    "    } else {\n",
    "        i = 2\n",
    "        while (i <= sqrt(number)) {\n",
    "            if (number %% i == 0) {\n",
    "                return (0)\n",
    "            }\n",
    "            i = i+1\n",
    "        }\n",
    "        return (number)\n",
    "    }\n",
    "}"
   ]
  },
  {
   "cell_type": "code",
   "execution_count": 2,
   "metadata": {},
   "outputs": [
    {
     "name": "stdin",
     "output_type": "stream",
     "text": [
      "Please input n:  15\n"
     ]
    },
    {
     "name": "stdout",
     "output_type": "stream",
     "text": [
      "Summary of primes:   2 + 3 + 5 + 7 + 11 + 13 + = 41"
     ]
    }
   ],
   "source": [
    "i = 2\n",
    "sum_prime = 0\n",
    "s = \"\"\n",
    "\n",
    "n = as.integer(readline(prompt = \"Please input n: \"))\n",
    "\n",
    "while (i <= n ){\n",
    "    prime = check_prime.function(i)\n",
    "    if (prime != 0){\n",
    "        s = paste(s, prime, \"+\")\n",
    "        sum_prime = sum_prime + prime\n",
    "    }\n",
    "    i = i + 1\n",
    "}\n",
    "\n",
    "s = paste(\"Summary of primes: \", s, \"=\", sum_prime)\n",
    "cat(s)"
   ]
  },
  {
   "cell_type": "code",
   "execution_count": null,
   "metadata": {},
   "outputs": [],
   "source": []
  }
 ],
 "metadata": {
  "kernelspec": {
   "display_name": "R",
   "language": "R",
   "name": "ir"
  },
  "language_info": {
   "codemirror_mode": "r",
   "file_extension": ".r",
   "mimetype": "text/x-r-source",
   "name": "R",
   "pygments_lexer": "r",
   "version": "4.0.3"
  }
 },
 "nbformat": 4,
 "nbformat_minor": 4
}
