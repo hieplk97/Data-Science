{
 "cells": [
  {
   "cell_type": "code",
   "execution_count": 1,
   "metadata": {},
   "outputs": [],
   "source": [
    "library(\"e1071\")\n",
    "library(\"xlsx\")"
   ]
  },
  {
   "cell_type": "code",
   "execution_count": 2,
   "metadata": {},
   "outputs": [
    {
     "name": "stdout",
     "output_type": "stream",
     "text": [
      "[1] \"Content of file:\"\n"
     ]
    },
    {
     "data": {
      "text/html": [
       "<table>\n",
       "<caption>A data.frame: 6 × 36</caption>\n",
       "<thead>\n",
       "\t<tr><th></th><th scope=col>ID</th><th scope=col>LastÂ.Name</th><th scope=col>First.Name</th><th scope=col>City</th><th scope=col>State</th><th scope=col>Gender</th><th scope=col>Student.Status</th><th scope=col>Major</th><th scope=col>Country</th><th scope=col>Age</th><th scope=col>...</th><th scope=col>NA..12</th><th scope=col>NA..13</th><th scope=col>NA..14</th><th scope=col>NA..15</th><th scope=col>NA..16</th><th scope=col>NA..17</th><th scope=col>NA..18</th><th scope=col>NA..19</th><th scope=col>NA..20</th><th scope=col>NA..21</th></tr>\n",
       "\t<tr><th></th><th scope=col>&lt;dbl&gt;</th><th scope=col>&lt;chr&gt;</th><th scope=col>&lt;chr&gt;</th><th scope=col>&lt;chr&gt;</th><th scope=col>&lt;chr&gt;</th><th scope=col>&lt;chr&gt;</th><th scope=col>&lt;chr&gt;</th><th scope=col>&lt;chr&gt;</th><th scope=col>&lt;chr&gt;</th><th scope=col>&lt;dbl&gt;</th><th scope=col>...</th><th scope=col>&lt;lgl&gt;</th><th scope=col>&lt;lgl&gt;</th><th scope=col>&lt;lgl&gt;</th><th scope=col>&lt;lgl&gt;</th><th scope=col>&lt;lgl&gt;</th><th scope=col>&lt;lgl&gt;</th><th scope=col>&lt;lgl&gt;</th><th scope=col>&lt;lgl&gt;</th><th scope=col>&lt;lgl&gt;</th><th scope=col>&lt;lgl&gt;</th></tr>\n",
       "</thead>\n",
       "<tbody>\n",
       "\t<tr><th scope=row>1</th><td>1</td><td>DOE01</td><td>JANE01</td><td>Los Angeles</td><td>California</td><td>Female</td><td>Graduate     </td><td>Politics</td><td>US    </td><td>30</td><td>...</td><td>NA</td><td>NA</td><td>NA</td><td>NA</td><td>NA</td><td>NA</td><td>NA</td><td>NA</td><td>NA</td><td>NA</td></tr>\n",
       "\t<tr><th scope=row>2</th><td>2</td><td>DOE02</td><td>JANE02</td><td>Sedona     </td><td>Arizona   </td><td>Female</td><td>Undergraduate</td><td>Math    </td><td>US    </td><td>19</td><td>...</td><td>NA</td><td>NA</td><td>NA</td><td>NA</td><td>NA</td><td>NA</td><td>NA</td><td>NA</td><td>NA</td><td>NA</td></tr>\n",
       "\t<tr><th scope=row>3</th><td>3</td><td>DOE01</td><td>JOE01 </td><td>Elmira     </td><td>New York  </td><td>Male  </td><td>Graduate     </td><td>Math    </td><td>US    </td><td>26</td><td>...</td><td>NA</td><td>NA</td><td>NA</td><td>NA</td><td>NA</td><td>NA</td><td>NA</td><td>NA</td><td>NA</td><td>NA</td></tr>\n",
       "\t<tr><th scope=row>4</th><td>4</td><td>DOE02</td><td>JOE02 </td><td>Lackawana  </td><td>New York  </td><td>Male  </td><td>Graduate     </td><td>Econ    </td><td>US    </td><td>33</td><td>...</td><td>NA</td><td>NA</td><td>NA</td><td>NA</td><td>NA</td><td>NA</td><td>NA</td><td>NA</td><td>NA</td><td>NA</td></tr>\n",
       "\t<tr><th scope=row>5</th><td>5</td><td>DOE03</td><td>JOE03 </td><td>Defiance   </td><td>Ohio      </td><td>Male  </td><td>Graduate     </td><td>Econ    </td><td>US    </td><td>37</td><td>...</td><td>NA</td><td>NA</td><td>NA</td><td>NA</td><td>NA</td><td>NA</td><td>NA</td><td>NA</td><td>NA</td><td>NA</td></tr>\n",
       "\t<tr><th scope=row>6</th><td>6</td><td>DOE04</td><td>JOE04 </td><td>Tel Aviv   </td><td>Israel    </td><td>Male  </td><td>Graduate     </td><td>Econ    </td><td>Israel</td><td>25</td><td>...</td><td>NA</td><td>NA</td><td>NA</td><td>NA</td><td>NA</td><td>NA</td><td>NA</td><td>NA</td><td>NA</td><td>NA</td></tr>\n",
       "</tbody>\n",
       "</table>\n"
      ],
      "text/latex": [
       "A data.frame: 6 × 36\n",
       "\\begin{tabular}{r|lllllllllllllllllllll}\n",
       "  & ID & LastÂ.Name & First.Name & City & State & Gender & Student.Status & Major & Country & Age & ... & NA..12 & NA..13 & NA..14 & NA..15 & NA..16 & NA..17 & NA..18 & NA..19 & NA..20 & NA..21\\\\\n",
       "  & <dbl> & <chr> & <chr> & <chr> & <chr> & <chr> & <chr> & <chr> & <chr> & <dbl> & ... & <lgl> & <lgl> & <lgl> & <lgl> & <lgl> & <lgl> & <lgl> & <lgl> & <lgl> & <lgl>\\\\\n",
       "\\hline\n",
       "\t1 & 1 & DOE01 & JANE01 & Los Angeles & California & Female & Graduate      & Politics & US     & 30 & ... & NA & NA & NA & NA & NA & NA & NA & NA & NA & NA\\\\\n",
       "\t2 & 2 & DOE02 & JANE02 & Sedona      & Arizona    & Female & Undergraduate & Math     & US     & 19 & ... & NA & NA & NA & NA & NA & NA & NA & NA & NA & NA\\\\\n",
       "\t3 & 3 & DOE01 & JOE01  & Elmira      & New York   & Male   & Graduate      & Math     & US     & 26 & ... & NA & NA & NA & NA & NA & NA & NA & NA & NA & NA\\\\\n",
       "\t4 & 4 & DOE02 & JOE02  & Lackawana   & New York   & Male   & Graduate      & Econ     & US     & 33 & ... & NA & NA & NA & NA & NA & NA & NA & NA & NA & NA\\\\\n",
       "\t5 & 5 & DOE03 & JOE03  & Defiance    & Ohio       & Male   & Graduate      & Econ     & US     & 37 & ... & NA & NA & NA & NA & NA & NA & NA & NA & NA & NA\\\\\n",
       "\t6 & 6 & DOE04 & JOE04  & Tel Aviv    & Israel     & Male   & Graduate      & Econ     & Israel & 25 & ... & NA & NA & NA & NA & NA & NA & NA & NA & NA & NA\\\\\n",
       "\\end{tabular}\n"
      ],
      "text/markdown": [
       "\n",
       "A data.frame: 6 × 36\n",
       "\n",
       "| <!--/--> | ID &lt;dbl&gt; | LastÂ.Name &lt;chr&gt; | First.Name &lt;chr&gt; | City &lt;chr&gt; | State &lt;chr&gt; | Gender &lt;chr&gt; | Student.Status &lt;chr&gt; | Major &lt;chr&gt; | Country &lt;chr&gt; | Age &lt;dbl&gt; | ... ... | NA..12 &lt;lgl&gt; | NA..13 &lt;lgl&gt; | NA..14 &lt;lgl&gt; | NA..15 &lt;lgl&gt; | NA..16 &lt;lgl&gt; | NA..17 &lt;lgl&gt; | NA..18 &lt;lgl&gt; | NA..19 &lt;lgl&gt; | NA..20 &lt;lgl&gt; | NA..21 &lt;lgl&gt; |\n",
       "|---|---|---|---|---|---|---|---|---|---|---|---|---|---|---|---|---|---|---|---|---|---|\n",
       "| 1 | 1 | DOE01 | JANE01 | Los Angeles | California | Female | Graduate      | Politics | US     | 30 | ... | NA | NA | NA | NA | NA | NA | NA | NA | NA | NA |\n",
       "| 2 | 2 | DOE02 | JANE02 | Sedona      | Arizona    | Female | Undergraduate | Math     | US     | 19 | ... | NA | NA | NA | NA | NA | NA | NA | NA | NA | NA |\n",
       "| 3 | 3 | DOE01 | JOE01  | Elmira      | New York   | Male   | Graduate      | Math     | US     | 26 | ... | NA | NA | NA | NA | NA | NA | NA | NA | NA | NA |\n",
       "| 4 | 4 | DOE02 | JOE02  | Lackawana   | New York   | Male   | Graduate      | Econ     | US     | 33 | ... | NA | NA | NA | NA | NA | NA | NA | NA | NA | NA |\n",
       "| 5 | 5 | DOE03 | JOE03  | Defiance    | Ohio       | Male   | Graduate      | Econ     | US     | 37 | ... | NA | NA | NA | NA | NA | NA | NA | NA | NA | NA |\n",
       "| 6 | 6 | DOE04 | JOE04  | Tel Aviv    | Israel     | Male   | Graduate      | Econ     | Israel | 25 | ... | NA | NA | NA | NA | NA | NA | NA | NA | NA | NA |\n",
       "\n"
      ],
      "text/plain": [
       "  ID LastÂ.Name First.Name City        State      Gender Student.Status\n",
       "1 1  DOE01      JANE01     Los Angeles California Female Graduate      \n",
       "2 2  DOE02      JANE02     Sedona      Arizona    Female Undergraduate \n",
       "3 3  DOE01      JOE01      Elmira      New York   Male   Graduate      \n",
       "4 4  DOE02      JOE02      Lackawana   New York   Male   Graduate      \n",
       "5 5  DOE03      JOE03      Defiance    Ohio       Male   Graduate      \n",
       "6 6  DOE04      JOE04      Tel Aviv    Israel     Male   Graduate      \n",
       "  Major    Country Age ... NA..12 NA..13 NA..14 NA..15 NA..16 NA..17 NA..18\n",
       "1 Politics US      30  ... NA     NA     NA     NA     NA     NA     NA    \n",
       "2 Math     US      19  ... NA     NA     NA     NA     NA     NA     NA    \n",
       "3 Math     US      26  ... NA     NA     NA     NA     NA     NA     NA    \n",
       "4 Econ     US      33  ... NA     NA     NA     NA     NA     NA     NA    \n",
       "5 Econ     US      37  ... NA     NA     NA     NA     NA     NA     NA    \n",
       "6 Econ     Israel  25  ... NA     NA     NA     NA     NA     NA     NA    \n",
       "  NA..19 NA..20 NA..21\n",
       "1 NA     NA     NA    \n",
       "2 NA     NA     NA    \n",
       "3 NA     NA     NA    \n",
       "4 NA     NA     NA    \n",
       "5 NA     NA     NA    \n",
       "6 NA     NA     NA    "
      ]
     },
     "metadata": {},
     "output_type": "display_data"
    }
   ],
   "source": [
    "df = read.xlsx(\"../../Data/students.xls\", sheetName = \"Full\")\n",
    "print(\"Content of file:\")\n",
    "head(df)"
   ]
  },
  {
   "cell_type": "code",
   "execution_count": 3,
   "metadata": {},
   "outputs": [],
   "source": [
    "df = df[colSums(!is.na(df)) > 0]"
   ]
  },
  {
   "cell_type": "code",
   "execution_count": 4,
   "metadata": {},
   "outputs": [],
   "source": [
    "df = na.omit(df)"
   ]
  },
  {
   "cell_type": "code",
   "execution_count": 5,
   "metadata": {},
   "outputs": [
    {
     "data": {
      "text/html": [
       "<table>\n",
       "<caption>A data.frame: 6 × 11</caption>\n",
       "<thead>\n",
       "\t<tr><th></th><th scope=col>City</th><th scope=col>State</th><th scope=col>Gender</th><th scope=col>Student.Status</th><th scope=col>Major</th><th scope=col>Country</th><th scope=col>Age</th><th scope=col>SAT</th><th scope=col>Average.score..grade.</th><th scope=col>Height..in.</th><th scope=col>Newspaper.readership..times.wk.</th></tr>\n",
       "\t<tr><th></th><th scope=col>&lt;chr&gt;</th><th scope=col>&lt;chr&gt;</th><th scope=col>&lt;chr&gt;</th><th scope=col>&lt;chr&gt;</th><th scope=col>&lt;chr&gt;</th><th scope=col>&lt;chr&gt;</th><th scope=col>&lt;dbl&gt;</th><th scope=col>&lt;dbl&gt;</th><th scope=col>&lt;dbl&gt;</th><th scope=col>&lt;dbl&gt;</th><th scope=col>&lt;dbl&gt;</th></tr>\n",
       "</thead>\n",
       "<tbody>\n",
       "\t<tr><th scope=row>1</th><td>Los Angeles</td><td>California</td><td>Female</td><td>Graduate     </td><td>Politics</td><td>US    </td><td>30</td><td>2263</td><td>67.00000</td><td>61</td><td>5</td></tr>\n",
       "\t<tr><th scope=row>2</th><td>Sedona     </td><td>Arizona   </td><td>Female</td><td>Undergraduate</td><td>Math    </td><td>US    </td><td>19</td><td>2006</td><td>63.00000</td><td>64</td><td>7</td></tr>\n",
       "\t<tr><th scope=row>3</th><td>Elmira     </td><td>New York  </td><td>Male  </td><td>Graduate     </td><td>Math    </td><td>US    </td><td>26</td><td>2221</td><td>78.11328</td><td>73</td><td>6</td></tr>\n",
       "\t<tr><th scope=row>4</th><td>Lackawana  </td><td>New York  </td><td>Male  </td><td>Graduate     </td><td>Econ    </td><td>US    </td><td>33</td><td>1716</td><td>77.80859</td><td>68</td><td>3</td></tr>\n",
       "\t<tr><th scope=row>5</th><td>Defiance   </td><td>Ohio      </td><td>Male  </td><td>Graduate     </td><td>Econ    </td><td>US    </td><td>37</td><td>1701</td><td>65.00000</td><td>71</td><td>6</td></tr>\n",
       "\t<tr><th scope=row>6</th><td>Tel Aviv   </td><td>Israel    </td><td>Male  </td><td>Graduate     </td><td>Econ    </td><td>Israel</td><td>25</td><td>1786</td><td>69.00000</td><td>67</td><td>5</td></tr>\n",
       "</tbody>\n",
       "</table>\n"
      ],
      "text/latex": [
       "A data.frame: 6 × 11\n",
       "\\begin{tabular}{r|lllllllllll}\n",
       "  & City & State & Gender & Student.Status & Major & Country & Age & SAT & Average.score..grade. & Height..in. & Newspaper.readership..times.wk.\\\\\n",
       "  & <chr> & <chr> & <chr> & <chr> & <chr> & <chr> & <dbl> & <dbl> & <dbl> & <dbl> & <dbl>\\\\\n",
       "\\hline\n",
       "\t1 & Los Angeles & California & Female & Graduate      & Politics & US     & 30 & 2263 & 67.00000 & 61 & 5\\\\\n",
       "\t2 & Sedona      & Arizona    & Female & Undergraduate & Math     & US     & 19 & 2006 & 63.00000 & 64 & 7\\\\\n",
       "\t3 & Elmira      & New York   & Male   & Graduate      & Math     & US     & 26 & 2221 & 78.11328 & 73 & 6\\\\\n",
       "\t4 & Lackawana   & New York   & Male   & Graduate      & Econ     & US     & 33 & 1716 & 77.80859 & 68 & 3\\\\\n",
       "\t5 & Defiance    & Ohio       & Male   & Graduate      & Econ     & US     & 37 & 1701 & 65.00000 & 71 & 6\\\\\n",
       "\t6 & Tel Aviv    & Israel     & Male   & Graduate      & Econ     & Israel & 25 & 1786 & 69.00000 & 67 & 5\\\\\n",
       "\\end{tabular}\n"
      ],
      "text/markdown": [
       "\n",
       "A data.frame: 6 × 11\n",
       "\n",
       "| <!--/--> | City &lt;chr&gt; | State &lt;chr&gt; | Gender &lt;chr&gt; | Student.Status &lt;chr&gt; | Major &lt;chr&gt; | Country &lt;chr&gt; | Age &lt;dbl&gt; | SAT &lt;dbl&gt; | Average.score..grade. &lt;dbl&gt; | Height..in. &lt;dbl&gt; | Newspaper.readership..times.wk. &lt;dbl&gt; |\n",
       "|---|---|---|---|---|---|---|---|---|---|---|---|\n",
       "| 1 | Los Angeles | California | Female | Graduate      | Politics | US     | 30 | 2263 | 67.00000 | 61 | 5 |\n",
       "| 2 | Sedona      | Arizona    | Female | Undergraduate | Math     | US     | 19 | 2006 | 63.00000 | 64 | 7 |\n",
       "| 3 | Elmira      | New York   | Male   | Graduate      | Math     | US     | 26 | 2221 | 78.11328 | 73 | 6 |\n",
       "| 4 | Lackawana   | New York   | Male   | Graduate      | Econ     | US     | 33 | 1716 | 77.80859 | 68 | 3 |\n",
       "| 5 | Defiance    | Ohio       | Male   | Graduate      | Econ     | US     | 37 | 1701 | 65.00000 | 71 | 6 |\n",
       "| 6 | Tel Aviv    | Israel     | Male   | Graduate      | Econ     | Israel | 25 | 1786 | 69.00000 | 67 | 5 |\n",
       "\n"
      ],
      "text/plain": [
       "  City        State      Gender Student.Status Major    Country Age SAT \n",
       "1 Los Angeles California Female Graduate       Politics US      30  2263\n",
       "2 Sedona      Arizona    Female Undergraduate  Math     US      19  2006\n",
       "3 Elmira      New York   Male   Graduate       Math     US      26  2221\n",
       "4 Lackawana   New York   Male   Graduate       Econ     US      33  1716\n",
       "5 Defiance    Ohio       Male   Graduate       Econ     US      37  1701\n",
       "6 Tel Aviv    Israel     Male   Graduate       Econ     Israel  25  1786\n",
       "  Average.score..grade. Height..in. Newspaper.readership..times.wk.\n",
       "1 67.00000              61          5                              \n",
       "2 63.00000              64          7                              \n",
       "3 78.11328              73          6                              \n",
       "4 77.80859              68          3                              \n",
       "5 65.00000              71          6                              \n",
       "6 69.00000              67          5                              "
      ]
     },
     "metadata": {},
     "output_type": "display_data"
    }
   ],
   "source": [
    "df = df[, 4:14]\n",
    "head(df)"
   ]
  },
  {
   "cell_type": "code",
   "execution_count": 6,
   "metadata": {},
   "outputs": [
    {
     "name": "stdout",
     "output_type": "stream",
     "text": [
      "'data.frame':\t30 obs. of  11 variables:\n",
      " $ City                           : chr  \"Los Angeles\" \"Sedona\" \"Elmira\" \"Lackawana\" ...\n",
      " $ State                          : chr  \"California\" \"Arizona\" \"New York\" \"New York\" ...\n",
      " $ Gender                         : chr  \"Female\" \"Female\" \"Male\" \"Male\" ...\n",
      " $ Student.Status                 : chr  \"Graduate\" \"Undergraduate\" \"Graduate\" \"Graduate\" ...\n",
      " $ Major                          : chr  \"Politics\" \"Math\" \"Math\" \"Econ\" ...\n",
      " $ Country                        : chr  \"US\" \"US\" \"US\" \"US\" ...\n",
      " $ Age                            : num  30 19 26 33 37 25 39 21 18 33 ...\n",
      " $ SAT                            : num  2263 2006 2221 1716 1701 ...\n",
      " $ Average.score..grade.          : num  67 63 78.1 77.8 65 ...\n",
      " $ Height..in.                    : num  61 64 73 68 71 67 70 62 62 66 ...\n",
      " $ Newspaper.readership..times.wk.: num  5 7 6 3 6 5 5 5 6 5 ...\n"
     ]
    }
   ],
   "source": [
    "str(df)"
   ]
  },
  {
   "cell_type": "code",
   "execution_count": 7,
   "metadata": {},
   "outputs": [
    {
     "data": {
      "text/plain": [
       "     City              State              Gender          Student.Status    \n",
       " Length:30          Length:30          Length:30          Length:30         \n",
       " Class :character   Class :character   Class :character   Class :character  \n",
       " Mode  :character   Mode  :character   Mode  :character   Mode  :character  \n",
       "                                                                            \n",
       "                                                                            \n",
       "                                                                            \n",
       "    Major             Country               Age            SAT      \n",
       " Length:30          Length:30          Min.   :18.0   Min.   :1338  \n",
       " Class :character   Class :character   1st Qu.:19.0   1st Qu.:1658  \n",
       " Mode  :character   Mode  :character   Median :23.0   Median :1817  \n",
       "                                       Mean   :25.2   Mean   :1849  \n",
       "                                       3rd Qu.:30.0   3rd Qu.:2032  \n",
       "                                       Max.   :39.0   Max.   :2309  \n",
       " Average.score..grade.  Height..in.    Newspaper.readership..times.wk.\n",
       " Min.   :63.00         Min.   :59.00   Min.   :3.000                  \n",
       " 1st Qu.:72.00         1st Qu.:63.00   1st Qu.:4.000                  \n",
       " Median :79.75         Median :66.50   Median :5.000                  \n",
       " Mean   :80.40         Mean   :66.43   Mean   :4.867                  \n",
       " 3rd Qu.:88.00         3rd Qu.:70.75   3rd Qu.:6.000                  \n",
       " Max.   :95.88         Max.   :75.00   Max.   :7.000                  "
      ]
     },
     "metadata": {},
     "output_type": "display_data"
    }
   ],
   "source": [
    "summary(df)"
   ]
  },
  {
   "cell_type": "code",
   "execution_count": 8,
   "metadata": {},
   "outputs": [],
   "source": [
    "major = table(df$Major)\n",
    "colors1 = c(\"red\", \"yellow\", \"green\")\n",
    "\n",
    "gender = table(df$Gender)\n",
    "colors2 = c(\"blue\", \"pink\")\n",
    "\n",
    "status = table(df$Student.Status)\n",
    "colors3 = c(\"violet\", \"cyan\")"
   ]
  },
  {
   "cell_type": "code",
   "execution_count": 9,
   "metadata": {},
   "outputs": [
    {
     "data": {
      "image/png": "[encoded data removed]",
      "text/plain": [
       "Plot with title \"Number of Students per Major\""
      ]
     },
     "metadata": {
      "image/png": {
       "height": 420,
       "width": 420
      }
     },
     "output_type": "display_data"
    }
   ],
   "source": [
    "pie(major, col = colors1, main = \"Number of Students per Major\")"
   ]
  },
  {
   "cell_type": "code",
   "execution_count": 10,
   "metadata": {},
   "outputs": [
    {
     "data": {
      "image/png": "[encoded data removed]",
      "text/plain": [
       "Plot with title \"Male vs Female\""
      ]
     },
     "metadata": {
      "image/png": {
       "height": 420,
       "width": 420
      }
     },
     "output_type": "display_data"
    }
   ],
   "source": [
    "pie(gender, col = colors2, main = \"Male vs Female\")"
   ]
  },
  {
   "cell_type": "code",
   "execution_count": 11,
   "metadata": {},
   "outputs": [
    {
     "data": {
      "image/png": "[encoded data removed]",
      "text/plain": [
       "Plot with title \"Graduated vs Undergraduated\""
      ]
     },
     "metadata": {
      "image/png": {
       "height": 420,
       "width": 420
      }
     },
     "output_type": "display_data"
    }
   ],
   "source": [
    "pie(status, col = colors3, main = \"Graduated vs Undergraduated\")"
   ]
  },
  {
   "cell_type": "code",
   "execution_count": 13,
   "metadata": {},
   "outputs": [
    {
     "data": {
      "text/html": [
       "<style>\n",
       ".dl-inline {width: auto; margin:0; padding: 0}\n",
       ".dl-inline>dt, .dl-inline>dd {float: none; width: auto; display: inline-block}\n",
       ".dl-inline>dt::after {content: \":\\0020\"; padding-right: .5ex}\n",
       ".dl-inline>dt:not(:first-of-type) {padding-left: .5ex}\n",
       "</style><dl class=dl-inline><dt>Age</dt><dd>47.2</dd><dt>SAT</dt><dd>75686.7137931035</dd><dt>Average.score..grade.</dt><dd>102.130104261266</dd><dt>Height..in.</dt><dd>21.7022988505747</dd><dt>Newspaper.readership..times.wk.</dt><dd>1.6367816091954</dd></dl>\n"
      ],
      "text/latex": [
       "\\begin{description*}\n",
       "\\item[Age] 47.2\n",
       "\\item[SAT] 75686.7137931035\n",
       "\\item[Average.score..grade.] 102.130104261266\n",
       "\\item[Height..in.] 21.7022988505747\n",
       "\\item[Newspaper.readership..times.wk.] 1.6367816091954\n",
       "\\end{description*}\n"
      ],
      "text/markdown": [
       "Age\n",
       ":   47.2SAT\n",
       ":   75686.7137931035Average.score..grade.\n",
       ":   102.130104261266Height..in.\n",
       ":   21.7022988505747Newspaper.readership..times.wk.\n",
       ":   1.6367816091954\n",
       "\n"
      ],
      "text/plain": [
       "                            Age                             SAT \n",
       "                      47.200000                    75686.713793 \n",
       "          Average.score..grade.                     Height..in. \n",
       "                     102.130104                       21.702299 \n",
       "Newspaper.readership..times.wk. \n",
       "                       1.636782 "
      ]
     },
     "metadata": {},
     "output_type": "display_data"
    }
   ],
   "source": [
    "# Calculate variance for all attributes\n",
    "sapply(df[, 7:11], var)"
   ]
  },
  {
   "cell_type": "code",
   "execution_count": 14,
   "metadata": {},
   "outputs": [
    {
     "data": {
      "text/html": [
       "<style>\n",
       ".dl-inline {width: auto; margin:0; padding: 0}\n",
       ".dl-inline>dt, .dl-inline>dd {float: none; width: auto; display: inline-block}\n",
       ".dl-inline>dt::after {content: \":\\0020\"; padding-right: .5ex}\n",
       ".dl-inline>dt:not(:first-of-type) {padding-left: .5ex}\n",
       "</style><dl class=dl-inline><dt>Age</dt><dd>6.87022561492707</dd><dt>SAT</dt><dd>275.112184014273</dd><dt>Average.score..grade.</dt><dd>10.1059440064383</dd><dt>Height..in.</dt><dd>4.65857261943771</dd><dt>Newspaper.readership..times.wk.</dt><dd>1.27936765989898</dd></dl>\n"
      ],
      "text/latex": [
       "\\begin{description*}\n",
       "\\item[Age] 6.87022561492707\n",
       "\\item[SAT] 275.112184014273\n",
       "\\item[Average.score..grade.] 10.1059440064383\n",
       "\\item[Height..in.] 4.65857261943771\n",
       "\\item[Newspaper.readership..times.wk.] 1.27936765989898\n",
       "\\end{description*}\n"
      ],
      "text/markdown": [
       "Age\n",
       ":   6.87022561492707SAT\n",
       ":   275.112184014273Average.score..grade.\n",
       ":   10.1059440064383Height..in.\n",
       ":   4.65857261943771Newspaper.readership..times.wk.\n",
       ":   1.27936765989898\n",
       "\n"
      ],
      "text/plain": [
       "                            Age                             SAT \n",
       "                       6.870226                      275.112184 \n",
       "          Average.score..grade.                     Height..in. \n",
       "                      10.105944                        4.658573 \n",
       "Newspaper.readership..times.wk. \n",
       "                       1.279368 "
      ]
     },
     "metadata": {},
     "output_type": "display_data"
    }
   ],
   "source": [
    "# Calculate standard deviation for all attributes\n",
    "sapply(df[, 7:11], sd)"
   ]
  },
  {
   "cell_type": "code",
   "execution_count": 15,
   "metadata": {},
   "outputs": [
    {
     "data": {
      "text/html": [
       "<style>\n",
       ".dl-inline {width: auto; margin:0; padding: 0}\n",
       ".dl-inline>dt, .dl-inline>dd {float: none; width: auto; display: inline-block}\n",
       ".dl-inline>dt::after {content: \":\\0020\"; padding-right: .5ex}\n",
       ".dl-inline>dt:not(:first-of-type) {padding-left: .5ex}\n",
       "</style><dl class=dl-inline><dt>Age</dt><dd>0.502709664447605</dd><dt>SAT</dt><dd>0.14044712797574</dd><dt>Average.score..grade.</dt><dd>-0.101374236291567</dd><dt>Height..in.</dt><dd>0.155085443150385</dd><dt>Newspaper.readership..times.wk.</dt><dd>-0.0468347397810847</dd></dl>\n"
      ],
      "text/latex": [
       "\\begin{description*}\n",
       "\\item[Age] 0.502709664447605\n",
       "\\item[SAT] 0.14044712797574\n",
       "\\item[Average.score..grade.] -0.101374236291567\n",
       "\\item[Height..in.] 0.155085443150385\n",
       "\\item[Newspaper.readership..times.wk.] -0.0468347397810847\n",
       "\\end{description*}\n"
      ],
      "text/markdown": [
       "Age\n",
       ":   0.502709664447605SAT\n",
       ":   0.14044712797574Average.score..grade.\n",
       ":   -0.101374236291567Height..in.\n",
       ":   0.155085443150385Newspaper.readership..times.wk.\n",
       ":   -0.0468347397810847\n",
       "\n"
      ],
      "text/plain": [
       "                            Age                             SAT \n",
       "                     0.50270966                      0.14044713 \n",
       "          Average.score..grade.                     Height..in. \n",
       "                    -0.10137424                      0.15508544 \n",
       "Newspaper.readership..times.wk. \n",
       "                    -0.04683474 "
      ]
     },
     "metadata": {},
     "output_type": "display_data"
    }
   ],
   "source": [
    "# Calculate skewness for all attributes\n",
    "sapply(df[, 7:11], skewness)"
   ]
  },
  {
   "cell_type": "code",
   "execution_count": 16,
   "metadata": {},
   "outputs": [
    {
     "data": {
      "text/html": [
       "<style>\n",
       ".dl-inline {width: auto; margin:0; padding: 0}\n",
       ".dl-inline>dt, .dl-inline>dd {float: none; width: auto; display: inline-block}\n",
       ".dl-inline>dt::after {content: \":\\0020\"; padding-right: .5ex}\n",
       ".dl-inline>dt:not(:first-of-type) {padding-left: .5ex}\n",
       "</style><dl class=dl-inline><dt>Age</dt><dd>-1.20242842095183</dd><dt>SAT</dt><dd>-1.04281692418247</dd><dt>Average.score..grade.</dt><dd>-1.15697430829857</dd><dt>Height..in.</dt><dd>-1.21584757091849</dd><dt>Newspaper.readership..times.wk.</dt><dd>-1.14165472583428</dd></dl>\n"
      ],
      "text/latex": [
       "\\begin{description*}\n",
       "\\item[Age] -1.20242842095183\n",
       "\\item[SAT] -1.04281692418247\n",
       "\\item[Average.score..grade.] -1.15697430829857\n",
       "\\item[Height..in.] -1.21584757091849\n",
       "\\item[Newspaper.readership..times.wk.] -1.14165472583428\n",
       "\\end{description*}\n"
      ],
      "text/markdown": [
       "Age\n",
       ":   -1.20242842095183SAT\n",
       ":   -1.04281692418247Average.score..grade.\n",
       ":   -1.15697430829857Height..in.\n",
       ":   -1.21584757091849Newspaper.readership..times.wk.\n",
       ":   -1.14165472583428\n",
       "\n"
      ],
      "text/plain": [
       "                            Age                             SAT \n",
       "                      -1.202428                       -1.042817 \n",
       "          Average.score..grade.                     Height..in. \n",
       "                      -1.156974                       -1.215848 \n",
       "Newspaper.readership..times.wk. \n",
       "                      -1.141655 "
      ]
     },
     "metadata": {},
     "output_type": "display_data"
    }
   ],
   "source": [
    "# Calculate Kurtosis for all attributes\n",
    "sapply(df[, 7:11], kurtosis)"
   ]
  },
  {
   "cell_type": "code",
   "execution_count": 17,
   "metadata": {},
   "outputs": [
    {
     "data": {
      "image/png": "[encoded data removed]",
      "text/plain": [
       "Plot with title \"Height in\""
      ]
     },
     "metadata": {
      "image/png": {
       "height": 420,
       "width": 420
      }
     },
     "output_type": "display_data"
    }
   ],
   "source": [
    "par(mfrow = c(2, 2))\n",
    "\n",
    "hist(df$Age, main = \"Ages\", xlab = \"Ages\",\n",
    "     xlim = c(min(df$Age) - 5, max(df$Age) + 5), col = \"orange\",\n",
    "     border = \"blue\", breaks = 10, las = 1, freq = FALSE)\n",
    "lines(density(df$Age))\n",
    "\n",
    "hist(df$SAT, main = \"SAT\", xlab = \"SAT\",\n",
    "     xlim = c(min(df$SAT) - 10, max(df$SAT) + 10), col = \"orange\",\n",
    "     border = \"blue\", breaks = 10, las = 1, freq = FALSE)\n",
    "lines(density(df$SAT))\n",
    "\n",
    "hist(df$Average.score..grade, main = \"Avg Score Grade\", xlab = \"Average.score..grade\",\n",
    "     xlim = c(min(df$Average.score..grade) - 10, max(df$Average.score..grade) + 10), col = \"orange\",\n",
    "     border = \"blue\", breaks = 10, las = 1, freq = FALSE)\n",
    "lines(density(df$Average.score..grade))\n",
    "\n",
    "hist(df$Height..in., main = \"Height in\", xlab = \"Height..in.\",\n",
    "     xlim = c(min(df$Height..in.) - 10, max(df$Height..in.) + 10), col = \"orange\",\n",
    "     border = \"blue\", breaks = 10, las = 1, freq = FALSE)\n",
    "lines(density(df$Height..in.))"
   ]
  },
  {
   "cell_type": "code",
   "execution_count": null,
   "metadata": {},
   "outputs": [],
   "source": []
  }
 ],
 "metadata": {
  "kernelspec": {
   "display_name": "R",
   "language": "R",
   "name": "ir"
  },
  "language_info": {
   "codemirror_mode": "r",
   "file_extension": ".r",
   "mimetype": "text/x-r-source",
   "name": "R",
   "pygments_lexer": "r",
   "version": "4.0.3"
  }
 },
 "nbformat": 4,
 "nbformat_minor": 4
}
