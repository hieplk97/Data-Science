{
 "cells": [
  {
   "cell_type": "code",
   "execution_count": 1,
   "metadata": {},
   "outputs": [],
   "source": [
    "rainfall = scan(\"../../Data/rain_fall.txt\")"
   ]
  },
  {
   "cell_type": "code",
   "execution_count": 2,
   "metadata": {},
   "outputs": [
    {
     "data": {
      "text/html": [
       "<style>\n",
       ".list-inline {list-style: none; margin:0; padding: 0}\n",
       ".list-inline>li {display: inline-block}\n",
       ".list-inline>li:not(:last-child)::after {content: \"\\00b7\"; padding: 0 .5ex}\n",
       "</style>\n",
       "<ol class=list-inline><li>0.7</li><li>16.1</li><li>68.6</li><li>170.4</li><li>106.1</li><li>221.7</li><li>357.3</li><li>314.7</li><li>237.3</li><li>119.4</li><li>36.5</li><li>11.8</li><li>25.6</li><li>12.5</li><li>59.4</li><li>21.6</li><li>74.2</li><li>241.1</li><li>96.8</li><li>354.2</li><li>345.4</li><li>99.7</li><li>158</li><li>31.5</li><li>96.9</li><li>4.2</li><li>24.7</li><li>104.5</li><li>249</li><li>95.1</li><li>280.4</li><li>534.5</li><li>178.5</li><li>45</li><li>9.3</li><li>9</li><li>70.9</li><li>12.3</li><li>112.4</li><li>19.1</li><li>105.4</li><li>212.9</li><li>449.1</li><li>283.2</li><li>266.9</li><li>259.7</li><li>19.4</li><li>47.5</li><li>16.6</li><li>10</li><li>34</li><li>58.8</li><li>209</li><li>188.5</li><li>428.1</li><li>313.4</li><li>229.7</li><li>94.4</li><li>28.2</li><li>84.2</li></ol>\n"
      ],
      "text/latex": [
       "\\begin{enumerate*}\n",
       "\\item 0.7\n",
       "\\item 16.1\n",
       "\\item 68.6\n",
       "\\item 170.4\n",
       "\\item 106.1\n",
       "\\item 221.7\n",
       "\\item 357.3\n",
       "\\item 314.7\n",
       "\\item 237.3\n",
       "\\item 119.4\n",
       "\\item 36.5\n",
       "\\item 11.8\n",
       "\\item 25.6\n",
       "\\item 12.5\n",
       "\\item 59.4\n",
       "\\item 21.6\n",
       "\\item 74.2\n",
       "\\item 241.1\n",
       "\\item 96.8\n",
       "\\item 354.2\n",
       "\\item 345.4\n",
       "\\item 99.7\n",
       "\\item 158\n",
       "\\item 31.5\n",
       "\\item 96.9\n",
       "\\item 4.2\n",
       "\\item 24.7\n",
       "\\item 104.5\n",
       "\\item 249\n",
       "\\item 95.1\n",
       "\\item 280.4\n",
       "\\item 534.5\n",
       "\\item 178.5\n",
       "\\item 45\n",
       "\\item 9.3\n",
       "\\item 9\n",
       "\\item 70.9\n",
       "\\item 12.3\n",
       "\\item 112.4\n",
       "\\item 19.1\n",
       "\\item 105.4\n",
       "\\item 212.9\n",
       "\\item 449.1\n",
       "\\item 283.2\n",
       "\\item 266.9\n",
       "\\item 259.7\n",
       "\\item 19.4\n",
       "\\item 47.5\n",
       "\\item 16.6\n",
       "\\item 10\n",
       "\\item 34\n",
       "\\item 58.8\n",
       "\\item 209\n",
       "\\item 188.5\n",
       "\\item 428.1\n",
       "\\item 313.4\n",
       "\\item 229.7\n",
       "\\item 94.4\n",
       "\\item 28.2\n",
       "\\item 84.2\n",
       "\\end{enumerate*}\n"
      ],
      "text/markdown": [
       "1. 0.7\n",
       "2. 16.1\n",
       "3. 68.6\n",
       "4. 170.4\n",
       "5. 106.1\n",
       "6. 221.7\n",
       "7. 357.3\n",
       "8. 314.7\n",
       "9. 237.3\n",
       "10. 119.4\n",
       "11. 36.5\n",
       "12. 11.8\n",
       "13. 25.6\n",
       "14. 12.5\n",
       "15. 59.4\n",
       "16. 21.6\n",
       "17. 74.2\n",
       "18. 241.1\n",
       "19. 96.8\n",
       "20. 354.2\n",
       "21. 345.4\n",
       "22. 99.7\n",
       "23. 158\n",
       "24. 31.5\n",
       "25. 96.9\n",
       "26. 4.2\n",
       "27. 24.7\n",
       "28. 104.5\n",
       "29. 249\n",
       "30. 95.1\n",
       "31. 280.4\n",
       "32. 534.5\n",
       "33. 178.5\n",
       "34. 45\n",
       "35. 9.3\n",
       "36. 9\n",
       "37. 70.9\n",
       "38. 12.3\n",
       "39. 112.4\n",
       "40. 19.1\n",
       "41. 105.4\n",
       "42. 212.9\n",
       "43. 449.1\n",
       "44. 283.2\n",
       "45. 266.9\n",
       "46. 259.7\n",
       "47. 19.4\n",
       "48. 47.5\n",
       "49. 16.6\n",
       "50. 10\n",
       "51. 34\n",
       "52. 58.8\n",
       "53. 209\n",
       "54. 188.5\n",
       "55. 428.1\n",
       "56. 313.4\n",
       "57. 229.7\n",
       "58. 94.4\n",
       "59. 28.2\n",
       "60. 84.2\n",
       "\n",
       "\n"
      ],
      "text/plain": [
       " [1]   0.7  16.1  68.6 170.4 106.1 221.7 357.3 314.7 237.3 119.4  36.5  11.8\n",
       "[13]  25.6  12.5  59.4  21.6  74.2 241.1  96.8 354.2 345.4  99.7 158.0  31.5\n",
       "[25]  96.9   4.2  24.7 104.5 249.0  95.1 280.4 534.5 178.5  45.0   9.3   9.0\n",
       "[37]  70.9  12.3 112.4  19.1 105.4 212.9 449.1 283.2 266.9 259.7  19.4  47.5\n",
       "[49]  16.6  10.0  34.0  58.8 209.0 188.5 428.1 313.4 229.7  94.4  28.2  84.2"
      ]
     },
     "metadata": {},
     "output_type": "display_data"
    }
   ],
   "source": [
    "rainfall"
   ]
  },
  {
   "cell_type": "code",
   "execution_count": 3,
   "metadata": {},
   "outputs": [],
   "source": [
    "ts.rainfall = ts(rainfall, frequency = 12, start = c(2014, 1))"
   ]
  },
  {
   "cell_type": "code",
   "execution_count": 4,
   "metadata": {},
   "outputs": [
    {
     "data": {
      "text/html": [
       "<table>\n",
       "<caption>A Time Series: 5 × 12</caption>\n",
       "<thead>\n",
       "\t<tr><th></th><th scope=col>Jan</th><th scope=col>Feb</th><th scope=col>Mar</th><th scope=col>Apr</th><th scope=col>May</th><th scope=col>Jun</th><th scope=col>Jul</th><th scope=col>Aug</th><th scope=col>Sep</th><th scope=col>Oct</th><th scope=col>Nov</th><th scope=col>Dec</th></tr>\n",
       "</thead>\n",
       "<tbody>\n",
       "\t<tr><th scope=row>2014</th><td>  0.7</td><td> 16.1</td><td> 68.6</td><td>170.4</td><td>106.1</td><td>221.7</td><td>357.3</td><td>314.7</td><td>237.3</td><td>119.4</td><td> 36.5</td><td> 11.8</td></tr>\n",
       "\t<tr><th scope=row>2015</th><td> 25.6</td><td> 12.5</td><td> 59.4</td><td> 21.6</td><td> 74.2</td><td>241.1</td><td> 96.8</td><td>354.2</td><td>345.4</td><td> 99.7</td><td>158.0</td><td> 31.5</td></tr>\n",
       "\t<tr><th scope=row>2016</th><td> 96.9</td><td>  4.2</td><td> 24.7</td><td>104.5</td><td>249.0</td><td> 95.1</td><td>280.4</td><td>534.5</td><td>178.5</td><td> 45.0</td><td>  9.3</td><td>  9.0</td></tr>\n",
       "\t<tr><th scope=row>2017</th><td> 70.9</td><td> 12.3</td><td>112.4</td><td> 19.1</td><td>105.4</td><td>212.9</td><td>449.1</td><td>283.2</td><td>266.9</td><td>259.7</td><td> 19.4</td><td> 47.5</td></tr>\n",
       "\t<tr><th scope=row>2018</th><td> 16.6</td><td> 10.0</td><td> 34.0</td><td> 58.8</td><td>209.0</td><td>188.5</td><td>428.1</td><td>313.4</td><td>229.7</td><td> 94.4</td><td> 28.2</td><td> 84.2</td></tr>\n",
       "</tbody>\n",
       "</table>\n"
      ],
      "text/latex": [
       "A Time Series: 5 × 12\n",
       "\\begin{tabular}{r|llllllllllll}\n",
       "  & Jan & Feb & Mar & Apr & May & Jun & Jul & Aug & Sep & Oct & Nov & Dec\\\\\n",
       "\\hline\n",
       "\t2014 &   0.7 &  16.1 &  68.6 & 170.4 & 106.1 & 221.7 & 357.3 & 314.7 & 237.3 & 119.4 &  36.5 &  11.8\\\\\n",
       "\t2015 &  25.6 &  12.5 &  59.4 &  21.6 &  74.2 & 241.1 &  96.8 & 354.2 & 345.4 &  99.7 & 158.0 &  31.5\\\\\n",
       "\t2016 &  96.9 &   4.2 &  24.7 & 104.5 & 249.0 &  95.1 & 280.4 & 534.5 & 178.5 &  45.0 &   9.3 &   9.0\\\\\n",
       "\t2017 &  70.9 &  12.3 & 112.4 &  19.1 & 105.4 & 212.9 & 449.1 & 283.2 & 266.9 & 259.7 &  19.4 &  47.5\\\\\n",
       "\t2018 &  16.6 &  10.0 &  34.0 &  58.8 & 209.0 & 188.5 & 428.1 & 313.4 & 229.7 &  94.4 &  28.2 &  84.2\\\\\n",
       "\\end{tabular}\n"
      ],
      "text/markdown": [
       "\n",
       "A Time Series: 5 × 12\n",
       "\n",
       "| <!--/--> | Jan | Feb | Mar | Apr | May | Jun | Jul | Aug | Sep | Oct | Nov | Dec |\n",
       "|---|---|---|---|---|---|---|---|---|---|---|---|---|\n",
       "| 2014 |   0.7 |  16.1 |  68.6 | 170.4 | 106.1 | 221.7 | 357.3 | 314.7 | 237.3 | 119.4 |  36.5 |  11.8 |\n",
       "| 2015 |  25.6 |  12.5 |  59.4 |  21.6 |  74.2 | 241.1 |  96.8 | 354.2 | 345.4 |  99.7 | 158.0 |  31.5 |\n",
       "| 2016 |  96.9 |   4.2 |  24.7 | 104.5 | 249.0 |  95.1 | 280.4 | 534.5 | 178.5 |  45.0 |   9.3 |   9.0 |\n",
       "| 2017 |  70.9 |  12.3 | 112.4 |  19.1 | 105.4 | 212.9 | 449.1 | 283.2 | 266.9 | 259.7 |  19.4 |  47.5 |\n",
       "| 2018 |  16.6 |  10.0 |  34.0 |  58.8 | 209.0 | 188.5 | 428.1 | 313.4 | 229.7 |  94.4 |  28.2 |  84.2 |\n",
       "\n"
      ],
      "text/plain": [
       "     Jan   Feb   Mar   Apr   May   Jun   Jul   Aug   Sep   Oct   Nov   Dec  \n",
       "2014   0.7  16.1  68.6 170.4 106.1 221.7 357.3 314.7 237.3 119.4  36.5  11.8\n",
       "2015  25.6  12.5  59.4  21.6  74.2 241.1  96.8 354.2 345.4  99.7 158.0  31.5\n",
       "2016  96.9   4.2  24.7 104.5 249.0  95.1 280.4 534.5 178.5  45.0   9.3   9.0\n",
       "2017  70.9  12.3 112.4  19.1 105.4 212.9 449.1 283.2 266.9 259.7  19.4  47.5\n",
       "2018  16.6  10.0  34.0  58.8 209.0 188.5 428.1 313.4 229.7  94.4  28.2  84.2"
      ]
     },
     "metadata": {},
     "output_type": "display_data"
    }
   ],
   "source": [
    "ts.rainfall"
   ]
  },
  {
   "cell_type": "code",
   "execution_count": 5,
   "metadata": {},
   "outputs": [
    {
     "data": {
      "image/png": "[encoded data removed]",
      "text/plain": [
       "Plot with title \"Ha Noi rainfall, from 01/2014 to 12/2018\""
      ]
     },
     "metadata": {
      "image/png": {
       "height": 420,
       "width": 420
      }
     },
     "output_type": "display_data"
    }
   ],
   "source": [
    "plot.ts(ts.rainfall, main = \"Ha Noi rainfall, from 01/2014 to 12/2018\", ylab = \"mm\", xlab = \"Month\", col = \"Blue\")"
   ]
  },
  {
   "cell_type": "code",
   "execution_count": null,
   "metadata": {},
   "outputs": [],
   "source": []
  }
 ],
 "metadata": {
  "kernelspec": {
   "display_name": "R",
   "language": "R",
   "name": "ir"
  },
  "language_info": {
   "codemirror_mode": "r",
   "file_extension": ".r",
   "mimetype": "text/x-r-source",
   "name": "R",
   "pygments_lexer": "r",
   "version": "4.0.3"
  }
 },
 "nbformat": 4,
 "nbformat_minor": 4
}
