{
 "cells": [
  {
   "cell_type": "code",
   "execution_count": 1,
   "id": "stuffed-tactics",
   "metadata": {},
   "outputs": [],
   "source": [
    "import findspark\n",
    "findspark.init()"
   ]
  },
  {
   "cell_type": "code",
   "execution_count": 2,
   "id": "twelve-modification",
   "metadata": {},
   "outputs": [],
   "source": [
    "from pyspark import SparkContext\n",
    "from pyspark.sql import Row, SQLContext, SparkSession"
   ]
  },
  {
   "cell_type": "code",
   "execution_count": 3,
   "id": "following-english",
   "metadata": {},
   "outputs": [],
   "source": [
    "sc = SparkContext()\n",
    "spark = SparkSession(sc)"
   ]
  },
  {
   "cell_type": "code",
   "execution_count": 4,
   "id": "approved-graphic",
   "metadata": {},
   "outputs": [
    {
     "name": "stdout",
     "output_type": "stream",
     "text": [
      "+---+---------+--------------+------+-------------+\n",
      "|_c0|person_id|          name|   sex|date of birth|\n",
      "+---+---------+--------------+------+-------------+\n",
      "|  0|      100|Penelope Lewis|female|   1990-08-31|\n",
      "|  1|      101| David Anthony|  male|   1971-10-14|\n",
      "|  2|      102|     Ida Shipp|female|   1962-05-24|\n",
      "|  3|      103|  Joanna Moore|female|   2017-03-10|\n",
      "|  4|      104|Lisandra Ortiz|female|   2020-08-05|\n",
      "+---+---------+--------------+------+-------------+\n",
      "only showing top 5 rows\n",
      "\n"
     ]
    }
   ],
   "source": [
    "file_name = 'hdfs://bigdata.laptrinhpython.net:19000/people.csv'\n",
    "people = spark.read.csv(file_name, inferSchema=True, header=True)\n",
    "people.show(5)"
   ]
  },
  {
   "cell_type": "code",
   "execution_count": 5,
   "id": "static-anderson",
   "metadata": {},
   "outputs": [],
   "source": [
    "people_view = people.createOrReplaceTempView(\"people\")"
   ]
  },
  {
   "cell_type": "code",
   "execution_count": 6,
   "id": "collectible-acting",
   "metadata": {},
   "outputs": [
    {
     "name": "stdout",
     "output_type": "stream",
     "text": [
      "None\n"
     ]
    }
   ],
   "source": [
    "print(people_view)"
   ]
  },
  {
   "cell_type": "markdown",
   "id": "north-sydney",
   "metadata": {},
   "source": [
    "### Truy vấn có điều kiện với where: dùng spark.sql(query)"
   ]
  },
  {
   "cell_type": "code",
   "execution_count": 7,
   "id": "verified-sample",
   "metadata": {},
   "outputs": [
    {
     "name": "stdout",
     "output_type": "stream",
     "text": [
      "+----------------+\n",
      "|            name|\n",
      "+----------------+\n",
      "|  Penelope Lewis|\n",
      "|   David Anthony|\n",
      "|       Ida Shipp|\n",
      "|    Joanna Moore|\n",
      "|  Lisandra Ortiz|\n",
      "|   David Simmons|\n",
      "|   Edward Hudson|\n",
      "|    Albert Jones|\n",
      "|Leonard Cavender|\n",
      "|  Everett Vadala|\n",
      "+----------------+\n",
      "only showing top 10 rows\n",
      "\n"
     ]
    }
   ],
   "source": [
    "# Construct a query to select names of the people fron the temporary table \"people\"\n",
    "query = 'SELECT name FROM people'\n",
    "# Assigin the result of Spark's query to people_df_names\n",
    "people_df_names = spark.sql(query)\n",
    "# Print the top 10 names of the people\n",
    "people_df_names.show(10)"
   ]
  },
  {
   "cell_type": "code",
   "execution_count": 8,
   "id": "apart-separation",
   "metadata": {},
   "outputs": [
    {
     "name": "stdout",
     "output_type": "stream",
     "text": [
      "There are 49014 rows in the people_female_df and 49066 rows in the people_male_df\n"
     ]
    }
   ],
   "source": [
    "# Filter the people table to select female sex\n",
    "people_female_df = spark.sql('SELECT * FROM people WHERE sex==\"female\"')\n",
    "# Filter the people table DataFrame to select male sex\n",
    "people_male_df = spark.sql('SELECT * FROM people WHERE sex==\"male\"')\n",
    "# Count the number of the rows in both DataFrames\n",
    "print(\"There are\", people_female_df.count(), \"rows in the people_female_df and\", people_male_df.count(), \"rows in the people_male_df\")"
   ]
  },
  {
   "cell_type": "markdown",
   "id": "smoking-burton",
   "metadata": {},
   "source": [
    "### Truy vấn vói LIKE"
   ]
  },
  {
   "cell_type": "code",
   "execution_count": 9,
   "id": "medical-pattern",
   "metadata": {},
   "outputs": [
    {
     "name": "stdout",
     "output_type": "stream",
     "text": [
      "+-----+---------+--------------+------+-------------+\n",
      "|  _c0|person_id|          name|   sex|date of birth|\n",
      "+-----+---------+--------------+------+-------------+\n",
      "|    9|      109|Everett Vadala|  male|   2005-05-24|\n",
      "|77207|    77307| Marlyn Vadala|female|   1992-07-02|\n",
      "+-----+---------+--------------+------+-------------+\n",
      "\n"
     ]
    }
   ],
   "source": [
    "people_Vadala = spark.sql('SELECT * FROM people WHERE name LIKE \"%Vadala\"')\n",
    "people_Vadala.show()"
   ]
  },
  {
   "cell_type": "code",
   "execution_count": 10,
   "id": "center-reset",
   "metadata": {},
   "outputs": [
    {
     "name": "stdout",
     "output_type": "stream",
     "text": [
      "+-----+---------+------------------+------+-------------+\n",
      "|  _c0|person_id|              name|   sex|date of birth|\n",
      "+-----+---------+------------------+------+-------------+\n",
      "|    7|      107|      Albert Jones|  male|   1990-09-13|\n",
      "|  380|      480|   Albert Guillory|  male|   2001-02-10|\n",
      "| 1577|     1677|     Albert Miller|  male|   1976-09-16|\n",
      "| 1914|     2014|      Albert Goetz|  male|   1978-03-06|\n",
      "| 2011|     2111|     Albert Clever|  male|   1985-12-22|\n",
      "| 3193|     3293|    Albert Griffin|  male|   1988-11-03|\n",
      "| 3419|     3519|   Albert Amundsen|  male|   2031-09-20|\n",
      "| 3760|     3860|  Albert Pritchard|  male|   1973-01-02|\n",
      "| 4714|     4814|     Albert Omeara|  male|   1989-06-07|\n",
      "| 5777|     5877| Albert Villarreal|  male|   1946-04-11|\n",
      "| 7081|     7181|     Albert Tshudy|  male|   1930-08-26|\n",
      "| 7410|     7510|Alberta Abramowski|female|   1989-01-25|\n",
      "| 7705|     7805|    Albert Painter|  male|   1961-12-16|\n",
      "| 8894|     8994|   Alberto Gariepy|  male|   2001-11-03|\n",
      "| 9407|     9507|    Albert Goodwin|  male|   1975-08-29|\n",
      "| 9876|     9976|   Albert Mitchell|  male|   1995-01-30|\n",
      "|10072|    10172| Albert Deoliveira|  male|   2039-06-04|\n",
      "|10948|    11048|       Albert Mena|  male|   1947-05-14|\n",
      "|11455|    11555|      Albert Smith|  male|   1987-02-23|\n",
      "|11572|    11672|       Albert Hill|  male|   1967-02-21|\n",
      "+-----+---------+------------------+------+-------------+\n",
      "only showing top 20 rows\n",
      "\n"
     ]
    }
   ],
   "source": [
    "people_Albert = spark.sql('SELECT * FROM people WHERE name LIKE \"Albert%\"')\n",
    "people_Albert.show()"
   ]
  },
  {
   "cell_type": "markdown",
   "id": "mathematical-antibody",
   "metadata": {},
   "source": [
    "### Truy vấn với SUBSTRING(column_name, from, length)"
   ]
  },
  {
   "cell_type": "code",
   "execution_count": 11,
   "id": "portable-nightmare",
   "metadata": {},
   "outputs": [
    {
     "name": "stdout",
     "output_type": "stream",
     "text": [
      "+----------------------+\n",
      "|substring(name, 8, 10)|\n",
      "+----------------------+\n",
      "|                 Jones|\n",
      "|              Guillory|\n",
      "|                Miller|\n",
      "|                 Goetz|\n",
      "|                Clever|\n",
      "|               Griffin|\n",
      "|              Amundsen|\n",
      "|             Pritchard|\n",
      "|                Omeara|\n",
      "|            Villarreal|\n",
      "+----------------------+\n",
      "only showing top 10 rows\n",
      "\n"
     ]
    }
   ],
   "source": [
    "name_sub = spark.sql('SELECT SUBSTRING(name, 8 , 10) FROM people WHERE name LIKE \"Albert%\"')\n",
    "name_sub.show(10)"
   ]
  },
  {
   "cell_type": "markdown",
   "id": "elect-payday",
   "metadata": {},
   "source": [
    "### Startswith / Endswith"
   ]
  },
  {
   "cell_type": "code",
   "execution_count": 12,
   "id": "uniform-tattoo",
   "metadata": {},
   "outputs": [
    {
     "data": {
      "text/plain": [
       "234"
      ]
     },
     "execution_count": 12,
     "metadata": {},
     "output_type": "execute_result"
    }
   ],
   "source": [
    "people_Albert_1 = people.where(people.name.startswith(\"Albert\"))\n",
    "people_Albert_1.count()"
   ]
  }
 ],
 "metadata": {
  "kernelspec": {
   "display_name": "Python 3",
   "language": "python",
   "name": "python3"
  },
  "language_info": {
   "codemirror_mode": {
    "name": "ipython",
    "version": 3
   },
   "file_extension": ".py",
   "mimetype": "text/x-python",
   "name": "python",
   "nbconvert_exporter": "python",
   "pygments_lexer": "ipython3",
   "version": "3.8.3"
  }
 },
 "nbformat": 4,
 "nbformat_minor": 5
}
