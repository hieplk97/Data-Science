{
 "cells": [
  {
   "cell_type": "code",
   "execution_count": 1,
   "metadata": {},
   "outputs": [],
   "source": [
    "matrix_1 = matrix(c(1:9), nrow=3, byrow=TRUE)\n",
    "matrix_2 = matrix(c(10:18), nrow=3, byrow=TRUE)"
   ]
  },
  {
   "cell_type": "code",
   "execution_count": 2,
   "metadata": {},
   "outputs": [
    {
     "name": "stdout",
     "output_type": "stream",
     "text": [
      "[1] \"Array A3\"\n",
      ", , matrix1\n",
      "\n",
      "   c1 c2 c3\n",
      "r1  1  2  3\n",
      "r2  4  5  6\n",
      "r3  7  8  9\n",
      "\n",
      ", , matrix2\n",
      "\n",
      "   c1 c2 c3\n",
      "r1 10 11 12\n",
      "r2 13 14 15\n",
      "r3 16 17 18\n",
      "\n"
     ]
    }
   ],
   "source": [
    "A3 = array(c(matrix_1, matrix_2), dim = c(3, 3, 2),\n",
    "           dimnames = list(c(\"r1\", \"r2\", \"r3\"),\n",
    "                           c(\"c1\", \"c2\", \"c3\"),\n",
    "                           c(\"matrix1\", \"matrix2\")))\n",
    "print(\"Array A3\")\n",
    "print(A3)"
   ]
  },
  {
   "cell_type": "code",
   "execution_count": 4,
   "metadata": {},
   "outputs": [
    {
     "name": "stdout",
     "output_type": "stream",
     "text": [
      "[1] \"Sum of rows of matrix\"\n",
      "r1 r2 r3 \n",
      "39 57 75 \n"
     ]
    }
   ],
   "source": [
    "print(\"Sum of rows of matrix\")\n",
    "print(apply(A3, c(1), sum))"
   ]
  },
  {
   "cell_type": "code",
   "execution_count": 5,
   "metadata": {},
   "outputs": [
    {
     "name": "stdout",
     "output_type": "stream",
     "text": [
      "[1] \"Sum of columns of matrix\"\n",
      "c1 c2 c3 \n",
      "51 57 63 \n"
     ]
    }
   ],
   "source": [
    "print(\"Sum of columns of matrix\")\n",
    "print(apply(A3, c(2), sum))"
   ]
  },
  {
   "cell_type": "code",
   "execution_count": 6,
   "metadata": {},
   "outputs": [
    {
     "name": "stdout",
     "output_type": "stream",
     "text": [
      "[1] \"Sum of all matrix\"\n",
      "matrix1 matrix2 \n",
      "     45     126 \n"
     ]
    }
   ],
   "source": [
    "print(\"Sum of all matrix\")\n",
    "print(apply(A3, c(3), sum))"
   ]
  },
  {
   "cell_type": "code",
   "execution_count": 9,
   "metadata": {},
   "outputs": [
    {
     "name": "stdout",
     "output_type": "stream",
     "text": [
      "[1] \"Sum of row 1, matrix1\"\n",
      "[1] 6\n"
     ]
    }
   ],
   "source": [
    "print(\"Sum of row 1, matrix1\")\n",
    "print(sum(A3[1, ,1]))"
   ]
  },
  {
   "cell_type": "code",
   "execution_count": 11,
   "metadata": {},
   "outputs": [
    {
     "name": "stdout",
     "output_type": "stream",
     "text": [
      "[1] \"Product of column 2, matrix2\"\n",
      "[1] 2618\n"
     ]
    }
   ],
   "source": [
    "print(\"Product of column 2, matrix2\")\n",
    "print(prod(A3[, 2,2]))"
   ]
  },
  {
   "cell_type": "code",
   "execution_count": null,
   "metadata": {},
   "outputs": [],
   "source": []
  }
 ],
 "metadata": {
  "kernelspec": {
   "display_name": "R",
   "language": "R",
   "name": "ir"
  },
  "language_info": {
   "codemirror_mode": "r",
   "file_extension": ".r",
   "mimetype": "text/x-r-source",
   "name": "R",
   "pygments_lexer": "r",
   "version": "4.0.3"
  }
 },
 "nbformat": 4,
 "nbformat_minor": 4
}
