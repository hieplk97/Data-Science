{
 "cells": [
  {
   "cell_type": "markdown",
   "metadata": {},
   "source": [
    "# Issue 1: Multiple-choice"
   ]
  },
  {
   "cell_type": "code",
   "execution_count": 1,
   "metadata": {},
   "outputs": [
    {
     "name": "stdout",
     "output_type": "stream",
     "text": [
      "[1] \"Probability of having four correct answers:\"\n",
      "[1] 0.1328756\n"
     ]
    }
   ],
   "source": [
    "# English Multiple Choices\n",
    "p1 = dbinom(4, size = 12, prob = 0.2) # Having 5 choices => prob = 1/5 = 0.2\n",
    "print(\"Probability of having four correct answers:\")\n",
    "print(p1)"
   ]
  },
  {
   "cell_type": "code",
   "execution_count": 2,
   "metadata": {},
   "outputs": [
    {
     "name": "stdout",
     "output_type": "stream",
     "text": [
      "[1] \"Probability of having four correct answers:\"\n",
      "[1] 0.9274445\n"
     ]
    }
   ],
   "source": [
    "# Probability of having four or less correct answers\n",
    "p2 = pbinom(4, size = 12, prob = 0.2)\n",
    "print(\"Probability of having four correct answers:\")\n",
    "print(p2)"
   ]
  },
  {
   "cell_type": "markdown",
   "metadata": {},
   "source": [
    "# Issue 2: Using Medicine"
   ]
  },
  {
   "cell_type": "code",
   "execution_count": 3,
   "metadata": {},
   "outputs": [
    {
     "name": "stdout",
     "output_type": "stream",
     "text": [
      "[1] \"Probability that medication is effective:\"\n",
      "[1] 0.2013266\n"
     ]
    }
   ],
   "source": [
    "# symptomatic relief\n",
    "p3 = dbinom(7, size = 10, prob = 0.8) # having 80%\n",
    "print(\"Probability that medication is effective:\")\n",
    "print(p3)"
   ]
  },
  {
   "cell_type": "markdown",
   "metadata": {},
   "source": [
    "# Issue 3: Heart Disease"
   ]
  },
  {
   "cell_type": "code",
   "execution_count": 4,
   "metadata": {},
   "outputs": [
    {
     "name": "stdout",
     "output_type": "stream",
     "text": [
      "[1] \"Probability of all survive:\"\n",
      "[1] 0.8153727\n"
     ]
    }
   ],
   "source": [
    "# Probability that all survive\n",
    "p4 = dbinom(0, size = 5, prob = 0.04)\n",
    "print(\"Probability of all survive:\")\n",
    "print(p4)"
   ]
  }
 ],
 "metadata": {
  "kernelspec": {
   "display_name": "R",
   "language": "R",
   "name": "ir"
  },
  "language_info": {
   "codemirror_mode": "r",
   "file_extension": ".r",
   "mimetype": "text/x-r-source",
   "name": "R",
   "pygments_lexer": "r",
   "version": "4.0.3"
  }
 },
 "nbformat": 4,
 "nbformat_minor": 4
}
