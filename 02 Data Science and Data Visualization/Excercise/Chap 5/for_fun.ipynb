{
 "cells": [
  {
   "cell_type": "code",
   "execution_count": 7,
   "metadata": {},
   "outputs": [
    {
     "name": "stdout",
     "output_type": "stream",
     "text": [
      "['Hom', 'qua', 'qua', 'noi', 'qua', 'ma', 'qua', 'khong', 'qua']\n",
      "[('Hom', 1) ('khong', 1) ('ma', 1) ('noi', 1) ('qua', 5)]\n"
     ]
    }
   ],
   "source": [
    "sentence = 'Hom qua qua noi qua ma qua khong qua'\n",
    "word_list = sentence.split(' ')\n",
    "print(word_list)\n",
    "\n",
    "import numpy as np\n",
    "np_words = np.array(word_list)\n",
    "unique_words, word_count = np.unique(np_words, return_counts=True)\n",
    "\n",
    "dt = np.dtype([('words', 'U5'),('count', 'int')])\n",
    "result = np.empty([len(unique_words)], dtype = dt)\n",
    "result['words'] = unique_words\n",
    "result['count'] = word_count\n",
    "\n",
    "print(result)"
   ]
  },
  {
   "cell_type": "code",
   "execution_count": null,
   "metadata": {},
   "outputs": [],
   "source": []
  }
 ],
 "metadata": {
  "kernelspec": {
   "display_name": "Python 3",
   "language": "python",
   "name": "python3"
  },
  "language_info": {
   "codemirror_mode": {
    "name": "ipython",
    "version": 3
   },
   "file_extension": ".py",
   "mimetype": "text/x-python",
   "name": "python",
   "nbconvert_exporter": "python",
   "pygments_lexer": "ipython3",
   "version": "3.8.3"
  }
 },
 "nbformat": 4,
 "nbformat_minor": 4
}
