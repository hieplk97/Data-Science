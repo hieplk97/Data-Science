{
 "cells": [
  {
   "cell_type": "code",
   "execution_count": 27,
   "metadata": {},
   "outputs": [],
   "source": [
    "# import thu vien\n",
    "from mysql.connector import connect"
   ]
  },
  {
   "cell_type": "code",
   "execution_count": 28,
   "metadata": {},
   "outputs": [],
   "source": [
    "# ket noi den CSDL\n",
    "conn = connect(host='172.24.40.247', database='salesdb', user='hv', password='123456', \n",
    "               port='3306')"
   ]
  },
  {
   "cell_type": "code",
   "execution_count": 29,
   "metadata": {},
   "outputs": [],
   "source": [
    "# xin cap cursor\n",
    "cur = conn.cursor()"
   ]
  },
  {
   "cell_type": "code",
   "execution_count": 30,
   "metadata": {},
   "outputs": [],
   "source": [
    "# chuan bi cau lenh va cho thuc hien\n",
    "stm = '''\n",
    "SELECT Country, COUNT(*) AS dem\n",
    "FROM customers\n",
    "GROUP BY Country\n",
    "ORDER BY dem DESC\n",
    "'''\n",
    "cur.execute(stm)"
   ]
  },
  {
   "cell_type": "code",
   "execution_count": 31,
   "metadata": {},
   "outputs": [
    {
     "name": "stdout",
     "output_type": "stream",
     "text": [
      "('USA', 13)\n",
      "('France', 11)\n",
      "('Germany', 11)\n",
      "('Brazil', 9)\n",
      "('UK', 7)\n",
      "('Mexico', 5)\n",
      "('Spain', 5)\n",
      "('Venezuela', 4)\n",
      "('Canada', 3)\n",
      "('Argentina', 3)\n",
      "('Italy', 3)\n",
      "('Finland', 2)\n",
      "('Switzerland', 2)\n",
      "('Austria', 2)\n",
      "('Portugal', 2)\n",
      "('Belgium', 2)\n",
      "('Denmark', 2)\n",
      "('Sweden', 2)\n",
      "('Norway', 1)\n",
      "('Poland', 1)\n",
      "('Ireland', 1)\n"
     ]
    }
   ],
   "source": [
    "# doc va in ra\n",
    "for row in cur:\n",
    "    print(row)"
   ]
  },
  {
   "cell_type": "code",
   "execution_count": 32,
   "metadata": {},
   "outputs": [
    {
     "data": {
      "text/plain": [
       "True"
      ]
     },
     "execution_count": 32,
     "metadata": {},
     "output_type": "execute_result"
    }
   ],
   "source": [
    "cur.close()"
   ]
  },
  {
   "cell_type": "code",
   "execution_count": 33,
   "metadata": {},
   "outputs": [],
   "source": [
    "conn.close()"
   ]
  },
  {
   "cell_type": "code",
   "execution_count": null,
   "metadata": {},
   "outputs": [],
   "source": []
  }
 ],
 "metadata": {
  "kernelspec": {
   "display_name": "Python 3",
   "language": "python",
   "name": "python3"
  },
  "language_info": {
   "codemirror_mode": {
    "name": "ipython",
    "version": 3
   },
   "file_extension": ".py",
   "mimetype": "text/x-python",
   "name": "python",
   "nbconvert_exporter": "python",
   "pygments_lexer": "ipython3",
   "version": "3.6.8"
  }
 },
 "nbformat": 4,
 "nbformat_minor": 2
}
