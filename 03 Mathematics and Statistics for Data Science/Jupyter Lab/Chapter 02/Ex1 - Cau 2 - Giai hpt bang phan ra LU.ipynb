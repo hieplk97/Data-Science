{
 "cells": [
  {
   "cell_type": "raw",
   "metadata": {},
   "source": [
    "\"\"\"=============================================================================\n",
    "    Ex1: DECOMPOSITION\n",
    "    Câu 2: Giải hệ phương trình bằng LU Decomposition\n",
    "        a) Quy về Ax = B. Sau đó giải tìm x.\n",
    "        b) Phân tích thành các thành phần P, L, U. In kết quả.\n",
    "        c) Tái tạo lại ma trận A từ các thành phần P, L, U.\n",
    "=============================================================================\"\"\""
   ]
  },
  {
   "cell_type": "code",
   "execution_count": 1,
   "metadata": {},
   "outputs": [],
   "source": [
    "import numpy as np\n",
    "import scipy.linalg as linalg\n",
    "\n",
    "from scipy.linalg import lu"
   ]
  },
  {
   "cell_type": "code",
   "execution_count": 3,
   "metadata": {},
   "outputs": [
    {
     "name": "stdout",
     "output_type": "stream",
     "text": [
      "Ma trận A (3, 3) :\n",
      " [[2 1 1]\n",
      " [1 3 2]\n",
      " [1 0 0]]\n"
     ]
    }
   ],
   "source": [
    "## Câu 2\n",
    "A = np.array([[2, 1, 1],\n",
    "              [1, 3, 2],\n",
    "              [1, 0, 0]])\n",
    "B = np.array([4, 5, 6])\n",
    "\n",
    "print('Ma trận A', A.shape, ':\\n', A)"
   ]
  },
  {
   "cell_type": "code",
   "execution_count": 4,
   "metadata": {},
   "outputs": [
    {
     "name": "stdout",
     "output_type": "stream",
     "text": [
      "************************ Hàm scipy.linalg.lu() ***********************\n",
      "\n",
      "Ma trận P_T (3, 3) :\n",
      " [[1. 0. 0.]\n",
      " [0. 1. 0.]\n",
      " [0. 0. 1.]]\n",
      "Ma trận L (3, 3) :\n",
      " [[ 1.   0.   0. ]\n",
      " [ 0.5  1.   0. ]\n",
      " [ 0.5 -0.2  1. ]]\n",
      "Ma trận U (3, 3) :\n",
      " [[ 2.   1.   1. ]\n",
      " [ 0.   2.5  1.5]\n",
      " [ 0.   0.  -0.2]]\n"
     ]
    }
   ],
   "source": [
    "\n",
    "print('************************ Hàm scipy.linalg.lu() ***********************\\n')\n",
    "P_T, L, U = lu(A)\n",
    "\n",
    "print('Ma trận P_T', P_T.shape, ':\\n', P_T)\n",
    "print('Ma trận L', L.shape, ':\\n', L)\n",
    "print('Ma trận U', U.shape, ':\\n', U)"
   ]
  },
  {
   "cell_type": "code",
   "execution_count": 5,
   "metadata": {},
   "outputs": [
    {
     "name": "stdout",
     "output_type": "stream",
     "text": [
      "********************* Hàm scipy.linalg.lu_factor() *******************\n",
      "\n",
      "Ma trận kết hợp U + L - diag(L) (3, 3) :\n",
      " [[ 2.   1.   1. ]\n",
      " [ 0.5  2.5  1.5]\n",
      " [ 0.5 -0.2 -0.2]]\n",
      "Ma trận L (3, 3) :\n",
      " [[ 1.   0.   0. ]\n",
      " [ 0.5  1.   0. ]\n",
      " [ 0.5 -0.2  1. ]]\n",
      "Ma trận U (3, 3) :\n",
      " [[ 2.   1.   1. ]\n",
      " [ 0.   2.5  1.5]\n",
      " [ 0.   0.  -0.2]]\n",
      "Mảng pivot (3,) :\n",
      " [0 1 2]\n",
      "Ma trận hoán vị P (3, 3) :\n",
      " [[1. 0. 0.]\n",
      " [0. 1. 0.]\n",
      " [0. 0. 1.]]\n",
      "Hệ nghiệm [xi] = [  6.  15. -23.]\n"
     ]
    }
   ],
   "source": [
    "print('********************* Hàm scipy.linalg.lu_factor() *******************\\n')\n",
    "\n",
    "\n",
    "## Giải hệ phương trình\n",
    "## //docs.scipy.org/doc/scipy-0.14.0/reference/generated/scipy.linalg.lu_factor.html\n",
    "##    Hàm lu_factor(A) trả về 2 đối tượng:\n",
    "##       - Ma trận nxn: U + (L - diag(L))\n",
    "##       - Mảng [n] chứa các chỉ số dòng của I(n) để tạo nên P\n",
    "##------------------------------------------------------------------------------\n",
    "## Hàm tạo ma trận hoán vị P từ pivot = linalg.lu_factor(A)[1]\n",
    "def permutationMatrix(pivot):\n",
    "    # Khởi tạo P bằng ma trận đơn vị\n",
    "    P = np.identity(len(pivot))\n",
    "\n",
    "    # i: index; r: element\n",
    "    for i, r in enumerate(pivot):\n",
    "        # pivot[i] = r\n",
    "        # Hoán đổi dòng r và dòng pivot[i] của ma trận I\n",
    "\n",
    "        I = np.identity(len(pivot))\n",
    "\n",
    "        temp = I[i, :].copy()\n",
    "        I[i, :] = I[r, :]\n",
    "        I[r, :] = temp\n",
    "\n",
    "        P = P.dot(I)\n",
    "    return P\n",
    "\n",
    "##------------------------------------------------------------------------------\n",
    "LU = linalg.lu_factor(A)\n",
    "\n",
    "print('Ma trận kết hợp U + L - diag(L)', LU[0].shape, ':\\n', LU[0])\n",
    "\n",
    "U = np.triu(LU[0])\n",
    "L = LU[0] - U + np.identity(len(B))\n",
    "\n",
    "print('Ma trận L', L.shape, ':\\n', L)\n",
    "print('Ma trận U', U.shape, ':\\n', U)\n",
    "\n",
    "## Ma trận hoán vị\n",
    "print('Mảng pivot', LU[1].shape, ':\\n', LU[1])\n",
    "P = permutationMatrix(LU[1])\n",
    "print('Ma trận hoán vị P', P.shape, ':\\n', P)\n",
    "\n",
    "x = linalg.lu_solve(LU, B)\n",
    "print(\"Hệ nghiệm [xi] =\", x)"
   ]
  },
  {
   "cell_type": "code",
   "execution_count": null,
   "metadata": {},
   "outputs": [],
   "source": []
  }
 ],
 "metadata": {
  "kernelspec": {
   "display_name": "Python 3",
   "language": "python",
   "name": "python3"
  },
  "language_info": {
   "codemirror_mode": {
    "name": "ipython",
    "version": 3
   },
   "file_extension": ".py",
   "mimetype": "text/x-python",
   "name": "python",
   "nbconvert_exporter": "python",
   "pygments_lexer": "ipython3",
   "version": "3.8.5"
  }
 },
 "nbformat": 4,
 "nbformat_minor": 4
}
