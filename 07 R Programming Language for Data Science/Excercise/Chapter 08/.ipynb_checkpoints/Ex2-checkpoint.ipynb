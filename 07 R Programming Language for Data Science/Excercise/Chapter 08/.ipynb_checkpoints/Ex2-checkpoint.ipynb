{
 "cells": [
  {
   "cell_type": "code",
   "execution_count": 1,
   "metadata": {},
   "outputs": [],
   "source": [
    "a = floor(runif(10, -10, 10))\n",
    "b = letters[4:13]\n",
    "c = c(\"yes\", \"no\", \"no\", \"no\", \"no\", \"yes\", \"no\", \"yes\", \"yes\",\"no\")\n",
    "\n",
    "df = data.frame(a, b, c)"
   ]
  },
  {
   "cell_type": "code",
   "execution_count": 2,
   "metadata": {},
   "outputs": [
    {
     "name": "stdout",
     "output_type": "stream",
     "text": [
      "[1] \"Data frame:\"\n",
      "    a b   c\n",
      "1   9 d yes\n",
      "2   9 e  no\n",
      "3  -4 f  no\n",
      "4   3 g  no\n",
      "5  -3 h  no\n",
      "6  -8 i yes\n",
      "7   9 j  no\n",
      "8   6 k yes\n",
      "9  -3 l yes\n",
      "10 -8 m  no\n"
     ]
    }
   ],
   "source": [
    "print(\"Data frame:\")\n",
    "print(df)"
   ]
  },
  {
   "cell_type": "code",
   "execution_count": 3,
   "metadata": {},
   "outputs": [
    {
     "name": "stdout",
     "output_type": "stream",
     "text": [
      "[1] \"Data frame with column a in order\"\n",
      "    a b   c\n",
      "6  -8 i yes\n",
      "10 -8 m  no\n",
      "3  -4 f  no\n",
      "5  -3 h  no\n",
      "9  -3 l yes\n",
      "4   3 g  no\n",
      "8   6 k yes\n",
      "1   9 d yes\n",
      "2   9 e  no\n",
      "7   9 j  no\n"
     ]
    }
   ],
   "source": [
    "print(\"Data frame with column a in order\")\n",
    "print(df[with (df, order(a)), ])"
   ]
  },
  {
   "cell_type": "code",
   "execution_count": 5,
   "metadata": {},
   "outputs": [],
   "source": [
    "matrix.data = matrix(1:40, nrow = 10, ncol = 4)\n",
    "df_2 = as.data.frame(matrix.data)\n",
    "\n",
    "colnames(df_2) = sub(\" \", \"\", paste(\"variable_\", 1:ncol(df_2)))\n",
    "rownames(df_2) = sub(\" \", \"\", paste(\"id_\", 1:nrow(df_2)))"
   ]
  },
  {
   "cell_type": "code",
   "execution_count": 6,
   "metadata": {},
   "outputs": [
    {
     "name": "stdout",
     "output_type": "stream",
     "text": [
      "[1] \"Data frame form matrix:\"\n",
      "      variable_1 variable_2 variable_3 variable_4\n",
      "id_1           1         11         21         31\n",
      "id_2           2         12         22         32\n",
      "id_3           3         13         23         33\n",
      "id_4           4         14         24         34\n",
      "id_5           5         15         25         35\n",
      "id_6           6         16         26         36\n",
      "id_7           7         17         27         37\n",
      "id_8           8         18         28         38\n",
      "id_9           9         19         29         39\n",
      "id_10         10         20         30         40\n"
     ]
    }
   ],
   "source": [
    "print(\"Data frame form matrix:\")\n",
    "print(df_2)"
   ]
  },
  {
   "cell_type": "code",
   "execution_count": null,
   "metadata": {},
   "outputs": [],
   "source": []
  }
 ],
 "metadata": {
  "kernelspec": {
   "display_name": "R",
   "language": "R",
   "name": "ir"
  },
  "language_info": {
   "codemirror_mode": "r",
   "file_extension": ".r",
   "mimetype": "text/x-r-source",
   "name": "R",
   "pygments_lexer": "r",
   "version": "4.0.3"
  }
 },
 "nbformat": 4,
 "nbformat_minor": 4
}
