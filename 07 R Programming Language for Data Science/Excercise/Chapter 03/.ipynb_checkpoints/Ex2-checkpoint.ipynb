{
 "cells": [
  {
   "cell_type": "code",
   "execution_count": 1,
   "metadata": {},
   "outputs": [],
   "source": [
    "lvl_1 = 1678\n",
    "lvl_2 = 1734\n",
    "lvl_3 = 2014\n",
    "lvl_4 = 2536\n",
    "lvl_5 = 2834\n",
    "lvl_6 = 2927\n",
    "\n",
    "step_50 = 50\n",
    "step_100 = 100"
   ]
  },
  {
   "cell_type": "code",
   "execution_count": 2,
   "metadata": {},
   "outputs": [
    {
     "name": "stdin",
     "output_type": "stream",
     "text": [
      "Input kwh:  200\n"
     ]
    }
   ],
   "source": [
    "kwh = as.integer(readline(prompt = \"Input kwh: \"))"
   ]
  },
  {
   "cell_type": "code",
   "execution_count": 6,
   "metadata": {},
   "outputs": [],
   "source": [
    "if (kwh <= 50){\n",
    "    payment = kwh * lvl_1\n",
    "} else if ( kwh <= 100){\n",
    "    payment = step_50 * lvl_1 + (kwh - step_50) * lvl_2\n",
    "} else if ( kwh <= 200){\n",
    "    payment = step_50 * lvl_1 + step_50 * lvl_2 + (kwh - step_100) * lvl_3\n",
    "} else if ( kwh <= 300){\n",
    "    payment = step_50 * lvl_1 + step_50 * lvl_2 + step_100 * lvl_3 + (kwh - step_50 * 2 - step_100) * lvl_4\n",
    "} else if ( kwh <= 400){\n",
    "    payment = step_50 * lvl_1 + step_50 * lvl_2 + step_100 * lvl_3 + step_100 * lvl_4 + (kwh - step_50 * 2 - step_100 * 2) * lvl_5\n",
    "} else{\n",
    "    payment = step_50 * lvl_1 + step_50 * lvl_2 + step_100 * lvl_3 + step_100 * lvl_4 + step_100 * lvl_5 + (kwh - step_50 * 2 - step_100 * 3) * lvl_6\n",
    "}"
   ]
  },
  {
   "cell_type": "code",
   "execution_count": 8,
   "metadata": {},
   "outputs": [
    {
     "name": "stdout",
     "output_type": "stream",
     "text": [
      "[1] \"Payment: 372.000,00\"\n"
     ]
    }
   ],
   "source": [
    "print(paste(\"Payment: \", format(payment, big.mark = \".\", decimal.mark = \",\", nsmall = 2), sep = \"\"))"
   ]
  }
 ],
 "metadata": {
  "kernelspec": {
   "display_name": "R",
   "language": "R",
   "name": "ir"
  },
  "language_info": {
   "codemirror_mode": "r",
   "file_extension": ".r",
   "mimetype": "text/x-r-source",
   "name": "R",
   "pygments_lexer": "r",
   "version": "4.0.3"
  }
 },
 "nbformat": 4,
 "nbformat_minor": 4
}
