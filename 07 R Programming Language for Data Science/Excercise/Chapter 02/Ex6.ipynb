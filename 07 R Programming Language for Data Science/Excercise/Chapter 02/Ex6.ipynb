{
 "cells": [
  {
   "cell_type": "code",
   "execution_count": 1,
   "metadata": {},
   "outputs": [
    {
     "name": "stdin",
     "output_type": "stream",
     "text": [
      "Input date: dd-mm-YYYY 01-03-2020\n"
     ]
    }
   ],
   "source": [
    "date_1 = as.Date(readline(prompt = \"Input date: dd-mm-YYYY\"), format(\"%d-%m-%y\"))"
   ]
  },
  {
   "cell_type": "code",
   "execution_count": 2,
   "metadata": {},
   "outputs": [],
   "source": [
    "now_date = Sys.Date()\n",
    "distance = now_date - date_1"
   ]
  },
  {
   "cell_type": "code",
   "execution_count": 3,
   "metadata": {},
   "outputs": [
    {
     "name": "stdout",
     "output_type": "stream",
     "text": [
      "[1] \"Inputed date:  2020-03-01\"\n",
      "[1] \"Now:  2021-01-09\"\n",
      "[1] \"Distance between  2020-03-01  and  2021-01-09  is  314\"\n"
     ]
    }
   ],
   "source": [
    "print(paste(\"Inputed date: \", date_1))\n",
    "print(paste(\"Now: \", now_date))\n",
    "print(paste(\"Distance between \", date_1, \" and \", now_date, \" is \", distance))"
   ]
  }
 ],
 "metadata": {
  "kernelspec": {
   "display_name": "R",
   "language": "R",
   "name": "ir"
  },
  "language_info": {
   "codemirror_mode": "r",
   "file_extension": ".r",
   "mimetype": "text/x-r-source",
   "name": "R",
   "pygments_lexer": "r",
   "version": "4.0.3"
  }
 },
 "nbformat": 4,
 "nbformat_minor": 4
}
