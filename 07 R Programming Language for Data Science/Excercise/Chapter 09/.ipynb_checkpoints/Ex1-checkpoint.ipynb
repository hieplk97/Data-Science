{
 "cells": [
  {
   "cell_type": "code",
   "execution_count": 1,
   "metadata": {},
   "outputs": [],
   "source": [
    "content = readLines(\"../../Data/SampleTextFile_10kb.txt\")"
   ]
  },
  {
   "cell_type": "code",
   "execution_count": 2,
   "metadata": {},
   "outputs": [
    {
     "name": "stdout",
     "output_type": "stream",
     "text": [
      "[1] \"First element in content:\"\n",
      "[1] \"Lorem ipsum dolor sit amet, consectetur adipiscing elit. Vivamus condimentum sagittis lacus, laoreet luctus ligula laoreet ut. Vestibulum ullamcorper accumsan velit vel vehicula. Proin tempor lacus arcu. Nunc at elit condimentum, semper nisi et, condimentum mi. In venenatis blandit nibh at sollicitudin. Vestibulum dapibus mauris at orci maximus pellentesque. Nullam id elementum ipsum. Suspendisse cursus lobortis viverra. Proin et erat at mauris tincidunt porttitor vitae ac dui.\"\n",
      "[1] \"Number of elements:  27\"\n"
     ]
    }
   ],
   "source": [
    "print(\"First element in content:\")\n",
    "print(content[1])\n",
    "print(paste(\"Number of elements: \", length(content)))"
   ]
  },
  {
   "cell_type": "code",
   "execution_count": 3,
   "metadata": {},
   "outputs": [
    {
     "name": "stdout",
     "output_type": "stream",
     "text": [
      "[1] \"Number of characters in each element:\"\n",
      "[1] \"Element 1 has 482 chars\"\n",
      "[1] \"Element 2 has 0 chars\"\n",
      "[1] \"Element 3 has 931 chars\"\n",
      "[1] \"Element 4 has 0 chars\"\n",
      "[1] \"Element 5 has 878 chars\"\n",
      "[1] \"Element 6 has 0 chars\"\n",
      "[1] \"Element 7 has 601 chars\"\n",
      "[1] \"Element 8 has 0 chars\"\n",
      "[1] \"Element 9 has 645 chars\"\n",
      "[1] \"Element 10 has 0 chars\"\n",
      "[1] \"Element 11 has 730 chars\"\n",
      "[1] \"Element 12 has 0 chars\"\n",
      "[1] \"Element 13 has 437 chars\"\n",
      "[1] \"Element 14 has 0 chars\"\n",
      "[1] \"Element 15 has 434 chars\"\n",
      "[1] \"Element 16 has 0 chars\"\n",
      "[1] \"Element 17 has 944 chars\"\n",
      "[1] \"Element 18 has 0 chars\"\n",
      "[1] \"Element 19 has 629 chars\"\n",
      "[1] \"Element 20 has 0 chars\"\n",
      "[1] \"Element 21 has 772 chars\"\n",
      "[1] \"Element 22 has 0 chars\"\n",
      "[1] \"Element 23 has 615 chars\"\n",
      "[1] \"Element 24 has 0 chars\"\n",
      "[1] \"Element 25 has 449 chars\"\n",
      "[1] \"Element 26 has 0 chars\"\n",
      "[1] \"Element 27 has 909 chars\"\n"
     ]
    }
   ],
   "source": [
    "print(\"Number of characters in each element:\")\n",
    "i = 1\n",
    "while(i <= length(content)){\n",
    "    print(paste(\"Element\", i, \"has\", nchar(content[i]), \"chars\"))\n",
    "    i = i + 1\n",
    "}"
   ]
  }
 ],
 "metadata": {
  "kernelspec": {
   "display_name": "R",
   "language": "R",
   "name": "ir"
  },
  "language_info": {
   "codemirror_mode": "r",
   "file_extension": ".r",
   "mimetype": "text/x-r-source",
   "name": "R",
   "pygments_lexer": "r",
   "version": "4.0.3"
  }
 },
 "nbformat": 4,
 "nbformat_minor": 4
}
