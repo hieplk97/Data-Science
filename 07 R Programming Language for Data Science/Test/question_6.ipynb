{
 "cells": [
  {
   "cell_type": "markdown",
   "metadata": {},
   "source": [
    "## Câu 1"
   ]
  },
  {
   "cell_type": "code",
   "execution_count": 1,
   "metadata": {},
   "outputs": [
    {
     "name": "stderr",
     "output_type": "stream",
     "text": [
      "Loading required package: Rcpp\n",
      "\n",
      "## \n",
      "## Amelia II: Multiple Imputation\n",
      "## (Version 1.7.6, built: 2019-11-24)\n",
      "## Copyright (C) 2005-2021 James Honaker, Gary King and Matthew Blackwell\n",
      "## Refer to http://gking.harvard.edu/amelia/ for more information\n",
      "## \n",
      "\n"
     ]
    }
   ],
   "source": [
    "library(rpart)\n",
    "library(rpart.plot)\n",
    "library(Amelia)"
   ]
  },
  {
   "cell_type": "code",
   "execution_count": 2,
   "metadata": {},
   "outputs": [],
   "source": [
    "data = read.csv('data/mushroom.csv', row.names = 1)"
   ]
  },
  {
   "cell_type": "markdown",
   "metadata": {},
   "source": [
    "## Câu 2"
   ]
  },
  {
   "cell_type": "code",
   "execution_count": 3,
   "metadata": {},
   "outputs": [
    {
     "data": {
      "text/html": [
       "<table>\n",
       "<caption>A data.frame: 6 × 23</caption>\n",
       "<thead>\n",
       "\t<tr><th></th><th scope=col>Class</th><th scope=col>cap.shape</th><th scope=col>cap.surface</th><th scope=col>cap.color</th><th scope=col>bruises</th><th scope=col>odor</th><th scope=col>gill.attachment</th><th scope=col>gill.spacing</th><th scope=col>gill.size</th><th scope=col>gill.color</th><th scope=col>...</th><th scope=col>stalk.surface.below.ring</th><th scope=col>stalk.color.above.ring</th><th scope=col>stalk.color.below.ring</th><th scope=col>veil.type</th><th scope=col>veil.color</th><th scope=col>ring.number</th><th scope=col>ring.type</th><th scope=col>print</th><th scope=col>population</th><th scope=col>habitat</th></tr>\n",
       "\t<tr><th></th><th scope=col>&lt;chr&gt;</th><th scope=col>&lt;chr&gt;</th><th scope=col>&lt;chr&gt;</th><th scope=col>&lt;chr&gt;</th><th scope=col>&lt;chr&gt;</th><th scope=col>&lt;chr&gt;</th><th scope=col>&lt;chr&gt;</th><th scope=col>&lt;chr&gt;</th><th scope=col>&lt;chr&gt;</th><th scope=col>&lt;chr&gt;</th><th scope=col>...</th><th scope=col>&lt;chr&gt;</th><th scope=col>&lt;chr&gt;</th><th scope=col>&lt;chr&gt;</th><th scope=col>&lt;chr&gt;</th><th scope=col>&lt;chr&gt;</th><th scope=col>&lt;chr&gt;</th><th scope=col>&lt;chr&gt;</th><th scope=col>&lt;chr&gt;</th><th scope=col>&lt;chr&gt;</th><th scope=col>&lt;chr&gt;</th></tr>\n",
       "</thead>\n",
       "<tbody>\n",
       "\t<tr><th scope=row>1</th><td>Poisonous</td><td>x</td><td>s</td><td>n</td><td>t</td><td>None   </td><td>f</td><td>c</td><td>n</td><td>k</td><td>...</td><td>s</td><td>w</td><td>w</td><td>p</td><td>w</td><td>o</td><td>p</td><td>Buff     </td><td>s</td><td>u</td></tr>\n",
       "\t<tr><th scope=row>2</th><td>Edible   </td><td>x</td><td>s</td><td>y</td><td>t</td><td>Almonds</td><td>f</td><td>c</td><td>b</td><td>k</td><td>...</td><td>s</td><td>w</td><td>w</td><td>p</td><td>w</td><td>o</td><td>p</td><td>Chocolate</td><td>n</td><td>g</td></tr>\n",
       "\t<tr><th scope=row>3</th><td>Edible   </td><td>b</td><td>s</td><td>w</td><td>t</td><td>Fishy  </td><td>f</td><td>c</td><td>b</td><td>n</td><td>...</td><td>s</td><td>w</td><td>w</td><td>p</td><td>w</td><td>o</td><td>p</td><td>Chocolate</td><td>n</td><td>m</td></tr>\n",
       "\t<tr><th scope=row>4</th><td>Poisonous</td><td>x</td><td>y</td><td>w</td><td>t</td><td>None   </td><td>f</td><td>c</td><td>n</td><td>n</td><td>...</td><td>s</td><td>w</td><td>w</td><td>p</td><td>w</td><td>o</td><td>p</td><td>Buff     </td><td>s</td><td>u</td></tr>\n",
       "\t<tr><th scope=row>5</th><td>Edible   </td><td>x</td><td>s</td><td>g</td><td>f</td><td>Musty  </td><td>f</td><td>w</td><td>b</td><td>k</td><td>...</td><td>s</td><td>w</td><td>w</td><td>p</td><td>w</td><td>o</td><td>e</td><td>Chocolate</td><td>a</td><td>g</td></tr>\n",
       "\t<tr><th scope=row>6</th><td>Edible   </td><td>x</td><td>y</td><td>y</td><td>t</td><td>Almonds</td><td>f</td><td>c</td><td>b</td><td>n</td><td>...</td><td>s</td><td>w</td><td>w</td><td>p</td><td>w</td><td>o</td><td>p</td><td>Buff     </td><td>n</td><td>g</td></tr>\n",
       "</tbody>\n",
       "</table>\n"
      ],
      "text/latex": [
       "A data.frame: 6 × 23\n",
       "\\begin{tabular}{r|lllllllllllllllllllll}\n",
       "  & Class & cap.shape & cap.surface & cap.color & bruises & odor & gill.attachment & gill.spacing & gill.size & gill.color & ... & stalk.surface.below.ring & stalk.color.above.ring & stalk.color.below.ring & veil.type & veil.color & ring.number & ring.type & print & population & habitat\\\\\n",
       "  & <chr> & <chr> & <chr> & <chr> & <chr> & <chr> & <chr> & <chr> & <chr> & <chr> & ... & <chr> & <chr> & <chr> & <chr> & <chr> & <chr> & <chr> & <chr> & <chr> & <chr>\\\\\n",
       "\\hline\n",
       "\t1 & Poisonous & x & s & n & t & None    & f & c & n & k & ... & s & w & w & p & w & o & p & Buff      & s & u\\\\\n",
       "\t2 & Edible    & x & s & y & t & Almonds & f & c & b & k & ... & s & w & w & p & w & o & p & Chocolate & n & g\\\\\n",
       "\t3 & Edible    & b & s & w & t & Fishy   & f & c & b & n & ... & s & w & w & p & w & o & p & Chocolate & n & m\\\\\n",
       "\t4 & Poisonous & x & y & w & t & None    & f & c & n & n & ... & s & w & w & p & w & o & p & Buff      & s & u\\\\\n",
       "\t5 & Edible    & x & s & g & f & Musty   & f & w & b & k & ... & s & w & w & p & w & o & e & Chocolate & a & g\\\\\n",
       "\t6 & Edible    & x & y & y & t & Almonds & f & c & b & n & ... & s & w & w & p & w & o & p & Buff      & n & g\\\\\n",
       "\\end{tabular}\n"
      ],
      "text/markdown": [
       "\n",
       "A data.frame: 6 × 23\n",
       "\n",
       "| <!--/--> | Class &lt;chr&gt; | cap.shape &lt;chr&gt; | cap.surface &lt;chr&gt; | cap.color &lt;chr&gt; | bruises &lt;chr&gt; | odor &lt;chr&gt; | gill.attachment &lt;chr&gt; | gill.spacing &lt;chr&gt; | gill.size &lt;chr&gt; | gill.color &lt;chr&gt; | ... ... | stalk.surface.below.ring &lt;chr&gt; | stalk.color.above.ring &lt;chr&gt; | stalk.color.below.ring &lt;chr&gt; | veil.type &lt;chr&gt; | veil.color &lt;chr&gt; | ring.number &lt;chr&gt; | ring.type &lt;chr&gt; | print &lt;chr&gt; | population &lt;chr&gt; | habitat &lt;chr&gt; |\n",
       "|---|---|---|---|---|---|---|---|---|---|---|---|---|---|---|---|---|---|---|---|---|---|\n",
       "| 1 | Poisonous | x | s | n | t | None    | f | c | n | k | ... | s | w | w | p | w | o | p | Buff      | s | u |\n",
       "| 2 | Edible    | x | s | y | t | Almonds | f | c | b | k | ... | s | w | w | p | w | o | p | Chocolate | n | g |\n",
       "| 3 | Edible    | b | s | w | t | Fishy   | f | c | b | n | ... | s | w | w | p | w | o | p | Chocolate | n | m |\n",
       "| 4 | Poisonous | x | y | w | t | None    | f | c | n | n | ... | s | w | w | p | w | o | p | Buff      | s | u |\n",
       "| 5 | Edible    | x | s | g | f | Musty   | f | w | b | k | ... | s | w | w | p | w | o | e | Chocolate | a | g |\n",
       "| 6 | Edible    | x | y | y | t | Almonds | f | c | b | n | ... | s | w | w | p | w | o | p | Buff      | n | g |\n",
       "\n"
      ],
      "text/plain": [
       "  Class     cap.shape cap.surface cap.color bruises odor    gill.attachment\n",
       "1 Poisonous x         s           n         t       None    f              \n",
       "2 Edible    x         s           y         t       Almonds f              \n",
       "3 Edible    b         s           w         t       Fishy   f              \n",
       "4 Poisonous x         y           w         t       None    f              \n",
       "5 Edible    x         s           g         f       Musty   f              \n",
       "6 Edible    x         y           y         t       Almonds f              \n",
       "  gill.spacing gill.size gill.color ... stalk.surface.below.ring\n",
       "1 c            n         k          ... s                       \n",
       "2 c            b         k          ... s                       \n",
       "3 c            b         n          ... s                       \n",
       "4 c            n         n          ... s                       \n",
       "5 w            b         k          ... s                       \n",
       "6 c            b         n          ... s                       \n",
       "  stalk.color.above.ring stalk.color.below.ring veil.type veil.color\n",
       "1 w                      w                      p         w         \n",
       "2 w                      w                      p         w         \n",
       "3 w                      w                      p         w         \n",
       "4 w                      w                      p         w         \n",
       "5 w                      w                      p         w         \n",
       "6 w                      w                      p         w         \n",
       "  ring.number ring.type print     population habitat\n",
       "1 o           p         Buff      s          u      \n",
       "2 o           p         Chocolate n          g      \n",
       "3 o           p         Chocolate n          m      \n",
       "4 o           p         Buff      s          u      \n",
       "5 o           e         Chocolate a          g      \n",
       "6 o           p         Buff      n          g      "
      ]
     },
     "metadata": {},
     "output_type": "display_data"
    }
   ],
   "source": [
    "head(data)"
   ]
  },
  {
   "cell_type": "code",
   "execution_count": 4,
   "metadata": {},
   "outputs": [
    {
     "name": "stdout",
     "output_type": "stream",
     "text": [
      "'data.frame':\t8124 obs. of  23 variables:\n",
      " $ Class                   : chr  \"Poisonous\" \"Edible\" \"Edible\" \"Poisonous\" ...\n",
      " $ cap.shape               : chr  \"x\" \"x\" \"b\" \"x\" ...\n",
      " $ cap.surface             : chr  \"s\" \"s\" \"s\" \"y\" ...\n",
      " $ cap.color               : chr  \"n\" \"y\" \"w\" \"w\" ...\n",
      " $ bruises                 : chr  \"t\" \"t\" \"t\" \"t\" ...\n",
      " $ odor                    : chr  \"None\" \"Almonds\" \"Fishy\" \"None\" ...\n",
      " $ gill.attachment         : chr  \"f\" \"f\" \"f\" \"f\" ...\n",
      " $ gill.spacing            : chr  \"c\" \"c\" \"c\" \"c\" ...\n",
      " $ gill.size               : chr  \"n\" \"b\" \"b\" \"n\" ...\n",
      " $ gill.color              : chr  \"k\" \"k\" \"n\" \"n\" ...\n",
      " $ stalk.shape             : chr  \"e\" \"e\" \"e\" \"e\" ...\n",
      " $ stalk.root              : chr  \"e\" \"c\" \"c\" \"e\" ...\n",
      " $ stalk.surface.above.ring: chr  \"s\" \"s\" \"s\" \"s\" ...\n",
      " $ stalk.surface.below.ring: chr  \"s\" \"s\" \"s\" \"s\" ...\n",
      " $ stalk.color.above.ring  : chr  \"w\" \"w\" \"w\" \"w\" ...\n",
      " $ stalk.color.below.ring  : chr  \"w\" \"w\" \"w\" \"w\" ...\n",
      " $ veil.type               : chr  \"p\" \"p\" \"p\" \"p\" ...\n",
      " $ veil.color              : chr  \"w\" \"w\" \"w\" \"w\" ...\n",
      " $ ring.number             : chr  \"o\" \"o\" \"o\" \"o\" ...\n",
      " $ ring.type               : chr  \"p\" \"p\" \"p\" \"p\" ...\n",
      " $ print                   : chr  \"Buff\" \"Chocolate\" \"Chocolate\" \"Buff\" ...\n",
      " $ population              : chr  \"s\" \"n\" \"n\" \"s\" ...\n",
      " $ habitat                 : chr  \"u\" \"g\" \"m\" \"u\" ...\n"
     ]
    }
   ],
   "source": [
    "str(data)"
   ]
  },
  {
   "cell_type": "code",
   "execution_count": 5,
   "metadata": {},
   "outputs": [
    {
     "data": {
      "text/plain": [
       "    Class            cap.shape         cap.surface         cap.color        \n",
       " Length:8124        Length:8124        Length:8124        Length:8124       \n",
       " Class :character   Class :character   Class :character   Class :character  \n",
       " Mode  :character   Mode  :character   Mode  :character   Mode  :character  \n",
       "   bruises              odor           gill.attachment    gill.spacing      \n",
       " Length:8124        Length:8124        Length:8124        Length:8124       \n",
       " Class :character   Class :character   Class :character   Class :character  \n",
       " Mode  :character   Mode  :character   Mode  :character   Mode  :character  \n",
       "  gill.size          gill.color        stalk.shape         stalk.root       \n",
       " Length:8124        Length:8124        Length:8124        Length:8124       \n",
       " Class :character   Class :character   Class :character   Class :character  \n",
       " Mode  :character   Mode  :character   Mode  :character   Mode  :character  \n",
       " stalk.surface.above.ring stalk.surface.below.ring stalk.color.above.ring\n",
       " Length:8124              Length:8124              Length:8124           \n",
       " Class :character         Class :character         Class :character      \n",
       " Mode  :character         Mode  :character         Mode  :character      \n",
       " stalk.color.below.ring  veil.type          veil.color       \n",
       " Length:8124            Length:8124        Length:8124       \n",
       " Class :character       Class :character   Class :character  \n",
       " Mode  :character       Mode  :character   Mode  :character  \n",
       " ring.number         ring.type            print            population       \n",
       " Length:8124        Length:8124        Length:8124        Length:8124       \n",
       " Class :character   Class :character   Class :character   Class :character  \n",
       " Mode  :character   Mode  :character   Mode  :character   Mode  :character  \n",
       "   habitat         \n",
       " Length:8124       \n",
       " Class :character  \n",
       " Mode  :character  "
      ]
     },
     "metadata": {},
     "output_type": "display_data"
    }
   ],
   "source": [
    "summary(data)"
   ]
  },
  {
   "cell_type": "markdown",
   "metadata": {},
   "source": [
    "## Câu 3"
   ]
  },
  {
   "cell_type": "code",
   "execution_count": 6,
   "metadata": {},
   "outputs": [
    {
     "data": {
      "image/png": "[encoded data removed]",
      "text/plain": [
       "Plot with title \"Missing values vs observed\""
      ]
     },
     "metadata": {
      "image/png": {
       "height": 420,
       "width": 420
      }
     },
     "output_type": "display_data"
    }
   ],
   "source": [
    "# Check missing value\n",
    "missmap(data, main = \"Missing values vs observed\")"
   ]
  },
  {
   "cell_type": "code",
   "execution_count": 7,
   "metadata": {},
   "outputs": [],
   "source": [
    "data[,1:23] = lapply(data[,1:23], factor)"
   ]
  },
  {
   "cell_type": "code",
   "execution_count": 8,
   "metadata": {},
   "outputs": [
    {
     "data": {
      "text/plain": [
       "       Class      cap.shape cap.surface   cap.color    bruises        odor     \n",
       " Edible   :4208   b: 452    f:2320      n      :2284   f:4748   Musty   :3528  \n",
       " Poisonous:3916   c:   4    g:   4      g      :1840   t:3376   Creosote:2160  \n",
       "                  f:3152    s:2556      e      :1500            Pungent : 576  \n",
       "                  k: 828    y:3244      y      :1072            Spicy   : 576  \n",
       "                  s:  32                w      :1040            Almonds : 400  \n",
       "                  x:3656                b      : 168            Fishy   : 400  \n",
       "                                        (Other): 220            (Other) : 484  \n",
       " gill.attachment gill.spacing gill.size   gill.color   stalk.shape stalk.root\n",
       " a: 210          c:6812       b:5612    b      :1728   e:3516      ?:2480    \n",
       " f:7914          w:1312       n:2512    p      :1492   t:4608      b:3776    \n",
       "                                        w      :1202               c: 556    \n",
       "                                        n      :1048               e:1120    \n",
       "                                        g      : 752               r: 192    \n",
       "                                        h      : 732                         \n",
       "                                        (Other):1170                         \n",
       " stalk.surface.above.ring stalk.surface.below.ring stalk.color.above.ring\n",
       " f: 552                   f: 600                   w      :4464          \n",
       " k:2372                   k:2304                   p      :1872          \n",
       " s:5176                   s:4936                   g      : 576          \n",
       " y:  24                   y: 284                   n      : 448          \n",
       "                                                   b      : 432          \n",
       "                                                   o      : 192          \n",
       "                                                   (Other): 140          \n",
       " stalk.color.below.ring veil.type veil.color ring.number ring.type\n",
       " w      :4384           p:8124    n:  96     n:  36      e:2776   \n",
       " p      :1872                     o:  96     o:7488      f:  48   \n",
       " g      : 576                     w:7924     t: 600      l:1296   \n",
       " n      : 512                     y:   8                 n:  36   \n",
       " b      : 432                                            p:3968   \n",
       " o      : 192                                                     \n",
       " (Other): 156                                                     \n",
       "       print      population habitat \n",
       " White    :2388   a: 384     d:3148  \n",
       " Chocolate:1968   c: 340     g:2148  \n",
       " Buff     :1872   n: 400     l: 832  \n",
       " Brown    :1632   s:1248     m: 292  \n",
       " Orange   :  72   v:4040     p:1144  \n",
       " Black    :  48   y:1712     u: 368  \n",
       " (Other)  : 144              w: 192  "
      ]
     },
     "metadata": {},
     "output_type": "display_data"
    }
   ],
   "source": [
    "summary(data)"
   ]
  },
  {
   "cell_type": "markdown",
   "metadata": {},
   "source": [
    "## Câu 4"
   ]
  },
  {
   "cell_type": "code",
   "execution_count": 9,
   "metadata": {},
   "outputs": [
    {
     "name": "stdout",
     "output_type": "stream",
     "text": [
      "[1] \"Rows of training data and test data:\"\n",
      "[1] 6093\n",
      "[1] 2031\n"
     ]
    }
   ],
   "source": [
    "# Create training and test data samples from orginal data\n",
    "set.seed(42) # Setting seed to reproduce results of ramdom sampling\n",
    "trainingRowIndex = sample(1: nrow(data), 0.75 * nrow(data))\n",
    "trainingData = data[trainingRowIndex, ]\n",
    "testData = data[- trainingRowIndex,]\n",
    "print(\"Rows of training data and test data:\")\n",
    "print(nrow(trainingData))\n",
    "print(nrow(testData))"
   ]
  },
  {
   "cell_type": "markdown",
   "metadata": {},
   "source": [
    "## Câu 5"
   ]
  },
  {
   "cell_type": "markdown",
   "metadata": {},
   "source": [
    "### Không thể dùng Logistic Regression với dữ liệu dạng phân loại"
   ]
  },
  {
   "cell_type": "code",
   "execution_count": 10,
   "metadata": {},
   "outputs": [
    {
     "name": "stdout",
     "output_type": "stream",
     "text": [
      "n= 6093 \n",
      "\n",
      "node), split, n, loss, yval, (yprob)\n",
      "      * denotes terminal node\n",
      "\n",
      "1) root 6093 2952 Edible (0.51550960 0.48449040)  \n",
      "  2) odor=Almonds,Fishy,Musty 3230   89 Edible (0.97244582 0.02755418)  \n",
      "    4) print=Black,Brown,Buff,Chocolate,Green,Purple,White,Yellow 3182   41 Edible (0.98711502 0.01288498) *\n",
      "    5) print=Orange 48    0 Poisonous (0.00000000 1.00000000) *\n",
      "  3) odor=Anise,Creosote,Foul,None,Pungent,Spicy 2863    0 Poisonous (0.00000000 1.00000000) *\n"
     ]
    }
   ],
   "source": [
    "data.tree = rpart(Class ~ .,\n",
    "                  data = trainingData, method = \"class\", minbucket=1)\n",
    "print(data.tree)"
   ]
  },
  {
   "cell_type": "markdown",
   "metadata": {},
   "source": [
    "## Câu 6 "
   ]
  },
  {
   "cell_type": "code",
   "execution_count": 11,
   "metadata": {},
   "outputs": [
    {
     "name": "stdout",
     "output_type": "stream",
     "text": [
      "Call:\n",
      "rpart(formula = Class ~ ., data = trainingData, method = \"class\", \n",
      "    minbucket = 1)\n",
      "  n= 6093 \n",
      "\n",
      "          CP nsplit  rel error     xerror        xstd\n",
      "1 0.96985095      0 1.00000000 1.00000000 0.013214788\n",
      "2 0.01626016      1 0.03014905 0.03014905 0.003172367\n",
      "3 0.01000000      2 0.01388889 0.01388889 0.002161770\n",
      "\n",
      "Variable importance\n",
      "                    odor                    print               gill.color \n",
      "                      26                       19                       16 \n",
      "stalk.surface.above.ring stalk.surface.below.ring                ring.type \n",
      "                      13                       13                       13 \n",
      "\n",
      "Node number 1: 6093 observations,    complexity param=0.9698509\n",
      "  predicted class=Edible     expected loss=0.4844904  P(node) =1\n",
      "    class counts:  3141  2952\n",
      "   probabilities: 0.516 0.484 \n",
      "  left son=2 (3230 obs) right son=3 (2863 obs)\n",
      "  Primary splits:\n",
      "      odor                     splits as  LRRLRLRRR,    improve=2870.4730, (0 missing)\n",
      "      print                    splits as  LRLLLRLRL,    improve=1607.0080, (0 missing)\n",
      "      gill.color               splits as  RLRRLLLLRLLL, improve=1141.7850, (0 missing)\n",
      "      stalk.surface.above.ring splits as  LRLL,         improve=1042.2530, (0 missing)\n",
      "      stalk.surface.below.ring splits as  LRLL,         improve= 984.6038, (0 missing)\n",
      "  Surrogate splits:\n",
      "      print                    splits as  LRLLLLLRL,    agree=0.856, adj=0.694, (0 split)\n",
      "      gill.color               splits as  RLRRLLLLLLLL, agree=0.811, adj=0.597, (0 split)\n",
      "      stalk.surface.above.ring splits as  LRLL,         agree=0.778, adj=0.527, (0 split)\n",
      "      stalk.surface.below.ring splits as  LRLL,         agree=0.777, adj=0.526, (0 split)\n",
      "      ring.type                splits as  RLRRL,        agree=0.773, adj=0.517, (0 split)\n",
      "\n",
      "Node number 2: 3230 observations,    complexity param=0.01626016\n",
      "  predicted class=Edible     expected loss=0.02755418  P(node) =0.5301165\n",
      "    class counts:  3141    89\n",
      "   probabilities: 0.972 0.028 \n",
      "  left son=4 (3182 obs) right son=5 (48 obs)\n",
      "  Primary splits:\n",
      "      print                    splits as  LLLLLRLLL,    improve=92.15192, (0 missing)\n",
      "      gill.color               splits as  -LLLLLLLRLLL, improve=36.14736, (0 missing)\n",
      "      stalk.color.below.ring   splits as  --LLLLLLR,    improve=34.23421, (0 missing)\n",
      "      cap.color                splits as  RLLLLRLLLL,   improve=13.54370, (0 missing)\n",
      "      stalk.surface.above.ring splits as  LRLR,         improve=11.65172, (0 missing)\n",
      "  Surrogate splits:\n",
      "      gill.color splits as  -LLLLLLLRLLL, agree=0.991, adj=0.396, (0 split)\n",
      "\n",
      "Node number 3: 2863 observations\n",
      "  predicted class=Poisonous  expected loss=0  P(node) =0.4698835\n",
      "    class counts:     0  2863\n",
      "   probabilities: 0.000 1.000 \n",
      "\n",
      "Node number 4: 3182 observations\n",
      "  predicted class=Edible     expected loss=0.01288498  P(node) =0.5222386\n",
      "    class counts:  3141    41\n",
      "   probabilities: 0.987 0.013 \n",
      "\n",
      "Node number 5: 48 observations\n",
      "  predicted class=Poisonous  expected loss=0  P(node) =0.007877893\n",
      "    class counts:     0    48\n",
      "   probabilities: 0.000 1.000 \n",
      "\n"
     ]
    }
   ],
   "source": [
    "summary(data.tree)"
   ]
  },
  {
   "cell_type": "markdown",
   "metadata": {},
   "source": [
    "## Câu 7"
   ]
  },
  {
   "cell_type": "code",
   "execution_count": 14,
   "metadata": {},
   "outputs": [
    {
     "name": "stdout",
     "output_type": "stream",
     "text": [
      "[1] \"Accuracy: 0.996553421959626\"\n"
     ]
    }
   ],
   "source": [
    "# Test model\n",
    "pred_new = predict(data.tree, testData, type = \"class\")\n",
    "\n",
    "# Accuracy\n",
    "accuracy = table(pred_new, testData$Class)\n",
    "accuracy = sum(diag(accuracy)) / sum(accuracy)\n",
    "print(paste(\"Accuracy:\", accuracy))"
   ]
  },
  {
   "cell_type": "markdown",
   "metadata": {},
   "source": [
    "## Câu 8\n",
    "Model có độ chính xác cao, để phân loại nấm, sử dụng decision tree là phù hợp"
   ]
  },
  {
   "cell_type": "markdown",
   "metadata": {},
   "source": [
    "## Câu 9"
   ]
  },
  {
   "cell_type": "code",
   "execution_count": 15,
   "metadata": {},
   "outputs": [
    {
     "data": {
      "image/png": "[encoded data removed]",
      "text/plain": [
       "plot without title"
      ]
     },
     "metadata": {
      "image/png": {
       "height": 420,
       "width": 420
      }
     },
     "output_type": "display_data"
    }
   ],
   "source": [
    "prp(data.tree, type = 2, extra = \"auto\", nn = TRUE, branch = 1, varlen = 0, yesno =2)"
   ]
  },
  {
   "cell_type": "code",
   "execution_count": null,
   "metadata": {},
   "outputs": [],
   "source": []
  }
 ],
 "metadata": {
  "kernelspec": {
   "display_name": "R",
   "language": "R",
   "name": "ir"
  },
  "language_info": {
   "codemirror_mode": "r",
   "file_extension": ".r",
   "mimetype": "text/x-r-source",
   "name": "R",
   "pygments_lexer": "r",
   "version": "4.0.3"
  }
 },
 "nbformat": 4,
 "nbformat_minor": 4
}
