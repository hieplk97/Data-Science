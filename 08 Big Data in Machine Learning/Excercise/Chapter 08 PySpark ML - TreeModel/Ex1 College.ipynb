{
 "cells": [
  {
   "cell_type": "markdown",
   "metadata": {},
   "source": [
    "#### We will be using a college dataset (College.csv) to try to classify colleges as Private or Public based off these features:\n",
    "    Private: A factor with levels No and Yes indicating private or public university\n",
    "    Apps: Number of applications received\n",
    "    Accept: Nunber of applications accented\n",
    "    Enroll: Number of new students enrotled\n",
    "    Top10perc: Pct. new students from top 10% of H.S. class\n",
    "    Top25perc: Pct. new students from top 25% of HS, class\n",
    "    F.Undergrad: Number of fulltine undergraduetes\n",
    "    P.Undergrad: Nunber of parttime undergraduates\n",
    "    Outstate: Out-of-state tuition\n",
    "    Roon.Board: Room and board costs\n",
    "    Books: Estimated book costs\n",
    "    Personal: Estimated personal spending\n",
    "    PhD: Pet. of faculty with Ph.D. 's\n",
    "    Terminal: Pct. of faculty with terminal degree\n",
    "    S.F.Ratio: Student/faculty ratio\n",
    "    perc.alumni: Pct. alumni who donate\n",
    "    Expend: Instructional expenditure per student\n",
    "    Grad.Rate: Graduation rate\n"
   ]
  },
  {
   "cell_type": "code",
   "execution_count": null,
   "metadata": {},
   "outputs": [],
   "source": [
    "import findspark\n",
    "findspark.init()"
   ]
  },
  {
   "cell_type": "code",
   "execution_count": null,
   "metadata": {},
   "outputs": [],
   "source": [
    "from pyspark.sql import SparkSession\n",
    "from pyspark.sql.functions import corr\n",
    "\n",
    "from pyspark.ml.feature import StringIndexer, VectorIndexer, VectorAssembler, OneHotEncoder\n",
    "from pyspark.ml.classification import DecisionTreeClassifier, RandomForestClassifier, GBTClassifier\n",
    "from pyspark.ml.evaluation import MulticlassClassificationEvaluator"
   ]
  },
  {
   "cell_type": "code",
   "execution_count": null,
   "metadata": {},
   "outputs": [],
   "source": [
    "spark = SparkSession.builder.appName('treecode').getOrCreate()"
   ]
  },
  {
   "cell_type": "code",
   "execution_count": null,
   "metadata": {},
   "outputs": [],
   "source": [
    "data= spark.read.csv(\"../../Data/College.csv\", header=False, inferSchema=True)"
   ]
  },
  {
   "cell_type": "code",
   "execution_count": null,
   "metadata": {},
   "outputs": [],
   "source": [
    "data.count()"
   ]
  },
  {
   "cell_type": "code",
   "execution_count": null,
   "metadata": {},
   "outputs": [],
   "source": [
    "data.printSchema()"
   ]
  },
  {
   "cell_type": "code",
   "execution_count": null,
   "metadata": {},
   "outputs": [],
   "source": [
    "data.head()"
   ]
  },
  {
   "cell_type": "markdown",
   "metadata": {},
   "source": [
    "### Spark Formating of Data"
   ]
  },
  {
   "cell_type": "code",
   "execution_count": null,
   "metadata": {},
   "outputs": [],
   "source": [
    "from pyspark.ml.linalg import Vectors\n",
    "from pyspark.ml.feature import VectorAssembler, StringIndexer"
   ]
  },
  {
   "cell_type": "code",
   "execution_count": null,
   "metadata": {},
   "outputs": [],
   "source": [
    "data.columns"
   ]
  },
  {
   "cell_type": "code",
   "execution_count": null,
   "metadata": {},
   "outputs": [],
   "source": [
    "assembler = VectorAssembler(inputCol=['Apps', 'Accept', 'Enroll', 'Top10perc', \n",
    "                             'Top25perc', 'F_Undergrad', 'P_Undergrad', \n",
    "                             'Outstate', 'Room_Board', 'Books', 'Personal', 'PhD', \n",
    "                             'Terminal', 'S_F_Ratio', 'perc_alumni', 'Expend', 'Grad_Rate'], outputCol='features')"
   ]
  },
  {
   "cell_type": "code",
   "execution_count": null,
   "metadata": {},
   "outputs": [],
   "source": [
    "output = assembler.transform(data)"
   ]
  },
  {
   "cell_type": "code",
   "execution_count": null,
   "metadata": {},
   "outputs": [],
   "source": [
    "# Deal with Private column being 'yes' or 'no'\n",
    "indexer = StringIndexer(inputCol='Private', outputCol='PrivateIndex')\n",
    "output_fixed = indexer.fit(output).transform(output)"
   ]
  },
  {
   "cell_type": "code",
   "execution_count": null,
   "metadata": {},
   "outputs": [],
   "source": [
    "final_data = output_fixed.select('features', 'PrivateIndex')"
   ]
  },
  {
   "cell_type": "code",
   "execution_count": null,
   "metadata": {},
   "outputs": [],
   "source": [
    "train_data, test_data = final_data.randomSplit([0.7, 0.3])"
   ]
  },
  {
   "cell_type": "markdown",
   "metadata": {},
   "source": [
    "### The Classifiers"
   ]
  },
  {
   "cell_type": "code",
   "execution_count": null,
   "metadata": {},
   "outputs": [],
   "source": [
    "# Create all 3 models\n",
    "dtc = DecisionTreeClassifier(featuresCol='features', labelCol='PrivateIndex', predictionCol='prediction')\n",
    "rfc = RandomForestClassifier(featuresCol='features', labelCol='PrivateIndex', predictionCol='prediction')\n",
    "gbt = GBTClassifier(featuresCol='features', labelCol='PrivateIndex', predictionCol='prediction')"
   ]
  },
  {
   "cell_type": "code",
   "execution_count": null,
   "metadata": {},
   "outputs": [],
   "source": [
    "# Train all 3 models\n",
    "dtc_model = dtc.fit(train_data)\n",
    "rfc_model = rfc.fit(train_data)\n",
    "gbt_model = gbt.fit(train_data)"
   ]
  },
  {
   "cell_type": "markdown",
   "metadata": {},
   "source": [
    "### Model Comparison"
   ]
  },
  {
   "cell_type": "code",
   "execution_count": null,
   "metadata": {},
   "outputs": [],
   "source": [
    "dtc_predictions = dtc_model.transform(test_data)\n",
    "rfc_predictions = rfc_model.transform(test_data)\n",
    "gbt_predictions = gbt_model.transform(test_data)"
   ]
  },
  {
   "cell_type": "markdown",
   "metadata": {},
   "source": [
    "##### Evaluation Metrics"
   ]
  },
  {
   "cell_type": "code",
   "execution_count": null,
   "metadata": {},
   "outputs": [],
   "source": [
    "# Select (prediction, true label) and compute test error\n",
    "acc_evaluator = MulticlassClassificationEvaluator(labelCol=\"label\",\n",
    "                                                  predictionCol=\"prediction\",\n",
    "                                                  metricName=\"accuracy\")"
   ]
  },
  {
   "cell_type": "code",
   "execution_count": null,
   "metadata": {},
   "outputs": [],
   "source": [
    "dtc_acc = acc_evaluator.evaluate(dtc_predictions)\n",
    "rfc_acc = acc_evaluator.evaluate(rfc_predictions)\n",
    "gbt_acc = acc_evaluator.evaluate(gbt_predictions)"
   ]
  },
  {
   "cell_type": "code",
   "execution_count": null,
   "metadata": {},
   "outputs": [],
   "source": [
    "print(\"Results\")\n",
    "print('-'*60)\n",
    "print('A single Decision Tree has an accuracy of {0:2.2f}'.format(dtc_acc*100))\n",
    "print('-'*60)\n",
    "print('A single Random Forest has an accuracy of {0:2.2f}'.format(rfc_acc*100))\n",
    "print('-'*60)\n",
    "print('An essemble using Gradient-Boosted Trees has an accuracy of {0:2.2f}'.format(gbt_acc*100))"
   ]
  }
 ],
 "metadata": {
  "kernelspec": {
   "display_name": "Python 3",
   "language": "python",
   "name": "python3"
  },
  "language_info": {
   "codemirror_mode": {
    "name": "ipython",
    "version": 3
   },
   "file_extension": ".py",
   "mimetype": "text/x-python",
   "name": "python",
   "nbconvert_exporter": "python",
   "pygments_lexer": "ipython3",
   "version": "3.7.9"
  }
 },
 "nbformat": 4,
 "nbformat_minor": 4
}
