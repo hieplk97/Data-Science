{
 "cells": [
  {
   "cell_type": "code",
   "execution_count": 3,
   "metadata": {},
   "outputs": [],
   "source": [
    "Name = c(\"Alex\", \"Lylly\", \"Mark\", \"Oliver\", \"Martha\", \"Lucas\", \"Caroline\")\n",
    "Age = c(25, 31, 23, 52, 76, 49, 26)\n",
    "Height = c(177, 163, 190, 179, 163, 183, 164)\n",
    "Weight = c(57, 69, 83, 75, 70, 83, 53)\n",
    "Sex = as.factor(c(\"F\", \"F\", \"M\", \"M\", \"F\", \"M\", \"F\"))\n",
    "\n",
    "df = data.frame(row.names = Name, Age, Height, Weight, Sex)"
   ]
  },
  {
   "cell_type": "code",
   "execution_count": 4,
   "metadata": {},
   "outputs": [
    {
     "name": "stdout",
     "output_type": "stream",
     "text": [
      "         Age Height Weight Sex\n",
      "Alex      25    177     57   F\n",
      "Lylly     31    163     69   F\n",
      "Mark      23    190     83   M\n",
      "Oliver    52    179     75   M\n",
      "Martha    76    163     70   F\n",
      "Lucas     49    183     83   M\n",
      "Caroline  26    164     53   F\n"
     ]
    }
   ],
   "source": [
    "print(df)"
   ]
  },
  {
   "cell_type": "code",
   "execution_count": 6,
   "metadata": {},
   "outputs": [
    {
     "name": "stdout",
     "output_type": "stream",
     "text": [
      "[1] \"Levels of Sex:  F, M\"\n"
     ]
    }
   ],
   "source": [
    "print(paste(\"Levels of Sex: \", toString(levels(df$Sex))))"
   ]
  },
  {
   "cell_type": "code",
   "execution_count": 7,
   "metadata": {},
   "outputs": [],
   "source": [
    "Working = c(\"Yes\", \"No\", \"No\", \"Yes\", \"Yes\", \"No\", \"Yes\")\n",
    "df2 = data.frame(row.names = Name, Working)"
   ]
  },
  {
   "cell_type": "code",
   "execution_count": 8,
   "metadata": {},
   "outputs": [
    {
     "name": "stdout",
     "output_type": "stream",
     "text": [
      "         Working\n",
      "Alex         Yes\n",
      "Lylly         No\n",
      "Mark          No\n",
      "Oliver       Yes\n",
      "Martha       Yes\n",
      "Lucas         No\n",
      "Caroline     Yes\n"
     ]
    }
   ],
   "source": [
    "print(df2)"
   ]
  },
  {
   "cell_type": "code",
   "execution_count": 9,
   "metadata": {},
   "outputs": [
    {
     "name": "stdout",
     "output_type": "stream",
     "text": [
      "[1] \"Combining of 2 data frame:\"\n",
      "         Age Height Weight Sex Working\n",
      "Alex      25    177     57   F     Yes\n",
      "Lylly     31    163     69   F      No\n",
      "Mark      23    190     83   M      No\n",
      "Oliver    52    179     75   M     Yes\n",
      "Martha    76    163     70   F     Yes\n",
      "Lucas     49    183     83   M      No\n",
      "Caroline  26    164     53   F     Yes\n"
     ]
    }
   ],
   "source": [
    "df = cbind(df, df2)\n",
    "print(\"Combining of 2 data frame:\")\n",
    "print(df)"
   ]
  },
  {
   "cell_type": "code",
   "execution_count": 11,
   "metadata": {},
   "outputs": [
    {
     "name": "stdout",
     "output_type": "stream",
     "text": [
      "[1] \"Row: 7 Column: 5\"\n",
      "'data.frame':\t7 obs. of  5 variables:\n",
      " $ Age    : num  25 31 23 52 76 49 26\n",
      " $ Height : num  177 163 190 179 163 183 164\n",
      " $ Weight : num  57 69 83 75 70 83 53\n",
      " $ Sex    : Factor w/ 2 levels \"F\",\"M\": 1 1 2 2 1 2 1\n",
      " $ Working: chr  \"Yes\" \"No\" \"No\" \"Yes\" ...\n",
      "NULL\n"
     ]
    }
   ],
   "source": [
    "print(paste(\"Row:\", dim(df)[1], \"Column:\", dim(df)[2]))\n",
    "print(str(df))"
   ]
  },
  {
   "cell_type": "code",
   "execution_count": null,
   "metadata": {},
   "outputs": [],
   "source": []
  }
 ],
 "metadata": {
  "kernelspec": {
   "display_name": "R",
   "language": "R",
   "name": "ir"
  },
  "language_info": {
   "codemirror_mode": "r",
   "file_extension": ".r",
   "mimetype": "text/x-r-source",
   "name": "R",
   "pygments_lexer": "r",
   "version": "4.0.3"
  }
 },
 "nbformat": 4,
 "nbformat_minor": 4
}
