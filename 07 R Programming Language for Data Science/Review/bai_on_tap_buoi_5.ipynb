{
 "cells": [
  {
   "cell_type": "code",
   "execution_count": 1,
   "metadata": {
    "colab": {
     "base_uri": "https://localhost:8080/",
     "height": 17
    },
    "id": "klX_ZG8YJPHf",
    "outputId": "ae9469d4-5295-4c09-d25e-e2692e63c94d"
   },
   "outputs": [
    {
     "data": {
      "text/html": [],
      "text/latex": [],
      "text/markdown": [],
      "text/plain": [
       "logical(0)"
      ]
     },
     "metadata": {},
     "output_type": "display_data"
    },
    {
     "data": {
      "text/html": [],
      "text/latex": [],
      "text/markdown": [],
      "text/plain": [
       "logical(0)"
      ]
     },
     "metadata": {},
     "output_type": "display_data"
    },
    {
     "data": {
      "text/html": [],
      "text/latex": [],
      "text/markdown": [],
      "text/plain": [
       "logical(0)"
      ]
     },
     "metadata": {},
     "output_type": "display_data"
    },
    {
     "data": {
      "text/html": [],
      "text/latex": [],
      "text/markdown": [],
      "text/plain": [
       "logical(0)"
      ]
     },
     "metadata": {},
     "output_type": "display_data"
    }
   ],
   "source": [
    "!installed.packages('plyr')\n",
    "!installed.packages('ggplot2')\n",
    "!installed.packages('ggExtra')\n",
    "!installed.packages('tidyverse')"
   ]
  },
  {
   "cell_type": "code",
   "execution_count": 2,
   "metadata": {
    "colab": {
     "base_uri": "https://localhost:8080/",
     "height": 204
    },
    "id": "y3Tfz46jJJ_T",
    "outputId": "0d0c597d-2619-4f0f-ffca-bf5e065d1043"
   },
   "outputs": [
    {
     "name": "stderr",
     "output_type": "stream",
     "text": [
      "-- \u001b[1mAttaching packages\u001b[22m ------------------------------------------------------------------------------- tidyverse 1.3.0 --\n",
      "\n",
      "\u001b[32m<U+221A>\u001b[39m \u001b[34mtibble \u001b[39m 3.0.4     \u001b[32m<U+221A>\u001b[39m \u001b[34mdplyr  \u001b[39m 1.0.2\n",
      "\u001b[32m<U+221A>\u001b[39m \u001b[34mtidyr  \u001b[39m 1.1.2     \u001b[32m<U+221A>\u001b[39m \u001b[34mstringr\u001b[39m 1.4.0\n",
      "\u001b[32m<U+221A>\u001b[39m \u001b[34mreadr  \u001b[39m 1.4.0     \u001b[32m<U+221A>\u001b[39m \u001b[34mforcats\u001b[39m 0.5.0\n",
      "\u001b[32m<U+221A>\u001b[39m \u001b[34mpurrr  \u001b[39m 0.3.4     \n",
      "\n",
      "-- \u001b[1mConflicts\u001b[22m ---------------------------------------------------------------------------------- tidyverse_conflicts() --\n",
      "\u001b[31mx\u001b[39m \u001b[34mdplyr\u001b[39m::\u001b[32mfilter()\u001b[39m masks \u001b[34mstats\u001b[39m::filter()\n",
      "\u001b[31mx\u001b[39m \u001b[34mdplyr\u001b[39m::\u001b[32mlag()\u001b[39m    masks \u001b[34mstats\u001b[39m::lag()\n",
      "\n"
     ]
    }
   ],
   "source": [
    "#library(plyr)\n",
    "library(ggplot2)\n",
    "#library(\"ggExtra\")\n",
    "library(tidyverse)"
   ]
  },
  {
   "cell_type": "markdown",
   "metadata": {
    "id": "ypuaTTa8JJ_R"
   },
   "source": [
    "# Bài ôn tập: ames_housing\n",
    "## Cho dữ liệu ames_housing.csv. Hãy thực hiện các yêu cầu được liệt kê bên dưới:"
   ]
  },
  {
   "cell_type": "markdown",
   "metadata": {
    "id": "yb442r32JJ_T"
   },
   "source": [
    "#### 1. Đọc dữ liệu, hiển thị thông tin chung của dữ liệu : head(), tail(), str(), summary() \n"
   ]
  },
  {
   "cell_type": "markdown",
   "metadata": {
    "id": "k7megExgJJ_j"
   },
   "source": [
    "#### 2. Cho biết số dòng, số cột của dữ liệu"
   ]
  },
  {
   "cell_type": "markdown",
   "metadata": {
    "id": "j3j4fYsnJJ_n"
   },
   "source": [
    "#### 3. Cho biết có bao nhiêu loại Garage.Type, đó là những loại nào, mỗi loại đếm được bao nhiêu mẫu. "
   ]
  },
  {
   "cell_type": "markdown",
   "metadata": {
    "id": "9gU5rtPIJJ_w"
   },
   "source": [
    "#### 4. Xóa các cột Garage.Qual, Garage.Cond, Pool.QC, Fence, Misc.Feature trong dữ liệu"
   ]
  },
  {
   "cell_type": "markdown",
   "metadata": {
    "id": "_cKzKBBXJJ_2"
   },
   "source": [
    "#### 5. Tìm max, min của Gr.Liv.Area theo Electrical và Heating (sử dụng group_by() và summarize()). "
   ]
  },
  {
   "cell_type": "markdown",
   "metadata": {
    "id": "n_a_DAdpJJ_7"
   },
   "source": [
    "#### 6. Vẽ biểu đồ thể hiện mối liên hệ của SalePrice và X1st.Flr.SF. Nhận xét biểu đồ. "
   ]
  },
  {
   "cell_type": "markdown",
   "metadata": {
    "id": "Ca2xIATCJJ_-"
   },
   "source": [
    "#### 7. Vẽ pie chart thể hiện % giữa Y(1) và N(0) của cột Central.Air"
   ]
  },
  {
   "cell_type": "markdown",
   "metadata": {
    "id": "JBkcW245JKAF"
   },
   "source": [
    "#### 8. Cho biết năm xây của các căn nhà cũ nhất và mới nhất (theo Year.Built). Liệt kê các căn nhà cũ nhất, mới nhất với 3 thông tin Id, Year.Built, SalePrice"
   ]
  },
  {
   "cell_type": "markdown",
   "metadata": {
    "id": "wEG12KKDRoEU"
   },
   "source": [
    "#### 9. Thống kê số lượng các căn nhà được xây theo từng năm. In head và tail.  Cho biết năm nào có nhiều nhà được xây nhất? "
   ]
  },
  {
   "cell_type": "markdown",
   "metadata": {
    "id": "cC-W1-EdUSWK"
   },
   "source": [
    "#### 10. Trực quan hóa kết quả của câu thống kê trên với 10 năm gần đây nhất bằng barplot; với tất cả các năm bằng line."
   ]
  },
  {
   "cell_type": "markdown",
   "metadata": {
    "id": "OF0ymOCpJKAI"
   },
   "source": [
    "#### 11. Vẽ boxplot của cột SalePrice. "
   ]
  },
  {
   "cell_type": "code",
   "execution_count": 3,
   "metadata": {
    "collapsed": true,
    "id": "xo6XGpYMJKAS",
    "jupyter": {
     "outputs_hidden": true
    }
   },
   "outputs": [
    {
     "data": {
      "text/html": [
       "<table>\n",
       "<caption>A data.frame: 6 × 81</caption>\n",
       "<thead>\n",
       "\t<tr><th></th><th scope=col>Id</th><th scope=col>PID</th><th scope=col>MS.SubClass</th><th scope=col>MS.Zoning</th><th scope=col>Lot.Frontage</th><th scope=col>Lot.Area</th><th scope=col>Street</th><th scope=col>Alley</th><th scope=col>Lot.Shape</th><th scope=col>Land.Contour</th><th scope=col>...</th><th scope=col>Screen.Porch</th><th scope=col>Pool.Area</th><th scope=col>Pool.QC</th><th scope=col>Fence</th><th scope=col>Misc.Feature</th><th scope=col>Misc.Val</th><th scope=col>Mo.Sold</th><th scope=col>Yr.Sold</th><th scope=col>Sale.Type</th><th scope=col>SalePrice</th></tr>\n",
       "\t<tr><th></th><th scope=col>&lt;int&gt;</th><th scope=col>&lt;int&gt;</th><th scope=col>&lt;int&gt;</th><th scope=col>&lt;chr&gt;</th><th scope=col>&lt;dbl&gt;</th><th scope=col>&lt;int&gt;</th><th scope=col>&lt;chr&gt;</th><th scope=col>&lt;chr&gt;</th><th scope=col>&lt;chr&gt;</th><th scope=col>&lt;chr&gt;</th><th scope=col>...</th><th scope=col>&lt;int&gt;</th><th scope=col>&lt;int&gt;</th><th scope=col>&lt;chr&gt;</th><th scope=col>&lt;chr&gt;</th><th scope=col>&lt;chr&gt;</th><th scope=col>&lt;int&gt;</th><th scope=col>&lt;int&gt;</th><th scope=col>&lt;int&gt;</th><th scope=col>&lt;chr&gt;</th><th scope=col>&lt;int&gt;</th></tr>\n",
       "</thead>\n",
       "<tbody>\n",
       "\t<tr><th scope=row>1</th><td>109</td><td>533352170</td><td>60</td><td>RL</td><td> NA</td><td>13517</td><td>Pave</td><td></td><td>IR1</td><td>Lvl</td><td>...</td><td>0</td><td>0</td><td></td><td></td><td></td><td>0</td><td>3</td><td>2010</td><td>WD </td><td>130500</td></tr>\n",
       "\t<tr><th scope=row>2</th><td>544</td><td>531379050</td><td>60</td><td>RL</td><td> 43</td><td>11492</td><td>Pave</td><td></td><td>IR1</td><td>Lvl</td><td>...</td><td>0</td><td>0</td><td></td><td></td><td></td><td>0</td><td>4</td><td>2009</td><td>WD </td><td>220000</td></tr>\n",
       "\t<tr><th scope=row>3</th><td>153</td><td>535304180</td><td>20</td><td>RL</td><td> 68</td><td> 7922</td><td>Pave</td><td></td><td>Reg</td><td>Lvl</td><td>...</td><td>0</td><td>0</td><td></td><td></td><td></td><td>0</td><td>1</td><td>2010</td><td>WD </td><td>109000</td></tr>\n",
       "\t<tr><th scope=row>4</th><td>318</td><td>916386060</td><td>60</td><td>RL</td><td> 73</td><td> 9802</td><td>Pave</td><td></td><td>Reg</td><td>Lvl</td><td>...</td><td>0</td><td>0</td><td></td><td></td><td></td><td>0</td><td>4</td><td>2010</td><td>WD </td><td>174000</td></tr>\n",
       "\t<tr><th scope=row>5</th><td>255</td><td>906425045</td><td>50</td><td>RL</td><td> 82</td><td>14235</td><td>Pave</td><td></td><td>IR1</td><td>Lvl</td><td>...</td><td>0</td><td>0</td><td></td><td></td><td></td><td>0</td><td>3</td><td>2010</td><td>WD </td><td>138500</td></tr>\n",
       "\t<tr><th scope=row>6</th><td>138</td><td>535126040</td><td>20</td><td>RL</td><td>137</td><td>16492</td><td>Pave</td><td></td><td>IR1</td><td>Lvl</td><td>...</td><td>0</td><td>0</td><td></td><td></td><td></td><td>0</td><td>6</td><td>2010</td><td>WD </td><td>190000</td></tr>\n",
       "</tbody>\n",
       "</table>\n"
      ],
      "text/latex": [
       "A data.frame: 6 × 81\n",
       "\\begin{tabular}{r|lllllllllllllllllllll}\n",
       "  & Id & PID & MS.SubClass & MS.Zoning & Lot.Frontage & Lot.Area & Street & Alley & Lot.Shape & Land.Contour & ... & Screen.Porch & Pool.Area & Pool.QC & Fence & Misc.Feature & Misc.Val & Mo.Sold & Yr.Sold & Sale.Type & SalePrice\\\\\n",
       "  & <int> & <int> & <int> & <chr> & <dbl> & <int> & <chr> & <chr> & <chr> & <chr> & ... & <int> & <int> & <chr> & <chr> & <chr> & <int> & <int> & <int> & <chr> & <int>\\\\\n",
       "\\hline\n",
       "\t1 & 109 & 533352170 & 60 & RL &  NA & 13517 & Pave &  & IR1 & Lvl & ... & 0 & 0 &  &  &  & 0 & 3 & 2010 & WD  & 130500\\\\\n",
       "\t2 & 544 & 531379050 & 60 & RL &  43 & 11492 & Pave &  & IR1 & Lvl & ... & 0 & 0 &  &  &  & 0 & 4 & 2009 & WD  & 220000\\\\\n",
       "\t3 & 153 & 535304180 & 20 & RL &  68 &  7922 & Pave &  & Reg & Lvl & ... & 0 & 0 &  &  &  & 0 & 1 & 2010 & WD  & 109000\\\\\n",
       "\t4 & 318 & 916386060 & 60 & RL &  73 &  9802 & Pave &  & Reg & Lvl & ... & 0 & 0 &  &  &  & 0 & 4 & 2010 & WD  & 174000\\\\\n",
       "\t5 & 255 & 906425045 & 50 & RL &  82 & 14235 & Pave &  & IR1 & Lvl & ... & 0 & 0 &  &  &  & 0 & 3 & 2010 & WD  & 138500\\\\\n",
       "\t6 & 138 & 535126040 & 20 & RL & 137 & 16492 & Pave &  & IR1 & Lvl & ... & 0 & 0 &  &  &  & 0 & 6 & 2010 & WD  & 190000\\\\\n",
       "\\end{tabular}\n"
      ],
      "text/markdown": [
       "\n",
       "A data.frame: 6 × 81\n",
       "\n",
       "| <!--/--> | Id &lt;int&gt; | PID &lt;int&gt; | MS.SubClass &lt;int&gt; | MS.Zoning &lt;chr&gt; | Lot.Frontage &lt;dbl&gt; | Lot.Area &lt;int&gt; | Street &lt;chr&gt; | Alley &lt;chr&gt; | Lot.Shape &lt;chr&gt; | Land.Contour &lt;chr&gt; | ... ... | Screen.Porch &lt;int&gt; | Pool.Area &lt;int&gt; | Pool.QC &lt;chr&gt; | Fence &lt;chr&gt; | Misc.Feature &lt;chr&gt; | Misc.Val &lt;int&gt; | Mo.Sold &lt;int&gt; | Yr.Sold &lt;int&gt; | Sale.Type &lt;chr&gt; | SalePrice &lt;int&gt; |\n",
       "|---|---|---|---|---|---|---|---|---|---|---|---|---|---|---|---|---|---|---|---|---|---|\n",
       "| 1 | 109 | 533352170 | 60 | RL |  NA | 13517 | Pave | <!----> | IR1 | Lvl | ... | 0 | 0 | <!----> | <!----> | <!----> | 0 | 3 | 2010 | WD  | 130500 |\n",
       "| 2 | 544 | 531379050 | 60 | RL |  43 | 11492 | Pave | <!----> | IR1 | Lvl | ... | 0 | 0 | <!----> | <!----> | <!----> | 0 | 4 | 2009 | WD  | 220000 |\n",
       "| 3 | 153 | 535304180 | 20 | RL |  68 |  7922 | Pave | <!----> | Reg | Lvl | ... | 0 | 0 | <!----> | <!----> | <!----> | 0 | 1 | 2010 | WD  | 109000 |\n",
       "| 4 | 318 | 916386060 | 60 | RL |  73 |  9802 | Pave | <!----> | Reg | Lvl | ... | 0 | 0 | <!----> | <!----> | <!----> | 0 | 4 | 2010 | WD  | 174000 |\n",
       "| 5 | 255 | 906425045 | 50 | RL |  82 | 14235 | Pave | <!----> | IR1 | Lvl | ... | 0 | 0 | <!----> | <!----> | <!----> | 0 | 3 | 2010 | WD  | 138500 |\n",
       "| 6 | 138 | 535126040 | 20 | RL | 137 | 16492 | Pave | <!----> | IR1 | Lvl | ... | 0 | 0 | <!----> | <!----> | <!----> | 0 | 6 | 2010 | WD  | 190000 |\n",
       "\n"
      ],
      "text/plain": [
       "  Id  PID       MS.SubClass MS.Zoning Lot.Frontage Lot.Area Street Alley\n",
       "1 109 533352170 60          RL         NA          13517    Pave        \n",
       "2 544 531379050 60          RL         43          11492    Pave        \n",
       "3 153 535304180 20          RL         68           7922    Pave        \n",
       "4 318 916386060 60          RL         73           9802    Pave        \n",
       "5 255 906425045 50          RL         82          14235    Pave        \n",
       "6 138 535126040 20          RL        137          16492    Pave        \n",
       "  Lot.Shape Land.Contour ... Screen.Porch Pool.Area Pool.QC Fence Misc.Feature\n",
       "1 IR1       Lvl          ... 0            0                                   \n",
       "2 IR1       Lvl          ... 0            0                                   \n",
       "3 Reg       Lvl          ... 0            0                                   \n",
       "4 Reg       Lvl          ... 0            0                                   \n",
       "5 IR1       Lvl          ... 0            0                                   \n",
       "6 IR1       Lvl          ... 0            0                                   \n",
       "  Misc.Val Mo.Sold Yr.Sold Sale.Type SalePrice\n",
       "1 0        3       2010    WD        130500   \n",
       "2 0        4       2009    WD        220000   \n",
       "3 0        1       2010    WD        109000   \n",
       "4 0        4       2010    WD        174000   \n",
       "5 0        3       2010    WD        138500   \n",
       "6 0        6       2010    WD        190000   "
      ]
     },
     "metadata": {},
     "output_type": "display_data"
    }
   ],
   "source": [
    "# 1\n",
    "data = read.csv('../Data/ames_housing.csv')\n",
    "head(data)"
   ]
  },
  {
   "cell_type": "code",
   "execution_count": 4,
   "metadata": {
    "collapsed": true,
    "jupyter": {
     "outputs_hidden": true
    }
   },
   "outputs": [
    {
     "data": {
      "text/html": [
       "<table>\n",
       "<caption>A data.frame: 6 × 81</caption>\n",
       "<thead>\n",
       "\t<tr><th></th><th scope=col>Id</th><th scope=col>PID</th><th scope=col>MS.SubClass</th><th scope=col>MS.Zoning</th><th scope=col>Lot.Frontage</th><th scope=col>Lot.Area</th><th scope=col>Street</th><th scope=col>Alley</th><th scope=col>Lot.Shape</th><th scope=col>Land.Contour</th><th scope=col>...</th><th scope=col>Screen.Porch</th><th scope=col>Pool.Area</th><th scope=col>Pool.QC</th><th scope=col>Fence</th><th scope=col>Misc.Feature</th><th scope=col>Misc.Val</th><th scope=col>Mo.Sold</th><th scope=col>Yr.Sold</th><th scope=col>Sale.Type</th><th scope=col>SalePrice</th></tr>\n",
       "\t<tr><th></th><th scope=col>&lt;int&gt;</th><th scope=col>&lt;int&gt;</th><th scope=col>&lt;int&gt;</th><th scope=col>&lt;chr&gt;</th><th scope=col>&lt;dbl&gt;</th><th scope=col>&lt;int&gt;</th><th scope=col>&lt;chr&gt;</th><th scope=col>&lt;chr&gt;</th><th scope=col>&lt;chr&gt;</th><th scope=col>&lt;chr&gt;</th><th scope=col>...</th><th scope=col>&lt;int&gt;</th><th scope=col>&lt;int&gt;</th><th scope=col>&lt;chr&gt;</th><th scope=col>&lt;chr&gt;</th><th scope=col>&lt;chr&gt;</th><th scope=col>&lt;int&gt;</th><th scope=col>&lt;int&gt;</th><th scope=col>&lt;int&gt;</th><th scope=col>&lt;chr&gt;</th><th scope=col>&lt;int&gt;</th></tr>\n",
       "</thead>\n",
       "<tbody>\n",
       "\t<tr><th scope=row>2046</th><td>1051</td><td>528102030</td><td>20</td><td>RL</td><td>96</td><td>12444</td><td>Pave</td><td></td><td>Reg</td><td>Lvl</td><td>...</td><td>0</td><td>0</td><td></td><td></td><td></td><td>0</td><td>11</td><td>2008</td><td>New</td><td>394617</td></tr>\n",
       "\t<tr><th scope=row>2047</th><td>1587</td><td>921126030</td><td>20</td><td>RL</td><td>79</td><td>11449</td><td>Pave</td><td></td><td>IR1</td><td>HLS</td><td>...</td><td>0</td><td>0</td><td></td><td></td><td></td><td>0</td><td> 1</td><td>2008</td><td>WD </td><td>298751</td></tr>\n",
       "\t<tr><th scope=row>2048</th><td> 785</td><td>905377130</td><td>30</td><td>RL</td><td>NA</td><td>12342</td><td>Pave</td><td></td><td>IR1</td><td>Lvl</td><td>...</td><td>0</td><td>0</td><td></td><td></td><td></td><td>0</td><td> 3</td><td>2009</td><td>WD </td><td> 82500</td></tr>\n",
       "\t<tr><th scope=row>2049</th><td> 916</td><td>909253010</td><td>50</td><td>RL</td><td>57</td><td> 7558</td><td>Pave</td><td></td><td>Reg</td><td>Bnk</td><td>...</td><td>0</td><td>0</td><td></td><td></td><td></td><td>0</td><td> 3</td><td>2009</td><td>WD </td><td>177000</td></tr>\n",
       "\t<tr><th scope=row>2050</th><td> 639</td><td>535179160</td><td>20</td><td>RL</td><td>80</td><td>10400</td><td>Pave</td><td></td><td>Reg</td><td>Lvl</td><td>...</td><td>0</td><td>0</td><td></td><td></td><td></td><td>0</td><td>11</td><td>2009</td><td>WD </td><td>144000</td></tr>\n",
       "\t<tr><th scope=row>2051</th><td>  10</td><td>527162130</td><td>60</td><td>RL</td><td>60</td><td> 7500</td><td>Pave</td><td></td><td>Reg</td><td>Lvl</td><td>...</td><td>0</td><td>0</td><td></td><td></td><td></td><td>0</td><td> 6</td><td>2010</td><td>WD </td><td>189000</td></tr>\n",
       "</tbody>\n",
       "</table>\n"
      ],
      "text/latex": [
       "A data.frame: 6 × 81\n",
       "\\begin{tabular}{r|lllllllllllllllllllll}\n",
       "  & Id & PID & MS.SubClass & MS.Zoning & Lot.Frontage & Lot.Area & Street & Alley & Lot.Shape & Land.Contour & ... & Screen.Porch & Pool.Area & Pool.QC & Fence & Misc.Feature & Misc.Val & Mo.Sold & Yr.Sold & Sale.Type & SalePrice\\\\\n",
       "  & <int> & <int> & <int> & <chr> & <dbl> & <int> & <chr> & <chr> & <chr> & <chr> & ... & <int> & <int> & <chr> & <chr> & <chr> & <int> & <int> & <int> & <chr> & <int>\\\\\n",
       "\\hline\n",
       "\t2046 & 1051 & 528102030 & 20 & RL & 96 & 12444 & Pave &  & Reg & Lvl & ... & 0 & 0 &  &  &  & 0 & 11 & 2008 & New & 394617\\\\\n",
       "\t2047 & 1587 & 921126030 & 20 & RL & 79 & 11449 & Pave &  & IR1 & HLS & ... & 0 & 0 &  &  &  & 0 &  1 & 2008 & WD  & 298751\\\\\n",
       "\t2048 &  785 & 905377130 & 30 & RL & NA & 12342 & Pave &  & IR1 & Lvl & ... & 0 & 0 &  &  &  & 0 &  3 & 2009 & WD  &  82500\\\\\n",
       "\t2049 &  916 & 909253010 & 50 & RL & 57 &  7558 & Pave &  & Reg & Bnk & ... & 0 & 0 &  &  &  & 0 &  3 & 2009 & WD  & 177000\\\\\n",
       "\t2050 &  639 & 535179160 & 20 & RL & 80 & 10400 & Pave &  & Reg & Lvl & ... & 0 & 0 &  &  &  & 0 & 11 & 2009 & WD  & 144000\\\\\n",
       "\t2051 &   10 & 527162130 & 60 & RL & 60 &  7500 & Pave &  & Reg & Lvl & ... & 0 & 0 &  &  &  & 0 &  6 & 2010 & WD  & 189000\\\\\n",
       "\\end{tabular}\n"
      ],
      "text/markdown": [
       "\n",
       "A data.frame: 6 × 81\n",
       "\n",
       "| <!--/--> | Id &lt;int&gt; | PID &lt;int&gt; | MS.SubClass &lt;int&gt; | MS.Zoning &lt;chr&gt; | Lot.Frontage &lt;dbl&gt; | Lot.Area &lt;int&gt; | Street &lt;chr&gt; | Alley &lt;chr&gt; | Lot.Shape &lt;chr&gt; | Land.Contour &lt;chr&gt; | ... ... | Screen.Porch &lt;int&gt; | Pool.Area &lt;int&gt; | Pool.QC &lt;chr&gt; | Fence &lt;chr&gt; | Misc.Feature &lt;chr&gt; | Misc.Val &lt;int&gt; | Mo.Sold &lt;int&gt; | Yr.Sold &lt;int&gt; | Sale.Type &lt;chr&gt; | SalePrice &lt;int&gt; |\n",
       "|---|---|---|---|---|---|---|---|---|---|---|---|---|---|---|---|---|---|---|---|---|---|\n",
       "| 2046 | 1051 | 528102030 | 20 | RL | 96 | 12444 | Pave | <!----> | Reg | Lvl | ... | 0 | 0 | <!----> | <!----> | <!----> | 0 | 11 | 2008 | New | 394617 |\n",
       "| 2047 | 1587 | 921126030 | 20 | RL | 79 | 11449 | Pave | <!----> | IR1 | HLS | ... | 0 | 0 | <!----> | <!----> | <!----> | 0 |  1 | 2008 | WD  | 298751 |\n",
       "| 2048 |  785 | 905377130 | 30 | RL | NA | 12342 | Pave | <!----> | IR1 | Lvl | ... | 0 | 0 | <!----> | <!----> | <!----> | 0 |  3 | 2009 | WD  |  82500 |\n",
       "| 2049 |  916 | 909253010 | 50 | RL | 57 |  7558 | Pave | <!----> | Reg | Bnk | ... | 0 | 0 | <!----> | <!----> | <!----> | 0 |  3 | 2009 | WD  | 177000 |\n",
       "| 2050 |  639 | 535179160 | 20 | RL | 80 | 10400 | Pave | <!----> | Reg | Lvl | ... | 0 | 0 | <!----> | <!----> | <!----> | 0 | 11 | 2009 | WD  | 144000 |\n",
       "| 2051 |   10 | 527162130 | 60 | RL | 60 |  7500 | Pave | <!----> | Reg | Lvl | ... | 0 | 0 | <!----> | <!----> | <!----> | 0 |  6 | 2010 | WD  | 189000 |\n",
       "\n"
      ],
      "text/plain": [
       "     Id   PID       MS.SubClass MS.Zoning Lot.Frontage Lot.Area Street Alley\n",
       "2046 1051 528102030 20          RL        96           12444    Pave        \n",
       "2047 1587 921126030 20          RL        79           11449    Pave        \n",
       "2048  785 905377130 30          RL        NA           12342    Pave        \n",
       "2049  916 909253010 50          RL        57            7558    Pave        \n",
       "2050  639 535179160 20          RL        80           10400    Pave        \n",
       "2051   10 527162130 60          RL        60            7500    Pave        \n",
       "     Lot.Shape Land.Contour ... Screen.Porch Pool.Area Pool.QC Fence\n",
       "2046 Reg       Lvl          ... 0            0                      \n",
       "2047 IR1       HLS          ... 0            0                      \n",
       "2048 IR1       Lvl          ... 0            0                      \n",
       "2049 Reg       Bnk          ... 0            0                      \n",
       "2050 Reg       Lvl          ... 0            0                      \n",
       "2051 Reg       Lvl          ... 0            0                      \n",
       "     Misc.Feature Misc.Val Mo.Sold Yr.Sold Sale.Type SalePrice\n",
       "2046              0        11      2008    New       394617   \n",
       "2047              0         1      2008    WD        298751   \n",
       "2048              0         3      2009    WD         82500   \n",
       "2049              0         3      2009    WD        177000   \n",
       "2050              0        11      2009    WD        144000   \n",
       "2051              0         6      2010    WD        189000   "
      ]
     },
     "metadata": {},
     "output_type": "display_data"
    }
   ],
   "source": [
    "tail(data)"
   ]
  },
  {
   "cell_type": "code",
   "execution_count": 5,
   "metadata": {
    "collapsed": true,
    "jupyter": {
     "outputs_hidden": true
    }
   },
   "outputs": [
    {
     "name": "stdout",
     "output_type": "stream",
     "text": [
      "'data.frame':\t2051 obs. of  81 variables:\n",
      " $ Id             : int  109 544 153 318 255 138 2827 145 1942 1956 ...\n",
      " $ PID            : int  533352170 531379050 535304180 916386060 906425045 535126040 908186070 535154050 535353130 535426130 ...\n",
      " $ MS.SubClass    : int  60 60 20 60 50 20 180 20 20 60 ...\n",
      " $ MS.Zoning      : chr  \"RL\" \"RL\" \"RL\" \"RL\" ...\n",
      " $ Lot.Frontage   : num  NA 43 68 73 82 137 35 NA NA 70 ...\n",
      " $ Lot.Area       : int  13517 11492 7922 9802 14235 16492 3675 12160 15783 11606 ...\n",
      " $ Street         : chr  \"Pave\" \"Pave\" \"Pave\" \"Pave\" ...\n",
      " $ Alley          : chr  \"\" \"\" \"\" \"\" ...\n",
      " $ Lot.Shape      : chr  \"IR1\" \"IR1\" \"Reg\" \"Reg\" ...\n",
      " $ Land.Contour   : chr  \"Lvl\" \"Lvl\" \"Lvl\" \"Lvl\" ...\n",
      " $ Utilities      : chr  \"AllPub\" \"AllPub\" \"AllPub\" \"AllPub\" ...\n",
      " $ Lot.Config     : chr  \"CulDSac\" \"CulDSac\" \"Inside\" \"Inside\" ...\n",
      " $ Land.Slope     : chr  \"Gtl\" \"Gtl\" \"Gtl\" \"Gtl\" ...\n",
      " $ Neighborhood   : chr  \"Sawyer\" \"SawyerW\" \"NAmes\" \"Timber\" ...\n",
      " $ Condition.1    : chr  \"RRAe\" \"Norm\" \"Norm\" \"Norm\" ...\n",
      " $ Condition.2    : chr  \"Norm\" \"Norm\" \"Norm\" \"Norm\" ...\n",
      " $ Bldg.Type      : chr  \"1Fam\" \"1Fam\" \"1Fam\" \"1Fam\" ...\n",
      " $ House.Style    : chr  \"2Story\" \"2Story\" \"1Story\" \"2Story\" ...\n",
      " $ Overall.Qual   : int  6 7 5 5 6 6 6 5 5 5 ...\n",
      " $ Overall.Cond   : int  8 5 7 5 8 6 5 5 5 5 ...\n",
      " $ Year.Built     : int  1976 1996 1953 2006 1900 1966 2005 1959 1952 1969 ...\n",
      " $ Year.Remod.Add : int  2005 1997 2007 2007 1993 2002 2006 1959 1952 1969 ...\n",
      " $ Roof.Style     : chr  \"Gable\" \"Gable\" \"Gable\" \"Gable\" ...\n",
      " $ Roof.Matl      : chr  \"CompShg\" \"CompShg\" \"CompShg\" \"CompShg\" ...\n",
      " $ Exterior.1st   : chr  \"HdBoard\" \"VinylSd\" \"VinylSd\" \"VinylSd\" ...\n",
      " $ Exterior.2nd   : chr  \"Plywood\" \"VinylSd\" \"VinylSd\" \"VinylSd\" ...\n",
      " $ Mas.Vnr.Type   : chr  \"BrkFace\" \"BrkFace\" \"None\" \"None\" ...\n",
      " $ Mas.Vnr.Area   : num  289 132 0 0 0 0 82 180 0 192 ...\n",
      " $ Exter.Qual     : chr  \"Gd\" \"Gd\" \"TA\" \"TA\" ...\n",
      " $ Exter.Cond     : chr  \"TA\" \"TA\" \"Gd\" \"TA\" ...\n",
      " $ Foundation     : chr  \"CBlock\" \"PConc\" \"CBlock\" \"PConc\" ...\n",
      " $ Bsmt.Qual      : chr  \"TA\" \"Gd\" \"TA\" \"Gd\" ...\n",
      " $ Bsmt.Cond      : chr  \"TA\" \"TA\" \"TA\" \"TA\" ...\n",
      " $ Bsmt.Exposure  : chr  \"No\" \"No\" \"No\" \"No\" ...\n",
      " $ BsmtFin.Type.1 : chr  \"GLQ\" \"GLQ\" \"GLQ\" \"Unf\" ...\n",
      " $ BsmtFin.SF.1   : num  533 637 731 0 0 247 547 1000 292 650 ...\n",
      " $ BsmtFin.Type.2 : chr  \"Unf\" \"Unf\" \"Unf\" \"Unf\" ...\n",
      " $ BsmtFin.SF.2   : num  0 0 0 0 0 713 0 0 0 0 ...\n",
      " $ Bsmt.Unf.SF    : num  192 276 326 384 676 557 0 188 632 390 ...\n",
      " $ Total.Bsmt.SF  : num  725 913 1057 384 676 ...\n",
      " $ Heating        : chr  \"GasA\" \"GasA\" \"GasA\" \"GasA\" ...\n",
      " $ Heating.QC     : chr  \"Ex\" \"Ex\" \"TA\" \"Gd\" ...\n",
      " $ Central.Air    : chr  \"Y\" \"Y\" \"Y\" \"Y\" ...\n",
      " $ Electrical     : chr  \"SBrkr\" \"SBrkr\" \"SBrkr\" \"SBrkr\" ...\n",
      " $ X1st.Flr.SF    : int  725 913 1057 744 831 1888 1072 1188 924 1040 ...\n",
      " $ X2nd.Flr.SF    : int  754 1209 0 700 614 0 0 0 0 1040 ...\n",
      " $ Low.Qual.Fin.SF: int  0 0 0 0 0 0 0 0 0 0 ...\n",
      " $ Gr.Liv.Area    : int  1479 2122 1057 1444 1445 1888 1072 1188 924 2080 ...\n",
      " $ Bsmt.Full.Bath : num  0 1 1 0 0 0 1 1 0 0 ...\n",
      " $ Bsmt.Half.Bath : num  0 0 0 0 0 0 0 0 0 1 ...\n",
      " $ Full.Bath      : int  2 2 1 2 2 2 2 1 1 1 ...\n",
      " $ Half.Bath      : int  1 1 0 1 0 1 0 0 0 2 ...\n",
      " $ Bedroom.AbvGr  : int  3 4 3 3 3 2 2 3 2 5 ...\n",
      " $ Kitchen.AbvGr  : int  1 1 1 1 1 1 1 1 1 1 ...\n",
      " $ Kitchen.Qual   : chr  \"Gd\" \"Gd\" \"Gd\" \"TA\" ...\n",
      " $ TotRms.AbvGrd  : int  6 8 5 7 6 6 5 6 6 9 ...\n",
      " $ Functional     : chr  \"Typ\" \"Typ\" \"Typ\" \"Typ\" ...\n",
      " $ Fireplaces     : int  0 1 0 0 0 1 0 0 0 2 ...\n",
      " $ Fireplace.Qu   : chr  \"\" \"TA\" \"\" \"\" ...\n",
      " $ Garage.Type    : chr  \"Attchd\" \"Attchd\" \"Detchd\" \"BuiltIn\" ...\n",
      " $ Garage.Yr.Blt  : num  1976 1997 1953 2007 1957 ...\n",
      " $ Garage.Finish  : chr  \"RFn\" \"RFn\" \"Unf\" \"Fin\" ...\n",
      " $ Garage.Cars    : num  2 2 1 2 2 2 2 2 1 2 ...\n",
      " $ Garage.Area    : num  475 559 246 400 484 578 525 531 420 504 ...\n",
      " $ Garage.Qual    : chr  \"TA\" \"TA\" \"TA\" \"TA\" ...\n",
      " $ Garage.Cond    : chr  \"TA\" \"TA\" \"TA\" \"TA\" ...\n",
      " $ Paved.Drive    : chr  \"Y\" \"Y\" \"Y\" \"Y\" ...\n",
      " $ Wood.Deck.SF   : int  0 0 0 100 0 0 0 0 0 335 ...\n",
      " $ Open.Porch.SF  : int  44 74 52 0 59 0 44 0 324 0 ...\n",
      " $ Enclosed.Porch : int  0 0 0 0 0 0 0 0 0 0 ...\n",
      " $ X3Ssn.Porch    : int  0 0 0 0 0 0 0 0 0 0 ...\n",
      " $ Screen.Porch   : int  0 0 0 0 0 0 0 0 0 0 ...\n",
      " $ Pool.Area      : int  0 0 0 0 0 0 0 0 0 0 ...\n",
      " $ Pool.QC        : chr  \"\" \"\" \"\" \"\" ...\n",
      " $ Fence          : chr  \"\" \"\" \"\" \"\" ...\n",
      " $ Misc.Feature   : chr  \"\" \"\" \"\" \"\" ...\n",
      " $ Misc.Val       : int  0 0 0 0 0 0 0 0 400 0 ...\n",
      " $ Mo.Sold        : int  3 4 1 4 3 6 6 5 6 9 ...\n",
      " $ Yr.Sold        : int  2010 2009 2010 2010 2010 2010 2006 2010 2007 2007 ...\n",
      " $ Sale.Type      : chr  \"WD \" \"WD \" \"WD \" \"WD \" ...\n",
      " $ SalePrice      : int  130500 220000 109000 174000 138500 190000 140000 142000 112500 135000 ...\n"
     ]
    }
   ],
   "source": [
    "str(data)"
   ]
  },
  {
   "cell_type": "code",
   "execution_count": 6,
   "metadata": {
    "collapsed": true,
    "jupyter": {
     "outputs_hidden": true
    }
   },
   "outputs": [
    {
     "data": {
      "text/plain": [
       "       Id              PID             MS.SubClass      MS.Zoning        \n",
       " Min.   :   1.0   Min.   :526301100   Min.   : 20.00   Length:2051       \n",
       " 1st Qu.: 753.5   1st Qu.:528458140   1st Qu.: 20.00   Class :character  \n",
       " Median :1486.0   Median :535453200   Median : 50.00   Mode  :character  \n",
       " Mean   :1474.0   Mean   :713590006   Mean   : 57.01                     \n",
       " 3rd Qu.:2198.0   3rd Qu.:907180080   3rd Qu.: 70.00                     \n",
       " Max.   :2930.0   Max.   :924152030   Max.   :190.00                     \n",
       "                                                                         \n",
       "  Lot.Frontage       Lot.Area         Street             Alley          \n",
       " Min.   : 21.00   Min.   :  1300   Length:2051        Length:2051       \n",
       " 1st Qu.: 58.00   1st Qu.:  7500   Class :character   Class :character  \n",
       " Median : 68.00   Median :  9430   Mode  :character   Mode  :character  \n",
       " Mean   : 69.06   Mean   : 10065                                        \n",
       " 3rd Qu.: 80.00   3rd Qu.: 11514                                        \n",
       " Max.   :313.00   Max.   :159000                                        \n",
       " NA's   :330                                                            \n",
       "  Lot.Shape         Land.Contour        Utilities          Lot.Config       \n",
       " Length:2051        Length:2051        Length:2051        Length:2051       \n",
       " Class :character   Class :character   Class :character   Class :character  \n",
       " Mode  :character   Mode  :character   Mode  :character   Mode  :character  \n",
       "                                                                            \n",
       "                                                                            \n",
       "                                                                            \n",
       "                                                                            \n",
       "  Land.Slope        Neighborhood       Condition.1        Condition.2       \n",
       " Length:2051        Length:2051        Length:2051        Length:2051       \n",
       " Class :character   Class :character   Class :character   Class :character  \n",
       " Mode  :character   Mode  :character   Mode  :character   Mode  :character  \n",
       "                                                                            \n",
       "                                                                            \n",
       "                                                                            \n",
       "                                                                            \n",
       "  Bldg.Type         House.Style         Overall.Qual     Overall.Cond  \n",
       " Length:2051        Length:2051        Min.   : 1.000   Min.   :1.000  \n",
       " Class :character   Class :character   1st Qu.: 5.000   1st Qu.:5.000  \n",
       " Mode  :character   Mode  :character   Median : 6.000   Median :5.000  \n",
       "                                       Mean   : 6.112   Mean   :5.562  \n",
       "                                       3rd Qu.: 7.000   3rd Qu.:6.000  \n",
       "                                       Max.   :10.000   Max.   :9.000  \n",
       "                                                                       \n",
       "   Year.Built   Year.Remod.Add  Roof.Style         Roof.Matl        \n",
       " Min.   :1872   Min.   :1950   Length:2051        Length:2051       \n",
       " 1st Qu.:1954   1st Qu.:1964   Class :character   Class :character  \n",
       " Median :1974   Median :1993   Mode  :character   Mode  :character  \n",
       " Mean   :1972   Mean   :1984                                        \n",
       " 3rd Qu.:2001   3rd Qu.:2004                                        \n",
       " Max.   :2010   Max.   :2010                                        \n",
       "                                                                    \n",
       " Exterior.1st       Exterior.2nd       Mas.Vnr.Type        Mas.Vnr.Area   \n",
       " Length:2051        Length:2051        Length:2051        Min.   :   0.0  \n",
       " Class :character   Class :character   Class :character   1st Qu.:   0.0  \n",
       " Mode  :character   Mode  :character   Mode  :character   Median :   0.0  \n",
       "                                                          Mean   :  99.7  \n",
       "                                                          3rd Qu.: 161.0  \n",
       "                                                          Max.   :1600.0  \n",
       "                                                          NA's   :22      \n",
       "  Exter.Qual         Exter.Cond         Foundation         Bsmt.Qual        \n",
       " Length:2051        Length:2051        Length:2051        Length:2051       \n",
       " Class :character   Class :character   Class :character   Class :character  \n",
       " Mode  :character   Mode  :character   Mode  :character   Mode  :character  \n",
       "                                                                            \n",
       "                                                                            \n",
       "                                                                            \n",
       "                                                                            \n",
       "  Bsmt.Cond         Bsmt.Exposure      BsmtFin.Type.1      BsmtFin.SF.1   \n",
       " Length:2051        Length:2051        Length:2051        Min.   :   0.0  \n",
       " Class :character   Class :character   Class :character   1st Qu.:   0.0  \n",
       " Mode  :character   Mode  :character   Mode  :character   Median : 368.0  \n",
       "                                                          Mean   : 442.3  \n",
       "                                                          3rd Qu.: 733.8  \n",
       "                                                          Max.   :5644.0  \n",
       "                                                          NA's   :1       \n",
       " BsmtFin.Type.2      BsmtFin.SF.2      Bsmt.Unf.SF     Total.Bsmt.SF   \n",
       " Length:2051        Min.   :   0.00   Min.   :   0.0   Min.   :   0.0  \n",
       " Class :character   1st Qu.:   0.00   1st Qu.: 220.0   1st Qu.: 793.0  \n",
       " Mode  :character   Median :   0.00   Median : 474.5   Median : 994.5  \n",
       "                    Mean   :  47.96   Mean   : 567.7   Mean   :1058.0  \n",
       "                    3rd Qu.:   0.00   3rd Qu.: 811.0   3rd Qu.:1318.8  \n",
       "                    Max.   :1474.00   Max.   :2336.0   Max.   :6110.0  \n",
       "                    NA's   :1         NA's   :1        NA's   :1       \n",
       "   Heating           Heating.QC        Central.Air         Electrical       \n",
       " Length:2051        Length:2051        Length:2051        Length:2051       \n",
       " Class :character   Class :character   Class :character   Class :character  \n",
       " Mode  :character   Mode  :character   Mode  :character   Mode  :character  \n",
       "                                                                            \n",
       "                                                                            \n",
       "                                                                            \n",
       "                                                                            \n",
       "  X1st.Flr.SF      X2nd.Flr.SF     Low.Qual.Fin.SF     Gr.Liv.Area  \n",
       " Min.   : 334.0   Min.   :   0.0   Min.   :   0.000   Min.   : 334  \n",
       " 1st Qu.: 879.5   1st Qu.:   0.0   1st Qu.:   0.000   1st Qu.:1129  \n",
       " Median :1093.0   Median :   0.0   Median :   0.000   Median :1444  \n",
       " Mean   :1164.5   Mean   : 329.3   Mean   :   5.513   Mean   :1499  \n",
       " 3rd Qu.:1405.0   3rd Qu.: 692.5   3rd Qu.:   0.000   3rd Qu.:1728  \n",
       " Max.   :5095.0   Max.   :1862.0   Max.   :1064.000   Max.   :5642  \n",
       "                                                                    \n",
       " Bsmt.Full.Bath   Bsmt.Half.Bath      Full.Bath       Half.Bath    \n",
       " Min.   :0.0000   Min.   :0.00000   Min.   :0.000   Min.   :0.000  \n",
       " 1st Qu.:0.0000   1st Qu.:0.00000   1st Qu.:1.000   1st Qu.:0.000  \n",
       " Median :0.0000   Median :0.00000   Median :2.000   Median :0.000  \n",
       " Mean   :0.4275   Mean   :0.06345   Mean   :1.577   Mean   :0.371  \n",
       " 3rd Qu.:1.0000   3rd Qu.:0.00000   3rd Qu.:2.000   3rd Qu.:1.000  \n",
       " Max.   :3.0000   Max.   :2.00000   Max.   :4.000   Max.   :2.000  \n",
       " NA's   :2        NA's   :2                                        \n",
       " Bedroom.AbvGr   Kitchen.AbvGr   Kitchen.Qual       TotRms.AbvGrd   \n",
       " Min.   :0.000   Min.   :0.000   Length:2051        Min.   : 2.000  \n",
       " 1st Qu.:2.000   1st Qu.:1.000   Class :character   1st Qu.: 5.000  \n",
       " Median :3.000   Median :1.000   Mode  :character   Median : 6.000  \n",
       " Mean   :2.843   Mean   :1.043                      Mean   : 6.436  \n",
       " 3rd Qu.:3.000   3rd Qu.:1.000                      3rd Qu.: 7.000  \n",
       " Max.   :8.000   Max.   :3.000                      Max.   :15.000  \n",
       "                                                                    \n",
       "  Functional          Fireplaces     Fireplace.Qu       Garage.Type       \n",
       " Length:2051        Min.   :0.0000   Length:2051        Length:2051       \n",
       " Class :character   1st Qu.:0.0000   Class :character   Class :character  \n",
       " Mode  :character   Median :1.0000   Mode  :character   Mode  :character  \n",
       "                    Mean   :0.5909                                        \n",
       "                    3rd Qu.:1.0000                                        \n",
       "                    Max.   :4.0000                                        \n",
       "                                                                          \n",
       " Garage.Yr.Blt  Garage.Finish       Garage.Cars     Garage.Area    \n",
       " Min.   :1895   Length:2051        Min.   :0.000   Min.   :   0.0  \n",
       " 1st Qu.:1961   Class :character   1st Qu.:1.000   1st Qu.: 319.0  \n",
       " Median :1980   Mode  :character   Median :2.000   Median : 480.0  \n",
       " Mean   :1979                      Mean   :1.777   Mean   : 473.7  \n",
       " 3rd Qu.:2002                      3rd Qu.:2.000   3rd Qu.: 576.0  \n",
       " Max.   :2207                      Max.   :5.000   Max.   :1418.0  \n",
       " NA's   :114                       NA's   :1       NA's   :1       \n",
       " Garage.Qual        Garage.Cond        Paved.Drive         Wood.Deck.SF    \n",
       " Length:2051        Length:2051        Length:2051        Min.   :   0.00  \n",
       " Class :character   Class :character   Class :character   1st Qu.:   0.00  \n",
       " Mode  :character   Mode  :character   Mode  :character   Median :   0.00  \n",
       "                                                          Mean   :  93.83  \n",
       "                                                          3rd Qu.: 168.00  \n",
       "                                                          Max.   :1424.00  \n",
       "                                                                           \n",
       " Open.Porch.SF    Enclosed.Porch    X3Ssn.Porch       Screen.Porch   \n",
       " Min.   :  0.00   Min.   :  0.00   Min.   :  0.000   Min.   :  0.00  \n",
       " 1st Qu.:  0.00   1st Qu.:  0.00   1st Qu.:  0.000   1st Qu.:  0.00  \n",
       " Median : 27.00   Median :  0.00   Median :  0.000   Median :  0.00  \n",
       " Mean   : 47.56   Mean   : 22.57   Mean   :  2.591   Mean   : 16.51  \n",
       " 3rd Qu.: 70.00   3rd Qu.:  0.00   3rd Qu.:  0.000   3rd Qu.:  0.00  \n",
       " Max.   :547.00   Max.   :432.00   Max.   :508.000   Max.   :490.00  \n",
       "                                                                     \n",
       "   Pool.Area         Pool.QC             Fence           Misc.Feature      \n",
       " Min.   :  0.000   Length:2051        Length:2051        Length:2051       \n",
       " 1st Qu.:  0.000   Class :character   Class :character   Class :character  \n",
       " Median :  0.000   Mode  :character   Mode  :character   Mode  :character  \n",
       " Mean   :  2.398                                                           \n",
       " 3rd Qu.:  0.000                                                           \n",
       " Max.   :800.000                                                           \n",
       "                                                                           \n",
       "    Misc.Val           Mo.Sold         Yr.Sold      Sale.Type        \n",
       " Min.   :    0.00   Min.   : 1.00   Min.   :2006   Length:2051       \n",
       " 1st Qu.:    0.00   1st Qu.: 4.00   1st Qu.:2007   Class :character  \n",
       " Median :    0.00   Median : 6.00   Median :2008   Mode  :character  \n",
       " Mean   :   51.57   Mean   : 6.22   Mean   :2008                     \n",
       " 3rd Qu.:    0.00   3rd Qu.: 8.00   3rd Qu.:2009                     \n",
       " Max.   :17000.00   Max.   :12.00   Max.   :2010                     \n",
       "                                                                     \n",
       "   SalePrice     \n",
       " Min.   : 12789  \n",
       " 1st Qu.:129825  \n",
       " Median :162500  \n",
       " Mean   :181470  \n",
       " 3rd Qu.:214000  \n",
       " Max.   :611657  \n",
       "                 "
      ]
     },
     "metadata": {},
     "output_type": "display_data"
    }
   ],
   "source": [
    "summary(data)"
   ]
  },
  {
   "cell_type": "code",
   "execution_count": 7,
   "metadata": {},
   "outputs": [
    {
     "name": "stdout",
     "output_type": "stream",
     "text": [
      "[1] \"Nrows: 2051 , Ncols:  81\"\n"
     ]
    }
   ],
   "source": [
    "# 2\n",
    "print(paste(\"Nrows:\", nrow(data), \", Ncols: \", ncol(data)))"
   ]
  },
  {
   "cell_type": "code",
   "execution_count": 12,
   "metadata": {},
   "outputs": [
    {
     "name": "stdout",
     "output_type": "stream",
     "text": [
      "[1] \"Levels:  , 2Types, Attchd, Basment, BuiltIn, CarPort, Detchd\"\n",
      "[1] \"Num of Levels:  7\"\n"
     ]
    }
   ],
   "source": [
    "# 3\n",
    "garage_type = data$Garage.Type\n",
    "garage_type_factor = factor(garage_type)\n",
    "print(paste(\"Levels: \", toString(levels(garage_type_factor))))\n",
    "print(paste(\"Num of Levels: \", toString(nlevels(garage_type_factor))))"
   ]
  },
  {
   "cell_type": "code",
   "execution_count": 13,
   "metadata": {},
   "outputs": [],
   "source": [
    "# 4\n",
    "drop_cols = c('Garage.Qual', 'Garage.Cond', 'Pool.QC', 'Fence', 'Misc.Feature')\n",
    "data = data[ , !(names(data) %in% drop_cols)]"
   ]
  },
  {
   "cell_type": "code",
   "execution_count": 18,
   "metadata": {},
   "outputs": [
    {
     "name": "stderr",
     "output_type": "stream",
     "text": [
      "`summarise()` regrouping output by 'Electrical' (override with `.groups` argument)\n",
      "\n"
     ]
    },
    {
     "data": {
      "text/html": [
       "<table>\n",
       "<caption>A grouped_df: 13 × 5</caption>\n",
       "<thead>\n",
       "\t<tr><th scope=col>Electrical</th><th scope=col>Heating</th><th scope=col>count</th><th scope=col>max.Gr.Liv.Area</th><th scope=col>min.Gr.Liv.Area</th></tr>\n",
       "\t<tr><th scope=col>&lt;chr&gt;</th><th scope=col>&lt;chr&gt;</th><th scope=col>&lt;int&gt;</th><th scope=col>&lt;int&gt;</th><th scope=col>&lt;int&gt;</th></tr>\n",
       "</thead>\n",
       "<tbody>\n",
       "\t<tr><td>FuseA</td><td>GasA</td><td> 133</td><td>3395</td><td> 480</td></tr>\n",
       "\t<tr><td>FuseA</td><td>GasW</td><td>   2</td><td>2624</td><td>1524</td></tr>\n",
       "\t<tr><td>FuseA</td><td>Grav</td><td>   2</td><td> 924</td><td> 693</td></tr>\n",
       "\t<tr><td>FuseA</td><td>Wall</td><td>   3</td><td>1040</td><td> 733</td></tr>\n",
       "\t<tr><td>FuseF</td><td>GasA</td><td>  30</td><td>1818</td><td> 334</td></tr>\n",
       "\t<tr><td>FuseF</td><td>Grav</td><td>   2</td><td>2256</td><td>1096</td></tr>\n",
       "\t<tr><td>FuseF</td><td>Wall</td><td>   3</td><td>1529</td><td>1040</td></tr>\n",
       "\t<tr><td>FuseP</td><td>GasA</td><td>   7</td><td>2350</td><td> 572</td></tr>\n",
       "\t<tr><td>Mix  </td><td>GasA</td><td>   1</td><td>1077</td><td>1077</td></tr>\n",
       "\t<tr><td>SBrkr</td><td>GasA</td><td>1847</td><td>5642</td><td> 492</td></tr>\n",
       "\t<tr><td>SBrkr</td><td>GasW</td><td>  18</td><td>2792</td><td> 950</td></tr>\n",
       "\t<tr><td>SBrkr</td><td>Grav</td><td>   1</td><td> 968</td><td> 968</td></tr>\n",
       "\t<tr><td>SBrkr</td><td>OthW</td><td>   2</td><td>2358</td><td>2058</td></tr>\n",
       "</tbody>\n",
       "</table>\n"
      ],
      "text/latex": [
       "A grouped\\_df: 13 × 5\n",
       "\\begin{tabular}{lllll}\n",
       " Electrical & Heating & count & max.Gr.Liv.Area & min.Gr.Liv.Area\\\\\n",
       " <chr> & <chr> & <int> & <int> & <int>\\\\\n",
       "\\hline\n",
       "\t FuseA & GasA &  133 & 3395 &  480\\\\\n",
       "\t FuseA & GasW &    2 & 2624 & 1524\\\\\n",
       "\t FuseA & Grav &    2 &  924 &  693\\\\\n",
       "\t FuseA & Wall &    3 & 1040 &  733\\\\\n",
       "\t FuseF & GasA &   30 & 1818 &  334\\\\\n",
       "\t FuseF & Grav &    2 & 2256 & 1096\\\\\n",
       "\t FuseF & Wall &    3 & 1529 & 1040\\\\\n",
       "\t FuseP & GasA &    7 & 2350 &  572\\\\\n",
       "\t Mix   & GasA &    1 & 1077 & 1077\\\\\n",
       "\t SBrkr & GasA & 1847 & 5642 &  492\\\\\n",
       "\t SBrkr & GasW &   18 & 2792 &  950\\\\\n",
       "\t SBrkr & Grav &    1 &  968 &  968\\\\\n",
       "\t SBrkr & OthW &    2 & 2358 & 2058\\\\\n",
       "\\end{tabular}\n"
      ],
      "text/markdown": [
       "\n",
       "A grouped_df: 13 × 5\n",
       "\n",
       "| Electrical &lt;chr&gt; | Heating &lt;chr&gt; | count &lt;int&gt; | max.Gr.Liv.Area &lt;int&gt; | min.Gr.Liv.Area &lt;int&gt; |\n",
       "|---|---|---|---|---|\n",
       "| FuseA | GasA |  133 | 3395 |  480 |\n",
       "| FuseA | GasW |    2 | 2624 | 1524 |\n",
       "| FuseA | Grav |    2 |  924 |  693 |\n",
       "| FuseA | Wall |    3 | 1040 |  733 |\n",
       "| FuseF | GasA |   30 | 1818 |  334 |\n",
       "| FuseF | Grav |    2 | 2256 | 1096 |\n",
       "| FuseF | Wall |    3 | 1529 | 1040 |\n",
       "| FuseP | GasA |    7 | 2350 |  572 |\n",
       "| Mix   | GasA |    1 | 1077 | 1077 |\n",
       "| SBrkr | GasA | 1847 | 5642 |  492 |\n",
       "| SBrkr | GasW |   18 | 2792 |  950 |\n",
       "| SBrkr | Grav |    1 |  968 |  968 |\n",
       "| SBrkr | OthW |    2 | 2358 | 2058 |\n",
       "\n"
      ],
      "text/plain": [
       "   Electrical Heating count max.Gr.Liv.Area min.Gr.Liv.Area\n",
       "1  FuseA      GasA     133  3395             480           \n",
       "2  FuseA      GasW       2  2624            1524           \n",
       "3  FuseA      Grav       2   924             693           \n",
       "4  FuseA      Wall       3  1040             733           \n",
       "5  FuseF      GasA      30  1818             334           \n",
       "6  FuseF      Grav       2  2256            1096           \n",
       "7  FuseF      Wall       3  1529            1040           \n",
       "8  FuseP      GasA       7  2350             572           \n",
       "9  Mix        GasA       1  1077            1077           \n",
       "10 SBrkr      GasA    1847  5642             492           \n",
       "11 SBrkr      GasW      18  2792             950           \n",
       "12 SBrkr      Grav       1   968             968           \n",
       "13 SBrkr      OthW       2  2358            2058           "
      ]
     },
     "metadata": {},
     "output_type": "display_data"
    }
   ],
   "source": [
    "# 5\n",
    "group = group_by(data, Electrical, Heating)\n",
    "summary = summarize(group, count = n(),\n",
    "                    max.Gr.Liv.Area = max(Gr.Liv.Area, na.rm = T),\n",
    "                    min.Gr.Liv.Area = min(Gr.Liv.Area, na.rm = T))\n",
    "summary"
   ]
  },
  {
   "cell_type": "code",
   "execution_count": 19,
   "metadata": {},
   "outputs": [
    {
     "data": {
      "image/png": "[encoded data removed]",
      "text/plain": [
       "Plot with title \"SalePrice vs X1st.Flr.SF.\""
      ]
     },
     "metadata": {
      "image/png": {
       "height": 420,
       "width": 420
      }
     },
     "output_type": "display_data"
    }
   ],
   "source": [
    "# 6\n",
    "plot(x = data$SalePrice, y = data$X1st.Flr.SF., xlab = \"SalePrice\", ylab = \"X1st.Flr.SF.\", main = \"SalePrice vs X1st.Flr.SF.\")"
   ]
  },
  {
   "cell_type": "code",
   "execution_count": null,
   "metadata": {},
   "outputs": [],
   "source": []
  }
 ],
 "metadata": {
  "colab": {
   "collapsed_sections": [],
   "name": "bai_on_tap_b5_HV.ipynb",
   "provenance": []
  },
  "kernelspec": {
   "display_name": "R",
   "language": "R",
   "name": "ir"
  },
  "language_info": {
   "codemirror_mode": "r",
   "file_extension": ".r",
   "mimetype": "text/x-r-source",
   "name": "R",
   "pygments_lexer": "r",
   "version": "4.0.3"
  }
 },
 "nbformat": 4,
 "nbformat_minor": 4
}
