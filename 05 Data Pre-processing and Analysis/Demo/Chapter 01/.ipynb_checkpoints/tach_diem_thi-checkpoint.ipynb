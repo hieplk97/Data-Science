{
 "cells": [
  {
   "cell_type": "code",
   "execution_count": 18,
   "metadata": {},
   "outputs": [],
   "source": [
    "#Bước 1: Import thư viện cần thiết\n",
    "import numpy as np\n",
    "import pandas as pd\n",
    "import re"
   ]
  },
  {
   "cell_type": "code",
   "execution_count": 2,
   "metadata": {},
   "outputs": [],
   "source": [
    "#Bước 2: Đọc dữ liệu\n",
    "df = pd.read_excel('Diemthi_thpt_quocgia_2016.xlsx')"
   ]
  },
  {
   "cell_type": "code",
   "execution_count": 3,
   "metadata": {},
   "outputs": [
    {
     "data": {
      "text/plain": [
       "(34826, 6)"
      ]
     },
     "execution_count": 3,
     "metadata": {},
     "output_type": "execute_result"
    }
   ],
   "source": [
    "#Bước 3: Xem các thông tin cơ bản\n",
    "df.shape"
   ]
  },
  {
   "cell_type": "code",
   "execution_count": 4,
   "metadata": {},
   "outputs": [
    {
     "name": "stdout",
     "output_type": "stream",
     "text": [
      "<class 'pandas.core.frame.DataFrame'>\n",
      "RangeIndex: 34826 entries, 0 to 34825\n",
      "Data columns (total 6 columns):\n",
      "SOBAODANH     34826 non-null object\n",
      "HO_TEN        34826 non-null object\n",
      "NGAY_SINH     34826 non-null object\n",
      "TEN_CUMTHI    34826 non-null object\n",
      "GIOI_TINH     34826 non-null object\n",
      "DIEM_THI      34826 non-null object\n",
      "dtypes: object(6)\n",
      "memory usage: 1.6+ MB\n"
     ]
    }
   ],
   "source": [
    "df.info()"
   ]
  },
  {
   "cell_type": "code",
   "execution_count": 5,
   "metadata": {},
   "outputs": [
    {
     "data": {
      "text/html": [
       "<div>\n",
       "<style scoped>\n",
       "    .dataframe tbody tr th:only-of-type {\n",
       "        vertical-align: middle;\n",
       "    }\n",
       "\n",
       "    .dataframe tbody tr th {\n",
       "        vertical-align: top;\n",
       "    }\n",
       "\n",
       "    .dataframe thead th {\n",
       "        text-align: right;\n",
       "    }\n",
       "</style>\n",
       "<table border=\"1\" class=\"dataframe\">\n",
       "  <thead>\n",
       "    <tr style=\"text-align: right;\">\n",
       "      <th></th>\n",
       "      <th>SOBAODANH</th>\n",
       "      <th>HO_TEN</th>\n",
       "      <th>NGAY_SINH</th>\n",
       "      <th>TEN_CUMTHI</th>\n",
       "      <th>GIOI_TINH</th>\n",
       "      <th>DIEM_THI</th>\n",
       "    </tr>\n",
       "  </thead>\n",
       "  <tbody>\n",
       "    <tr>\n",
       "      <th>0</th>\n",
       "      <td>018000001</td>\n",
       "      <td>DƯƠNG VIỆT AN</td>\n",
       "      <td>12/03/1998</td>\n",
       "      <td>Sở GDĐT Bắc Giang</td>\n",
       "      <td>Nam</td>\n",
       "      <td>Toán:   2.00   Ngữ văn:   5.50   Lịch sử:   3....</td>\n",
       "    </tr>\n",
       "    <tr>\n",
       "      <th>1</th>\n",
       "      <td>018000002</td>\n",
       "      <td>ĐỖ VĂN AN</td>\n",
       "      <td>09/12/1998</td>\n",
       "      <td>Sở GDĐT Bắc Giang</td>\n",
       "      <td>Nam</td>\n",
       "      <td>Toán:   5.50   Ngữ văn:   5.25   Địa lí:   5.5...</td>\n",
       "    </tr>\n",
       "    <tr>\n",
       "      <th>2</th>\n",
       "      <td>018000003</td>\n",
       "      <td>ĐỖ XUÂN AN</td>\n",
       "      <td>12/08/1997</td>\n",
       "      <td>Sở GDĐT Bắc Giang</td>\n",
       "      <td>Nam</td>\n",
       "      <td>Toán:   4.50   Ngữ văn:   5.50   Địa lí:   3.7...</td>\n",
       "    </tr>\n",
       "    <tr>\n",
       "      <th>3</th>\n",
       "      <td>018000004</td>\n",
       "      <td>ĐẶNG PHÚC AN</td>\n",
       "      <td>19/03/1998</td>\n",
       "      <td>Sở GDĐT Bắc Giang</td>\n",
       "      <td>Nữ</td>\n",
       "      <td>Toán:   3.00   Ngữ văn:   6.00   Địa lí:   5.5...</td>\n",
       "    </tr>\n",
       "    <tr>\n",
       "      <th>4</th>\n",
       "      <td>018000005</td>\n",
       "      <td>ĐẶNG VĂN AN</td>\n",
       "      <td>25/10/1998</td>\n",
       "      <td>Sở GDĐT Bắc Giang</td>\n",
       "      <td>Nam</td>\n",
       "      <td>Toán:   2.25   Ngữ văn:   4.75   Địa lí:   5.2...</td>\n",
       "    </tr>\n",
       "  </tbody>\n",
       "</table>\n",
       "</div>"
      ],
      "text/plain": [
       "   SOBAODANH         HO_TEN   NGAY_SINH         TEN_CUMTHI GIOI_TINH  \\\n",
       "0  018000001  DƯƠNG VIỆT AN  12/03/1998  Sở GDĐT Bắc Giang       Nam   \n",
       "1  018000002      ĐỖ VĂN AN  09/12/1998  Sở GDĐT Bắc Giang       Nam   \n",
       "2  018000003     ĐỖ XUÂN AN  12/08/1997  Sở GDĐT Bắc Giang       Nam   \n",
       "3  018000004   ĐẶNG PHÚC AN  19/03/1998  Sở GDĐT Bắc Giang        Nữ   \n",
       "4  018000005    ĐẶNG VĂN AN  25/10/1998  Sở GDĐT Bắc Giang       Nam   \n",
       "\n",
       "                                            DIEM_THI  \n",
       "0  Toán:   2.00   Ngữ văn:   5.50   Lịch sử:   3....  \n",
       "1  Toán:   5.50   Ngữ văn:   5.25   Địa lí:   5.5...  \n",
       "2  Toán:   4.50   Ngữ văn:   5.50   Địa lí:   3.7...  \n",
       "3  Toán:   3.00   Ngữ văn:   6.00   Địa lí:   5.5...  \n",
       "4  Toán:   2.25   Ngữ văn:   4.75   Địa lí:   5.2...  "
      ]
     },
     "execution_count": 5,
     "metadata": {},
     "output_type": "execute_result"
    }
   ],
   "source": [
    "df.head()"
   ]
  },
  {
   "cell_type": "code",
   "execution_count": 6,
   "metadata": {},
   "outputs": [
    {
     "data": {
      "text/html": [
       "<div>\n",
       "<style scoped>\n",
       "    .dataframe tbody tr th:only-of-type {\n",
       "        vertical-align: middle;\n",
       "    }\n",
       "\n",
       "    .dataframe tbody tr th {\n",
       "        vertical-align: top;\n",
       "    }\n",
       "\n",
       "    .dataframe thead th {\n",
       "        text-align: right;\n",
       "    }\n",
       "</style>\n",
       "<table border=\"1\" class=\"dataframe\">\n",
       "  <thead>\n",
       "    <tr style=\"text-align: right;\">\n",
       "      <th></th>\n",
       "      <th>SOBAODANH</th>\n",
       "      <th>HO_TEN</th>\n",
       "      <th>NGAY_SINH</th>\n",
       "      <th>TEN_CUMTHI</th>\n",
       "      <th>GIOI_TINH</th>\n",
       "      <th>DIEM_THI</th>\n",
       "    </tr>\n",
       "  </thead>\n",
       "  <tbody>\n",
       "    <tr>\n",
       "      <th>34821</th>\n",
       "      <td>HUI014539</td>\n",
       "      <td>VÒNG NGỌC YẾN</td>\n",
       "      <td>15/05/1998</td>\n",
       "      <td>Trường Đại học Công nghiệp Tp. HCM</td>\n",
       "      <td>Nữ</td>\n",
       "      <td>Toán:   0.75   Ngữ văn:   5.00   Hóa học:   4....</td>\n",
       "    </tr>\n",
       "    <tr>\n",
       "      <th>34822</th>\n",
       "      <td>HUI014540</td>\n",
       "      <td>VÒNG THANH YẾN</td>\n",
       "      <td>09/09/1998</td>\n",
       "      <td>Trường Đại học Công nghiệp Tp. HCM</td>\n",
       "      <td>Nữ</td>\n",
       "      <td>Toán:   4.75   Ngữ văn:   5.75   Vật lí:   6.8...</td>\n",
       "    </tr>\n",
       "    <tr>\n",
       "      <th>34823</th>\n",
       "      <td>HUI014541</td>\n",
       "      <td>VŨ THỊ BẢO YẾN</td>\n",
       "      <td>19/05/1998</td>\n",
       "      <td>Trường Đại học Công nghiệp Tp. HCM</td>\n",
       "      <td>Nữ</td>\n",
       "      <td>Toán:   4.00   Ngữ văn:   5.50   Vật lí:   5.6...</td>\n",
       "    </tr>\n",
       "    <tr>\n",
       "      <th>34824</th>\n",
       "      <td>HUI014542</td>\n",
       "      <td>VŨ THỊ YẾN</td>\n",
       "      <td>13/01/1998</td>\n",
       "      <td>Trường Đại học Công nghiệp Tp. HCM</td>\n",
       "      <td>Nữ</td>\n",
       "      <td>Toán:   5.75   Ngữ văn:   6.00   Vật lí:   7.4...</td>\n",
       "    </tr>\n",
       "    <tr>\n",
       "      <th>34825</th>\n",
       "      <td>HUI014543</td>\n",
       "      <td>VƯƠNG THỊ YẾN</td>\n",
       "      <td>05/02/1998</td>\n",
       "      <td>Trường Đại học Công nghiệp Tp. HCM</td>\n",
       "      <td>Nữ</td>\n",
       "      <td>Toán:   2.50   Ngữ văn:   4.25   Vật lí:   4.2...</td>\n",
       "    </tr>\n",
       "  </tbody>\n",
       "</table>\n",
       "</div>"
      ],
      "text/plain": [
       "       SOBAODANH          HO_TEN   NGAY_SINH  \\\n",
       "34821  HUI014539   VÒNG NGỌC YẾN  15/05/1998   \n",
       "34822  HUI014540  VÒNG THANH YẾN  09/09/1998   \n",
       "34823  HUI014541  VŨ THỊ BẢO YẾN  19/05/1998   \n",
       "34824  HUI014542      VŨ THỊ YẾN  13/01/1998   \n",
       "34825  HUI014543   VƯƠNG THỊ YẾN  05/02/1998   \n",
       "\n",
       "                               TEN_CUMTHI GIOI_TINH  \\\n",
       "34821  Trường Đại học Công nghiệp Tp. HCM        Nữ   \n",
       "34822  Trường Đại học Công nghiệp Tp. HCM        Nữ   \n",
       "34823  Trường Đại học Công nghiệp Tp. HCM        Nữ   \n",
       "34824  Trường Đại học Công nghiệp Tp. HCM        Nữ   \n",
       "34825  Trường Đại học Công nghiệp Tp. HCM        Nữ   \n",
       "\n",
       "                                                DIEM_THI  \n",
       "34821  Toán:   0.75   Ngữ văn:   5.00   Hóa học:   4....  \n",
       "34822  Toán:   4.75   Ngữ văn:   5.75   Vật lí:   6.8...  \n",
       "34823  Toán:   4.00   Ngữ văn:   5.50   Vật lí:   5.6...  \n",
       "34824  Toán:   5.75   Ngữ văn:   6.00   Vật lí:   7.4...  \n",
       "34825  Toán:   2.50   Ngữ văn:   4.25   Vật lí:   4.2...  "
      ]
     },
     "execution_count": 6,
     "metadata": {},
     "output_type": "execute_result"
    }
   ],
   "source": [
    "df.tail()"
   ]
  },
  {
   "cell_type": "code",
   "execution_count": 7,
   "metadata": {},
   "outputs": [
    {
     "data": {
      "text/plain": [
       "'Toán:   2.00   Ngữ văn:   5.50   Lịch sử:   3.00   Địa lí:   5.00'"
      ]
     },
     "execution_count": 7,
     "metadata": {},
     "output_type": "execute_result"
    }
   ],
   "source": [
    "df.loc[0, \"DIEM_THI\"]"
   ]
  },
  {
   "cell_type": "code",
   "execution_count": 9,
   "metadata": {},
   "outputs": [],
   "source": [
    "#danh sách môn thi\n",
    "ds_mon = [\"Toán\",\"Ngữ văn\",\"Địa lí\",\"Tiếng Anh\",\"Sinh học\",\"Vật lí\",\"Hóa học\",\"Lịch sử\"]"
   ]
  },
  {
   "cell_type": "code",
   "execution_count": 10,
   "metadata": {},
   "outputs": [],
   "source": [
    "df_mon_thi = pd.DataFrame(columns=ds_mon)"
   ]
  },
  {
   "cell_type": "code",
   "execution_count": 11,
   "metadata": {},
   "outputs": [
    {
     "data": {
      "text/html": [
       "<div>\n",
       "<style scoped>\n",
       "    .dataframe tbody tr th:only-of-type {\n",
       "        vertical-align: middle;\n",
       "    }\n",
       "\n",
       "    .dataframe tbody tr th {\n",
       "        vertical-align: top;\n",
       "    }\n",
       "\n",
       "    .dataframe thead th {\n",
       "        text-align: right;\n",
       "    }\n",
       "</style>\n",
       "<table border=\"1\" class=\"dataframe\">\n",
       "  <thead>\n",
       "    <tr style=\"text-align: right;\">\n",
       "      <th></th>\n",
       "      <th>Toán</th>\n",
       "      <th>Ngữ văn</th>\n",
       "      <th>Địa lí</th>\n",
       "      <th>Tiếng Anh</th>\n",
       "      <th>Sinh học</th>\n",
       "      <th>Vật lí</th>\n",
       "      <th>Hóa học</th>\n",
       "      <th>Lịch sử</th>\n",
       "    </tr>\n",
       "  </thead>\n",
       "  <tbody>\n",
       "  </tbody>\n",
       "</table>\n",
       "</div>"
      ],
      "text/plain": [
       "Empty DataFrame\n",
       "Columns: [Toán, Ngữ văn, Địa lí, Tiếng Anh, Sinh học, Vật lí, Hóa học, Lịch sử]\n",
       "Index: []"
      ]
     },
     "execution_count": 11,
     "metadata": {},
     "output_type": "execute_result"
    }
   ],
   "source": [
    "df_mon_thi"
   ]
  },
  {
   "cell_type": "code",
   "execution_count": 14,
   "metadata": {},
   "outputs": [
    {
     "name": "stdout",
     "output_type": "stream",
     "text": [
      "<_sre.SRE_Match object; span=(0, 12), match='Toán:   2.00'>\n"
     ]
    }
   ],
   "source": [
    "chuoi_diem = 'Toán:   2.00   Ngữ văn:   5.50   Lịch sử:   3.00   Địa lí:   5.00'\n",
    "search_str = 'Toán:\\s\\s\\s\\d+.\\d+'\n",
    "ket_qua = re.match(search_str, chuoi_diem)\n",
    "print(ket_qua)"
   ]
  },
  {
   "cell_type": "code",
   "execution_count": 16,
   "metadata": {},
   "outputs": [],
   "source": [
    "kq = ket_qua.group().partition(\":   \")"
   ]
  },
  {
   "cell_type": "code",
   "execution_count": 17,
   "metadata": {},
   "outputs": [
    {
     "data": {
      "text/plain": [
       "('Toán', '2.00')"
      ]
     },
     "execution_count": 17,
     "metadata": {},
     "output_type": "execute_result"
    }
   ],
   "source": [
    "kq[0], kq[2]"
   ]
  },
  {
   "cell_type": "code",
   "execution_count": 23,
   "metadata": {},
   "outputs": [],
   "source": [
    "def tach_diem(chuoi_diem):\n",
    "    ds_diem = {}\n",
    "    for mon in ds_mon:\n",
    "        search_str = mon + ':\\s\\s\\s\\d+.\\d+'\n",
    "        ket_qua = re.search(search_str, chuoi_diem)\n",
    "        if ket_qua:\n",
    "            kq = ket_qua.group().partition(\":   \")\n",
    "            ds_diem[mon] = [float(kq[2])]\n",
    "        else:\n",
    "            ds_diem[mon] = [np.nan]\n",
    "    df_temp = pd.DataFrame(ds_diem)\n",
    "    return df_temp"
   ]
  },
  {
   "cell_type": "code",
   "execution_count": 24,
   "metadata": {},
   "outputs": [
    {
     "data": {
      "text/html": [
       "<div>\n",
       "<style scoped>\n",
       "    .dataframe tbody tr th:only-of-type {\n",
       "        vertical-align: middle;\n",
       "    }\n",
       "\n",
       "    .dataframe tbody tr th {\n",
       "        vertical-align: top;\n",
       "    }\n",
       "\n",
       "    .dataframe thead th {\n",
       "        text-align: right;\n",
       "    }\n",
       "</style>\n",
       "<table border=\"1\" class=\"dataframe\">\n",
       "  <thead>\n",
       "    <tr style=\"text-align: right;\">\n",
       "      <th></th>\n",
       "      <th>Toán</th>\n",
       "      <th>Ngữ văn</th>\n",
       "      <th>Địa lí</th>\n",
       "      <th>Tiếng Anh</th>\n",
       "      <th>Sinh học</th>\n",
       "      <th>Vật lí</th>\n",
       "      <th>Hóa học</th>\n",
       "      <th>Lịch sử</th>\n",
       "    </tr>\n",
       "  </thead>\n",
       "  <tbody>\n",
       "    <tr>\n",
       "      <th>0</th>\n",
       "      <td>2.0</td>\n",
       "      <td>5.5</td>\n",
       "      <td>5.0</td>\n",
       "      <td>NaN</td>\n",
       "      <td>NaN</td>\n",
       "      <td>NaN</td>\n",
       "      <td>NaN</td>\n",
       "      <td>3.0</td>\n",
       "    </tr>\n",
       "  </tbody>\n",
       "</table>\n",
       "</div>"
      ],
      "text/plain": [
       "   Toán  Ngữ văn  Địa lí  Tiếng Anh  Sinh học  Vật lí  Hóa học  Lịch sử\n",
       "0   2.0      5.5     5.0        NaN       NaN     NaN      NaN      3.0"
      ]
     },
     "execution_count": 24,
     "metadata": {},
     "output_type": "execute_result"
    }
   ],
   "source": [
    "chuoi_diem = 'Toán:   2.00   Ngữ văn:   5.50   Lịch sử:   3.00   Địa lí:   5.00'\n",
    "tach_diem(chuoi_diem)"
   ]
  },
  {
   "cell_type": "code",
   "execution_count": 25,
   "metadata": {},
   "outputs": [],
   "source": [
    "for row_index in range(df.shape[0]):\n",
    "    chuoi_diem = df[\"DIEM_THI\"][row_index]\n",
    "    df_temp = tach_diem(chuoi_diem)\n",
    "    df_mon_thi = pd.concat([df_mon_thi, df_temp], ignore_index=True, sort=False)"
   ]
  },
  {
   "cell_type": "code",
   "execution_count": 26,
   "metadata": {},
   "outputs": [
    {
     "data": {
      "text/html": [
       "<div>\n",
       "<style scoped>\n",
       "    .dataframe tbody tr th:only-of-type {\n",
       "        vertical-align: middle;\n",
       "    }\n",
       "\n",
       "    .dataframe tbody tr th {\n",
       "        vertical-align: top;\n",
       "    }\n",
       "\n",
       "    .dataframe thead th {\n",
       "        text-align: right;\n",
       "    }\n",
       "</style>\n",
       "<table border=\"1\" class=\"dataframe\">\n",
       "  <thead>\n",
       "    <tr style=\"text-align: right;\">\n",
       "      <th></th>\n",
       "      <th>Toán</th>\n",
       "      <th>Ngữ văn</th>\n",
       "      <th>Địa lí</th>\n",
       "      <th>Tiếng Anh</th>\n",
       "      <th>Sinh học</th>\n",
       "      <th>Vật lí</th>\n",
       "      <th>Hóa học</th>\n",
       "      <th>Lịch sử</th>\n",
       "    </tr>\n",
       "  </thead>\n",
       "  <tbody>\n",
       "    <tr>\n",
       "      <th>0</th>\n",
       "      <td>2.00</td>\n",
       "      <td>5.50</td>\n",
       "      <td>5.00</td>\n",
       "      <td>NaN</td>\n",
       "      <td>NaN</td>\n",
       "      <td>NaN</td>\n",
       "      <td>NaN</td>\n",
       "      <td>3.0</td>\n",
       "    </tr>\n",
       "    <tr>\n",
       "      <th>1</th>\n",
       "      <td>5.50</td>\n",
       "      <td>5.25</td>\n",
       "      <td>5.50</td>\n",
       "      <td>3.68</td>\n",
       "      <td>NaN</td>\n",
       "      <td>NaN</td>\n",
       "      <td>NaN</td>\n",
       "      <td>NaN</td>\n",
       "    </tr>\n",
       "    <tr>\n",
       "      <th>2</th>\n",
       "      <td>4.50</td>\n",
       "      <td>5.50</td>\n",
       "      <td>3.75</td>\n",
       "      <td>2.25</td>\n",
       "      <td>NaN</td>\n",
       "      <td>NaN</td>\n",
       "      <td>NaN</td>\n",
       "      <td>NaN</td>\n",
       "    </tr>\n",
       "    <tr>\n",
       "      <th>3</th>\n",
       "      <td>3.00</td>\n",
       "      <td>6.00</td>\n",
       "      <td>5.50</td>\n",
       "      <td>1.50</td>\n",
       "      <td>NaN</td>\n",
       "      <td>NaN</td>\n",
       "      <td>NaN</td>\n",
       "      <td>NaN</td>\n",
       "    </tr>\n",
       "    <tr>\n",
       "      <th>4</th>\n",
       "      <td>2.25</td>\n",
       "      <td>4.75</td>\n",
       "      <td>5.25</td>\n",
       "      <td>2.00</td>\n",
       "      <td>NaN</td>\n",
       "      <td>NaN</td>\n",
       "      <td>NaN</td>\n",
       "      <td>NaN</td>\n",
       "    </tr>\n",
       "  </tbody>\n",
       "</table>\n",
       "</div>"
      ],
      "text/plain": [
       "   Toán  Ngữ văn  Địa lí  Tiếng Anh  Sinh học  Vật lí  Hóa học  Lịch sử\n",
       "0  2.00     5.50    5.00        NaN       NaN     NaN      NaN      3.0\n",
       "1  5.50     5.25    5.50       3.68       NaN     NaN      NaN      NaN\n",
       "2  4.50     5.50    3.75       2.25       NaN     NaN      NaN      NaN\n",
       "3  3.00     6.00    5.50       1.50       NaN     NaN      NaN      NaN\n",
       "4  2.25     4.75    5.25       2.00       NaN     NaN      NaN      NaN"
      ]
     },
     "execution_count": 26,
     "metadata": {},
     "output_type": "execute_result"
    }
   ],
   "source": [
    "df_mon_thi.head()"
   ]
  },
  {
   "cell_type": "code",
   "execution_count": 27,
   "metadata": {},
   "outputs": [],
   "source": [
    "df_new = pd.concat([df, df_mon_thi], axis=1)"
   ]
  },
  {
   "cell_type": "code",
   "execution_count": 28,
   "metadata": {},
   "outputs": [
    {
     "data": {
      "text/html": [
       "<div>\n",
       "<style scoped>\n",
       "    .dataframe tbody tr th:only-of-type {\n",
       "        vertical-align: middle;\n",
       "    }\n",
       "\n",
       "    .dataframe tbody tr th {\n",
       "        vertical-align: top;\n",
       "    }\n",
       "\n",
       "    .dataframe thead th {\n",
       "        text-align: right;\n",
       "    }\n",
       "</style>\n",
       "<table border=\"1\" class=\"dataframe\">\n",
       "  <thead>\n",
       "    <tr style=\"text-align: right;\">\n",
       "      <th></th>\n",
       "      <th>SOBAODANH</th>\n",
       "      <th>HO_TEN</th>\n",
       "      <th>NGAY_SINH</th>\n",
       "      <th>TEN_CUMTHI</th>\n",
       "      <th>GIOI_TINH</th>\n",
       "      <th>DIEM_THI</th>\n",
       "      <th>Toán</th>\n",
       "      <th>Ngữ văn</th>\n",
       "      <th>Địa lí</th>\n",
       "      <th>Tiếng Anh</th>\n",
       "      <th>Sinh học</th>\n",
       "      <th>Vật lí</th>\n",
       "      <th>Hóa học</th>\n",
       "      <th>Lịch sử</th>\n",
       "    </tr>\n",
       "  </thead>\n",
       "  <tbody>\n",
       "    <tr>\n",
       "      <th>0</th>\n",
       "      <td>018000001</td>\n",
       "      <td>DƯƠNG VIỆT AN</td>\n",
       "      <td>12/03/1998</td>\n",
       "      <td>Sở GDĐT Bắc Giang</td>\n",
       "      <td>Nam</td>\n",
       "      <td>Toán:   2.00   Ngữ văn:   5.50   Lịch sử:   3....</td>\n",
       "      <td>2.00</td>\n",
       "      <td>5.50</td>\n",
       "      <td>5.00</td>\n",
       "      <td>NaN</td>\n",
       "      <td>NaN</td>\n",
       "      <td>NaN</td>\n",
       "      <td>NaN</td>\n",
       "      <td>3.0</td>\n",
       "    </tr>\n",
       "    <tr>\n",
       "      <th>1</th>\n",
       "      <td>018000002</td>\n",
       "      <td>ĐỖ VĂN AN</td>\n",
       "      <td>09/12/1998</td>\n",
       "      <td>Sở GDĐT Bắc Giang</td>\n",
       "      <td>Nam</td>\n",
       "      <td>Toán:   5.50   Ngữ văn:   5.25   Địa lí:   5.5...</td>\n",
       "      <td>5.50</td>\n",
       "      <td>5.25</td>\n",
       "      <td>5.50</td>\n",
       "      <td>3.68</td>\n",
       "      <td>NaN</td>\n",
       "      <td>NaN</td>\n",
       "      <td>NaN</td>\n",
       "      <td>NaN</td>\n",
       "    </tr>\n",
       "    <tr>\n",
       "      <th>2</th>\n",
       "      <td>018000003</td>\n",
       "      <td>ĐỖ XUÂN AN</td>\n",
       "      <td>12/08/1997</td>\n",
       "      <td>Sở GDĐT Bắc Giang</td>\n",
       "      <td>Nam</td>\n",
       "      <td>Toán:   4.50   Ngữ văn:   5.50   Địa lí:   3.7...</td>\n",
       "      <td>4.50</td>\n",
       "      <td>5.50</td>\n",
       "      <td>3.75</td>\n",
       "      <td>2.25</td>\n",
       "      <td>NaN</td>\n",
       "      <td>NaN</td>\n",
       "      <td>NaN</td>\n",
       "      <td>NaN</td>\n",
       "    </tr>\n",
       "    <tr>\n",
       "      <th>3</th>\n",
       "      <td>018000004</td>\n",
       "      <td>ĐẶNG PHÚC AN</td>\n",
       "      <td>19/03/1998</td>\n",
       "      <td>Sở GDĐT Bắc Giang</td>\n",
       "      <td>Nữ</td>\n",
       "      <td>Toán:   3.00   Ngữ văn:   6.00   Địa lí:   5.5...</td>\n",
       "      <td>3.00</td>\n",
       "      <td>6.00</td>\n",
       "      <td>5.50</td>\n",
       "      <td>1.50</td>\n",
       "      <td>NaN</td>\n",
       "      <td>NaN</td>\n",
       "      <td>NaN</td>\n",
       "      <td>NaN</td>\n",
       "    </tr>\n",
       "    <tr>\n",
       "      <th>4</th>\n",
       "      <td>018000005</td>\n",
       "      <td>ĐẶNG VĂN AN</td>\n",
       "      <td>25/10/1998</td>\n",
       "      <td>Sở GDĐT Bắc Giang</td>\n",
       "      <td>Nam</td>\n",
       "      <td>Toán:   2.25   Ngữ văn:   4.75   Địa lí:   5.2...</td>\n",
       "      <td>2.25</td>\n",
       "      <td>4.75</td>\n",
       "      <td>5.25</td>\n",
       "      <td>2.00</td>\n",
       "      <td>NaN</td>\n",
       "      <td>NaN</td>\n",
       "      <td>NaN</td>\n",
       "      <td>NaN</td>\n",
       "    </tr>\n",
       "  </tbody>\n",
       "</table>\n",
       "</div>"
      ],
      "text/plain": [
       "   SOBAODANH         HO_TEN   NGAY_SINH         TEN_CUMTHI GIOI_TINH  \\\n",
       "0  018000001  DƯƠNG VIỆT AN  12/03/1998  Sở GDĐT Bắc Giang       Nam   \n",
       "1  018000002      ĐỖ VĂN AN  09/12/1998  Sở GDĐT Bắc Giang       Nam   \n",
       "2  018000003     ĐỖ XUÂN AN  12/08/1997  Sở GDĐT Bắc Giang       Nam   \n",
       "3  018000004   ĐẶNG PHÚC AN  19/03/1998  Sở GDĐT Bắc Giang        Nữ   \n",
       "4  018000005    ĐẶNG VĂN AN  25/10/1998  Sở GDĐT Bắc Giang       Nam   \n",
       "\n",
       "                                            DIEM_THI  Toán  Ngữ văn  Địa lí  \\\n",
       "0  Toán:   2.00   Ngữ văn:   5.50   Lịch sử:   3....  2.00     5.50    5.00   \n",
       "1  Toán:   5.50   Ngữ văn:   5.25   Địa lí:   5.5...  5.50     5.25    5.50   \n",
       "2  Toán:   4.50   Ngữ văn:   5.50   Địa lí:   3.7...  4.50     5.50    3.75   \n",
       "3  Toán:   3.00   Ngữ văn:   6.00   Địa lí:   5.5...  3.00     6.00    5.50   \n",
       "4  Toán:   2.25   Ngữ văn:   4.75   Địa lí:   5.2...  2.25     4.75    5.25   \n",
       "\n",
       "   Tiếng Anh  Sinh học  Vật lí  Hóa học  Lịch sử  \n",
       "0        NaN       NaN     NaN      NaN      3.0  \n",
       "1       3.68       NaN     NaN      NaN      NaN  \n",
       "2       2.25       NaN     NaN      NaN      NaN  \n",
       "3       1.50       NaN     NaN      NaN      NaN  \n",
       "4       2.00       NaN     NaN      NaN      NaN  "
      ]
     },
     "execution_count": 28,
     "metadata": {},
     "output_type": "execute_result"
    }
   ],
   "source": [
    "df_new.head()"
   ]
  },
  {
   "cell_type": "code",
   "execution_count": 29,
   "metadata": {},
   "outputs": [
    {
     "data": {
      "text/plain": [
       "(34826, 14)"
      ]
     },
     "execution_count": 29,
     "metadata": {},
     "output_type": "execute_result"
    }
   ],
   "source": [
    "df_new.shape"
   ]
  },
  {
   "cell_type": "code",
   "execution_count": 30,
   "metadata": {},
   "outputs": [],
   "source": [
    "import matplotlib.pyplot as plt\n",
    "import seaborn as sns"
   ]
  },
  {
   "cell_type": "code",
   "execution_count": 36,
   "metadata": {},
   "outputs": [
    {
     "data": {
      "image/png": "[encoded data removed]",
      "text/plain": [
       "<Figure size 864x360 with 2 Axes>"
      ]
     },
     "metadata": {
      "needs_background": "light"
     },
     "output_type": "display_data"
    }
   ],
   "source": [
    "plt.figure(figsize=(12,5))\n",
    "plt.subplot(1,2,1)\n",
    "plt.hist(df_new['Toán'].dropna())\n",
    "plt.subplot(1,2,2)\n",
    "sns.distplot(df_new['Toán'].dropna())\n",
    "plt.show()"
   ]
  },
  {
   "cell_type": "code",
   "execution_count": null,
   "metadata": {},
   "outputs": [],
   "source": []
  }
 ],
 "metadata": {
  "kernelspec": {
   "display_name": "Python 3",
   "language": "python",
   "name": "python3"
  },
  "language_info": {
   "codemirror_mode": {
    "name": "ipython",
    "version": 3
   },
   "file_extension": ".py",
   "mimetype": "text/x-python",
   "name": "python",
   "nbconvert_exporter": "python",
   "pygments_lexer": "ipython3",
   "version": "3.6.8"
  }
 },
 "nbformat": 4,
 "nbformat_minor": 2
}
