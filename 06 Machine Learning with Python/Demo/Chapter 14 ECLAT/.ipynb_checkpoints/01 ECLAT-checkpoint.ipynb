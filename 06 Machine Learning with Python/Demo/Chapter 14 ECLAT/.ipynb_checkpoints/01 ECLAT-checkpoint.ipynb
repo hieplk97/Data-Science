{
 "cells": [
  {
   "cell_type": "code",
   "execution_count": 1,
   "metadata": {},
   "outputs": [],
   "source": [
    "import sys\n",
    "import numpy as np\n",
    "import matplotlib.pyplot as plt\n",
    "from collections import defaultdict\n",
    "import random"
   ]
  },
  {
   "cell_type": "code",
   "execution_count": 2,
   "metadata": {},
   "outputs": [],
   "source": [
    "def tidlists(transactions):\n",
    "    tl = defaultdict(set)\n",
    "    for tid, t in enumerate(transactions):\n",
    "        for item in t:\n",
    "            tl[item].add(tid)\n",
    "    return list(tl.items())\n",
    " \n",
    "class IntersectAll:\n",
    "    def __and__(self, other):\n",
    "        return other\n",
    "IntersectAll = IntersectAll()\n",
    " \n",
    "def eclat(items, minsup=0, minlen=1):\n",
    "    frequent_itemsets = {(): IntersectAll}\n",
    "    def recurse(items, prefix):\n",
    "        while len(items) > 0:\n",
    "            item, item_tidlist = items.pop()\n",
    "            l = prefix + (item,)  # l is the (ordered) tuple of items we are looking for\n",
    "            new_tidlist = frequent_itemsets[prefix] & item_tidlist\n",
    "            if len(new_tidlist) >= minsup:  # add frequent_itemsets to the new frequent_itemsets\n",
    "                frequent_itemsets[l] = new_tidlist\n",
    "             \n",
    "            # define the new l-conditional database\n",
    "            new_items = []\n",
    "            for new_item, _item_tidlist in items:\n",
    "                new_item_tidlist = _item_tidlist & item_tidlist\n",
    "                if len(new_item_tidlist) >= minsup:\n",
    "                    new_items.append((new_item, new_item_tidlist))\n",
    "             \n",
    "            # recurse, with l as prefix\n",
    "            recurse(new_items, l)\n",
    "     \n",
    "    recurse(items.copy(), ())\n",
    "    return {k: len(v) for k, v in frequent_itemsets.items() if len(k) >= minlen}"
   ]
  },
  {
   "cell_type": "code",
   "execution_count": 3,
   "metadata": {},
   "outputs": [],
   "source": [
    "dataset = [['Eggs', 'Milk', 'Onion', 'Nutmeg', 'Kidney Beans', 'Yogurt'],\n",
    "           ['Dill', 'Onion', 'Nutmeg', 'Eggs', 'Yogurt'],\n",
    "           ['Milk', 'Apple', 'Kidney Beans', 'Eggs'],\n",
    "           ['Milk', 'Unicorn', 'Corn', 'Kidney Beans', 'Yogurt'],\n",
    "           ['Corn', 'Onion', 'Kidney Beans', 'Ice cream', 'Eggs'],\n",
    "           ['Orange', 'Corn', 'Eggs', 'Yogurt'],\n",
    "           ['Milk', 'Apple', 'Orange', 'Eggs'], \n",
    "           ['Corn', 'Coke', 'Kidney Beans', 'Ice cream'],\n",
    "           ['Dill', 'Onion', 'Nutmeg'],\n",
    "           ['Coke', 'Apple', 'Ice cream']\n",
    "          ]"
   ]
  },
  {
   "cell_type": "code",
   "execution_count": 4,
   "metadata": {},
   "outputs": [
    {
     "data": {
      "text/plain": [
       "[('Eggs', {0, 1, 2, 4, 5, 6}),\n",
       " ('Milk', {0, 2, 3, 6}),\n",
       " ('Onion', {0, 1, 4, 8}),\n",
       " ('Nutmeg', {0, 1, 8}),\n",
       " ('Kidney Beans', {0, 2, 3, 4, 7}),\n",
       " ('Yogurt', {0, 1, 3, 5}),\n",
       " ('Dill', {1, 8}),\n",
       " ('Apple', {2, 6, 9}),\n",
       " ('Unicorn', {3}),\n",
       " ('Corn', {3, 4, 5, 7}),\n",
       " ('Ice cream', {4, 7, 9}),\n",
       " ('Orange', {5, 6}),\n",
       " ('Coke', {7, 9})]"
      ]
     },
     "execution_count": 4,
     "metadata": {},
     "output_type": "execute_result"
    }
   ],
   "source": [
    "tl = tidlists(dataset)\n",
    "tl"
   ]
  },
  {
   "cell_type": "code",
   "execution_count": 5,
   "metadata": {},
   "outputs": [
    {
     "name": "stdout",
     "output_type": "stream",
     "text": [
      "{('Coke', 'Ice cream'): 2, ('Orange', 'Eggs'): 2, ('Ice cream', 'Corn'): 2, ('Ice cream', 'Corn', 'Kidney Beans'): 2, ('Ice cream', 'Kidney Beans'): 2, ('Corn', 'Yogurt'): 2, ('Corn', 'Kidney Beans'): 3, ('Corn', 'Eggs'): 2, ('Apple', 'Milk'): 2, ('Apple', 'Milk', 'Eggs'): 2, ('Apple', 'Eggs'): 2, ('Dill', 'Nutmeg'): 2, ('Dill', 'Nutmeg', 'Onion'): 2, ('Dill', 'Onion'): 2, ('Yogurt', 'Kidney Beans'): 2, ('Yogurt', 'Kidney Beans', 'Milk'): 2, ('Yogurt', 'Nutmeg'): 2, ('Yogurt', 'Nutmeg', 'Onion'): 2, ('Yogurt', 'Nutmeg', 'Onion', 'Eggs'): 2, ('Yogurt', 'Nutmeg', 'Eggs'): 2, ('Yogurt', 'Onion'): 2, ('Yogurt', 'Onion', 'Eggs'): 2, ('Yogurt', 'Milk'): 2, ('Yogurt', 'Eggs'): 3, ('Kidney Beans', 'Onion'): 2, ('Kidney Beans', 'Onion', 'Eggs'): 2, ('Kidney Beans', 'Milk'): 3, ('Kidney Beans', 'Milk', 'Eggs'): 2, ('Kidney Beans', 'Eggs'): 3, ('Nutmeg', 'Onion'): 3, ('Nutmeg', 'Onion', 'Eggs'): 2, ('Nutmeg', 'Eggs'): 2, ('Onion', 'Eggs'): 3, ('Milk', 'Eggs'): 3}\n"
     ]
    }
   ],
   "source": [
    "result = eclat(tl, minsup=2, minlen=2)\n",
    "print(result)"
   ]
  },
  {
   "cell_type": "code",
   "execution_count": 6,
   "metadata": {},
   "outputs": [],
   "source": [
    "# Function confidence(), lift()"
   ]
  },
  {
   "cell_type": "code",
   "execution_count": 7,
   "metadata": {},
   "outputs": [
    {
     "name": "stdout",
     "output_type": "stream",
     "text": [
      "('Apple', 'Milk') : 2\n",
      "('Apple', 'Milk', 'Eggs') : 2\n",
      "('Yogurt', 'Kidney Beans', 'Milk') : 2\n",
      "('Yogurt', 'Milk') : 2\n",
      "('Kidney Beans', 'Milk') : 3\n",
      "('Kidney Beans', 'Milk', 'Eggs') : 2\n",
      "('Milk', 'Eggs') : 3\n"
     ]
    }
   ],
   "source": [
    "for k, v in result.items():\n",
    "    if \"Milk\" in k:\n",
    "        print(k, \":\", v)"
   ]
  },
  {
   "cell_type": "code",
   "execution_count": 8,
   "metadata": {},
   "outputs": [],
   "source": [
    "keys = result.values()\n",
    "titles = result.keys()\n",
    "list_titles = []\n",
    "for item in titles:\n",
    "    list_titles.append(','.join(item))"
   ]
  },
  {
   "cell_type": "code",
   "execution_count": 9,
   "metadata": {},
   "outputs": [
    {
     "data": {
      "text/plain": [
       "dict_values([2, 2, 2, 2, 2, 2, 3, 2, 2, 2, 2, 2, 2, 2, 2, 2, 2, 2, 2, 2, 2, 2, 2, 3, 2, 2, 3, 2, 3, 3, 2, 2, 3, 3])"
      ]
     },
     "execution_count": 9,
     "metadata": {},
     "output_type": "execute_result"
    }
   ],
   "source": [
    "keys"
   ]
  },
  {
   "cell_type": "code",
   "execution_count": 10,
   "metadata": {},
   "outputs": [
    {
     "data": {
      "text/plain": [
       "dict_keys([('Coke', 'Ice cream'), ('Orange', 'Eggs'), ('Ice cream', 'Corn'), ('Ice cream', 'Corn', 'Kidney Beans'), ('Ice cream', 'Kidney Beans'), ('Corn', 'Yogurt'), ('Corn', 'Kidney Beans'), ('Corn', 'Eggs'), ('Apple', 'Milk'), ('Apple', 'Milk', 'Eggs'), ('Apple', 'Eggs'), ('Dill', 'Nutmeg'), ('Dill', 'Nutmeg', 'Onion'), ('Dill', 'Onion'), ('Yogurt', 'Kidney Beans'), ('Yogurt', 'Kidney Beans', 'Milk'), ('Yogurt', 'Nutmeg'), ('Yogurt', 'Nutmeg', 'Onion'), ('Yogurt', 'Nutmeg', 'Onion', 'Eggs'), ('Yogurt', 'Nutmeg', 'Eggs'), ('Yogurt', 'Onion'), ('Yogurt', 'Onion', 'Eggs'), ('Yogurt', 'Milk'), ('Yogurt', 'Eggs'), ('Kidney Beans', 'Onion'), ('Kidney Beans', 'Onion', 'Eggs'), ('Kidney Beans', 'Milk'), ('Kidney Beans', 'Milk', 'Eggs'), ('Kidney Beans', 'Eggs'), ('Nutmeg', 'Onion'), ('Nutmeg', 'Onion', 'Eggs'), ('Nutmeg', 'Eggs'), ('Onion', 'Eggs'), ('Milk', 'Eggs')])"
      ]
     },
     "execution_count": 10,
     "metadata": {},
     "output_type": "execute_result"
    }
   ],
   "source": [
    "titles"
   ]
  },
  {
   "cell_type": "code",
   "execution_count": 12,
   "metadata": {},
   "outputs": [
    {
     "ename": "ImportError",
     "evalue": "cannot import name '_png' from 'matplotlib' (C:\\ProgramData\\Anaconda3\\lib\\site-packages\\matplotlib\\__init__.py)",
     "output_type": "error",
     "traceback": [
      "\u001b[1;31m---------------------------------------------------------------------------\u001b[0m",
      "\u001b[1;31mImportError\u001b[0m                               Traceback (most recent call last)",
      "\u001b[1;32mC:\\ProgramData\\Anaconda3\\lib\\site-packages\\IPython\\core\\formatters.py\u001b[0m in \u001b[0;36m__call__\u001b[1;34m(self, obj)\u001b[0m\n\u001b[0;32m    339\u001b[0m                 \u001b[1;32mpass\u001b[0m\u001b[1;33m\u001b[0m\u001b[1;33m\u001b[0m\u001b[0m\n\u001b[0;32m    340\u001b[0m             \u001b[1;32melse\u001b[0m\u001b[1;33m:\u001b[0m\u001b[1;33m\u001b[0m\u001b[1;33m\u001b[0m\u001b[0m\n\u001b[1;32m--> 341\u001b[1;33m                 \u001b[1;32mreturn\u001b[0m \u001b[0mprinter\u001b[0m\u001b[1;33m(\u001b[0m\u001b[0mobj\u001b[0m\u001b[1;33m)\u001b[0m\u001b[1;33m\u001b[0m\u001b[1;33m\u001b[0m\u001b[0m\n\u001b[0m\u001b[0;32m    342\u001b[0m             \u001b[1;31m# Finally look for special method names\u001b[0m\u001b[1;33m\u001b[0m\u001b[1;33m\u001b[0m\u001b[1;33m\u001b[0m\u001b[0m\n\u001b[0;32m    343\u001b[0m             \u001b[0mmethod\u001b[0m \u001b[1;33m=\u001b[0m \u001b[0mget_real_method\u001b[0m\u001b[1;33m(\u001b[0m\u001b[0mobj\u001b[0m\u001b[1;33m,\u001b[0m \u001b[0mself\u001b[0m\u001b[1;33m.\u001b[0m\u001b[0mprint_method\u001b[0m\u001b[1;33m)\u001b[0m\u001b[1;33m\u001b[0m\u001b[1;33m\u001b[0m\u001b[0m\n",
      "\u001b[1;32mC:\\ProgramData\\Anaconda3\\lib\\site-packages\\IPython\\core\\pylabtools.py\u001b[0m in \u001b[0;36m<lambda>\u001b[1;34m(fig)\u001b[0m\n\u001b[0;32m    246\u001b[0m \u001b[1;33m\u001b[0m\u001b[0m\n\u001b[0;32m    247\u001b[0m     \u001b[1;32mif\u001b[0m \u001b[1;34m'png'\u001b[0m \u001b[1;32min\u001b[0m \u001b[0mformats\u001b[0m\u001b[1;33m:\u001b[0m\u001b[1;33m\u001b[0m\u001b[1;33m\u001b[0m\u001b[0m\n\u001b[1;32m--> 248\u001b[1;33m         \u001b[0mpng_formatter\u001b[0m\u001b[1;33m.\u001b[0m\u001b[0mfor_type\u001b[0m\u001b[1;33m(\u001b[0m\u001b[0mFigure\u001b[0m\u001b[1;33m,\u001b[0m \u001b[1;32mlambda\u001b[0m \u001b[0mfig\u001b[0m\u001b[1;33m:\u001b[0m \u001b[0mprint_figure\u001b[0m\u001b[1;33m(\u001b[0m\u001b[0mfig\u001b[0m\u001b[1;33m,\u001b[0m \u001b[1;34m'png'\u001b[0m\u001b[1;33m,\u001b[0m \u001b[1;33m**\u001b[0m\u001b[0mkwargs\u001b[0m\u001b[1;33m)\u001b[0m\u001b[1;33m)\u001b[0m\u001b[1;33m\u001b[0m\u001b[1;33m\u001b[0m\u001b[0m\n\u001b[0m\u001b[0;32m    249\u001b[0m     \u001b[1;32mif\u001b[0m \u001b[1;34m'retina'\u001b[0m \u001b[1;32min\u001b[0m \u001b[0mformats\u001b[0m \u001b[1;32mor\u001b[0m \u001b[1;34m'png2x'\u001b[0m \u001b[1;32min\u001b[0m \u001b[0mformats\u001b[0m\u001b[1;33m:\u001b[0m\u001b[1;33m\u001b[0m\u001b[1;33m\u001b[0m\u001b[0m\n\u001b[0;32m    250\u001b[0m         \u001b[0mpng_formatter\u001b[0m\u001b[1;33m.\u001b[0m\u001b[0mfor_type\u001b[0m\u001b[1;33m(\u001b[0m\u001b[0mFigure\u001b[0m\u001b[1;33m,\u001b[0m \u001b[1;32mlambda\u001b[0m \u001b[0mfig\u001b[0m\u001b[1;33m:\u001b[0m \u001b[0mretina_figure\u001b[0m\u001b[1;33m(\u001b[0m\u001b[0mfig\u001b[0m\u001b[1;33m,\u001b[0m \u001b[1;33m**\u001b[0m\u001b[0mkwargs\u001b[0m\u001b[1;33m)\u001b[0m\u001b[1;33m)\u001b[0m\u001b[1;33m\u001b[0m\u001b[1;33m\u001b[0m\u001b[0m\n",
      "\u001b[1;32mC:\\ProgramData\\Anaconda3\\lib\\site-packages\\IPython\\core\\pylabtools.py\u001b[0m in \u001b[0;36mprint_figure\u001b[1;34m(fig, fmt, bbox_inches, **kwargs)\u001b[0m\n\u001b[0;32m    130\u001b[0m         \u001b[0mFigureCanvasBase\u001b[0m\u001b[1;33m(\u001b[0m\u001b[0mfig\u001b[0m\u001b[1;33m)\u001b[0m\u001b[1;33m\u001b[0m\u001b[1;33m\u001b[0m\u001b[0m\n\u001b[0;32m    131\u001b[0m \u001b[1;33m\u001b[0m\u001b[0m\n\u001b[1;32m--> 132\u001b[1;33m     \u001b[0mfig\u001b[0m\u001b[1;33m.\u001b[0m\u001b[0mcanvas\u001b[0m\u001b[1;33m.\u001b[0m\u001b[0mprint_figure\u001b[0m\u001b[1;33m(\u001b[0m\u001b[0mbytes_io\u001b[0m\u001b[1;33m,\u001b[0m \u001b[1;33m**\u001b[0m\u001b[0mkw\u001b[0m\u001b[1;33m)\u001b[0m\u001b[1;33m\u001b[0m\u001b[1;33m\u001b[0m\u001b[0m\n\u001b[0m\u001b[0;32m    133\u001b[0m     \u001b[0mdata\u001b[0m \u001b[1;33m=\u001b[0m \u001b[0mbytes_io\u001b[0m\u001b[1;33m.\u001b[0m\u001b[0mgetvalue\u001b[0m\u001b[1;33m(\u001b[0m\u001b[1;33m)\u001b[0m\u001b[1;33m\u001b[0m\u001b[1;33m\u001b[0m\u001b[0m\n\u001b[0;32m    134\u001b[0m     \u001b[1;32mif\u001b[0m \u001b[0mfmt\u001b[0m \u001b[1;33m==\u001b[0m \u001b[1;34m'svg'\u001b[0m\u001b[1;33m:\u001b[0m\u001b[1;33m\u001b[0m\u001b[1;33m\u001b[0m\u001b[0m\n",
      "\u001b[1;32mC:\\ProgramData\\Anaconda3\\lib\\site-packages\\matplotlib\\backend_bases.py\u001b[0m in \u001b[0;36mprint_figure\u001b[1;34m(self, filename, dpi, facecolor, edgecolor, orientation, format, bbox_inches, **kwargs)\u001b[0m\n",
      "\u001b[1;32mC:\\ProgramData\\Anaconda3\\lib\\site-packages\\matplotlib\\backend_bases.py\u001b[0m in \u001b[0;36m_get_renderer\u001b[1;34m(figure, print_method)\u001b[0m\n",
      "\u001b[1;32mC:\\ProgramData\\Anaconda3\\lib\\site-packages\\matplotlib\\backends\\backend_agg.py\u001b[0m in \u001b[0;36mprint_png\u001b[1;34m(self, filename_or_obj, metadata, pil_kwargs, *args, **kwargs)\u001b[0m\n",
      "\u001b[1;31mImportError\u001b[0m: cannot import name '_png' from 'matplotlib' (C:\\ProgramData\\Anaconda3\\lib\\site-packages\\matplotlib\\__init__.py)"
     ]
    },
    {
     "data": {
      "text/plain": [
       "<Figure size 1296x432 with 1 Axes>"
      ]
     },
     "metadata": {
      "needs_background": "light"
     },
     "output_type": "display_data"
    }
   ],
   "source": [
    "plt.figure(figsize= (18, 6))\n",
    "\n",
    "y = np.array(list(keys))\n",
    "c = np.empty((y.shape[0]), dtype = str)\n",
    "c[y <= 2] =\"green\"\n",
    "c[y>2] = \"red\"\n",
    "\n",
    "plt.bar(list_titles, keys, color = c.tolist())\n",
    "plt.title(\"Association items with Support\", color = \"red\", fontsize = 20)\n",
    "plt.xticks(rotation = 85)\n",
    "plt.xlabel(\"Itemsets\", color = \"red\", fontsize = 18)\n",
    "plt.show()"
   ]
  },
  {
   "cell_type": "code",
   "execution_count": null,
   "metadata": {},
   "outputs": [],
   "source": []
  }
 ],
 "metadata": {
  "kernelspec": {
   "display_name": "Python 3",
   "language": "python",
   "name": "python3"
  },
  "language_info": {
   "codemirror_mode": {
    "name": "ipython",
    "version": 3
   },
   "file_extension": ".py",
   "mimetype": "text/x-python",
   "name": "python",
   "nbconvert_exporter": "python",
   "pygments_lexer": "ipython3",
   "version": "3.8.3"
  }
 },
 "nbformat": 4,
 "nbformat_minor": 4
}
