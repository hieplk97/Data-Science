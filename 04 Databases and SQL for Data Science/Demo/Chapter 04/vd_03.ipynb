{
 "cells": [
  {
   "cell_type": "code",
   "execution_count": 34,
   "metadata": {},
   "outputs": [],
   "source": [
    "# import thu vien\n",
    "from mysql.connector import connect"
   ]
  },
  {
   "cell_type": "code",
   "execution_count": 35,
   "metadata": {},
   "outputs": [],
   "source": [
    "# ket noi den CSDL\n",
    "conn = connect(host='172.24.40.247', database='salesdb', user='hv', password='123456', \n",
    "               port='3306')"
   ]
  },
  {
   "cell_type": "code",
   "execution_count": 36,
   "metadata": {},
   "outputs": [],
   "source": [
    "# xin cap cursor\n",
    "cur = conn.cursor()"
   ]
  },
  {
   "cell_type": "code",
   "execution_count": 37,
   "metadata": {},
   "outputs": [],
   "source": [
    "# chuan bi cau lenh va cho thuc hien\n",
    "stm = '''\n",
    "SELECT Country, COUNT(*) AS dem\n",
    "FROM customers\n",
    "GROUP BY Country\n",
    "ORDER BY dem DESC\n",
    "'''\n",
    "cur.execute(stm)"
   ]
  },
  {
   "cell_type": "code",
   "execution_count": 39,
   "metadata": {},
   "outputs": [],
   "source": [
    "# doc va in ra\n",
    "for row in cur:\n",
    "    print(row)"
   ]
  },
  {
   "cell_type": "code",
   "execution_count": 40,
   "metadata": {},
   "outputs": [
    {
     "name": "stdout",
     "output_type": "stream",
     "text": [
      "(1, 'Maria', 'Anders', 'Berlin', 'Germany', '030-0074321')\n",
      "(6, 'Hanna', 'Moos', 'Mannheim', 'Germany', '0621-08460')\n",
      "(17, 'Sven', 'Ottlieb', 'Aachen', 'Germany', '0241-039123')\n",
      "(25, 'Peter', 'Franken', 'München', 'Germany', '089-0877310')\n",
      "(39, 'Philip', 'Cramer', 'Brandenburg', 'Germany', '0555-09876')\n",
      "(44, 'Renate', 'Messner', 'Frankfurt a.M.', 'Germany', '069-0245984')\n",
      "(52, 'Alexander', 'Feuer', 'Leipzig', 'Germany', '0342-023176')\n",
      "(56, 'Henriette', 'Pfalzheim', 'Köln', 'Germany', '0221-0644327')\n",
      "(63, 'Horst', 'Kloss', 'Cunewalde', 'Germany', '0372-035188')\n",
      "(79, 'Karin', 'Josephs', 'Münster', 'Germany', '0251-031259')\n",
      "(86, 'Rita', 'Müller', 'Stuttgart', 'Germany', '0711-020361')\n"
     ]
    }
   ],
   "source": [
    "stm = \"\"\"\n",
    "SELECT *\n",
    "FROM customers\n",
    "WHERE Country='Germany'\n",
    "\"\"\"\n",
    "cur.execute(stm)\n",
    "# doc va in ra\n",
    "for row in cur:\n",
    "    print(row)"
   ]
  },
  {
   "cell_type": "code",
   "execution_count": 32,
   "metadata": {},
   "outputs": [
    {
     "data": {
      "text/plain": [
       "True"
      ]
     },
     "execution_count": 32,
     "metadata": {},
     "output_type": "execute_result"
    }
   ],
   "source": [
    "cur.close()"
   ]
  },
  {
   "cell_type": "code",
   "execution_count": 33,
   "metadata": {},
   "outputs": [],
   "source": [
    "conn.close()"
   ]
  },
  {
   "cell_type": "code",
   "execution_count": null,
   "metadata": {},
   "outputs": [],
   "source": []
  }
 ],
 "metadata": {
  "kernelspec": {
   "display_name": "Python 3",
   "language": "python",
   "name": "python3"
  },
  "language_info": {
   "codemirror_mode": {
    "name": "ipython",
    "version": 3
   },
   "file_extension": ".py",
   "mimetype": "text/x-python",
   "name": "python",
   "nbconvert_exporter": "python",
   "pygments_lexer": "ipython3",
   "version": "3.6.8"
  }
 },
 "nbformat": 4,
 "nbformat_minor": 2
}
