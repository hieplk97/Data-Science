{
 "cells": [
  {
   "cell_type": "code",
   "execution_count": 1,
   "id": "republican-lying",
   "metadata": {},
   "outputs": [
    {
     "data": {
      "text/html": [
       "<style>pre { white-space: pre !important; }</style>"
      ],
      "text/plain": [
       "<IPython.core.display.HTML object>"
      ]
     },
     "metadata": {},
     "output_type": "display_data"
    }
   ],
   "source": [
    "from IPython.core.display import HTML\n",
    "display(HTML(\"<style>pre { white-space: pre !important; }</style>\"))"
   ]
  },
  {
   "cell_type": "code",
   "execution_count": 2,
   "id": "environmental-question",
   "metadata": {},
   "outputs": [],
   "source": [
    "import findspark\n",
    "findspark.init()"
   ]
  },
  {
   "cell_type": "code",
   "execution_count": 3,
   "id": "treated-diesel",
   "metadata": {},
   "outputs": [],
   "source": [
    "import matplotlib.pyplot as plt\n",
    "import seaborn as sns\n",
    "from datetime import datetime\n",
    "\n",
    "from pyspark import SparkContext\n",
    "from pyspark.conf import SparkConf\n",
    "\n",
    "from pyspark.sql import SparkSession\n",
    "from pyspark.sql import types \n",
    "from pyspark.sql.functions import col, udf\n",
    "from pyspark.sql.types import DateType\n",
    "from pyspark.sql.functions import split, regexp_extract\n",
    "from pyspark.sql.functions import isnan, isnull, when, count\n",
    "from pyspark.sql.functions import to_date, dayofweek, year, month, to_timestamp"
   ]
  },
  {
   "cell_type": "code",
   "execution_count": 4,
   "id": "varying-forge",
   "metadata": {},
   "outputs": [],
   "source": [
    "sc = SparkContext()\n",
    "spark = SparkSession(sc)"
   ]
  },
  {
   "cell_type": "markdown",
   "id": "revised-essence",
   "metadata": {},
   "source": [
    "### 1. Đọc dữ liệu => data."
   ]
  },
  {
   "cell_type": "code",
   "execution_count": 5,
   "id": "mature-leone",
   "metadata": {},
   "outputs": [],
   "source": [
    "data = spark.read.csv('../../Data/complaints.csv', header=True, inferSchema=True)"
   ]
  },
  {
   "cell_type": "markdown",
   "id": "blind-horizontal",
   "metadata": {},
   "source": [
    "### 2. Cho biết dữ liệu có bao nhiêu dòng, in scheme. Hiển thị 3 dòng dữ liệu đầu tiên."
   ]
  },
  {
   "cell_type": "code",
   "execution_count": 6,
   "id": "medium-talent",
   "metadata": {},
   "outputs": [
    {
     "data": {
      "text/plain": [
       "2083368"
      ]
     },
     "execution_count": 6,
     "metadata": {},
     "output_type": "execute_result"
    }
   ],
   "source": [
    "data.count()"
   ]
  },
  {
   "cell_type": "code",
   "execution_count": 7,
   "id": "compound-novel",
   "metadata": {},
   "outputs": [
    {
     "name": "stdout",
     "output_type": "stream",
     "text": [
      "root\n",
      " |-- Date received: string (nullable = true)\n",
      " |-- Product: string (nullable = true)\n",
      " |-- Sub-product: string (nullable = true)\n",
      " |-- Issue: string (nullable = true)\n",
      " |-- Sub-issue: string (nullable = true)\n",
      " |-- Consumer complaint narrative: string (nullable = true)\n",
      " |-- Company public response: string (nullable = true)\n",
      " |-- Company: string (nullable = true)\n",
      " |-- State: string (nullable = true)\n",
      " |-- ZIP code: string (nullable = true)\n",
      " |-- Tags: string (nullable = true)\n",
      " |-- Consumer consent provided?: string (nullable = true)\n",
      " |-- Submitted via: string (nullable = true)\n",
      " |-- Date sent to company: string (nullable = true)\n",
      " |-- Company response to consumer: string (nullable = true)\n",
      " |-- Timely response?: string (nullable = true)\n",
      " |-- Consumer disputed?: string (nullable = true)\n",
      " |-- Complaint ID: string (nullable = true)\n",
      "\n"
     ]
    }
   ],
   "source": [
    "data.printSchema()"
   ]
  },
  {
   "cell_type": "code",
   "execution_count": 8,
   "id": "reliable-maximum",
   "metadata": {},
   "outputs": [
    {
     "name": "stdout",
     "output_type": "stream",
     "text": [
      "+--------------------+--------------------+----------------+--------------------+--------------------+----------------------------+-----------------------+--------------------+-----+----------+--------------------+--------------------------+-------------+--------------------+----------------------------+----------------+------------------+------------+\n",
      "|       Date received|             Product|     Sub-product|               Issue|           Sub-issue|Consumer complaint narrative|Company public response|             Company|State|  ZIP code|                Tags|Consumer consent provided?|Submitted via|Date sent to company|Company response to consumer|Timely response?|Consumer disputed?|Complaint ID|\n",
      "+--------------------+--------------------+----------------+--------------------+--------------------+----------------------------+-----------------------+--------------------+-----+----------+--------------------+--------------------------+-------------+--------------------+----------------------------+----------------+------------------+------------+\n",
      "|          2019-09-24|     Debt collection|   I do not know|Attempts to colle...|   Debt is not yours|        transworld system...|                   null|                null| null|      null|                null|                      null|         null|                null|                        null|            null|              null|        null|\n",
      "|is trying to coll...| not owed and is ...|            null|TRANSWORLD SYSTEM...|                  FL|                       335XX|                   null|    Consent provided|  Web|2019-09-24|Closed with expla...|                       Yes|          N/A|             3384392|                        null|            null|              null|        null|\n",
      "|          2019-09-19|Credit reporting,...|Credit reporting|Incorrect informa...|Information belon...|                        null|   Company has respo...|Experian Informat...|   PA|     15206|                null|      Consent not provided|          Web|          2019-09-20|        Closed with non-m...|             Yes|               N/A|     3379500|\n",
      "+--------------------+--------------------+----------------+--------------------+--------------------+----------------------------+-----------------------+--------------------+-----+----------+--------------------+--------------------------+-------------+--------------------+----------------------------+----------------+------------------+------------+\n",
      "only showing top 3 rows\n",
      "\n"
     ]
    }
   ],
   "source": [
    "data.show(3)"
   ]
  },
  {
   "cell_type": "markdown",
   "id": "grand-drawing",
   "metadata": {},
   "source": [
    "### 3. Kiểm tra dữ liệu NaN, null."
   ]
  },
  {
   "cell_type": "code",
   "execution_count": 9,
   "id": "available-innocent",
   "metadata": {},
   "outputs": [
    {
     "data": {
      "text/html": [
       "<div>\n",
       "<style scoped>\n",
       "    .dataframe tbody tr th:only-of-type {\n",
       "        vertical-align: middle;\n",
       "    }\n",
       "\n",
       "    .dataframe tbody tr th {\n",
       "        vertical-align: top;\n",
       "    }\n",
       "\n",
       "    .dataframe thead th {\n",
       "        text-align: right;\n",
       "    }\n",
       "</style>\n",
       "<table border=\"1\" class=\"dataframe\">\n",
       "  <thead>\n",
       "    <tr style=\"text-align: right;\">\n",
       "      <th></th>\n",
       "      <th>0</th>\n",
       "    </tr>\n",
       "  </thead>\n",
       "  <tbody>\n",
       "    <tr>\n",
       "      <th>Date received</th>\n",
       "      <td>0</td>\n",
       "    </tr>\n",
       "    <tr>\n",
       "      <th>Product</th>\n",
       "      <td>0</td>\n",
       "    </tr>\n",
       "    <tr>\n",
       "      <th>Sub-product</th>\n",
       "      <td>0</td>\n",
       "    </tr>\n",
       "    <tr>\n",
       "      <th>Issue</th>\n",
       "      <td>0</td>\n",
       "    </tr>\n",
       "    <tr>\n",
       "      <th>Sub-issue</th>\n",
       "      <td>0</td>\n",
       "    </tr>\n",
       "    <tr>\n",
       "      <th>Consumer complaint narrative</th>\n",
       "      <td>0</td>\n",
       "    </tr>\n",
       "    <tr>\n",
       "      <th>Company public response</th>\n",
       "      <td>0</td>\n",
       "    </tr>\n",
       "    <tr>\n",
       "      <th>Company</th>\n",
       "      <td>0</td>\n",
       "    </tr>\n",
       "    <tr>\n",
       "      <th>State</th>\n",
       "      <td>0</td>\n",
       "    </tr>\n",
       "    <tr>\n",
       "      <th>ZIP code</th>\n",
       "      <td>0</td>\n",
       "    </tr>\n",
       "    <tr>\n",
       "      <th>Tags</th>\n",
       "      <td>0</td>\n",
       "    </tr>\n",
       "    <tr>\n",
       "      <th>Consumer consent provided?</th>\n",
       "      <td>0</td>\n",
       "    </tr>\n",
       "    <tr>\n",
       "      <th>Submitted via</th>\n",
       "      <td>0</td>\n",
       "    </tr>\n",
       "    <tr>\n",
       "      <th>Date sent to company</th>\n",
       "      <td>0</td>\n",
       "    </tr>\n",
       "    <tr>\n",
       "      <th>Company response to consumer</th>\n",
       "      <td>0</td>\n",
       "    </tr>\n",
       "    <tr>\n",
       "      <th>Timely response?</th>\n",
       "      <td>0</td>\n",
       "    </tr>\n",
       "    <tr>\n",
       "      <th>Consumer disputed?</th>\n",
       "      <td>0</td>\n",
       "    </tr>\n",
       "    <tr>\n",
       "      <th>Complaint ID</th>\n",
       "      <td>0</td>\n",
       "    </tr>\n",
       "  </tbody>\n",
       "</table>\n",
       "</div>"
      ],
      "text/plain": [
       "                              0\n",
       "Date received                 0\n",
       "Product                       0\n",
       "Sub-product                   0\n",
       "Issue                         0\n",
       "Sub-issue                     0\n",
       "Consumer complaint narrative  0\n",
       "Company public response       0\n",
       "Company                       0\n",
       "State                         0\n",
       "ZIP code                      0\n",
       "Tags                          0\n",
       "Consumer consent provided?    0\n",
       "Submitted via                 0\n",
       "Date sent to company          0\n",
       "Company response to consumer  0\n",
       "Timely response?              0\n",
       "Consumer disputed?            0\n",
       "Complaint ID                  0"
      ]
     },
     "execution_count": 9,
     "metadata": {},
     "output_type": "execute_result"
    }
   ],
   "source": [
    "data.select([count(when(isnan(c), c)).alias(c) for c in data.columns]).toPandas().T"
   ]
  },
  {
   "cell_type": "markdown",
   "id": "considered-paragraph",
   "metadata": {},
   "source": [
    "=> không có dữ liệu NaN"
   ]
  },
  {
   "cell_type": "code",
   "execution_count": 10,
   "id": "geological-grill",
   "metadata": {},
   "outputs": [
    {
     "data": {
      "text/html": [
       "<div>\n",
       "<style scoped>\n",
       "    .dataframe tbody tr th:only-of-type {\n",
       "        vertical-align: middle;\n",
       "    }\n",
       "\n",
       "    .dataframe tbody tr th {\n",
       "        vertical-align: top;\n",
       "    }\n",
       "\n",
       "    .dataframe thead th {\n",
       "        text-align: right;\n",
       "    }\n",
       "</style>\n",
       "<table border=\"1\" class=\"dataframe\">\n",
       "  <thead>\n",
       "    <tr style=\"text-align: right;\">\n",
       "      <th></th>\n",
       "      <th>0</th>\n",
       "    </tr>\n",
       "  </thead>\n",
       "  <tbody>\n",
       "    <tr>\n",
       "      <th>Date received</th>\n",
       "      <td>40</td>\n",
       "    </tr>\n",
       "    <tr>\n",
       "      <th>Product</th>\n",
       "      <td>209258</td>\n",
       "    </tr>\n",
       "    <tr>\n",
       "      <th>Sub-product</th>\n",
       "      <td>511176</td>\n",
       "    </tr>\n",
       "    <tr>\n",
       "      <th>Issue</th>\n",
       "      <td>325183</td>\n",
       "    </tr>\n",
       "    <tr>\n",
       "      <th>Sub-issue</th>\n",
       "      <td>931248</td>\n",
       "    </tr>\n",
       "    <tr>\n",
       "      <th>Consumer complaint narrative</th>\n",
       "      <td>1454171</td>\n",
       "    </tr>\n",
       "    <tr>\n",
       "      <th>Company public response</th>\n",
       "      <td>1412034</td>\n",
       "    </tr>\n",
       "    <tr>\n",
       "      <th>Company</th>\n",
       "      <td>573431</td>\n",
       "    </tr>\n",
       "    <tr>\n",
       "      <th>State</th>\n",
       "      <td>597994</td>\n",
       "    </tr>\n",
       "    <tr>\n",
       "      <th>ZIP code</th>\n",
       "      <td>673059</td>\n",
       "    </tr>\n",
       "    <tr>\n",
       "      <th>Tags</th>\n",
       "      <td>1720420</td>\n",
       "    </tr>\n",
       "    <tr>\n",
       "      <th>Consumer consent provided?</th>\n",
       "      <td>600884</td>\n",
       "    </tr>\n",
       "    <tr>\n",
       "      <th>Submitted via</th>\n",
       "      <td>583444</td>\n",
       "    </tr>\n",
       "    <tr>\n",
       "      <th>Date sent to company</th>\n",
       "      <td>659690</td>\n",
       "    </tr>\n",
       "    <tr>\n",
       "      <th>Company response to consumer</th>\n",
       "      <td>694041</td>\n",
       "    </tr>\n",
       "    <tr>\n",
       "      <th>Timely response?</th>\n",
       "      <td>711651</td>\n",
       "    </tr>\n",
       "    <tr>\n",
       "      <th>Consumer disputed?</th>\n",
       "      <td>721662</td>\n",
       "    </tr>\n",
       "    <tr>\n",
       "      <th>Complaint ID</th>\n",
       "      <td>728036</td>\n",
       "    </tr>\n",
       "  </tbody>\n",
       "</table>\n",
       "</div>"
      ],
      "text/plain": [
       "                                    0\n",
       "Date received                      40\n",
       "Product                        209258\n",
       "Sub-product                    511176\n",
       "Issue                          325183\n",
       "Sub-issue                      931248\n",
       "Consumer complaint narrative  1454171\n",
       "Company public response       1412034\n",
       "Company                        573431\n",
       "State                          597994\n",
       "ZIP code                       673059\n",
       "Tags                          1720420\n",
       "Consumer consent provided?     600884\n",
       "Submitted via                  583444\n",
       "Date sent to company           659690\n",
       "Company response to consumer   694041\n",
       "Timely response?               711651\n",
       "Consumer disputed?             721662\n",
       "Complaint ID                   728036"
      ]
     },
     "execution_count": 10,
     "metadata": {},
     "output_type": "execute_result"
    }
   ],
   "source": [
    "data.select([count(when(isnull(c), c)).alias(c) for c in data.columns]).toPandas().T"
   ]
  },
  {
   "cell_type": "markdown",
   "id": "chronic-combination",
   "metadata": {},
   "source": [
    "=> Có rất nhiều dữ liệu null theo từng cột"
   ]
  },
  {
   "cell_type": "markdown",
   "id": "affecting-messenger",
   "metadata": {},
   "source": [
    "### 4. Kiểm tra dữ liệu trùng. Xóa dữ liệu trùng."
   ]
  },
  {
   "cell_type": "code",
   "execution_count": 11,
   "id": "central-toner",
   "metadata": {},
   "outputs": [],
   "source": [
    "num_rows = data.count()\n",
    "num_dist_rows = data.distinct().count()\n",
    "dup_rows = num_rows - num_dist_rows"
   ]
  },
  {
   "cell_type": "code",
   "execution_count": 12,
   "id": "native-sense",
   "metadata": {},
   "outputs": [
    {
     "data": {
      "text/plain": [
       "2020609"
      ]
     },
     "execution_count": 12,
     "metadata": {},
     "output_type": "execute_result"
    }
   ],
   "source": [
    "num_dist_rows"
   ]
  },
  {
   "cell_type": "code",
   "execution_count": 13,
   "id": "joined-kruger",
   "metadata": {},
   "outputs": [
    {
     "data": {
      "text/plain": [
       "62759"
      ]
     },
     "execution_count": 13,
     "metadata": {},
     "output_type": "execute_result"
    }
   ],
   "source": [
    "dup_rows"
   ]
  },
  {
   "cell_type": "markdown",
   "id": "happy-norwegian",
   "metadata": {},
   "source": [
    "Có dữ liệu trùng"
   ]
  },
  {
   "cell_type": "code",
   "execution_count": 14,
   "id": "authorized-think",
   "metadata": {},
   "outputs": [],
   "source": [
    "data = data.drop_duplicates()"
   ]
  },
  {
   "cell_type": "code",
   "execution_count": 15,
   "id": "short-action",
   "metadata": {},
   "outputs": [
    {
     "data": {
      "text/plain": [
       "2020609"
      ]
     },
     "execution_count": 15,
     "metadata": {},
     "output_type": "execute_result"
    }
   ],
   "source": [
    "data.distinct().count()"
   ]
  },
  {
   "cell_type": "markdown",
   "id": "crucial-jesus",
   "metadata": {},
   "source": [
    "Hết dữ liệu trùng"
   ]
  },
  {
   "cell_type": "markdown",
   "id": "infectious-drawing",
   "metadata": {},
   "source": [
    "### 5. Kiểm tra dữ liệu null. Tính tỉ lệ null."
   ]
  },
  {
   "cell_type": "code",
   "execution_count": 16,
   "id": "fatty-debut",
   "metadata": {},
   "outputs": [],
   "source": [
    "null_data = data.select([count(when(isnull(c), c)).alias(c) for c in data.columns]).toPandas().T"
   ]
  },
  {
   "cell_type": "code",
   "execution_count": 17,
   "id": "confused-companion",
   "metadata": {},
   "outputs": [
    {
     "data": {
      "text/html": [
       "<div>\n",
       "<style scoped>\n",
       "    .dataframe tbody tr th:only-of-type {\n",
       "        vertical-align: middle;\n",
       "    }\n",
       "\n",
       "    .dataframe tbody tr th {\n",
       "        vertical-align: top;\n",
       "    }\n",
       "\n",
       "    .dataframe thead th {\n",
       "        text-align: right;\n",
       "    }\n",
       "</style>\n",
       "<table border=\"1\" class=\"dataframe\">\n",
       "  <thead>\n",
       "    <tr style=\"text-align: right;\">\n",
       "      <th></th>\n",
       "      <th>0</th>\n",
       "    </tr>\n",
       "  </thead>\n",
       "  <tbody>\n",
       "    <tr>\n",
       "      <th>Date received</th>\n",
       "      <td>39</td>\n",
       "    </tr>\n",
       "    <tr>\n",
       "      <th>Product</th>\n",
       "      <td>178373</td>\n",
       "    </tr>\n",
       "    <tr>\n",
       "      <th>Sub-product</th>\n",
       "      <td>472168</td>\n",
       "    </tr>\n",
       "    <tr>\n",
       "      <th>Issue</th>\n",
       "      <td>281416</td>\n",
       "    </tr>\n",
       "    <tr>\n",
       "      <th>Sub-issue</th>\n",
       "      <td>884470</td>\n",
       "    </tr>\n",
       "    <tr>\n",
       "      <th>Consumer complaint narrative</th>\n",
       "      <td>1405173</td>\n",
       "    </tr>\n",
       "    <tr>\n",
       "      <th>Company public response</th>\n",
       "      <td>1353196</td>\n",
       "    </tr>\n",
       "    <tr>\n",
       "      <th>Company</th>\n",
       "      <td>513337</td>\n",
       "    </tr>\n",
       "    <tr>\n",
       "      <th>State</th>\n",
       "      <td>537111</td>\n",
       "    </tr>\n",
       "    <tr>\n",
       "      <th>ZIP code</th>\n",
       "      <td>611785</td>\n",
       "    </tr>\n",
       "    <tr>\n",
       "      <th>Tags</th>\n",
       "      <td>1659004</td>\n",
       "    </tr>\n",
       "    <tr>\n",
       "      <th>Consumer consent provided?</th>\n",
       "      <td>539324</td>\n",
       "    </tr>\n",
       "    <tr>\n",
       "      <th>Submitted via</th>\n",
       "      <td>521790</td>\n",
       "    </tr>\n",
       "    <tr>\n",
       "      <th>Date sent to company</th>\n",
       "      <td>597981</td>\n",
       "    </tr>\n",
       "    <tr>\n",
       "      <th>Company response to consumer</th>\n",
       "      <td>632256</td>\n",
       "    </tr>\n",
       "    <tr>\n",
       "      <th>Timely response?</th>\n",
       "      <td>649891</td>\n",
       "    </tr>\n",
       "    <tr>\n",
       "      <th>Consumer disputed?</th>\n",
       "      <td>659883</td>\n",
       "    </tr>\n",
       "    <tr>\n",
       "      <th>Complaint ID</th>\n",
       "      <td>666220</td>\n",
       "    </tr>\n",
       "  </tbody>\n",
       "</table>\n",
       "</div>"
      ],
      "text/plain": [
       "                                    0\n",
       "Date received                      39\n",
       "Product                        178373\n",
       "Sub-product                    472168\n",
       "Issue                          281416\n",
       "Sub-issue                      884470\n",
       "Consumer complaint narrative  1405173\n",
       "Company public response       1353196\n",
       "Company                        513337\n",
       "State                          537111\n",
       "ZIP code                       611785\n",
       "Tags                          1659004\n",
       "Consumer consent provided?     539324\n",
       "Submitted via                  521790\n",
       "Date sent to company           597981\n",
       "Company response to consumer   632256\n",
       "Timely response?               649891\n",
       "Consumer disputed?             659883\n",
       "Complaint ID                   666220"
      ]
     },
     "execution_count": 17,
     "metadata": {},
     "output_type": "execute_result"
    }
   ],
   "source": [
    "null_data"
   ]
  },
  {
   "cell_type": "code",
   "execution_count": 18,
   "id": "round-variable",
   "metadata": {},
   "outputs": [],
   "source": [
    "null_data[\"Percentage\"] = (null_data[0]/num_dist_rows)*100"
   ]
  },
  {
   "cell_type": "code",
   "execution_count": 19,
   "id": "statutory-riding",
   "metadata": {},
   "outputs": [
    {
     "data": {
      "text/html": [
       "<div>\n",
       "<style scoped>\n",
       "    .dataframe tbody tr th:only-of-type {\n",
       "        vertical-align: middle;\n",
       "    }\n",
       "\n",
       "    .dataframe tbody tr th {\n",
       "        vertical-align: top;\n",
       "    }\n",
       "\n",
       "    .dataframe thead th {\n",
       "        text-align: right;\n",
       "    }\n",
       "</style>\n",
       "<table border=\"1\" class=\"dataframe\">\n",
       "  <thead>\n",
       "    <tr style=\"text-align: right;\">\n",
       "      <th></th>\n",
       "      <th>0</th>\n",
       "      <th>Percentage</th>\n",
       "    </tr>\n",
       "  </thead>\n",
       "  <tbody>\n",
       "    <tr>\n",
       "      <th>Tags</th>\n",
       "      <td>1659004</td>\n",
       "      <td>82.104158</td>\n",
       "    </tr>\n",
       "    <tr>\n",
       "      <th>Consumer complaint narrative</th>\n",
       "      <td>1405173</td>\n",
       "      <td>69.542054</td>\n",
       "    </tr>\n",
       "    <tr>\n",
       "      <th>Company public response</th>\n",
       "      <td>1353196</td>\n",
       "      <td>66.969711</td>\n",
       "    </tr>\n",
       "    <tr>\n",
       "      <th>Sub-issue</th>\n",
       "      <td>884470</td>\n",
       "      <td>43.772447</td>\n",
       "    </tr>\n",
       "    <tr>\n",
       "      <th>Complaint ID</th>\n",
       "      <td>666220</td>\n",
       "      <td>32.971248</td>\n",
       "    </tr>\n",
       "    <tr>\n",
       "      <th>Consumer disputed?</th>\n",
       "      <td>659883</td>\n",
       "      <td>32.657629</td>\n",
       "    </tr>\n",
       "    <tr>\n",
       "      <th>Timely response?</th>\n",
       "      <td>649891</td>\n",
       "      <td>32.163125</td>\n",
       "    </tr>\n",
       "    <tr>\n",
       "      <th>Company response to consumer</th>\n",
       "      <td>632256</td>\n",
       "      <td>31.290368</td>\n",
       "    </tr>\n",
       "    <tr>\n",
       "      <th>ZIP code</th>\n",
       "      <td>611785</td>\n",
       "      <td>30.277258</td>\n",
       "    </tr>\n",
       "    <tr>\n",
       "      <th>Date sent to company</th>\n",
       "      <td>597981</td>\n",
       "      <td>29.594098</td>\n",
       "    </tr>\n",
       "    <tr>\n",
       "      <th>Consumer consent provided?</th>\n",
       "      <td>539324</td>\n",
       "      <td>26.691161</td>\n",
       "    </tr>\n",
       "    <tr>\n",
       "      <th>State</th>\n",
       "      <td>537111</td>\n",
       "      <td>26.581639</td>\n",
       "    </tr>\n",
       "    <tr>\n",
       "      <th>Submitted via</th>\n",
       "      <td>521790</td>\n",
       "      <td>25.823403</td>\n",
       "    </tr>\n",
       "    <tr>\n",
       "      <th>Company</th>\n",
       "      <td>513337</td>\n",
       "      <td>25.405064</td>\n",
       "    </tr>\n",
       "    <tr>\n",
       "      <th>Sub-product</th>\n",
       "      <td>472168</td>\n",
       "      <td>23.367608</td>\n",
       "    </tr>\n",
       "    <tr>\n",
       "      <th>Issue</th>\n",
       "      <td>281416</td>\n",
       "      <td>13.927286</td>\n",
       "    </tr>\n",
       "    <tr>\n",
       "      <th>Product</th>\n",
       "      <td>178373</td>\n",
       "      <td>8.827685</td>\n",
       "    </tr>\n",
       "    <tr>\n",
       "      <th>Date received</th>\n",
       "      <td>39</td>\n",
       "      <td>0.001930</td>\n",
       "    </tr>\n",
       "  </tbody>\n",
       "</table>\n",
       "</div>"
      ],
      "text/plain": [
       "                                    0  Percentage\n",
       "Tags                          1659004   82.104158\n",
       "Consumer complaint narrative  1405173   69.542054\n",
       "Company public response       1353196   66.969711\n",
       "Sub-issue                      884470   43.772447\n",
       "Complaint ID                   666220   32.971248\n",
       "Consumer disputed?             659883   32.657629\n",
       "Timely response?               649891   32.163125\n",
       "Company response to consumer   632256   31.290368\n",
       "ZIP code                       611785   30.277258\n",
       "Date sent to company           597981   29.594098\n",
       "Consumer consent provided?     539324   26.691161\n",
       "State                          537111   26.581639\n",
       "Submitted via                  521790   25.823403\n",
       "Company                        513337   25.405064\n",
       "Sub-product                    472168   23.367608\n",
       "Issue                          281416   13.927286\n",
       "Product                        178373    8.827685\n",
       "Date received                      39    0.001930"
      ]
     },
     "execution_count": 19,
     "metadata": {},
     "output_type": "execute_result"
    }
   ],
   "source": [
    "null_data.sort_values('Percentage', axis=0, ascending=False)"
   ]
  },
  {
   "cell_type": "markdown",
   "id": "immediate-times",
   "metadata": {},
   "source": [
    "### 6. Tạo dữ liệu mới, trong đó không có các cột có dữ liệu thiếu trên 30%."
   ]
  },
  {
   "cell_type": "code",
   "execution_count": 20,
   "id": "superior-publicity",
   "metadata": {},
   "outputs": [],
   "source": [
    "cols = null_data[null_data['Percentage'] < 30].index.values.tolist()"
   ]
  },
  {
   "cell_type": "code",
   "execution_count": 21,
   "id": "increasing-london",
   "metadata": {},
   "outputs": [
    {
     "data": {
      "text/plain": [
       "['Date received',\n",
       " 'Product',\n",
       " 'Sub-product',\n",
       " 'Issue',\n",
       " 'Company',\n",
       " 'State',\n",
       " 'Consumer consent provided?',\n",
       " 'Submitted via',\n",
       " 'Date sent to company']"
      ]
     },
     "execution_count": 21,
     "metadata": {},
     "output_type": "execute_result"
    }
   ],
   "source": [
    "cols"
   ]
  },
  {
   "cell_type": "code",
   "execution_count": 22,
   "id": "popular-scenario",
   "metadata": {},
   "outputs": [],
   "source": [
    "data_sub = data.select(cols)"
   ]
  },
  {
   "cell_type": "code",
   "execution_count": 23,
   "id": "secure-satellite",
   "metadata": {},
   "outputs": [
    {
     "name": "stdout",
     "output_type": "stream",
     "text": [
      "+--------------------+--------------------+-----------+-----+-------+-----+--------------------------+-------------+--------------------+\n",
      "|       Date received|             Product|Sub-product|Issue|Company|State|Consumer consent provided?|Submitted via|Date sent to company|\n",
      "+--------------------+--------------------+-----------+-----+-------+-----+--------------------------+-------------+--------------------+\n",
      "|****United XXXXXX...| 12 CFR 1024.17 (...|       null| null|   null| null|                      null|         null|                null|\n",
      "|**See attached 1s...|                null|       null| null|   null| null|                      null|         null|                null|\n",
      "+--------------------+--------------------+-----------+-----+-------+-----+--------------------------+-------------+--------------------+\n",
      "only showing top 2 rows\n",
      "\n"
     ]
    }
   ],
   "source": [
    "data_sub.show(2)"
   ]
  },
  {
   "cell_type": "markdown",
   "id": "plain-sequence",
   "metadata": {},
   "source": [
    "### 7. Xóa các dòng có 'Date recieved' là null và/hoặc 'Product' là null."
   ]
  },
  {
   "cell_type": "code",
   "execution_count": 24,
   "id": "technological-edward",
   "metadata": {},
   "outputs": [],
   "source": [
    "data_sub = data_sub.dropna(how='any', subset=['Date received','Product'])"
   ]
  },
  {
   "cell_type": "code",
   "execution_count": 25,
   "id": "scenic-swedish",
   "metadata": {},
   "outputs": [
    {
     "data": {
      "text/html": [
       "<div>\n",
       "<style scoped>\n",
       "    .dataframe tbody tr th:only-of-type {\n",
       "        vertical-align: middle;\n",
       "    }\n",
       "\n",
       "    .dataframe tbody tr th {\n",
       "        vertical-align: top;\n",
       "    }\n",
       "\n",
       "    .dataframe thead th {\n",
       "        text-align: right;\n",
       "    }\n",
       "</style>\n",
       "<table border=\"1\" class=\"dataframe\">\n",
       "  <thead>\n",
       "    <tr style=\"text-align: right;\">\n",
       "      <th></th>\n",
       "      <th>0</th>\n",
       "    </tr>\n",
       "  </thead>\n",
       "  <tbody>\n",
       "    <tr>\n",
       "      <th>Date received</th>\n",
       "      <td>0</td>\n",
       "    </tr>\n",
       "    <tr>\n",
       "      <th>Product</th>\n",
       "      <td>0</td>\n",
       "    </tr>\n",
       "    <tr>\n",
       "      <th>Sub-product</th>\n",
       "      <td>332225</td>\n",
       "    </tr>\n",
       "    <tr>\n",
       "      <th>Issue</th>\n",
       "      <td>141159</td>\n",
       "    </tr>\n",
       "    <tr>\n",
       "      <th>Company</th>\n",
       "      <td>373348</td>\n",
       "    </tr>\n",
       "    <tr>\n",
       "      <th>State</th>\n",
       "      <td>397120</td>\n",
       "    </tr>\n",
       "    <tr>\n",
       "      <th>Consumer consent provided?</th>\n",
       "      <td>399331</td>\n",
       "    </tr>\n",
       "    <tr>\n",
       "      <th>Submitted via</th>\n",
       "      <td>381799</td>\n",
       "    </tr>\n",
       "    <tr>\n",
       "      <th>Date sent to company</th>\n",
       "      <td>419608</td>\n",
       "    </tr>\n",
       "  </tbody>\n",
       "</table>\n",
       "</div>"
      ],
      "text/plain": [
       "                                 0\n",
       "Date received                    0\n",
       "Product                          0\n",
       "Sub-product                 332225\n",
       "Issue                       141159\n",
       "Company                     373348\n",
       "State                       397120\n",
       "Consumer consent provided?  399331\n",
       "Submitted via               381799\n",
       "Date sent to company        419608"
      ]
     },
     "execution_count": 25,
     "metadata": {},
     "output_type": "execute_result"
    }
   ],
   "source": [
    "data_sub.select([count(when(isnull(c), c)).alias(c) for c in data_sub.columns]).toPandas().T"
   ]
  },
  {
   "cell_type": "markdown",
   "id": "powered-wrist",
   "metadata": {},
   "source": [
    "### 8. Tạo cột 'date_from_text' chứa dữ liệu yyyy-dd-mm từ 'Date recieved' nếu có, nếu không sẽ là ''. Lọc dữ liệu data_sub với yêu cầu 'date_from_text' khác ''."
   ]
  },
  {
   "cell_type": "code",
   "execution_count": 26,
   "id": "peaceful-laundry",
   "metadata": {},
   "outputs": [],
   "source": [
    "data_sub = data_sub.withColumn('date_from_text', regexp_extract(data_sub['Date received'], r\"(\\d{4}-\\d{1,2}-\\d{1,2})\", 0))"
   ]
  },
  {
   "cell_type": "code",
   "execution_count": 27,
   "id": "brazilian-samuel",
   "metadata": {},
   "outputs": [
    {
     "data": {
      "text/plain": [
       "[Row(date_from_text='', Date received='****United XXXXXXXX XXXX and XXXX XXXX XXXX dba XXXX XXXX clearly violated Regulation X'),\n",
       " Row(date_from_text='', Date received='- was informed that the 2nd settlement agreement created on XX/XX/XXXX'),\n",
       " Row(date_from_text='', Date received='13. Finally'),\n",
       " Row(date_from_text='', Date received='4.Please send this information to my address listed above and accept this formal complaint asmy formal debt validation request'),\n",
       " Row(date_from_text='', Date received='Also')]"
      ]
     },
     "execution_count": 27,
     "metadata": {},
     "output_type": "execute_result"
    }
   ],
   "source": [
    "data_sub.select('date_from_text', 'Date received').head(5)"
   ]
  },
  {
   "cell_type": "code",
   "execution_count": 28,
   "id": "cathedral-cameroon",
   "metadata": {},
   "outputs": [],
   "source": [
    "data_sub = data_sub.filter(data_sub['date_from_text'] != '')"
   ]
  },
  {
   "cell_type": "code",
   "execution_count": 29,
   "id": "posted-duration",
   "metadata": {},
   "outputs": [
    {
     "data": {
      "text/plain": [
       "[Row(date_from_text='2019-02-28', Date received='2019-02-28'),\n",
       " Row(date_from_text='2019-06-07', Date received='2019-06-07'),\n",
       " Row(date_from_text='2019-05-20', Date received='2019-05-20'),\n",
       " Row(date_from_text='2019-02-15', Date received='2019-02-15'),\n",
       " Row(date_from_text='2019-08-03', Date received='2019-08-03'),\n",
       " Row(date_from_text='2019-04-05', Date received='2019-04-05'),\n",
       " Row(date_from_text='2019-05-04', Date received='2019-05-04'),\n",
       " Row(date_from_text='2019-06-06', Date received='2019-06-06'),\n",
       " Row(date_from_text='2019-03-18', Date received='2019-03-18'),\n",
       " Row(date_from_text='2019-01-15', Date received='2019-01-15')]"
      ]
     },
     "execution_count": 29,
     "metadata": {},
     "output_type": "execute_result"
    }
   ],
   "source": [
    "data_sub.select('date_from_text', 'Date received').head(10)"
   ]
  },
  {
   "cell_type": "markdown",
   "id": "impressed-mattress",
   "metadata": {},
   "source": [
    "### 9. Tạo cột 'CCP' mới lấy dữ liệu từ cột 'Consumer consent provided?'. Với cột 'CCP' hãy điền 'Consent not provided' thay cho null."
   ]
  },
  {
   "cell_type": "code",
   "execution_count": 30,
   "id": "brief-ribbon",
   "metadata": {},
   "outputs": [],
   "source": [
    "data_sub = data_sub.withColumn('CCP', data_sub['Consumer consent provided?'])"
   ]
  },
  {
   "cell_type": "code",
   "execution_count": 31,
   "id": "handed-burns",
   "metadata": {},
   "outputs": [],
   "source": [
    "data_sub = data_sub.fillna('Consent not provided', subset='CCP')"
   ]
  },
  {
   "cell_type": "markdown",
   "id": "medical-wallace",
   "metadata": {},
   "source": [
    "### 10. Tạo cột 'SV' mới lấy dữ liệu từ cột 'Submitted via'. Với cột 'SV' hãy điền 'Other' thay cho null."
   ]
  },
  {
   "cell_type": "code",
   "execution_count": 32,
   "id": "driving-simulation",
   "metadata": {},
   "outputs": [],
   "source": [
    "data_sub = data_sub.withColumn('SV', data_sub['Submitted via'])"
   ]
  },
  {
   "cell_type": "code",
   "execution_count": 33,
   "id": "legitimate-state",
   "metadata": {},
   "outputs": [],
   "source": [
    "data_sub = data_sub.fillna('Other', subset='SV')"
   ]
  },
  {
   "cell_type": "markdown",
   "id": "exterior-crest",
   "metadata": {},
   "source": [
    "### 11. Tạo cột 'Sub-pr' mới lấy dữ liệu từ cột 'Sub-product'. Với cột 'Sub-pr' hãy điền 'I do not know' thay cho null."
   ]
  },
  {
   "cell_type": "code",
   "execution_count": 34,
   "id": "standard-starter",
   "metadata": {},
   "outputs": [],
   "source": [
    "data_sub = data_sub.withColumn('Sub-pr', data_sub['Sub-product'])"
   ]
  },
  {
   "cell_type": "code",
   "execution_count": 35,
   "id": "educated-elder",
   "metadata": {},
   "outputs": [],
   "source": [
    "data_sub = data_sub.fillna('I do not know', subset='Sub-pr')"
   ]
  },
  {
   "cell_type": "code",
   "execution_count": 36,
   "id": "compound-trade",
   "metadata": {},
   "outputs": [
    {
     "data": {
      "text/html": [
       "<div>\n",
       "<style scoped>\n",
       "    .dataframe tbody tr th:only-of-type {\n",
       "        vertical-align: middle;\n",
       "    }\n",
       "\n",
       "    .dataframe tbody tr th {\n",
       "        vertical-align: top;\n",
       "    }\n",
       "\n",
       "    .dataframe thead th {\n",
       "        text-align: right;\n",
       "    }\n",
       "</style>\n",
       "<table border=\"1\" class=\"dataframe\">\n",
       "  <thead>\n",
       "    <tr style=\"text-align: right;\">\n",
       "      <th></th>\n",
       "      <th>0</th>\n",
       "    </tr>\n",
       "  </thead>\n",
       "  <tbody>\n",
       "    <tr>\n",
       "      <th>Date received</th>\n",
       "      <td>0</td>\n",
       "    </tr>\n",
       "    <tr>\n",
       "      <th>Product</th>\n",
       "      <td>0</td>\n",
       "    </tr>\n",
       "    <tr>\n",
       "      <th>Sub-product</th>\n",
       "      <td>234541</td>\n",
       "    </tr>\n",
       "    <tr>\n",
       "      <th>Issue</th>\n",
       "      <td>0</td>\n",
       "    </tr>\n",
       "    <tr>\n",
       "      <th>Company</th>\n",
       "      <td>147497</td>\n",
       "    </tr>\n",
       "    <tr>\n",
       "      <th>State</th>\n",
       "      <td>173009</td>\n",
       "    </tr>\n",
       "    <tr>\n",
       "      <th>Consumer consent provided?</th>\n",
       "      <td>174052</td>\n",
       "    </tr>\n",
       "    <tr>\n",
       "      <th>Submitted via</th>\n",
       "      <td>156052</td>\n",
       "    </tr>\n",
       "    <tr>\n",
       "      <th>Date sent to company</th>\n",
       "      <td>155134</td>\n",
       "    </tr>\n",
       "    <tr>\n",
       "      <th>date_from_text</th>\n",
       "      <td>0</td>\n",
       "    </tr>\n",
       "    <tr>\n",
       "      <th>CCP</th>\n",
       "      <td>0</td>\n",
       "    </tr>\n",
       "    <tr>\n",
       "      <th>SV</th>\n",
       "      <td>0</td>\n",
       "    </tr>\n",
       "    <tr>\n",
       "      <th>Sub-pr</th>\n",
       "      <td>0</td>\n",
       "    </tr>\n",
       "  </tbody>\n",
       "</table>\n",
       "</div>"
      ],
      "text/plain": [
       "                                 0\n",
       "Date received                    0\n",
       "Product                          0\n",
       "Sub-product                 234541\n",
       "Issue                            0\n",
       "Company                     147497\n",
       "State                       173009\n",
       "Consumer consent provided?  174052\n",
       "Submitted via               156052\n",
       "Date sent to company        155134\n",
       "date_from_text                   0\n",
       "CCP                              0\n",
       "SV                               0\n",
       "Sub-pr                           0"
      ]
     },
     "execution_count": 36,
     "metadata": {},
     "output_type": "execute_result"
    }
   ],
   "source": [
    "data_sub.select([count(when(isnull(c), c)).alias(c) for c in data_sub.columns]).toPandas().T"
   ]
  },
  {
   "cell_type": "markdown",
   "id": "muslim-luther",
   "metadata": {},
   "source": [
    "### 12. Tạo cột 'State_new' lấy dữ liệu từ cột 'State' theo điều kiện sau: nếu có thông tin State thì lấy thông tin, nếu không có thông tin thì điền 'unknow' thay cho null."
   ]
  },
  {
   "cell_type": "code",
   "execution_count": 37,
   "id": "cubic-place",
   "metadata": {},
   "outputs": [],
   "source": [
    "data_sub = data_sub.withColumn('State_new', when(col('State').isNull(), 'unknow').otherwise(col('State')))"
   ]
  },
  {
   "cell_type": "markdown",
   "id": "developed-wells",
   "metadata": {},
   "source": [
    "### 13. Tạo cột 'Date_received' lấy dữ liệu từ cột 'date_from_text', định dạng thời gian yyyy-mm-dd."
   ]
  },
  {
   "cell_type": "code",
   "execution_count": 38,
   "id": "failing-block",
   "metadata": {},
   "outputs": [],
   "source": [
    "func = udf(lambda x: datetime.strptime(x, '%Y-%m-%d'), DateType())\n",
    "data_sub = data_sub.withColumn('Date_received', func(col('date_from_text')))"
   ]
  },
  {
   "cell_type": "code",
   "execution_count": 39,
   "id": "efficient-aviation",
   "metadata": {},
   "outputs": [
    {
     "name": "stdout",
     "output_type": "stream",
     "text": [
      "root\n",
      " |-- Date received: string (nullable = true)\n",
      " |-- Product: string (nullable = true)\n",
      " |-- Sub-product: string (nullable = true)\n",
      " |-- Issue: string (nullable = true)\n",
      " |-- Company: string (nullable = true)\n",
      " |-- State: string (nullable = true)\n",
      " |-- Consumer consent provided?: string (nullable = true)\n",
      " |-- Submitted via: string (nullable = true)\n",
      " |-- Date sent to company: string (nullable = true)\n",
      " |-- date_from_text: string (nullable = true)\n",
      " |-- CCP: string (nullable = false)\n",
      " |-- SV: string (nullable = false)\n",
      " |-- Sub-pr: string (nullable = false)\n",
      " |-- State_new: string (nullable = true)\n",
      " |-- Date_received: date (nullable = true)\n",
      "\n"
     ]
    }
   ],
   "source": [
    "data_sub.printSchema()"
   ]
  },
  {
   "cell_type": "code",
   "execution_count": 40,
   "id": "challenging-foundation",
   "metadata": {},
   "outputs": [
    {
     "name": "stdout",
     "output_type": "stream",
     "text": [
      "+-------------+\n",
      "|Date_received|\n",
      "+-------------+\n",
      "|   2019-02-28|\n",
      "|   2019-06-07|\n",
      "|   2019-05-20|\n",
      "|   2019-02-15|\n",
      "|   2019-08-03|\n",
      "+-------------+\n",
      "only showing top 5 rows\n",
      "\n"
     ]
    }
   ],
   "source": [
    "data_sub.select('Date_received').show(5)"
   ]
  },
  {
   "cell_type": "markdown",
   "id": "modern-length",
   "metadata": {},
   "source": [
    "### 14. Tạo cột mới chứa ngày trong tuần 'day_of_week'(1: Monday, 7:Sunday) với lấy dữ liệu từ cột 'Date_received'."
   ]
  },
  {
   "cell_type": "code",
   "execution_count": 41,
   "id": "restricted-vision",
   "metadata": {},
   "outputs": [],
   "source": [
    "data_sub = data_sub.withColumn('day_of_week', dayofweek('Date_received'))"
   ]
  },
  {
   "cell_type": "markdown",
   "id": "consolidated-aspect",
   "metadata": {},
   "source": [
    "### 15. Tạo cột year, month, chứa năm, tháng với dữ liệu lấy từ cột 'Date_received'."
   ]
  },
  {
   "cell_type": "code",
   "execution_count": 42,
   "id": "synthetic-harassment",
   "metadata": {},
   "outputs": [],
   "source": [
    "data_sub = data_sub.withColumn('year', year('Date_received')).withColumn('month', month('Date_received'))"
   ]
  },
  {
   "cell_type": "code",
   "execution_count": 43,
   "id": "latin-liberia",
   "metadata": {},
   "outputs": [
    {
     "name": "stdout",
     "output_type": "stream",
     "text": [
      "+-------------+-----------+----+-----+\n",
      "|Date_received|day_of_week|year|month|\n",
      "+-------------+-----------+----+-----+\n",
      "|   2019-02-28|          5|2019|    2|\n",
      "|   2019-06-07|          6|2019|    6|\n",
      "|   2019-05-20|          2|2019|    5|\n",
      "|   2019-02-15|          6|2019|    2|\n",
      "|   2019-08-03|          7|2019|    8|\n",
      "+-------------+-----------+----+-----+\n",
      "only showing top 5 rows\n",
      "\n"
     ]
    }
   ],
   "source": [
    "data_sub.select('Date_received', 'day_of_week', 'year', 'month').show(5)"
   ]
  },
  {
   "cell_type": "code",
   "execution_count": 44,
   "id": "facial-sellers",
   "metadata": {},
   "outputs": [
    {
     "data": {
      "text/html": [
       "<div>\n",
       "<style scoped>\n",
       "    .dataframe tbody tr th:only-of-type {\n",
       "        vertical-align: middle;\n",
       "    }\n",
       "\n",
       "    .dataframe tbody tr th {\n",
       "        vertical-align: top;\n",
       "    }\n",
       "\n",
       "    .dataframe thead th {\n",
       "        text-align: right;\n",
       "    }\n",
       "</style>\n",
       "<table border=\"1\" class=\"dataframe\">\n",
       "  <thead>\n",
       "    <tr style=\"text-align: right;\">\n",
       "      <th></th>\n",
       "      <th>0</th>\n",
       "    </tr>\n",
       "  </thead>\n",
       "  <tbody>\n",
       "    <tr>\n",
       "      <th>Date received</th>\n",
       "      <td>0</td>\n",
       "    </tr>\n",
       "    <tr>\n",
       "      <th>Product</th>\n",
       "      <td>0</td>\n",
       "    </tr>\n",
       "    <tr>\n",
       "      <th>Sub-product</th>\n",
       "      <td>234541</td>\n",
       "    </tr>\n",
       "    <tr>\n",
       "      <th>Issue</th>\n",
       "      <td>0</td>\n",
       "    </tr>\n",
       "    <tr>\n",
       "      <th>Company</th>\n",
       "      <td>147497</td>\n",
       "    </tr>\n",
       "    <tr>\n",
       "      <th>State</th>\n",
       "      <td>173009</td>\n",
       "    </tr>\n",
       "    <tr>\n",
       "      <th>Consumer consent provided?</th>\n",
       "      <td>174052</td>\n",
       "    </tr>\n",
       "    <tr>\n",
       "      <th>Submitted via</th>\n",
       "      <td>156052</td>\n",
       "    </tr>\n",
       "    <tr>\n",
       "      <th>Date sent to company</th>\n",
       "      <td>155134</td>\n",
       "    </tr>\n",
       "    <tr>\n",
       "      <th>date_from_text</th>\n",
       "      <td>0</td>\n",
       "    </tr>\n",
       "    <tr>\n",
       "      <th>CCP</th>\n",
       "      <td>0</td>\n",
       "    </tr>\n",
       "    <tr>\n",
       "      <th>SV</th>\n",
       "      <td>0</td>\n",
       "    </tr>\n",
       "    <tr>\n",
       "      <th>Sub-pr</th>\n",
       "      <td>0</td>\n",
       "    </tr>\n",
       "    <tr>\n",
       "      <th>State_new</th>\n",
       "      <td>0</td>\n",
       "    </tr>\n",
       "    <tr>\n",
       "      <th>Date_received</th>\n",
       "      <td>0</td>\n",
       "    </tr>\n",
       "    <tr>\n",
       "      <th>day_of_week</th>\n",
       "      <td>0</td>\n",
       "    </tr>\n",
       "    <tr>\n",
       "      <th>year</th>\n",
       "      <td>0</td>\n",
       "    </tr>\n",
       "    <tr>\n",
       "      <th>month</th>\n",
       "      <td>0</td>\n",
       "    </tr>\n",
       "  </tbody>\n",
       "</table>\n",
       "</div>"
      ],
      "text/plain": [
       "                                 0\n",
       "Date received                    0\n",
       "Product                          0\n",
       "Sub-product                 234541\n",
       "Issue                            0\n",
       "Company                     147497\n",
       "State                       173009\n",
       "Consumer consent provided?  174052\n",
       "Submitted via               156052\n",
       "Date sent to company        155134\n",
       "date_from_text                   0\n",
       "CCP                              0\n",
       "SV                               0\n",
       "Sub-pr                           0\n",
       "State_new                        0\n",
       "Date_received                    0\n",
       "day_of_week                      0\n",
       "year                             0\n",
       "month                            0"
      ]
     },
     "execution_count": 44,
     "metadata": {},
     "output_type": "execute_result"
    }
   ],
   "source": [
    "data_sub.select([count(when(isnull(c), c)).alias(c) for c in data_sub.columns]).toPandas().T"
   ]
  },
  {
   "cell_type": "markdown",
   "id": "electronic-grounds",
   "metadata": {},
   "source": [
    "### 16. Vẽ biểu đồ thể hiện tần suất nhận complaint theo ngày trong tuần."
   ]
  },
  {
   "cell_type": "code",
   "execution_count": 45,
   "id": "faced-printer",
   "metadata": {},
   "outputs": [],
   "source": [
    "df = data_sub.select('day_of_week').toPandas()"
   ]
  },
  {
   "cell_type": "code",
   "execution_count": 46,
   "id": "conditional-tampa",
   "metadata": {},
   "outputs": [
    {
     "data": {
      "text/plain": [
       "array([[<AxesSubplot:title={'center':'day_of_week'}>]], dtype=object)"
      ]
     },
     "execution_count": 46,
     "metadata": {},
     "output_type": "execute_result"
    },
    {
     "data": {
      "image/png": "[encoded data removed]",
      "text/plain": [
       "<Figure size 432x288 with 1 Axes>"
      ]
     },
     "metadata": {
      "needs_background": "light"
     },
     "output_type": "display_data"
    }
   ],
   "source": [
    "df.hist()"
   ]
  },
  {
   "cell_type": "markdown",
   "id": "conservative-milton",
   "metadata": {},
   "source": [
    "### 17. Hãy cho biết 20 sản phẩm nhận complaint nhiều nhất. Đó là những sản phẩm nào? Biểu diễn bằng đồ thị."
   ]
  },
  {
   "cell_type": "code",
   "execution_count": 47,
   "id": "lovely-environment",
   "metadata": {},
   "outputs": [],
   "source": [
    "df_products = data_sub.groupby('product').count().orderBy('count', ascending=False).toPandas()"
   ]
  },
  {
   "cell_type": "code",
   "execution_count": 48,
   "id": "protective-static",
   "metadata": {},
   "outputs": [
    {
     "data": {
      "text/html": [
       "<div>\n",
       "<style scoped>\n",
       "    .dataframe tbody tr th:only-of-type {\n",
       "        vertical-align: middle;\n",
       "    }\n",
       "\n",
       "    .dataframe tbody tr th {\n",
       "        vertical-align: top;\n",
       "    }\n",
       "\n",
       "    .dataframe thead th {\n",
       "        text-align: right;\n",
       "    }\n",
       "</style>\n",
       "<table border=\"1\" class=\"dataframe\">\n",
       "  <thead>\n",
       "    <tr style=\"text-align: right;\">\n",
       "      <th></th>\n",
       "      <th>product</th>\n",
       "      <th>count</th>\n",
       "    </tr>\n",
       "  </thead>\n",
       "  <tbody>\n",
       "    <tr>\n",
       "      <th>0</th>\n",
       "      <td>Credit reporting, credit repair services, or o...</td>\n",
       "      <td>331635</td>\n",
       "    </tr>\n",
       "    <tr>\n",
       "      <th>1</th>\n",
       "      <td>Mortgage</td>\n",
       "      <td>295097</td>\n",
       "    </tr>\n",
       "    <tr>\n",
       "      <th>2</th>\n",
       "      <td>Debt collection</td>\n",
       "      <td>278961</td>\n",
       "    </tr>\n",
       "    <tr>\n",
       "      <th>3</th>\n",
       "      <td>Credit reporting</td>\n",
       "      <td>139825</td>\n",
       "    </tr>\n",
       "    <tr>\n",
       "      <th>4</th>\n",
       "      <td>Credit card</td>\n",
       "      <td>89175</td>\n",
       "    </tr>\n",
       "    <tr>\n",
       "      <th>5</th>\n",
       "      <td>Bank account or service</td>\n",
       "      <td>86193</td>\n",
       "    </tr>\n",
       "    <tr>\n",
       "      <th>6</th>\n",
       "      <td>Credit card or prepaid card</td>\n",
       "      <td>67849</td>\n",
       "    </tr>\n",
       "    <tr>\n",
       "      <th>7</th>\n",
       "      <td>Checking or savings account</td>\n",
       "      <td>57461</td>\n",
       "    </tr>\n",
       "    <tr>\n",
       "      <th>8</th>\n",
       "      <td>Student loan</td>\n",
       "      <td>56365</td>\n",
       "    </tr>\n",
       "    <tr>\n",
       "      <th>9</th>\n",
       "      <td>Consumer Loan</td>\n",
       "      <td>31592</td>\n",
       "    </tr>\n",
       "    <tr>\n",
       "      <th>10</th>\n",
       "      <td>Vehicle loan or lease</td>\n",
       "      <td>15540</td>\n",
       "    </tr>\n",
       "    <tr>\n",
       "      <th>11</th>\n",
       "      <td>Money transfer, virtual currency, or money ser...</td>\n",
       "      <td>14165</td>\n",
       "    </tr>\n",
       "    <tr>\n",
       "      <th>12</th>\n",
       "      <td>Payday loan, title loan, or personal loan</td>\n",
       "      <td>11962</td>\n",
       "    </tr>\n",
       "    <tr>\n",
       "      <th>13</th>\n",
       "      <td>Payday loan</td>\n",
       "      <td>5541</td>\n",
       "    </tr>\n",
       "    <tr>\n",
       "      <th>14</th>\n",
       "      <td>Money transfers</td>\n",
       "      <td>5354</td>\n",
       "    </tr>\n",
       "    <tr>\n",
       "      <th>15</th>\n",
       "      <td>Prepaid card</td>\n",
       "      <td>3819</td>\n",
       "    </tr>\n",
       "    <tr>\n",
       "      <th>16</th>\n",
       "      <td>Other financial service</td>\n",
       "      <td>1059</td>\n",
       "    </tr>\n",
       "    <tr>\n",
       "      <th>17</th>\n",
       "      <td>Virtual currency</td>\n",
       "      <td>18</td>\n",
       "    </tr>\n",
       "  </tbody>\n",
       "</table>\n",
       "</div>"
      ],
      "text/plain": [
       "                                              product   count\n",
       "0   Credit reporting, credit repair services, or o...  331635\n",
       "1                                            Mortgage  295097\n",
       "2                                     Debt collection  278961\n",
       "3                                    Credit reporting  139825\n",
       "4                                         Credit card   89175\n",
       "5                             Bank account or service   86193\n",
       "6                         Credit card or prepaid card   67849\n",
       "7                         Checking or savings account   57461\n",
       "8                                        Student loan   56365\n",
       "9                                       Consumer Loan   31592\n",
       "10                              Vehicle loan or lease   15540\n",
       "11  Money transfer, virtual currency, or money ser...   14165\n",
       "12          Payday loan, title loan, or personal loan   11962\n",
       "13                                        Payday loan    5541\n",
       "14                                    Money transfers    5354\n",
       "15                                       Prepaid card    3819\n",
       "16                            Other financial service    1059\n",
       "17                                   Virtual currency      18"
      ]
     },
     "execution_count": 48,
     "metadata": {},
     "output_type": "execute_result"
    }
   ],
   "source": [
    "df_products.head(20)"
   ]
  },
  {
   "cell_type": "code",
   "execution_count": 49,
   "id": "cloudy-lloyd",
   "metadata": {},
   "outputs": [
    {
     "data": {
      "image/png": "[encoded data removed]",
      "text/plain": [
       "<Figure size 720x576 with 1 Axes>"
      ]
     },
     "metadata": {
      "needs_background": "light"
     },
     "output_type": "display_data"
    }
   ],
   "source": [
    "plt.figure(figsize=(10, 8))\n",
    "sns.barplot(data=df_products, x='count', y='product')\n",
    "plt.show()"
   ]
  }
 ],
 "metadata": {
  "kernelspec": {
   "display_name": "Python 3",
   "language": "python",
   "name": "python3"
  },
  "language_info": {
   "codemirror_mode": {
    "name": "ipython",
    "version": 3
   },
   "file_extension": ".py",
   "mimetype": "text/x-python",
   "name": "python",
   "nbconvert_exporter": "python",
   "pygments_lexer": "ipython3",
   "version": "3.8.3"
  }
 },
 "nbformat": 4,
 "nbformat_minor": 5
}
