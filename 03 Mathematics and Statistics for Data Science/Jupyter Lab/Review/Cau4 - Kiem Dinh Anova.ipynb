{
 "cells": [
  {
   "cell_type": "raw",
   "metadata": {},
   "source": [
    "Tập tin ‘One way ANOVA.txt’ lưu trữ bốn mẫu dữ liệu A, B, C và D.\n",
    "4.1) Đọc và xem thông tin của dữ liệu.\n",
    "4.2) Với  = 0.05, hãy cho kết luận về giả thuyết H0: “Các quần thể có cùng giá trị trung bình.”. "
   ]
  },
  {
   "cell_type": "code",
   "execution_count": 1,
   "metadata": {},
   "outputs": [],
   "source": [
    "import numpy       as np\n",
    "import pandas      as pd\n",
    "import scipy.stats as stats"
   ]
  },
  {
   "cell_type": "code",
   "execution_count": 6,
   "metadata": {},
   "outputs": [
    {
     "name": "stdout",
     "output_type": "stream",
     "text": [
      "      A     B      C     D\n",
      "0    93  85.0  100.0  96.0\n",
      "1   120  45.0   75.0  58.0\n",
      "2    65  80.0   65.0  95.0\n",
      "3   105  28.0   40.0  90.0\n",
      "4   115  75.0   73.0  65.0\n",
      "5    82  70.0   65.0  80.0\n",
      "6    99  65.0   50.0  85.0\n",
      "7    87  55.0   30.0  95.0\n",
      "8   100  50.0   45.0  82.0\n",
      "9    90  40.0   50.0   NaN\n",
      "10   78   NaN   45.0   NaN\n",
      "11   95   NaN   55.0   NaN\n",
      "12   93   NaN    NaN   NaN\n",
      "13   88   NaN    NaN   NaN\n",
      "14  110   NaN    NaN   NaN\n"
     ]
    }
   ],
   "source": [
    "data = pd.read_csv('E:\\Data Science\\Mathematics and Statistics for Data Science\\Review\\One way ANOVA.txt', sep = '\\t')\n",
    "print(data)"
   ]
  },
  {
   "cell_type": "code",
   "execution_count": 12,
   "metadata": {},
   "outputs": [],
   "source": [
    "## Xác định k nhóm là k cột trong tập dữ liệu\n",
    "# groupsA = list(d.columns.values) # array\n",
    "k      = len(data.columns)\n",
    "groups = list(data.columns) # (k column headers)\n",
    "\n",
    "## Tạo k mẫu (loại bỏ giá trị NaN trong các mẫu)\n",
    "samples = []\n",
    "for j in range(k):\n",
    "    sample = [x for x in data[groups[j]] if pd.notnull(x)]\n",
    "    samples.append(sample)\n",
    "    \n",
    "## Số phần tử của mỗi nhóm\n",
    "sizes = np.zeros(k)\n",
    "for j in range(k):\n",
    "    sizes[j] = np.size(samples[j])"
   ]
  },
  {
   "cell_type": "code",
   "execution_count": 14,
   "metadata": {},
   "outputs": [
    {
     "name": "stdout",
     "output_type": "stream",
     "text": [
      "Critical value: 2.8270\n",
      "p-value       : 0.0000\n",
      "F statistic   : 15.1391\n",
      "(F >= critical value) ==> REJECT the H0 that the means are equal.\n"
     ]
    }
   ],
   "source": [
    "alpha = 0.05\n",
    "dfB = (k - 1)\n",
    "dfW = int(np.sum(sizes) - k)\n",
    "\n",
    "critical_value = stats.f.ppf(q = 1 - alpha, dfn = dfB, dfd = dfW)\n",
    "print('Critical value: %.4f' %critical_value)\n",
    "\n",
    "fvalue, pvalue = stats.f_oneway(samples[0], samples[1], samples[2], samples[3])\n",
    "\n",
    "print('p-value       : %.4f' %pvalue)\n",
    "print('F statistic   : %.4f' %fvalue)\n",
    "\n",
    "if (fvalue < critical_value):\n",
    "    print('(F <  critical value) ==> ACCEPT the H0 that the means are equal.')\n",
    "else:\n",
    "    print('(F >= critical value) ==> REJECT the H0 that the means are equal.')"
   ]
  },
  {
   "cell_type": "code",
   "execution_count": null,
   "metadata": {},
   "outputs": [],
   "source": []
  }
 ],
 "metadata": {
  "kernelspec": {
   "display_name": "Python 3",
   "language": "python",
   "name": "python3"
  },
  "language_info": {
   "codemirror_mode": {
    "name": "ipython",
    "version": 3
   },
   "file_extension": ".py",
   "mimetype": "text/x-python",
   "name": "python",
   "nbconvert_exporter": "python",
   "pygments_lexer": "ipython3",
   "version": "3.8.5"
  }
 },
 "nbformat": 4,
 "nbformat_minor": 4
}
