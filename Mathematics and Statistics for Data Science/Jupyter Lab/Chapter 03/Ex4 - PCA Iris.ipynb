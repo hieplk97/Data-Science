{
 "cells": [
  {
   "cell_type": "raw",
   "metadata": {},
   "source": [
    "\"\"\"============================================================================\n",
    "   Ex4: PCA - sklearn\n",
    "      a) Đọc dữ liệu từ Iris.xls vào dataframe\n",
    "      b) Tìm correlation matrix, trực quan hóa   \n",
    "      c) Dùng PCA giảm xuống còn 2 chiều (ban đầu 4 chiều, không kể cột loại iris)\n",
    "      d) Trực quan hóa dữ liệu sau khi giảm chiều\n",
    "============================================================================\"\"\""
   ]
  },
  {
   "cell_type": "code",
   "execution_count": 1,
   "metadata": {},
   "outputs": [],
   "source": [
    "import numpy as np\n",
    "import pandas as pd\n",
    "import matplotlib.pyplot as plt\n",
    "import seaborn as sns\n",
    "from sklearn.decomposition import PCA"
   ]
  },
  {
   "cell_type": "code",
   "execution_count": 2,
   "metadata": {},
   "outputs": [
    {
     "name": "stdout",
     "output_type": "stream",
     "text": [
      "\n",
      "*** a) Đọc dữ liệu từ Iris.xls vào dataframe:\n",
      "   sepallength  sepalwidth  petallength  petalwidth         iris\n",
      "0          5.1         3.5          1.4         0.2  Iris-setosa\n",
      "1          4.9         3.0          1.4         0.2  Iris-setosa\n",
      "2          4.7         3.2          1.3         0.2  Iris-setosa\n",
      "3          4.6         3.1          1.5         0.2  Iris-setosa\n",
      "4          5.0         3.6          1.4         0.2  Iris-setosa \n",
      "\n"
     ]
    }
   ],
   "source": [
    "# a) Đọc dữ liệu từ Iris.xls vào dataframe\n",
    "print('\\n*** a) Đọc dữ liệu từ Iris.xls vào dataframe:')\n",
    "# Default folder: 'C:\\Users\\AnTe'\n",
    "# Muốn biết [default folder] thì thực hiện [File > Open]\n",
    "LDS3folder = 'E:\\Data Science\\Mathematics and Statistics for Data Science\\Excercise'\n",
    "folder = LDS3folder + '/Data/B3/'\n",
    "data = pd.read_excel(folder + 'Iris.xls')\n",
    "print(data.head(), '\\n')"
   ]
  },
  {
   "cell_type": "code",
   "execution_count": 3,
   "metadata": {},
   "outputs": [
    {
     "name": "stdout",
     "output_type": "stream",
     "text": [
      "\n",
      "*** b) Tìm correlation matrix, trực quan hóa:\n",
      "   - Ma trận hiệp phương sai (4, 4) : \n",
      "              sepallength  sepalwidth  petallength  petalwidth\n",
      "sepallength     1.000000   -0.109369     0.871754    0.817954\n",
      "sepalwidth     -0.109369    1.000000    -0.420516   -0.356544\n",
      "petallength     0.871754   -0.420516     1.000000    0.962757\n",
      "petalwidth      0.817954   -0.356544     0.962757    1.000000 \n",
      "\n"
     ]
    },
    {
     "data": {
      "text/plain": [
       "<AxesSubplot:>"
      ]
     },
     "execution_count": 3,
     "metadata": {},
     "output_type": "execute_result"
    },
    {
     "data": {
      "image/png": "[encoded data removed]",
      "text/plain": [
       "<Figure size 432x288 with 2 Axes>"
      ]
     },
     "metadata": {
      "needs_background": "light"
     },
     "output_type": "display_data"
    }
   ],
   "source": [
    "# b) Tìm correlation matrix, trực quan hóa\n",
    "print('\\n*** b) Tìm correlation matrix, trực quan hóa:')\n",
    "corr = data.corr()\n",
    "print('   - Ma trận hiệp phương sai', corr.shape, ': \\n', corr, '\\n')\n",
    "sns.heatmap(corr, xticklabels=corr.columns.values,\n",
    "            yticklabels=corr.columns.values)"
   ]
  },
  {
   "cell_type": "code",
   "execution_count": 4,
   "metadata": {},
   "outputs": [
    {
     "name": "stdout",
     "output_type": "stream",
     "text": [
      "\n",
      "*** c) Thực hiện giảm chiều dữ liệu với sklearn.PCA:\n",
      "   - Ma trận A: \n",
      " [[5.1 3.5 1.4 0.2]\n",
      " [4.9 3.  1.4 0.2]\n",
      " [4.7 3.2 1.3 0.2]\n",
      " [4.6 3.1 1.5 0.2]\n",
      " [5.  3.6 1.4 0.2]] \n",
      "\n",
      "PCA.Components:\n",
      " [[ 0.36158968 -0.08226889  0.85657211  0.35884393]\n",
      " [ 0.65653988  0.72971237 -0.1757674  -0.07470647]]\n",
      "PCA.Shape:  (2, 4)\n",
      "PCA.Explained variance:  [4.22484077 0.24224357]\n",
      "PCA.Explained variance shape:  (2,)\n",
      "         - Ma trận B_T (150, 2) : \n",
      " [[-2.68420713  0.32660731]\n",
      " [-2.71539062 -0.16955685]\n",
      " [-2.88981954 -0.13734561]\n",
      " [-2.7464372  -0.31112432]\n",
      " [-2.72859298  0.33392456]] \n",
      "\n",
      "[0.92461621 0.05301557]\n"
     ]
    }
   ],
   "source": [
    "# c) Thực hiện giảm chiều dữ liệu xuống còn k = 2, với sklearn.PCA\n",
    "print('\\n*** c) Thực hiện giảm chiều dữ liệu với sklearn.PCA:')\n",
    "A = data[['sepallength', 'sepalwidth', 'petallength', 'petalwidth']].values\n",
    "print('   - Ma trận A: \\n', A[0:5], '\\n')\n",
    "\n",
    "pca = PCA(2)\n",
    "pca.fit(A)\n",
    "\n",
    "# access values and vectors\n",
    "# components_ : array, shape (n_components, n_features)\n",
    "# Các trục chính trong không gian feature, biểu thị\n",
    "# các hướng của phương sai tối đa trong dữ liệu\n",
    "# explained_variance_ : array, shape (n_components,)\n",
    "# Số lượng phương sai được giải thích bởi từng thành phần được chọn.\n",
    "print('PCA.Components:\\n', pca.components_)\n",
    "print('PCA.Shape: ', pca.components_.shape)\n",
    "print('PCA.Explained variance: ', pca.explained_variance_)\n",
    "print('PCA.Explained variance shape: ', pca.explained_variance_.shape)\n",
    "\n",
    "# transform data\n",
    "B = pca.transform(A)\n",
    "print('         - Ma trận B_T', B.shape, ': \\n', B[0:5], '\\n')\n",
    "print(pca.explained_variance_ratio_)\n"
   ]
  },
  {
   "cell_type": "code",
   "execution_count": 5,
   "metadata": {},
   "outputs": [
    {
     "name": "stdout",
     "output_type": "stream",
     "text": [
      "\n",
      "*** d) Trực quan hóa dữ liệu:\n"
     ]
    },
    {
     "data": {
      "image/png": "[encoded data removed]",
      "text/plain": [
       "<Figure size 432x288 with 1 Axes>"
      ]
     },
     "metadata": {
      "needs_background": "light"
     },
     "output_type": "display_data"
    },
    {
     "name": "stdout",
     "output_type": "stream",
     "text": [
      "       PC 1      PC 2\n",
      "0 -2.684207  0.326607\n",
      "1 -2.715391 -0.169557\n",
      "2 -2.889820 -0.137346\n",
      "3 -2.746437 -0.311124\n",
      "4 -2.728593  0.333925 \n",
      "\n",
      "         - Ma trận P (150, 3) : \n",
      "        PC 1      PC 2        Types\n",
      "0 -2.684207  0.326607  Iris-setosa\n",
      "1 -2.715391 -0.169557  Iris-setosa\n",
      "2 -2.889820 -0.137346  Iris-setosa\n",
      "3 -2.746437 -0.311124  Iris-setosa\n",
      "4 -2.728593  0.333925  Iris-setosa \n",
      "\n"
     ]
    },
    {
     "data": {
      "image/png": "[encoded data removed]",
      "text/plain": [
       "<Figure size 576x576 with 1 Axes>"
      ]
     },
     "metadata": {
      "needs_background": "light"
     },
     "output_type": "display_data"
    }
   ],
   "source": [
    "# d) Trực quan hóa dữ liệu\n",
    "print('\\n*** d) Trực quan hóa dữ liệu:')\n",
    "plt.scatter(B[:, 0], B[:, 1])\n",
    "plt.show()\n",
    "\n",
    "principalDf = pd.DataFrame(data=B, columns=['PC 1', 'PC 2'])\n",
    "print(principalDf.head(), '\\n')\n",
    "\n",
    "y = np.array(data.iris)\n",
    "y = pd.DataFrame(data=y, columns=['Types'])\n",
    "finalDf = pd.concat([principalDf, y], axis=1)\n",
    "print('         - Ma trận P', finalDf.shape, ': \\n', finalDf[0:5], '\\n')\n",
    "\n",
    "plt.figure(figsize=(8, 8))\n",
    "sns.scatterplot(x='PC 1', y='PC 2', data=finalDf)\n",
    "plt.show()"
   ]
  },
  {
   "cell_type": "code",
   "execution_count": null,
   "metadata": {},
   "outputs": [],
   "source": []
  }
 ],
 "metadata": {
  "kernelspec": {
   "display_name": "Python 3",
   "language": "python",
   "name": "python3"
  },
  "language_info": {
   "codemirror_mode": {
    "name": "ipython",
    "version": 3
   },
   "file_extension": ".py",
   "mimetype": "text/x-python",
   "name": "python",
   "nbconvert_exporter": "python",
   "pygments_lexer": "ipython3",
   "version": "3.8.5"
  }
 },
 "nbformat": 4,
 "nbformat_minor": 4
}
