{
 "cells": [
  {
   "cell_type": "raw",
   "metadata": {},
   "source": [
    "\"\"\"=============================================================================\n",
    "   Phương pháp One way ANOVA: \n",
    "       - Tính toán theo các công thức SSW và SSB\n",
    "       - Dùng các hàm của scipy.stats\n",
    "=============================================================================\"\"\""
   ]
  },
  {
   "cell_type": "code",
   "execution_count": 1,
   "metadata": {},
   "outputs": [],
   "source": [
    "import numpy       as np\n",
    "import pandas      as pd\n",
    "import scipy.stats as stats"
   ]
  },
  {
   "cell_type": "code",
   "execution_count": 3,
   "metadata": {},
   "outputs": [],
   "source": [
    "alpha = 0.05\n",
    "\n",
    "##------------------------------------------------------------------------------\n",
    "## Chuẩn bị dữ liệu\n",
    "##------------------------------------------------------------------------------\n",
    "## Kích thước của các mẫu có thể KHÁC NHAU\n",
    "LDS3folder = 'E:\\Data Science\\Mathematics and Statistics for Data Science\\Excercise'\n",
    "folder = LDS3folder + '\\Data\\B7/'\n",
    "\n",
    "fname= 'Excavation Depth and Archaeology.txt'\n",
    "d          = pd.read_csv(folder + fname, sep = '\\t')\n",
    "\n",
    "## Xác định k nhóm là k cột trong tập dữ liệu\n",
    "# groupsA = list(d.columns.values) # array\n",
    "k      = len(d.columns)\n",
    "groups = list(d.columns) # (k column headers)\n",
    "\n",
    "## Tạo k mẫu (loại bỏ giá trị NaN trong các mẫu)\n",
    "samples = []\n",
    "for j in range(k):\n",
    "    sample = [x for x in d[groups[j]] if pd.notnull(x)]\n",
    "    samples.append(sample)\n"
   ]
  },
  {
   "cell_type": "code",
   "execution_count": 6,
   "metadata": {},
   "outputs": [
    {
     "name": "stdout",
     "output_type": "stream",
     "text": [
      "----------- Cách 1: Tính toán \"truyền thống\" theo các công thức ---------\n",
      "SSB           : 12486.4848\n",
      "dfB           : 3\n",
      "SSW           : 11464.5722\n",
      "dfW           : 42\n",
      "F statistic   : 15.2479\n",
      "Critical value: 2.8270\n",
      "(F >= critical value) ==> REJECT the H0 that the means are equal.\n"
     ]
    }
   ],
   "source": [
    "##------------------------------------------------------------------------------\n",
    "print('----------- Cách 1: Tính toán \"truyền thống\" theo các công thức ---------')\n",
    "##------------------------------------------------------------------------------    \n",
    "## Số phần tử của mỗi nhóm\n",
    "sizes = np.zeros(k)\n",
    "for j in range(k): \n",
    "    sizes[j] = np.size(samples[j])\n",
    "\n",
    "## Giá trị trung bình của mỗi mẫu\n",
    "means = np.zeros(k)\n",
    "for j in range(k):\n",
    "    means[j] = np.mean(samples[j])\n",
    "\n",
    "## Giá trị trung bình của tất cả các mẫu\n",
    "meanT = np.mean(means)\n",
    "\n",
    "## Các đại lượng BETWEEN groups: SSB, dfB\n",
    "SSB = 0\n",
    "for j in range(k):\n",
    "    SSB += sizes[j] * np.power((means[j] - meanT), 2)\n",
    "dfB = (k - 1)\n",
    "print('SSB           : %.4f' %SSB)\n",
    "print('dfB           : %d' %dfB)\n",
    "   \n",
    "## Các đại lượng WITHIN groups: SSW, dfW\n",
    "SSW = 0\n",
    "for j in range(k):\n",
    "    SSWj = 0\n",
    "    for i in range(int(sizes[j])):\n",
    "        SSWj += np.power(samples[j][i] - means[j], 2)\n",
    "    SSW += SSWj\n",
    "dfW = int(np.sum(sizes) - k)\n",
    "print('SSW           : %.4f' %SSW)\n",
    "print('dfW           : %d' %dfW)\n",
    "\n",
    "## Trị thống kê: F statistics\n",
    "F = (SSB / dfB) / (SSW / dfW)\n",
    "print('F statistic   : %.4f' %F)\n",
    "\n",
    "## Giá trị tới hạn\n",
    "##------------------------------------------------------------------------------\n",
    "## Hàm scipy.stats.f.ppf(q, dfn, dfd) xác định giá trị tới hạn\n",
    "##    q  : confidence level     (1 - alpha)\n",
    "##    dfn: tử số (numerator)    dfB (BETWEEN groups)\n",
    "##    dfd: mẫu số (denominator) dfW (WITHIN groups)\n",
    "##\n",
    "## Hàm scipy.stats.f.cdf(crit, dfn, dfd) xác định confidence level (1 - alpha)\n",
    "##------------------------------------------------------------------------------\n",
    "critical_value = stats.f.ppf(q = 1 - alpha, dfn = dfB, dfd = dfW)\n",
    "print('Critical value: %.4f' %critical_value)\n",
    "conf_level     = stats.f.cdf(critical_value, dfn = dfB, dfd = dfW)\n",
    "\n",
    "if (F < critical_value):\n",
    "    print('(F <  critical value) ==> ACCEPT the H0 that the means are equal.')\n",
    "else:\n",
    "    print('(F >= critical value) ==> REJECT the H0 that the means are equal.')"
   ]
  },
  {
   "cell_type": "code",
   "execution_count": 7,
   "metadata": {},
   "outputs": [
    {
     "name": "stdout",
     "output_type": "stream",
     "text": [
      "\n",
      "--------------------- Cách 2: Sử dụng hàm của Python ------------------\n",
      "p-value       : 0.0000\n",
      "F statistic   : 15.1391\n"
     ]
    }
   ],
   "source": [
    "##------------------------------------------------------------------------------\n",
    "print('\\n--------------------- Cách 2: Sử dụng hàm của Python ------------------')\n",
    "##------------------------------------------------------------------------------    \n",
    "fvalue, pvalue = stats.f_oneway(samples[0], samples[1], samples[2], samples[3])\n",
    "\n",
    "print('p-value       : %.4f' %pvalue)\n",
    "print('F statistic   : %.4f' %fvalue)"
   ]
  },
  {
   "cell_type": "code",
   "execution_count": null,
   "metadata": {},
   "outputs": [],
   "source": []
  }
 ],
 "metadata": {
  "kernelspec": {
   "display_name": "Python 3",
   "language": "python",
   "name": "python3"
  },
  "language_info": {
   "codemirror_mode": {
    "name": "ipython",
    "version": 3
   },
   "file_extension": ".py",
   "mimetype": "text/x-python",
   "name": "python",
   "nbconvert_exporter": "python",
   "pygments_lexer": "ipython3",
   "version": "3.8.5"
  }
 },
 "nbformat": 4,
 "nbformat_minor": 4
}
