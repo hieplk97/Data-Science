{
 "cells": [
  {
   "cell_type": "code",
   "execution_count": 1,
   "metadata": {},
   "outputs": [],
   "source": [
    "# import thu vien\n",
    "from mysql.connector import connect"
   ]
  },
  {
   "cell_type": "code",
   "execution_count": 2,
   "metadata": {},
   "outputs": [],
   "source": [
    "# ket noi den CSDL\n",
    "conn = connect(host='127.0.0.1', database='salesdb', user='root', password='123456', \n",
    "               port='3306')"
   ]
  },
  {
   "cell_type": "code",
   "execution_count": 3,
   "metadata": {},
   "outputs": [],
   "source": [
    "# xin cap cursor\n",
    "cur = conn.cursor()"
   ]
  },
  {
   "cell_type": "code",
   "execution_count": 4,
   "metadata": {},
   "outputs": [],
   "source": [
    "# Customer Table\n",
    "stm = \"\"\"CREATE TABLE `salesdb`.`customers` (\n",
    "  `Id` INT NOT NULL,\n",
    "  `FirstName` VARCHAR(40) NOT NULL,\n",
    "  `LastName` VARCHAR(40) NOT NULL,\n",
    "  `City` VARCHAR(40) NULL,\n",
    "  `Country` VARCHAR(40) NULL,\n",
    "  `Phone` VARCHAR(20) NULL,\n",
    "  PRIMARY KEY (`Id`));\"\"\"\n",
    "cur.execute(stm)"
   ]
  },
  {
   "cell_type": "code",
   "execution_count": 5,
   "metadata": {},
   "outputs": [],
   "source": [
    "# Suppliers Table\n",
    "stm = \"\"\"CREATE TABLE `salesdb`.`suppliers` (\n",
    "  `Id` INT NOT NULL,\n",
    "  `CompanyName` VARCHAR(40) NOT NULL,\n",
    "  `ContactName` VARCHAR(50) NOT NULL,\n",
    "  `ContactTitle` VARCHAR(40) NULL,\n",
    "  `City` VARCHAR(40) NULL,\n",
    "  `Country` VARCHAR(40) NULL,\n",
    "  `Phone` VARCHAR(30) NULL,\n",
    "  `Fax` VARCHAR(30) NULL,\n",
    "  PRIMARY KEY (`Id`));\"\"\"\n",
    "cur.execute(stm)"
   ]
  },
  {
   "cell_type": "code",
   "execution_count": 6,
   "metadata": {},
   "outputs": [],
   "source": [
    "# Products Table\n",
    "stm = \"\"\"CREATE TABLE `salesdb`.`products` (\n",
    "  `Id` INT NOT NULL,\n",
    "  `ProductName` VARCHAR(40) NOT NULL,\n",
    "  `SupplierId` INT NOT NULL,\n",
    "  `UnitPrice` DECIMAL(10) NULL,\n",
    "  `Package` VARCHAR(30) NULL,\n",
    "  `IsDiscontinued` TINYINT(1) NULL,\n",
    "  PRIMARY KEY (`Id`),\n",
    "  INDEX `supplier_idx` (`SupplierId` ASC) VISIBLE,\n",
    "  CONSTRAINT `supplier`\n",
    "    FOREIGN KEY (`SupplierId`)\n",
    "    REFERENCES `salesdb`.`suppliers` (`Id`)\n",
    "    ON DELETE NO ACTION\n",
    "    ON UPDATE NO ACTION);\"\"\"\n",
    "cur.execute(stm)"
   ]
  },
  {
   "cell_type": "code",
   "execution_count": 7,
   "metadata": {},
   "outputs": [],
   "source": [
    "# Orders Table\n",
    "stm = \"\"\"CREATE TABLE `salesdb`.`orders` (\n",
    "  `Id` INT NOT NULL,\n",
    "  `OrderDate` DATETIME NOT NULL,\n",
    "  `OrderNumber` VARCHAR(10) NULL,\n",
    "  `CustomerId` INT NOT NULL,\n",
    "  `TotalAmount` DECIMAL(10) NULL,\n",
    "  PRIMARY KEY (`Id`),\n",
    "  INDEX `customer_idx` (`CustomerId` ASC) VISIBLE,\n",
    "  CONSTRAINT `customer`\n",
    "    FOREIGN KEY (`CustomerId`)\n",
    "    REFERENCES `salesdb`.`customers` (`Id`)\n",
    "    ON DELETE NO ACTION\n",
    "    ON UPDATE NO ACTION);\"\"\"\n",
    "cur.execute(stm)"
   ]
  },
  {
   "cell_type": "code",
   "execution_count": 8,
   "metadata": {},
   "outputs": [],
   "source": [
    "# OrderItems Table\n",
    "stm = \"\"\"CREATE TABLE `salesdb`.`orderitems` (\n",
    "  `Id` INT NOT NULL,\n",
    "  `OrderId` INT NOT NULL,\n",
    "  `ProductId` INT NOT NULL,\n",
    "  `UnitPrice` DECIMAL(10) NULL,\n",
    "  `Quantity` INT NULL,\n",
    "  PRIMARY KEY (`Id`),\n",
    "  INDEX `order_idx` (`OrderId` ASC) VISIBLE,\n",
    "  INDEX `product_idx` (`ProductId` ASC) VISIBLE,\n",
    "  CONSTRAINT `order`\n",
    "    FOREIGN KEY (`OrderId`)\n",
    "    REFERENCES `salesdb`.`orders` (`Id`)\n",
    "    ON DELETE NO ACTION\n",
    "    ON UPDATE NO ACTION,\n",
    "  CONSTRAINT `product`\n",
    "    FOREIGN KEY (`ProductId`)\n",
    "    REFERENCES `salesdb`.`products` (`Id`)\n",
    "    ON DELETE NO ACTION\n",
    "    ON UPDATE NO ACTION);\"\"\"\n",
    "cur.execute(stm)"
   ]
  },
  {
   "cell_type": "code",
   "execution_count": 9,
   "metadata": {},
   "outputs": [],
   "source": [
    "cur.close()\n",
    "conn.close()"
   ]
  }
 ],
 "metadata": {
  "kernelspec": {
   "display_name": "Python 3",
   "language": "python",
   "name": "python3"
  },
  "language_info": {
   "codemirror_mode": {
    "name": "ipython",
    "version": 3
   },
   "file_extension": ".py",
   "mimetype": "text/x-python",
   "name": "python",
   "nbconvert_exporter": "python",
   "pygments_lexer": "ipython3",
   "version": "3.8.3"
  }
 },
 "nbformat": 4,
 "nbformat_minor": 4
}
