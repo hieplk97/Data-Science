{
 "cells": [
  {
   "cell_type": "raw",
   "metadata": {},
   "source": [
    "Hai mẫu dữ liệu độc lập được thu thập từ các quần thể, không biết trước phương sai, và lưu trữ trong\n",
    "các tập tin Mau_1.txt và Mau_2.txt.\n",
    "3.1) Đọc và xem thông tin của dữ liệu.\n",
    "3.2) Với  = 0.05, hãy cho kết luận về giả thuyết H0: “Hai quần thể có cùng giá trị trung bình”. "
   ]
  },
  {
   "cell_type": "code",
   "execution_count": 1,
   "metadata": {},
   "outputs": [],
   "source": [
    "import numpy as np\n",
    "import pandas as pd\n",
    "import matplotlib.pyplot as plt\n",
    "import scipy.stats as stats\n",
    "import seaborn as sns\n",
    "import statsmodels.api as sm\n",
    "\n",
    "from statsmodels.formula.api import ols\n",
    "from statsmodels.stats.multicomp import pairwise_tukeyhsd"
   ]
  },
  {
   "cell_type": "code",
   "execution_count": 26,
   "metadata": {},
   "outputs": [
    {
     "name": "stdout",
     "output_type": "stream",
     "text": [
      "[134, 130, 140, 151, 143, 134, 136, 144, 150, 135, 160, 141, 143, 140, 138, 141, 148, 146, 140, 146, 151, 138, 151, 139, 151, 128, 146, 147, 152, 142, 144, 134, 142, 146, 142, 136, 122, 134, 145, 147]\n"
     ]
    }
   ],
   "source": [
    "raw_1 = open(\"E:\\Data Science\\Mathematics and Statistics for Data Science\\Review\\Mau_1.txt\", \"r\")\n",
    "temp_1 = raw_1.read().split(\"\\n\")\n",
    "data_1 = np.asarray([x.split() for x in temp_1])\n",
    "array_1 = list(map(int, data_1.flatten()))\n",
    "\n",
    "raw_1.close()\n",
    "print(array_1)"
   ]
  },
  {
   "cell_type": "code",
   "execution_count": 27,
   "metadata": {},
   "outputs": [
    {
     "name": "stdout",
     "output_type": "stream",
     "text": [
      "[130, 145, 126, 146, 164, 130, 132, 152, 145, 129, 133, 155, 140, 127, 139, 137, 131, 126, 145, 148, 125, 132, 126, 126, 126, 135, 131, 129, 147, 136, 129, 136, 156, 146, 130, 146, 132, 142, 132, 132]\n"
     ]
    }
   ],
   "source": [
    "raw_2 = open(\"E:\\Data Science\\Mathematics and Statistics for Data Science\\Review\\Mau_2.txt\", \"r\")\n",
    "temp_2 = raw_2.read().split(\"\\n\")\n",
    "data_2 = np.asarray([x.split() for x in temp_2])\n",
    "array_2 = list(map(int, data_2.flatten()))\n",
    "\n",
    "raw_2.close()\n",
    "print(array_2)"
   ]
  },
  {
   "cell_type": "code",
   "execution_count": 29,
   "metadata": {},
   "outputs": [
    {
     "name": "stdout",
     "output_type": "stream",
     "text": [
      "T-test:\n",
      " Ttest_indResult(statistic=2.6113890791026946, pvalue=0.010811240390727006)\n",
      "(p <= alpha) ==> REJECT the H0 that the means are equal.\n"
     ]
    }
   ],
   "source": [
    "t, p = stats.ttest_ind(array_1, array_2)\n",
    "print('T-test:\\n', stats.ttest_ind(array_1, array_2))\n",
    "\n",
    "alpha = 0.05\n",
    "if p > alpha:\n",
    "    print('(p >  alpha) ==> ACCEPT the H0 that the means are equal.')\n",
    "else:\n",
    "    print('(p <= alpha) ==> REJECT the H0 that the means are equal.')\n"
   ]
  },
  {
   "cell_type": "code",
   "execution_count": null,
   "metadata": {},
   "outputs": [],
   "source": []
  }
 ],
 "metadata": {
  "kernelspec": {
   "display_name": "Python 3",
   "language": "python",
   "name": "python3"
  },
  "language_info": {
   "codemirror_mode": {
    "name": "ipython",
    "version": 3
   },
   "file_extension": ".py",
   "mimetype": "text/x-python",
   "name": "python",
   "nbconvert_exporter": "python",
   "pygments_lexer": "ipython3",
   "version": "3.8.5"
  }
 },
 "nbformat": 4,
 "nbformat_minor": 4
}
