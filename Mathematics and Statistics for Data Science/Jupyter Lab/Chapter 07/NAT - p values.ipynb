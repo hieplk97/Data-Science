{
 "cells": [
  {
   "cell_type": "raw",
   "metadata": {},
   "source": [
    "\"\"\"============================================================================\n",
    "   Hàm tính p-value từ giá trị t-statistics:\n",
    "      * t_stat: giá trị t-statistics\n",
    "      * df    : bậc tự do\n",
    "============================================================================\"\"\""
   ]
  },
  {
   "cell_type": "code",
   "execution_count": 2,
   "metadata": {},
   "outputs": [],
   "source": [
    "import scipy.stats as stats"
   ]
  },
  {
   "cell_type": "code",
   "execution_count": 3,
   "metadata": {},
   "outputs": [
    {
     "name": "stdout",
     "output_type": "stream",
     "text": [
      "   * t_stat = 2.61300 --> p-value = 0.01268\n",
      "   * t_stat = 2.61100 --> p-value = 0.01275\n"
     ]
    }
   ],
   "source": [
    "def t2p(t_stat, df):\n",
    "    p_value = (1 - stats.t.cdf(abs(t_stat), df)) * 2\n",
    "    return p_value\n",
    "\n",
    "\n",
    "# ------------------------------------------------------------------------------\n",
    "\n",
    "t_stat = [2.613, 2.611]\n",
    "df = 39\n",
    "\n",
    "for t in t_stat:\n",
    "    p_value = t2p(t, df)\n",
    "    print('   * t_stat = %.5f' % t, '--> p-value = %.5f' % p_value)\n"
   ]
  },
  {
   "cell_type": "code",
   "execution_count": null,
   "metadata": {},
   "outputs": [],
   "source": []
  }
 ],
 "metadata": {
  "kernelspec": {
   "display_name": "Python 3",
   "language": "python",
   "name": "python3"
  },
  "language_info": {
   "codemirror_mode": {
    "name": "ipython",
    "version": 3
   },
   "file_extension": ".py",
   "mimetype": "text/x-python",
   "name": "python",
   "nbconvert_exporter": "python",
   "pygments_lexer": "ipython3",
   "version": "3.8.5"
  }
 },
 "nbformat": 4,
 "nbformat_minor": 4
}
