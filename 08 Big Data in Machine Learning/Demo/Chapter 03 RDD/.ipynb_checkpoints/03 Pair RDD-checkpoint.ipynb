{
 "cells": [
  {
   "cell_type": "code",
   "execution_count": 1,
   "id": "fifteen-prescription",
   "metadata": {},
   "outputs": [],
   "source": [
    "import findspark\n",
    "findspark.init()"
   ]
  },
  {
   "cell_type": "code",
   "execution_count": 2,
   "id": "beneficial-purple",
   "metadata": {},
   "outputs": [],
   "source": [
    "import pyspark\n",
    "from pyspark import SparkContext\n",
    "from pyspark.sql import SparkSession"
   ]
  },
  {
   "cell_type": "code",
   "execution_count": 3,
   "id": "likely-professional",
   "metadata": {},
   "outputs": [],
   "source": [
    "sc = SparkContext()"
   ]
  },
  {
   "cell_type": "code",
   "execution_count": 4,
   "id": "weird-satisfaction",
   "metadata": {},
   "outputs": [
    {
     "data": {
      "text/plain": [
       "[('SV001', 'Tran Van An'), ('SV002', 'Nguyen Van Anh'), ('SV003', 'Le thi cu')]"
      ]
     },
     "execution_count": 4,
     "metadata": {},
     "output_type": "execute_result"
    }
   ],
   "source": [
    "my_tuple = [(\"SV001\", \"Tran Van An\"), (\"SV002\", \"Nguyen Van Anh\"), (\"SV003\", \"Le thi cu\")]\n",
    "pairRDD_tuple = sc.parallelize(my_tuple)\n",
    "pairRDD_tuple.collect()"
   ]
  },
  {
   "cell_type": "code",
   "execution_count": 5,
   "id": "joint-malta",
   "metadata": {},
   "outputs": [
    {
     "data": {
      "text/plain": [
       "[('hello', 'bonjour'), ('happy', 'heureux'), ('morning', 'matin')]"
      ]
     },
     "execution_count": 5,
     "metadata": {},
     "output_type": "execute_result"
    }
   ],
   "source": [
    "my_list = ['hello bonjour', 'happy heureux', 'morning matin']\n",
    "regularRDD = sc.parallelize(my_list)\n",
    "pairRDD_RDD = regularRDD.map(lambda s: (s.split(' ')[0], s.split(' ')[1]))\n",
    "pairRDD_RDD.collect()"
   ]
  },
  {
   "cell_type": "markdown",
   "id": "voluntary-hometown",
   "metadata": {},
   "source": [
    "#### reduceByKey(): kết hợi các value cùng key"
   ]
  },
  {
   "cell_type": "code",
   "execution_count": 6,
   "id": "informative-importance",
   "metadata": {},
   "outputs": [
    {
     "name": "stdout",
     "output_type": "stream",
     "text": [
      "SV003 có tổng điểm là 9\n",
      "SV002 có tổng điểm là 18\n",
      "SV001 có tổng điểm là 18\n"
     ]
    }
   ],
   "source": [
    "Rdd = sc.parallelize([('SV001', 8), ('SV002', 9), ('SV001', 10), ('SV002', 9), ('SV003', 9)])\n",
    "Rdd_reduced = Rdd.reduceByKey(lambda x, y: x+y)\n",
    "\n",
    "for num in Rdd_reduced.collect():\n",
    "    print(\"{} có tổng điểm là {}\".format(num[0], num[1]))"
   ]
  },
  {
   "cell_type": "markdown",
   "id": "south-modem",
   "metadata": {},
   "source": [
    "#### sortByKey(): trả về một RDD được sắp xếp theo key"
   ]
  },
  {
   "cell_type": "code",
   "execution_count": 7,
   "id": "representative-multimedia",
   "metadata": {},
   "outputs": [
    {
     "name": "stdout",
     "output_type": "stream",
     "text": [
      "SV003 có tổng điểm là 9\n",
      "SV002 có tổng điểm là 18\n",
      "SV001 có tổng điểm là 18\n"
     ]
    }
   ],
   "source": [
    "Rdd_reduced_sort = Rdd_reduced.sortByKey(ascending=False)\n",
    "for num in Rdd_reduced_sort.collect():\n",
    "    print(\"{} có tổng điểm là {}\".format(num[0], num[1]))"
   ]
  },
  {
   "cell_type": "markdown",
   "id": "variable-beach",
   "metadata": {},
   "source": [
    "#### groupByKey(): nhóm các value có cùng key"
   ]
  },
  {
   "cell_type": "code",
   "execution_count": 8,
   "id": "corporate-replication",
   "metadata": {},
   "outputs": [
    {
     "data": {
      "text/plain": [
       "[('SV001', 8), ('SV002', 9), ('SV001', 10), ('SV002', 9), ('SV003', 9)]"
      ]
     },
     "execution_count": 8,
     "metadata": {},
     "output_type": "execute_result"
    }
   ],
   "source": [
    "Rdd.collect()"
   ]
  },
  {
   "cell_type": "code",
   "execution_count": 9,
   "id": "determined-sword",
   "metadata": {},
   "outputs": [],
   "source": [
    "Rdd_group_by = Rdd.groupByKey().collect()"
   ]
  },
  {
   "cell_type": "code",
   "execution_count": 10,
   "id": "inclusive-interference",
   "metadata": {},
   "outputs": [
    {
     "name": "stdout",
     "output_type": "stream",
     "text": [
      "SV003 [9]\n",
      "SV002 [9, 9]\n",
      "SV001 [8, 10]\n"
     ]
    }
   ],
   "source": [
    "for mssv, marks in Rdd_group_by:\n",
    "    print(mssv, list(marks))"
   ]
  },
  {
   "cell_type": "markdown",
   "id": "loaded-teens",
   "metadata": {},
   "source": [
    "#### join(): nối RDD dựa trên key của chúng"
   ]
  },
  {
   "cell_type": "code",
   "execution_count": 11,
   "id": "pleased-layout",
   "metadata": {},
   "outputs": [],
   "source": [
    "Rdd_Math = sc.parallelize([('SV001', 8), ('SV002', 9), ('SV003', 9)])\n",
    "Rdd_English = sc.parallelize([('SV001', 9), ('SV002', 8), ('SV003', 8)])"
   ]
  },
  {
   "cell_type": "code",
   "execution_count": 12,
   "id": "plain-gross",
   "metadata": {},
   "outputs": [
    {
     "data": {
      "text/plain": [
       "[('SV001', (9, 8)), ('SV003', (8, 9)), ('SV002', (8, 9))]"
      ]
     },
     "execution_count": 12,
     "metadata": {},
     "output_type": "execute_result"
    }
   ],
   "source": [
    "Rdd = Rdd_English.join(Rdd_Math)\n",
    "Rdd.collect()"
   ]
  },
  {
   "cell_type": "markdown",
   "id": "steady-novel",
   "metadata": {},
   "source": [
    "#### countByKey(): đếm số lượng value cho từng key"
   ]
  },
  {
   "cell_type": "code",
   "execution_count": 13,
   "id": "mysterious-sydney",
   "metadata": {},
   "outputs": [
    {
     "name": "stdout",
     "output_type": "stream",
     "text": [
      "SV001 1\n",
      "SV003 1\n",
      "SV002 1\n"
     ]
    }
   ],
   "source": [
    "for key, val in Rdd.countByKey().items():\n",
    "    print(key, val)"
   ]
  },
  {
   "cell_type": "markdown",
   "id": "explicit-profile",
   "metadata": {},
   "source": [
    "#### collectAsMap(): trả về key-value pair trong RDD theo định dạng dictionary"
   ]
  },
  {
   "cell_type": "code",
   "execution_count": 14,
   "id": "elementary-ambassador",
   "metadata": {},
   "outputs": [
    {
     "data": {
      "text/plain": [
       "{'SV001': 10, 'SV002': 6, 'SV003': 8}"
      ]
     },
     "execution_count": 14,
     "metadata": {},
     "output_type": "execute_result"
    }
   ],
   "source": [
    "Rdd = sc.parallelize([('SV001', 8), ('SV002', 9), ('SV001', 10), ('SV002', 6), ('SV003', 8)])\n",
    "Rdd.collectAsMap()"
   ]
  },
  {
   "cell_type": "code",
   "execution_count": null,
   "id": "damaged-baptist",
   "metadata": {},
   "outputs": [],
   "source": []
  }
 ],
 "metadata": {
  "kernelspec": {
   "display_name": "Python 3",
   "language": "python",
   "name": "python3"
  },
  "language_info": {
   "codemirror_mode": {
    "name": "ipython",
    "version": 3
   },
   "file_extension": ".py",
   "mimetype": "text/x-python",
   "name": "python",
   "nbconvert_exporter": "python",
   "pygments_lexer": "ipython3",
   "version": "3.8.3"
  }
 },
 "nbformat": 4,
 "nbformat_minor": 5
}
