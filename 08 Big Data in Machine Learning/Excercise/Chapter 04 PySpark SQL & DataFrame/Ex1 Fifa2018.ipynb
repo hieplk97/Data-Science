{
 "cells": [
  {
   "cell_type": "code",
   "execution_count": 1,
   "id": "spiritual-industry",
   "metadata": {},
   "outputs": [],
   "source": [
    "import findspark\n",
    "findspark.init()"
   ]
  },
  {
   "cell_type": "code",
   "execution_count": 2,
   "id": "ranking-breast",
   "metadata": {},
   "outputs": [],
   "source": [
    "from pyspark import SparkContext\n",
    "from pyspark.conf import SparkConf\n",
    "from pyspark.sql import SparkSession\n",
    "from pyspark.sql import functions as F"
   ]
  },
  {
   "cell_type": "code",
   "execution_count": 3,
   "id": "presidential-learning",
   "metadata": {},
   "outputs": [],
   "source": [
    "import matplotlib.pyplot as plt"
   ]
  },
  {
   "cell_type": "code",
   "execution_count": 4,
   "id": "attended-peoples",
   "metadata": {},
   "outputs": [],
   "source": [
    "sc = SparkContext()\n",
    "spark = SparkSession(sc)"
   ]
  },
  {
   "cell_type": "markdown",
   "id": "lightweight-polyester",
   "metadata": {},
   "source": [
    "### 1. Đọc tập tin Fifa2018_dataset.csv vào fifa_df"
   ]
  },
  {
   "cell_type": "code",
   "execution_count": 5,
   "id": "conditional-bargain",
   "metadata": {},
   "outputs": [],
   "source": [
    "# Create a Dataframe from CSV file. Load the dataframe\n",
    "fifa_df = spark.read.csv('../../Data/Fifa2018_dataset.csv', header=True, inferSchema=True)"
   ]
  },
  {
   "cell_type": "markdown",
   "id": "cooked-chapel",
   "metadata": {},
   "source": [
    "### 2. In schema của fifa_df. Hiển thị 2 dòng đầu tiên của dữ liệu. Cho biết dữ liệu có bao nhiêu dòng?"
   ]
  },
  {
   "cell_type": "code",
   "execution_count": 6,
   "id": "greenhouse-florist",
   "metadata": {},
   "outputs": [
    {
     "name": "stdout",
     "output_type": "stream",
     "text": [
      "root\n",
      " |-- _c0: integer (nullable = true)\n",
      " |-- Name: string (nullable = true)\n",
      " |-- Age: integer (nullable = true)\n",
      " |-- Photo: string (nullable = true)\n",
      " |-- Nationality: string (nullable = true)\n",
      " |-- Flag: string (nullable = true)\n",
      " |-- Overall: integer (nullable = true)\n",
      " |-- Potential: integer (nullable = true)\n",
      " |-- Club: string (nullable = true)\n",
      " |-- Club Logo: string (nullable = true)\n",
      " |-- Value: string (nullable = true)\n",
      " |-- Wage: string (nullable = true)\n",
      " |-- Special: integer (nullable = true)\n",
      " |-- Acceleration: string (nullable = true)\n",
      " |-- Aggression: string (nullable = true)\n",
      " |-- Agility: string (nullable = true)\n",
      " |-- Balance: string (nullable = true)\n",
      " |-- Ball control: string (nullable = true)\n",
      " |-- Composure: string (nullable = true)\n",
      " |-- Crossing: string (nullable = true)\n",
      " |-- Curve: string (nullable = true)\n",
      " |-- Dribbling: string (nullable = true)\n",
      " |-- Finishing: string (nullable = true)\n",
      " |-- Free kick accuracy: string (nullable = true)\n",
      " |-- GK diving: string (nullable = true)\n",
      " |-- GK handling: string (nullable = true)\n",
      " |-- GK kicking: string (nullable = true)\n",
      " |-- GK positioning: string (nullable = true)\n",
      " |-- GK reflexes: string (nullable = true)\n",
      " |-- Heading accuracy: string (nullable = true)\n",
      " |-- Interceptions: string (nullable = true)\n",
      " |-- Jumping: string (nullable = true)\n",
      " |-- Long passing: string (nullable = true)\n",
      " |-- Long shots: string (nullable = true)\n",
      " |-- Marking: string (nullable = true)\n",
      " |-- Penalties: string (nullable = true)\n",
      " |-- Positioning: string (nullable = true)\n",
      " |-- Reactions: string (nullable = true)\n",
      " |-- Short passing: string (nullable = true)\n",
      " |-- Shot power: string (nullable = true)\n",
      " |-- Sliding tackle: string (nullable = true)\n",
      " |-- Sprint speed: string (nullable = true)\n",
      " |-- Stamina: string (nullable = true)\n",
      " |-- Standing tackle: string (nullable = true)\n",
      " |-- Strength: string (nullable = true)\n",
      " |-- Vision: string (nullable = true)\n",
      " |-- Volleys: string (nullable = true)\n",
      " |-- CAM: double (nullable = true)\n",
      " |-- CB: double (nullable = true)\n",
      " |-- CDM: double (nullable = true)\n",
      " |-- CF: double (nullable = true)\n",
      " |-- CM: double (nullable = true)\n",
      " |-- ID: integer (nullable = true)\n",
      " |-- LAM: double (nullable = true)\n",
      " |-- LB: double (nullable = true)\n",
      " |-- LCB: double (nullable = true)\n",
      " |-- LCM: double (nullable = true)\n",
      " |-- LDM: double (nullable = true)\n",
      " |-- LF: double (nullable = true)\n",
      " |-- LM: double (nullable = true)\n",
      " |-- LS: double (nullable = true)\n",
      " |-- LW: double (nullable = true)\n",
      " |-- LWB: double (nullable = true)\n",
      " |-- Preferred Positions: string (nullable = true)\n",
      " |-- RAM: double (nullable = true)\n",
      " |-- RB: double (nullable = true)\n",
      " |-- RCB: double (nullable = true)\n",
      " |-- RCM: double (nullable = true)\n",
      " |-- RDM: double (nullable = true)\n",
      " |-- RF: double (nullable = true)\n",
      " |-- RM: double (nullable = true)\n",
      " |-- RS: double (nullable = true)\n",
      " |-- RW: double (nullable = true)\n",
      " |-- RWB: double (nullable = true)\n",
      " |-- ST: double (nullable = true)\n",
      "\n"
     ]
    }
   ],
   "source": [
    "# Check the schema of columns\n",
    "fifa_df.printSchema()"
   ]
  },
  {
   "cell_type": "code",
   "execution_count": 7,
   "id": "superb-robinson",
   "metadata": {},
   "outputs": [
    {
     "data": {
      "text/html": [
       "<div>\n",
       "<style scoped>\n",
       "    .dataframe tbody tr th:only-of-type {\n",
       "        vertical-align: middle;\n",
       "    }\n",
       "\n",
       "    .dataframe tbody tr th {\n",
       "        vertical-align: top;\n",
       "    }\n",
       "\n",
       "    .dataframe thead th {\n",
       "        text-align: right;\n",
       "    }\n",
       "</style>\n",
       "<table border=\"1\" class=\"dataframe\">\n",
       "  <thead>\n",
       "    <tr style=\"text-align: right;\">\n",
       "      <th></th>\n",
       "      <th>_c0</th>\n",
       "      <th>Name</th>\n",
       "      <th>Age</th>\n",
       "      <th>Photo</th>\n",
       "      <th>Nationality</th>\n",
       "      <th>Flag</th>\n",
       "      <th>Overall</th>\n",
       "      <th>Potential</th>\n",
       "      <th>Club</th>\n",
       "      <th>Club Logo</th>\n",
       "      <th>...</th>\n",
       "      <th>RB</th>\n",
       "      <th>RCB</th>\n",
       "      <th>RCM</th>\n",
       "      <th>RDM</th>\n",
       "      <th>RF</th>\n",
       "      <th>RM</th>\n",
       "      <th>RS</th>\n",
       "      <th>RW</th>\n",
       "      <th>RWB</th>\n",
       "      <th>ST</th>\n",
       "    </tr>\n",
       "  </thead>\n",
       "  <tbody>\n",
       "    <tr>\n",
       "      <th>0</th>\n",
       "      <td>0</td>\n",
       "      <td>Cristiano Ronaldo</td>\n",
       "      <td>32</td>\n",
       "      <td>https://cdn.sofifa.org/48/18/players/20801.png</td>\n",
       "      <td>Portugal</td>\n",
       "      <td>https://cdn.sofifa.org/flags/38.png</td>\n",
       "      <td>94</td>\n",
       "      <td>94</td>\n",
       "      <td>Real Madrid CF</td>\n",
       "      <td>https://cdn.sofifa.org/24/18/teams/243.png</td>\n",
       "      <td>...</td>\n",
       "      <td>61.0</td>\n",
       "      <td>53.0</td>\n",
       "      <td>82.0</td>\n",
       "      <td>62.0</td>\n",
       "      <td>91.0</td>\n",
       "      <td>89.0</td>\n",
       "      <td>92.0</td>\n",
       "      <td>91.0</td>\n",
       "      <td>66.0</td>\n",
       "      <td>92.0</td>\n",
       "    </tr>\n",
       "    <tr>\n",
       "      <th>1</th>\n",
       "      <td>1</td>\n",
       "      <td>L. Messi</td>\n",
       "      <td>30</td>\n",
       "      <td>https://cdn.sofifa.org/48/18/players/158023.png</td>\n",
       "      <td>Argentina</td>\n",
       "      <td>https://cdn.sofifa.org/flags/52.png</td>\n",
       "      <td>93</td>\n",
       "      <td>93</td>\n",
       "      <td>FC Barcelona</td>\n",
       "      <td>https://cdn.sofifa.org/24/18/teams/241.png</td>\n",
       "      <td>...</td>\n",
       "      <td>57.0</td>\n",
       "      <td>45.0</td>\n",
       "      <td>84.0</td>\n",
       "      <td>59.0</td>\n",
       "      <td>92.0</td>\n",
       "      <td>90.0</td>\n",
       "      <td>88.0</td>\n",
       "      <td>91.0</td>\n",
       "      <td>62.0</td>\n",
       "      <td>88.0</td>\n",
       "    </tr>\n",
       "  </tbody>\n",
       "</table>\n",
       "<p>2 rows × 75 columns</p>\n",
       "</div>"
      ],
      "text/plain": [
       "   _c0               Name  Age  \\\n",
       "0    0  Cristiano Ronaldo   32   \n",
       "1    1           L. Messi   30   \n",
       "\n",
       "                                             Photo Nationality  \\\n",
       "0   https://cdn.sofifa.org/48/18/players/20801.png    Portugal   \n",
       "1  https://cdn.sofifa.org/48/18/players/158023.png   Argentina   \n",
       "\n",
       "                                  Flag  Overall  Potential            Club  \\\n",
       "0  https://cdn.sofifa.org/flags/38.png       94         94  Real Madrid CF   \n",
       "1  https://cdn.sofifa.org/flags/52.png       93         93    FC Barcelona   \n",
       "\n",
       "                                    Club Logo  ...    RB   RCB   RCM   RDM  \\\n",
       "0  https://cdn.sofifa.org/24/18/teams/243.png  ...  61.0  53.0  82.0  62.0   \n",
       "1  https://cdn.sofifa.org/24/18/teams/241.png  ...  57.0  45.0  84.0  59.0   \n",
       "\n",
       "     RF    RM    RS    RW   RWB    ST  \n",
       "0  91.0  89.0  92.0  91.0  66.0  92.0  \n",
       "1  92.0  90.0  88.0  91.0  62.0  88.0  \n",
       "\n",
       "[2 rows x 75 columns]"
      ]
     },
     "execution_count": 7,
     "metadata": {},
     "output_type": "execute_result"
    }
   ],
   "source": [
    "# Show the first 3 observations\n",
    "fifa_df.toPandas().head(2)"
   ]
  },
  {
   "cell_type": "code",
   "execution_count": 8,
   "id": "numeric-shopping",
   "metadata": {},
   "outputs": [
    {
     "name": "stdout",
     "output_type": "stream",
     "text": [
      "There are 17981 rows in the fifa_df Dataframe\n"
     ]
    }
   ],
   "source": [
    "# Print the total number of rows\n",
    "print(\"There are {} rows in the fifa_df Dataframe\".format(fifa_df.count()))"
   ]
  },
  {
   "cell_type": "markdown",
   "id": "vulnerable-reception",
   "metadata": {},
   "source": [
    "### 3. Tạo view 'fifa_table' từ fifa_df"
   ]
  },
  {
   "cell_type": "code",
   "execution_count": 9,
   "id": "criminal-postage",
   "metadata": {},
   "outputs": [],
   "source": [
    "# Create a temporary view of fifa_df\n",
    "fifa_df.createOrReplaceTempView('fifa_table')"
   ]
  },
  {
   "cell_type": "markdown",
   "id": "essential-philadelphia",
   "metadata": {},
   "source": [
    "### 4. Hãy thực hiện SQL Query để lấy cột Age của các vận động viên có Nationality là \"Germany\" => fifa_germany_age. Hiển thị 3 dòng đầu tiên của dữ liệu. In thống kê dữ liệu"
   ]
  },
  {
   "cell_type": "code",
   "execution_count": 10,
   "id": "funky-bailey",
   "metadata": {},
   "outputs": [],
   "source": [
    "# Construct the query\n",
    "query = 'SELECT Age FROM fifa_table WHERE Nationality == \"Germany\"'\n",
    "# Apply the SQL \"query\"\n",
    "fifa_german_age = spark.sql(query)"
   ]
  },
  {
   "cell_type": "code",
   "execution_count": 11,
   "id": "minimal-theology",
   "metadata": {},
   "outputs": [
    {
     "name": "stdout",
     "output_type": "stream",
     "text": [
      "+---+\n",
      "|Age|\n",
      "+---+\n",
      "| 31|\n",
      "| 27|\n",
      "| 28|\n",
      "+---+\n",
      "only showing top 3 rows\n",
      "\n"
     ]
    }
   ],
   "source": [
    "fifa_german_age.show(3)"
   ]
  },
  {
   "cell_type": "code",
   "execution_count": 12,
   "id": "communist-invitation",
   "metadata": {},
   "outputs": [
    {
     "name": "stdout",
     "output_type": "stream",
     "text": [
      "+-------+-----------------+\n",
      "|summary|              Age|\n",
      "+-------+-----------------+\n",
      "|  count|             1140|\n",
      "|   mean|24.20263157894737|\n",
      "| stddev|4.197096712293752|\n",
      "|    min|               16|\n",
      "|    max|               36|\n",
      "+-------+-----------------+\n",
      "\n"
     ]
    }
   ],
   "source": [
    "fifa_german_age.describe().show()"
   ]
  },
  {
   "cell_type": "markdown",
   "id": "adjacent-gabriel",
   "metadata": {},
   "source": [
    "### 5. Trực quan hóa dữ liệu fifa_germany_age. Nhận xét biểu đồ"
   ]
  },
  {
   "cell_type": "code",
   "execution_count": 13,
   "id": "optional-wings",
   "metadata": {},
   "outputs": [],
   "source": [
    "# Convert fifa_germany_age tho fifa_germany_age_pandas DataFrame\n",
    "fifa_germany_age_pandas = fifa_german_age.toPandas()"
   ]
  },
  {
   "cell_type": "code",
   "execution_count": 14,
   "id": "unavailable-magazine",
   "metadata": {},
   "outputs": [
    {
     "data": {
      "image/png": "[encoded data removed]",
      "text/plain": [
       "<Figure size 432x288 with 1 Axes>"
      ]
     },
     "metadata": {
      "needs_background": "light"
     },
     "output_type": "display_data"
    }
   ],
   "source": [
    "fifa_germany_age_pandas.plot(kind='density')\n",
    "plt.show()"
   ]
  },
  {
   "cell_type": "markdown",
   "id": "handmade-credit",
   "metadata": {},
   "source": [
    "### 6. Từ fifa_df, cho biết mỗi độ tuổi có bao nhiêu cầu thủ. Độ tuổi trung bình của cầu thủ mỗi quốc gia là bao nhiêu?"
   ]
  },
  {
   "cell_type": "code",
   "execution_count": 15,
   "id": "diverse-beaver",
   "metadata": {},
   "outputs": [
    {
     "name": "stdout",
     "output_type": "stream",
     "text": [
      "+---+-----+\n",
      "|Age|count|\n",
      "+---+-----+\n",
      "| 31|  671|\n",
      "| 34|  272|\n",
      "| 28| 1051|\n",
      "| 26| 1202|\n",
      "| 27| 1152|\n",
      "| 44|    2|\n",
      "| 22| 1324|\n",
      "| 47|    1|\n",
      "| 16|   13|\n",
      "| 20| 1245|\n",
      "| 40|    8|\n",
      "| 19| 1069|\n",
      "| 41|    3|\n",
      "| 43|    2|\n",
      "| 37|   69|\n",
      "| 17|  258|\n",
      "| 35|  191|\n",
      "| 39|   20|\n",
      "| 23| 1394|\n",
      "| 38|   36|\n",
      "+---+-----+\n",
      "only showing top 20 rows\n",
      "\n"
     ]
    }
   ],
   "source": [
    "fifa_df.groupBy(\"Age\").count().show()"
   ]
  },
  {
   "cell_type": "code",
   "execution_count": 16,
   "id": "unavailable-fiction",
   "metadata": {},
   "outputs": [
    {
     "name": "stdout",
     "output_type": "stream",
     "text": [
      "+--------------+------------------+\n",
      "|   Nationality|          avg(Age)|\n",
      "+--------------+------------------+\n",
      "|          Chad|              25.0|\n",
      "|        Russia| 25.23202614379085|\n",
      "|      Paraguay| 26.10144927536232|\n",
      "|       Senegal|25.046511627906977|\n",
      "|        Sweden|25.119565217391305|\n",
      "|        Guyana|              28.0|\n",
      "|       Eritrea|              32.0|\n",
      "|   Philippines|25.666666666666668|\n",
      "|          Fiji|              29.0|\n",
      "|        Turkey|25.127147766323024|\n",
      "|          Iraq|              26.0|\n",
      "|       Germany| 24.20263157894737|\n",
      "|St Kitts Nevis|26.666666666666668|\n",
      "|       Comoros| 27.11111111111111|\n",
      "|   Afghanistan|              22.0|\n",
      "|   Ivory Coast| 24.10891089108911|\n",
      "|         Sudan|              22.5|\n",
      "|        France|24.634969325153374|\n",
      "|        Greece|24.418367346938776|\n",
      "|        Kosovo|           23.9375|\n",
      "+--------------+------------------+\n",
      "only showing top 20 rows\n",
      "\n"
     ]
    }
   ],
   "source": [
    "fifa_df.groupBy(\"Nationality\").avg(\"Age\").show()"
   ]
  },
  {
   "cell_type": "markdown",
   "id": "generic-facility",
   "metadata": {},
   "source": [
    "### 7. Từ fifa_df, cho biết \"Age\" nhỏ nhất, \"Age\" lớn nhất. \"Strength\" nhỏ nhất, \"Strength\" lớn nhất"
   ]
  },
  {
   "cell_type": "code",
   "execution_count": 17,
   "id": "israeli-invite",
   "metadata": {},
   "outputs": [
    {
     "name": "stdout",
     "output_type": "stream",
     "text": [
      "+--------------+--------+--------+-------------+-------------+\n",
      "|   Nationality|min(Age)|max(Age)|min(Strength)|max(Strength)|\n",
      "+--------------+--------+--------+-------------+-------------+\n",
      "|          Chad|      24|      26|           73|           79|\n",
      "|      Paraguay|      18|      37|           33|           91|\n",
      "|        Russia|      17|      37|           26|           93|\n",
      "|       Senegal|      18|      34|           37|           94|\n",
      "|        Sweden|      17|      37|           21|           91|\n",
      "|        Guyana|      25|      34|           47|           75|\n",
      "|       Eritrea|      32|      32|           85|           85|\n",
      "|   Philippines|      22|      28|           42|           76|\n",
      "|          Fiji|      29|      29|           57|           57|\n",
      "|        Turkey|      17|      39|           30|           90|\n",
      "|          Iraq|      21|      30|           55|           86|\n",
      "|       Germany|      16|      36|           28|           94|\n",
      "|St Kitts Nevis|      23|      32|           32|           84|\n",
      "|       Comoros|      23|      32|           28|           82|\n",
      "|   Afghanistan|      19|      27|           40|           58|\n",
      "|   Ivory Coast|      17|      34|           38|           92|\n",
      "|         Sudan|      22|      23|           41|           62|\n",
      "|        France|      16|      40|           26|           93|\n",
      "|        Greece|      18|      38|           32|           91|\n",
      "|        Kosovo|      18|      33|           30|           90|\n",
      "+--------------+--------+--------+-------------+-------------+\n",
      "only showing top 20 rows\n",
      "\n"
     ]
    }
   ],
   "source": [
    "fifa_df.groupBy(\"Nationality\").agg(F.min(\"Age\"), F.max(\"Age\"),\n",
    "                                   F.min(\"Strength\"), F.max(\"Strength\")).show()"
   ]
  },
  {
   "cell_type": "markdown",
   "id": "bulgarian-cement",
   "metadata": {},
   "source": [
    "### 8. Liệt kê danh sách các \"Club\" (duy nhất) theo 2 cách với DataFrame fifa_df và SQL query với fifa_table"
   ]
  },
  {
   "cell_type": "code",
   "execution_count": 18,
   "id": "electoral-intro",
   "metadata": {},
   "outputs": [
    {
     "name": "stdout",
     "output_type": "stream",
     "text": [
      "+--------------------+\n",
      "|                Club|\n",
      "+--------------------+\n",
      "|             Palermo|\n",
      "|         Yeovil Town|\n",
      "|  1. FC Union Berlin|\n",
      "|  Santiago Wanderers|\n",
      "|               Carpi|\n",
      "|Evkur Yeni Malaty...|\n",
      "|          Sagan Tosu|\n",
      "|            FC Basel|\n",
      "|  Argentinos Juniors|\n",
      "|       Karlsruher SC|\n",
      "|  Lorca Deportiva CF|\n",
      "|     SC Paderborn 07|\n",
      "|     Cheltenham Town|\n",
      "|San Lorenzo de Al...|\n",
      "|         SC Freiburg|\n",
      "|  SpVgg Unterhaching|\n",
      "|Atletico Nacional...|\n",
      "|Universidad Católica|\n",
      "|         GFC Ajaccio|\n",
      "|           FC Luzern|\n",
      "+--------------------+\n",
      "only showing top 20 rows\n",
      "\n"
     ]
    }
   ],
   "source": [
    "fifa_df.select(\"Club\").distinct().show()"
   ]
  },
  {
   "cell_type": "code",
   "execution_count": 19,
   "id": "driving-challenge",
   "metadata": {},
   "outputs": [
    {
     "name": "stdout",
     "output_type": "stream",
     "text": [
      "+--------------------+\n",
      "|                Club|\n",
      "+--------------------+\n",
      "|             Palermo|\n",
      "|         Yeovil Town|\n",
      "|  1. FC Union Berlin|\n",
      "|  Santiago Wanderers|\n",
      "|               Carpi|\n",
      "|Evkur Yeni Malaty...|\n",
      "|          Sagan Tosu|\n",
      "|            FC Basel|\n",
      "|  Argentinos Juniors|\n",
      "|       Karlsruher SC|\n",
      "|  Lorca Deportiva CF|\n",
      "|     SC Paderborn 07|\n",
      "|     Cheltenham Town|\n",
      "|San Lorenzo de Al...|\n",
      "|         SC Freiburg|\n",
      "|  SpVgg Unterhaching|\n",
      "|Atletico Nacional...|\n",
      "|Universidad Católica|\n",
      "|         GFC Ajaccio|\n",
      "|           FC Luzern|\n",
      "+--------------------+\n",
      "only showing top 20 rows\n",
      "\n"
     ]
    }
   ],
   "source": [
    "query = '''SELECT DISTINCT Club FROM fifa_table'''\n",
    "fifa_clubs = spark.sql(query)\n",
    "fifa_clubs.show()"
   ]
  },
  {
   "cell_type": "markdown",
   "id": "limiting-bonus",
   "metadata": {},
   "source": [
    "### 9. Từ fifa_df, sắp xếp dữ liệu giảm dần theo Age => fifa_df_desc"
   ]
  },
  {
   "cell_type": "code",
   "execution_count": 20,
   "id": "negative-scholar",
   "metadata": {},
   "outputs": [
    {
     "name": "stdout",
     "output_type": "stream",
     "text": [
      "+-------------+---+--------+\n",
      "|         Name|Age|Strength|\n",
      "+-------------+---+--------+\n",
      "|B. Richardson| 47|      47|\n",
      "| E. El Hadary| 44|      73|\n",
      "|     O. Pérez| 44|      66|\n",
      "+-------------+---+--------+\n",
      "only showing top 3 rows\n",
      "\n"
     ]
    }
   ],
   "source": [
    "fifa_df_desc = fifa_df.orderBy(fifa_df[\"Age\"].desc())\n",
    "fifa_df_desc.select(\"Name\", \"Age\", \"Strength\").show(3)"
   ]
  },
  {
   "cell_type": "markdown",
   "id": "capital-marketing",
   "metadata": {},
   "source": [
    "### 10. Có bao nhiêu cầu thủ trong \"Name\" có \"Cristiano\" theo 2 cách với DataFrame fifa_df và SQL query với fifa_table. In tên các cầu thủ này."
   ]
  },
  {
   "cell_type": "code",
   "execution_count": 21,
   "id": "apparent-roots",
   "metadata": {},
   "outputs": [
    {
     "data": {
      "text/plain": [
       "3"
      ]
     },
     "execution_count": 21,
     "metadata": {},
     "output_type": "execute_result"
    }
   ],
   "source": [
    "people_with_Cristiano = fifa_df.where(fifa_df[\"Name\"].contains(\"Cristiano\"))\n",
    "people_with_Cristiano.count()"
   ]
  },
  {
   "cell_type": "code",
   "execution_count": 22,
   "id": "comic-nirvana",
   "metadata": {},
   "outputs": [
    {
     "name": "stdout",
     "output_type": "stream",
     "text": [
      "+-----------------+\n",
      "|             Name|\n",
      "+-----------------+\n",
      "|Cristiano Ronaldo|\n",
      "|        Cristiano|\n",
      "|        Cristiano|\n",
      "+-----------------+\n",
      "\n"
     ]
    }
   ],
   "source": [
    "people_with_Cristiano.select(\"Name\").show()"
   ]
  },
  {
   "cell_type": "code",
   "execution_count": 23,
   "id": "competitive-physics",
   "metadata": {},
   "outputs": [
    {
     "data": {
      "text/plain": [
       "3"
      ]
     },
     "execution_count": 23,
     "metadata": {},
     "output_type": "execute_result"
    }
   ],
   "source": [
    "query = '''SELECT * FROM fifa_table WHERE Name LIKE \"%Cristiano%\"'''\n",
    "people_with_Cristiano_2 = spark.sql(query)\n",
    "people_with_Cristiano_2.count()"
   ]
  },
  {
   "cell_type": "code",
   "execution_count": 24,
   "id": "dying-soundtrack",
   "metadata": {},
   "outputs": [
    {
     "name": "stdout",
     "output_type": "stream",
     "text": [
      "+-----------------+\n",
      "|             Name|\n",
      "+-----------------+\n",
      "|Cristiano Ronaldo|\n",
      "|        Cristiano|\n",
      "|        Cristiano|\n",
      "+-----------------+\n",
      "\n"
     ]
    }
   ],
   "source": [
    "people_with_Cristiano_2.select(\"Name\").show()"
   ]
  }
 ],
 "metadata": {
  "kernelspec": {
   "display_name": "Python 3",
   "language": "python",
   "name": "python3"
  },
  "language_info": {
   "codemirror_mode": {
    "name": "ipython",
    "version": 3
   },
   "file_extension": ".py",
   "mimetype": "text/x-python",
   "name": "python",
   "nbconvert_exporter": "python",
   "pygments_lexer": "ipython3",
   "version": "3.8.3"
  }
 },
 "nbformat": 4,
 "nbformat_minor": 5
}
