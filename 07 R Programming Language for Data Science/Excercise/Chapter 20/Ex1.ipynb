{
 "cells": [
  {
   "cell_type": "code",
   "execution_count": 1,
   "metadata": {},
   "outputs": [
    {
     "name": "stderr",
     "output_type": "stream",
     "text": [
      "Loading required package: ggplot2\n",
      "\n",
      "Welcome! Want to learn more? See two factoextra-related books at https://goo.gl/ve3WBa\n",
      "\n"
     ]
    }
   ],
   "source": [
    "library(factoextra)"
   ]
  },
  {
   "cell_type": "code",
   "execution_count": 2,
   "metadata": {},
   "outputs": [],
   "source": [
    "x = floor(runif(100, min=1, max=101))\n",
    "y = floor(runif(100, min=1, max=101))"
   ]
  },
  {
   "cell_type": "code",
   "execution_count": 3,
   "metadata": {},
   "outputs": [
    {
     "name": "stdout",
     "output_type": "stream",
     "text": [
      " [1] 32 70 74 89  8 92 35 89 79  7\n",
      " [1]  7 21 78 36 51 80 13 62 33  4\n"
     ]
    }
   ],
   "source": [
    "print(x[1:10])\n",
    "print(y[1:10])"
   ]
  },
  {
   "cell_type": "code",
   "execution_count": 4,
   "metadata": {},
   "outputs": [
    {
     "data": {
      "image/png": "[encoded data removed]",
      "text/plain": [
       "Plot with title \"x vs y\""
      ]
     },
     "metadata": {
      "image/png": {
       "height": 420,
       "width": 420
      }
     },
     "output_type": "display_data"
    }
   ],
   "source": [
    "# plot the chart\n",
    "plot(x = x, y = y, xlab = \"x\", ylab = \"y\", main = \"x vs y\", pch = 10)"
   ]
  },
  {
   "cell_type": "code",
   "execution_count": 5,
   "metadata": {},
   "outputs": [],
   "source": [
    "# Determine number of cluster\n",
    "mydata = data.frame(x = x, y = y)"
   ]
  },
  {
   "cell_type": "code",
   "execution_count": 6,
   "metadata": {},
   "outputs": [
    {
     "data": {
      "text/html": [
       "<table>\n",
       "<caption>A data.frame: 6 × 2</caption>\n",
       "<thead>\n",
       "\t<tr><th></th><th scope=col>x</th><th scope=col>y</th></tr>\n",
       "\t<tr><th></th><th scope=col>&lt;dbl&gt;</th><th scope=col>&lt;dbl&gt;</th></tr>\n",
       "</thead>\n",
       "<tbody>\n",
       "\t<tr><th scope=row>1</th><td>32</td><td> 7</td></tr>\n",
       "\t<tr><th scope=row>2</th><td>70</td><td>21</td></tr>\n",
       "\t<tr><th scope=row>3</th><td>74</td><td>78</td></tr>\n",
       "\t<tr><th scope=row>4</th><td>89</td><td>36</td></tr>\n",
       "\t<tr><th scope=row>5</th><td> 8</td><td>51</td></tr>\n",
       "\t<tr><th scope=row>6</th><td>92</td><td>80</td></tr>\n",
       "</tbody>\n",
       "</table>\n"
      ],
      "text/latex": [
       "A data.frame: 6 × 2\n",
       "\\begin{tabular}{r|ll}\n",
       "  & x & y\\\\\n",
       "  & <dbl> & <dbl>\\\\\n",
       "\\hline\n",
       "\t1 & 32 &  7\\\\\n",
       "\t2 & 70 & 21\\\\\n",
       "\t3 & 74 & 78\\\\\n",
       "\t4 & 89 & 36\\\\\n",
       "\t5 &  8 & 51\\\\\n",
       "\t6 & 92 & 80\\\\\n",
       "\\end{tabular}\n"
      ],
      "text/markdown": [
       "\n",
       "A data.frame: 6 × 2\n",
       "\n",
       "| <!--/--> | x &lt;dbl&gt; | y &lt;dbl&gt; |\n",
       "|---|---|---|\n",
       "| 1 | 32 |  7 |\n",
       "| 2 | 70 | 21 |\n",
       "| 3 | 74 | 78 |\n",
       "| 4 | 89 | 36 |\n",
       "| 5 |  8 | 51 |\n",
       "| 6 | 92 | 80 |\n",
       "\n"
      ],
      "text/plain": [
       "  x  y \n",
       "1 32  7\n",
       "2 70 21\n",
       "3 74 78\n",
       "4 89 36\n",
       "5  8 51\n",
       "6 92 80"
      ]
     },
     "metadata": {},
     "output_type": "display_data"
    }
   ],
   "source": [
    "head(mydata)"
   ]
  },
  {
   "cell_type": "code",
   "execution_count": 7,
   "metadata": {},
   "outputs": [],
   "source": [
    "wss = (nrow(mydata) -1) * sum(apply(mydata, 2, var))"
   ]
  },
  {
   "cell_type": "code",
   "execution_count": 8,
   "metadata": {},
   "outputs": [],
   "source": [
    "for (i in 1:10) wss[i] = sum(kmeans(mydata, centers = i)$withinss)"
   ]
  },
  {
   "cell_type": "code",
   "execution_count": 9,
   "metadata": {},
   "outputs": [
    {
     "data": {
      "image/png": "[encoded data removed]",
      "text/plain": [
       "plot without title"
      ]
     },
     "metadata": {
      "image/png": {
       "height": 420,
       "width": 420
      }
     },
     "output_type": "display_data"
    }
   ],
   "source": [
    "plot(1:10, wss, type = 'b', xlab = \"Number of clustes\", ylab = \"WSS\")"
   ]
  },
  {
   "cell_type": "code",
   "execution_count": 10,
   "metadata": {},
   "outputs": [
    {
     "name": "stdout",
     "output_type": "stream",
     "text": [
      "K-means clustering with 4 clusters of sizes 23, 27, 21, 29\n",
      "\n",
      "Cluster means:\n",
      "         x        y\n",
      "1 25.21739 21.21739\n",
      "2 32.59259 72.00000\n",
      "3 79.28571 26.09524\n",
      "4 80.34483 76.65517\n",
      "\n",
      "Clustering vector:\n",
      "  [1] 1 3 4 3 2 4 1 4 3 1 2 4 4 1 2 3 2 1 4 1 3 4 3 1 2 4 2 4 4 4 1 3 3 2 3 2 4\n",
      " [38] 1 3 3 4 4 2 3 4 4 2 4 2 4 2 2 2 4 4 3 3 2 2 2 4 1 2 4 4 2 1 3 2 2 1 1 2 2\n",
      " [75] 4 2 4 3 3 3 1 1 1 4 4 1 4 3 3 1 2 3 1 1 1 4 1 2 1 2\n",
      "\n",
      "Within cluster sum of squares by cluster:\n",
      "[1]  8873.826 12824.519  7196.095  7653.103\n",
      " (between_SS / total_SS =  78.0 %)\n",
      "\n",
      "Available components:\n",
      "\n",
      "[1] \"cluster\"      \"centers\"      \"totss\"        \"withinss\"     \"tot.withinss\"\n",
      "[6] \"betweenss\"    \"size\"         \"iter\"         \"ifault\"      \n"
     ]
    }
   ],
   "source": [
    "set.seed(20)\n",
    "dataCluster = kmeans(mydata, centers = 4, nstart = 20)\n",
    "print(dataCluster)"
   ]
  },
  {
   "cell_type": "code",
   "execution_count": 11,
   "metadata": {},
   "outputs": [
    {
     "name": "stdout",
     "output_type": "stream",
     "text": [
      "[1] \"Centroid points:\"\n",
      "         x        y\n",
      "1 25.21739 21.21739\n",
      "2 32.59259 72.00000\n",
      "3 79.28571 26.09524\n",
      "4 80.34483 76.65517\n"
     ]
    }
   ],
   "source": [
    "print(\"Centroid points:\")\n",
    "print(dataCluster$centers)"
   ]
  },
  {
   "cell_type": "code",
   "execution_count": 12,
   "metadata": {},
   "outputs": [],
   "source": [
    "x = c(80, 50, 70)\n",
    "y = c(30, 45, 75)\n",
    "data_new = data.frame(x = x, y = y)"
   ]
  },
  {
   "cell_type": "code",
   "execution_count": 13,
   "metadata": {},
   "outputs": [],
   "source": [
    "clusters = function(x, centers){\n",
    "    # Compute squared euclidean distance from each sample to each cluster center\n",
    "    tmp = sapply(seq_len(nrow(x)), function(i) apply(centers, 1, function(v) sum((x[i, ]-v)^2)))\n",
    "    max.col(-t(tmp)) # Find the index of min distance\n",
    "}"
   ]
  },
  {
   "cell_type": "code",
   "execution_count": 14,
   "metadata": {},
   "outputs": [
    {
     "ename": "ERROR",
     "evalue": "Error in apply(centers, 1, function(v) sum((x[i, ] - v)^2)): dim(X) must have a positive length\n",
     "output_type": "error",
     "traceback": [
      "Error in apply(centers, 1, function(v) sum((x[i, ] - v)^2)): dim(X) must have a positive length\nTraceback:\n",
      "1. clusters(data_new, dataCluster[[\"Centers\"]])",
      "2. sapply(seq_len(nrow(x)), function(i) apply(centers, 1, function(v) sum((x[i, \n .     ] - v)^2)))   # at line 3 of file <text>",
      "3. lapply(X = X, FUN = FUN, ...)",
      "4. FUN(X[[i]], ...)",
      "5. apply(centers, 1, function(v) sum((x[i, ] - v)^2))   # at line 3 of file <text>",
      "6. stop(\"dim(X) must have a positive length\")"
     ]
    }
   ],
   "source": [
    "new = clusters(data_new, dataCluster[[\"Centers\"]])\n",
    "new"
   ]
  },
  {
   "cell_type": "code",
   "execution_count": 15,
   "metadata": {},
   "outputs": [
    {
     "data": {
      "image/png": "[encoded data removed]",
      "text/plain": [
       "Plot with title \"x vs y\""
      ]
     },
     "metadata": {
      "image/png": {
       "height": 420,
       "width": 420
      }
     },
     "output_type": "display_data"
    }
   ],
   "source": [
    "dataCluster$cluster = as.factor(dataCluster$cluster)\n",
    "plot(x = mydata$x, y = mydata$y,\n",
    "     xlab = \"x\", ylab = \"y\",\n",
    "     main = \"x vs y\",\n",
    "     col = dataCluster$cluster, pch = 19)\n",
    "lines(x, y, col = 'orange', type = 'p')\n",
    "legend(\"topleft\", c(\"datanew\"), cex = 0.8, fill = c(\"orange\"))"
   ]
  },
  {
   "cell_type": "code",
   "execution_count": 16,
   "metadata": {},
   "outputs": [
    {
     "data": {
      "image/png": "[encoded data removed]",
      "text/plain": [
       "plot without title"
      ]
     },
     "metadata": {
      "image/png": {
       "height": 420,
       "width": 420
      }
     },
     "output_type": "display_data"
    }
   ],
   "source": [
    "fviz_cluster(dataCluster, geom = \"point\",\n",
    "             data = mydata) + ggtitle(\"k = 4\")"
   ]
  },
  {
   "cell_type": "code",
   "execution_count": null,
   "metadata": {},
   "outputs": [],
   "source": []
  }
 ],
 "metadata": {
  "kernelspec": {
   "display_name": "R",
   "language": "R",
   "name": "ir"
  },
  "language_info": {
   "codemirror_mode": "r",
   "file_extension": ".r",
   "mimetype": "text/x-r-source",
   "name": "R",
   "pygments_lexer": "r",
   "version": "4.0.3"
  }
 },
 "nbformat": 4,
 "nbformat_minor": 4
}
