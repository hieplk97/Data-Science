{
 "cells": [
  {
   "cell_type": "code",
   "execution_count": 1,
   "metadata": {},
   "outputs": [
    {
     "name": "stderr",
     "output_type": "stream",
     "text": [
      "-- \u001b[1mAttaching packages\u001b[22m ------------------------------------------------------------------------------- tidyverse 1.3.0 --\n",
      "\n",
      "\u001b[32m<U+221A>\u001b[39m \u001b[34mggplot2\u001b[39m 3.3.3     \u001b[32m<U+221A>\u001b[39m \u001b[34mpurrr  \u001b[39m 0.3.4\n",
      "\u001b[32m<U+221A>\u001b[39m \u001b[34mtibble \u001b[39m 3.0.4     \u001b[32m<U+221A>\u001b[39m \u001b[34mdplyr  \u001b[39m 1.0.2\n",
      "\u001b[32m<U+221A>\u001b[39m \u001b[34mtidyr  \u001b[39m 1.1.2     \u001b[32m<U+221A>\u001b[39m \u001b[34mstringr\u001b[39m 1.4.0\n",
      "\u001b[32m<U+221A>\u001b[39m \u001b[34mreadr  \u001b[39m 1.4.0     \u001b[32m<U+221A>\u001b[39m \u001b[34mforcats\u001b[39m 0.5.0\n",
      "\n",
      "-- \u001b[1mConflicts\u001b[22m ---------------------------------------------------------------------------------- tidyverse_conflicts() --\n",
      "\u001b[31mx\u001b[39m \u001b[34mdplyr\u001b[39m::\u001b[32mfilter()\u001b[39m masks \u001b[34mstats\u001b[39m::filter()\n",
      "\u001b[31mx\u001b[39m \u001b[34mdplyr\u001b[39m::\u001b[32mlag()\u001b[39m    masks \u001b[34mstats\u001b[39m::lag()\n",
      "\n"
     ]
    }
   ],
   "source": [
    "library(tidyverse)"
   ]
  },
  {
   "cell_type": "code",
   "execution_count": 2,
   "metadata": {},
   "outputs": [
    {
     "name": "stdout",
     "output_type": "stream",
     "text": [
      "  id gender height weight  bmi age  bmc  bmd   fat  lean pcfat\n",
      "1  1      F    150     49 21.8  53 1312 0.88 17802 28600  37.3\n",
      "2  2      M    165     52 19.1  65 1309 0.84  8381 40229  16.8\n",
      "3  3      F    157     57 23.1  64 1230 0.84 19221 36057  34.0\n",
      "4  4      F    156     53 21.8  56 1171 0.80 17472 33094  33.8\n",
      "5  5      M    160     51 19.9  54 1681 0.98  7336 40621  14.8\n",
      "6  6      F    153     47 20.1  52 1358 0.91 14904 30068  32.2\n"
     ]
    }
   ],
   "source": [
    "data = read.csv('../../Data/Obesity_data.csv')\n",
    "print(head(data))"
   ]
  },
  {
   "cell_type": "code",
   "execution_count": 3,
   "metadata": {},
   "outputs": [
    {
     "name": "stdout",
     "output_type": "stream",
     "text": [
      "  gender height weight  bmi age\n",
      "1      F    150     49 21.8  53\n",
      "2      M    165     52 19.1  65\n",
      "3      F    157     57 23.1  64\n",
      "4      F    156     53 21.8  56\n",
      "5      M    160     51 19.9  54\n",
      "6      F    153     47 20.1  52\n"
     ]
    }
   ],
   "source": [
    "data_1 = data %>% select(c(2, 3, 4, 5, 6))\n",
    "print(head(data_1))"
   ]
  },
  {
   "cell_type": "code",
   "execution_count": 4,
   "metadata": {},
   "outputs": [
    {
     "name": "stdout",
     "output_type": "stream",
     "text": [
      "  gender height weight  bmi age\n",
      "1      F    150     49 21.8  53\n",
      "2      M    165     52 19.1  65\n",
      "3      F    157     57 23.1  64\n",
      "4      F    156     53 21.8  56\n",
      "5      M    160     51 19.9  54\n",
      "6      F    153     47 20.1  52\n"
     ]
    }
   ],
   "source": [
    "data_2 = data_1 %>% filter(bmi >= 18.5, bmi <= 24.9)\n",
    "print(head(data_2))"
   ]
  },
  {
   "cell_type": "code",
   "execution_count": 6,
   "metadata": {},
   "outputs": [
    {
     "name": "stdout",
     "output_type": "stream",
     "text": [
      "[1] \"Rows have bmi >= 18.5 and <= 24.9: 865\"\n"
     ]
    }
   ],
   "source": [
    "print(paste(\"Rows have bmi >= 18.5 and <= 24.9:\", nrow(data_2)))"
   ]
  },
  {
   "cell_type": "code",
   "execution_count": 7,
   "metadata": {},
   "outputs": [
    {
     "data": {
      "text/html": [
       "<table>\n",
       "<caption>A data.frame: 6 × 6</caption>\n",
       "<thead>\n",
       "\t<tr><th></th><th scope=col>gender</th><th scope=col>height</th><th scope=col>weight</th><th scope=col>bmi</th><th scope=col>age</th><th scope=col>height_m</th></tr>\n",
       "\t<tr><th></th><th scope=col>&lt;chr&gt;</th><th scope=col>&lt;int&gt;</th><th scope=col>&lt;int&gt;</th><th scope=col>&lt;dbl&gt;</th><th scope=col>&lt;int&gt;</th><th scope=col>&lt;dbl&gt;</th></tr>\n",
       "</thead>\n",
       "<tbody>\n",
       "\t<tr><th scope=row>1</th><td>F</td><td>150</td><td>49</td><td>21.8</td><td>53</td><td>1.50</td></tr>\n",
       "\t<tr><th scope=row>2</th><td>M</td><td>165</td><td>52</td><td>19.1</td><td>65</td><td>1.65</td></tr>\n",
       "\t<tr><th scope=row>3</th><td>F</td><td>157</td><td>57</td><td>23.1</td><td>64</td><td>1.57</td></tr>\n",
       "\t<tr><th scope=row>4</th><td>F</td><td>156</td><td>53</td><td>21.8</td><td>56</td><td>1.56</td></tr>\n",
       "\t<tr><th scope=row>5</th><td>M</td><td>160</td><td>51</td><td>19.9</td><td>54</td><td>1.60</td></tr>\n",
       "\t<tr><th scope=row>6</th><td>F</td><td>153</td><td>47</td><td>20.1</td><td>52</td><td>1.53</td></tr>\n",
       "</tbody>\n",
       "</table>\n"
      ],
      "text/latex": [
       "A data.frame: 6 × 6\n",
       "\\begin{tabular}{r|llllll}\n",
       "  & gender & height & weight & bmi & age & height\\_m\\\\\n",
       "  & <chr> & <int> & <int> & <dbl> & <int> & <dbl>\\\\\n",
       "\\hline\n",
       "\t1 & F & 150 & 49 & 21.8 & 53 & 1.50\\\\\n",
       "\t2 & M & 165 & 52 & 19.1 & 65 & 1.65\\\\\n",
       "\t3 & F & 157 & 57 & 23.1 & 64 & 1.57\\\\\n",
       "\t4 & F & 156 & 53 & 21.8 & 56 & 1.56\\\\\n",
       "\t5 & M & 160 & 51 & 19.9 & 54 & 1.60\\\\\n",
       "\t6 & F & 153 & 47 & 20.1 & 52 & 1.53\\\\\n",
       "\\end{tabular}\n"
      ],
      "text/markdown": [
       "\n",
       "A data.frame: 6 × 6\n",
       "\n",
       "| <!--/--> | gender &lt;chr&gt; | height &lt;int&gt; | weight &lt;int&gt; | bmi &lt;dbl&gt; | age &lt;int&gt; | height_m &lt;dbl&gt; |\n",
       "|---|---|---|---|---|---|---|\n",
       "| 1 | F | 150 | 49 | 21.8 | 53 | 1.50 |\n",
       "| 2 | M | 165 | 52 | 19.1 | 65 | 1.65 |\n",
       "| 3 | F | 157 | 57 | 23.1 | 64 | 1.57 |\n",
       "| 4 | F | 156 | 53 | 21.8 | 56 | 1.56 |\n",
       "| 5 | M | 160 | 51 | 19.9 | 54 | 1.60 |\n",
       "| 6 | F | 153 | 47 | 20.1 | 52 | 1.53 |\n",
       "\n"
      ],
      "text/plain": [
       "  gender height weight bmi  age height_m\n",
       "1 F      150    49     21.8 53  1.50    \n",
       "2 M      165    52     19.1 65  1.65    \n",
       "3 F      157    57     23.1 64  1.57    \n",
       "4 F      156    53     21.8 56  1.56    \n",
       "5 M      160    51     19.9 54  1.60    \n",
       "6 F      153    47     20.1 52  1.53    "
      ]
     },
     "metadata": {},
     "output_type": "display_data"
    }
   ],
   "source": [
    "data_1 = mutate(data_1, height_m = height / 100)\n",
    "head(data_1)"
   ]
  },
  {
   "cell_type": "code",
   "execution_count": 8,
   "metadata": {},
   "outputs": [
    {
     "data": {
      "text/html": [
       "<table>\n",
       "<caption>A data.frame: 6 × 6</caption>\n",
       "<thead>\n",
       "\t<tr><th></th><th scope=col>gender</th><th scope=col>height</th><th scope=col>weight</th><th scope=col>bmi</th><th scope=col>age</th><th scope=col>height_m</th></tr>\n",
       "\t<tr><th></th><th scope=col>&lt;chr&gt;</th><th scope=col>&lt;int&gt;</th><th scope=col>&lt;int&gt;</th><th scope=col>&lt;dbl&gt;</th><th scope=col>&lt;int&gt;</th><th scope=col>&lt;dbl&gt;</th></tr>\n",
       "</thead>\n",
       "<tbody>\n",
       "\t<tr><th scope=row>1</th><td>M</td><td>162</td><td>38</td><td>14.5</td><td>55</td><td>1.62</td></tr>\n",
       "\t<tr><th scope=row>2</th><td>F</td><td>162</td><td>40</td><td>15.2</td><td>54</td><td>1.62</td></tr>\n",
       "\t<tr><th scope=row>3</th><td>F</td><td>151</td><td>35</td><td>15.4</td><td>33</td><td>1.51</td></tr>\n",
       "\t<tr><th scope=row>4</th><td>F</td><td>155</td><td>37</td><td>15.4</td><td>44</td><td>1.55</td></tr>\n",
       "\t<tr><th scope=row>5</th><td>F</td><td>150</td><td>35</td><td>15.6</td><td>24</td><td>1.50</td></tr>\n",
       "\t<tr><th scope=row>6</th><td>M</td><td>169</td><td>45</td><td>15.8</td><td>50</td><td>1.69</td></tr>\n",
       "</tbody>\n",
       "</table>\n"
      ],
      "text/latex": [
       "A data.frame: 6 × 6\n",
       "\\begin{tabular}{r|llllll}\n",
       "  & gender & height & weight & bmi & age & height\\_m\\\\\n",
       "  & <chr> & <int> & <int> & <dbl> & <int> & <dbl>\\\\\n",
       "\\hline\n",
       "\t1 & M & 162 & 38 & 14.5 & 55 & 1.62\\\\\n",
       "\t2 & F & 162 & 40 & 15.2 & 54 & 1.62\\\\\n",
       "\t3 & F & 151 & 35 & 15.4 & 33 & 1.51\\\\\n",
       "\t4 & F & 155 & 37 & 15.4 & 44 & 1.55\\\\\n",
       "\t5 & F & 150 & 35 & 15.6 & 24 & 1.50\\\\\n",
       "\t6 & M & 169 & 45 & 15.8 & 50 & 1.69\\\\\n",
       "\\end{tabular}\n"
      ],
      "text/markdown": [
       "\n",
       "A data.frame: 6 × 6\n",
       "\n",
       "| <!--/--> | gender &lt;chr&gt; | height &lt;int&gt; | weight &lt;int&gt; | bmi &lt;dbl&gt; | age &lt;int&gt; | height_m &lt;dbl&gt; |\n",
       "|---|---|---|---|---|---|---|\n",
       "| 1 | M | 162 | 38 | 14.5 | 55 | 1.62 |\n",
       "| 2 | F | 162 | 40 | 15.2 | 54 | 1.62 |\n",
       "| 3 | F | 151 | 35 | 15.4 | 33 | 1.51 |\n",
       "| 4 | F | 155 | 37 | 15.4 | 44 | 1.55 |\n",
       "| 5 | F | 150 | 35 | 15.6 | 24 | 1.50 |\n",
       "| 6 | M | 169 | 45 | 15.8 | 50 | 1.69 |\n",
       "\n"
      ],
      "text/plain": [
       "  gender height weight bmi  age height_m\n",
       "1 M      162    38     14.5 55  1.62    \n",
       "2 F      162    40     15.2 54  1.62    \n",
       "3 F      151    35     15.4 33  1.51    \n",
       "4 F      155    37     15.4 44  1.55    \n",
       "5 F      150    35     15.6 24  1.50    \n",
       "6 M      169    45     15.8 50  1.69    "
      ]
     },
     "metadata": {},
     "output_type": "display_data"
    }
   ],
   "source": [
    "head(arrange(data_1, bmi))"
   ]
  },
  {
   "cell_type": "code",
   "execution_count": 10,
   "metadata": {},
   "outputs": [
    {
     "name": "stderr",
     "output_type": "stream",
     "text": [
      "`summarise()` ungrouping output (override with `.groups` argument)\n",
      "\n"
     ]
    },
    {
     "data": {
      "text/html": [
       "<table>\n",
       "<caption>A tibble: 2 × 4</caption>\n",
       "<thead>\n",
       "\t<tr><th scope=col>gender</th><th scope=col>count</th><th scope=col>mean.height</th><th scope=col>mean.weight</th></tr>\n",
       "\t<tr><th scope=col>&lt;chr&gt;</th><th scope=col>&lt;int&gt;</th><th scope=col>&lt;dbl&gt;</th><th scope=col>&lt;dbl&gt;</th></tr>\n",
       "</thead>\n",
       "<tbody>\n",
       "\t<tr><td>F</td><td>862</td><td>153.2912</td><td>52.31090</td></tr>\n",
       "\t<tr><td>M</td><td>355</td><td>165.0592</td><td>62.02254</td></tr>\n",
       "</tbody>\n",
       "</table>\n"
      ],
      "text/latex": [
       "A tibble: 2 × 4\n",
       "\\begin{tabular}{llll}\n",
       " gender & count & mean.height & mean.weight\\\\\n",
       " <chr> & <int> & <dbl> & <dbl>\\\\\n",
       "\\hline\n",
       "\t F & 862 & 153.2912 & 52.31090\\\\\n",
       "\t M & 355 & 165.0592 & 62.02254\\\\\n",
       "\\end{tabular}\n"
      ],
      "text/markdown": [
       "\n",
       "A tibble: 2 × 4\n",
       "\n",
       "| gender &lt;chr&gt; | count &lt;int&gt; | mean.height &lt;dbl&gt; | mean.weight &lt;dbl&gt; |\n",
       "|---|---|---|---|\n",
       "| F | 862 | 153.2912 | 52.31090 |\n",
       "| M | 355 | 165.0592 | 62.02254 |\n",
       "\n"
      ],
      "text/plain": [
       "  gender count mean.height mean.weight\n",
       "1 F      862   153.2912    52.31090   \n",
       "2 M      355   165.0592    62.02254   "
      ]
     },
     "metadata": {},
     "output_type": "display_data"
    }
   ],
   "source": [
    "group = group_by(data_1, gender)\n",
    "summary = summarize(group, count = n(),\n",
    "                    mean.height = mean(height, na.rm = T),\n",
    "                    mean.weight = mean(weight, na.rm = T))\n",
    "summary"
   ]
  },
  {
   "cell_type": "code",
   "execution_count": 11,
   "metadata": {},
   "outputs": [
    {
     "data": {
      "text/html": [
       "<table>\n",
       "<caption>A data.frame: 2 × 2</caption>\n",
       "<thead>\n",
       "\t<tr><th scope=col>gender</th><th scope=col>n</th></tr>\n",
       "\t<tr><th scope=col>&lt;chr&gt;</th><th scope=col>&lt;int&gt;</th></tr>\n",
       "</thead>\n",
       "<tbody>\n",
       "\t<tr><td>F</td><td>862</td></tr>\n",
       "\t<tr><td>M</td><td>355</td></tr>\n",
       "</tbody>\n",
       "</table>\n"
      ],
      "text/latex": [
       "A data.frame: 2 × 2\n",
       "\\begin{tabular}{ll}\n",
       " gender & n\\\\\n",
       " <chr> & <int>\\\\\n",
       "\\hline\n",
       "\t F & 862\\\\\n",
       "\t M & 355\\\\\n",
       "\\end{tabular}\n"
      ],
      "text/markdown": [
       "\n",
       "A data.frame: 2 × 2\n",
       "\n",
       "| gender &lt;chr&gt; | n &lt;int&gt; |\n",
       "|---|---|\n",
       "| F | 862 |\n",
       "| M | 355 |\n",
       "\n"
      ],
      "text/plain": [
       "  gender n  \n",
       "1 F      862\n",
       "2 M      355"
      ]
     },
     "metadata": {},
     "output_type": "display_data"
    }
   ],
   "source": [
    "count(data_1, gender)"
   ]
  },
  {
   "cell_type": "code",
   "execution_count": 12,
   "metadata": {},
   "outputs": [
    {
     "data": {
      "text/html": [
       "<table>\n",
       "<caption>A data.frame: 6 × 3</caption>\n",
       "<thead>\n",
       "\t<tr><th></th><th scope=col>gender</th><th scope=col>age</th><th scope=col>n</th></tr>\n",
       "\t<tr><th></th><th scope=col>&lt;chr&gt;</th><th scope=col>&lt;int&gt;</th><th scope=col>&lt;int&gt;</th></tr>\n",
       "</thead>\n",
       "<tbody>\n",
       "\t<tr><th scope=row>1</th><td>F</td><td>14</td><td> 4</td></tr>\n",
       "\t<tr><th scope=row>2</th><td>F</td><td>16</td><td> 2</td></tr>\n",
       "\t<tr><th scope=row>3</th><td>F</td><td>18</td><td>10</td></tr>\n",
       "\t<tr><th scope=row>4</th><td>F</td><td>19</td><td>27</td></tr>\n",
       "\t<tr><th scope=row>5</th><td>F</td><td>20</td><td>13</td></tr>\n",
       "\t<tr><th scope=row>6</th><td>F</td><td>21</td><td> 8</td></tr>\n",
       "</tbody>\n",
       "</table>\n"
      ],
      "text/latex": [
       "A data.frame: 6 × 3\n",
       "\\begin{tabular}{r|lll}\n",
       "  & gender & age & n\\\\\n",
       "  & <chr> & <int> & <int>\\\\\n",
       "\\hline\n",
       "\t1 & F & 14 &  4\\\\\n",
       "\t2 & F & 16 &  2\\\\\n",
       "\t3 & F & 18 & 10\\\\\n",
       "\t4 & F & 19 & 27\\\\\n",
       "\t5 & F & 20 & 13\\\\\n",
       "\t6 & F & 21 &  8\\\\\n",
       "\\end{tabular}\n"
      ],
      "text/markdown": [
       "\n",
       "A data.frame: 6 × 3\n",
       "\n",
       "| <!--/--> | gender &lt;chr&gt; | age &lt;int&gt; | n &lt;int&gt; |\n",
       "|---|---|---|---|\n",
       "| 1 | F | 14 |  4 |\n",
       "| 2 | F | 16 |  2 |\n",
       "| 3 | F | 18 | 10 |\n",
       "| 4 | F | 19 | 27 |\n",
       "| 5 | F | 20 | 13 |\n",
       "| 6 | F | 21 |  8 |\n",
       "\n"
      ],
      "text/plain": [
       "  gender age n \n",
       "1 F      14   4\n",
       "2 F      16   2\n",
       "3 F      18  10\n",
       "4 F      19  27\n",
       "5 F      20  13\n",
       "6 F      21   8"
      ]
     },
     "metadata": {},
     "output_type": "display_data"
    }
   ],
   "source": [
    "group_gender_age = count(data_1, gender, age)\n",
    "head(group_gender_age)"
   ]
  },
  {
   "cell_type": "code",
   "execution_count": 13,
   "metadata": {},
   "outputs": [
    {
     "data": {
      "text/html": [
       "<table>\n",
       "<caption>A data.frame: 6 × 3</caption>\n",
       "<thead>\n",
       "\t<tr><th></th><th scope=col>gender</th><th scope=col>age</th><th scope=col>n</th></tr>\n",
       "\t<tr><th></th><th scope=col>&lt;chr&gt;</th><th scope=col>&lt;int&gt;</th><th scope=col>&lt;int&gt;</th></tr>\n",
       "</thead>\n",
       "<tbody>\n",
       "\t<tr><th scope=row>138</th><td>M</td><td>82</td><td>1</td></tr>\n",
       "\t<tr><th scope=row>139</th><td>M</td><td>83</td><td>1</td></tr>\n",
       "\t<tr><th scope=row>140</th><td>M</td><td>84</td><td>3</td></tr>\n",
       "\t<tr><th scope=row>141</th><td>M</td><td>85</td><td>1</td></tr>\n",
       "\t<tr><th scope=row>142</th><td>M</td><td>87</td><td>1</td></tr>\n",
       "\t<tr><th scope=row>143</th><td>M</td><td>88</td><td>1</td></tr>\n",
       "</tbody>\n",
       "</table>\n"
      ],
      "text/latex": [
       "A data.frame: 6 × 3\n",
       "\\begin{tabular}{r|lll}\n",
       "  & gender & age & n\\\\\n",
       "  & <chr> & <int> & <int>\\\\\n",
       "\\hline\n",
       "\t138 & M & 82 & 1\\\\\n",
       "\t139 & M & 83 & 1\\\\\n",
       "\t140 & M & 84 & 3\\\\\n",
       "\t141 & M & 85 & 1\\\\\n",
       "\t142 & M & 87 & 1\\\\\n",
       "\t143 & M & 88 & 1\\\\\n",
       "\\end{tabular}\n"
      ],
      "text/markdown": [
       "\n",
       "A data.frame: 6 × 3\n",
       "\n",
       "| <!--/--> | gender &lt;chr&gt; | age &lt;int&gt; | n &lt;int&gt; |\n",
       "|---|---|---|---|\n",
       "| 138 | M | 82 | 1 |\n",
       "| 139 | M | 83 | 1 |\n",
       "| 140 | M | 84 | 3 |\n",
       "| 141 | M | 85 | 1 |\n",
       "| 142 | M | 87 | 1 |\n",
       "| 143 | M | 88 | 1 |\n",
       "\n"
      ],
      "text/plain": [
       "    gender age n\n",
       "138 M      82  1\n",
       "139 M      83  1\n",
       "140 M      84  3\n",
       "141 M      85  1\n",
       "142 M      87  1\n",
       "143 M      88  1"
      ]
     },
     "metadata": {},
     "output_type": "display_data"
    }
   ],
   "source": [
    "tail(group_gender_age)"
   ]
  },
  {
   "cell_type": "code",
   "execution_count": 14,
   "metadata": {},
   "outputs": [
    {
     "data": {
      "text/html": [
       "<table>\n",
       "<caption>A data.frame: 10 × 6</caption>\n",
       "<thead>\n",
       "\t<tr><th scope=col>gender</th><th scope=col>height</th><th scope=col>weight</th><th scope=col>bmi</th><th scope=col>age</th><th scope=col>height_m</th></tr>\n",
       "\t<tr><th scope=col>&lt;chr&gt;</th><th scope=col>&lt;int&gt;</th><th scope=col>&lt;int&gt;</th><th scope=col>&lt;dbl&gt;</th><th scope=col>&lt;int&gt;</th><th scope=col>&lt;dbl&gt;</th></tr>\n",
       "</thead>\n",
       "<tbody>\n",
       "\t<tr><td>M</td><td>162</td><td>61</td><td>23.2</td><td>43</td><td>1.62</td></tr>\n",
       "\t<tr><td>M</td><td>160</td><td>54</td><td>21.1</td><td>76</td><td>1.60</td></tr>\n",
       "\t<tr><td>F</td><td>150</td><td>62</td><td>27.6</td><td>62</td><td>1.50</td></tr>\n",
       "\t<tr><td>M</td><td>156</td><td>55</td><td>22.6</td><td>62</td><td>1.56</td></tr>\n",
       "\t<tr><td>F</td><td>153</td><td>48</td><td>20.5</td><td>55</td><td>1.53</td></tr>\n",
       "\t<tr><td>F</td><td>155</td><td>50</td><td>20.8</td><td>21</td><td>1.55</td></tr>\n",
       "\t<tr><td>F</td><td>153</td><td>71</td><td>30.3</td><td>57</td><td>1.53</td></tr>\n",
       "\t<tr><td>F</td><td>150</td><td>35</td><td>15.6</td><td>24</td><td>1.50</td></tr>\n",
       "\t<tr><td>F</td><td>153</td><td>47</td><td>20.1</td><td>52</td><td>1.53</td></tr>\n",
       "\t<tr><td>F</td><td>158</td><td>62</td><td>24.8</td><td>48</td><td>1.58</td></tr>\n",
       "</tbody>\n",
       "</table>\n"
      ],
      "text/latex": [
       "A data.frame: 10 × 6\n",
       "\\begin{tabular}{llllll}\n",
       " gender & height & weight & bmi & age & height\\_m\\\\\n",
       " <chr> & <int> & <int> & <dbl> & <int> & <dbl>\\\\\n",
       "\\hline\n",
       "\t M & 162 & 61 & 23.2 & 43 & 1.62\\\\\n",
       "\t M & 160 & 54 & 21.1 & 76 & 1.60\\\\\n",
       "\t F & 150 & 62 & 27.6 & 62 & 1.50\\\\\n",
       "\t M & 156 & 55 & 22.6 & 62 & 1.56\\\\\n",
       "\t F & 153 & 48 & 20.5 & 55 & 1.53\\\\\n",
       "\t F & 155 & 50 & 20.8 & 21 & 1.55\\\\\n",
       "\t F & 153 & 71 & 30.3 & 57 & 1.53\\\\\n",
       "\t F & 150 & 35 & 15.6 & 24 & 1.50\\\\\n",
       "\t F & 153 & 47 & 20.1 & 52 & 1.53\\\\\n",
       "\t F & 158 & 62 & 24.8 & 48 & 1.58\\\\\n",
       "\\end{tabular}\n"
      ],
      "text/markdown": [
       "\n",
       "A data.frame: 10 × 6\n",
       "\n",
       "| gender &lt;chr&gt; | height &lt;int&gt; | weight &lt;int&gt; | bmi &lt;dbl&gt; | age &lt;int&gt; | height_m &lt;dbl&gt; |\n",
       "|---|---|---|---|---|---|\n",
       "| M | 162 | 61 | 23.2 | 43 | 1.62 |\n",
       "| M | 160 | 54 | 21.1 | 76 | 1.60 |\n",
       "| F | 150 | 62 | 27.6 | 62 | 1.50 |\n",
       "| M | 156 | 55 | 22.6 | 62 | 1.56 |\n",
       "| F | 153 | 48 | 20.5 | 55 | 1.53 |\n",
       "| F | 155 | 50 | 20.8 | 21 | 1.55 |\n",
       "| F | 153 | 71 | 30.3 | 57 | 1.53 |\n",
       "| F | 150 | 35 | 15.6 | 24 | 1.50 |\n",
       "| F | 153 | 47 | 20.1 | 52 | 1.53 |\n",
       "| F | 158 | 62 | 24.8 | 48 | 1.58 |\n",
       "\n"
      ],
      "text/plain": [
       "   gender height weight bmi  age height_m\n",
       "1  M      162    61     23.2 43  1.62    \n",
       "2  M      160    54     21.1 76  1.60    \n",
       "3  F      150    62     27.6 62  1.50    \n",
       "4  M      156    55     22.6 62  1.56    \n",
       "5  F      153    48     20.5 55  1.53    \n",
       "6  F      155    50     20.8 21  1.55    \n",
       "7  F      153    71     30.3 57  1.53    \n",
       "8  F      150    35     15.6 24  1.50    \n",
       "9  F      153    47     20.1 52  1.53    \n",
       "10 F      158    62     24.8 48  1.58    "
      ]
     },
     "metadata": {},
     "output_type": "display_data"
    }
   ],
   "source": [
    "data_3 = data_1 %>% sample_n(10)\n",
    "data_3"
   ]
  },
  {
   "cell_type": "code",
   "execution_count": 15,
   "metadata": {},
   "outputs": [
    {
     "data": {
      "text/html": [
       "<table>\n",
       "<caption>A data.frame: 12 × 6</caption>\n",
       "<thead>\n",
       "\t<tr><th scope=col>gender</th><th scope=col>height</th><th scope=col>weight</th><th scope=col>bmi</th><th scope=col>age</th><th scope=col>height_m</th></tr>\n",
       "\t<tr><th scope=col>&lt;chr&gt;</th><th scope=col>&lt;int&gt;</th><th scope=col>&lt;int&gt;</th><th scope=col>&lt;dbl&gt;</th><th scope=col>&lt;int&gt;</th><th scope=col>&lt;dbl&gt;</th></tr>\n",
       "</thead>\n",
       "<tbody>\n",
       "\t<tr><td>F</td><td>155</td><td>57</td><td>23.7</td><td>49</td><td>1.55</td></tr>\n",
       "\t<tr><td>M</td><td>154</td><td>55</td><td>23.2</td><td>78</td><td>1.54</td></tr>\n",
       "\t<tr><td>M</td><td>166</td><td>67</td><td>24.3</td><td>23</td><td>1.66</td></tr>\n",
       "\t<tr><td>F</td><td>155</td><td>47</td><td>19.6</td><td>42</td><td>1.55</td></tr>\n",
       "\t<tr><td>M</td><td>170</td><td>50</td><td>17.3</td><td>68</td><td>1.70</td></tr>\n",
       "\t<tr><td>M</td><td>180</td><td>75</td><td>23.1</td><td>23</td><td>1.80</td></tr>\n",
       "\t<tr><td>M</td><td>164</td><td>56</td><td>20.8</td><td>36</td><td>1.64</td></tr>\n",
       "\t<tr><td>F</td><td>149</td><td>50</td><td>22.5</td><td>57</td><td>1.49</td></tr>\n",
       "\t<tr><td>F</td><td>152</td><td>41</td><td>17.7</td><td>40</td><td>1.52</td></tr>\n",
       "\t<tr><td>M</td><td>173</td><td>60</td><td>20.0</td><td>22</td><td>1.73</td></tr>\n",
       "\t<tr><td>F</td><td>155</td><td>45</td><td>18.7</td><td>30</td><td>1.55</td></tr>\n",
       "\t<tr><td>F</td><td>160</td><td>56</td><td>21.9</td><td>14</td><td>1.60</td></tr>\n",
       "</tbody>\n",
       "</table>\n"
      ],
      "text/latex": [
       "A data.frame: 12 × 6\n",
       "\\begin{tabular}{llllll}\n",
       " gender & height & weight & bmi & age & height\\_m\\\\\n",
       " <chr> & <int> & <int> & <dbl> & <int> & <dbl>\\\\\n",
       "\\hline\n",
       "\t F & 155 & 57 & 23.7 & 49 & 1.55\\\\\n",
       "\t M & 154 & 55 & 23.2 & 78 & 1.54\\\\\n",
       "\t M & 166 & 67 & 24.3 & 23 & 1.66\\\\\n",
       "\t F & 155 & 47 & 19.6 & 42 & 1.55\\\\\n",
       "\t M & 170 & 50 & 17.3 & 68 & 1.70\\\\\n",
       "\t M & 180 & 75 & 23.1 & 23 & 1.80\\\\\n",
       "\t M & 164 & 56 & 20.8 & 36 & 1.64\\\\\n",
       "\t F & 149 & 50 & 22.5 & 57 & 1.49\\\\\n",
       "\t F & 152 & 41 & 17.7 & 40 & 1.52\\\\\n",
       "\t M & 173 & 60 & 20.0 & 22 & 1.73\\\\\n",
       "\t F & 155 & 45 & 18.7 & 30 & 1.55\\\\\n",
       "\t F & 160 & 56 & 21.9 & 14 & 1.60\\\\\n",
       "\\end{tabular}\n"
      ],
      "text/markdown": [
       "\n",
       "A data.frame: 12 × 6\n",
       "\n",
       "| gender &lt;chr&gt; | height &lt;int&gt; | weight &lt;int&gt; | bmi &lt;dbl&gt; | age &lt;int&gt; | height_m &lt;dbl&gt; |\n",
       "|---|---|---|---|---|---|\n",
       "| F | 155 | 57 | 23.7 | 49 | 1.55 |\n",
       "| M | 154 | 55 | 23.2 | 78 | 1.54 |\n",
       "| M | 166 | 67 | 24.3 | 23 | 1.66 |\n",
       "| F | 155 | 47 | 19.6 | 42 | 1.55 |\n",
       "| M | 170 | 50 | 17.3 | 68 | 1.70 |\n",
       "| M | 180 | 75 | 23.1 | 23 | 1.80 |\n",
       "| M | 164 | 56 | 20.8 | 36 | 1.64 |\n",
       "| F | 149 | 50 | 22.5 | 57 | 1.49 |\n",
       "| F | 152 | 41 | 17.7 | 40 | 1.52 |\n",
       "| M | 173 | 60 | 20.0 | 22 | 1.73 |\n",
       "| F | 155 | 45 | 18.7 | 30 | 1.55 |\n",
       "| F | 160 | 56 | 21.9 | 14 | 1.60 |\n",
       "\n"
      ],
      "text/plain": [
       "   gender height weight bmi  age height_m\n",
       "1  F      155    57     23.7 49  1.55    \n",
       "2  M      154    55     23.2 78  1.54    \n",
       "3  M      166    67     24.3 23  1.66    \n",
       "4  F      155    47     19.6 42  1.55    \n",
       "5  M      170    50     17.3 68  1.70    \n",
       "6  M      180    75     23.1 23  1.80    \n",
       "7  M      164    56     20.8 36  1.64    \n",
       "8  F      149    50     22.5 57  1.49    \n",
       "9  F      152    41     17.7 40  1.52    \n",
       "10 M      173    60     20.0 22  1.73    \n",
       "11 F      155    45     18.7 30  1.55    \n",
       "12 F      160    56     21.9 14  1.60    "
      ]
     },
     "metadata": {},
     "output_type": "display_data"
    }
   ],
   "source": [
    "data_4 = data_1 %>% sample_frac(0.01)\n",
    "data_4"
   ]
  },
  {
   "cell_type": "code",
   "execution_count": null,
   "metadata": {},
   "outputs": [],
   "source": []
  }
 ],
 "metadata": {
  "kernelspec": {
   "display_name": "R",
   "language": "R",
   "name": "ir"
  },
  "language_info": {
   "codemirror_mode": "r",
   "file_extension": ".r",
   "mimetype": "text/x-r-source",
   "name": "R",
   "pygments_lexer": "r",
   "version": "4.0.3"
  }
 },
 "nbformat": 4,
 "nbformat_minor": 4
}
