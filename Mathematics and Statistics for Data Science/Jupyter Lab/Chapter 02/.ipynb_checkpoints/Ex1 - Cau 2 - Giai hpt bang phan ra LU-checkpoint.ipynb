{
 "cells": [
  {
   "cell_type": "raw",
   "metadata": {},
   "source": [
    "\"\"\"=============================================================================\n",
    "    Ex1: DECOMPOSITION\n",
    "    Câu 2: Giải hệ phương trình bằng LU Decomposition\n",
    "        a) Quy về Ax = B. Sau đó giải tìm x.\n",
    "        b) Phân tích thành các thành phần P, L, U. In kết quả.\n",
    "        c) Tái tạo lại ma trận A từ các thành phần P, L, U.\n",
    "=============================================================================\"\"\""
   ]
  },
  {
   "cell_type": "code",
   "execution_count": 1,
   "metadata": {},
   "outputs": [],
   "source": [
    "import numpy as np\n",
    "import scipy.linalg as linalg\n",
    "\n",
    "from scipy.linalg import lu"
   ]
  },
  {
   "cell_type": "code",
   "execution_count": 2,
   "metadata": {},
   "outputs": [],
   "source": [
    "## Câu 2\n",
    "A = np.array([[2, 1, 1],\n",
    "              [1, 3, 2],\n",
    "              [1, 0, 0]])\n",
    "B = np.array([4, 5, 6])\n",
    "print('Ma trận A', A.shape, ':\\n', A)\n"
   ]
  },
  {
   "cell_type": "code",
   "execution_count": null,
   "metadata": {},
   "outputs": [],
   "source": [
    "\n",
    "print('************************ Hàm scipy.linalg.lu() ***********************\\n')\n",
    "P_T, L, U = lu(A)\n",
    "\n",
    "print('Ma trận P_T', P_T.shape, ':\\n', P_T)\n",
    "print('Ma trận L', L.shape, ':\\n', L)\n",
    "print('Ma trận U', U.shape, ':\\n', U)"
   ]
  }
 ],
 "metadata": {
  "kernelspec": {
   "display_name": "Python 3",
   "language": "python",
   "name": "python3"
  },
  "language_info": {
   "codemirror_mode": {
    "name": "ipython",
    "version": 3
   },
   "file_extension": ".py",
   "mimetype": "text/x-python",
   "name": "python",
   "nbconvert_exporter": "python",
   "pygments_lexer": "ipython3",
   "version": "3.8.5"
  }
 },
 "nbformat": 4,
 "nbformat_minor": 4
}
