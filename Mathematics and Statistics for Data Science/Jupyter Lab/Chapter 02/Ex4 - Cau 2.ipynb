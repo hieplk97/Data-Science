{
 "cells": [
  {
   "cell_type": "raw",
   "metadata": {},
   "source": [
    "\"\"\"=============================================================================\n",
    "   Ex4: SVD Demensionality Reduction\n",
    "   Câu 2: \n",
    "      a) Tải dữ liệu digits từ dataset của sklearn\n",
    "      b) Sử dụng TruncatedSVD để giảm chiều dữ liệu xuống 10 components\n",
    "      c) Trực quan hóa dữ liệu sau khi giảm chiều\n",
    "https://chrisalbon.com/machine_learning/feature_engineering/dimensionality_reduction_on_sparse_feature_matrix/\n",
    "=============================================================================\"\"\""
   ]
  },
  {
   "cell_type": "code",
   "execution_count": 1,
   "metadata": {},
   "outputs": [],
   "source": [
    "from sklearn.decomposition import TruncatedSVD\n",
    "from scipy.sparse import csr_matrix\n",
    "from sklearn import datasets"
   ]
  },
  {
   "cell_type": "code",
   "execution_count": 2,
   "metadata": {},
   "outputs": [
    {
     "name": "stdout",
     "output_type": "stream",
     "text": [
      "         - Matrix X (1797, 64) : \n",
      " [[ 0.  0.  5. ...  0.  0.  0.]\n",
      " [ 0.  0.  0. ... 10.  0.  0.]\n",
      " [ 0.  0.  0. ... 16.  9.  0.]\n",
      " ...\n",
      " [ 0.  0.  1. ...  6.  0.  0.]\n",
      " [ 0.  0.  2. ... 12.  0.  0.]\n",
      " [ 0.  0. 10. ... 12.  1.  0.]] \n",
      "\n",
      "         - Sparse matrix (1797, 64) : \n",
      "   (0, 2)\t5.0\n",
      "  (0, 3)\t13.0\n",
      "  (0, 4)\t9.0\n",
      "  (0, 5)\t1.0\n",
      "  (0, 10)\t13.0\n",
      "  (0, 11)\t15.0\n",
      "  (0, 12)\t10.0\n",
      "  (0, 13)\t15.0\n",
      "  (0, 14)\t5.0\n",
      "  (0, 17)\t3.0\n",
      "  (0, 18)\t15.0\n",
      "  (0, 19)\t2.0\n",
      "  (0, 21)\t11.0\n",
      "  (0, 22)\t8.0\n",
      "  (0, 25)\t4.0\n",
      "  (0, 26)\t12.0\n",
      "  (0, 29)\t8.0\n",
      "  (0, 30)\t8.0\n",
      "  (0, 33)\t5.0\n",
      "  (0, 34)\t8.0\n",
      "  (0, 37)\t9.0\n",
      "  (0, 38)\t8.0\n",
      "  (0, 41)\t4.0\n",
      "  (0, 42)\t11.0\n",
      "  (0, 44)\t1.0\n",
      "  :\t:\n",
      "  (1796, 27)\t16.0\n",
      "  (1796, 28)\t16.0\n",
      "  (1796, 29)\t10.0\n",
      "  (1796, 34)\t12.0\n",
      "  (1796, 35)\t15.0\n",
      "  (1796, 36)\t15.0\n",
      "  (1796, 37)\t12.0\n",
      "  (1796, 41)\t4.0\n",
      "  (1796, 42)\t16.0\n",
      "  (1796, 43)\t6.0\n",
      "  (1796, 44)\t4.0\n",
      "  (1796, 45)\t16.0\n",
      "  (1796, 46)\t6.0\n",
      "  (1796, 49)\t8.0\n",
      "  (1796, 50)\t16.0\n",
      "  (1796, 51)\t10.0\n",
      "  (1796, 52)\t8.0\n",
      "  (1796, 53)\t16.0\n",
      "  (1796, 54)\t8.0\n",
      "  (1796, 57)\t1.0\n",
      "  (1796, 58)\t8.0\n",
      "  (1796, 59)\t12.0\n",
      "  (1796, 60)\t14.0\n",
      "  (1796, 61)\t12.0\n",
      "  (1796, 62)\t1.0 \n",
      "\n"
     ]
    }
   ],
   "source": [
    "## a) Tải dữ liệu digits từ dataset của sklearn\n",
    "digits = datasets.load_digits()\n",
    "print('         - Matrix X', digits.data.shape, ': \\n', digits.data, '\\n')\n",
    "\n",
    "## Standardize the feature matrix\n",
    "X = digits.data\n",
    "\n",
    "## Make sparse matrix\n",
    "X_sparse = csr_matrix(X)\n",
    "print('         - Sparse matrix', X_sparse.shape, ': \\n', X_sparse, '\\n')"
   ]
  },
  {
   "cell_type": "code",
   "execution_count": 3,
   "metadata": {},
   "outputs": [
    {
     "name": "stdout",
     "output_type": "stream",
     "text": [
      "Original number of features: 64\n",
      "Reduced  number of features: 10\n",
      "         - X[0]: \n",
      " [ 0.  0.  5. 13.  9.  1.  0.  0.  0.  0. 13. 15. 10. 15.  5.  0.  0.  3.\n",
      " 15.  2.  0. 11.  8.  0.  0.  4. 12.  0.  0.  8.  8.  0.  0.  5.  8.  0.\n",
      "  0.  9.  8.  0.  0.  4. 11.  0.  1. 12.  7.  0.  0.  2. 14.  5. 10. 12.\n",
      "  0.  0.  0.  0.  6. 13. 10.  0.  0.  0.] \n",
      "\n",
      "         - X[0]: \n",
      " [45.86127719 -1.19211567 21.10005922 -9.4889678  13.04312596 -7.01642998\n",
      " -8.96008625  0.39656809  1.30970595 -1.39148044] \n",
      "\n"
     ]
    },
    {
     "data": {
      "text/plain": [
       "0.7324264797881254"
      ]
     },
     "execution_count": 3,
     "metadata": {},
     "output_type": "execute_result"
    }
   ],
   "source": [
    "## b) Phân tích Truncated SVD với k = 10: U, s, VT\n",
    "tsvd = TruncatedSVD(n_components = 10)\n",
    "\n",
    "## Conduct TSVD on sparse matrix\n",
    "X_sparse_tsvd = tsvd.fit(X_sparse).transform(X_sparse)\n",
    "\n",
    "## Show results\n",
    "print('Original number of features:', X_sparse.shape[1])\n",
    "print('Reduced  number of features:', X_sparse_tsvd.shape[1])\n",
    "\n",
    "print('         - X[0]: \\n', X[0], '\\n')\n",
    "print('         - X[0]: \\n', X_sparse_tsvd[0], '\\n')\n",
    "\n",
    "## View Percent Of Variance Explained By New Features\n",
    "# Sum of 10 components' explained variance ratios\n",
    "tsvd.explained_variance_ratio_[0:10].sum()\n",
    "\n",
    "## 73% with 10 components"
   ]
  },
  {
   "cell_type": "code",
   "execution_count": null,
   "metadata": {},
   "outputs": [],
   "source": []
  }
 ],
 "metadata": {
  "kernelspec": {
   "display_name": "Python 3",
   "language": "python",
   "name": "python3"
  },
  "language_info": {
   "codemirror_mode": {
    "name": "ipython",
    "version": 3
   },
   "file_extension": ".py",
   "mimetype": "text/x-python",
   "name": "python",
   "nbconvert_exporter": "python",
   "pygments_lexer": "ipython3",
   "version": "3.8.5"
  }
 },
 "nbformat": 4,
 "nbformat_minor": 4
}
