{
 "cells": [
  {
   "cell_type": "code",
   "execution_count": 1,
   "metadata": {},
   "outputs": [
    {
     "name": "stdin",
     "output_type": "stream",
     "text": [
      "Input s1:  This is R programming language\n",
      "Input s2:  for Data Science\n",
      "Input s3:  and Machine Learning\n"
     ]
    }
   ],
   "source": [
    "str1 = readline(prompt = \"Input s1: \")\n",
    "str2 = readline(prompt = \"Input s2: \")\n",
    "str3 = readline(prompt = \"Input s3: \")"
   ]
  },
  {
   "cell_type": "code",
   "execution_count": 3,
   "metadata": {},
   "outputs": [
    {
     "name": "stdin",
     "output_type": "stream",
     "text": [
      "Input index:  10\n",
      "Find string:  language\n",
      "Replaced string:  LANGUAGE\n"
     ]
    }
   ],
   "source": [
    "index = as.integer(readline(prompt = \"Input index: \"))\n",
    "str_find = readline(prompt = \"Find string: \")\n",
    "str_replace = readline(prompt = \"Replaced string: \")"
   ]
  },
  {
   "cell_type": "code",
   "execution_count": 4,
   "metadata": {},
   "outputs": [],
   "source": [
    "str4 = substring(str1, index)\n",
    "str5 = substring(str1, 1, index)\n",
    "\n",
    "str_new = gsub(str_find, str_replace, str1)"
   ]
  },
  {
   "cell_type": "code",
   "execution_count": 9,
   "metadata": {},
   "outputs": [
    {
     "name": "stdout",
     "output_type": "stream",
     "text": [
      "[1] \"Str4 (index ->):   programming language\"\n",
      "[1] \"Str5 (-> index):   programming language\"\n",
      "[1] \"Length of str1:  30 Length of str2:  16 Length of str3:  20\"\n",
      "[1] \"After replace:  This is R programming LANGUAGE\"\n"
     ]
    }
   ],
   "source": [
    "print(paste(\"Str4 (index ->): \", str4))\n",
    "print(paste(\"Str5 (-> index): \", str4))\n",
    "print(paste(\"Length of str1: \", nchar(str1),\n",
    "            \"Length of str2: \", nchar(str2),\n",
    "            \"Length of str3: \", nchar(str3)))\n",
    "print(paste(\"After replace: \", str_new))"
   ]
  }
 ],
 "metadata": {
  "kernelspec": {
   "display_name": "R",
   "language": "R",
   "name": "ir"
  },
  "language_info": {
   "codemirror_mode": "r",
   "file_extension": ".r",
   "mimetype": "text/x-r-source",
   "name": "R",
   "pygments_lexer": "r",
   "version": "4.0.3"
  }
 },
 "nbformat": 4,
 "nbformat_minor": 4
}
