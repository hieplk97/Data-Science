{
 "cells": [
  {
   "cell_type": "raw",
   "metadata": {},
   "source": [
    "\"\"\"=============================================================================\n",
    "    Ex2: EIGENDECOMPOSITION\n",
    "    Câu 1:\n",
    "        a) Tạo ma trận A(5 x 5) chứa các giá trị ngẫu nhiên trong khoảng 1 - 10\n",
    "        b) Phân tích eigenvalues và eigenvectors\n",
    "        c) Kiểm tra eigenvector đầu tiên theo dot và theo eigenvalue có bằng nhau?\n",
    "           Nếu bằng nhau thì tái tạo A từ các eigenvalues và eigenvectors\n",
    "=============================================================================\"\"\""
   ]
  },
  {
   "cell_type": "code",
   "execution_count": 1,
   "metadata": {},
   "outputs": [],
   "source": [
    "import numpy as np\n",
    "import random\n",
    "\n",
    "from numpy.linalg import eig, inv\n",
    "from numpy import diag"
   ]
  },
  {
   "cell_type": "code",
   "execution_count": 2,
   "metadata": {},
   "outputs": [],
   "source": [
    "##------------------------------------------------------------------------------\n",
    "## Hàm tạo 1 ma trận A[mxn] với giá trị ngẫu nhiên thuộc [start, end]\n",
    "##------------------------------------------------------------------------------\n",
    "def create_matrix_random(m, n, start, end):\n",
    "    mtr = []\n",
    "    for i in range(m):\n",
    "        row = []\n",
    "        for j in range(n):\n",
    "            a = random.randint(start, end + 1)\n",
    "\n",
    "            # Thêm giá trị vào dòng hiện hành \n",
    "            row.append(a)\n",
    "\n",
    "        # Thêm dòng vào ma trận    \n",
    "        mtr.append(row)\n",
    "\n",
    "    return np.array(mtr)"
   ]
  },
  {
   "cell_type": "code",
   "execution_count": 3,
   "metadata": {},
   "outputs": [
    {
     "name": "stdout",
     "output_type": "stream",
     "text": [
      "Ma trận A (5, 5) :\n",
      " [[ 9  7  3  2  7]\n",
      " [ 1 10  8  2  6]\n",
      " [10  2 10 11  3]\n",
      " [10  3  4 10  4]\n",
      " [ 9  6  6  3  8]]\n"
     ]
    }
   ],
   "source": [
    "## a) Tạo ma trận A(5 x 5) chứa các giá trị ngẫu nhiên trong khoảng 1 - 10\n",
    "m, n, min, max = 5, 5, 1, 10\n",
    "A = create_matrix_random(m, n, min, max)\n",
    "print('Ma trận A', A.shape, ':\\n', A)\n"
   ]
  },
  {
   "cell_type": "code",
   "execution_count": 4,
   "metadata": {},
   "outputs": [
    {
     "name": "stdout",
     "output_type": "stream",
     "text": [
      "Eigenvalues (5,) :\n",
      " [30.65630588+0.j          6.17982313+6.16159266j  6.17982313-6.16159266j\n",
      "  1.35774812+0.j          2.62629975+0.j        ]\n",
      "Eigenvectors (5, 5) :\n",
      " [[ 0.39220921+0.j         -0.38182303+0.15990494j -0.38182303-0.15990494j\n",
      "   0.25984625+0.j          0.00241848+0.j        ]\n",
      " [ 0.40041628+0.j         -0.15808988-0.54648146j -0.15808988+0.54648146j\n",
      "   0.53917953+0.j         -0.69731069+0.j        ]\n",
      " [ 0.52967294+0.j          0.60180031+0.j          0.60180031-0.j\n",
      "   0.00989463+0.j          0.18809451+0.j        ]\n",
      " [ 0.43973974+0.j          0.20661524+0.27251291j  0.20661524-0.27251291j\n",
      "  -0.12629691+0.j         -0.18338086+0.j        ]\n",
      " [ 0.46034148+0.j         -0.14578041+0.0681066j  -0.14578041-0.0681066j\n",
      "  -0.79102247+0.j          0.6668912 +0.j        ]]\n"
     ]
    }
   ],
   "source": [
    "## b) Phân tích eigenvalues và eigenvectors\n",
    "values, vectors = eig(A)\n",
    "\n",
    "print('Eigenvalues', values.shape, ':\\n', values)\n",
    "print('Eigenvectors', vectors.shape, ':\\n', vectors)\n"
   ]
  },
  {
   "cell_type": "code",
   "execution_count": 5,
   "metadata": {},
   "outputs": [
    {
     "name": "stdout",
     "output_type": "stream",
     "text": [
      "Ma trận B:\n",
      " [12.02368549+0.j 12.27528386+0.j 16.23781563+0.j 13.48079602+0.j\n",
      " 14.11236925+0.j]\n",
      "Ma trận C:\n",
      " [12.02368549+0.j 12.27528386+0.j 16.23781563+0.j 13.48079602+0.j\n",
      " 14.11236925+0.j]\n",
      "Tái tạo ma trận A:\n",
      " [[ 9.-9.64976226e-16j  7.-1.14051721e-16j  3.-5.95220455e-16j\n",
      "   2.+1.97353173e-15j  7.-2.47244977e-16j]\n",
      " [ 1.-7.85624779e-16j 10.+2.19743393e-16j  8.-1.73334066e-16j\n",
      "   2.-3.78404752e-16j  6.+7.51593782e-17j]\n",
      " [10.-4.91473469e-16j  2.+8.07896732e-17j 10.-1.00463923e-15j\n",
      "  11.+1.49689422e-15j  3.+2.94286305e-16j]\n",
      " [10.-6.00761329e-16j  3.+1.12531737e-17j  4.-1.11048811e-15j\n",
      "  10.+1.92176446e-15j  4.+2.04159072e-16j]\n",
      " [ 9.-7.86695481e-16j  6.-1.13565820e-16j  6.-6.06665857e-16j\n",
      "   3.+1.80779400e-15j  8.-2.54411562e-16j]]\n"
     ]
    }
   ],
   "source": [
    "## c) Kiểm tra eigenvector đầu tiên theo dot và theo eigenvalue có bằng nhau?\n",
    "##    Nếu bằng nhau thì tái tạo A từ các eigenvalues và eigenvectors\n",
    "B = A.dot(vectors[:, 0])\n",
    "print('Ma trận B:\\n', B)\n",
    "\n",
    "C = vectors[:, 0] * values[0]\n",
    "print('Ma trận C:\\n', C)\n",
    "\n",
    "Q = vectors\n",
    "R = inv(Q)\n",
    "L = diag(values)\n",
    "\n",
    "print('Tái tạo ma trận A:\\n', Q.dot(L).dot(R))\n"
   ]
  },
  {
   "cell_type": "code",
   "execution_count": null,
   "metadata": {},
   "outputs": [],
   "source": []
  }
 ],
 "metadata": {
  "kernelspec": {
   "display_name": "Python 3",
   "language": "python",
   "name": "python3"
  },
  "language_info": {
   "codemirror_mode": {
    "name": "ipython",
    "version": 3
   },
   "file_extension": ".py",
   "mimetype": "text/x-python",
   "name": "python",
   "nbconvert_exporter": "python",
   "pygments_lexer": "ipython3",
   "version": "3.8.5"
  }
 },
 "nbformat": 4,
 "nbformat_minor": 4
}
