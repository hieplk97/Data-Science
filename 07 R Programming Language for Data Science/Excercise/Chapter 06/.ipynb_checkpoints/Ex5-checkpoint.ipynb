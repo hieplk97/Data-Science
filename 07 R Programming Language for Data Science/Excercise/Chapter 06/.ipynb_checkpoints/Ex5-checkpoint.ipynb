{
 "cells": [
  {
   "cell_type": "code",
   "execution_count": 1,
   "metadata": {},
   "outputs": [
    {
     "name": "stdout",
     "output_type": "stream",
     "text": [
      "[1] \"Vector low, high, medium, high, low, medium, high\"\n"
     ]
    }
   ],
   "source": [
    "v1 = c(\"low\", \"high\", \"medium\", \"high\", \"low\", \"medium\", \"high\")\n",
    "print(paste(\"Vector\", toString(v1)))"
   ]
  },
  {
   "cell_type": "code",
   "execution_count": 2,
   "metadata": {},
   "outputs": [],
   "source": [
    "food = factor(v1)\n",
    "levels_food = levels(food)\n",
    "num_levels = nlevels(food)"
   ]
  },
  {
   "cell_type": "code",
   "execution_count": 6,
   "metadata": {},
   "outputs": [
    {
     "name": "stdout",
     "output_type": "stream",
     "text": [
      "[1] \"Levels:  high, low, medium\"\n",
      "[1] \"Num of Levels:  3\"\n"
     ]
    }
   ],
   "source": [
    "print(paste(\"Levels: \", toString(levels(food))))\n",
    "print(paste(\"Num of Levels: \", toString(nlevels(food))))"
   ]
  },
  {
   "cell_type": "code",
   "execution_count": 7,
   "metadata": {},
   "outputs": [],
   "source": [
    "levels_food[num_levels+1] = \"medium high\"\n",
    "food = factor(v1, levels = levels_food)"
   ]
  },
  {
   "cell_type": "code",
   "execution_count": 8,
   "metadata": {},
   "outputs": [
    {
     "name": "stdout",
     "output_type": "stream",
     "text": [
      "[1] \"Levels after having 'medium high':  high, low, medium, medium high\"\n",
      "[1] \"Num of Levels after having 'medium high': 4\"\n"
     ]
    }
   ],
   "source": [
    "print(paste(\"Levels after having 'medium high': \", toString(levels(food))))\n",
    "print(paste(\"Num of Levels after having 'medium high':\", toString(nlevels(food))))"
   ]
  },
  {
   "cell_type": "code",
   "execution_count": 10,
   "metadata": {},
   "outputs": [
    {
     "name": "stdout",
     "output_type": "stream",
     "text": [
      "[1] \"Summary:\"\n",
      "[1] \"high : 3 element\"\n",
      "[1] \"low : 2 element\"\n",
      "[1] \"medium : 2 element\"\n",
      "[1] \"medium high : 0 element\"\n"
     ]
    }
   ],
   "source": [
    "print(\"Summary:\")\n",
    "for (lv in levels(food)){\n",
    "    count = 0\n",
    "    for (e in v1){\n",
    "        if (lv == e){\n",
    "            count = count +1\n",
    "        }\n",
    "    }\n",
    "    print(paste(lv, \":\", count, \"element\"))\n",
    "}"
   ]
  }
 ],
 "metadata": {
  "kernelspec": {
   "display_name": "R",
   "language": "R",
   "name": "ir"
  },
  "language_info": {
   "codemirror_mode": "r",
   "file_extension": ".r",
   "mimetype": "text/x-r-source",
   "name": "R",
   "pygments_lexer": "r",
   "version": "4.0.3"
  }
 },
 "nbformat": 4,
 "nbformat_minor": 4
}
