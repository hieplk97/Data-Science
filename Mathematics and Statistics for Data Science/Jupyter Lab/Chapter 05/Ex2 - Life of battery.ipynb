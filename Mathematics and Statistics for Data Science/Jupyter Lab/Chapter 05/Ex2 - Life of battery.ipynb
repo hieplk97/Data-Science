{
 "cells": [
  {
   "cell_type": "raw",
   "metadata": {},
   "source": [
    "\"\"\"=============================================================================\n",
    "Bài toán 1: Một nhà sản xuất đang điều tra tuổi thọ hoạt động của pin laptop\n",
    "          máy tính xách tay (life_batteries.txt).\n",
    "   1. Tạo life_array từ nội dung tập tin.\n",
    "   2. Vẽ biểu đồ phân phối tần suất của life_array\n",
    "   3. Làm bảng phân phối tần suất cho dữ liệu theo các khoảng:\n",
    "         120-129, 130-139, 140-149, 150-159, 160 - 169.\n",
    "   4. Vẽ biểu đồ khối cho bảng phân phối tần suất trên. \n",
    "      Biểu đồ câu 2 và câu 4 nói lên điều gì?\n",
    "   5. Thống kê cơ bản cho life_array; \n",
    "      mean, median, mode (những giá trị nào? số lần bao nhiêu?), max, min, ...\n",
    "   6. Tìm độ nhọn, độ xiên của dữ liệu. Nhận xét kết quả\n",
    "   -----------------------------------------------------------------------------\n",
    "   Bổ sung sau khi học bài 6:\n",
    "   7. Nếu số lượng mẫu nhỏ hơn 150, hãy cho biết xác suất các mẫu nhỏ hơn 150. \n",
    "      Nhận xét.\n",
    "   8. Tìm xác suất của P(140 ≤ X ≤ 155). Nhận xét\n",
    "=============================================================================\"\"\""
   ]
  },
  {
   "cell_type": "code",
   "execution_count": 1,
   "metadata": {},
   "outputs": [],
   "source": [
    "import numpy as np\n",
    "import matplotlib.pyplot as plt\n",
    "import pandas as pd\n",
    "import seaborn as sns\n",
    "\n",
    "from numpy import mean, median\n",
    "from scipy import stats"
   ]
  },
  {
   "cell_type": "code",
   "execution_count": 2,
   "metadata": {},
   "outputs": [
    {
     "name": "stdout",
     "output_type": "stream",
     "text": [
      "====================================================\n",
      "*** 1. Tạo mảng dữ liệu chứa từ nội dung tập tin ***\n",
      "====================================================\n",
      "Data:\n",
      " 130\t145\t126\t146\n",
      "164\t130\t132\t152\n",
      "145\t129\t133\t155\n",
      "140\t127\t139\t137\n",
      "131\t126\t145\t148\n",
      "125\t132\t126\t126\n",
      "126\t135\t131\t129\n",
      "147\t136\t129\t136\n",
      "156\t146\t130\t146\n",
      "132\t142\t132\t132\n",
      " \n",
      "\n",
      "Life array:\n",
      " <class 'numpy.ndarray'> ( 40 )\n",
      " [130 145 126 146 164 130 132 152 145 129 133 155 140 127 139 137 131 126\n",
      " 145 148 125 132 126 126 126 135 131 129 147 136 129 136 156 146 130 146\n",
      " 132 142 132 132] \n",
      "\n"
     ]
    }
   ],
   "source": [
    "print('====================================================')\n",
    "print('*** 1. Tạo mảng dữ liệu chứa từ nội dung tập tin ***')\n",
    "print('====================================================')\n",
    "LDS3folder = 'E:\\Data Science\\Mathematics and Statistics for Data Science\\Excercise'\n",
    "folder = LDS3folder + '\\Data\\B5/'\n",
    "f          = open(folder + 'life_batteries.txt', 'r')\n",
    "\n",
    "content    = f.read()\n",
    "f.close()\n",
    "print('Data:\\n', content, '\\n')\n",
    "\n",
    "life       = content.split()\n",
    "life       = list(map(int, life))\n",
    "life_array = np.array(life)\n",
    "print('Life array:\\n', type(life_array), '(', life_array.size, ')\\n', life_array, '\\n')"
   ]
  },
  {
   "cell_type": "code",
   "execution_count": 3,
   "metadata": {},
   "outputs": [
    {
     "name": "stdout",
     "output_type": "stream",
     "text": [
      "=======================================================\n",
      "*** 2. Vẽ biểu đồ phân phối tần suất của dữ liệu    ***\n",
      "=======================================================\n"
     ]
    },
    {
     "data": {
      "image/png": "[encoded data removed]",
      "text/plain": [
       "<Figure size 576x288 with 2 Axes>"
      ]
     },
     "metadata": {
      "needs_background": "light"
     },
     "output_type": "display_data"
    }
   ],
   "source": [
    "print('=======================================================')\n",
    "print('*** 2. Vẽ biểu đồ phân phối tần suất của dữ liệu    ***')\n",
    "print('=======================================================')\n",
    "plt.figure(figsize = (8, 4))\n",
    "plt.subplot(1, 2, 1)\n",
    "plt.hist(life_array)\n",
    "plt.subplot(1, 2, 2)\n",
    "sns.distplot(life_array)\n",
    "plt.show()"
   ]
  },
  {
   "cell_type": "code",
   "execution_count": 5,
   "metadata": {},
   "outputs": [
    {
     "name": "stdout",
     "output_type": "stream",
     "text": [
      "========================================================\n",
      "*** 3. Vẽ histogram cho các khoảng:                  ***\n",
      "***    120-129, 130-139, 140-149, 150-159, 160-169.  ***\n",
      "========================================================\n",
      "Bảng phân phối tần suất:\n",
      " 120-129    10\n",
      "130-139    16\n",
      "140-149    10\n",
      "150-159     3\n",
      "160-169     1\n",
      "dtype: int64\n"
     ]
    },
    {
     "name": "stderr",
     "output_type": "stream",
     "text": [
      "<ipython-input-5-e59f74f708d1>:5: DeprecationWarning: The default dtype for empty Series will be 'object' instead of 'float64' in a future version. Specify a dtype explicitly to silence this warning.\n",
      "  freq = pd.Series()\n"
     ]
    }
   ],
   "source": [
    "print('========================================================')\n",
    "print('*** 3. Vẽ histogram cho các khoảng:                  ***')\n",
    "print('***    120-129, 130-139, 140-149, 150-159, 160-169.  ***')\n",
    "print('========================================================')\n",
    "freq = pd.Series()\n",
    "freq['120-129'] = np.extract((life_array >= 120) & (life_array <= 129), life_array).size\n",
    "freq['130-139'] = np.extract((life_array >= 130) & (life_array <= 139), life_array).size\n",
    "freq['140-149'] = np.extract((life_array >= 140) & (life_array <= 149), life_array).size\n",
    "freq['150-159'] = np.extract((life_array >= 150) & (life_array <= 159), life_array).size\n",
    "freq['160-169'] = np.extract((life_array >= 160) & (life_array <= 169), life_array).size\n",
    "print('Bảng phân phối tần suất:\\n', freq)"
   ]
  },
  {
   "cell_type": "code",
   "execution_count": 7,
   "metadata": {},
   "outputs": [
    {
     "name": "stdout",
     "output_type": "stream",
     "text": [
      "=======================================================\n",
      "*** 4. Vẽ biểu đồ khối và nhận xét                  ***\n",
      "=======================================================\n"
     ]
    },
    {
     "data": {
      "text/plain": [
       "<BarContainer object of 5 artists>"
      ]
     },
     "execution_count": 7,
     "metadata": {},
     "output_type": "execute_result"
    },
    {
     "data": {
      "image/png": "[encoded data removed]",
      "text/plain": [
       "<Figure size 432x288 with 1 Axes>"
      ]
     },
     "metadata": {
      "needs_background": "light"
     },
     "output_type": "display_data"
    }
   ],
   "source": [
    "print('=======================================================')\n",
    "print('*** 4. Vẽ biểu đồ khối và nhận xét                  ***')\n",
    "print('=======================================================')\n",
    "plt.bar(freq.index, freq)\n",
    "\n",
    "# Nhận xét:\n",
    "#    Hầu hết dữ liệu tập trung trong khoảng 130-139, với một vài điểm vượt quá 150.\n",
    "#    Có thể kết luận: trung tâm của dữ liệu là một điểm nào đó trong khoảng 130-139.\n",
    "#    Từ 2 biểu đồ trên, có thể xác định nhiều biện pháp phân tán và xu hướng trung tâm:???\n",
    "#"
   ]
  },
  {
   "cell_type": "code",
   "execution_count": 8,
   "metadata": {},
   "outputs": [
    {
     "name": "stdout",
     "output_type": "stream",
     "text": [
      "================================================\n",
      "*** 5. Những thống kê cơ bản trên dữ liệu  y ***\n",
      "================================================\n",
      "Mean   x_    = 136.85\n",
      "MIN    x_min = 125\n",
      "MAX    x_max = 164\n",
      "Median x_med = 132.5\n",
      "Mode   x_mod = 126\n",
      "       f(x)  = 5\n",
      "Range        = 39\n",
      "Variance     = 93.4775\n",
      "Std-dev.     = 9.66837628560246\n"
     ]
    },
    {
     "data": {
      "text/plain": [
       "<AxesSubplot:>"
      ]
     },
     "execution_count": 8,
     "metadata": {},
     "output_type": "execute_result"
    },
    {
     "data": {
      "image/png": "[encoded data removed]",
      "text/plain": [
       "<Figure size 432x288 with 1 Axes>"
      ]
     },
     "metadata": {
      "needs_background": "light"
     },
     "output_type": "display_data"
    }
   ],
   "source": [
    "print('================================================')\n",
    "print('*** 5. Những thống kê cơ bản trên dữ liệu  y ***')\n",
    "print('================================================')\n",
    "print('Mean   x_    =', mean(life_array))\n",
    "print('MIN    x_min =', min(life_array))\n",
    "print('MAX    x_max =', max(life_array))\n",
    "print('Median x_med =', median(life_array))\n",
    "\n",
    "x_mod = stats.mode(life_array)\n",
    "print('Mode   x_mod =', x_mod[0][0])\n",
    "print('       f(x)  =', x_mod[1][0]) # số lần freq.\n",
    "\n",
    "range_life = np.ptp(life_array)\n",
    "print('Range        =', range_life)\n",
    "\n",
    "var_life = np.var(life_array)\n",
    "print('Variance     =', var_life)\n",
    "\n",
    "std_life = np.std(life_array)\n",
    "print('Std-dev.     =', std_life)\n",
    "\n",
    "## Vẽ box plot --> không có outlier\n",
    "\n",
    "## Ngắt breakpoint tại đây\n",
    "## Chạy tiếp tục mới cho kết quả đúng (?!) \n",
    "sns.boxplot(life_array)"
   ]
  },
  {
   "cell_type": "code",
   "execution_count": 9,
   "metadata": {},
   "outputs": [
    {
     "name": "stdout",
     "output_type": "stream",
     "text": [
      "=================================================\n",
      "*** 6. Tìm độ nhọn, độ xiên. Nhận xét kết quả ***\n",
      "=================================================\n",
      "Skewness     = 0.8455287049086152\n",
      "Kurtosis     = -0.07613238307755621\n",
      "Kurtosis     = 2.923867616922444\n",
      "Số liệu thống kê: DescribeResult(nobs=40, minmax=(125, 164), mean=136.85, variance=95.87435897435898, skewness=0.8455287049086152, kurtosis=-0.07613238307755621)\n"
     ]
    }
   ],
   "source": [
    "print('=================================================')\n",
    "print('*** 6. Tìm độ nhọn, độ xiên. Nhận xét kết quả ***')\n",
    "print('=================================================')\n",
    "# \n",
    "skew_life = stats.skew(life_array)\n",
    "print('Skewness     =', skew_life) # > 0: phân phối lệch PHẢI\n",
    "\n",
    "kur_life = stats.kurtosis(life_array) # fisher = True (default) --> (kur - 3)\n",
    "print('Kurtosis     =', kur_life)\n",
    "\n",
    "kur_life = stats.kurtosis(life_array, fisher = False)\n",
    "print('Kurtosis     =', kur_life) # < 0: THẤP hơn phân phối chuẩn\n",
    "\n",
    "## Có thể sử dụng stats.describe()\n",
    "print('Số liệu thống kê:', stats.describe(life_array))"
   ]
  },
  {
   "cell_type": "code",
   "execution_count": 10,
   "metadata": {},
   "outputs": [
    {
     "name": "stdout",
     "output_type": "stream",
     "text": [
      "=================================================\n",
      "*** 7. Tìm xác suất các mẫu nhỏ hơn 150       ***\n",
      "=================================================\n",
      "Pr(x < 150)    = 0.9\n",
      "Pr([140, 155]) = 0.3\n"
     ]
    }
   ],
   "source": [
    "print('=================================================')\n",
    "print('*** 7. Tìm xác suất các mẫu nhỏ hơn 150       ***')\n",
    "print('=================================================')\n",
    "p_x_150 = np.extract(life_array < 150, life_array).size/life_array.size\n",
    "print('Pr(x < 150)    =', p_x_150) \n",
    "# Nhận xét: Có thể 90% pin sẽ bị hỏng trước 150 phút\n",
    "\n",
    "#   8. Tìm xác suất của P(140 ≤ X ≤ 155). Nhận xét\n",
    "p_x_140 = np.extract(life_array >= 140, life_array).size/life_array.size\n",
    "p_x_155 = np.extract(life_array >  155, life_array).size/life_array.size\n",
    "print('Pr([140, 155]) =', p_x_140 - p_x_155) \n",
    "# Nhận xét: Có thể 30% pin sẽ có tuổi thọ kéo dài từ 140 phút đến 155 phút."
   ]
  },
  {
   "cell_type": "raw",
   "metadata": {},
   "source": [
    "\"\"\"=============================================================================\n",
    "Bài toán 2: Xem xét một bộ dữ liệu 40 mẫu của một nhãn hiệu pin khác (Battery 2).\n",
    "    Các quan sát được liệt kê trong tập tin life_batteries_2.txt.\n",
    "   1. Tạo life2_array từ nội dung tập tin.\n",
    "   2. So sánh 2 nhóm pin ở bài toán 1 và ở bài toán 2 theo histogram và nhận xét\n",
    "   3. Làm bảng phân phối tần suất cho dữ liệu theo các khoảng:\n",
    "         120-129, 130-139, 140-149, 150-159, 160 - 169.\n",
    "   4. Vẽ biểu đồ khối cho bảng phân phối tần suất trên. \n",
    "      Biểu đồ câu 2 và câu 4 nói lên điều gì?\n",
    "   5. So sánh hai nhóm mẫu dựa trên thống kê chung (dùng stats.describe(array))\n",
    "      Nhận xét kết quả.\n",
    "   6. Tạo dataframe chứa tần suất của cả 2 nhóm mẫu gồm có 2 cột là batteries_1 \n",
    "      và batteries_2, index là các khoảng như câu 3\n",
    "   7. Vẽ boxplot cho cả 2 nhóm batteries_1 và batteries_2 => nhận xét\n",
    "=============================================================================\"\"\""
   ]
  },
  {
   "cell_type": "code",
   "execution_count": 11,
   "metadata": {},
   "outputs": [
    {
     "name": "stdout",
     "output_type": "stream",
     "text": [
      "Data:\n",
      " 134\t130\t140\t151\n",
      "143\t134\t136\t144\n",
      "150\t135\t160\t141\n",
      "143\t140\t138\t141\n",
      "148\t146\t140\t146\n",
      "151\t138\t151\t139\n",
      "151\t128\t146\t147\n",
      "152\t142\t144\t134\n",
      "142\t146\t142\t136\n",
      "122\t134\t145\t147 \n",
      "\n",
      "Life array 2:\n",
      " <class 'numpy.ndarray'> ( 40 )\n",
      " [134 130 140 151 143 134 136 144 150 135 160 141 143 140 138 141 148 146\n",
      " 140 146 151 138 151 139 151 128 146 147 152 142 144 134 142 146 142 136\n",
      " 122 134 145 147] \n",
      "\n"
     ]
    }
   ],
   "source": [
    "## 1. Tạo life2_array từ nội dung tập tin.\n",
    "f2       = open(folder + '/life_batteries_2.txt', 'r')\n",
    "content2 = f2.read()\n",
    "f2.close()\n",
    "print('Data:\\n', content2, '\\n')\n",
    "\n",
    "life2 = content2.split()\n",
    "life2 = list(map(int, life2))\n",
    "life2_array = np.array(life2)\n",
    "print('Life array 2:\\n', type(life2_array), '(', life2_array.size, ')\\n', life2_array, '\\n')"
   ]
  },
  {
   "cell_type": "code",
   "execution_count": 13,
   "metadata": {},
   "outputs": [
    {
     "data": {
      "image/png": "[encoded data removed]",
      "text/plain": [
       "<Figure size 576x288 with 2 Axes>"
      ]
     },
     "metadata": {
      "needs_background": "light"
     },
     "output_type": "display_data"
    },
    {
     "data": {
      "image/png": "[encoded data removed]",
      "text/plain": [
       "<Figure size 576x288 with 2 Axes>"
      ]
     },
     "metadata": {
      "needs_background": "light"
     },
     "output_type": "display_data"
    }
   ],
   "source": [
    "## 2. So sánh 2 nhóm pin ở bài toán 1 và ở bài toán 2 theo histogram và nhận xét\n",
    "plt.figure(figsize = (8, 4))\n",
    "plt.subplot(1, 2, 1)\n",
    "plt.hist(life_array)\n",
    "plt.title('Battery group 1')\n",
    "plt.subplot(1, 2, 2)\n",
    "plt.hist(life2_array)\n",
    "plt.title('Battery group 2')\n",
    "plt.show()\n",
    "\n",
    "plt.figure(figsize = (8, 4))\n",
    "plt.subplot(1, 2, 1)\n",
    "sns.distplot(life_array)\n",
    "plt.title('Battery group 1')\n",
    "plt.subplot(1, 2, 2)\n",
    "sns.distplot(life2_array)\n",
    "plt.title('Battery group 2')\n",
    "plt.show()\n",
    "\n",
    "# Nhận xét:\n",
    "#   Có nhiều dữ liệu hơn cho Battery 2 trong khoảng 140 so với Battery 1 trong khoảng 130.\n",
    "#    Ngoài ra, mức độ biến thiên của Battery 2 ít hơn so với Battery 1.\n",
    "#    Dựa trên các kết quả này, có thể kết luận rằng Battery 2 là một nhãn hiệu tốt hơn \n",
    "#    (trung bình cao hơn và biến thiên thấp hơn). \n",
    "#    Tuy nhiên, tính hợp lệ của kết luận này còn phụ thuộc vào cách thu thập dữ liệu."
   ]
  },
  {
   "cell_type": "code",
   "execution_count": 14,
   "metadata": {},
   "outputs": [
    {
     "name": "stdout",
     "output_type": "stream",
     "text": [
      "Bảng phân phối tần suất:\n",
      " 120-129     2\n",
      "130-139    11\n",
      "140-149    20\n",
      "150-159     6\n",
      "160-169     1\n",
      "dtype: int64\n"
     ]
    },
    {
     "name": "stderr",
     "output_type": "stream",
     "text": [
      "<ipython-input-14-6a8a07c14412>:3: DeprecationWarning: The default dtype for empty Series will be 'object' instead of 'float64' in a future version. Specify a dtype explicitly to silence this warning.\n",
      "  freq2 = pd.Series()\n"
     ]
    }
   ],
   "source": [
    "## 3. Làm bảng phân phối tần suất cho dữ liệu theo các khoảng:\n",
    "##         120-129, 130-139, 140-149, 150-159, 160-169.\n",
    "freq2 = pd.Series()\n",
    "freq2['120-129'] = np.extract((life2_array >= 120) & (life2_array <= 129), life2_array).size\n",
    "freq2['130-139'] = np.extract((life2_array >= 130) & (life2_array <= 139), life2_array).size\n",
    "freq2['140-149'] = np.extract((life2_array >= 140) & (life2_array <= 149), life2_array).size\n",
    "freq2['150-159'] = np.extract((life2_array >= 150) & (life2_array <= 159), life2_array).size\n",
    "freq2['160-169'] = np.extract((life2_array >= 160) & (life2_array <= 169), life2_array).size\n",
    "print('Bảng phân phối tần suất:\\n', freq2)"
   ]
  },
  {
   "cell_type": "code",
   "execution_count": 15,
   "metadata": {},
   "outputs": [
    {
     "data": {
      "text/plain": [
       "<BarContainer object of 5 artists>"
      ]
     },
     "execution_count": 15,
     "metadata": {},
     "output_type": "execute_result"
    },
    {
     "data": {
      "image/png": "[encoded data removed]",
      "text/plain": [
       "<Figure size 432x288 with 1 Axes>"
      ]
     },
     "metadata": {
      "needs_background": "light"
     },
     "output_type": "display_data"
    }
   ],
   "source": [
    "## 4. Vẽ biểu đồ khối cho bảng phân phối tần suất trên. \n",
    "##      Biểu đồ câu 2 và câu 4 nói lên điều gì?\n",
    "plt.bar(freq2.index, freq2)"
   ]
  },
  {
   "cell_type": "code",
   "execution_count": 16,
   "metadata": {},
   "outputs": [
    {
     "name": "stdout",
     "output_type": "stream",
     "text": [
      "Bảng phân phối tần suất chung:\n",
      "          Batteries 1  Batteries 2\n",
      "120-129           10            2\n",
      "130-139           16           11\n",
      "140-149           10           20\n",
      "150-159            3            6\n",
      "160-169            1            1\n",
      "Số liệu thống kê Battery 1: DescribeResult(nobs=40, minmax=(125, 164), mean=136.85, variance=95.87435897435898, skewness=0.8455287049086152, kurtosis=-0.07613238307755621)\n",
      "Số liệu thống kê Battery 2: DescribeResult(nobs=40, minmax=(122, 160), mean=141.925, variance=55.19935897435898, skewness=-0.2510338974166527, kurtosis=0.3567028000549164)\n"
     ]
    }
   ],
   "source": [
    "## 5. So sánh hai nhóm mẫu dựa trên thống kê chung (dùng stats.describe(array))\n",
    "##      Nhận xét kết quả.\n",
    "freq_df = pd.DataFrame({'Batteries 1':freq, 'Batteries 2':freq2})\n",
    "print('Bảng phân phối tần suất chung:\\n', freq_df)\n",
    "\n",
    "print('Số liệu thống kê Battery 1:', stats.describe(life_array))\n",
    "print('Số liệu thống kê Battery 2:', stats.describe(life2_array))\n",
    "# Nhận xét:\n",
    "#       - Battery 2 có tuổi thọ trung bình cao hơn và phương sai nhỏ hơn.\n",
    "#       - Battery 1 có skewness > 0: phân phối lệch phải\n",
    "#       - Battery 2 có skewness < 0: phân phối lệch trái\n",
    "#       - Battery 1 có kurtosis < 0: phân bố này thấp hơn phân bố chuẩn\n",
    "#       - Battery 2 có kurtosis > 0: phân bố này cao hơn phân bố chuẩn\n"
   ]
  },
  {
   "cell_type": "code",
   "execution_count": 19,
   "metadata": {},
   "outputs": [
    {
     "name": "stdout",
     "output_type": "stream",
     "text": [
      "Số liệu thống kê:\n",
      "        Batteries 1  Batteries 2\n",
      "count    40.000000    40.000000\n",
      "mean    136.850000   141.925000\n",
      "std       9.791545     7.429627\n",
      "min     125.000000   122.000000\n",
      "25%     129.750000   137.500000\n",
      "50%     132.500000   142.000000\n",
      "75%     145.000000   146.250000\n",
      "max     164.000000   160.000000\n",
      "<class 'pandas.core.frame.DataFrame'>\n",
      "RangeIndex: 40 entries, 0 to 39\n",
      "Data columns (total 2 columns):\n",
      " #   Column       Non-Null Count  Dtype\n",
      "---  ------       --------------  -----\n",
      " 0   Batteries 1  40 non-null     int32\n",
      " 1   Batteries 2  40 non-null     int32\n",
      "dtypes: int32(2)\n",
      "memory usage: 448.0 bytes\n",
      "None\n"
     ]
    }
   ],
   "source": [
    "## 6. Tạo dataframe chứa tần suất của cả 2 nhóm mẫu gồm có 2 cột là batteries_1 \n",
    "##    và batteries_2, index là các khoảng như câu 3\n",
    "df = pd.DataFrame({'Batteries 1':life_array, 'Batteries 2':life2_array})\n",
    "print('Số liệu thống kê:\\n', df.describe())\n",
    "print(df.info())"
   ]
  },
  {
   "cell_type": "code",
   "execution_count": 20,
   "metadata": {},
   "outputs": [
    {
     "name": "stdout",
     "output_type": "stream",
     "text": [
      "     batteries  value\n",
      "0  Batteries 1    130\n",
      "1  Batteries 1    145\n",
      "2  Batteries 1    126\n",
      "3  Batteries 1    146\n",
      "4  Batteries 1    164\n"
     ]
    }
   ],
   "source": [
    "## Trộn 2 tập dữ liệu ?\n",
    "dd = pd.melt(df, value_vars = ['Batteries 1', 'Batteries 2'], var_name = 'batteries')\n",
    "print(dd.head())     "
   ]
  },
  {
   "cell_type": "code",
   "execution_count": 21,
   "metadata": {},
   "outputs": [
    {
     "name": "stderr",
     "output_type": "stream",
     "text": [
      "c:\\users\\admin\\appdata\\local\\programs\\python\\python38\\lib\\site-packages\\seaborn\\categorical.py:500: MatplotlibDeprecationWarning: Setting whis to 'range' is deprecated since 3.2 and support for it will be removed two minor releases later; set it to [0, 100] to achieve the same effect.\n",
      "  artist_dict = ax.boxplot(box_data,\n",
      "c:\\users\\admin\\appdata\\local\\programs\\python\\python38\\lib\\site-packages\\seaborn\\categorical.py:500: MatplotlibDeprecationWarning: Setting whis to 'range' is deprecated since 3.2 and support for it will be removed two minor releases later; set it to [0, 100] to achieve the same effect.\n",
      "  artist_dict = ax.boxplot(box_data,\n"
     ]
    },
    {
     "data": {
      "text/plain": [
       "<AxesSubplot:xlabel='value', ylabel='batteries'>"
      ]
     },
     "execution_count": 21,
     "metadata": {},
     "output_type": "execute_result"
    },
    {
     "data": {
      "image/png": "[encoded data removed]",
      "text/plain": [
       "<Figure size 432x288 with 1 Axes>"
      ]
     },
     "metadata": {
      "needs_background": "light"
     },
     "output_type": "display_data"
    }
   ],
   "source": [
    "## Ngắt breakpoint tại đây\n",
    "## Chạy tiếp tục mới cho kết quả đúng (?!) \n",
    "## 7. Vẽ boxplot cho cả 2 nhóm batteries_1 và batteries_2 => nhận xét\n",
    "sns.boxplot(y = 'batteries', x = 'value', data = dd, hue = 'batteries', whis = 'range')\n",
    "\n",
    "# Nhận xét:\n",
    "#    - Nhóm Pin 1 không có outliers, nhóm Pin 2 có outliers (?)\n",
    "#    - Phân phối Pin 2 tập trung hơn phân phối Battery 1\n",
    "#    - Phạm vi của Battery 2 ngắn hơn so với Battery 1 (ít thay đổi hơn) \n",
    "#      và được chuyển sang bên phải (trung tâm cao hơn).\n",
    "#"
   ]
  },
  {
   "cell_type": "code",
   "execution_count": null,
   "metadata": {},
   "outputs": [],
   "source": []
  }
 ],
 "metadata": {
  "kernelspec": {
   "display_name": "Python 3",
   "language": "python",
   "name": "python3"
  },
  "language_info": {
   "codemirror_mode": {
    "name": "ipython",
    "version": 3
   },
   "file_extension": ".py",
   "mimetype": "text/x-python",
   "name": "python",
   "nbconvert_exporter": "python",
   "pygments_lexer": "ipython3",
   "version": "3.8.5"
  }
 },
 "nbformat": 4,
 "nbformat_minor": 4
}
