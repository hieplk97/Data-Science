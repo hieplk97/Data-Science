{
 "cells": [
  {
   "cell_type": "code",
   "execution_count": 1,
   "id": "deadly-fundamentals",
   "metadata": {},
   "outputs": [],
   "source": [
    "import findspark\n",
    "findspark.init()"
   ]
  },
  {
   "cell_type": "code",
   "execution_count": 2,
   "id": "cooperative-mining",
   "metadata": {},
   "outputs": [],
   "source": [
    "import pyspark\n",
    "from pyspark import SparkContext\n",
    "from pyspark.sql import SparkSession"
   ]
  },
  {
   "cell_type": "code",
   "execution_count": 3,
   "id": "radical-procedure",
   "metadata": {},
   "outputs": [],
   "source": [
    "sc = SparkContext()"
   ]
  },
  {
   "cell_type": "markdown",
   "id": "expensive-steel",
   "metadata": {},
   "source": [
    "#### 1. Đọc dữ liệu => data. Có bao nhiêu element trong data? In 5 element đầu tiên"
   ]
  },
  {
   "cell_type": "code",
   "execution_count": 4,
   "id": "healthy-independence",
   "metadata": {},
   "outputs": [
    {
     "name": "stdout",
     "output_type": "stream",
     "text": [
      "The type of data is <class 'pyspark.rdd.RDD'>\n"
     ]
    }
   ],
   "source": [
    "file = \"../../Data/5000_points.txt\"\n",
    "data = sc.textFile(file, minPartitions=3)\n",
    "print(\"The type of data is\", type(data))"
   ]
  },
  {
   "cell_type": "code",
   "execution_count": 5,
   "id": "eastern-convention",
   "metadata": {},
   "outputs": [
    {
     "name": "stdout",
     "output_type": "stream",
     "text": [
      "Number of elements:  5000\n"
     ]
    }
   ],
   "source": [
    "print(\"Number of elements: \", data.count())"
   ]
  },
  {
   "cell_type": "code",
   "execution_count": 6,
   "id": "distinct-player",
   "metadata": {},
   "outputs": [
    {
     "data": {
      "text/plain": [
       "['664159\\t550946',\n",
       " '665845\\t557965',\n",
       " '597173\\t575538',\n",
       " '618600\\t551446',\n",
       " '635690\\t608046']"
      ]
     },
     "execution_count": 6,
     "metadata": {},
     "output_type": "execute_result"
    }
   ],
   "source": [
    "data.take(5)"
   ]
  },
  {
   "cell_type": "markdown",
   "id": "sunset-roommate",
   "metadata": {},
   "source": [
    "#### 2. Tạo Pair RDD có tên là pair_data từ data trên, với mỗi element của data sẽ tạo thành 1 PairRDD là tuple có 2 phần tử kiểu int được tách ra bởi dấu phân tách \"\\t\". In 5 element đầu tiên"
   ]
  },
  {
   "cell_type": "code",
   "execution_count": 7,
   "id": "specific-coast",
   "metadata": {},
   "outputs": [
    {
     "data": {
      "text/plain": [
       "[(664159, 550946),\n",
       " (665845, 557965),\n",
       " (597173, 575538),\n",
       " (618600, 551446),\n",
       " (635690, 608046)]"
      ]
     },
     "execution_count": 7,
     "metadata": {},
     "output_type": "execute_result"
    }
   ],
   "source": [
    "pair_data = data.map(lambda s: (int(s.split('\\t')[0]), int(s.split('\\t')[1])))\n",
    "pair_data.take(5)"
   ]
  },
  {
   "cell_type": "markdown",
   "id": "legitimate-charger",
   "metadata": {},
   "source": [
    "#### 3. Tạo pair_data_sort từ pair_data với key được sắp xếp giảm dần. In 5 element đầu tiên"
   ]
  },
  {
   "cell_type": "code",
   "execution_count": 8,
   "id": "handy-mortality",
   "metadata": {},
   "outputs": [
    {
     "data": {
      "text/plain": [
       "[(961951, 577029),\n",
       " (937823, 540173),\n",
       " (932662, 537069),\n",
       " (927170, 250593),\n",
       " (925732, 210388)]"
      ]
     },
     "execution_count": 8,
     "metadata": {},
     "output_type": "execute_result"
    }
   ],
   "source": [
    "pair_data_sort = pair_data.sortByKey(ascending=False)\n",
    "pair_data_sort.take(5)"
   ]
  },
  {
   "cell_type": "markdown",
   "id": "living-travel",
   "metadata": {},
   "source": [
    "#### 4. Với pair_data_sort, hãy đếm số lượng các item theo key. In ra những key có số item >1"
   ]
  },
  {
   "cell_type": "code",
   "execution_count": 9,
   "id": "everyday-repository",
   "metadata": {},
   "outputs": [
    {
     "name": "stdout",
     "output_type": "stream",
     "text": [
      "871544 2\n",
      "865489 2\n",
      "838036 2\n",
      "826192 2\n",
      "805089 2\n",
      "804251 2\n",
      "620330 2\n",
      "618869 2\n",
      "393758 2\n",
      "341966 2\n",
      "338474 2\n",
      "186380 2\n",
      "166973 2\n"
     ]
    }
   ],
   "source": [
    "for key, val in pair_data_sort.countByKey().items():\n",
    "    if val > 1:\n",
    "        print(key, val)"
   ]
  },
  {
   "cell_type": "markdown",
   "id": "super-observer",
   "metadata": {},
   "source": [
    "#### 5. Tạo pair_data_groupby từ pair_data_sort bằng cách nhóm các value có cùng key. In ra những key có số item >1"
   ]
  },
  {
   "cell_type": "code",
   "execution_count": 10,
   "id": "functional-bandwidth",
   "metadata": {},
   "outputs": [],
   "source": [
    "pair_data_groupby = pair_data_sort.groupByKey().collect()"
   ]
  },
  {
   "cell_type": "code",
   "execution_count": 11,
   "id": "hungarian-watch",
   "metadata": {},
   "outputs": [
    {
     "name": "stdout",
     "output_type": "stream",
     "text": [
      "805089 [762512, 96540]\n",
      "865489 [161762, 548920]\n",
      "838036 [749612, 542999]\n",
      "826192 [172906, 577784]\n",
      "871544 [144135, 592403]\n",
      "804251 [329956, 331304]\n",
      "620330 [398630, 396776]\n",
      "618869 [577243, 398187]\n",
      "393758 [750953, 439738]\n",
      "341966 [561987, 586266]\n",
      "338474 [563350, 564151]\n",
      "186380 [363938, 487625]\n",
      "166973 [341636, 334724]\n"
     ]
    }
   ],
   "source": [
    "for x, y in pair_data_groupby:\n",
    "    if len(y) > 1:\n",
    "        print(x, list(y))"
   ]
  },
  {
   "cell_type": "markdown",
   "id": "applied-blackjack",
   "metadata": {},
   "source": [
    "#### 6. Tạo pair_data_reduce từ pair_data_sort, với các value có cùng key thì lấy giá trị lớn nhất trong các value. Cho biết số phần tử của pair_data_reduce này"
   ]
  },
  {
   "cell_type": "code",
   "execution_count": 12,
   "id": "absent-melissa",
   "metadata": {},
   "outputs": [],
   "source": [
    "import math"
   ]
  },
  {
   "cell_type": "code",
   "execution_count": 13,
   "id": "virgin-martin",
   "metadata": {},
   "outputs": [],
   "source": [
    "pair_data_reduce = pair_data.reduceByKey(lambda x, y: max(x, y))"
   ]
  },
  {
   "cell_type": "code",
   "execution_count": 14,
   "id": "southwest-filter",
   "metadata": {},
   "outputs": [
    {
     "name": "stdout",
     "output_type": "stream",
     "text": [
      "Number of elements: 4987\n"
     ]
    }
   ],
   "source": [
    "print(\"Number of elements:\", pair_data_reduce.count())"
   ]
  }
 ],
 "metadata": {
  "kernelspec": {
   "display_name": "Python 3",
   "language": "python",
   "name": "python3"
  },
  "language_info": {
   "codemirror_mode": {
    "name": "ipython",
    "version": 3
   },
   "file_extension": ".py",
   "mimetype": "text/x-python",
   "name": "python",
   "nbconvert_exporter": "python",
   "pygments_lexer": "ipython3",
   "version": "3.8.3"
  }
 },
 "nbformat": 4,
 "nbformat_minor": 5
}
