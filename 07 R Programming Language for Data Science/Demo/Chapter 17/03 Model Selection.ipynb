{
 "cells": [
  {
   "cell_type": "code",
   "execution_count": 1,
   "metadata": {},
   "outputs": [
    {
     "name": "stderr",
     "output_type": "stream",
     "text": [
      "Loading required package: survival\n",
      "\n",
      "Loading required package: leaps\n",
      "\n",
      "Loading required package: robustbase\n",
      "\n",
      "\n",
      "Attaching package: 'robustbase'\n",
      "\n",
      "\n",
      "The following object is masked from 'package:survival':\n",
      "\n",
      "    heart\n",
      "\n",
      "\n",
      "Loading required package: inline\n",
      "\n",
      "Loading required package: rrcov\n",
      "\n",
      "Scalable Robust Estimators with High Breakdown Point (version 1.5-5)\n",
      "\n",
      "\n",
      "Loading required package: MASS\n",
      "\n",
      "Loading required package: boot\n",
      "\n",
      "\n",
      "Attaching package: 'boot'\n",
      "\n",
      "\n",
      "The following object is masked from 'package:robustbase':\n",
      "\n",
      "    salinity\n",
      "\n",
      "\n",
      "The following object is masked from 'package:survival':\n",
      "\n",
      "    aml\n",
      "\n",
      "\n",
      "Loading required package: survey\n",
      "\n",
      "Loading required package: grid\n",
      "\n",
      "Loading required package: Matrix\n",
      "\n",
      "\n",
      "Attaching package: 'survey'\n",
      "\n",
      "\n",
      "The following object is masked from 'package:graphics':\n",
      "\n",
      "    dotchart\n",
      "\n",
      "\n",
      "Loading required package: mitools\n",
      "\n",
      "This is the global version of package relaimpo.\n",
      "\n",
      "\n",
      "If you are a non-US user, a version with the interesting additional metric pmvd is available\n",
      "\n",
      "\n",
      "from Ulrike Groempings web site at prof.beuth-hochschule.de/groemping.\n",
      "\n",
      "\n"
     ]
    }
   ],
   "source": [
    "library(\"BMA\")\n",
    "library(\"relaimpo\")"
   ]
  },
  {
   "cell_type": "code",
   "execution_count": 2,
   "metadata": {},
   "outputs": [
    {
     "data": {
      "text/html": [
       "<table>\n",
       "<caption>A data.frame: 6 × 11</caption>\n",
       "<thead>\n",
       "\t<tr><th></th><th scope=col>mpg</th><th scope=col>cyl</th><th scope=col>disp</th><th scope=col>hp</th><th scope=col>drat</th><th scope=col>wt</th><th scope=col>qsec</th><th scope=col>vs</th><th scope=col>am</th><th scope=col>gear</th><th scope=col>carb</th></tr>\n",
       "\t<tr><th></th><th scope=col>&lt;dbl&gt;</th><th scope=col>&lt;dbl&gt;</th><th scope=col>&lt;dbl&gt;</th><th scope=col>&lt;dbl&gt;</th><th scope=col>&lt;dbl&gt;</th><th scope=col>&lt;dbl&gt;</th><th scope=col>&lt;dbl&gt;</th><th scope=col>&lt;dbl&gt;</th><th scope=col>&lt;dbl&gt;</th><th scope=col>&lt;dbl&gt;</th><th scope=col>&lt;dbl&gt;</th></tr>\n",
       "</thead>\n",
       "<tbody>\n",
       "\t<tr><th scope=row>Mazda RX4</th><td>21.0</td><td>6</td><td>160</td><td>110</td><td>3.90</td><td>2.620</td><td>16.46</td><td>0</td><td>1</td><td>4</td><td>4</td></tr>\n",
       "\t<tr><th scope=row>Mazda RX4 Wag</th><td>21.0</td><td>6</td><td>160</td><td>110</td><td>3.90</td><td>2.875</td><td>17.02</td><td>0</td><td>1</td><td>4</td><td>4</td></tr>\n",
       "\t<tr><th scope=row>Datsun 710</th><td>22.8</td><td>4</td><td>108</td><td> 93</td><td>3.85</td><td>2.320</td><td>18.61</td><td>1</td><td>1</td><td>4</td><td>1</td></tr>\n",
       "\t<tr><th scope=row>Hornet 4 Drive</th><td>21.4</td><td>6</td><td>258</td><td>110</td><td>3.08</td><td>3.215</td><td>19.44</td><td>1</td><td>0</td><td>3</td><td>1</td></tr>\n",
       "\t<tr><th scope=row>Hornet Sportabout</th><td>18.7</td><td>8</td><td>360</td><td>175</td><td>3.15</td><td>3.440</td><td>17.02</td><td>0</td><td>0</td><td>3</td><td>2</td></tr>\n",
       "\t<tr><th scope=row>Valiant</th><td>18.1</td><td>6</td><td>225</td><td>105</td><td>2.76</td><td>3.460</td><td>20.22</td><td>1</td><td>0</td><td>3</td><td>1</td></tr>\n",
       "</tbody>\n",
       "</table>\n"
      ],
      "text/latex": [
       "A data.frame: 6 × 11\n",
       "\\begin{tabular}{r|lllllllllll}\n",
       "  & mpg & cyl & disp & hp & drat & wt & qsec & vs & am & gear & carb\\\\\n",
       "  & <dbl> & <dbl> & <dbl> & <dbl> & <dbl> & <dbl> & <dbl> & <dbl> & <dbl> & <dbl> & <dbl>\\\\\n",
       "\\hline\n",
       "\tMazda RX4 & 21.0 & 6 & 160 & 110 & 3.90 & 2.620 & 16.46 & 0 & 1 & 4 & 4\\\\\n",
       "\tMazda RX4 Wag & 21.0 & 6 & 160 & 110 & 3.90 & 2.875 & 17.02 & 0 & 1 & 4 & 4\\\\\n",
       "\tDatsun 710 & 22.8 & 4 & 108 &  93 & 3.85 & 2.320 & 18.61 & 1 & 1 & 4 & 1\\\\\n",
       "\tHornet 4 Drive & 21.4 & 6 & 258 & 110 & 3.08 & 3.215 & 19.44 & 1 & 0 & 3 & 1\\\\\n",
       "\tHornet Sportabout & 18.7 & 8 & 360 & 175 & 3.15 & 3.440 & 17.02 & 0 & 0 & 3 & 2\\\\\n",
       "\tValiant & 18.1 & 6 & 225 & 105 & 2.76 & 3.460 & 20.22 & 1 & 0 & 3 & 1\\\\\n",
       "\\end{tabular}\n"
      ],
      "text/markdown": [
       "\n",
       "A data.frame: 6 × 11\n",
       "\n",
       "| <!--/--> | mpg &lt;dbl&gt; | cyl &lt;dbl&gt; | disp &lt;dbl&gt; | hp &lt;dbl&gt; | drat &lt;dbl&gt; | wt &lt;dbl&gt; | qsec &lt;dbl&gt; | vs &lt;dbl&gt; | am &lt;dbl&gt; | gear &lt;dbl&gt; | carb &lt;dbl&gt; |\n",
       "|---|---|---|---|---|---|---|---|---|---|---|---|\n",
       "| Mazda RX4 | 21.0 | 6 | 160 | 110 | 3.90 | 2.620 | 16.46 | 0 | 1 | 4 | 4 |\n",
       "| Mazda RX4 Wag | 21.0 | 6 | 160 | 110 | 3.90 | 2.875 | 17.02 | 0 | 1 | 4 | 4 |\n",
       "| Datsun 710 | 22.8 | 4 | 108 |  93 | 3.85 | 2.320 | 18.61 | 1 | 1 | 4 | 1 |\n",
       "| Hornet 4 Drive | 21.4 | 6 | 258 | 110 | 3.08 | 3.215 | 19.44 | 1 | 0 | 3 | 1 |\n",
       "| Hornet Sportabout | 18.7 | 8 | 360 | 175 | 3.15 | 3.440 | 17.02 | 0 | 0 | 3 | 2 |\n",
       "| Valiant | 18.1 | 6 | 225 | 105 | 2.76 | 3.460 | 20.22 | 1 | 0 | 3 | 1 |\n",
       "\n"
      ],
      "text/plain": [
       "                  mpg  cyl disp hp  drat wt    qsec  vs am gear carb\n",
       "Mazda RX4         21.0 6   160  110 3.90 2.620 16.46 0  1  4    4   \n",
       "Mazda RX4 Wag     21.0 6   160  110 3.90 2.875 17.02 0  1  4    4   \n",
       "Datsun 710        22.8 4   108   93 3.85 2.320 18.61 1  1  4    1   \n",
       "Hornet 4 Drive    21.4 6   258  110 3.08 3.215 19.44 1  0  3    1   \n",
       "Hornet Sportabout 18.7 8   360  175 3.15 3.440 17.02 0  0  3    2   \n",
       "Valiant           18.1 6   225  105 2.76 3.460 20.22 1  0  3    1   "
      ]
     },
     "metadata": {},
     "output_type": "display_data"
    }
   ],
   "source": [
    "head(mtcars)"
   ]
  },
  {
   "cell_type": "code",
   "execution_count": 3,
   "metadata": {},
   "outputs": [
    {
     "data": {
      "text/html": [
       "<style>\n",
       ".list-inline {list-style: none; margin:0; padding: 0}\n",
       ".list-inline>li {display: inline-block}\n",
       ".list-inline>li:not(:last-child)::after {content: \"\\00b7\"; padding: 0 .5ex}\n",
       "</style>\n",
       "<ol class=list-inline><li>'mpg'</li><li>'cyl'</li><li>'disp'</li><li>'hp'</li><li>'drat'</li><li>'wt'</li><li>'qsec'</li><li>'vs'</li><li>'am'</li><li>'gear'</li><li>'carb'</li></ol>\n"
      ],
      "text/latex": [
       "\\begin{enumerate*}\n",
       "\\item 'mpg'\n",
       "\\item 'cyl'\n",
       "\\item 'disp'\n",
       "\\item 'hp'\n",
       "\\item 'drat'\n",
       "\\item 'wt'\n",
       "\\item 'qsec'\n",
       "\\item 'vs'\n",
       "\\item 'am'\n",
       "\\item 'gear'\n",
       "\\item 'carb'\n",
       "\\end{enumerate*}\n"
      ],
      "text/markdown": [
       "1. 'mpg'\n",
       "2. 'cyl'\n",
       "3. 'disp'\n",
       "4. 'hp'\n",
       "5. 'drat'\n",
       "6. 'wt'\n",
       "7. 'qsec'\n",
       "8. 'vs'\n",
       "9. 'am'\n",
       "10. 'gear'\n",
       "11. 'carb'\n",
       "\n",
       "\n"
      ],
      "text/plain": [
       " [1] \"mpg\"  \"cyl\"  \"disp\" \"hp\"   \"drat\" \"wt\"   \"qsec\" \"vs\"   \"am\"   \"gear\"\n",
       "[11] \"carb\""
      ]
     },
     "metadata": {},
     "output_type": "display_data"
    }
   ],
   "source": [
    "cols = colnames(mtcars)\n",
    "cols"
   ]
  },
  {
   "cell_type": "code",
   "execution_count": 4,
   "metadata": {},
   "outputs": [],
   "source": [
    "yvar = mtcars[, (\"mpg\")]\n",
    "xvars = mtcars[, cols[-1]]\n",
    "bma = bicreg(xvars, yvar, strict = F, OR = 2)"
   ]
  },
  {
   "cell_type": "code",
   "execution_count": 5,
   "metadata": {},
   "outputs": [
    {
     "name": "stdout",
     "output_type": "stream",
     "text": [
      "\n",
      "Call:\n",
      "bicreg(x = xvars, y = yvar, strict = F, OR = 2)\n",
      "\n",
      "\n",
      "  5  models were selected\n",
      " Best  5  models (cumulative posterior probability =  1 ): \n",
      "\n",
      "           p!=0    EV        SD        model 1    model 2    model 3  \n",
      "Intercept  100.0  27.211564  13.82229    9.61778   39.68626   37.22727\n",
      "cyl         37.9  -0.489171   0.71049      .       -1.50779      .    \n",
      "disp         0.0   0.000000   0.00000      .          .          .    \n",
      "hp          31.5  -0.008011   0.01373      .          .       -0.03177\n",
      "drat         0.0   0.000000   0.00000      .          .          .    \n",
      "wt         100.0  -3.816159   0.93260   -3.91650   -3.19097   -3.87783\n",
      "qsec        45.2   0.505065   0.59539    1.22589      .          .    \n",
      "vs           0.0   0.000000   0.00000      .          .          .    \n",
      "am          28.8   0.845872   1.53016    2.93584      .          .    \n",
      "gear         0.0   0.000000   0.00000      .          .          .    \n",
      "carb         0.0   0.000000   0.00000      .          .          .    \n",
      "                                                                      \n",
      "nVar                                       3          2          2    \n",
      "r2                                       0.850      0.830      0.827  \n",
      "BIC                                    -50.23818  -49.81447  -49.17255\n",
      "post prob                                0.288      0.233      0.169  \n",
      "           model 4    model 5  \n",
      "Intercept   19.74622   38.75179\n",
      "cyl            .       -0.94162\n",
      "disp           .          .    \n",
      "hp             .       -0.01804\n",
      "drat           .          .    \n",
      "wt          -5.04798   -3.16697\n",
      "qsec         0.92920      .    \n",
      "vs             .          .    \n",
      "am             .          .    \n",
      "gear           .          .    \n",
      "carb           .          .    \n",
      "                               \n",
      "nVar           2          3    \n",
      "r2           0.826      0.843  \n",
      "BIC        -49.10426  -48.88168\n",
      "post prob    0.163      0.146  \n",
      "          p!=0     EV         SD         model 1     model 2     model 3    \n",
      "Intercept \"100.0\" \"27.211564\" \"13.82229\" \"  9.61778\" \" 39.68626\" \" 37.22727\"\n",
      "cyl       \" 37.9\" \"-0.489171\" \" 0.71049\" \"    .\"     \" -1.50779\" \"    .\"    \n",
      "disp      \"  0.0\" \" 0.000000\" \" 0.00000\" \"    .\"     \"    .\"     \"    .\"    \n",
      "hp        \" 31.5\" \"-0.008011\" \" 0.01373\" \"    .\"     \"    .\"     \" -0.03177\"\n",
      "drat      \"  0.0\" \" 0.000000\" \" 0.00000\" \"    .\"     \"    .\"     \"    .\"    \n",
      "wt        \"100.0\" \"-3.816159\" \" 0.93260\" \" -3.91650\" \" -3.19097\" \" -3.87783\"\n",
      "qsec      \" 45.2\" \" 0.505065\" \" 0.59539\" \"  1.22589\" \"    .\"     \"    .\"    \n",
      "vs        \"  0.0\" \" 0.000000\" \" 0.00000\" \"    .\"     \"    .\"     \"    .\"    \n",
      "am        \" 28.8\" \" 0.845872\" \" 1.53016\" \"  2.93584\" \"    .\"     \"    .\"    \n",
      "gear      \"  0.0\" \" 0.000000\" \" 0.00000\" \"    .\"     \"    .\"     \"    .\"    \n",
      "carb      \"  0.0\" \" 0.000000\" \" 0.00000\" \"    .\"     \"    .\"     \"    .\"    \n",
      "          \"\"      \"\"          \"\"         \"\"          \"\"          \"\"         \n",
      "nVar      \"\"      \"\"          \"\"         \"    3\"     \"    2\"     \"    2\"    \n",
      "r2        \"\"      \"\"          \"\"         \"  0.850\"   \"  0.830\"   \"  0.827\"  \n",
      "BIC       \"\"      \"\"          \"\"         \"-50.23818\" \"-49.81447\" \"-49.17255\"\n",
      "post prob \"\"      \"\"          \"\"         \"  0.288\"   \"  0.233\"   \"  0.169\"  \n",
      "          model 4     model 5    \n",
      "Intercept \" 19.74622\" \" 38.75179\"\n",
      "cyl       \"    .\"     \" -0.94162\"\n",
      "disp      \"    .\"     \"    .\"    \n",
      "hp        \"    .\"     \" -0.01804\"\n",
      "drat      \"    .\"     \"    .\"    \n",
      "wt        \" -5.04798\" \" -3.16697\"\n",
      "qsec      \"  0.92920\" \"    .\"    \n",
      "vs        \"    .\"     \"    .\"    \n",
      "am        \"    .\"     \"    .\"    \n",
      "gear      \"    .\"     \"    .\"    \n",
      "carb      \"    .\"     \"    .\"    \n",
      "          \"\"          \"\"         \n",
      "nVar      \"    2\"     \"    3\"    \n",
      "r2        \"  0.826\"   \"  0.843\"  \n",
      "BIC       \"-49.10426\" \"-48.88168\"\n",
      "post prob \"  0.163\"   \"  0.146\"  \n"
     ]
    }
   ],
   "source": [
    "print(summary(bma))"
   ]
  },
  {
   "cell_type": "code",
   "execution_count": 6,
   "metadata": {},
   "outputs": [],
   "source": [
    "m = lm(mpg~wt+qsec+am, data = mtcars)"
   ]
  },
  {
   "cell_type": "code",
   "execution_count": 7,
   "metadata": {},
   "outputs": [
    {
     "data": {
      "text/plain": [
       "Response variable: mpg \n",
       "Total response variance: 36.3241 \n",
       "Analysis based on 32 observations \n",
       "\n",
       "3 Regressors: \n",
       "wt qsec am \n",
       "Proportion of variance explained by model: 84.97%\n",
       "Metrics are normalized to sum to 100% (rela=TRUE). \n",
       "\n",
       "Relative importance metrics: \n",
       "\n",
       "           lmg\n",
       "wt   0.5640407\n",
       "qsec 0.1853428\n",
       "am   0.2506165\n",
       "\n",
       "Average coefficients for different model sizes: \n",
       "\n",
       "            1X       2Xs       3Xs\n",
       "wt   -5.344472 -5.200397 -3.916504\n",
       "qsec  1.412125  1.455534  1.225886\n",
       "am    7.244939  4.426358  2.935837"
      ]
     },
     "metadata": {},
     "output_type": "display_data"
    }
   ],
   "source": [
    "calc.relimp(m, type = \"lmg\", rela = T, rank = T)"
   ]
  },
  {
   "cell_type": "code",
   "execution_count": null,
   "metadata": {},
   "outputs": [],
   "source": []
  }
 ],
 "metadata": {
  "kernelspec": {
   "display_name": "R",
   "language": "R",
   "name": "ir"
  },
  "language_info": {
   "codemirror_mode": "r",
   "file_extension": ".r",
   "mimetype": "text/x-r-source",
   "name": "R",
   "pygments_lexer": "r",
   "version": "4.0.3"
  }
 },
 "nbformat": 4,
 "nbformat_minor": 4
}
