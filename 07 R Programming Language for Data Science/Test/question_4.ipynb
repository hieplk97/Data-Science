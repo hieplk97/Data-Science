{
 "cells": [
  {
   "cell_type": "markdown",
   "metadata": {},
   "source": [
    "## Câu 1a"
   ]
  },
  {
   "cell_type": "code",
   "execution_count": 2,
   "metadata": {},
   "outputs": [
    {
     "name": "stdout",
     "output_type": "stream",
     "text": [
      "[1] \"Probability of IQ < 125: 0.952209647727185\"\n"
     ]
    }
   ],
   "source": [
    "p1 = pnorm(125, mean = 100, sd =15, lower.tail = TRUE)\n",
    "print(paste(\"Probability of IQ < 125:\", p1))"
   ]
  },
  {
   "cell_type": "markdown",
   "metadata": {},
   "source": [
    "## Câu 1b"
   ]
  },
  {
   "cell_type": "code",
   "execution_count": 5,
   "metadata": {},
   "outputs": [
    {
     "name": "stdout",
     "output_type": "stream",
     "text": [
      "[1] \"Probability of IQ > 115: 0.158655253931457\"\n"
     ]
    }
   ],
   "source": [
    "p2 = pnorm(115, mean = 100, sd =15, lower.tail = FALSE)\n",
    "print(paste(\"Probability of IQ > 115:\", p2))"
   ]
  },
  {
   "cell_type": "markdown",
   "metadata": {},
   "source": [
    "## Câu 1c"
   ]
  },
  {
   "cell_type": "code",
   "execution_count": 6,
   "metadata": {},
   "outputs": [
    {
     "name": "stdout",
     "output_type": "stream",
     "text": [
      "[1] \"Probability of IQ > 115 and IQ < 125: 0.110864901658642\"\n"
     ]
    }
   ],
   "source": [
    "# Probability of IQ > 125\n",
    "p3 = pnorm(125, mean = 100, sd =15, lower.tail = FALSE)\n",
    "# Probability of IQ < 115\n",
    "p4 = pnorm(115, mean = 100, sd =15, lower.tail = TRUE)\n",
    "print(paste(\"Probability of IQ > 115 and IQ < 125:\", 1 - p3 - p4))"
   ]
  },
  {
   "cell_type": "markdown",
   "metadata": {},
   "source": [
    "## Câu 2a"
   ]
  },
  {
   "cell_type": "code",
   "execution_count": null,
   "metadata": {},
   "outputs": [],
   "source": []
  }
 ],
 "metadata": {
  "kernelspec": {
   "display_name": "R",
   "language": "R",
   "name": "ir"
  },
  "language_info": {
   "codemirror_mode": "r",
   "file_extension": ".r",
   "mimetype": "text/x-r-source",
   "name": "R",
   "pygments_lexer": "r",
   "version": "4.0.3"
  }
 },
 "nbformat": 4,
 "nbformat_minor": 4
}
