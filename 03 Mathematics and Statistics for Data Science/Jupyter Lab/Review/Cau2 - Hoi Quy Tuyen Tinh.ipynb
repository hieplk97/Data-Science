{
 "cells": [
  {
   "cell_type": "raw",
   "metadata": {},
   "source": [
    "Tập tin IQ2.xls chứa những mẫu dữ liệu được thu thập về mối quan hệ giữa chỉ số IQ với các điểm thi\n",
    "môn Toán (diemToan) và môn Anh văn (diemAV) của sinh viên.\n",
    "2.1) Tính các giá trị thống kê cơ bản của chỉ số IQ và điểm thi của các môn.\n",
    "2.2) Xác định outlier(s), nếu có, của chỉ số IQ và điểm thi của các môn dựa trên các z-scores.\n",
    "2.3) Chọn điểm thi của 1 trong các môn làm cơ sở để dự đoán chỉ số IQ theo phương pháp hồi quy\n",
    "tuyến tính. Trực quan hóa dữ liệu và giải thích nguyên nhân của sự lựa chọn.\n",
    "2.4) Dự đoán các giá trị IQ tương ứng với x  { 2.0, 5.0, 8.0, 9.5 }. "
   ]
  },
  {
   "cell_type": "code",
   "execution_count": 3,
   "metadata": {},
   "outputs": [],
   "source": [
    "import numpy as np\n",
    "from numpy import mean, median\n",
    "from tabulate import tabulate\n",
    "\n",
    "import pandas as pd\n",
    "import matplotlib.pyplot as plt\n",
    "import seaborn as sns\n",
    "from scipy import stats\n",
    "from sklearn.linear_model import LinearRegression\n"
   ]
  },
  {
   "cell_type": "code",
   "execution_count": 4,
   "metadata": {},
   "outputs": [
    {
     "name": "stdout",
     "output_type": "stream",
     "text": [
      "     diemToan  diemAV   IQ\n",
      "stt                       \n",
      "1         2.0     7.0   68\n",
      "2         8.4     6.4  137\n",
      "3         7.6     7.8  135\n",
      "4         3.0     2.5   79\n",
      "5         4.4     3.8  107\n",
      "6         6.4     7.2  128\n",
      "7         8.0     8.4  120\n",
      "8         2.8     6.8   74\n",
      "9         5.2     5.0  110\n",
      "10        6.4     8.9  134\n",
      "11        7.6     9.2  139\n",
      "12        5.0     5.4  110\n",
      "13        9.6     8.7  140\n",
      "14        5.6     7.4  115\n",
      "15        4.4     7.2   88\n",
      "16        9.0     9.2  128\n",
      "17        3.6     6.3  120\n",
      "18        4.8     8.1  113\n",
      "19        6.0     5.2  121\n",
      "20        8.6     6.7  138\n"
     ]
    }
   ],
   "source": [
    "LDS3folder = 'E:\\Data Science\\Mathematics and Statistics for Data Science\\Review/'\n",
    "data = pd.read_excel(LDS3folder + 'IQ2.xls', index_col=0)\n",
    "print(data)"
   ]
  },
  {
   "cell_type": "code",
   "execution_count": 6,
   "metadata": {},
   "outputs": [
    {
     "name": "stdout",
     "output_type": "stream",
     "text": [
      "================================================\n",
      "*** Những thống kê cơ bản trên dữ liệu ***\n",
      "================================================\n",
      "--------  ------------------  ------------------  ------------------\n",
      "          Math                English             IQ\n",
      "Mean      5.92                6.859999999999999   115.2\n",
      "MIN       2.0                 2.5                 68\n",
      "MAX       9.6                 9.2                 140\n",
      "Median    2.0                 2.5                 68\n",
      "Mode      4.4                 7.2                 110\n",
      "f(x)      2                   2                   2\n",
      "Range     7.6                 6.699999999999999   72\n",
      "Variance  4.6575999999999995  3.0553999999999997  471.56000000000006\n",
      "Std-dev   2.1581473536345936  1.7479702514631077  21.715432300555292\n",
      "--------  ------------------  ------------------  ------------------\n"
     ]
    }
   ],
   "source": [
    "# 2.1) Tính các giá trị thống kê cơ bản của chỉ số IQ và điểm thi của các môn.\n",
    "print('================================================')\n",
    "print('*** Những thống kê cơ bản trên dữ liệu ***')\n",
    "print('================================================')\n",
    "\n",
    "math_mod = stats.mode(data['diemToan'])\n",
    "eng_mod = stats.mode(data['diemAV'])\n",
    "iq_mod = stats.mode(data['IQ'])\n",
    "\n",
    "range_math = np.ptp(data['diemToan'])\n",
    "range_eng = np.ptp(data['diemAV'])\n",
    "range_iq = np.ptp(data['IQ'])\n",
    "\n",
    "var_math = np.var(data['diemToan'])\n",
    "var_eng = np.var(data['diemAV'])\n",
    "var_iq = np.var(data['IQ'])\n",
    "\n",
    "std_math = np.std(data['diemToan'])\n",
    "std_eng = np.std(data['diemAV'])\n",
    "std_iq = np.std(data['IQ'])\n",
    "\n",
    "table = [[\"\", \"Math\", \"English\", \"IQ\"],\n",
    "         [\"Mean\",mean(data['diemToan']), mean(data['diemAV']), mean(data['IQ'])],\n",
    "         [\"MIN\", min(data['diemToan']), min(data['diemAV']), min(data['IQ'])],\n",
    "         [\"MAX\", max(data['diemToan']), max(data['diemAV']), max(data['IQ'])],\n",
    "         [\"Median\", min(data['diemToan']), min(data['diemAV']), min(data['IQ'])],\n",
    "         [\"Mode\", math_mod[0][0], eng_mod[0][0], iq_mod[0][0]],\n",
    "         [\"f(x)\", math_mod[1][0], eng_mod[1][0], iq_mod[1][0]],\n",
    "         [\"Range\", range_math, range_eng, range_iq],\n",
    "         [\"Variance\", var_math, var_eng, var_iq],\n",
    "         [\"Std-dev\", std_math, std_eng, std_iq]\n",
    "        ]\n",
    "print(tabulate(table))"
   ]
  },
  {
   "cell_type": "code",
   "execution_count": 27,
   "metadata": {},
   "outputs": [
    {
     "name": "stdout",
     "output_type": "stream",
     "text": [
      "========================================================\n",
      "Vẽ boxplot. Dùng z-score để xác định outliers ***\n",
      "========================================================\n"
     ]
    },
    {
     "data": {
      "image/png": "[encoded data removed]",
      "text/plain": [
       "<Figure size 432x288 with 3 Axes>"
      ]
     },
     "metadata": {
      "needs_background": "light"
     },
     "output_type": "display_data"
    }
   ],
   "source": [
    "#2.2) Xác định outlier(s), nếu có, của chỉ số IQ và điểm thi của các môn dựa trên các z-scores.\n",
    "print('========================================================')\n",
    "print('Vẽ boxplot. Dùng z-score để xác định outliers ***')\n",
    "print('========================================================')\n",
    "\n",
    "plt.subplot(1, 3, 1)\n",
    "plt.title('Math')\n",
    "plt.boxplot(data['diemToan'])\n",
    "\n",
    "plt.subplot(1, 3, 2)\n",
    "plt.title('English')\n",
    "plt.boxplot(data['diemAV'])\n",
    "\n",
    "plt.subplot(1, 3, 3)\n",
    "plt.title('IQ')\n",
    "plt.boxplot(data['IQ'])\n",
    "\n",
    "plt.tight_layout()\n",
    "plt.show()"
   ]
  },
  {
   "cell_type": "code",
   "execution_count": 28,
   "metadata": {},
   "outputs": [
    {
     "name": "stdout",
     "output_type": "stream",
     "text": [
      "========================================================\n",
      "***Z-scores***\n",
      "========================================================\n",
      "Math Z-scores:\n",
      " [-1.81637273  1.14913377  0.77844546 -1.35301234 -0.70430779  0.22241299\n",
      "  0.96378961 -1.44568442 -0.33361948  0.22241299  0.77844546 -0.42629156\n",
      "  1.70516624 -0.14827532 -0.70430779  1.42715    -1.07499611 -0.51896364\n",
      "  0.03706883  1.24180585] \n",
      "Eng Z-scores:\n",
      " [ 0.0800929  -0.26316237  0.53776659 -2.49432163 -1.75060188  0.19451132\n",
      "  0.88102186 -0.03432553 -1.06409134  1.16706792  1.33869555 -0.83525449\n",
      "  1.05264949  0.30892974  0.19451132  1.33869555 -0.32037159  0.70939422\n",
      " -0.94967291 -0.09153474] \n",
      "IQ Z-scores:\n",
      " [-2.17356944  1.00389436  0.91179396 -1.66701724 -0.37761164  0.58944256\n",
      "  0.22104096 -1.89726824 -0.23946104  0.86574376  1.09599476 -0.23946104\n",
      "  1.14204496 -0.00921004 -1.25256544  0.58944256  0.22104096 -0.10131044\n",
      "  0.26709116  1.04994456]\n"
     ]
    }
   ],
   "source": [
    "z_scores_math = stats.zscore(data['diemToan'])\n",
    "z_scores_eng = stats.zscore(data['diemAV'])\n",
    "z_scores_iq = stats.zscore(data['IQ'])\n",
    "\n",
    "print('========================================================')\n",
    "print('***Z-scores***')\n",
    "print('========================================================')\n",
    "print('Math Z-scores:\\n',z_scores_math, \n",
    "      '\\nEng Z-scores:\\n',z_scores_eng, \n",
    "      '\\nIQ Z-scores:\\n',z_scores_iq)\n",
    "\n"
   ]
  },
  {
   "cell_type": "code",
   "execution_count": 29,
   "metadata": {},
   "outputs": [
    {
     "name": "stdout",
     "output_type": "stream",
     "text": [
      "========================================================\n",
      "***Xác định outliers***\n",
      "========================================================\n",
      "Math Outlier(s) [ [] ]: Series([], Name: diemToan, dtype: float64)\n",
      "Outlier(s) [ [] ]: Series([], Name: diemAV, dtype: float64)\n",
      "Outlier(s) [ [] ]: Series([], Name: IQ, dtype: int64)\n"
     ]
    }
   ],
   "source": [
    "print('========================================================')\n",
    "print('***Xác định outliers***')\n",
    "print('========================================================')\n",
    "\n",
    "math_outliers = z_scores_math[[(n <= -2.5) | (n >= 2.5) for n in z_scores_math]]\n",
    "math_indexes = [z_scores_math.tolist().index(i) for i in math_outliers]\n",
    "print('Math Outlier(s) [', math_indexes, ']:', data['diemToan'][math_indexes])\n",
    "\n",
    "eng_outliers = z_scores_eng[[(n <= -2.5) | (n >= 2.5) for n in z_scores_eng]]\n",
    "eng_indexes = [z_scores_eng.tolist().index(i) for i in eng_outliers]\n",
    "print('Outlier(s) [', eng_indexes, ']:', data['diemAV'][eng_indexes])\n",
    "\n",
    "iq_outliers = z_scores_iq[[(n <= -2.5) | (n >= 2.5) for n in z_scores_iq]]\n",
    "iq_indexes = [z_scores_iq.tolist().index(i) for i in iq_outliers]\n",
    "print('Outlier(s) [', iq_indexes, ']:', data['IQ'][iq_indexes])"
   ]
  },
  {
   "cell_type": "code",
   "execution_count": 45,
   "metadata": {},
   "outputs": [
    {
     "data": {
      "image/png": "[encoded data removed]",
      "text/plain": [
       "<Figure size 432x288 with 1 Axes>"
      ]
     },
     "metadata": {
      "needs_background": "light"
     },
     "output_type": "display_data"
    }
   ],
   "source": [
    "# 2.3) Chọn điểm thi của 1 trong các môn làm cơ sở để dự đoán chỉ số IQ theo phương pháp hồi quy\n",
    "#tuyến tính. Trực quan hóa dữ liệu và giải thích nguyên nhân của sự lựa chọn.\n",
    "\n",
    "X = data.iloc[:, 0].values.reshape(-1, 1)  # values converts it into a numpy array\n",
    "Y = data.iloc[:, 2].values.reshape(-1, 1)  # -1 means that calculate the dimension of rows, but have 1 column\n",
    "linear_regressor = LinearRegression()  # create object for the class\n",
    "linear_regressor.fit(X, Y)  # perform linear regression\n",
    "\n",
    "Y_pred = linear_regressor.predict(X)  # make predictions\n",
    "\n",
    "plt.scatter(X, Y)\n",
    "plt.plot(X, Y_pred, color='red')\n",
    "plt.show()\n"
   ]
  },
  {
   "cell_type": "code",
   "execution_count": 50,
   "metadata": {},
   "outputs": [
    {
     "name": "stdout",
     "output_type": "stream",
     "text": [
      "[[ 80.78890416]\n",
      " [107.12392649]\n",
      " [133.45894881]\n",
      " [146.62645998]]\n"
     ]
    }
   ],
   "source": [
    "#2.4) Dự đoán các giá trị IQ tương ứng với x  { 2.0, 5.0, 8.0, 9.5 }. \n",
    "diem = [2.0, 5.0, 8.0, 9.5]\n",
    "X_predict = np.asarray(diem).reshape(-1, 1)\n",
    "Y_predict = linear_regressor.predict(X_predict)  # make predictions\n",
    "\n",
    "print(Y_predict)"
   ]
  },
  {
   "cell_type": "code",
   "execution_count": null,
   "metadata": {},
   "outputs": [],
   "source": []
  }
 ],
 "metadata": {
  "kernelspec": {
   "display_name": "Python 3",
   "language": "python",
   "name": "python3"
  },
  "language_info": {
   "codemirror_mode": {
    "name": "ipython",
    "version": 3
   },
   "file_extension": ".py",
   "mimetype": "text/x-python",
   "name": "python",
   "nbconvert_exporter": "python",
   "pygments_lexer": "ipython3",
   "version": "3.8.5"
  }
 },
 "nbformat": 4,
 "nbformat_minor": 4
}
