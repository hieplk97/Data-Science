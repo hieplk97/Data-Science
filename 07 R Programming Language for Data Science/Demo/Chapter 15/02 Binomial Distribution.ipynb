{
 "cells": [
  {
   "cell_type": "code",
   "execution_count": 1,
   "metadata": {},
   "outputs": [],
   "source": [
    "x = seq(0 , 50, by = 1)"
   ]
  },
  {
   "cell_type": "code",
   "execution_count": 2,
   "metadata": {},
   "outputs": [],
   "source": [
    "# Create the binomial distribution\n",
    "y = dbinom(x, 50, 0.5)"
   ]
  },
  {
   "cell_type": "code",
   "execution_count": 3,
   "metadata": {},
   "outputs": [
    {
     "data": {
      "image/png": "[encoded data removed]",
      "text/plain": [
       "plot without title"
      ]
     },
     "metadata": {
      "image/png": {
       "height": 420,
       "width": 420
      }
     },
     "output_type": "display_data"
    }
   ],
   "source": [
    "plot(x, y)"
   ]
  },
  {
   "cell_type": "code",
   "execution_count": 4,
   "metadata": {},
   "outputs": [
    {
     "data": {
      "text/html": [
       "0.432"
      ],
      "text/latex": [
       "0.432"
      ],
      "text/markdown": [
       "0.432"
      ],
      "text/plain": [
       "[1] 0.432"
      ]
     },
     "metadata": {},
     "output_type": "display_data"
    }
   ],
   "source": [
    "# Probability of getting 2 girls out of 10 boys and girls from 3 picks\n",
    "p1 = dbinom(2, 3, 0.6)\n",
    "p1"
   ]
  },
  {
   "cell_type": "code",
   "execution_count": 5,
   "metadata": {},
   "outputs": [
    {
     "data": {
      "text/html": [
       "0.556137586329607"
      ],
      "text/latex": [
       "0.556137586329607"
      ],
      "text/markdown": [
       "0.556137586329607"
      ],
      "text/plain": [
       "[1] 0.5561376"
      ]
     },
     "metadata": {},
     "output_type": "display_data"
    }
   ],
   "source": [
    "# Probability of getting 25 or less heads from\n",
    "p_x_25_less = pbinom(25, 50, 0.5)\n",
    "p_x_25_less"
   ]
  },
  {
   "cell_type": "code",
   "execution_count": 6,
   "metadata": {},
   "outputs": [
    {
     "data": {
      "text/html": [
       "0.443862413670393"
      ],
      "text/latex": [
       "0.443862413670393"
      ],
      "text/markdown": [
       "0.443862413670393"
      ],
      "text/plain": [
       "[1] 0.4438624"
      ]
     },
     "metadata": {},
     "output_type": "display_data"
    }
   ],
   "source": [
    "# Probability of getting 25 or more heads from\n",
    "p_x_25_more = 1 - pbinom(25, 50, 0.5)\n",
    "p_x_25_more"
   ]
  },
  {
   "cell_type": "code",
   "execution_count": 7,
   "metadata": {},
   "outputs": [
    {
     "name": "stdout",
     "output_type": "stream",
     "text": [
      "[1] 23\n"
     ]
    }
   ],
   "source": [
    "# How many heads will have a probability of 0.25 will come out when a coin is tossed 50 times\n",
    "x = qbinom(0.25, 50, 0.5)\n",
    "print(x)"
   ]
  },
  {
   "cell_type": "code",
   "execution_count": 8,
   "metadata": {},
   "outputs": [
    {
     "name": "stdout",
     "output_type": "stream",
     "text": [
      "[1] 15 19 15 12 17 19 18 18\n"
     ]
    }
   ],
   "source": [
    "# Find 8 random values from a sample of 100 with probability of 1/6\n",
    "x = rbinom(8, 100, 1/6)\n",
    "print(x)"
   ]
  }
 ],
 "metadata": {
  "kernelspec": {
   "display_name": "R",
   "language": "R",
   "name": "ir"
  },
  "language_info": {
   "codemirror_mode": "r",
   "file_extension": ".r",
   "mimetype": "text/x-r-source",
   "name": "R",
   "pygments_lexer": "r",
   "version": "4.0.3"
  }
 },
 "nbformat": 4,
 "nbformat_minor": 4
}
