{
 "cells": [
  {
   "cell_type": "code",
   "execution_count": 1,
   "metadata": {},
   "outputs": [
    {
     "name": "stdin",
     "output_type": "stream",
     "text": [
      "Please input n:  8\n"
     ]
    }
   ],
   "source": [
    "n = as.integer(readline(prompt = \"Please input n: \"))"
   ]
  },
  {
   "cell_type": "code",
   "execution_count": 4,
   "metadata": {},
   "outputs": [
    {
     "name": "stdout",
     "output_type": "stream",
     "text": [
      " \n",
      " 8 * 1 = 8 \n",
      " 8 * 2 = 16 \n",
      " 8 * 3 = 24 \n",
      " 8 * 4 = 32 \n",
      " 8 * 5 = 40 \n",
      " 8 * 6 = 48 \n",
      " 8 * 7 = 56 \n",
      " 8 * 8 = 64 \n",
      " 8 * 9 = 72 \n",
      " 8 * 10 = 80"
     ]
    }
   ],
   "source": [
    "i = 1\n",
    "s = \"\"\n",
    "while (i <= 10){\n",
    "    s = paste(s, \"\\n\", n, \"*\", i, \"=\", n*i)\n",
    "    i = i+1\n",
    "}\n",
    "cat(s)"
   ]
  },
  {
   "cell_type": "code",
   "execution_count": 5,
   "metadata": {},
   "outputs": [
    {
     "name": "stdin",
     "output_type": "stream",
     "text": [
      "Input begin:  3\n",
      "Input end:  6\n"
     ]
    }
   ],
   "source": [
    "begin = as.integer(readline(prompt = \"Input begin: \"))\n",
    "end = as.integer(readline(prompt = \"Input end: \"))"
   ]
  },
  {
   "cell_type": "code",
   "execution_count": 6,
   "metadata": {},
   "outputs": [
    {
     "name": "stdout",
     "output_type": "stream",
     "text": [
      " \t 3 x 1 = 3 \t 4 x 1 = 4 \t 5 x 1 = 5 \t 6 x 1 = 6 \n",
      " \t 3 x 2 = 6 \t 4 x 2 = 8 \t 5 x 2 = 10 \t 6 x 2 = 12 \n",
      " \t 3 x 3 = 9 \t 4 x 3 = 12 \t 5 x 3 = 15 \t 6 x 3 = 18 \n",
      " \t 3 x 4 = 12 \t 4 x 4 = 16 \t 5 x 4 = 20 \t 6 x 4 = 24 \n",
      " \t 3 x 5 = 15 \t 4 x 5 = 20 \t 5 x 5 = 25 \t 6 x 5 = 30 \n",
      " \t 3 x 6 = 18 \t 4 x 6 = 24 \t 5 x 6 = 30 \t 6 x 6 = 36 \n",
      " \t 3 x 7 = 21 \t 4 x 7 = 28 \t 5 x 7 = 35 \t 6 x 7 = 42 \n",
      " \t 3 x 8 = 24 \t 4 x 8 = 32 \t 5 x 8 = 40 \t 6 x 8 = 48 \n",
      " \t 3 x 9 = 27 \t 4 x 9 = 36 \t 5 x 9 = 45 \t 6 x 9 = 54 \n",
      " \t 3 x 10 = 30 \t 4 x 10 = 40 \t 5 x 10 = 50 \t 6 x 10 = 60 \n"
     ]
    }
   ],
   "source": [
    "i = 1\n",
    "s = \"\"\n",
    "while (i <=10){\n",
    "    j = begin\n",
    "    while (j <= end){\n",
    "        s = paste(s, \"\\t\", j, \"x\", i, \"=\", j*i)\n",
    "        j = j+1\n",
    "    }\n",
    "    s = paste(s, \"\\n\")\n",
    "    i = i+1\n",
    "}\n",
    "cat(s)"
   ]
  }
 ],
 "metadata": {
  "kernelspec": {
   "display_name": "R",
   "language": "R",
   "name": "ir"
  },
  "language_info": {
   "codemirror_mode": "r",
   "file_extension": ".r",
   "mimetype": "text/x-r-source",
   "name": "R",
   "pygments_lexer": "r",
   "version": "4.0.3"
  }
 },
 "nbformat": 4,
 "nbformat_minor": 4
}
