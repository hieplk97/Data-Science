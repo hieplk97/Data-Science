{
 "cells": [
  {
   "cell_type": "code",
   "execution_count": 1,
   "metadata": {},
   "outputs": [],
   "source": [
    "library(ggplot2)"
   ]
  },
  {
   "cell_type": "code",
   "execution_count": 3,
   "metadata": {},
   "outputs": [],
   "source": [
    "chol = read.table(\"../../Data/chol.txt\", header = TRUE)"
   ]
  },
  {
   "cell_type": "code",
   "execution_count": 4,
   "metadata": {},
   "outputs": [
    {
     "data": {
      "text/html": [
       "<table>\n",
       "<caption>A data.frame: 6 × 7</caption>\n",
       "<thead>\n",
       "\t<tr><th></th><th scope=col>AGE</th><th scope=col>HEIGHT</th><th scope=col>WEIGHT</th><th scope=col>CHOL</th><th scope=col>SMOKE</th><th scope=col>BLOOD</th><th scope=col>MORT</th></tr>\n",
       "\t<tr><th></th><th scope=col>&lt;int&gt;</th><th scope=col>&lt;int&gt;</th><th scope=col>&lt;int&gt;</th><th scope=col>&lt;int&gt;</th><th scope=col>&lt;chr&gt;</th><th scope=col>&lt;chr&gt;</th><th scope=col>&lt;chr&gt;</th></tr>\n",
       "</thead>\n",
       "<tbody>\n",
       "\t<tr><th scope=row>1</th><td>20</td><td>176</td><td>77</td><td>195</td><td>nonsmo</td><td>b</td><td>alive</td></tr>\n",
       "\t<tr><th scope=row>2</th><td>53</td><td>167</td><td>56</td><td>250</td><td>sigare</td><td>o</td><td>dead </td></tr>\n",
       "\t<tr><th scope=row>3</th><td>44</td><td>170</td><td>80</td><td>304</td><td>sigare</td><td>a</td><td>dead </td></tr>\n",
       "\t<tr><th scope=row>4</th><td>37</td><td>173</td><td>89</td><td>178</td><td>nonsmo</td><td>o</td><td>alive</td></tr>\n",
       "\t<tr><th scope=row>5</th><td>26</td><td>170</td><td>71</td><td>206</td><td>sigare</td><td>o</td><td>alive</td></tr>\n",
       "\t<tr><th scope=row>6</th><td>41</td><td>165</td><td>62</td><td>284</td><td>sigare</td><td>o</td><td>alive</td></tr>\n",
       "</tbody>\n",
       "</table>\n"
      ],
      "text/latex": [
       "A data.frame: 6 × 7\n",
       "\\begin{tabular}{r|lllllll}\n",
       "  & AGE & HEIGHT & WEIGHT & CHOL & SMOKE & BLOOD & MORT\\\\\n",
       "  & <int> & <int> & <int> & <int> & <chr> & <chr> & <chr>\\\\\n",
       "\\hline\n",
       "\t1 & 20 & 176 & 77 & 195 & nonsmo & b & alive\\\\\n",
       "\t2 & 53 & 167 & 56 & 250 & sigare & o & dead \\\\\n",
       "\t3 & 44 & 170 & 80 & 304 & sigare & a & dead \\\\\n",
       "\t4 & 37 & 173 & 89 & 178 & nonsmo & o & alive\\\\\n",
       "\t5 & 26 & 170 & 71 & 206 & sigare & o & alive\\\\\n",
       "\t6 & 41 & 165 & 62 & 284 & sigare & o & alive\\\\\n",
       "\\end{tabular}\n"
      ],
      "text/markdown": [
       "\n",
       "A data.frame: 6 × 7\n",
       "\n",
       "| <!--/--> | AGE &lt;int&gt; | HEIGHT &lt;int&gt; | WEIGHT &lt;int&gt; | CHOL &lt;int&gt; | SMOKE &lt;chr&gt; | BLOOD &lt;chr&gt; | MORT &lt;chr&gt; |\n",
       "|---|---|---|---|---|---|---|---|\n",
       "| 1 | 20 | 176 | 77 | 195 | nonsmo | b | alive |\n",
       "| 2 | 53 | 167 | 56 | 250 | sigare | o | dead  |\n",
       "| 3 | 44 | 170 | 80 | 304 | sigare | a | dead  |\n",
       "| 4 | 37 | 173 | 89 | 178 | nonsmo | o | alive |\n",
       "| 5 | 26 | 170 | 71 | 206 | sigare | o | alive |\n",
       "| 6 | 41 | 165 | 62 | 284 | sigare | o | alive |\n",
       "\n"
      ],
      "text/plain": [
       "  AGE HEIGHT WEIGHT CHOL SMOKE  BLOOD MORT \n",
       "1 20  176    77     195  nonsmo b     alive\n",
       "2 53  167    56     250  sigare o     dead \n",
       "3 44  170    80     304  sigare a     dead \n",
       "4 37  173    89     178  nonsmo o     alive\n",
       "5 26  170    71     206  sigare o     alive\n",
       "6 41  165    62     284  sigare o     alive"
      ]
     },
     "metadata": {},
     "output_type": "display_data"
    }
   ],
   "source": [
    "head(chol)"
   ]
  },
  {
   "cell_type": "code",
   "execution_count": 5,
   "metadata": {},
   "outputs": [
    {
     "data": {
      "text/plain": [
       "      AGE            HEIGHT          WEIGHT            CHOL      \n",
       " Min.   :18.00   Min.   :156.0   Min.   : 53.00   Min.   :107.0  \n",
       " 1st Qu.:28.75   1st Qu.:168.0   1st Qu.: 68.75   1st Qu.:204.0  \n",
       " Median :37.00   Median :172.0   Median : 75.00   Median :232.0  \n",
       " Mean   :35.72   Mean   :172.3   Mean   : 75.89   Mean   :233.6  \n",
       " 3rd Qu.:42.00   3rd Qu.:176.0   3rd Qu.: 82.00   3rd Qu.:259.0  \n",
       " Max.   :58.00   Max.   :191.0   Max.   :110.00   Max.   :455.0  \n",
       "    SMOKE              BLOOD               MORT          \n",
       " Length:200         Length:200         Length:200        \n",
       " Class :character   Class :character   Class :character  \n",
       " Mode  :character   Mode  :character   Mode  :character  \n",
       "                                                         \n",
       "                                                         \n",
       "                                                         "
      ]
     },
     "metadata": {},
     "output_type": "display_data"
    }
   ],
   "source": [
    "summary(chol)"
   ]
  },
  {
   "cell_type": "code",
   "execution_count": 6,
   "metadata": {},
   "outputs": [
    {
     "name": "stdout",
     "output_type": "stream",
     "text": [
      "'data.frame':\t200 obs. of  7 variables:\n",
      " $ AGE   : int  20 53 44 37 26 41 39 28 33 39 ...\n",
      " $ HEIGHT: int  176 167 170 173 170 165 174 171 180 166 ...\n",
      " $ WEIGHT: int  77 56 80 89 71 62 75 68 100 74 ...\n",
      " $ CHOL  : int  195 250 304 178 206 284 232 152 209 150 ...\n",
      " $ SMOKE : chr  \"nonsmo\" \"sigare\" \"sigare\" \"nonsmo\" ...\n",
      " $ BLOOD : chr  \"b\" \"o\" \"a\" \"o\" ...\n",
      " $ MORT  : chr  \"alive\" \"dead\" \"dead\" \"alive\" ...\n"
     ]
    }
   ],
   "source": [
    "str(chol)"
   ]
  },
  {
   "cell_type": "code",
   "execution_count": 7,
   "metadata": {},
   "outputs": [
    {
     "data": {
      "image/png": "[encoded data removed]",
      "text/plain": [
       "plot without title"
      ]
     },
     "metadata": {
      "image/png": {
       "height": 420,
       "width": 420
      }
     },
     "output_type": "display_data"
    }
   ],
   "source": [
    "ggplot(data = chol, aes(AGE)) + geom_histogram(bins = 30)"
   ]
  },
  {
   "cell_type": "code",
   "execution_count": 8,
   "metadata": {},
   "outputs": [
    {
     "name": "stderr",
     "output_type": "stream",
     "text": [
      "Warning message:\n",
      "\"Removed 6 rows containing non-finite values (stat_bin).\"\n"
     ]
    },
    {
     "data": {
      "image/png": "[encoded data removed]",
      "text/plain": [
       "plot without title"
      ]
     },
     "metadata": {
      "image/png": {
       "height": 420,
       "width": 420
      }
     },
     "output_type": "display_data"
    }
   ],
   "source": [
    "ggplot(data = chol, aes(AGE)) + \n",
    "geom_histogram(breaks = seq(20, 50, by = 2), col = \"red\", fill = \"green\", alpha = 0.2) + \n",
    "labs(title = \"Histogram for Age\", x = \"Age\", y = \"Count\") +\n",
    "xlim(c(18, 52)) + \n",
    "ylim(c(0, 30))"
   ]
  },
  {
   "cell_type": "code",
   "execution_count": 9,
   "metadata": {},
   "outputs": [
    {
     "data": {
      "image/png": "[encoded data removed]",
      "text/plain": [
       "plot without title"
      ]
     },
     "metadata": {
      "image/png": {
       "height": 420,
       "width": 420
      }
     },
     "output_type": "display_data"
    }
   ],
   "source": [
    "ggplot(data = chol, aes(AGE)) + \n",
    "geom_histogram(breaks = seq(20, 50, by = 2), col = \"red\", fill = \"green\", alpha = 0.2)"
   ]
  }
 ],
 "metadata": {
  "kernelspec": {
   "display_name": "R",
   "language": "R",
   "name": "ir"
  },
  "language_info": {
   "codemirror_mode": "r",
   "file_extension": ".r",
   "mimetype": "text/x-r-source",
   "name": "R",
   "pygments_lexer": "r",
   "version": "4.0.3"
  }
 },
 "nbformat": 4,
 "nbformat_minor": 4
}
