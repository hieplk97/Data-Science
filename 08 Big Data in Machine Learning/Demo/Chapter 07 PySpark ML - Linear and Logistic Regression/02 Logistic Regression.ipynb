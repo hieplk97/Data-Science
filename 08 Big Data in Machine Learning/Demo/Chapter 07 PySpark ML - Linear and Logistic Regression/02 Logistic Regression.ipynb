{
 "cells": [
  {
   "cell_type": "code",
   "execution_count": 1,
   "id": "abandoned-macro",
   "metadata": {},
   "outputs": [],
   "source": [
    "import findspark\n",
    "findspark.init()"
   ]
  },
  {
   "cell_type": "code",
   "execution_count": 2,
   "id": "potential-passage",
   "metadata": {},
   "outputs": [],
   "source": [
    "from pyspark import SparkContext\n",
    "from pyspark.conf import SparkConf\n",
    "from pyspark.sql import SparkSession\n",
    "from pyspark.sql.functions import round\n",
    "# Import VectorAssembler and Vectors\n",
    "from pyspark.ml.linalg import Vectors\n",
    "from pyspark.ml.feature import VectorAssembler\n",
    "from pyspark.ml.classification import LogisticRegression\n",
    "from pyspark.sql.functions import corr"
   ]
  },
  {
   "cell_type": "code",
   "execution_count": 3,
   "id": "broke-circulation",
   "metadata": {},
   "outputs": [],
   "source": [
    "sc = SparkContext()\n",
    "spark = SparkSession(sc)"
   ]
  },
  {
   "cell_type": "markdown",
   "id": "average-jesus",
   "metadata": {},
   "source": [
    "### Chuẩn bị và chuẩn hóa dữ liệu, xác định inputs, output"
   ]
  },
  {
   "cell_type": "code",
   "execution_count": 4,
   "id": "oriented-month",
   "metadata": {},
   "outputs": [],
   "source": [
    "# Use Spark to read in the flights csv file\n",
    "data = spark.read.csv([\"../../Data/flights.csv\"], header=True, inferSchema=True)"
   ]
  },
  {
   "cell_type": "code",
   "execution_count": 5,
   "id": "settled-reservation",
   "metadata": {},
   "outputs": [
    {
     "name": "stdout",
     "output_type": "stream",
     "text": [
      "root\n",
      " |-- mon: integer (nullable = true)\n",
      " |-- dom: integer (nullable = true)\n",
      " |-- dow: integer (nullable = true)\n",
      " |-- carrier: string (nullable = true)\n",
      " |-- flight: integer (nullable = true)\n",
      " |-- org: string (nullable = true)\n",
      " |-- mile: integer (nullable = true)\n",
      " |-- depart: double (nullable = true)\n",
      " |-- duration: integer (nullable = true)\n",
      " |-- delay: string (nullable = true)\n",
      "\n"
     ]
    }
   ],
   "source": [
    "# Print the Schema of the DataFrame\n",
    "data.printSchema()"
   ]
  },
  {
   "cell_type": "code",
   "execution_count": 6,
   "id": "gentle-drain",
   "metadata": {},
   "outputs": [
    {
     "name": "stdout",
     "output_type": "stream",
     "text": [
      "+---+---+---+-------+------+---+----+------+--------+-----+\n",
      "|mon|dom|dow|carrier|flight|org|mile|depart|duration|delay|\n",
      "+---+---+---+-------+------+---+----+------+--------+-----+\n",
      "| 11| 20|  6|     US|    19|JFK|2153|  9.48|     351|   NA|\n",
      "|  0| 22|  2|     UA|  1107|ORD| 316| 16.33|      82|   30|\n",
      "|  2| 20|  4|     UA|   226|SFO| 337|  6.17|      82|   -8|\n",
      "+---+---+---+-------+------+---+----+------+--------+-----+\n",
      "only showing top 3 rows\n",
      "\n"
     ]
    }
   ],
   "source": [
    "data.show(3)"
   ]
  },
  {
   "cell_type": "code",
   "execution_count": 7,
   "id": "digital-convergence",
   "metadata": {},
   "outputs": [],
   "source": [
    "# Convert 'mile' to 'km'\n",
    "data = data.withColumn('km', round(data.mile * 1.60934, 0))"
   ]
  },
  {
   "cell_type": "code",
   "execution_count": 8,
   "id": "broke-murder",
   "metadata": {},
   "outputs": [],
   "source": [
    "# Create 'label' column indicating whether flight delayed (1) or not (0)\n",
    "data = data.withColumn('label', (data.delay >=15).cast('integer'))"
   ]
  },
  {
   "cell_type": "code",
   "execution_count": 9,
   "id": "aware-crossing",
   "metadata": {},
   "outputs": [
    {
     "data": {
      "text/plain": [
       "['mon',\n",
       " 'dom',\n",
       " 'dow',\n",
       " 'carrier',\n",
       " 'flight',\n",
       " 'org',\n",
       " 'mile',\n",
       " 'depart',\n",
       " 'duration',\n",
       " 'delay',\n",
       " 'km',\n",
       " 'label']"
      ]
     },
     "execution_count": 9,
     "metadata": {},
     "output_type": "execute_result"
    }
   ],
   "source": [
    "data.columns"
   ]
  },
  {
   "cell_type": "code",
   "execution_count": 10,
   "id": "modular-germany",
   "metadata": {},
   "outputs": [
    {
     "name": "stdout",
     "output_type": "stream",
     "text": [
      "+---+---+---+-------+------+---+----+------+--------+-----+------+-----+\n",
      "|mon|dom|dow|carrier|flight|org|mile|depart|duration|delay|    km|label|\n",
      "+---+---+---+-------+------+---+----+------+--------+-----+------+-----+\n",
      "| 11| 20|  6|     US|    19|JFK|2153|  9.48|     351|   NA|3465.0| null|\n",
      "|  0| 22|  2|     UA|  1107|ORD| 316| 16.33|      82|   30| 509.0|    1|\n",
      "|  2| 20|  4|     UA|   226|SFO| 337|  6.17|      82|   -8| 542.0|    0|\n",
      "+---+---+---+-------+------+---+----+------+--------+-----+------+-----+\n",
      "only showing top 3 rows\n",
      "\n"
     ]
    }
   ],
   "source": [
    "data.show(3)"
   ]
  },
  {
   "cell_type": "code",
   "execution_count": 11,
   "id": "rubber-secret",
   "metadata": {},
   "outputs": [],
   "source": [
    "from pyspark.ml.feature import StringIndexer"
   ]
  },
  {
   "cell_type": "code",
   "execution_count": 12,
   "id": "difficult-medicare",
   "metadata": {},
   "outputs": [],
   "source": [
    "# Create an indexer\n",
    "indexer = StringIndexer(inputCol='carrier', outputCol='carrier_idx')\n",
    "# Indexer identifies categories in the data\n",
    "indexer_model = indexer.fit(data)\n",
    "# Indexer creates a new column with numeric index values\n",
    "data_indexed = indexer_model.transform(data)\n",
    "# Repeat the process for the other categorical feature\n",
    "data_indexed = StringIndexer(inputCol='org', outputCol='org_idx').fit(data_indexed).transform(data_indexed)"
   ]
  },
  {
   "cell_type": "code",
   "execution_count": 13,
   "id": "emerging-cholesterol",
   "metadata": {},
   "outputs": [],
   "source": [
    "# Onehot for carrier and org"
   ]
  },
  {
   "cell_type": "code",
   "execution_count": 14,
   "id": "african-lesbian",
   "metadata": {},
   "outputs": [
    {
     "name": "stdout",
     "output_type": "stream",
     "text": [
      "+---+---+---+-------+------+---+----+------+--------+-----+------+-----+-----------+-------+\n",
      "|mon|dom|dow|carrier|flight|org|mile|depart|duration|delay|    km|label|carrier_idx|org_idx|\n",
      "+---+---+---+-------+------+---+----+------+--------+-----+------+-----+-----------+-------+\n",
      "| 11| 20|  6|     US|    19|JFK|2153|  9.48|     351|   NA|3465.0| null|        6.0|    2.0|\n",
      "|  0| 22|  2|     UA|  1107|ORD| 316| 16.33|      82|   30| 509.0|    1|        0.0|    0.0|\n",
      "|  2| 20|  4|     UA|   226|SFO| 337|  6.17|      82|   -8| 542.0|    0|        0.0|    1.0|\n",
      "+---+---+---+-------+------+---+----+------+--------+-----+------+-----+-----------+-------+\n",
      "only showing top 3 rows\n",
      "\n"
     ]
    }
   ],
   "source": [
    "data_indexed.show(3)"
   ]
  },
  {
   "cell_type": "code",
   "execution_count": 15,
   "id": "adequate-person",
   "metadata": {},
   "outputs": [],
   "source": [
    "assembler = VectorAssembler(inputCols=[\"mon\", \"dom\", \"dow\", \"carrier_idx\", \"km\", \"depart\", \"duration\"],\n",
    "                            outputCol=\"features\")"
   ]
  },
  {
   "cell_type": "code",
   "execution_count": 16,
   "id": "incomplete-venezuela",
   "metadata": {},
   "outputs": [],
   "source": [
    "data_pre = assembler.transform(data_indexed)"
   ]
  },
  {
   "cell_type": "code",
   "execution_count": 17,
   "id": "retired-subject",
   "metadata": {},
   "outputs": [
    {
     "name": "stdout",
     "output_type": "stream",
     "text": [
      "+---+---+---+-------+------+---+----+------+--------+-----+------+-----+-----------+-------+-------------------------------------+\n",
      "|mon|dom|dow|carrier|flight|org|mile|depart|duration|delay|km    |label|carrier_idx|org_idx|features                             |\n",
      "+---+---+---+-------+------+---+----+------+--------+-----+------+-----+-----------+-------+-------------------------------------+\n",
      "|11 |20 |6  |US     |19    |JFK|2153|9.48  |351     |NA   |3465.0|null |6.0        |2.0    |[11.0,20.0,6.0,6.0,3465.0,9.48,351.0]|\n",
      "|0  |22 |2  |UA     |1107  |ORD|316 |16.33 |82      |30   |509.0 |1    |0.0        |0.0    |[0.0,22.0,2.0,0.0,509.0,16.33,82.0]  |\n",
      "+---+---+---+-------+------+---+----+------+--------+-----+------+-----+-----------+-------+-------------------------------------+\n",
      "only showing top 2 rows\n",
      "\n"
     ]
    }
   ],
   "source": [
    "data_pre.show(2, False)"
   ]
  },
  {
   "cell_type": "code",
   "execution_count": 18,
   "id": "durable-sierra",
   "metadata": {},
   "outputs": [],
   "source": [
    "data_unknown_delay = data_pre[data_pre['delay']=='NA']"
   ]
  },
  {
   "cell_type": "code",
   "execution_count": 19,
   "id": "dimensional-kingdom",
   "metadata": {},
   "outputs": [
    {
     "data": {
      "text/plain": [
       "2978"
      ]
     },
     "execution_count": 19,
     "metadata": {},
     "output_type": "execute_result"
    }
   ],
   "source": [
    "data_unknown_delay.count()"
   ]
  },
  {
   "cell_type": "code",
   "execution_count": 20,
   "id": "satellite-edition",
   "metadata": {},
   "outputs": [],
   "source": [
    "data_known_delay = data_pre[data_pre['delay']!='NA']"
   ]
  },
  {
   "cell_type": "code",
   "execution_count": 21,
   "id": "chubby-battle",
   "metadata": {},
   "outputs": [
    {
     "data": {
      "text/plain": [
       "47022"
      ]
     },
     "execution_count": 21,
     "metadata": {},
     "output_type": "execute_result"
    }
   ],
   "source": [
    "data_known_delay.count()"
   ]
  },
  {
   "cell_type": "code",
   "execution_count": 22,
   "id": "signal-helmet",
   "metadata": {},
   "outputs": [
    {
     "data": {
      "text/plain": [
       "47022"
      ]
     },
     "execution_count": 22,
     "metadata": {},
     "output_type": "execute_result"
    }
   ],
   "source": [
    "final_data = data_known_delay.select('features', 'label')\n",
    "final_data.count()"
   ]
  },
  {
   "cell_type": "code",
   "execution_count": 23,
   "id": "overall-consistency",
   "metadata": {},
   "outputs": [
    {
     "data": {
      "text/plain": [
       "47022"
      ]
     },
     "execution_count": 23,
     "metadata": {},
     "output_type": "execute_result"
    }
   ],
   "source": [
    "final_data.na.drop()\n",
    "final_data.count()"
   ]
  },
  {
   "cell_type": "code",
   "execution_count": 24,
   "id": "desperate-share",
   "metadata": {},
   "outputs": [
    {
     "name": "stdout",
     "output_type": "stream",
     "text": [
      "+-------------------------------------+-----+\n",
      "|features                             |label|\n",
      "+-------------------------------------+-----+\n",
      "|[0.0,22.0,2.0,0.0,509.0,16.33,82.0]  |1    |\n",
      "|[2.0,20.0,4.0,0.0,542.0,6.17,82.0]   |0    |\n",
      "|[9.0,13.0,1.0,1.0,1989.0,10.33,195.0]|0    |\n",
      "+-------------------------------------+-----+\n",
      "only showing top 3 rows\n",
      "\n"
     ]
    }
   ],
   "source": [
    "final_data.show(3, truncate=False)"
   ]
  },
  {
   "cell_type": "markdown",
   "id": "treated-vancouver",
   "metadata": {},
   "source": [
    "### Chuẩn bị train/test dataset"
   ]
  },
  {
   "cell_type": "code",
   "execution_count": 25,
   "id": "given-trance",
   "metadata": {},
   "outputs": [],
   "source": [
    "train_data, test_data = final_data.randomSplit([0.8, 0.2])"
   ]
  },
  {
   "cell_type": "code",
   "execution_count": 26,
   "id": "third-chicken",
   "metadata": {},
   "outputs": [
    {
     "name": "stdout",
     "output_type": "stream",
     "text": [
      "+-------+-------------------+\n",
      "|summary|              label|\n",
      "+-------+-------------------+\n",
      "|  count|              37626|\n",
      "|   mean| 0.5100993993515123|\n",
      "| stddev|0.49990463484559083|\n",
      "|    min|                  0|\n",
      "|    max|                  1|\n",
      "+-------+-------------------+\n",
      "\n"
     ]
    }
   ],
   "source": [
    "train_data.describe().show()"
   ]
  },
  {
   "cell_type": "code",
   "execution_count": 27,
   "id": "unusual-removal",
   "metadata": {},
   "outputs": [
    {
     "name": "stdout",
     "output_type": "stream",
     "text": [
      "+-------+------------------+\n",
      "|summary|             label|\n",
      "+-------+------------------+\n",
      "|  count|              9396|\n",
      "|   mean|0.5161770966368667|\n",
      "| stddev|0.4997648282824691|\n",
      "|    min|                 0|\n",
      "|    max|                 1|\n",
      "+-------+------------------+\n",
      "\n"
     ]
    }
   ],
   "source": [
    "test_data.describe().show()"
   ]
  },
  {
   "cell_type": "markdown",
   "id": "russian-demand",
   "metadata": {},
   "source": [
    "### Xây dựng model với train dataset"
   ]
  },
  {
   "cell_type": "code",
   "execution_count": 28,
   "id": "theoretical-exclusion",
   "metadata": {},
   "outputs": [],
   "source": [
    "# Create a Logistic Regression Model object\n",
    "logistic = LogisticRegression(featuresCol='features',\n",
    "                      labelCol='label',\n",
    "                      predictionCol='prediction')"
   ]
  },
  {
   "cell_type": "code",
   "execution_count": 29,
   "id": "immediate-sampling",
   "metadata": {},
   "outputs": [],
   "source": [
    "# Fit the model to the data and call this model lrModel\n",
    "logisticModel = logistic.fit(train_data)"
   ]
  },
  {
   "cell_type": "code",
   "execution_count": 30,
   "id": "handy-footwear",
   "metadata": {},
   "outputs": [
    {
     "name": "stdout",
     "output_type": "stream",
     "text": [
      "+-----+----------+-----+\n",
      "|label|prediction|count|\n",
      "+-----+----------+-----+\n",
      "|    1|       0.0| 1844|\n",
      "|    0|       0.0| 2534|\n",
      "|    1|       1.0| 3006|\n",
      "|    0|       1.0| 2012|\n",
      "+-----+----------+-----+\n",
      "\n"
     ]
    }
   ],
   "source": [
    "# Create predictions for the testing data and show confutsion matrix\n",
    "test_model = logisticModel.transform(test_data)\n",
    "test_model.groupBy('label', 'prediction').count().show()"
   ]
  },
  {
   "cell_type": "markdown",
   "id": "czech-breast",
   "metadata": {},
   "source": [
    "### Đánh giá model với test dataset"
   ]
  },
  {
   "cell_type": "code",
   "execution_count": 31,
   "id": "royal-tractor",
   "metadata": {},
   "outputs": [],
   "source": [
    "from pyspark.ml.evaluation import MulticlassClassificationEvaluator, BinaryClassificationEvaluator"
   ]
  },
  {
   "cell_type": "code",
   "execution_count": 32,
   "id": "strategic-messenger",
   "metadata": {},
   "outputs": [],
   "source": [
    "# Calculate the elements of the confusion matrix\n",
    "TN = test_model.filter('prediction = 0 AND label = prediction').count()\n",
    "TP = test_model.filter('prediction = 1 AND label = prediction').count()\n",
    "FN = test_model.filter('prediction = 0 AND label != prediction').count()\n",
    "FP = test_model.filter('prediction = 1 AND label != prediction').count()"
   ]
  },
  {
   "cell_type": "code",
   "execution_count": 33,
   "id": "relevant-stream",
   "metadata": {},
   "outputs": [
    {
     "name": "stdout",
     "output_type": "stream",
     "text": [
      "precision = 0.60\n",
      "recall = 0.62\n",
      "acc=0.59\n"
     ]
    }
   ],
   "source": [
    "acc = (TP + TN) / (TP + TN + FP + FN)\n",
    "# Calculate precision and recall\n",
    "precision = TP / (TP + FP)\n",
    "recall = TP / (TP + FN)\n",
    "print('precision = {:.2f}\\nrecall = {:.2f}\\nacc={:.2f}'.format(precision, recall, acc))"
   ]
  },
  {
   "cell_type": "code",
   "execution_count": 34,
   "id": "historical-violation",
   "metadata": {},
   "outputs": [],
   "source": [
    "# Find weighted precision\n",
    "multi_evaluator = MulticlassClassificationEvaluator()\n",
    "weighted_precision = multi_evaluator.evaluate(test_model,\n",
    "                                              {multi_evaluator.metricName:'weightedPrecision'})\n"
   ]
  },
  {
   "cell_type": "code",
   "execution_count": 35,
   "id": "waiting-carol",
   "metadata": {},
   "outputs": [
    {
     "data": {
      "text/plain": [
       "0.5892507049123914"
      ]
     },
     "execution_count": 35,
     "metadata": {},
     "output_type": "execute_result"
    }
   ],
   "source": [
    "weighted_precision"
   ]
  },
  {
   "cell_type": "code",
   "execution_count": 36,
   "id": "collected-james",
   "metadata": {},
   "outputs": [],
   "source": [
    "# Find AUC\n",
    "binary_evaluator = BinaryClassificationEvaluator()\n",
    "auc = binary_evaluator.evaluate(test_model, {binary_evaluator.metricName: \"areaUnderROC\"})"
   ]
  },
  {
   "cell_type": "code",
   "execution_count": 37,
   "id": "durable-lucas",
   "metadata": {},
   "outputs": [
    {
     "data": {
      "text/plain": [
       "0.6271550383026208"
      ]
     },
     "execution_count": 37,
     "metadata": {},
     "output_type": "execute_result"
    }
   ],
   "source": [
    "auc"
   ]
  },
  {
   "cell_type": "markdown",
   "id": "separate-restriction",
   "metadata": {},
   "source": [
    "### Lưu trữ và tải model"
   ]
  },
  {
   "cell_type": "code",
   "execution_count": 38,
   "id": "balanced-submission",
   "metadata": {},
   "outputs": [],
   "source": [
    "# Save Model\n",
    "logisticModel.save('logisticModel_Flights_50k')"
   ]
  },
  {
   "cell_type": "code",
   "execution_count": 39,
   "id": "hairy-transmission",
   "metadata": {},
   "outputs": [],
   "source": [
    "from pyspark.ml.classification import LogisticRegressionModel\n",
    "# Load model from\n",
    "logisticModel2 = LogisticRegressionModel.load('logisticModel_Flights_50k')"
   ]
  },
  {
   "cell_type": "markdown",
   "id": "dental-keeping",
   "metadata": {},
   "source": [
    "### Dự đoán dữ liệu mới"
   ]
  },
  {
   "cell_type": "code",
   "execution_count": 40,
   "id": "listed-locator",
   "metadata": {},
   "outputs": [],
   "source": [
    "# Predict new values (Assuming select test_data)\n",
    "unlabeled_data = test_data.select('features')"
   ]
  },
  {
   "cell_type": "code",
   "execution_count": 41,
   "id": "synthetic-retro",
   "metadata": {},
   "outputs": [],
   "source": [
    "predictions = logisticModel2.transform(unlabeled_data)"
   ]
  },
  {
   "cell_type": "code",
   "execution_count": 42,
   "id": "guilty-haven",
   "metadata": {},
   "outputs": [
    {
     "name": "stdout",
     "output_type": "stream",
     "text": [
      "+--------------------+--------------------+--------------------+----------+\n",
      "|            features|       rawPrediction|         probability|prediction|\n",
      "+--------------------+--------------------+--------------------+----------+\n",
      "|[0.0,1.0,2.0,0.0,...|[-0.3600446722001...|[0.41094875210439...|       1.0|\n",
      "|[0.0,1.0,2.0,0.0,...|[-0.3696260500817...|[0.40863138414061...|       1.0|\n",
      "|[0.0,1.0,2.0,0.0,...|[-0.4674880060336...|[0.38521097095670...|       1.0|\n",
      "|[0.0,1.0,2.0,0.0,...|[-0.9672704855702...|[0.27542488650185...|       1.0|\n",
      "|[0.0,1.0,2.0,0.0,...|[-0.3421460501203...|[0.41528827020268...|       1.0|\n",
      "+--------------------+--------------------+--------------------+----------+\n",
      "only showing top 5 rows\n",
      "\n"
     ]
    }
   ],
   "source": [
    "predictions.show(5)"
   ]
  }
 ],
 "metadata": {
  "kernelspec": {
   "display_name": "Python 3",
   "language": "python",
   "name": "python3"
  },
  "language_info": {
   "codemirror_mode": {
    "name": "ipython",
    "version": 3
   },
   "file_extension": ".py",
   "mimetype": "text/x-python",
   "name": "python",
   "nbconvert_exporter": "python",
   "pygments_lexer": "ipython3",
   "version": "3.8.3"
  }
 },
 "nbformat": 4,
 "nbformat_minor": 5
}
