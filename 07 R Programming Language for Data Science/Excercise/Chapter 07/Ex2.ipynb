{
 "cells": [
  {
   "cell_type": "code",
   "execution_count": 1,
   "metadata": {},
   "outputs": [
    {
     "name": "stdout",
     "output_type": "stream",
     "text": [
      "[1] \"Matrix B\"\n",
      "  x y  z\n",
      "a 1 5  9\n",
      "b 2 6 10\n",
      "c 3 7 11\n",
      "d 4 8 12\n"
     ]
    }
   ],
   "source": [
    "rownames = c(\"a\", \"b\", \"c\", \"d\")\n",
    "colnames = c(\"x\", \"y\", \"z\")\n",
    "\n",
    "matrix_B = matrix(c(1:12), nrow=4, dimnames=list(rownames, colnames))\n",
    "print(\"Matrix B\")\n",
    "print(matrix_B)"
   ]
  },
  {
   "cell_type": "code",
   "execution_count": 2,
   "metadata": {},
   "outputs": [
    {
     "name": "stdout",
     "output_type": "stream",
     "text": [
      "[1] \"Transpose of Matrix B\"\n",
      "  a  b  c  d\n",
      "x 1  2  3  4\n",
      "y 5  6  7  8\n",
      "z 9 10 11 12\n"
     ]
    }
   ],
   "source": [
    "t_matrix_B = t(matrix_B)\n",
    "print(\"Transpose of Matrix B\")\n",
    "print(t_matrix_B)"
   ]
  },
  {
   "cell_type": "code",
   "execution_count": 3,
   "metadata": {},
   "outputs": [
    {
     "name": "stdout",
     "output_type": "stream",
     "text": [
      "[1] \"Sub of Matrix B:\"\n",
      "  x y  z\n",
      "b 2 6 10\n",
      "c 3 7 11\n",
      "d 4 8 12\n"
     ]
    }
   ],
   "source": [
    "sub_b = matrix_B[2: dim(matrix_B)[1], 1:3]\n",
    "print(\"Sub of Matrix B:\")\n",
    "print(sub_b)"
   ]
  },
  {
   "cell_type": "code",
   "execution_count": 4,
   "metadata": {},
   "outputs": [
    {
     "name": "stdout",
     "output_type": "stream",
     "text": [
      "[1] \"Matrix A:\"\n",
      "  x y z\n",
      "a 1 4 7\n",
      "b 2 5 8\n",
      "c 3 6 9\n"
     ]
    }
   ],
   "source": [
    "matrix_A = matrix(data = c(1:9), nrow = 3, dimnames=list(c(\"a\", \"b\", \"c\"), c(\"x\", \"y\", \"z\")))\n",
    "print(\"Matrix A:\")\n",
    "print(matrix_A)"
   ]
  },
  {
   "cell_type": "code",
   "execution_count": 5,
   "metadata": {},
   "outputs": [
    {
     "name": "stdout",
     "output_type": "stream",
     "text": [
      "[1] \"3*A:\"\n",
      "  x  y  z\n",
      "a 3 12 21\n",
      "b 6 15 24\n",
      "c 9 18 27\n"
     ]
    }
   ],
   "source": [
    "A3 = matrix_A * 3\n",
    "print(\"3*A:\")\n",
    "print(A3)"
   ]
  },
  {
   "cell_type": "code",
   "execution_count": 6,
   "metadata": {},
   "outputs": [
    {
     "name": "stdout",
     "output_type": "stream",
     "text": [
      "[1] \"A + subB: \"\n",
      "  x  y  z\n",
      "a 3 10 17\n",
      "b 5 12 19\n",
      "c 7 14 21\n"
     ]
    }
   ],
   "source": [
    "A_plus_subB = matrix_A + sub_b\n",
    "print(\"A + subB: \")\n",
    "print(A_plus_subB)"
   ]
  },
  {
   "cell_type": "code",
   "execution_count": 7,
   "metadata": {},
   "outputs": [
    {
     "name": "stdout",
     "output_type": "stream",
     "text": [
      "[1] \"A - subB: \"\n",
      "   x  y  z\n",
      "a -1 -2 -3\n",
      "b -1 -2 -3\n",
      "c -1 -2 -3\n"
     ]
    }
   ],
   "source": [
    "A_minus_subB = matrix_A - sub_b\n",
    "print(\"A - subB: \")\n",
    "print(A_minus_subB)"
   ]
  }
 ],
 "metadata": {
  "kernelspec": {
   "display_name": "R",
   "language": "R",
   "name": "ir"
  },
  "language_info": {
   "codemirror_mode": "r",
   "file_extension": ".r",
   "mimetype": "text/x-r-source",
   "name": "R",
   "pygments_lexer": "r",
   "version": "4.0.3"
  }
 },
 "nbformat": 4,
 "nbformat_minor": 4
}
