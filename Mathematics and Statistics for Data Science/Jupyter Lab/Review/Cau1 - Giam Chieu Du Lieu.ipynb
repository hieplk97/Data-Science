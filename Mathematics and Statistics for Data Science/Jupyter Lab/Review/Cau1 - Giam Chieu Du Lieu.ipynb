{
 "cells": [
  {
   "cell_type": "raw",
   "metadata": {},
   "source": [
    "Tập tin Phan_lop.csv chứa những mẫu dữ liệu phân lớp cho các đối tượng thuộc về một trong 6 lớp\n",
    "(class): 0..5, dựa trên các thuộc tính f1, f2, …, f12 của đối tượng.\n",
    "1.1) Áp dụng phương pháp PCA để giảm xuống k chiều (2 < k < 12) so với dữ liệu gốc.\n",
    "Giải thích nguyên nhân (hay cơ sở) về số chiều được giảm.\n",
    "1.2) Giảm chiều xuống còn k = 2 và trực quan hóa dữ liệu. Nhận xét kết quả. "
   ]
  },
  {
   "cell_type": "code",
   "execution_count": 14,
   "metadata": {},
   "outputs": [],
   "source": [
    "import numpy as np\n",
    "import pandas as pd\n",
    "import matplotlib.pyplot as plt\n",
    "import seaborn as sns\n",
    "from sklearn.decomposition import PCA"
   ]
  },
  {
   "cell_type": "code",
   "execution_count": 15,
   "metadata": {},
   "outputs": [
    {
     "name": "stdout",
     "output_type": "stream",
     "text": [
      "                  f2        f3        f4        f5        f6         f7  \\\n",
      "f1                                                                        \n",
      "-2.403589  -0.218339 -3.015506  2.187585 -1.415101 -0.000049   2.920957   \n",
      "-0.922966   6.564721  8.542600 -3.676891  1.526910 -6.132242  -1.284702   \n",
      " 9.381326  -0.157043  9.674137  4.059390  9.150245 -8.320246  10.076978   \n",
      "-7.610665 -10.375051  0.398027 -6.178855  5.848558  2.276540  -1.726164   \n",
      " 8.586239  -4.265564  4.788978  4.309953  2.938052 -4.294121   6.980088   \n",
      "...              ...       ...       ...       ...       ...        ...   \n",
      " 0.524135   4.140446  6.229538  0.137718 -0.252875 -8.144991  -1.602937   \n",
      "-9.128910  -7.282920  1.372521 -5.363321  4.684697 -1.616469   0.641241   \n",
      " 3.526224   2.848010 -1.496572  5.462709 -0.677868  5.425266   6.118686   \n",
      " 7.330865  -2.770987 -1.274164  2.048654  7.471037  6.529903   1.263350   \n",
      "-6.661182  -6.327786  3.275519 -5.875129  3.596494 -0.324533   2.266511   \n",
      "\n",
      "                  f8         f9        f10       f11        f12  Class  \n",
      "f1                                                                      \n",
      "-2.403589  -4.165317  -2.237563   1.567810  4.056278  -5.816942      3  \n",
      "-0.922966  -7.841047  10.161966  -1.933277  8.959247  -2.492584      4  \n",
      " 9.381326 -11.596349  -2.900057  -1.890156  0.390029  -5.383296      0  \n",
      "-7.610665   9.378226   1.146725  -9.630693 -8.620247  -0.552103      2  \n",
      " 8.586239  -9.878268  -5.017204   0.154492  7.647917  -1.004416      0  \n",
      "...              ...        ...        ...       ...        ...    ...  \n",
      " 0.524135  -5.568923   8.181111  -3.792428  4.502907  -1.759760      4  \n",
      "-9.128910   4.508081  -1.502866  -9.527545 -5.824662  -0.717464      2  \n",
      " 3.526224  -7.167509  -0.147695  -0.357881  4.107631  -3.689545      3  \n",
      " 7.330865 -11.034663   4.980612  -3.089986  6.359668  10.593835      5  \n",
      "-6.661182  10.495465   3.139580 -11.372777 -5.839835  -1.815484      2  \n",
      "\n",
      "[1000 rows x 12 columns]\n"
     ]
    }
   ],
   "source": [
    "LDS3folder = 'E:\\Data Science\\Mathematics and Statistics for Data Science\\Review/'\n",
    "data = pd.read_csv(LDS3folder + 'Phan_lop.csv', index_col=0)\n",
    "print(data)"
   ]
  },
  {
   "cell_type": "code",
   "execution_count": 19,
   "metadata": {},
   "outputs": [
    {
     "name": "stdout",
     "output_type": "stream",
     "text": [
      "1.1) Chọn k dựa trên đồ thị biểu diễn phương sai tích lũy\n"
     ]
    },
    {
     "data": {
      "image/png": "[encoded data removed]",
      "text/plain": [
       "<Figure size 432x288 with 1 Axes>"
      ]
     },
     "metadata": {
      "needs_background": "light"
     },
     "output_type": "display_data"
    },
    {
     "name": "stdout",
     "output_type": "stream",
     "text": [
      "Phân tích chi tiết theo k:\n",
      "   * k =  1 --> phương sai tích lũy 40%\n",
      "   * k =  2 --> phương sai tích lũy 65%\n",
      "   * k =  3 --> phương sai tích lũy 81%\n",
      "   * k =  4 --> phương sai tích lũy 91%\n",
      "   * k =  5 --> phương sai tích lũy 94%\n",
      "   * k =  6 --> phương sai tích lũy 95%\n",
      "   * k =  7 --> phương sai tích lũy 96%\n",
      "   * k =  8 --> phương sai tích lũy 97%\n",
      "   * k =  9 --> phương sai tích lũy 98%\n",
      "   * k = 10 --> phương sai tích lũy 99%\n",
      "   * k = 11 --> phương sai tích lũy 100%\n",
      "   * k = 12 --> phương sai tích lũy 100%\n"
     ]
    }
   ],
   "source": [
    "print('1.1) Chọn k dựa trên đồ thị biểu diễn phương sai tích lũy')\n",
    "pca = PCA().fit(data)\n",
    "\n",
    "# Vẽ đồ thị biểu diễn % phương sai tích lũy theo số features\n",
    "plt.figure()\n",
    "plt.plot(np.cumsum(pca.explained_variance_ratio_))\n",
    "plt.xlabel('Số lượng features')\n",
    "plt.ylabel('Variance (%)')\n",
    "plt.title('Đồ thị biểu diễn % phương sai tích lũy theo số features')\n",
    "plt.show()\n",
    "\n",
    "# Nhận xét:\n",
    "#   - #f =  0: giữ lại    0%  phương sai so với dữ liệu gốc\n",
    "#   - #f =  3: giữ lại ~ 81%  phương sai so với dữ liệu gốc\n",
    "#   - #f >  3: giữ lại > 81%  phương sai so với dữ liệu gốc\n",
    "#   - #f = 12: giữ lại   100% phương sai so với dữ liệu gốc\n",
    "#\n",
    "\n",
    "print('Phân tích chi tiết theo k:')\n",
    "for k in range(1, 13):\n",
    "    pca = PCA(k)\n",
    "    pca.fit(data)\n",
    "\n",
    "    var = pca.explained_variance_ratio_.sum() * 100\n",
    "    print('   * k = %2d' % k, '--> phương sai tích lũy %.0f%%' % var)"
   ]
  },
  {
   "cell_type": "code",
   "execution_count": 20,
   "metadata": {},
   "outputs": [
    {
     "name": "stdout",
     "output_type": "stream",
     "text": [
      "========================================================\n",
      "*** 1.2) Giảm chiều còn k = 2 và trực quan hóa dữ liệu ***\n",
      "========================================================\n",
      "- Ma trận B_T (1000, 2)\n",
      "   Component 1  Component 2\n",
      "0    -0.504533    -4.370844\n",
      "1    -4.766692    -6.504540\n",
      "2   -17.387562    -5.655178\n",
      "3    -1.863891    22.704274\n",
      "4    -9.667137    -7.107461 \n",
      "\n"
     ]
    },
    {
     "data": {
      "text/plain": [
       "<Figure size 576x432 with 0 Axes>"
      ]
     },
     "metadata": {},
     "output_type": "display_data"
    },
    {
     "data": {
      "image/png": "[encoded data removed]",
      "text/plain": [
       "<Figure size 432x432 with 3 Axes>"
      ]
     },
     "metadata": {
      "needs_background": "light"
     },
     "output_type": "display_data"
    }
   ],
   "source": [
    "print('========================================================')\n",
    "print('*** 1.2) Giảm chiều còn k = 2 và trực quan hóa dữ liệu ***')\n",
    "print('========================================================')\n",
    "k = 2\n",
    "pca = PCA(k)\n",
    "pca.fit(data)\n",
    "\n",
    "# transform data\n",
    "B = pca.transform(data)\n",
    "print('- Ma trận B_T', B.shape)\n",
    "\n",
    "principalDf = pd.DataFrame(data=B, columns=['Component 1', 'Component 2'])\n",
    "print(principalDf.head(), '\\n')\n",
    "\n",
    "plt.figure(figsize=(8, 6))\n",
    "sns.jointplot(x='Component 1', y='Component 2', data=principalDf)\n",
    "plt.show()"
   ]
  },
  {
   "cell_type": "code",
   "execution_count": null,
   "metadata": {},
   "outputs": [],
   "source": []
  }
 ],
 "metadata": {
  "kernelspec": {
   "display_name": "Python 3",
   "language": "python",
   "name": "python3"
  },
  "language_info": {
   "codemirror_mode": {
    "name": "ipython",
    "version": 3
   },
   "file_extension": ".py",
   "mimetype": "text/x-python",
   "name": "python",
   "nbconvert_exporter": "python",
   "pygments_lexer": "ipython3",
   "version": "3.8.5"
  }
 },
 "nbformat": 4,
 "nbformat_minor": 4
}
