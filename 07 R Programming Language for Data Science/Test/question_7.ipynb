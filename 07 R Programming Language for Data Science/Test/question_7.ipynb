{
 "cells": [
  {
   "cell_type": "code",
   "execution_count": 1,
   "metadata": {},
   "outputs": [
    {
     "name": "stderr",
     "output_type": "stream",
     "text": [
      "corrplot 0.84 loaded\n",
      "\n",
      "Loading required package: Rcpp\n",
      "\n",
      "## \n",
      "## Amelia II: Multiple Imputation\n",
      "## (Version 1.7.6, built: 2019-11-24)\n",
      "## Copyright (C) 2005-2021 James Honaker, Gary King and Matthew Blackwell\n",
      "## Refer to http://gking.harvard.edu/amelia/ for more information\n",
      "## \n",
      "\n",
      "Loading required package: lattice\n",
      "\n",
      "Loading required package: ggplot2\n",
      "\n",
      "Welcome! Want to learn more? See two factoextra-related books at https://goo.gl/ve3WBa\n",
      "\n"
     ]
    }
   ],
   "source": [
    "library(corrplot)\n",
    "library(Amelia)\n",
    "library(caret)\n",
    "library(ggplot2)\n",
    "library(gridExtra)\n",
    "library(factoextra)"
   ]
  },
  {
   "cell_type": "markdown",
   "metadata": {},
   "source": [
    "## Câu 1"
   ]
  },
  {
   "cell_type": "code",
   "execution_count": 2,
   "metadata": {},
   "outputs": [],
   "source": [
    "data = read.csv('data/attitude.csv')"
   ]
  },
  {
   "cell_type": "markdown",
   "metadata": {},
   "source": [
    "## Câu 2"
   ]
  },
  {
   "cell_type": "code",
   "execution_count": 3,
   "metadata": {},
   "outputs": [
    {
     "data": {
      "text/html": [
       "<table>\n",
       "<caption>A data.frame: 6 × 7</caption>\n",
       "<thead>\n",
       "\t<tr><th></th><th scope=col>rating</th><th scope=col>complaints</th><th scope=col>privileges</th><th scope=col>learning</th><th scope=col>raises</th><th scope=col>critical</th><th scope=col>advance</th></tr>\n",
       "\t<tr><th></th><th scope=col>&lt;int&gt;</th><th scope=col>&lt;int&gt;</th><th scope=col>&lt;int&gt;</th><th scope=col>&lt;int&gt;</th><th scope=col>&lt;int&gt;</th><th scope=col>&lt;int&gt;</th><th scope=col>&lt;int&gt;</th></tr>\n",
       "</thead>\n",
       "<tbody>\n",
       "\t<tr><th scope=row>1</th><td>43</td><td>51</td><td>30</td><td>39</td><td>61</td><td>92</td><td>45</td></tr>\n",
       "\t<tr><th scope=row>2</th><td>63</td><td>64</td><td>51</td><td>54</td><td>63</td><td>73</td><td>47</td></tr>\n",
       "\t<tr><th scope=row>3</th><td>71</td><td>70</td><td>68</td><td>69</td><td>76</td><td>86</td><td>48</td></tr>\n",
       "\t<tr><th scope=row>4</th><td>61</td><td>63</td><td>45</td><td>47</td><td>54</td><td>84</td><td>35</td></tr>\n",
       "\t<tr><th scope=row>5</th><td>81</td><td>78</td><td>56</td><td>66</td><td>71</td><td>83</td><td>47</td></tr>\n",
       "\t<tr><th scope=row>6</th><td>43</td><td>55</td><td>49</td><td>44</td><td>54</td><td>49</td><td>34</td></tr>\n",
       "</tbody>\n",
       "</table>\n"
      ],
      "text/latex": [
       "A data.frame: 6 × 7\n",
       "\\begin{tabular}{r|lllllll}\n",
       "  & rating & complaints & privileges & learning & raises & critical & advance\\\\\n",
       "  & <int> & <int> & <int> & <int> & <int> & <int> & <int>\\\\\n",
       "\\hline\n",
       "\t1 & 43 & 51 & 30 & 39 & 61 & 92 & 45\\\\\n",
       "\t2 & 63 & 64 & 51 & 54 & 63 & 73 & 47\\\\\n",
       "\t3 & 71 & 70 & 68 & 69 & 76 & 86 & 48\\\\\n",
       "\t4 & 61 & 63 & 45 & 47 & 54 & 84 & 35\\\\\n",
       "\t5 & 81 & 78 & 56 & 66 & 71 & 83 & 47\\\\\n",
       "\t6 & 43 & 55 & 49 & 44 & 54 & 49 & 34\\\\\n",
       "\\end{tabular}\n"
      ],
      "text/markdown": [
       "\n",
       "A data.frame: 6 × 7\n",
       "\n",
       "| <!--/--> | rating &lt;int&gt; | complaints &lt;int&gt; | privileges &lt;int&gt; | learning &lt;int&gt; | raises &lt;int&gt; | critical &lt;int&gt; | advance &lt;int&gt; |\n",
       "|---|---|---|---|---|---|---|---|\n",
       "| 1 | 43 | 51 | 30 | 39 | 61 | 92 | 45 |\n",
       "| 2 | 63 | 64 | 51 | 54 | 63 | 73 | 47 |\n",
       "| 3 | 71 | 70 | 68 | 69 | 76 | 86 | 48 |\n",
       "| 4 | 61 | 63 | 45 | 47 | 54 | 84 | 35 |\n",
       "| 5 | 81 | 78 | 56 | 66 | 71 | 83 | 47 |\n",
       "| 6 | 43 | 55 | 49 | 44 | 54 | 49 | 34 |\n",
       "\n"
      ],
      "text/plain": [
       "  rating complaints privileges learning raises critical advance\n",
       "1 43     51         30         39       61     92       45     \n",
       "2 63     64         51         54       63     73       47     \n",
       "3 71     70         68         69       76     86       48     \n",
       "4 61     63         45         47       54     84       35     \n",
       "5 81     78         56         66       71     83       47     \n",
       "6 43     55         49         44       54     49       34     "
      ]
     },
     "metadata": {},
     "output_type": "display_data"
    }
   ],
   "source": [
    "head(data)"
   ]
  },
  {
   "cell_type": "code",
   "execution_count": 4,
   "metadata": {},
   "outputs": [
    {
     "name": "stdout",
     "output_type": "stream",
     "text": [
      "'data.frame':\t30 obs. of  7 variables:\n",
      " $ rating    : int  43 63 71 61 81 43 58 71 72 67 ...\n",
      " $ complaints: int  51 64 70 63 78 55 67 75 82 61 ...\n",
      " $ privileges: int  30 51 68 45 56 49 42 50 72 45 ...\n",
      " $ learning  : int  39 54 69 47 66 44 56 55 67 47 ...\n",
      " $ raises    : int  61 63 76 54 71 54 66 70 71 62 ...\n",
      " $ critical  : int  92 73 86 84 83 49 68 66 83 80 ...\n",
      " $ advance   : int  45 47 48 35 47 34 35 41 31 41 ...\n"
     ]
    }
   ],
   "source": [
    "str(data)"
   ]
  },
  {
   "cell_type": "code",
   "execution_count": 5,
   "metadata": {},
   "outputs": [
    {
     "data": {
      "text/plain": [
       "     rating        complaints     privileges       learning         raises     \n",
       " Min.   :40.00   Min.   :37.0   Min.   :30.00   Min.   :34.00   Min.   :43.00  \n",
       " 1st Qu.:58.75   1st Qu.:58.5   1st Qu.:45.00   1st Qu.:47.00   1st Qu.:58.25  \n",
       " Median :65.50   Median :65.0   Median :51.50   Median :56.50   Median :63.50  \n",
       " Mean   :64.63   Mean   :66.6   Mean   :53.13   Mean   :56.37   Mean   :64.63  \n",
       " 3rd Qu.:71.75   3rd Qu.:77.0   3rd Qu.:62.50   3rd Qu.:66.75   3rd Qu.:71.00  \n",
       " Max.   :85.00   Max.   :90.0   Max.   :83.00   Max.   :75.00   Max.   :88.00  \n",
       "    critical        advance     \n",
       " Min.   :49.00   Min.   :25.00  \n",
       " 1st Qu.:69.25   1st Qu.:35.00  \n",
       " Median :77.50   Median :41.00  \n",
       " Mean   :74.77   Mean   :42.93  \n",
       " 3rd Qu.:80.00   3rd Qu.:47.75  \n",
       " Max.   :92.00   Max.   :72.00  "
      ]
     },
     "metadata": {},
     "output_type": "display_data"
    }
   ],
   "source": [
    "summary(data)"
   ]
  },
  {
   "cell_type": "markdown",
   "metadata": {},
   "source": [
    "## Câu 3"
   ]
  },
  {
   "cell_type": "code",
   "execution_count": 6,
   "metadata": {},
   "outputs": [
    {
     "data": {
      "image/png": "[encoded data removed]",
      "text/plain": [
       "Plot with title \"Missing values vs observed\""
      ]
     },
     "metadata": {
      "image/png": {
       "height": 420,
       "width": 420
      }
     },
     "output_type": "display_data"
    }
   ],
   "source": [
    "# Check missing value\n",
    "missmap(data, main = \"Missing values vs observed\")"
   ]
  },
  {
   "cell_type": "code",
   "execution_count": 7,
   "metadata": {},
   "outputs": [
    {
     "data": {
      "image/png": "[encoded data removed]",
      "text/plain": [
       "Plot with title \"advance\""
      ]
     },
     "metadata": {
      "image/png": {
       "height": 420,
       "width": 420
      }
     },
     "output_type": "display_data"
    }
   ],
   "source": [
    "par(mfrow = c(2, 4))\n",
    "col_index = c(1:7)\n",
    "\n",
    "for (index in col_index){\n",
    "    boxplot(data[,index], main = names(data)[index], \n",
    "        sub = paste(\"Outlier rows:\", boxplot.stats(data[,index])$out))\n",
    "}\n"
   ]
  },
  {
   "cell_type": "code",
   "execution_count": 8,
   "metadata": {},
   "outputs": [
    {
     "name": "stdout",
     "output_type": "stream",
     "text": [
      "[1] \"crit_outliers:\"\n",
      "[1] 49\n",
      "[1] \"Numrows: 1\"\n"
     ]
    }
   ],
   "source": [
    "crit_outliers = boxplot.stats(data$critical)$out\n",
    "print(\"crit_outliers:\")\n",
    "print(crit_outliers)\n",
    "print(paste(\"Numrows:\", sum(data$critical == crit_outliers[1])))"
   ]
  },
  {
   "cell_type": "code",
   "execution_count": 9,
   "metadata": {},
   "outputs": [
    {
     "name": "stdout",
     "output_type": "stream",
     "text": [
      "[1] \"adv_outliers:\"\n",
      "[1] 72\n",
      "[1] \"Numrows: 1\"\n"
     ]
    }
   ],
   "source": [
    "adv_outliers = boxplot.stats(data$advance)$out\n",
    "print(\"adv_outliers:\")\n",
    "print(adv_outliers)\n",
    "print(paste(\"Numrows:\", sum(data$advance == adv_outliers[1])))"
   ]
  },
  {
   "cell_type": "code",
   "execution_count": 10,
   "metadata": {},
   "outputs": [
    {
     "name": "stdout",
     "output_type": "stream",
     "text": [
      "[1] \"Before drop: 30\"\n",
      "[1] \"After drop 28\"\n"
     ]
    }
   ],
   "source": [
    "print(paste(\"Before drop:\", nrow(data)))\n",
    "data = data[data$critical != crit_outliers[1],]\n",
    "data = data[data$advance != adv_outliers[1],]\n",
    "print(paste(\"After drop\", nrow(data)))"
   ]
  },
  {
   "cell_type": "markdown",
   "metadata": {},
   "source": [
    "## Câu 4"
   ]
  },
  {
   "cell_type": "code",
   "execution_count": 11,
   "metadata": {},
   "outputs": [
    {
     "name": "stdout",
     "output_type": "stream",
     "text": [
      "           privileges  learning\n",
      "privileges  1.0000000 0.4832962\n",
      "learning    0.4832962 1.0000000\n"
     ]
    }
   ],
   "source": [
    "# Calculate the correlation between each pair of numeric variables\n",
    "correlations = cor(data[, 3:4])\n",
    "print(correlations)"
   ]
  },
  {
   "cell_type": "code",
   "execution_count": 12,
   "metadata": {},
   "outputs": [
    {
     "name": "stderr",
     "output_type": "stream",
     "text": [
      "`stat_bin()` using `bins = 30`. Pick better value with `binwidth`.\n",
      "\n",
      "`stat_bin()` using `bins = 30`. Pick better value with `binwidth`.\n",
      "\n"
     ]
    },
    {
     "data": {
      "image/png": "[encoded data removed]",
      "text/plain": [
       "plot without title"
      ]
     },
     "metadata": {
      "image/png": {
       "height": 420,
       "width": 420
      }
     },
     "output_type": "display_data"
    }
   ],
   "source": [
    "hist_right <- ggplot(data = data, aes(x = learning))+geom_histogram()+coord_flip()\n",
    "hist_top <- ggplot(data = data, aes(x = privileges))+geom_histogram()\n",
    "scatter = ggplot(data = data, aes(x = privileges, y = learning)) + geom_point() + theme_bw(base_size = 14)\n",
    "\n",
    "empty <- ggplot()+geom_point(aes(1,1), colour=\"white\")+\n",
    "         theme(axis.ticks=element_blank(), \n",
    "               panel.background=element_blank(), \n",
    "               axis.text.x=element_blank(), axis.text.y=element_blank(),           \n",
    "               axis.title.x=element_blank(), axis.title.y=element_blank())\n",
    "grid.arrange(hist_top, empty, scatter, hist_right, ncol=2, nrow=2, widths=c(4, 1), heights=c(1, 4))\n"
   ]
  },
  {
   "cell_type": "markdown",
   "metadata": {},
   "source": [
    "### Nhận xét:\n",
    "learning và privileges tương quan thuận"
   ]
  },
  {
   "cell_type": "markdown",
   "metadata": {},
   "source": [
    "## Câu 5"
   ]
  },
  {
   "cell_type": "code",
   "execution_count": 13,
   "metadata": {},
   "outputs": [],
   "source": [
    "sub_data = data[, 3:4]"
   ]
  },
  {
   "cell_type": "code",
   "execution_count": 14,
   "metadata": {},
   "outputs": [],
   "source": [
    "wss = (nrow(sub_data) -1) * sum(apply(sub_data, 2, var))"
   ]
  },
  {
   "cell_type": "code",
   "execution_count": 15,
   "metadata": {},
   "outputs": [],
   "source": [
    "for (i in 1:10) wss[i] = sum(kmeans(sub_data, centers = i)$withinss)"
   ]
  },
  {
   "cell_type": "markdown",
   "metadata": {},
   "source": [
    "## Câu 6"
   ]
  },
  {
   "cell_type": "code",
   "execution_count": 16,
   "metadata": {},
   "outputs": [
    {
     "data": {
      "image/png": "[encoded data removed]",
      "text/plain": [
       "plot without title"
      ]
     },
     "metadata": {
      "image/png": {
       "height": 420,
       "width": 420
      }
     },
     "output_type": "display_data"
    }
   ],
   "source": [
    "plot(1:10, wss, type = 'b', xlab = \"Number of clustes\", ylab = \"WSS\")"
   ]
  },
  {
   "cell_type": "markdown",
   "metadata": {},
   "source": [
    "### Chọn 5 cụm"
   ]
  },
  {
   "cell_type": "code",
   "execution_count": 17,
   "metadata": {},
   "outputs": [
    {
     "name": "stdout",
     "output_type": "stream",
     "text": [
      "K-means clustering with 5 clusters of sizes 2, 9, 2, 7, 8\n",
      "\n",
      "Cluster means:\n",
      "  privileges learning\n",
      "1   31.50000 36.50000\n",
      "2   62.00000 70.55556\n",
      "3   75.50000 49.50000\n",
      "4   47.42857 45.42857\n",
      "5   46.87500 57.37500\n",
      "\n",
      "Clustering vector:\n",
      " 1  2  3  4  5  7  8  9 10 11 12 13 14 15 16 17 18 19 20 21 22 23 24 25 27 28 \n",
      " 1  5  2  4  2  5  5  2  4  5  4  4  3  2  2  2  2  5  3  1  5  4  5  4  2  4 \n",
      "29 30 \n",
      " 2  5 \n",
      "\n",
      "Within cluster sum of squares by cluster:\n",
      "[1]  17.0000 564.2222 153.0000 251.4286 244.7500\n",
      " (between_SS / total_SS =  84.5 %)\n",
      "\n",
      "Available components:\n",
      "\n",
      "[1] \"cluster\"      \"centers\"      \"totss\"        \"withinss\"     \"tot.withinss\"\n",
      "[6] \"betweenss\"    \"size\"         \"iter\"         \"ifault\"      \n"
     ]
    }
   ],
   "source": [
    "set.seed(20)\n",
    "dataCluster = kmeans(sub_data, centers = 5, nstart = 20)\n",
    "print(dataCluster)"
   ]
  },
  {
   "cell_type": "code",
   "execution_count": 18,
   "metadata": {},
   "outputs": [
    {
     "name": "stdout",
     "output_type": "stream",
     "text": [
      "[1] \"Centroid points:\"\n",
      "  privileges learning\n",
      "1   31.50000 36.50000\n",
      "2   62.00000 70.55556\n",
      "3   75.50000 49.50000\n",
      "4   47.42857 45.42857\n",
      "5   46.87500 57.37500\n"
     ]
    }
   ],
   "source": [
    "print(\"Centroid points:\")\n",
    "print(dataCluster$centers)"
   ]
  },
  {
   "cell_type": "markdown",
   "metadata": {},
   "source": [
    "## Câu 7"
   ]
  },
  {
   "cell_type": "code",
   "execution_count": 19,
   "metadata": {},
   "outputs": [
    {
     "data": {
      "image/png": "[encoded data removed]",
      "text/plain": [
       "plot without title"
      ]
     },
     "metadata": {
      "image/png": {
       "height": 420,
       "width": 420
      }
     },
     "output_type": "display_data"
    }
   ],
   "source": [
    "fviz_cluster(dataCluster, geom = \"point\",\n",
    "             data = sub_data) + ggtitle(\"k = 5\")"
   ]
  },
  {
   "cell_type": "markdown",
   "metadata": {},
   "source": [
    "### Nhận xét\n",
    "Cụm 1 và 5 khá ít.\n",
    "Cụm 2, 3, 4 phân bố theo learing"
   ]
  }
 ],
 "metadata": {
  "kernelspec": {
   "display_name": "R",
   "language": "R",
   "name": "ir"
  },
  "language_info": {
   "codemirror_mode": "r",
   "file_extension": ".r",
   "mimetype": "text/x-r-source",
   "name": "R",
   "pygments_lexer": "r",
   "version": "4.0.3"
  }
 },
 "nbformat": 4,
 "nbformat_minor": 4
}
