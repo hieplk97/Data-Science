{
 "cells": [
  {
   "cell_type": "markdown",
   "metadata": {},
   "source": [
    "# Single elements vector"
   ]
  },
  {
   "cell_type": "code",
   "execution_count": 1,
   "metadata": {},
   "outputs": [
    {
     "name": "stdout",
     "output_type": "stream",
     "text": [
      "[1] \"abc\"\n",
      "[1] 12.5\n",
      "[1] 63\n",
      "[1] TRUE\n",
      "[1] 2+3i\n",
      "[1] 68 65 6c 6c 6f\n"
     ]
    }
   ],
   "source": [
    "# charatec type\n",
    "print(\"abc\")\n",
    "# double type\n",
    "print(12.5)\n",
    "# integer type\n",
    "print(63L)\n",
    "# logical type\n",
    "print(TRUE)\n",
    "# complex type\n",
    "print(2+3i)\n",
    "# raw type\n",
    "print(charToRaw('hello'))"
   ]
  },
  {
   "cell_type": "markdown",
   "metadata": {},
   "source": [
    "# Multiple elements vector"
   ]
  },
  {
   "cell_type": "code",
   "execution_count": 2,
   "metadata": {},
   "outputs": [
    {
     "name": "stdout",
     "output_type": "stream",
     "text": [
      " [1]  1  2  3  4  5  6  7  8  9 10\n"
     ]
    }
   ],
   "source": [
    "v = 1:10\n",
    "print(v)"
   ]
  },
  {
   "cell_type": "code",
   "execution_count": 3,
   "metadata": {},
   "outputs": [
    {
     "name": "stdout",
     "output_type": "stream",
     "text": [
      "[1] 1.6 2.6 3.6 4.6 5.6\n"
     ]
    }
   ],
   "source": [
    "v = 1.6:5.6\n",
    "print(v)"
   ]
  },
  {
   "cell_type": "code",
   "execution_count": 4,
   "metadata": {},
   "outputs": [
    {
     "name": "stdout",
     "output_type": "stream",
     "text": [
      "[1]  5.8  6.8  7.8  8.8  9.8 10.8\n"
     ]
    }
   ],
   "source": [
    "v = 5.8:11.4\n",
    "print(v)"
   ]
  },
  {
   "cell_type": "code",
   "execution_count": 5,
   "metadata": {},
   "outputs": [
    {
     "name": "stdout",
     "output_type": "stream",
     "text": [
      " [1]  2.0  2.5  3.0  3.5  4.0  4.5  5.0  5.5  6.0  6.5  7.0  7.5  8.0  8.5  9.0\n",
      "[16]  9.5 10.0\n"
     ]
    }
   ],
   "source": [
    "v = seq(2, 10, by = 0.5)\n",
    "print(v)"
   ]
  },
  {
   "cell_type": "code",
   "execution_count": 6,
   "metadata": {},
   "outputs": [
    {
     "name": "stdout",
     "output_type": "stream",
     "text": [
      "[1] \"red\"    \"green\"  \"blue\"   \"white\"  \"yellow\" \"orange\"\n"
     ]
    }
   ],
   "source": [
    "colors = c('red', 'green', 'blue', 'white', 'yellow', 'orange')\n",
    "print(colors)"
   ]
  },
  {
   "cell_type": "code",
   "execution_count": 7,
   "metadata": {},
   "outputs": [
    {
     "name": "stdout",
     "output_type": "stream",
     "text": [
      "[1] \"red\"    \"blue\"   \"yellow\"\n"
     ]
    }
   ],
   "source": [
    "c1 = colors[c(1,3,5)]\n",
    "print(c1)"
   ]
  },
  {
   "cell_type": "code",
   "execution_count": 8,
   "metadata": {},
   "outputs": [
    {
     "name": "stdout",
     "output_type": "stream",
     "text": [
      "[1] \"red\"    \"blue\"   \"yellow\" \"orange\"\n",
      "[1] \"red\"    \"green\"  \"blue\"   \"white\"  \"yellow\" \"orange\"\n"
     ]
    }
   ],
   "source": [
    "c2 = colors[c(-2, -4)]\n",
    "print(c2)\n",
    "print(colors)"
   ]
  },
  {
   "cell_type": "markdown",
   "metadata": {},
   "source": [
    "# Same length vector "
   ]
  },
  {
   "cell_type": "code",
   "execution_count": 9,
   "metadata": {},
   "outputs": [],
   "source": [
    "v1 = c(5, 7, 4, 8, 0, 11)\n",
    "v2 = c(4, 10, 2, 8, 1, 1)"
   ]
  },
  {
   "cell_type": "code",
   "execution_count": 10,
   "metadata": {},
   "outputs": [
    {
     "name": "stdout",
     "output_type": "stream",
     "text": [
      "[1]  9 17  6 16  1 12\n"
     ]
    }
   ],
   "source": [
    "add.result = v1 + v2\n",
    "print(add.result)"
   ]
  },
  {
   "cell_type": "code",
   "execution_count": 11,
   "metadata": {},
   "outputs": [
    {
     "name": "stdout",
     "output_type": "stream",
     "text": [
      "[1]  1 -3  2  0 -1 10\n"
     ]
    }
   ],
   "source": [
    "sub.result = v1 - v2\n",
    "print(sub.result)"
   ]
  },
  {
   "cell_type": "code",
   "execution_count": 12,
   "metadata": {},
   "outputs": [
    {
     "name": "stdout",
     "output_type": "stream",
     "text": [
      "[1] 20 70  8 64  0 11\n"
     ]
    }
   ],
   "source": [
    "multi.result = v1 * v2\n",
    "print(multi.result)"
   ]
  },
  {
   "cell_type": "code",
   "execution_count": 13,
   "metadata": {},
   "outputs": [
    {
     "name": "stdout",
     "output_type": "stream",
     "text": [
      "[1]  1.25  0.70  2.00  1.00  0.00 11.00\n"
     ]
    }
   ],
   "source": [
    "div.result = v1 / v2\n",
    "print(div.result)"
   ]
  },
  {
   "cell_type": "markdown",
   "metadata": {},
   "source": [
    "# Different length vector"
   ]
  },
  {
   "cell_type": "code",
   "execution_count": 14,
   "metadata": {},
   "outputs": [],
   "source": [
    "v1 = c(5, 7, 4, 8, 0, 11)\n",
    "v2 = c(4, 10)"
   ]
  },
  {
   "cell_type": "code",
   "execution_count": 15,
   "metadata": {},
   "outputs": [
    {
     "name": "stdout",
     "output_type": "stream",
     "text": [
      "[1]  9 17  8 18  4 21\n"
     ]
    }
   ],
   "source": [
    "add.result = v1 + v2\n",
    "print(add.result)"
   ]
  },
  {
   "cell_type": "code",
   "execution_count": 16,
   "metadata": {},
   "outputs": [
    {
     "name": "stdout",
     "output_type": "stream",
     "text": [
      "[1]  1 -3  0 -2 -4  1\n"
     ]
    }
   ],
   "source": [
    "sub.result = v1 - v2\n",
    "print(sub.result)"
   ]
  },
  {
   "cell_type": "code",
   "execution_count": 17,
   "metadata": {},
   "outputs": [
    {
     "name": "stdout",
     "output_type": "stream",
     "text": [
      "[1]  20  70  16  80   0 110\n"
     ]
    }
   ],
   "source": [
    "multi.result = v1 * v2\n",
    "print(multi.result)"
   ]
  },
  {
   "cell_type": "code",
   "execution_count": 18,
   "metadata": {},
   "outputs": [
    {
     "name": "stdout",
     "output_type": "stream",
     "text": [
      "[1] 1.25 0.70 1.00 0.80 0.00 1.10\n"
     ]
    }
   ],
   "source": [
    "div.result = v1 / v2\n",
    "print(div.result)"
   ]
  },
  {
   "cell_type": "markdown",
   "metadata": {},
   "source": [
    "# Sort "
   ]
  },
  {
   "cell_type": "code",
   "execution_count": 19,
   "metadata": {},
   "outputs": [
    {
     "data": {
      "text/html": [
       "<style>\n",
       ".list-inline {list-style: none; margin:0; padding: 0}\n",
       ".list-inline>li {display: inline-block}\n",
       ".list-inline>li:not(:last-child)::after {content: \"\\00b7\"; padding: 0 .5ex}\n",
       "</style>\n",
       "<ol class=list-inline><li>1</li><li>2</li><li>5</li><li>-10</li><li>7</li><li>-6</li><li>9</li></ol>\n"
      ],
      "text/latex": [
       "\\begin{enumerate*}\n",
       "\\item 1\n",
       "\\item 2\n",
       "\\item 5\n",
       "\\item -10\n",
       "\\item 7\n",
       "\\item -6\n",
       "\\item 9\n",
       "\\end{enumerate*}\n"
      ],
      "text/markdown": [
       "1. 1\n",
       "2. 2\n",
       "3. 5\n",
       "4. -10\n",
       "5. 7\n",
       "6. -6\n",
       "7. 9\n",
       "\n",
       "\n"
      ],
      "text/plain": [
       "[1]   1   2   5 -10   7  -6   9"
      ]
     },
     "metadata": {},
     "output_type": "display_data"
    }
   ],
   "source": [
    "v = c(1, 2, 5, -10, 7 , -6, 9)\n",
    "v"
   ]
  },
  {
   "cell_type": "code",
   "execution_count": 20,
   "metadata": {},
   "outputs": [
    {
     "name": "stdout",
     "output_type": "stream",
     "text": [
      "[1] -10  -6   1   2   5   7   9\n"
     ]
    }
   ],
   "source": [
    "# Ascending\n",
    "print(sort(v))"
   ]
  },
  {
   "cell_type": "code",
   "execution_count": 21,
   "metadata": {},
   "outputs": [
    {
     "name": "stdout",
     "output_type": "stream",
     "text": [
      "[1]   9   7   5   2   1  -6 -10\n"
     ]
    }
   ],
   "source": [
    "# Decreasing\n",
    "print(sort(v, decreasing = TRUE))"
   ]
  }
 ],
 "metadata": {
  "kernelspec": {
   "display_name": "R",
   "language": "R",
   "name": "ir"
  },
  "language_info": {
   "codemirror_mode": "r",
   "file_extension": ".r",
   "mimetype": "text/x-r-source",
   "name": "R",
   "pygments_lexer": "r",
   "version": "4.0.3"
  }
 },
 "nbformat": 4,
 "nbformat_minor": 4
}
