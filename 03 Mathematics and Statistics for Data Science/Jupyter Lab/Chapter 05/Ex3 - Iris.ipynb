{
 "cells": [
  {
   "cell_type": "raw",
   "metadata": {},
   "source": [
    "\"\"\"=============================================================================\n",
    "Cho dữ liệu Iris.xls\n",
    "   1. Đọc dữ liệu vào biến data.\n",
    "   2. Xem thông tin data: info, describe, head.\n",
    "   3. Tính chiều cao trung bình của petallength, loại hoa Iris versicolor.\n",
    "   4. Tạo array phần trăm percentiles chứa các phần trăm thứ 2.5, 25, 50, 75, 97.5.\n",
    "      Tính percentiles của petal lengths từ các mẫu Iris versicolor.\n",
    "   5. Vẽ percentiles với marker='D', color='red', x và y tương ứng là ptiles_vers và percentiles/100.\n",
    "   6. Tạo array differences: chênh lệch giữa petallength với mean petallength. \n",
    "      Tính bình phương differences. \n",
    "      Tính mean square difference và đặt tên là variance_explicit.\n",
    "   7. Tính variance trên bằng cách sử dung np.var. So sánh kết quả.\n",
    "   8. Tính căn bậc hai của variance ở câu trên.\n",
    "   9. Tính độ lệch chuẩn của petallength.\n",
    "   10. Vẽ biểu đồ thể hiện mối quan hệ của versicolor_petal_length, versicolor_petal_width.\n",
    "   11. Tìm covariance matrix của versicolor_petal_length, versicolor_petal_width. \n",
    "       Trích xuất covariance của petallength và petalwidth từ covariance matrix \n",
    "       và đặt tên là petal_cov.\n",
    "   12. Tìm correlation matrix của versicolor_petal_length, versicolor_petal_width.\n",
    "       Trích xuất correlation của petallength và petalwidth từ correlation matrix \n",
    "       và đặt tên là petal_corr.\n",
    "   13. Vẽ boxplot của pentallength cho toàn bộ data và của pentallength theo loại.\n",
    "   14. Dựa trên boxplot trên, hãy cho biết các loại có outlier(s) không?\n",
    "       Nếu có, dùng z-score để tính và xác định index của outlier(s) theo từng loại \n",
    "       (những index nào? giá trị outliers tương ứng cho những index đó?)\n",
    "   15. Cho các biểu đồ sau:\n",
    "       from PIL import Image\n",
    "       import matplotlib.pyplot as plt\n",
    "       import numpy as np\n",
    "       img = np.array(Image. open('map1.jpg'))\n",
    "       plt.figure(figsize=(12,12))\n",
    "       plt. imshow(img, interpolation='bilinear' )\n",
    "       plt. axis('off' )\n",
    "       plt. show()\n",
    "    Xác định biểu đồ nào có:\n",
    "       - variance cao nhất trên x\n",
    "       - covariance cao nhất\n",
    "       - negative covariance\n",
    "=============================================================================\"\"\""
   ]
  },
  {
   "cell_type": "code",
   "execution_count": 1,
   "metadata": {},
   "outputs": [],
   "source": [
    "import numpy as np\n",
    "import matplotlib.pyplot as plt\n",
    "import pandas as pd\n",
    "import seaborn as sns\n",
    "\n",
    "from scipy import stats"
   ]
  },
  {
   "cell_type": "code",
   "execution_count": 2,
   "metadata": {},
   "outputs": [
    {
     "name": "stdout",
     "output_type": "stream",
     "text": [
      "====================================================\n",
      "*** 1. Tạo mảng dữ liệu chứa từ nội dung tập tin ***\n",
      "====================================================\n"
     ]
    }
   ],
   "source": [
    "print('====================================================')\n",
    "print('*** 1. Tạo mảng dữ liệu chứa từ nội dung tập tin ***')\n",
    "print('====================================================')\n",
    "LDS3folder = 'E:\\Data Science\\Mathematics and Statistics for Data Science\\Excercise'\n",
    "folder = LDS3folder + '\\Data\\B5/'\n",
    "data = pd.read_excel(folder + '/Iris.xls')"
   ]
  },
  {
   "cell_type": "code",
   "execution_count": 3,
   "metadata": {},
   "outputs": [
    {
     "name": "stdout",
     "output_type": "stream",
     "text": [
      "====================================================\n",
      "*** 2. Xem thông tin data: info, describe, head. ***\n",
      "====================================================\n",
      "<class 'pandas.core.frame.DataFrame'>\n",
      "RangeIndex: 150 entries, 0 to 149\n",
      "Data columns (total 5 columns):\n",
      " #   Column       Non-Null Count  Dtype  \n",
      "---  ------       --------------  -----  \n",
      " 0   sepallength  150 non-null    float64\n",
      " 1   sepalwidth   150 non-null    float64\n",
      " 2   petallength  150 non-null    float64\n",
      " 3   petalwidth   150 non-null    float64\n",
      " 4   iris         150 non-null    object \n",
      "dtypes: float64(4), object(1)\n",
      "memory usage: 6.0+ KB\n",
      "Data info    :\n",
      " None\n",
      "Data describe:\n",
      "        sepallength  sepalwidth  petallength  petalwidth\n",
      "count   150.000000  150.000000   150.000000  150.000000\n",
      "mean      5.843333    3.054000     3.758667    1.198667\n",
      "std       0.828066    0.433594     1.764420    0.763161\n",
      "min       4.300000    2.000000     1.000000    0.100000\n",
      "25%       5.100000    2.800000     1.600000    0.300000\n",
      "50%       5.800000    3.000000     4.350000    1.300000\n",
      "75%       6.400000    3.300000     5.100000    1.800000\n",
      "max       7.900000    4.400000     6.900000    2.500000\n",
      "Data         :\n",
      "    sepallength  sepalwidth  petallength  petalwidth         iris\n",
      "0          5.1         3.5          1.4         0.2  Iris-setosa\n",
      "1          4.9         3.0          1.4         0.2  Iris-setosa\n",
      "2          4.7         3.2          1.3         0.2  Iris-setosa\n",
      "3          4.6         3.1          1.5         0.2  Iris-setosa\n",
      "4          5.0         3.6          1.4         0.2  Iris-setosa \n",
      "\n"
     ]
    }
   ],
   "source": [
    "print('====================================================')\n",
    "print('*** 2. Xem thông tin data: info, describe, head. ***')\n",
    "print('====================================================')\n",
    "print('Data info    :\\n', data.info())\n",
    "print('Data describe:\\n', data.describe())\n",
    "print('Data         :\\n', data.head(), '\\n')"
   ]
  },
  {
   "cell_type": "code",
   "execution_count": 4,
   "metadata": {},
   "outputs": [
    {
     "name": "stdout",
     "output_type": "stream",
     "text": [
      "================================================================\n",
      "*** 3. Chiều cao trung bình của petallength Iris versicolor. ***\n",
      "================================================================\n",
      "4.26\n"
     ]
    }
   ],
   "source": [
    "print('================================================================')\n",
    "print('*** 3. Chiều cao trung bình của petallength Iris versicolor. ***')\n",
    "print('================================================================')\n",
    "pental_lenghth_Iris_versicolor = data[data.iris == 'Iris-versicolor']['petallength']\n",
    "\n",
    "mean_pental_lenghth = pental_lenghth_Iris_versicolor.mean()\n",
    "print(mean_pental_lenghth)"
   ]
  },
  {
   "cell_type": "code",
   "execution_count": 6,
   "metadata": {},
   "outputs": [
    {
     "data": {
      "image/png": "[encoded data removed]",
      "text/plain": [
       "<Figure size 432x288 with 1 Axes>"
      ]
     },
     "metadata": {
      "needs_background": "light"
     },
     "output_type": "display_data"
    }
   ],
   "source": [
    "## 4. Tạo array phần trăm percentiles chứa các phần trăm thứ 2.5, 25, 50, 75, 97.5.\n",
    "##    Tính percentiles của petal lengths từ các mẫu Iris versicolor.\n",
    "percentiles = np.array([2.5, 25, 50, 75, 97.5])\n",
    "ptiles_vers = np.percentile(pental_lenghth_Iris_versicolor, percentiles)\n",
    "\n",
    "## 5. Vẽ percentiles với marker='D', color='red', x và y tương ứng là ptiles_vers và percentiles/100.\n",
    "plt.plot(ptiles_vers, percentiles / 100, marker='D', color='red', linestyle='none')\n",
    "plt.show()"
   ]
  },
  {
   "cell_type": "code",
   "execution_count": 7,
   "metadata": {},
   "outputs": [
    {
     "name": "stdout",
     "output_type": "stream",
     "text": [
      "50    0.44\n",
      "51    0.24\n",
      "52    0.64\n",
      "53   -0.26\n",
      "54    0.34\n",
      "55    0.24\n",
      "56    0.44\n",
      "57   -0.96\n",
      "58    0.34\n",
      "59   -0.36\n",
      "Name: petallength, dtype: float64\n",
      "50    0.1936\n",
      "51    0.0576\n",
      "52    0.4096\n",
      "53    0.0676\n",
      "54    0.1156\n",
      "55    0.0576\n",
      "56    0.1936\n",
      "57    0.9216\n",
      "58    0.1156\n",
      "59    0.1296\n",
      "Name: petallength, dtype: float64\n",
      "0.21640000000000004\n"
     ]
    }
   ],
   "source": [
    "## 6. Tạo array differences: chênh lệch giữa petallength với mean petallength. \n",
    "##      Tính bình phương differences. \n",
    "##      Tính mean square difference và đặt tên là variance_explicit.\n",
    "differences = pental_lenghth_Iris_versicolor - mean_pental_lenghth\n",
    "print(differences[0:10])\n",
    "\n",
    "diff_sq = differences ** 2\n",
    "print(diff_sq[0:10])\n",
    "\n",
    "variance_explicit = np.mean(diff_sq)\n",
    "print(variance_explicit)"
   ]
  },
  {
   "cell_type": "code",
   "execution_count": 8,
   "metadata": {},
   "outputs": [
    {
     "name": "stdout",
     "output_type": "stream",
     "text": [
      "0.21640000000000004\n"
     ]
    }
   ],
   "source": [
    "## 7. Tính variance trên bằng cách sử dung np.var. So sánh kết quả.\n",
    "variance = np.var(pental_lenghth_Iris_versicolor)\n",
    "print(variance)"
   ]
  },
  {
   "cell_type": "code",
   "execution_count": 9,
   "metadata": {},
   "outputs": [
    {
     "name": "stdout",
     "output_type": "stream",
     "text": [
      "0.4651881339845203\n"
     ]
    }
   ],
   "source": [
    "## 8. Tính căn bậc hai của variance ở câu trên.\n",
    "print(np.sqrt(variance))\n"
   ]
  },
  {
   "cell_type": "code",
   "execution_count": 10,
   "metadata": {},
   "outputs": [
    {
     "name": "stdout",
     "output_type": "stream",
     "text": [
      "0.4651881339845203\n"
     ]
    }
   ],
   "source": [
    "## 9. Tính độ lệch chuẩn của petallength.\n",
    "print(np.std(pental_lenghth_Iris_versicolor))\n"
   ]
  },
  {
   "cell_type": "code",
   "execution_count": 12,
   "metadata": {},
   "outputs": [
    {
     "data": {
      "image/png": "[encoded data removed]",
      "text/plain": [
       "<Figure size 576x432 with 1 Axes>"
      ]
     },
     "metadata": {
      "needs_background": "light"
     },
     "output_type": "display_data"
    }
   ],
   "source": [
    "## 10. Vẽ biểu đồ thể hiện mối quan hệ của versicolor_petal_length, versicolor_petal_width.\n",
    "pental_width_Iris_versicolor = data[data.iris == 'Iris-versicolor']['petalwidth']\n",
    "\n",
    "plt.figure(figsize=(8, 6))\n",
    "plt.plot(pental_lenghth_Iris_versicolor, pental_width_Iris_versicolor,\n",
    "         marker='.', linestyle='none')\n",
    "plt.xlabel('Petal length (cm)')\n",
    "plt.ylabel('Petal width (cm)')\n",
    "plt.show()"
   ]
  },
  {
   "cell_type": "code",
   "execution_count": null,
   "metadata": {},
   "outputs": [],
   "source": []
  }
 ],
 "metadata": {
  "kernelspec": {
   "display_name": "Python 3",
   "language": "python",
   "name": "python3"
  },
  "language_info": {
   "codemirror_mode": {
    "name": "ipython",
    "version": 3
   },
   "file_extension": ".py",
   "mimetype": "text/x-python",
   "name": "python",
   "nbconvert_exporter": "python",
   "pygments_lexer": "ipython3",
   "version": "3.8.5"
  }
 },
 "nbformat": 4,
 "nbformat_minor": 4
}
