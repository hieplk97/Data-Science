{
 "cells": [
  {
   "cell_type": "code",
   "execution_count": 1,
   "metadata": {},
   "outputs": [],
   "source": [
    "sum_even.function = function(start, end){\n",
    "    sum_even = 0\n",
    "    for (i in start:end){\n",
    "        if (i%%2 == 0){\n",
    "            sum_even = sum_even +i\n",
    "        }\n",
    "    }\n",
    "    return(sum_even)\n",
    "}"
   ]
  },
  {
   "cell_type": "code",
   "execution_count": 2,
   "metadata": {},
   "outputs": [
    {
     "data": {
      "text/html": [
       "12"
      ],
      "text/latex": [
       "12"
      ],
      "text/markdown": [
       "12"
      ],
      "text/plain": [
       "[1] 12"
      ]
     },
     "metadata": {},
     "output_type": "display_data"
    }
   ],
   "source": [
    "sum_even.function(1, 6)"
   ]
  },
  {
   "cell_type": "code",
   "execution_count": 3,
   "metadata": {},
   "outputs": [
    {
     "name": "stdout",
     "output_type": "stream",
     "text": [
      "[1] \"Sum of even number is 30\"\n"
     ]
    }
   ],
   "source": [
    "print(paste(\"Sum of even number is\", sum_even.function(start=1, end=10)))"
   ]
  },
  {
   "cell_type": "code",
   "execution_count": 4,
   "metadata": {},
   "outputs": [],
   "source": [
    "drink.function = function(price, type=\"Tea\"){\n",
    "    print(paste(\"With \", price, \", you can drink\", type))\n",
    "}"
   ]
  },
  {
   "cell_type": "code",
   "execution_count": 5,
   "metadata": {},
   "outputs": [
    {
     "name": "stdout",
     "output_type": "stream",
     "text": [
      "[1] \"With  10000 , you can drink Tea\"\n",
      "[1] \"With  10000 , you can drink Coffee\"\n"
     ]
    }
   ],
   "source": [
    "drink.function(10000)\n",
    "drink.function(10000, \"Coffee\")"
   ]
  },
  {
   "cell_type": "code",
   "execution_count": 10,
   "metadata": {},
   "outputs": [
    {
     "ename": "ERROR",
     "evalue": "Error in parse(text = x, srcfile = src): <text>:4:20: unexpected numeric constant\n3:             message('Your number > Our number')\n4:             return FALSE\n                      ^\n",
     "output_type": "error",
     "traceback": [
      "Error in parse(text = x, srcfile = src): <text>:4:20: unexpected numeric constant\n3:             message('Your number > Our number')\n4:             return FALSE\n                      ^\nTraceback:\n"
     ]
    }
   ],
   "source": [
    "play.function = function(answer, random_number){\n",
    "        if (answer < random_number){\n",
    "            message('Your number > Our number')\n",
    "            return (FALSE)\n",
    "        } else if (answer > random_number){\n",
    "            message('Your number < Our number')\n",
    "            return (FALSE)\n",
    "        } else {\n",
    "            message('Your number = Our number => You win')\n",
    "            return (TRUE)\n",
    "        }\n",
    "    }\n",
    "}"
   ]
  },
  {
   "cell_type": "code",
   "execution_count": 7,
   "metadata": {},
   "outputs": [
    {
     "name": "stdin",
     "output_type": "stream",
     "text": [
      "Guess:  5\n"
     ]
    },
    {
     "name": "stderr",
     "output_type": "stream",
     "text": [
      "Your number > Our number\n",
      "\n"
     ]
    },
    {
     "name": "stdin",
     "output_type": "stream",
     "text": [
      "Guess:  9\n"
     ]
    },
    {
     "name": "stderr",
     "output_type": "stream",
     "text": [
      "Your number = Our number => You win\n",
      "\n"
     ]
    },
    {
     "name": "stdin",
     "output_type": "stream",
     "text": [
      "Continue-y / Stop-others  1\n"
     ]
    }
   ],
   "source": [
    "cont = \"y\"\n",
    "while (cont == \"y\") {\n",
    "    time = 0\n",
    "    random_number = round(runif(1, 1, 10), 0)\n",
    "    win = FALSE\n",
    "    repeat {\n",
    "        answer = as.integer(readline(prompt = \"Guess: \"))\n",
    "        time = time +1\n",
    "        \n",
    "        win = play.function(answer, random_number)\n",
    "        \n",
    "        if (time == 3 & win == FALSE){\n",
    "            message(paste('You lose! Our number is ', random_number))\n",
    "            break\n",
    "        }\n",
    "        \n",
    "    }\n",
    "    cont = (readline(prompt = \"Continue-y / Stop-others \"))\n",
    "}"
   ]
  },
  {
   "cell_type": "code",
   "execution_count": null,
   "metadata": {},
   "outputs": [],
   "source": []
  }
 ],
 "metadata": {
  "kernelspec": {
   "display_name": "R",
   "language": "R",
   "name": "ir"
  },
  "language_info": {
   "codemirror_mode": "r",
   "file_extension": ".r",
   "mimetype": "text/x-r-source",
   "name": "R",
   "pygments_lexer": "r",
   "version": "4.0.3"
  }
 },
 "nbformat": 4,
 "nbformat_minor": 4
}
