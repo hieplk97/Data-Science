{
 "cells": [
  {
   "cell_type": "code",
   "execution_count": 1,
   "metadata": {},
   "outputs": [
    {
     "name": "stdout",
     "output_type": "stream",
     "text": [
      "[1] \"List X:\"\n",
      "[[1]]\n",
      "[1] 2 7 8\n",
      "\n",
      "[[2]]\n",
      "[1] \"A\" \"B\" \"C\"\n",
      "\n"
     ]
    }
   ],
   "source": [
    "p = c(2, 7, 8)\n",
    "q = c(\"A\", \"B\", \"C\")\n",
    "x = list(p, q)\n",
    "\n",
    "print(\"List X:\")\n",
    "print(x)"
   ]
  },
  {
   "cell_type": "code",
   "execution_count": 2,
   "metadata": {},
   "outputs": [
    {
     "name": "stdout",
     "output_type": "stream",
     "text": [
      "[1] \"list[2]: c(\\\"A\\\", \\\"B\\\", \\\"C\\\")\"\n"
     ]
    }
   ],
   "source": [
    "print(paste(\"list[2]:\", toString(x[2])))"
   ]
  },
  {
   "cell_type": "code",
   "execution_count": 3,
   "metadata": {},
   "outputs": [
    {
     "name": "stdout",
     "output_type": "stream",
     "text": [
      "[1] \"vector of list[2]: B\"\n"
     ]
    }
   ],
   "source": [
    "print(paste(\"vector of list[2]:\", toString(x[[2]][2])))"
   ]
  },
  {
   "cell_type": "code",
   "execution_count": 4,
   "metadata": {},
   "outputs": [
    {
     "name": "stdout",
     "output_type": "stream",
     "text": [
      "[1] \"List after changing\"\n",
      "[[1]]\n",
      "[1] 2 7 8\n",
      "\n",
      "[[2]]\n",
      "[1] \"A\" \"K\" \"C\"\n",
      "\n"
     ]
    }
   ],
   "source": [
    "x[[2]][2] = \"K\"\n",
    "print(\"List after changing\")\n",
    "print(x)"
   ]
  },
  {
   "cell_type": "code",
   "execution_count": 5,
   "metadata": {},
   "outputs": [
    {
     "name": "stdout",
     "output_type": "stream",
     "text": [
      "[1] \"List after insert\"\n",
      "[[1]]\n",
      "[1] 2 7 8\n",
      "\n",
      "[[2]]\n",
      "[1] \"A\" \"K\" \"C\"\n",
      "\n",
      "[[3]]\n",
      "[1] 1 3 4\n",
      "\n"
     ]
    }
   ],
   "source": [
    "t = c(1 ,3, 4)\n",
    "x = c(x, list(t))\n",
    "\n",
    "print(\"List after insert\")\n",
    "print(x)"
   ]
  },
  {
   "cell_type": "code",
   "execution_count": 6,
   "metadata": {},
   "outputs": [
    {
     "name": "stdout",
     "output_type": "stream",
     "text": [
      "[1] \"List a\"\n",
      "$x\n",
      "[1] 5\n",
      "\n",
      "$y\n",
      "[1] 10\n",
      "\n",
      "$z\n",
      "[1] 15\n",
      "\n",
      "[1] \"Sum of list: 30\"\n"
     ]
    }
   ],
   "source": [
    "a = list(\"x\" = 5, \"y\" = 10, \"z\" = 15)\n",
    "print(\"List a\")\n",
    "print(a)\n",
    "print(paste(\"Sum of list:\", sum(unlist(a))))"
   ]
  },
  {
   "cell_type": "code",
   "execution_count": 7,
   "metadata": {},
   "outputs": [
    {
     "name": "stdout",
     "output_type": "stream",
     "text": [
      "[1] \"New list\"\n",
      "$a\n",
      " [1]  1  2  3  4  5  6  7  8  9 10\n",
      "\n",
      "$b\n",
      "[1] \"Good morning\"\n",
      "\n",
      "$c\n",
      "[1] \"Hi\"\n",
      "\n",
      "$a\n",
      " [1]  2  3  4  5  6  7  8  9 10 11\n",
      "\n",
      "$b\n",
      "[1] \"Good morning\"\n",
      "\n",
      "$c\n",
      "[1] \"Hi\"\n",
      "\n"
     ]
    }
   ],
   "source": [
    "Newlist = list(a=1:10, b=\"Good morning\", c=\"Hi\")\n",
    "print(\"New list\")\n",
    "print(Newlist)\n",
    "\n",
    "Newlist$a = Newlist$a+1\n",
    "print(Newlist)"
   ]
  }
 ],
 "metadata": {
  "kernelspec": {
   "display_name": "R",
   "language": "R",
   "name": "ir"
  },
  "language_info": {
   "codemirror_mode": "r",
   "file_extension": ".r",
   "mimetype": "text/x-r-source",
   "name": "R",
   "pygments_lexer": "r",
   "version": "4.0.3"
  }
 },
 "nbformat": 4,
 "nbformat_minor": 4
}
