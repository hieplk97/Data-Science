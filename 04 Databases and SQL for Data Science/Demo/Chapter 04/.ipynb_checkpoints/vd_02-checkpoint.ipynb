{
 "cells": [
  {
   "cell_type": "code",
   "execution_count": 16,
   "metadata": {},
   "outputs": [],
   "source": [
    "# import thu vien\n",
    "from mysql.connector import connect"
   ]
  },
  {
   "cell_type": "code",
   "execution_count": 17,
   "metadata": {},
   "outputs": [],
   "source": [
    "# ket noi den CSDL\n",
    "conn = connect(host='172.24.40.247', database='petsaledb', user='hv', password='123456', \n",
    "               port='3306')"
   ]
  },
  {
   "cell_type": "code",
   "execution_count": 18,
   "metadata": {},
   "outputs": [],
   "source": [
    "# xin cap cursor\n",
    "cur = conn.cursor()"
   ]
  },
  {
   "cell_type": "code",
   "execution_count": 19,
   "metadata": {},
   "outputs": [],
   "source": [
    "# chuan bi cau lenh va cho thuc hien\n",
    "stm = 'select * from petsale'\n",
    "cur.execute(stm)"
   ]
  },
  {
   "cell_type": "code",
   "execution_count": 20,
   "metadata": {},
   "outputs": [
    {
     "name": "stdout",
     "output_type": "stream",
     "text": [
      "(1, 'Cat', 9, Decimal('450.09'), datetime.date(2020, 5, 29))\n",
      "(2, 'Dog', 3, Decimal('666.66'), datetime.date(2020, 6, 1))\n",
      "(3, 'Dog', 1, Decimal('100.00'), datetime.date(2020, 6, 4))\n",
      "(4, 'Parrot', 2, Decimal('50.00'), datetime.date(2020, 6, 4))\n",
      "(5, 'Dog', 1, Decimal('75.75'), datetime.date(2020, 6, 10))\n",
      "(6, 'Hamster', 6, Decimal('60.60'), datetime.date(2020, 6, 11))\n",
      "(7, 'Cat', 1, Decimal('44.44'), datetime.date(2020, 6, 11))\n",
      "(8, 'GoldFish', 24, Decimal('48.48'), datetime.date(2020, 6, 14))\n",
      "(9, 'Dog', 2, Decimal('222.22'), datetime.date(2020, 6, 15))\n"
     ]
    }
   ],
   "source": [
    "# doc va in ra\n",
    "for row in cur:\n",
    "    print(row)"
   ]
  },
  {
   "cell_type": "code",
   "execution_count": 21,
   "metadata": {},
   "outputs": [
    {
     "data": {
      "text/plain": [
       "True"
      ]
     },
     "execution_count": 21,
     "metadata": {},
     "output_type": "execute_result"
    }
   ],
   "source": [
    "cur.close()"
   ]
  },
  {
   "cell_type": "code",
   "execution_count": 22,
   "metadata": {},
   "outputs": [],
   "source": [
    "conn.close()"
   ]
  },
  {
   "cell_type": "code",
   "execution_count": null,
   "metadata": {},
   "outputs": [],
   "source": []
  }
 ],
 "metadata": {
  "kernelspec": {
   "display_name": "Python 3",
   "language": "python",
   "name": "python3"
  },
  "language_info": {
   "codemirror_mode": {
    "name": "ipython",
    "version": 3
   },
   "file_extension": ".py",
   "mimetype": "text/x-python",
   "name": "python",
   "nbconvert_exporter": "python",
   "pygments_lexer": "ipython3",
   "version": "3.6.8"
  }
 },
 "nbformat": 4,
 "nbformat_minor": 2
}
