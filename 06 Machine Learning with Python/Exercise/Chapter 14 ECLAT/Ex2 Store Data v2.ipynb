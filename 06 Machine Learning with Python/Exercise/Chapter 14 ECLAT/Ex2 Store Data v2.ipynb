{
 "cells": [
  {
   "cell_type": "markdown",
   "metadata": {},
   "source": [
    "### Cho dữ liệu store data trong tập tin dataset_group.csv.\n",
    "### Yêu cầu: Áp dụng thuật toán ECLAT để tính toán mức độ kết hợp giữa các item\n",
    "1. Chuẩn hóa dữ liệu\n",
    "2. Áp dụng ECLAT, Tìm kết quả\n",
    "3. Cho biết 10 nhóm có độ kết hợp cao nhất?\n",
    "4. Tìm kiếm thông tin từ kết quả: trong thông tin kết quả có 'eggs' không? Nếu có thì 'eggs' kết hợp với item nào?\""
   ]
  },
  {
   "cell_type": "code",
   "execution_count": 1,
   "metadata": {},
   "outputs": [],
   "source": [
    "import sys\n",
    "import random\n",
    "import pandas as pd\n",
    "from collections import defaultdict\n",
    "from collections import OrderedDict\n",
    "\n",
    "from mlxtend.preprocessing import TransactionEncoder\n",
    "from mlxtend.frequent_patterns import apriori"
   ]
  },
  {
   "cell_type": "code",
   "execution_count": 2,
   "metadata": {},
   "outputs": [],
   "source": [
    "# source code from: http://codegist.net/snippet/python/eclatpy_evertheylen_python\n",
    "def tidlists(transactions):\n",
    "    tl = defaultdict(set)\n",
    "    for tid, t in enumerate(transactions):\n",
    "        for item in t:\n",
    "            tl[item].add(tid)\n",
    "    return list(tl.items())\n",
    "\n",
    "class IntersectAll:\n",
    "    def __and__(self, other):\n",
    "        return other"
   ]
  },
  {
   "cell_type": "code",
   "execution_count": 3,
   "metadata": {},
   "outputs": [],
   "source": [
    "IntersectAll = IntersectAll()"
   ]
  },
  {
   "cell_type": "code",
   "execution_count": 4,
   "metadata": {},
   "outputs": [],
   "source": [
    "def eclat(items, minsup=0, minlen=1):\n",
    "    frequent_itemsets = {(): IntersectAll}\n",
    "    def recurse(items, prefix):\n",
    "        while len(items) > 0:\n",
    "            item, item_tidlist = items.pop()\n",
    "            l = prefix + (item,) # l is the (ordered) tuple of items we are looking\n",
    "            new_tidlist = frequent_itemsets[prefix] & item_tidlist\n",
    "            if len(new_tidlist) >= minsup: # add frequent_itemsets to the new frequency\n",
    "                frequent_itemsets[l] = new_tidlist\n",
    "                    \n",
    "            # define the new l-conditional database\n",
    "            new_items = []\n",
    "            for new_item, _item_tidlist in items:\n",
    "                new_item_tidlist = _item_tidlist & item_tidlist\n",
    "                if len(new_item_tidlist) >= minsup:\n",
    "                    new_items.append((new_item, new_item_tidlist))\n",
    "                    \n",
    "            # recurse, with l as prefix\n",
    "            recurse(new_items, l)\n",
    "            \n",
    "    recurse(items.copy(), ())\n",
    "    return {k: len(v) for k, v in frequent_itemsets.items() if len(k) >= minlen}"
   ]
  },
  {
   "cell_type": "code",
   "execution_count": 5,
   "metadata": {},
   "outputs": [],
   "source": [
    "# load dữ liệu\n",
    "data = pd.read_csv(\"../../Data/dataset_group.csv\", header = None, sep=',')"
   ]
  },
  {
   "cell_type": "code",
   "execution_count": 6,
   "metadata": {},
   "outputs": [
    {
     "name": "stdout",
     "output_type": "stream",
     "text": [
      "<class 'pandas.core.frame.DataFrame'>\n",
      "RangeIndex: 22343 entries, 0 to 22342\n",
      "Data columns (total 3 columns):\n",
      " #   Column  Non-Null Count  Dtype \n",
      "---  ------  --------------  ----- \n",
      " 0   0       22343 non-null  object\n",
      " 1   1       22343 non-null  int64 \n",
      " 2   2       22343 non-null  object\n",
      "dtypes: int64(1), object(2)\n",
      "memory usage: 523.8+ KB\n"
     ]
    }
   ],
   "source": [
    "data.info()"
   ]
  },
  {
   "cell_type": "code",
   "execution_count": 7,
   "metadata": {},
   "outputs": [
    {
     "data": {
      "text/html": [
       "<div>\n",
       "<style scoped>\n",
       "    .dataframe tbody tr th:only-of-type {\n",
       "        vertical-align: middle;\n",
       "    }\n",
       "\n",
       "    .dataframe tbody tr th {\n",
       "        vertical-align: top;\n",
       "    }\n",
       "\n",
       "    .dataframe thead th {\n",
       "        text-align: right;\n",
       "    }\n",
       "</style>\n",
       "<table border=\"1\" class=\"dataframe\">\n",
       "  <thead>\n",
       "    <tr style=\"text-align: right;\">\n",
       "      <th></th>\n",
       "      <th>0</th>\n",
       "      <th>1</th>\n",
       "      <th>2</th>\n",
       "    </tr>\n",
       "  </thead>\n",
       "  <tbody>\n",
       "    <tr>\n",
       "      <th>0</th>\n",
       "      <td>2000-01-01</td>\n",
       "      <td>1</td>\n",
       "      <td>yogurt</td>\n",
       "    </tr>\n",
       "    <tr>\n",
       "      <th>1</th>\n",
       "      <td>2000-01-01</td>\n",
       "      <td>1</td>\n",
       "      <td>pork</td>\n",
       "    </tr>\n",
       "    <tr>\n",
       "      <th>2</th>\n",
       "      <td>2000-01-01</td>\n",
       "      <td>1</td>\n",
       "      <td>sandwich bags</td>\n",
       "    </tr>\n",
       "  </tbody>\n",
       "</table>\n",
       "</div>"
      ],
      "text/plain": [
       "            0  1              2\n",
       "0  2000-01-01  1         yogurt\n",
       "1  2000-01-01  1           pork\n",
       "2  2000-01-01  1  sandwich bags"
      ]
     },
     "execution_count": 7,
     "metadata": {},
     "output_type": "execute_result"
    }
   ],
   "source": [
    "data.head(3)"
   ]
  },
  {
   "cell_type": "code",
   "execution_count": 8,
   "metadata": {},
   "outputs": [],
   "source": [
    "df = data.iloc[:,1:3]"
   ]
  },
  {
   "cell_type": "code",
   "execution_count": 9,
   "metadata": {},
   "outputs": [
    {
     "data": {
      "text/html": [
       "<div>\n",
       "<style scoped>\n",
       "    .dataframe tbody tr th:only-of-type {\n",
       "        vertical-align: middle;\n",
       "    }\n",
       "\n",
       "    .dataframe tbody tr th {\n",
       "        vertical-align: top;\n",
       "    }\n",
       "\n",
       "    .dataframe thead th {\n",
       "        text-align: right;\n",
       "    }\n",
       "</style>\n",
       "<table border=\"1\" class=\"dataframe\">\n",
       "  <thead>\n",
       "    <tr style=\"text-align: right;\">\n",
       "      <th></th>\n",
       "      <th>1</th>\n",
       "      <th>2</th>\n",
       "    </tr>\n",
       "  </thead>\n",
       "  <tbody>\n",
       "    <tr>\n",
       "      <th>0</th>\n",
       "      <td>1</td>\n",
       "      <td>yogurt</td>\n",
       "    </tr>\n",
       "    <tr>\n",
       "      <th>1</th>\n",
       "      <td>1</td>\n",
       "      <td>pork</td>\n",
       "    </tr>\n",
       "    <tr>\n",
       "      <th>2</th>\n",
       "      <td>1</td>\n",
       "      <td>sandwich bags</td>\n",
       "    </tr>\n",
       "  </tbody>\n",
       "</table>\n",
       "</div>"
      ],
      "text/plain": [
       "   1              2\n",
       "0  1         yogurt\n",
       "1  1           pork\n",
       "2  1  sandwich bags"
      ]
     },
     "execution_count": 9,
     "metadata": {},
     "output_type": "execute_result"
    }
   ],
   "source": [
    "df.head(3)"
   ]
  },
  {
   "cell_type": "code",
   "execution_count": 10,
   "metadata": {},
   "outputs": [],
   "source": [
    "dataset = df.groupby(1)[2].apply(list)"
   ]
  },
  {
   "cell_type": "code",
   "execution_count": 11,
   "metadata": {},
   "outputs": [
    {
     "data": {
      "text/plain": [
       "['yogurt',\n",
       " 'pork',\n",
       " 'sandwich bags',\n",
       " 'lunch meat',\n",
       " 'all- purpose',\n",
       " 'flour',\n",
       " 'soda',\n",
       " 'butter',\n",
       " 'vegetables',\n",
       " 'beef',\n",
       " 'aluminum foil',\n",
       " 'all- purpose',\n",
       " 'dinner rolls',\n",
       " 'shampoo',\n",
       " 'all- purpose',\n",
       " 'mixes',\n",
       " 'soap',\n",
       " 'laundry detergent',\n",
       " 'ice cream',\n",
       " 'dinner rolls']"
      ]
     },
     "execution_count": 11,
     "metadata": {},
     "output_type": "execute_result"
    }
   ],
   "source": [
    "dataset[1]"
   ]
  },
  {
   "cell_type": "code",
   "execution_count": 12,
   "metadata": {},
   "outputs": [
    {
     "data": {
      "text/plain": [
       "'yogurt'"
      ]
     },
     "execution_count": 12,
     "metadata": {},
     "output_type": "execute_result"
    }
   ],
   "source": [
    "tl = tidlists(dataset)\n",
    "tl[0][0]"
   ]
  },
  {
   "cell_type": "code",
   "execution_count": 13,
   "metadata": {},
   "outputs": [
    {
     "data": {
      "text/plain": [
       "38"
      ]
     },
     "execution_count": 13,
     "metadata": {},
     "output_type": "execute_result"
    }
   ],
   "source": [
    "len(tl)"
   ]
  },
  {
   "cell_type": "code",
   "execution_count": 14,
   "metadata": {},
   "outputs": [],
   "source": [
    "for i in range(len(tl)-1):\n",
    "    if tl[i][0] == 'nan':\n",
    "        print(i)\n",
    "        del tl[i]"
   ]
  },
  {
   "cell_type": "code",
   "execution_count": 15,
   "metadata": {},
   "outputs": [],
   "source": [
    "result = eclat(tl, minsup=150, minlen=3)"
   ]
  },
  {
   "cell_type": "code",
   "execution_count": 16,
   "metadata": {},
   "outputs": [
    {
     "data": {
      "text/plain": [
       "246"
      ]
     },
     "execution_count": 16,
     "metadata": {},
     "output_type": "execute_result"
    }
   ],
   "source": [
    "len(result)"
   ]
  },
  {
   "cell_type": "code",
   "execution_count": 17,
   "metadata": {},
   "outputs": [
    {
     "data": {
      "text/plain": [
       "dict"
      ]
     },
     "execution_count": 17,
     "metadata": {},
     "output_type": "execute_result"
    }
   ],
   "source": [
    "type(result)"
   ]
  },
  {
   "cell_type": "code",
   "execution_count": 18,
   "metadata": {},
   "outputs": [
    {
     "data": {
      "text/plain": [
       "[(('sugar', 'eggs', 'vegetables'), 150),\n",
       " (('sugar', 'poultry', 'vegetables'), 173),\n",
       " (('sugar', 'cereals', 'vegetables'), 150),\n",
       " (('sugar', 'dishwashing liquid/detergent', 'vegetables'), 152),\n",
       " (('sugar', 'waffles', 'vegetables'), 155),\n",
       " (('sugar', 'ice cream', 'vegetables'), 151),\n",
       " (('sugar', 'dinner rolls', 'vegetables'), 157),\n",
       " (('sugar', 'vegetables', 'soda'), 155),\n",
       " (('sugar', 'vegetables', 'lunch meat'), 161),\n",
       " (('sugar', 'vegetables', 'yogurt'), 152)]"
      ]
     },
     "execution_count": 18,
     "metadata": {},
     "output_type": "execute_result"
    }
   ],
   "source": [
    "# get 10 first elements\n",
    "list(result.items())[:10]"
   ]
  },
  {
   "cell_type": "code",
   "execution_count": 19,
   "metadata": {},
   "outputs": [
    {
     "data": {
      "text/plain": [
       "collections.OrderedDict"
      ]
     },
     "execution_count": 19,
     "metadata": {},
     "output_type": "execute_result"
    }
   ],
   "source": [
    "d_sorted_by_value = OrderedDict(sorted(result.items(), key=lambda x: x[1]))\n",
    "type(d_sorted_by_value)"
   ]
  },
  {
   "cell_type": "code",
   "execution_count": 20,
   "metadata": {},
   "outputs": [
    {
     "data": {
      "text/plain": [
       "(184, ('poultry', 'dinner rolls', 'vegetables'))"
      ]
     },
     "execution_count": 20,
     "metadata": {},
     "output_type": "execute_result"
    }
   ],
   "source": [
    "sorted_d = sorted((value, key) for (key,value) in result.items())\n",
    "sorted_d[len(sorted_d)-1]"
   ]
  },
  {
   "cell_type": "code",
   "execution_count": 21,
   "metadata": {},
   "outputs": [
    {
     "data": {
      "text/plain": [
       "[(175, ('eggs', 'dishwashing liquid/detergent', 'vegetables')),\n",
       " (177, ('eggs', 'poultry', 'vegetables')),\n",
       " (178, ('eggs', 'dinner rolls', 'vegetables')),\n",
       " (178, ('poultry', 'mixes', 'vegetables')),\n",
       " (179, ('eggs', 'vegetables', 'yogurt')),\n",
       " (179, ('waffles', 'vegetables', 'lunch meat')),\n",
       " (180, ('eggs', 'vegetables', 'soda')),\n",
       " (180, ('poultry', 'vegetables', 'lunch meat')),\n",
       " (182, ('poultry', 'dishwashing liquid/detergent', 'vegetables')),\n",
       " (184, ('poultry', 'dinner rolls', 'vegetables'))]"
      ]
     },
     "execution_count": 21,
     "metadata": {},
     "output_type": "execute_result"
    }
   ],
   "source": [
    "sorted_d[len(sorted_d)-10:]"
   ]
  },
  {
   "cell_type": "code",
   "execution_count": 22,
   "metadata": {},
   "outputs": [
    {
     "name": "stdout",
     "output_type": "stream",
     "text": [
      "('sugar', 'eggs', 'vegetables') : 150\n",
      "('fruits', 'eggs', 'vegetables') : 151\n",
      "('coffee/tea', 'eggs', 'vegetables') : 155\n",
      "('paper towels', 'eggs', 'vegetables') : 163\n",
      "('pasta', 'eggs', 'vegetables') : 164\n",
      "('juice', 'eggs', 'vegetables') : 164\n",
      "('eggs', 'bagels', 'vegetables') : 165\n",
      "('eggs', 'poultry', 'vegetables') : 177\n",
      "('eggs', 'ketchup', 'vegetables') : 160\n",
      "('eggs', 'spaghetti sauce', 'vegetables') : 158\n",
      "('eggs', 'tortillas', 'vegetables') : 151\n",
      "('eggs', 'cereals', 'vegetables') : 172\n",
      "('eggs', 'individual meals', 'vegetables') : 153\n",
      "('eggs', 'dishwashing liquid/detergent', 'vegetables') : 175\n",
      "('eggs', 'milk', 'vegetables') : 165\n",
      "('eggs', 'cheeses', 'vegetables') : 171\n",
      "('eggs', 'waffles', 'vegetables') : 165\n",
      "('eggs', 'toilet paper', 'vegetables') : 156\n",
      "('eggs', 'ice cream', 'vegetables') : 157\n",
      "('eggs', 'laundry detergent', 'vegetables') : 160\n",
      "('eggs', 'soap', 'vegetables') : 166\n",
      "('eggs', 'mixes', 'vegetables') : 151\n",
      "('eggs', 'dinner rolls', 'vegetables') : 178\n",
      "('eggs', 'aluminum foil', 'vegetables') : 157\n",
      "('eggs', 'beef', 'vegetables') : 160\n",
      "('eggs', 'vegetables', 'butter') : 155\n",
      "('eggs', 'vegetables', 'soda') : 180\n",
      "('eggs', 'vegetables', 'all- purpose') : 160\n",
      "('eggs', 'vegetables', 'lunch meat') : 160\n",
      "('eggs', 'vegetables', 'yogurt') : 179\n"
     ]
    }
   ],
   "source": [
    "# \"Có Milk không? nó kết hợp với item nào?\"\n",
    "for k, v in result.items():\n",
    "    if \"eggs\" in k:\n",
    "        print(k, \":\", v)"
   ]
  },
  {
   "cell_type": "code",
   "execution_count": null,
   "metadata": {},
   "outputs": [],
   "source": []
  }
 ],
 "metadata": {
  "kernelspec": {
   "display_name": "Python 3",
   "language": "python",
   "name": "python3"
  },
  "language_info": {
   "codemirror_mode": {
    "name": "ipython",
    "version": 3
   },
   "file_extension": ".py",
   "mimetype": "text/x-python",
   "name": "python",
   "nbconvert_exporter": "python",
   "pygments_lexer": "ipython3",
   "version": "3.7.9"
  }
 },
 "nbformat": 4,
 "nbformat_minor": 4
}
