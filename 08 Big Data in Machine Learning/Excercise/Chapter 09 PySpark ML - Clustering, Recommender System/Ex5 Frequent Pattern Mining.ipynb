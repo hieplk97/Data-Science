{
 "cells": [
  {
   "cell_type": "markdown",
   "metadata": {},
   "source": [
    "#### Requirement:\n",
    "* Read dataset\n",
    "* Pre-processing data\n",
    "* Apply FPGrowth algorithm to find association rules from this dataset. Find the most popular items in a basket"
   ]
  },
  {
   "cell_type": "code",
   "execution_count": 1,
   "metadata": {},
   "outputs": [
    {
     "data": {
      "text/html": [
       "<style>pre { white-space: pre !important; }</style>"
      ],
      "text/plain": [
       "<IPython.core.display.HTML object>"
      ]
     },
     "metadata": {},
     "output_type": "display_data"
    }
   ],
   "source": [
    "from IPython.core.display import HTML\n",
    "display(HTML(\"<style>pre { white-space: pre !important; }</style>\"))"
   ]
  },
  {
   "cell_type": "code",
   "execution_count": 2,
   "metadata": {},
   "outputs": [],
   "source": [
    "import findspark\n",
    "findspark.init()"
   ]
  },
  {
   "cell_type": "code",
   "execution_count": 3,
   "metadata": {},
   "outputs": [],
   "source": [
    "from pyspark.sql import SparkSession\n",
    "from pyspark.sql.functions import col, collect_list, collect_set, count\n",
    "from pyspark.sql.types import StringType\n",
    "\n",
    "from pyspark.ml.feature import StringIndexer\n",
    "from pyspark.ml.fpm import FPGrowth\n",
    "from pyspark.ml.evaluation import RegressionEvaluator"
   ]
  },
  {
   "cell_type": "code",
   "execution_count": 4,
   "metadata": {},
   "outputs": [],
   "source": [
    "spark = SparkSession.builder.appName('ex_demo').getOrCreate()"
   ]
  },
  {
   "cell_type": "code",
   "execution_count": 5,
   "metadata": {},
   "outputs": [],
   "source": [
    "# Load data\n",
    "data = spark.read.csv(\"../../Data/instacart_2017_05_01/order_products__train.csv\", header=True, inferSchema=True)"
   ]
  },
  {
   "cell_type": "code",
   "execution_count": 6,
   "metadata": {},
   "outputs": [
    {
     "data": {
      "text/plain": [
       "1384617"
      ]
     },
     "execution_count": 6,
     "metadata": {},
     "output_type": "execute_result"
    }
   ],
   "source": [
    "data.count()"
   ]
  },
  {
   "cell_type": "code",
   "execution_count": 7,
   "metadata": {},
   "outputs": [
    {
     "name": "stdout",
     "output_type": "stream",
     "text": [
      "+--------+----------+-----------------+---------+\n",
      "|order_id|product_id|add_to_cart_order|reordered|\n",
      "+--------+----------+-----------------+---------+\n",
      "|       1|     49302|                1|        1|\n",
      "|       1|     11109|                2|        1|\n",
      "|       1|     10246|                3|        0|\n",
      "|       1|     49683|                4|        0|\n",
      "|       1|     43633|                5|        1|\n",
      "|       1|     13176|                6|        0|\n",
      "|       1|     47209|                7|        0|\n",
      "|       1|     22035|                8|        1|\n",
      "|      36|     39612|                1|        0|\n",
      "|      36|     19660|                2|        1|\n",
      "|      36|     49235|                3|        0|\n",
      "|      36|     43086|                4|        1|\n",
      "|      36|     46620|                5|        1|\n",
      "|      36|     34497|                6|        1|\n",
      "|      36|     48679|                7|        1|\n",
      "|      36|     46979|                8|        1|\n",
      "|      38|     11913|                1|        0|\n",
      "|      38|     18159|                2|        0|\n",
      "|      38|      4461|                3|        0|\n",
      "|      38|     21616|                4|        1|\n",
      "+--------+----------+-----------------+---------+\n",
      "only showing top 20 rows\n",
      "\n"
     ]
    }
   ],
   "source": [
    "data.show()"
   ]
  },
  {
   "cell_type": "markdown",
   "metadata": {},
   "source": [
    "### Pre-processing data"
   ]
  },
  {
   "cell_type": "code",
   "execution_count": 8,
   "metadata": {},
   "outputs": [],
   "source": [
    "data.createOrReplaceTempView(\"order_products_train\")"
   ]
  },
  {
   "cell_type": "code",
   "execution_count": 9,
   "metadata": {},
   "outputs": [
    {
     "data": {
      "text/plain": [
       "39123"
      ]
     },
     "execution_count": 9,
     "metadata": {},
     "output_type": "execute_result"
    }
   ],
   "source": [
    "products = spark.sql(\"SELECT DISTINCT product_id FROM order_products_train\")\n",
    "products.count()"
   ]
  },
  {
   "cell_type": "code",
   "execution_count": 10,
   "metadata": {},
   "outputs": [],
   "source": [
    "rawData = spark.sql(\"SELECT * FROM order_products_train\")\n",
    "baskets = rawData.groupBy('order_id').agg(collect_set('product_id').alias('items'))\n",
    "baskets.createOrReplaceTempView(\"baskets\")"
   ]
  },
  {
   "cell_type": "code",
   "execution_count": 11,
   "metadata": {},
   "outputs": [
    {
     "name": "stdout",
     "output_type": "stream",
     "text": [
      "+--------+--------------------------------------------------------------------------------------------------------------------------------------------------------------------------------------------------------------------+\n",
      "|order_id|items                                                                                                                                                                                                               |\n",
      "+--------+--------------------------------------------------------------------------------------------------------------------------------------------------------------------------------------------------------------------+\n",
      "|1342    |[30827, 3798, 14966, 21137, 46129, 33081, 13176, 7862]                                                                                                                                                              |\n",
      "|1591    |[48246, 44116, 24852, 5194, 9130, 48823, 46473, 40310, 32520, 22105, 16900, 27681, 4103, 44008, 17758, 41671, 25316, 45061, 38805, 48205, 25237, 19604, 5384, 27344, 17203, 18792, 12986, 39758, 34358, 31215, 9387]|\n",
      "|4519    |[29270]                                                                                                                                                                                                             |\n",
      "|4935    |[45190]                                                                                                                                                                                                             |\n",
      "|6357    |[33731, 14669, 43789, 37524, 39408, 43129, 24852, 48745, 38772]                                                                                                                                                     |\n",
      "+--------+--------------------------------------------------------------------------------------------------------------------------------------------------------------------------------------------------------------------+\n",
      "only showing top 5 rows\n",
      "\n"
     ]
    }
   ],
   "source": [
    "baskets.show(5, False)"
   ]
  },
  {
   "cell_type": "code",
   "execution_count": 12,
   "metadata": {},
   "outputs": [
    {
     "data": {
      "text/plain": [
       "pyspark.sql.dataframe.DataFrame"
      ]
     },
     "execution_count": 12,
     "metadata": {},
     "output_type": "execute_result"
    }
   ],
   "source": [
    "type(baskets)"
   ]
  },
  {
   "cell_type": "code",
   "execution_count": 13,
   "metadata": {},
   "outputs": [],
   "source": [
    "fpGrowth = FPGrowth(itemsCol=\"items\", minSupport=0.003, minConfidence=0.003)\n",
    "model = fpGrowth.fit(baskets)"
   ]
  },
  {
   "cell_type": "code",
   "execution_count": 14,
   "metadata": {},
   "outputs": [
    {
     "name": "stdout",
     "output_type": "stream",
     "text": [
      "+--------------------+-----+\n",
      "|               items| freq|\n",
      "+--------------------+-----+\n",
      "|             [13629]|  772|\n",
      "|              [5194]|  475|\n",
      "|             [24852]|18726|\n",
      "|             [13176]|15480|\n",
      "|             [35921]|  769|\n",
      "|             [20345]|  473|\n",
      "|             [21137]|10894|\n",
      "|      [21137, 13176]| 3074|\n",
      "|      [21137, 24852]| 2174|\n",
      "|             [23165]|  764|\n",
      "|             [13380]|  473|\n",
      "|              [7969]|  472|\n",
      "|             [21903]| 9784|\n",
      "|      [21903, 21137]| 1639|\n",
      "|[21903, 21137, 13...|  587|\n",
      "|      [21903, 13176]| 2236|\n",
      "|      [21903, 24852]| 2000|\n",
      "|             [32478]|  763|\n",
      "|             [47626]| 8135|\n",
      "|      [47626, 21137]| 1017|\n",
      "+--------------------+-----+\n",
      "only showing top 20 rows\n",
      "\n"
     ]
    }
   ],
   "source": [
    "# Display frequent itemsets\n",
    "model.freqItemsets.show()"
   ]
  },
  {
   "cell_type": "code",
   "execution_count": 15,
   "metadata": {},
   "outputs": [],
   "source": [
    "# Transform examines the input items agaist all the association rules and summary consquents as predict\n",
    "mostPopularItemInABasket = model.transform(baskets)"
   ]
  },
  {
   "cell_type": "code",
   "execution_count": 16,
   "metadata": {},
   "outputs": [
    {
     "name": "stdout",
     "output_type": "stream",
     "text": [
      "+--------+--------------------+--------------------+\n",
      "|order_id|               items|          prediction|\n",
      "+--------+--------------------+--------------------+\n",
      "|    1342|[30827, 3798, 149...|[21903, 47626, 47...|\n",
      "|    1591|[48246, 44116, 24...|[21137, 21903, 47...|\n",
      "|    4519|             [29270]|                  []|\n",
      "|    4935|             [45190]|                  []|\n",
      "|    6357|[33731, 14669, 43...|[21137, 21903, 47...|\n",
      "|   10362|[28522, 43789, 12...|[21137, 47626, 47...|\n",
      "|   19204|[45255, 37285, 48...|                  []|\n",
      "|   29601|[2716, 48057, 219...|[21137, 21903, 47...|\n",
      "|   31035|[40723, 8174, 131...|[21137, 21903, 47...|\n",
      "|   40011|[27292, 35213, 21...|[21137, 13176, 24...|\n",
      "|   46266|[38558, 48642, 13...|[47626, 47766, 47...|\n",
      "|   51607|[41390, 42752, 17...|                  []|\n",
      "|   58797|[30827, 8803, 326...|[21137, 21903, 47...|\n",
      "|   61793|[26348, 6184, 433...|[21137, 16797, 39...|\n",
      "|   67089|[47766, 29388, 21...|[47626, 21137, 47...|\n",
      "|   70863|[34791, 2618, 173...|      [13176, 24852]|\n",
      "|   88674|[25659, 16262, 22...|                  []|\n",
      "|   91937|[20708, 38200, 26...|                  []|\n",
      "|   92317|[18105, 34969, 17...|[13176, 21903, 21...|\n",
      "|   99621|[21616, 43789, 38...|[26209, 21137, 47...|\n",
      "+--------+--------------------+--------------------+\n",
      "only showing top 20 rows\n",
      "\n"
     ]
    }
   ],
   "source": [
    "mostPopularItemInABasket.show()"
   ]
  },
  {
   "cell_type": "markdown",
   "metadata": {},
   "source": [
    "### Use product_name instead of product_id\n"
   ]
  },
  {
   "cell_type": "code",
   "execution_count": 17,
   "metadata": {},
   "outputs": [],
   "source": [
    "product_data = spark.read.csv('../../Data/instacart_2017_05_01/products.csv', header=True, inferSchema=True)"
   ]
  },
  {
   "cell_type": "code",
   "execution_count": 18,
   "metadata": {},
   "outputs": [
    {
     "name": "stdout",
     "output_type": "stream",
     "text": [
      "+----------+-----------------------------------------------------------------+--------+-------------+\n",
      "|product_id|product_name                                                     |aisle_id|department_id|\n",
      "+----------+-----------------------------------------------------------------+--------+-------------+\n",
      "|1         |Chocolate Sandwich Cookies                                       |61      |19           |\n",
      "|2         |All-Seasons Salt                                                 |104     |13           |\n",
      "|3         |Robust Golden Unsweetened Oolong Tea                             |94      |7            |\n",
      "|4         |Smart Ones Classic Favorites Mini Rigatoni With Vodka Cream Sauce|38      |1            |\n",
      "|5         |Green Chile Anytime Sauce                                        |5       |13           |\n",
      "+----------+-----------------------------------------------------------------+--------+-------------+\n",
      "only showing top 5 rows\n",
      "\n"
     ]
    }
   ],
   "source": [
    "product_data.show(5, truncate=False)"
   ]
  },
  {
   "cell_type": "code",
   "execution_count": 19,
   "metadata": {},
   "outputs": [],
   "source": [
    "product_data.createOrReplaceTempView(\"products\")"
   ]
  },
  {
   "cell_type": "code",
   "execution_count": 20,
   "metadata": {},
   "outputs": [],
   "source": [
    "rawData_1 = spark.sql('''SELECT p.product_name, o.order_id \n",
    "                         FROM products p \n",
    "                         INNER JOIN order_products_train o\n",
    "                         WHERE o.product_id = p.product_id''')\n",
    "baskets_1 = rawData.groupBy('order_id').agg(collect_set('product_id').alias('items'))\n",
    "baskets_1.createOrReplaceTempView(\"baskets_1\")"
   ]
  },
  {
   "cell_type": "code",
   "execution_count": 21,
   "metadata": {},
   "outputs": [
    {
     "data": {
      "text/plain": [
       "[Row(order_id=1342, items=[30827, 3798, 14966, 21137, 46129, 33081, 13176, 7862]),\n",
       " Row(order_id=1591, items=[48246, 44116, 24852, 5194, 9130, 48823, 46473, 40310, 32520, 22105, 16900, 27681, 4103, 44008, 17758, 41671, 25316, 45061, 38805, 48205, 25237, 19604, 5384, 27344, 17203, 18792, 12986, 39758, 34358, 31215, 9387]),\n",
       " Row(order_id=4519, items=[29270])]"
      ]
     },
     "execution_count": 21,
     "metadata": {},
     "output_type": "execute_result"
    }
   ],
   "source": [
    "baskets_1.head(3)"
   ]
  },
  {
   "cell_type": "code",
   "execution_count": 22,
   "metadata": {},
   "outputs": [],
   "source": [
    "fpGrowth_1 = FPGrowth(itemsCol=\"items\", minSupport=0.003, minConfidence=0.003)\n",
    "model_1 = fpGrowth.fit(baskets_1)"
   ]
  },
  {
   "cell_type": "code",
   "execution_count": 23,
   "metadata": {},
   "outputs": [
    {
     "name": "stdout",
     "output_type": "stream",
     "text": [
      "+--------------------+-----+\n",
      "|               items| freq|\n",
      "+--------------------+-----+\n",
      "|             [13629]|  772|\n",
      "|              [5194]|  475|\n",
      "|             [24852]|18726|\n",
      "|             [13176]|15480|\n",
      "|             [35921]|  769|\n",
      "|             [20345]|  473|\n",
      "|             [21137]|10894|\n",
      "|      [21137, 13176]| 3074|\n",
      "|      [21137, 24852]| 2174|\n",
      "|             [23165]|  764|\n",
      "|             [13380]|  473|\n",
      "|              [7969]|  472|\n",
      "|             [21903]| 9784|\n",
      "|      [21903, 21137]| 1639|\n",
      "|[21903, 21137, 13...|  587|\n",
      "|      [21903, 13176]| 2236|\n",
      "|      [21903, 24852]| 2000|\n",
      "|             [32478]|  763|\n",
      "|             [47626]| 8135|\n",
      "|      [47626, 21137]| 1017|\n",
      "+--------------------+-----+\n",
      "only showing top 20 rows\n",
      "\n"
     ]
    }
   ],
   "source": [
    "# Display frequent itemsets\n",
    "model_1.freqItemsets.show()"
   ]
  },
  {
   "cell_type": "code",
   "execution_count": 24,
   "metadata": {},
   "outputs": [],
   "source": [
    "mostPopularItemInABasket_1 = model.transform(baskets_1)"
   ]
  },
  {
   "cell_type": "code",
   "execution_count": 25,
   "metadata": {},
   "outputs": [
    {
     "data": {
      "text/plain": [
       "[Row(order_id=1342, items=[30827, 3798, 14966, 21137, 46129, 33081, 13176, 7862], prediction=[21903, 47626, 47766, 47209, 16797, 26209, 27966, 39275, 27845, 30391, 45007, 22935, 24964, 4920, 46979, 40706, 8518, 42265, 45066, 31717, 5876, 44632, 43352, 28204, 5450, 21616, 19057, 30489, 26604, 37646, 27104, 49235, 28985, 44359, 48679, 41950, 17794, 43961, 34126, 10749, 39877, 12341, 8277, 19660, 35951, 24838, 46667, 22035, 8174, 11520, 22825, 39928, 18465, 27521, 16759, 9839, 27156, 24852, 8424, 37067]),\n",
       " Row(order_id=1591, items=[48246, 44116, 24852, 5194, 9130, 48823, 46473, 40310, 32520, 22105, 16900, 27681, 4103, 44008, 17758, 41671, 25316, 45061, 38805, 48205, 25237, 19604, 5384, 27344, 17203, 18792, 12986, 39758, 34358, 31215, 9387], prediction=[21137, 21903, 47626, 47766, 47209, 16797, 26209, 27966, 39275, 27845, 30391, 45007, 22935, 24964, 4920, 46979, 40706, 8518, 4605, 42265, 45066, 31717, 44632, 43352, 28204, 5450, 8424, 21616, 24184, 19057, 30489, 26604, 37646, 27104, 49235, 28985, 44359, 48679, 41950, 21938, 17794, 43961, 27086, 49683, 10749, 39877, 9076, 5077, 8277, 34969, 24838, 25890, 22035, 29487, 28842, 20114, 22825, 15290, 46906, 11777, 28199, 47144, 41787]),\n",
       " Row(order_id=4519, items=[29270], prediction=[])]"
      ]
     },
     "execution_count": 25,
     "metadata": {},
     "output_type": "execute_result"
    }
   ],
   "source": [
    "mostPopularItemInABasket_1.head(3)"
   ]
  },
  {
   "cell_type": "code",
   "execution_count": 26,
   "metadata": {},
   "outputs": [
    {
     "data": {
      "text/plain": [
       "pyspark.sql.dataframe.DataFrame"
      ]
     },
     "execution_count": 26,
     "metadata": {},
     "output_type": "execute_result"
    }
   ],
   "source": [
    "type(mostPopularItemInABasket_1)"
   ]
  },
  {
   "cell_type": "code",
   "execution_count": 27,
   "metadata": {},
   "outputs": [
    {
     "name": "stdout",
     "output_type": "stream",
     "text": [
      "root\n",
      " |-- order_id: integer (nullable = true)\n",
      " |-- items: array (nullable = false)\n",
      " |    |-- element: integer (containsNull = false)\n",
      " |-- prediction: array (nullable = true)\n",
      " |    |-- element: integer (containsNull = false)\n",
      "\n"
     ]
    }
   ],
   "source": [
    "mostPopularItemInABasket_1.printSchema()"
   ]
  },
  {
   "cell_type": "code",
   "execution_count": 28,
   "metadata": {},
   "outputs": [],
   "source": [
    "mostPopularItemInABasket_1.createOrReplaceTempView(\"popular_items\")"
   ]
  },
  {
   "cell_type": "code",
   "execution_count": 29,
   "metadata": {},
   "outputs": [],
   "source": [
    "DF_cast = mostPopularItemInABasket_1.select('order_id', \n",
    "                                            mostPopularItemInABasket_1.items.cast(StringType()), \n",
    "                                            mostPopularItemInABasket_1.prediction.cast(StringType()))"
   ]
  },
  {
   "cell_type": "code",
   "execution_count": 30,
   "metadata": {},
   "outputs": [
    {
     "name": "stdout",
     "output_type": "stream",
     "text": [
      "root\n",
      " |-- order_id: integer (nullable = true)\n",
      " |-- items: string (nullable = false)\n",
      " |-- prediction: string (nullable = true)\n",
      "\n"
     ]
    }
   ],
   "source": [
    "DF_cast.printSchema()"
   ]
  },
  {
   "cell_type": "code",
   "execution_count": 31,
   "metadata": {},
   "outputs": [
    {
     "data": {
      "text/plain": [
       "[Row(order_id=1342, items='[30827, 3798, 14966, 21137, 46129, 33081, 13176, 7862]', prediction='[21903, 47626, 47766, 47209, 16797, 26209, 27966, 39275, 27845, 30391, 45007, 22935, 24964, 4920, 46979, 40706, 8518, 42265, 45066, 31717, 5876, 44632, 43352, 28204, 5450, 21616, 19057, 30489, 26604, 37646, 27104, 49235, 28985, 44359, 48679, 41950, 17794, 43961, 34126, 10749, 39877, 12341, 8277, 19660, 35951, 24838, 46667, 22035, 8174, 11520, 22825, 39928, 18465, 27521, 16759, 9839, 27156, 24852, 8424, 37067]'),\n",
       " Row(order_id=1591, items='[48246, 44116, 24852, 5194, 9130, 48823, 46473, 40310, 32520, 22105, 16900, 27681, 4103, 44008, 17758, 41671, 25316, 45061, 38805, 48205, 25237, 19604, 5384, 27344, 17203, 18792, 12986, 39758, 34358, 31215, 9387]', prediction='[21137, 21903, 47626, 47766, 47209, 16797, 26209, 27966, 39275, 27845, 30391, 45007, 22935, 24964, 4920, 46979, 40706, 8518, 4605, 42265, 45066, 31717, 44632, 43352, 28204, 5450, 8424, 21616, 24184, 19057, 30489, 26604, 37646, 27104, 49235, 28985, 44359, 48679, 41950, 21938, 17794, 43961, 27086, 49683, 10749, 39877, 9076, 5077, 8277, 34969, 24838, 25890, 22035, 29487, 28842, 20114, 22825, 15290, 46906, 11777, 28199, 47144, 41787]'),\n",
       " Row(order_id=4519, items='[29270]', prediction='[]')]"
      ]
     },
     "execution_count": 31,
     "metadata": {},
     "output_type": "execute_result"
    }
   ],
   "source": [
    "DF_cast.head(3)"
   ]
  }
 ],
 "metadata": {
  "kernelspec": {
   "display_name": "Python 3",
   "language": "python",
   "name": "python3"
  },
  "language_info": {
   "codemirror_mode": {
    "name": "ipython",
    "version": 3
   },
   "file_extension": ".py",
   "mimetype": "text/x-python",
   "name": "python",
   "nbconvert_exporter": "python",
   "pygments_lexer": "ipython3",
   "version": "3.8.3"
  }
 },
 "nbformat": 4,
 "nbformat_minor": 4
}
