{
 "cells": [
  {
   "cell_type": "code",
   "execution_count": 1,
   "metadata": {},
   "outputs": [
    {
     "name": "stderr",
     "output_type": "stream",
     "text": [
      "Loading required package: Rcpp\n",
      "\n",
      "## \n",
      "## Amelia II: Multiple Imputation\n",
      "## (Version 1.7.6, built: 2019-11-24)\n",
      "## Copyright (C) 2005-2021 James Honaker, Gary King and Matthew Blackwell\n",
      "## Refer to http://gking.harvard.edu/amelia/ for more information\n",
      "## \n",
      "\n"
     ]
    }
   ],
   "source": [
    "library(rpart)\n",
    "library(rpart.plot)\n",
    "library(Amelia)"
   ]
  },
  {
   "cell_type": "code",
   "execution_count": 2,
   "metadata": {},
   "outputs": [],
   "source": [
    "data = read.csv('../../Data/baseball.csv')"
   ]
  },
  {
   "cell_type": "code",
   "execution_count": 3,
   "metadata": {},
   "outputs": [
    {
     "data": {
      "text/html": [
       "<table>\n",
       "<caption>A data.frame: 6 × 7</caption>\n",
       "<thead>\n",
       "\t<tr><th></th><th scope=col>Name</th><th scope=col>Team</th><th scope=col>Position</th><th scope=col>Height</th><th scope=col>Weight</th><th scope=col>Age</th><th scope=col>PosCategory</th></tr>\n",
       "\t<tr><th></th><th scope=col>&lt;chr&gt;</th><th scope=col>&lt;chr&gt;</th><th scope=col>&lt;chr&gt;</th><th scope=col>&lt;int&gt;</th><th scope=col>&lt;int&gt;</th><th scope=col>&lt;dbl&gt;</th><th scope=col>&lt;chr&gt;</th></tr>\n",
       "</thead>\n",
       "<tbody>\n",
       "\t<tr><th scope=row>1</th><td>Adam_Donachie  </td><td>BAL</td><td>Catcher       </td><td>74</td><td>180</td><td>22.99</td><td>Catcher  </td></tr>\n",
       "\t<tr><th scope=row>2</th><td>Paul_Bako      </td><td>BAL</td><td>Catcher       </td><td>74</td><td>215</td><td>34.69</td><td>Catcher  </td></tr>\n",
       "\t<tr><th scope=row>3</th><td>Ramon_Hernandez</td><td>BAL</td><td>Catcher       </td><td>72</td><td>210</td><td>30.78</td><td>Catcher  </td></tr>\n",
       "\t<tr><th scope=row>4</th><td>Kevin_Millar   </td><td>BAL</td><td>First_Baseman </td><td>72</td><td>210</td><td>35.43</td><td>Infielder</td></tr>\n",
       "\t<tr><th scope=row>5</th><td>Chris_Gomez    </td><td>BAL</td><td>First_Baseman </td><td>73</td><td>188</td><td>35.71</td><td>Infielder</td></tr>\n",
       "\t<tr><th scope=row>6</th><td>Brian_Roberts  </td><td>BAL</td><td>Second_Baseman</td><td>69</td><td>176</td><td>29.39</td><td>Infielder</td></tr>\n",
       "</tbody>\n",
       "</table>\n"
      ],
      "text/latex": [
       "A data.frame: 6 × 7\n",
       "\\begin{tabular}{r|lllllll}\n",
       "  & Name & Team & Position & Height & Weight & Age & PosCategory\\\\\n",
       "  & <chr> & <chr> & <chr> & <int> & <int> & <dbl> & <chr>\\\\\n",
       "\\hline\n",
       "\t1 & Adam\\_Donachie   & BAL & Catcher        & 74 & 180 & 22.99 & Catcher  \\\\\n",
       "\t2 & Paul\\_Bako       & BAL & Catcher        & 74 & 215 & 34.69 & Catcher  \\\\\n",
       "\t3 & Ramon\\_Hernandez & BAL & Catcher        & 72 & 210 & 30.78 & Catcher  \\\\\n",
       "\t4 & Kevin\\_Millar    & BAL & First\\_Baseman  & 72 & 210 & 35.43 & Infielder\\\\\n",
       "\t5 & Chris\\_Gomez     & BAL & First\\_Baseman  & 73 & 188 & 35.71 & Infielder\\\\\n",
       "\t6 & Brian\\_Roberts   & BAL & Second\\_Baseman & 69 & 176 & 29.39 & Infielder\\\\\n",
       "\\end{tabular}\n"
      ],
      "text/markdown": [
       "\n",
       "A data.frame: 6 × 7\n",
       "\n",
       "| <!--/--> | Name &lt;chr&gt; | Team &lt;chr&gt; | Position &lt;chr&gt; | Height &lt;int&gt; | Weight &lt;int&gt; | Age &lt;dbl&gt; | PosCategory &lt;chr&gt; |\n",
       "|---|---|---|---|---|---|---|---|\n",
       "| 1 | Adam_Donachie   | BAL | Catcher        | 74 | 180 | 22.99 | Catcher   |\n",
       "| 2 | Paul_Bako       | BAL | Catcher        | 74 | 215 | 34.69 | Catcher   |\n",
       "| 3 | Ramon_Hernandez | BAL | Catcher        | 72 | 210 | 30.78 | Catcher   |\n",
       "| 4 | Kevin_Millar    | BAL | First_Baseman  | 72 | 210 | 35.43 | Infielder |\n",
       "| 5 | Chris_Gomez     | BAL | First_Baseman  | 73 | 188 | 35.71 | Infielder |\n",
       "| 6 | Brian_Roberts   | BAL | Second_Baseman | 69 | 176 | 29.39 | Infielder |\n",
       "\n"
      ],
      "text/plain": [
       "  Name            Team Position       Height Weight Age   PosCategory\n",
       "1 Adam_Donachie   BAL  Catcher        74     180    22.99 Catcher    \n",
       "2 Paul_Bako       BAL  Catcher        74     215    34.69 Catcher    \n",
       "3 Ramon_Hernandez BAL  Catcher        72     210    30.78 Catcher    \n",
       "4 Kevin_Millar    BAL  First_Baseman  72     210    35.43 Infielder  \n",
       "5 Chris_Gomez     BAL  First_Baseman  73     188    35.71 Infielder  \n",
       "6 Brian_Roberts   BAL  Second_Baseman 69     176    29.39 Infielder  "
      ]
     },
     "metadata": {},
     "output_type": "display_data"
    }
   ],
   "source": [
    "head(data)"
   ]
  },
  {
   "cell_type": "code",
   "execution_count": 4,
   "metadata": {},
   "outputs": [
    {
     "name": "stdout",
     "output_type": "stream",
     "text": [
      "[1] \"cols: 7\"\n",
      "[1] \"rows: 1015\"\n"
     ]
    }
   ],
   "source": [
    "print(paste(\"cols:\", ncol(data)))\n",
    "print(paste(\"rows:\", nrow(data)))"
   ]
  },
  {
   "cell_type": "code",
   "execution_count": 5,
   "metadata": {},
   "outputs": [],
   "source": [
    "data[\"Height\"] = data[\"Height\"] * 0.0254\n",
    "data[\"Weight\"] = data[\"Weight\"] * 0.453592"
   ]
  },
  {
   "cell_type": "code",
   "execution_count": 6,
   "metadata": {},
   "outputs": [
    {
     "name": "stdout",
     "output_type": "stream",
     "text": [
      "[1] \"After preprocessing data:\"\n"
     ]
    },
    {
     "data": {
      "text/html": [
       "<table>\n",
       "<caption>A data.frame: 6 × 7</caption>\n",
       "<thead>\n",
       "\t<tr><th></th><th scope=col>Name</th><th scope=col>Team</th><th scope=col>Position</th><th scope=col>Height</th><th scope=col>Weight</th><th scope=col>Age</th><th scope=col>PosCategory</th></tr>\n",
       "\t<tr><th></th><th scope=col>&lt;chr&gt;</th><th scope=col>&lt;chr&gt;</th><th scope=col>&lt;chr&gt;</th><th scope=col>&lt;dbl&gt;</th><th scope=col>&lt;dbl&gt;</th><th scope=col>&lt;dbl&gt;</th><th scope=col>&lt;chr&gt;</th></tr>\n",
       "</thead>\n",
       "<tbody>\n",
       "\t<tr><th scope=row>1</th><td>Adam_Donachie  </td><td>BAL</td><td>Catcher       </td><td>1.8796</td><td>81.64656</td><td>22.99</td><td>Catcher  </td></tr>\n",
       "\t<tr><th scope=row>2</th><td>Paul_Bako      </td><td>BAL</td><td>Catcher       </td><td>1.8796</td><td>97.52228</td><td>34.69</td><td>Catcher  </td></tr>\n",
       "\t<tr><th scope=row>3</th><td>Ramon_Hernandez</td><td>BAL</td><td>Catcher       </td><td>1.8288</td><td>95.25432</td><td>30.78</td><td>Catcher  </td></tr>\n",
       "\t<tr><th scope=row>4</th><td>Kevin_Millar   </td><td>BAL</td><td>First_Baseman </td><td>1.8288</td><td>95.25432</td><td>35.43</td><td>Infielder</td></tr>\n",
       "\t<tr><th scope=row>5</th><td>Chris_Gomez    </td><td>BAL</td><td>First_Baseman </td><td>1.8542</td><td>85.27530</td><td>35.71</td><td>Infielder</td></tr>\n",
       "\t<tr><th scope=row>6</th><td>Brian_Roberts  </td><td>BAL</td><td>Second_Baseman</td><td>1.7526</td><td>79.83219</td><td>29.39</td><td>Infielder</td></tr>\n",
       "</tbody>\n",
       "</table>\n"
      ],
      "text/latex": [
       "A data.frame: 6 × 7\n",
       "\\begin{tabular}{r|lllllll}\n",
       "  & Name & Team & Position & Height & Weight & Age & PosCategory\\\\\n",
       "  & <chr> & <chr> & <chr> & <dbl> & <dbl> & <dbl> & <chr>\\\\\n",
       "\\hline\n",
       "\t1 & Adam\\_Donachie   & BAL & Catcher        & 1.8796 & 81.64656 & 22.99 & Catcher  \\\\\n",
       "\t2 & Paul\\_Bako       & BAL & Catcher        & 1.8796 & 97.52228 & 34.69 & Catcher  \\\\\n",
       "\t3 & Ramon\\_Hernandez & BAL & Catcher        & 1.8288 & 95.25432 & 30.78 & Catcher  \\\\\n",
       "\t4 & Kevin\\_Millar    & BAL & First\\_Baseman  & 1.8288 & 95.25432 & 35.43 & Infielder\\\\\n",
       "\t5 & Chris\\_Gomez     & BAL & First\\_Baseman  & 1.8542 & 85.27530 & 35.71 & Infielder\\\\\n",
       "\t6 & Brian\\_Roberts   & BAL & Second\\_Baseman & 1.7526 & 79.83219 & 29.39 & Infielder\\\\\n",
       "\\end{tabular}\n"
      ],
      "text/markdown": [
       "\n",
       "A data.frame: 6 × 7\n",
       "\n",
       "| <!--/--> | Name &lt;chr&gt; | Team &lt;chr&gt; | Position &lt;chr&gt; | Height &lt;dbl&gt; | Weight &lt;dbl&gt; | Age &lt;dbl&gt; | PosCategory &lt;chr&gt; |\n",
       "|---|---|---|---|---|---|---|---|\n",
       "| 1 | Adam_Donachie   | BAL | Catcher        | 1.8796 | 81.64656 | 22.99 | Catcher   |\n",
       "| 2 | Paul_Bako       | BAL | Catcher        | 1.8796 | 97.52228 | 34.69 | Catcher   |\n",
       "| 3 | Ramon_Hernandez | BAL | Catcher        | 1.8288 | 95.25432 | 30.78 | Catcher   |\n",
       "| 4 | Kevin_Millar    | BAL | First_Baseman  | 1.8288 | 95.25432 | 35.43 | Infielder |\n",
       "| 5 | Chris_Gomez     | BAL | First_Baseman  | 1.8542 | 85.27530 | 35.71 | Infielder |\n",
       "| 6 | Brian_Roberts   | BAL | Second_Baseman | 1.7526 | 79.83219 | 29.39 | Infielder |\n",
       "\n"
      ],
      "text/plain": [
       "  Name            Team Position       Height Weight   Age   PosCategory\n",
       "1 Adam_Donachie   BAL  Catcher        1.8796 81.64656 22.99 Catcher    \n",
       "2 Paul_Bako       BAL  Catcher        1.8796 97.52228 34.69 Catcher    \n",
       "3 Ramon_Hernandez BAL  Catcher        1.8288 95.25432 30.78 Catcher    \n",
       "4 Kevin_Millar    BAL  First_Baseman  1.8288 95.25432 35.43 Infielder  \n",
       "5 Chris_Gomez     BAL  First_Baseman  1.8542 85.27530 35.71 Infielder  \n",
       "6 Brian_Roberts   BAL  Second_Baseman 1.7526 79.83219 29.39 Infielder  "
      ]
     },
     "metadata": {},
     "output_type": "display_data"
    }
   ],
   "source": [
    "print(\"After preprocessing data:\")\n",
    "head(data)"
   ]
  },
  {
   "cell_type": "code",
   "execution_count": 7,
   "metadata": {},
   "outputs": [
    {
     "data": {
      "image/png": "[encoded data removed]",
      "text/plain": [
       "Plot with title \"Height vs Weight\""
      ]
     },
     "metadata": {
      "image/png": {
       "height": 420,
       "width": 420
      }
     },
     "output_type": "display_data"
    }
   ],
   "source": [
    "scatter.smooth(x = data$Height, y = data$Weight, main = \"Height vs Weight\")"
   ]
  },
  {
   "cell_type": "code",
   "execution_count": 8,
   "metadata": {},
   "outputs": [
    {
     "data": {
      "image/png": "[encoded data removed]",
      "text/plain": [
       "Plot with title \"Weight\""
      ]
     },
     "metadata": {
      "image/png": {
       "height": 420,
       "width": 420
      }
     },
     "output_type": "display_data"
    }
   ],
   "source": [
    "# Boxplot to Check for outliers\n",
    "par(mfrow = c(1, 2)) # Divide graph area in 2 columns\n",
    "boxplot(data$Height, main = \"Height\", \n",
    "        sub = paste(\"Outlier rows:\", boxplot.stats(data$Height)$out))\n",
    "boxplot(data$Weight, main = \"Weight\", \n",
    "        sub = paste(\"Outlier rows:\", boxplot.stats(data$Weight)$out))"
   ]
  },
  {
   "cell_type": "code",
   "execution_count": 9,
   "metadata": {},
   "outputs": [
    {
     "name": "stdout",
     "output_type": "stream",
     "text": [
      "[1] \"correlation: 0.531539322614609\"\n",
      "[1] \"wt_outliers:\"\n",
      "[1] 117.9339 122.4698 131.5417 126.0986 117.9339 117.9339 117.9339\n",
      "[1] \"ht_outliers:\"\n",
      " [1] 2.0574 2.0320 2.0320 2.0320 2.0320 2.0828 2.0320 2.0574 2.0828 2.1082\n",
      "[11] 1.7018 1.7018\n"
     ]
    }
   ],
   "source": [
    "# Calculate correlation between Width and Length\n",
    "print(paste(\"correlation:\", cor(data$Height, data$Weight)))\n",
    "print(\"wt_outliers:\")\n",
    "print(boxplot.stats(data$Weight)$out)\n",
    "print(\"ht_outliers:\")\n",
    "print(boxplot.stats(data$Height)$out)"
   ]
  },
  {
   "cell_type": "code",
   "execution_count": 10,
   "metadata": {},
   "outputs": [
    {
     "name": "stdout",
     "output_type": "stream",
     "text": [
      "[1] \"Before drop: 1015\"\n",
      "[1] \"After drop: 998\"\n"
     ]
    }
   ],
   "source": [
    "# Drop rows have outliers\n",
    "print(paste(\"Before drop:\", nrow(data)))\n",
    "for (record in boxplot.stats(data$Weight)$out){\n",
    "    data = data[data$Weight != record, ]\n",
    "}\n",
    "for (record in boxplot.stats(data$Height)$out){\n",
    "    data = data[data$Height != record, ]\n",
    "}\n",
    "print(paste(\"After drop:\", nrow(data)))"
   ]
  },
  {
   "cell_type": "code",
   "execution_count": 11,
   "metadata": {},
   "outputs": [
    {
     "name": "stdout",
     "output_type": "stream",
     "text": [
      "[1] \"Selected training row indexes:\"\n",
      "[1] \"Rows of training data and test data:\"\n",
      "[1] 698\n",
      "[1] 300\n"
     ]
    }
   ],
   "source": [
    "# Create training and test data samples from orginal data\n",
    "set.seed(42) # Setting seed to reproduce results of ramdom sampling\n",
    "trainingRowIndex = sample(1: nrow(data), 0.7 * nrow(data))\n",
    "print(\"Selected training row indexes:\")\n",
    "trainingData = data[trainingRowIndex, ]\n",
    "testData = data[- trainingRowIndex,]\n",
    "print(\"Rows of training data and test data:\")\n",
    "print(nrow(trainingData))\n",
    "print(nrow(testData))"
   ]
  },
  {
   "cell_type": "code",
   "execution_count": 12,
   "metadata": {},
   "outputs": [
    {
     "name": "stdout",
     "output_type": "stream",
     "text": [
      "Call:\n",
      "rpart(formula = Weight ~ Height, data = trainingData, method = \"anova\")\n",
      "  n= 698 \n",
      "\n",
      "          CP nsplit rel error    xerror       xstd\n",
      "1 0.15717992      0 1.0000000 1.0032151 0.04888121\n",
      "2 0.02896649      1 0.8428201 0.8747585 0.04657139\n",
      "3 0.02483727      2 0.8138536 0.8720701 0.04630771\n",
      "4 0.01126342      3 0.7890163 0.8338157 0.04438520\n",
      "5 0.01000000      4 0.7777529 0.8290693 0.04417677\n",
      "\n",
      "Variable importance\n",
      "Height \n",
      "   100 \n",
      "\n",
      "Node number 1: 698 observations,    complexity param=0.1571799\n",
      "  mean=90.84057, MSE=80.12391 \n",
      "  left son=2 (340 obs) right son=3 (358 obs)\n",
      "  Primary splits:\n",
      "      Height < 1.8669 to the left,  improve=0.1571799, (0 missing)\n",
      "\n",
      "Node number 2: 340 observations,    complexity param=0.02483727\n",
      "  mean=87.19906, MSE=62.91233 \n",
      "  left son=4 (223 obs) right son=5 (117 obs)\n",
      "  Primary splits:\n",
      "      Height < 1.8415 to the left,  improve=0.06493916, (0 missing)\n",
      "\n",
      "Node number 3: 358 observations,    complexity param=0.02896649\n",
      "  mean=94.29899, MSE=71.91557 \n",
      "  left son=6 (226 obs) right son=7 (132 obs)\n",
      "  Primary splits:\n",
      "      Height < 1.9177 to the left,  improve=0.06292272, (0 missing)\n",
      "\n",
      "Node number 4: 223 observations,    complexity param=0.01126342\n",
      "  mean=85.73499, MSE=58.39945 \n",
      "  left son=8 (53 obs) right son=9 (170 obs)\n",
      "  Primary splits:\n",
      "      Height < 1.7907 to the left,  improve=0.04836978, (0 missing)\n",
      "\n",
      "Node number 5: 117 observations\n",
      "  mean=89.98955, MSE=59.64148 \n",
      "\n",
      "Node number 6: 226 observations\n",
      "  mean=92.67326, MSE=64.91579 \n",
      "\n",
      "Node number 7: 132 observations\n",
      "  mean=97.08243, MSE=71.62737 \n",
      "\n",
      "Node number 8: 53 observations\n",
      "  mean=82.72491, MSE=46.68662 \n",
      "\n",
      "Node number 9: 170 observations\n",
      "  mean=86.67343, MSE=58.34567 \n",
      "\n"
     ]
    }
   ],
   "source": [
    "baseball.tree = rpart(Weight ~ Height,\n",
    "                  data = trainingData, method = \"anova\")\n",
    "summary(baseball.tree)"
   ]
  },
  {
   "cell_type": "code",
   "execution_count": 13,
   "metadata": {},
   "outputs": [
    {
     "data": {
      "image/png": "[encoded data removed]",
      "text/plain": [
       "plot without title"
      ]
     },
     "metadata": {
      "image/png": {
       "height": 420,
       "width": 420
      }
     },
     "output_type": "display_data"
    }
   ],
   "source": [
    "prp(baseball.tree, type = 2, extra = \"auto\", nn = TRUE, branch = 1, varlen = 0, yesno =2)"
   ]
  },
  {
   "cell_type": "code",
   "execution_count": 14,
   "metadata": {},
   "outputs": [],
   "source": [
    "# Test model\n",
    "pred_new = predict(baseball.tree, testData, type = \"vector\")"
   ]
  },
  {
   "cell_type": "code",
   "execution_count": 15,
   "metadata": {},
   "outputs": [
    {
     "name": "stdout",
     "output_type": "stream",
     "text": [
      "[1] 57.84972\n"
     ]
    }
   ],
   "source": [
    "# mean square error \n",
    "mse = mean((testData$Weight - pred_new)^2)\n",
    "print(mse)"
   ]
  },
  {
   "cell_type": "code",
   "execution_count": 16,
   "metadata": {},
   "outputs": [
    {
     "name": "stdout",
     "output_type": "stream",
     "text": [
      "       1        2        3 \n",
      "82.72491 86.67343 97.08243 \n"
     ]
    }
   ],
   "source": [
    "x = c(1.775, 1.825, 1.925)\n",
    "y1 = predict(baseball.tree, data.frame(Height = x), type = \"vector\")\n",
    "print(y1)"
   ]
  }
 ],
 "metadata": {
  "kernelspec": {
   "display_name": "R",
   "language": "R",
   "name": "ir"
  },
  "language_info": {
   "codemirror_mode": "r",
   "file_extension": ".r",
   "mimetype": "text/x-r-source",
   "name": "R",
   "pygments_lexer": "r",
   "version": "4.0.3"
  }
 },
 "nbformat": 4,
 "nbformat_minor": 4
}
