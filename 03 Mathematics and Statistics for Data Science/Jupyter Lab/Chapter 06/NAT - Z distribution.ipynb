{
 "cells": [
  {
   "cell_type": "code",
   "execution_count": 18,
   "metadata": {},
   "outputs": [],
   "source": [
    "import numpy as np\n"
   ]
  },
  {
   "cell_type": "raw",
   "metadata": {},
   "source": [
    "\"\"\"============================================================================\n",
    "   1) Tra XUÔI bảng Z (slide #137)\n",
    "      a) P(Z < z)\n",
    "      b) P(z < Z)\n",
    "      c) P(a < Z < b)\n",
    "\n",
    "   2) Tra NGƯỢC bảng Z (slide #139)\n",
    "      d) Xs suy ra giá trị z-score\n",
    "============================================================================\"\"\"\n",
    "\n",
    "'''----------------------------------------------------------------------------\n",
    "   Hàm tính xác suất theo phân phối Z (tra XUÔI bảng Z)\n",
    "----------------------------------------------------------------------------'''"
   ]
  },
  {
   "cell_type": "code",
   "execution_count": 19,
   "metadata": {},
   "outputs": [],
   "source": [
    "def zDistribution(side, lower, upper):\n",
    "    import scipy.stats as st\n",
    "\n",
    "    side = side.lower()\n",
    "\n",
    "    if (side == 'left'):\n",
    "        p = st.norm.cdf(lower)\n",
    "    elif (side == 'right'):\n",
    "        p = 1 - st.norm.cdf(upper)\n",
    "    else:\n",
    "        p = st.norm.cdf(upper) - st.norm.cdf(lower)\n",
    "    return (p)"
   ]
  },
  {
   "cell_type": "raw",
   "metadata": {},
   "source": [
    "'''----------------------------------------------------------------------------\n",
    "   Hàm tìm z-score khi biết xác xuất (tra NGƯỢC bảng Z)\n",
    "----------------------------------------------------------------------------'''"
   ]
  },
  {
   "cell_type": "code",
   "execution_count": 20,
   "metadata": {},
   "outputs": [],
   "source": [
    "def p2z(side, p):\n",
    "    import scipy.stats as st\n",
    "\n",
    "    side = side.lower()\n",
    "\n",
    "    if (side == 'left'):\n",
    "        z = st.norm.ppf(p)\n",
    "    elif (side == 'right'):\n",
    "        z = p2z('left', 1 - p)\n",
    "    else:\n",
    "        z = p2z('left', 0.5 + (p / 2))\n",
    "    return (z)"
   ]
  },
  {
   "cell_type": "raw",
   "metadata": {},
   "source": [
    "'''----------------------------------------------------------------------------\n",
    "   Hàm hiển thị xác suất\n",
    "----------------------------------------------------------------------------'''"
   ]
  },
  {
   "cell_type": "code",
   "execution_count": 21,
   "metadata": {},
   "outputs": [],
   "source": [
    "def displayZ(side, lower, upper, p):\n",
    "    side = side.lower()\n",
    "    lower = str(lower)\n",
    "    upper = str(upper)\n",
    "    if (side == 'left'):\n",
    "        s = 'P(Z < ' + lower + ') = '\n",
    "    elif (side == 'right'):\n",
    "        s = 'P(' + upper + ' < Z) = '\n",
    "    else:\n",
    "        s = 'P(' + lower + ' < Z < ' + upper + ') = '\n",
    "    return (s + str('%.4f' % p))"
   ]
  },
  {
   "cell_type": "code",
   "execution_count": 22,
   "metadata": {},
   "outputs": [
    {
     "name": "stdout",
     "output_type": "stream",
     "text": [
      "---------------------------------\n",
      "1) Tra XUÔI bảng Z\n",
      "---------------------------------\n",
      "P(Z < 1.2) = 0.8849\n",
      "P(Z < -0.71) = 0.2389\n",
      "P(0 < Z < 0.83) = 0.2967\n",
      "P(-1.57 < Z < 0) = 0.4418\n",
      "P(0.44 < Z) = 0.3300\n",
      "P(-0.23 < Z) = 0.5910\n"
     ]
    }
   ],
   "source": [
    "print('---------------------------------')\n",
    "print('1) Tra XUÔI bảng Z')\n",
    "print('---------------------------------')\n",
    "\n",
    "side = np.array(['left', 'left', '2-side', '2-side', 'right', 'right'])\n",
    "lower = np.array([1.2, -0.71, 0, -1.57, None, None])\n",
    "upper = np.array([None, None, 0.83, 0, 0.44, -0.23])\n",
    "\n",
    "for i in range(len(side)):\n",
    "    p = zDistribution(side[i], lower[i], upper[i])\n",
    "    print(displayZ(side[i], lower[i], upper[i], p))"
   ]
  },
  {
   "cell_type": "code",
   "execution_count": 23,
   "metadata": {},
   "outputs": [
    {
     "name": "stdout",
     "output_type": "stream",
     "text": [
      "---------------------------------\n",
      "2) Tra NGƯỢC bảng Z\n",
      "---------------------------------\n",
      "p = 0.2119 --> z-score = -0.80\n",
      "p = 0.9948 --> z-score = 2.56\n",
      "p = 0.9030 --> z-score = 1.66\n",
      "p = 0.2052 --> z-score = 0.26\n",
      "p = 0.6915 --> z-score = -0.50\n"
     ]
    }
   ],
   "source": [
    "print('---------------------------------')\n",
    "print('2) Tra NGƯỢC bảng Z')\n",
    "print('---------------------------------')\n",
    "side = np.array(['left', 'left', '2-side', '2-side', 'right'])\n",
    "p = np.array([0.2119, 0.9948, 0.9030, 0.2052, 0.6915])\n",
    "for i in range(len(side)):\n",
    "    z = p2z(side[i], p[i])\n",
    "    print('p = %.4f' % p[i], '--> z-score = %.2f' % z)"
   ]
  }
 ],
 "metadata": {
  "kernelspec": {
   "display_name": "Python 3",
   "language": "python",
   "name": "python3"
  },
  "language_info": {
   "codemirror_mode": {
    "name": "ipython",
    "version": 3
   },
   "file_extension": ".py",
   "mimetype": "text/x-python",
   "name": "python",
   "nbconvert_exporter": "python",
   "pygments_lexer": "ipython3",
   "version": "3.8.5"
  }
 },
 "nbformat": 4,
 "nbformat_minor": 4
}
