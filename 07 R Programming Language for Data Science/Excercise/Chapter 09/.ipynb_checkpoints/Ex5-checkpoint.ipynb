{
 "cells": [
  {
   "cell_type": "code",
   "execution_count": 1,
   "metadata": {},
   "outputs": [],
   "source": [
    "library(\"xlsx\")"
   ]
  },
  {
   "cell_type": "code",
   "execution_count": 2,
   "metadata": {},
   "outputs": [],
   "source": [
    "data = read.csv('../../Data/medals.csv')"
   ]
  },
  {
   "cell_type": "code",
   "execution_count": 3,
   "metadata": {},
   "outputs": [
    {
     "data": {
      "text/html": [
       "<table>\n",
       "<caption>A data.frame: 6 × 8</caption>\n",
       "<thead>\n",
       "\t<tr><th></th><th scope=col>Year</th><th scope=col>City</th><th scope=col>Sport</th><th scope=col>Discipline</th><th scope=col>NOC</th><th scope=col>Event</th><th scope=col>Event.gender</th><th scope=col>Medal</th></tr>\n",
       "\t<tr><th></th><th scope=col>&lt;chr&gt;</th><th scope=col>&lt;chr&gt;</th><th scope=col>&lt;chr&gt;</th><th scope=col>&lt;chr&gt;</th><th scope=col>&lt;chr&gt;</th><th scope=col>&lt;chr&gt;</th><th scope=col>&lt;chr&gt;</th><th scope=col>&lt;chr&gt;</th></tr>\n",
       "</thead>\n",
       "<tbody>\n",
       "\t<tr><th scope=row>1</th><td>1924</td><td>Chamonix</td><td>Skating   </td><td>Figure skating</td><td>AUT</td><td>individual     </td><td>M</td><td>Silver</td></tr>\n",
       "\t<tr><th scope=row>2</th><td>1924</td><td>Chamonix</td><td>Skating   </td><td>Figure skating</td><td>AUT</td><td>individual     </td><td>W</td><td>Gold  </td></tr>\n",
       "\t<tr><th scope=row>3</th><td>1924</td><td>Chamonix</td><td>Skating   </td><td>Figure skating</td><td>AUT</td><td>pairs          </td><td>X</td><td>Gold  </td></tr>\n",
       "\t<tr><th scope=row>4</th><td>1924</td><td>Chamonix</td><td>Bobsleigh </td><td>Bobsleigh     </td><td>BEL</td><td>four-man       </td><td>M</td><td>Bronze</td></tr>\n",
       "\t<tr><th scope=row>5</th><td>1924</td><td>Chamonix</td><td>Ice Hockey</td><td>Ice Hockey    </td><td>CAN</td><td>ice hockey     </td><td>M</td><td>Gold  </td></tr>\n",
       "\t<tr><th scope=row>6</th><td>1924</td><td>Chamonix</td><td>Biathlon  </td><td>Biathlon      </td><td>FIN</td><td>military patrol</td><td>M</td><td>Silver</td></tr>\n",
       "</tbody>\n",
       "</table>\n"
      ],
      "text/latex": [
       "A data.frame: 6 × 8\n",
       "\\begin{tabular}{r|llllllll}\n",
       "  & Year & City & Sport & Discipline & NOC & Event & Event.gender & Medal\\\\\n",
       "  & <chr> & <chr> & <chr> & <chr> & <chr> & <chr> & <chr> & <chr>\\\\\n",
       "\\hline\n",
       "\t1 & 1924 & Chamonix & Skating    & Figure skating & AUT & individual      & M & Silver\\\\\n",
       "\t2 & 1924 & Chamonix & Skating    & Figure skating & AUT & individual      & W & Gold  \\\\\n",
       "\t3 & 1924 & Chamonix & Skating    & Figure skating & AUT & pairs           & X & Gold  \\\\\n",
       "\t4 & 1924 & Chamonix & Bobsleigh  & Bobsleigh      & BEL & four-man        & M & Bronze\\\\\n",
       "\t5 & 1924 & Chamonix & Ice Hockey & Ice Hockey     & CAN & ice hockey      & M & Gold  \\\\\n",
       "\t6 & 1924 & Chamonix & Biathlon   & Biathlon       & FIN & military patrol & M & Silver\\\\\n",
       "\\end{tabular}\n"
      ],
      "text/markdown": [
       "\n",
       "A data.frame: 6 × 8\n",
       "\n",
       "| <!--/--> | Year &lt;chr&gt; | City &lt;chr&gt; | Sport &lt;chr&gt; | Discipline &lt;chr&gt; | NOC &lt;chr&gt; | Event &lt;chr&gt; | Event.gender &lt;chr&gt; | Medal &lt;chr&gt; |\n",
       "|---|---|---|---|---|---|---|---|---|\n",
       "| 1 | 1924 | Chamonix | Skating    | Figure skating | AUT | individual      | M | Silver |\n",
       "| 2 | 1924 | Chamonix | Skating    | Figure skating | AUT | individual      | W | Gold   |\n",
       "| 3 | 1924 | Chamonix | Skating    | Figure skating | AUT | pairs           | X | Gold   |\n",
       "| 4 | 1924 | Chamonix | Bobsleigh  | Bobsleigh      | BEL | four-man        | M | Bronze |\n",
       "| 5 | 1924 | Chamonix | Ice Hockey | Ice Hockey     | CAN | ice hockey      | M | Gold   |\n",
       "| 6 | 1924 | Chamonix | Biathlon   | Biathlon       | FIN | military patrol | M | Silver |\n",
       "\n"
      ],
      "text/plain": [
       "  Year City     Sport      Discipline     NOC Event           Event.gender\n",
       "1 1924 Chamonix Skating    Figure skating AUT individual      M           \n",
       "2 1924 Chamonix Skating    Figure skating AUT individual      W           \n",
       "3 1924 Chamonix Skating    Figure skating AUT pairs           X           \n",
       "4 1924 Chamonix Bobsleigh  Bobsleigh      BEL four-man        M           \n",
       "5 1924 Chamonix Ice Hockey Ice Hockey     CAN ice hockey      M           \n",
       "6 1924 Chamonix Biathlon   Biathlon       FIN military patrol M           \n",
       "  Medal \n",
       "1 Silver\n",
       "2 Gold  \n",
       "3 Gold  \n",
       "4 Bronze\n",
       "5 Gold  \n",
       "6 Silver"
      ]
     },
     "metadata": {},
     "output_type": "display_data"
    }
   ],
   "source": [
    "head(data)"
   ]
  },
  {
   "cell_type": "code",
   "execution_count": 5,
   "metadata": {},
   "outputs": [
    {
     "name": "stdout",
     "output_type": "stream",
     "text": [
      "[1] \"Data type: data.frame\"\n",
      "[1] \"Number of rows: 2314\"\n",
      "[1] \"Number of cols: 8\"\n",
      "[1] \"Name of columns: Year, City, Sport, Discipline, NOC, Event, Event.gender, Medal\"\n"
     ]
    }
   ],
   "source": [
    "print(paste(\"Data type:\", class(data)))\n",
    "print(paste(\"Number of rows:\", nrow(data)))\n",
    "print(paste(\"Number of cols:\", ncol(data)))\n",
    "print(paste(\"Name of columns:\", toString(names(data))))"
   ]
  },
  {
   "cell_type": "code",
   "execution_count": 6,
   "metadata": {},
   "outputs": [
    {
     "name": "stdout",
     "output_type": "stream",
     "text": [
      "[1] \"Dataset of year = 1932 and Sport = Skiing \"\n"
     ]
    },
    {
     "data": {
      "text/html": [
       "<table>\n",
       "<caption>A data.frame: 12 × 8</caption>\n",
       "<thead>\n",
       "\t<tr><th></th><th scope=col>Year</th><th scope=col>City</th><th scope=col>Sport</th><th scope=col>Discipline</th><th scope=col>NOC</th><th scope=col>Event</th><th scope=col>Event.gender</th><th scope=col>Medal</th></tr>\n",
       "\t<tr><th></th><th scope=col>&lt;chr&gt;</th><th scope=col>&lt;chr&gt;</th><th scope=col>&lt;chr&gt;</th><th scope=col>&lt;chr&gt;</th><th scope=col>&lt;chr&gt;</th><th scope=col>&lt;chr&gt;</th><th scope=col>&lt;chr&gt;</th><th scope=col>&lt;chr&gt;</th></tr>\n",
       "</thead>\n",
       "<tbody>\n",
       "\t<tr><th scope=row>100</th><td>1932</td><td>Lake Placid</td><td>Skiing</td><td>Cross Country S</td><td>FIN</td><td>18km                </td><td>M</td><td>Bronze</td></tr>\n",
       "\t<tr><th scope=row>101</th><td>1932</td><td>Lake Placid</td><td>Skiing</td><td>Cross Country S</td><td>FIN</td><td>50km                </td><td>M</td><td>Gold  </td></tr>\n",
       "\t<tr><th scope=row>102</th><td>1932</td><td>Lake Placid</td><td>Skiing</td><td>Cross Country S</td><td>FIN</td><td>50km                </td><td>M</td><td>Silver</td></tr>\n",
       "\t<tr><th scope=row>110</th><td>1932</td><td>Lake Placid</td><td>Skiing</td><td>Cross Country S</td><td>NOR</td><td>50km                </td><td>M</td><td>Bronze</td></tr>\n",
       "\t<tr><th scope=row>111</th><td>1932</td><td>Lake Placid</td><td>Skiing</td><td>Nordic Combined</td><td>NOR</td><td>individual          </td><td>M</td><td>Bronze</td></tr>\n",
       "\t<tr><th scope=row>112</th><td>1932</td><td>Lake Placid</td><td>Skiing</td><td>Nordic Combined</td><td>NOR</td><td>individual          </td><td>M</td><td>Gold  </td></tr>\n",
       "\t<tr><th scope=row>113</th><td>1932</td><td>Lake Placid</td><td>Skiing</td><td>Nordic Combined</td><td>NOR</td><td>individual          </td><td>M</td><td>Silver</td></tr>\n",
       "\t<tr><th scope=row>114</th><td>1932</td><td>Lake Placid</td><td>Skiing</td><td>Ski Jumping    </td><td>NOR</td><td>K90 individual (70m)</td><td>M</td><td>Bronze</td></tr>\n",
       "\t<tr><th scope=row>115</th><td>1932</td><td>Lake Placid</td><td>Skiing</td><td>Ski Jumping    </td><td>NOR</td><td>K90 individual (70m)</td><td>M</td><td>Gold  </td></tr>\n",
       "\t<tr><th scope=row>116</th><td>1932</td><td>Lake Placid</td><td>Skiing</td><td>Ski Jumping    </td><td>NOR</td><td>K90 individual (70m)</td><td>M</td><td>Silver</td></tr>\n",
       "\t<tr><th scope=row>119</th><td>1932</td><td>Lake Placid</td><td>Skiing</td><td>Cross Country S</td><td>SWE</td><td>18km                </td><td>M</td><td>Gold  </td></tr>\n",
       "\t<tr><th scope=row>120</th><td>1932</td><td>Lake Placid</td><td>Skiing</td><td>Cross Country S</td><td>SWE</td><td>18km                </td><td>M</td><td>Silver</td></tr>\n",
       "</tbody>\n",
       "</table>\n"
      ],
      "text/latex": [
       "A data.frame: 12 × 8\n",
       "\\begin{tabular}{r|llllllll}\n",
       "  & Year & City & Sport & Discipline & NOC & Event & Event.gender & Medal\\\\\n",
       "  & <chr> & <chr> & <chr> & <chr> & <chr> & <chr> & <chr> & <chr>\\\\\n",
       "\\hline\n",
       "\t100 & 1932 & Lake Placid & Skiing & Cross Country S & FIN & 18km                 & M & Bronze\\\\\n",
       "\t101 & 1932 & Lake Placid & Skiing & Cross Country S & FIN & 50km                 & M & Gold  \\\\\n",
       "\t102 & 1932 & Lake Placid & Skiing & Cross Country S & FIN & 50km                 & M & Silver\\\\\n",
       "\t110 & 1932 & Lake Placid & Skiing & Cross Country S & NOR & 50km                 & M & Bronze\\\\\n",
       "\t111 & 1932 & Lake Placid & Skiing & Nordic Combined & NOR & individual           & M & Bronze\\\\\n",
       "\t112 & 1932 & Lake Placid & Skiing & Nordic Combined & NOR & individual           & M & Gold  \\\\\n",
       "\t113 & 1932 & Lake Placid & Skiing & Nordic Combined & NOR & individual           & M & Silver\\\\\n",
       "\t114 & 1932 & Lake Placid & Skiing & Ski Jumping     & NOR & K90 individual (70m) & M & Bronze\\\\\n",
       "\t115 & 1932 & Lake Placid & Skiing & Ski Jumping     & NOR & K90 individual (70m) & M & Gold  \\\\\n",
       "\t116 & 1932 & Lake Placid & Skiing & Ski Jumping     & NOR & K90 individual (70m) & M & Silver\\\\\n",
       "\t119 & 1932 & Lake Placid & Skiing & Cross Country S & SWE & 18km                 & M & Gold  \\\\\n",
       "\t120 & 1932 & Lake Placid & Skiing & Cross Country S & SWE & 18km                 & M & Silver\\\\\n",
       "\\end{tabular}\n"
      ],
      "text/markdown": [
       "\n",
       "A data.frame: 12 × 8\n",
       "\n",
       "| <!--/--> | Year &lt;chr&gt; | City &lt;chr&gt; | Sport &lt;chr&gt; | Discipline &lt;chr&gt; | NOC &lt;chr&gt; | Event &lt;chr&gt; | Event.gender &lt;chr&gt; | Medal &lt;chr&gt; |\n",
       "|---|---|---|---|---|---|---|---|---|\n",
       "| 100 | 1932 | Lake Placid | Skiing | Cross Country S | FIN | 18km                 | M | Bronze |\n",
       "| 101 | 1932 | Lake Placid | Skiing | Cross Country S | FIN | 50km                 | M | Gold   |\n",
       "| 102 | 1932 | Lake Placid | Skiing | Cross Country S | FIN | 50km                 | M | Silver |\n",
       "| 110 | 1932 | Lake Placid | Skiing | Cross Country S | NOR | 50km                 | M | Bronze |\n",
       "| 111 | 1932 | Lake Placid | Skiing | Nordic Combined | NOR | individual           | M | Bronze |\n",
       "| 112 | 1932 | Lake Placid | Skiing | Nordic Combined | NOR | individual           | M | Gold   |\n",
       "| 113 | 1932 | Lake Placid | Skiing | Nordic Combined | NOR | individual           | M | Silver |\n",
       "| 114 | 1932 | Lake Placid | Skiing | Ski Jumping     | NOR | K90 individual (70m) | M | Bronze |\n",
       "| 115 | 1932 | Lake Placid | Skiing | Ski Jumping     | NOR | K90 individual (70m) | M | Gold   |\n",
       "| 116 | 1932 | Lake Placid | Skiing | Ski Jumping     | NOR | K90 individual (70m) | M | Silver |\n",
       "| 119 | 1932 | Lake Placid | Skiing | Cross Country S | SWE | 18km                 | M | Gold   |\n",
       "| 120 | 1932 | Lake Placid | Skiing | Cross Country S | SWE | 18km                 | M | Silver |\n",
       "\n"
      ],
      "text/plain": [
       "    Year City        Sport  Discipline      NOC Event               \n",
       "100 1932 Lake Placid Skiing Cross Country S FIN 18km                \n",
       "101 1932 Lake Placid Skiing Cross Country S FIN 50km                \n",
       "102 1932 Lake Placid Skiing Cross Country S FIN 50km                \n",
       "110 1932 Lake Placid Skiing Cross Country S NOR 50km                \n",
       "111 1932 Lake Placid Skiing Nordic Combined NOR individual          \n",
       "112 1932 Lake Placid Skiing Nordic Combined NOR individual          \n",
       "113 1932 Lake Placid Skiing Nordic Combined NOR individual          \n",
       "114 1932 Lake Placid Skiing Ski Jumping     NOR K90 individual (70m)\n",
       "115 1932 Lake Placid Skiing Ski Jumping     NOR K90 individual (70m)\n",
       "116 1932 Lake Placid Skiing Ski Jumping     NOR K90 individual (70m)\n",
       "119 1932 Lake Placid Skiing Cross Country S SWE 18km                \n",
       "120 1932 Lake Placid Skiing Cross Country S SWE 18km                \n",
       "    Event.gender Medal \n",
       "100 M            Bronze\n",
       "101 M            Gold  \n",
       "102 M            Silver\n",
       "110 M            Bronze\n",
       "111 M            Bronze\n",
       "112 M            Gold  \n",
       "113 M            Silver\n",
       "114 M            Bronze\n",
       "115 M            Gold  \n",
       "116 M            Silver\n",
       "119 M            Gold  \n",
       "120 M            Silver"
      ]
     },
     "metadata": {},
     "output_type": "display_data"
    }
   ],
   "source": [
    "data_1932_skiing = subset(data, data$Year == 1932 & data$Sport == 'Skiing')\n",
    "print(\"Dataset of year = 1932 and Sport = Skiing \")\n",
    "data_1932_skiing"
   ]
  },
  {
   "cell_type": "code",
   "execution_count": 7,
   "metadata": {},
   "outputs": [
    {
     "name": "stdout",
     "output_type": "stream",
     "text": [
      "[1] \"Write to file\"\n",
      "[1] \"Finish\"\n"
     ]
    }
   ],
   "source": [
    "print(\"Write to file\")\n",
    "write.xlsx(data_1932_skiing, file = 'medals_new.xlsx', sheetName = \"1932_skiing\", append = TRUE)\n",
    "print(\"Finish\")"
   ]
  },
  {
   "cell_type": "code",
   "execution_count": null,
   "metadata": {},
   "outputs": [],
   "source": []
  }
 ],
 "metadata": {
  "kernelspec": {
   "display_name": "R",
   "language": "R",
   "name": "ir"
  },
  "language_info": {
   "codemirror_mode": "r",
   "file_extension": ".r",
   "mimetype": "text/x-r-source",
   "name": "R",
   "pygments_lexer": "r",
   "version": "4.0.3"
  }
 },
 "nbformat": 4,
 "nbformat_minor": 4
}
