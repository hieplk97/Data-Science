{
 "cells": [
  {
   "cell_type": "code",
   "execution_count": 4,
   "metadata": {},
   "outputs": [
    {
     "name": "stdin",
     "output_type": "stream",
     "text": [
      "Input name Hiep\n",
      "Input age:  23\n",
      "Input weight:  60\n",
      "Input height:  1.61\n"
     ]
    }
   ],
   "source": [
    "name = readline(prompt = \"Input name\")\n",
    "age = as.integer(readline(prompt = \"Input age: \"))\n",
    "weight = as.double(readline(prompt = \"Input weight: \"))\n",
    "height = as.double(readline(prompt = \"Input height: \"))"
   ]
  },
  {
   "cell_type": "code",
   "execution_count": 5,
   "metadata": {},
   "outputs": [],
   "source": [
    "bmi = weight / height^2"
   ]
  },
  {
   "cell_type": "code",
   "execution_count": 6,
   "metadata": {},
   "outputs": [
    {
     "name": "stdout",
     "output_type": "stream",
     "text": [
      "[1] \"Name:  Hiep , Age:  23\"\n",
      "[1] \"Height:  1.61 (m) \\n Weight:  60 (kg) \\n BMI:  23.15\"\n"
     ]
    }
   ],
   "source": [
    "print(paste(\"Name: \", name, \", Age: \", age))\n",
    "print(paste(\"Height: \", round(height, 2), \"(m) \\n\", \n",
    "            \"Weight: \", round(weight, 2),\"(kg) \\n\",\n",
    "            \"BMI: \", round(bmi, 2)))"
   ]
  }
 ],
 "metadata": {
  "kernelspec": {
   "display_name": "R",
   "language": "R",
   "name": "ir"
  },
  "language_info": {
   "codemirror_mode": "r",
   "file_extension": ".r",
   "mimetype": "text/x-r-source",
   "name": "R",
   "pygments_lexer": "r",
   "version": "4.0.3"
  }
 },
 "nbformat": 4,
 "nbformat_minor": 4
}
