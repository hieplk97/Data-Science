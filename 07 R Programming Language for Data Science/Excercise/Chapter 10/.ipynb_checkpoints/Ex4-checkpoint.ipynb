{
 "cells": [
  {
   "cell_type": "code",
   "execution_count": 1,
   "metadata": {},
   "outputs": [],
   "source": [
    "library(\"httr\")\n",
    "library(\"jsonlite\")"
   ]
  },
  {
   "cell_type": "code",
   "execution_count": 3,
   "metadata": {},
   "outputs": [
    {
     "ename": "ERROR",
     "evalue": "Error in get(URL): object 'http://phuong13021982.pythonanywhere.com/mystore/product_service/' not found\n",
     "output_type": "error",
     "traceback": [
      "Error in get(URL): object 'http://phuong13021982.pythonanywhere.com/mystore/product_service/' not found\nTraceback:\n",
      "1. get(URL)"
     ]
    }
   ],
   "source": [
    "URL = \"http://phuong13021982.pythonanywhere.com/mystore/product_service/\"\n",
    "getURL = get(URL)\n",
    "content = rawToChar(getURL$content)\n",
    "json = fromJSON(content)\n",
    "Tivis = data.frame(json)\n",
    "print(class(Tivis))\n",
    "Tivis$description = NULL\n",
    "print(Tivis)"
   ]
  },
  {
   "cell_type": "code",
   "execution_count": null,
   "metadata": {},
   "outputs": [],
   "source": []
  }
 ],
 "metadata": {
  "kernelspec": {
   "display_name": "R",
   "language": "R",
   "name": "ir"
  },
  "language_info": {
   "codemirror_mode": "r",
   "file_extension": ".r",
   "mimetype": "text/x-r-source",
   "name": "R",
   "pygments_lexer": "r",
   "version": "4.0.3"
  }
 },
 "nbformat": 4,
 "nbformat_minor": 4
}
