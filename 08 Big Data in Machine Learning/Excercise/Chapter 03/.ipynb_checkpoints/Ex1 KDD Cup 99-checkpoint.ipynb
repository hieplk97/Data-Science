{
 "cells": [
  {
   "cell_type": "code",
   "execution_count": 1,
   "id": "internal-composite",
   "metadata": {},
   "outputs": [],
   "source": [
    "import findspark\n",
    "findspark.init()"
   ]
  },
  {
   "cell_type": "code",
   "execution_count": 2,
   "id": "hundred-modem",
   "metadata": {},
   "outputs": [],
   "source": [
    "from time import time\n",
    "\n",
    "import pyspark\n",
    "from pyspark import SparkContext\n",
    "from pyspark.sql import SparkSession"
   ]
  },
  {
   "cell_type": "code",
   "execution_count": 3,
   "id": "successful-nebraska",
   "metadata": {},
   "outputs": [],
   "source": [
    "sc = SparkContext()"
   ]
  },
  {
   "cell_type": "markdown",
   "id": "respiratory-brazilian",
   "metadata": {},
   "source": [
    "#### 1. Đọc dữ liệu từ file \"kddcup.data_10_percent.gz\". Tạo RDD từ dữ liệu này"
   ]
  },
  {
   "cell_type": "code",
   "execution_count": 4,
   "id": "thermal-arrangement",
   "metadata": {},
   "outputs": [],
   "source": [
    "file = \"../../Data/kddcup.data_10_percent.gz\"\n",
    "data = sc.textFile(file)"
   ]
  },
  {
   "cell_type": "markdown",
   "id": "architectural-container",
   "metadata": {},
   "source": [
    "#### 2. Cho biết dữ liệu có bao nhiêu element"
   ]
  },
  {
   "cell_type": "code",
   "execution_count": 5,
   "id": "adolescent-introduction",
   "metadata": {},
   "outputs": [
    {
     "name": "stdout",
     "output_type": "stream",
     "text": [
      "Lines: 494021\n"
     ]
    }
   ],
   "source": [
    "print(\"Lines:\", data.count())"
   ]
  },
  {
   "cell_type": "markdown",
   "id": "breeding-financing",
   "metadata": {},
   "source": [
    "#### 3. In thông tin 3 element đầu tiên của RDD"
   ]
  },
  {
   "cell_type": "code",
   "execution_count": 6,
   "id": "historic-geography",
   "metadata": {},
   "outputs": [
    {
     "data": {
      "text/plain": [
       "['0,tcp,http,SF,181,5450,0,0,0,0,0,1,0,0,0,0,0,0,0,0,0,0,8,8,0.00,0.00,0.00,0.00,1.00,0.00,0.00,9,9,1.00,0.00,0.11,0.00,0.00,0.00,0.00,0.00,normal.',\n",
       " '0,tcp,http,SF,239,486,0,0,0,0,0,1,0,0,0,0,0,0,0,0,0,0,8,8,0.00,0.00,0.00,0.00,1.00,0.00,0.00,19,19,1.00,0.00,0.05,0.00,0.00,0.00,0.00,0.00,normal.',\n",
       " '0,tcp,http,SF,235,1337,0,0,0,0,0,1,0,0,0,0,0,0,0,0,0,0,8,8,0.00,0.00,0.00,0.00,1.00,0.00,0.00,29,29,1.00,0.00,0.03,0.00,0.00,0.00,0.00,0.00,normal.']"
      ]
     },
     "execution_count": 6,
     "metadata": {},
     "output_type": "execute_result"
    }
   ],
   "source": [
    "data.take(3)"
   ]
  },
  {
   "cell_type": "code",
   "execution_count": 7,
   "id": "stretch-vinyl",
   "metadata": {},
   "outputs": [
    {
     "data": {
      "text/plain": [
       "'0,tcp,http,SF,181,5450,0,0,0,0,0,1,0,0,0,0,0,0,0,0,0,0,8,8,0.00,0.00,0.00,0.00,1.00,0.00,0.00,9,9,1.00,0.00,0.11,0.00,0.00,0.00,0.00,0.00,normal.'"
      ]
     },
     "execution_count": 7,
     "metadata": {},
     "output_type": "execute_result"
    }
   ],
   "source": [
    "data.first()"
   ]
  },
  {
   "cell_type": "markdown",
   "id": "registered-cement",
   "metadata": {},
   "source": [
    "#### 4. Tạo một RDD mới từ RDD trên, với điều kiện các element trong RDD mới đều có chuỗi \"normal\""
   ]
  },
  {
   "cell_type": "code",
   "execution_count": 8,
   "id": "average-alaska",
   "metadata": {},
   "outputs": [],
   "source": [
    "normal_data = data.filter(lambda x: 'normal.' in x)"
   ]
  },
  {
   "cell_type": "markdown",
   "id": "light-consideration",
   "metadata": {},
   "source": [
    "#### 5. Cho biết RDD mới có bao nhiêu element, mất bao nhiêu thời gian để đếm số element này?"
   ]
  },
  {
   "cell_type": "code",
   "execution_count": 9,
   "id": "olympic-damage",
   "metadata": {},
   "outputs": [
    {
     "name": "stdout",
     "output_type": "stream",
     "text": [
      "There are 97278 'normal' in s\n",
      "Time to count: 1.496 seconds\n"
     ]
    }
   ],
   "source": [
    "t0 = time()\n",
    "normal_count = normal_data.count()\n",
    "t1 = time() - t0\n",
    "\n",
    "print(\"There are\", normal_count, \"'normal' in s\")\n",
    "print(\"Time to count:\", format(round(t1, 3)), \"seconds\")"
   ]
  },
  {
   "cell_type": "markdown",
   "id": "egyptian-express",
   "metadata": {},
   "source": [
    "#### 6. Tạo array chứa tất cả các element của RDD ban đầu, mất bao nhiêu thời gian để thực hiện việc này?"
   ]
  },
  {
   "cell_type": "code",
   "execution_count": 10,
   "id": "sporting-secret",
   "metadata": {},
   "outputs": [
    {
     "name": "stdout",
     "output_type": "stream",
     "text": [
      "Data collected in: 3.272 seconds\n"
     ]
    }
   ],
   "source": [
    "t0 = time()\n",
    "array_data = data.collect()\n",
    "t1 = time() - t0\n",
    "\n",
    "print(\"Data collected in:\", format(round(t1, 3)), \"seconds\")"
   ]
  },
  {
   "cell_type": "markdown",
   "id": "owned-chemistry",
   "metadata": {},
   "source": [
    "#### 7. Tạo một RDD sample bằng 1/10 RDD ban đầu, các element lấy ngẫu nhiên"
   ]
  },
  {
   "cell_type": "code",
   "execution_count": 11,
   "id": "incoming-cattle",
   "metadata": {},
   "outputs": [
    {
     "name": "stdout",
     "output_type": "stream",
     "text": [
      "Sample size is 49387 of 494021\n"
     ]
    }
   ],
   "source": [
    "# param 1: the sampling is done with replacement or not\n",
    "# param 2: the sample size as fraction\n",
    "# param 3: [optionally] provide a random seed\n",
    "data_sample = data.sample(False, 0.1, 42)\n",
    "sample_size = data_sample.count()\n",
    "total_size = data.count()\n",
    "\n",
    "print(\"Sample size is\", sample_size, \"of\", total_size)"
   ]
  },
  {
   "cell_type": "markdown",
   "id": "political-skirt",
   "metadata": {},
   "source": [
    "#### 8. Cho biết tỉ lệ các element chứa chuỗi \"normal.\" so với tổng số element trong RDD sample, mất bao nhiêu thời gian để thực hiện việc này?"
   ]
  },
  {
   "cell_type": "code",
   "execution_count": 12,
   "id": "available-proportion",
   "metadata": {},
   "outputs": [
    {
     "name": "stdout",
     "output_type": "stream",
     "text": [
      "Sample with normal size is 9733\n",
      "The ratio of 'normal' interactions is 0.197\n",
      "Count done in 1.804 seconds\n"
     ]
    }
   ],
   "source": [
    "sample_normal_tags = data_sample.filter(lambda x: 'normal.' in x)\n",
    "\n",
    "t0 = time()\n",
    "sample_normal_tags_count = sample_normal_tags.count()\n",
    "t1 = time() - t0\n",
    "\n",
    "sample_normal_ratio = sample_normal_tags_count / float(sample_size)\n",
    "print(\"Sample with normal size is\", sample_normal_tags_count)\n",
    "print(\"The ratio of 'normal' interactions is\", round(sample_normal_ratio, 3))\n",
    "print(\"Count done in\", round(t1, 3), \"seconds\")"
   ]
  },
  {
   "cell_type": "markdown",
   "id": "revised-journalist",
   "metadata": {},
   "source": [
    "#### 9. Tạo RDD sample với các element không chứa từ 'normal.' từ RDD sample trên. Số element của RDD này là bao nhiêu? In thông tin element đầu tiên của RDD này"
   ]
  },
  {
   "cell_type": "code",
   "execution_count": 13,
   "id": "straight-stationery",
   "metadata": {},
   "outputs": [
    {
     "name": "stdout",
     "output_type": "stream",
     "text": [
      "Sample without normal size is 39654\n"
     ]
    }
   ],
   "source": [
    "sample_without_normal = data_sample.subtract(sample_normal_tags)\n",
    "print(\"Sample without normal size is\", sample_without_normal.count())"
   ]
  },
  {
   "cell_type": "code",
   "execution_count": 14,
   "id": "gross-playback",
   "metadata": {},
   "outputs": [
    {
     "data": {
      "text/plain": [
       "['0,icmp,ecr_i,SF,1032,0,0,0,0,0,0,0,0,0,0,0,0,0,0,0,0,0,509,509,0.00,0.00,0.00,0.00,1.00,0.00,0.00,255,255,1.00,0.00,1.00,0.00,0.00,0.00,0.00,0.00,smurf.']"
      ]
     },
     "execution_count": 14,
     "metadata": {},
     "output_type": "execute_result"
    }
   ],
   "source": [
    "sample_without_normal.take(1)"
   ]
  },
  {
   "cell_type": "markdown",
   "id": "neutral-ethiopia",
   "metadata": {},
   "source": [
    "#### 10. Với RDD ban đầu, mỗi element là một chuỗi. Hãy tạo ra một RDD mới (array_RDD) với mỗi element là một danh sách các phần tử được tách ra từ một chuỗi với dấu phân cách là \",\". In thông tin element đầu tiên của RDD này"
   ]
  },
  {
   "cell_type": "code",
   "execution_count": 15,
   "id": "endless-judge",
   "metadata": {},
   "outputs": [
    {
     "data": {
      "text/plain": [
       "['0',\n",
       " 'tcp',\n",
       " 'http',\n",
       " 'SF',\n",
       " '181',\n",
       " '5450',\n",
       " '0',\n",
       " '0',\n",
       " '0',\n",
       " '0',\n",
       " '0',\n",
       " '1',\n",
       " '0',\n",
       " '0',\n",
       " '0',\n",
       " '0',\n",
       " '0',\n",
       " '0',\n",
       " '0',\n",
       " '0',\n",
       " '0',\n",
       " '0',\n",
       " '8',\n",
       " '8',\n",
       " '0.00',\n",
       " '0.00',\n",
       " '0.00',\n",
       " '0.00',\n",
       " '1.00',\n",
       " '0.00',\n",
       " '0.00',\n",
       " '9',\n",
       " '9',\n",
       " '1.00',\n",
       " '0.00',\n",
       " '0.11',\n",
       " '0.00',\n",
       " '0.00',\n",
       " '0.00',\n",
       " '0.00',\n",
       " '0.00',\n",
       " 'normal.']"
      ]
     },
     "execution_count": 15,
     "metadata": {},
     "output_type": "execute_result"
    }
   ],
   "source": [
    "array_RDD = data.map(lambda x: x.split(\",\"))\n",
    "array_RDD.first()"
   ]
  },
  {
   "cell_type": "markdown",
   "id": "whole-shield",
   "metadata": {},
   "source": [
    "#### 11. Với array_Rdd trên, hãy cho biết có những protocol nào được sử dụng? Có bao nhiêu protocol? (Biết protocol là phần tử thứ hai trong từng element)"
   ]
  },
  {
   "cell_type": "code",
   "execution_count": 16,
   "id": "formal-effects",
   "metadata": {},
   "outputs": [
    {
     "data": {
      "text/plain": [
       "['tcp', 'udp', 'icmp']"
      ]
     },
     "execution_count": 16,
     "metadata": {},
     "output_type": "execute_result"
    }
   ],
   "source": [
    "protocols = array_RDD.map(lambda x: x[1]).distinct()\n",
    "protocols.collect()"
   ]
  },
  {
   "cell_type": "code",
   "execution_count": 17,
   "id": "moved-sussex",
   "metadata": {},
   "outputs": [
    {
     "name": "stdout",
     "output_type": "stream",
     "text": [
      "Protocols: 3\n"
     ]
    }
   ],
   "source": [
    "print(\"Protocols:\", protocols.count())"
   ]
  },
  {
   "cell_type": "markdown",
   "id": "ranging-malpractice",
   "metadata": {},
   "source": [
    "#### 12. Với array_Rdd trên, hãy cho biết có những service nào được sử dụng? Có bao nhiêu service? (Biết service là phần tử thứ ba trong từng element)"
   ]
  },
  {
   "cell_type": "code",
   "execution_count": 18,
   "id": "supreme-lindsay",
   "metadata": {},
   "outputs": [
    {
     "data": {
      "text/plain": [
       "['http',\n",
       " 'smtp',\n",
       " 'finger',\n",
       " 'domain_u',\n",
       " 'auth',\n",
       " 'telnet',\n",
       " 'ftp',\n",
       " 'eco_i',\n",
       " 'ntp_u',\n",
       " 'ecr_i',\n",
       " 'other',\n",
       " 'private',\n",
       " 'pop_3',\n",
       " 'ftp_data',\n",
       " 'rje',\n",
       " 'time',\n",
       " 'mtp',\n",
       " 'link',\n",
       " 'remote_job',\n",
       " 'gopher',\n",
       " 'ssh',\n",
       " 'name',\n",
       " 'whois',\n",
       " 'domain',\n",
       " 'login',\n",
       " 'imap4',\n",
       " 'daytime',\n",
       " 'ctf',\n",
       " 'nntp',\n",
       " 'shell',\n",
       " 'IRC',\n",
       " 'nnsp',\n",
       " 'http_443',\n",
       " 'exec',\n",
       " 'printer',\n",
       " 'efs',\n",
       " 'courier',\n",
       " 'uucp',\n",
       " 'klogin',\n",
       " 'kshell',\n",
       " 'echo',\n",
       " 'discard',\n",
       " 'systat',\n",
       " 'supdup',\n",
       " 'iso_tsap',\n",
       " 'hostnames',\n",
       " 'csnet_ns',\n",
       " 'pop_2',\n",
       " 'sunrpc',\n",
       " 'uucp_path',\n",
       " 'netbios_ns',\n",
       " 'netbios_ssn',\n",
       " 'netbios_dgm',\n",
       " 'sql_net',\n",
       " 'vmnet',\n",
       " 'bgp',\n",
       " 'Z39_50',\n",
       " 'ldap',\n",
       " 'netstat',\n",
       " 'urh_i',\n",
       " 'X11',\n",
       " 'urp_i',\n",
       " 'pm_dump',\n",
       " 'tftp_u',\n",
       " 'tim_i',\n",
       " 'red_i']"
      ]
     },
     "execution_count": 18,
     "metadata": {},
     "output_type": "execute_result"
    }
   ],
   "source": [
    "services = array_RDD.map(lambda x: x[2]).distinct()\n",
    "services.collect()"
   ]
  },
  {
   "cell_type": "code",
   "execution_count": 19,
   "id": "practical-reason",
   "metadata": {},
   "outputs": [
    {
     "name": "stdout",
     "output_type": "stream",
     "text": [
      "Services: 66\n"
     ]
    }
   ],
   "source": [
    "print(\"Services:\", services.count())"
   ]
  },
  {
   "cell_type": "markdown",
   "id": "graduate-plaza",
   "metadata": {},
   "source": [
    "#### 13. Một sản phẩm được tạo ra sẽ có một protocol và một service. Tạo một bảng danh sách các sản phẩm bằng cách phối hợp từng protocol và service của 2 câu trên (gợi ý: Dùng RDD1.cartesian(RDD2.collect()). In kết quả. Có bao nhiêu sản phẩm được tạo ra"
   ]
  },
  {
   "cell_type": "code",
   "execution_count": 20,
   "id": "departmental-luxembourg",
   "metadata": {},
   "outputs": [
    {
     "data": {
      "text/plain": [
       "[('tcp', 'http'),\n",
       " ('tcp', 'smtp'),\n",
       " ('tcp', 'finger'),\n",
       " ('tcp', 'domain_u'),\n",
       " ('tcp', 'auth'),\n",
       " ('tcp', 'telnet'),\n",
       " ('tcp', 'ftp'),\n",
       " ('tcp', 'eco_i'),\n",
       " ('tcp', 'ntp_u'),\n",
       " ('tcp', 'ecr_i'),\n",
       " ('tcp', 'other'),\n",
       " ('tcp', 'private'),\n",
       " ('tcp', 'pop_3'),\n",
       " ('tcp', 'ftp_data'),\n",
       " ('tcp', 'rje'),\n",
       " ('tcp', 'time'),\n",
       " ('tcp', 'mtp'),\n",
       " ('tcp', 'link'),\n",
       " ('tcp', 'remote_job'),\n",
       " ('tcp', 'gopher'),\n",
       " ('tcp', 'ssh'),\n",
       " ('tcp', 'name'),\n",
       " ('tcp', 'whois'),\n",
       " ('tcp', 'domain'),\n",
       " ('tcp', 'login'),\n",
       " ('tcp', 'imap4'),\n",
       " ('tcp', 'daytime'),\n",
       " ('tcp', 'ctf'),\n",
       " ('tcp', 'nntp'),\n",
       " ('tcp', 'shell'),\n",
       " ('tcp', 'IRC'),\n",
       " ('tcp', 'nnsp'),\n",
       " ('tcp', 'http_443'),\n",
       " ('tcp', 'exec'),\n",
       " ('tcp', 'printer'),\n",
       " ('tcp', 'efs'),\n",
       " ('tcp', 'courier'),\n",
       " ('tcp', 'uucp'),\n",
       " ('tcp', 'klogin'),\n",
       " ('tcp', 'kshell'),\n",
       " ('tcp', 'echo'),\n",
       " ('tcp', 'discard'),\n",
       " ('tcp', 'systat'),\n",
       " ('tcp', 'supdup'),\n",
       " ('tcp', 'iso_tsap'),\n",
       " ('tcp', 'hostnames'),\n",
       " ('tcp', 'csnet_ns'),\n",
       " ('tcp', 'pop_2'),\n",
       " ('tcp', 'sunrpc'),\n",
       " ('tcp', 'uucp_path'),\n",
       " ('tcp', 'netbios_ns'),\n",
       " ('tcp', 'netbios_ssn'),\n",
       " ('tcp', 'netbios_dgm'),\n",
       " ('tcp', 'sql_net'),\n",
       " ('tcp', 'vmnet'),\n",
       " ('tcp', 'bgp'),\n",
       " ('tcp', 'Z39_50'),\n",
       " ('tcp', 'ldap'),\n",
       " ('tcp', 'netstat'),\n",
       " ('tcp', 'urh_i'),\n",
       " ('tcp', 'X11'),\n",
       " ('tcp', 'urp_i'),\n",
       " ('tcp', 'pm_dump'),\n",
       " ('tcp', 'tftp_u'),\n",
       " ('tcp', 'tim_i'),\n",
       " ('tcp', 'red_i'),\n",
       " ('udp', 'http'),\n",
       " ('icmp', 'http'),\n",
       " ('udp', 'smtp'),\n",
       " ('udp', 'finger'),\n",
       " ('icmp', 'smtp'),\n",
       " ('icmp', 'finger'),\n",
       " ('udp', 'domain_u'),\n",
       " ('udp', 'auth'),\n",
       " ('udp', 'telnet'),\n",
       " ('udp', 'ftp'),\n",
       " ('icmp', 'domain_u'),\n",
       " ('icmp', 'auth'),\n",
       " ('icmp', 'telnet'),\n",
       " ('icmp', 'ftp'),\n",
       " ('udp', 'eco_i'),\n",
       " ('udp', 'ntp_u'),\n",
       " ('udp', 'ecr_i'),\n",
       " ('udp', 'other'),\n",
       " ('udp', 'private'),\n",
       " ('udp', 'pop_3'),\n",
       " ('udp', 'ftp_data'),\n",
       " ('udp', 'rje'),\n",
       " ('icmp', 'eco_i'),\n",
       " ('icmp', 'ntp_u'),\n",
       " ('icmp', 'ecr_i'),\n",
       " ('icmp', 'other'),\n",
       " ('icmp', 'private'),\n",
       " ('icmp', 'pop_3'),\n",
       " ('icmp', 'ftp_data'),\n",
       " ('icmp', 'rje'),\n",
       " ('udp', 'time'),\n",
       " ('udp', 'mtp'),\n",
       " ('udp', 'link'),\n",
       " ('udp', 'remote_job'),\n",
       " ('udp', 'gopher'),\n",
       " ('udp', 'ssh'),\n",
       " ('udp', 'name'),\n",
       " ('udp', 'whois'),\n",
       " ('udp', 'domain'),\n",
       " ('udp', 'login'),\n",
       " ('udp', 'imap4'),\n",
       " ('udp', 'daytime'),\n",
       " ('udp', 'ctf'),\n",
       " ('udp', 'nntp'),\n",
       " ('udp', 'shell'),\n",
       " ('udp', 'IRC'),\n",
       " ('icmp', 'time'),\n",
       " ('icmp', 'mtp'),\n",
       " ('icmp', 'link'),\n",
       " ('icmp', 'remote_job'),\n",
       " ('icmp', 'gopher'),\n",
       " ('icmp', 'ssh'),\n",
       " ('icmp', 'name'),\n",
       " ('icmp', 'whois'),\n",
       " ('icmp', 'domain'),\n",
       " ('icmp', 'login'),\n",
       " ('icmp', 'imap4'),\n",
       " ('icmp', 'daytime'),\n",
       " ('icmp', 'ctf'),\n",
       " ('icmp', 'nntp'),\n",
       " ('icmp', 'shell'),\n",
       " ('icmp', 'IRC'),\n",
       " ('udp', 'nnsp'),\n",
       " ('udp', 'http_443'),\n",
       " ('udp', 'exec'),\n",
       " ('udp', 'printer'),\n",
       " ('udp', 'efs'),\n",
       " ('udp', 'courier'),\n",
       " ('udp', 'uucp'),\n",
       " ('udp', 'klogin'),\n",
       " ('udp', 'kshell'),\n",
       " ('udp', 'echo'),\n",
       " ('udp', 'discard'),\n",
       " ('udp', 'systat'),\n",
       " ('udp', 'supdup'),\n",
       " ('udp', 'iso_tsap'),\n",
       " ('udp', 'hostnames'),\n",
       " ('udp', 'csnet_ns'),\n",
       " ('udp', 'pop_2'),\n",
       " ('udp', 'sunrpc'),\n",
       " ('udp', 'uucp_path'),\n",
       " ('udp', 'netbios_ns'),\n",
       " ('udp', 'netbios_ssn'),\n",
       " ('udp', 'netbios_dgm'),\n",
       " ('udp', 'sql_net'),\n",
       " ('udp', 'vmnet'),\n",
       " ('udp', 'bgp'),\n",
       " ('udp', 'Z39_50'),\n",
       " ('udp', 'ldap'),\n",
       " ('udp', 'netstat'),\n",
       " ('udp', 'urh_i'),\n",
       " ('udp', 'X11'),\n",
       " ('udp', 'urp_i'),\n",
       " ('udp', 'pm_dump'),\n",
       " ('icmp', 'nnsp'),\n",
       " ('icmp', 'http_443'),\n",
       " ('icmp', 'exec'),\n",
       " ('icmp', 'printer'),\n",
       " ('icmp', 'efs'),\n",
       " ('icmp', 'courier'),\n",
       " ('icmp', 'uucp'),\n",
       " ('icmp', 'klogin'),\n",
       " ('icmp', 'kshell'),\n",
       " ('icmp', 'echo'),\n",
       " ('icmp', 'discard'),\n",
       " ('icmp', 'systat'),\n",
       " ('icmp', 'supdup'),\n",
       " ('icmp', 'iso_tsap'),\n",
       " ('icmp', 'hostnames'),\n",
       " ('icmp', 'csnet_ns'),\n",
       " ('icmp', 'pop_2'),\n",
       " ('icmp', 'sunrpc'),\n",
       " ('icmp', 'uucp_path'),\n",
       " ('icmp', 'netbios_ns'),\n",
       " ('icmp', 'netbios_ssn'),\n",
       " ('icmp', 'netbios_dgm'),\n",
       " ('icmp', 'sql_net'),\n",
       " ('icmp', 'vmnet'),\n",
       " ('icmp', 'bgp'),\n",
       " ('icmp', 'Z39_50'),\n",
       " ('icmp', 'ldap'),\n",
       " ('icmp', 'netstat'),\n",
       " ('icmp', 'urh_i'),\n",
       " ('icmp', 'X11'),\n",
       " ('icmp', 'urp_i'),\n",
       " ('icmp', 'pm_dump'),\n",
       " ('udp', 'tftp_u'),\n",
       " ('udp', 'tim_i'),\n",
       " ('udp', 'red_i'),\n",
       " ('icmp', 'tftp_u'),\n",
       " ('icmp', 'tim_i'),\n",
       " ('icmp', 'red_i')]"
      ]
     },
     "execution_count": 20,
     "metadata": {},
     "output_type": "execute_result"
    }
   ],
   "source": [
    "product = protocols.cartesian(services).collect()\n",
    "product"
   ]
  },
  {
   "cell_type": "code",
   "execution_count": 21,
   "id": "little-semiconductor",
   "metadata": {},
   "outputs": [
    {
     "name": "stdout",
     "output_type": "stream",
     "text": [
      "There are 198 combination of protocol X service\n"
     ]
    }
   ],
   "source": [
    "print(\"There are\", len(product), \"combination of protocol X service\")"
   ]
  },
  {
   "cell_type": "markdown",
   "id": "accepting-disability",
   "metadata": {},
   "source": [
    "#### 14. Cho biết số lượng partition của array_RDD"
   ]
  },
  {
   "cell_type": "code",
   "execution_count": 22,
   "id": "reserved-reference",
   "metadata": {},
   "outputs": [
    {
     "data": {
      "text/plain": [
       "1"
      ]
     },
     "execution_count": 22,
     "metadata": {},
     "output_type": "execute_result"
    }
   ],
   "source": [
    "array_RDD.getNumPartitions()"
   ]
  },
  {
   "cell_type": "markdown",
   "id": "unnecessary-trinity",
   "metadata": {},
   "source": [
    "#### 15. Lưu array_RDD vào thư mục \"kdd_cup\" với mỗi partition là một file riêng lẻ"
   ]
  },
  {
   "cell_type": "code",
   "execution_count": 24,
   "id": "occupied-calgary",
   "metadata": {},
   "outputs": [],
   "source": [
    "array_RDD.saveAsTextFile(\"kdd_cup\")"
   ]
  },
  {
   "cell_type": "code",
   "execution_count": null,
   "id": "purple-trade",
   "metadata": {},
   "outputs": [],
   "source": []
  }
 ],
 "metadata": {
  "kernelspec": {
   "display_name": "Python 3",
   "language": "python",
   "name": "python3"
  },
  "language_info": {
   "codemirror_mode": {
    "name": "ipython",
    "version": 3
   },
   "file_extension": ".py",
   "mimetype": "text/x-python",
   "name": "python",
   "nbconvert_exporter": "python",
   "pygments_lexer": "ipython3",
   "version": "3.8.3"
  }
 },
 "nbformat": 4,
 "nbformat_minor": 5
}
