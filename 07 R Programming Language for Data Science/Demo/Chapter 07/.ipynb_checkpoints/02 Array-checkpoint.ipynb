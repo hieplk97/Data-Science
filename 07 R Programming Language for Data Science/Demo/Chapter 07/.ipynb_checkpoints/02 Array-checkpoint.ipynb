{
 "cells": [
  {
   "cell_type": "code",
   "execution_count": 1,
   "metadata": {},
   "outputs": [],
   "source": [
    "v1 = c(1:6)\n",
    "v2 = c(7:15)"
   ]
  },
  {
   "cell_type": "code",
   "execution_count": 2,
   "metadata": {},
   "outputs": [
    {
     "name": "stdout",
     "output_type": "stream",
     "text": [
      ", , 1\n",
      "\n",
      "     [,1] [,2]\n",
      "[1,]    1    4\n",
      "[2,]    2    5\n",
      "[3,]    3    6\n",
      "\n",
      ", , 2\n",
      "\n",
      "     [,1] [,2]\n",
      "[1,]    1    4\n",
      "[2,]    2    5\n",
      "[3,]    3    6\n",
      "\n"
     ]
    }
   ],
   "source": [
    "arr1 = array(v1, dim=c(3, 2, 2))\n",
    "print(arr1)"
   ]
  },
  {
   "cell_type": "code",
   "execution_count": 3,
   "metadata": {},
   "outputs": [
    {
     "name": "stdout",
     "output_type": "stream",
     "text": [
      ", , 1\n",
      "\n",
      "     [,1] [,2] [,3] [,4]\n",
      "[1,]    1    4    7   10\n",
      "[2,]    2    5    8   11\n",
      "[3,]    3    6    9   12\n",
      "\n",
      ", , 2\n",
      "\n",
      "     [,1] [,2] [,3] [,4]\n",
      "[1,]   13    1    4    7\n",
      "[2,]   14    2    5    8\n",
      "[3,]   15    3    6    9\n",
      "\n"
     ]
    }
   ],
   "source": [
    "arr2 = array(c(v1,v2), dim=c(3, 4, 2))\n",
    "print(arr2)"
   ]
  },
  {
   "cell_type": "code",
   "execution_count": 4,
   "metadata": {},
   "outputs": [
    {
     "name": "stdout",
     "output_type": "stream",
     "text": [
      ", , matrix1\n",
      "\n",
      "     col1 col2 col3 col4\n",
      "row1    1    4    7   10\n",
      "row2    2    5    8   11\n",
      "row3    3    6    9   12\n",
      "\n",
      ", , matrix2\n",
      "\n",
      "     col1 col2 col3 col4\n",
      "row1   13    1    4    7\n",
      "row2   14    2    5    8\n",
      "row3   15    3    6    9\n",
      "\n"
     ]
    }
   ],
   "source": [
    "row_names = c(\"row1\", \"row2\", \"row3\")\n",
    "col_names = c(\"col1\", \"col2\", \"col3\", \"col4\")\n",
    "\n",
    "mat_names = c(\"matrix1\", \"matrix2\")\n",
    "array3 = array(c(v1, v2), dim=c(3, 4, 2), dimnames=list(row_names, col_names, mat_names))\n",
    "print(array3)"
   ]
  },
  {
   "cell_type": "code",
   "execution_count": 6,
   "metadata": {},
   "outputs": [
    {
     "name": "stdout",
     "output_type": "stream",
     "text": [
      "[1] 6\n"
     ]
    }
   ],
   "source": [
    "print(array3[3,2,1])"
   ]
  },
  {
   "cell_type": "code",
   "execution_count": 7,
   "metadata": {},
   "outputs": [
    {
     "name": "stdout",
     "output_type": "stream",
     "text": [
      "col1 col2 col3 col4 \n",
      "  13    1    4    7 \n"
     ]
    }
   ],
   "source": [
    "print(array3[1,,2])"
   ]
  },
  {
   "cell_type": "code",
   "execution_count": 8,
   "metadata": {},
   "outputs": [
    {
     "name": "stdout",
     "output_type": "stream",
     "text": [
      "row1 row2 row3 \n",
      "   7    8    9 \n"
     ]
    }
   ],
   "source": [
    "print(array3[,3,1])"
   ]
  },
  {
   "cell_type": "code",
   "execution_count": 9,
   "metadata": {},
   "outputs": [
    {
     "name": "stdout",
     "output_type": "stream",
     "text": [
      "     col1 col2 col3 col4\n",
      "row1   13    1    4    7\n",
      "row2   14    2    5    8\n",
      "row3   15    3    6    9\n"
     ]
    }
   ],
   "source": [
    "print(array3[,,2])"
   ]
  },
  {
   "cell_type": "code",
   "execution_count": 10,
   "metadata": {},
   "outputs": [
    {
     "name": "stdout",
     "output_type": "stream",
     "text": [
      "row1 row2 row3 \n",
      "  47   55   63 \n"
     ]
    }
   ],
   "source": [
    "print(apply(array3, c(1), sum))"
   ]
  },
  {
   "cell_type": "code",
   "execution_count": 11,
   "metadata": {},
   "outputs": [
    {
     "name": "stdout",
     "output_type": "stream",
     "text": [
      "col1 col2 col3 col4 \n",
      "   1    1    4    7 \n"
     ]
    }
   ],
   "source": [
    "print(apply(array3, c(2), min))"
   ]
  },
  {
   "cell_type": "code",
   "execution_count": 12,
   "metadata": {},
   "outputs": [
    {
     "name": "stdout",
     "output_type": "stream",
     "text": [
      "matrix1 matrix2 \n",
      "     12      15 \n"
     ]
    }
   ],
   "source": [
    "print(apply(array3, c(3), max))"
   ]
  }
 ],
 "metadata": {
  "kernelspec": {
   "display_name": "R",
   "language": "R",
   "name": "ir"
  },
  "language_info": {
   "codemirror_mode": "r",
   "file_extension": ".r",
   "mimetype": "text/x-r-source",
   "name": "R",
   "pygments_lexer": "r",
   "version": "4.0.3"
  }
 },
 "nbformat": 4,
 "nbformat_minor": 4
}
