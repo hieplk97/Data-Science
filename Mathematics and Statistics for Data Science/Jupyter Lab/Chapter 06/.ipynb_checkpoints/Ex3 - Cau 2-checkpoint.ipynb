{
 "cells": [
  {
   "cell_type": "raw",
   "metadata": {},
   "source": [
    "\"\"\"============================================================================\n",
    "   File [people.txt] chứa nhiệt độ, giới tính, nhịp tim 130 người từ Journal of\n",
    "   Statistics Education (Shoemaker 1996).\n",
    "      1. Đọc dữ liệu từ tập tin nói trên.\n",
    "      2. Vẽ histogram cho cột Tempt.\n",
    "      3. Tìm thống kê chung của Tempt.\n",
    "      4. Tìm mean, median, mode => cho nhận xét\n",
    "      5. Cho biết giá trị Tempt ở phân vị thứ [0, 1, 2, 2.5, 97.5, 98, 99, 100]\n",
    "      6. Tạo bộ mẫu có 10.000 'temperatures' theo normal distribution \n",
    "         với mean, std của bộ dữ liệu trên. Vẽ histogram để quan sát.\n",
    "      7. Cho biết Three-Sigma-Rules ở các khoảng thứ 1, 2, 3.\n",
    "      8. Tìm z-score cho thân nhiệt 99.5. Xác định phân vị tương ứng.\n",
    "============================================================================\"\"\""
   ]
  },
  {
   "cell_type": "code",
   "execution_count": 2,
   "metadata": {},
   "outputs": [],
   "source": [
    "import matplotlib.pyplot as plt\n",
    "import numpy as np\n",
    "import pandas as pd\n",
    "import seaborn as sns\n",
    "\n",
    "from scipy.stats import stats, norm"
   ]
  },
  {
   "cell_type": "code",
   "execution_count": 3,
   "metadata": {},
   "outputs": [
    {
     "name": "stdout",
     "output_type": "stream",
     "text": [
      "<class 'pandas.core.frame.DataFrame'>\n",
      "RangeIndex: 130 entries, 0 to 129\n",
      "Data columns (total 9 columns):\n",
      " #   Column  Non-Null Count  Dtype  \n",
      "---  ------  --------------  -----  \n",
      " 0   0       130 non-null    float64\n",
      " 1   1       0 non-null      float64\n",
      " 2   2       0 non-null      float64\n",
      " 3   3       2 non-null      float64\n",
      " 4   4       128 non-null    float64\n",
      " 5   5       0 non-null      float64\n",
      " 6   6       0 non-null      float64\n",
      " 7   7       2 non-null      float64\n",
      " 8   8       128 non-null    float64\n",
      "dtypes: float64(9)\n",
      "memory usage: 9.3 KB\n",
      "Data info    :\n",
      " None\n",
      "Data describe:\n",
      "                 0    1    2    3           4    5    6          7           8\n",
      "count  130.000000  0.0  0.0  2.0  128.000000  0.0  0.0   2.000000  128.000000\n",
      "mean    98.249231  NaN  NaN  2.0    1.492188  NaN  NaN  77.500000   73.703125\n",
      "std      0.733183  NaN  NaN  0.0    0.501903  NaN  NaN   0.707107    7.101469\n",
      "min     96.300000  NaN  NaN  2.0    1.000000  NaN  NaN  77.000000   57.000000\n",
      "25%     97.800000  NaN  NaN  2.0    1.000000  NaN  NaN  77.250000   69.000000\n",
      "50%     98.300000  NaN  NaN  2.0    1.000000  NaN  NaN  77.500000   73.500000\n",
      "75%     98.700000  NaN  NaN  2.0    2.000000  NaN  NaN  77.750000   79.000000\n",
      "max    100.800000  NaN  NaN  2.0    2.000000  NaN  NaN  78.000000   89.000000\n",
      "Data         :\n",
      "       0   1   2   3    4   5   6   7     8\n",
      "0  96.3 NaN NaN NaN  1.0 NaN NaN NaN  70.0\n",
      "1  96.7 NaN NaN NaN  1.0 NaN NaN NaN  71.0\n",
      "2  96.9 NaN NaN NaN  1.0 NaN NaN NaN  74.0\n",
      "3  97.0 NaN NaN NaN  1.0 NaN NaN NaN  80.0\n",
      "4  97.1 NaN NaN NaN  1.0 NaN NaN NaN  73.0 \n",
      "\n"
     ]
    }
   ],
   "source": [
    "# 1. Đọc dữ liệu vào biến data.\n",
    "LDS3folder = 'E:\\Data Science\\Mathematics and Statistics for Data Science\\Excercise'\n",
    "folder = LDS3folder + '/Data/B6'\n",
    "data = pd.read_csv(folder + '/Normtemp.txt', header=None, sep=' ')\n",
    "\n",
    "print('Data info    :\\n', data.info())\n",
    "print('Data describe:\\n', data.describe())\n",
    "print('Data         :\\n', data.head(), '\\n')"
   ]
  },
  {
   "cell_type": "code",
   "execution_count": 21,
   "metadata": {},
   "outputs": [
    {
     "name": "stdout",
     "output_type": "stream",
     "text": [
      "Data describe:\n",
      "                 0           4           8\n",
      "count  130.000000  128.000000  128.000000\n",
      "mean    98.249231    1.492188   73.703125\n",
      "std      0.733183    0.501903    7.101469\n",
      "min     96.300000    1.000000   57.000000\n",
      "25%     97.800000    1.000000   69.000000\n",
      "50%     98.300000    1.000000   73.500000\n",
      "75%     98.700000    2.000000   79.000000\n",
      "max    100.800000    2.000000   89.000000\n",
      "Data         :\n",
      "       0    4     8\n",
      "0  96.3  1.0  70.0\n",
      "1  96.7  1.0  71.0\n",
      "2  96.9  1.0  74.0\n",
      "3  97.0  1.0  80.0\n",
      "4  97.1  1.0  73.0 \n",
      "\n"
     ]
    }
   ],
   "source": [
    "# Lấy dữ liệu của các cột 0, 4 và 8\n",
    "data_n = data[[0, 4, 8]]\n",
    "#print('Data info    :\\n', data_n.info())\n",
    "print('Data describe:\\n', data_n.describe())\n",
    "print('Data         :\\n', data_n.head(), '\\n')"
   ]
  },
  {
   "cell_type": "code",
   "execution_count": 18,
   "metadata": {},
   "outputs": [
    {
     "name": "stdout",
     "output_type": "stream",
     "text": [
      "Data         :\n",
      "    Tempt  Gender  Beats\n",
      "0   96.3     1.0   70.0\n",
      "1   96.7     1.0   71.0\n",
      "2   96.9     1.0   74.0\n",
      "3   97.0     1.0   80.0\n",
      "4   97.1     1.0   73.0 \n",
      "\n"
     ]
    }
   ],
   "source": [
    "# Gán tiêu đề cột\n",
    "data_n.columns = ['Tempt', 'Gender', \"Beats\"]\n",
    "print('Data         :\\n', data_n.head(), '\\n')"
   ]
  },
  {
   "cell_type": "code",
   "execution_count": 7,
   "metadata": {},
   "outputs": [
    {
     "data": {
      "image/png": "[encoded data removed]",
      "text/plain": [
       "<Figure size 432x432 with 1 Axes>"
      ]
     },
     "metadata": {
      "needs_background": "light"
     },
     "output_type": "display_data"
    }
   ],
   "source": [
    "# 2. Vẽ histogram cho cột Tempt.\n",
    "plt.figure(figsize=(6, 6))\n",
    "sns.distplot(data_n.Tempt)\n",
    "plt.show()"
   ]
  },
  {
   "cell_type": "code",
   "execution_count": 8,
   "metadata": {},
   "outputs": [
    {
     "name": "stdout",
     "output_type": "stream",
     "text": [
      "\n",
      "Số liệu thống kê:\n",
      " DescribeResult(nobs=130, minmax=(96.3, 100.8), mean=98.24923076923078, variance=0.5375575432319615, skewness=-0.004367976879198404, kurtosis=0.7049597854114715)\n"
     ]
    }
   ],
   "source": [
    "# 3. Tìm thống kê chung của Tempt.\n",
    "print('\\nSố liệu thống kê:\\n', stats.describe(data_n.Tempt))"
   ]
  },
  {
   "cell_type": "code",
   "execution_count": 9,
   "metadata": {},
   "outputs": [
    {
     "name": "stdout",
     "output_type": "stream",
     "text": [
      "Mean:   98.24923076923078\n",
      "Median: 98.3\n",
      "Mode:   0    98.0\n",
      "dtype: float64\n"
     ]
    }
   ],
   "source": [
    "# $. Tìm mean, median, mode => cho nhận xét\n",
    "mean_T = data_n.Tempt.mean()\n",
    "print('Mean:  ', mean_T)\n",
    "median_T = data_n.Tempt.median()\n",
    "print('Median:', median_T)\n",
    "mode_T = data_n.Tempt.mode()\n",
    "print('Mode:  ', mode_T)\n",
    "\n",
    "# Nhận xét: ~ phân phối khá chuẩn"
   ]
  },
  {
   "cell_type": "code",
   "execution_count": 10,
   "metadata": {},
   "outputs": [
    {
     "name": "stdout",
     "output_type": "stream",
     "text": [
      "Percentiles[]: [ 96.3     96.487   96.7     96.7225  99.4775  99.668   99.971  100.8   ]\n"
     ]
    }
   ],
   "source": [
    "# 5. Giá trị Tempt ở phân vị thứ [0, 1, 2, 2.5, 97.5, 98, 99, 100]\n",
    "percentiles = np.array([0, 1, 2, 2.5, 97.5, 98, 99, 100])\n",
    "x = np.percentile(data_n.Tempt, percentiles)\n",
    "print('Percentiles[]:', x)"
   ]
  },
  {
   "cell_type": "code",
   "execution_count": 11,
   "metadata": {},
   "outputs": [
    {
     "name": "stdout",
     "output_type": "stream",
     "text": [
      "[98.13575269 99.02348909 98.93364988 ... 97.93357875 98.73053993\n",
      " 98.42869687]\n"
     ]
    }
   ],
   "source": [
    "# 6. Tạo bộ mẫu có 10.000 'temperatures' theo normal distribution \n",
    "#    với mean, std của bộ dữ liệu trên. Vẽ histogram để quan sát.\n",
    "#       - loc: mean\n",
    "#       - scale: standard deviation\n",
    "#       - size: number of random variates\n",
    "samples = norm.rvs(size=10000, loc=mean_T, scale=data_n.Tempt.std())\n",
    "print(samples)"
   ]
  },
  {
   "cell_type": "code",
   "execution_count": 12,
   "metadata": {},
   "outputs": [
    {
     "data": {
      "image/png": "[encoded data removed]",
      "text/plain": [
       "<Figure size 432x432 with 2 Axes>"
      ]
     },
     "metadata": {
      "needs_background": "light"
     },
     "output_type": "display_data"
    }
   ],
   "source": [
    "plt.figure(figsize=(6, 6))\n",
    "plt.subplot(1, 2, 1)\n",
    "plt.hist(samples)\n",
    "plt.subplot(1, 2, 2)\n",
    "sns.distplot(samples)\n",
    "plt.show()"
   ]
  },
  {
   "cell_type": "code",
   "execution_count": 13,
   "metadata": {},
   "outputs": [
    {
     "name": "stdout",
     "output_type": "stream",
     "text": [
      "Var:    0.544192208642736\n",
      "Std:    0.737693844791141\n",
      "3-Sigma: [0.737693844791141, 1.475387689582282, 2.2130815343734227]\n",
      "3-Sigma: [0.737693844791141, 1.475387689582282, 2.2130815343734227]\n"
     ]
    }
   ],
   "source": [
    "# 7. Cho biết Three-Sigma-Rules ở các khoảng thứ 1, 2, 3.\n",
    "variance = np.var(samples)\n",
    "print('Var:   ', variance)\n",
    "std = variance ** 0.5\n",
    "print('Std:   ', std)\n",
    "three_sigma = [std, (std * 2), (std * 3)]\n",
    "print('3-Sigma:', three_sigma)\n",
    "\n",
    "std = np.std(samples)\n",
    "three_sigma = [std, (std * 2), (std * 3)]\n",
    "print('3-Sigma:', three_sigma)"
   ]
  },
  {
   "cell_type": "code",
   "execution_count": 14,
   "metadata": {},
   "outputs": [
    {
     "name": "stdout",
     "output_type": "stream",
     "text": [
      "z-score(99.5): 1.6950523360172742\n"
     ]
    }
   ],
   "source": [
    "# 8. Tìm z-score cho thân nhiệt 99.5. Xác định phân vị tương ứng.\n",
    "#       z-score = (x - mu) / std\n",
    "x = 99.5\n",
    "print('z-score(99.5):', (x - np.mean(samples)) / std)"
   ]
  },
  {
   "cell_type": "code",
   "execution_count": null,
   "metadata": {},
   "outputs": [],
   "source": []
  }
 ],
 "metadata": {
  "kernelspec": {
   "display_name": "Python 3",
   "language": "python",
   "name": "python3"
  },
  "language_info": {
   "codemirror_mode": {
    "name": "ipython",
    "version": 3
   },
   "file_extension": ".py",
   "mimetype": "text/x-python",
   "name": "python",
   "nbconvert_exporter": "python",
   "pygments_lexer": "ipython3",
   "version": "3.8.5"
  }
 },
 "nbformat": 4,
 "nbformat_minor": 4
}
