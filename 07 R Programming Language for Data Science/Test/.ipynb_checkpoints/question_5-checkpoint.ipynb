{
 "cells": [
  {
   "cell_type": "markdown",
   "metadata": {},
   "source": [
    "## Câu 1"
   ]
  },
  {
   "cell_type": "code",
   "execution_count": 1,
   "metadata": {},
   "outputs": [
    {
     "name": "stderr",
     "output_type": "stream",
     "text": [
      "corrplot 0.84 loaded\n",
      "\n",
      "Loading required package: Rcpp\n",
      "\n",
      "## \n",
      "## Amelia II: Multiple Imputation\n",
      "## (Version 1.7.6, built: 2019-11-24)\n",
      "## Copyright (C) 2005-2021 James Honaker, Gary King and Matthew Blackwell\n",
      "## Refer to http://gking.harvard.edu/amelia/ for more information\n",
      "## \n",
      "\n",
      "Loading required package: lattice\n",
      "\n",
      "Loading required package: ggplot2\n",
      "\n",
      "-- \u001b[1mAttaching packages\u001b[22m ------------------------------------------------------------------------------- tidyverse 1.3.0 --\n",
      "\n",
      "\u001b[32m<U+221A>\u001b[39m \u001b[34mtibble \u001b[39m 3.0.4     \u001b[32m<U+221A>\u001b[39m \u001b[34mdplyr  \u001b[39m 1.0.2\n",
      "\u001b[32m<U+221A>\u001b[39m \u001b[34mtidyr  \u001b[39m 1.1.2     \u001b[32m<U+221A>\u001b[39m \u001b[34mstringr\u001b[39m 1.4.0\n",
      "\u001b[32m<U+221A>\u001b[39m \u001b[34mreadr  \u001b[39m 1.4.0     \u001b[32m<U+221A>\u001b[39m \u001b[34mforcats\u001b[39m 0.5.0\n",
      "\u001b[32m<U+221A>\u001b[39m \u001b[34mpurrr  \u001b[39m 0.3.4     \n",
      "\n",
      "-- \u001b[1mConflicts\u001b[22m ---------------------------------------------------------------------------------- tidyverse_conflicts() --\n",
      "\u001b[31mx\u001b[39m \u001b[34mdplyr\u001b[39m::\u001b[32mcombine()\u001b[39m masks \u001b[34mgridExtra\u001b[39m::combine()\n",
      "\u001b[31mx\u001b[39m \u001b[34mdplyr\u001b[39m::\u001b[32mfilter()\u001b[39m  masks \u001b[34mstats\u001b[39m::filter()\n",
      "\u001b[31mx\u001b[39m \u001b[34mdplyr\u001b[39m::\u001b[32mlag()\u001b[39m     masks \u001b[34mstats\u001b[39m::lag()\n",
      "\u001b[31mx\u001b[39m \u001b[34mpurrr\u001b[39m::\u001b[32mlift()\u001b[39m    masks \u001b[34mcaret\u001b[39m::lift()\n",
      "\n"
     ]
    }
   ],
   "source": [
    "library(corrplot)\n",
    "library(Amelia)\n",
    "library(caret)\n",
    "library(ggplot2)\n",
    "library(gridExtra)\n",
    "library(tidyverse)"
   ]
  },
  {
   "cell_type": "code",
   "execution_count": 2,
   "metadata": {},
   "outputs": [],
   "source": [
    "data = read.csv('data/children_lung.csv')"
   ]
  },
  {
   "cell_type": "markdown",
   "metadata": {},
   "source": [
    "## Câu 2"
   ]
  },
  {
   "cell_type": "code",
   "execution_count": 3,
   "metadata": {},
   "outputs": [
    {
     "name": "stdout",
     "output_type": "stream",
     "text": [
      "'data.frame':\t654 obs. of  5 variables:\n",
      " $ age  : num  9 8 7 9 9 8 6 6 8 9 ...\n",
      " $ FEV  : num  1.71 1.72 1.72 1.56 1.9 ...\n",
      " $ ht   : num  57 67.5 54.5 53 57 61 58 56 58.5 60 ...\n",
      " $ sex  : int  0 0 0 1 1 0 0 0 0 0 ...\n",
      " $ smoke: int  0 0 0 0 0 0 0 0 0 0 ...\n"
     ]
    }
   ],
   "source": [
    "str(data)"
   ]
  },
  {
   "cell_type": "code",
   "execution_count": 4,
   "metadata": {},
   "outputs": [
    {
     "data": {
      "text/plain": [
       "      age             FEV               ht             sex        \n",
       " Min.   :1.458   Min.   : 0.791   Min.   :46.00   Min.   :0.0000  \n",
       " 1st Qu.:3.049   1st Qu.: 2.041   1st Qu.:53.50   1st Qu.:0.0000  \n",
       " Median :4.330   Median :59.000   Median :57.00   Median :0.0000  \n",
       " Mean   :5.205   Mean   :35.210   Mean   :56.92   Mean   :0.4984  \n",
       " 3rd Qu.:8.000   3rd Qu.:65.000   3rd Qu.:60.00   3rd Qu.:1.0000  \n",
       " Max.   :9.000   Max.   :74.000   Max.   :69.00   Max.   :1.0000  \n",
       "                                  NA's   :345     NA's   :345     \n",
       "     smoke       \n",
       " Min.   :0.0000  \n",
       " 1st Qu.:0.0000  \n",
       " Median :0.0000  \n",
       " Mean   :0.0032  \n",
       " 3rd Qu.:0.0000  \n",
       " Max.   :1.0000  \n",
       " NA's   :345     "
      ]
     },
     "metadata": {},
     "output_type": "display_data"
    }
   ],
   "source": [
    "summary(data)"
   ]
  },
  {
   "cell_type": "code",
   "execution_count": 5,
   "metadata": {},
   "outputs": [
    {
     "data": {
      "text/html": [
       "<table>\n",
       "<caption>A data.frame: 6 × 5</caption>\n",
       "<thead>\n",
       "\t<tr><th></th><th scope=col>age</th><th scope=col>FEV</th><th scope=col>ht</th><th scope=col>sex</th><th scope=col>smoke</th></tr>\n",
       "\t<tr><th></th><th scope=col>&lt;dbl&gt;</th><th scope=col>&lt;dbl&gt;</th><th scope=col>&lt;dbl&gt;</th><th scope=col>&lt;int&gt;</th><th scope=col>&lt;int&gt;</th></tr>\n",
       "</thead>\n",
       "<tbody>\n",
       "\t<tr><th scope=row>1</th><td>9</td><td>1.708</td><td>57.0</td><td>0</td><td>0</td></tr>\n",
       "\t<tr><th scope=row>2</th><td>8</td><td>1.724</td><td>67.5</td><td>0</td><td>0</td></tr>\n",
       "\t<tr><th scope=row>3</th><td>7</td><td>1.720</td><td>54.5</td><td>0</td><td>0</td></tr>\n",
       "\t<tr><th scope=row>4</th><td>9</td><td>1.558</td><td>53.0</td><td>1</td><td>0</td></tr>\n",
       "\t<tr><th scope=row>5</th><td>9</td><td>1.895</td><td>57.0</td><td>1</td><td>0</td></tr>\n",
       "\t<tr><th scope=row>6</th><td>8</td><td>2.336</td><td>61.0</td><td>0</td><td>0</td></tr>\n",
       "</tbody>\n",
       "</table>\n"
      ],
      "text/latex": [
       "A data.frame: 6 × 5\n",
       "\\begin{tabular}{r|lllll}\n",
       "  & age & FEV & ht & sex & smoke\\\\\n",
       "  & <dbl> & <dbl> & <dbl> & <int> & <int>\\\\\n",
       "\\hline\n",
       "\t1 & 9 & 1.708 & 57.0 & 0 & 0\\\\\n",
       "\t2 & 8 & 1.724 & 67.5 & 0 & 0\\\\\n",
       "\t3 & 7 & 1.720 & 54.5 & 0 & 0\\\\\n",
       "\t4 & 9 & 1.558 & 53.0 & 1 & 0\\\\\n",
       "\t5 & 9 & 1.895 & 57.0 & 1 & 0\\\\\n",
       "\t6 & 8 & 2.336 & 61.0 & 0 & 0\\\\\n",
       "\\end{tabular}\n"
      ],
      "text/markdown": [
       "\n",
       "A data.frame: 6 × 5\n",
       "\n",
       "| <!--/--> | age &lt;dbl&gt; | FEV &lt;dbl&gt; | ht &lt;dbl&gt; | sex &lt;int&gt; | smoke &lt;int&gt; |\n",
       "|---|---|---|---|---|---|\n",
       "| 1 | 9 | 1.708 | 57.0 | 0 | 0 |\n",
       "| 2 | 8 | 1.724 | 67.5 | 0 | 0 |\n",
       "| 3 | 7 | 1.720 | 54.5 | 0 | 0 |\n",
       "| 4 | 9 | 1.558 | 53.0 | 1 | 0 |\n",
       "| 5 | 9 | 1.895 | 57.0 | 1 | 0 |\n",
       "| 6 | 8 | 2.336 | 61.0 | 0 | 0 |\n",
       "\n"
      ],
      "text/plain": [
       "  age FEV   ht   sex smoke\n",
       "1 9   1.708 57.0 0   0    \n",
       "2 8   1.724 67.5 0   0    \n",
       "3 7   1.720 54.5 0   0    \n",
       "4 9   1.558 53.0 1   0    \n",
       "5 9   1.895 57.0 1   0    \n",
       "6 8   2.336 61.0 0   0    "
      ]
     },
     "metadata": {},
     "output_type": "display_data"
    }
   ],
   "source": [
    "head(data)"
   ]
  },
  {
   "cell_type": "code",
   "execution_count": 6,
   "metadata": {},
   "outputs": [
    {
     "data": {
      "text/html": [
       "<table>\n",
       "<caption>A data.frame: 6 × 5</caption>\n",
       "<thead>\n",
       "\t<tr><th></th><th scope=col>age</th><th scope=col>FEV</th><th scope=col>ht</th><th scope=col>sex</th><th scope=col>smoke</th></tr>\n",
       "\t<tr><th></th><th scope=col>&lt;dbl&gt;</th><th scope=col>&lt;dbl&gt;</th><th scope=col>&lt;dbl&gt;</th><th scope=col>&lt;int&gt;</th><th scope=col>&lt;int&gt;</th></tr>\n",
       "</thead>\n",
       "<tbody>\n",
       "\t<tr><th scope=row>649</th><td>4.872</td><td>72.0</td><td>NA</td><td>NA</td><td>NA</td></tr>\n",
       "\t<tr><th scope=row>650</th><td>4.270</td><td>67.0</td><td>NA</td><td>NA</td><td>NA</td></tr>\n",
       "\t<tr><th scope=row>651</th><td>3.727</td><td>68.0</td><td>NA</td><td>NA</td><td>NA</td></tr>\n",
       "\t<tr><th scope=row>652</th><td>2.853</td><td>60.0</td><td>NA</td><td>NA</td><td>NA</td></tr>\n",
       "\t<tr><th scope=row>653</th><td>2.795</td><td>63.0</td><td>NA</td><td>NA</td><td>NA</td></tr>\n",
       "\t<tr><th scope=row>654</th><td>3.211</td><td>66.5</td><td>NA</td><td>NA</td><td>NA</td></tr>\n",
       "</tbody>\n",
       "</table>\n"
      ],
      "text/latex": [
       "A data.frame: 6 × 5\n",
       "\\begin{tabular}{r|lllll}\n",
       "  & age & FEV & ht & sex & smoke\\\\\n",
       "  & <dbl> & <dbl> & <dbl> & <int> & <int>\\\\\n",
       "\\hline\n",
       "\t649 & 4.872 & 72.0 & NA & NA & NA\\\\\n",
       "\t650 & 4.270 & 67.0 & NA & NA & NA\\\\\n",
       "\t651 & 3.727 & 68.0 & NA & NA & NA\\\\\n",
       "\t652 & 2.853 & 60.0 & NA & NA & NA\\\\\n",
       "\t653 & 2.795 & 63.0 & NA & NA & NA\\\\\n",
       "\t654 & 3.211 & 66.5 & NA & NA & NA\\\\\n",
       "\\end{tabular}\n"
      ],
      "text/markdown": [
       "\n",
       "A data.frame: 6 × 5\n",
       "\n",
       "| <!--/--> | age &lt;dbl&gt; | FEV &lt;dbl&gt; | ht &lt;dbl&gt; | sex &lt;int&gt; | smoke &lt;int&gt; |\n",
       "|---|---|---|---|---|---|\n",
       "| 649 | 4.872 | 72.0 | NA | NA | NA |\n",
       "| 650 | 4.270 | 67.0 | NA | NA | NA |\n",
       "| 651 | 3.727 | 68.0 | NA | NA | NA |\n",
       "| 652 | 2.853 | 60.0 | NA | NA | NA |\n",
       "| 653 | 2.795 | 63.0 | NA | NA | NA |\n",
       "| 654 | 3.211 | 66.5 | NA | NA | NA |\n",
       "\n"
      ],
      "text/plain": [
       "    age   FEV  ht sex smoke\n",
       "649 4.872 72.0 NA NA  NA   \n",
       "650 4.270 67.0 NA NA  NA   \n",
       "651 3.727 68.0 NA NA  NA   \n",
       "652 2.853 60.0 NA NA  NA   \n",
       "653 2.795 63.0 NA NA  NA   \n",
       "654 3.211 66.5 NA NA  NA   "
      ]
     },
     "metadata": {},
     "output_type": "display_data"
    }
   ],
   "source": [
    "tail(data)"
   ]
  },
  {
   "cell_type": "code",
   "execution_count": 7,
   "metadata": {},
   "outputs": [
    {
     "name": "stdout",
     "output_type": "stream",
     "text": [
      "[1] \"cols: 5\"\n",
      "[1] \"rows: 654\"\n"
     ]
    }
   ],
   "source": [
    "print(paste(\"cols:\", ncol(data)))\n",
    "print(paste(\"rows:\", nrow(data)))"
   ]
  },
  {
   "cell_type": "markdown",
   "metadata": {},
   "source": [
    "## Câu 3"
   ]
  },
  {
   "cell_type": "code",
   "execution_count": 8,
   "metadata": {},
   "outputs": [
    {
     "data": {
      "image/png": "[encoded data removed]",
      "text/plain": [
       "Plot with title \"Missing values vs observed\""
      ]
     },
     "metadata": {
      "image/png": {
       "height": 420,
       "width": 420
      }
     },
     "output_type": "display_data"
    }
   ],
   "source": [
    "# Check missing value\n",
    "missmap(data, main = \"Missing values vs observed\")"
   ]
  },
  {
   "cell_type": "code",
   "execution_count": 9,
   "metadata": {},
   "outputs": [
    {
     "data": {
      "image/png": "[encoded data removed]",
      "text/plain": [
       "Plot with title \"FEV\""
      ]
     },
     "metadata": {
      "image/png": {
       "height": 420,
       "width": 420
      }
     },
     "output_type": "display_data"
    }
   ],
   "source": [
    "par(mfrow = c(1, 2))\n",
    "col_index = c(1:2)\n",
    "\n",
    "for (index in col_index){\n",
    "    boxplot(data[,index], main = names(data)[index], \n",
    "        sub = paste(\"Outlier rows:\", boxplot.stats(data[,index])$out))\n",
    "}\n"
   ]
  },
  {
   "cell_type": "markdown",
   "metadata": {},
   "source": [
    "#### Không có outlier"
   ]
  },
  {
   "cell_type": "markdown",
   "metadata": {},
   "source": [
    "## Câu 4"
   ]
  },
  {
   "cell_type": "code",
   "execution_count": 10,
   "metadata": {},
   "outputs": [
    {
     "name": "stderr",
     "output_type": "stream",
     "text": [
      "`stat_bin()` using `bins = 30`. Pick better value with `binwidth`.\n",
      "\n",
      "`stat_bin()` using `bins = 30`. Pick better value with `binwidth`.\n",
      "\n"
     ]
    },
    {
     "data": {
      "image/png": "[encoded data removed]",
      "text/plain": [
       "plot without title"
      ]
     },
     "metadata": {
      "image/png": {
       "height": 420,
       "width": 420
      }
     },
     "output_type": "display_data"
    }
   ],
   "source": [
    "hist_top <- ggplot(data = data, aes(x = age))+geom_histogram()\n",
    "hist_right <- ggplot(data = data, aes(x = FEV))+geom_histogram()+coord_flip()\n",
    "scatter = ggplot(data = data, aes(x = age, y = FEV)) + geom_point() + theme_bw(base_size = 14)\n",
    "\n",
    "empty <- ggplot()+geom_point(aes(1,1), colour=\"white\")+\n",
    "         theme(axis.ticks=element_blank(), \n",
    "               panel.background=element_blank(), \n",
    "               axis.text.x=element_blank(), axis.text.y=element_blank(),           \n",
    "               axis.title.x=element_blank(), axis.title.y=element_blank())\n",
    "grid.arrange(hist_top, empty, scatter, hist_right, ncol=2, nrow=2, widths=c(4, 1), heights=c(1, 4))\n"
   ]
  },
  {
   "cell_type": "markdown",
   "metadata": {},
   "source": [
    "### Nhận xét\n",
    "* Dữ liệu chia thành 2 nhóm rõ rệt"
   ]
  },
  {
   "cell_type": "markdown",
   "metadata": {},
   "source": [
    "## Câu 5"
   ]
  },
  {
   "cell_type": "code",
   "execution_count": 11,
   "metadata": {},
   "outputs": [],
   "source": [
    "data_FEV_less_10 = filter(data, FEV < 10)\n",
    "data_FEV_more_10 = filter(data, FEV >= 10)"
   ]
  },
  {
   "cell_type": "markdown",
   "metadata": {},
   "source": [
    "## Câu 6"
   ]
  },
  {
   "cell_type": "code",
   "execution_count": 12,
   "metadata": {},
   "outputs": [
    {
     "name": "stdout",
     "output_type": "stream",
     "text": [
      "[1] \"Rows of training data and test data:\"\n",
      "[1] 241\n",
      "[1] 104\n"
     ]
    }
   ],
   "source": [
    "# Create training and test data samples from orginal data\n",
    "set.seed(42) # Setting seed to reproduce results of ramdom sampling\n",
    "trainingRowIndex = sample(1: nrow(data_FEV_more_10), 0.7 * nrow(data_FEV_more_10))\n",
    "trainingData = data_FEV_more_10[trainingRowIndex, ]\n",
    "testData = data_FEV_more_10[- trainingRowIndex,]\n",
    "print(\"Rows of training data and test data:\")\n",
    "print(nrow(trainingData))\n",
    "print(nrow(testData))"
   ]
  },
  {
   "cell_type": "code",
   "execution_count": 13,
   "metadata": {},
   "outputs": [
    {
     "name": "stdout",
     "output_type": "stream",
     "text": [
      "[1] \"mse: 6.08758723149665\"\n",
      "[1] \"mse in test: 5.52436930864772\"\n"
     ]
    }
   ],
   "source": [
    "# Develop the model on the training data and use it to preidict the Length on test data\n",
    "lmMod = lm(FEV ~ age, data =  trainingData) # Build the model\n",
    "iPred = predict(lmMod, testData) # predict length\n",
    "\n",
    "# mean square error according to model\n",
    "mse = mean(lmMod$residuals^2)\n",
    "print(paste(\"mse:\", mse))\n",
    "\n",
    "# mean square error of test data\n",
    "mse_test = mean((testData$FEV - iPred)^2)\n",
    "print(paste(\"mse in test:\", mse_test))"
   ]
  },
  {
   "cell_type": "code",
   "execution_count": 14,
   "metadata": {},
   "outputs": [
    {
     "name": "stdout",
     "output_type": "stream",
     "text": [
      "\n",
      "Call:\n",
      "lm(formula = FEV ~ age, data = trainingData)\n",
      "\n",
      "Residuals:\n",
      "    Min      1Q  Median      3Q     Max \n",
      "-7.7263 -1.6532 -0.1792  1.3260  8.2852 \n",
      "\n",
      "Coefficients:\n",
      "            Estimate Std. Error t value Pr(>|t|)    \n",
      "(Intercept)  53.2173     0.6909   77.02   <2e-16 ***\n",
      "age           3.7421     0.2075   18.03   <2e-16 ***\n",
      "---\n",
      "Signif. codes:  0 '***' 0.001 '**' 0.01 '*' 0.05 '.' 0.1 ' ' 1\n",
      "\n",
      "Residual standard error: 2.478 on 239 degrees of freedom\n",
      "Multiple R-squared:  0.5763,\tAdjusted R-squared:  0.5745 \n",
      "F-statistic: 325.1 on 1 and 239 DF,  p-value: < 2.2e-16\n",
      "\n"
     ]
    }
   ],
   "source": [
    "# Review dianostic measures\n",
    "print(summary(lmMod))"
   ]
  },
  {
   "cell_type": "code",
   "execution_count": 15,
   "metadata": {},
   "outputs": [
    {
     "name": "stdout",
     "output_type": "stream",
     "text": [
      "(Intercept)         age \n",
      "  53.217272    3.742128 \n",
      "[1] \"slope: 3.74212771439033\"\n",
      "[1] \"Intercept: 53.2172716367044\"\n"
     ]
    }
   ],
   "source": [
    "# Model coefficients\n",
    "print(coef(lmMod))\n",
    "# get beta estimate for age\n",
    "beta_width = coef(lmMod)[\"age\"]\n",
    "print(paste(\"slope:\", beta_width))\n",
    "Intercept = coef(lmMod)[\"(Intercept)\"]\n",
    "print(paste(\"Intercept:\", Intercept))"
   ]
  },
  {
   "cell_type": "code",
   "execution_count": 16,
   "metadata": {},
   "outputs": [
    {
     "name": "stdout",
     "output_type": "stream",
     "text": [
      "[1] \"results:\"\n",
      "       1        2        3        4 \n",
      "60.70153 64.44365 68.18578 71.92791 \n"
     ]
    }
   ],
   "source": [
    "# new predictions\n",
    "x = c(2, 3, 4, 5)\n",
    "y = predict(lmMod, data.frame(age = x))\n",
    "print(\"results:\")\n",
    "print(y)"
   ]
  },
  {
   "cell_type": "code",
   "execution_count": 17,
   "metadata": {},
   "outputs": [
    {
     "data": {
      "image/png": "[encoded data removed]",
      "text/plain": [
       "Plot with title \"FEV Linear regression\""
      ]
     },
     "metadata": {
      "image/png": {
       "height": 420,
       "width": 420
      }
     },
     "output_type": "display_data"
    }
   ],
   "source": [
    "# Visualization\n",
    "plot(data_FEV_more_10$age, data_FEV_more_10$FEV,\n",
    "     main = \"FEV Linear regression\",\n",
    "     xlab = \"Age\", ylab = \"FEV\",\n",
    "     pch = 19, frame = FALSE, col = 'blue')\n",
    "lines(x, y, col = 'red', type = 'p')\n",
    "abline(lmMod, data_FEV_more_10, col = 'green')\n",
    "legend(\"topleft\", c(\"dataset\", \"data_predict\"), cex = 0.8, fill = c(\"blue\", \"orange\"))"
   ]
  },
  {
   "cell_type": "markdown",
   "metadata": {},
   "source": [
    "## Câu 7 "
   ]
  },
  {
   "cell_type": "code",
   "execution_count": 18,
   "metadata": {},
   "outputs": [
    {
     "name": "stdout",
     "output_type": "stream",
     "text": [
      "[1] \"Rows of training data and test data:\"\n",
      "[1] 247\n",
      "[1] 62\n"
     ]
    }
   ],
   "source": [
    "# Create training and test data samples from orginal data\n",
    "set.seed(42) # Setting seed to reproduce results of ramdom sampling\n",
    "trainingRowIndex = sample(1: nrow(data_FEV_less_10), 0.8 * nrow(data_FEV_less_10))\n",
    "trainingData = data_FEV_less_10[trainingRowIndex, ] # training data\n",
    "testData = data_FEV_less_10[- trainingRowIndex,] # testing data\n",
    "print(\"Rows of training data and test data:\")\n",
    "print(nrow(trainingData))\n",
    "print(nrow(testData))"
   ]
  },
  {
   "cell_type": "code",
   "execution_count": 19,
   "metadata": {},
   "outputs": [
    {
     "name": "stdout",
     "output_type": "stream",
     "text": [
      "[1] \"mse: 0.0858432935888596\"\n",
      "[1] \"mse in test: 0.0836047535772129\"\n"
     ]
    }
   ],
   "source": [
    "# Develop the model on the training data and use it to preidict the Length on test data\n",
    "lmMod = lm(FEV~age+ht, data =  trainingData) # Build the model\n",
    "iPred = predict(lmMod, testData) # predict length\n",
    "\n",
    "# mean square error according to model\n",
    "mse = mean(lmMod$residuals^2)\n",
    "print(paste(\"mse:\", mse))\n",
    "\n",
    "# mean square error of test data\n",
    "mse_test = mean((testData$FEV - iPred)^2)\n",
    "print(paste(\"mse in test:\", mse_test))"
   ]
  },
  {
   "cell_type": "code",
   "execution_count": 20,
   "metadata": {},
   "outputs": [
    {
     "name": "stdout",
     "output_type": "stream",
     "text": [
      "\n",
      "Call:\n",
      "lm(formula = FEV ~ age + ht, data = trainingData)\n",
      "\n",
      "Residuals:\n",
      "    Min      1Q  Median      3Q     Max \n",
      "-1.2740 -0.1784 -0.0085  0.1798  1.0294 \n",
      "\n",
      "Coefficients:\n",
      "             Estimate Std. Error t value Pr(>|t|)    \n",
      "(Intercept) -3.268106   0.282636 -11.563   <2e-16 ***\n",
      "age          0.023705   0.020667   1.147    0.253    \n",
      "ht           0.090022   0.006749  13.338   <2e-16 ***\n",
      "---\n",
      "Signif. codes:  0 '***' 0.001 '**' 0.01 '*' 0.05 '.' 0.1 ' ' 1\n",
      "\n",
      "Residual standard error: 0.2948 on 244 degrees of freedom\n",
      "Multiple R-squared:  0.6775,\tAdjusted R-squared:  0.6748 \n",
      "F-statistic: 256.3 on 2 and 244 DF,  p-value: < 2.2e-16\n",
      "\n"
     ]
    }
   ],
   "source": [
    "# Review dianostic measures\n",
    "print(summary(lmMod))"
   ]
  },
  {
   "cell_type": "code",
   "execution_count": 21,
   "metadata": {},
   "outputs": [
    {
     "name": "stdout",
     "output_type": "stream",
     "text": [
      "(Intercept)         age          ht \n",
      "-3.26810604  0.02370527  0.09002153 \n"
     ]
    }
   ],
   "source": [
    "# Model coefficients\n",
    "print(coef(lmMod))"
   ]
  },
  {
   "cell_type": "code",
   "execution_count": 22,
   "metadata": {},
   "outputs": [
    {
     "name": "stdout",
     "output_type": "stream",
     "text": [
      "[1] \"results:\"\n",
      "       1        2        3        4        5 \n",
      "1.306486 1.825310 2.029058 2.322828 2.526576 \n"
     ]
    }
   ],
   "source": [
    "x1 = c(5, 6, 7, 8, 9)\n",
    "x2 = c(49.5,55, 57, 60, 62)\n",
    "\n",
    "y = predict(lmMod, data.frame(age = x1, ht = x2))\n",
    "print(\"results:\")\n",
    "print(y)"
   ]
  }
 ],
 "metadata": {
  "kernelspec": {
   "display_name": "R",
   "language": "R",
   "name": "ir"
  },
  "language_info": {
   "codemirror_mode": "r",
   "file_extension": ".r",
   "mimetype": "text/x-r-source",
   "name": "R",
   "pygments_lexer": "r",
   "version": "4.0.3"
  }
 },
 "nbformat": 4,
 "nbformat_minor": 4
}
