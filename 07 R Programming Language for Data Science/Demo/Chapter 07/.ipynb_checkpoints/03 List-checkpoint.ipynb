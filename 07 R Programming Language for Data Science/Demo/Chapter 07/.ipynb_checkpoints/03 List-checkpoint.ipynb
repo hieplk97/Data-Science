{
 "cells": [
  {
   "cell_type": "code",
   "execution_count": 1,
   "metadata": {},
   "outputs": [
    {
     "name": "stdout",
     "output_type": "stream",
     "text": [
      "[[1]]\n",
      "[1] \"hello\"\n",
      "\n",
      "[[2]]\n",
      "[1] \"R\"\n",
      "\n",
      "[[3]]\n",
      "[1] 12\n",
      "\n",
      "[[4]]\n",
      "[1] 25.5\n",
      "\n",
      "[[5]]\n",
      "[1] 21 32 11\n",
      "\n",
      "[[6]]\n",
      "[1] TRUE\n",
      "\n"
     ]
    }
   ],
   "source": [
    "list_data = list(\"hello\", \"R\", 12, 25.5, c(21, 32, 11), TRUE)\n",
    "print(list_data)"
   ]
  },
  {
   "cell_type": "code",
   "execution_count": 2,
   "metadata": {},
   "outputs": [],
   "source": [
    "list_1 = list(c(\"Red\", \"Green\", \"Yellow\"), matrix(c(1:8), nrow=2), list(\"green\", TRUE, 12.5), TRUE)\n",
    "names(list_1) = c(\"Traffic Light\", \"A matrix\", \"An inner list\", \"Pass\")"
   ]
  },
  {
   "cell_type": "code",
   "execution_count": 3,
   "metadata": {},
   "outputs": [
    {
     "name": "stdout",
     "output_type": "stream",
     "text": [
      "$`Traffic Light`\n",
      "[1] \"Red\"    \"Green\"  \"Yellow\"\n",
      "\n",
      "$`A matrix`\n",
      "     [,1] [,2] [,3] [,4]\n",
      "[1,]    1    3    5    7\n",
      "[2,]    2    4    6    8\n",
      "\n",
      "$`An inner list`\n",
      "$`An inner list`[[1]]\n",
      "[1] \"green\"\n",
      "\n",
      "$`An inner list`[[2]]\n",
      "[1] TRUE\n",
      "\n",
      "$`An inner list`[[3]]\n",
      "[1] 12.5\n",
      "\n",
      "\n",
      "$Pass\n",
      "[1] TRUE\n",
      "\n"
     ]
    }
   ],
   "source": [
    "print(list_1)"
   ]
  },
  {
   "cell_type": "code",
   "execution_count": 4,
   "metadata": {},
   "outputs": [
    {
     "name": "stdout",
     "output_type": "stream",
     "text": [
      "[[1]]\n",
      "[1] \"New element\"\n",
      "\n"
     ]
    }
   ],
   "source": [
    "# Add a new element at the last of the list\n",
    "list_1[length(list_1) + 1] = \"New element\"\n",
    "print(list_1[length(list_1)])"
   ]
  },
  {
   "cell_type": "code",
   "execution_count": 5,
   "metadata": {},
   "outputs": [],
   "source": [
    "# Remove the last element\n",
    "list_1[length(list_1)] = NULL"
   ]
  },
  {
   "cell_type": "code",
   "execution_count": 6,
   "metadata": {},
   "outputs": [
    {
     "data": {
      "text/html": [
       "<dl>\n",
       "\t<dt>$`Traffic Light`</dt>\n",
       "\t\t<dd><style>\n",
       ".list-inline {list-style: none; margin:0; padding: 0}\n",
       ".list-inline>li {display: inline-block}\n",
       ".list-inline>li:not(:last-child)::after {content: \"\\00b7\"; padding: 0 .5ex}\n",
       "</style>\n",
       "<ol class=list-inline><li>'Red'</li><li>'Green'</li><li>'Yellow'</li></ol>\n",
       "</dd>\n",
       "\t<dt>$`A matrix`</dt>\n",
       "\t\t<dd><table>\n",
       "<caption>A matrix: 2 × 4 of type int</caption>\n",
       "<tbody>\n",
       "\t<tr><td>1</td><td>3</td><td>5</td><td>7</td></tr>\n",
       "\t<tr><td>2</td><td>4</td><td>6</td><td>8</td></tr>\n",
       "</tbody>\n",
       "</table>\n",
       "</dd>\n",
       "\t<dt>$`An inner list`</dt>\n",
       "\t\t<dd><ol>\n",
       "\t<li>'green'</li>\n",
       "\t<li>TRUE</li>\n",
       "\t<li>12.5</li>\n",
       "</ol>\n",
       "</dd>\n",
       "\t<dt>$Pass</dt>\n",
       "\t\t<dd>TRUE</dd>\n",
       "</dl>\n"
      ],
      "text/latex": [
       "\\begin{description}\n",
       "\\item[\\$`Traffic Light`] \\begin{enumerate*}\n",
       "\\item 'Red'\n",
       "\\item 'Green'\n",
       "\\item 'Yellow'\n",
       "\\end{enumerate*}\n",
       "\n",
       "\\item[\\$`A matrix`] A matrix: 2 × 4 of type int\n",
       "\\begin{tabular}{llll}\n",
       "\t 1 & 3 & 5 & 7\\\\\n",
       "\t 2 & 4 & 6 & 8\\\\\n",
       "\\end{tabular}\n",
       "\n",
       "\\item[\\$`An inner list`] \\begin{enumerate}\n",
       "\\item 'green'\n",
       "\\item TRUE\n",
       "\\item 12.5\n",
       "\\end{enumerate}\n",
       "\n",
       "\\item[\\$Pass] TRUE\n",
       "\\end{description}\n"
      ],
      "text/markdown": [
       "$`Traffic Light`\n",
       ":   1. 'Red'\n",
       "2. 'Green'\n",
       "3. 'Yellow'\n",
       "\n",
       "\n",
       "\n",
       "$`A matrix`\n",
       ":   \n",
       "A matrix: 2 × 4 of type int\n",
       "\n",
       "| 1 | 3 | 5 | 7 |\n",
       "| 2 | 4 | 6 | 8 |\n",
       "\n",
       "\n",
       "$`An inner list`\n",
       ":   1. 'green'\n",
       "2. TRUE\n",
       "3. 12.5\n",
       "\n",
       "\n",
       "\n",
       "$Pass\n",
       ":   TRUE\n",
       "\n",
       "\n"
      ],
      "text/plain": [
       "$`Traffic Light`\n",
       "[1] \"Red\"    \"Green\"  \"Yellow\"\n",
       "\n",
       "$`A matrix`\n",
       "     [,1] [,2] [,3] [,4]\n",
       "[1,]    1    3    5    7\n",
       "[2,]    2    4    6    8\n",
       "\n",
       "$`An inner list`\n",
       "$`An inner list`[[1]]\n",
       "[1] \"green\"\n",
       "\n",
       "$`An inner list`[[2]]\n",
       "[1] TRUE\n",
       "\n",
       "$`An inner list`[[3]]\n",
       "[1] 12.5\n",
       "\n",
       "\n",
       "$Pass\n",
       "[1] TRUE\n"
      ]
     },
     "metadata": {},
     "output_type": "display_data"
    }
   ],
   "source": [
    "list_1"
   ]
  },
  {
   "cell_type": "code",
   "execution_count": 7,
   "metadata": {},
   "outputs": [],
   "source": [
    "# Update the third element\n",
    "list_1[3] = TRUE"
   ]
  },
  {
   "cell_type": "code",
   "execution_count": 8,
   "metadata": {},
   "outputs": [
    {
     "name": "stdout",
     "output_type": "stream",
     "text": [
      "$`An inner list`\n",
      "[1] TRUE\n",
      "\n"
     ]
    }
   ],
   "source": [
    "print(list_1[3])"
   ]
  },
  {
   "cell_type": "code",
   "execution_count": 9,
   "metadata": {},
   "outputs": [],
   "source": [
    "list1 = list(1, TRUE, c(\"Red\", \"Green\", \"Yellow\"))\n",
    "list2 = list(TRUE, \"hello\", 12.5)\n",
    "\n",
    "merged.list = c(list1, list2)"
   ]
  },
  {
   "cell_type": "code",
   "execution_count": 10,
   "metadata": {},
   "outputs": [
    {
     "name": "stdout",
     "output_type": "stream",
     "text": [
      "[[1]]\n",
      "[1] 1\n",
      "\n",
      "[[2]]\n",
      "[1] TRUE\n",
      "\n",
      "[[3]]\n",
      "[1] \"Red\"    \"Green\"  \"Yellow\"\n",
      "\n",
      "[[4]]\n",
      "[1] TRUE\n",
      "\n",
      "[[5]]\n",
      "[1] \"hello\"\n",
      "\n",
      "[[6]]\n",
      "[1] 12.5\n",
      "\n"
     ]
    }
   ],
   "source": [
    "print(merged.list)"
   ]
  },
  {
   "cell_type": "code",
   "execution_count": 11,
   "metadata": {},
   "outputs": [
    {
     "name": "stdout",
     "output_type": "stream",
     "text": [
      "[1] 1 2 3 4 5\n",
      "[1]  6  7  8  9 10\n"
     ]
    }
   ],
   "source": [
    "list1 = list(1:5)\n",
    "list2 = list(6:10)\n",
    "\n",
    "v1 = unlist(list1)\n",
    "v2 = unlist(list2)\n",
    "\n",
    "print(v1)\n",
    "print(v2)"
   ]
  },
  {
   "cell_type": "code",
   "execution_count": 12,
   "metadata": {},
   "outputs": [
    {
     "name": "stdout",
     "output_type": "stream",
     "text": [
      "[1]  7  9 11 13 15\n"
     ]
    }
   ],
   "source": [
    "result = v1 + v2\n",
    "print(result)"
   ]
  },
  {
   "cell_type": "code",
   "execution_count": null,
   "metadata": {},
   "outputs": [],
   "source": []
  }
 ],
 "metadata": {
  "kernelspec": {
   "display_name": "R",
   "language": "R",
   "name": "ir"
  },
  "language_info": {
   "codemirror_mode": "r",
   "file_extension": ".r",
   "mimetype": "text/x-r-source",
   "name": "R",
   "pygments_lexer": "r",
   "version": "4.0.3"
  }
 },
 "nbformat": 4,
 "nbformat_minor": 4
}
