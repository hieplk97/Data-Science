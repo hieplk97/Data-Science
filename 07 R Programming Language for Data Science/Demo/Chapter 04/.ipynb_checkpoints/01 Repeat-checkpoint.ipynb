{
 "cells": [
  {
   "cell_type": "code",
   "execution_count": 2,
   "metadata": {},
   "outputs": [
    {
     "name": "stdout",
     "output_type": "stream",
     "text": [
      "[1] \"Time:  1\"\n",
      "[1] \"Time:  2\"\n",
      "[1] \"Time:  3\"\n",
      "[1] \"Time:  4\"\n",
      "[1] \"Time:  5\"\n"
     ]
    }
   ],
   "source": [
    "start = 1\n",
    "repeat {\n",
    "    print(paste(\"Time: \", start))\n",
    "    start = start + 1\n",
    "    if (start > 5){\n",
    "        break\n",
    "    }\n",
    "}"
   ]
  },
  {
   "cell_type": "code",
   "execution_count": 4,
   "metadata": {},
   "outputs": [
    {
     "name": "stdin",
     "output_type": "stream",
     "text": [
      "Input mark 5\n",
      "Continue-1 / Stop-others  1\n",
      "Input mark 9\n",
      "Continue-1 / Stop-others  0\n"
     ]
    },
    {
     "name": "stdout",
     "output_type": "stream",
     "text": [
      "[1] \"Average\"\n",
      "[1] \"Excellent\"\n"
     ]
    }
   ],
   "source": [
    "repeat {\n",
    "    mark = readline(prompt = \"Input mark\")\n",
    "    mark = as.numeric(mark)\n",
    "    \n",
    "    if (mark < 5){\n",
    "        message(\"Weak\")\n",
    "    } else if (mark < 7) {\n",
    "        message(\"Average\")\n",
    "    } else if (mark < 8) {\n",
    "        message(\"Good\")\n",
    "    } else if (mark < 9) {\n",
    "        message(\"Very good\")\n",
    "    } else {\n",
    "        message(\"Excellent\")\n",
    "    }\n",
    "    \n",
    "    cont = as.numeric(readline(prompt = \"Continue-1 / Stop-others \"))\n",
    "    if (cont != 1){\n",
    "        break\n",
    "    }\n",
    "}"
   ]
  },
  {
   "cell_type": "code",
   "execution_count": null,
   "metadata": {},
   "outputs": [],
   "source": []
  }
 ],
 "metadata": {
  "kernelspec": {
   "display_name": "R",
   "language": "R",
   "name": "ir"
  },
  "language_info": {
   "codemirror_mode": "r",
   "file_extension": ".r",
   "mimetype": "text/x-r-source",
   "name": "R",
   "pygments_lexer": "r",
   "version": "4.0.3"
  }
 },
 "nbformat": 4,
 "nbformat_minor": 4
}
