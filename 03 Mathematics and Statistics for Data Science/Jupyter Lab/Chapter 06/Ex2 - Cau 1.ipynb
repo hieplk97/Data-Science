{
 "cells": [
  {
   "cell_type": "raw",
   "metadata": {},
   "source": [
    "\"\"\"============================================================================\n",
    "   Trong 1 lần kiểm tra, một câu hỏi được đưa ra cho tất cả 30 người tham gia \n",
    "   và thời gian được phép trả lời là 25 giây. \n",
    "      1. Chọn loại phân phối. Tạo ra (ngẫu nhiên) thời gian trả lời cho 30 người.\n",
    "      2. Vẽ histogram quan sát. Nhận xét.\n",
    "      3. Tìm xác xuất 1 người trả lời trong vòng 6 giây. \n",
    "         Có bao nhiêu người trong số 30 người trả lời được trong 6 giây.\n",
    "============================================================================\"\"\""
   ]
  },
  {
   "cell_type": "code",
   "execution_count": 1,
   "metadata": {},
   "outputs": [],
   "source": [
    "import matplotlib.pyplot as plt\n",
    "import numpy             as np\n",
    "import seaborn           as sns\n",
    "\n",
    "from numpy.random import seed"
   ]
  },
  {
   "cell_type": "code",
   "execution_count": 4,
   "metadata": {},
   "outputs": [
    {
     "data": {
      "image/png": "[encoded data removed]",
      "text/plain": [
       "<Figure size 576x288 with 2 Axes>"
      ]
     },
     "metadata": {
      "needs_background": "light"
     },
     "output_type": "display_data"
    }
   ],
   "source": [
    "# 1. Chọn loại phân phối. Tạo ra (ngẫu nhiên) thời gian trả lời cho 30 người.\n",
    "#    X ~ Uniform(0, 25)\n",
    "n = 30\n",
    "a = 0\n",
    "b = 25\n",
    "\n",
    "seed(1)\n",
    "data = np.random.uniform(a, b + 1, n)\n",
    "data.astype(int)\n",
    "\n",
    "# 2. Vẽ histogram quan sát. Nhận xét.\n",
    "plt.figure(figsize = (8, 4))\n",
    "plt.subplot(1, 2, 1)\n",
    "plt.hist(data)\n",
    "plt.subplot(1, 2, 2)\n",
    "sns.distplot(data, bins = 10, kde = True, color = 'blue',\n",
    "             hist_kws = {'linewidth': 15,'alpha': 1})\n",
    "plt.show()"
   ]
  },
  {
   "cell_type": "code",
   "execution_count": 5,
   "metadata": {},
   "outputs": [
    {
     "name": "stdout",
     "output_type": "stream",
     "text": [
      "P(0 <= x <= 6) = 0.24\n"
     ]
    }
   ],
   "source": [
    "# 3. Tìm xác xuất 1 người trả lời trong vòng 6 giây.\n",
    "#    F(x) = (x - a) / (b - a)\n",
    "x    = 6\n",
    "p_6s = (x - a) / (b - a)\n",
    "print('P(0 <= x <= 6) =', p_6s)"
   ]
  },
  {
   "cell_type": "code",
   "execution_count": 3,
   "metadata": {},
   "outputs": [
    {
     "name": "stdout",
     "output_type": "stream",
     "text": [
      "Số người trả lời trong 6s: ~ 7 người\n"
     ]
    }
   ],
   "source": [
    "# Ước lượng số người trả lời trong vòng 6s\n",
    "print('Số người trả lời trong 6s: ~', round(p_6s * n), 'người')\n"
   ]
  }
 ],
 "metadata": {
  "kernelspec": {
   "display_name": "Python 3",
   "language": "python",
   "name": "python3"
  },
  "language_info": {
   "codemirror_mode": {
    "name": "ipython",
    "version": 3
   },
   "file_extension": ".py",
   "mimetype": "text/x-python",
   "name": "python",
   "nbconvert_exporter": "python",
   "pygments_lexer": "ipython3",
   "version": "3.8.5"
  }
 },
 "nbformat": 4,
 "nbformat_minor": 4
}
