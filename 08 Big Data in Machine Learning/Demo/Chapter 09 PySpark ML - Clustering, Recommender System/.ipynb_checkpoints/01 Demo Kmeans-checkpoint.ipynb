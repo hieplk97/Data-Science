{
 "cells": [
  {
   "cell_type": "code",
   "execution_count": 1,
   "id": "thorough-expert",
   "metadata": {},
   "outputs": [],
   "source": [
    "import findspark\n",
    "findspark.init()"
   ]
  },
  {
   "cell_type": "code",
   "execution_count": 2,
   "id": "hairy-champion",
   "metadata": {},
   "outputs": [],
   "source": [
    "import pyspark\n",
    "import matplotlib.pyplot as plt\n",
    "import pandas as pd\n",
    "import seaborn as sns"
   ]
  },
  {
   "cell_type": "code",
   "execution_count": 3,
   "id": "valid-crack",
   "metadata": {},
   "outputs": [],
   "source": [
    "from pyspark import SparkContext\n",
    "from pyspark.conf import SparkConf\n",
    "from pyspark.sql import SparkSession"
   ]
  },
  {
   "cell_type": "code",
   "execution_count": 4,
   "id": "vulnerable-journey",
   "metadata": {},
   "outputs": [],
   "source": [
    "spark = SparkSession.builder.appName('cluster_demo').getOrCreate()"
   ]
  },
  {
   "cell_type": "code",
   "execution_count": 5,
   "id": "neutral-courage",
   "metadata": {},
   "outputs": [],
   "source": [
    "# Load data\n",
    "data = spark.read.csv(\"../../Data/5000_points.txt\", header=False, inferSchema=True, sep='\\t')"
   ]
  },
  {
   "cell_type": "code",
   "execution_count": 6,
   "id": "imported-blues",
   "metadata": {},
   "outputs": [
    {
     "name": "stdout",
     "output_type": "stream",
     "text": [
      "+------+------+\n",
      "|   _c0|   _c1|\n",
      "+------+------+\n",
      "|664159|550946|\n",
      "|665845|557965|\n",
      "|597173|575538|\n",
      "+------+------+\n",
      "only showing top 3 rows\n",
      "\n"
     ]
    }
   ],
   "source": [
    "data.show(3)"
   ]
  },
  {
   "cell_type": "markdown",
   "id": "coordinated-publicity",
   "metadata": {},
   "source": [
    "### Chuẩn hóa dữ liệu"
   ]
  },
  {
   "cell_type": "code",
   "execution_count": 7,
   "id": "partial-registrar",
   "metadata": {},
   "outputs": [],
   "source": [
    "from pyspark.sql.functions import col"
   ]
  },
  {
   "cell_type": "code",
   "execution_count": 8,
   "id": "improving-treasurer",
   "metadata": {},
   "outputs": [],
   "source": [
    "data = data.select(col(\"_c0\").alias(\"x\"), col(\"_c1\").alias(\"y\"))"
   ]
  },
  {
   "cell_type": "code",
   "execution_count": 9,
   "id": "proprietary-state",
   "metadata": {},
   "outputs": [
    {
     "name": "stdout",
     "output_type": "stream",
     "text": [
      "+------+------+\n",
      "|     x|     y|\n",
      "+------+------+\n",
      "|664159|550946|\n",
      "|665845|557965|\n",
      "|597173|575538|\n",
      "+------+------+\n",
      "only showing top 3 rows\n",
      "\n"
     ]
    }
   ],
   "source": [
    "data.show(3)"
   ]
  },
  {
   "cell_type": "markdown",
   "id": "cosmetic-spirituality",
   "metadata": {},
   "source": [
    "### Chuyễn đổi dữ liệu"
   ]
  },
  {
   "cell_type": "code",
   "execution_count": 10,
   "id": "younger-surgery",
   "metadata": {},
   "outputs": [],
   "source": [
    "from pyspark.ml.linalg import Vectors\n",
    "from pyspark.ml.feature import VectorAssembler"
   ]
  },
  {
   "cell_type": "code",
   "execution_count": 11,
   "id": "backed-depression",
   "metadata": {},
   "outputs": [
    {
     "data": {
      "text/plain": [
       "['x', 'y']"
      ]
     },
     "execution_count": 11,
     "metadata": {},
     "output_type": "execute_result"
    }
   ],
   "source": [
    "data.columns"
   ]
  },
  {
   "cell_type": "code",
   "execution_count": 12,
   "id": "approved-sector",
   "metadata": {},
   "outputs": [],
   "source": [
    "vec_assembler = VectorAssembler(inputCols=data.columns, outputCol='features')"
   ]
  },
  {
   "cell_type": "code",
   "execution_count": 13,
   "id": "incomplete-windsor",
   "metadata": {},
   "outputs": [],
   "source": [
    "final_data = vec_assembler.transform(data)"
   ]
  },
  {
   "cell_type": "markdown",
   "id": "alleged-tackle",
   "metadata": {},
   "source": [
    "### Scale dữ liệu"
   ]
  },
  {
   "cell_type": "code",
   "execution_count": 14,
   "id": "israeli-pacific",
   "metadata": {},
   "outputs": [],
   "source": [
    "from pyspark.ml.feature import StandardScaler"
   ]
  },
  {
   "cell_type": "code",
   "execution_count": 15,
   "id": "ethical-mathematics",
   "metadata": {},
   "outputs": [],
   "source": [
    "scaler = StandardScaler(inputCol=\"features\", outputCol=\"scaledFeatures\", withStd=True, withMean=False)"
   ]
  },
  {
   "cell_type": "code",
   "execution_count": 16,
   "id": "united-estonia",
   "metadata": {},
   "outputs": [],
   "source": [
    "# Compute summary statistics by fitting the StandardScaler\n",
    "scalerModel = scaler.fit(final_data)"
   ]
  },
  {
   "cell_type": "code",
   "execution_count": 17,
   "id": "spanish-backing",
   "metadata": {},
   "outputs": [],
   "source": [
    "# Normalize each feature to have unit standard deviation\n",
    "final_data = scalerModel.transform(final_data)"
   ]
  },
  {
   "cell_type": "code",
   "execution_count": 18,
   "id": "whole-mixture",
   "metadata": {},
   "outputs": [
    {
     "name": "stdout",
     "output_type": "stream",
     "text": [
      "+------+------+-------------------+---------------------------------------+\n",
      "|x     |y     |features           |scaledFeatures                         |\n",
      "+------+------+-------------------+---------------------------------------+\n",
      "|664159|550946|[664159.0,550946.0]|[2.716775610700365,2.336092297255214]  |\n",
      "|665845|557965|[665845.0,557965.0]|[2.7236722780340017,2.3658538924649704]|\n",
      "|597173|575538|[597173.0,575538.0]|[2.4427660270639544,2.440366004250274] |\n",
      "+------+------+-------------------+---------------------------------------+\n",
      "only showing top 3 rows\n",
      "\n"
     ]
    }
   ],
   "source": [
    "final_data.show(3, False)"
   ]
  },
  {
   "cell_type": "markdown",
   "id": "prime-dragon",
   "metadata": {},
   "source": [
    "### Xây dựng model"
   ]
  },
  {
   "cell_type": "code",
   "execution_count": 19,
   "id": "identified-audience",
   "metadata": {},
   "outputs": [],
   "source": [
    "from pyspark.ml.clustering import KMeans"
   ]
  },
  {
   "cell_type": "code",
   "execution_count": 20,
   "id": "amended-special",
   "metadata": {},
   "outputs": [
    {
     "name": "stdout",
     "output_type": "stream",
     "text": [
      "With k= 2 Set Sum of Squared Errors= 6393.656317238168\n",
      "With k= 3 Set Sum of Squared Errors= 3927.4713845336037\n",
      "With k= 4 Set Sum of Squared Errors= 2522.7987136302286\n",
      "With k= 5 Set Sum of Squared Errors= 1817.0452245537042\n",
      "With k= 6 Set Sum of Squared Errors= 1598.476761513957\n",
      "With k= 7 Set Sum of Squared Errors= 1239.534477960808\n",
      "With k= 8 Set Sum of Squared Errors= 920.6352362698533\n",
      "With k= 9 Set Sum of Squared Errors= 730.0545758106957\n",
      "With k= 10 Set Sum of Squared Errors= 604.51637054492\n"
     ]
    }
   ],
   "source": [
    "# Train a k-means model\n",
    "k_list = []\n",
    "wssse_list = []\n",
    "for k in range(2, 11):\n",
    "    kmeans = KMeans(featuresCol='scaledFeatures', k=k)\n",
    "    model = kmeans.fit(final_data)\n",
    "    wssse = model.summary.trainingCost\n",
    "    k_list.append(k)\n",
    "    wssse_list.append(wssse)\n",
    "    print('With k=', k, \"Set Sum of Squared Errors=\", str(wssse))"
   ]
  },
  {
   "cell_type": "code",
   "execution_count": 21,
   "id": "veterinary-sympathy",
   "metadata": {},
   "outputs": [
    {
     "data": {
      "image/png": "[encoded data removed]",
      "text/plain": [
       "<Figure size 432x288 with 1 Axes>"
      ]
     },
     "metadata": {
      "needs_background": "light"
     },
     "output_type": "display_data"
    }
   ],
   "source": [
    "plt.plot(k_list, wssse_list)\n",
    "plt.show()"
   ]
  },
  {
   "cell_type": "markdown",
   "id": "optional-touch",
   "metadata": {},
   "source": [
    "Chọn k=8"
   ]
  },
  {
   "cell_type": "code",
   "execution_count": 22,
   "id": "forty-wells",
   "metadata": {},
   "outputs": [],
   "source": [
    "# Train a k-means model\n",
    "kmeans = KMeans(featuresCol='scaledFeatures', k=8)\n",
    "model = kmeans.fit(final_data)"
   ]
  },
  {
   "cell_type": "code",
   "execution_count": 23,
   "id": "coated-rocket",
   "metadata": {},
   "outputs": [
    {
     "name": "stdout",
     "output_type": "stream",
     "text": [
      "With Set Sum of Squared Errors= 920.6352362698533\n"
     ]
    }
   ],
   "source": [
    "# Evaluate clustering by computing within Set Sum of Squared Errors\n",
    "wssse = model.summary.trainingCost\n",
    "print(\"With Set Sum of Squared Errors=\", str(wssse))"
   ]
  },
  {
   "cell_type": "code",
   "execution_count": 24,
   "id": "composed-antique",
   "metadata": {},
   "outputs": [
    {
     "name": "stdout",
     "output_type": "stream",
     "text": [
      "Cluster Centers:\n",
      "[1.70471862 0.71909661]\n",
      "[1.34030412 3.47086537]\n",
      "[3.47904688 2.37837376]\n",
      "[0.75463741 1.48020112]\n",
      "[0.96755054 2.36754019]\n",
      "[3.3835021  1.00340397]\n",
      "[2.21786197 1.92965913]\n",
      "[3.00895011 3.42555356]\n"
     ]
    }
   ],
   "source": [
    "# Show the result\n",
    "centers = model.clusterCenters()\n",
    "print('Cluster Centers:')\n",
    "for center in centers:\n",
    "    print(center)"
   ]
  },
  {
   "cell_type": "markdown",
   "id": "functioning-poverty",
   "metadata": {},
   "source": [
    "### Dự đoán kết quả"
   ]
  },
  {
   "cell_type": "code",
   "execution_count": 25,
   "id": "common-company",
   "metadata": {},
   "outputs": [],
   "source": [
    "predictions = model.transform(final_data)"
   ]
  },
  {
   "cell_type": "code",
   "execution_count": 26,
   "id": "great-transcript",
   "metadata": {},
   "outputs": [
    {
     "name": "stdout",
     "output_type": "stream",
     "text": [
      "+----------+\n",
      "|prediction|\n",
      "+----------+\n",
      "|         6|\n",
      "|         6|\n",
      "|         6|\n",
      "|         6|\n",
      "|         6|\n",
      "+----------+\n",
      "only showing top 5 rows\n",
      "\n"
     ]
    }
   ],
   "source": [
    "predictions.select('prediction').show(5)"
   ]
  },
  {
   "cell_type": "code",
   "execution_count": 27,
   "id": "pacific-salon",
   "metadata": {},
   "outputs": [
    {
     "name": "stdout",
     "output_type": "stream",
     "text": [
      "+----------+-----+\n",
      "|prediction|count|\n",
      "+----------+-----+\n",
      "|         1|  655|\n",
      "|         6|  920|\n",
      "|         3|  373|\n",
      "|         5|  638|\n",
      "|         4|  678|\n",
      "|         7|  630|\n",
      "|         2|  415|\n",
      "|         0|  691|\n",
      "+----------+-----+\n",
      "\n"
     ]
    }
   ],
   "source": [
    "predictions.groupBy('prediction').count().show()"
   ]
  },
  {
   "cell_type": "code",
   "execution_count": 28,
   "id": "tutorial-county",
   "metadata": {},
   "outputs": [
    {
     "name": "stdout",
     "output_type": "stream",
     "text": [
      "+------+------+-------------------+---------------------------------------+\n",
      "|x     |y     |features           |scaledFeatures                         |\n",
      "+------+------+-------------------+---------------------------------------+\n",
      "|664159|550946|[664159.0,550946.0]|[2.716775610700365,2.336092297255214]  |\n",
      "|665845|557965|[665845.0,557965.0]|[2.7236722780340017,2.3658538924649704]|\n",
      "|597173|575538|[597173.0,575538.0]|[2.4427660270639544,2.440366004250274] |\n",
      "+------+------+-------------------+---------------------------------------+\n",
      "only showing top 3 rows\n",
      "\n"
     ]
    }
   ],
   "source": [
    "final_data.show(3, False)"
   ]
  },
  {
   "cell_type": "code",
   "execution_count": 29,
   "id": "activated-present",
   "metadata": {},
   "outputs": [],
   "source": [
    "temp = final_data.select(\"scaledFeatures\").rdd.map(lambda x: x[0].toArray().tolist()).toDF()"
   ]
  },
  {
   "cell_type": "code",
   "execution_count": 30,
   "id": "polar-karma",
   "metadata": {},
   "outputs": [
    {
     "name": "stdout",
     "output_type": "stream",
     "text": [
      "+------------------+------------------+\n",
      "|                _1|                _2|\n",
      "+------------------+------------------+\n",
      "| 2.716775610700365| 2.336092297255214|\n",
      "|2.7236722780340017|2.3658538924649704|\n",
      "|2.4427660270639544| 2.440366004250274|\n",
      "+------------------+------------------+\n",
      "only showing top 3 rows\n",
      "\n"
     ]
    }
   ],
   "source": [
    "temp.show(3)"
   ]
  },
  {
   "cell_type": "code",
   "execution_count": 31,
   "id": "biblical-montana",
   "metadata": {},
   "outputs": [
    {
     "data": {
      "text/plain": [
       "['prediction']"
      ]
     },
     "execution_count": 31,
     "metadata": {},
     "output_type": "execute_result"
    }
   ],
   "source": [
    "data_result = predictions.select(\"prediction\")\n",
    "data_result.columns"
   ]
  },
  {
   "cell_type": "code",
   "execution_count": 32,
   "id": "stainless-tobacco",
   "metadata": {},
   "outputs": [],
   "source": [
    "from pyspark.sql.functions import monotonically_increasing_id"
   ]
  },
  {
   "cell_type": "code",
   "execution_count": 35,
   "id": "tender-narrow",
   "metadata": {},
   "outputs": [
    {
     "name": "stdout",
     "output_type": "stream",
     "text": [
      "+------------------+------------------+----------+\n",
      "|                _1|                _2|prediction|\n",
      "+------------------+------------------+----------+\n",
      "| 2.716775610700365| 2.336092297255214|         6|\n",
      "|2.7236722780340017|2.3658538924649704|         6|\n",
      "|2.4427660270639544| 2.440366004250274|         6|\n",
      "+------------------+------------------+----------+\n",
      "only showing top 3 rows\n",
      "\n"
     ]
    }
   ],
   "source": [
    "temp = temp.withColumn('row_index', monotonically_increasing_id())\n",
    "data_result = data_result.withColumn('row_index', monotonically_increasing_id())\n",
    "temp = temp.join(data_result, on=[\"row_index\"]).sort(\"row_index\").drop(\"row_index\")\n",
    "temp.show(3)"
   ]
  },
  {
   "cell_type": "code",
   "execution_count": 36,
   "id": "heavy-cause",
   "metadata": {},
   "outputs": [],
   "source": [
    "temp = temp.select(col(\"_1\").alias(\"x_scale\"), col(\"_2\").alias(\"y_scale\"), \"prediction\")\n",
    "df = temp.toPandas()"
   ]
  },
  {
   "cell_type": "code",
   "execution_count": null,
   "id": "detailed-elder",
   "metadata": {},
   "outputs": [],
   "source": [
    "centers_df = pd.DataFrame(centers)\n",
    "centers_df.head()"
   ]
  },
  {
   "cell_type": "code",
   "execution_count": null,
   "id": "electrical-transcript",
   "metadata": {},
   "outputs": [],
   "source": [
    "plt.figure(figsize=(12, 8))\n",
    "sns.scatterplot(x=\"x_scale\", y=\"y_scale\", data=df, hue=\"preidiction\", palette=\"Set1\")\n",
    "sns.scatterplot(data=centers_df, x=0, y=1, color=\"black\", hue=\"prediction\", maker=\"x\")\n",
    "plt.show()"
   ]
  }
 ],
 "metadata": {
  "kernelspec": {
   "display_name": "Python 3",
   "language": "python",
   "name": "python3"
  },
  "language_info": {
   "codemirror_mode": {
    "name": "ipython",
    "version": 3
   },
   "file_extension": ".py",
   "mimetype": "text/x-python",
   "name": "python",
   "nbconvert_exporter": "python",
   "pygments_lexer": "ipython3",
   "version": "3.8.3"
  }
 },
 "nbformat": 4,
 "nbformat_minor": 5
}
