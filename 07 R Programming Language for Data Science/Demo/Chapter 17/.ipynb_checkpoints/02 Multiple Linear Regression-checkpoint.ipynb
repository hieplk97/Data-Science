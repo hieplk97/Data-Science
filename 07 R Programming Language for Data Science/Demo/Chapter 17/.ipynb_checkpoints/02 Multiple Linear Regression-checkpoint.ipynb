{
 "cells": [
  {
   "cell_type": "code",
   "execution_count": 1,
   "metadata": {},
   "outputs": [
    {
     "name": "stderr",
     "output_type": "stream",
     "text": [
      "Registered S3 method overwritten by 'GGally':\n",
      "  method from   \n",
      "  +.gg   ggplot2\n",
      "\n"
     ]
    }
   ],
   "source": [
    "library(\"ggplot2\")\n",
    "library(\"GGally\")"
   ]
  },
  {
   "cell_type": "code",
   "execution_count": 2,
   "metadata": {},
   "outputs": [
    {
     "data": {
      "text/html": [
       "<table>\n",
       "<caption>A data.frame: 6 × 11</caption>\n",
       "<thead>\n",
       "\t<tr><th></th><th scope=col>mpg</th><th scope=col>cyl</th><th scope=col>disp</th><th scope=col>hp</th><th scope=col>drat</th><th scope=col>wt</th><th scope=col>qsec</th><th scope=col>vs</th><th scope=col>am</th><th scope=col>gear</th><th scope=col>carb</th></tr>\n",
       "\t<tr><th></th><th scope=col>&lt;dbl&gt;</th><th scope=col>&lt;dbl&gt;</th><th scope=col>&lt;dbl&gt;</th><th scope=col>&lt;dbl&gt;</th><th scope=col>&lt;dbl&gt;</th><th scope=col>&lt;dbl&gt;</th><th scope=col>&lt;dbl&gt;</th><th scope=col>&lt;dbl&gt;</th><th scope=col>&lt;dbl&gt;</th><th scope=col>&lt;dbl&gt;</th><th scope=col>&lt;dbl&gt;</th></tr>\n",
       "</thead>\n",
       "<tbody>\n",
       "\t<tr><th scope=row>Mazda RX4</th><td>21.0</td><td>6</td><td>160</td><td>110</td><td>3.90</td><td>2.620</td><td>16.46</td><td>0</td><td>1</td><td>4</td><td>4</td></tr>\n",
       "\t<tr><th scope=row>Mazda RX4 Wag</th><td>21.0</td><td>6</td><td>160</td><td>110</td><td>3.90</td><td>2.875</td><td>17.02</td><td>0</td><td>1</td><td>4</td><td>4</td></tr>\n",
       "\t<tr><th scope=row>Datsun 710</th><td>22.8</td><td>4</td><td>108</td><td> 93</td><td>3.85</td><td>2.320</td><td>18.61</td><td>1</td><td>1</td><td>4</td><td>1</td></tr>\n",
       "\t<tr><th scope=row>Hornet 4 Drive</th><td>21.4</td><td>6</td><td>258</td><td>110</td><td>3.08</td><td>3.215</td><td>19.44</td><td>1</td><td>0</td><td>3</td><td>1</td></tr>\n",
       "\t<tr><th scope=row>Hornet Sportabout</th><td>18.7</td><td>8</td><td>360</td><td>175</td><td>3.15</td><td>3.440</td><td>17.02</td><td>0</td><td>0</td><td>3</td><td>2</td></tr>\n",
       "\t<tr><th scope=row>Valiant</th><td>18.1</td><td>6</td><td>225</td><td>105</td><td>2.76</td><td>3.460</td><td>20.22</td><td>1</td><td>0</td><td>3</td><td>1</td></tr>\n",
       "</tbody>\n",
       "</table>\n"
      ],
      "text/latex": [
       "A data.frame: 6 × 11\n",
       "\\begin{tabular}{r|lllllllllll}\n",
       "  & mpg & cyl & disp & hp & drat & wt & qsec & vs & am & gear & carb\\\\\n",
       "  & <dbl> & <dbl> & <dbl> & <dbl> & <dbl> & <dbl> & <dbl> & <dbl> & <dbl> & <dbl> & <dbl>\\\\\n",
       "\\hline\n",
       "\tMazda RX4 & 21.0 & 6 & 160 & 110 & 3.90 & 2.620 & 16.46 & 0 & 1 & 4 & 4\\\\\n",
       "\tMazda RX4 Wag & 21.0 & 6 & 160 & 110 & 3.90 & 2.875 & 17.02 & 0 & 1 & 4 & 4\\\\\n",
       "\tDatsun 710 & 22.8 & 4 & 108 &  93 & 3.85 & 2.320 & 18.61 & 1 & 1 & 4 & 1\\\\\n",
       "\tHornet 4 Drive & 21.4 & 6 & 258 & 110 & 3.08 & 3.215 & 19.44 & 1 & 0 & 3 & 1\\\\\n",
       "\tHornet Sportabout & 18.7 & 8 & 360 & 175 & 3.15 & 3.440 & 17.02 & 0 & 0 & 3 & 2\\\\\n",
       "\tValiant & 18.1 & 6 & 225 & 105 & 2.76 & 3.460 & 20.22 & 1 & 0 & 3 & 1\\\\\n",
       "\\end{tabular}\n"
      ],
      "text/markdown": [
       "\n",
       "A data.frame: 6 × 11\n",
       "\n",
       "| <!--/--> | mpg &lt;dbl&gt; | cyl &lt;dbl&gt; | disp &lt;dbl&gt; | hp &lt;dbl&gt; | drat &lt;dbl&gt; | wt &lt;dbl&gt; | qsec &lt;dbl&gt; | vs &lt;dbl&gt; | am &lt;dbl&gt; | gear &lt;dbl&gt; | carb &lt;dbl&gt; |\n",
       "|---|---|---|---|---|---|---|---|---|---|---|---|\n",
       "| Mazda RX4 | 21.0 | 6 | 160 | 110 | 3.90 | 2.620 | 16.46 | 0 | 1 | 4 | 4 |\n",
       "| Mazda RX4 Wag | 21.0 | 6 | 160 | 110 | 3.90 | 2.875 | 17.02 | 0 | 1 | 4 | 4 |\n",
       "| Datsun 710 | 22.8 | 4 | 108 |  93 | 3.85 | 2.320 | 18.61 | 1 | 1 | 4 | 1 |\n",
       "| Hornet 4 Drive | 21.4 | 6 | 258 | 110 | 3.08 | 3.215 | 19.44 | 1 | 0 | 3 | 1 |\n",
       "| Hornet Sportabout | 18.7 | 8 | 360 | 175 | 3.15 | 3.440 | 17.02 | 0 | 0 | 3 | 2 |\n",
       "| Valiant | 18.1 | 6 | 225 | 105 | 2.76 | 3.460 | 20.22 | 1 | 0 | 3 | 1 |\n",
       "\n"
      ],
      "text/plain": [
       "                  mpg  cyl disp hp  drat wt    qsec  vs am gear carb\n",
       "Mazda RX4         21.0 6   160  110 3.90 2.620 16.46 0  1  4    4   \n",
       "Mazda RX4 Wag     21.0 6   160  110 3.90 2.875 17.02 0  1  4    4   \n",
       "Datsun 710        22.8 4   108   93 3.85 2.320 18.61 1  1  4    1   \n",
       "Hornet 4 Drive    21.4 6   258  110 3.08 3.215 19.44 1  0  3    1   \n",
       "Hornet Sportabout 18.7 8   360  175 3.15 3.440 17.02 0  0  3    2   \n",
       "Valiant           18.1 6   225  105 2.76 3.460 20.22 1  0  3    1   "
      ]
     },
     "metadata": {},
     "output_type": "display_data"
    }
   ],
   "source": [
    "head(mtcars)"
   ]
  },
  {
   "cell_type": "code",
   "execution_count": 3,
   "metadata": {},
   "outputs": [
    {
     "data": {
      "text/html": [
       "<table>\n",
       "<caption>A data.frame: 6 × 4</caption>\n",
       "<thead>\n",
       "\t<tr><th></th><th scope=col>mpg</th><th scope=col>disp</th><th scope=col>hp</th><th scope=col>wt</th></tr>\n",
       "\t<tr><th></th><th scope=col>&lt;dbl&gt;</th><th scope=col>&lt;dbl&gt;</th><th scope=col>&lt;dbl&gt;</th><th scope=col>&lt;dbl&gt;</th></tr>\n",
       "</thead>\n",
       "<tbody>\n",
       "\t<tr><th scope=row>Mazda RX4</th><td>21.0</td><td>160</td><td>110</td><td>2.620</td></tr>\n",
       "\t<tr><th scope=row>Mazda RX4 Wag</th><td>21.0</td><td>160</td><td>110</td><td>2.875</td></tr>\n",
       "\t<tr><th scope=row>Datsun 710</th><td>22.8</td><td>108</td><td> 93</td><td>2.320</td></tr>\n",
       "\t<tr><th scope=row>Hornet 4 Drive</th><td>21.4</td><td>258</td><td>110</td><td>3.215</td></tr>\n",
       "\t<tr><th scope=row>Hornet Sportabout</th><td>18.7</td><td>360</td><td>175</td><td>3.440</td></tr>\n",
       "\t<tr><th scope=row>Valiant</th><td>18.1</td><td>225</td><td>105</td><td>3.460</td></tr>\n",
       "</tbody>\n",
       "</table>\n"
      ],
      "text/latex": [
       "A data.frame: 6 × 4\n",
       "\\begin{tabular}{r|llll}\n",
       "  & mpg & disp & hp & wt\\\\\n",
       "  & <dbl> & <dbl> & <dbl> & <dbl>\\\\\n",
       "\\hline\n",
       "\tMazda RX4 & 21.0 & 160 & 110 & 2.620\\\\\n",
       "\tMazda RX4 Wag & 21.0 & 160 & 110 & 2.875\\\\\n",
       "\tDatsun 710 & 22.8 & 108 &  93 & 2.320\\\\\n",
       "\tHornet 4 Drive & 21.4 & 258 & 110 & 3.215\\\\\n",
       "\tHornet Sportabout & 18.7 & 360 & 175 & 3.440\\\\\n",
       "\tValiant & 18.1 & 225 & 105 & 3.460\\\\\n",
       "\\end{tabular}\n"
      ],
      "text/markdown": [
       "\n",
       "A data.frame: 6 × 4\n",
       "\n",
       "| <!--/--> | mpg &lt;dbl&gt; | disp &lt;dbl&gt; | hp &lt;dbl&gt; | wt &lt;dbl&gt; |\n",
       "|---|---|---|---|---|\n",
       "| Mazda RX4 | 21.0 | 160 | 110 | 2.620 |\n",
       "| Mazda RX4 Wag | 21.0 | 160 | 110 | 2.875 |\n",
       "| Datsun 710 | 22.8 | 108 |  93 | 2.320 |\n",
       "| Hornet 4 Drive | 21.4 | 258 | 110 | 3.215 |\n",
       "| Hornet Sportabout | 18.7 | 360 | 175 | 3.440 |\n",
       "| Valiant | 18.1 | 225 | 105 | 3.460 |\n",
       "\n"
      ],
      "text/plain": [
       "                  mpg  disp hp  wt   \n",
       "Mazda RX4         21.0 160  110 2.620\n",
       "Mazda RX4 Wag     21.0 160  110 2.875\n",
       "Datsun 710        22.8 108   93 2.320\n",
       "Hornet 4 Drive    21.4 258  110 3.215\n",
       "Hornet Sportabout 18.7 360  175 3.440\n",
       "Valiant           18.1 225  105 3.460"
      ]
     },
     "metadata": {},
     "output_type": "display_data"
    }
   ],
   "source": [
    "input = mtcars[, c(\"mpg\", \"disp\", \"hp\", \"wt\")]\n",
    "head(input)"
   ]
  },
  {
   "cell_type": "code",
   "execution_count": 4,
   "metadata": {},
   "outputs": [
    {
     "data": {
      "image/png": "[encoded data removed]",
      "text/plain": [
       "plot without title"
      ]
     },
     "metadata": {
      "image/png": {
       "height": 420,
       "width": 420
      }
     },
     "output_type": "display_data"
    }
   ],
   "source": [
    "pairs(~mpg+disp+hp+wt, data = input)"
   ]
  },
  {
   "cell_type": "code",
   "execution_count": 5,
   "metadata": {},
   "outputs": [
    {
     "data": {
      "image/png": "[encoded data removed]",
      "text/plain": [
       "Plot with title \"wt\""
      ]
     },
     "metadata": {
      "image/png": {
       "height": 420,
       "width": 420
      }
     },
     "output_type": "display_data"
    }
   ],
   "source": [
    "par(mfrow = c(1, 4))\n",
    "boxplot(input$mpg, main = \"mpg\", \n",
    "        sub = paste(\"Outlier rows:\", boxplot.stats(input$mpg)$out))\n",
    "boxplot(input$disp, main = \"disp\", \n",
    "        sub = paste(\"Outlier rows:\", boxplot.stats(input$disp)$out))\n",
    "boxplot(input$hp, main = \"hp\", \n",
    "        sub = paste(\"Outlier rows:\", boxplot.stats(input$hp)$out))\n",
    "boxplot(input$wt, main = \"wt\", \n",
    "        sub = paste(\"Outlier rows:\", boxplot.stats(input$wt)$out))"
   ]
  },
  {
   "cell_type": "code",
   "execution_count": 6,
   "metadata": {},
   "outputs": [
    {
     "name": "stdout",
     "output_type": "stream",
     "text": [
      "[1] \"hp_outliers:\"\n",
      "[1] 335\n",
      "[1] \"Numrows: 1\"\n"
     ]
    }
   ],
   "source": [
    "hp_outliers = boxplot.stats(input$hp)$out\n",
    "print(\"hp_outliers:\")\n",
    "print(hp_outliers)\n",
    "print(paste(\"Numrows:\", sum(input$hp == hp_outliers[1])))"
   ]
  },
  {
   "cell_type": "code",
   "execution_count": 7,
   "metadata": {},
   "outputs": [
    {
     "name": "stdout",
     "output_type": "stream",
     "text": [
      "[1] \"wt_outliers:\"\n",
      "[1] 5.424 5.345\n",
      "[1] \"Numrows: 1\"\n"
     ]
    }
   ],
   "source": [
    "wt_outliers = boxplot.stats(input$wt)$out\n",
    "print(\"wt_outliers:\")\n",
    "print(wt_outliers)\n",
    "print(paste(\"Numrows:\", sum(input$wt == wt_outliers[1])))"
   ]
  },
  {
   "cell_type": "code",
   "execution_count": 8,
   "metadata": {},
   "outputs": [
    {
     "name": "stdout",
     "output_type": "stream",
     "text": [
      "[1] \"Before drop: 32\"\n",
      "[1] \"After drop 29\"\n"
     ]
    }
   ],
   "source": [
    "print(paste(\"Before drop:\", nrow(input)))\n",
    "input = input[input$hp != hp_outliers[1],]\n",
    "input = input[input$wt != wt_outliers[1],]\n",
    "input = input[input$wt != wt_outliers[2],]\n",
    "print(paste(\"After drop\", nrow(input)))"
   ]
  },
  {
   "cell_type": "code",
   "execution_count": 9,
   "metadata": {},
   "outputs": [
    {
     "name": "stdout",
     "output_type": "stream",
     "text": [
      "[1] \"Correlations bt mpg and disp, hp, wt\"\n",
      "[1] -0.8290389\n",
      "[1] -0.7997213\n",
      "[1] -0.8830596\n"
     ]
    }
   ],
   "source": [
    "print(\"Correlations bt mpg and disp, hp, wt\")\n",
    "print(cor(input$mpg, input$disp))\n",
    "print(cor(input$mpg, input$hp))\n",
    "print(cor(input$mpg, input$wt))"
   ]
  },
  {
   "cell_type": "code",
   "execution_count": 10,
   "metadata": {},
   "outputs": [
    {
     "data": {
      "image/png": "[encoded data removed]",
      "text/plain": [
       "plot without title"
      ]
     },
     "metadata": {
      "image/png": {
       "height": 420,
       "width": 420
      }
     },
     "output_type": "display_data"
    }
   ],
   "source": [
    "ggcorr(data = input, label = T)"
   ]
  },
  {
   "cell_type": "markdown",
   "metadata": {},
   "source": [
    "### Nhận xét\n",
    "* mpg tương quan nghịch với disp, hp, wt"
   ]
  },
  {
   "cell_type": "code",
   "execution_count": 11,
   "metadata": {},
   "outputs": [
    {
     "name": "stdout",
     "output_type": "stream",
     "text": [
      "[1] \"Selected training row indexes:\"\n",
      " [1] 17  5  1 25 10  4 18 29 15  7 24 28 14 19 26  2  3  9 12 16 23 20 11\n",
      "[1] \"Rows of training data and test data:\"\n",
      "[1] 23\n",
      "[1] 6\n"
     ]
    }
   ],
   "source": [
    "# Create training and test data samples from orginal data\n",
    "set.seed(42) # Setting seed to reproduce results of ramdom sampling\n",
    "trainingRowIndex = sample(1: nrow(input), 0.8 * nrow(input))\n",
    "print(\"Selected training row indexes:\")\n",
    "print(trainingRowIndex)\n",
    "trainingData = input[trainingRowIndex, ] # training data\n",
    "testData = input[- trainingRowIndex,] # testing data\n",
    "print(\"Rows of training data and test data:\")\n",
    "print(nrow(trainingData))\n",
    "print(nrow(testData))"
   ]
  },
  {
   "cell_type": "code",
   "execution_count": 12,
   "metadata": {},
   "outputs": [
    {
     "name": "stdout",
     "output_type": "stream",
     "text": [
      "[1] \"mse: 4.9035236695173\"\n",
      "[1] \"mse in test: 4.49282285889091\"\n"
     ]
    }
   ],
   "source": [
    "# Develop the model on the training data and use it to preidict the Length on test data\n",
    "lmMod = lm(mpg~disp+hp+wt, data =  trainingData) # Build the model\n",
    "iPred = predict(lmMod, testData) # predict length\n",
    "\n",
    "# mean square error according to model\n",
    "mse = mean(lmMod$residuals^2)\n",
    "print(paste(\"mse:\", mse))\n",
    "\n",
    "# mean square error of test data\n",
    "mse_test = mean((testData$mpg - iPred)^2)\n",
    "print(paste(\"mse in test:\", mse_test))"
   ]
  },
  {
   "cell_type": "code",
   "execution_count": 13,
   "metadata": {},
   "outputs": [
    {
     "name": "stdout",
     "output_type": "stream",
     "text": [
      "\n",
      "Call:\n",
      "lm(formula = mpg ~ disp + hp + wt, data = trainingData)\n",
      "\n",
      "Residuals:\n",
      "    Min      1Q  Median      3Q     Max \n",
      "-3.5460 -1.2036 -0.3469  1.2579  5.1846 \n",
      "\n",
      "Coefficients:\n",
      "            Estimate Std. Error t value Pr(>|t|)    \n",
      "(Intercept) 41.14944    2.34868  17.520 3.48e-13 ***\n",
      "disp         0.01320    0.01101   1.199 0.245304    \n",
      "hp          -0.05281    0.02003  -2.637 0.016260 *  \n",
      "wt          -5.22157    1.22671  -4.257 0.000427 ***\n",
      "---\n",
      "Signif. codes:  0 '***' 0.001 '**' 0.01 '*' 0.05 '.' 0.1 ' ' 1\n",
      "\n",
      "Residual standard error: 2.436 on 19 degrees of freedom\n",
      "Multiple R-squared:  0.859,\tAdjusted R-squared:  0.8368 \n",
      "F-statistic:  38.6 on 3 and 19 DF,  p-value: 2.783e-08\n",
      "\n"
     ]
    }
   ],
   "source": [
    "# Review dianostic measures\n",
    "print(summary(lmMod))"
   ]
  },
  {
   "cell_type": "code",
   "execution_count": 20,
   "metadata": {},
   "outputs": [
    {
     "name": "stdout",
     "output_type": "stream",
     "text": [
      "(Intercept)        disp          hp          wt \n",
      "41.14944416  0.01320200 -0.05281201 -5.22156848 \n"
     ]
    }
   ],
   "source": [
    "# Model coefficients\n",
    "print(coef(lmMod))\n",
    "b = coef(lmMod)[1]\n",
    "mdisp = coef(lmMod)[2]\n",
    "mhp = coef(lmMod)[3]\n",
    "mwt = coef(lmMod)[4]"
   ]
  },
  {
   "cell_type": "code",
   "execution_count": 21,
   "metadata": {},
   "outputs": [
    {
     "name": "stdout",
     "output_type": "stream",
     "text": [
      "[1] \"Solution 1 - results:\"\n",
      "   disp \n",
      "23.4855 \n",
      "[1] \"Solution 2 - results:\"\n",
      "      1 \n",
      "23.4855 \n"
     ]
    }
   ],
   "source": [
    "# new predictions\n",
    "# disp = 221, hp = 102, wt = 2.91\n",
    "x1 = 221\n",
    "x2 = 102\n",
    "x3 = 2.91\n",
    "# solution 1\n",
    "y = (mdisp * x1 + mhp * x2 + mwt * x3 + b)\n",
    "print(\"Solution 1 - results:\")\n",
    "print(y)\n",
    "\n",
    "# solution 2\n",
    "y1 = predict(lmMod, data.frame(disp = x1, hp = x2, wt = x3))\n",
    "print(\"Solution 2 - results:\")\n",
    "print(y1)"
   ]
  },
  {
   "cell_type": "code",
   "execution_count": null,
   "metadata": {},
   "outputs": [],
   "source": []
  }
 ],
 "metadata": {
  "kernelspec": {
   "display_name": "R",
   "language": "R",
   "name": "ir"
  },
  "language_info": {
   "codemirror_mode": "r",
   "file_extension": ".r",
   "mimetype": "text/x-r-source",
   "name": "R",
   "pygments_lexer": "r",
   "version": "4.0.3"
  }
 },
 "nbformat": 4,
 "nbformat_minor": 4
}
