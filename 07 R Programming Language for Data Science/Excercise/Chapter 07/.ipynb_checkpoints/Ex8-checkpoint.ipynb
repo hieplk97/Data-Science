{
 "cells": [
  {
   "cell_type": "code",
   "execution_count": 2,
   "metadata": {},
   "outputs": [
    {
     "name": "stdout",
     "output_type": "stream",
     "text": [
      "[1] \"List y\"\n",
      "$one\n",
      "[1] \"a\" \"b\" \"c\"\n",
      "\n",
      "$two\n",
      "[1] 1 2 3\n",
      "\n",
      "$three\n",
      "[1] 10\n",
      "\n"
     ]
    }
   ],
   "source": [
    "y = list(c(\"a\", \"b\", \"c\"), c(1, 2, 3), 10)\n",
    "names(y) = c(\"one\", \"two\", \"three\")\n",
    "\n",
    "print(\"List y\")\n",
    "print(y)"
   ]
  },
  {
   "cell_type": "code",
   "execution_count": 5,
   "metadata": {},
   "outputs": [
    {
     "name": "stdout",
     "output_type": "stream",
     "text": [
      "[1] \"Length of one, two, three are 3 , 3 , 1\"\n"
     ]
    }
   ],
   "source": [
    "print(paste(\"Length of one, two, three are\",\n",
    "            length(y$one), \",\",\n",
    "            length(y$two), \",\",\n",
    "            length(y$three)))"
   ]
  },
  {
   "cell_type": "code",
   "execution_count": 6,
   "metadata": {},
   "outputs": [
    {
     "name": "stdout",
     "output_type": "stream",
     "text": [
      "[1] \"list z:\"\n",
      "[[1]]\n",
      "[1] \"a\" \"b\" \"c\"\n",
      "\n",
      "[[2]]\n",
      "[1] 1 3 5 7\n",
      "\n",
      "[[3]]\n",
      "[1] TRUE\n",
      "\n"
     ]
    }
   ],
   "source": [
    "z = list(c(\"a\", \"b\", \"c\"), c(1, 3, 5, 7), TRUE)\n",
    "print(\"list z:\")\n",
    "print(z)"
   ]
  },
  {
   "cell_type": "code",
   "execution_count": 7,
   "metadata": {},
   "outputs": [
    {
     "name": "stdout",
     "output_type": "stream",
     "text": [
      "[1] \"in y not in z:\"\n",
      "[[1]]\n",
      "[1] 1 2 3\n",
      "\n",
      "[[2]]\n",
      "[1] 10\n",
      "\n"
     ]
    }
   ],
   "source": [
    "t = setdiff(y, z)\n",
    "print(\"in y not in z:\")\n",
    "print(t)"
   ]
  },
  {
   "cell_type": "code",
   "execution_count": 8,
   "metadata": {},
   "outputs": [
    {
     "name": "stdout",
     "output_type": "stream",
     "text": [
      "[1] \"in z not in y:\"\n",
      "[[1]]\n",
      "[1] 1 3 5 7\n",
      "\n",
      "[[2]]\n",
      "[1] TRUE\n",
      "\n"
     ]
    }
   ],
   "source": [
    "f = setdiff(z, y)\n",
    "print(\"in z not in y:\")\n",
    "print(f)"
   ]
  },
  {
   "cell_type": "code",
   "execution_count": null,
   "metadata": {},
   "outputs": [],
   "source": []
  }
 ],
 "metadata": {
  "kernelspec": {
   "display_name": "R",
   "language": "R",
   "name": "ir"
  },
  "language_info": {
   "codemirror_mode": "r",
   "file_extension": ".r",
   "mimetype": "text/x-r-source",
   "name": "R",
   "pygments_lexer": "r",
   "version": "4.0.3"
  }
 },
 "nbformat": 4,
 "nbformat_minor": 4
}
