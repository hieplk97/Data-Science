{
 "cells": [
  {
   "cell_type": "code",
   "execution_count": 1,
   "id": "derived-midnight",
   "metadata": {},
   "outputs": [],
   "source": [
    "import findspark\n",
    "findspark.init()"
   ]
  },
  {
   "cell_type": "code",
   "execution_count": 2,
   "id": "involved-client",
   "metadata": {},
   "outputs": [],
   "source": [
    "from pyspark import SparkContext\n",
    "from pyspark.conf import SparkConf\n",
    "from pyspark.sql import SparkSession\n",
    "\n",
    "# Import VectorAssembler and Vectors\n",
    "from pyspark.ml.linalg import Vectors\n",
    "from pyspark.ml.feature import VectorAssembler\n",
    "from pyspark.ml.regression import LinearRegression\n",
    "from pyspark.sql.functions import corr"
   ]
  },
  {
   "cell_type": "code",
   "execution_count": 3,
   "id": "abstract-manitoba",
   "metadata": {},
   "outputs": [],
   "source": [
    "sc = SparkContext()\n",
    "spark = SparkSession(sc)"
   ]
  },
  {
   "cell_type": "markdown",
   "id": "reverse-advertiser",
   "metadata": {},
   "source": [
    "### Chuẩn bị và chuẩn hóa dữ liệu, xác định inputs, output"
   ]
  },
  {
   "cell_type": "code",
   "execution_count": 4,
   "id": "deluxe-shape",
   "metadata": {},
   "outputs": [],
   "source": [
    "# Use Spark to read in the flights csv file\n",
    "data = spark.read.csv([\"../../Data/flights.csv\"], header=True, inferSchema=True)"
   ]
  },
  {
   "cell_type": "code",
   "execution_count": 5,
   "id": "lucky-appliance",
   "metadata": {},
   "outputs": [
    {
     "name": "stdout",
     "output_type": "stream",
     "text": [
      "root\n",
      " |-- mon: integer (nullable = true)\n",
      " |-- dom: integer (nullable = true)\n",
      " |-- dow: integer (nullable = true)\n",
      " |-- carrier: string (nullable = true)\n",
      " |-- flight: integer (nullable = true)\n",
      " |-- org: string (nullable = true)\n",
      " |-- mile: integer (nullable = true)\n",
      " |-- depart: double (nullable = true)\n",
      " |-- duration: integer (nullable = true)\n",
      " |-- delay: string (nullable = true)\n",
      "\n"
     ]
    }
   ],
   "source": [
    "# Print the Schema of the DataFrame\n",
    "data.printSchema()"
   ]
  },
  {
   "cell_type": "code",
   "execution_count": 6,
   "id": "alpha-turkey",
   "metadata": {},
   "outputs": [
    {
     "name": "stdout",
     "output_type": "stream",
     "text": [
      "+---+---+---+-------+------+---+----+------+--------+-----+\n",
      "|mon|dom|dow|carrier|flight|org|mile|depart|duration|delay|\n",
      "+---+---+---+-------+------+---+----+------+--------+-----+\n",
      "| 11| 20|  6|     US|    19|JFK|2153|  9.48|     351|   NA|\n",
      "|  0| 22|  2|     UA|  1107|ORD| 316| 16.33|      82|   30|\n",
      "|  2| 20|  4|     UA|   226|SFO| 337|  6.17|      82|   -8|\n",
      "+---+---+---+-------+------+---+----+------+--------+-----+\n",
      "only showing top 3 rows\n",
      "\n"
     ]
    }
   ],
   "source": [
    "data.show(3)"
   ]
  },
  {
   "cell_type": "code",
   "execution_count": 7,
   "id": "julian-desire",
   "metadata": {},
   "outputs": [
    {
     "data": {
      "text/plain": [
       "['mon',\n",
       " 'dom',\n",
       " 'dow',\n",
       " 'carrier',\n",
       " 'flight',\n",
       " 'org',\n",
       " 'mile',\n",
       " 'depart',\n",
       " 'duration',\n",
       " 'delay']"
      ]
     },
     "execution_count": 7,
     "metadata": {},
     "output_type": "execute_result"
    }
   ],
   "source": [
    "data.columns"
   ]
  },
  {
   "cell_type": "code",
   "execution_count": 8,
   "id": "outer-aaron",
   "metadata": {},
   "outputs": [],
   "source": [
    "assembler = VectorAssembler(inputCols=[\"mile\"],\n",
    "                            outputCol=\"features\")"
   ]
  },
  {
   "cell_type": "code",
   "execution_count": 9,
   "id": "adult-pointer",
   "metadata": {},
   "outputs": [],
   "source": [
    "data_pre = assembler.transform(data)"
   ]
  },
  {
   "cell_type": "code",
   "execution_count": 10,
   "id": "changed-holder",
   "metadata": {},
   "outputs": [
    {
     "name": "stdout",
     "output_type": "stream",
     "text": [
      "+--------+\n",
      "|features|\n",
      "+--------+\n",
      "|[2153.0]|\n",
      "|[316.0] |\n",
      "+--------+\n",
      "only showing top 2 rows\n",
      "\n"
     ]
    }
   ],
   "source": [
    "data_pre.select('features').show(2, False)"
   ]
  },
  {
   "cell_type": "code",
   "execution_count": 11,
   "id": "expressed-print",
   "metadata": {},
   "outputs": [],
   "source": [
    "final_data = data_pre.select('features', 'duration')"
   ]
  },
  {
   "cell_type": "code",
   "execution_count": 12,
   "id": "classified-optics",
   "metadata": {},
   "outputs": [
    {
     "name": "stdout",
     "output_type": "stream",
     "text": [
      "+--------+--------+\n",
      "|features|duration|\n",
      "+--------+--------+\n",
      "|[2153.0]|351     |\n",
      "|[316.0] |82      |\n",
      "|[337.0] |82      |\n",
      "+--------+--------+\n",
      "only showing top 3 rows\n",
      "\n"
     ]
    }
   ],
   "source": [
    "final_data.show(3, truncate=False)"
   ]
  },
  {
   "cell_type": "markdown",
   "id": "stuffed-biography",
   "metadata": {},
   "source": [
    "### Chuẩn bị train/test dataset"
   ]
  },
  {
   "cell_type": "code",
   "execution_count": 13,
   "id": "clear-integrity",
   "metadata": {},
   "outputs": [],
   "source": [
    "train_data, test_data = final_data.randomSplit([0.8, 0.2])"
   ]
  },
  {
   "cell_type": "code",
   "execution_count": 14,
   "id": "narrow-maldives",
   "metadata": {},
   "outputs": [
    {
     "name": "stdout",
     "output_type": "stream",
     "text": [
      "+-------+-----------------+\n",
      "|summary|         duration|\n",
      "+-------+-----------------+\n",
      "|  count|            40206|\n",
      "|   mean|151.6067004924638|\n",
      "| stddev|86.70382192325576|\n",
      "|    min|               30|\n",
      "|    max|              560|\n",
      "+-------+-----------------+\n",
      "\n"
     ]
    }
   ],
   "source": [
    "train_data.describe().show()"
   ]
  },
  {
   "cell_type": "code",
   "execution_count": 15,
   "id": "exposed-starter",
   "metadata": {},
   "outputs": [
    {
     "name": "stdout",
     "output_type": "stream",
     "text": [
      "+-------+------------------+\n",
      "|summary|          duration|\n",
      "+-------+------------------+\n",
      "|  count|              9794|\n",
      "|   mean|152.41903206044518|\n",
      "| stddev|  88.4336473631593|\n",
      "|    min|                30|\n",
      "|    max|               560|\n",
      "+-------+------------------+\n",
      "\n"
     ]
    }
   ],
   "source": [
    "test_data.describe().show()"
   ]
  },
  {
   "cell_type": "markdown",
   "id": "corrected-freight",
   "metadata": {},
   "source": [
    "### Xây dựng model với train dataset"
   ]
  },
  {
   "cell_type": "code",
   "execution_count": 16,
   "id": "controversial-syndication",
   "metadata": {},
   "outputs": [],
   "source": [
    "# Create a Linear Regression Model object\n",
    "lr = LinearRegression(featuresCol='features',\n",
    "                      labelCol='duration',\n",
    "                      predictionCol='prediction')"
   ]
  },
  {
   "cell_type": "code",
   "execution_count": 17,
   "id": "north-library",
   "metadata": {},
   "outputs": [],
   "source": [
    "# Fit the model to the data and call this model lrModel\n",
    "lrModel = lr.fit(train_data)"
   ]
  },
  {
   "cell_type": "code",
   "execution_count": 18,
   "id": "stupid-episode",
   "metadata": {},
   "outputs": [
    {
     "name": "stdout",
     "output_type": "stream",
     "text": [
      "Coefficients: [0.12163311780959021], Intercept: 44.44337070409753\n"
     ]
    }
   ],
   "source": [
    "# Print the coefficients and intercept for linear regression\n",
    "print('Coefficients: {}, Intercept: {}'.format(lrModel.coefficients, lrModel.intercept))"
   ]
  },
  {
   "cell_type": "markdown",
   "id": "hydraulic-productivity",
   "metadata": {},
   "source": [
    "### Đánh giá model với test dataset"
   ]
  },
  {
   "cell_type": "code",
   "execution_count": 19,
   "id": "alpha-ocean",
   "metadata": {},
   "outputs": [],
   "source": [
    "test_results = lrModel.evaluate(test_data)"
   ]
  },
  {
   "cell_type": "code",
   "execution_count": 20,
   "id": "canadian-division",
   "metadata": {},
   "outputs": [
    {
     "name": "stdout",
     "output_type": "stream",
     "text": [
      "+------------------+\n",
      "|         residuals|\n",
      "+------------------+\n",
      "|-9.592789597340072|\n",
      "|-9.592789597340072|\n",
      "|-8.592789597340072|\n",
      "|-8.592789597340072|\n",
      "|-6.592789597340072|\n",
      "+------------------+\n",
      "only showing top 5 rows\n",
      "\n"
     ]
    }
   ],
   "source": [
    "# Interesting results...\n",
    "test_results.residuals.show(5)"
   ]
  },
  {
   "cell_type": "code",
   "execution_count": 21,
   "id": "amino-franchise",
   "metadata": {},
   "outputs": [
    {
     "name": "stdout",
     "output_type": "stream",
     "text": [
      "RMSE: 17.17209772759433\n",
      "MSE: 294.8809403660503\n",
      "r2: 0.9622900485651407\n"
     ]
    }
   ],
   "source": [
    "print('RMSE: {}'.format(test_results.rootMeanSquaredError))\n",
    "print('MSE: {}'.format(test_results.meanSquaredError))\n",
    "print('r2: {}'.format(test_results.r2))"
   ]
  },
  {
   "cell_type": "code",
   "execution_count": 22,
   "id": "vertical-madrid",
   "metadata": {},
   "outputs": [],
   "source": [
    "# Check test dataset\n",
    "test_model = lrModel.transform(test_data)"
   ]
  },
  {
   "cell_type": "code",
   "execution_count": 23,
   "id": "mental-praise",
   "metadata": {},
   "outputs": [
    {
     "name": "stdout",
     "output_type": "stream",
     "text": [
      "+-----------------+--------+\n",
      "|       prediction|duration|\n",
      "+-----------------+--------+\n",
      "|52.59278959734007|      43|\n",
      "|52.59278959734007|      43|\n",
      "|52.59278959734007|      44|\n",
      "|52.59278959734007|      44|\n",
      "|52.59278959734007|      46|\n",
      "+-----------------+--------+\n",
      "only showing top 5 rows\n",
      "\n"
     ]
    }
   ],
   "source": [
    "# Inspect results\n",
    "test_model.select('prediction', 'duration').show(5)"
   ]
  },
  {
   "cell_type": "code",
   "execution_count": 24,
   "id": "suspected-military",
   "metadata": {},
   "outputs": [],
   "source": [
    "from pyspark.ml.evaluation import RegressionEvaluator"
   ]
  },
  {
   "cell_type": "code",
   "execution_count": 25,
   "id": "dried-workplace",
   "metadata": {
    "tags": []
   },
   "outputs": [
    {
     "data": {
      "text/plain": [
       "17.17209772759433"
      ]
     },
     "execution_count": 25,
     "metadata": {},
     "output_type": "execute_result"
    }
   ],
   "source": [
    "RegressionEvaluator(labelCol='duration').evaluate(test_model)"
   ]
  },
  {
   "cell_type": "markdown",
   "id": "played-primary",
   "metadata": {},
   "source": [
    "### Lưu trữ và tải model"
   ]
  },
  {
   "cell_type": "code",
   "execution_count": 26,
   "id": "proof-actor",
   "metadata": {},
   "outputs": [],
   "source": [
    "# Save Model\n",
    "lrModel.save('lrModel_flights')"
   ]
  },
  {
   "cell_type": "code",
   "execution_count": 27,
   "id": "grateful-trace",
   "metadata": {},
   "outputs": [],
   "source": [
    "from pyspark.ml.regression import LinearRegressionModel\n",
    "# Load model from\n",
    "lrModel2 = LinearRegressionModel.load('lrModel_flights')"
   ]
  },
  {
   "cell_type": "markdown",
   "id": "blocked-yacht",
   "metadata": {},
   "source": [
    "### Dự đoán dữ liệu mới"
   ]
  },
  {
   "cell_type": "code",
   "execution_count": 28,
   "id": "vocational-agenda",
   "metadata": {},
   "outputs": [],
   "source": [
    "unlabeled_data = test_data.select('features')"
   ]
  },
  {
   "cell_type": "code",
   "execution_count": 29,
   "id": "medium-virgin",
   "metadata": {},
   "outputs": [],
   "source": [
    "predictions = lrModel2.transform(unlabeled_data)"
   ]
  },
  {
   "cell_type": "code",
   "execution_count": 30,
   "id": "grateful-underwear",
   "metadata": {},
   "outputs": [
    {
     "name": "stdout",
     "output_type": "stream",
     "text": [
      "+--------+-----------------+\n",
      "|features|       prediction|\n",
      "+--------+-----------------+\n",
      "|  [67.0]|52.59278959734007|\n",
      "|  [67.0]|52.59278959734007|\n",
      "|  [67.0]|52.59278959734007|\n",
      "|  [67.0]|52.59278959734007|\n",
      "|  [67.0]|52.59278959734007|\n",
      "+--------+-----------------+\n",
      "only showing top 5 rows\n",
      "\n"
     ]
    }
   ],
   "source": [
    "predictions.show(5)"
   ]
  }
 ],
 "metadata": {
  "kernelspec": {
   "display_name": "Python 3",
   "language": "python",
   "name": "python3"
  },
  "language_info": {
   "codemirror_mode": {
    "name": "ipython",
    "version": 3
   },
   "file_extension": ".py",
   "mimetype": "text/x-python",
   "name": "python",
   "nbconvert_exporter": "python",
   "pygments_lexer": "ipython3",
   "version": "3.8.3"
  }
 },
 "nbformat": 4,
 "nbformat_minor": 5
}
