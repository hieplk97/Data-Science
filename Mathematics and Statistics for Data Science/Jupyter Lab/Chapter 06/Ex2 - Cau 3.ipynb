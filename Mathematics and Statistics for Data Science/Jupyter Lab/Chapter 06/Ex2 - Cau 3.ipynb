{
 "cells": [
  {
   "cell_type": "raw",
   "metadata": {},
   "source": [
    "\"\"\"============================================================================\n",
    "   Tại một trung tâm khai thác dữ liệu, xs thất bại là 0,001 mỗi ngày.  \n",
    "      1. Chọn loại phân phối. Tạo ra các mẫu (ngẫu nhiên) theo xs trên \n",
    "         với số lần lặp lại các thí nghiệm là 365\n",
    "      2. Vẽ histogram quan sát. Nhận xét.\n",
    "      3. Hãy cho biết khả năng thất bại trong năm tới là bao nhiêu ?\n",
    "============================================================================\"\"\""
   ]
  },
  {
   "cell_type": "code",
   "execution_count": 9,
   "metadata": {},
   "outputs": [],
   "source": [
    "import math\n",
    "import seaborn as sns\n",
    "\n",
    "from scipy.stats import bernoulli"
   ]
  },
  {
   "cell_type": "code",
   "execution_count": 10,
   "metadata": {},
   "outputs": [
    {
     "data": {
      "text/plain": [
       "[Text(0.5, 0, 'Bernoulli Distribution'), Text(0, 0.5, 'Frequency')]"
      ]
     },
     "execution_count": 10,
     "metadata": {},
     "output_type": "execute_result"
    },
    {
     "data": {
      "image/png": "[encoded data removed]",
      "text/plain": [
       "<Figure size 432x288 with 1 Axes>"
      ]
     },
     "metadata": {
      "needs_background": "light"
     },
     "output_type": "display_data"
    }
   ],
   "source": [
    "# 1. Chọn loại phân phối. Tạo ra các mẫu với 365 lần lặp lại thí nghiệm\n",
    "#     X ~ Bernoulli(p)\n",
    "#     p: xác suất thành công\n",
    "#     size: số lần lặp lại (trials) thí nghiệm.\n",
    "p          = 0.001\n",
    "q          = (1 - p)\n",
    "size       = 1000\n",
    "data_bernoulli = bernoulli.rvs(size = size, p = p)\n",
    "\n",
    "# 2. Vẽ histogram quan sát. Nhận xét.\n",
    "ax = sns.distplot(data_bernoulli, kde = False, color = 'blue',\n",
    "                  hist_kws = {'linewidth': 15, 'alpha': 1})\n",
    "ax.set(xlabel = 'Bernoulli Distribution', ylabel = 'Frequency')"
   ]
  },
  {
   "cell_type": "code",
   "execution_count": 11,
   "metadata": {},
   "outputs": [
    {
     "name": "stdout",
     "output_type": "stream",
     "text": [
      "P(X = 0, 365 ngày) = 0.6940698870404745\n"
     ]
    }
   ],
   "source": [
    "# 3. Hãy cho biết khả năng thất bại trong năm tới là bao nhiêu ?\n",
    "#    P(X = 1) = p\n",
    "#    P(X = 0) = (1 - p)\n",
    "#    Thí nghiệm mỗi ngày là độc lập --> tích số 365 lần \n",
    "print('P(X = 0, 365 ngày) =', math.pow(q, 365))"
   ]
  },
  {
   "cell_type": "code",
   "execution_count": null,
   "metadata": {},
   "outputs": [],
   "source": []
  }
 ],
 "metadata": {
  "kernelspec": {
   "display_name": "Python 3",
   "language": "python",
   "name": "python3"
  },
  "language_info": {
   "codemirror_mode": {
    "name": "ipython",
    "version": 3
   },
   "file_extension": ".py",
   "mimetype": "text/x-python",
   "name": "python",
   "nbconvert_exporter": "python",
   "pygments_lexer": "ipython3",
   "version": "3.8.5"
  }
 },
 "nbformat": 4,
 "nbformat_minor": 4
}
