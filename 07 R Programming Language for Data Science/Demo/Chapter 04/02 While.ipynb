{
 "cells": [
  {
   "cell_type": "code",
   "execution_count": 2,
   "metadata": {},
   "outputs": [
    {
     "name": "stdout",
     "output_type": "stream",
     "text": [
      "[1] \"Time:  1\"\n",
      "[1] \"Time:  2\"\n",
      "[1] \"Time:  3\"\n",
      "[1] \"Time:  4\"\n",
      "[1] \"Time:  5\"\n"
     ]
    }
   ],
   "source": [
    "start = 1\n",
    "\n",
    "while(start < 6){\n",
    "    print(paste(\"Time: \", start))\n",
    "    start = start + 1\n",
    "}"
   ]
  },
  {
   "cell_type": "code",
   "execution_count": 5,
   "metadata": {},
   "outputs": [
    {
     "name": "stdin",
     "output_type": "stream",
     "text": [
      "Input mark 5\n"
     ]
    },
    {
     "name": "stderr",
     "output_type": "stream",
     "text": [
      "Average\n",
      "\n"
     ]
    },
    {
     "name": "stdin",
     "output_type": "stream",
     "text": [
      "Continue-y / Stop-others  y\n",
      "Input mark 9\n"
     ]
    },
    {
     "name": "stderr",
     "output_type": "stream",
     "text": [
      "Excellent\n",
      "\n"
     ]
    },
    {
     "name": "stdin",
     "output_type": "stream",
     "text": [
      "Continue-y / Stop-others  n\n"
     ]
    }
   ],
   "source": [
    "cont = \"y\"\n",
    "\n",
    "while(cont == \"y\"){\n",
    "    mark = readline(prompt = \"Input mark\")\n",
    "    mark = as.numeric(mark)\n",
    "    \n",
    "    if (mark < 5){\n",
    "        message(\"Weak\")\n",
    "    } else if (mark < 7) {\n",
    "        message(\"Average\")\n",
    "    } else if (mark < 8) {\n",
    "        message(\"Good\")\n",
    "    } else if (mark < 9) {\n",
    "        message(\"Very good\")\n",
    "    } else {\n",
    "        message(\"Excellent\")\n",
    "    }\n",
    "    \n",
    "    cont = (readline(prompt = \"Continue-y / Stop-others \"))\n",
    "}"
   ]
  },
  {
   "cell_type": "code",
   "execution_count": null,
   "metadata": {},
   "outputs": [],
   "source": []
  }
 ],
 "metadata": {
  "kernelspec": {
   "display_name": "R",
   "language": "R",
   "name": "ir"
  },
  "language_info": {
   "codemirror_mode": "r",
   "file_extension": ".r",
   "mimetype": "text/x-r-source",
   "name": "R",
   "pygments_lexer": "r",
   "version": "4.0.3"
  }
 },
 "nbformat": 4,
 "nbformat_minor": 4
}
