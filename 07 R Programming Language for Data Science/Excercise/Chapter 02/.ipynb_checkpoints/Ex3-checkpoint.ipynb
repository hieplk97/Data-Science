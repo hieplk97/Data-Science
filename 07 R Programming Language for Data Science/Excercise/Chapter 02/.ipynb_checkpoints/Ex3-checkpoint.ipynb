{
 "cells": [
  {
   "cell_type": "code",
   "execution_count": 1,
   "metadata": {},
   "outputs": [
    {
     "name": "stdin",
     "output_type": "stream",
     "text": [
      "Input interest rate:  7\n",
      "Input amount of money:  1000000\n",
      "Input days:  365\n"
     ]
    }
   ],
   "source": [
    "rate = as.numeric(readline(prompt = \"Input interest rate: \"))\n",
    "money = as.numeric(readline(prompt = \"Input amount of money: \"))\n",
    "days = as.integer(readline(prompt = \"Input days: \"))"
   ]
  },
  {
   "cell_type": "code",
   "execution_count": 2,
   "metadata": {},
   "outputs": [],
   "source": [
    "interest_of_day = rate / 365 / 100\n",
    "revenue = money * interest_of_day * days\n",
    "total = money + revenue"
   ]
  },
  {
   "cell_type": "code",
   "execution_count": 4,
   "metadata": {},
   "outputs": [],
   "source": [
    "result = paste(\"Interest rate/day: \", interest_of_day,\n",
    "               \"\\n Amount of money: \", money, \" after \", days,\n",
    "               \"=> Saving interest money: \", round(revenue, 2),\n",
    "               \"\\n Sum: \", format(total, big.mark = \".\", decimal.mark = \",\", nsmall = 2), sep = \"\")"
   ]
  },
  {
   "cell_type": "code",
   "execution_count": 5,
   "metadata": {},
   "outputs": [
    {
     "name": "stdout",
     "output_type": "stream",
     "text": [
      "Interest rate/day0.000191780821917808\n",
      " Amount of money:1e+06 after 365=> Saving interest money:70000\n",
      " Sum: 1.070.000,00"
     ]
    }
   ],
   "source": [
    "cat(result)"
   ]
  },
  {
   "cell_type": "code",
   "execution_count": null,
   "metadata": {},
   "outputs": [],
   "source": []
  }
 ],
 "metadata": {
  "kernelspec": {
   "display_name": "R",
   "language": "R",
   "name": "ir"
  },
  "language_info": {
   "codemirror_mode": "r",
   "file_extension": ".r",
   "mimetype": "text/x-r-source",
   "name": "R",
   "pygments_lexer": "r",
   "version": "4.0.3"
  }
 },
 "nbformat": 4,
 "nbformat_minor": 4
}
