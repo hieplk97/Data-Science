{
 "cells": [
  {
   "cell_type": "markdown",
   "metadata": {},
   "source": [
    "### Sử dụng thuật toán Decision Tree để dự đoán nhiệt độ (Temperature_c) dựa trên các thông tin được cung cấp.\n",
    "1. Đọc dữ liệu và gán cho biến data. Xem thông tin data: shape, type, head(), tail(), info. Tiền xử lý dữ liệu (nếu cần)\n",
    "2. Từ inputs data và outputs data => Tạo X_train, X_test, y_train, y_test với tỷ lệ 80:20\n",
    "3. Thực hiện Decision Tree với X_train, y_train\n",
    "4. Dự đoán y từ X_test => so sánh với y_test\n",
    "5. Xem kết quả => Nhận xét model\n",
    "6. Ghi model nếu model phù hợp"
   ]
  },
  {
   "cell_type": "code",
   "execution_count": 1,
   "metadata": {},
   "outputs": [],
   "source": [
    "import numpy as np\n",
    "import pandas as pd\n",
    "import matplotlib.pyplot as plt\n",
    "import pickle\n",
    "\n",
    "from sklearn.model_selection import train_test_split\n",
    "from sklearn.tree import DecisionTreeRegressor\n",
    "from sklearn.metrics import accuracy_score, mean_squared_error, mean_absolute_error"
   ]
  },
  {
   "cell_type": "code",
   "execution_count": 2,
   "metadata": {},
   "outputs": [
    {
     "name": "stdout",
     "output_type": "stream",
     "text": [
      "<class 'pandas.core.frame.DataFrame'>\n",
      "RangeIndex: 10000 entries, 0 to 9999\n",
      "Data columns (total 8 columns):\n",
      " #   Column                Non-Null Count  Dtype  \n",
      "---  ------                --------------  -----  \n",
      " 0   Temperature_c         10000 non-null  float64\n",
      " 1   Humidity              10000 non-null  float64\n",
      " 2   Wind_Speed_kmh        10000 non-null  float64\n",
      " 3   Wind_Bearing_degrees  10000 non-null  int64  \n",
      " 4   Visibility_km         10000 non-null  float64\n",
      " 5   Pressure_millibars    10000 non-null  float64\n",
      " 6   Rain                  10000 non-null  int64  \n",
      " 7   Description           10000 non-null  object \n",
      "dtypes: float64(5), int64(2), object(1)\n",
      "memory usage: 625.1+ KB\n"
     ]
    }
   ],
   "source": [
    "# import some data to play with\n",
    "data = pd.read_csv(\"../../Data/weather.csv\")\n",
    "data.info()"
   ]
  },
  {
   "cell_type": "code",
   "execution_count": 3,
   "metadata": {},
   "outputs": [
    {
     "name": "stdout",
     "output_type": "stream",
     "text": [
      "Temperature_c           0\n",
      "Humidity                0\n",
      "Wind_Speed_kmh          0\n",
      "Wind_Bearing_degrees    0\n",
      "Visibility_km           0\n",
      "Pressure_millibars      0\n",
      "Rain                    0\n",
      "Description             0\n",
      "dtype: int64\n"
     ]
    }
   ],
   "source": [
    "# Kiểm tra dữ liệu null\n",
    "print(data.isnull().sum())\n",
    "# => Không có dữ liệu null"
   ]
  },
  {
   "cell_type": "code",
   "execution_count": 4,
   "metadata": {},
   "outputs": [],
   "source": [
    "data = data.dropna()"
   ]
  },
  {
   "cell_type": "code",
   "execution_count": 5,
   "metadata": {},
   "outputs": [
    {
     "data": {
      "text/html": [
       "<div>\n",
       "<style scoped>\n",
       "    .dataframe tbody tr th:only-of-type {\n",
       "        vertical-align: middle;\n",
       "    }\n",
       "\n",
       "    .dataframe tbody tr th {\n",
       "        vertical-align: top;\n",
       "    }\n",
       "\n",
       "    .dataframe thead th {\n",
       "        text-align: right;\n",
       "    }\n",
       "</style>\n",
       "<table border=\"1\" class=\"dataframe\">\n",
       "  <thead>\n",
       "    <tr style=\"text-align: right;\">\n",
       "      <th></th>\n",
       "      <th>Temperature_c</th>\n",
       "      <th>Humidity</th>\n",
       "      <th>Wind_Speed_kmh</th>\n",
       "      <th>Wind_Bearing_degrees</th>\n",
       "      <th>Visibility_km</th>\n",
       "      <th>Pressure_millibars</th>\n",
       "      <th>Rain</th>\n",
       "      <th>Description</th>\n",
       "    </tr>\n",
       "  </thead>\n",
       "  <tbody>\n",
       "    <tr>\n",
       "      <th>0</th>\n",
       "      <td>-0.555556</td>\n",
       "      <td>0.92</td>\n",
       "      <td>11.2700</td>\n",
       "      <td>130</td>\n",
       "      <td>8.0500</td>\n",
       "      <td>1021.60</td>\n",
       "      <td>0</td>\n",
       "      <td>Cold</td>\n",
       "    </tr>\n",
       "    <tr>\n",
       "      <th>1</th>\n",
       "      <td>21.111111</td>\n",
       "      <td>0.73</td>\n",
       "      <td>20.9300</td>\n",
       "      <td>330</td>\n",
       "      <td>16.1000</td>\n",
       "      <td>1017.00</td>\n",
       "      <td>1</td>\n",
       "      <td>Warm</td>\n",
       "    </tr>\n",
       "    <tr>\n",
       "      <th>2</th>\n",
       "      <td>16.600000</td>\n",
       "      <td>0.97</td>\n",
       "      <td>5.9731</td>\n",
       "      <td>193</td>\n",
       "      <td>14.9086</td>\n",
       "      <td>1013.99</td>\n",
       "      <td>1</td>\n",
       "      <td>Normal</td>\n",
       "    </tr>\n",
       "    <tr>\n",
       "      <th>3</th>\n",
       "      <td>1.600000</td>\n",
       "      <td>0.82</td>\n",
       "      <td>3.2200</td>\n",
       "      <td>300</td>\n",
       "      <td>16.1000</td>\n",
       "      <td>1031.59</td>\n",
       "      <td>1</td>\n",
       "      <td>Cold</td>\n",
       "    </tr>\n",
       "    <tr>\n",
       "      <th>4</th>\n",
       "      <td>2.194444</td>\n",
       "      <td>0.60</td>\n",
       "      <td>10.8836</td>\n",
       "      <td>116</td>\n",
       "      <td>9.9820</td>\n",
       "      <td>1020.88</td>\n",
       "      <td>1</td>\n",
       "      <td>Cold</td>\n",
       "    </tr>\n",
       "  </tbody>\n",
       "</table>\n",
       "</div>"
      ],
      "text/plain": [
       "   Temperature_c  Humidity  Wind_Speed_kmh  Wind_Bearing_degrees  \\\n",
       "0      -0.555556      0.92         11.2700                   130   \n",
       "1      21.111111      0.73         20.9300                   330   \n",
       "2      16.600000      0.97          5.9731                   193   \n",
       "3       1.600000      0.82          3.2200                   300   \n",
       "4       2.194444      0.60         10.8836                   116   \n",
       "\n",
       "   Visibility_km  Pressure_millibars  Rain Description  \n",
       "0         8.0500             1021.60     0        Cold  \n",
       "1        16.1000             1017.00     1        Warm  \n",
       "2        14.9086             1013.99     1      Normal  \n",
       "3        16.1000             1031.59     1        Cold  \n",
       "4         9.9820             1020.88     1        Cold  "
      ]
     },
     "execution_count": 5,
     "metadata": {},
     "output_type": "execute_result"
    }
   ],
   "source": [
    "data.head()"
   ]
  },
  {
   "cell_type": "code",
   "execution_count": 6,
   "metadata": {},
   "outputs": [
    {
     "data": {
      "text/html": [
       "<div>\n",
       "<style scoped>\n",
       "    .dataframe tbody tr th:only-of-type {\n",
       "        vertical-align: middle;\n",
       "    }\n",
       "\n",
       "    .dataframe tbody tr th {\n",
       "        vertical-align: top;\n",
       "    }\n",
       "\n",
       "    .dataframe thead th {\n",
       "        text-align: right;\n",
       "    }\n",
       "</style>\n",
       "<table border=\"1\" class=\"dataframe\">\n",
       "  <thead>\n",
       "    <tr style=\"text-align: right;\">\n",
       "      <th></th>\n",
       "      <th>Temperature_c</th>\n",
       "      <th>Humidity</th>\n",
       "      <th>Wind_Speed_kmh</th>\n",
       "      <th>Wind_Bearing_degrees</th>\n",
       "      <th>Visibility_km</th>\n",
       "      <th>Pressure_millibars</th>\n",
       "      <th>Rain</th>\n",
       "      <th>Description</th>\n",
       "    </tr>\n",
       "  </thead>\n",
       "  <tbody>\n",
       "    <tr>\n",
       "      <th>9995</th>\n",
       "      <td>10.022222</td>\n",
       "      <td>0.95</td>\n",
       "      <td>10.2396</td>\n",
       "      <td>20</td>\n",
       "      <td>4.0089</td>\n",
       "      <td>1007.41</td>\n",
       "      <td>1</td>\n",
       "      <td>Normal</td>\n",
       "    </tr>\n",
       "    <tr>\n",
       "      <th>9996</th>\n",
       "      <td>8.633333</td>\n",
       "      <td>0.64</td>\n",
       "      <td>11.0446</td>\n",
       "      <td>80</td>\n",
       "      <td>9.9820</td>\n",
       "      <td>1031.33</td>\n",
       "      <td>1</td>\n",
       "      <td>Normal</td>\n",
       "    </tr>\n",
       "    <tr>\n",
       "      <th>9997</th>\n",
       "      <td>5.977778</td>\n",
       "      <td>0.93</td>\n",
       "      <td>11.0446</td>\n",
       "      <td>269</td>\n",
       "      <td>14.9086</td>\n",
       "      <td>1014.21</td>\n",
       "      <td>1</td>\n",
       "      <td>Normal</td>\n",
       "    </tr>\n",
       "    <tr>\n",
       "      <th>9998</th>\n",
       "      <td>9.788889</td>\n",
       "      <td>0.78</td>\n",
       "      <td>8.1788</td>\n",
       "      <td>231</td>\n",
       "      <td>7.8246</td>\n",
       "      <td>1005.02</td>\n",
       "      <td>1</td>\n",
       "      <td>Normal</td>\n",
       "    </tr>\n",
       "    <tr>\n",
       "      <th>9999</th>\n",
       "      <td>11.138889</td>\n",
       "      <td>0.79</td>\n",
       "      <td>14.2485</td>\n",
       "      <td>131</td>\n",
       "      <td>10.2557</td>\n",
       "      <td>1010.14</td>\n",
       "      <td>1</td>\n",
       "      <td>Normal</td>\n",
       "    </tr>\n",
       "  </tbody>\n",
       "</table>\n",
       "</div>"
      ],
      "text/plain": [
       "      Temperature_c  Humidity  Wind_Speed_kmh  Wind_Bearing_degrees  \\\n",
       "9995      10.022222      0.95         10.2396                    20   \n",
       "9996       8.633333      0.64         11.0446                    80   \n",
       "9997       5.977778      0.93         11.0446                   269   \n",
       "9998       9.788889      0.78          8.1788                   231   \n",
       "9999      11.138889      0.79         14.2485                   131   \n",
       "\n",
       "      Visibility_km  Pressure_millibars  Rain Description  \n",
       "9995         4.0089             1007.41     1      Normal  \n",
       "9996         9.9820             1031.33     1      Normal  \n",
       "9997        14.9086             1014.21     1      Normal  \n",
       "9998         7.8246             1005.02     1      Normal  \n",
       "9999        10.2557             1010.14     1      Normal  "
      ]
     },
     "execution_count": 6,
     "metadata": {},
     "output_type": "execute_result"
    }
   ],
   "source": [
    "data.tail()"
   ]
  },
  {
   "cell_type": "code",
   "execution_count": 7,
   "metadata": {},
   "outputs": [
    {
     "data": {
      "text/plain": [
       "(10000, 7)"
      ]
     },
     "execution_count": 7,
     "metadata": {},
     "output_type": "execute_result"
    }
   ],
   "source": [
    "# The columns that we will be making predictions with.\n",
    "inputs = data.drop([\"Temperature_c\"], axis=1)\n",
    "inputs.shape"
   ]
  },
  {
   "cell_type": "code",
   "execution_count": 8,
   "metadata": {},
   "outputs": [
    {
     "data": {
      "text/html": [
       "<div>\n",
       "<style scoped>\n",
       "    .dataframe tbody tr th:only-of-type {\n",
       "        vertical-align: middle;\n",
       "    }\n",
       "\n",
       "    .dataframe tbody tr th {\n",
       "        vertical-align: top;\n",
       "    }\n",
       "\n",
       "    .dataframe thead th {\n",
       "        text-align: right;\n",
       "    }\n",
       "</style>\n",
       "<table border=\"1\" class=\"dataframe\">\n",
       "  <thead>\n",
       "    <tr style=\"text-align: right;\">\n",
       "      <th></th>\n",
       "      <th>Humidity</th>\n",
       "      <th>Wind_Speed_kmh</th>\n",
       "      <th>Wind_Bearing_degrees</th>\n",
       "      <th>Visibility_km</th>\n",
       "      <th>Pressure_millibars</th>\n",
       "      <th>Rain</th>\n",
       "      <th>Description</th>\n",
       "    </tr>\n",
       "  </thead>\n",
       "  <tbody>\n",
       "    <tr>\n",
       "      <th>0</th>\n",
       "      <td>0.92</td>\n",
       "      <td>11.2700</td>\n",
       "      <td>130</td>\n",
       "      <td>8.0500</td>\n",
       "      <td>1021.60</td>\n",
       "      <td>0</td>\n",
       "      <td>Cold</td>\n",
       "    </tr>\n",
       "    <tr>\n",
       "      <th>1</th>\n",
       "      <td>0.73</td>\n",
       "      <td>20.9300</td>\n",
       "      <td>330</td>\n",
       "      <td>16.1000</td>\n",
       "      <td>1017.00</td>\n",
       "      <td>1</td>\n",
       "      <td>Warm</td>\n",
       "    </tr>\n",
       "    <tr>\n",
       "      <th>2</th>\n",
       "      <td>0.97</td>\n",
       "      <td>5.9731</td>\n",
       "      <td>193</td>\n",
       "      <td>14.9086</td>\n",
       "      <td>1013.99</td>\n",
       "      <td>1</td>\n",
       "      <td>Normal</td>\n",
       "    </tr>\n",
       "    <tr>\n",
       "      <th>3</th>\n",
       "      <td>0.82</td>\n",
       "      <td>3.2200</td>\n",
       "      <td>300</td>\n",
       "      <td>16.1000</td>\n",
       "      <td>1031.59</td>\n",
       "      <td>1</td>\n",
       "      <td>Cold</td>\n",
       "    </tr>\n",
       "    <tr>\n",
       "      <th>4</th>\n",
       "      <td>0.60</td>\n",
       "      <td>10.8836</td>\n",
       "      <td>116</td>\n",
       "      <td>9.9820</td>\n",
       "      <td>1020.88</td>\n",
       "      <td>1</td>\n",
       "      <td>Cold</td>\n",
       "    </tr>\n",
       "  </tbody>\n",
       "</table>\n",
       "</div>"
      ],
      "text/plain": [
       "   Humidity  Wind_Speed_kmh  Wind_Bearing_degrees  Visibility_km  \\\n",
       "0      0.92         11.2700                   130         8.0500   \n",
       "1      0.73         20.9300                   330        16.1000   \n",
       "2      0.97          5.9731                   193        14.9086   \n",
       "3      0.82          3.2200                   300        16.1000   \n",
       "4      0.60         10.8836                   116         9.9820   \n",
       "\n",
       "   Pressure_millibars  Rain Description  \n",
       "0             1021.60     0        Cold  \n",
       "1             1017.00     1        Warm  \n",
       "2             1013.99     1      Normal  \n",
       "3             1031.59     1        Cold  \n",
       "4             1020.88     1        Cold  "
      ]
     },
     "execution_count": 8,
     "metadata": {},
     "output_type": "execute_result"
    }
   ],
   "source": [
    "inputs.head()"
   ]
  },
  {
   "cell_type": "code",
   "execution_count": 9,
   "metadata": {},
   "outputs": [
    {
     "data": {
      "text/html": [
       "<div>\n",
       "<style scoped>\n",
       "    .dataframe tbody tr th:only-of-type {\n",
       "        vertical-align: middle;\n",
       "    }\n",
       "\n",
       "    .dataframe tbody tr th {\n",
       "        vertical-align: top;\n",
       "    }\n",
       "\n",
       "    .dataframe thead th {\n",
       "        text-align: right;\n",
       "    }\n",
       "</style>\n",
       "<table border=\"1\" class=\"dataframe\">\n",
       "  <thead>\n",
       "    <tr style=\"text-align: right;\">\n",
       "      <th></th>\n",
       "      <th>Humidity</th>\n",
       "      <th>Wind_Speed_kmh</th>\n",
       "      <th>Wind_Bearing_degrees</th>\n",
       "      <th>Visibility_km</th>\n",
       "      <th>Pressure_millibars</th>\n",
       "      <th>Rain</th>\n",
       "      <th>Description_Cold</th>\n",
       "      <th>Description_Normal</th>\n",
       "      <th>Description_Warm</th>\n",
       "    </tr>\n",
       "  </thead>\n",
       "  <tbody>\n",
       "    <tr>\n",
       "      <th>0</th>\n",
       "      <td>0.92</td>\n",
       "      <td>11.2700</td>\n",
       "      <td>130</td>\n",
       "      <td>8.0500</td>\n",
       "      <td>1021.60</td>\n",
       "      <td>0</td>\n",
       "      <td>1</td>\n",
       "      <td>0</td>\n",
       "      <td>0</td>\n",
       "    </tr>\n",
       "    <tr>\n",
       "      <th>1</th>\n",
       "      <td>0.73</td>\n",
       "      <td>20.9300</td>\n",
       "      <td>330</td>\n",
       "      <td>16.1000</td>\n",
       "      <td>1017.00</td>\n",
       "      <td>1</td>\n",
       "      <td>0</td>\n",
       "      <td>0</td>\n",
       "      <td>1</td>\n",
       "    </tr>\n",
       "    <tr>\n",
       "      <th>2</th>\n",
       "      <td>0.97</td>\n",
       "      <td>5.9731</td>\n",
       "      <td>193</td>\n",
       "      <td>14.9086</td>\n",
       "      <td>1013.99</td>\n",
       "      <td>1</td>\n",
       "      <td>0</td>\n",
       "      <td>1</td>\n",
       "      <td>0</td>\n",
       "    </tr>\n",
       "    <tr>\n",
       "      <th>3</th>\n",
       "      <td>0.82</td>\n",
       "      <td>3.2200</td>\n",
       "      <td>300</td>\n",
       "      <td>16.1000</td>\n",
       "      <td>1031.59</td>\n",
       "      <td>1</td>\n",
       "      <td>1</td>\n",
       "      <td>0</td>\n",
       "      <td>0</td>\n",
       "    </tr>\n",
       "    <tr>\n",
       "      <th>4</th>\n",
       "      <td>0.60</td>\n",
       "      <td>10.8836</td>\n",
       "      <td>116</td>\n",
       "      <td>9.9820</td>\n",
       "      <td>1020.88</td>\n",
       "      <td>1</td>\n",
       "      <td>1</td>\n",
       "      <td>0</td>\n",
       "      <td>0</td>\n",
       "    </tr>\n",
       "  </tbody>\n",
       "</table>\n",
       "</div>"
      ],
      "text/plain": [
       "   Humidity  Wind_Speed_kmh  Wind_Bearing_degrees  Visibility_km  \\\n",
       "0      0.92         11.2700                   130         8.0500   \n",
       "1      0.73         20.9300                   330        16.1000   \n",
       "2      0.97          5.9731                   193        14.9086   \n",
       "3      0.82          3.2200                   300        16.1000   \n",
       "4      0.60         10.8836                   116         9.9820   \n",
       "\n",
       "   Pressure_millibars  Rain  Description_Cold  Description_Normal  \\\n",
       "0             1021.60     0                 1                   0   \n",
       "1             1017.00     1                 0                   0   \n",
       "2             1013.99     1                 0                   1   \n",
       "3             1031.59     1                 1                   0   \n",
       "4             1020.88     1                 1                   0   \n",
       "\n",
       "   Description_Warm  \n",
       "0                 0  \n",
       "1                 1  \n",
       "2                 0  \n",
       "3                 0  \n",
       "4                 0  "
      ]
     },
     "execution_count": 9,
     "metadata": {},
     "output_type": "execute_result"
    }
   ],
   "source": [
    "inputs = pd.get_dummies(inputs)\n",
    "inputs.head()"
   ]
  },
  {
   "cell_type": "code",
   "execution_count": 10,
   "metadata": {},
   "outputs": [
    {
     "name": "stdout",
     "output_type": "stream",
     "text": [
      "<class 'pandas.core.frame.DataFrame'>\n",
      "Int64Index: 10000 entries, 0 to 9999\n",
      "Data columns (total 9 columns):\n",
      " #   Column                Non-Null Count  Dtype  \n",
      "---  ------                --------------  -----  \n",
      " 0   Humidity              10000 non-null  float64\n",
      " 1   Wind_Speed_kmh        10000 non-null  float64\n",
      " 2   Wind_Bearing_degrees  10000 non-null  int64  \n",
      " 3   Visibility_km         10000 non-null  float64\n",
      " 4   Pressure_millibars    10000 non-null  float64\n",
      " 5   Rain                  10000 non-null  int64  \n",
      " 6   Description_Cold      10000 non-null  uint8  \n",
      " 7   Description_Normal    10000 non-null  uint8  \n",
      " 8   Description_Warm      10000 non-null  uint8  \n",
      "dtypes: float64(4), int64(2), uint8(3)\n",
      "memory usage: 576.2 KB\n"
     ]
    }
   ],
   "source": [
    "inputs.info()"
   ]
  },
  {
   "cell_type": "code",
   "execution_count": 11,
   "metadata": {},
   "outputs": [
    {
     "data": {
      "text/plain": [
       "(10000,)"
      ]
     },
     "execution_count": 11,
     "metadata": {},
     "output_type": "execute_result"
    }
   ],
   "source": [
    "# The column that we want to predict.\n",
    "outputs = data[\"Temperature_c\"]\n",
    "outputs = np.array(outputs)\n",
    "outputs.shape"
   ]
  },
  {
   "cell_type": "code",
   "execution_count": 12,
   "metadata": {},
   "outputs": [],
   "source": [
    "X_train, X_test, y_train, y_test = train_test_split(inputs, outputs, test_size=0.3, random_state=42)"
   ]
  },
  {
   "cell_type": "code",
   "execution_count": 13,
   "metadata": {},
   "outputs": [
    {
     "data": {
      "text/plain": [
       "DecisionTreeRegressor()"
      ]
     },
     "execution_count": 13,
     "metadata": {},
     "output_type": "execute_result"
    }
   ],
   "source": [
    "# Create decision tree regressor object\n",
    "model = DecisionTreeRegressor()\n",
    "# Train model\n",
    "model.fit(X_train, y_train)"
   ]
  },
  {
   "cell_type": "code",
   "execution_count": 14,
   "metadata": {},
   "outputs": [
    {
     "name": "stdout",
     "output_type": "stream",
     "text": [
      "The Train/ Score is:  100.0 %\n",
      "The Test/ Score is:  78.2085758215364 %\n"
     ]
    }
   ],
   "source": [
    "# Kiểm tra độ chính xác\n",
    "print(\"The Train/ Score is: \", model.score(X_train,y_train)*100,\"%\")\n",
    "print(\"The Test/ Score is: \", model.score(X_test,y_test)*100,\"%\")"
   ]
  },
  {
   "cell_type": "code",
   "execution_count": 15,
   "metadata": {},
   "outputs": [
    {
     "name": "stdout",
     "output_type": "stream",
     "text": [
      "Mean Squared Error: 19.05843060745667\n",
      "Mean Absolute Error: 3.26787222223\n"
     ]
    }
   ],
   "source": [
    "# Tính MSE\n",
    "y_pred = model.predict(X_test)\n",
    "print('Mean Squared Error:', mean_squared_error(y_test, y_pred))\n",
    "print('Mean Absolute Error:', mean_absolute_error(y_test, y_pred))"
   ]
  },
  {
   "cell_type": "markdown",
   "metadata": {},
   "source": [
    "### Nhận xét:\n",
    "* Training và Testing chênh nhau ~22% => có hiện tượng overfitting\n",
    "* Mô hình trên cho R^2 khá ~ 0.78, cho thấy nó fit 78% dữ liệu\n",
    "* MSE ~ 19 & MAE ~ 3.3 => mô hình chưa ổn lắm, cần tìm cách giải quyết overfitting"
   ]
  }
 ],
 "metadata": {
  "kernelspec": {
   "display_name": "Python 3",
   "language": "python",
   "name": "python3"
  },
  "language_info": {
   "codemirror_mode": {
    "name": "ipython",
    "version": 3
   },
   "file_extension": ".py",
   "mimetype": "text/x-python",
   "name": "python",
   "nbconvert_exporter": "python",
   "pygments_lexer": "ipython3",
   "version": "3.8.3"
  }
 },
 "nbformat": 4,
 "nbformat_minor": 4
}
