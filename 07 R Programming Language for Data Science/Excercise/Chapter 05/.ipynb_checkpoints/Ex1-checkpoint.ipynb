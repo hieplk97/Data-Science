{
 "cells": [
  {
   "cell_type": "code",
   "execution_count": 1,
   "metadata": {},
   "outputs": [],
   "source": [
    "bmi.function = function(height, weight){\n",
    "    bmi = weight / (height^2)\n",
    "    return (bmi)\n",
    "}"
   ]
  },
  {
   "cell_type": "code",
   "execution_count": 2,
   "metadata": {},
   "outputs": [],
   "source": [
    "bmi_evaluate.function = function(bmi){\n",
    "    result = \"\"\n",
    "    if (bmi < 18.5){\n",
    "        result = \"Gay\"\n",
    "    } else if (bmi < 25){\n",
    "        result = \"Binh thuong\"\n",
    "    } else{\n",
    "        result = \"Beo\"\n",
    "    }\n",
    "    return (result)\n",
    "}"
   ]
  },
  {
   "cell_type": "code",
   "execution_count": 5,
   "metadata": {},
   "outputs": [
    {
     "name": "stdin",
     "output_type": "stream",
     "text": [
      "Input height:  1.58\n",
      "Input weight:  55\n"
     ]
    },
    {
     "name": "stdout",
     "output_type": "stream",
     "text": [
      "[1] \"BMI 22.0317256849864\"\n",
      "[1] \"Ket qua Binh thuong\"\n"
     ]
    }
   ],
   "source": [
    "height = as.double(readline(prompt = \"Input height: \"))\n",
    "weight = as.double(readline(prompt = \"Input weight: \"))\n",
    "\n",
    "bmi = bmi.function(height, weight)\n",
    "result = bmi_evaluate.function(bmi)\n",
    "\n",
    "print(paste(\"BMI\", bmi))\n",
    "print(paste(\"Ket qua\", result))"
   ]
  },
  {
   "cell_type": "code",
   "execution_count": null,
   "metadata": {},
   "outputs": [],
   "source": []
  }
 ],
 "metadata": {
  "kernelspec": {
   "display_name": "R",
   "language": "R",
   "name": "ir"
  },
  "language_info": {
   "codemirror_mode": "r",
   "file_extension": ".r",
   "mimetype": "text/x-r-source",
   "name": "R",
   "pygments_lexer": "r",
   "version": "4.0.3"
  }
 },
 "nbformat": 4,
 "nbformat_minor": 4
}
