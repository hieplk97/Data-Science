{
 "cells": [
  {
   "cell_type": "markdown",
   "metadata": {
    "id": "iK_hBP1IClLZ"
   },
   "source": [
    "# Bài ôn tập buổi 6: Canxi \n",
    "#### Một sinh viên học khoa dinh dưỡng muốn xem xét mối quan hệ giữa lượng canxi (calcium_intake g/day) và kiến thức về canxi knowledge_score (thang đo 0 đến 5) ở các sinh viên trong lớp học. Và cô ấy muốn biết liệu kiến thức về canxi có thể được sử dụng để dự đoán lượng canxi của sinh viên hay không. Cô ấy đã thu thập dữ liệu và lưu trong tập tin canxi.xlsx.\n",
    "### Hãy thực hiện các yêu cầu được liệt kê sau đây:\n",
    "1. Đọc dữ liệu. Xem thông tin dữ liệu với head(), tail(), str(), summary().\n",
    "2. Vẽ biểu đồ phân phối tần suất của knowledge_score. Nhận xét.\n",
    "3. Thực hiện các thống kê cơ bản cho knowledge_score và calcium_intake (mean, median, mode, max, min, range)\n",
    "4. Cho biết các giá trị ở phân vị thứ 20, 35, 65 và 90 của calcium_intake. Biểu diễn phân vị và giá trị tương ứng trên biểu đồ.\n",
    "5. Vẽ boxplot cho knowledge_score và cho calcium_intake. knowledge_score có outlier hay không? calcium_intake có outlier hay không? Nếu có thì hãy thay thế outlier này bằng giá trị phù hợp. Giá trị bạn chọn để thay thế là giá trị nào (mean/median/…)? Giải thích.\n",
    "6. Tìm phương sai (variance) của knowledge_score và calcium_intake.\n",
    "7. Tìm độ lệch chuẩn (Standard deviation) của knowledge_score và calcium_intake.\n",
    "8. Tìm độ xiên (Skewness) và độ nhọn (Kurtosis) của knowledge_score. Nhận xét kết quả.\n",
    "9. Vẽ biểu đồ thể hiện mối quan hệ giữa knowledge_score và calcium_intake. Nhận xét.\n",
    "10. Tính giá trị covariance, correlation giữa knowledge_score và calcium_intake."
   ]
  },
  {
   "cell_type": "code",
   "execution_count": 1,
   "metadata": {
    "colab": {
     "base_uri": "https://localhost:8080/",
     "height": 129
    },
    "id": "yLVu-8m4ClLa",
    "outputId": "96e6fd18-0fe5-491f-e6a5-89244c52b0dc"
   },
   "outputs": [
    {
     "name": "stderr",
     "output_type": "stream",
     "text": [
      "-- \u001b[1mAttaching packages\u001b[22m ------------------------------------------------------------------------------- tidyverse 1.3.0 --\n",
      "\n",
      "\u001b[32m<U+221A>\u001b[39m \u001b[34mtibble \u001b[39m 3.0.4     \u001b[32m<U+221A>\u001b[39m \u001b[34mdplyr  \u001b[39m 1.0.2\n",
      "\u001b[32m<U+221A>\u001b[39m \u001b[34mtidyr  \u001b[39m 1.1.2     \u001b[32m<U+221A>\u001b[39m \u001b[34mstringr\u001b[39m 1.4.0\n",
      "\u001b[32m<U+221A>\u001b[39m \u001b[34mreadr  \u001b[39m 1.4.0     \u001b[32m<U+221A>\u001b[39m \u001b[34mforcats\u001b[39m 0.5.0\n",
      "\u001b[32m<U+221A>\u001b[39m \u001b[34mpurrr  \u001b[39m 0.3.4     \n",
      "\n",
      "-- \u001b[1mConflicts\u001b[22m ---------------------------------------------------------------------------------- tidyverse_conflicts() --\n",
      "\u001b[31mx\u001b[39m \u001b[34mdplyr\u001b[39m::\u001b[32mfilter()\u001b[39m masks \u001b[34mstats\u001b[39m::filter()\n",
      "\u001b[31mx\u001b[39m \u001b[34mdplyr\u001b[39m::\u001b[32mlag()\u001b[39m    masks \u001b[34mstats\u001b[39m::lag()\n",
      "\n"
     ]
    }
   ],
   "source": [
    "library(\"xlsx\")\n",
    "library(\"ggplot2\")\n",
    "library(\"ggExtra\")\n",
    "library(\"tidyverse\")\n",
    "library(\"mlbench\")\n",
    "library(\"e1071\")"
   ]
  },
  {
   "cell_type": "markdown",
   "metadata": {
    "id": "_Giz3ndxClLh"
   },
   "source": [
    "#### 1. Đọc dữ liệu. Xem thông tin dữ liệu với head(), tail(), str(), summary(). "
   ]
  },
  {
   "cell_type": "code",
   "execution_count": 2,
   "metadata": {
    "id": "AdN3Q6ImZux8"
   },
   "outputs": [],
   "source": [
    "data = read.xlsx(\"../Data/canxi.xlsx\", sheetIndex = 1)"
   ]
  },
  {
   "cell_type": "code",
   "execution_count": 3,
   "metadata": {},
   "outputs": [
    {
     "data": {
      "text/html": [
       "<table>\n",
       "<caption>A data.frame: 6 × 3</caption>\n",
       "<thead>\n",
       "\t<tr><th></th><th scope=col>response_number</th><th scope=col>knowledge_score</th><th scope=col>calcium_intake</th></tr>\n",
       "\t<tr><th></th><th scope=col>&lt;dbl&gt;</th><th scope=col>&lt;dbl&gt;</th><th scope=col>&lt;dbl&gt;</th></tr>\n",
       "</thead>\n",
       "<tbody>\n",
       "\t<tr><th scope=row>1</th><td>1</td><td>1.0</td><td>0.450</td></tr>\n",
       "\t<tr><th scope=row>2</th><td>2</td><td>4.2</td><td>1.050</td></tr>\n",
       "\t<tr><th scope=row>3</th><td>3</td><td>3.8</td><td>0.900</td></tr>\n",
       "\t<tr><th scope=row>4</th><td>4</td><td>1.5</td><td>0.525</td></tr>\n",
       "\t<tr><th scope=row>5</th><td>5</td><td>2.2</td><td>0.710</td></tr>\n",
       "\t<tr><th scope=row>6</th><td>6</td><td>3.2</td><td>0.854</td></tr>\n",
       "</tbody>\n",
       "</table>\n"
      ],
      "text/latex": [
       "A data.frame: 6 × 3\n",
       "\\begin{tabular}{r|lll}\n",
       "  & response\\_number & knowledge\\_score & calcium\\_intake\\\\\n",
       "  & <dbl> & <dbl> & <dbl>\\\\\n",
       "\\hline\n",
       "\t1 & 1 & 1.0 & 0.450\\\\\n",
       "\t2 & 2 & 4.2 & 1.050\\\\\n",
       "\t3 & 3 & 3.8 & 0.900\\\\\n",
       "\t4 & 4 & 1.5 & 0.525\\\\\n",
       "\t5 & 5 & 2.2 & 0.710\\\\\n",
       "\t6 & 6 & 3.2 & 0.854\\\\\n",
       "\\end{tabular}\n"
      ],
      "text/markdown": [
       "\n",
       "A data.frame: 6 × 3\n",
       "\n",
       "| <!--/--> | response_number &lt;dbl&gt; | knowledge_score &lt;dbl&gt; | calcium_intake &lt;dbl&gt; |\n",
       "|---|---|---|---|\n",
       "| 1 | 1 | 1.0 | 0.450 |\n",
       "| 2 | 2 | 4.2 | 1.050 |\n",
       "| 3 | 3 | 3.8 | 0.900 |\n",
       "| 4 | 4 | 1.5 | 0.525 |\n",
       "| 5 | 5 | 2.2 | 0.710 |\n",
       "| 6 | 6 | 3.2 | 0.854 |\n",
       "\n"
      ],
      "text/plain": [
       "  response_number knowledge_score calcium_intake\n",
       "1 1               1.0             0.450         \n",
       "2 2               4.2             1.050         \n",
       "3 3               3.8             0.900         \n",
       "4 4               1.5             0.525         \n",
       "5 5               2.2             0.710         \n",
       "6 6               3.2             0.854         "
      ]
     },
     "metadata": {},
     "output_type": "display_data"
    }
   ],
   "source": [
    "head(data)"
   ]
  },
  {
   "cell_type": "code",
   "execution_count": 4,
   "metadata": {},
   "outputs": [
    {
     "data": {
      "text/html": [
       "<table>\n",
       "<caption>A data.frame: 6 × 3</caption>\n",
       "<thead>\n",
       "\t<tr><th></th><th scope=col>response_number</th><th scope=col>knowledge_score</th><th scope=col>calcium_intake</th></tr>\n",
       "\t<tr><th></th><th scope=col>&lt;dbl&gt;</th><th scope=col>&lt;dbl&gt;</th><th scope=col>&lt;dbl&gt;</th></tr>\n",
       "</thead>\n",
       "<tbody>\n",
       "\t<tr><th scope=row>15</th><td>15</td><td>2.2</td><td>0.583</td></tr>\n",
       "\t<tr><th scope=row>16</th><td>16</td><td>4.5</td><td>0.850</td></tr>\n",
       "\t<tr><th scope=row>17</th><td>17</td><td>1.8</td><td>0.798</td></tr>\n",
       "\t<tr><th scope=row>18</th><td>18</td><td>2.4</td><td>0.754</td></tr>\n",
       "\t<tr><th scope=row>19</th><td>19</td><td>3.0</td><td>0.805</td></tr>\n",
       "\t<tr><th scope=row>20</th><td>20</td><td>4.3</td><td>1.085</td></tr>\n",
       "</tbody>\n",
       "</table>\n"
      ],
      "text/latex": [
       "A data.frame: 6 × 3\n",
       "\\begin{tabular}{r|lll}\n",
       "  & response\\_number & knowledge\\_score & calcium\\_intake\\\\\n",
       "  & <dbl> & <dbl> & <dbl>\\\\\n",
       "\\hline\n",
       "\t15 & 15 & 2.2 & 0.583\\\\\n",
       "\t16 & 16 & 4.5 & 0.850\\\\\n",
       "\t17 & 17 & 1.8 & 0.798\\\\\n",
       "\t18 & 18 & 2.4 & 0.754\\\\\n",
       "\t19 & 19 & 3.0 & 0.805\\\\\n",
       "\t20 & 20 & 4.3 & 1.085\\\\\n",
       "\\end{tabular}\n"
      ],
      "text/markdown": [
       "\n",
       "A data.frame: 6 × 3\n",
       "\n",
       "| <!--/--> | response_number &lt;dbl&gt; | knowledge_score &lt;dbl&gt; | calcium_intake &lt;dbl&gt; |\n",
       "|---|---|---|---|\n",
       "| 15 | 15 | 2.2 | 0.583 |\n",
       "| 16 | 16 | 4.5 | 0.850 |\n",
       "| 17 | 17 | 1.8 | 0.798 |\n",
       "| 18 | 18 | 2.4 | 0.754 |\n",
       "| 19 | 19 | 3.0 | 0.805 |\n",
       "| 20 | 20 | 4.3 | 1.085 |\n",
       "\n"
      ],
      "text/plain": [
       "   response_number knowledge_score calcium_intake\n",
       "15 15              2.2             0.583         \n",
       "16 16              4.5             0.850         \n",
       "17 17              1.8             0.798         \n",
       "18 18              2.4             0.754         \n",
       "19 19              3.0             0.805         \n",
       "20 20              4.3             1.085         "
      ]
     },
     "metadata": {},
     "output_type": "display_data"
    }
   ],
   "source": [
    "tail(data)"
   ]
  },
  {
   "cell_type": "code",
   "execution_count": 5,
   "metadata": {},
   "outputs": [
    {
     "name": "stdout",
     "output_type": "stream",
     "text": [
      "'data.frame':\t20 obs. of  3 variables:\n",
      " $ response_number: num  1 2 3 4 5 6 7 8 9 10 ...\n",
      " $ knowledge_score: num  1 4.2 3.8 1.5 2.2 3.2 4 1.4 2.6 3.2 ...\n",
      " $ calcium_intake : num  0.45 1.05 0.9 0.525 0.71 0.854 0.8 0.493 0.73 0.894 ...\n"
     ]
    }
   ],
   "source": [
    "str(data)"
   ]
  },
  {
   "cell_type": "code",
   "execution_count": 6,
   "metadata": {},
   "outputs": [
    {
     "data": {
      "text/plain": [
       " response_number knowledge_score calcium_intake  \n",
       " Min.   : 1.00   Min.   :1.00    Min.   :0.4500  \n",
       " 1st Qu.: 5.75   1st Qu.:2.20    1st Qu.:0.7250  \n",
       " Median :10.50   Median :2.90    Median :0.7990  \n",
       " Mean   :10.50   Mean   :2.96    Mean   :0.7851  \n",
       " 3rd Qu.:15.25   3rd Qu.:3.85    3rd Qu.:0.8955  \n",
       " Max.   :20.00   Max.   :4.80    Max.   :1.0850  "
      ]
     },
     "metadata": {},
     "output_type": "display_data"
    }
   ],
   "source": [
    "summary(data)"
   ]
  },
  {
   "cell_type": "markdown",
   "metadata": {
    "id": "wHqtPoPhClLu"
   },
   "source": [
    "#### 2. Vẽ biểu đồ phân phối tần suất của knowledge_score. Nhận xét. "
   ]
  },
  {
   "cell_type": "code",
   "execution_count": 7,
   "metadata": {
    "id": "_aPY8zOWZxQM"
   },
   "outputs": [
    {
     "data": {
      "image/png": "[encoded data removed]",
      "text/plain": [
       "plot without title"
      ]
     },
     "metadata": {
      "image/png": {
       "height": 420,
       "width": 420
      }
     },
     "output_type": "display_data"
    }
   ],
   "source": [
    "p = ggplot(data, aes(knowledge_score))\n",
    "p + geom_histogram(bins = 30, color = \"white\", fill = \"blue\") +\n",
    "ggtitle(\"Distribution of Knowledge Score\") + \n",
    "geom_density(col = \"red\") +\n",
    "theme_bw(base_size = 12)\n"
   ]
  },
  {
   "cell_type": "markdown",
   "metadata": {
    "id": "ymMaElOhClLz"
   },
   "source": [
    "#### 3. Thực hiện các thống kê cơ bản cho knowledge_score và calcium_intake (mean, median, mode, max, min, range) "
   ]
  },
  {
   "cell_type": "code",
   "execution_count": 8,
   "metadata": {},
   "outputs": [],
   "source": [
    "getmode = function(v){\n",
    "    uniqv = unique(v)\n",
    "    uniqv[which.max(tabulate(match(v, uniqv)))]\n",
    "}"
   ]
  },
  {
   "cell_type": "code",
   "execution_count": 9,
   "metadata": {
    "id": "958EvevpZ1OD"
   },
   "outputs": [
    {
     "name": "stdout",
     "output_type": "stream",
     "text": [
      "[1] \"Mean of Knowledge Score: 2.96\"\n",
      "[1] \"Median of Knowledge Score: 2.9\"\n",
      "[1] \"Mode of Knowledge Score: 3.8\"\n",
      "[1] \"Max of Knowledge Score: 4.8\"\n",
      "[1] \"Min of Knowledge Score: 1\"\n",
      "[1] \"Range of Knowledge Score: 3.8\"\n"
     ]
    }
   ],
   "source": [
    "print(paste(\"Mean of Knowledge Score:\", mean(data$knowledge_score)))\n",
    "print(paste(\"Median of Knowledge Score:\", median(data$knowledge_score)))\n",
    "print(paste(\"Mode of Knowledge Score:\", getmode(data$knowledge_score)))\n",
    "print(paste(\"Max of Knowledge Score:\", max(data$knowledge_score)))\n",
    "print(paste(\"Min of Knowledge Score:\", min(data$knowledge_score)))\n",
    "print(paste(\"Range of Knowledge Score:\", range(data$knowledge_score)[2] - range(data$knowledge_score)[1]))"
   ]
  },
  {
   "cell_type": "code",
   "execution_count": 10,
   "metadata": {},
   "outputs": [
    {
     "name": "stdout",
     "output_type": "stream",
     "text": [
      "[1] \"Mean of Calcium Intake: 0.7851\"\n",
      "[1] \"Median of Calcium Intake: 0.799\"\n",
      "[1] \"Mode of Calcium Intake: 0.45\"\n",
      "[1] \"Max of Calcium Intake: 1.085\"\n",
      "[1] \"Min of Calcium Intake: 0.45\"\n",
      "[1] \"Range of Calcium Intake: 0.635\"\n"
     ]
    }
   ],
   "source": [
    "print(paste(\"Mean of Calcium Intake:\", mean(data$calcium_intake)))\n",
    "print(paste(\"Median of Calcium Intake:\", median(data$calcium_intake)))\n",
    "print(paste(\"Mode of Calcium Intake:\", getmode(data$calcium_intake)))\n",
    "print(paste(\"Max of Calcium Intake:\", max(data$calcium_intake)))\n",
    "print(paste(\"Min of Calcium Intake:\", min(data$calcium_intake)))\n",
    "print(paste(\"Range of Calcium Intake:\", range(data$calcium_intake)[2] - range(data$calcium_intake)[1]))"
   ]
  },
  {
   "cell_type": "markdown",
   "metadata": {
    "id": "RMX-2wqTClL7"
   },
   "source": [
    "#### 4. Cho biết các giá trị ở phân vị thứ 20, 35, 65 và 90 của calcium_intake. Biểu diễn phân vị và giá trị tương ứng trên biểu đồ. "
   ]
  },
  {
   "cell_type": "code",
   "execution_count": 11,
   "metadata": {
    "id": "v35egjhLZ2sg"
   },
   "outputs": [],
   "source": [
    "quan = quantile(data$calcium_intake, c(0.2, 0.35, 0.65, 0.98))"
   ]
  },
  {
   "cell_type": "code",
   "execution_count": 12,
   "metadata": {},
   "outputs": [
    {
     "data": {
      "image/png": "[encoded data removed]",
      "text/plain": [
       "plot without title"
      ]
     },
     "metadata": {
      "image/png": {
       "height": 420,
       "width": 420
      }
     },
     "output_type": "display_data"
    }
   ],
   "source": [
    "plot(c(0.2, 0.35, 0.65, 0.98), quan, type = \"o\")"
   ]
  },
  {
   "cell_type": "markdown",
   "metadata": {
    "id": "B3BNqNiGClMD"
   },
   "source": [
    "#### 5. Vẽ boxplot cho knowledge_score và cho calcium_intake. knowledge_score có outlier hay không? calcium_intake có outlier hay không? Nếu có thì hãy thay thế outlier này bằng giá trị phù hợp. Giá trị bạn chọn để thay thế là giá trị nào (mean/median/…)? Giải thích."
   ]
  },
  {
   "cell_type": "code",
   "execution_count": 13,
   "metadata": {
    "id": "65PK_wifZCoz"
   },
   "outputs": [
    {
     "data": {
      "image/png": "[encoded data removed]",
      "text/plain": [
       "plot without title"
      ]
     },
     "metadata": {
      "image/png": {
       "height": 420,
       "width": 420
      }
     },
     "output_type": "display_data"
    }
   ],
   "source": [
    "boxplot(data$knowledge_score)"
   ]
  },
  {
   "cell_type": "code",
   "execution_count": 14,
   "metadata": {},
   "outputs": [
    {
     "data": {
      "image/png": "[encoded data removed]",
      "text/plain": [
       "plot without title"
      ]
     },
     "metadata": {
      "image/png": {
       "height": 420,
       "width": 420
      }
     },
     "output_type": "display_data"
    }
   ],
   "source": [
    "boxplot(data$calcium_intake)"
   ]
  },
  {
   "cell_type": "markdown",
   "metadata": {
    "id": "KeuHdXCAClMU"
   },
   "source": [
    "#### 6. Tìm phương sai (variance) của knowledge_score và calcium_intake. "
   ]
  },
  {
   "cell_type": "code",
   "execution_count": 15,
   "metadata": {
    "id": "wRlpEXgzaANr"
   },
   "outputs": [
    {
     "name": "stdout",
     "output_type": "stream",
     "text": [
      "[1] \"Variance of knowledge_score: 1.22568421052632\"\n",
      "[1] \"Variance of calcium_intake: 0.0304119894736842\"\n"
     ]
    }
   ],
   "source": [
    "print(paste(\"Variance of knowledge_score:\", var(data$knowledge_score)))\n",
    "print(paste(\"Variance of calcium_intake:\", var(data$calcium_intake)))"
   ]
  },
  {
   "cell_type": "markdown",
   "metadata": {
    "id": "BZmRY1vyClMY"
   },
   "source": [
    "#### 7. Tìm độ lệch chuẩn (Standard deviation) của knowledge_score và calcium_intake"
   ]
  },
  {
   "cell_type": "code",
   "execution_count": 16,
   "metadata": {
    "id": "DXgvgsjaaCOr"
   },
   "outputs": [
    {
     "name": "stdout",
     "output_type": "stream",
     "text": [
      "[1] \"Standard deviation of knowledge_score: 1.10710623271948\"\n",
      "[1] \"Standard deviation of calcium_intake: 0.174390336526094\"\n"
     ]
    }
   ],
   "source": [
    "print(paste(\"Standard deviation of knowledge_score:\", sd(data$knowledge_score)))\n",
    "print(paste(\"Standard deviation of calcium_intake:\", sd(data$calcium_intake)))"
   ]
  },
  {
   "cell_type": "markdown",
   "metadata": {
    "id": "dvbNUbGrClMk"
   },
   "source": [
    "#### 8. Tìm độ xiên (Skewness) và độ nhọn (Kurtosis) của knowledge_score. Nhận xét kết quả. "
   ]
  },
  {
   "cell_type": "code",
   "execution_count": 17,
   "metadata": {
    "id": "AP433wKGaEq7"
   },
   "outputs": [
    {
     "name": "stdout",
     "output_type": "stream",
     "text": [
      "[1] \"Skewness of knowledge_score: -0.0246196905430348\"\n",
      "[1] \"Skewness of calcium_intake: -0.268568867432153\"\n"
     ]
    }
   ],
   "source": [
    "print(paste(\"Skewness of knowledge_score:\", skewness(data$knowledge_score)))\n",
    "print(paste(\"Skewness of calcium_intake:\", skewness(data$calcium_intake)))"
   ]
  },
  {
   "cell_type": "code",
   "execution_count": 18,
   "metadata": {},
   "outputs": [
    {
     "name": "stdout",
     "output_type": "stream",
     "text": [
      "[1] \"Kurtosis of knowledge_score: -1.24569607239671\"\n",
      "[1] \"Kurtosis of calcium_intake: -0.744307156835843\"\n"
     ]
    }
   ],
   "source": [
    "print(paste(\"Kurtosis of knowledge_score:\", kurtosis(data$knowledge_score)))\n",
    "print(paste(\"Kurtosis of calcium_intake:\", kurtosis(data$calcium_intake)))"
   ]
  },
  {
   "cell_type": "markdown",
   "metadata": {
    "id": "1X0oSZRYClM2"
   },
   "source": [
    "#### 9. Vẽ biểu đồ thể hiện mối quan hệ giữa knowledge_score và calcium_intake có bổ sung thêm histogram phụ trên mỗi cột. Nhận xét biểu đồ. "
   ]
  },
  {
   "cell_type": "code",
   "execution_count": 19,
   "metadata": {
    "id": "_RSelfwqaHBC"
   },
   "outputs": [
    {
     "data": {
      "image/png": "[encoded data removed]",
      "text/plain": [
       "plot without title"
      ]
     },
     "metadata": {
      "image/png": {
       "height": 420,
       "width": 420
      }
     },
     "output_type": "display_data"
    }
   ],
   "source": [
    "pairs(~knowledge_score+calcium_intake, data = data, main = \"knowledge_score vs calcium_intake\")"
   ]
  },
  {
   "cell_type": "markdown",
   "metadata": {
    "id": "AF5iA4BtClM5"
   },
   "source": [
    "#### 10. Tính giá trị covariance, correlation giữa knowledge_score và calcium_intake.  "
   ]
  },
  {
   "cell_type": "code",
   "execution_count": 20,
   "metadata": {
    "id": "X4MKn8fGaJgj"
   },
   "outputs": [
    {
     "name": "stdout",
     "output_type": "stream",
     "text": [
      "[1] \"covariance: 0.170335789473684\"\n"
     ]
    }
   ],
   "source": [
    "print(paste(\"covariance:\", cov(data$knowledge_score, data$calcium_intake)))"
   ]
  },
  {
   "cell_type": "code",
   "execution_count": 21,
   "metadata": {},
   "outputs": [
    {
     "name": "stdout",
     "output_type": "stream",
     "text": [
      "[1] \"correlation: 0.88225513799049\"\n"
     ]
    }
   ],
   "source": [
    "print(paste(\"correlation:\", cor(data$knowledge_score, data$calcium_intake)))"
   ]
  },
  {
   "cell_type": "code",
   "execution_count": null,
   "metadata": {},
   "outputs": [],
   "source": []
  }
 ],
 "metadata": {
  "colab": {
   "name": "bai_on_tap_b6_Student.ipynb",
   "provenance": [],
   "toc_visible": true
  },
  "kernelspec": {
   "display_name": "R",
   "language": "R",
   "name": "ir"
  },
  "language_info": {
   "codemirror_mode": "r",
   "file_extension": ".r",
   "mimetype": "text/x-r-source",
   "name": "R",
   "pygments_lexer": "r",
   "version": "4.0.3"
  }
 },
 "nbformat": 4,
 "nbformat_minor": 4
}
