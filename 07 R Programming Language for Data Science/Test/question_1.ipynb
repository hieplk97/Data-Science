{
 "cells": [
  {
   "cell_type": "code",
   "execution_count": 1,
   "metadata": {},
   "outputs": [
    {
     "name": "stderr",
     "output_type": "stream",
     "text": [
      "-- \u001b[1mAttaching packages\u001b[22m ------------------------------------------------------------------------------- tidyverse 1.3.0 --\n",
      "\n",
      "\u001b[32m<U+221A>\u001b[39m \u001b[34mggplot2\u001b[39m 3.3.3     \u001b[32m<U+221A>\u001b[39m \u001b[34mpurrr  \u001b[39m 0.3.4\n",
      "\u001b[32m<U+221A>\u001b[39m \u001b[34mtibble \u001b[39m 3.0.4     \u001b[32m<U+221A>\u001b[39m \u001b[34mdplyr  \u001b[39m 1.0.2\n",
      "\u001b[32m<U+221A>\u001b[39m \u001b[34mtidyr  \u001b[39m 1.1.2     \u001b[32m<U+221A>\u001b[39m \u001b[34mstringr\u001b[39m 1.4.0\n",
      "\u001b[32m<U+221A>\u001b[39m \u001b[34mreadr  \u001b[39m 1.4.0     \u001b[32m<U+221A>\u001b[39m \u001b[34mforcats\u001b[39m 0.5.0\n",
      "\n",
      "-- \u001b[1mConflicts\u001b[22m ---------------------------------------------------------------------------------- tidyverse_conflicts() --\n",
      "\u001b[31mx\u001b[39m \u001b[34mdplyr\u001b[39m::\u001b[32mfilter()\u001b[39m masks \u001b[34mstats\u001b[39m::filter()\n",
      "\u001b[31mx\u001b[39m \u001b[34mdplyr\u001b[39m::\u001b[32mlag()\u001b[39m    masks \u001b[34mstats\u001b[39m::lag()\n",
      "\n"
     ]
    }
   ],
   "source": [
    "library(tidyverse)\n",
    "library(ggplot2)"
   ]
  },
  {
   "cell_type": "markdown",
   "metadata": {},
   "source": [
    "## Câu 1"
   ]
  },
  {
   "cell_type": "code",
   "execution_count": 2,
   "metadata": {},
   "outputs": [],
   "source": [
    "data = read.csv('data/houses_to_rent.csv', row.names = 1)"
   ]
  },
  {
   "cell_type": "code",
   "execution_count": 3,
   "metadata": {},
   "outputs": [
    {
     "data": {
      "text/html": [
       "<table>\n",
       "<caption>A data.frame: 6 × 13</caption>\n",
       "<thead>\n",
       "\t<tr><th></th><th scope=col>city</th><th scope=col>area</th><th scope=col>rooms</th><th scope=col>bathroom</th><th scope=col>parking.spaces</th><th scope=col>floor</th><th scope=col>animal</th><th scope=col>furniture</th><th scope=col>hoa</th><th scope=col>rent.amount</th><th scope=col>property.tax</th><th scope=col>fire.insurance</th><th scope=col>total</th></tr>\n",
       "\t<tr><th></th><th scope=col>&lt;int&gt;</th><th scope=col>&lt;int&gt;</th><th scope=col>&lt;int&gt;</th><th scope=col>&lt;int&gt;</th><th scope=col>&lt;int&gt;</th><th scope=col>&lt;int&gt;</th><th scope=col>&lt;chr&gt;</th><th scope=col>&lt;chr&gt;</th><th scope=col>&lt;chr&gt;</th><th scope=col>&lt;chr&gt;</th><th scope=col>&lt;chr&gt;</th><th scope=col>&lt;chr&gt;</th><th scope=col>&lt;chr&gt;</th></tr>\n",
       "</thead>\n",
       "<tbody>\n",
       "\t<tr><th scope=row>0</th><td>1</td><td>240</td><td>3</td><td> 3</td><td>4</td><td>NA</td><td>acept    </td><td>furnished    </td><td>R$0    </td><td>R$8,000</td><td>R$1,000</td><td>R$121</td><td>R$9,121 </td></tr>\n",
       "\t<tr><th scope=row>1</th><td>0</td><td> 64</td><td>2</td><td> 1</td><td>1</td><td>10</td><td>acept    </td><td>not furnished</td><td>R$540  </td><td>R$820  </td><td>R$122  </td><td>R$11 </td><td>R$1,493 </td></tr>\n",
       "\t<tr><th scope=row>2</th><td>1</td><td>443</td><td>5</td><td> 5</td><td>4</td><td> 3</td><td>acept    </td><td>furnished    </td><td>R$4,172</td><td>R$7,000</td><td>R$1,417</td><td>R$89 </td><td>R$12,680</td></tr>\n",
       "\t<tr><th scope=row>3</th><td>1</td><td> 73</td><td>2</td><td>NA</td><td>1</td><td>12</td><td>acept    </td><td>not furnished</td><td>R$700  </td><td>R$1,250</td><td>R$150  </td><td>R$16 </td><td>R$2,116 </td></tr>\n",
       "\t<tr><th scope=row>4</th><td>1</td><td> 19</td><td>1</td><td>NA</td><td>0</td><td>NA</td><td>not acept</td><td>not furnished</td><td>R$0    </td><td>R$1,200</td><td>R$41   </td><td>R$16 </td><td>R$1,257 </td></tr>\n",
       "\t<tr><th scope=row>5</th><td>1</td><td> 13</td><td>1</td><td>NA</td><td>0</td><td> 2</td><td>acept    </td><td>not furnished</td><td>R$0    </td><td>R$2,200</td><td>R$42   </td><td>R$28 </td><td>R$2,270 </td></tr>\n",
       "</tbody>\n",
       "</table>\n"
      ],
      "text/latex": [
       "A data.frame: 6 × 13\n",
       "\\begin{tabular}{r|lllllllllllll}\n",
       "  & city & area & rooms & bathroom & parking.spaces & floor & animal & furniture & hoa & rent.amount & property.tax & fire.insurance & total\\\\\n",
       "  & <int> & <int> & <int> & <int> & <int> & <int> & <chr> & <chr> & <chr> & <chr> & <chr> & <chr> & <chr>\\\\\n",
       "\\hline\n",
       "\t0 & 1 & 240 & 3 &  3 & 4 & NA & acept     & furnished     & R\\$0     & R\\$8,000 & R\\$1,000 & R\\$121 & R\\$9,121 \\\\\n",
       "\t1 & 0 &  64 & 2 &  1 & 1 & 10 & acept     & not furnished & R\\$540   & R\\$820   & R\\$122   & R\\$11  & R\\$1,493 \\\\\n",
       "\t2 & 1 & 443 & 5 &  5 & 4 &  3 & acept     & furnished     & R\\$4,172 & R\\$7,000 & R\\$1,417 & R\\$89  & R\\$12,680\\\\\n",
       "\t3 & 1 &  73 & 2 & NA & 1 & 12 & acept     & not furnished & R\\$700   & R\\$1,250 & R\\$150   & R\\$16  & R\\$2,116 \\\\\n",
       "\t4 & 1 &  19 & 1 & NA & 0 & NA & not acept & not furnished & R\\$0     & R\\$1,200 & R\\$41    & R\\$16  & R\\$1,257 \\\\\n",
       "\t5 & 1 &  13 & 1 & NA & 0 &  2 & acept     & not furnished & R\\$0     & R\\$2,200 & R\\$42    & R\\$28  & R\\$2,270 \\\\\n",
       "\\end{tabular}\n"
      ],
      "text/markdown": [
       "\n",
       "A data.frame: 6 × 13\n",
       "\n",
       "| <!--/--> | city &lt;int&gt; | area &lt;int&gt; | rooms &lt;int&gt; | bathroom &lt;int&gt; | parking.spaces &lt;int&gt; | floor &lt;int&gt; | animal &lt;chr&gt; | furniture &lt;chr&gt; | hoa &lt;chr&gt; | rent.amount &lt;chr&gt; | property.tax &lt;chr&gt; | fire.insurance &lt;chr&gt; | total &lt;chr&gt; |\n",
       "|---|---|---|---|---|---|---|---|---|---|---|---|---|---|\n",
       "| 0 | 1 | 240 | 3 |  3 | 4 | NA | acept     | furnished     | R$0     | R$8,000 | R$1,000 | R$121 | R$9,121  |\n",
       "| 1 | 0 |  64 | 2 |  1 | 1 | 10 | acept     | not furnished | R$540   | R$820   | R$122   | R$11  | R$1,493  |\n",
       "| 2 | 1 | 443 | 5 |  5 | 4 |  3 | acept     | furnished     | R$4,172 | R$7,000 | R$1,417 | R$89  | R$12,680 |\n",
       "| 3 | 1 |  73 | 2 | NA | 1 | 12 | acept     | not furnished | R$700   | R$1,250 | R$150   | R$16  | R$2,116  |\n",
       "| 4 | 1 |  19 | 1 | NA | 0 | NA | not acept | not furnished | R$0     | R$1,200 | R$41    | R$16  | R$1,257  |\n",
       "| 5 | 1 |  13 | 1 | NA | 0 |  2 | acept     | not furnished | R$0     | R$2,200 | R$42    | R$28  | R$2,270  |\n",
       "\n"
      ],
      "text/plain": [
       "  city area rooms bathroom parking.spaces floor animal    furniture     hoa    \n",
       "0 1    240  3      3       4              NA    acept     furnished     R$0    \n",
       "1 0     64  2      1       1              10    acept     not furnished R$540  \n",
       "2 1    443  5      5       4               3    acept     furnished     R$4,172\n",
       "3 1     73  2     NA       1              12    acept     not furnished R$700  \n",
       "4 1     19  1     NA       0              NA    not acept not furnished R$0    \n",
       "5 1     13  1     NA       0               2    acept     not furnished R$0    \n",
       "  rent.amount property.tax fire.insurance total   \n",
       "0 R$8,000     R$1,000      R$121          R$9,121 \n",
       "1 R$820       R$122        R$11           R$1,493 \n",
       "2 R$7,000     R$1,417      R$89           R$12,680\n",
       "3 R$1,250     R$150        R$16           R$2,116 \n",
       "4 R$1,200     R$41         R$16           R$1,257 \n",
       "5 R$2,200     R$42         R$28           R$2,270 "
      ]
     },
     "metadata": {},
     "output_type": "display_data"
    }
   ],
   "source": [
    "head(data)"
   ]
  },
  {
   "cell_type": "code",
   "execution_count": 4,
   "metadata": {},
   "outputs": [
    {
     "data": {
      "text/html": [
       "<table>\n",
       "<caption>A data.frame: 6 × 13</caption>\n",
       "<thead>\n",
       "\t<tr><th></th><th scope=col>city</th><th scope=col>area</th><th scope=col>rooms</th><th scope=col>bathroom</th><th scope=col>parking.spaces</th><th scope=col>floor</th><th scope=col>animal</th><th scope=col>furniture</th><th scope=col>hoa</th><th scope=col>rent.amount</th><th scope=col>property.tax</th><th scope=col>fire.insurance</th><th scope=col>total</th></tr>\n",
       "\t<tr><th></th><th scope=col>&lt;int&gt;</th><th scope=col>&lt;int&gt;</th><th scope=col>&lt;int&gt;</th><th scope=col>&lt;int&gt;</th><th scope=col>&lt;int&gt;</th><th scope=col>&lt;int&gt;</th><th scope=col>&lt;chr&gt;</th><th scope=col>&lt;chr&gt;</th><th scope=col>&lt;chr&gt;</th><th scope=col>&lt;chr&gt;</th><th scope=col>&lt;chr&gt;</th><th scope=col>&lt;chr&gt;</th><th scope=col>&lt;chr&gt;</th></tr>\n",
       "</thead>\n",
       "<tbody>\n",
       "\t<tr><th scope=row>6074</th><td>0</td><td> 28</td><td>1</td><td>1</td><td>0</td><td>NA</td><td>not acept</td><td>furnished    </td><td>R$0  </td><td>R$1,390</td><td>R$0  </td><td>R$18</td><td>R$1,408</td></tr>\n",
       "\t<tr><th scope=row>6075</th><td>1</td><td> 50</td><td>2</td><td>1</td><td>1</td><td> 2</td><td>acept    </td><td>not furnished</td><td>R$420</td><td>R$1,150</td><td>R$0  </td><td>R$15</td><td>R$1,585</td></tr>\n",
       "\t<tr><th scope=row>6076</th><td>1</td><td> 84</td><td>2</td><td>2</td><td>1</td><td>16</td><td>not acept</td><td>furnished    </td><td>R$768</td><td>R$2,900</td><td>R$63 </td><td>R$37</td><td>R$3,768</td></tr>\n",
       "\t<tr><th scope=row>6077</th><td>0</td><td> 48</td><td>1</td><td>1</td><td>0</td><td>13</td><td>acept    </td><td>not furnished</td><td>R$250</td><td>R$950  </td><td>R$42 </td><td>R$13</td><td>R$1,255</td></tr>\n",
       "\t<tr><th scope=row>6078</th><td>1</td><td>160</td><td>3</td><td>2</td><td>2</td><td>NA</td><td>not acept</td><td>not furnished</td><td>R$0  </td><td>R$3,500</td><td>R$250</td><td>R$53</td><td>R$3,803</td></tr>\n",
       "\t<tr><th scope=row>6079</th><td>1</td><td> 60</td><td>2</td><td>1</td><td>1</td><td> 4</td><td>acept    </td><td>furnished    </td><td>R$489</td><td>R$1,900</td><td>R$0  </td><td>R$25</td><td>R$2,414</td></tr>\n",
       "</tbody>\n",
       "</table>\n"
      ],
      "text/latex": [
       "A data.frame: 6 × 13\n",
       "\\begin{tabular}{r|lllllllllllll}\n",
       "  & city & area & rooms & bathroom & parking.spaces & floor & animal & furniture & hoa & rent.amount & property.tax & fire.insurance & total\\\\\n",
       "  & <int> & <int> & <int> & <int> & <int> & <int> & <chr> & <chr> & <chr> & <chr> & <chr> & <chr> & <chr>\\\\\n",
       "\\hline\n",
       "\t6074 & 0 &  28 & 1 & 1 & 0 & NA & not acept & furnished     & R\\$0   & R\\$1,390 & R\\$0   & R\\$18 & R\\$1,408\\\\\n",
       "\t6075 & 1 &  50 & 2 & 1 & 1 &  2 & acept     & not furnished & R\\$420 & R\\$1,150 & R\\$0   & R\\$15 & R\\$1,585\\\\\n",
       "\t6076 & 1 &  84 & 2 & 2 & 1 & 16 & not acept & furnished     & R\\$768 & R\\$2,900 & R\\$63  & R\\$37 & R\\$3,768\\\\\n",
       "\t6077 & 0 &  48 & 1 & 1 & 0 & 13 & acept     & not furnished & R\\$250 & R\\$950   & R\\$42  & R\\$13 & R\\$1,255\\\\\n",
       "\t6078 & 1 & 160 & 3 & 2 & 2 & NA & not acept & not furnished & R\\$0   & R\\$3,500 & R\\$250 & R\\$53 & R\\$3,803\\\\\n",
       "\t6079 & 1 &  60 & 2 & 1 & 1 &  4 & acept     & furnished     & R\\$489 & R\\$1,900 & R\\$0   & R\\$25 & R\\$2,414\\\\\n",
       "\\end{tabular}\n"
      ],
      "text/markdown": [
       "\n",
       "A data.frame: 6 × 13\n",
       "\n",
       "| <!--/--> | city &lt;int&gt; | area &lt;int&gt; | rooms &lt;int&gt; | bathroom &lt;int&gt; | parking.spaces &lt;int&gt; | floor &lt;int&gt; | animal &lt;chr&gt; | furniture &lt;chr&gt; | hoa &lt;chr&gt; | rent.amount &lt;chr&gt; | property.tax &lt;chr&gt; | fire.insurance &lt;chr&gt; | total &lt;chr&gt; |\n",
       "|---|---|---|---|---|---|---|---|---|---|---|---|---|---|\n",
       "| 6074 | 0 |  28 | 1 | 1 | 0 | NA | not acept | furnished     | R$0   | R$1,390 | R$0   | R$18 | R$1,408 |\n",
       "| 6075 | 1 |  50 | 2 | 1 | 1 |  2 | acept     | not furnished | R$420 | R$1,150 | R$0   | R$15 | R$1,585 |\n",
       "| 6076 | 1 |  84 | 2 | 2 | 1 | 16 | not acept | furnished     | R$768 | R$2,900 | R$63  | R$37 | R$3,768 |\n",
       "| 6077 | 0 |  48 | 1 | 1 | 0 | 13 | acept     | not furnished | R$250 | R$950   | R$42  | R$13 | R$1,255 |\n",
       "| 6078 | 1 | 160 | 3 | 2 | 2 | NA | not acept | not furnished | R$0   | R$3,500 | R$250 | R$53 | R$3,803 |\n",
       "| 6079 | 1 |  60 | 2 | 1 | 1 |  4 | acept     | furnished     | R$489 | R$1,900 | R$0   | R$25 | R$2,414 |\n",
       "\n"
      ],
      "text/plain": [
       "     city area rooms bathroom parking.spaces floor animal    furniture    \n",
       "6074 0     28  1     1        0              NA    not acept furnished    \n",
       "6075 1     50  2     1        1               2    acept     not furnished\n",
       "6076 1     84  2     2        1              16    not acept furnished    \n",
       "6077 0     48  1     1        0              13    acept     not furnished\n",
       "6078 1    160  3     2        2              NA    not acept not furnished\n",
       "6079 1     60  2     1        1               4    acept     furnished    \n",
       "     hoa   rent.amount property.tax fire.insurance total  \n",
       "6074 R$0   R$1,390     R$0          R$18           R$1,408\n",
       "6075 R$420 R$1,150     R$0          R$15           R$1,585\n",
       "6076 R$768 R$2,900     R$63         R$37           R$3,768\n",
       "6077 R$250 R$950       R$42         R$13           R$1,255\n",
       "6078 R$0   R$3,500     R$250        R$53           R$3,803\n",
       "6079 R$489 R$1,900     R$0          R$25           R$2,414"
      ]
     },
     "metadata": {},
     "output_type": "display_data"
    }
   ],
   "source": [
    "tail(data)"
   ]
  },
  {
   "cell_type": "code",
   "execution_count": 5,
   "metadata": {},
   "outputs": [
    {
     "name": "stdout",
     "output_type": "stream",
     "text": [
      "'data.frame':\t6080 obs. of  13 variables:\n",
      " $ city          : int  1 0 1 1 1 1 1 1 1 1 ...\n",
      " $ area          : int  240 64 443 73 19 13 55 55 82 32 ...\n",
      " $ rooms         : int  3 2 5 2 1 1 1 2 3 1 ...\n",
      " $ bathroom      : int  3 1 5 NA NA NA NA NA NA NA ...\n",
      " $ parking.spaces: int  4 1 4 1 0 0 1 1 1 1 ...\n",
      " $ floor         : int  NA 10 3 12 NA 2 2 2 3 16 ...\n",
      " $ animal        : chr  \"acept\" \"acept\" \"acept\" \"acept\" ...\n",
      " $ furniture     : chr  \"furnished\" \"not furnished\" \"furnished\" \"not furnished\" ...\n",
      " $ hoa           : chr  \"R$0\" \"R$540\" \"R$4,172\" \"R$700\" ...\n",
      " $ rent.amount   : chr  \"R$8,000\" \"R$820\" \"R$7,000\" \"R$1,250\" ...\n",
      " $ property.tax  : chr  \"R$1,000\" \"R$122\" \"R$1,417\" \"R$150\" ...\n",
      " $ fire.insurance: chr  \"R$121\" \"R$11\" \"R$89\" \"R$16\" ...\n",
      " $ total         : chr  \"R$9,121\" \"R$1,493\" \"R$12,680\" \"R$2,116\" ...\n"
     ]
    }
   ],
   "source": [
    "str(data)"
   ]
  },
  {
   "cell_type": "code",
   "execution_count": 6,
   "metadata": {},
   "outputs": [
    {
     "data": {
      "text/plain": [
       "      city             area             rooms           bathroom     \n",
       " Min.   :0.0000   Min.   :   10.0   Min.   : 1.000   Min.   : 1.000  \n",
       " 1st Qu.:1.0000   1st Qu.:   58.0   1st Qu.: 2.000   1st Qu.: 1.000  \n",
       " Median :1.0000   Median :  100.0   Median : 3.000   Median : 2.000  \n",
       " Mean   :0.8633   Mean   :  151.2   Mean   : 2.493   Mean   : 2.347  \n",
       " 3rd Qu.:1.0000   3rd Qu.:  200.0   3rd Qu.: 3.000   3rd Qu.: 3.000  \n",
       " Max.   :1.0000   Max.   :24606.0   Max.   :10.000   Max.   :10.000  \n",
       "                  NA's   :17                         NA's   :121     \n",
       " parking.spaces       floor           animal           furniture        \n",
       " Min.   : 0.000   Min.   : 1.000   Length:6080        Length:6080       \n",
       " 1st Qu.: 1.000   1st Qu.: 3.000   Class :character   Class :character  \n",
       " Median : 1.000   Median : 6.000   Mode  :character   Mode  :character  \n",
       " Mean   : 1.756   Mean   : 7.621                                        \n",
       " 3rd Qu.: 2.000   3rd Qu.:11.000                                        \n",
       " Max.   :12.000   Max.   :99.000                                        \n",
       "                  NA's   :1555                                          \n",
       "     hoa            rent.amount        property.tax       fire.insurance    \n",
       " Length:6080        Length:6080        Length:6080        Length:6080       \n",
       " Class :character   Class :character   Class :character   Class :character  \n",
       " Mode  :character   Mode  :character   Mode  :character   Mode  :character  \n",
       "                                                                            \n",
       "                                                                            \n",
       "                                                                            \n",
       "                                                                            \n",
       "    total          \n",
       " Length:6080       \n",
       " Class :character  \n",
       " Mode  :character  \n",
       "                   \n",
       "                   \n",
       "                   \n",
       "                   "
      ]
     },
     "metadata": {},
     "output_type": "display_data"
    }
   ],
   "source": [
    "summary(data)"
   ]
  },
  {
   "cell_type": "markdown",
   "metadata": {},
   "source": [
    "## Câu 2"
   ]
  },
  {
   "cell_type": "code",
   "execution_count": 7,
   "metadata": {},
   "outputs": [
    {
     "name": "stdout",
     "output_type": "stream",
     "text": [
      "[1] \"cols: 13\"\n",
      "[1] \"rows: 6080\"\n"
     ]
    }
   ],
   "source": [
    "print(paste(\"cols:\", ncol(data)))\n",
    "print(paste(\"rows:\", nrow(data)))"
   ]
  },
  {
   "cell_type": "markdown",
   "metadata": {},
   "source": [
    "## Câu 3"
   ]
  },
  {
   "cell_type": "code",
   "execution_count": 8,
   "metadata": {},
   "outputs": [
    {
     "data": {
      "text/html": [
       "<table>\n",
       "<caption>A data.frame: 5 × 2</caption>\n",
       "<thead>\n",
       "\t<tr><th></th><th scope=col>rooms</th><th scope=col>room_counts</th></tr>\n",
       "\t<tr><th></th><th scope=col>&lt;int&gt;</th><th scope=col>&lt;int&gt;</th></tr>\n",
       "</thead>\n",
       "<tbody>\n",
       "\t<tr><th scope=row>1</th><td>3</td><td>1994</td></tr>\n",
       "\t<tr><th scope=row>2</th><td>2</td><td>1621</td></tr>\n",
       "\t<tr><th scope=row>3</th><td>1</td><td>1398</td></tr>\n",
       "\t<tr><th scope=row>4</th><td>4</td><td> 879</td></tr>\n",
       "\t<tr><th scope=row>5</th><td>5</td><td> 143</td></tr>\n",
       "</tbody>\n",
       "</table>\n"
      ],
      "text/latex": [
       "A data.frame: 5 × 2\n",
       "\\begin{tabular}{r|ll}\n",
       "  & rooms & room\\_counts\\\\\n",
       "  & <int> & <int>\\\\\n",
       "\\hline\n",
       "\t1 & 3 & 1994\\\\\n",
       "\t2 & 2 & 1621\\\\\n",
       "\t3 & 1 & 1398\\\\\n",
       "\t4 & 4 &  879\\\\\n",
       "\t5 & 5 &  143\\\\\n",
       "\\end{tabular}\n"
      ],
      "text/markdown": [
       "\n",
       "A data.frame: 5 × 2\n",
       "\n",
       "| <!--/--> | rooms &lt;int&gt; | room_counts &lt;int&gt; |\n",
       "|---|---|---|\n",
       "| 1 | 3 | 1994 |\n",
       "| 2 | 2 | 1621 |\n",
       "| 3 | 1 | 1398 |\n",
       "| 4 | 4 |  879 |\n",
       "| 5 | 5 |  143 |\n",
       "\n"
      ],
      "text/plain": [
       "  rooms room_counts\n",
       "1 3     1994       \n",
       "2 2     1621       \n",
       "3 1     1398       \n",
       "4 4      879       \n",
       "5 5      143       "
      ]
     },
     "metadata": {},
     "output_type": "display_data"
    }
   ],
   "source": [
    "head(arrange(count(data, rooms, name = \"room_counts\"), desc(room_counts)), 5)"
   ]
  },
  {
   "cell_type": "markdown",
   "metadata": {},
   "source": [
    "## Câu 4"
   ]
  },
  {
   "cell_type": "code",
   "execution_count": 9,
   "metadata": {},
   "outputs": [
    {
     "data": {
      "text/html": [
       "<style>\n",
       ".list-inline {list-style: none; margin:0; padding: 0}\n",
       ".list-inline>li {display: inline-block}\n",
       ".list-inline>li:not(:last-child)::after {content: \"\\00b7\"; padding: 0 .5ex}\n",
       "</style>\n",
       "<ol class=list-inline><li>'area'</li><li>'bathroom'</li><li>'floor'</li></ol>\n"
      ],
      "text/latex": [
       "\\begin{enumerate*}\n",
       "\\item 'area'\n",
       "\\item 'bathroom'\n",
       "\\item 'floor'\n",
       "\\end{enumerate*}\n"
      ],
      "text/markdown": [
       "1. 'area'\n",
       "2. 'bathroom'\n",
       "3. 'floor'\n",
       "\n",
       "\n"
      ],
      "text/plain": [
       "[1] \"area\"     \"bathroom\" \"floor\"   "
      ]
     },
     "metadata": {},
     "output_type": "display_data"
    }
   ],
   "source": [
    "missing_cols = colnames(data)[!complete.cases(t(data))]\n",
    "missing_cols"
   ]
  },
  {
   "cell_type": "markdown",
   "metadata": {},
   "source": [
    "## Câu 5"
   ]
  },
  {
   "cell_type": "code",
   "execution_count": 10,
   "metadata": {},
   "outputs": [
    {
     "data": {
      "text/html": [
       "<table>\n",
       "<caption>A data.frame: 6 × 10</caption>\n",
       "<thead>\n",
       "\t<tr><th></th><th scope=col>city</th><th scope=col>area</th><th scope=col>rooms</th><th scope=col>bathroom</th><th scope=col>parking.spaces</th><th scope=col>floor</th><th scope=col>animal</th><th scope=col>furniture</th><th scope=col>hoa</th><th scope=col>rent.amount</th></tr>\n",
       "\t<tr><th></th><th scope=col>&lt;int&gt;</th><th scope=col>&lt;int&gt;</th><th scope=col>&lt;int&gt;</th><th scope=col>&lt;int&gt;</th><th scope=col>&lt;int&gt;</th><th scope=col>&lt;int&gt;</th><th scope=col>&lt;chr&gt;</th><th scope=col>&lt;chr&gt;</th><th scope=col>&lt;chr&gt;</th><th scope=col>&lt;chr&gt;</th></tr>\n",
       "</thead>\n",
       "<tbody>\n",
       "\t<tr><th scope=row>0</th><td>1</td><td>240</td><td>3</td><td> 3</td><td>4</td><td>NA</td><td>acept    </td><td>furnished    </td><td>R$0    </td><td>R$8,000</td></tr>\n",
       "\t<tr><th scope=row>1</th><td>0</td><td> 64</td><td>2</td><td> 1</td><td>1</td><td>10</td><td>acept    </td><td>not furnished</td><td>R$540  </td><td>R$820  </td></tr>\n",
       "\t<tr><th scope=row>2</th><td>1</td><td>443</td><td>5</td><td> 5</td><td>4</td><td> 3</td><td>acept    </td><td>furnished    </td><td>R$4,172</td><td>R$7,000</td></tr>\n",
       "\t<tr><th scope=row>3</th><td>1</td><td> 73</td><td>2</td><td>NA</td><td>1</td><td>12</td><td>acept    </td><td>not furnished</td><td>R$700  </td><td>R$1,250</td></tr>\n",
       "\t<tr><th scope=row>4</th><td>1</td><td> 19</td><td>1</td><td>NA</td><td>0</td><td>NA</td><td>not acept</td><td>not furnished</td><td>R$0    </td><td>R$1,200</td></tr>\n",
       "\t<tr><th scope=row>5</th><td>1</td><td> 13</td><td>1</td><td>NA</td><td>0</td><td> 2</td><td>acept    </td><td>not furnished</td><td>R$0    </td><td>R$2,200</td></tr>\n",
       "</tbody>\n",
       "</table>\n"
      ],
      "text/latex": [
       "A data.frame: 6 × 10\n",
       "\\begin{tabular}{r|llllllllll}\n",
       "  & city & area & rooms & bathroom & parking.spaces & floor & animal & furniture & hoa & rent.amount\\\\\n",
       "  & <int> & <int> & <int> & <int> & <int> & <int> & <chr> & <chr> & <chr> & <chr>\\\\\n",
       "\\hline\n",
       "\t0 & 1 & 240 & 3 &  3 & 4 & NA & acept     & furnished     & R\\$0     & R\\$8,000\\\\\n",
       "\t1 & 0 &  64 & 2 &  1 & 1 & 10 & acept     & not furnished & R\\$540   & R\\$820  \\\\\n",
       "\t2 & 1 & 443 & 5 &  5 & 4 &  3 & acept     & furnished     & R\\$4,172 & R\\$7,000\\\\\n",
       "\t3 & 1 &  73 & 2 & NA & 1 & 12 & acept     & not furnished & R\\$700   & R\\$1,250\\\\\n",
       "\t4 & 1 &  19 & 1 & NA & 0 & NA & not acept & not furnished & R\\$0     & R\\$1,200\\\\\n",
       "\t5 & 1 &  13 & 1 & NA & 0 &  2 & acept     & not furnished & R\\$0     & R\\$2,200\\\\\n",
       "\\end{tabular}\n"
      ],
      "text/markdown": [
       "\n",
       "A data.frame: 6 × 10\n",
       "\n",
       "| <!--/--> | city &lt;int&gt; | area &lt;int&gt; | rooms &lt;int&gt; | bathroom &lt;int&gt; | parking.spaces &lt;int&gt; | floor &lt;int&gt; | animal &lt;chr&gt; | furniture &lt;chr&gt; | hoa &lt;chr&gt; | rent.amount &lt;chr&gt; |\n",
       "|---|---|---|---|---|---|---|---|---|---|---|\n",
       "| 0 | 1 | 240 | 3 |  3 | 4 | NA | acept     | furnished     | R$0     | R$8,000 |\n",
       "| 1 | 0 |  64 | 2 |  1 | 1 | 10 | acept     | not furnished | R$540   | R$820   |\n",
       "| 2 | 1 | 443 | 5 |  5 | 4 |  3 | acept     | furnished     | R$4,172 | R$7,000 |\n",
       "| 3 | 1 |  73 | 2 | NA | 1 | 12 | acept     | not furnished | R$700   | R$1,250 |\n",
       "| 4 | 1 |  19 | 1 | NA | 0 | NA | not acept | not furnished | R$0     | R$1,200 |\n",
       "| 5 | 1 |  13 | 1 | NA | 0 |  2 | acept     | not furnished | R$0     | R$2,200 |\n",
       "\n"
      ],
      "text/plain": [
       "  city area rooms bathroom parking.spaces floor animal    furniture     hoa    \n",
       "0 1    240  3      3       4              NA    acept     furnished     R$0    \n",
       "1 0     64  2      1       1              10    acept     not furnished R$540  \n",
       "2 1    443  5      5       4               3    acept     furnished     R$4,172\n",
       "3 1     73  2     NA       1              12    acept     not furnished R$700  \n",
       "4 1     19  1     NA       0              NA    not acept not furnished R$0    \n",
       "5 1     13  1     NA       0               2    acept     not furnished R$0    \n",
       "  rent.amount\n",
       "0 R$8,000    \n",
       "1 R$820      \n",
       "2 R$7,000    \n",
       "3 R$1,250    \n",
       "4 R$1,200    \n",
       "5 R$2,200    "
      ]
     },
     "metadata": {},
     "output_type": "display_data"
    }
   ],
   "source": [
    "drop_cols = c(\"property.tax\", \"fire.insurance\", \"total\")\n",
    "data[, drop_cols]  = NULL\n",
    "head(data)"
   ]
  },
  {
   "cell_type": "markdown",
   "metadata": {},
   "source": [
    "## Câu 6"
   ]
  },
  {
   "cell_type": "code",
   "execution_count": 11,
   "metadata": {},
   "outputs": [
    {
     "data": {
      "text/html": [
       "<table>\n",
       "<caption>A data.frame: 6 × 11</caption>\n",
       "<thead>\n",
       "\t<tr><th></th><th scope=col>city</th><th scope=col>area</th><th scope=col>rooms</th><th scope=col>bathroom</th><th scope=col>parking.spaces</th><th scope=col>floor</th><th scope=col>animal</th><th scope=col>furniture</th><th scope=col>hoa</th><th scope=col>rent.amount</th><th scope=col>rent_amount</th></tr>\n",
       "\t<tr><th></th><th scope=col>&lt;int&gt;</th><th scope=col>&lt;int&gt;</th><th scope=col>&lt;int&gt;</th><th scope=col>&lt;int&gt;</th><th scope=col>&lt;int&gt;</th><th scope=col>&lt;int&gt;</th><th scope=col>&lt;chr&gt;</th><th scope=col>&lt;chr&gt;</th><th scope=col>&lt;chr&gt;</th><th scope=col>&lt;chr&gt;</th><th scope=col>&lt;int&gt;</th></tr>\n",
       "</thead>\n",
       "<tbody>\n",
       "\t<tr><th scope=row>1</th><td>1</td><td>240</td><td>3</td><td> 3</td><td>4</td><td>NA</td><td>acept    </td><td>furnished    </td><td>R$0    </td><td>R$8,000</td><td>8000</td></tr>\n",
       "\t<tr><th scope=row>2</th><td>0</td><td> 64</td><td>2</td><td> 1</td><td>1</td><td>10</td><td>acept    </td><td>not furnished</td><td>R$540  </td><td>R$820  </td><td> 820</td></tr>\n",
       "\t<tr><th scope=row>3</th><td>1</td><td>443</td><td>5</td><td> 5</td><td>4</td><td> 3</td><td>acept    </td><td>furnished    </td><td>R$4,172</td><td>R$7,000</td><td>7000</td></tr>\n",
       "\t<tr><th scope=row>4</th><td>1</td><td> 73</td><td>2</td><td>NA</td><td>1</td><td>12</td><td>acept    </td><td>not furnished</td><td>R$700  </td><td>R$1,250</td><td>1250</td></tr>\n",
       "\t<tr><th scope=row>5</th><td>1</td><td> 19</td><td>1</td><td>NA</td><td>0</td><td>NA</td><td>not acept</td><td>not furnished</td><td>R$0    </td><td>R$1,200</td><td>1200</td></tr>\n",
       "\t<tr><th scope=row>6</th><td>1</td><td> 13</td><td>1</td><td>NA</td><td>0</td><td> 2</td><td>acept    </td><td>not furnished</td><td>R$0    </td><td>R$2,200</td><td>2200</td></tr>\n",
       "</tbody>\n",
       "</table>\n"
      ],
      "text/latex": [
       "A data.frame: 6 × 11\n",
       "\\begin{tabular}{r|lllllllllll}\n",
       "  & city & area & rooms & bathroom & parking.spaces & floor & animal & furniture & hoa & rent.amount & rent\\_amount\\\\\n",
       "  & <int> & <int> & <int> & <int> & <int> & <int> & <chr> & <chr> & <chr> & <chr> & <int>\\\\\n",
       "\\hline\n",
       "\t1 & 1 & 240 & 3 &  3 & 4 & NA & acept     & furnished     & R\\$0     & R\\$8,000 & 8000\\\\\n",
       "\t2 & 0 &  64 & 2 &  1 & 1 & 10 & acept     & not furnished & R\\$540   & R\\$820   &  820\\\\\n",
       "\t3 & 1 & 443 & 5 &  5 & 4 &  3 & acept     & furnished     & R\\$4,172 & R\\$7,000 & 7000\\\\\n",
       "\t4 & 1 &  73 & 2 & NA & 1 & 12 & acept     & not furnished & R\\$700   & R\\$1,250 & 1250\\\\\n",
       "\t5 & 1 &  19 & 1 & NA & 0 & NA & not acept & not furnished & R\\$0     & R\\$1,200 & 1200\\\\\n",
       "\t6 & 1 &  13 & 1 & NA & 0 &  2 & acept     & not furnished & R\\$0     & R\\$2,200 & 2200\\\\\n",
       "\\end{tabular}\n"
      ],
      "text/markdown": [
       "\n",
       "A data.frame: 6 × 11\n",
       "\n",
       "| <!--/--> | city &lt;int&gt; | area &lt;int&gt; | rooms &lt;int&gt; | bathroom &lt;int&gt; | parking.spaces &lt;int&gt; | floor &lt;int&gt; | animal &lt;chr&gt; | furniture &lt;chr&gt; | hoa &lt;chr&gt; | rent.amount &lt;chr&gt; | rent_amount &lt;int&gt; |\n",
       "|---|---|---|---|---|---|---|---|---|---|---|---|\n",
       "| 1 | 1 | 240 | 3 |  3 | 4 | NA | acept     | furnished     | R$0     | R$8,000 | 8000 |\n",
       "| 2 | 0 |  64 | 2 |  1 | 1 | 10 | acept     | not furnished | R$540   | R$820   |  820 |\n",
       "| 3 | 1 | 443 | 5 |  5 | 4 |  3 | acept     | furnished     | R$4,172 | R$7,000 | 7000 |\n",
       "| 4 | 1 |  73 | 2 | NA | 1 | 12 | acept     | not furnished | R$700   | R$1,250 | 1250 |\n",
       "| 5 | 1 |  19 | 1 | NA | 0 | NA | not acept | not furnished | R$0     | R$1,200 | 1200 |\n",
       "| 6 | 1 |  13 | 1 | NA | 0 |  2 | acept     | not furnished | R$0     | R$2,200 | 2200 |\n",
       "\n"
      ],
      "text/plain": [
       "  city area rooms bathroom parking.spaces floor animal    furniture     hoa    \n",
       "1 1    240  3      3       4              NA    acept     furnished     R$0    \n",
       "2 0     64  2      1       1              10    acept     not furnished R$540  \n",
       "3 1    443  5      5       4               3    acept     furnished     R$4,172\n",
       "4 1     73  2     NA       1              12    acept     not furnished R$700  \n",
       "5 1     19  1     NA       0              NA    not acept not furnished R$0    \n",
       "6 1     13  1     NA       0               2    acept     not furnished R$0    \n",
       "  rent.amount rent_amount\n",
       "1 R$8,000     8000       \n",
       "2 R$820        820       \n",
       "3 R$7,000     7000       \n",
       "4 R$1,250     1250       \n",
       "5 R$1,200     1200       \n",
       "6 R$2,200     2200       "
      ]
     },
     "metadata": {},
     "output_type": "display_data"
    }
   ],
   "source": [
    "data = mutate(data, rent_amount = as.integer(gsub(\",\",\"\",substring(data$rent.amount, 3))))\n",
    "head(data)"
   ]
  },
  {
   "cell_type": "markdown",
   "metadata": {},
   "source": [
    "## Câu 7"
   ]
  },
  {
   "cell_type": "code",
   "execution_count": 12,
   "metadata": {},
   "outputs": [
    {
     "name": "stderr",
     "output_type": "stream",
     "text": [
      "`summarise()` ungrouping output (override with `.groups` argument)\n",
      "\n"
     ]
    },
    {
     "data": {
      "text/html": [
       "<table>\n",
       "<caption>A tibble: 2 × 2</caption>\n",
       "<thead>\n",
       "\t<tr><th scope=col>furniture</th><th scope=col>count</th></tr>\n",
       "\t<tr><th scope=col>&lt;chr&gt;</th><th scope=col>&lt;int&gt;</th></tr>\n",
       "</thead>\n",
       "<tbody>\n",
       "\t<tr><td>furnished    </td><td>1582</td></tr>\n",
       "\t<tr><td>not furnished</td><td>4498</td></tr>\n",
       "</tbody>\n",
       "</table>\n"
      ],
      "text/latex": [
       "A tibble: 2 × 2\n",
       "\\begin{tabular}{ll}\n",
       " furniture & count\\\\\n",
       " <chr> & <int>\\\\\n",
       "\\hline\n",
       "\t furnished     & 1582\\\\\n",
       "\t not furnished & 4498\\\\\n",
       "\\end{tabular}\n"
      ],
      "text/markdown": [
       "\n",
       "A tibble: 2 × 2\n",
       "\n",
       "| furniture &lt;chr&gt; | count &lt;int&gt; |\n",
       "|---|---|\n",
       "| furnished     | 1582 |\n",
       "| not furnished | 4498 |\n",
       "\n"
      ],
      "text/plain": [
       "  furniture     count\n",
       "1 furnished     1582 \n",
       "2 not furnished 4498 "
      ]
     },
     "metadata": {},
     "output_type": "display_data"
    }
   ],
   "source": [
    "group = group_by(data, furniture)\n",
    "summary = summarize(group, count = n())\n",
    "summary"
   ]
  },
  {
   "cell_type": "code",
   "execution_count": 13,
   "metadata": {},
   "outputs": [
    {
     "name": "stderr",
     "output_type": "stream",
     "text": [
      "`summarise()` regrouping output by 'furniture' (override with `.groups` argument)\n",
      "\n"
     ]
    },
    {
     "data": {
      "text/html": [
       "<table>\n",
       "<caption>A grouped_df: 4 × 3</caption>\n",
       "<thead>\n",
       "\t<tr><th scope=col>furniture</th><th scope=col>animal</th><th scope=col>count</th></tr>\n",
       "\t<tr><th scope=col>&lt;chr&gt;</th><th scope=col>&lt;chr&gt;</th><th scope=col>&lt;int&gt;</th></tr>\n",
       "</thead>\n",
       "<tbody>\n",
       "\t<tr><td>furnished    </td><td>acept    </td><td>1130</td></tr>\n",
       "\t<tr><td>furnished    </td><td>not acept</td><td> 452</td></tr>\n",
       "\t<tr><td>not furnished</td><td>acept    </td><td>3536</td></tr>\n",
       "\t<tr><td>not furnished</td><td>not acept</td><td> 962</td></tr>\n",
       "</tbody>\n",
       "</table>\n"
      ],
      "text/latex": [
       "A grouped\\_df: 4 × 3\n",
       "\\begin{tabular}{lll}\n",
       " furniture & animal & count\\\\\n",
       " <chr> & <chr> & <int>\\\\\n",
       "\\hline\n",
       "\t furnished     & acept     & 1130\\\\\n",
       "\t furnished     & not acept &  452\\\\\n",
       "\t not furnished & acept     & 3536\\\\\n",
       "\t not furnished & not acept &  962\\\\\n",
       "\\end{tabular}\n"
      ],
      "text/markdown": [
       "\n",
       "A grouped_df: 4 × 3\n",
       "\n",
       "| furniture &lt;chr&gt; | animal &lt;chr&gt; | count &lt;int&gt; |\n",
       "|---|---|---|\n",
       "| furnished     | acept     | 1130 |\n",
       "| furnished     | not acept |  452 |\n",
       "| not furnished | acept     | 3536 |\n",
       "| not furnished | not acept |  962 |\n",
       "\n"
      ],
      "text/plain": [
       "  furniture     animal    count\n",
       "1 furnished     acept     1130 \n",
       "2 furnished     not acept  452 \n",
       "3 not furnished acept     3536 \n",
       "4 not furnished not acept  962 "
      ]
     },
     "metadata": {},
     "output_type": "display_data"
    }
   ],
   "source": [
    "group = group_by(data, furniture, animal)\n",
    "summary = summarize(group, count = n())\n",
    "summary"
   ]
  },
  {
   "cell_type": "markdown",
   "metadata": {},
   "source": [
    "## Câu 8"
   ]
  },
  {
   "cell_type": "code",
   "execution_count": 14,
   "metadata": {},
   "outputs": [
    {
     "data": {
      "image/png": "[encoded data removed]",
      "text/plain": [
       "plot without title"
      ]
     },
     "metadata": {
      "image/png": {
       "height": 420,
       "width": 420
      }
     },
     "output_type": "display_data"
    }
   ],
   "source": [
    "ggplot(data = data, aes(x = furniture, y = rent_amount, fill = furniture)) +\n",
    "geom_boxplot() +\n",
    "theme_bw(base_size = 14)"
   ]
  },
  {
   "cell_type": "markdown",
   "metadata": {},
   "source": [
    "## Câu 9"
   ]
  },
  {
   "cell_type": "code",
   "execution_count": 15,
   "metadata": {},
   "outputs": [],
   "source": [
    "data$rent_amount[is.na(data$rent_amount)]<-median(data$rent_amount,na.rm=TRUE)"
   ]
  },
  {
   "cell_type": "markdown",
   "metadata": {},
   "source": [
    "## Câu 10"
   ]
  },
  {
   "cell_type": "code",
   "execution_count": 16,
   "metadata": {},
   "outputs": [
    {
     "data": {
      "image/png": "[encoded data removed]",
      "text/plain": [
       "Plot with title \"area\""
      ]
     },
     "metadata": {
      "image/png": {
       "height": 420,
       "width": 420
      }
     },
     "output_type": "display_data"
    }
   ],
   "source": [
    "boxplot(data$area, main = \"area\", \n",
    "        sub = paste(\"Outlier rows:\", boxplot.stats(data$area)$out))"
   ]
  },
  {
   "cell_type": "code",
   "execution_count": 17,
   "metadata": {},
   "outputs": [
    {
     "name": "stdout",
     "output_type": "stream",
     "text": [
      "[1] \"Data with area outlier: 6080\"\n",
      "[1] \"Data with area outlier: 5835\"\n",
      "[1] \"Number of area outlier rows: 245\"\n"
     ]
    }
   ],
   "source": [
    "outlier_amount = length(boxplot.stats(data$area)$out)\n",
    "row = nrow(data)\n",
    "\n",
    "print(paste(\"Data with area outlier:\", row))\n",
    "print(paste(\"Data with area outlier:\", nrow(data) - outlier_amount))\n",
    "print(paste(\"Number of area outlier rows:\", outlier_amount))"
   ]
  },
  {
   "cell_type": "markdown",
   "metadata": {},
   "source": [
    "## Câu 11"
   ]
  },
  {
   "cell_type": "code",
   "execution_count": null,
   "metadata": {},
   "outputs": [],
   "source": []
  }
 ],
 "metadata": {
  "kernelspec": {
   "display_name": "R",
   "language": "R",
   "name": "ir"
  },
  "language_info": {
   "codemirror_mode": "r",
   "file_extension": ".r",
   "mimetype": "text/x-r-source",
   "name": "R",
   "pygments_lexer": "r",
   "version": "4.0.3"
  }
 },
 "nbformat": 4,
 "nbformat_minor": 4
}
