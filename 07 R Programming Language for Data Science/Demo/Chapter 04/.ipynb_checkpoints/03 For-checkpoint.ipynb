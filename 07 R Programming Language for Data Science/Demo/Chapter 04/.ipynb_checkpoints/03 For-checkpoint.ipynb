{
 "cells": [
  {
   "cell_type": "code",
   "execution_count": 1,
   "metadata": {},
   "outputs": [
    {
     "name": "stdout",
     "output_type": "stream",
     "text": [
      "[1] \"A\"\n",
      "[1] \"B\"\n",
      "[1] \"C\"\n",
      "[1] \"D\"\n",
      "[1] \"E\"\n",
      "[1] \"F\"\n",
      "[1] \"G\"\n",
      "[1] \"H\"\n",
      "[1] \"I\"\n",
      "[1] \"J\"\n"
     ]
    }
   ],
   "source": [
    "v = LETTERS[1:10]\n",
    "for (c in v){\n",
    "    print(c)\n",
    "}"
   ]
  },
  {
   "cell_type": "code",
   "execution_count": 2,
   "metadata": {},
   "outputs": [
    {
     "name": "stdout",
     "output_type": "stream",
     "text": [
      "[1] \"red\"\n",
      "[1] \"green\"\n",
      "[1] \"yellow\"\n",
      "[1] \"blue\"\n",
      "[1] \"black\"\n",
      "[1] \"white\"\n"
     ]
    }
   ],
   "source": [
    "colors = c(\"red\", \"green\", \"yellow\", \"blue\", \"black\", \"white\")\n",
    "for (color in colors){\n",
    "    print(color)\n",
    "}"
   ]
  },
  {
   "cell_type": "code",
   "execution_count": 4,
   "metadata": {},
   "outputs": [
    {
     "name": "stdout",
     "output_type": "stream",
     "text": [
      "[1] \" A B C D E F G H I J\"\n"
     ]
    }
   ],
   "source": [
    "v = LETTERS[1:10]\n",
    "str = \"\"\n",
    "for (c in v){\n",
    "    str = paste(str, c)\n",
    "}\n",
    "print(str)"
   ]
  },
  {
   "cell_type": "code",
   "execution_count": null,
   "metadata": {},
   "outputs": [],
   "source": []
  }
 ],
 "metadata": {
  "kernelspec": {
   "display_name": "R",
   "language": "R",
   "name": "ir"
  },
  "language_info": {
   "codemirror_mode": "r",
   "file_extension": ".r",
   "mimetype": "text/x-r-source",
   "name": "R",
   "pygments_lexer": "r",
   "version": "4.0.3"
  }
 },
 "nbformat": 4,
 "nbformat_minor": 4
}
