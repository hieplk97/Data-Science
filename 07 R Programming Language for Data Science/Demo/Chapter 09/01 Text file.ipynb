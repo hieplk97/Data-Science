{
 "cells": [
  {
   "cell_type": "code",
   "execution_count": 1,
   "metadata": {},
   "outputs": [
    {
     "name": "stdout",
     "output_type": "stream",
     "text": [
      "[1] \"E:/Data Science/07 R Programming Language for Data Science/Demo/Chapter 09\"\n"
     ]
    }
   ],
   "source": [
    "# Get and print current working directory\n",
    "print(getwd())"
   ]
  },
  {
   "cell_type": "code",
   "execution_count": 2,
   "metadata": {},
   "outputs": [
    {
     "name": "stdout",
     "output_type": "stream",
     "text": [
      "[1] \"E:/Data Science/07 R Programming Language for Data Science/Data\"\n"
     ]
    }
   ],
   "source": [
    "# Set current working directory\n",
    "setwd(\"E:\\\\Data Science\\\\07 R Programming Language for Data Science\\\\Data\")\n",
    "print(getwd())"
   ]
  },
  {
   "cell_type": "markdown",
   "metadata": {},
   "source": [
    "# Read text file"
   ]
  },
  {
   "cell_type": "code",
   "execution_count": 3,
   "metadata": {},
   "outputs": [
    {
     "name": "stdout",
     "output_type": "stream",
     "text": [
      "[1] \"These data files are derived by splitting up the data set downloaded from:\"\n",
      "[2] \"https://www.ontario.ca/data/ontario-public-schools-enrolment\"              \n",
      "[3] \"under the Open Government License - Ontario:\"                              \n",
      "[4] \"https://www.ontario.ca/page/open-government-licence-ontario\"               \n"
     ]
    }
   ],
   "source": [
    "content = readLines(\"license.txt\")\n",
    "print(content)"
   ]
  },
  {
   "cell_type": "code",
   "execution_count": 4,
   "metadata": {},
   "outputs": [
    {
     "name": "stdout",
     "output_type": "stream",
     "text": [
      "[1] \"<U+FEFF>Mùa xuân là T<U+1EBF>t tr<U+1ED3>ng cây\"\n",
      "[2] \"Làm cho đ<U+1EA5>t nư<U+1EDB>c càng ngày càng xuân\"\n",
      "[3] \"\"                                    \n"
     ]
    }
   ],
   "source": [
    "content_1 = readLines(\"bai_tho.txt\", encoding = \"UTF-8\")\n",
    "print(content_1)"
   ]
  },
  {
   "cell_type": "markdown",
   "metadata": {},
   "source": [
    "# length"
   ]
  },
  {
   "cell_type": "code",
   "execution_count": 5,
   "metadata": {},
   "outputs": [
    {
     "name": "stdout",
     "output_type": "stream",
     "text": [
      "[1] \"These data files are derived by splitting up the data set downloaded from:\"\n",
      "[2] \"https://www.ontario.ca/data/ontario-public-schools-enrolment\"              \n",
      "[3] \"under the Open Government License - Ontario:\"                              \n",
      "[4] \"https://www.ontario.ca/page/open-government-licence-ontario\"               \n",
      "[1] 4\n",
      "[1] 74 60 44 59\n"
     ]
    }
   ],
   "source": [
    "print(content)\n",
    "print(length(content))\n",
    "print(nchar(content))"
   ]
  },
  {
   "cell_type": "markdown",
   "metadata": {},
   "source": [
    "# size"
   ]
  },
  {
   "cell_type": "code",
   "execution_count": 6,
   "metadata": {},
   "outputs": [
    {
     "name": "stdout",
     "output_type": "stream",
     "text": [
      "[1] 242\n"
     ]
    }
   ],
   "source": [
    "print(file.size(\"license.txt\"))"
   ]
  },
  {
   "cell_type": "markdown",
   "metadata": {},
   "source": [
    "# scan"
   ]
  },
  {
   "cell_type": "code",
   "execution_count": 9,
   "metadata": {},
   "outputs": [
    {
     "name": "stdout",
     "output_type": "stream",
     "text": [
      " [1] \"These\"                                                       \n",
      " [2] \"data\"                                                        \n",
      " [3] \"files\"                                                       \n",
      " [4] \"are\"                                                         \n",
      " [5] \"derived\"                                                     \n",
      " [6] \"by\"                                                          \n",
      " [7] \"splitting\"                                                   \n",
      " [8] \"up\"                                                          \n",
      " [9] \"the\"                                                         \n",
      "[10] \"data\"                                                        \n",
      "[11] \"set\"                                                         \n",
      "[12] \"downloaded\"                                                  \n",
      "[13] \"from:\"                                                       \n",
      "[14] \"https://www.ontario.ca/data/ontario-public-schools-enrolment\"\n",
      "[15] \"under\"                                                       \n",
      "[16] \"the\"                                                         \n",
      "[17] \"Open\"                                                        \n",
      "[18] \"Government\"                                                  \n",
      "[19] \"License\"                                                     \n",
      "[20] \"-\"                                                           \n",
      "[21] \"Ontario:\"                                                    \n",
      "[22] \"https://www.ontario.ca/page/open-government-licence-ontario\" \n"
     ]
    }
   ],
   "source": [
    "content_2 = scan(\"license.txt\", \"\")\n",
    "print(content_2)"
   ]
  },
  {
   "cell_type": "markdown",
   "metadata": {},
   "source": [
    "# read.table"
   ]
  },
  {
   "cell_type": "code",
   "execution_count": 10,
   "metadata": {},
   "outputs": [
    {
     "name": "stdout",
     "output_type": "stream",
     "text": [
      "        V1 V2  V3 V4 V5\n",
      "1     Alex 25 177 57  F\n",
      "2    Lilly 31 163 69  F\n",
      "3     Mark 23 190 83  M\n",
      "4   Oliver 52 179 75  M\n",
      "5   Martha 76 163 70  F\n",
      "6    Lucas 49 183 83  M\n",
      "7 Caroline 26 164 53  F\n"
     ]
    }
   ],
   "source": [
    "df = read.table(\"Table0.txt\")\n",
    "print(df)"
   ]
  },
  {
   "cell_type": "markdown",
   "metadata": {},
   "source": [
    "# write"
   ]
  },
  {
   "cell_type": "code",
   "execution_count": 13,
   "metadata": {},
   "outputs": [
    {
     "name": "stdout",
     "output_type": "stream",
     "text": [
      "[1] \"Hello and welcome\" \"Hello and welcome\" \"Hello and welcome\"\n",
      "[4] \"Hello and welcome\"\n"
     ]
    }
   ],
   "source": [
    "content2 = \"Hello and welcome\"\n",
    "file_name = file(description = \"text.txt\", open = \"a\", encoding = \"UTF-8\")\n",
    "write(content2, file = file_name)\n",
    "content2 = readLines(\"text.txt\")\n",
    "print(content2)"
   ]
  },
  {
   "cell_type": "code",
   "execution_count": 14,
   "metadata": {},
   "outputs": [
    {
     "name": "stdout",
     "output_type": "stream",
     "text": [
      "[1] \"1 2 3\" \"4 5 6\" \"7 8 9\"\n"
     ]
    }
   ],
   "source": [
    "content2 = matrix(c(1:9), nrow=3, ncol=3)\n",
    "write(content2, file = \"matrix.txt\", ncolumns = 3, sep = \" \")\n",
    "content2 = readLines(\"matrix.txt\")\n",
    "print(content2)"
   ]
  },
  {
   "cell_type": "markdown",
   "metadata": {},
   "source": [
    "# write.table"
   ]
  },
  {
   "cell_type": "code",
   "execution_count": 15,
   "metadata": {},
   "outputs": [],
   "source": [
    "write.table(df, file = \"Table0_new.txt\", sep = \"\\t\")"
   ]
  }
 ],
 "metadata": {
  "kernelspec": {
   "display_name": "R",
   "language": "R",
   "name": "ir"
  },
  "language_info": {
   "codemirror_mode": "r",
   "file_extension": ".r",
   "mimetype": "text/x-r-source",
   "name": "R",
   "pygments_lexer": "r",
   "version": "4.0.3"
  }
 },
 "nbformat": 4,
 "nbformat_minor": 4
}
