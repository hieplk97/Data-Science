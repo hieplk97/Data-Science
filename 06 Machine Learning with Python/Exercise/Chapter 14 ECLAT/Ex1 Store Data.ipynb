{
 "cells": [
  {
   "cell_type": "markdown",
   "metadata": {},
   "source": [
    "### Cho dữ liệu store data trong tập tin store_data.\n",
    "### Yêu cầu: Áp dụng thuật toán ECLAT để tính toán mức độ kết hợp giữa các item\n",
    "1. Chuẩn hóa dữ liệu\n",
    "2. Áp dụng ECLAT, Tìm kết quả\n",
    "3. Cho biết 10 nhóm có độ kết hợp cao nhất\n",
    "4. Tìm kiếm thông tin từ kết quả: trong thông tin kết quả có 'milk' không? Nếu có thì 'milk' kết hợp với item nào?\""
   ]
  },
  {
   "cell_type": "code",
   "execution_count": 1,
   "metadata": {},
   "outputs": [],
   "source": [
    "import sys\n",
    "import random\n",
    "import pandas as pd\n",
    "from collections import defaultdict\n",
    "\n",
    "from mlxtend.preprocessing import TransactionEncoder\n",
    "from mlxtend.frequent_patterns import apriori"
   ]
  },
  {
   "cell_type": "code",
   "execution_count": 2,
   "metadata": {},
   "outputs": [],
   "source": [
    "# source code from: http://codegist.net/snippet/python/eclatpy_evertheylen_python\n",
    "def tidlists(transactions):\n",
    "    tl = defaultdict(set)\n",
    "    for tid, t in enumerate(transactions):\n",
    "        for item in t:\n",
    "            tl[item].add(tid)\n",
    "    return list(tl.items())\n",
    "\n",
    "class IntersectAll:\n",
    "    def __and__(self, other):\n",
    "        return other"
   ]
  },
  {
   "cell_type": "code",
   "execution_count": 3,
   "metadata": {},
   "outputs": [],
   "source": [
    "IntersectAll = IntersectAll()"
   ]
  },
  {
   "cell_type": "code",
   "execution_count": 4,
   "metadata": {},
   "outputs": [],
   "source": [
    "def eclat(items, minsup=0, minlen=1):\n",
    "    frequent_itemsets = {(): IntersectAll}\n",
    "    def recurse(items, prefix):\n",
    "        while len(items) > 0:\n",
    "            item, item_tidlist = items.pop()\n",
    "            l = prefix + (item,) # l is the (ordered) tuple of items we are looking\n",
    "            new_tidlist = frequent_itemsets[prefix] & item_tidlist\n",
    "            if len(new_tidlist) >= minsup: # add frequent_itemsets to the new frequency\n",
    "                frequent_itemsets[l] = new_tidlist\n",
    "                    \n",
    "            # define the new l-conditional database\n",
    "            new_items = []\n",
    "            for new_item, _item_tidlist in items:\n",
    "                new_item_tidlist = _item_tidlist & item_tidlist\n",
    "                if len(new_item_tidlist) >= minsup:\n",
    "                    new_items.append((new_item, new_item_tidlist))\n",
    "                    \n",
    "            # recurse, with l as prefix\n",
    "            recurse(new_items, l)\n",
    "            \n",
    "    recurse(items.copy(), ())\n",
    "    return {k: len(v) for k, v in frequent_itemsets.items() if len(k) >= minlen}"
   ]
  },
  {
   "cell_type": "code",
   "execution_count": 5,
   "metadata": {},
   "outputs": [],
   "source": [
    "# load dữ liệu\n",
    "store_data = pd.read_csv('../../Data/store_data.csv', header= None)"
   ]
  },
  {
   "cell_type": "code",
   "execution_count": 6,
   "metadata": {},
   "outputs": [
    {
     "data": {
      "text/html": [
       "<div>\n",
       "<style scoped>\n",
       "    .dataframe tbody tr th:only-of-type {\n",
       "        vertical-align: middle;\n",
       "    }\n",
       "\n",
       "    .dataframe tbody tr th {\n",
       "        vertical-align: top;\n",
       "    }\n",
       "\n",
       "    .dataframe thead th {\n",
       "        text-align: right;\n",
       "    }\n",
       "</style>\n",
       "<table border=\"1\" class=\"dataframe\">\n",
       "  <thead>\n",
       "    <tr style=\"text-align: right;\">\n",
       "      <th></th>\n",
       "      <th>0</th>\n",
       "      <th>1</th>\n",
       "      <th>2</th>\n",
       "      <th>3</th>\n",
       "      <th>4</th>\n",
       "      <th>5</th>\n",
       "      <th>6</th>\n",
       "      <th>7</th>\n",
       "      <th>8</th>\n",
       "      <th>9</th>\n",
       "      <th>10</th>\n",
       "      <th>11</th>\n",
       "      <th>12</th>\n",
       "      <th>13</th>\n",
       "      <th>14</th>\n",
       "      <th>15</th>\n",
       "      <th>16</th>\n",
       "      <th>17</th>\n",
       "      <th>18</th>\n",
       "      <th>19</th>\n",
       "    </tr>\n",
       "  </thead>\n",
       "  <tbody>\n",
       "    <tr>\n",
       "      <th>0</th>\n",
       "      <td>shrimp</td>\n",
       "      <td>almonds</td>\n",
       "      <td>avocado</td>\n",
       "      <td>vegetables mix</td>\n",
       "      <td>green grapes</td>\n",
       "      <td>whole weat flour</td>\n",
       "      <td>yams</td>\n",
       "      <td>cottage cheese</td>\n",
       "      <td>energy drink</td>\n",
       "      <td>tomato juice</td>\n",
       "      <td>low fat yogurt</td>\n",
       "      <td>green tea</td>\n",
       "      <td>honey</td>\n",
       "      <td>salad</td>\n",
       "      <td>mineral water</td>\n",
       "      <td>salmon</td>\n",
       "      <td>antioxydant juice</td>\n",
       "      <td>frozen smoothie</td>\n",
       "      <td>spinach</td>\n",
       "      <td>olive oil</td>\n",
       "    </tr>\n",
       "    <tr>\n",
       "      <th>1</th>\n",
       "      <td>burgers</td>\n",
       "      <td>meatballs</td>\n",
       "      <td>eggs</td>\n",
       "      <td>NaN</td>\n",
       "      <td>NaN</td>\n",
       "      <td>NaN</td>\n",
       "      <td>NaN</td>\n",
       "      <td>NaN</td>\n",
       "      <td>NaN</td>\n",
       "      <td>NaN</td>\n",
       "      <td>NaN</td>\n",
       "      <td>NaN</td>\n",
       "      <td>NaN</td>\n",
       "      <td>NaN</td>\n",
       "      <td>NaN</td>\n",
       "      <td>NaN</td>\n",
       "      <td>NaN</td>\n",
       "      <td>NaN</td>\n",
       "      <td>NaN</td>\n",
       "      <td>NaN</td>\n",
       "    </tr>\n",
       "    <tr>\n",
       "      <th>2</th>\n",
       "      <td>chutney</td>\n",
       "      <td>NaN</td>\n",
       "      <td>NaN</td>\n",
       "      <td>NaN</td>\n",
       "      <td>NaN</td>\n",
       "      <td>NaN</td>\n",
       "      <td>NaN</td>\n",
       "      <td>NaN</td>\n",
       "      <td>NaN</td>\n",
       "      <td>NaN</td>\n",
       "      <td>NaN</td>\n",
       "      <td>NaN</td>\n",
       "      <td>NaN</td>\n",
       "      <td>NaN</td>\n",
       "      <td>NaN</td>\n",
       "      <td>NaN</td>\n",
       "      <td>NaN</td>\n",
       "      <td>NaN</td>\n",
       "      <td>NaN</td>\n",
       "      <td>NaN</td>\n",
       "    </tr>\n",
       "    <tr>\n",
       "      <th>3</th>\n",
       "      <td>turkey</td>\n",
       "      <td>avocado</td>\n",
       "      <td>NaN</td>\n",
       "      <td>NaN</td>\n",
       "      <td>NaN</td>\n",
       "      <td>NaN</td>\n",
       "      <td>NaN</td>\n",
       "      <td>NaN</td>\n",
       "      <td>NaN</td>\n",
       "      <td>NaN</td>\n",
       "      <td>NaN</td>\n",
       "      <td>NaN</td>\n",
       "      <td>NaN</td>\n",
       "      <td>NaN</td>\n",
       "      <td>NaN</td>\n",
       "      <td>NaN</td>\n",
       "      <td>NaN</td>\n",
       "      <td>NaN</td>\n",
       "      <td>NaN</td>\n",
       "      <td>NaN</td>\n",
       "    </tr>\n",
       "    <tr>\n",
       "      <th>4</th>\n",
       "      <td>mineral water</td>\n",
       "      <td>milk</td>\n",
       "      <td>energy bar</td>\n",
       "      <td>whole wheat rice</td>\n",
       "      <td>green tea</td>\n",
       "      <td>NaN</td>\n",
       "      <td>NaN</td>\n",
       "      <td>NaN</td>\n",
       "      <td>NaN</td>\n",
       "      <td>NaN</td>\n",
       "      <td>NaN</td>\n",
       "      <td>NaN</td>\n",
       "      <td>NaN</td>\n",
       "      <td>NaN</td>\n",
       "      <td>NaN</td>\n",
       "      <td>NaN</td>\n",
       "      <td>NaN</td>\n",
       "      <td>NaN</td>\n",
       "      <td>NaN</td>\n",
       "      <td>NaN</td>\n",
       "    </tr>\n",
       "  </tbody>\n",
       "</table>\n",
       "</div>"
      ],
      "text/plain": [
       "              0          1           2                 3             4   \\\n",
       "0         shrimp    almonds     avocado    vegetables mix  green grapes   \n",
       "1        burgers  meatballs        eggs               NaN           NaN   \n",
       "2        chutney        NaN         NaN               NaN           NaN   \n",
       "3         turkey    avocado         NaN               NaN           NaN   \n",
       "4  mineral water       milk  energy bar  whole wheat rice     green tea   \n",
       "\n",
       "                 5     6               7             8             9   \\\n",
       "0  whole weat flour  yams  cottage cheese  energy drink  tomato juice   \n",
       "1               NaN   NaN             NaN           NaN           NaN   \n",
       "2               NaN   NaN             NaN           NaN           NaN   \n",
       "3               NaN   NaN             NaN           NaN           NaN   \n",
       "4               NaN   NaN             NaN           NaN           NaN   \n",
       "\n",
       "               10         11     12     13             14      15  \\\n",
       "0  low fat yogurt  green tea  honey  salad  mineral water  salmon   \n",
       "1             NaN        NaN    NaN    NaN            NaN     NaN   \n",
       "2             NaN        NaN    NaN    NaN            NaN     NaN   \n",
       "3             NaN        NaN    NaN    NaN            NaN     NaN   \n",
       "4             NaN        NaN    NaN    NaN            NaN     NaN   \n",
       "\n",
       "                  16               17       18         19  \n",
       "0  antioxydant juice  frozen smoothie  spinach  olive oil  \n",
       "1                NaN              NaN      NaN        NaN  \n",
       "2                NaN              NaN      NaN        NaN  \n",
       "3                NaN              NaN      NaN        NaN  \n",
       "4                NaN              NaN      NaN        NaN  "
      ]
     },
     "execution_count": 6,
     "metadata": {},
     "output_type": "execute_result"
    }
   ],
   "source": [
    "store_data.head()"
   ]
  },
  {
   "cell_type": "code",
   "execution_count": 7,
   "metadata": {},
   "outputs": [],
   "source": [
    "records = []\n",
    "for i in range(0, store_data.shape[0]):\n",
    "    records.append([str(store_data.values[i,j]) for j in range(0, store_data.shape[1])])"
   ]
  },
  {
   "cell_type": "code",
   "execution_count": 8,
   "metadata": {},
   "outputs": [
    {
     "data": {
      "text/plain": [
       "['shrimp',\n",
       " 'almonds',\n",
       " 'avocado',\n",
       " 'vegetables mix',\n",
       " 'green grapes',\n",
       " 'whole weat flour',\n",
       " 'yams',\n",
       " 'cottage cheese',\n",
       " 'energy drink',\n",
       " 'tomato juice',\n",
       " 'low fat yogurt',\n",
       " 'green tea',\n",
       " 'honey',\n",
       " 'salad',\n",
       " 'mineral water',\n",
       " 'salmon',\n",
       " 'antioxydant juice',\n",
       " 'frozen smoothie',\n",
       " 'spinach',\n",
       " 'olive oil']"
      ]
     },
     "execution_count": 8,
     "metadata": {},
     "output_type": "execute_result"
    }
   ],
   "source": [
    "records[0]"
   ]
  },
  {
   "cell_type": "code",
   "execution_count": 9,
   "metadata": {},
   "outputs": [
    {
     "data": {
      "text/plain": [
       "'shrimp'"
      ]
     },
     "execution_count": 9,
     "metadata": {},
     "output_type": "execute_result"
    }
   ],
   "source": [
    "tl = tidlists(records)\n",
    "tl[0][0]"
   ]
  },
  {
   "cell_type": "code",
   "execution_count": 10,
   "metadata": {},
   "outputs": [
    {
     "data": {
      "text/plain": [
       "121"
      ]
     },
     "execution_count": 10,
     "metadata": {},
     "output_type": "execute_result"
    }
   ],
   "source": [
    "len(tl)"
   ]
  },
  {
   "cell_type": "code",
   "execution_count": 11,
   "metadata": {},
   "outputs": [
    {
     "name": "stdout",
     "output_type": "stream",
     "text": [
      "23\n"
     ]
    }
   ],
   "source": [
    "for i in range(len(tl)-1):\n",
    "    if tl[i][0] == 'nan':\n",
    "        print(i)\n",
    "        del tl[i]"
   ]
  },
  {
   "cell_type": "code",
   "execution_count": 12,
   "metadata": {},
   "outputs": [],
   "source": [
    "result = eclat(tl, minsup=60, minlen=3)"
   ]
  },
  {
   "cell_type": "code",
   "execution_count": 13,
   "metadata": {},
   "outputs": [
    {
     "data": {
      "text/plain": [
       "41"
      ]
     },
     "execution_count": 13,
     "metadata": {},
     "output_type": "execute_result"
    }
   ],
   "source": [
    "len(result)"
   ]
  },
  {
   "cell_type": "code",
   "execution_count": 14,
   "metadata": {},
   "outputs": [
    {
     "data": {
      "text/plain": [
       "dict"
      ]
     },
     "execution_count": 14,
     "metadata": {},
     "output_type": "execute_result"
    }
   ],
   "source": [
    "type(result)"
   ]
  },
  {
   "cell_type": "code",
   "execution_count": 15,
   "metadata": {},
   "outputs": [
    {
     "data": {
      "text/plain": [
       "[(('ground beef', 'chocolate', 'spaghetti'), 69),\n",
       " (('ground beef', 'chocolate', 'mineral water'), 82),\n",
       " (('ground beef', 'spaghetti', 'frozen vegetables'), 65),\n",
       " (('ground beef', 'spaghetti', 'milk'), 73),\n",
       " (('ground beef', 'spaghetti', 'eggs'), 67),\n",
       " (('ground beef', 'spaghetti', 'mineral water'), 128),\n",
       " (('ground beef', 'frozen vegetables', 'mineral water'), 69),\n",
       " (('ground beef', 'milk', 'mineral water'), 83),\n",
       " (('ground beef', 'eggs', 'mineral water'), 76),\n",
       " (('pancakes', 'chocolate', 'mineral water'), 70)]"
      ]
     },
     "execution_count": 15,
     "metadata": {},
     "output_type": "execute_result"
    }
   ],
   "source": [
    "# get 10 first elements\n",
    "list(result.items())[:10]"
   ]
  },
  {
   "cell_type": "code",
   "execution_count": 16,
   "metadata": {},
   "outputs": [
    {
     "data": {
      "text/plain": [
       "[(60, ('chocolate', 'frozen vegetables', 'milk')),\n",
       " (60, ('chocolate', 'spaghetti', 'french fries')),\n",
       " (60, ('spaghetti', 'french fries', 'eggs')),\n",
       " (62, ('chocolate', 'olive oil', 'mineral water')),\n",
       " (62, ('french fries', 'milk', 'mineral water')),\n",
       " (62, ('spaghetti', 'frozen vegetables', 'milk')),\n",
       " (62, ('spaghetti', 'mineral water', 'green tea')),\n",
       " (63, ('chocolate', 'french fries', 'eggs')),\n",
       " (64, ('chocolate', 'french fries', 'mineral water')),\n",
       " (64, ('milk', 'olive oil', 'mineral water'))]"
      ]
     },
     "execution_count": 16,
     "metadata": {},
     "output_type": "execute_result"
    }
   ],
   "source": [
    "sorted_d = sorted((value, key) for (key,value) in result.items())\n",
    "sorted_d[:10]"
   ]
  },
  {
   "cell_type": "code",
   "execution_count": 17,
   "metadata": {},
   "outputs": [
    {
     "data": {
      "text/plain": [
       "[(83, ('ground beef', 'milk', 'mineral water')),\n",
       " (86, ('pancakes', 'spaghetti', 'mineral water')),\n",
       " (90, ('spaghetti', 'frozen vegetables', 'mineral water')),\n",
       " (98, ('milk', 'eggs', 'mineral water')),\n",
       " (101, ('chocolate', 'eggs', 'mineral water')),\n",
       " (105, ('chocolate', 'milk', 'mineral water')),\n",
       " (107, ('spaghetti', 'eggs', 'mineral water')),\n",
       " (118, ('spaghetti', 'milk', 'mineral water')),\n",
       " (119, ('chocolate', 'spaghetti', 'mineral water')),\n",
       " (128, ('ground beef', 'spaghetti', 'mineral water'))]"
      ]
     },
     "execution_count": 17,
     "metadata": {},
     "output_type": "execute_result"
    }
   ],
   "source": [
    "sorted_d[len(sorted_d)-10:]"
   ]
  },
  {
   "cell_type": "code",
   "execution_count": 18,
   "metadata": {},
   "outputs": [
    {
     "name": "stdout",
     "output_type": "stream",
     "text": [
      "('ground beef', 'spaghetti', 'milk') : 73\n",
      "('ground beef', 'milk', 'mineral water') : 83\n",
      "('chocolate', 'spaghetti', 'milk') : 82\n",
      "('chocolate', 'frozen vegetables', 'milk') : 60\n",
      "('chocolate', 'milk', 'eggs') : 69\n",
      "('chocolate', 'milk', 'mineral water') : 105\n",
      "('spaghetti', 'frozen vegetables', 'milk') : 62\n",
      "('spaghetti', 'milk', 'eggs') : 67\n",
      "('spaghetti', 'milk', 'mineral water') : 118\n",
      "('frozen vegetables', 'milk', 'mineral water') : 83\n",
      "('soup', 'milk', 'mineral water') : 64\n",
      "('french fries', 'milk', 'mineral water') : 62\n",
      "('milk', 'eggs', 'mineral water') : 98\n",
      "('milk', 'olive oil', 'mineral water') : 64\n"
     ]
    }
   ],
   "source": [
    "# \"Có Milk không? nó kết hợp với item nào?\"\n",
    "for k, v in result.items():\n",
    "    if \"milk\" in k:\n",
    "        print(k, \":\", v)"
   ]
  },
  {
   "cell_type": "code",
   "execution_count": null,
   "metadata": {},
   "outputs": [],
   "source": []
  }
 ],
 "metadata": {
  "kernelspec": {
   "display_name": "Python 3",
   "language": "python",
   "name": "python3"
  },
  "language_info": {
   "codemirror_mode": {
    "name": "ipython",
    "version": 3
   },
   "file_extension": ".py",
   "mimetype": "text/x-python",
   "name": "python",
   "nbconvert_exporter": "python",
   "pygments_lexer": "ipython3",
   "version": "3.7.9"
  }
 },
 "nbformat": 4,
 "nbformat_minor": 4
}
