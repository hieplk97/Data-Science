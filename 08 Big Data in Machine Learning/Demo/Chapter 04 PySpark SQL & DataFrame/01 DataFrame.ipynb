{
 "cells": [
  {
   "cell_type": "code",
   "execution_count": 1,
   "id": "unauthorized-communist",
   "metadata": {},
   "outputs": [],
   "source": [
    "import findspark\n",
    "findspark.init()"
   ]
  },
  {
   "cell_type": "code",
   "execution_count": 2,
   "id": "armed-replication",
   "metadata": {},
   "outputs": [],
   "source": [
    "from pyspark import SparkContext\n",
    "from pyspark.sql import Row, SQLContext, SparkSession"
   ]
  },
  {
   "cell_type": "code",
   "execution_count": 3,
   "id": "comprehensive-interaction",
   "metadata": {},
   "outputs": [],
   "source": [
    "sc = SparkContext()"
   ]
  },
  {
   "cell_type": "code",
   "execution_count": 4,
   "id": "cutting-confidence",
   "metadata": {},
   "outputs": [],
   "source": [
    "sqlContext = SQLContext(sc)"
   ]
  },
  {
   "cell_type": "markdown",
   "id": "bridal-candy",
   "metadata": {},
   "source": [
    "### Từ RDD"
   ]
  },
  {
   "cell_type": "code",
   "execution_count": 5,
   "id": "secure-exclusive",
   "metadata": {
    "tags": []
   },
   "outputs": [],
   "source": [
    "lst = [(\"John\", 10), (\"Lyna\", 9), (\"Samantha\", 8), (\"Tony\", 10)]\n",
    "rdd = sc.parallelize(lst)\n",
    "people = rdd.map(lambda x: Row(name = x[0], mark = int(x[1])))\n",
    "schema_people = sqlContext.createDataFrame(people)"
   ]
  },
  {
   "cell_type": "code",
   "execution_count": 6,
   "id": "considerable-heavy",
   "metadata": {},
   "outputs": [
    {
     "data": {
      "text/plain": [
       "DataFrame[name: string, mark: bigint]"
      ]
     },
     "execution_count": 6,
     "metadata": {},
     "output_type": "execute_result"
    }
   ],
   "source": [
    "schema_people"
   ]
  },
  {
   "cell_type": "code",
   "execution_count": 7,
   "id": "limiting-chest",
   "metadata": {},
   "outputs": [],
   "source": [
    "spark = SparkSession(sc)"
   ]
  },
  {
   "cell_type": "markdown",
   "id": "graduate-flour",
   "metadata": {},
   "source": [
    "### Từ hdfs csv file:"
   ]
  },
  {
   "cell_type": "code",
   "execution_count": 8,
   "id": "fundamental-quantum",
   "metadata": {},
   "outputs": [],
   "source": [
    "file_name = 'hdfs://bigdata.laptrinhpython.net:19000/people.csv'"
   ]
  },
  {
   "cell_type": "code",
   "execution_count": 9,
   "id": "confused-cabin",
   "metadata": {},
   "outputs": [
    {
     "name": "stdout",
     "output_type": "stream",
     "text": [
      "+---+---------+--------------+------+-------------+\n",
      "|_c0|person_id|          name|   sex|date of birth|\n",
      "+---+---------+--------------+------+-------------+\n",
      "|  0|      100|Penelope Lewis|female|   1990-08-31|\n",
      "|  1|      101| David Anthony|  male|   1971-10-14|\n",
      "|  2|      102|     Ida Shipp|female|   1962-05-24|\n",
      "|  3|      103|  Joanna Moore|female|   2017-03-10|\n",
      "|  4|      104|Lisandra Ortiz|female|   2020-08-05|\n",
      "+---+---------+--------------+------+-------------+\n",
      "only showing top 5 rows\n",
      "\n"
     ]
    }
   ],
   "source": [
    "people = spark.read.csv(file_name, inferSchema=True, header=True)\n",
    "people.show(5)"
   ]
  },
  {
   "cell_type": "markdown",
   "id": "proved-acrobat",
   "metadata": {},
   "source": [
    "### Từ hdsf jsonfile"
   ]
  },
  {
   "cell_type": "code",
   "execution_count": 10,
   "id": "possible-issue",
   "metadata": {},
   "outputs": [],
   "source": [
    "file_name = 'hdfs://bigdata.laptrinhpython.net:19000/data.json'"
   ]
  },
  {
   "cell_type": "code",
   "execution_count": 11,
   "id": "changing-credits",
   "metadata": {},
   "outputs": [
    {
     "name": "stdout",
     "output_type": "stream",
     "text": [
      "+----------+--------------------+-------------+--------------------+--------------------+-------------------+\n",
      "|        id|            location|sampling_rate|              sensor|    sensordatavalues|          timestamp|\n",
      "+----------+--------------------+-------------+--------------------+--------------------+-------------------+\n",
      "|5810744647|{112.6, FR, 0, 11...|         null|{22349, 1, {14, N...|[{12340422762, 1....|2019-12-20 03:22:01|\n",
      "|5810744646|{35.2, DE, 0, 107...|         null|{21149, 7, {9, va...|[{12340422760, 9....|2019-12-20 03:22:01|\n",
      "|5810744645|{51.0, DE, 0, 293...|         null|{5811, 1, {14, No...|[{12340422757, 6....|2019-12-20 03:22:01|\n",
      "|5810744644|{34.4, BE, 0, 441...|         null|{8765, 1, {14, No...|[{12340422756, 3....|2019-12-20 03:22:01|\n",
      "|5810744643|{5.0, FR, 0, 1100...|         null|{21693, 1, {14, N...|[{12340422754, 7....|2019-12-20 03:22:01|\n",
      "+----------+--------------------+-------------+--------------------+--------------------+-------------------+\n",
      "only showing top 5 rows\n",
      "\n"
     ]
    }
   ],
   "source": [
    "data = spark.read.json(file_name)\n",
    "data.show(5)"
   ]
  },
  {
   "cell_type": "markdown",
   "id": "prescription-bulgaria",
   "metadata": {},
   "source": [
    "## Thao tác trên DataFrame"
   ]
  },
  {
   "cell_type": "markdown",
   "id": "practical-italy",
   "metadata": {},
   "source": [
    "### Xem dữ liệu của các column"
   ]
  },
  {
   "cell_type": "code",
   "execution_count": 12,
   "id": "moderate-fancy",
   "metadata": {},
   "outputs": [
    {
     "name": "stdout",
     "output_type": "stream",
     "text": [
      "root\n",
      " |-- id: integer (nullable = true)\n",
      " |-- gender: string (nullable = true)\n",
      " |-- height: integer (nullable = true)\n",
      " |-- weight: integer (nullable = true)\n",
      " |-- bmi: double (nullable = true)\n",
      " |-- age: integer (nullable = true)\n",
      " |-- bmc: integer (nullable = true)\n",
      " |-- bmd: double (nullable = true)\n",
      " |-- fat: integer (nullable = true)\n",
      " |-- lean: integer (nullable = true)\n",
      " |-- pcfat: double (nullable = true)\n",
      "\n"
     ]
    }
   ],
   "source": [
    "df = spark.read.csv('../../Data/Obesity_data.csv',inferSchema=True, header=True)\n",
    "df.printSchema()"
   ]
  },
  {
   "cell_type": "code",
   "execution_count": 13,
   "id": "cathedral-oxford",
   "metadata": {},
   "outputs": [
    {
     "data": {
      "text/html": [
       "<div>\n",
       "<style scoped>\n",
       "    .dataframe tbody tr th:only-of-type {\n",
       "        vertical-align: middle;\n",
       "    }\n",
       "\n",
       "    .dataframe tbody tr th {\n",
       "        vertical-align: top;\n",
       "    }\n",
       "\n",
       "    .dataframe thead th {\n",
       "        text-align: right;\n",
       "    }\n",
       "</style>\n",
       "<table border=\"1\" class=\"dataframe\">\n",
       "  <thead>\n",
       "    <tr style=\"text-align: right;\">\n",
       "      <th></th>\n",
       "      <th>summary</th>\n",
       "      <th>id</th>\n",
       "      <th>gender</th>\n",
       "      <th>height</th>\n",
       "      <th>weight</th>\n",
       "      <th>bmi</th>\n",
       "      <th>age</th>\n",
       "      <th>bmc</th>\n",
       "      <th>bmd</th>\n",
       "      <th>fat</th>\n",
       "      <th>lean</th>\n",
       "      <th>pcfat</th>\n",
       "    </tr>\n",
       "  </thead>\n",
       "  <tbody>\n",
       "    <tr>\n",
       "      <th>0</th>\n",
       "      <td>count</td>\n",
       "      <td>1217</td>\n",
       "      <td>1217</td>\n",
       "      <td>1217</td>\n",
       "      <td>1217</td>\n",
       "      <td>1217</td>\n",
       "      <td>1217</td>\n",
       "      <td>1217</td>\n",
       "      <td>1217</td>\n",
       "      <td>1217</td>\n",
       "      <td>1217</td>\n",
       "      <td>1217</td>\n",
       "    </tr>\n",
       "    <tr>\n",
       "      <th>1</th>\n",
       "      <td>mean</td>\n",
       "      <td>614.518488085456</td>\n",
       "      <td>None</td>\n",
       "      <td>156.7239112571898</td>\n",
       "      <td>55.14379622021364</td>\n",
       "      <td>22.39539852095314</td>\n",
       "      <td>47.15201314708299</td>\n",
       "      <td>1724.9145439605588</td>\n",
       "      <td>1.0087428101889888</td>\n",
       "      <td>17288.436318816763</td>\n",
       "      <td>35463.1133935908</td>\n",
       "      <td>31.604785903401805</td>\n",
       "    </tr>\n",
       "    <tr>\n",
       "      <th>2</th>\n",
       "      <td>stddev</td>\n",
       "      <td>354.4705719473191</td>\n",
       "      <td>None</td>\n",
       "      <td>7.9777256820417035</td>\n",
       "      <td>9.404988688010084</td>\n",
       "      <td>3.0564419447471356</td>\n",
       "      <td>17.27550739904804</td>\n",
       "      <td>363.3490251436472</td>\n",
       "      <td>0.1131224610778956</td>\n",
       "      <td>5214.398664940806</td>\n",
       "      <td>7027.546493084218</td>\n",
       "      <td>7.182861527055848</td>\n",
       "    </tr>\n",
       "    <tr>\n",
       "      <th>3</th>\n",
       "      <td>min</td>\n",
       "      <td>1</td>\n",
       "      <td>F</td>\n",
       "      <td>136</td>\n",
       "      <td>34</td>\n",
       "      <td>14.5</td>\n",
       "      <td>13</td>\n",
       "      <td>695</td>\n",
       "      <td>0.65</td>\n",
       "      <td>4277</td>\n",
       "      <td>19136</td>\n",
       "      <td>9.2</td>\n",
       "    </tr>\n",
       "    <tr>\n",
       "      <th>4</th>\n",
       "      <td>max</td>\n",
       "      <td>1227</td>\n",
       "      <td>M</td>\n",
       "      <td>185</td>\n",
       "      <td>95</td>\n",
       "      <td>37.1</td>\n",
       "      <td>88</td>\n",
       "      <td>3040</td>\n",
       "      <td>1.35</td>\n",
       "      <td>40825</td>\n",
       "      <td>63059</td>\n",
       "      <td>48.4</td>\n",
       "    </tr>\n",
       "  </tbody>\n",
       "</table>\n",
       "</div>"
      ],
      "text/plain": [
       "  summary                 id gender              height             weight  \\\n",
       "0   count               1217   1217                1217               1217   \n",
       "1    mean   614.518488085456   None   156.7239112571898  55.14379622021364   \n",
       "2  stddev  354.4705719473191   None  7.9777256820417035  9.404988688010084   \n",
       "3     min                  1      F                 136                 34   \n",
       "4     max               1227      M                 185                 95   \n",
       "\n",
       "                  bmi                age                 bmc  \\\n",
       "0                1217               1217                1217   \n",
       "1   22.39539852095314  47.15201314708299  1724.9145439605588   \n",
       "2  3.0564419447471356  17.27550739904804   363.3490251436472   \n",
       "3                14.5                 13                 695   \n",
       "4                37.1                 88                3040   \n",
       "\n",
       "                  bmd                 fat               lean  \\\n",
       "0                1217                1217               1217   \n",
       "1  1.0087428101889888  17288.436318816763   35463.1133935908   \n",
       "2  0.1131224610778956   5214.398664940806  7027.546493084218   \n",
       "3                0.65                4277              19136   \n",
       "4                1.35               40825              63059   \n",
       "\n",
       "                pcfat  \n",
       "0                1217  \n",
       "1  31.604785903401805  \n",
       "2   7.182861527055848  \n",
       "3                 9.2  \n",
       "4                48.4  "
      ]
     },
     "execution_count": 13,
     "metadata": {},
     "output_type": "execute_result"
    }
   ],
   "source": [
    "df.describe().toPandas()"
   ]
  },
  {
   "cell_type": "code",
   "execution_count": 14,
   "id": "happy-buyer",
   "metadata": {},
   "outputs": [
    {
     "name": "stdout",
     "output_type": "stream",
     "text": [
      "+-------+------------------+-----------------+\n",
      "|summary|            height|           weight|\n",
      "+-------+------------------+-----------------+\n",
      "|  count|              1217|             1217|\n",
      "|   mean| 156.7239112571898|55.14379622021364|\n",
      "| stddev|7.9777256820417035|9.404988688010084|\n",
      "|    min|               136|               34|\n",
      "|    max|               185|               95|\n",
      "+-------+------------------+-----------------+\n",
      "\n"
     ]
    }
   ],
   "source": [
    "df.describe(\"height\", \"weight\").show()"
   ]
  },
  {
   "cell_type": "markdown",
   "id": "novel-force",
   "metadata": {},
   "source": [
    "### Hiển thị dữ liệu thống kê theo crosstab"
   ]
  },
  {
   "cell_type": "code",
   "execution_count": 15,
   "id": "annoying-saturday",
   "metadata": {},
   "outputs": [
    {
     "name": "stdout",
     "output_type": "stream",
     "text": [
      "+---+------+------+------+\n",
      "| id|gender|height|weight|\n",
      "+---+------+------+------+\n",
      "|  1|     F|   150|    49|\n",
      "|  2|     M|   165|    52|\n",
      "|  3|     F|   157|    57|\n",
      "+---+------+------+------+\n",
      "only showing top 3 rows\n",
      "\n"
     ]
    }
   ],
   "source": [
    "df_sub = df.select(\"id\", \"gender\", \"height\", \"weight\")\n",
    "df_sub.show(3)"
   ]
  },
  {
   "cell_type": "code",
   "execution_count": 16,
   "id": "recreational-celtic",
   "metadata": {},
   "outputs": [
    {
     "data": {
      "text/html": [
       "<div>\n",
       "<style scoped>\n",
       "    .dataframe tbody tr th:only-of-type {\n",
       "        vertical-align: middle;\n",
       "    }\n",
       "\n",
       "    .dataframe tbody tr th {\n",
       "        vertical-align: top;\n",
       "    }\n",
       "\n",
       "    .dataframe thead th {\n",
       "        text-align: right;\n",
       "    }\n",
       "</style>\n",
       "<table border=\"1\" class=\"dataframe\">\n",
       "  <thead>\n",
       "    <tr style=\"text-align: right;\">\n",
       "      <th></th>\n",
       "      <th>height_gender</th>\n",
       "      <th>F</th>\n",
       "      <th>M</th>\n",
       "    </tr>\n",
       "  </thead>\n",
       "  <tbody>\n",
       "    <tr>\n",
       "      <th>0</th>\n",
       "      <td>138</td>\n",
       "      <td>2</td>\n",
       "      <td>0</td>\n",
       "    </tr>\n",
       "    <tr>\n",
       "      <th>1</th>\n",
       "      <td>170</td>\n",
       "      <td>1</td>\n",
       "      <td>24</td>\n",
       "    </tr>\n",
       "    <tr>\n",
       "      <th>2</th>\n",
       "      <td>142</td>\n",
       "      <td>11</td>\n",
       "      <td>0</td>\n",
       "    </tr>\n",
       "    <tr>\n",
       "      <th>3</th>\n",
       "      <td>153</td>\n",
       "      <td>73</td>\n",
       "      <td>1</td>\n",
       "    </tr>\n",
       "    <tr>\n",
       "      <th>4</th>\n",
       "      <td>174</td>\n",
       "      <td>0</td>\n",
       "      <td>2</td>\n",
       "    </tr>\n",
       "    <tr>\n",
       "      <th>5</th>\n",
       "      <td>185</td>\n",
       "      <td>0</td>\n",
       "      <td>1</td>\n",
       "    </tr>\n",
       "    <tr>\n",
       "      <th>6</th>\n",
       "      <td>157</td>\n",
       "      <td>31</td>\n",
       "      <td>5</td>\n",
       "    </tr>\n",
       "    <tr>\n",
       "      <th>7</th>\n",
       "      <td>152</td>\n",
       "      <td>54</td>\n",
       "      <td>2</td>\n",
       "    </tr>\n",
       "    <tr>\n",
       "      <th>8</th>\n",
       "      <td>164</td>\n",
       "      <td>11</td>\n",
       "      <td>17</td>\n",
       "    </tr>\n",
       "    <tr>\n",
       "      <th>9</th>\n",
       "      <td>179</td>\n",
       "      <td>0</td>\n",
       "      <td>1</td>\n",
       "    </tr>\n",
       "    <tr>\n",
       "      <th>10</th>\n",
       "      <td>147</td>\n",
       "      <td>18</td>\n",
       "      <td>0</td>\n",
       "    </tr>\n",
       "    <tr>\n",
       "      <th>11</th>\n",
       "      <td>160</td>\n",
       "      <td>45</td>\n",
       "      <td>33</td>\n",
       "    </tr>\n",
       "    <tr>\n",
       "      <th>12</th>\n",
       "      <td>137</td>\n",
       "      <td>1</td>\n",
       "      <td>0</td>\n",
       "    </tr>\n",
       "    <tr>\n",
       "      <th>13</th>\n",
       "      <td>165</td>\n",
       "      <td>10</td>\n",
       "      <td>37</td>\n",
       "    </tr>\n",
       "    <tr>\n",
       "      <th>14</th>\n",
       "      <td>156</td>\n",
       "      <td>45</td>\n",
       "      <td>6</td>\n",
       "    </tr>\n",
       "    <tr>\n",
       "      <th>15</th>\n",
       "      <td>169</td>\n",
       "      <td>1</td>\n",
       "      <td>11</td>\n",
       "    </tr>\n",
       "    <tr>\n",
       "      <th>16</th>\n",
       "      <td>141</td>\n",
       "      <td>6</td>\n",
       "      <td>0</td>\n",
       "    </tr>\n",
       "    <tr>\n",
       "      <th>17</th>\n",
       "      <td>173</td>\n",
       "      <td>0</td>\n",
       "      <td>8</td>\n",
       "    </tr>\n",
       "    <tr>\n",
       "      <th>18</th>\n",
       "      <td>166</td>\n",
       "      <td>0</td>\n",
       "      <td>13</td>\n",
       "    </tr>\n",
       "    <tr>\n",
       "      <th>19</th>\n",
       "      <td>148</td>\n",
       "      <td>35</td>\n",
       "      <td>3</td>\n",
       "    </tr>\n",
       "    <tr>\n",
       "      <th>20</th>\n",
       "      <td>161</td>\n",
       "      <td>8</td>\n",
       "      <td>9</td>\n",
       "    </tr>\n",
       "    <tr>\n",
       "      <th>21</th>\n",
       "      <td>180</td>\n",
       "      <td>0</td>\n",
       "      <td>4</td>\n",
       "    </tr>\n",
       "    <tr>\n",
       "      <th>22</th>\n",
       "      <td>149</td>\n",
       "      <td>33</td>\n",
       "      <td>0</td>\n",
       "    </tr>\n",
       "    <tr>\n",
       "      <th>23</th>\n",
       "      <td>176</td>\n",
       "      <td>0</td>\n",
       "      <td>4</td>\n",
       "    </tr>\n",
       "    <tr>\n",
       "      <th>24</th>\n",
       "      <td>144</td>\n",
       "      <td>13</td>\n",
       "      <td>0</td>\n",
       "    </tr>\n",
       "    <tr>\n",
       "      <th>25</th>\n",
       "      <td>159</td>\n",
       "      <td>29</td>\n",
       "      <td>8</td>\n",
       "    </tr>\n",
       "    <tr>\n",
       "      <th>26</th>\n",
       "      <td>172</td>\n",
       "      <td>0</td>\n",
       "      <td>12</td>\n",
       "    </tr>\n",
       "    <tr>\n",
       "      <th>27</th>\n",
       "      <td>140</td>\n",
       "      <td>7</td>\n",
       "      <td>0</td>\n",
       "    </tr>\n",
       "    <tr>\n",
       "      <th>28</th>\n",
       "      <td>155</td>\n",
       "      <td>104</td>\n",
       "      <td>11</td>\n",
       "    </tr>\n",
       "    <tr>\n",
       "      <th>29</th>\n",
       "      <td>167</td>\n",
       "      <td>3</td>\n",
       "      <td>17</td>\n",
       "    </tr>\n",
       "    <tr>\n",
       "      <th>30</th>\n",
       "      <td>162</td>\n",
       "      <td>19</td>\n",
       "      <td>23</td>\n",
       "    </tr>\n",
       "    <tr>\n",
       "      <th>31</th>\n",
       "      <td>145</td>\n",
       "      <td>24</td>\n",
       "      <td>0</td>\n",
       "    </tr>\n",
       "    <tr>\n",
       "      <th>32</th>\n",
       "      <td>150</td>\n",
       "      <td>95</td>\n",
       "      <td>6</td>\n",
       "    </tr>\n",
       "    <tr>\n",
       "      <th>33</th>\n",
       "      <td>177</td>\n",
       "      <td>0</td>\n",
       "      <td>2</td>\n",
       "    </tr>\n",
       "    <tr>\n",
       "      <th>34</th>\n",
       "      <td>182</td>\n",
       "      <td>0</td>\n",
       "      <td>2</td>\n",
       "    </tr>\n",
       "    <tr>\n",
       "      <th>35</th>\n",
       "      <td>154</td>\n",
       "      <td>45</td>\n",
       "      <td>3</td>\n",
       "    </tr>\n",
       "    <tr>\n",
       "      <th>36</th>\n",
       "      <td>175</td>\n",
       "      <td>0</td>\n",
       "      <td>11</td>\n",
       "    </tr>\n",
       "    <tr>\n",
       "      <th>37</th>\n",
       "      <td>143</td>\n",
       "      <td>11</td>\n",
       "      <td>0</td>\n",
       "    </tr>\n",
       "    <tr>\n",
       "      <th>38</th>\n",
       "      <td>158</td>\n",
       "      <td>53</td>\n",
       "      <td>14</td>\n",
       "    </tr>\n",
       "    <tr>\n",
       "      <th>39</th>\n",
       "      <td>171</td>\n",
       "      <td>0</td>\n",
       "      <td>7</td>\n",
       "    </tr>\n",
       "    <tr>\n",
       "      <th>40</th>\n",
       "      <td>139</td>\n",
       "      <td>2</td>\n",
       "      <td>0</td>\n",
       "    </tr>\n",
       "    <tr>\n",
       "      <th>41</th>\n",
       "      <td>151</td>\n",
       "      <td>34</td>\n",
       "      <td>1</td>\n",
       "    </tr>\n",
       "    <tr>\n",
       "      <th>42</th>\n",
       "      <td>168</td>\n",
       "      <td>4</td>\n",
       "      <td>30</td>\n",
       "    </tr>\n",
       "    <tr>\n",
       "      <th>43</th>\n",
       "      <td>146</td>\n",
       "      <td>20</td>\n",
       "      <td>1</td>\n",
       "    </tr>\n",
       "    <tr>\n",
       "      <th>44</th>\n",
       "      <td>183</td>\n",
       "      <td>0</td>\n",
       "      <td>1</td>\n",
       "    </tr>\n",
       "    <tr>\n",
       "      <th>45</th>\n",
       "      <td>136</td>\n",
       "      <td>1</td>\n",
       "      <td>0</td>\n",
       "    </tr>\n",
       "    <tr>\n",
       "      <th>46</th>\n",
       "      <td>163</td>\n",
       "      <td>13</td>\n",
       "      <td>17</td>\n",
       "    </tr>\n",
       "    <tr>\n",
       "      <th>47</th>\n",
       "      <td>178</td>\n",
       "      <td>0</td>\n",
       "      <td>8</td>\n",
       "    </tr>\n",
       "  </tbody>\n",
       "</table>\n",
       "</div>"
      ],
      "text/plain": [
       "   height_gender    F   M\n",
       "0            138    2   0\n",
       "1            170    1  24\n",
       "2            142   11   0\n",
       "3            153   73   1\n",
       "4            174    0   2\n",
       "5            185    0   1\n",
       "6            157   31   5\n",
       "7            152   54   2\n",
       "8            164   11  17\n",
       "9            179    0   1\n",
       "10           147   18   0\n",
       "11           160   45  33\n",
       "12           137    1   0\n",
       "13           165   10  37\n",
       "14           156   45   6\n",
       "15           169    1  11\n",
       "16           141    6   0\n",
       "17           173    0   8\n",
       "18           166    0  13\n",
       "19           148   35   3\n",
       "20           161    8   9\n",
       "21           180    0   4\n",
       "22           149   33   0\n",
       "23           176    0   4\n",
       "24           144   13   0\n",
       "25           159   29   8\n",
       "26           172    0  12\n",
       "27           140    7   0\n",
       "28           155  104  11\n",
       "29           167    3  17\n",
       "30           162   19  23\n",
       "31           145   24   0\n",
       "32           150   95   6\n",
       "33           177    0   2\n",
       "34           182    0   2\n",
       "35           154   45   3\n",
       "36           175    0  11\n",
       "37           143   11   0\n",
       "38           158   53  14\n",
       "39           171    0   7\n",
       "40           139    2   0\n",
       "41           151   34   1\n",
       "42           168    4  30\n",
       "43           146   20   1\n",
       "44           183    0   1\n",
       "45           136    1   0\n",
       "46           163   13  17\n",
       "47           178    0   8"
      ]
     },
     "execution_count": 16,
     "metadata": {},
     "output_type": "execute_result"
    }
   ],
   "source": [
    "df_pandas = df_sub.crosstab(\"height\", \"gender\").toPandas()\n",
    "df_pandas"
   ]
  },
  {
   "cell_type": "code",
   "execution_count": 17,
   "id": "nasty-banking",
   "metadata": {},
   "outputs": [
    {
     "data": {
      "text/html": [
       "<div>\n",
       "<style scoped>\n",
       "    .dataframe tbody tr th:only-of-type {\n",
       "        vertical-align: middle;\n",
       "    }\n",
       "\n",
       "    .dataframe tbody tr th {\n",
       "        vertical-align: top;\n",
       "    }\n",
       "\n",
       "    .dataframe thead th {\n",
       "        text-align: right;\n",
       "    }\n",
       "</style>\n",
       "<table border=\"1\" class=\"dataframe\">\n",
       "  <thead>\n",
       "    <tr style=\"text-align: right;\">\n",
       "      <th></th>\n",
       "      <th>gender_height</th>\n",
       "      <th>136</th>\n",
       "      <th>137</th>\n",
       "      <th>138</th>\n",
       "      <th>139</th>\n",
       "      <th>140</th>\n",
       "      <th>141</th>\n",
       "      <th>142</th>\n",
       "      <th>143</th>\n",
       "      <th>144</th>\n",
       "      <th>...</th>\n",
       "      <th>174</th>\n",
       "      <th>175</th>\n",
       "      <th>176</th>\n",
       "      <th>177</th>\n",
       "      <th>178</th>\n",
       "      <th>179</th>\n",
       "      <th>180</th>\n",
       "      <th>182</th>\n",
       "      <th>183</th>\n",
       "      <th>185</th>\n",
       "    </tr>\n",
       "  </thead>\n",
       "  <tbody>\n",
       "    <tr>\n",
       "      <th>0</th>\n",
       "      <td>M</td>\n",
       "      <td>0</td>\n",
       "      <td>0</td>\n",
       "      <td>0</td>\n",
       "      <td>0</td>\n",
       "      <td>0</td>\n",
       "      <td>0</td>\n",
       "      <td>0</td>\n",
       "      <td>0</td>\n",
       "      <td>0</td>\n",
       "      <td>...</td>\n",
       "      <td>2</td>\n",
       "      <td>11</td>\n",
       "      <td>4</td>\n",
       "      <td>2</td>\n",
       "      <td>8</td>\n",
       "      <td>1</td>\n",
       "      <td>4</td>\n",
       "      <td>2</td>\n",
       "      <td>1</td>\n",
       "      <td>1</td>\n",
       "    </tr>\n",
       "    <tr>\n",
       "      <th>1</th>\n",
       "      <td>F</td>\n",
       "      <td>1</td>\n",
       "      <td>1</td>\n",
       "      <td>2</td>\n",
       "      <td>2</td>\n",
       "      <td>7</td>\n",
       "      <td>6</td>\n",
       "      <td>11</td>\n",
       "      <td>11</td>\n",
       "      <td>13</td>\n",
       "      <td>...</td>\n",
       "      <td>0</td>\n",
       "      <td>0</td>\n",
       "      <td>0</td>\n",
       "      <td>0</td>\n",
       "      <td>0</td>\n",
       "      <td>0</td>\n",
       "      <td>0</td>\n",
       "      <td>0</td>\n",
       "      <td>0</td>\n",
       "      <td>0</td>\n",
       "    </tr>\n",
       "  </tbody>\n",
       "</table>\n",
       "<p>2 rows × 49 columns</p>\n",
       "</div>"
      ],
      "text/plain": [
       "  gender_height  136  137  138  139  140  141  142  143  144  ...  174  175  \\\n",
       "0             M    0    0    0    0    0    0    0    0    0  ...    2   11   \n",
       "1             F    1    1    2    2    7    6   11   11   13  ...    0    0   \n",
       "\n",
       "   176  177  178  179  180  182  183  185  \n",
       "0    4    2    8    1    4    2    1    1  \n",
       "1    0    0    0    0    0    0    0    0  \n",
       "\n",
       "[2 rows x 49 columns]"
      ]
     },
     "execution_count": 17,
     "metadata": {},
     "output_type": "execute_result"
    }
   ],
   "source": [
    "df_sub.crosstab(\"gender\", \"height\").toPandas()"
   ]
  },
  {
   "cell_type": "code",
   "execution_count": 18,
   "id": "loose-sodium",
   "metadata": {},
   "outputs": [],
   "source": [
    "import seaborn as sns\n",
    "import matplotlib.pyplot as plt"
   ]
  },
  {
   "cell_type": "code",
   "execution_count": 19,
   "id": "governmental-warrior",
   "metadata": {},
   "outputs": [
    {
     "data": {
      "text/plain": [
       "<AxesSubplot:xlabel='M', ylabel='Count'>"
      ]
     },
     "execution_count": 19,
     "metadata": {},
     "output_type": "execute_result"
    },
    {
     "data": {
      "image/png": "[encoded data removed]",
      "text/plain": [
       "<Figure size 864x576 with 2 Axes>"
      ]
     },
     "metadata": {
      "needs_background": "light"
     },
     "output_type": "display_data"
    }
   ],
   "source": [
    "plt.figure(figsize=(12, 8))\n",
    "plt.subplot(1, 2, 1)\n",
    "sns.histplot(df_pandas['F'])\n",
    "plt.subplot(1, 2, 2)\n",
    "sns.histplot(df_pandas['M'])"
   ]
  },
  {
   "cell_type": "markdown",
   "id": "seventh-globe",
   "metadata": {},
   "source": [
    "### Nhóm dữ liệu"
   ]
  },
  {
   "cell_type": "code",
   "execution_count": 20,
   "id": "inappropriate-saver",
   "metadata": {},
   "outputs": [
    {
     "name": "stdout",
     "output_type": "stream",
     "text": [
      "+------+-----------------+\n",
      "|gender|      avg(weight)|\n",
      "+------+-----------------+\n",
      "|     F|52.31090487238979|\n",
      "|     M|62.02253521126761|\n",
      "+------+-----------------+\n",
      "\n"
     ]
    }
   ],
   "source": [
    "df_sub.groupby('gender').mean('weight').show()"
   ]
  },
  {
   "cell_type": "code",
   "execution_count": 21,
   "id": "contrary-cycling",
   "metadata": {},
   "outputs": [
    {
     "name": "stdout",
     "output_type": "stream",
     "text": [
      "+------+-----+\n",
      "|gender|count|\n",
      "+------+-----+\n",
      "|     F|  862|\n",
      "|     M|  355|\n",
      "+------+-----+\n",
      "\n"
     ]
    }
   ],
   "source": [
    "df_sub.groupby('gender').count().show()"
   ]
  },
  {
   "cell_type": "code",
   "execution_count": 22,
   "id": "express-carroll",
   "metadata": {},
   "outputs": [
    {
     "name": "stdout",
     "output_type": "stream",
     "text": [
      "+------+-----------------+\n",
      "|gender|      avg(weight)|\n",
      "+------+-----------------+\n",
      "|     F|52.31090487238979|\n",
      "|     M|62.02253521126761|\n",
      "+------+-----------------+\n",
      "\n"
     ]
    }
   ],
   "source": [
    "df_sub.groupby('gender').agg({'weight': 'mean'}).show()"
   ]
  },
  {
   "cell_type": "code",
   "execution_count": 23,
   "id": "initial-collapse",
   "metadata": {},
   "outputs": [
    {
     "name": "stdout",
     "output_type": "stream",
     "text": [
      "+------+-----------+-----------+\n",
      "|gender|min(weight)|min(height)|\n",
      "+------+-----------+-----------+\n",
      "|     F|         34|        136|\n",
      "|     M|         38|        146|\n",
      "+------+-----------+-----------+\n",
      "\n"
     ]
    }
   ],
   "source": [
    "df_sub.groupby('gender').agg({'weight': 'min', 'height':'min'}).show()"
   ]
  },
  {
   "cell_type": "markdown",
   "id": "golden-coral",
   "metadata": {},
   "source": [
    "### Hiển thị dữ liệu duy nhất của cột"
   ]
  },
  {
   "cell_type": "code",
   "execution_count": 24,
   "id": "greek-builder",
   "metadata": {},
   "outputs": [
    {
     "name": "stdout",
     "output_type": "stream",
     "text": [
      "+------+\n",
      "|gender|\n",
      "+------+\n",
      "|     F|\n",
      "|     M|\n",
      "+------+\n",
      "\n"
     ]
    }
   ],
   "source": [
    "df_sub.select('gender').distinct().show()"
   ]
  },
  {
   "cell_type": "code",
   "execution_count": 25,
   "id": "strong-seattle",
   "metadata": {},
   "outputs": [
    {
     "name": "stdout",
     "output_type": "stream",
     "text": [
      "+------+\n",
      "|height|\n",
      "+------+\n",
      "|   148|\n",
      "|   137|\n",
      "|   155|\n",
      "|   183|\n",
      "|   159|\n",
      "|   157|\n",
      "|   140|\n",
      "|   177|\n",
      "|   152|\n",
      "|   185|\n",
      "|   146|\n",
      "|   182|\n",
      "|   168|\n",
      "|   142|\n",
      "|   178|\n",
      "|   164|\n",
      "|   169|\n",
      "|   139|\n",
      "|   163|\n",
      "|   154|\n",
      "+------+\n",
      "only showing top 20 rows\n",
      "\n"
     ]
    }
   ],
   "source": [
    "df_sub.select('height').distinct().show()"
   ]
  },
  {
   "cell_type": "code",
   "execution_count": 26,
   "id": "based-poetry",
   "metadata": {},
   "outputs": [
    {
     "data": {
      "text/plain": [
       "48"
      ]
     },
     "execution_count": 26,
     "metadata": {},
     "output_type": "execute_result"
    }
   ],
   "source": [
    "df_sub.select('height').distinct().count()"
   ]
  },
  {
   "cell_type": "code",
   "execution_count": 27,
   "id": "acknowledged-oakland",
   "metadata": {},
   "outputs": [
    {
     "data": {
      "text/plain": [
       "55"
      ]
     },
     "execution_count": 27,
     "metadata": {},
     "output_type": "execute_result"
    }
   ],
   "source": [
    "df_sub.select('weight').distinct().count()"
   ]
  },
  {
   "cell_type": "markdown",
   "id": "soviet-scroll",
   "metadata": {},
   "source": [
    "### Sắp xếp dữ liệu trong cột"
   ]
  },
  {
   "cell_type": "code",
   "execution_count": 28,
   "id": "proved-western",
   "metadata": {},
   "outputs": [
    {
     "name": "stdout",
     "output_type": "stream",
     "text": [
      "+---+------+------+------+----+---+----+----+-----+-----+-----+\n",
      "| id|gender|height|weight| bmi|age| bmc| bmd|  fat| lean|pcfat|\n",
      "+---+------+------+------+----+---+----+----+-----+-----+-----+\n",
      "|963|     M|   158|    61|24.4| 88|1670|1.02|18038|39526| 30.5|\n",
      "|712|     M|   161|    47|18.1| 87|1678|1.01|12328|32725| 26.4|\n",
      "|588|     F|   142|    46|22.8| 85| 875|0.68|13946|31026| 30.4|\n",
      "+---+------+------+------+----+---+----+----+-----+-----+-----+\n",
      "only showing top 3 rows\n",
      "\n"
     ]
    }
   ],
   "source": [
    "df.orderBy(df.age.desc()).show(3)"
   ]
  },
  {
   "cell_type": "code",
   "execution_count": 29,
   "id": "processed-kennedy",
   "metadata": {},
   "outputs": [
    {
     "name": "stdout",
     "output_type": "stream",
     "text": [
      "+----+------+------+------+----+---+----+----+-----+-----+-----+\n",
      "|  id|gender|height|weight| bmi|age| bmc| bmd|  fat| lean|pcfat|\n",
      "+----+------+------+------+----+---+----+----+-----+-----+-----+\n",
      "| 514|     M|   167|    67|24.0| 13|1440|0.78|29264|44366| 39.0|\n",
      "| 270|     F|   155|    42|17.5| 14|1615|1.04|11493|28607| 27.6|\n",
      "|1156|     F|   160|    56|21.9| 14|1810|1.05|20941|34178| 36.8|\n",
      "+----+------+------+------+----+---+----+----+-----+-----+-----+\n",
      "only showing top 3 rows\n",
      "\n"
     ]
    }
   ],
   "source": [
    "df.orderBy(df.age.asc()).show(3)"
   ]
  },
  {
   "cell_type": "markdown",
   "id": "covered-function",
   "metadata": {},
   "source": [
    "### Tạo côt mới"
   ]
  },
  {
   "cell_type": "code",
   "execution_count": 30,
   "id": "editorial-rachel",
   "metadata": {},
   "outputs": [
    {
     "name": "stdout",
     "output_type": "stream",
     "text": [
      "+---+------+------+------+------------------+\n",
      "| id|gender|height|weight|               bmi|\n",
      "+---+------+------+------+------------------+\n",
      "|  1|     F|   150|    49| 21.77777777777778|\n",
      "|  2|     M|   165|    52|19.100091827364558|\n",
      "|  3|     F|   157|    57|23.124670372023203|\n",
      "|  4|     F|   156|    53|  21.7784352399737|\n",
      "|  5|     M|   160|    51|19.921874999999996|\n",
      "+---+------+------+------+------------------+\n",
      "only showing top 5 rows\n",
      "\n"
     ]
    }
   ],
   "source": [
    "df_sub = df_sub.withColumn('bmi', (df_sub.weight/(df_sub.height/100) ** 2))\n",
    "df_sub.show(5)"
   ]
  },
  {
   "cell_type": "markdown",
   "id": "ignored-mumbai",
   "metadata": {},
   "source": [
    "### Đổi tên cột"
   ]
  },
  {
   "cell_type": "code",
   "execution_count": 31,
   "id": "therapeutic-consent",
   "metadata": {},
   "outputs": [
    {
     "name": "stdout",
     "output_type": "stream",
     "text": [
      "+---+---+------+------+------------------+\n",
      "| id|sex|height|weight|               bmi|\n",
      "+---+---+------+------+------------------+\n",
      "|  1|  F|   150|    49| 21.77777777777778|\n",
      "|  2|  M|   165|    52|19.100091827364558|\n",
      "|  3|  F|   157|    57|23.124670372023203|\n",
      "+---+---+------+------+------------------+\n",
      "only showing top 3 rows\n",
      "\n"
     ]
    }
   ],
   "source": [
    "df_sub = df_sub.withColumnRenamed('gender', 'sex')\n",
    "df_sub.show(3)"
   ]
  },
  {
   "cell_type": "markdown",
   "id": "entire-groove",
   "metadata": {},
   "source": [
    "### Xóa cột"
   ]
  },
  {
   "cell_type": "code",
   "execution_count": 32,
   "id": "laden-meeting",
   "metadata": {},
   "outputs": [
    {
     "data": {
      "text/plain": [
       "['id',\n",
       " 'gender',\n",
       " 'height',\n",
       " 'weight',\n",
       " 'bmi',\n",
       " 'age',\n",
       " 'bmc',\n",
       " 'bmd',\n",
       " 'fat',\n",
       " 'lean',\n",
       " 'pcfat']"
      ]
     },
     "execution_count": 32,
     "metadata": {},
     "output_type": "execute_result"
    }
   ],
   "source": [
    "df.columns"
   ]
  },
  {
   "cell_type": "code",
   "execution_count": 33,
   "id": "working-consultation",
   "metadata": {},
   "outputs": [
    {
     "data": {
      "text/plain": [
       "['id', 'gender', 'height', 'weight', 'age', 'bmc', 'bmd', 'fat', 'pcfat']"
      ]
     },
     "execution_count": 33,
     "metadata": {},
     "output_type": "execute_result"
    }
   ],
   "source": [
    "df.drop('bmi', 'lean').columns"
   ]
  },
  {
   "cell_type": "markdown",
   "id": "excited-moscow",
   "metadata": {},
   "source": [
    "### Xóa dữ liệu trùng"
   ]
  },
  {
   "cell_type": "code",
   "execution_count": 34,
   "id": "extraordinary-subject",
   "metadata": {},
   "outputs": [
    {
     "data": {
      "text/plain": [
       "100000"
      ]
     },
     "execution_count": 34,
     "metadata": {},
     "output_type": "execute_result"
    }
   ],
   "source": [
    "people.count()"
   ]
  },
  {
   "cell_type": "code",
   "execution_count": 35,
   "id": "serious-pipeline",
   "metadata": {},
   "outputs": [
    {
     "data": {
      "text/plain": [
       "100000"
      ]
     },
     "execution_count": 35,
     "metadata": {},
     "output_type": "execute_result"
    }
   ],
   "source": [
    "people.dropDuplicates().count()"
   ]
  },
  {
   "cell_type": "markdown",
   "id": "integral-deficit",
   "metadata": {},
   "source": [
    "#### => Không có dữ liệu trùng"
   ]
  },
  {
   "cell_type": "markdown",
   "id": "lightweight-platform",
   "metadata": {},
   "source": [
    "### Xóa dòng có dữ liệu null"
   ]
  },
  {
   "cell_type": "code",
   "execution_count": 36,
   "id": "impossible-developer",
   "metadata": {},
   "outputs": [
    {
     "data": {
      "text/plain": [
       "100000"
      ]
     },
     "execution_count": 36,
     "metadata": {},
     "output_type": "execute_result"
    }
   ],
   "source": [
    "people.count()"
   ]
  },
  {
   "cell_type": "code",
   "execution_count": 37,
   "id": "sharing-forward",
   "metadata": {},
   "outputs": [
    {
     "data": {
      "text/plain": [
       "98080"
      ]
     },
     "execution_count": 37,
     "metadata": {},
     "output_type": "execute_result"
    }
   ],
   "source": [
    "people.dropna().count()"
   ]
  },
  {
   "cell_type": "markdown",
   "id": "transsexual-convergence",
   "metadata": {},
   "source": [
    "### Lọc dữ liệu DataFrame"
   ]
  },
  {
   "cell_type": "code",
   "execution_count": 38,
   "id": "parallel-algebra",
   "metadata": {},
   "outputs": [
    {
     "data": {
      "text/plain": [
       "7"
      ]
     },
     "execution_count": 38,
     "metadata": {},
     "output_type": "execute_result"
    }
   ],
   "source": [
    "# Return rows where name starts with \"I\" & ends with \"p\"\n",
    "people_sub = people.filter(people.name.like('I%p'))\n",
    "people_sub.count()"
   ]
  },
  {
   "cell_type": "code",
   "execution_count": 39,
   "id": "virgin-passenger",
   "metadata": {},
   "outputs": [
    {
     "name": "stdout",
     "output_type": "stream",
     "text": [
      "+-----+---------+-------------+------+-------------+\n",
      "|  _c0|person_id|         name|   sex|date of birth|\n",
      "+-----+---------+-------------+------+-------------+\n",
      "|    2|      102|    Ida Shipp|female|   1962-05-24|\n",
      "| 5791|     5891| Isaias Stepp|  male|   1974-04-13|\n",
      "| 9965|    10065| Isabel Sharp|female|   1967-11-28|\n",
      "|58576|    58676|Isadora Tripp|female|   1971-06-05|\n",
      "|68125|    68225|   Irene Kulp|female|   1986-07-06|\n",
      "|71572|    71672|    Ivan Ropp|  male|   1975-07-08|\n",
      "|92061|    92161|   Inez Estep|female|   1925-09-03|\n",
      "+-----+---------+-------------+------+-------------+\n",
      "\n"
     ]
    }
   ],
   "source": [
    "people_sub.show()"
   ]
  },
  {
   "cell_type": "code",
   "execution_count": 40,
   "id": "third-transcript",
   "metadata": {},
   "outputs": [
    {
     "data": {
      "text/plain": [
       "352"
      ]
     },
     "execution_count": 40,
     "metadata": {},
     "output_type": "execute_result"
    }
   ],
   "source": [
    "# Return rows where name contains 'Moore'\n",
    "people_Moore = people.where(people.name.contains('Moore'))\n",
    "people_Moore.count()"
   ]
  },
  {
   "cell_type": "code",
   "execution_count": 41,
   "id": "significant-amplifier",
   "metadata": {},
   "outputs": [
    {
     "data": {
      "text/plain": [
       "99648"
      ]
     },
     "execution_count": 41,
     "metadata": {},
     "output_type": "execute_result"
    }
   ],
   "source": [
    "# Return rows where name doesn't contains 'Moore'\n",
    "people_not_Moore = people.where(~people.name.contains('Moore'))\n",
    "people_not_Moore.count()"
   ]
  },
  {
   "cell_type": "code",
   "execution_count": 42,
   "id": "armed-termination",
   "metadata": {},
   "outputs": [
    {
     "data": {
      "text/plain": [
       "1871"
      ]
     },
     "execution_count": 42,
     "metadata": {},
     "output_type": "execute_result"
    }
   ],
   "source": [
    "people_1999 = people.filter((people['date of birth'] >= '1990-01-01') & (people['date of birth'] <= '1990-12-31'))\n",
    "people_1999.count()"
   ]
  },
  {
   "cell_type": "code",
   "execution_count": 43,
   "id": "reflected-banks",
   "metadata": {},
   "outputs": [
    {
     "data": {
      "text/plain": [
       "1871"
      ]
     },
     "execution_count": 43,
     "metadata": {},
     "output_type": "execute_result"
    }
   ],
   "source": [
    "people_1999 = people.where((people['date of birth'] >= '1990-01-01') & (people['date of birth'] <= '1990-12-31'))\n",
    "people_1999.count()"
   ]
  },
  {
   "cell_type": "markdown",
   "id": "automated-elevation",
   "metadata": {},
   "source": [
    "### Column String transformation"
   ]
  },
  {
   "cell_type": "code",
   "execution_count": 44,
   "id": "embedded-dryer",
   "metadata": {},
   "outputs": [],
   "source": [
    "from pyspark.sql.functions import *"
   ]
  },
  {
   "cell_type": "code",
   "execution_count": 45,
   "id": "interior-france",
   "metadata": {},
   "outputs": [
    {
     "name": "stdout",
     "output_type": "stream",
     "text": [
      "+---+---------+--------------+------+-------------+--------------+\n",
      "|_c0|person_id|          name|   sex|date of birth|    upper_name|\n",
      "+---+---------+--------------+------+-------------+--------------+\n",
      "|  0|      100|Penelope Lewis|female|   1990-08-31|PENELOPE LEWIS|\n",
      "|  1|      101| David Anthony|  male|   1971-10-14| DAVID ANTHONY|\n",
      "|  2|      102|     Ida Shipp|female|   1962-05-24|     IDA SHIPP|\n",
      "+---+---------+--------------+------+-------------+--------------+\n",
      "only showing top 3 rows\n",
      "\n"
     ]
    }
   ],
   "source": [
    "people.withColumn('upper_name', upper(col(\"name\"))).show(3)"
   ]
  },
  {
   "cell_type": "markdown",
   "id": "chemical-external",
   "metadata": {},
   "source": [
    "### Chuyển kiểu dữ liệu"
   ]
  },
  {
   "cell_type": "code",
   "execution_count": 46,
   "id": "pretty-noise",
   "metadata": {},
   "outputs": [],
   "source": [
    "from pyspark.sql.types import *"
   ]
  },
  {
   "cell_type": "code",
   "execution_count": 49,
   "id": "noted-lunch",
   "metadata": {},
   "outputs": [
    {
     "name": "stdout",
     "output_type": "stream",
     "text": [
      "+---+---------+--------------+------+-------------+----+\n",
      "|_c0|person_id|          name|   sex|date of birth|year|\n",
      "+---+---------+--------------+------+-------------+----+\n",
      "|  0|      100|Penelope Lewis|female|   1990-08-31|1990|\n",
      "|  1|      101| David Anthony|  male|   1971-10-14|1971|\n",
      "|  2|      102|     Ida Shipp|female|   1962-05-24|1962|\n",
      "+---+---------+--------------+------+-------------+----+\n",
      "only showing top 3 rows\n",
      "\n"
     ]
    }
   ],
   "source": [
    "people = people.withColumn('year', substring('date of birth', pos=0, len=4).cast(IntegerType()))\n",
    "people.show(3)"
   ]
  },
  {
   "cell_type": "code",
   "execution_count": 50,
   "id": "assisted-independence",
   "metadata": {},
   "outputs": [
    {
     "data": {
      "text/plain": [
       "39593"
      ]
     },
     "execution_count": 50,
     "metadata": {},
     "output_type": "execute_result"
    }
   ],
   "source": [
    "people.where((people['year'] >= 1989)).count()"
   ]
  },
  {
   "cell_type": "markdown",
   "id": "confused-outreach",
   "metadata": {},
   "source": [
    "### Điều kiện"
   ]
  },
  {
   "cell_type": "code",
   "execution_count": 51,
   "id": "careful-checklist",
   "metadata": {},
   "outputs": [
    {
     "name": "stdout",
     "output_type": "stream",
     "text": [
      "+------+----------------------------------------+\n",
      "|height|CASE WHEN (height <= 150) THEN Short END|\n",
      "+------+----------------------------------------+\n",
      "|   150|                                   Short|\n",
      "|   165|                                    null|\n",
      "|   157|                                    null|\n",
      "|   156|                                    null|\n",
      "|   160|                                    null|\n",
      "+------+----------------------------------------+\n",
      "only showing top 5 rows\n",
      "\n"
     ]
    }
   ],
   "source": [
    "df.select(df.height, when(df.height <= 150, \"Short\")).show(5)"
   ]
  },
  {
   "cell_type": "code",
   "execution_count": 52,
   "id": "mediterranean-emperor",
   "metadata": {},
   "outputs": [
    {
     "name": "stdout",
     "output_type": "stream",
     "text": [
      "+------+-----+\n",
      "|height| Type|\n",
      "+------+-----+\n",
      "|   150|Short|\n",
      "|   165| null|\n",
      "|   157| null|\n",
      "|   156| null|\n",
      "|   160| null|\n",
      "+------+-----+\n",
      "only showing top 5 rows\n",
      "\n"
     ]
    }
   ],
   "source": [
    "df.select(df.height, when(df.height <= 150, \"Short\").alias(\"Type\")).show(5)"
   ]
  },
  {
   "cell_type": "code",
   "execution_count": 53,
   "id": "oriented-member",
   "metadata": {},
   "outputs": [
    {
     "name": "stdout",
     "output_type": "stream",
     "text": [
      "+------+-------------------------------------------------------------------------+\n",
      "|height|CASE WHEN (height <= 150) THEN Short WHEN (height <= 160) THEN Midium END|\n",
      "+------+-------------------------------------------------------------------------+\n",
      "|   150|                                                                    Short|\n",
      "|   165|                                                                     null|\n",
      "|   157|                                                                   Midium|\n",
      "|   156|                                                                   Midium|\n",
      "|   160|                                                                   Midium|\n",
      "+------+-------------------------------------------------------------------------+\n",
      "only showing top 5 rows\n",
      "\n"
     ]
    }
   ],
   "source": [
    "df.select(df.height, when(df.height <= 150, \"Short\").when(df.height <= 160, \"Midium\")).show(5)"
   ]
  },
  {
   "cell_type": "code",
   "execution_count": 56,
   "id": "capable-premises",
   "metadata": {},
   "outputs": [
    {
     "name": "stdout",
     "output_type": "stream",
     "text": [
      "+------+------+\n",
      "|height|  Type|\n",
      "+------+------+\n",
      "|   150| Short|\n",
      "|   165|  null|\n",
      "|   157|Midium|\n",
      "|   156|Midium|\n",
      "|   160|Midium|\n",
      "+------+------+\n",
      "only showing top 5 rows\n",
      "\n"
     ]
    }
   ],
   "source": [
    "df.select(df.height, when(df.height <= 150, \"Short\").when(df.height <= 160, \"Midium\").alias(\"Type\")).show(5)"
   ]
  },
  {
   "cell_type": "code",
   "execution_count": 57,
   "id": "green-difference",
   "metadata": {},
   "outputs": [
    {
     "name": "stdout",
     "output_type": "stream",
     "text": [
      "+------+-----------------------------------------------------------------------------------+\n",
      "|height|CASE WHEN (height <= 150) THEN Short WHEN (height <= 160) THEN Midium ELSE Tall END|\n",
      "+------+-----------------------------------------------------------------------------------+\n",
      "|   150|                                                                              Short|\n",
      "|   165|                                                                               Tall|\n",
      "|   157|                                                                             Midium|\n",
      "|   156|                                                                             Midium|\n",
      "|   160|                                                                             Midium|\n",
      "+------+-----------------------------------------------------------------------------------+\n",
      "only showing top 5 rows\n",
      "\n"
     ]
    }
   ],
   "source": [
    "df.select(df.height, when(df.height <= 150, \"Short\")\n",
    "          .when(df.height <= 160, \"Midium\")\n",
    "          .otherwise(\"Tall\")).show(5)"
   ]
  },
  {
   "cell_type": "code",
   "execution_count": 60,
   "id": "russian-editing",
   "metadata": {},
   "outputs": [
    {
     "name": "stdout",
     "output_type": "stream",
     "text": [
      "+------+------+\n",
      "|height|  Type|\n",
      "+------+------+\n",
      "|   150| Short|\n",
      "|   165|  Tall|\n",
      "|   157|Midium|\n",
      "|   156|Midium|\n",
      "|   160|Midium|\n",
      "+------+------+\n",
      "only showing top 5 rows\n",
      "\n"
     ]
    }
   ],
   "source": [
    "df.select(df.height, when(df.height <= 150, \"Short\")\n",
    "          .when(df.height <= 160, \"Midium\")\n",
    "          .otherwise(\"Tall\").alias(\"Type\")).show(5)"
   ]
  },
  {
   "cell_type": "markdown",
   "id": "complicated-facing",
   "metadata": {},
   "source": [
    "### Người dùng tự định nghĩa"
   ]
  },
  {
   "cell_type": "code",
   "execution_count": 61,
   "id": "compatible-present",
   "metadata": {},
   "outputs": [],
   "source": [
    "from pyspark.sql.functions import udf"
   ]
  },
  {
   "cell_type": "code",
   "execution_count": 65,
   "id": "recorded-practice",
   "metadata": {},
   "outputs": [],
   "source": [
    "def bmi_type_function(bmi):\n",
    "    bmi_type = \"\"\n",
    "    if bmi <= 18.5:\n",
    "        bmi_type = \"Underweight\"\n",
    "    elif bmi <= 24.9:\n",
    "        bmi_type = \"Normal weight\"\n",
    "    elif bmi <= 29.9:\n",
    "        bmi_type = \"Overweight\"\n",
    "    else:\n",
    "        bmi_type = \"Obesity\"\n",
    "    \n",
    "    return bmi_type"
   ]
  },
  {
   "cell_type": "code",
   "execution_count": 66,
   "id": "alien-competition",
   "metadata": {},
   "outputs": [
    {
     "name": "stdout",
     "output_type": "stream",
     "text": [
      "+---+---+------+------+------------------+-------------+\n",
      "| id|sex|height|weight|               bmi|     bmi_type|\n",
      "+---+---+------+------+------------------+-------------+\n",
      "|  1|  F|   150|    49| 21.77777777777778|Normal weight|\n",
      "|  2|  M|   165|    52|19.100091827364558|Normal weight|\n",
      "|  3|  F|   157|    57|23.124670372023203|Normal weight|\n",
      "+---+---+------+------+------------------+-------------+\n",
      "only showing top 3 rows\n",
      "\n"
     ]
    }
   ],
   "source": [
    "udfBMI = udf(bmi_type_function, StringType())\n",
    "df_sub.withColumn('bmi_type', udfBMI(df_sub.bmi)).show(3)"
   ]
  },
  {
   "cell_type": "code",
   "execution_count": 70,
   "id": "developmental-sweet",
   "metadata": {},
   "outputs": [],
   "source": [
    "df_pandas = df_sub.toPandas()"
   ]
  },
  {
   "cell_type": "code",
   "execution_count": 71,
   "id": "portable-surge",
   "metadata": {},
   "outputs": [
    {
     "name": "stderr",
     "output_type": "stream",
     "text": [
      "C:\\ProgramData\\Anaconda3\\lib\\site-packages\\seaborn\\distributions.py:2557: FutureWarning: `distplot` is a deprecated function and will be removed in a future version. Please adapt your code to use either `displot` (a figure-level function with similar flexibility) or `histplot` (an axes-level function for histograms).\n",
      "  warnings.warn(msg, FutureWarning)\n"
     ]
    },
    {
     "data": {
      "text/plain": [
       "<AxesSubplot:xlabel='height', ylabel='Density'>"
      ]
     },
     "execution_count": 71,
     "metadata": {},
     "output_type": "execute_result"
    },
    {
     "data": {
      "image/png": "[encoded data removed]",
      "text/plain": [
       "<Figure size 864x576 with 2 Axes>"
      ]
     },
     "metadata": {
      "needs_background": "light"
     },
     "output_type": "display_data"
    }
   ],
   "source": [
    "plt.figure(figsize=(12, 8))\n",
    "plt.subplot(1, 2, 1)\n",
    "plt.hist(df_pandas['height'])\n",
    "plt.subplot(1, 2, 2)\n",
    "sns.distplot(df_pandas['height'])"
   ]
  },
  {
   "cell_type": "code",
   "execution_count": null,
   "id": "hearing-walter",
   "metadata": {},
   "outputs": [],
   "source": []
  }
 ],
 "metadata": {
  "kernelspec": {
   "display_name": "Python 3",
   "language": "python",
   "name": "python3"
  },
  "language_info": {
   "codemirror_mode": {
    "name": "ipython",
    "version": 3
   },
   "file_extension": ".py",
   "mimetype": "text/x-python",
   "name": "python",
   "nbconvert_exporter": "python",
   "pygments_lexer": "ipython3",
   "version": "3.8.3"
  }
 },
 "nbformat": 4,
 "nbformat_minor": 5
}
