{
 "cells": [
  {
   "cell_type": "code",
   "execution_count": 1,
   "metadata": {},
   "outputs": [
    {
     "name": "stdin",
     "output_type": "stream",
     "text": [
      "Input mark 9\n"
     ]
    }
   ],
   "source": [
    "mark = readline(prompt = \"Input mark\")"
   ]
  },
  {
   "cell_type": "code",
   "execution_count": 2,
   "metadata": {},
   "outputs": [],
   "source": [
    "mark = as.numeric(mark)"
   ]
  },
  {
   "cell_type": "code",
   "execution_count": 3,
   "metadata": {},
   "outputs": [
    {
     "name": "stdout",
     "output_type": "stream",
     "text": [
      "[1] \"Pass\"\n"
     ]
    }
   ],
   "source": [
    "if (mark >= 5){\n",
    "    print(\"Pass\")\n",
    "} else {\n",
    "    print(\"Fail\")\n",
    "}"
   ]
  },
  {
   "cell_type": "code",
   "execution_count": 4,
   "metadata": {},
   "outputs": [
    {
     "name": "stdout",
     "output_type": "stream",
     "text": [
      "[1] \"Excellent\"\n"
     ]
    }
   ],
   "source": [
    "if (mark < 5){\n",
    "    print(\"Weak\")\n",
    "} else if (mark < 7) {\n",
    "    print(\"Average\")\n",
    "} else if (mark < 8) {\n",
    "    print(\"Good\")\n",
    "} else if (mark < 9) {\n",
    "    print(\"Very good\")\n",
    "} else {\n",
    "    print(\"Excellent\")\n",
    "}"
   ]
  },
  {
   "cell_type": "code",
   "execution_count": 5,
   "metadata": {},
   "outputs": [],
   "source": [
    "rank_simple = ifelse(mark < 5,'Weak', ifelse(mark < 7, \"Average\", ifelse(mark < 8, \"Good\", ifelse(mark < 9, \"Very good\", \"Excellent\"))))"
   ]
  },
  {
   "cell_type": "code",
   "execution_count": 6,
   "metadata": {},
   "outputs": [
    {
     "data": {
      "text/html": [
       "'Excellent'"
      ],
      "text/latex": [
       "'Excellent'"
      ],
      "text/markdown": [
       "'Excellent'"
      ],
      "text/plain": [
       "[1] \"Excellent\""
      ]
     },
     "metadata": {},
     "output_type": "display_data"
    }
   ],
   "source": [
    "rank_simple"
   ]
  },
  {
   "cell_type": "code",
   "execution_count": null,
   "metadata": {},
   "outputs": [],
   "source": []
  }
 ],
 "metadata": {
  "kernelspec": {
   "display_name": "R",
   "language": "R",
   "name": "ir"
  },
  "language_info": {
   "codemirror_mode": "r",
   "file_extension": ".r",
   "mimetype": "text/x-r-source",
   "name": "R",
   "pygments_lexer": "r",
   "version": "4.0.3"
  }
 },
 "nbformat": 4,
 "nbformat_minor": 4
}
