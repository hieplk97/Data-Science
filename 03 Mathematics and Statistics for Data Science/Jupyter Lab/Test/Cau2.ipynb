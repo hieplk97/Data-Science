{
 "cells": [
  {
   "cell_type": "code",
   "execution_count": 1,
   "metadata": {},
   "outputs": [],
   "source": [
    "import numpy as np\n",
    "from numpy import mean, median\n",
    "from tabulate import tabulate\n",
    "\n",
    "import pandas as pd\n",
    "import matplotlib.pyplot as plt\n",
    "import seaborn as sns\n",
    "from scipy import stats\n",
    "from sklearn.linear_model import LinearRegression"
   ]
  },
  {
   "cell_type": "code",
   "execution_count": 4,
   "metadata": {},
   "outputs": [
    {
     "name": "stdout",
     "output_type": "stream",
     "text": [
      "     diem_1  diem_2  diem_3  diem_4   IQ\n",
      "stt                                     \n",
      "1         8     2.0     7.0       7   68\n",
      "2         8     8.4     6.4       8  137\n",
      "3         7     7.6     7.8       8  135\n",
      "4         8     3.0     2.5       6   79\n",
      "5         8     4.4     3.8       6  107\n",
      "6         8     6.4     7.2       7  128\n",
      "7         7     8.0     8.4       8  120\n",
      "8         8     2.8     6.8       6   74\n",
      "9         6     5.2     5.0       7  110\n",
      "10        8     6.4     8.9       7  134\n",
      "11        8     7.6     9.2       7  139\n",
      "12        7     5.0     5.4       7  110\n",
      "13        8     9.6     8.7       9  140\n",
      "14        8     5.6     7.4       6  115\n",
      "15        8     4.4     7.2       6   88\n",
      "16        8     9.0     9.2       8  128\n",
      "17        7     3.6     6.3       6  120\n",
      "18        8     4.8     8.1       6  113\n",
      "19        6     6.0     5.2       7  121\n",
      "20        8     8.6     6.7       8  138\n"
     ]
    }
   ],
   "source": [
    "LDS3folder = 'E:\\Data Science\\Mathematics and Statistics for Data Science\\Jupyter Lab\\Test\\Data/'\n",
    "data = pd.read_excel(LDS3folder + 'IQ4.xls', index_col=0)\n",
    "print(data)"
   ]
  },
  {
   "cell_type": "code",
   "execution_count": 24,
   "metadata": {},
   "outputs": [
    {
     "name": "stdout",
     "output_type": "stream",
     "text": [
      "<class 'pandas.core.frame.DataFrame'>\n",
      "Int64Index: 20 entries, 1 to 20\n",
      "Data columns (total 5 columns):\n",
      " #   Column  Non-Null Count  Dtype  \n",
      "---  ------  --------------  -----  \n",
      " 0   diem_1  20 non-null     int64  \n",
      " 1   diem_2  20 non-null     float64\n",
      " 2   diem_3  20 non-null     float64\n",
      " 3   diem_4  20 non-null     int64  \n",
      " 4   IQ      20 non-null     int64  \n",
      "dtypes: float64(2), int64(3)\n",
      "memory usage: 960.0 bytes\n"
     ]
    }
   ],
   "source": [
    "# 2.1) Thể hiện những thông tin của dữ liệu. Vẽ biểu đồ phân phối tần số điểm thi của các môn.\n",
    "data.info()"
   ]
  },
  {
   "cell_type": "code",
   "execution_count": 29,
   "metadata": {},
   "outputs": [
    {
     "data": {
      "image/png": "[encoded data removed]",
      "text/plain": [
       "<Figure size 432x288 with 4 Axes>"
      ]
     },
     "metadata": {
      "needs_background": "light"
     },
     "output_type": "display_data"
    }
   ],
   "source": [
    "plt.subplot(2, 2, 1)\n",
    "plt.title('Diem_1')\n",
    "sns.distplot(data['diem_1'])\n",
    "\n",
    "plt.subplot(2, 2, 2)\n",
    "plt.title('Diem_2')\n",
    "sns.distplot(data['diem_2'])\n",
    "\n",
    "plt.subplot(2, 2, 3)\n",
    "plt.title('Diem_3')\n",
    "sns.distplot(data['diem_3'])\n",
    "\n",
    "plt.subplot(2, 2, 4)\n",
    "plt.title('Diem_4')\n",
    "sns.distplot(data['diem_4'])\n",
    "\n",
    "plt.tight_layout()\n",
    "plt.show()"
   ]
  },
  {
   "cell_type": "code",
   "execution_count": 9,
   "metadata": {},
   "outputs": [
    {
     "name": "stdout",
     "output_type": "stream",
     "text": [
      "================================================\n",
      "*** Những thống kê cơ bản trên dữ liệu ***\n",
      "================================================\n",
      "--------  -------------------  ------------------  ------------------  ------------------  ------------------\n",
      "          Diem1                Diem2               Diem3               Diem4               IQ\n",
      "Mean      7.6                  5.92                6.859999999999999   7.0                 115.2\n",
      "MIN       6                    2.0                 2.5                 6                   68\n",
      "MAX       8                    9.6                 9.2                 9                   140\n",
      "Median    8.0                  5.8                 7.1                 7.0                 120.0\n",
      "Mode      8                    4.4                 7.2                 6                   110\n",
      "f(x)      14                   2                   2                   7                   2\n",
      "Range     2                    7.6                 6.699999999999999   3                   72\n",
      "Variance  0.43999999999999995  4.6575999999999995  3.0553999999999997  0.8                 471.56000000000006\n",
      "Std-dev   0.6633249580710799   2.1581473536345936  1.7479702514631077  0.8944271909999159  21.715432300555292\n",
      "--------  -------------------  ------------------  ------------------  ------------------  ------------------\n"
     ]
    }
   ],
   "source": [
    "# 2.2) Tính các giá trị thống kê cơ bản của chỉ số IQ và điểm thi của các môn.\n",
    "print('================================================')\n",
    "print('*** Những thống kê cơ bản trên dữ liệu ***')\n",
    "print('================================================')\n",
    "\n",
    "diem1_mod = stats.mode(data['diem_1'])\n",
    "diem2_mod = stats.mode(data['diem_2'])\n",
    "diem3_mod = stats.mode(data['diem_3'])\n",
    "diem4_mod = stats.mode(data['diem_4'])\n",
    "iq_mod = stats.mode(data['IQ'])\n",
    "\n",
    "\n",
    "range_diem1 = np.ptp(data['diem_1'])\n",
    "range_diem2 = np.ptp(data['diem_2'])\n",
    "range_diem3 = np.ptp(data['diem_3'])\n",
    "range_diem4 = np.ptp(data['diem_4'])\n",
    "range_iq = np.ptp(data['IQ'])\n",
    "\n",
    "var_diem1 = np.var(data['diem_1'])\n",
    "var_diem2 = np.var(data['diem_2'])\n",
    "var_diem3 = np.var(data['diem_3'])\n",
    "var_diem4 = np.var(data['diem_4'])\n",
    "var_iq = np.var(data['IQ'])\n",
    "\n",
    "std_diem1 = np.std(data['diem_1'])\n",
    "std_diem2 = np.std(data['diem_2'])\n",
    "std_diem3 = np.std(data['diem_3'])\n",
    "std_diem4 = np.std(data['diem_4'])\n",
    "std_iq = np.std(data['IQ'])\n",
    "\n",
    "table = [[\"\", \"Diem1\", \"Diem2\",\"Diem3\",\"Diem4\", \"IQ\"],\n",
    "         [\"Mean\",mean(data['diem_1']), mean(data['diem_2']),mean(data['diem_3']), mean(data['diem_4']), mean(data['IQ'])],\n",
    "         [\"MIN\", min(data['diem_1']), min(data['diem_2']),min(data['diem_3']), min(data['diem_4']), min(data['IQ'])],\n",
    "         [\"MAX\", max(data['diem_1']), max(data['diem_2']),max(data['diem_3']), max(data['diem_4']), max(data['IQ'])],\n",
    "         [\"Median\", median(data['diem_1']), median(data['diem_2']),median(data['diem_3']), median(data['diem_4']), median(data['IQ'])],\n",
    "         [\"Mode\", diem1_mod[0][0], diem2_mod[0][0], diem3_mod[0][0], diem4_mod[0][0], iq_mod[0][0]],\n",
    "         [\"f(x)\", diem1_mod[1][0], diem2_mod[1][0], diem3_mod[1][0],diem4_mod[1][0], iq_mod[1][0]],\n",
    "         [\"Range\", range_diem1, range_diem2, range_diem3, range_diem4, range_iq],\n",
    "         [\"Variance\", var_diem1, var_diem2, var_diem3 ,var_diem4, var_iq],\n",
    "         [\"Std-dev\", std_diem1, std_diem2,std_diem3, std_diem4, std_iq]\n",
    "        ]\n",
    "print(tabulate(table))"
   ]
  },
  {
   "cell_type": "code",
   "execution_count": 11,
   "metadata": {},
   "outputs": [
    {
     "name": "stdout",
     "output_type": "stream",
     "text": [
      "========================================================\n",
      "Vẽ boxplot. Xác định outliers ***\n",
      "========================================================\n"
     ]
    },
    {
     "data": {
      "image/png": "[encoded data removed]",
      "text/plain": [
       "<Figure size 432x288 with 5 Axes>"
      ]
     },
     "metadata": {
      "needs_background": "light"
     },
     "output_type": "display_data"
    }
   ],
   "source": [
    "#2.3) Xác định outlier(s), nếu có, của chỉ số IQ và điểm thi của các môn dựa trên các quy tắc 3-Sigma.\n",
    "print('========================================================')\n",
    "print('Vẽ boxplot. Xác định outliers ***')\n",
    "print('========================================================')\n",
    "\n",
    "plt.subplot(1, 5, 1)\n",
    "plt.title('Diem_1')\n",
    "plt.boxplot(data['diem_1'])\n",
    "\n",
    "plt.subplot(1, 5, 2)\n",
    "plt.title('Diem_2')\n",
    "plt.boxplot(data['diem_2'])\n",
    "\n",
    "plt.subplot(1, 5, 3)\n",
    "plt.title('Diem_3')\n",
    "plt.boxplot(data['diem_3'])\n",
    "\n",
    "plt.subplot(1, 5, 4)\n",
    "plt.title('Diem_4')\n",
    "plt.boxplot(data['diem_4'])\n",
    "\n",
    "plt.subplot(1, 5, 5)\n",
    "plt.title('IQ')\n",
    "plt.boxplot(data['IQ'])\n",
    "\n",
    "plt.tight_layout()\n",
    "plt.show()\n",
    "\n",
    "# Điểm 3 và IQ có outliers"
   ]
  },
  {
   "cell_type": "code",
   "execution_count": 19,
   "metadata": {},
   "outputs": [
    {
     "name": "stdout",
     "output_type": "stream",
     "text": [
      "IQ outliers:  [68]\n"
     ]
    }
   ],
   "source": [
    "mean_iq = np.mean(data['IQ'], axis=0)\n",
    "sd_iq = np.std(data['IQ'], axis=0)\n",
    "\n",
    "iq_outliers = [x for x in data['IQ'] if (x <= mean_iq - 2 * sd_iq)]\n",
    "print(\"IQ outliers: \", iq_outliers)"
   ]
  },
  {
   "cell_type": "code",
   "execution_count": 21,
   "metadata": {},
   "outputs": [
    {
     "name": "stdout",
     "output_type": "stream",
     "text": [
      "Diem outliers:  [2.5]\n"
     ]
    }
   ],
   "source": [
    "mean_diem3 = np.mean(data['diem_3'], axis=0)\n",
    "sd_diem3 = np.std(data['diem_3'], axis=0)\n",
    "\n",
    "iq_outliers = [x for x in data['diem_3'] if (x <= mean_diem3 - 2 * sd_diem3)]\n",
    "print(\"Diem outliers: \", iq_outliers)"
   ]
  },
  {
   "cell_type": "code",
   "execution_count": 72,
   "metadata": {},
   "outputs": [
    {
     "name": "stdout",
     "output_type": "stream",
     "text": [
      "------------- Cách 1: Giải bằng hàm tính Gradient descent -------------\n",
      "Ma trận diem3 (20, 2)\n",
      "Ma trận IQ (20,)\n"
     ]
    }
   ],
   "source": [
    "#2.4) Chọn điểm thi của một trong các môn để làm cơ sở cho việc dự đoán chỉ số IQ theo phương\n",
    "#pháp hồi quy tuyến tính bằng Gradient Descent và bằng ma trận giả nghịch đảo. Trực quan\n",
    "#hóa dữ liệu và giải thích nguyên nhân của sự lựa chọn. \n",
    "\n",
    "# Chọn điểm 3 vì điểm 3 và IQ cùng có outlier\n",
    "# ------------------------------------------------------------------------------\n",
    "# 4) x = heights đã chuyển theo định dạng chuẩn, y = weights\n",
    "# ------------------------------------------------------------------------------\n",
    "M = data['diem_3'].size\n",
    "\n",
    "## Thêm 1 cột chứa giá trị 1 vào cột đầu tiên của x --> xBar\n",
    "xBar1 = np.c_[np.ones(M), data['diem_3']]  # insert column\n",
    "y = data['IQ']\n",
    "\n",
    "##------------------------------------------------------------------------------\n",
    "print('------------- Cách 1: Giải bằng hàm tính Gradient descent -------------')\n",
    "##------------------------------------------------------------------------------\n",
    "print('Ma trận diem3', xBar1.shape)\n",
    "print('Ma trận IQ', y.shape)"
   ]
  },
  {
   "cell_type": "code",
   "execution_count": 73,
   "metadata": {},
   "outputs": [],
   "source": [
    "# Hàm tính m (slope), b (theta/bias):    y = mx + b\n",
    "def gradient_descent_2(alpha, x, y, numIterations):\n",
    "    M     = x.shape[0] # number of samples\n",
    "    theta = np.ones(2)\n",
    "    x_T   = x.transpose()\n",
    "    for iter in range(0, numIterations):\n",
    "        hypothesis = np.dot(x, theta)\n",
    "        loss       = hypothesis - y\n",
    "        # J          = np.sum(loss ** 2) / (2 * M)  # cost\n",
    "        # print(\"iter %s | J: %.3f\" % (iter, J))      \n",
    "        gradient   = np.dot(x_T, loss) / M      \n",
    "        \n",
    "        theta    = theta - (alpha * gradient)  # update\n",
    "    return theta"
   ]
  },
  {
   "cell_type": "code",
   "execution_count": 74,
   "metadata": {},
   "outputs": [],
   "source": [
    "alpha = 0.01  # learning rate\n",
    "theta = gradient_descent_2(alpha, xBar1, y, 1000)\n",
    "slope1 = theta[1]\n",
    "bias1 = theta[0]\n",
    "for i in range(xBar1.shape[1]):\n",
    "    iq_predict = (slope1 * xBar1) + bias1"
   ]
  },
  {
   "cell_type": "code",
   "execution_count": 76,
   "metadata": {},
   "outputs": [
    {
     "name": "stdout",
     "output_type": "stream",
     "text": [
      "\n",
      " y = m.x + B --> y =  11.280451912400336 .x + ( 35.448202615185295 )\n",
      "\n"
     ]
    },
    {
     "data": {
      "image/png": "[encoded data removed]",
      "text/plain": [
       "<Figure size 864x576 with 1 Axes>"
      ]
     },
     "metadata": {
      "needs_background": "light"
     },
     "output_type": "display_data"
    }
   ],
   "source": [
    "##------------------------------------------------------------------------------\n",
    "## Vẽ đường biểu diễn dữ liệu\n",
    "##------------------------------------------------------------------------------\n",
    "print('\\n y = m.x + B --> y = ', slope1, '.x + (', bias1, ')\\n')\n",
    "plt.figure(figsize=(12, 8))\n",
    "plt.xlim(2, 10)\n",
    "plt.ylim(60, 150)\n",
    "plt.scatter(xBar1[:, 1], data['IQ'], color=\"blue\")\n",
    "plt.plot(xBar1, iq_predict)\n",
    "plt.xlabel(\"Diem 3\")\n",
    "plt.ylabel(\"IQ\")\n",
    "plt.show()"
   ]
  },
  {
   "cell_type": "code",
   "execution_count": 81,
   "metadata": {},
   "outputs": [
    {
     "name": "stdout",
     "output_type": "stream",
     "text": [
      "------------- Cách 1: Ma Trận Giả Ngịch Đảo -------------\n",
      "Ma trận xBar (20, 2) \n",
      " [[1.  7. ]\n",
      " [1.  6.4]\n",
      " [1.  7.8]]\n",
      "Ma trận A (2, 2) \n",
      " [[  20.   137.2]\n",
      " [ 137.2 1002.3]]\n",
      "Ma trận b (2,) \n",
      " [ 2304.  16163.4]\n",
      "Vector chứa các tham số w (2,) \n",
      " [75.01531714  5.85782549]\n"
     ]
    }
   ],
   "source": [
    "##------------------------------------------------------------------------------\n",
    "print('------------- Cách 1: Ma Trận Giả Ngịch Đảo -------------')\n",
    "##------------------------------------------------------------------------------\n",
    "## Thêm 1 cột chứa giá trị 1 vào cột đầu tiên của x --> xBar\n",
    "M = data['diem_3'].size\n",
    "xBar2 = np.c_[np.ones(M), data['diem_3']]  # insert column\n",
    "print('Ma trận xBar', xBar2.shape, '\\n', xBar2[0:3])\n",
    "\n",
    "A = np.dot(xBar2.T, xBar2)\n",
    "print('Ma trận A', A.shape,'\\n', A)\n",
    "\n",
    "b = np.dot(xBar2.T, data['IQ'])\n",
    "print('Ma trận b', b.shape,'\\n', b)\n",
    "\n",
    "w = np.dot(np.linalg.pinv(A), b)\n",
    "print('Vector chứa các tham số w', w.shape,'\\n', w)\n",
    "\n",
    "slope2 = w[1]\n",
    "bias2 = w[0]"
   ]
  },
  {
   "cell_type": "code",
   "execution_count": 87,
   "metadata": {},
   "outputs": [
    {
     "name": "stdout",
     "output_type": "stream",
     "text": [
      "\n",
      "y = m.x + B --> y =  5.857825489297454 .x + ( 75.01531714341945 )\n",
      "\n"
     ]
    },
    {
     "data": {
      "image/png": "[encoded data removed]",
      "text/plain": [
       "<Figure size 864x576 with 1 Axes>"
      ]
     },
     "metadata": {
      "needs_background": "light"
     },
     "output_type": "display_data"
    }
   ],
   "source": [
    "## Vẽ đường biểu diễn dữ liệu\n",
    "print('\\ny = m.x + B --> y = ', slope2, '.x + (', bias2, ')\\n')\n",
    "for i in range(x.shape[1]):\n",
    "    y_predict = (slope2 * xBar2) + bias2\n",
    "\n",
    "plt.figure(figsize=(12, 8))\n",
    "plt.xlim(2, 10)\n",
    "plt.ylim(60, 150)\n",
    "plt.scatter(xBar2[:, 1], data['IQ'], color=\"green\")\n",
    "plt.plot(xBar2, y_predict)\n",
    "plt.xlabel(\"Diem 3\")\n",
    "plt.ylabel(\"IQ\")\n",
    "plt.show()\n"
   ]
  },
  {
   "cell_type": "code",
   "execution_count": 90,
   "metadata": {},
   "outputs": [
    {
     "name": "stdout",
     "output_type": "stream",
     "text": [
      "Dự đoán diem 0.5 có IQ: 77.94\n",
      "Dự đoán diem 1.0 có IQ: 80.87\n",
      "Dự đoán diem 1.5 có IQ: 83.80\n",
      "Dự đoán diem 2.0 có IQ: 86.73\n",
      "Dự đoán diem 2.5 có IQ: 89.66\n",
      "Dự đoán diem 3.0 có IQ: 92.59\n",
      "Dự đoán diem 3.5 có IQ: 95.52\n",
      "Dự đoán diem 4.0 có IQ: 98.45\n",
      "Dự đoán diem 4.5 có IQ: 101.38\n",
      "Dự đoán diem 5.0 có IQ: 104.30\n",
      "Dự đoán diem 5.5 có IQ: 107.23\n",
      "Dự đoán diem 6.0 có IQ: 110.16\n",
      "Dự đoán diem 6.5 có IQ: 113.09\n",
      "Dự đoán diem 7.0 có IQ: 116.02\n",
      "Dự đoán diem 7.5 có IQ: 118.95\n",
      "Dự đoán diem 8.0 có IQ: 121.88\n",
      "Dự đoán diem 8.5 có IQ: 124.81\n",
      "Dự đoán diem 9.0 có IQ: 127.74\n",
      "Dự đoán diem 9.5 có IQ: 130.66\n",
      "Dự đoán diem 10.0 có IQ: 133.59\n"
     ]
    }
   ],
   "source": [
    "# Dự đoán các chỉ số IQ tương ứng với x  { 0.5, 1.0, 1.5, 2.0, …, 9.0, 9.5, 10 }.\n",
    "diem = [0.5, 1.0, 1.5, 2.0, 2.5, 3, 3.5, 4, 4.5, 5, 5.5, 6, 6.5, 7, 7.5, 8, 8.5, 9.0, 9.5, 10]\n",
    "\n",
    "diem_arr = np.array(diem)\n",
    "iq_predict = (slope2 * diem_arr) + bias2\n",
    "\n",
    "for i in range(20):\n",
    "    print(u'Dự đoán diem',diem_arr[i] ,'có IQ: %.2f' % iq_predict[i])"
   ]
  },
  {
   "cell_type": "code",
   "execution_count": null,
   "metadata": {},
   "outputs": [],
   "source": []
  }
 ],
 "metadata": {
  "kernelspec": {
   "display_name": "Python 3",
   "language": "python",
   "name": "python3"
  },
  "language_info": {
   "codemirror_mode": {
    "name": "ipython",
    "version": 3
   },
   "file_extension": ".py",
   "mimetype": "text/x-python",
   "name": "python",
   "nbconvert_exporter": "python",
   "pygments_lexer": "ipython3",
   "version": "3.8.5"
  }
 },
 "nbformat": 4,
 "nbformat_minor": 4
}
