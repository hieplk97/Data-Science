{
 "cells": [
  {
   "cell_type": "raw",
   "metadata": {},
   "source": [
    "\"\"\"=============================================================================\n",
    "   Ex3: SVD\n",
    "   Câu 2: \n",
    "      a) Cho tập tin iris.csv, đọc dữ liệu ra dataframe và chỉ lấy 4 cột đầu\n",
    "      b) Phân tích SVD: U, s, VT từ dataframe\n",
    "      c) Tạo dataframe mới từ U, s, VT, nhận xét và rút gọn thành phần, nếu có thể\n",
    "      d) Tìm error nếu có rút gọn thành phần \n",
    "      e) Tái cấu trúc dataframe theo U, s, VT (giữ nguyên tất cả các thành phần)\n",
    "=============================================================================\"\"\""
   ]
  },
  {
   "cell_type": "code",
   "execution_count": 2,
   "metadata": {},
   "outputs": [],
   "source": [
    "import numpy as np\n",
    "import pandas as pd\n"
   ]
  },
  {
   "cell_type": "code",
   "execution_count": 3,
   "metadata": {},
   "outputs": [
    {
     "name": "stdout",
     "output_type": "stream",
     "text": [
      "\n",
      "*** a) Dataframe iris.csv:\n",
      "    sepal_length  sepal_width  petal_length  petal_width species\n",
      "0           5.1          3.5           1.4          0.2  setosa\n",
      "1           4.9          3.0           1.4          0.2  setosa\n",
      "2           4.7          3.2           1.3          0.2  setosa\n",
      "3           4.6          3.1           1.5          0.2  setosa\n",
      "4           5.0          3.6           1.4          0.2  setosa\n",
      "\n",
      "       - 4 cột đầu tiên:\n",
      "    sepal_length  sepal_width  petal_length  petal_width\n",
      "0           5.1          3.5           1.4          0.2\n",
      "1           4.9          3.0           1.4          0.2\n",
      "2           4.7          3.2           1.3          0.2\n",
      "3           4.6          3.1           1.5          0.2\n",
      "4           5.0          3.6           1.4          0.2\n"
     ]
    }
   ],
   "source": [
    "LDS3folder = 'E:\\Data Science\\Mathematics and Statistics for Data Science\\Excercise'\n",
    "folder = LDS3folder + '/Data/B2/'\n",
    "\n",
    "## a) Đọc tập tin iris vào dataframe\n",
    "iris = pd.read_csv(folder + 'iris.csv')\n",
    "print('\\n*** a) Dataframe iris.csv:\\n', iris.head())\n",
    "\n",
    "X = iris[['sepal_length','sepal_width','petal_length','petal_width']]\n",
    "print('\\n       - 4 cột đầu tiên:\\n', X.head())"
   ]
  },
  {
   "cell_type": "code",
   "execution_count": 4,
   "metadata": {},
   "outputs": [
    {
     "name": "stdout",
     "output_type": "stream",
     "text": [
      "\n",
      "*** b) Phân tích SVD:\n",
      "         - Ma trận U( 150 ,  150 ): \n",
      " [[-6.16171172e-02  1.29969428e-01 -5.58364155e-05 ... -9.34637342e-02\n",
      "  -9.60224157e-02 -8.09922905e-02]\n",
      " [-5.80722977e-02  1.11371452e-01  6.84386629e-02 ...  3.66755322e-02\n",
      "  -3.24463474e-02  1.27273399e-02]\n",
      " [-5.67633852e-02  1.18294769e-01  2.31062793e-03 ...  3.08252776e-02\n",
      "   1.95234663e-01  1.35567696e-01]\n",
      " ...\n",
      " [-9.40702260e-02 -4.98348018e-02 -4.14958083e-02 ...  9.81822841e-01\n",
      "  -2.17978813e-02 -8.85972146e-03]\n",
      " [-9.48993908e-02 -5.62107520e-02 -2.12386574e-01 ... -2.14264126e-02\n",
      "   9.42038920e-01 -2.96933496e-02]\n",
      " [-8.84882764e-02 -5.16210172e-02 -9.51442925e-02 ... -8.52768485e-03\n",
      "  -3.02139863e-02  9.73577349e-01]] \n",
      "\n",
      "         - Eigenvalues: [95.95066751 17.72295328  3.46929666  1.87891236] \n",
      "\n",
      "         - Ma trận VT( 4 ,  4 ): \n",
      " [[-0.75116805 -0.37978837 -0.51315094 -0.16787934]\n",
      " [ 0.28583096  0.54488976 -0.70889874 -0.34475845]\n",
      " [ 0.49942378 -0.67502499 -0.05471983 -0.54029889]\n",
      " [ 0.32345496 -0.32124324 -0.48077482  0.74902286]] \n",
      "\n"
     ]
    }
   ],
   "source": [
    "## b) Phân tích SVD: U, s, VT\n",
    "U, s, VT = np.linalg.svd(X)\n",
    "\n",
    "print('\\n*** b) Phân tích SVD:')\n",
    "print('         - Ma trận U(', U.shape[1], ', ', U.shape[0], '): \\n', U, '\\n')\n",
    "print('         - Eigenvalues:', s, '\\n')\n",
    "print('         - Ma trận VT(', VT.shape[1], ', ', VT.shape[0], '): \\n', VT, '\\n')\n"
   ]
  },
  {
   "cell_type": "code",
   "execution_count": 5,
   "metadata": {},
   "outputs": [
    {
     "name": "stdout",
     "output_type": "stream",
     "text": [
      "\n",
      "*** c) NEW dataframe (using only the first two components):\n",
      "         - X1.shape(): (150, 4)\n",
      "   sepal_length  sepal_width  petal_length  petal_width\n",
      "0      5.099453     3.500508      1.400946     0.198406\n",
      "1      4.749747     3.191730      1.460070     0.254941\n",
      "2      4.690479     3.210891      1.308639     0.191555\n",
      "3      4.618348     3.084397      1.462666     0.267318\n",
      "4      5.078961     3.500519      1.363524     0.183240\n"
     ]
    }
   ],
   "source": [
    "## c) Tạo dataframe mới từ U, s, VT\n",
    "X1 = np.matrix(U[:, :2]) * np.diag(s[:2]) * np.matrix(VT[:2, :])\n",
    "\n",
    "print('\\n*** c) NEW dataframe (using only the first two components):')\n",
    "print('         - X1.shape():', X1.shape)\n",
    "Xnew = pd.DataFrame(X1, index = X.index, columns = X.columns)\n",
    "print(Xnew.head())"
   ]
  },
  {
   "cell_type": "code",
   "execution_count": 6,
   "metadata": {},
   "outputs": [
    {
     "name": "stdout",
     "output_type": "stream",
     "text": [
      "\n",
      "*** d) Error from actual value:\n",
      "   sepal_length  sepal_width  petal_length  petal_width\n",
      "0      0.000547    -0.000508     -0.000946     0.001594\n",
      "1      0.150253    -0.191730     -0.060070    -0.054941\n",
      "2      0.009521    -0.010891     -0.008639     0.008445\n",
      "3     -0.018348     0.015603      0.037334    -0.067318\n",
      "4     -0.078961     0.099481      0.036476     0.016760\n"
     ]
    }
   ],
   "source": [
    "## d) Tìm error\n",
    "print('\\n*** d) Error from actual value:')\n",
    "print((X - X1).head())"
   ]
  },
  {
   "cell_type": "code",
   "execution_count": 7,
   "metadata": {},
   "outputs": [
    {
     "name": "stdout",
     "output_type": "stream",
     "text": [
      "(150, 4)\n",
      "[[5.1 3.5 1.4 0.2]\n",
      " [4.9 3.  1.4 0.2]\n",
      " [4.7 3.2 1.3 0.2]\n",
      " [4.6 3.1 1.5 0.2]\n",
      " [5.  3.6 1.4 0.2]]\n",
      "   sepal_length  sepal_width  petal_length  petal_width\n",
      "0           5.1          3.5           1.4          0.2\n",
      "1           4.9          3.0           1.4          0.2\n",
      "2           4.7          3.2           1.3          0.2\n",
      "3           4.6          3.1           1.5          0.2\n",
      "4           5.0          3.6           1.4          0.2\n"
     ]
    }
   ],
   "source": [
    "## e) Tái tạo ma trận\n",
    "Sigma = np.zeros_like(X)\n",
    "Sigma[:X.shape[1], :X.shape[1]] = np.diag(s)\n",
    "print(Sigma.shape)\n",
    "\n",
    "X_c = U.dot(Sigma.dot(VT))\n",
    "print(X_c[0:5])\n",
    "\n",
    "X_c_new = pd.DataFrame(X_c, columns = X.columns)\n",
    "print(X_c_new.head())"
   ]
  }
 ],
 "metadata": {
  "kernelspec": {
   "display_name": "Python 3",
   "language": "python",
   "name": "python3"
  },
  "language_info": {
   "codemirror_mode": {
    "name": "ipython",
    "version": 3
   },
   "file_extension": ".py",
   "mimetype": "text/x-python",
   "name": "python",
   "nbconvert_exporter": "python",
   "pygments_lexer": "ipython3",
   "version": "3.8.5"
  }
 },
 "nbformat": 4,
 "nbformat_minor": 4
}
