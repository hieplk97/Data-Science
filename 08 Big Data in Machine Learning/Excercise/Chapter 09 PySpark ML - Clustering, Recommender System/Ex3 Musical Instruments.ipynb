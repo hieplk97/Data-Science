{
 "cells": [
  {
   "cell_type": "markdown",
   "metadata": {},
   "source": [
    "#### Dataset: Musical_Instruments_5.json\n",
    "#### Requirement:\n",
    "* Read dataset\n",
    "* Pre-processing data\n",
    "* Use \"asin\" (ProductID), \"reviewerID\" and overall (User's reviews for each product - rating) to build model to predict overalls => Give recommendation for users."
   ]
  },
  {
   "cell_type": "code",
   "execution_count": 1,
   "metadata": {},
   "outputs": [
    {
     "data": {
      "text/html": [
       "<style>pre { white-space: pre !important; }</style>"
      ],
      "text/plain": [
       "<IPython.core.display.HTML object>"
      ]
     },
     "metadata": {},
     "output_type": "display_data"
    }
   ],
   "source": [
    "from IPython.core.display import HTML\n",
    "display(HTML(\"<style>pre { white-space: pre !important; }</style>\"))"
   ]
  },
  {
   "cell_type": "code",
   "execution_count": 2,
   "metadata": {},
   "outputs": [],
   "source": [
    "import findspark\n",
    "findspark.init()"
   ]
  },
  {
   "cell_type": "code",
   "execution_count": 3,
   "metadata": {},
   "outputs": [],
   "source": [
    "import pandas as pd"
   ]
  },
  {
   "cell_type": "code",
   "execution_count": 4,
   "metadata": {},
   "outputs": [],
   "source": [
    "from pyspark.sql import SparkSession\n",
    "from pyspark.sql.functions import col, udf, isnull, when, count\n",
    "\n",
    "from pyspark.ml.feature import StringIndexer\n",
    "from pyspark.ml.recommendation import ALS\n",
    "from pyspark.ml.evaluation import RegressionEvaluator"
   ]
  },
  {
   "cell_type": "code",
   "execution_count": 5,
   "metadata": {},
   "outputs": [],
   "source": [
    "spark = SparkSession.builder.appName('Recommendation_system').getOrCreate()"
   ]
  },
  {
   "cell_type": "code",
   "execution_count": 6,
   "metadata": {},
   "outputs": [],
   "source": [
    "# Load data\n",
    "data = spark.read.json(\"../../Data/Musical_Instruments_5.json\")"
   ]
  },
  {
   "cell_type": "code",
   "execution_count": 7,
   "metadata": {},
   "outputs": [
    {
     "name": "stdout",
     "output_type": "stream",
     "text": [
      "+----------+--------+-------+--------------------+-----------+--------------+--------------------+--------------------+--------------+\n",
      "|      asin| helpful|overall|          reviewText| reviewTime|    reviewerID|        reviewerName|             summary|unixReviewTime|\n",
      "+----------+--------+-------+--------------------+-----------+--------------+--------------------+--------------------+--------------+\n",
      "|1384719342|  [0, 0]|    5.0|Not much to write...|02 28, 2014|A2IBPI20UZIR0U|cassandra tu \"Yea...|                good|    1393545600|\n",
      "|1384719342|[13, 14]|    5.0|The product does ...|03 16, 2013|A14VAT5EAX3D9S|                Jake|                Jake|    1363392000|\n",
      "|1384719342|  [1, 1]|    5.0|The primary job o...|08 28, 2013|A195EZSQDW3E21|Rick Bennette \"Ri...|It Does The Job Well|    1377648000|\n",
      "|1384719342|  [0, 0]|    5.0|Nice windscreen p...|02 14, 2014|A2C00NNG1ZQQG2|RustyBill \"Sunday...|GOOD WINDSCREEN F...|    1392336000|\n",
      "|1384719342|  [0, 0]|    5.0|This pop filter i...|02 21, 2014| A94QU4C90B1AX|       SEAN MASLANKA|No more pops when...|    1392940800|\n",
      "+----------+--------+-------+--------------------+-----------+--------------+--------------------+--------------------+--------------+\n",
      "only showing top 5 rows\n",
      "\n"
     ]
    }
   ],
   "source": [
    "data.show(5, truncate=True)"
   ]
  },
  {
   "cell_type": "code",
   "execution_count": 8,
   "metadata": {},
   "outputs": [],
   "source": [
    "data_sub = data.select(['asin', 'overall', 'reviewerID'])"
   ]
  },
  {
   "cell_type": "code",
   "execution_count": 9,
   "metadata": {},
   "outputs": [
    {
     "data": {
      "text/plain": [
       "10261"
      ]
     },
     "execution_count": 9,
     "metadata": {},
     "output_type": "execute_result"
    }
   ],
   "source": [
    "data_sub.count()"
   ]
  },
  {
   "cell_type": "code",
   "execution_count": 10,
   "metadata": {},
   "outputs": [
    {
     "name": "stdout",
     "output_type": "stream",
     "text": [
      "+----------+-------+--------------+\n",
      "|      asin|overall|    reviewerID|\n",
      "+----------+-------+--------------+\n",
      "|1384719342|    5.0|A2IBPI20UZIR0U|\n",
      "|1384719342|    5.0|A14VAT5EAX3D9S|\n",
      "|1384719342|    5.0|A195EZSQDW3E21|\n",
      "|1384719342|    5.0|A2C00NNG1ZQQG2|\n",
      "|1384719342|    5.0| A94QU4C90B1AX|\n",
      "+----------+-------+--------------+\n",
      "only showing top 5 rows\n",
      "\n"
     ]
    }
   ],
   "source": [
    "data_sub.show(5, truncate=True)"
   ]
  },
  {
   "cell_type": "code",
   "execution_count": 11,
   "metadata": {},
   "outputs": [
    {
     "data": {
      "text/html": [
       "<div>\n",
       "<style scoped>\n",
       "    .dataframe tbody tr th:only-of-type {\n",
       "        vertical-align: middle;\n",
       "    }\n",
       "\n",
       "    .dataframe tbody tr th {\n",
       "        vertical-align: top;\n",
       "    }\n",
       "\n",
       "    .dataframe thead th {\n",
       "        text-align: right;\n",
       "    }\n",
       "</style>\n",
       "<table border=\"1\" class=\"dataframe\">\n",
       "  <thead>\n",
       "    <tr style=\"text-align: right;\">\n",
       "      <th></th>\n",
       "      <th>0</th>\n",
       "    </tr>\n",
       "  </thead>\n",
       "  <tbody>\n",
       "    <tr>\n",
       "      <th>asin</th>\n",
       "      <td>0</td>\n",
       "    </tr>\n",
       "    <tr>\n",
       "      <th>overall</th>\n",
       "      <td>0</td>\n",
       "    </tr>\n",
       "    <tr>\n",
       "      <th>reviewerID</th>\n",
       "      <td>0</td>\n",
       "    </tr>\n",
       "  </tbody>\n",
       "</table>\n",
       "</div>"
      ],
      "text/plain": [
       "            0\n",
       "asin        0\n",
       "overall     0\n",
       "reviewerID  0"
      ]
     },
     "execution_count": 11,
     "metadata": {},
     "output_type": "execute_result"
    }
   ],
   "source": [
    "data_sub.select([count(when(isnull(c), c)).alias(c) for c in data_sub.columns]).toPandas().T"
   ]
  },
  {
   "cell_type": "code",
   "execution_count": 12,
   "metadata": {},
   "outputs": [],
   "source": [
    "# District users and movies\n",
    "users = data_sub.select(\"reviewerID\").distinct().count()\n",
    "products = data_sub.select(\"asin\").distinct().count()\n",
    "numberator = data_sub.count()"
   ]
  },
  {
   "cell_type": "code",
   "execution_count": 13,
   "metadata": {},
   "outputs": [
    {
     "data": {
      "text/plain": [
       "10261"
      ]
     },
     "metadata": {},
     "output_type": "display_data"
    },
    {
     "data": {
      "text/plain": [
       "1429"
      ]
     },
     "metadata": {},
     "output_type": "display_data"
    },
    {
     "data": {
      "text/plain": [
       "900"
      ]
     },
     "metadata": {},
     "output_type": "display_data"
    }
   ],
   "source": [
    "display(numberator, users, products)"
   ]
  },
  {
   "cell_type": "code",
   "execution_count": 14,
   "metadata": {},
   "outputs": [
    {
     "data": {
      "text/plain": [
       "1286100"
      ]
     },
     "execution_count": 14,
     "metadata": {},
     "output_type": "execute_result"
    }
   ],
   "source": [
    "# Number of rating matrix could contain if no empy cells\n",
    "denominator = users * products\n",
    "denominator"
   ]
  },
  {
   "cell_type": "code",
   "execution_count": 15,
   "metadata": {},
   "outputs": [
    {
     "name": "stdout",
     "output_type": "stream",
     "text": [
      "Sparsity: 0.992021615737501\n"
     ]
    }
   ],
   "source": [
    "# Calculating sparsity\n",
    "sparsity = 1 - (numberator * 1.0 / denominator)\n",
    "print(\"Sparsity:\", sparsity)"
   ]
  },
  {
   "cell_type": "code",
   "execution_count": 16,
   "metadata": {},
   "outputs": [],
   "source": [
    "# Create an indexer\n",
    "indexer = StringIndexer(inputCol='asin', outputCol='asin_idx')\n",
    "# Indexer identifies categories in the data\n",
    "indexer_model = indexer.fit(data_sub)\n",
    "# Indexer create a new column with numeric index values\n",
    "data_indexed = indexer_model.transform(data_sub)"
   ]
  },
  {
   "cell_type": "code",
   "execution_count": 17,
   "metadata": {},
   "outputs": [],
   "source": [
    "# Repeat the process for the other categorical feature\n",
    "indexer1 = StringIndexer(inputCol='reviewerID', outputCol='reviewerID_idx')\n",
    "indexer1_model = indexer1.fit(data_sub)\n",
    "data_indexed = indexer1_model.transform(data_indexed)"
   ]
  },
  {
   "cell_type": "code",
   "execution_count": 18,
   "metadata": {},
   "outputs": [
    {
     "name": "stdout",
     "output_type": "stream",
     "text": [
      "+----------+-------+--------------+--------+--------------+\n",
      "|      asin|overall|    reviewerID|asin_idx|reviewerID_idx|\n",
      "+----------+-------+--------------+--------+--------------+\n",
      "|1384719342|    5.0|A2IBPI20UZIR0U|   703.0|          66.0|\n",
      "|1384719342|    5.0|A14VAT5EAX3D9S|   703.0|         266.0|\n",
      "|1384719342|    5.0|A195EZSQDW3E21|   703.0|         395.0|\n",
      "|1384719342|    5.0|A2C00NNG1ZQQG2|   703.0|        1048.0|\n",
      "|1384719342|    5.0| A94QU4C90B1AX|   703.0|        1311.0|\n",
      "+----------+-------+--------------+--------+--------------+\n",
      "only showing top 5 rows\n",
      "\n"
     ]
    }
   ],
   "source": [
    "data_indexed.show(5, truncate=True)"
   ]
  },
  {
   "cell_type": "code",
   "execution_count": 19,
   "metadata": {},
   "outputs": [
    {
     "data": {
      "text/html": [
       "<div>\n",
       "<style scoped>\n",
       "    .dataframe tbody tr th:only-of-type {\n",
       "        vertical-align: middle;\n",
       "    }\n",
       "\n",
       "    .dataframe tbody tr th {\n",
       "        vertical-align: top;\n",
       "    }\n",
       "\n",
       "    .dataframe thead th {\n",
       "        text-align: right;\n",
       "    }\n",
       "</style>\n",
       "<table border=\"1\" class=\"dataframe\">\n",
       "  <thead>\n",
       "    <tr style=\"text-align: right;\">\n",
       "      <th></th>\n",
       "      <th>0</th>\n",
       "    </tr>\n",
       "  </thead>\n",
       "  <tbody>\n",
       "    <tr>\n",
       "      <th>asin</th>\n",
       "      <td>0</td>\n",
       "    </tr>\n",
       "    <tr>\n",
       "      <th>overall</th>\n",
       "      <td>0</td>\n",
       "    </tr>\n",
       "    <tr>\n",
       "      <th>reviewerID</th>\n",
       "      <td>0</td>\n",
       "    </tr>\n",
       "  </tbody>\n",
       "</table>\n",
       "</div>"
      ],
      "text/plain": [
       "            0\n",
       "asin        0\n",
       "overall     0\n",
       "reviewerID  0"
      ]
     },
     "execution_count": 19,
     "metadata": {},
     "output_type": "execute_result"
    }
   ],
   "source": [
    "data_sub.select([count(when(isnull(c), c)).alias(c) for c in data_sub.columns]).toPandas().T"
   ]
  },
  {
   "cell_type": "code",
   "execution_count": 20,
   "metadata": {},
   "outputs": [],
   "source": [
    "# Smaller dataset so we will use 0.8/0.2\n",
    "training, test = data_indexed.randomSplit([0.8, 0.2])"
   ]
  },
  {
   "cell_type": "code",
   "execution_count": 21,
   "metadata": {},
   "outputs": [],
   "source": [
    "als = ALS(maxIter=5, regParam=0.09, rank=25,\n",
    "          userCol=\"reviewerID_idx\", itemCol=\"asin_idx\", ratingCol=\"overall\",\n",
    "          coldStartStrategy=\"drop\", nonnegative=True)\n",
    "model = als.fit(training)"
   ]
  },
  {
   "cell_type": "code",
   "execution_count": 22,
   "metadata": {},
   "outputs": [],
   "source": [
    "# Evaluate the model by computing the RMSE on the test data\n",
    "predictions = model.transform(test)"
   ]
  },
  {
   "cell_type": "code",
   "execution_count": 23,
   "metadata": {},
   "outputs": [
    {
     "name": "stdout",
     "output_type": "stream",
     "text": [
      "+--------+--------------+-------+----------+\n",
      "|asin_idx|reviewerID_idx|overall|prediction|\n",
      "+--------+--------------+-------+----------+\n",
      "|   148.0|         258.0|    5.0| 4.8357267|\n",
      "|   148.0|        1181.0|    5.0| 3.9716198|\n",
      "|   148.0|        1117.0|    5.0| 4.1916695|\n",
      "|   496.0|        1208.0|    4.0| 4.1645975|\n",
      "|   496.0|           3.0|    5.0| 4.1181383|\n",
      "+--------+--------------+-------+----------+\n",
      "only showing top 5 rows\n",
      "\n"
     ]
    }
   ],
   "source": [
    "predictions.select([\"asin_idx\", \"reviewerID_idx\", \"overall\", \"prediction\"]).show(5)"
   ]
  },
  {
   "cell_type": "code",
   "execution_count": 24,
   "metadata": {},
   "outputs": [
    {
     "name": "stdout",
     "output_type": "stream",
     "text": [
      "Root mean squared error = 1.2170430053970474\n"
     ]
    }
   ],
   "source": [
    "evaluator = RegressionEvaluator(metricName=\"rmse\", labelCol=\"overall\", predictionCol=\"prediction\")\n",
    "rmse = evaluator.evaluate(predictions)\n",
    "print(\"Root mean squared error =\", str(rmse))"
   ]
  },
  {
   "cell_type": "markdown",
   "metadata": {},
   "source": [
    "### Providing Recommendations: for all users"
   ]
  },
  {
   "cell_type": "code",
   "execution_count": 25,
   "metadata": {},
   "outputs": [],
   "source": [
    "# Get 20 recommendations which have highest rating\n",
    "user_recs = model.recommendForAllUsers(20)"
   ]
  },
  {
   "cell_type": "code",
   "execution_count": 26,
   "metadata": {},
   "outputs": [
    {
     "name": "stdout",
     "output_type": "stream",
     "text": [
      "Row(reviewerID_idx=471, recommendations=[Row(asin_idx=634, rating=5.561305522918701), Row(asin_idx=870, rating=5.550746917724609), Row(asin_idx=620, rating=5.461918354034424), Row(asin_idx=838, rating=5.454563140869141), Row(asin_idx=48, rating=5.441943168640137), Row(asin_idx=881, rating=5.432235240936279), Row(asin_idx=610, rating=5.429994583129883), Row(asin_idx=886, rating=5.428886413574219), Row(asin_idx=733, rating=5.380276203155518), Row(asin_idx=669, rating=5.374698162078857), Row(asin_idx=748, rating=5.291914939880371), Row(asin_idx=829, rating=5.263034820556641), Row(asin_idx=503, rating=5.250359058380127), Row(asin_idx=202, rating=5.247001647949219), Row(asin_idx=703, rating=5.223143100738525), Row(asin_idx=218, rating=5.212152481079102), Row(asin_idx=878, rating=5.203555107116699), Row(asin_idx=410, rating=5.1761884689331055), Row(asin_idx=485, rating=5.174846649169922), Row(asin_idx=584, rating=5.167128086090088)])\n",
      "\n",
      "\n",
      "Row(reviewerID_idx=1342, recommendations=[Row(asin_idx=506, rating=5.726123332977295), Row(asin_idx=899, rating=5.697203159332275), Row(asin_idx=626, rating=5.630662441253662), Row(asin_idx=579, rating=5.521052837371826), Row(asin_idx=733, rating=5.491646766662598), Row(asin_idx=181, rating=5.476306438446045), Row(asin_idx=365, rating=5.464759826660156), Row(asin_idx=784, rating=5.409753799438477), Row(asin_idx=685, rating=5.407843589782715), Row(asin_idx=669, rating=5.404962539672852), Row(asin_idx=760, rating=5.39662504196167), Row(asin_idx=780, rating=5.391232013702393), Row(asin_idx=748, rating=5.384834289550781), Row(asin_idx=424, rating=5.366684913635254), Row(asin_idx=639, rating=5.364721775054932), Row(asin_idx=436, rating=5.331782817840576), Row(asin_idx=584, rating=5.32175874710083), Row(asin_idx=703, rating=5.312232971191406), Row(asin_idx=317, rating=5.304738998413086), Row(asin_idx=634, rating=5.299848556518555)])\n",
      "\n",
      "\n",
      "Row(reviewerID_idx=463, recommendations=[Row(asin_idx=579, rating=4.785772323608398), Row(asin_idx=584, rating=4.5523223876953125), Row(asin_idx=669, rating=4.545271396636963), Row(asin_idx=829, rating=4.466954231262207), Row(asin_idx=634, rating=4.459339141845703), Row(asin_idx=899, rating=4.42497444152832), Row(asin_idx=218, rating=4.408812522888184), Row(asin_idx=801, rating=4.404567241668701), Row(asin_idx=784, rating=4.3809380531311035), Row(asin_idx=733, rating=4.373541831970215), Row(asin_idx=748, rating=4.372843265533447), Row(asin_idx=857, rating=4.350022315979004), Row(asin_idx=365, rating=4.340001106262207), Row(asin_idx=626, rating=4.333043098449707), Row(asin_idx=295, rating=4.3127970695495605), Row(asin_idx=824, rating=4.260130405426025), Row(asin_idx=263, rating=4.251181125640869), Row(asin_idx=459, rating=4.24690580368042), Row(asin_idx=740, rating=4.233415603637695), Row(asin_idx=273, rating=4.233052730560303)])\n",
      "\n",
      "\n",
      "Row(reviewerID_idx=833, recommendations=[Row(asin_idx=775, rating=4.833013534545898), Row(asin_idx=218, rating=4.711692810058594), Row(asin_idx=733, rating=4.68780517578125), Row(asin_idx=263, rating=4.683302402496338), Row(asin_idx=506, rating=4.679948329925537), Row(asin_idx=421, rating=4.6786603927612305), Row(asin_idx=748, rating=4.651956081390381), Row(asin_idx=65, rating=4.649949073791504), Row(asin_idx=579, rating=4.649003505706787), Row(asin_idx=801, rating=4.633004665374756), Row(asin_idx=669, rating=4.63228702545166), Row(asin_idx=202, rating=4.609064102172852), Row(asin_idx=899, rating=4.60427188873291), Row(asin_idx=886, rating=4.600295066833496), Row(asin_idx=271, rating=4.558058738708496), Row(asin_idx=784, rating=4.549184799194336), Row(asin_idx=634, rating=4.54556131362915), Row(asin_idx=897, rating=4.538241386413574), Row(asin_idx=829, rating=4.505975723266602), Row(asin_idx=626, rating=4.496058464050293)])\n",
      "\n",
      "\n",
      "Row(reviewerID_idx=496, recommendations=[Row(asin_idx=899, rating=5.972017288208008), Row(asin_idx=251, rating=5.729816436767578), Row(asin_idx=501, rating=5.696168899536133), Row(asin_idx=553, rating=5.682898998260498), Row(asin_idx=685, rating=5.632844924926758), Row(asin_idx=868, rating=5.62531042098999), Row(asin_idx=784, rating=5.592361927032471), Row(asin_idx=801, rating=5.579466342926025), Row(asin_idx=357, rating=5.569227695465088), Row(asin_idx=760, rating=5.556297302246094), Row(asin_idx=579, rating=5.532926559448242), Row(asin_idx=626, rating=5.4961700439453125), Row(asin_idx=849, rating=5.486337184906006), Row(asin_idx=490, rating=5.474395275115967), Row(asin_idx=733, rating=5.471475601196289), Row(asin_idx=331, rating=5.458689212799072), Row(asin_idx=590, rating=5.45559549331665), Row(asin_idx=506, rating=5.445035934448242), Row(asin_idx=669, rating=5.4263505935668945), Row(asin_idx=320, rating=5.423004627227783)])\n",
      "\n",
      "\n"
     ]
    }
   ],
   "source": [
    "for user in user_recs.head(5):\n",
    "    print(user)\n",
    "    print(\"\\n\")"
   ]
  },
  {
   "cell_type": "markdown",
   "metadata": {},
   "source": [
    "### Converting back to string form"
   ]
  },
  {
   "cell_type": "code",
   "execution_count": 27,
   "metadata": {},
   "outputs": [],
   "source": [
    "recs = model.recommendForAllUsers(10).toPandas()\n",
    "nrecs = recs['recommendations'].apply(pd.Series).merge(recs, right_index=True, left_index=True).drop([\"recommendations\"], axis=1).melt(id_vars=[\"reviewerID_idx\"], value_name=\"recommendation\").drop([\"variable\"], axis=1).dropna()\n",
    "nrecs = nrecs.sort_values('reviewerID_idx')\n",
    "nrecs = pd.concat([nrecs[\"recommendation\"].apply(pd.Series),\n",
    "                   nrecs[\"reviewerID_idx\"]], axis=1)\n",
    "nrecs.columns = ['ProductID_index', 'Rating', 'UserID_index']"
   ]
  },
  {
   "cell_type": "code",
   "execution_count": 30,
   "metadata": {},
   "outputs": [
    {
     "name": "stderr",
     "output_type": "stream",
     "text": [
      "<ipython-input-30-cebb134bb618>:10: SettingWithCopyWarning: \n",
      "A value is trying to be set on a copy of a slice from a DataFrame.\n",
      "Try using .loc[row_indexer,col_indexer] = value instead\n",
      "\n",
      "See the caveats in the documentation: https://pandas.pydata.org/pandas-docs/stable/user_guide/indexing.html#returning-a-view-versus-a-copy\n",
      "  new['recommendations'] = list(zip(new.asin, new.Rating))\n"
     ]
    }
   ],
   "source": [
    "md = data_indexed.select(['reviewerID', 'reviewerID_idx', 'asin', 'asin_idx'])\n",
    "md = md.toPandas()\n",
    "dict1 = dict(zip(md['reviewerID_idx'], md['reviewerID']))\n",
    "dict2 = dict(zip(md['asin_idx'], md['asin']))\n",
    "nrecs['reviewerID'] = nrecs['UserID_index'].map(dict1)\n",
    "nrecs['asin'] = nrecs['ProductID_index'].map(dict2)\n",
    "nrecs = nrecs.sort_values('reviewerID')\n",
    "nrecs.reset_index(drop=True, inplace=True)\n",
    "new = nrecs[['reviewerID', 'asin', 'Rating']]\n",
    "new['recommendations'] = list(zip(new.asin, new.Rating))\n",
    "res = new[['reviewerID', 'recommendations']]\n",
    "res_new = res['recommendations'].groupby(res['reviewerID']).apply(list).reset_index()"
   ]
  },
  {
   "cell_type": "code",
   "execution_count": 31,
   "metadata": {},
   "outputs": [
    {
     "data": {
      "text/html": [
       "<div>\n",
       "<style scoped>\n",
       "    .dataframe tbody tr th:only-of-type {\n",
       "        vertical-align: middle;\n",
       "    }\n",
       "\n",
       "    .dataframe tbody tr th {\n",
       "        vertical-align: top;\n",
       "    }\n",
       "\n",
       "    .dataframe thead th {\n",
       "        text-align: right;\n",
       "    }\n",
       "</style>\n",
       "<table border=\"1\" class=\"dataframe\">\n",
       "  <thead>\n",
       "    <tr style=\"text-align: right;\">\n",
       "      <th></th>\n",
       "      <th>reviewerID</th>\n",
       "      <th>recommendations</th>\n",
       "    </tr>\n",
       "  </thead>\n",
       "  <tbody>\n",
       "    <tr>\n",
       "      <th>0</th>\n",
       "      <td>A00625243BI8W1SSZNLMD</td>\n",
       "      <td>[(B0009EU01G, 5.520554542541504), (B000RYPN38,...</td>\n",
       "    </tr>\n",
       "    <tr>\n",
       "      <th>1</th>\n",
       "      <td>A10044ECXDUVKS</td>\n",
       "      <td>[(B000SZVYLQ, 5.274088382720947), (B0002GXRF2,...</td>\n",
       "    </tr>\n",
       "    <tr>\n",
       "      <th>2</th>\n",
       "      <td>A102MU6ZC9H1N6</td>\n",
       "      <td>[(B000RYPN38, 5.831742286682129), (B004FODY6E,...</td>\n",
       "    </tr>\n",
       "    <tr>\n",
       "      <th>3</th>\n",
       "      <td>A109JTUZXO61UY</td>\n",
       "      <td>[(B0002GJ3ZA, 6.912607192993164), (B0002GXRF2,...</td>\n",
       "    </tr>\n",
       "    <tr>\n",
       "      <th>4</th>\n",
       "      <td>A109ME7C09HM2M</td>\n",
       "      <td>[(B0002GXRF2, 5.714378356933594), (B003S3S0DU,...</td>\n",
       "    </tr>\n",
       "    <tr>\n",
       "      <th>...</th>\n",
       "      <td>...</td>\n",
       "      <td>...</td>\n",
       "    </tr>\n",
       "    <tr>\n",
       "      <th>1423</th>\n",
       "      <td>AZJPNK73JF3XP</td>\n",
       "      <td>[(B001C9R5P6, 6.2771501541137695), (B0002M728Y...</td>\n",
       "    </tr>\n",
       "    <tr>\n",
       "      <th>1424</th>\n",
       "      <td>AZMHABTPXVLG3</td>\n",
       "      <td>[(B000W00X1Y, 4.890178680419922), (B000XPRSTI,...</td>\n",
       "    </tr>\n",
       "    <tr>\n",
       "      <th>1425</th>\n",
       "      <td>AZMIKIG4BB6BZ</td>\n",
       "      <td>[(B0002GJ3ZA, 6.146444797515869), (B001C9R5P6,...</td>\n",
       "    </tr>\n",
       "    <tr>\n",
       "      <th>1426</th>\n",
       "      <td>AZPDO6FLSMLFP</td>\n",
       "      <td>[(B001NXDSK2, 5.151345252990723), (B0002D0CA8,...</td>\n",
       "    </tr>\n",
       "    <tr>\n",
       "      <th>1427</th>\n",
       "      <td>AZVME8JMPD3F4</td>\n",
       "      <td>[(B004ZKIHVU, 5.082430839538574), (B002MWKOAA,...</td>\n",
       "    </tr>\n",
       "  </tbody>\n",
       "</table>\n",
       "<p>1428 rows × 2 columns</p>\n",
       "</div>"
      ],
      "text/plain": [
       "                 reviewerID                                    recommendations\n",
       "0     A00625243BI8W1SSZNLMD  [(B0009EU01G, 5.520554542541504), (B000RYPN38,...\n",
       "1            A10044ECXDUVKS  [(B000SZVYLQ, 5.274088382720947), (B0002GXRF2,...\n",
       "2            A102MU6ZC9H1N6  [(B000RYPN38, 5.831742286682129), (B004FODY6E,...\n",
       "3            A109JTUZXO61UY  [(B0002GJ3ZA, 6.912607192993164), (B0002GXRF2,...\n",
       "4            A109ME7C09HM2M  [(B0002GXRF2, 5.714378356933594), (B003S3S0DU,...\n",
       "...                     ...                                                ...\n",
       "1423          AZJPNK73JF3XP  [(B001C9R5P6, 6.2771501541137695), (B0002M728Y...\n",
       "1424          AZMHABTPXVLG3  [(B000W00X1Y, 4.890178680419922), (B000XPRSTI,...\n",
       "1425          AZMIKIG4BB6BZ  [(B0002GJ3ZA, 6.146444797515869), (B001C9R5P6,...\n",
       "1426          AZPDO6FLSMLFP  [(B001NXDSK2, 5.151345252990723), (B0002D0CA8,...\n",
       "1427          AZVME8JMPD3F4  [(B004ZKIHVU, 5.082430839538574), (B002MWKOAA,...\n",
       "\n",
       "[1428 rows x 2 columns]"
      ]
     },
     "execution_count": 31,
     "metadata": {},
     "output_type": "execute_result"
    }
   ],
   "source": [
    "res_new"
   ]
  }
 ],
 "metadata": {
  "kernelspec": {
   "display_name": "Python 3",
   "language": "python",
   "name": "python3"
  },
  "language_info": {
   "codemirror_mode": {
    "name": "ipython",
    "version": 3
   },
   "file_extension": ".py",
   "mimetype": "text/x-python",
   "name": "python",
   "nbconvert_exporter": "python",
   "pygments_lexer": "ipython3",
   "version": "3.8.3"
  }
 },
 "nbformat": 4,
 "nbformat_minor": 4
}
