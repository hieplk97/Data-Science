{
 "cells": [
  {
   "cell_type": "code",
   "execution_count": 1,
   "metadata": {},
   "outputs": [],
   "source": [
    "library(\"XML\")\n",
    "library(\"methods\")"
   ]
  },
  {
   "cell_type": "code",
   "execution_count": 2,
   "metadata": {},
   "outputs": [
    {
     "name": "stdout",
     "output_type": "stream",
     "text": [
      "              names  mpg cyl disp  hp drat    wt  qsec vs am gear carb\n",
      "1         Mazda RX4 21.0   6  160 110 3.90 2.620 16.46  0  1    4    4\n",
      "2     Mazda RX4 Wag 21.0   6  160 110 3.90 2.875 17.02  0  1    4    4\n",
      "3        Datsun 710 22.8   4  108  93 3.85 2.320 18.61  1  1    4    1\n",
      "4    Hornet 4 Drive 21.4   6  258 110 3.08 3.215 19.44  1  0    3    1\n",
      "5 Hornet Sportabout 18.7   8  360 175 3.15 3.440 17.02  0  0    3    2\n",
      "6           Valiant 18.1   6  225 105 2.76 3.460 20.22  1  0    3    1\n"
     ]
    }
   ],
   "source": [
    "df = mtcars\n",
    "df = cbind(names = rownames(df), df)\n",
    "rownames(df) = c()\n",
    "print(head(df))"
   ]
  },
  {
   "cell_type": "code",
   "execution_count": 4,
   "metadata": {},
   "outputs": [
    {
     "name": "stdout",
     "output_type": "stream",
     "text": [
      "[1] \"Create XML:\"\n",
      "[1] \"Saving file\"\n",
      "mtcars_new.xml[1] \"Completed\"\n"
     ]
    }
   ],
   "source": [
    "print(\"Create XML:\")\n",
    "# Create xml file from data frame\n",
    "doc = newXMLDoc()\n",
    "# Simple creation of and XML tree using these functions\n",
    "top = newXMLNode(\"CATALOG\", doc = doc)\n",
    "for (row in 1:nrow(df)) {\n",
    "    cdnode = newXMLNode(\"CD\", parent = top)\n",
    "    newXMLNode(\"names\", df[row, \"names\"], parent = cdnode)\n",
    "    newXMLNode(\"mpg\", df[row, \"mpg\"], parent = cdnode)\n",
    "    newXMLNode(\"wt\", df[row, \"wt\"], parent = cdnode)\n",
    "    newXMLNode(\"gear\", df[row, \"gear\"], parent = cdnode)\n",
    "}\n",
    "print(\"Saving file\")\n",
    "cat(saveXML(doc, indent = TRUE,\n",
    "    prefix = \"<?xml version=\\\"1.0\\\" encoding=\\\"UTF-8\\\"?>\\n\",\n",
    "    file = \"mtcars_new.xml\"))\n",
    "print(\"Completed\")"
   ]
  },
  {
   "cell_type": "code",
   "execution_count": 5,
   "metadata": {},
   "outputs": [
    {
     "data": {
      "text/html": [
       "<table>\n",
       "<caption>A data.frame: 6 × 4</caption>\n",
       "<thead>\n",
       "\t<tr><th></th><th scope=col>names</th><th scope=col>mpg</th><th scope=col>wt</th><th scope=col>gear</th></tr>\n",
       "\t<tr><th></th><th scope=col>&lt;chr&gt;</th><th scope=col>&lt;chr&gt;</th><th scope=col>&lt;chr&gt;</th><th scope=col>&lt;chr&gt;</th></tr>\n",
       "</thead>\n",
       "<tbody>\n",
       "\t<tr><th scope=row>1</th><td>Mazda RX4        </td><td>21  </td><td>2.62 </td><td>4</td></tr>\n",
       "\t<tr><th scope=row>2</th><td>Mazda RX4 Wag    </td><td>21  </td><td>2.875</td><td>4</td></tr>\n",
       "\t<tr><th scope=row>3</th><td>Datsun 710       </td><td>22.8</td><td>2.32 </td><td>4</td></tr>\n",
       "\t<tr><th scope=row>4</th><td>Hornet 4 Drive   </td><td>21.4</td><td>3.215</td><td>3</td></tr>\n",
       "\t<tr><th scope=row>5</th><td>Hornet Sportabout</td><td>18.7</td><td>3.44 </td><td>3</td></tr>\n",
       "\t<tr><th scope=row>6</th><td>Valiant          </td><td>18.1</td><td>3.46 </td><td>3</td></tr>\n",
       "</tbody>\n",
       "</table>\n"
      ],
      "text/latex": [
       "A data.frame: 6 × 4\n",
       "\\begin{tabular}{r|llll}\n",
       "  & names & mpg & wt & gear\\\\\n",
       "  & <chr> & <chr> & <chr> & <chr>\\\\\n",
       "\\hline\n",
       "\t1 & Mazda RX4         & 21   & 2.62  & 4\\\\\n",
       "\t2 & Mazda RX4 Wag     & 21   & 2.875 & 4\\\\\n",
       "\t3 & Datsun 710        & 22.8 & 2.32  & 4\\\\\n",
       "\t4 & Hornet 4 Drive    & 21.4 & 3.215 & 3\\\\\n",
       "\t5 & Hornet Sportabout & 18.7 & 3.44  & 3\\\\\n",
       "\t6 & Valiant           & 18.1 & 3.46  & 3\\\\\n",
       "\\end{tabular}\n"
      ],
      "text/markdown": [
       "\n",
       "A data.frame: 6 × 4\n",
       "\n",
       "| <!--/--> | names &lt;chr&gt; | mpg &lt;chr&gt; | wt &lt;chr&gt; | gear &lt;chr&gt; |\n",
       "|---|---|---|---|---|\n",
       "| 1 | Mazda RX4         | 21   | 2.62  | 4 |\n",
       "| 2 | Mazda RX4 Wag     | 21   | 2.875 | 4 |\n",
       "| 3 | Datsun 710        | 22.8 | 2.32  | 4 |\n",
       "| 4 | Hornet 4 Drive    | 21.4 | 3.215 | 3 |\n",
       "| 5 | Hornet Sportabout | 18.7 | 3.44  | 3 |\n",
       "| 6 | Valiant           | 18.1 | 3.46  | 3 |\n",
       "\n"
      ],
      "text/plain": [
       "  names             mpg  wt    gear\n",
       "1 Mazda RX4         21   2.62  4   \n",
       "2 Mazda RX4 Wag     21   2.875 4   \n",
       "3 Datsun 710        22.8 2.32  4   \n",
       "4 Hornet 4 Drive    21.4 3.215 3   \n",
       "5 Hornet Sportabout 18.7 3.44  3   \n",
       "6 Valiant           18.1 3.46  3   "
      ]
     },
     "metadata": {},
     "output_type": "display_data"
    }
   ],
   "source": [
    "xml_dataframe = xmlToDataFrame(\"mtcars_new.xml\")\n",
    "head(xml_dataframe)"
   ]
  },
  {
   "cell_type": "code",
   "execution_count": null,
   "metadata": {},
   "outputs": [],
   "source": []
  }
 ],
 "metadata": {
  "kernelspec": {
   "display_name": "R",
   "language": "R",
   "name": "ir"
  },
  "language_info": {
   "codemirror_mode": "r",
   "file_extension": ".r",
   "mimetype": "text/x-r-source",
   "name": "R",
   "pygments_lexer": "r",
   "version": "4.0.3"
  }
 },
 "nbformat": 4,
 "nbformat_minor": 4
}
