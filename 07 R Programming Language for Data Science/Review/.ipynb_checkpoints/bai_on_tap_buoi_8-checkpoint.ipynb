{
 "cells": [
  {
   "cell_type": "markdown",
   "metadata": {
    "id": "91YBOyAVCmjy"
   },
   "source": [
    "# Bài ôn tập buổi 8: Marketing\n",
    "### Yêu cầu: Áp dụng Simple Linear Regression để dự đoán sales dựa trên youtube\n",
    "- Cho dữ liệu marketing.csv. Hãy áp dụng Simple Linear Regression để dự đoán dự đoán sales dựa trên youtube\n",
    "- Đọc dữ liệu và gán cho biến data.\n",
    "- Xem thông tin data: head(), số dòng, số cột, str, summary\n",
    "- Tiền xử lý dữ liệu\n",
    "- Vẽ biểu đồ quan sát mối liên hệ giữa sales và youtube \n",
    "- Kiểm tra outliers => loại outliers\n",
    "- Tạo train:test từ dữ liệu data với tỉ lệ 70:30\n",
    "- Thực hiện Linenear Regression với train data.\n",
    "- In summary của model\n",
    "- Dự đoán y_test_predict từ test data => so sánh với y_test_pred với y_test\n",
    "- Tính Mean Square Error (mse), r^2 cho train, r^2 cho test. Nhận xét\n",
    "- Tìm Coefficients, Intercept\n",
    "- Cho youtube lần lượt: x <- c(100, 200, 300) => dự đoán sales\n",
    "- Trực quan hóa kết quả\n",
    "\n",
    "### Yêu cầu bổ sung: Áp dụng Multiple Linear Regression để dự đoán sales dựa trên các thuộc tính (youtube, facebook, newspaper) do HV tự lựa chọn (2, 3 thuộc tính). Nhận xét kết quả so với Simple Linear Regression.\n"
   ]
  },
  {
   "cell_type": "code",
   "execution_count": 1,
   "metadata": {},
   "outputs": [],
   "source": [
    "data = read.csv(\"../Data/marketing.csv\")"
   ]
  },
  {
   "cell_type": "code",
   "execution_count": 2,
   "metadata": {},
   "outputs": [
    {
     "data": {
      "text/html": [
       "<table>\n",
       "<caption>A data.frame: 6 × 4</caption>\n",
       "<thead>\n",
       "\t<tr><th></th><th scope=col>youtube</th><th scope=col>facebook</th><th scope=col>newspaper</th><th scope=col>sales</th></tr>\n",
       "\t<tr><th></th><th scope=col>&lt;dbl&gt;</th><th scope=col>&lt;dbl&gt;</th><th scope=col>&lt;dbl&gt;</th><th scope=col>&lt;dbl&gt;</th></tr>\n",
       "</thead>\n",
       "<tbody>\n",
       "\t<tr><th scope=row>1</th><td>276.12</td><td>45.36</td><td>83.04</td><td>26.52</td></tr>\n",
       "\t<tr><th scope=row>2</th><td> 53.40</td><td>47.16</td><td>54.12</td><td>12.48</td></tr>\n",
       "\t<tr><th scope=row>3</th><td> 20.64</td><td>55.08</td><td>83.16</td><td>11.16</td></tr>\n",
       "\t<tr><th scope=row>4</th><td>181.80</td><td>49.56</td><td>70.20</td><td>22.20</td></tr>\n",
       "\t<tr><th scope=row>5</th><td>216.96</td><td>12.96</td><td>70.08</td><td>15.48</td></tr>\n",
       "\t<tr><th scope=row>6</th><td> 10.44</td><td>58.68</td><td>90.00</td><td> 8.64</td></tr>\n",
       "</tbody>\n",
       "</table>\n"
      ],
      "text/latex": [
       "A data.frame: 6 × 4\n",
       "\\begin{tabular}{r|llll}\n",
       "  & youtube & facebook & newspaper & sales\\\\\n",
       "  & <dbl> & <dbl> & <dbl> & <dbl>\\\\\n",
       "\\hline\n",
       "\t1 & 276.12 & 45.36 & 83.04 & 26.52\\\\\n",
       "\t2 &  53.40 & 47.16 & 54.12 & 12.48\\\\\n",
       "\t3 &  20.64 & 55.08 & 83.16 & 11.16\\\\\n",
       "\t4 & 181.80 & 49.56 & 70.20 & 22.20\\\\\n",
       "\t5 & 216.96 & 12.96 & 70.08 & 15.48\\\\\n",
       "\t6 &  10.44 & 58.68 & 90.00 &  8.64\\\\\n",
       "\\end{tabular}\n"
      ],
      "text/markdown": [
       "\n",
       "A data.frame: 6 × 4\n",
       "\n",
       "| <!--/--> | youtube &lt;dbl&gt; | facebook &lt;dbl&gt; | newspaper &lt;dbl&gt; | sales &lt;dbl&gt; |\n",
       "|---|---|---|---|---|\n",
       "| 1 | 276.12 | 45.36 | 83.04 | 26.52 |\n",
       "| 2 |  53.40 | 47.16 | 54.12 | 12.48 |\n",
       "| 3 |  20.64 | 55.08 | 83.16 | 11.16 |\n",
       "| 4 | 181.80 | 49.56 | 70.20 | 22.20 |\n",
       "| 5 | 216.96 | 12.96 | 70.08 | 15.48 |\n",
       "| 6 |  10.44 | 58.68 | 90.00 |  8.64 |\n",
       "\n"
      ],
      "text/plain": [
       "  youtube facebook newspaper sales\n",
       "1 276.12  45.36    83.04     26.52\n",
       "2  53.40  47.16    54.12     12.48\n",
       "3  20.64  55.08    83.16     11.16\n",
       "4 181.80  49.56    70.20     22.20\n",
       "5 216.96  12.96    70.08     15.48\n",
       "6  10.44  58.68    90.00      8.64"
      ]
     },
     "metadata": {},
     "output_type": "display_data"
    }
   ],
   "source": [
    "head(data)"
   ]
  },
  {
   "cell_type": "code",
   "execution_count": 3,
   "metadata": {},
   "outputs": [
    {
     "name": "stdout",
     "output_type": "stream",
     "text": [
      "'data.frame':\t200 obs. of  4 variables:\n",
      " $ youtube  : num  276.1 53.4 20.6 181.8 217 ...\n",
      " $ facebook : num  45.4 47.2 55.1 49.6 13 ...\n",
      " $ newspaper: num  83 54.1 83.2 70.2 70.1 ...\n",
      " $ sales    : num  26.5 12.5 11.2 22.2 15.5 ...\n"
     ]
    }
   ],
   "source": [
    "str(data)"
   ]
  },
  {
   "cell_type": "code",
   "execution_count": 4,
   "metadata": {},
   "outputs": [
    {
     "data": {
      "text/plain": [
       "    youtube          facebook       newspaper          sales      \n",
       " Min.   :  0.84   Min.   : 0.00   Min.   :  0.36   Min.   : 1.92  \n",
       " 1st Qu.: 89.25   1st Qu.:11.97   1st Qu.: 15.30   1st Qu.:12.45  \n",
       " Median :179.70   Median :27.48   Median : 30.90   Median :15.48  \n",
       " Mean   :176.45   Mean   :27.92   Mean   : 36.66   Mean   :16.83  \n",
       " 3rd Qu.:262.59   3rd Qu.:43.83   3rd Qu.: 54.12   3rd Qu.:20.88  \n",
       " Max.   :355.68   Max.   :59.52   Max.   :136.80   Max.   :32.40  "
      ]
     },
     "metadata": {},
     "output_type": "display_data"
    }
   ],
   "source": [
    "summary(data)"
   ]
  },
  {
   "cell_type": "code",
   "execution_count": 5,
   "metadata": {},
   "outputs": [
    {
     "data": {
      "text/html": [
       "<table>\n",
       "<caption>A data.frame: 200 × 4</caption>\n",
       "<thead>\n",
       "\t<tr><th></th><th scope=col>youtube</th><th scope=col>facebook</th><th scope=col>newspaper</th><th scope=col>sales</th></tr>\n",
       "\t<tr><th></th><th scope=col>&lt;dbl&gt;</th><th scope=col>&lt;dbl&gt;</th><th scope=col>&lt;dbl&gt;</th><th scope=col>&lt;dbl&gt;</th></tr>\n",
       "</thead>\n",
       "<tbody>\n",
       "\t<tr><th scope=row>1</th><td>276.12</td><td>45.36</td><td> 83.04</td><td>26.52</td></tr>\n",
       "\t<tr><th scope=row>2</th><td> 53.40</td><td>47.16</td><td> 54.12</td><td>12.48</td></tr>\n",
       "\t<tr><th scope=row>3</th><td> 20.64</td><td>55.08</td><td> 83.16</td><td>11.16</td></tr>\n",
       "\t<tr><th scope=row>4</th><td>181.80</td><td>49.56</td><td> 70.20</td><td>22.20</td></tr>\n",
       "\t<tr><th scope=row>5</th><td>216.96</td><td>12.96</td><td> 70.08</td><td>15.48</td></tr>\n",
       "\t<tr><th scope=row>6</th><td> 10.44</td><td>58.68</td><td> 90.00</td><td> 8.64</td></tr>\n",
       "\t<tr><th scope=row>7</th><td> 69.00</td><td>39.36</td><td> 28.20</td><td>14.16</td></tr>\n",
       "\t<tr><th scope=row>8</th><td>144.24</td><td>23.52</td><td> 13.92</td><td>15.84</td></tr>\n",
       "\t<tr><th scope=row>9</th><td> 10.32</td><td> 2.52</td><td>  1.20</td><td> 5.76</td></tr>\n",
       "\t<tr><th scope=row>10</th><td>239.76</td><td> 3.12</td><td> 25.44</td><td>12.72</td></tr>\n",
       "\t<tr><th scope=row>11</th><td> 79.32</td><td> 6.96</td><td> 29.04</td><td>10.32</td></tr>\n",
       "\t<tr><th scope=row>12</th><td>257.64</td><td>28.80</td><td>  4.80</td><td>20.88</td></tr>\n",
       "\t<tr><th scope=row>13</th><td> 28.56</td><td>42.12</td><td> 79.08</td><td>11.04</td></tr>\n",
       "\t<tr><th scope=row>14</th><td>117.00</td><td> 9.12</td><td>  8.64</td><td>11.64</td></tr>\n",
       "\t<tr><th scope=row>15</th><td>244.92</td><td>39.48</td><td> 55.20</td><td>22.80</td></tr>\n",
       "\t<tr><th scope=row>16</th><td>234.48</td><td>57.24</td><td> 63.48</td><td>26.88</td></tr>\n",
       "\t<tr><th scope=row>17</th><td> 81.36</td><td>43.92</td><td>136.80</td><td>15.00</td></tr>\n",
       "\t<tr><th scope=row>18</th><td>337.68</td><td>47.52</td><td> 66.96</td><td>29.28</td></tr>\n",
       "\t<tr><th scope=row>19</th><td> 83.04</td><td>24.60</td><td> 21.96</td><td>13.56</td></tr>\n",
       "\t<tr><th scope=row>20</th><td>176.76</td><td>28.68</td><td> 22.92</td><td>17.52</td></tr>\n",
       "\t<tr><th scope=row>21</th><td>262.08</td><td>33.24</td><td> 64.08</td><td>21.60</td></tr>\n",
       "\t<tr><th scope=row>22</th><td>284.88</td><td> 6.12</td><td> 28.20</td><td>15.00</td></tr>\n",
       "\t<tr><th scope=row>23</th><td> 15.84</td><td>19.08</td><td> 59.52</td><td> 6.72</td></tr>\n",
       "\t<tr><th scope=row>24</th><td>273.96</td><td>20.28</td><td> 31.44</td><td>18.60</td></tr>\n",
       "\t<tr><th scope=row>25</th><td> 74.76</td><td>15.12</td><td> 21.96</td><td>11.64</td></tr>\n",
       "\t<tr><th scope=row>26</th><td>315.48</td><td> 4.20</td><td> 23.40</td><td>14.40</td></tr>\n",
       "\t<tr><th scope=row>27</th><td>171.48</td><td>35.16</td><td> 15.12</td><td>18.00</td></tr>\n",
       "\t<tr><th scope=row>28</th><td>288.12</td><td>20.04</td><td> 27.48</td><td>19.08</td></tr>\n",
       "\t<tr><th scope=row>29</th><td>298.56</td><td>32.52</td><td> 27.48</td><td>22.68</td></tr>\n",
       "\t<tr><th scope=row>30</th><td> 84.72</td><td>19.20</td><td> 48.96</td><td>12.60</td></tr>\n",
       "\t<tr><th scope=row>...</th><td>...</td><td>...</td><td>...</td><td>...</td></tr>\n",
       "\t<tr><th scope=row>171</th><td> 60.00</td><td>13.92</td><td>22.08</td><td>10.08</td></tr>\n",
       "\t<tr><th scope=row>172</th><td>197.40</td><td>25.08</td><td>56.88</td><td>17.40</td></tr>\n",
       "\t<tr><th scope=row>173</th><td> 23.52</td><td>24.12</td><td>20.40</td><td> 9.12</td></tr>\n",
       "\t<tr><th scope=row>174</th><td>202.08</td><td> 8.52</td><td>15.36</td><td>14.04</td></tr>\n",
       "\t<tr><th scope=row>175</th><td>266.88</td><td> 4.08</td><td>15.72</td><td>13.80</td></tr>\n",
       "\t<tr><th scope=row>176</th><td>332.28</td><td>58.68</td><td>50.16</td><td>32.40</td></tr>\n",
       "\t<tr><th scope=row>177</th><td>298.08</td><td>36.24</td><td>24.36</td><td>24.24</td></tr>\n",
       "\t<tr><th scope=row>178</th><td>204.24</td><td> 9.36</td><td>42.24</td><td>14.04</td></tr>\n",
       "\t<tr><th scope=row>179</th><td>332.04</td><td> 2.76</td><td>28.44</td><td>14.16</td></tr>\n",
       "\t<tr><th scope=row>180</th><td>198.72</td><td>12.00</td><td>21.12</td><td>15.12</td></tr>\n",
       "\t<tr><th scope=row>181</th><td>187.92</td><td> 3.12</td><td> 9.96</td><td>12.60</td></tr>\n",
       "\t<tr><th scope=row>182</th><td>262.20</td><td> 6.48</td><td>32.88</td><td>14.64</td></tr>\n",
       "\t<tr><th scope=row>183</th><td> 67.44</td><td> 6.84</td><td>35.64</td><td>10.44</td></tr>\n",
       "\t<tr><th scope=row>184</th><td>345.12</td><td>51.60</td><td>86.16</td><td>31.44</td></tr>\n",
       "\t<tr><th scope=row>185</th><td>304.56</td><td>25.56</td><td>36.00</td><td>21.12</td></tr>\n",
       "\t<tr><th scope=row>186</th><td>246.00</td><td>54.12</td><td>23.52</td><td>27.12</td></tr>\n",
       "\t<tr><th scope=row>187</th><td>167.40</td><td> 2.52</td><td>31.92</td><td>12.36</td></tr>\n",
       "\t<tr><th scope=row>188</th><td>229.32</td><td>34.44</td><td>21.84</td><td>20.76</td></tr>\n",
       "\t<tr><th scope=row>189</th><td>343.20</td><td>16.68</td><td> 4.44</td><td>19.08</td></tr>\n",
       "\t<tr><th scope=row>190</th><td> 22.44</td><td>14.52</td><td>28.08</td><td> 8.04</td></tr>\n",
       "\t<tr><th scope=row>191</th><td> 47.40</td><td>49.32</td><td> 6.96</td><td>12.96</td></tr>\n",
       "\t<tr><th scope=row>192</th><td> 90.60</td><td>12.96</td><td> 7.20</td><td>11.88</td></tr>\n",
       "\t<tr><th scope=row>193</th><td> 20.64</td><td> 4.92</td><td>37.92</td><td> 7.08</td></tr>\n",
       "\t<tr><th scope=row>194</th><td>200.16</td><td>50.40</td><td> 4.32</td><td>23.52</td></tr>\n",
       "\t<tr><th scope=row>195</th><td>179.64</td><td>42.72</td><td> 7.20</td><td>20.76</td></tr>\n",
       "\t<tr><th scope=row>196</th><td> 45.84</td><td> 4.44</td><td>16.56</td><td> 9.12</td></tr>\n",
       "\t<tr><th scope=row>197</th><td>113.04</td><td> 5.88</td><td> 9.72</td><td>11.64</td></tr>\n",
       "\t<tr><th scope=row>198</th><td>212.40</td><td>11.16</td><td> 7.68</td><td>15.36</td></tr>\n",
       "\t<tr><th scope=row>199</th><td>340.32</td><td>50.40</td><td>79.44</td><td>30.60</td></tr>\n",
       "\t<tr><th scope=row>200</th><td>278.52</td><td>10.32</td><td>10.44</td><td>16.08</td></tr>\n",
       "</tbody>\n",
       "</table>\n"
      ],
      "text/latex": [
       "A data.frame: 200 × 4\n",
       "\\begin{tabular}{r|llll}\n",
       "  & youtube & facebook & newspaper & sales\\\\\n",
       "  & <dbl> & <dbl> & <dbl> & <dbl>\\\\\n",
       "\\hline\n",
       "\t1 & 276.12 & 45.36 &  83.04 & 26.52\\\\\n",
       "\t2 &  53.40 & 47.16 &  54.12 & 12.48\\\\\n",
       "\t3 &  20.64 & 55.08 &  83.16 & 11.16\\\\\n",
       "\t4 & 181.80 & 49.56 &  70.20 & 22.20\\\\\n",
       "\t5 & 216.96 & 12.96 &  70.08 & 15.48\\\\\n",
       "\t6 &  10.44 & 58.68 &  90.00 &  8.64\\\\\n",
       "\t7 &  69.00 & 39.36 &  28.20 & 14.16\\\\\n",
       "\t8 & 144.24 & 23.52 &  13.92 & 15.84\\\\\n",
       "\t9 &  10.32 &  2.52 &   1.20 &  5.76\\\\\n",
       "\t10 & 239.76 &  3.12 &  25.44 & 12.72\\\\\n",
       "\t11 &  79.32 &  6.96 &  29.04 & 10.32\\\\\n",
       "\t12 & 257.64 & 28.80 &   4.80 & 20.88\\\\\n",
       "\t13 &  28.56 & 42.12 &  79.08 & 11.04\\\\\n",
       "\t14 & 117.00 &  9.12 &   8.64 & 11.64\\\\\n",
       "\t15 & 244.92 & 39.48 &  55.20 & 22.80\\\\\n",
       "\t16 & 234.48 & 57.24 &  63.48 & 26.88\\\\\n",
       "\t17 &  81.36 & 43.92 & 136.80 & 15.00\\\\\n",
       "\t18 & 337.68 & 47.52 &  66.96 & 29.28\\\\\n",
       "\t19 &  83.04 & 24.60 &  21.96 & 13.56\\\\\n",
       "\t20 & 176.76 & 28.68 &  22.92 & 17.52\\\\\n",
       "\t21 & 262.08 & 33.24 &  64.08 & 21.60\\\\\n",
       "\t22 & 284.88 &  6.12 &  28.20 & 15.00\\\\\n",
       "\t23 &  15.84 & 19.08 &  59.52 &  6.72\\\\\n",
       "\t24 & 273.96 & 20.28 &  31.44 & 18.60\\\\\n",
       "\t25 &  74.76 & 15.12 &  21.96 & 11.64\\\\\n",
       "\t26 & 315.48 &  4.20 &  23.40 & 14.40\\\\\n",
       "\t27 & 171.48 & 35.16 &  15.12 & 18.00\\\\\n",
       "\t28 & 288.12 & 20.04 &  27.48 & 19.08\\\\\n",
       "\t29 & 298.56 & 32.52 &  27.48 & 22.68\\\\\n",
       "\t30 &  84.72 & 19.20 &  48.96 & 12.60\\\\\n",
       "\t... & ... & ... & ... & ...\\\\\n",
       "\t171 &  60.00 & 13.92 & 22.08 & 10.08\\\\\n",
       "\t172 & 197.40 & 25.08 & 56.88 & 17.40\\\\\n",
       "\t173 &  23.52 & 24.12 & 20.40 &  9.12\\\\\n",
       "\t174 & 202.08 &  8.52 & 15.36 & 14.04\\\\\n",
       "\t175 & 266.88 &  4.08 & 15.72 & 13.80\\\\\n",
       "\t176 & 332.28 & 58.68 & 50.16 & 32.40\\\\\n",
       "\t177 & 298.08 & 36.24 & 24.36 & 24.24\\\\\n",
       "\t178 & 204.24 &  9.36 & 42.24 & 14.04\\\\\n",
       "\t179 & 332.04 &  2.76 & 28.44 & 14.16\\\\\n",
       "\t180 & 198.72 & 12.00 & 21.12 & 15.12\\\\\n",
       "\t181 & 187.92 &  3.12 &  9.96 & 12.60\\\\\n",
       "\t182 & 262.20 &  6.48 & 32.88 & 14.64\\\\\n",
       "\t183 &  67.44 &  6.84 & 35.64 & 10.44\\\\\n",
       "\t184 & 345.12 & 51.60 & 86.16 & 31.44\\\\\n",
       "\t185 & 304.56 & 25.56 & 36.00 & 21.12\\\\\n",
       "\t186 & 246.00 & 54.12 & 23.52 & 27.12\\\\\n",
       "\t187 & 167.40 &  2.52 & 31.92 & 12.36\\\\\n",
       "\t188 & 229.32 & 34.44 & 21.84 & 20.76\\\\\n",
       "\t189 & 343.20 & 16.68 &  4.44 & 19.08\\\\\n",
       "\t190 &  22.44 & 14.52 & 28.08 &  8.04\\\\\n",
       "\t191 &  47.40 & 49.32 &  6.96 & 12.96\\\\\n",
       "\t192 &  90.60 & 12.96 &  7.20 & 11.88\\\\\n",
       "\t193 &  20.64 &  4.92 & 37.92 &  7.08\\\\\n",
       "\t194 & 200.16 & 50.40 &  4.32 & 23.52\\\\\n",
       "\t195 & 179.64 & 42.72 &  7.20 & 20.76\\\\\n",
       "\t196 &  45.84 &  4.44 & 16.56 &  9.12\\\\\n",
       "\t197 & 113.04 &  5.88 &  9.72 & 11.64\\\\\n",
       "\t198 & 212.40 & 11.16 &  7.68 & 15.36\\\\\n",
       "\t199 & 340.32 & 50.40 & 79.44 & 30.60\\\\\n",
       "\t200 & 278.52 & 10.32 & 10.44 & 16.08\\\\\n",
       "\\end{tabular}\n"
      ],
      "text/markdown": [
       "\n",
       "A data.frame: 200 × 4\n",
       "\n",
       "| <!--/--> | youtube &lt;dbl&gt; | facebook &lt;dbl&gt; | newspaper &lt;dbl&gt; | sales &lt;dbl&gt; |\n",
       "|---|---|---|---|---|\n",
       "| 1 | 276.12 | 45.36 |  83.04 | 26.52 |\n",
       "| 2 |  53.40 | 47.16 |  54.12 | 12.48 |\n",
       "| 3 |  20.64 | 55.08 |  83.16 | 11.16 |\n",
       "| 4 | 181.80 | 49.56 |  70.20 | 22.20 |\n",
       "| 5 | 216.96 | 12.96 |  70.08 | 15.48 |\n",
       "| 6 |  10.44 | 58.68 |  90.00 |  8.64 |\n",
       "| 7 |  69.00 | 39.36 |  28.20 | 14.16 |\n",
       "| 8 | 144.24 | 23.52 |  13.92 | 15.84 |\n",
       "| 9 |  10.32 |  2.52 |   1.20 |  5.76 |\n",
       "| 10 | 239.76 |  3.12 |  25.44 | 12.72 |\n",
       "| 11 |  79.32 |  6.96 |  29.04 | 10.32 |\n",
       "| 12 | 257.64 | 28.80 |   4.80 | 20.88 |\n",
       "| 13 |  28.56 | 42.12 |  79.08 | 11.04 |\n",
       "| 14 | 117.00 |  9.12 |   8.64 | 11.64 |\n",
       "| 15 | 244.92 | 39.48 |  55.20 | 22.80 |\n",
       "| 16 | 234.48 | 57.24 |  63.48 | 26.88 |\n",
       "| 17 |  81.36 | 43.92 | 136.80 | 15.00 |\n",
       "| 18 | 337.68 | 47.52 |  66.96 | 29.28 |\n",
       "| 19 |  83.04 | 24.60 |  21.96 | 13.56 |\n",
       "| 20 | 176.76 | 28.68 |  22.92 | 17.52 |\n",
       "| 21 | 262.08 | 33.24 |  64.08 | 21.60 |\n",
       "| 22 | 284.88 |  6.12 |  28.20 | 15.00 |\n",
       "| 23 |  15.84 | 19.08 |  59.52 |  6.72 |\n",
       "| 24 | 273.96 | 20.28 |  31.44 | 18.60 |\n",
       "| 25 |  74.76 | 15.12 |  21.96 | 11.64 |\n",
       "| 26 | 315.48 |  4.20 |  23.40 | 14.40 |\n",
       "| 27 | 171.48 | 35.16 |  15.12 | 18.00 |\n",
       "| 28 | 288.12 | 20.04 |  27.48 | 19.08 |\n",
       "| 29 | 298.56 | 32.52 |  27.48 | 22.68 |\n",
       "| 30 |  84.72 | 19.20 |  48.96 | 12.60 |\n",
       "| ... | ... | ... | ... | ... |\n",
       "| 171 |  60.00 | 13.92 | 22.08 | 10.08 |\n",
       "| 172 | 197.40 | 25.08 | 56.88 | 17.40 |\n",
       "| 173 |  23.52 | 24.12 | 20.40 |  9.12 |\n",
       "| 174 | 202.08 |  8.52 | 15.36 | 14.04 |\n",
       "| 175 | 266.88 |  4.08 | 15.72 | 13.80 |\n",
       "| 176 | 332.28 | 58.68 | 50.16 | 32.40 |\n",
       "| 177 | 298.08 | 36.24 | 24.36 | 24.24 |\n",
       "| 178 | 204.24 |  9.36 | 42.24 | 14.04 |\n",
       "| 179 | 332.04 |  2.76 | 28.44 | 14.16 |\n",
       "| 180 | 198.72 | 12.00 | 21.12 | 15.12 |\n",
       "| 181 | 187.92 |  3.12 |  9.96 | 12.60 |\n",
       "| 182 | 262.20 |  6.48 | 32.88 | 14.64 |\n",
       "| 183 |  67.44 |  6.84 | 35.64 | 10.44 |\n",
       "| 184 | 345.12 | 51.60 | 86.16 | 31.44 |\n",
       "| 185 | 304.56 | 25.56 | 36.00 | 21.12 |\n",
       "| 186 | 246.00 | 54.12 | 23.52 | 27.12 |\n",
       "| 187 | 167.40 |  2.52 | 31.92 | 12.36 |\n",
       "| 188 | 229.32 | 34.44 | 21.84 | 20.76 |\n",
       "| 189 | 343.20 | 16.68 |  4.44 | 19.08 |\n",
       "| 190 |  22.44 | 14.52 | 28.08 |  8.04 |\n",
       "| 191 |  47.40 | 49.32 |  6.96 | 12.96 |\n",
       "| 192 |  90.60 | 12.96 |  7.20 | 11.88 |\n",
       "| 193 |  20.64 |  4.92 | 37.92 |  7.08 |\n",
       "| 194 | 200.16 | 50.40 |  4.32 | 23.52 |\n",
       "| 195 | 179.64 | 42.72 |  7.20 | 20.76 |\n",
       "| 196 |  45.84 |  4.44 | 16.56 |  9.12 |\n",
       "| 197 | 113.04 |  5.88 |  9.72 | 11.64 |\n",
       "| 198 | 212.40 | 11.16 |  7.68 | 15.36 |\n",
       "| 199 | 340.32 | 50.40 | 79.44 | 30.60 |\n",
       "| 200 | 278.52 | 10.32 | 10.44 | 16.08 |\n",
       "\n"
      ],
      "text/plain": [
       "    youtube facebook newspaper sales\n",
       "1   276.12  45.36     83.04    26.52\n",
       "2    53.40  47.16     54.12    12.48\n",
       "3    20.64  55.08     83.16    11.16\n",
       "4   181.80  49.56     70.20    22.20\n",
       "5   216.96  12.96     70.08    15.48\n",
       "6    10.44  58.68     90.00     8.64\n",
       "7    69.00  39.36     28.20    14.16\n",
       "8   144.24  23.52     13.92    15.84\n",
       "9    10.32   2.52      1.20     5.76\n",
       "10  239.76   3.12     25.44    12.72\n",
       "11   79.32   6.96     29.04    10.32\n",
       "12  257.64  28.80      4.80    20.88\n",
       "13   28.56  42.12     79.08    11.04\n",
       "14  117.00   9.12      8.64    11.64\n",
       "15  244.92  39.48     55.20    22.80\n",
       "16  234.48  57.24     63.48    26.88\n",
       "17   81.36  43.92    136.80    15.00\n",
       "18  337.68  47.52     66.96    29.28\n",
       "19   83.04  24.60     21.96    13.56\n",
       "20  176.76  28.68     22.92    17.52\n",
       "21  262.08  33.24     64.08    21.60\n",
       "22  284.88   6.12     28.20    15.00\n",
       "23   15.84  19.08     59.52     6.72\n",
       "24  273.96  20.28     31.44    18.60\n",
       "25   74.76  15.12     21.96    11.64\n",
       "26  315.48   4.20     23.40    14.40\n",
       "27  171.48  35.16     15.12    18.00\n",
       "28  288.12  20.04     27.48    19.08\n",
       "29  298.56  32.52     27.48    22.68\n",
       "30   84.72  19.20     48.96    12.60\n",
       "... ...     ...      ...       ...  \n",
       "171  60.00  13.92    22.08     10.08\n",
       "172 197.40  25.08    56.88     17.40\n",
       "173  23.52  24.12    20.40      9.12\n",
       "174 202.08   8.52    15.36     14.04\n",
       "175 266.88   4.08    15.72     13.80\n",
       "176 332.28  58.68    50.16     32.40\n",
       "177 298.08  36.24    24.36     24.24\n",
       "178 204.24   9.36    42.24     14.04\n",
       "179 332.04   2.76    28.44     14.16\n",
       "180 198.72  12.00    21.12     15.12\n",
       "181 187.92   3.12     9.96     12.60\n",
       "182 262.20   6.48    32.88     14.64\n",
       "183  67.44   6.84    35.64     10.44\n",
       "184 345.12  51.60    86.16     31.44\n",
       "185 304.56  25.56    36.00     21.12\n",
       "186 246.00  54.12    23.52     27.12\n",
       "187 167.40   2.52    31.92     12.36\n",
       "188 229.32  34.44    21.84     20.76\n",
       "189 343.20  16.68     4.44     19.08\n",
       "190  22.44  14.52    28.08      8.04\n",
       "191  47.40  49.32     6.96     12.96\n",
       "192  90.60  12.96     7.20     11.88\n",
       "193  20.64   4.92    37.92      7.08\n",
       "194 200.16  50.40     4.32     23.52\n",
       "195 179.64  42.72     7.20     20.76\n",
       "196  45.84   4.44    16.56      9.12\n",
       "197 113.04   5.88     9.72     11.64\n",
       "198 212.40  11.16     7.68     15.36\n",
       "199 340.32  50.40    79.44     30.60\n",
       "200 278.52  10.32    10.44     16.08"
      ]
     },
     "metadata": {},
     "output_type": "display_data"
    }
   ],
   "source": [
    "na.omit(data)"
   ]
  },
  {
   "cell_type": "code",
   "execution_count": 6,
   "metadata": {},
   "outputs": [
    {
     "data": {
      "image/png": "[encoded data removed]",
      "text/plain": [
       "Plot with title \"Sales ~ Youtube\""
      ]
     },
     "metadata": {
      "image/png": {
       "height": 420,
       "width": 420
      }
     },
     "output_type": "display_data"
    }
   ],
   "source": [
    "scatter.smooth(x = data$sales, y = data$youtube, main = \"Sales ~ Youtube\")"
   ]
  },
  {
   "cell_type": "code",
   "execution_count": 7,
   "metadata": {},
   "outputs": [
    {
     "data": {
      "image/png": "[encoded data removed]",
      "text/plain": [
       "Plot with title \"Youtube\""
      ]
     },
     "metadata": {
      "image/png": {
       "height": 420,
       "width": 420
      }
     },
     "output_type": "display_data"
    }
   ],
   "source": [
    "par(mfrow = c(1, 2))\n",
    "boxplot(data$sales, main = \"Sales\", \n",
    "        sub = paste(\"Outlier rows:\", boxplot.stats(data$sales)$out))\n",
    "boxplot(data$youtube, main = \"Youtube\", \n",
    "        sub = paste(\"Outlier rows:\", boxplot.stats(data$youtube)$out))"
   ]
  },
  {
   "cell_type": "markdown",
   "metadata": {},
   "source": [
    "# không có outliers"
   ]
  },
  {
   "cell_type": "code",
   "execution_count": 8,
   "metadata": {},
   "outputs": [
    {
     "name": "stdout",
     "output_type": "stream",
     "text": [
      "[1] \"Selected training row indexes:\"\n",
      "  [1]  49  65 153  74 146 122 200 128  47  24  71 100  89 165 110  20 154 114\n",
      " [19] 111 131  41 188  27 164 109   5 162  92 104   3  58  42 191 158  43 143\n",
      " [37] 150 170 136  36  68 196 176 173   4  99 184 183   6 134 130 116 171 118\n",
      " [55]   2 102 138  40 175  33 103 167  73  76   9  35  16 101  69 147 177  82\n",
      " [73] 168 113  18 132 186 172  55 187  21 189  57 119 140 169 126  91  13  53\n",
      " [91]  54  83  32  80  60  29  81 144  85 166 163  72 105 195  38   1 112  78\n",
      "[109] 142 149  97 151 133 115  87 181  98  25  63 108  14 152 192  88  62  37\n",
      "[127]  31  34  79  96 155  15 127  86 106  12  64  26 180  95\n",
      "[1] \"Rows of training data and test data:\"\n",
      "[1] 140\n",
      "[1] 60\n"
     ]
    }
   ],
   "source": [
    "# Create training and test data samples from orginal data\n",
    "set.seed(42) # Setting seed to reproduce results of ramdom sampling\n",
    "trainingRowIndex = sample(1: nrow(data), 0.7 * nrow(data))\n",
    "print(\"Selected training row indexes:\")\n",
    "print(trainingRowIndex)\n",
    "trainingData = data[trainingRowIndex, ]\n",
    "testData = data[- trainingRowIndex,]\n",
    "print(\"Rows of training data and test data:\")\n",
    "print(nrow(trainingData))\n",
    "print(nrow(testData))"
   ]
  },
  {
   "cell_type": "code",
   "execution_count": 9,
   "metadata": {},
   "outputs": [
    {
     "name": "stdout",
     "output_type": "stream",
     "text": [
      "[1] \"mse: 14.3404725926901\"\n",
      "[1] \"mse in test: 17.017194022147\"\n"
     ]
    }
   ],
   "source": [
    "# Develop the model on the training data and use it to preidict the Length on test data\n",
    "lmMod = lm(sales ~ youtube, data =  trainingData) # Build the model\n",
    "iPred = predict(lmMod, testData) # predict length\n",
    "\n",
    "# mean square error according to model\n",
    "mse = mean(lmMod$residuals^2)\n",
    "print(paste(\"mse:\", mse))\n",
    "\n",
    "# mean square error of test data\n",
    "mse_test = mean((testData$sales - iPred)^2)\n",
    "print(paste(\"mse in test:\", mse_test))"
   ]
  },
  {
   "cell_type": "code",
   "execution_count": 10,
   "metadata": {},
   "outputs": [
    {
     "name": "stdout",
     "output_type": "stream",
     "text": [
      "\n",
      "Call:\n",
      "lm(formula = sales ~ youtube, data = trainingData)\n",
      "\n",
      "Residuals:\n",
      "    Min      1Q  Median      3Q     Max \n",
      "-9.5217 -2.4725 -0.1652  2.5124  8.2946 \n",
      "\n",
      "Coefficients:\n",
      "            Estimate Std. Error t value Pr(>|t|)    \n",
      "(Intercept)  8.52760    0.66735   12.78   <2e-16 ***\n",
      "youtube      0.04688    0.00315   14.88   <2e-16 ***\n",
      "---\n",
      "Signif. codes:  0 '***' 0.001 '**' 0.01 '*' 0.05 '.' 0.1 ' ' 1\n",
      "\n",
      "Residual standard error: 3.814 on 138 degrees of freedom\n",
      "Multiple R-squared:  0.6161,\tAdjusted R-squared:  0.6134 \n",
      "F-statistic: 221.5 on 1 and 138 DF,  p-value: < 2.2e-16\n",
      "\n"
     ]
    }
   ],
   "source": [
    "# Review dianostic measures\n",
    "print(summary(lmMod))"
   ]
  },
  {
   "cell_type": "code",
   "execution_count": 11,
   "metadata": {},
   "outputs": [
    {
     "name": "stdout",
     "output_type": "stream",
     "text": [
      "[1] \"results:\"\n",
      "       1        2        3 \n",
      "10.87167 13.21575 17.90389 \n"
     ]
    }
   ],
   "source": [
    "x = c(50, 100, 200)\n",
    "y = predict(lmMod, data.frame(youtube = x))\n",
    "print(\"results:\")\n",
    "print(y)"
   ]
  },
  {
   "cell_type": "code",
   "execution_count": 12,
   "metadata": {},
   "outputs": [
    {
     "data": {
      "image/png": "[encoded data removed]",
      "text/plain": [
       "Plot with title \"Marketing Linear regression\""
      ]
     },
     "metadata": {
      "image/png": {
       "height": 420,
       "width": 420
      }
     },
     "output_type": "display_data"
    }
   ],
   "source": [
    "# Visualization\n",
    "plot(data$youtube, data$sales,\n",
    "     main = \"Marketing Linear regression\",\n",
    "     xlab = \"youtube\", ylab = \"sales\",\n",
    "     pch = 19, frame = FALSE, col = 'blue')\n",
    "lines(x, y, col = 'red', type = 'p')\n",
    "abline(lmMod, baseball, col = 'green')\n",
    "legend(\"topleft\", c(\"dataset\", \"data_predict\"), cex = 0.8, fill = c(\"blue\", \"orange\"))"
   ]
  },
  {
   "cell_type": "code",
   "execution_count": null,
   "metadata": {},
   "outputs": [],
   "source": []
  }
 ],
 "metadata": {
  "colab": {
   "collapsed_sections": [],
   "name": "bai_on_tap_buoi_8_SV.ipynb",
   "provenance": []
  },
  "kernelspec": {
   "display_name": "R",
   "language": "R",
   "name": "ir"
  },
  "language_info": {
   "codemirror_mode": "r",
   "file_extension": ".r",
   "mimetype": "text/x-r-source",
   "name": "R",
   "pygments_lexer": "r",
   "version": "4.0.3"
  }
 },
 "nbformat": 4,
 "nbformat_minor": 4
}
