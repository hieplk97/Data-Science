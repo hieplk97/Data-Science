{
 "cells": [
  {
   "cell_type": "code",
   "execution_count": 1,
   "id": "possible-bolivia",
   "metadata": {},
   "outputs": [],
   "source": [
    "import findspark\n",
    "findspark.init()"
   ]
  },
  {
   "cell_type": "code",
   "execution_count": 2,
   "id": "hairy-citizen",
   "metadata": {},
   "outputs": [],
   "source": [
    "from pyspark import SparkContext\n",
    "from pyspark.conf import SparkConf\n",
    "\n",
    "from pyspark.sql import SparkSession\n",
    "from pyspark.sql import types \n",
    "from pyspark.sql.functions import col, udf, rand, monotonically_increasing_id\n",
    "from pyspark.sql.types import StringType\n",
    "\n",
    "from pyspark.sql.functions import split, size\n",
    "from pyspark.sql.functions import isnan, isnull, when, count"
   ]
  },
  {
   "cell_type": "code",
   "execution_count": 3,
   "id": "elect-overall",
   "metadata": {},
   "outputs": [],
   "source": [
    "sc = SparkContext()\n",
    "spark = SparkSession(sc)"
   ]
  },
  {
   "cell_type": "markdown",
   "id": "unusual-owner",
   "metadata": {},
   "source": [
    "## Cho dữ liệu DallasCouncilVoters.csv"
   ]
  },
  {
   "cell_type": "markdown",
   "id": "opposed-cruise",
   "metadata": {},
   "source": [
    "### 1. Đọc dữ liệu => df"
   ]
  },
  {
   "cell_type": "code",
   "execution_count": 4,
   "id": "positive-complaint",
   "metadata": {},
   "outputs": [],
   "source": [
    "df = spark.read.csv(\"../../Data/DallasCouncilVoters.csv\", header=True, inferSchema=True)"
   ]
  },
  {
   "cell_type": "markdown",
   "id": "emotional-reggae",
   "metadata": {},
   "source": [
    "### 2. Cho biết dữ liệu có bao nhiêu dòng, in scheme. Hiển thị 5 dòng dữ liệu đầu tiên."
   ]
  },
  {
   "cell_type": "code",
   "execution_count": 5,
   "id": "educational-turning",
   "metadata": {},
   "outputs": [
    {
     "data": {
      "text/plain": [
       "44625"
      ]
     },
     "execution_count": 5,
     "metadata": {},
     "output_type": "execute_result"
    }
   ],
   "source": [
    "df.count()"
   ]
  },
  {
   "cell_type": "code",
   "execution_count": 6,
   "id": "beneficial-binding",
   "metadata": {},
   "outputs": [
    {
     "name": "stdout",
     "output_type": "stream",
     "text": [
      "root\n",
      " |-- DATE: string (nullable = true)\n",
      " |-- TITLE: string (nullable = true)\n",
      " |-- VOTER_NAME: string (nullable = true)\n",
      "\n"
     ]
    }
   ],
   "source": [
    "df.printSchema()"
   ]
  },
  {
   "cell_type": "code",
   "execution_count": 7,
   "id": "municipal-tracy",
   "metadata": {
    "tags": []
   },
   "outputs": [
    {
     "name": "stdout",
     "output_type": "stream",
     "text": [
      "+----------+-------------+-------------------+\n",
      "|      DATE|        TITLE|         VOTER_NAME|\n",
      "+----------+-------------+-------------------+\n",
      "|02/08/2017|Councilmember|  Jennifer S. Gates|\n",
      "|02/08/2017|Councilmember| Philip T. Kingston|\n",
      "|02/08/2017|        Mayor|Michael S. Rawlings|\n",
      "|02/08/2017|Councilmember|       Adam Medrano|\n",
      "|02/08/2017|Councilmember|       Casey Thomas|\n",
      "+----------+-------------+-------------------+\n",
      "only showing top 5 rows\n",
      "\n"
     ]
    }
   ],
   "source": [
    "df.show(5)"
   ]
  },
  {
   "cell_type": "markdown",
   "id": "about-american",
   "metadata": {},
   "source": [
    "### 3. Kiểm tra dữ liệu NaN, null. Nếu dòng nào 'VOTER_NAME' có dữ liệ null thì xóa hết các dòng đó."
   ]
  },
  {
   "cell_type": "code",
   "execution_count": 8,
   "id": "environmental-keeping",
   "metadata": {},
   "outputs": [],
   "source": [
    "df = df.dropna(subset='VOTER_NAME')"
   ]
  },
  {
   "cell_type": "code",
   "execution_count": 9,
   "id": "present-moisture",
   "metadata": {},
   "outputs": [
    {
     "data": {
      "text/html": [
       "<div>\n",
       "<style scoped>\n",
       "    .dataframe tbody tr th:only-of-type {\n",
       "        vertical-align: middle;\n",
       "    }\n",
       "\n",
       "    .dataframe tbody tr th {\n",
       "        vertical-align: top;\n",
       "    }\n",
       "\n",
       "    .dataframe thead th {\n",
       "        text-align: right;\n",
       "    }\n",
       "</style>\n",
       "<table border=\"1\" class=\"dataframe\">\n",
       "  <thead>\n",
       "    <tr style=\"text-align: right;\">\n",
       "      <th></th>\n",
       "      <th>0</th>\n",
       "    </tr>\n",
       "  </thead>\n",
       "  <tbody>\n",
       "    <tr>\n",
       "      <th>DATE</th>\n",
       "      <td>0</td>\n",
       "    </tr>\n",
       "    <tr>\n",
       "      <th>TITLE</th>\n",
       "      <td>0</td>\n",
       "    </tr>\n",
       "    <tr>\n",
       "      <th>VOTER_NAME</th>\n",
       "      <td>0</td>\n",
       "    </tr>\n",
       "  </tbody>\n",
       "</table>\n",
       "</div>"
      ],
      "text/plain": [
       "            0\n",
       "DATE        0\n",
       "TITLE       0\n",
       "VOTER_NAME  0"
      ]
     },
     "execution_count": 9,
     "metadata": {},
     "output_type": "execute_result"
    }
   ],
   "source": [
    "df.select([count(when(isnull(c), c)).alias(c) for c in df.columns]).toPandas().T"
   ]
  },
  {
   "cell_type": "markdown",
   "id": "entitled-possible",
   "metadata": {},
   "source": [
    "=> Hết dữ liệu null."
   ]
  },
  {
   "cell_type": "markdown",
   "id": "turned-expansion",
   "metadata": {},
   "source": [
    "### 4. Kiểm tra dữ liệu trùng. Xóa dữ liệu trùng."
   ]
  },
  {
   "cell_type": "code",
   "execution_count": 10,
   "id": "digital-fusion",
   "metadata": {},
   "outputs": [],
   "source": [
    "num_rows = df.count()\n",
    "num_dist_rows = df.distinct().count()\n",
    "dup_rows = num_rows - num_dist_rows"
   ]
  },
  {
   "cell_type": "code",
   "execution_count": 11,
   "id": "sweet-viking",
   "metadata": {},
   "outputs": [
    {
     "data": {
      "text/plain": [
       "44122"
      ]
     },
     "metadata": {},
     "output_type": "display_data"
    },
    {
     "data": {
      "text/plain": [
       "1273"
      ]
     },
     "metadata": {},
     "output_type": "display_data"
    },
    {
     "data": {
      "text/plain": [
       "42849"
      ]
     },
     "metadata": {},
     "output_type": "display_data"
    }
   ],
   "source": [
    "display(num_rows, num_dist_rows, dup_rows)"
   ]
  },
  {
   "cell_type": "code",
   "execution_count": 12,
   "id": "olive-drive",
   "metadata": {},
   "outputs": [
    {
     "name": "stdout",
     "output_type": "stream",
     "text": [
      "+----------+-------------+------------------+\n",
      "|      DATE|        TITLE|        VOTER_NAME|\n",
      "+----------+-------------+------------------+\n",
      "|02/08/2017|Councilmember|Philip T. Kingston|\n",
      "|02/08/2017|Councilmember|Philip T. Kingston|\n",
      "|01/11/2017|Councilmember|Philip T. Kingston|\n",
      "|09/14/2016|Councilmember|Philip T. Kingston|\n",
      "|01/04/2017|Councilmember|Philip T. Kingston|\n",
      "+----------+-------------+------------------+\n",
      "only showing top 5 rows\n",
      "\n"
     ]
    }
   ],
   "source": [
    "# Check duplicate\n",
    "df.filter(df['VOTER_NAME'] == 'Philip T. Kingston').show(5)"
   ]
  },
  {
   "cell_type": "code",
   "execution_count": 13,
   "id": "rolled-county",
   "metadata": {},
   "outputs": [],
   "source": [
    "df = df.drop_duplicates()"
   ]
  },
  {
   "cell_type": "code",
   "execution_count": 14,
   "id": "dental-shelter",
   "metadata": {},
   "outputs": [
    {
     "data": {
      "text/plain": [
       "1273"
      ]
     },
     "execution_count": 14,
     "metadata": {},
     "output_type": "execute_result"
    }
   ],
   "source": [
    "df.count()"
   ]
  },
  {
   "cell_type": "markdown",
   "id": "pediatric-exploration",
   "metadata": {},
   "source": [
    "### 5. Tìm các VOTER_NAME duy nhất và hiển thị 10 dòng đầu tiên."
   ]
  },
  {
   "cell_type": "code",
   "execution_count": 15,
   "id": "better-syntax",
   "metadata": {},
   "outputs": [
    {
     "name": "stdout",
     "output_type": "stream",
     "text": [
      "+--------------------+\n",
      "|          VOTER_NAME|\n",
      "+--------------------+\n",
      "|      Tennell Atkins|\n",
      "|  the  final   20...|\n",
      "|        Scott Griggs|\n",
      "|       Scott  Griggs|\n",
      "|       Sandy Greyson|\n",
      "| Michael S. Rawlings|\n",
      "| the final 2018 A...|\n",
      "|        Kevin Felder|\n",
      "|        Adam Medrano|\n",
      "|       Casey  Thomas|\n",
      "+--------------------+\n",
      "only showing top 10 rows\n",
      "\n"
     ]
    }
   ],
   "source": [
    "# Show the distinct VOTER_NAME entries\n",
    "df.select(df['VOTER_NAME']).distinct().show(10)"
   ]
  },
  {
   "cell_type": "markdown",
   "id": "fifty-quantum",
   "metadata": {},
   "source": [
    "### 6. Lọc dữ liệu theo điều kiện 'VOTER_NAME' duy nhất có chiều dài 1-20 ký tự."
   ]
  },
  {
   "cell_type": "code",
   "execution_count": 16,
   "id": "forbidden-wallace",
   "metadata": {},
   "outputs": [],
   "source": [
    "df = df.filter('length(VOTER_NAME) > 0 and length(VOTER_NAME) < 20')"
   ]
  },
  {
   "cell_type": "code",
   "execution_count": 17,
   "id": "vertical-january",
   "metadata": {},
   "outputs": [
    {
     "name": "stdout",
     "output_type": "stream",
     "text": [
      "+----------+--------------------+------------------+\n",
      "|      DATE|               TITLE|        VOTER_NAME|\n",
      "+----------+--------------------+------------------+\n",
      "|04/11/2018|Deputy Mayor Pro Tem|      Adam Medrano|\n",
      "|02/14/2018|       Councilmember|   Lee M. Kleinman|\n",
      "|04/25/2018|       Councilmember|    Tennell Atkins|\n",
      "|08/29/2018|       Councilmember|      Kevin Felder|\n",
      "|10/18/2017|       Councilmember|Jennifer S.  Gates|\n",
      "+----------+--------------------+------------------+\n",
      "only showing top 5 rows\n",
      "\n"
     ]
    }
   ],
   "source": [
    "df.show(5)"
   ]
  },
  {
   "cell_type": "markdown",
   "id": "fresh-fellow",
   "metadata": {},
   "source": [
    "### 7. Lọc bỏ các dữ liệu mà trong 'VOTER_NAME' có chứa dấu '_' (underscore)."
   ]
  },
  {
   "cell_type": "code",
   "execution_count": 18,
   "id": "going-permission",
   "metadata": {},
   "outputs": [],
   "source": [
    "# Filter out df where the VOTER_NAME contains an underscore\n",
    "df = df.filter(~ col('VOTER_NAME').contains('_'))"
   ]
  },
  {
   "cell_type": "code",
   "execution_count": 19,
   "id": "liable-detection",
   "metadata": {},
   "outputs": [
    {
     "name": "stdout",
     "output_type": "stream",
     "text": [
      "+-------------------+\n",
      "|         VOTER_NAME|\n",
      "+-------------------+\n",
      "|     Tennell Atkins|\n",
      "|       Scott Griggs|\n",
      "|      Scott  Griggs|\n",
      "|      Sandy Greyson|\n",
      "|Michael S. Rawlings|\n",
      "|       Kevin Felder|\n",
      "|       Adam Medrano|\n",
      "|      Casey  Thomas|\n",
      "|      Mark  Clayton|\n",
      "|       Casey Thomas|\n",
      "+-------------------+\n",
      "only showing top 10 rows\n",
      "\n"
     ]
    }
   ],
   "source": [
    "# Show the distinct VOTER_NAME entries again\n",
    "df.select(df['VOTER_NAME']).distinct().show(10)"
   ]
  },
  {
   "cell_type": "markdown",
   "id": "special-scotland",
   "metadata": {},
   "source": [
    "## Modifying DataFrame "
   ]
  },
  {
   "cell_type": "markdown",
   "id": "abandoned-documentation",
   "metadata": {},
   "source": [
    "### 8. Tạo cột 'splits' chứa thông tin được cắt theo khoảng trắng từ 'VOTER_NAME'."
   ]
  },
  {
   "cell_type": "code",
   "execution_count": 20,
   "id": "piano-revelation",
   "metadata": {},
   "outputs": [],
   "source": [
    "df = df.withColumn('splits', split(df.VOTER_NAME, '\\s+'))"
   ]
  },
  {
   "cell_type": "markdown",
   "id": "pressed-lecture",
   "metadata": {},
   "source": [
    "### 9. Tạo cột 'first_name' lấy dữ liệu từ phần tử đầu tiên của cột 'splits'."
   ]
  },
  {
   "cell_type": "code",
   "execution_count": 21,
   "id": "behind-hartford",
   "metadata": {},
   "outputs": [],
   "source": [
    "df = df.withColumn('first_name', df.splits.getItem(0))"
   ]
  },
  {
   "cell_type": "markdown",
   "id": "further-exhibit",
   "metadata": {},
   "source": [
    "### 10. Tạo cột 'last_name' lấy dữ liệu từ phần tử cuối cùng của cột 'splits'."
   ]
  },
  {
   "cell_type": "code",
   "execution_count": 22,
   "id": "fourth-preference",
   "metadata": {},
   "outputs": [],
   "source": [
    "df = df.withColumn('first_name', df.splits.getItem(size('splits') - 1))"
   ]
  },
  {
   "cell_type": "code",
   "execution_count": 23,
   "id": "second-mambo",
   "metadata": {},
   "outputs": [
    {
     "name": "stdout",
     "output_type": "stream",
     "text": [
      "+----------+--------------------+---------------+-------------------+----------+\n",
      "|      DATE|               TITLE|     VOTER_NAME|             splits|first_name|\n",
      "+----------+--------------------+---------------+-------------------+----------+\n",
      "|04/11/2018|Deputy Mayor Pro Tem|   Adam Medrano|    [Adam, Medrano]|   Medrano|\n",
      "|02/14/2018|       Councilmember|Lee M. Kleinman|[Lee, M., Kleinman]|  Kleinman|\n",
      "|04/25/2018|       Councilmember| Tennell Atkins|  [Tennell, Atkins]|    Atkins|\n",
      "+----------+--------------------+---------------+-------------------+----------+\n",
      "only showing top 3 rows\n",
      "\n"
     ]
    }
   ],
   "source": [
    "# Show the voter_df DataFrame\n",
    "df.show(3)"
   ]
  },
  {
   "cell_type": "markdown",
   "id": "blank-restriction",
   "metadata": {},
   "source": [
    "### 11. Tạo cột 'random_val' theo điều kiện: nếu cột 'TITLE' có nội dung là 'Councilmember' thì 'random_val' sẽ có giá trị rand(), nếu nội dung là 'Mayor' thì 'random_val' sẽ có giá trị 2, ngược lại sẽ có giá trị là 0."
   ]
  },
  {
   "cell_type": "code",
   "execution_count": 24,
   "id": "dried-gentleman",
   "metadata": {},
   "outputs": [],
   "source": [
    "# Adding a column to df for any voter with the title 'Councilmember'\n",
    "df = df.withColumn('random_val', when(df.TITLE == 'Councilmember', rand()))"
   ]
  },
  {
   "cell_type": "code",
   "execution_count": 25,
   "id": "induced-recognition",
   "metadata": {},
   "outputs": [
    {
     "name": "stdout",
     "output_type": "stream",
     "text": [
      "+----------+--------------------+------------------+--------------------+----------+------------------+\n",
      "|      DATE|               TITLE|        VOTER_NAME|              splits|first_name|        random_val|\n",
      "+----------+--------------------+------------------+--------------------+----------+------------------+\n",
      "|04/11/2018|Deputy Mayor Pro Tem|      Adam Medrano|     [Adam, Medrano]|   Medrano|              null|\n",
      "|02/14/2018|       Councilmember|   Lee M. Kleinman| [Lee, M., Kleinman]|  Kleinman|0.7449141937080128|\n",
      "|04/25/2018|       Councilmember|    Tennell Atkins|   [Tennell, Atkins]|    Atkins| 0.801191174754082|\n",
      "|08/29/2018|       Councilmember|      Kevin Felder|     [Kevin, Felder]|    Felder|0.8337675897812277|\n",
      "|10/18/2017|       Councilmember|Jennifer S.  Gates|[Jennifer, S., Ga...|     Gates|0.7114314184223407|\n",
      "+----------+--------------------+------------------+--------------------+----------+------------------+\n",
      "only showing top 5 rows\n",
      "\n"
     ]
    }
   ],
   "source": [
    "# Show some of the dataframe rows, noting whether the when clause worked \n",
    "df.show(5)"
   ]
  },
  {
   "cell_type": "code",
   "execution_count": 26,
   "id": "arabic-cruise",
   "metadata": {},
   "outputs": [],
   "source": [
    "# Add a column to df for a voter based on their position\n",
    "df = df.withColumn('random_val', when(df.TITLE == 'Councilmember', rand())\n",
    "                                .when(df.TITLE == 'Mayor', 2)\n",
    "                                .otherwise(0))"
   ]
  },
  {
   "cell_type": "code",
   "execution_count": 27,
   "id": "imperial-optimization",
   "metadata": {},
   "outputs": [
    {
     "name": "stdout",
     "output_type": "stream",
     "text": [
      "+----------+--------------------+------------------+--------------------+----------+--------------------+\n",
      "|      DATE|               TITLE|        VOTER_NAME|              splits|first_name|          random_val|\n",
      "+----------+--------------------+------------------+--------------------+----------+--------------------+\n",
      "|04/11/2018|Deputy Mayor Pro Tem|      Adam Medrano|     [Adam, Medrano]|   Medrano|                 0.0|\n",
      "|02/14/2018|       Councilmember|   Lee M. Kleinman| [Lee, M., Kleinman]|  Kleinman| 0.09600816510206334|\n",
      "|04/25/2018|       Councilmember|    Tennell Atkins|   [Tennell, Atkins]|    Atkins|  0.6816190290348454|\n",
      "|08/29/2018|       Councilmember|      Kevin Felder|     [Kevin, Felder]|    Felder|  0.8091277589376191|\n",
      "|10/18/2017|       Councilmember|Jennifer S.  Gates|[Jennifer, S., Ga...|     Gates|0.013637867002685766|\n",
      "+----------+--------------------+------------------+--------------------+----------+--------------------+\n",
      "only showing top 5 rows\n",
      "\n"
     ]
    }
   ],
   "source": [
    "# Show some of the dataframe rows\n",
    "df.show(5)"
   ]
  },
  {
   "cell_type": "markdown",
   "id": "democratic-spoke",
   "metadata": {},
   "source": [
    "### 12. Lọc các dòng dữ liệu có 'random_val'=0. Hiển thị"
   ]
  },
  {
   "cell_type": "code",
   "execution_count": 28,
   "id": "egyptian-daniel",
   "metadata": {},
   "outputs": [
    {
     "name": "stdout",
     "output_type": "stream",
     "text": [
      "+----------+--------------------+-----------------+--------------------+----------+----------+\n",
      "|      DATE|               TITLE|       VOTER_NAME|              splits|first_name|random_val|\n",
      "+----------+--------------------+-----------------+--------------------+----------+----------+\n",
      "|04/11/2018|Deputy Mayor Pro Tem|     Adam Medrano|     [Adam, Medrano]|   Medrano|       0.0|\n",
      "|04/12/2017|       Mayor Pro Tem| Monica R. Alonzo|[Monica, R., Alonzo]|    Alonzo|       0.0|\n",
      "|06/28/2017|Deputy Mayor Pro Tem|     Adam Medrano|     [Adam, Medrano]|   Medrano|       0.0|\n",
      "|01/03/2018|Deputy Mayor Pro Tem|     Adam Medrano|     [Adam, Medrano]|   Medrano|       0.0|\n",
      "|01/17/2018|       Mayor Pro Tem|Dwaine R. Caraway|[Dwaine, R., Cara...|   Caraway|       0.0|\n",
      "+----------+--------------------+-----------------+--------------------+----------+----------+\n",
      "only showing top 5 rows\n",
      "\n"
     ]
    }
   ],
   "source": [
    "df.filter(df.random_val == 0).show(5)"
   ]
  },
  {
   "cell_type": "markdown",
   "id": "steady-bookmark",
   "metadata": {},
   "source": [
    "### 13. Xây dựng function: getFirstAndMiddle(names) trả về kết quả gồm First và Middle (names). Khai báo function vừa viết dưới dạng udf đặt tên là udfFirstAndMiddle."
   ]
  },
  {
   "cell_type": "code",
   "execution_count": 29,
   "id": "racial-interpretation",
   "metadata": {},
   "outputs": [],
   "source": [
    "def getFirstAndMiddle(names):\n",
    "    # Return a space separated string of names\n",
    "    return ' '.join(names[:-1])"
   ]
  },
  {
   "cell_type": "code",
   "execution_count": 30,
   "id": "geographic-corps",
   "metadata": {},
   "outputs": [],
   "source": [
    "udfFirstAndMiddle = udf(getFirstAndMiddle, StringType())"
   ]
  },
  {
   "cell_type": "markdown",
   "id": "presidential-healing",
   "metadata": {},
   "source": [
    "### 14. Tạo cột first_and_middle_name bằng cách gọi udf trên với tham số truyền vào là cột 'splits'. In kết quả."
   ]
  },
  {
   "cell_type": "code",
   "execution_count": 31,
   "id": "toxic-catalyst",
   "metadata": {},
   "outputs": [],
   "source": [
    "df = df.withColumn('first_and_middle_name', udfFirstAndMiddle(df.splits))"
   ]
  },
  {
   "cell_type": "markdown",
   "id": "applied-bottle",
   "metadata": {},
   "source": [
    "### 15. Xóa bỏ các cột 'first_name', 'splits'. In kết quả."
   ]
  },
  {
   "cell_type": "code",
   "execution_count": 32,
   "id": "assigned-brand",
   "metadata": {},
   "outputs": [],
   "source": [
    "df = df.drop('first_name')\n",
    "df = df.drop('splits')"
   ]
  },
  {
   "cell_type": "code",
   "execution_count": 33,
   "id": "approved-guatemala",
   "metadata": {},
   "outputs": [
    {
     "name": "stdout",
     "output_type": "stream",
     "text": [
      "+----------+--------------------+------------------+--------------------+---------------------+\n",
      "|      DATE|               TITLE|        VOTER_NAME|          random_val|first_and_middle_name|\n",
      "+----------+--------------------+------------------+--------------------+---------------------+\n",
      "|04/11/2018|Deputy Mayor Pro Tem|      Adam Medrano|                 0.0|                 Adam|\n",
      "|02/14/2018|       Councilmember|   Lee M. Kleinman| 0.09600816510206334|               Lee M.|\n",
      "|04/25/2018|       Councilmember|    Tennell Atkins|  0.6816190290348454|              Tennell|\n",
      "|08/29/2018|       Councilmember|      Kevin Felder|  0.8091277589376191|                Kevin|\n",
      "|10/18/2017|       Councilmember|Jennifer S.  Gates|0.013637867002685766|          Jennifer S.|\n",
      "+----------+--------------------+------------------+--------------------+---------------------+\n",
      "only showing top 5 rows\n",
      "\n"
     ]
    }
   ],
   "source": [
    "df.show(5)"
   ]
  },
  {
   "cell_type": "markdown",
   "id": "domestic-graphic",
   "metadata": {},
   "source": [
    "## Adding an ID Field"
   ]
  },
  {
   "cell_type": "code",
   "execution_count": 34,
   "id": "revised-dividend",
   "metadata": {},
   "outputs": [
    {
     "name": "stdout",
     "output_type": "stream",
     "text": [
      "\n",
      " There are 27 rows in the df dataframe\n"
     ]
    }
   ],
   "source": [
    "# Select all the unique council voters\n",
    "df = df.select(df['VOTER_NAME']).distinct()\n",
    "# Count the rows in voter_df\n",
    "print('\\n There are %d rows in the df dataframe' % df.count())"
   ]
  },
  {
   "cell_type": "markdown",
   "id": "useful-retention",
   "metadata": {},
   "source": [
    "### 16. Thêm cột 'ROW_ID' bằng phương thức: monotonically_increasing_id() (trong pyspark.sql.functions)."
   ]
  },
  {
   "cell_type": "code",
   "execution_count": 35,
   "id": "electric-genre",
   "metadata": {},
   "outputs": [],
   "source": [
    "df = df.withColumn('ROW_ID', monotonically_increasing_id())"
   ]
  },
  {
   "cell_type": "markdown",
   "id": "standing-lobby",
   "metadata": {},
   "source": [
    "### 17. Hiển thị 10 dòng đầu tiên của dữ liệu với ROW_ID tăng dần."
   ]
  },
  {
   "cell_type": "code",
   "execution_count": 36,
   "id": "fifth-waterproof",
   "metadata": {},
   "outputs": [
    {
     "name": "stdout",
     "output_type": "stream",
     "text": [
      "+-------------------+-------------+\n",
      "|         VOTER_NAME|       ROW_ID|\n",
      "+-------------------+-------------+\n",
      "|       Lee Kleinman|1709396983808|\n",
      "|        Erik Wilson|1700807049216|\n",
      "|Carolyn King Arnold|1632087572480|\n",
      "|Rickey D.  Callahan|1597727834112|\n",
      "|   Monica R. Alonzo|1382979469312|\n",
      "|    Lee M. Kleinman|1228360646656|\n",
      "|  Jennifer S. Gates|1194000908288|\n",
      "|Philip T.  Kingston|1185410973696|\n",
      "|  Dwaine R. Caraway|1142461300736|\n",
      "| Rickey D. Callahan|1125281431553|\n",
      "+-------------------+-------------+\n",
      "only showing top 10 rows\n",
      "\n"
     ]
    }
   ],
   "source": [
    "df.orderBy(df.ROW_ID.desc()).show(10)"
   ]
  },
  {
   "cell_type": "markdown",
   "id": "vulnerable-rainbow",
   "metadata": {},
   "source": [
    "## IDs with different partitions"
   ]
  },
  {
   "cell_type": "code",
   "execution_count": 37,
   "id": "compliant-dryer",
   "metadata": {},
   "outputs": [
    {
     "name": "stdout",
     "output_type": "stream",
     "text": [
      "\n",
      "There are 200 partitions in the df Dataframe.\n",
      "\n"
     ]
    }
   ],
   "source": [
    "# Print the number of partitions in each DataFrame\n",
    "print(\"\\nThere are %d partitions in the df Dataframe.\\n\" % df.rdd.getNumPartitions())"
   ]
  },
  {
   "cell_type": "markdown",
   "id": "fabulous-warrior",
   "metadata": {},
   "source": [
    "* Make sure to store the result of .rdd.max().[0] in the variable.\n",
    "* monotonically_increasing_id() return an integer. You can modify that value in-line.\n",
    "* Make sure to show both Data Frames."
   ]
  },
  {
   "cell_type": "code",
   "execution_count": 38,
   "id": "grave-gardening",
   "metadata": {},
   "outputs": [],
   "source": [
    "# Detemine the highest ROW_ID and save it in previous_max_id\n",
    "previous_max_id = df.select('ROW_ID').rdd.max()[0]\n",
    "# Add a RORW_ID column to df_april starting at the desired value\n",
    "voter_df_april = df.withColumn('ROW_ID', monotonically_increasing_id() + previous_max_id)"
   ]
  },
  {
   "cell_type": "code",
   "execution_count": 39,
   "id": "decreased-trauma",
   "metadata": {},
   "outputs": [
    {
     "name": "stdout",
     "output_type": "stream",
     "text": [
      "+------------+\n",
      "|      ROW_ID|\n",
      "+------------+\n",
      "|  8589934592|\n",
      "| 34359738368|\n",
      "| 42949672960|\n",
      "| 51539607552|\n",
      "|103079215104|\n",
      "+------------+\n",
      "only showing top 5 rows\n",
      "\n",
      "+-------------+\n",
      "|       ROW_ID|\n",
      "+-------------+\n",
      "|1717986918400|\n",
      "|1743756722176|\n",
      "|1752346656768|\n",
      "|1760936591360|\n",
      "|1812476198912|\n",
      "+-------------+\n",
      "only showing top 5 rows\n",
      "\n"
     ]
    }
   ],
   "source": [
    "# Show the ROW_ID from both DataFrames and compare\n",
    "df.select('ROW_ID').show(5)\n",
    "voter_df_april.select('ROW_ID').show(5)"
   ]
  }
 ],
 "metadata": {
  "kernelspec": {
   "display_name": "Python 3",
   "language": "python",
   "name": "python3"
  },
  "language_info": {
   "codemirror_mode": {
    "name": "ipython",
    "version": 3
   },
   "file_extension": ".py",
   "mimetype": "text/x-python",
   "name": "python",
   "nbconvert_exporter": "python",
   "pygments_lexer": "ipython3",
   "version": "3.8.3"
  }
 },
 "nbformat": 4,
 "nbformat_minor": 5
}
