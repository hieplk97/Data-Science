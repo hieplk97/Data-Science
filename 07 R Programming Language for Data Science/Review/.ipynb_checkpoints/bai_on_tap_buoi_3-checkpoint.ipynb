{
 "cells": [
  {
   "cell_type": "markdown",
   "metadata": {
    "id": "SKG2ETcPTLTy"
   },
   "source": [
    "# Review Chapter 6 & 7"
   ]
  },
  {
   "cell_type": "code",
   "execution_count": 1,
   "metadata": {
    "id": "FvZrjfhWE-IM"
   },
   "outputs": [
    {
     "name": "stdout",
     "output_type": "stream",
     "text": [
      "[1] R R L L R R C C\n",
      "Levels: C L R\n",
      "[1] \"levels of survey_factor C, L, R\"\n",
      "[1] \"nlevels of survey_factor 3\"\n",
      "[1] \"Summary:\"\n",
      "[1] \"C : 2 element\"\n",
      "[1] \"L : 2 element\"\n",
      "[1] \"R : 4 element\"\n"
     ]
    }
   ],
   "source": [
    "## Ex1\n",
    "# Definition of survey_vector\n",
    "survey_vector <- c(\"R\", \"R\", \"L\", \"L\", \"R\", \"R\", \"C\", \"C\")\n",
    "\n",
    "# Encode survey_vector as a factor: survey_factor\n",
    "survey_factor = factor(survey_vector)\n",
    "# Print survey_factor\n",
    "print(survey_factor)\n",
    "# Print levels of survey_factor\n",
    "print(paste(\"levels of survey_factor\", toString(levels(survey_factor))))\n",
    "# Print nlevels of survey_factor\n",
    "print(paste(\"nlevels of survey_factor\", toString(nlevels(survey_factor))))\n",
    "# How many elements of each factor?\n",
    "print(\"Summary:\")\n",
    "for (lv in levels(survey_factor)){\n",
    "    count = 0\n",
    "    for (e in survey_vector){\n",
    "        if (lv == e){\n",
    "            count = count +1\n",
    "        }\n",
    "    }\n",
    "    print(paste(lv, \":\", count, \"element\"))\n",
    "}"
   ]
  },
  {
   "cell_type": "code",
   "execution_count": 26,
   "metadata": {
    "id": "3ukM4r2lKoJp"
   },
   "outputs": [
    {
     "name": "stdout",
     "output_type": "stream",
     "text": [
      "List of 4\n",
      " $ : int [1:10] 1 2 3 4 5 6 7 8 9 10\n",
      " $ : int [1:3, 1:3] 1 4 7 2 5 8 3 6 9\n",
      " $ : chr [1:5] \"M\" \"S\" \"L\" \"L\" ...\n",
      " $ :List of 3\n",
      "  ..$ : int [1:10] 1 2 3 4 5 6 7 8 9 10\n",
      "  ..$ : int [1:3, 1:3] 1 4 7 2 5 8 3 6 9\n",
      "  ..$ : chr [1:5] \"M\" \"S\" \"L\" \"L\" ...\n",
      "     [,1] [,2] [,3]\n",
      "[1,]    1    2    3\n",
      "[2,]    4    5    6\n",
      "[3,]    7    8    9\n",
      "[1] \"sum of my_matrix 45\"\n",
      "[1] \"sum of even elements in my_matrix\"\n"
     ]
    }
   ],
   "source": [
    "## Ex2\n",
    "# Create my_vector: 1 up to 10\n",
    "my_vector = c(1:10)\n",
    "# Create my_matrix (3x3): 1 up to 9\n",
    "my_matrix = matrix(c(1:9), nrow=3, ncol=3, byrow=TRUE)\n",
    "# Create my_factor from sizes\n",
    "sizes <-c(\"M\",\"S\",\"L\",\"L\",\"M\")\n",
    "\n",
    "# Construct my_list with the three data structures above\n",
    "my_list = list(my_vector, my_matrix, sizes)\n",
    "# Construct my_super_list with the four data structures above\n",
    "my_super_list = list(my_vector, my_matrix, sizes, my_list)\n",
    "# Display structure of my_super_list (Use str())\n",
    "str(my_super_list)\n",
    "# Print my_matrix, sum of my_matrix, sum of even elements in my_matrix\n",
    "print(my_matrix)\n",
    "print(paste(\"sum of my_matrix\", sum(my_matrix)))\n",
    "print(paste(\"sum of even elements in my_matrix\"))"
   ]
  },
  {
   "cell_type": "code",
   "execution_count": 14,
   "metadata": {},
   "outputs": [],
   "source": [
    "check_prime.function = function(number){\n",
    "    if (number == 1){\n",
    "        return (0)\n",
    "    }\n",
    "    \n",
    "    if (number == 2){\n",
    "        return (number)\n",
    "    } else {\n",
    "        i = 2\n",
    "        while (i <= sqrt(number)) {\n",
    "            if (number %% i == 0) {\n",
    "                return (0)\n",
    "            }\n",
    "            i = i+1\n",
    "        }\n",
    "        return (number)\n",
    "    }\n",
    "}"
   ]
  },
  {
   "cell_type": "code",
   "execution_count": 18,
   "metadata": {
    "id": "MtnBB6_EFPh9"
   },
   "outputs": [
    {
     "name": "stdout",
     "output_type": "stream",
     "text": [
      "     [,1] [,2] [,3] [,4]\n",
      "[1,]   79   79    7   41\n",
      "[2,]   47   17   53   37\n",
      "[3,]   73    5   89   43\n",
      "[4,]    7   17   73    3\n",
      "[1] \"Sum the elements on the main diagonal of the matrix 188\"\n"
     ]
    }
   ],
   "source": [
    "## Ex3: \n",
    "# Create my_matrix (4x4): each element is a randomly generated prime number.check_prime.function = function(number){check_prime.function = function(number){}ge\n",
    "generate_prime.function = function(){\n",
    "    num = 0\n",
    "    while(num == 0){\n",
    "        num = sample(1:100, 1)\n",
    "        num = check_prime.function(num)\n",
    "    }\n",
    "    return (num)\n",
    "}\n",
    "\n",
    "create_matrix.function = function(){\n",
    "    matrix_vector = c()\n",
    "    for (ele in c(1:16)){\n",
    "        matrix_vector[ele] = generate_prime.function()\n",
    "    }\n",
    "    matrix = matrix(matrix_vector, nrow=4, ncol=4, byrow=TRUE)\n",
    "    \n",
    "    return (matrix)\n",
    "}\n",
    "\n",
    "matrix= create_matrix.function()\n",
    "print(matrix)\n",
    "# Sum the elements on the main diagonal of the matrix\n",
    "print(paste(\"Sum the elements on the main diagonal of the matrix\", toString(sum(diag(matrix)))))\n",
    "# (Note: Build function to create matrix, function to test Prime number, and function to Sum... >> Call fucntion)\n"
   ]
  },
  {
   "cell_type": "code",
   "execution_count": 25,
   "metadata": {
    "id": "XtqFWIBOHCGJ"
   },
   "outputs": [
    {
     "name": "stdout",
     "output_type": "stream",
     "text": [
      "row1 row2 row3 row4 \n",
      "   7    2    7    2 \n",
      "col1 col2 col3 col4 \n",
      "  97   83   89   89 \n",
      "matrix1 matrix2 \n",
      "    768     572 \n"
     ]
    }
   ],
   "source": [
    "## Ex4: \n",
    "# Create my_array (4, 4, 2): from 2 matrices created by calling function create_matrix (Ex3)\n",
    "matrix1 = create_matrix.function()\n",
    "matrix2 = create_matrix.function()\n",
    "\n",
    "row_names = c(\"row1\", \"row2\", \"row3\", \"row4\")\n",
    "col_names = c(\"col1\", \"col2\", \"col3\", \"col4\")\n",
    "mat_names = c(\"matrix1\", \"matrix2\")\n",
    "\n",
    "my_array = array(c(matrix1,matrix2), dim=c(4, 4, 2), dimnames=list(row_names, col_names, mat_names))\n",
    "# Use apply to calculate the min of the rows across all the matrices.\n",
    "print(apply(my_array, c(1), min))\n",
    "# Use apply to calculate the max of the columns across all the matrices.\n",
    "print(apply(my_array, c(2), max))\n",
    "# Use apply to calculate the sum of each matrix in my_array\n",
    "print(apply(my_array, c(3), sum))\n"
   ]
  },
  {
   "cell_type": "code",
   "execution_count": null,
   "metadata": {},
   "outputs": [],
   "source": []
  }
 ],
 "metadata": {
  "colab": {
   "collapsed_sections": [],
   "name": "bai_on_tap_c6_c7_HV.ipynb",
   "provenance": []
  },
  "kernelspec": {
   "display_name": "R",
   "language": "R",
   "name": "ir"
  },
  "language_info": {
   "codemirror_mode": "r",
   "file_extension": ".r",
   "mimetype": "text/x-r-source",
   "name": "R",
   "pygments_lexer": "r",
   "version": "4.0.3"
  }
 },
 "nbformat": 4,
 "nbformat_minor": 4
}
