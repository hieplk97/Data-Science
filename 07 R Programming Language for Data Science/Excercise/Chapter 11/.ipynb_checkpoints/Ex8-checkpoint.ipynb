{
 "cells": [
  {
   "cell_type": "code",
   "execution_count": 1,
   "metadata": {},
   "outputs": [],
   "source": [
    "data = read.csv(\"../../Data/Tech_comp.csv\")"
   ]
  },
  {
   "cell_type": "code",
   "execution_count": 2,
   "metadata": {},
   "outputs": [
    {
     "data": {
      "text/html": [
       "<table>\n",
       "<caption>A data.frame: 4 × 5</caption>\n",
       "<thead>\n",
       "\t<tr><th></th><th scope=col>Company</th><th scope=col>Women..all</th><th scope=col>Women..tech.</th><th scope=col>Men..all.</th><th scope=col>Men..tech.</th></tr>\n",
       "\t<tr><th></th><th scope=col>&lt;chr&gt;</th><th scope=col>&lt;int&gt;</th><th scope=col>&lt;int&gt;</th><th scope=col>&lt;int&gt;</th><th scope=col>&lt;int&gt;</th></tr>\n",
       "</thead>\n",
       "<tbody>\n",
       "\t<tr><th scope=row>1</th><td>Facebook</td><td>32</td><td>16</td><td>84</td><td>68</td></tr>\n",
       "\t<tr><th scope=row>2</th><td>Google  </td><td>30</td><td>18</td><td>82</td><td>70</td></tr>\n",
       "\t<tr><th scope=row>3</th><td>Apple   </td><td>30</td><td>20</td><td>80</td><td>70</td></tr>\n",
       "\t<tr><th scope=row>4</th><td>Yahoo   </td><td>37</td><td>15</td><td>85</td><td>62</td></tr>\n",
       "</tbody>\n",
       "</table>\n"
      ],
      "text/latex": [
       "A data.frame: 4 × 5\n",
       "\\begin{tabular}{r|lllll}\n",
       "  & Company & Women..all & Women..tech. & Men..all. & Men..tech.\\\\\n",
       "  & <chr> & <int> & <int> & <int> & <int>\\\\\n",
       "\\hline\n",
       "\t1 & Facebook & 32 & 16 & 84 & 68\\\\\n",
       "\t2 & Google   & 30 & 18 & 82 & 70\\\\\n",
       "\t3 & Apple    & 30 & 20 & 80 & 70\\\\\n",
       "\t4 & Yahoo    & 37 & 15 & 85 & 62\\\\\n",
       "\\end{tabular}\n"
      ],
      "text/markdown": [
       "\n",
       "A data.frame: 4 × 5\n",
       "\n",
       "| <!--/--> | Company &lt;chr&gt; | Women..all &lt;int&gt; | Women..tech. &lt;int&gt; | Men..all. &lt;int&gt; | Men..tech. &lt;int&gt; |\n",
       "|---|---|---|---|---|---|\n",
       "| 1 | Facebook | 32 | 16 | 84 | 68 |\n",
       "| 2 | Google   | 30 | 18 | 82 | 70 |\n",
       "| 3 | Apple    | 30 | 20 | 80 | 70 |\n",
       "| 4 | Yahoo    | 37 | 15 | 85 | 62 |\n",
       "\n"
      ],
      "text/plain": [
       "  Company  Women..all Women..tech. Men..all. Men..tech.\n",
       "1 Facebook 32         16           84        68        \n",
       "2 Google   30         18           82        70        \n",
       "3 Apple    30         20           80        70        \n",
       "4 Yahoo    37         15           85        62        "
      ]
     },
     "metadata": {},
     "output_type": "display_data"
    }
   ],
   "source": [
    "head(data)"
   ]
  },
  {
   "cell_type": "code",
   "execution_count": 3,
   "metadata": {},
   "outputs": [],
   "source": [
    "women_nontech = data$Women..all - data$Women..tech.\n",
    "men_nontech = data$Men..all - data$Men..tech."
   ]
  },
  {
   "cell_type": "code",
   "execution_count": 4,
   "metadata": {},
   "outputs": [
    {
     "data": {
      "image/png": "[encoded data removed]",
      "text/plain": [
       "Plot with title \"Tech comp of women\""
      ]
     },
     "metadata": {
      "image/png": {
       "height": 420,
       "width": 420
      }
     },
     "output_type": "display_data"
    }
   ],
   "source": [
    "plot(data$Women..tech, type = \"o\", col = \"red\", ylim = c(0, 30), ylab = \"People\", \n",
    "     main = \"Tech comp of women\", xaxt = 'n')\n",
    "axis(1, at = 1:4, labels = data$Company)\n",
    "\n",
    "lines(women_nontech, type = \"o\", col = \"blue\")"
   ]
  },
  {
   "cell_type": "code",
   "execution_count": 5,
   "metadata": {},
   "outputs": [
    {
     "data": {
      "image/png": "[encoded data removed]",
      "text/plain": [
       "Plot with title \"Tech comp of men\""
      ]
     },
     "metadata": {
      "image/png": {
       "height": 420,
       "width": 420
      }
     },
     "output_type": "display_data"
    }
   ],
   "source": [
    "plot(data$Men..tech, type = \"o\", col = \"red\", ylim = c(0, 100), ylab = \"People\", \n",
    "     main = \"Tech comp of men\", xaxt = 'n')\n",
    "axis(1, at = 1:4, labels = data$Company)\n",
    "\n",
    "lines(men_nontech, type = \"o\", col = \"blue\")"
   ]
  }
 ],
 "metadata": {
  "kernelspec": {
   "display_name": "R",
   "language": "R",
   "name": "ir"
  },
  "language_info": {
   "codemirror_mode": "r",
   "file_extension": ".r",
   "mimetype": "text/x-r-source",
   "name": "R",
   "pygments_lexer": "r",
   "version": "4.0.3"
  }
 },
 "nbformat": 4,
 "nbformat_minor": 4
}
