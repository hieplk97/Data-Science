{
 "cells": [
  {
   "cell_type": "markdown",
   "id": "american-dayton",
   "metadata": {},
   "source": [
    "### Requirement: Build a reviewer filter. Use the various NLP tools and a new classifier, Naive Bayes to predict if one review text is like (overall >=4), don't like (overall <=2), neutral (2<overall<4)."
   ]
  },
  {
   "cell_type": "code",
   "execution_count": 1,
   "id": "korean-thursday",
   "metadata": {},
   "outputs": [
    {
     "data": {
      "text/html": [
       "<style>pre { white-space: pre !important; }</style>"
      ],
      "text/plain": [
       "<IPython.core.display.HTML object>"
      ]
     },
     "metadata": {},
     "output_type": "display_data"
    }
   ],
   "source": [
    "from IPython.core.display import HTML\n",
    "display(HTML(\"<style>pre { white-space: pre !important; }</style>\"))"
   ]
  },
  {
   "cell_type": "code",
   "execution_count": 2,
   "id": "permanent-village",
   "metadata": {},
   "outputs": [],
   "source": [
    "import findspark\n",
    "findspark.init()"
   ]
  },
  {
   "cell_type": "code",
   "execution_count": 3,
   "id": "growing-showcase",
   "metadata": {},
   "outputs": [],
   "source": [
    "from pyspark.sql import SparkSession\n",
    "from pyspark.sql.functions import length, when, col, explode, array, lit\n",
    "\n",
    "from pyspark.ml import Pipeline\n",
    "from pyspark.ml.feature import Tokenizer, StopWordsRemover, CountVectorizer, IDF, StringIndexer, VectorAssembler\n",
    "from pyspark.ml.linalg import Vector\n",
    "from pyspark.ml.classification import NaiveBayes, LogisticRegression, RandomForestClassifier\n",
    "from pyspark.ml.evaluation import MulticlassClassificationEvaluator"
   ]
  },
  {
   "cell_type": "code",
   "execution_count": 4,
   "id": "behind-honor",
   "metadata": {},
   "outputs": [],
   "source": [
    "spark = SparkSession.builder.appName('nlp_musical').getOrCreate()"
   ]
  },
  {
   "cell_type": "code",
   "execution_count": 5,
   "id": "restricted-graham",
   "metadata": {},
   "outputs": [],
   "source": [
    "# Load data\n",
    "data = spark.read.json(\"../../Data/Musical_Instruments_5.json\")"
   ]
  },
  {
   "cell_type": "code",
   "execution_count": 6,
   "id": "residential-transaction",
   "metadata": {},
   "outputs": [
    {
     "name": "stdout",
     "output_type": "stream",
     "text": [
      "+----------+--------+-------+--------------------+-----------+--------------+--------------------+--------------------+--------------+\n",
      "|      asin| helpful|overall|          reviewText| reviewTime|    reviewerID|        reviewerName|             summary|unixReviewTime|\n",
      "+----------+--------+-------+--------------------+-----------+--------------+--------------------+--------------------+--------------+\n",
      "|1384719342|  [0, 0]|    5.0|Not much to write...|02 28, 2014|A2IBPI20UZIR0U|cassandra tu \"Yea...|                good|    1393545600|\n",
      "|1384719342|[13, 14]|    5.0|The product does ...|03 16, 2013|A14VAT5EAX3D9S|                Jake|                Jake|    1363392000|\n",
      "|1384719342|  [1, 1]|    5.0|The primary job o...|08 28, 2013|A195EZSQDW3E21|Rick Bennette \"Ri...|It Does The Job Well|    1377648000|\n",
      "|1384719342|  [0, 0]|    5.0|Nice windscreen p...|02 14, 2014|A2C00NNG1ZQQG2|RustyBill \"Sunday...|GOOD WINDSCREEN F...|    1392336000|\n",
      "|1384719342|  [0, 0]|    5.0|This pop filter i...|02 21, 2014| A94QU4C90B1AX|       SEAN MASLANKA|No more pops when...|    1392940800|\n",
      "+----------+--------+-------+--------------------+-----------+--------------+--------------------+--------------------+--------------+\n",
      "only showing top 5 rows\n",
      "\n"
     ]
    }
   ],
   "source": [
    "data.show(5)"
   ]
  },
  {
   "cell_type": "code",
   "execution_count": 7,
   "id": "front-characterization",
   "metadata": {},
   "outputs": [],
   "source": [
    "data = data.withColumn('class', when(data.overall >=4, 'like').when(data.overall <=2, 'not_like').otherwise(\"neutral\"))"
   ]
  },
  {
   "cell_type": "code",
   "execution_count": 8,
   "id": "dependent-large",
   "metadata": {},
   "outputs": [],
   "source": [
    "data = data.select('reviewText', 'overall', 'class')"
   ]
  },
  {
   "cell_type": "markdown",
   "id": "strategic-species",
   "metadata": {},
   "source": [
    "### Clean and prepare the data"
   ]
  },
  {
   "cell_type": "code",
   "execution_count": 9,
   "id": "grave-papua",
   "metadata": {},
   "outputs": [],
   "source": [
    "data = data.withColumn('length', length(data['reviewText']))"
   ]
  },
  {
   "cell_type": "code",
   "execution_count": 10,
   "id": "thick-rabbit",
   "metadata": {},
   "outputs": [
    {
     "name": "stdout",
     "output_type": "stream",
     "text": [
      "+--------------------+-------+-----+------+\n",
      "|          reviewText|overall|class|length|\n",
      "+--------------------+-------+-----+------+\n",
      "|Not much to write...|    5.0| like|   268|\n",
      "|The product does ...|    5.0| like|   544|\n",
      "|The primary job o...|    5.0| like|   436|\n",
      "|Nice windscreen p...|    5.0| like|   206|\n",
      "|This pop filter i...|    5.0| like|   159|\n",
      "+--------------------+-------+-----+------+\n",
      "only showing top 5 rows\n",
      "\n"
     ]
    }
   ],
   "source": [
    "data.show(5)"
   ]
  },
  {
   "cell_type": "code",
   "execution_count": 11,
   "id": "crazy-currency",
   "metadata": {},
   "outputs": [
    {
     "name": "stdout",
     "output_type": "stream",
     "text": [
      "+--------+-----+\n",
      "|   class|count|\n",
      "+--------+-----+\n",
      "|not_like|  467|\n",
      "| neutral|  772|\n",
      "|    like| 9022|\n",
      "+--------+-----+\n",
      "\n"
     ]
    }
   ],
   "source": [
    "# Pretty Clear Difference\n",
    "data.groupby('class').count().show()"
   ]
  },
  {
   "cell_type": "markdown",
   "id": "human-oriental",
   "metadata": {},
   "source": [
    "### Feature Transformation"
   ]
  },
  {
   "cell_type": "code",
   "execution_count": 12,
   "id": "acquired-slave",
   "metadata": {},
   "outputs": [],
   "source": [
    "class_to_num = StringIndexer(inputCol='class', outputCol='label')\n",
    "tokenizer = Tokenizer(inputCol='reviewText', outputCol='token_text')\n",
    "stopremove = StopWordsRemover(inputCol='token_text', outputCol='stop_tokens')\n",
    "count_vec = CountVectorizer(inputCol='stop_tokens', outputCol='c_vec')\n",
    "idf = IDF(inputCol='c_vec', outputCol='tf_idf')"
   ]
  },
  {
   "cell_type": "code",
   "execution_count": 13,
   "id": "understanding-excess",
   "metadata": {},
   "outputs": [],
   "source": [
    "clean_up = VectorAssembler(inputCols=['tf_idf', 'length'], outputCol='features')"
   ]
  },
  {
   "cell_type": "markdown",
   "id": "brilliant-jimmy",
   "metadata": {},
   "source": [
    "### The model"
   ]
  },
  {
   "cell_type": "code",
   "execution_count": 14,
   "id": "progressive-rocket",
   "metadata": {},
   "outputs": [],
   "source": [
    "nb = NaiveBayes()"
   ]
  },
  {
   "cell_type": "markdown",
   "id": "bearing-scope",
   "metadata": {},
   "source": [
    "### Pipeline"
   ]
  },
  {
   "cell_type": "code",
   "execution_count": 15,
   "id": "built-blake",
   "metadata": {},
   "outputs": [],
   "source": [
    "data_prep_pipe = Pipeline(stages=[class_to_num, tokenizer, stopremove, count_vec, idf, clean_up])"
   ]
  },
  {
   "cell_type": "code",
   "execution_count": 16,
   "id": "steady-reynolds",
   "metadata": {},
   "outputs": [],
   "source": [
    "clearer = data_prep_pipe.fit(data)"
   ]
  },
  {
   "cell_type": "code",
   "execution_count": 17,
   "id": "abstract-render",
   "metadata": {},
   "outputs": [],
   "source": [
    "clean_data = clearer.transform(data)"
   ]
  },
  {
   "cell_type": "markdown",
   "id": "varied-halloween",
   "metadata": {},
   "source": [
    "### Traing and Evaluation"
   ]
  },
  {
   "cell_type": "code",
   "execution_count": 18,
   "id": "acting-profile",
   "metadata": {},
   "outputs": [],
   "source": [
    "clean_data = clean_data.select(['label', 'features'])"
   ]
  },
  {
   "cell_type": "code",
   "execution_count": 19,
   "id": "generic-judges",
   "metadata": {},
   "outputs": [
    {
     "name": "stdout",
     "output_type": "stream",
     "text": [
      "+-----+--------------------+\n",
      "|label|            features|\n",
      "+-----+--------------------+\n",
      "|  0.0|(51949,[3,12,14,3...|\n",
      "|  0.0|(51949,[2,3,12,16...|\n",
      "|  0.0|(51949,[11,19,44,...|\n",
      "|  0.0|(51949,[18,37,57,...|\n",
      "|  0.0|(51949,[2,122,132...|\n",
      "|  0.0|(51949,[0,5,15,21...|\n",
      "|  0.0|(51949,[5,16,29,1...|\n",
      "|  1.0|(51949,[1,3,4,8,1...|\n",
      "|  0.0|(51949,[0,3,12,33...|\n",
      "|  0.0|(51949,[1,6,15,52...|\n",
      "+-----+--------------------+\n",
      "only showing top 10 rows\n",
      "\n"
     ]
    }
   ],
   "source": [
    "clean_data.show(10)"
   ]
  },
  {
   "cell_type": "code",
   "execution_count": 20,
   "id": "graphic-offset",
   "metadata": {},
   "outputs": [],
   "source": [
    "(training, testing) = clean_data.randomSplit([0.7, 0.3])"
   ]
  },
  {
   "cell_type": "code",
   "execution_count": 21,
   "id": "dominican-zimbabwe",
   "metadata": {},
   "outputs": [
    {
     "name": "stdout",
     "output_type": "stream",
     "text": [
      "+-----+-----+\n",
      "|label|count|\n",
      "+-----+-----+\n",
      "|  0.0| 6303|\n",
      "|  1.0|  557|\n",
      "|  2.0|  318|\n",
      "+-----+-----+\n",
      "\n"
     ]
    }
   ],
   "source": [
    "training.groupby('label').count().show()"
   ]
  },
  {
   "cell_type": "code",
   "execution_count": 22,
   "id": "cardiovascular-guide",
   "metadata": {},
   "outputs": [
    {
     "name": "stdout",
     "output_type": "stream",
     "text": [
      "+-----+-----+\n",
      "|label|count|\n",
      "+-----+-----+\n",
      "|  0.0| 2719|\n",
      "|  1.0|  215|\n",
      "|  2.0|  149|\n",
      "+-----+-----+\n",
      "\n"
     ]
    }
   ],
   "source": [
    "testing.groupby('label').count().show()"
   ]
  },
  {
   "cell_type": "code",
   "execution_count": 23,
   "id": "retired-isaac",
   "metadata": {},
   "outputs": [],
   "source": [
    "predictor = nb.fit(training)"
   ]
  },
  {
   "cell_type": "code",
   "execution_count": 24,
   "id": "innovative-calvin",
   "metadata": {},
   "outputs": [
    {
     "name": "stdout",
     "output_type": "stream",
     "text": [
      "root\n",
      " |-- reviewText: string (nullable = true)\n",
      " |-- overall: double (nullable = true)\n",
      " |-- class: string (nullable = false)\n",
      " |-- length: integer (nullable = true)\n",
      "\n"
     ]
    }
   ],
   "source": [
    "data.printSchema()"
   ]
  },
  {
   "cell_type": "code",
   "execution_count": 25,
   "id": "emotional-science",
   "metadata": {},
   "outputs": [],
   "source": [
    "test_results = predictor.transform(testing)"
   ]
  },
  {
   "cell_type": "code",
   "execution_count": 26,
   "id": "advance-alcohol",
   "metadata": {},
   "outputs": [
    {
     "name": "stdout",
     "output_type": "stream",
     "text": [
      "+-----+--------------------+--------------------+--------------------+----------+\n",
      "|label|            features|       rawPrediction|         probability|prediction|\n",
      "+-----+--------------------+--------------------+--------------------+----------+\n",
      "|  0.0|(51949,[0],[1.025...|[-6.4391482826490...|[0.88759228226343...|       0.0|\n",
      "|  0.0|(51949,[0,1,2,3,4...|[-11931.040260643...|[1.0,1.0538841179...|       0.0|\n",
      "|  0.0|(51949,[0,1,2,3,4...|[-7697.9785301232...|[1.0,1.3564401283...|       0.0|\n",
      "|  0.0|(51949,[0,1,2,3,4...|[-37925.988998147...|[1.77897342503172...|       1.0|\n",
      "|  0.0|(51949,[0,1,2,3,4...|[-12955.590556716...|[2.61968636701946...|       2.0|\n",
      "|  0.0|(51949,[0,1,2,3,4...|[-19081.867903993...|[8.181824552061E-...|       2.0|\n",
      "|  0.0|(51949,[0,1,2,3,4...|[-10820.847583772...|[1.0,1.2526855708...|       0.0|\n",
      "|  0.0|(51949,[0,1,2,3,4...|[-3676.5065587054...|[1.0,1.1192537795...|       0.0|\n",
      "|  0.0|(51949,[0,1,2,3,4...|[-7672.7682272594...|[1.68965789743225...|       1.0|\n",
      "|  0.0|(51949,[0,1,2,3,4...|[-3936.6182212641...|[0.99999999850355...|       0.0|\n",
      "+-----+--------------------+--------------------+--------------------+----------+\n",
      "only showing top 10 rows\n",
      "\n"
     ]
    }
   ],
   "source": [
    "test_results.show(10)"
   ]
  },
  {
   "cell_type": "code",
   "execution_count": 27,
   "id": "happy-punishment",
   "metadata": {},
   "outputs": [
    {
     "name": "stdout",
     "output_type": "stream",
     "text": [
      "+-----+----------+-----+\n",
      "|label|prediction|count|\n",
      "+-----+----------+-----+\n",
      "|  2.0|       0.0|   64|\n",
      "|  1.0|       1.0|   64|\n",
      "|  0.0|       1.0|  546|\n",
      "|  1.0|       0.0|  134|\n",
      "|  2.0|       2.0|   38|\n",
      "|  2.0|       1.0|   47|\n",
      "|  1.0|       2.0|   17|\n",
      "|  0.0|       0.0| 1962|\n",
      "|  0.0|       2.0|  211|\n",
      "+-----+----------+-----+\n",
      "\n"
     ]
    }
   ],
   "source": [
    "test_results.groupBy(\"label\", \"prediction\").count().show()"
   ]
  },
  {
   "cell_type": "code",
   "execution_count": 28,
   "id": "mobile-luxembourg",
   "metadata": {},
   "outputs": [
    {
     "name": "stdout",
     "output_type": "stream",
     "text": [
      "Accuracy of model at predicting was: 0.7283937514311138\n"
     ]
    }
   ],
   "source": [
    "acc_eval = MulticlassClassificationEvaluator()\n",
    "acc = acc_eval.evaluate(test_results)\n",
    "print(\"Accuracy of model at predicting was: {}\".format(acc))"
   ]
  },
  {
   "cell_type": "markdown",
   "id": "neutral-prototype",
   "metadata": {},
   "source": [
    "#### Not very good result, try LogisticRegression or RandomForestClassifier"
   ]
  },
  {
   "cell_type": "markdown",
   "id": "english-family",
   "metadata": {},
   "source": [
    "### Logistic Regression"
   ]
  },
  {
   "cell_type": "code",
   "execution_count": 29,
   "id": "developmental-alfred",
   "metadata": {},
   "outputs": [],
   "source": [
    "lg = LogisticRegression(maxIter=20, regParam=0.3, elasticNetParam=0)"
   ]
  },
  {
   "cell_type": "code",
   "execution_count": 30,
   "id": "framed-fusion",
   "metadata": {},
   "outputs": [],
   "source": [
    "predictor_lg = lg.fit(training)"
   ]
  },
  {
   "cell_type": "code",
   "execution_count": 31,
   "id": "imperial-level",
   "metadata": {},
   "outputs": [],
   "source": [
    "test_result_lg = predictor_lg.transform(testing)"
   ]
  },
  {
   "cell_type": "code",
   "execution_count": 32,
   "id": "crucial-extension",
   "metadata": {},
   "outputs": [
    {
     "name": "stdout",
     "output_type": "stream",
     "text": [
      "+-----+----------+-----+\n",
      "|label|prediction|count|\n",
      "+-----+----------+-----+\n",
      "|  2.0|       0.0|  146|\n",
      "|  1.0|       1.0|    3|\n",
      "|  0.0|       1.0|    2|\n",
      "|  1.0|       0.0|  210|\n",
      "|  2.0|       2.0|    2|\n",
      "|  2.0|       1.0|    1|\n",
      "|  1.0|       2.0|    2|\n",
      "|  0.0|       0.0| 2716|\n",
      "|  0.0|       2.0|    1|\n",
      "+-----+----------+-----+\n",
      "\n"
     ]
    }
   ],
   "source": [
    "test_result_lg.groupBy(\"label\", \"prediction\").count().show()"
   ]
  },
  {
   "cell_type": "code",
   "execution_count": 33,
   "id": "appreciated-absence",
   "metadata": {},
   "outputs": [
    {
     "name": "stdout",
     "output_type": "stream",
     "text": [
      "Accuracy of model at predicting was: 0.830408353503968\n"
     ]
    }
   ],
   "source": [
    "acc_lg = acc_eval.evaluate(test_result_lg)\n",
    "print(\"Accuracy of model at predicting was: {}\".format(acc_lg))"
   ]
  },
  {
   "cell_type": "markdown",
   "id": "hourly-legislature",
   "metadata": {},
   "source": [
    "#### Higher but not better result"
   ]
  },
  {
   "cell_type": "markdown",
   "id": "consecutive-catalyst",
   "metadata": {},
   "source": [
    "### Random Forest"
   ]
  },
  {
   "cell_type": "code",
   "execution_count": 34,
   "id": "aboriginal-violence",
   "metadata": {},
   "outputs": [],
   "source": [
    "rf = RandomForestClassifier(labelCol=\"label\", featuresCol=\"features\", numTrees=500, maxDepth=5, maxBins=64)"
   ]
  },
  {
   "cell_type": "code",
   "execution_count": 35,
   "id": "sufficient-bosnia",
   "metadata": {},
   "outputs": [],
   "source": [
    "predictor_rf = rf.fit(training)"
   ]
  },
  {
   "cell_type": "code",
   "execution_count": 36,
   "id": "rapid-legislature",
   "metadata": {},
   "outputs": [],
   "source": [
    "test_result_rf = predictor_rf.transform(testing)"
   ]
  },
  {
   "cell_type": "code",
   "execution_count": 37,
   "id": "fitted-contribution",
   "metadata": {},
   "outputs": [
    {
     "name": "stdout",
     "output_type": "stream",
     "text": [
      "+-----+----------+-----+\n",
      "|label|prediction|count|\n",
      "+-----+----------+-----+\n",
      "|  2.0|       0.0|  149|\n",
      "|  1.0|       0.0|  215|\n",
      "|  0.0|       0.0| 2719|\n",
      "+-----+----------+-----+\n",
      "\n"
     ]
    }
   ],
   "source": [
    "test_result_rf.groupBy(\"label\", \"prediction\").count().show()"
   ]
  },
  {
   "cell_type": "code",
   "execution_count": 38,
   "id": "medieval-freeze",
   "metadata": {},
   "outputs": [
    {
     "name": "stdout",
     "output_type": "stream",
     "text": [
      "+----------+-----+\n",
      "|prediction|count|\n",
      "+----------+-----+\n",
      "|       0.0| 3083|\n",
      "+----------+-----+\n",
      "\n"
     ]
    }
   ],
   "source": [
    "test_result_rf.groupBy(\"prediction\").count().show()"
   ]
  },
  {
   "cell_type": "code",
   "execution_count": 39,
   "id": "indonesian-victor",
   "metadata": {},
   "outputs": [
    {
     "name": "stdout",
     "output_type": "stream",
     "text": [
      "Accuracy of model at predicting was: 0.8266033511770132\n"
     ]
    }
   ],
   "source": [
    "acc_rf = acc_eval.evaluate(test_result_rf)\n",
    "print(\"Accuracy of model at predicting was: {}\".format(acc_rf))"
   ]
  },
  {
   "cell_type": "markdown",
   "id": "awful-anatomy",
   "metadata": {},
   "source": [
    "#### Higher accuracy but too bad result"
   ]
  },
  {
   "cell_type": "markdown",
   "id": "otherwise-chair",
   "metadata": {},
   "source": [
    "# Need to resample"
   ]
  },
  {
   "cell_type": "code",
   "execution_count": 40,
   "id": "postal-ottawa",
   "metadata": {},
   "outputs": [
    {
     "name": "stdout",
     "output_type": "stream",
     "text": [
      "ratio like/neutral 11\n",
      "ratio like/not like 19\n"
     ]
    }
   ],
   "source": [
    "like_df = training.filter(col(\"label\")==0)\n",
    "neutral_df = training.filter(col(\"label\")==1)\n",
    "notlike_df = training.filter(col(\"label\")==2)\n",
    "\n",
    "ratio_1 = int(like_df.count()/neutral_df.count())\n",
    "ratio_2 = int(like_df.count()/notlike_df.count())\n",
    "\n",
    "print(\"ratio like/neutral {}\".format(ratio_1))\n",
    "print(\"ratio like/not like {}\".format(ratio_2))"
   ]
  },
  {
   "cell_type": "code",
   "execution_count": 41,
   "id": "innocent-qualification",
   "metadata": {},
   "outputs": [],
   "source": [
    "# resample neutral\n",
    "a1 = range(ratio_1)\n",
    "# duplicate the minority rows\n",
    "oversampled_neutral_df = neutral_df.withColumn(\"dummy\", explode(array([lit(x) for x in a1]))).drop('dummy')"
   ]
  },
  {
   "cell_type": "code",
   "execution_count": 42,
   "id": "ultimate-comfort",
   "metadata": {},
   "outputs": [
    {
     "name": "stdout",
     "output_type": "stream",
     "text": [
      "+-----+--------------------+\n",
      "|label|            features|\n",
      "+-----+--------------------+\n",
      "|  0.0|(51949,[0],[1.025...|\n",
      "|  0.0|(51949,[0,1,2,3,4...|\n",
      "|  0.0|(51949,[0,1,2,3,4...|\n",
      "|  0.0|(51949,[0,1,2,3,4...|\n",
      "|  0.0|(51949,[0,1,2,3,4...|\n",
      "|  0.0|(51949,[0,1,2,3,4...|\n",
      "|  0.0|(51949,[0,1,2,3,4...|\n",
      "|  0.0|(51949,[0,1,2,3,4...|\n",
      "|  0.0|(51949,[0,1,2,3,4...|\n",
      "|  0.0|(51949,[0,1,2,3,4...|\n",
      "+-----+--------------------+\n",
      "only showing top 10 rows\n",
      "\n"
     ]
    }
   ],
   "source": [
    "# combine both oversampled minority rows and previous majority rows\n",
    "combined_df = like_df.unionAll(oversampled_neutral_df)\n",
    "combined_df.show(10)"
   ]
  },
  {
   "cell_type": "code",
   "execution_count": 43,
   "id": "tough-family",
   "metadata": {},
   "outputs": [
    {
     "name": "stdout",
     "output_type": "stream",
     "text": [
      "+-----+-----+\n",
      "|label|count|\n",
      "+-----+-----+\n",
      "|  0.0| 6303|\n",
      "|  1.0| 6127|\n",
      "+-----+-----+\n",
      "\n"
     ]
    }
   ],
   "source": [
    "combined_df.groupBy('label').count().show()"
   ]
  },
  {
   "cell_type": "code",
   "execution_count": 44,
   "id": "impressed-underground",
   "metadata": {},
   "outputs": [],
   "source": [
    "# resample not like\n",
    "a2 = range(ratio_2)\n",
    "# duplicate the minority rows\n",
    "oversampled_notlike_df = notlike_df.withColumn(\"dummy\", explode(array([lit(x) for x in a2]))).drop('dummy')"
   ]
  },
  {
   "cell_type": "code",
   "execution_count": 45,
   "id": "invalid-sector",
   "metadata": {},
   "outputs": [
    {
     "name": "stdout",
     "output_type": "stream",
     "text": [
      "+-----+--------------------+\n",
      "|label|            features|\n",
      "+-----+--------------------+\n",
      "|  0.0|(51949,[0],[1.025...|\n",
      "|  0.0|(51949,[0,1,2,3,4...|\n",
      "|  0.0|(51949,[0,1,2,3,4...|\n",
      "|  0.0|(51949,[0,1,2,3,4...|\n",
      "|  0.0|(51949,[0,1,2,3,4...|\n",
      "|  0.0|(51949,[0,1,2,3,4...|\n",
      "|  0.0|(51949,[0,1,2,3,4...|\n",
      "|  0.0|(51949,[0,1,2,3,4...|\n",
      "|  0.0|(51949,[0,1,2,3,4...|\n",
      "|  0.0|(51949,[0,1,2,3,4...|\n",
      "+-----+--------------------+\n",
      "only showing top 10 rows\n",
      "\n"
     ]
    }
   ],
   "source": [
    "# combine both oversampled minority rows and previous majority rows\n",
    "combined_df = combined_df.unionAll(oversampled_notlike_df)\n",
    "combined_df.show(10)"
   ]
  },
  {
   "cell_type": "code",
   "execution_count": 46,
   "id": "local-carnival",
   "metadata": {},
   "outputs": [
    {
     "name": "stdout",
     "output_type": "stream",
     "text": [
      "+-----+-----+\n",
      "|label|count|\n",
      "+-----+-----+\n",
      "|  0.0| 6303|\n",
      "|  1.0| 6127|\n",
      "|  2.0| 6042|\n",
      "+-----+-----+\n",
      "\n"
     ]
    }
   ],
   "source": [
    "combined_df.groupBy('label').count().show()"
   ]
  },
  {
   "cell_type": "markdown",
   "id": "engaging-bottom",
   "metadata": {},
   "source": [
    "### Naive Bayer"
   ]
  },
  {
   "cell_type": "code",
   "execution_count": 47,
   "id": "right-effects",
   "metadata": {},
   "outputs": [
    {
     "name": "stdout",
     "output_type": "stream",
     "text": [
      "+-----+----------+-----+\n",
      "|label|prediction|count|\n",
      "+-----+----------+-----+\n",
      "|  2.0|       0.0|  116|\n",
      "|  1.0|       1.0|   31|\n",
      "|  0.0|       1.0|  161|\n",
      "|  1.0|       0.0|  180|\n",
      "|  2.0|       2.0|   19|\n",
      "|  2.0|       1.0|   14|\n",
      "|  1.0|       2.0|    4|\n",
      "|  0.0|       0.0| 2510|\n",
      "|  0.0|       2.0|   48|\n",
      "+-----+----------+-----+\n",
      "\n"
     ]
    }
   ],
   "source": [
    "predictor_nb2 = nb.fit(combined_df)\n",
    "test_result_nb2 = predictor_nb2.transform(testing)\n",
    "test_result_nb2.groupBy(\"label\", \"prediction\").count().show()"
   ]
  },
  {
   "cell_type": "code",
   "execution_count": 48,
   "id": "enclosed-burner",
   "metadata": {},
   "outputs": [
    {
     "name": "stdout",
     "output_type": "stream",
     "text": [
      "Accuracy of model at predicting was: 0.8199400225671071\n"
     ]
    }
   ],
   "source": [
    "acc_nb2 = acc_eval.evaluate(test_result_nb2)\n",
    "print(\"Accuracy of model at predicting was: {}\".format(acc_nb2))"
   ]
  },
  {
   "cell_type": "markdown",
   "id": "exceptional-infrared",
   "metadata": {},
   "source": [
    "### Logistic Regression"
   ]
  },
  {
   "cell_type": "code",
   "execution_count": 49,
   "id": "moved-latitude",
   "metadata": {},
   "outputs": [
    {
     "name": "stdout",
     "output_type": "stream",
     "text": [
      "+-----+----------+-----+\n",
      "|label|prediction|count|\n",
      "+-----+----------+-----+\n",
      "|  2.0|       0.0|  119|\n",
      "|  1.0|       1.0|   20|\n",
      "|  0.0|       1.0|   75|\n",
      "|  1.0|       0.0|  190|\n",
      "|  2.0|       2.0|   13|\n",
      "|  2.0|       1.0|   17|\n",
      "|  1.0|       2.0|    5|\n",
      "|  0.0|       0.0| 2629|\n",
      "|  0.0|       2.0|   15|\n",
      "+-----+----------+-----+\n",
      "\n"
     ]
    }
   ],
   "source": [
    "predictor_lg2 = lg.fit(combined_df)\n",
    "test_result_lg2 = predictor_lg2.transform(testing)\n",
    "test_result_lg2.groupBy(\"label\", \"prediction\").count().show()"
   ]
  },
  {
   "cell_type": "code",
   "execution_count": 50,
   "id": "structured-language",
   "metadata": {},
   "outputs": [
    {
     "name": "stdout",
     "output_type": "stream",
     "text": [
      "Accuracy of model at predicting was: 0.8351633706419184\n"
     ]
    }
   ],
   "source": [
    "acc_lg2 = acc_eval.evaluate(test_result_lg2)\n",
    "print(\"Accuracy of model at predicting was: {}\".format(acc_lg2))"
   ]
  },
  {
   "cell_type": "markdown",
   "id": "executed-james",
   "metadata": {},
   "source": [
    "### Random Forest"
   ]
  },
  {
   "cell_type": "code",
   "execution_count": 51,
   "id": "noted-vocabulary",
   "metadata": {},
   "outputs": [
    {
     "name": "stdout",
     "output_type": "stream",
     "text": [
      "+-----+----------+-----+\n",
      "|label|prediction|count|\n",
      "+-----+----------+-----+\n",
      "|  2.0|       0.0|  119|\n",
      "|  1.0|       1.0|   20|\n",
      "|  0.0|       1.0|   75|\n",
      "|  1.0|       0.0|  190|\n",
      "|  2.0|       2.0|   13|\n",
      "|  2.0|       1.0|   17|\n",
      "|  1.0|       2.0|    5|\n",
      "|  0.0|       0.0| 2629|\n",
      "|  0.0|       2.0|   15|\n",
      "+-----+----------+-----+\n",
      "\n"
     ]
    }
   ],
   "source": [
    "predictor_rf2 = lg.fit(combined_df)\n",
    "test_result_rf2 = predictor_rf2.transform(testing)\n",
    "test_result_rf2.groupBy(\"label\", \"prediction\").count().show()"
   ]
  },
  {
   "cell_type": "code",
   "execution_count": 52,
   "id": "celtic-underwear",
   "metadata": {},
   "outputs": [
    {
     "name": "stdout",
     "output_type": "stream",
     "text": [
      "Accuracy of model at predicting was: 0.8351633706419184\n"
     ]
    }
   ],
   "source": [
    "acc_rf2 = acc_eval.evaluate(test_result_rf2)\n",
    "print(\"Accuracy of model at predicting was: {}\".format(acc_rf2))"
   ]
  }
 ],
 "metadata": {
  "kernelspec": {
   "display_name": "Python 3",
   "language": "python",
   "name": "python3"
  },
  "language_info": {
   "codemirror_mode": {
    "name": "ipython",
    "version": 3
   },
   "file_extension": ".py",
   "mimetype": "text/x-python",
   "name": "python",
   "nbconvert_exporter": "python",
   "pygments_lexer": "ipython3",
   "version": "3.8.3"
  }
 },
 "nbformat": 4,
 "nbformat_minor": 5
}
