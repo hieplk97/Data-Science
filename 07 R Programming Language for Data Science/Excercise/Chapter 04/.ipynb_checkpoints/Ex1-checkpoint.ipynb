{
 "cells": [
  {
   "cell_type": "code",
   "execution_count": 1,
   "metadata": {},
   "outputs": [
    {
     "name": "stdin",
     "output_type": "stream",
     "text": [
      "Input 1 (Continue), Other number (Stop) 5\n"
     ]
    }
   ],
   "source": [
    "continue = 1 \n",
    "repeat {\n",
    "    continue = as.integer(readline(prompt = \"Input 1 (Continue), Other number (Stop)\"))\n",
    "    if (continue != 1){\n",
    "        break\n",
    "    }\n",
    "}"
   ]
  },
  {
   "cell_type": "code",
   "execution_count": null,
   "metadata": {},
   "outputs": [],
   "source": []
  }
 ],
 "metadata": {
  "kernelspec": {
   "display_name": "R",
   "language": "R",
   "name": "ir"
  },
  "language_info": {
   "codemirror_mode": "r",
   "file_extension": ".r",
   "mimetype": "text/x-r-source",
   "name": "R",
   "pygments_lexer": "r",
   "version": "4.0.3"
  }
 },
 "nbformat": 4,
 "nbformat_minor": 4
}
