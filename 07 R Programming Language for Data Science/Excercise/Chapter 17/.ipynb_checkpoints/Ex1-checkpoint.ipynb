{
 "cells": [
  {
   "cell_type": "code",
   "execution_count": 1,
   "metadata": {},
   "outputs": [],
   "source": [
    "data = read.csv(\"../../Data/baseball.csv\")"
   ]
  },
  {
   "cell_type": "code",
   "execution_count": 2,
   "metadata": {},
   "outputs": [
    {
     "name": "stdout",
     "output_type": "stream",
     "text": [
      "             Name Team       Position Height Weight   Age PosCategory\n",
      "1   Adam_Donachie  BAL        Catcher     74    180 22.99     Catcher\n",
      "2       Paul_Bako  BAL        Catcher     74    215 34.69     Catcher\n",
      "3 Ramon_Hernandez  BAL        Catcher     72    210 30.78     Catcher\n",
      "4    Kevin_Millar  BAL  First_Baseman     72    210 35.43   Infielder\n",
      "5     Chris_Gomez  BAL  First_Baseman     73    188 35.71   Infielder\n",
      "6   Brian_Roberts  BAL Second_Baseman     69    176 29.39   Infielder\n",
      "[1] TRUE\n",
      "[1] \"cols: 7\"\n",
      "[1] \"rows: 1015\"\n"
     ]
    }
   ],
   "source": [
    "print(head(data))\n",
    "print(is.data.frame(data))\n",
    "print(paste(\"cols:\", ncol(data)))\n",
    "print(paste(\"rows:\", nrow(data)))"
   ]
  },
  {
   "cell_type": "code",
   "execution_count": 3,
   "metadata": {},
   "outputs": [
    {
     "data": {
      "text/plain": [
       "     Name               Team             Position             Height     \n",
       " Length:1015        Length:1015        Length:1015        Min.   :67.00  \n",
       " Class :character   Class :character   Class :character   1st Qu.:72.00  \n",
       " Mode  :character   Mode  :character   Mode  :character   Median :74.00  \n",
       "                                                          Mean   :73.69  \n",
       "                                                          3rd Qu.:75.00  \n",
       "                                                          Max.   :83.00  \n",
       "     Weight           Age        PosCategory       \n",
       " Min.   :150.0   Min.   :20.90   Length:1015       \n",
       " 1st Qu.:186.0   1st Qu.:25.41   Class :character  \n",
       " Median :200.0   Median :27.90   Mode  :character  \n",
       " Mean   :201.3   Mean   :28.71                     \n",
       " 3rd Qu.:215.0   3rd Qu.:31.19                     \n",
       " Max.   :290.0   Max.   :48.52                     "
      ]
     },
     "metadata": {},
     "output_type": "display_data"
    }
   ],
   "source": [
    "summary(data)"
   ]
  },
  {
   "cell_type": "code",
   "execution_count": 4,
   "metadata": {},
   "outputs": [
    {
     "name": "stdout",
     "output_type": "stream",
     "text": [
      "'data.frame':\t1015 obs. of  7 variables:\n",
      " $ Name       : chr  \"Adam_Donachie\" \"Paul_Bako\" \"Ramon_Hernandez\" \"Kevin_Millar\" ...\n",
      " $ Team       : chr  \"BAL\" \"BAL\" \"BAL\" \"BAL\" ...\n",
      " $ Position   : chr  \"Catcher\" \"Catcher\" \"Catcher\" \"First_Baseman\" ...\n",
      " $ Height     : int  74 74 72 72 73 69 69 71 76 71 ...\n",
      " $ Weight     : int  180 215 210 210 188 176 209 200 231 180 ...\n",
      " $ Age        : num  23 34.7 30.8 35.4 35.7 ...\n",
      " $ PosCategory: chr  \"Catcher\" \"Catcher\" \"Catcher\" \"Infielder\" ...\n"
     ]
    }
   ],
   "source": [
    "str(data)"
   ]
  },
  {
   "cell_type": "code",
   "execution_count": 5,
   "metadata": {},
   "outputs": [
    {
     "name": "stdout",
     "output_type": "stream",
     "text": [
      "  Height Weight\n",
      "1     74    180\n",
      "2     74    215\n",
      "3     72    210\n",
      "4     72    210\n",
      "5     73    188\n",
      "6     69    176\n"
     ]
    }
   ],
   "source": [
    "baseball = data[c(\"Height\", \"Weight\")]\n",
    "print(head(baseball))"
   ]
  },
  {
   "cell_type": "code",
   "execution_count": 6,
   "metadata": {},
   "outputs": [],
   "source": [
    "baseball[\"Height\"] = baseball[\"Height\"] * 0.0254\n",
    "baseball[\"Weight\"] = baseball[\"Weight\"] * 0.453592"
   ]
  },
  {
   "cell_type": "code",
   "execution_count": 7,
   "metadata": {},
   "outputs": [
    {
     "name": "stdout",
     "output_type": "stream",
     "text": [
      "[1] \"After preprocessing data:\"\n",
      "  Height   Weight\n",
      "1 1.8796 81.64656\n",
      "2 1.8796 97.52228\n",
      "3 1.8288 95.25432\n",
      "4 1.8288 95.25432\n",
      "5 1.8542 85.27530\n",
      "6 1.7526 79.83219\n"
     ]
    }
   ],
   "source": [
    "print(\"After preprocessing data:\")\n",
    "print(head(baseball))"
   ]
  },
  {
   "cell_type": "code",
   "execution_count": 8,
   "metadata": {},
   "outputs": [
    {
     "data": {
      "image/png": "[encoded data removed]",
      "text/plain": [
       "Plot with title \"Height vs Weight\""
      ]
     },
     "metadata": {
      "image/png": {
       "height": 420,
       "width": 420
      }
     },
     "output_type": "display_data"
    }
   ],
   "source": [
    "scatter.smooth(x = baseball$Height, y = baseball$Weight, main = \"Height vs Weight\")"
   ]
  },
  {
   "cell_type": "code",
   "execution_count": 9,
   "metadata": {},
   "outputs": [
    {
     "data": {
      "image/png": "[encoded data removed]",
      "text/plain": [
       "Plot with title \"Weight\""
      ]
     },
     "metadata": {
      "image/png": {
       "height": 420,
       "width": 420
      }
     },
     "output_type": "display_data"
    }
   ],
   "source": [
    "# Boxplot to Check for outliers\n",
    "par(mfrow = c(1, 2)) # Divide graph area in 2 columns\n",
    "boxplot(baseball$Height, main = \"Height\", \n",
    "        sub = paste(\"Outlier rows:\", boxplot.stats(baseball$Height)$out))\n",
    "boxplot(baseball$Weight, main = \"Weight\", \n",
    "        sub = paste(\"Outlier rows:\", boxplot.stats(baseball$Weight)$out))"
   ]
  },
  {
   "cell_type": "code",
   "execution_count": 10,
   "metadata": {},
   "outputs": [
    {
     "name": "stdout",
     "output_type": "stream",
     "text": [
      "[1] \"correlation: 0.531539322614609\"\n",
      "[1] \"wt_outliers:\"\n",
      "[1] 117.9339 122.4698 131.5417 126.0986 117.9339 117.9339 117.9339\n",
      "[1] \"ht_outliers:\"\n",
      " [1] 2.0574 2.0320 2.0320 2.0320 2.0320 2.0828 2.0320 2.0574 2.0828 2.1082\n",
      "[11] 1.7018 1.7018\n"
     ]
    }
   ],
   "source": [
    "# Calculate correlation between Width and Length\n",
    "print(paste(\"correlation:\", cor(baseball$Height, baseball$Weight)))\n",
    "print(\"wt_outliers:\")\n",
    "print(boxplot.stats(baseball$Weight)$out)\n",
    "print(\"ht_outliers:\")\n",
    "print(boxplot.stats(baseball$Height)$out)"
   ]
  },
  {
   "cell_type": "code",
   "execution_count": 11,
   "metadata": {},
   "outputs": [
    {
     "name": "stdout",
     "output_type": "stream",
     "text": [
      "[1] \"Before drop: 1015\"\n",
      "[1] \"After drop: 998\"\n"
     ]
    }
   ],
   "source": [
    "# Drop rows have outliers\n",
    "print(paste(\"Before drop:\", nrow(baseball)))\n",
    "for (record in boxplot.stats(baseball$Weight)$out){\n",
    "    baseball = baseball[baseball$Weight != record, ]\n",
    "}\n",
    "for (record in boxplot.stats(baseball$Height)$out){\n",
    "    baseball = baseball[baseball$Height != record, ]\n",
    "}\n",
    "print(paste(\"After drop:\", nrow(baseball)))"
   ]
  },
  {
   "cell_type": "code",
   "execution_count": 12,
   "metadata": {},
   "outputs": [
    {
     "name": "stdout",
     "output_type": "stream",
     "text": [
      "[1] \"Selected training row indexes:\"\n",
      "[1] \"Rows of training data and test data:\"\n",
      "[1] 698\n",
      "[1] 300\n"
     ]
    }
   ],
   "source": [
    "# Create training and test data samples from orginal data\n",
    "set.seed(42) # Setting seed to reproduce results of ramdom sampling\n",
    "trainingRowIndex = sample(1: nrow(baseball), 0.7 * nrow(baseball))\n",
    "print(\"Selected training row indexes:\")\n",
    "trainingData = baseball[trainingRowIndex, ]\n",
    "testData = baseball[- trainingRowIndex,]\n",
    "print(\"Rows of training data and test data:\")\n",
    "print(nrow(trainingData))\n",
    "print(nrow(testData))"
   ]
  },
  {
   "cell_type": "code",
   "execution_count": 13,
   "metadata": {},
   "outputs": [
    {
     "name": "stdout",
     "output_type": "stream",
     "text": [
      "[1] \"mse: 62.1665992405895\"\n",
      "[1] \"mse in test: 57.1830374137476\"\n"
     ]
    }
   ],
   "source": [
    "# Develop the model on the training data and use it to preidict the Length on test data\n",
    "lmMod = lm(Weight ~ Height, data =  trainingData) # Build the model\n",
    "iPred = predict(lmMod, testData) # predict length\n",
    "\n",
    "# mean square error according to model\n",
    "mse = mean(lmMod$residuals^2)\n",
    "print(paste(\"mse:\", mse))\n",
    "\n",
    "# mean square error of test data\n",
    "mse_test = mean((testData$Weight - iPred)^2)\n",
    "print(paste(\"mse in test:\", mse_test))"
   ]
  },
  {
   "cell_type": "code",
   "execution_count": 14,
   "metadata": {},
   "outputs": [
    {
     "data": {
      "text/html": [
       "0.224119248610725"
      ],
      "text/latex": [
       "0.224119248610725"
      ],
      "text/markdown": [
       "0.224119248610725"
      ],
      "text/plain": [
       "[1] 0.2241192"
      ]
     },
     "metadata": {},
     "output_type": "display_data"
    }
   ],
   "source": [
    "summary(lmMod)$r.squared"
   ]
  },
  {
   "cell_type": "markdown",
   "metadata": {},
   "source": [
    "=> has low value, this model fits ~ 27% data => not good"
   ]
  },
  {
   "cell_type": "code",
   "execution_count": 15,
   "metadata": {},
   "outputs": [
    {
     "name": "stdout",
     "output_type": "stream",
     "text": [
      "\n",
      "Call:\n",
      "lm(formula = Weight ~ Height, data = trainingData)\n",
      "\n",
      "Residuals:\n",
      "     Min       1Q   Median       3Q      Max \n",
      "-22.8230  -5.6531  -0.1704   5.1062  27.6049 \n",
      "\n",
      "Coefficients:\n",
      "            Estimate Std. Error t value Pr(>|t|)    \n",
      "(Intercept)  -52.482     10.113   -5.19 2.76e-07 ***\n",
      "Height        76.675      5.408   14.18  < 2e-16 ***\n",
      "---\n",
      "Signif. codes:  0 '***' 0.001 '**' 0.01 '*' 0.05 '.' 0.1 ' ' 1\n",
      "\n",
      "Residual standard error: 7.896 on 696 degrees of freedom\n",
      "Multiple R-squared:  0.2241,\tAdjusted R-squared:  0.223 \n",
      "F-statistic:   201 on 1 and 696 DF,  p-value: < 2.2e-16\n",
      "\n"
     ]
    }
   ],
   "source": [
    "# Review dianostic measures\n",
    "print(summary(lmMod))"
   ]
  },
  {
   "cell_type": "code",
   "execution_count": 16,
   "metadata": {},
   "outputs": [
    {
     "name": "stdout",
     "output_type": "stream",
     "text": [
      "(Intercept)      Height \n",
      "  -52.48233    76.67488 \n",
      "[1] \"slope: 76.6748792521467\"\n",
      "[1] \"Intercept: -52.4823323447618\"\n"
     ]
    }
   ],
   "source": [
    "# Model coefficients\n",
    "print(coef(lmMod))\n",
    "# get beta estimate for height\n",
    "beta_height = coef(lmMod)[\"Height\"]\n",
    "print(paste(\"slope:\", beta_height))\n",
    "Intercept = coef(lmMod)[\"(Intercept)\"]\n",
    "print(paste(\"Intercept:\", Intercept))"
   ]
  },
  {
   "cell_type": "code",
   "execution_count": 17,
   "metadata": {},
   "outputs": [
    {
     "name": "stdout",
     "output_type": "stream",
     "text": [
      "[1] \"Solution 1 - results:\"\n",
      "[1] 83.61558 87.44932 95.11681\n",
      "[1] \"Solution 2 - results:\"\n",
      "       1        2        3 \n",
      "83.61558 87.44932 95.11681 \n"
     ]
    }
   ],
   "source": [
    "# new predictions\n",
    "# solution 1\n",
    "x = c(1.775, 1.825, 1.925)\n",
    "y = Intercept + beta_height * x\n",
    "print(\"Solution 1 - results:\")\n",
    "print(y)\n",
    "\n",
    "# solution 2\n",
    "y1 = predict(lmMod, data.frame(Height = x))\n",
    "print(\"Solution 2 - results:\")\n",
    "print(y1)"
   ]
  },
  {
   "cell_type": "code",
   "execution_count": 18,
   "metadata": {},
   "outputs": [
    {
     "data": {
      "image/png": "[encoded data removed]",
      "text/plain": [
       "Plot with title \"Baseball Linear regression\""
      ]
     },
     "metadata": {
      "image/png": {
       "height": 420,
       "width": 420
      }
     },
     "output_type": "display_data"
    }
   ],
   "source": [
    "# Visualization\n",
    "plot(baseball$Height, baseball$Weight,\n",
    "     main = \"Baseball Linear regression\",\n",
    "     xlab = \"Height\", ylab = \"Weight\",\n",
    "     pch = 19, frame = FALSE, col = 'blue')\n",
    "lines(x, y, col = 'red', type = 'p')\n",
    "abline(lmMod, baseball, col = 'green')\n",
    "legend(\"topleft\", c(\"dataset\", \"data_predict\"), cex = 0.8, fill = c(\"blue\", \"orange\"))"
   ]
  }
 ],
 "metadata": {
  "kernelspec": {
   "display_name": "R",
   "language": "R",
   "name": "ir"
  },
  "language_info": {
   "codemirror_mode": "r",
   "file_extension": ".r",
   "mimetype": "text/x-r-source",
   "name": "R",
   "pygments_lexer": "r",
   "version": "4.0.3"
  }
 },
 "nbformat": 4,
 "nbformat_minor": 4
}
