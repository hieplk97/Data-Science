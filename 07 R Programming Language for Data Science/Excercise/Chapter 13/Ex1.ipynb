{
 "cells": [
  {
   "cell_type": "code",
   "execution_count": 1,
   "metadata": {},
   "outputs": [
    {
     "name": "stderr",
     "output_type": "stream",
     "text": [
      "corrplot 0.84 loaded\n",
      "\n"
     ]
    }
   ],
   "source": [
    "library(mlbench)\n",
    "library(\"e1071\")\n",
    "library(corrplot)"
   ]
  },
  {
   "cell_type": "code",
   "execution_count": 2,
   "metadata": {},
   "outputs": [
    {
     "data": {
      "text/html": [
       "<table>\n",
       "<caption>A data.frame: 6 × 9</caption>\n",
       "<thead>\n",
       "\t<tr><th></th><th scope=col>pregnant</th><th scope=col>glucose</th><th scope=col>pressure</th><th scope=col>triceps</th><th scope=col>insulin</th><th scope=col>mass</th><th scope=col>pedigree</th><th scope=col>age</th><th scope=col>diabetes</th></tr>\n",
       "\t<tr><th></th><th scope=col>&lt;dbl&gt;</th><th scope=col>&lt;dbl&gt;</th><th scope=col>&lt;dbl&gt;</th><th scope=col>&lt;dbl&gt;</th><th scope=col>&lt;dbl&gt;</th><th scope=col>&lt;dbl&gt;</th><th scope=col>&lt;dbl&gt;</th><th scope=col>&lt;dbl&gt;</th><th scope=col>&lt;fct&gt;</th></tr>\n",
       "</thead>\n",
       "<tbody>\n",
       "\t<tr><th scope=row>1</th><td>6</td><td>148</td><td>72</td><td>35</td><td>  0</td><td>33.6</td><td>0.627</td><td>50</td><td>pos</td></tr>\n",
       "\t<tr><th scope=row>2</th><td>1</td><td> 85</td><td>66</td><td>29</td><td>  0</td><td>26.6</td><td>0.351</td><td>31</td><td>neg</td></tr>\n",
       "\t<tr><th scope=row>3</th><td>8</td><td>183</td><td>64</td><td> 0</td><td>  0</td><td>23.3</td><td>0.672</td><td>32</td><td>pos</td></tr>\n",
       "\t<tr><th scope=row>4</th><td>1</td><td> 89</td><td>66</td><td>23</td><td> 94</td><td>28.1</td><td>0.167</td><td>21</td><td>neg</td></tr>\n",
       "\t<tr><th scope=row>5</th><td>0</td><td>137</td><td>40</td><td>35</td><td>168</td><td>43.1</td><td>2.288</td><td>33</td><td>pos</td></tr>\n",
       "\t<tr><th scope=row>6</th><td>5</td><td>116</td><td>74</td><td> 0</td><td>  0</td><td>25.6</td><td>0.201</td><td>30</td><td>neg</td></tr>\n",
       "</tbody>\n",
       "</table>\n"
      ],
      "text/latex": [
       "A data.frame: 6 × 9\n",
       "\\begin{tabular}{r|lllllllll}\n",
       "  & pregnant & glucose & pressure & triceps & insulin & mass & pedigree & age & diabetes\\\\\n",
       "  & <dbl> & <dbl> & <dbl> & <dbl> & <dbl> & <dbl> & <dbl> & <dbl> & <fct>\\\\\n",
       "\\hline\n",
       "\t1 & 6 & 148 & 72 & 35 &   0 & 33.6 & 0.627 & 50 & pos\\\\\n",
       "\t2 & 1 &  85 & 66 & 29 &   0 & 26.6 & 0.351 & 31 & neg\\\\\n",
       "\t3 & 8 & 183 & 64 &  0 &   0 & 23.3 & 0.672 & 32 & pos\\\\\n",
       "\t4 & 1 &  89 & 66 & 23 &  94 & 28.1 & 0.167 & 21 & neg\\\\\n",
       "\t5 & 0 & 137 & 40 & 35 & 168 & 43.1 & 2.288 & 33 & pos\\\\\n",
       "\t6 & 5 & 116 & 74 &  0 &   0 & 25.6 & 0.201 & 30 & neg\\\\\n",
       "\\end{tabular}\n"
      ],
      "text/markdown": [
       "\n",
       "A data.frame: 6 × 9\n",
       "\n",
       "| <!--/--> | pregnant &lt;dbl&gt; | glucose &lt;dbl&gt; | pressure &lt;dbl&gt; | triceps &lt;dbl&gt; | insulin &lt;dbl&gt; | mass &lt;dbl&gt; | pedigree &lt;dbl&gt; | age &lt;dbl&gt; | diabetes &lt;fct&gt; |\n",
       "|---|---|---|---|---|---|---|---|---|---|\n",
       "| 1 | 6 | 148 | 72 | 35 |   0 | 33.6 | 0.627 | 50 | pos |\n",
       "| 2 | 1 |  85 | 66 | 29 |   0 | 26.6 | 0.351 | 31 | neg |\n",
       "| 3 | 8 | 183 | 64 |  0 |   0 | 23.3 | 0.672 | 32 | pos |\n",
       "| 4 | 1 |  89 | 66 | 23 |  94 | 28.1 | 0.167 | 21 | neg |\n",
       "| 5 | 0 | 137 | 40 | 35 | 168 | 43.1 | 2.288 | 33 | pos |\n",
       "| 6 | 5 | 116 | 74 |  0 |   0 | 25.6 | 0.201 | 30 | neg |\n",
       "\n"
      ],
      "text/plain": [
       "  pregnant glucose pressure triceps insulin mass pedigree age diabetes\n",
       "1 6        148     72       35        0     33.6 0.627    50  pos     \n",
       "2 1         85     66       29        0     26.6 0.351    31  neg     \n",
       "3 8        183     64        0        0     23.3 0.672    32  pos     \n",
       "4 1         89     66       23       94     28.1 0.167    21  neg     \n",
       "5 0        137     40       35      168     43.1 2.288    33  pos     \n",
       "6 5        116     74        0        0     25.6 0.201    30  neg     "
      ]
     },
     "metadata": {},
     "output_type": "display_data"
    }
   ],
   "source": [
    "data(PimaIndiansDiabetes)\n",
    "head(PimaIndiansDiabetes)"
   ]
  },
  {
   "cell_type": "code",
   "execution_count": 3,
   "metadata": {},
   "outputs": [
    {
     "name": "stdout",
     "output_type": "stream",
     "text": [
      "'data.frame':\t768 obs. of  9 variables:\n",
      " $ pregnant: num  6 1 8 1 0 5 3 10 2 8 ...\n",
      " $ glucose : num  148 85 183 89 137 116 78 115 197 125 ...\n",
      " $ pressure: num  72 66 64 66 40 74 50 0 70 96 ...\n",
      " $ triceps : num  35 29 0 23 35 0 32 0 45 0 ...\n",
      " $ insulin : num  0 0 0 94 168 0 88 0 543 0 ...\n",
      " $ mass    : num  33.6 26.6 23.3 28.1 43.1 25.6 31 35.3 30.5 0 ...\n",
      " $ pedigree: num  0.627 0.351 0.672 0.167 2.288 ...\n",
      " $ age     : num  50 31 32 21 33 30 26 29 53 54 ...\n",
      " $ diabetes: Factor w/ 2 levels \"neg\",\"pos\": 2 1 2 1 2 1 2 1 2 2 ...\n"
     ]
    }
   ],
   "source": [
    "str(PimaIndiansDiabetes)"
   ]
  },
  {
   "cell_type": "code",
   "execution_count": 4,
   "metadata": {},
   "outputs": [
    {
     "data": {
      "text/plain": [
       "    pregnant         glucose         pressure         triceps     \n",
       " Min.   : 0.000   Min.   :  0.0   Min.   :  0.00   Min.   : 0.00  \n",
       " 1st Qu.: 1.000   1st Qu.: 99.0   1st Qu.: 62.00   1st Qu.: 0.00  \n",
       " Median : 3.000   Median :117.0   Median : 72.00   Median :23.00  \n",
       " Mean   : 3.845   Mean   :120.9   Mean   : 69.11   Mean   :20.54  \n",
       " 3rd Qu.: 6.000   3rd Qu.:140.2   3rd Qu.: 80.00   3rd Qu.:32.00  \n",
       " Max.   :17.000   Max.   :199.0   Max.   :122.00   Max.   :99.00  \n",
       "    insulin           mass          pedigree           age        diabetes \n",
       " Min.   :  0.0   Min.   : 0.00   Min.   :0.0780   Min.   :21.00   neg:500  \n",
       " 1st Qu.:  0.0   1st Qu.:27.30   1st Qu.:0.2437   1st Qu.:24.00   pos:268  \n",
       " Median : 30.5   Median :32.00   Median :0.3725   Median :29.00            \n",
       " Mean   : 79.8   Mean   :31.99   Mean   :0.4719   Mean   :33.24            \n",
       " 3rd Qu.:127.2   3rd Qu.:36.60   3rd Qu.:0.6262   3rd Qu.:41.00            \n",
       " Max.   :846.0   Max.   :67.10   Max.   :2.4200   Max.   :81.00            "
      ]
     },
     "metadata": {},
     "output_type": "display_data"
    }
   ],
   "source": [
    "summary(PimaIndiansDiabetes)"
   ]
  },
  {
   "cell_type": "code",
   "execution_count": 5,
   "metadata": {},
   "outputs": [
    {
     "data": {
      "text/html": [
       "<style>\n",
       ".list-inline {list-style: none; margin:0; padding: 0}\n",
       ".list-inline>li {display: inline-block}\n",
       ".list-inline>li:not(:last-child)::after {content: \"\\00b7\"; padding: 0 .5ex}\n",
       "</style>\n",
       "<ol class=list-inline><li>768</li><li>9</li></ol>\n"
      ],
      "text/latex": [
       "\\begin{enumerate*}\n",
       "\\item 768\n",
       "\\item 9\n",
       "\\end{enumerate*}\n"
      ],
      "text/markdown": [
       "1. 768\n",
       "2. 9\n",
       "\n",
       "\n"
      ],
      "text/plain": [
       "[1] 768   9"
      ]
     },
     "metadata": {},
     "output_type": "display_data"
    }
   ],
   "source": [
    "dim(PimaIndiansDiabetes)"
   ]
  },
  {
   "cell_type": "code",
   "execution_count": 6,
   "metadata": {},
   "outputs": [
    {
     "data": {
      "text/html": [
       "<table>\n",
       "<caption>A matrix: 2 × 2 of type dbl</caption>\n",
       "<thead>\n",
       "\t<tr><th></th><th scope=col>freq</th><th scope=col>percentage</th></tr>\n",
       "</thead>\n",
       "<tbody>\n",
       "\t<tr><th scope=row>neg</th><td>500</td><td>65.10417</td></tr>\n",
       "\t<tr><th scope=row>pos</th><td>268</td><td>34.89583</td></tr>\n",
       "</tbody>\n",
       "</table>\n"
      ],
      "text/latex": [
       "A matrix: 2 × 2 of type dbl\n",
       "\\begin{tabular}{r|ll}\n",
       "  & freq & percentage\\\\\n",
       "\\hline\n",
       "\tneg & 500 & 65.10417\\\\\n",
       "\tpos & 268 & 34.89583\\\\\n",
       "\\end{tabular}\n"
      ],
      "text/markdown": [
       "\n",
       "A matrix: 2 × 2 of type dbl\n",
       "\n",
       "| <!--/--> | freq | percentage |\n",
       "|---|---|---|\n",
       "| neg | 500 | 65.10417 |\n",
       "| pos | 268 | 34.89583 |\n",
       "\n"
      ],
      "text/plain": [
       "    freq percentage\n",
       "neg 500  65.10417  \n",
       "pos 268  34.89583  "
      ]
     },
     "metadata": {},
     "output_type": "display_data"
    }
   ],
   "source": [
    "# Distribution of class variable\n",
    "y = PimaIndiansDiabetes$diabetes\n",
    "cbind(freq = table(y), percentage = prop.table(table(y)) * 100)"
   ]
  },
  {
   "cell_type": "code",
   "execution_count": 7,
   "metadata": {},
   "outputs": [
    {
     "data": {
      "text/html": [
       "<style>\n",
       ".dl-inline {width: auto; margin:0; padding: 0}\n",
       ".dl-inline>dt, .dl-inline>dd {float: none; width: auto; display: inline-block}\n",
       ".dl-inline>dt::after {content: \":\\0020\"; padding-right: .5ex}\n",
       ".dl-inline>dt:not(:first-of-type) {padding-left: .5ex}\n",
       "</style><dl class=dl-inline><dt>pregnant</dt><dd>11.3540563206215</dd><dt>glucose</dt><dd>1022.24831425196</dd><dt>pressure</dt><dd>374.647271227184</dd><dt>triceps</dt><dd>254.473245328118</dd><dt>insulin</dt><dd>13281.1800779552</dd><dt>mass</dt><dd>62.1599839573827</dd><dt>pedigree</dt><dd>0.109778637873139</dd><dt>age</dt><dd>138.303045890374</dd></dl>\n"
      ],
      "text/latex": [
       "\\begin{description*}\n",
       "\\item[pregnant] 11.3540563206215\n",
       "\\item[glucose] 1022.24831425196\n",
       "\\item[pressure] 374.647271227184\n",
       "\\item[triceps] 254.473245328118\n",
       "\\item[insulin] 13281.1800779552\n",
       "\\item[mass] 62.1599839573827\n",
       "\\item[pedigree] 0.109778637873139\n",
       "\\item[age] 138.303045890374\n",
       "\\end{description*}\n"
      ],
      "text/markdown": [
       "pregnant\n",
       ":   11.3540563206215glucose\n",
       ":   1022.24831425196pressure\n",
       ":   374.647271227184triceps\n",
       ":   254.473245328118insulin\n",
       ":   13281.1800779552mass\n",
       ":   62.1599839573827pedigree\n",
       ":   0.109778637873139age\n",
       ":   138.303045890374\n",
       "\n"
      ],
      "text/plain": [
       "    pregnant      glucose     pressure      triceps      insulin         mass \n",
       "1.135406e+01 1.022248e+03 3.746473e+02 2.544732e+02 1.328118e+04 6.215998e+01 \n",
       "    pedigree          age \n",
       "1.097786e-01 1.383030e+02 "
      ]
     },
     "metadata": {},
     "output_type": "display_data"
    }
   ],
   "source": [
    "# Calculate variance for all attributes\n",
    "sapply(PimaIndiansDiabetes[, 1:8], var)"
   ]
  },
  {
   "cell_type": "code",
   "execution_count": 8,
   "metadata": {},
   "outputs": [
    {
     "data": {
      "text/html": [
       "<style>\n",
       ".dl-inline {width: auto; margin:0; padding: 0}\n",
       ".dl-inline>dt, .dl-inline>dd {float: none; width: auto; display: inline-block}\n",
       ".dl-inline>dt::after {content: \":\\0020\"; padding-right: .5ex}\n",
       ".dl-inline>dt:not(:first-of-type) {padding-left: .5ex}\n",
       "</style><dl class=dl-inline><dt>pregnant</dt><dd>3.36957806269887</dd><dt>glucose</dt><dd>31.9726181951362</dd><dt>pressure</dt><dd>19.3558071706448</dd><dt>triceps</dt><dd>15.9522175677276</dd><dt>insulin</dt><dd>115.244002351338</dd><dt>mass</dt><dd>7.88416032037545</dd><dt>pedigree</dt><dd>0.331328595012775</dd><dt>age</dt><dd>11.7602315406787</dd></dl>\n"
      ],
      "text/latex": [
       "\\begin{description*}\n",
       "\\item[pregnant] 3.36957806269887\n",
       "\\item[glucose] 31.9726181951362\n",
       "\\item[pressure] 19.3558071706448\n",
       "\\item[triceps] 15.9522175677276\n",
       "\\item[insulin] 115.244002351338\n",
       "\\item[mass] 7.88416032037545\n",
       "\\item[pedigree] 0.331328595012775\n",
       "\\item[age] 11.7602315406787\n",
       "\\end{description*}\n"
      ],
      "text/markdown": [
       "pregnant\n",
       ":   3.36957806269887glucose\n",
       ":   31.9726181951362pressure\n",
       ":   19.3558071706448triceps\n",
       ":   15.9522175677276insulin\n",
       ":   115.244002351338mass\n",
       ":   7.88416032037545pedigree\n",
       ":   0.331328595012775age\n",
       ":   11.7602315406787\n",
       "\n"
      ],
      "text/plain": [
       "   pregnant     glucose    pressure     triceps     insulin        mass \n",
       "  3.3695781  31.9726182  19.3558072  15.9522176 115.2440024   7.8841603 \n",
       "   pedigree         age \n",
       "  0.3313286  11.7602315 "
      ]
     },
     "metadata": {},
     "output_type": "display_data"
    }
   ],
   "source": [
    "# Calculate standard deviation for all attributes\n",
    "sapply(PimaIndiansDiabetes[, 1:8], sd)"
   ]
  },
  {
   "cell_type": "code",
   "execution_count": 9,
   "metadata": {},
   "outputs": [
    {
     "data": {
      "text/html": [
       "<style>\n",
       ".dl-inline {width: auto; margin:0; padding: 0}\n",
       ".dl-inline>dt, .dl-inline>dd {float: none; width: auto; display: inline-block}\n",
       ".dl-inline>dt::after {content: \":\\0020\"; padding-right: .5ex}\n",
       ".dl-inline>dt:not(:first-of-type) {padding-left: .5ex}\n",
       "</style><dl class=dl-inline><dt>pregnant</dt><dd>0.898154872604808</dd><dt>glucose</dt><dd>0.173075366346189</dd><dt>pressure</dt><dd>-1.83641264105356</dd><dt>triceps</dt><dd>0.10894563103235</dd><dt>insulin</dt><dd>2.2633825833595</dd><dt>mass</dt><dd>-0.427307333732463</dd><dt>pedigree</dt><dd>1.91241792381955</dd><dt>age</dt><dd>1.12518804431459</dd></dl>\n"
      ],
      "text/latex": [
       "\\begin{description*}\n",
       "\\item[pregnant] 0.898154872604808\n",
       "\\item[glucose] 0.173075366346189\n",
       "\\item[pressure] -1.83641264105356\n",
       "\\item[triceps] 0.10894563103235\n",
       "\\item[insulin] 2.2633825833595\n",
       "\\item[mass] -0.427307333732463\n",
       "\\item[pedigree] 1.91241792381955\n",
       "\\item[age] 1.12518804431459\n",
       "\\end{description*}\n"
      ],
      "text/markdown": [
       "pregnant\n",
       ":   0.898154872604808glucose\n",
       ":   0.173075366346189pressure\n",
       ":   -1.83641264105356triceps\n",
       ":   0.10894563103235insulin\n",
       ":   2.2633825833595mass\n",
       ":   -0.427307333732463pedigree\n",
       ":   1.91241792381955age\n",
       ":   1.12518804431459\n",
       "\n"
      ],
      "text/plain": [
       "  pregnant    glucose   pressure    triceps    insulin       mass   pedigree \n",
       " 0.8981549  0.1730754 -1.8364126  0.1089456  2.2633826 -0.4273073  1.9124179 \n",
       "       age \n",
       " 1.1251880 "
      ]
     },
     "metadata": {},
     "output_type": "display_data"
    }
   ],
   "source": [
    "# Calculate skewness for all attributes\n",
    "sapply(PimaIndiansDiabetes[, 1:8], skewness)"
   ]
  },
  {
   "cell_type": "code",
   "execution_count": 10,
   "metadata": {},
   "outputs": [
    {
     "data": {
      "text/html": [
       "<style>\n",
       ".dl-inline {width: auto; margin:0; padding: 0}\n",
       ".dl-inline>dt, .dl-inline>dd {float: none; width: auto; display: inline-block}\n",
       ".dl-inline>dt::after {content: \":\\0020\"; padding-right: .5ex}\n",
       ".dl-inline>dt:not(:first-of-type) {padding-left: .5ex}\n",
       "</style><dl class=dl-inline><dt>pregnant</dt><dd>0.142183957122032</dd><dt>glucose</dt><dd>0.619369451373168</dd><dt>pressure</dt><dd>5.11750995409889</dd><dt>triceps</dt><dd>-0.530936920676741</dd><dt>insulin</dt><dd>7.13313491538188</dd><dt>mass</dt><dd>3.2449626779631</dd><dt>pedigree</dt><dd>5.52853885711983</dd><dt>age</dt><dd>0.621726907802014</dd></dl>\n"
      ],
      "text/latex": [
       "\\begin{description*}\n",
       "\\item[pregnant] 0.142183957122032\n",
       "\\item[glucose] 0.619369451373168\n",
       "\\item[pressure] 5.11750995409889\n",
       "\\item[triceps] -0.530936920676741\n",
       "\\item[insulin] 7.13313491538188\n",
       "\\item[mass] 3.2449626779631\n",
       "\\item[pedigree] 5.52853885711983\n",
       "\\item[age] 0.621726907802014\n",
       "\\end{description*}\n"
      ],
      "text/markdown": [
       "pregnant\n",
       ":   0.142183957122032glucose\n",
       ":   0.619369451373168pressure\n",
       ":   5.11750995409889triceps\n",
       ":   -0.530936920676741insulin\n",
       ":   7.13313491538188mass\n",
       ":   3.2449626779631pedigree\n",
       ":   5.52853885711983age\n",
       ":   0.621726907802014\n",
       "\n"
      ],
      "text/plain": [
       "  pregnant    glucose   pressure    triceps    insulin       mass   pedigree \n",
       " 0.1421840  0.6193695  5.1175100 -0.5309369  7.1331349  3.2449627  5.5285389 \n",
       "       age \n",
       " 0.6217269 "
      ]
     },
     "metadata": {},
     "output_type": "display_data"
    }
   ],
   "source": [
    "# Calculate Kurtosis for all attributes\n",
    "sapply(PimaIndiansDiabetes[, 1:8], kurtosis)"
   ]
  },
  {
   "cell_type": "code",
   "execution_count": 11,
   "metadata": {},
   "outputs": [
    {
     "data": {
      "text/html": [
       "<table>\n",
       "<caption>A matrix: 8 × 8 of type dbl</caption>\n",
       "<thead>\n",
       "\t<tr><th></th><th scope=col>pregnant</th><th scope=col>glucose</th><th scope=col>pressure</th><th scope=col>triceps</th><th scope=col>insulin</th><th scope=col>mass</th><th scope=col>pedigree</th><th scope=col>age</th></tr>\n",
       "</thead>\n",
       "<tbody>\n",
       "\t<tr><th scope=row>pregnant</th><td> 1.00000000</td><td>0.12945867</td><td>0.14128198</td><td>-0.08167177</td><td>-0.07353461</td><td>0.01768309</td><td>-0.03352267</td><td> 0.54434123</td></tr>\n",
       "\t<tr><th scope=row>glucose</th><td> 0.12945867</td><td>1.00000000</td><td>0.15258959</td><td> 0.05732789</td><td> 0.33135711</td><td>0.22107107</td><td> 0.13733730</td><td> 0.26351432</td></tr>\n",
       "\t<tr><th scope=row>pressure</th><td> 0.14128198</td><td>0.15258959</td><td>1.00000000</td><td> 0.20737054</td><td> 0.08893338</td><td>0.28180529</td><td> 0.04126495</td><td> 0.23952795</td></tr>\n",
       "\t<tr><th scope=row>triceps</th><td>-0.08167177</td><td>0.05732789</td><td>0.20737054</td><td> 1.00000000</td><td> 0.43678257</td><td>0.39257320</td><td> 0.18392757</td><td>-0.11397026</td></tr>\n",
       "\t<tr><th scope=row>insulin</th><td>-0.07353461</td><td>0.33135711</td><td>0.08893338</td><td> 0.43678257</td><td> 1.00000000</td><td>0.19785906</td><td> 0.18507093</td><td>-0.04216295</td></tr>\n",
       "\t<tr><th scope=row>mass</th><td> 0.01768309</td><td>0.22107107</td><td>0.28180529</td><td> 0.39257320</td><td> 0.19785906</td><td>1.00000000</td><td> 0.14064695</td><td> 0.03624187</td></tr>\n",
       "\t<tr><th scope=row>pedigree</th><td>-0.03352267</td><td>0.13733730</td><td>0.04126495</td><td> 0.18392757</td><td> 0.18507093</td><td>0.14064695</td><td> 1.00000000</td><td> 0.03356131</td></tr>\n",
       "\t<tr><th scope=row>age</th><td> 0.54434123</td><td>0.26351432</td><td>0.23952795</td><td>-0.11397026</td><td>-0.04216295</td><td>0.03624187</td><td> 0.03356131</td><td> 1.00000000</td></tr>\n",
       "</tbody>\n",
       "</table>\n"
      ],
      "text/latex": [
       "A matrix: 8 × 8 of type dbl\n",
       "\\begin{tabular}{r|llllllll}\n",
       "  & pregnant & glucose & pressure & triceps & insulin & mass & pedigree & age\\\\\n",
       "\\hline\n",
       "\tpregnant &  1.00000000 & 0.12945867 & 0.14128198 & -0.08167177 & -0.07353461 & 0.01768309 & -0.03352267 &  0.54434123\\\\\n",
       "\tglucose &  0.12945867 & 1.00000000 & 0.15258959 &  0.05732789 &  0.33135711 & 0.22107107 &  0.13733730 &  0.26351432\\\\\n",
       "\tpressure &  0.14128198 & 0.15258959 & 1.00000000 &  0.20737054 &  0.08893338 & 0.28180529 &  0.04126495 &  0.23952795\\\\\n",
       "\ttriceps & -0.08167177 & 0.05732789 & 0.20737054 &  1.00000000 &  0.43678257 & 0.39257320 &  0.18392757 & -0.11397026\\\\\n",
       "\tinsulin & -0.07353461 & 0.33135711 & 0.08893338 &  0.43678257 &  1.00000000 & 0.19785906 &  0.18507093 & -0.04216295\\\\\n",
       "\tmass &  0.01768309 & 0.22107107 & 0.28180529 &  0.39257320 &  0.19785906 & 1.00000000 &  0.14064695 &  0.03624187\\\\\n",
       "\tpedigree & -0.03352267 & 0.13733730 & 0.04126495 &  0.18392757 &  0.18507093 & 0.14064695 &  1.00000000 &  0.03356131\\\\\n",
       "\tage &  0.54434123 & 0.26351432 & 0.23952795 & -0.11397026 & -0.04216295 & 0.03624187 &  0.03356131 &  1.00000000\\\\\n",
       "\\end{tabular}\n"
      ],
      "text/markdown": [
       "\n",
       "A matrix: 8 × 8 of type dbl\n",
       "\n",
       "| <!--/--> | pregnant | glucose | pressure | triceps | insulin | mass | pedigree | age |\n",
       "|---|---|---|---|---|---|---|---|---|\n",
       "| pregnant |  1.00000000 | 0.12945867 | 0.14128198 | -0.08167177 | -0.07353461 | 0.01768309 | -0.03352267 |  0.54434123 |\n",
       "| glucose |  0.12945867 | 1.00000000 | 0.15258959 |  0.05732789 |  0.33135711 | 0.22107107 |  0.13733730 |  0.26351432 |\n",
       "| pressure |  0.14128198 | 0.15258959 | 1.00000000 |  0.20737054 |  0.08893338 | 0.28180529 |  0.04126495 |  0.23952795 |\n",
       "| triceps | -0.08167177 | 0.05732789 | 0.20737054 |  1.00000000 |  0.43678257 | 0.39257320 |  0.18392757 | -0.11397026 |\n",
       "| insulin | -0.07353461 | 0.33135711 | 0.08893338 |  0.43678257 |  1.00000000 | 0.19785906 |  0.18507093 | -0.04216295 |\n",
       "| mass |  0.01768309 | 0.22107107 | 0.28180529 |  0.39257320 |  0.19785906 | 1.00000000 |  0.14064695 |  0.03624187 |\n",
       "| pedigree | -0.03352267 | 0.13733730 | 0.04126495 |  0.18392757 |  0.18507093 | 0.14064695 |  1.00000000 |  0.03356131 |\n",
       "| age |  0.54434123 | 0.26351432 | 0.23952795 | -0.11397026 | -0.04216295 | 0.03624187 |  0.03356131 |  1.00000000 |\n",
       "\n"
      ],
      "text/plain": [
       "         pregnant    glucose    pressure   triceps     insulin     mass      \n",
       "pregnant  1.00000000 0.12945867 0.14128198 -0.08167177 -0.07353461 0.01768309\n",
       "glucose   0.12945867 1.00000000 0.15258959  0.05732789  0.33135711 0.22107107\n",
       "pressure  0.14128198 0.15258959 1.00000000  0.20737054  0.08893338 0.28180529\n",
       "triceps  -0.08167177 0.05732789 0.20737054  1.00000000  0.43678257 0.39257320\n",
       "insulin  -0.07353461 0.33135711 0.08893338  0.43678257  1.00000000 0.19785906\n",
       "mass      0.01768309 0.22107107 0.28180529  0.39257320  0.19785906 1.00000000\n",
       "pedigree -0.03352267 0.13733730 0.04126495  0.18392757  0.18507093 0.14064695\n",
       "age       0.54434123 0.26351432 0.23952795 -0.11397026 -0.04216295 0.03624187\n",
       "         pedigree    age        \n",
       "pregnant -0.03352267  0.54434123\n",
       "glucose   0.13733730  0.26351432\n",
       "pressure  0.04126495  0.23952795\n",
       "triceps   0.18392757 -0.11397026\n",
       "insulin   0.18507093 -0.04216295\n",
       "mass      0.14064695  0.03624187\n",
       "pedigree  1.00000000  0.03356131\n",
       "age       0.03356131  1.00000000"
      ]
     },
     "metadata": {},
     "output_type": "display_data"
    }
   ],
   "source": [
    "# Calculate Correlation for all attributes\n",
    "corr = cor(PimaIndiansDiabetes[, 1:8])\n",
    "corr"
   ]
  },
  {
   "cell_type": "code",
   "execution_count": 12,
   "metadata": {},
   "outputs": [
    {
     "data": {
      "image/png": "[encoded data removed]",
      "text/plain": [
       "Plot with title \"\""
      ]
     },
     "metadata": {
      "image/png": {
       "height": 420,
       "width": 420
      }
     },
     "output_type": "display_data"
    }
   ],
   "source": [
    "corrplot(corr)"
   ]
  },
  {
   "cell_type": "code",
   "execution_count": 13,
   "metadata": {},
   "outputs": [
    {
     "data": {
      "image/png": "[encoded data removed]",
      "text/plain": [
       "plot without title"
      ]
     },
     "metadata": {
      "image/png": {
       "height": 420,
       "width": 420
      }
     },
     "output_type": "display_data"
    }
   ],
   "source": [
    "heatmap(x = corr)"
   ]
  },
  {
   "cell_type": "code",
   "execution_count": 14,
   "metadata": {},
   "outputs": [
    {
     "data": {
      "text/html": [
       "<style>\n",
       ".dl-inline {width: auto; margin:0; padding: 0}\n",
       ".dl-inline>dt, .dl-inline>dd {float: none; width: auto; display: inline-block}\n",
       ".dl-inline>dt::after {content: \":\\0020\"; padding-right: .5ex}\n",
       ".dl-inline>dt:not(:first-of-type) {padding-left: .5ex}\n",
       "</style><dl class=dl-inline><dt>5%</dt><dd>21</dd><dt>15%</dt><dd>22</dd><dt>25%</dt><dd>24</dd><dt>75%</dt><dd>41</dd><dt>90%</dt><dd>51</dd></dl>\n"
      ],
      "text/latex": [
       "\\begin{description*}\n",
       "\\item[5\\textbackslash{}\\%] 21\n",
       "\\item[15\\textbackslash{}\\%] 22\n",
       "\\item[25\\textbackslash{}\\%] 24\n",
       "\\item[75\\textbackslash{}\\%] 41\n",
       "\\item[90\\textbackslash{}\\%] 51\n",
       "\\end{description*}\n"
      ],
      "text/markdown": [
       "5%\n",
       ":   2115%\n",
       ":   2225%\n",
       ":   2475%\n",
       ":   4190%\n",
       ":   51\n",
       "\n"
      ],
      "text/plain": [
       " 5% 15% 25% 75% 90% \n",
       " 21  22  24  41  51 "
      ]
     },
     "metadata": {},
     "output_type": "display_data"
    }
   ],
   "source": [
    "ages = quantile(PimaIndiansDiabetes$age, c(0.05, 0.15, 0.25, 0.75, 0.9))\n",
    "ages"
   ]
  },
  {
   "cell_type": "code",
   "execution_count": 15,
   "metadata": {},
   "outputs": [
    {
     "data": {
      "image/png": "[encoded data removed]",
      "text/plain": [
       "plot without title"
      ]
     },
     "metadata": {
      "image/png": {
       "height": 420,
       "width": 420
      }
     },
     "output_type": "display_data"
    }
   ],
   "source": [
    "plot(c(0.05, 0.15, 0.25, 0.75, 0.9), ages, type = \"o\")"
   ]
  }
 ],
 "metadata": {
  "kernelspec": {
   "display_name": "R",
   "language": "R",
   "name": "ir"
  },
  "language_info": {
   "codemirror_mode": "r",
   "file_extension": ".r",
   "mimetype": "text/x-r-source",
   "name": "R",
   "pygments_lexer": "r",
   "version": "4.0.3"
  }
 },
 "nbformat": 4,
 "nbformat_minor": 4
}
