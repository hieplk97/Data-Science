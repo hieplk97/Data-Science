{
 "cells": [
  {
   "cell_type": "code",
   "execution_count": 1,
   "metadata": {},
   "outputs": [],
   "source": [
    "library(\"xlsx\")"
   ]
  },
  {
   "cell_type": "code",
   "execution_count": 2,
   "metadata": {},
   "outputs": [],
   "source": [
    "data_1932_skiing = read.xlsx('medals_new.xlsx', sheetName = \"1932_skiing\")"
   ]
  },
  {
   "cell_type": "code",
   "execution_count": 3,
   "metadata": {},
   "outputs": [
    {
     "name": "stdout",
     "output_type": "stream",
     "text": [
      "[1] \"Content of file:\"\n"
     ]
    },
    {
     "data": {
      "text/html": [
       "<table>\n",
       "<caption>A data.frame: 6 × 9</caption>\n",
       "<thead>\n",
       "\t<tr><th></th><th scope=col>NA.</th><th scope=col>Year</th><th scope=col>City</th><th scope=col>Sport</th><th scope=col>Discipline</th><th scope=col>NOC</th><th scope=col>Event</th><th scope=col>Event.gender</th><th scope=col>Medal</th></tr>\n",
       "\t<tr><th></th><th scope=col>&lt;chr&gt;</th><th scope=col>&lt;chr&gt;</th><th scope=col>&lt;chr&gt;</th><th scope=col>&lt;chr&gt;</th><th scope=col>&lt;chr&gt;</th><th scope=col>&lt;chr&gt;</th><th scope=col>&lt;chr&gt;</th><th scope=col>&lt;chr&gt;</th><th scope=col>&lt;chr&gt;</th></tr>\n",
       "</thead>\n",
       "<tbody>\n",
       "\t<tr><th scope=row>1</th><td>100</td><td>1932</td><td>Lake Placid</td><td>Skiing</td><td>Cross Country S</td><td>FIN</td><td>18km      </td><td>M</td><td>Bronze</td></tr>\n",
       "\t<tr><th scope=row>2</th><td>101</td><td>1932</td><td>Lake Placid</td><td>Skiing</td><td>Cross Country S</td><td>FIN</td><td>50km      </td><td>M</td><td>Gold  </td></tr>\n",
       "\t<tr><th scope=row>3</th><td>102</td><td>1932</td><td>Lake Placid</td><td>Skiing</td><td>Cross Country S</td><td>FIN</td><td>50km      </td><td>M</td><td>Silver</td></tr>\n",
       "\t<tr><th scope=row>4</th><td>110</td><td>1932</td><td>Lake Placid</td><td>Skiing</td><td>Cross Country S</td><td>NOR</td><td>50km      </td><td>M</td><td>Bronze</td></tr>\n",
       "\t<tr><th scope=row>5</th><td>111</td><td>1932</td><td>Lake Placid</td><td>Skiing</td><td>Nordic Combined</td><td>NOR</td><td>individual</td><td>M</td><td>Bronze</td></tr>\n",
       "\t<tr><th scope=row>6</th><td>112</td><td>1932</td><td>Lake Placid</td><td>Skiing</td><td>Nordic Combined</td><td>NOR</td><td>individual</td><td>M</td><td>Gold  </td></tr>\n",
       "</tbody>\n",
       "</table>\n"
      ],
      "text/latex": [
       "A data.frame: 6 × 9\n",
       "\\begin{tabular}{r|lllllllll}\n",
       "  & NA. & Year & City & Sport & Discipline & NOC & Event & Event.gender & Medal\\\\\n",
       "  & <chr> & <chr> & <chr> & <chr> & <chr> & <chr> & <chr> & <chr> & <chr>\\\\\n",
       "\\hline\n",
       "\t1 & 100 & 1932 & Lake Placid & Skiing & Cross Country S & FIN & 18km       & M & Bronze\\\\\n",
       "\t2 & 101 & 1932 & Lake Placid & Skiing & Cross Country S & FIN & 50km       & M & Gold  \\\\\n",
       "\t3 & 102 & 1932 & Lake Placid & Skiing & Cross Country S & FIN & 50km       & M & Silver\\\\\n",
       "\t4 & 110 & 1932 & Lake Placid & Skiing & Cross Country S & NOR & 50km       & M & Bronze\\\\\n",
       "\t5 & 111 & 1932 & Lake Placid & Skiing & Nordic Combined & NOR & individual & M & Bronze\\\\\n",
       "\t6 & 112 & 1932 & Lake Placid & Skiing & Nordic Combined & NOR & individual & M & Gold  \\\\\n",
       "\\end{tabular}\n"
      ],
      "text/markdown": [
       "\n",
       "A data.frame: 6 × 9\n",
       "\n",
       "| <!--/--> | NA. &lt;chr&gt; | Year &lt;chr&gt; | City &lt;chr&gt; | Sport &lt;chr&gt; | Discipline &lt;chr&gt; | NOC &lt;chr&gt; | Event &lt;chr&gt; | Event.gender &lt;chr&gt; | Medal &lt;chr&gt; |\n",
       "|---|---|---|---|---|---|---|---|---|---|\n",
       "| 1 | 100 | 1932 | Lake Placid | Skiing | Cross Country S | FIN | 18km       | M | Bronze |\n",
       "| 2 | 101 | 1932 | Lake Placid | Skiing | Cross Country S | FIN | 50km       | M | Gold   |\n",
       "| 3 | 102 | 1932 | Lake Placid | Skiing | Cross Country S | FIN | 50km       | M | Silver |\n",
       "| 4 | 110 | 1932 | Lake Placid | Skiing | Cross Country S | NOR | 50km       | M | Bronze |\n",
       "| 5 | 111 | 1932 | Lake Placid | Skiing | Nordic Combined | NOR | individual | M | Bronze |\n",
       "| 6 | 112 | 1932 | Lake Placid | Skiing | Nordic Combined | NOR | individual | M | Gold   |\n",
       "\n"
      ],
      "text/plain": [
       "  NA. Year City        Sport  Discipline      NOC Event      Event.gender\n",
       "1 100 1932 Lake Placid Skiing Cross Country S FIN 18km       M           \n",
       "2 101 1932 Lake Placid Skiing Cross Country S FIN 50km       M           \n",
       "3 102 1932 Lake Placid Skiing Cross Country S FIN 50km       M           \n",
       "4 110 1932 Lake Placid Skiing Cross Country S NOR 50km       M           \n",
       "5 111 1932 Lake Placid Skiing Nordic Combined NOR individual M           \n",
       "6 112 1932 Lake Placid Skiing Nordic Combined NOR individual M           \n",
       "  Medal \n",
       "1 Bronze\n",
       "2 Gold  \n",
       "3 Silver\n",
       "4 Bronze\n",
       "5 Bronze\n",
       "6 Gold  "
      ]
     },
     "metadata": {},
     "output_type": "display_data"
    }
   ],
   "source": [
    "print(\"Content of file:\")\n",
    "head(data_1932_skiing)"
   ]
  },
  {
   "cell_type": "code",
   "execution_count": 4,
   "metadata": {},
   "outputs": [
    {
     "name": "stdout",
     "output_type": "stream",
     "text": [
      "[1] \"After drop NA.\"\n"
     ]
    },
    {
     "data": {
      "text/html": [
       "<table>\n",
       "<caption>A data.frame: 6 × 8</caption>\n",
       "<thead>\n",
       "\t<tr><th></th><th scope=col>Year</th><th scope=col>City</th><th scope=col>Sport</th><th scope=col>Discipline</th><th scope=col>NOC</th><th scope=col>Event</th><th scope=col>Event.gender</th><th scope=col>Medal</th></tr>\n",
       "\t<tr><th></th><th scope=col>&lt;chr&gt;</th><th scope=col>&lt;chr&gt;</th><th scope=col>&lt;chr&gt;</th><th scope=col>&lt;chr&gt;</th><th scope=col>&lt;chr&gt;</th><th scope=col>&lt;chr&gt;</th><th scope=col>&lt;chr&gt;</th><th scope=col>&lt;chr&gt;</th></tr>\n",
       "</thead>\n",
       "<tbody>\n",
       "\t<tr><th scope=row>1</th><td>1932</td><td>Lake Placid</td><td>Skiing</td><td>Cross Country S</td><td>FIN</td><td>18km      </td><td>M</td><td>Bronze</td></tr>\n",
       "\t<tr><th scope=row>2</th><td>1932</td><td>Lake Placid</td><td>Skiing</td><td>Cross Country S</td><td>FIN</td><td>50km      </td><td>M</td><td>Gold  </td></tr>\n",
       "\t<tr><th scope=row>3</th><td>1932</td><td>Lake Placid</td><td>Skiing</td><td>Cross Country S</td><td>FIN</td><td>50km      </td><td>M</td><td>Silver</td></tr>\n",
       "\t<tr><th scope=row>4</th><td>1932</td><td>Lake Placid</td><td>Skiing</td><td>Cross Country S</td><td>NOR</td><td>50km      </td><td>M</td><td>Bronze</td></tr>\n",
       "\t<tr><th scope=row>5</th><td>1932</td><td>Lake Placid</td><td>Skiing</td><td>Nordic Combined</td><td>NOR</td><td>individual</td><td>M</td><td>Bronze</td></tr>\n",
       "\t<tr><th scope=row>6</th><td>1932</td><td>Lake Placid</td><td>Skiing</td><td>Nordic Combined</td><td>NOR</td><td>individual</td><td>M</td><td>Gold  </td></tr>\n",
       "</tbody>\n",
       "</table>\n"
      ],
      "text/latex": [
       "A data.frame: 6 × 8\n",
       "\\begin{tabular}{r|llllllll}\n",
       "  & Year & City & Sport & Discipline & NOC & Event & Event.gender & Medal\\\\\n",
       "  & <chr> & <chr> & <chr> & <chr> & <chr> & <chr> & <chr> & <chr>\\\\\n",
       "\\hline\n",
       "\t1 & 1932 & Lake Placid & Skiing & Cross Country S & FIN & 18km       & M & Bronze\\\\\n",
       "\t2 & 1932 & Lake Placid & Skiing & Cross Country S & FIN & 50km       & M & Gold  \\\\\n",
       "\t3 & 1932 & Lake Placid & Skiing & Cross Country S & FIN & 50km       & M & Silver\\\\\n",
       "\t4 & 1932 & Lake Placid & Skiing & Cross Country S & NOR & 50km       & M & Bronze\\\\\n",
       "\t5 & 1932 & Lake Placid & Skiing & Nordic Combined & NOR & individual & M & Bronze\\\\\n",
       "\t6 & 1932 & Lake Placid & Skiing & Nordic Combined & NOR & individual & M & Gold  \\\\\n",
       "\\end{tabular}\n"
      ],
      "text/markdown": [
       "\n",
       "A data.frame: 6 × 8\n",
       "\n",
       "| <!--/--> | Year &lt;chr&gt; | City &lt;chr&gt; | Sport &lt;chr&gt; | Discipline &lt;chr&gt; | NOC &lt;chr&gt; | Event &lt;chr&gt; | Event.gender &lt;chr&gt; | Medal &lt;chr&gt; |\n",
       "|---|---|---|---|---|---|---|---|---|\n",
       "| 1 | 1932 | Lake Placid | Skiing | Cross Country S | FIN | 18km       | M | Bronze |\n",
       "| 2 | 1932 | Lake Placid | Skiing | Cross Country S | FIN | 50km       | M | Gold   |\n",
       "| 3 | 1932 | Lake Placid | Skiing | Cross Country S | FIN | 50km       | M | Silver |\n",
       "| 4 | 1932 | Lake Placid | Skiing | Cross Country S | NOR | 50km       | M | Bronze |\n",
       "| 5 | 1932 | Lake Placid | Skiing | Nordic Combined | NOR | individual | M | Bronze |\n",
       "| 6 | 1932 | Lake Placid | Skiing | Nordic Combined | NOR | individual | M | Gold   |\n",
       "\n"
      ],
      "text/plain": [
       "  Year City        Sport  Discipline      NOC Event      Event.gender Medal \n",
       "1 1932 Lake Placid Skiing Cross Country S FIN 18km       M            Bronze\n",
       "2 1932 Lake Placid Skiing Cross Country S FIN 50km       M            Gold  \n",
       "3 1932 Lake Placid Skiing Cross Country S FIN 50km       M            Silver\n",
       "4 1932 Lake Placid Skiing Cross Country S NOR 50km       M            Bronze\n",
       "5 1932 Lake Placid Skiing Nordic Combined NOR individual M            Bronze\n",
       "6 1932 Lake Placid Skiing Nordic Combined NOR individual M            Gold  "
      ]
     },
     "metadata": {},
     "output_type": "display_data"
    }
   ],
   "source": [
    "data_1932_skiing$NA. = NULL\n",
    "print(\"After drop NA.\")\n",
    "head(data_1932_skiing)"
   ]
  },
  {
   "cell_type": "code",
   "execution_count": 6,
   "metadata": {},
   "outputs": [
    {
     "name": "stdout",
     "output_type": "stream",
     "text": [
      "[1] \"Number of Golden Medals: 4\"\n",
      "[1] \"Details:\"\n"
     ]
    },
    {
     "data": {
      "text/html": [
       "<table>\n",
       "<caption>A data.frame: 4 × 8</caption>\n",
       "<thead>\n",
       "\t<tr><th></th><th scope=col>Year</th><th scope=col>City</th><th scope=col>Sport</th><th scope=col>Discipline</th><th scope=col>NOC</th><th scope=col>Event</th><th scope=col>Event.gender</th><th scope=col>Medal</th></tr>\n",
       "\t<tr><th></th><th scope=col>&lt;chr&gt;</th><th scope=col>&lt;chr&gt;</th><th scope=col>&lt;chr&gt;</th><th scope=col>&lt;chr&gt;</th><th scope=col>&lt;chr&gt;</th><th scope=col>&lt;chr&gt;</th><th scope=col>&lt;chr&gt;</th><th scope=col>&lt;chr&gt;</th></tr>\n",
       "</thead>\n",
       "<tbody>\n",
       "\t<tr><th scope=row>2</th><td>1932</td><td>Lake Placid</td><td>Skiing</td><td>Cross Country S</td><td>FIN</td><td>50km                </td><td>M</td><td>Gold</td></tr>\n",
       "\t<tr><th scope=row>6</th><td>1932</td><td>Lake Placid</td><td>Skiing</td><td>Nordic Combined</td><td>NOR</td><td>individual          </td><td>M</td><td>Gold</td></tr>\n",
       "\t<tr><th scope=row>9</th><td>1932</td><td>Lake Placid</td><td>Skiing</td><td>Ski Jumping    </td><td>NOR</td><td>K90 individual (70m)</td><td>M</td><td>Gold</td></tr>\n",
       "\t<tr><th scope=row>11</th><td>1932</td><td>Lake Placid</td><td>Skiing</td><td>Cross Country S</td><td>SWE</td><td>18km                </td><td>M</td><td>Gold</td></tr>\n",
       "</tbody>\n",
       "</table>\n"
      ],
      "text/latex": [
       "A data.frame: 4 × 8\n",
       "\\begin{tabular}{r|llllllll}\n",
       "  & Year & City & Sport & Discipline & NOC & Event & Event.gender & Medal\\\\\n",
       "  & <chr> & <chr> & <chr> & <chr> & <chr> & <chr> & <chr> & <chr>\\\\\n",
       "\\hline\n",
       "\t2 & 1932 & Lake Placid & Skiing & Cross Country S & FIN & 50km                 & M & Gold\\\\\n",
       "\t6 & 1932 & Lake Placid & Skiing & Nordic Combined & NOR & individual           & M & Gold\\\\\n",
       "\t9 & 1932 & Lake Placid & Skiing & Ski Jumping     & NOR & K90 individual (70m) & M & Gold\\\\\n",
       "\t11 & 1932 & Lake Placid & Skiing & Cross Country S & SWE & 18km                 & M & Gold\\\\\n",
       "\\end{tabular}\n"
      ],
      "text/markdown": [
       "\n",
       "A data.frame: 4 × 8\n",
       "\n",
       "| <!--/--> | Year &lt;chr&gt; | City &lt;chr&gt; | Sport &lt;chr&gt; | Discipline &lt;chr&gt; | NOC &lt;chr&gt; | Event &lt;chr&gt; | Event.gender &lt;chr&gt; | Medal &lt;chr&gt; |\n",
       "|---|---|---|---|---|---|---|---|---|\n",
       "| 2 | 1932 | Lake Placid | Skiing | Cross Country S | FIN | 50km                 | M | Gold |\n",
       "| 6 | 1932 | Lake Placid | Skiing | Nordic Combined | NOR | individual           | M | Gold |\n",
       "| 9 | 1932 | Lake Placid | Skiing | Ski Jumping     | NOR | K90 individual (70m) | M | Gold |\n",
       "| 11 | 1932 | Lake Placid | Skiing | Cross Country S | SWE | 18km                 | M | Gold |\n",
       "\n"
      ],
      "text/plain": [
       "   Year City        Sport  Discipline      NOC Event               \n",
       "2  1932 Lake Placid Skiing Cross Country S FIN 50km                \n",
       "6  1932 Lake Placid Skiing Nordic Combined NOR individual          \n",
       "9  1932 Lake Placid Skiing Ski Jumping     NOR K90 individual (70m)\n",
       "11 1932 Lake Placid Skiing Cross Country S SWE 18km                \n",
       "   Event.gender Medal\n",
       "2  M            Gold \n",
       "6  M            Gold \n",
       "9  M            Gold \n",
       "11 M            Gold "
      ]
     },
     "metadata": {},
     "output_type": "display_data"
    }
   ],
   "source": [
    "gold_medals_sum = sum(data_1932_skiing$Medal == \"Gold\")\n",
    "print(paste(\"Number of Golden Medals:\", gold_medals_sum))\n",
    "data_golden = subset(data_1932_skiing, data_1932_skiing$Medal == \"Gold\")\n",
    "print(\"Details:\")\n",
    "data_golden"
   ]
  },
  {
   "cell_type": "code",
   "execution_count": null,
   "metadata": {},
   "outputs": [],
   "source": []
  }
 ],
 "metadata": {
  "kernelspec": {
   "display_name": "R",
   "language": "R",
   "name": "ir"
  },
  "language_info": {
   "codemirror_mode": "r",
   "file_extension": ".r",
   "mimetype": "text/x-r-source",
   "name": "R",
   "pygments_lexer": "r",
   "version": "4.0.3"
  }
 },
 "nbformat": 4,
 "nbformat_minor": 4
}
