{
 "cells": [
  {
   "cell_type": "markdown",
   "id": "bronze-matter",
   "metadata": {},
   "source": [
    "* Cho dữ liệu ItemList.xlsx\n",
    "* Yêu cầu: Đọc dữ liệu, chuẩn hóa dữ liệu (nếu cần) và chọn một thuật toán thích hợp trong nhóm Association rule learning để tính toán mức độ kết hợp giữa các item.\n",
    "\n",
    "1. Áp dụng thuật toán (tự lựa chọn các tham số phù hợp cho thuật toán, lưu ý với số lượng transaction càng nhiều thì các ngưỡng nên đặt càng nhỏ). In kết quả. Vẽ biểu đồ.\n",
    "2. Tìm kiếm thông tin từ kết quả: trong thông tin kết quả có 'sausage' không? Nếu có thì 'sausage' kết hợp với item nào?\n",
    "3. Cho biết 15 sản phẩm được mua nhiều nhất. Vẽ biểu đồ.\n",
    "4. Cho biết 15 sản phẩm được mua ít nhất. Vẽ biểu đồ.\n"
   ]
  },
  {
   "cell_type": "code",
   "execution_count": 1,
   "id": "editorial-stuart",
   "metadata": {},
   "outputs": [],
   "source": [
    "import pandas as pd\n",
    "import numpy as np\n",
    "import matplotlib.pyplot as plt\n",
    "\n",
    "from mlxtend.preprocessing import TransactionEncoder\n",
    "from mlxtend.frequent_patterns import apriori\n",
    "from mlxtend.frequent_patterns import association_rules"
   ]
  },
  {
   "cell_type": "code",
   "execution_count": 2,
   "id": "impaired-merit",
   "metadata": {},
   "outputs": [],
   "source": [
    "# load dữ liệu\n",
    "data = pd.read_excel(\"../../Data/ItemList.xlsx\", header=None)"
   ]
  },
  {
   "cell_type": "code",
   "execution_count": 3,
   "id": "enclosed-monaco",
   "metadata": {},
   "outputs": [
    {
     "name": "stdout",
     "output_type": "stream",
     "text": [
      "<class 'pandas.core.frame.DataFrame'>\n",
      "RangeIndex: 14963 entries, 0 to 14962\n",
      "Data columns (total 11 columns):\n",
      " #   Column  Non-Null Count  Dtype \n",
      "---  ------  --------------  ----- \n",
      " 0   0       14963 non-null  object\n",
      " 1   1       14963 non-null  object\n",
      " 2   2       4883 non-null   object\n",
      " 3   3       2185 non-null   object\n",
      " 4   4       795 non-null    object\n",
      " 5   5       451 non-null    object\n",
      " 6   6       276 non-null    object\n",
      " 7   7       196 non-null    object\n",
      " 8   8       51 non-null     object\n",
      " 9   9       1 non-null      object\n",
      " 10  10      1 non-null      object\n",
      "dtypes: object(11)\n",
      "memory usage: 1.3+ MB\n"
     ]
    }
   ],
   "source": [
    "data.info()"
   ]
  },
  {
   "cell_type": "code",
   "execution_count": 4,
   "id": "finnish-suspect",
   "metadata": {},
   "outputs": [
    {
     "data": {
      "text/html": [
       "<div>\n",
       "<style scoped>\n",
       "    .dataframe tbody tr th:only-of-type {\n",
       "        vertical-align: middle;\n",
       "    }\n",
       "\n",
       "    .dataframe tbody tr th {\n",
       "        vertical-align: top;\n",
       "    }\n",
       "\n",
       "    .dataframe thead th {\n",
       "        text-align: right;\n",
       "    }\n",
       "</style>\n",
       "<table border=\"1\" class=\"dataframe\">\n",
       "  <thead>\n",
       "    <tr style=\"text-align: right;\">\n",
       "      <th></th>\n",
       "      <th>0</th>\n",
       "      <th>1</th>\n",
       "      <th>2</th>\n",
       "      <th>3</th>\n",
       "      <th>4</th>\n",
       "      <th>5</th>\n",
       "      <th>6</th>\n",
       "      <th>7</th>\n",
       "      <th>8</th>\n",
       "      <th>9</th>\n",
       "      <th>10</th>\n",
       "    </tr>\n",
       "  </thead>\n",
       "  <tbody>\n",
       "    <tr>\n",
       "      <th>0</th>\n",
       "      <td>sausage</td>\n",
       "      <td>whole milk</td>\n",
       "      <td>semi-finished bread</td>\n",
       "      <td>yogurt</td>\n",
       "      <td>NaN</td>\n",
       "      <td>NaN</td>\n",
       "      <td>NaN</td>\n",
       "      <td>NaN</td>\n",
       "      <td>NaN</td>\n",
       "      <td>NaN</td>\n",
       "      <td>NaN</td>\n",
       "    </tr>\n",
       "    <tr>\n",
       "      <th>1</th>\n",
       "      <td>whole milk</td>\n",
       "      <td>pastry</td>\n",
       "      <td>salty snack</td>\n",
       "      <td>NaN</td>\n",
       "      <td>NaN</td>\n",
       "      <td>NaN</td>\n",
       "      <td>NaN</td>\n",
       "      <td>NaN</td>\n",
       "      <td>NaN</td>\n",
       "      <td>NaN</td>\n",
       "      <td>NaN</td>\n",
       "    </tr>\n",
       "    <tr>\n",
       "      <th>2</th>\n",
       "      <td>canned beer</td>\n",
       "      <td>misc. beverages</td>\n",
       "      <td>NaN</td>\n",
       "      <td>NaN</td>\n",
       "      <td>NaN</td>\n",
       "      <td>NaN</td>\n",
       "      <td>NaN</td>\n",
       "      <td>NaN</td>\n",
       "      <td>NaN</td>\n",
       "      <td>NaN</td>\n",
       "      <td>NaN</td>\n",
       "    </tr>\n",
       "  </tbody>\n",
       "</table>\n",
       "</div>"
      ],
      "text/plain": [
       "            0                1                    2       3    4    5    6   \\\n",
       "0      sausage       whole milk  semi-finished bread  yogurt  NaN  NaN  NaN   \n",
       "1   whole milk           pastry          salty snack     NaN  NaN  NaN  NaN   \n",
       "2  canned beer  misc. beverages                  NaN     NaN  NaN  NaN  NaN   \n",
       "\n",
       "    7    8    9    10  \n",
       "0  NaN  NaN  NaN  NaN  \n",
       "1  NaN  NaN  NaN  NaN  \n",
       "2  NaN  NaN  NaN  NaN  "
      ]
     },
     "execution_count": 4,
     "metadata": {},
     "output_type": "execute_result"
    }
   ],
   "source": [
    "data.head(3)"
   ]
  },
  {
   "cell_type": "code",
   "execution_count": 5,
   "id": "acquired-alfred",
   "metadata": {},
   "outputs": [],
   "source": [
    "records = []\n",
    "for i in range(0, data.shape[0]):\n",
    "    records.append([str(data.values[i,j]) for j in range(0, data.shape[1])])"
   ]
  },
  {
   "cell_type": "code",
   "execution_count": 6,
   "id": "invalid-burlington",
   "metadata": {},
   "outputs": [
    {
     "data": {
      "text/plain": [
       "['sausage',\n",
       " 'whole milk',\n",
       " 'semi-finished bread',\n",
       " 'yogurt',\n",
       " 'nan',\n",
       " 'nan',\n",
       " 'nan',\n",
       " 'nan',\n",
       " 'nan',\n",
       " 'nan',\n",
       " 'nan']"
      ]
     },
     "execution_count": 6,
     "metadata": {},
     "output_type": "execute_result"
    }
   ],
   "source": [
    "records[0]"
   ]
  },
  {
   "cell_type": "code",
   "execution_count": 7,
   "id": "sustainable-strength",
   "metadata": {},
   "outputs": [
    {
     "data": {
      "text/plain": [
       "(14963, 168)"
      ]
     },
     "execution_count": 7,
     "metadata": {},
     "output_type": "execute_result"
    }
   ],
   "source": [
    "te = TransactionEncoder()\n",
    "te_ary = te.fit(records).transform(records)\n",
    "df = pd.DataFrame(te_ary, columns=te.columns_)\n",
    "df.shape"
   ]
  },
  {
   "cell_type": "code",
   "execution_count": 8,
   "id": "realistic-dimension",
   "metadata": {},
   "outputs": [
    {
     "name": "stdout",
     "output_type": "stream",
     "text": [
      "<class 'pandas.core.frame.DataFrame'>\n",
      "RangeIndex: 14963 entries, 0 to 14962\n",
      "Columns: 168 entries, Instant food products to zwieback\n",
      "dtypes: bool(168)\n",
      "memory usage: 2.4 MB\n"
     ]
    }
   ],
   "source": [
    "df.info()"
   ]
  },
  {
   "cell_type": "code",
   "execution_count": 9,
   "id": "outstanding-briefing",
   "metadata": {},
   "outputs": [
    {
     "data": {
      "text/html": [
       "<div>\n",
       "<style scoped>\n",
       "    .dataframe tbody tr th:only-of-type {\n",
       "        vertical-align: middle;\n",
       "    }\n",
       "\n",
       "    .dataframe tbody tr th {\n",
       "        vertical-align: top;\n",
       "    }\n",
       "\n",
       "    .dataframe thead th {\n",
       "        text-align: right;\n",
       "    }\n",
       "</style>\n",
       "<table border=\"1\" class=\"dataframe\">\n",
       "  <thead>\n",
       "    <tr style=\"text-align: right;\">\n",
       "      <th></th>\n",
       "      <th>Instant food products</th>\n",
       "      <th>UHT-milk</th>\n",
       "      <th>abrasive cleaner</th>\n",
       "      <th>artif. sweetener</th>\n",
       "      <th>baby cosmetics</th>\n",
       "      <th>bags</th>\n",
       "      <th>baking powder</th>\n",
       "      <th>bathroom cleaner</th>\n",
       "      <th>beef</th>\n",
       "      <th>berries</th>\n",
       "      <th>...</th>\n",
       "      <th>turkey</th>\n",
       "      <th>vinegar</th>\n",
       "      <th>waffles</th>\n",
       "      <th>whipped/sour cream</th>\n",
       "      <th>whisky</th>\n",
       "      <th>white bread</th>\n",
       "      <th>white wine</th>\n",
       "      <th>whole milk</th>\n",
       "      <th>yogurt</th>\n",
       "      <th>zwieback</th>\n",
       "    </tr>\n",
       "  </thead>\n",
       "  <tbody>\n",
       "    <tr>\n",
       "      <th>0</th>\n",
       "      <td>False</td>\n",
       "      <td>False</td>\n",
       "      <td>False</td>\n",
       "      <td>False</td>\n",
       "      <td>False</td>\n",
       "      <td>False</td>\n",
       "      <td>False</td>\n",
       "      <td>False</td>\n",
       "      <td>False</td>\n",
       "      <td>False</td>\n",
       "      <td>...</td>\n",
       "      <td>False</td>\n",
       "      <td>False</td>\n",
       "      <td>False</td>\n",
       "      <td>False</td>\n",
       "      <td>False</td>\n",
       "      <td>False</td>\n",
       "      <td>False</td>\n",
       "      <td>True</td>\n",
       "      <td>True</td>\n",
       "      <td>False</td>\n",
       "    </tr>\n",
       "    <tr>\n",
       "      <th>1</th>\n",
       "      <td>False</td>\n",
       "      <td>False</td>\n",
       "      <td>False</td>\n",
       "      <td>False</td>\n",
       "      <td>False</td>\n",
       "      <td>False</td>\n",
       "      <td>False</td>\n",
       "      <td>False</td>\n",
       "      <td>False</td>\n",
       "      <td>False</td>\n",
       "      <td>...</td>\n",
       "      <td>False</td>\n",
       "      <td>False</td>\n",
       "      <td>False</td>\n",
       "      <td>False</td>\n",
       "      <td>False</td>\n",
       "      <td>False</td>\n",
       "      <td>False</td>\n",
       "      <td>True</td>\n",
       "      <td>False</td>\n",
       "      <td>False</td>\n",
       "    </tr>\n",
       "    <tr>\n",
       "      <th>2</th>\n",
       "      <td>False</td>\n",
       "      <td>False</td>\n",
       "      <td>False</td>\n",
       "      <td>False</td>\n",
       "      <td>False</td>\n",
       "      <td>False</td>\n",
       "      <td>False</td>\n",
       "      <td>False</td>\n",
       "      <td>False</td>\n",
       "      <td>False</td>\n",
       "      <td>...</td>\n",
       "      <td>False</td>\n",
       "      <td>False</td>\n",
       "      <td>False</td>\n",
       "      <td>False</td>\n",
       "      <td>False</td>\n",
       "      <td>False</td>\n",
       "      <td>False</td>\n",
       "      <td>False</td>\n",
       "      <td>False</td>\n",
       "      <td>False</td>\n",
       "    </tr>\n",
       "  </tbody>\n",
       "</table>\n",
       "<p>3 rows × 168 columns</p>\n",
       "</div>"
      ],
      "text/plain": [
       "   Instant food products  UHT-milk  abrasive cleaner  artif. sweetener  \\\n",
       "0                  False     False             False             False   \n",
       "1                  False     False             False             False   \n",
       "2                  False     False             False             False   \n",
       "\n",
       "   baby cosmetics   bags  baking powder  bathroom cleaner   beef  berries  \\\n",
       "0           False  False          False             False  False    False   \n",
       "1           False  False          False             False  False    False   \n",
       "2           False  False          False             False  False    False   \n",
       "\n",
       "   ...  turkey  vinegar  waffles  whipped/sour cream  whisky  white bread  \\\n",
       "0  ...   False    False    False               False   False        False   \n",
       "1  ...   False    False    False               False   False        False   \n",
       "2  ...   False    False    False               False   False        False   \n",
       "\n",
       "   white wine  whole milk  yogurt  zwieback  \n",
       "0       False        True    True     False  \n",
       "1       False        True   False     False  \n",
       "2       False       False   False     False  \n",
       "\n",
       "[3 rows x 168 columns]"
      ]
     },
     "execution_count": 9,
     "metadata": {},
     "output_type": "execute_result"
    }
   ],
   "source": [
    "df.head(3)"
   ]
  },
  {
   "cell_type": "code",
   "execution_count": 10,
   "id": "local-absence",
   "metadata": {},
   "outputs": [
    {
     "data": {
      "text/plain": [
       "Index(['Instant food products', 'UHT-milk', 'abrasive cleaner',\n",
       "       'artif. sweetener', 'baby cosmetics', 'bags', 'baking powder',\n",
       "       'bathroom cleaner', 'beef', 'berries',\n",
       "       ...\n",
       "       'turkey', 'vinegar', 'waffles', 'whipped/sour cream', 'whisky',\n",
       "       'white bread', 'white wine', 'whole milk', 'yogurt', 'zwieback'],\n",
       "      dtype='object', length=168)"
      ]
     },
     "execution_count": 10,
     "metadata": {},
     "output_type": "execute_result"
    }
   ],
   "source": [
    "df.columns"
   ]
  },
  {
   "cell_type": "code",
   "execution_count": 11,
   "id": "alone-fiber",
   "metadata": {},
   "outputs": [],
   "source": [
    "df = df.drop(['nan'], axis=1)"
   ]
  },
  {
   "cell_type": "code",
   "execution_count": 12,
   "id": "dense-coordinate",
   "metadata": {},
   "outputs": [
    {
     "data": {
      "text/html": [
       "<div>\n",
       "<style scoped>\n",
       "    .dataframe tbody tr th:only-of-type {\n",
       "        vertical-align: middle;\n",
       "    }\n",
       "\n",
       "    .dataframe tbody tr th {\n",
       "        vertical-align: top;\n",
       "    }\n",
       "\n",
       "    .dataframe thead th {\n",
       "        text-align: right;\n",
       "    }\n",
       "</style>\n",
       "<table border=\"1\" class=\"dataframe\">\n",
       "  <thead>\n",
       "    <tr style=\"text-align: right;\">\n",
       "      <th></th>\n",
       "      <th>support</th>\n",
       "      <th>itemsets</th>\n",
       "    </tr>\n",
       "  </thead>\n",
       "  <tbody>\n",
       "    <tr>\n",
       "      <th>0</th>\n",
       "      <td>0.021386</td>\n",
       "      <td>(UHT-milk)</td>\n",
       "    </tr>\n",
       "    <tr>\n",
       "      <th>1</th>\n",
       "      <td>0.008087</td>\n",
       "      <td>(baking powder)</td>\n",
       "    </tr>\n",
       "    <tr>\n",
       "      <th>2</th>\n",
       "      <td>0.033950</td>\n",
       "      <td>(beef)</td>\n",
       "    </tr>\n",
       "    <tr>\n",
       "      <th>3</th>\n",
       "      <td>0.021787</td>\n",
       "      <td>(berries)</td>\n",
       "    </tr>\n",
       "    <tr>\n",
       "      <th>4</th>\n",
       "      <td>0.016574</td>\n",
       "      <td>(beverages)</td>\n",
       "    </tr>\n",
       "  </tbody>\n",
       "</table>\n",
       "</div>"
      ],
      "text/plain": [
       "    support         itemsets\n",
       "0  0.021386       (UHT-milk)\n",
       "1  0.008087  (baking powder)\n",
       "2  0.033950           (beef)\n",
       "3  0.021787        (berries)\n",
       "4  0.016574      (beverages)"
      ]
     },
     "execution_count": 12,
     "metadata": {},
     "output_type": "execute_result"
    }
   ],
   "source": [
    "frequent_itemsets = apriori(df, min_support=0.005, use_colnames=True)\n",
    "frequent_itemsets.head()"
   ]
  },
  {
   "cell_type": "code",
   "execution_count": 13,
   "id": "configured-franklin",
   "metadata": {},
   "outputs": [
    {
     "data": {
      "text/html": [
       "<div>\n",
       "<style scoped>\n",
       "    .dataframe tbody tr th:only-of-type {\n",
       "        vertical-align: middle;\n",
       "    }\n",
       "\n",
       "    .dataframe tbody tr th {\n",
       "        vertical-align: top;\n",
       "    }\n",
       "\n",
       "    .dataframe thead th {\n",
       "        text-align: right;\n",
       "    }\n",
       "</style>\n",
       "<table border=\"1\" class=\"dataframe\">\n",
       "  <thead>\n",
       "    <tr style=\"text-align: right;\">\n",
       "      <th></th>\n",
       "      <th>antecedents</th>\n",
       "      <th>consequents</th>\n",
       "      <th>antecedent support</th>\n",
       "      <th>consequent support</th>\n",
       "      <th>support</th>\n",
       "      <th>confidence</th>\n",
       "      <th>lift</th>\n",
       "      <th>leverage</th>\n",
       "      <th>conviction</th>\n",
       "    </tr>\n",
       "  </thead>\n",
       "  <tbody>\n",
       "    <tr>\n",
       "      <th>0</th>\n",
       "      <td>(bottled beer)</td>\n",
       "      <td>(whole milk)</td>\n",
       "      <td>0.045312</td>\n",
       "      <td>0.157923</td>\n",
       "      <td>0.007151</td>\n",
       "      <td>0.157817</td>\n",
       "      <td>0.999330</td>\n",
       "      <td>-0.000005</td>\n",
       "      <td>0.999874</td>\n",
       "    </tr>\n",
       "    <tr>\n",
       "      <th>1</th>\n",
       "      <td>(whole milk)</td>\n",
       "      <td>(bottled beer)</td>\n",
       "      <td>0.157923</td>\n",
       "      <td>0.045312</td>\n",
       "      <td>0.007151</td>\n",
       "      <td>0.045281</td>\n",
       "      <td>0.999330</td>\n",
       "      <td>-0.000005</td>\n",
       "      <td>0.999968</td>\n",
       "    </tr>\n",
       "    <tr>\n",
       "      <th>2</th>\n",
       "      <td>(other vegetables)</td>\n",
       "      <td>(bottled water)</td>\n",
       "      <td>0.122101</td>\n",
       "      <td>0.060683</td>\n",
       "      <td>0.005480</td>\n",
       "      <td>0.044882</td>\n",
       "      <td>0.739619</td>\n",
       "      <td>-0.001929</td>\n",
       "      <td>0.983457</td>\n",
       "    </tr>\n",
       "    <tr>\n",
       "      <th>3</th>\n",
       "      <td>(bottled water)</td>\n",
       "      <td>(other vegetables)</td>\n",
       "      <td>0.060683</td>\n",
       "      <td>0.122101</td>\n",
       "      <td>0.005480</td>\n",
       "      <td>0.090308</td>\n",
       "      <td>0.739619</td>\n",
       "      <td>-0.001929</td>\n",
       "      <td>0.965051</td>\n",
       "    </tr>\n",
       "    <tr>\n",
       "      <th>4</th>\n",
       "      <td>(whole milk)</td>\n",
       "      <td>(bottled water)</td>\n",
       "      <td>0.157923</td>\n",
       "      <td>0.060683</td>\n",
       "      <td>0.007151</td>\n",
       "      <td>0.045281</td>\n",
       "      <td>0.746196</td>\n",
       "      <td>-0.002432</td>\n",
       "      <td>0.983868</td>\n",
       "    </tr>\n",
       "    <tr>\n",
       "      <th>...</th>\n",
       "      <td>...</td>\n",
       "      <td>...</td>\n",
       "      <td>...</td>\n",
       "      <td>...</td>\n",
       "      <td>...</td>\n",
       "      <td>...</td>\n",
       "      <td>...</td>\n",
       "      <td>...</td>\n",
       "      <td>...</td>\n",
       "    </tr>\n",
       "    <tr>\n",
       "      <th>69</th>\n",
       "      <td>(tropical fruit)</td>\n",
       "      <td>(whole milk)</td>\n",
       "      <td>0.067767</td>\n",
       "      <td>0.157923</td>\n",
       "      <td>0.008220</td>\n",
       "      <td>0.121302</td>\n",
       "      <td>0.768108</td>\n",
       "      <td>-0.002482</td>\n",
       "      <td>0.958323</td>\n",
       "    </tr>\n",
       "    <tr>\n",
       "      <th>70</th>\n",
       "      <td>(yogurt)</td>\n",
       "      <td>(tropical fruit)</td>\n",
       "      <td>0.085879</td>\n",
       "      <td>0.067767</td>\n",
       "      <td>0.005213</td>\n",
       "      <td>0.060700</td>\n",
       "      <td>0.895720</td>\n",
       "      <td>-0.000607</td>\n",
       "      <td>0.992477</td>\n",
       "    </tr>\n",
       "    <tr>\n",
       "      <th>71</th>\n",
       "      <td>(tropical fruit)</td>\n",
       "      <td>(yogurt)</td>\n",
       "      <td>0.067767</td>\n",
       "      <td>0.085879</td>\n",
       "      <td>0.005213</td>\n",
       "      <td>0.076923</td>\n",
       "      <td>0.895720</td>\n",
       "      <td>-0.000607</td>\n",
       "      <td>0.990298</td>\n",
       "    </tr>\n",
       "    <tr>\n",
       "      <th>72</th>\n",
       "      <td>(whole milk)</td>\n",
       "      <td>(yogurt)</td>\n",
       "      <td>0.157923</td>\n",
       "      <td>0.085879</td>\n",
       "      <td>0.011161</td>\n",
       "      <td>0.070673</td>\n",
       "      <td>0.822940</td>\n",
       "      <td>-0.002401</td>\n",
       "      <td>0.983638</td>\n",
       "    </tr>\n",
       "    <tr>\n",
       "      <th>73</th>\n",
       "      <td>(yogurt)</td>\n",
       "      <td>(whole milk)</td>\n",
       "      <td>0.085879</td>\n",
       "      <td>0.157923</td>\n",
       "      <td>0.011161</td>\n",
       "      <td>0.129961</td>\n",
       "      <td>0.822940</td>\n",
       "      <td>-0.002401</td>\n",
       "      <td>0.967861</td>\n",
       "    </tr>\n",
       "  </tbody>\n",
       "</table>\n",
       "<p>74 rows × 9 columns</p>\n",
       "</div>"
      ],
      "text/plain": [
       "           antecedents         consequents  antecedent support  \\\n",
       "0       (bottled beer)        (whole milk)            0.045312   \n",
       "1         (whole milk)      (bottled beer)            0.157923   \n",
       "2   (other vegetables)     (bottled water)            0.122101   \n",
       "3      (bottled water)  (other vegetables)            0.060683   \n",
       "4         (whole milk)     (bottled water)            0.157923   \n",
       "..                 ...                 ...                 ...   \n",
       "69    (tropical fruit)        (whole milk)            0.067767   \n",
       "70            (yogurt)    (tropical fruit)            0.085879   \n",
       "71    (tropical fruit)            (yogurt)            0.067767   \n",
       "72        (whole milk)            (yogurt)            0.157923   \n",
       "73            (yogurt)        (whole milk)            0.085879   \n",
       "\n",
       "    consequent support   support  confidence      lift  leverage  conviction  \n",
       "0             0.157923  0.007151    0.157817  0.999330 -0.000005    0.999874  \n",
       "1             0.045312  0.007151    0.045281  0.999330 -0.000005    0.999968  \n",
       "2             0.060683  0.005480    0.044882  0.739619 -0.001929    0.983457  \n",
       "3             0.122101  0.005480    0.090308  0.739619 -0.001929    0.965051  \n",
       "4             0.060683  0.007151    0.045281  0.746196 -0.002432    0.983868  \n",
       "..                 ...       ...         ...       ...       ...         ...  \n",
       "69            0.157923  0.008220    0.121302  0.768108 -0.002482    0.958323  \n",
       "70            0.067767  0.005213    0.060700  0.895720 -0.000607    0.992477  \n",
       "71            0.085879  0.005213    0.076923  0.895720 -0.000607    0.990298  \n",
       "72            0.085879  0.011161    0.070673  0.822940 -0.002401    0.983638  \n",
       "73            0.157923  0.011161    0.129961  0.822940 -0.002401    0.967861  \n",
       "\n",
       "[74 rows x 9 columns]"
      ]
     },
     "execution_count": 13,
     "metadata": {},
     "output_type": "execute_result"
    }
   ],
   "source": [
    "rules = association_rules(frequent_itemsets, metric=\"lift\", min_threshold=0.5)\n",
    "rules"
   ]
  },
  {
   "cell_type": "code",
   "execution_count": 14,
   "id": "growing-cradle",
   "metadata": {},
   "outputs": [
    {
     "name": "stdout",
     "output_type": "stream",
     "text": [
      "<class 'pandas.core.frame.DataFrame'>\n",
      "RangeIndex: 74 entries, 0 to 73\n",
      "Data columns (total 9 columns):\n",
      " #   Column              Non-Null Count  Dtype  \n",
      "---  ------              --------------  -----  \n",
      " 0   antecedents         74 non-null     object \n",
      " 1   consequents         74 non-null     object \n",
      " 2   antecedent support  74 non-null     float64\n",
      " 3   consequent support  74 non-null     float64\n",
      " 4   support             74 non-null     float64\n",
      " 5   confidence          74 non-null     float64\n",
      " 6   lift                74 non-null     float64\n",
      " 7   leverage            74 non-null     float64\n",
      " 8   conviction          74 non-null     float64\n",
      "dtypes: float64(7), object(2)\n",
      "memory usage: 5.3+ KB\n",
      "None\n"
     ]
    }
   ],
   "source": [
    "print(rules.info())"
   ]
  },
  {
   "cell_type": "code",
   "execution_count": 15,
   "id": "published-renewal",
   "metadata": {},
   "outputs": [
    {
     "name": "stdout",
     "output_type": "stream",
     "text": [
      "(22, antecedents                    (sausage)\n",
      "consequents           (other vegetables)\n",
      "antecedent support              0.060349\n",
      "consequent support              0.122101\n",
      "support                         0.006015\n",
      "confidence                      0.099668\n",
      "lift                            0.816272\n",
      "leverage                       -0.001354\n",
      "conviction                      0.975083\n",
      "Name: 22, dtype: object)\n",
      "(40, antecedents              (sausage)\n",
      "consequents           (rolls/buns)\n",
      "antecedent support        0.060349\n",
      "consequent support        0.110005\n",
      "support                   0.005347\n",
      "confidence                0.088594\n",
      "lift                      0.805362\n",
      "leverage                 -0.001292\n",
      "conviction                0.976508\n",
      "Name: 40, dtype: object)\n",
      "(54, antecedents           (sausage)\n",
      "consequents              (soda)\n",
      "antecedent support     0.060349\n",
      "consequent support     0.097106\n",
      "support                0.005948\n",
      "confidence              0.09856\n",
      "lift                   1.014975\n",
      "leverage               0.000088\n",
      "conviction             1.001613\n",
      "Name: 54, dtype: object)\n",
      "(56, antecedents              (sausage)\n",
      "consequents           (whole milk)\n",
      "antecedent support        0.060349\n",
      "consequent support        0.157923\n",
      "support                   0.008955\n",
      "confidence                0.148394\n",
      "lift                      0.939663\n",
      "leverage                 -0.000575\n",
      "conviction                0.988811\n",
      "Name: 56, dtype: object)\n",
      "(58, antecedents           (sausage)\n",
      "consequents            (yogurt)\n",
      "antecedent support     0.060349\n",
      "consequent support     0.085879\n",
      "support                0.005748\n",
      "confidence             0.095238\n",
      "lift                   1.108986\n",
      "leverage               0.000565\n",
      "conviction             1.010345\n",
      "Name: 58, dtype: object)\n"
     ]
    }
   ],
   "source": [
    "# \"Có sausage không? nó kết hợp với item nào?\"\n",
    "for row in rules.iterrows():\n",
    "    if \"sausage\" in row[1][0]:\n",
    "        print(row)"
   ]
  },
  {
   "cell_type": "code",
   "execution_count": 16,
   "id": "assured-crime",
   "metadata": {},
   "outputs": [],
   "source": [
    "support=rules['support'].values\n",
    "confidence=rules['confidence'].values\n",
    "lift = rules['lift'].values"
   ]
  },
  {
   "cell_type": "code",
   "execution_count": 17,
   "id": "anticipated-constitution",
   "metadata": {},
   "outputs": [
    {
     "data": {
      "image/png": "[encoded data removed]",
      "text/plain": [
       "<Figure size 576x360 with 1 Axes>"
      ]
     },
     "metadata": {
      "needs_background": "light"
     },
     "output_type": "display_data"
    }
   ],
   "source": [
    "plt.figure(figsize=(8,5))\n",
    "plt.scatter(support, confidence, s= lift*100,alpha=0.8, c = lift)\n",
    "plt.xlabel('support')\n",
    "plt.ylabel('confidence')\n",
    "plt.show()"
   ]
  },
  {
   "cell_type": "code",
   "execution_count": 18,
   "id": "metallic-intranet",
   "metadata": {},
   "outputs": [
    {
     "data": {
      "text/html": [
       "<div>\n",
       "<style scoped>\n",
       "    .dataframe tbody tr th:only-of-type {\n",
       "        vertical-align: middle;\n",
       "    }\n",
       "\n",
       "    .dataframe tbody tr th {\n",
       "        vertical-align: top;\n",
       "    }\n",
       "\n",
       "    .dataframe thead th {\n",
       "        text-align: right;\n",
       "    }\n",
       "</style>\n",
       "<table border=\"1\" class=\"dataframe\">\n",
       "  <thead>\n",
       "    <tr style=\"text-align: right;\">\n",
       "      <th></th>\n",
       "      <th>Instant food products</th>\n",
       "      <th>UHT-milk</th>\n",
       "      <th>abrasive cleaner</th>\n",
       "      <th>artif. sweetener</th>\n",
       "      <th>baby cosmetics</th>\n",
       "      <th>bags</th>\n",
       "      <th>baking powder</th>\n",
       "      <th>bathroom cleaner</th>\n",
       "      <th>beef</th>\n",
       "      <th>berries</th>\n",
       "      <th>...</th>\n",
       "      <th>turkey</th>\n",
       "      <th>vinegar</th>\n",
       "      <th>waffles</th>\n",
       "      <th>whipped/sour cream</th>\n",
       "      <th>whisky</th>\n",
       "      <th>white bread</th>\n",
       "      <th>white wine</th>\n",
       "      <th>whole milk</th>\n",
       "      <th>yogurt</th>\n",
       "      <th>zwieback</th>\n",
       "    </tr>\n",
       "  </thead>\n",
       "  <tbody>\n",
       "    <tr>\n",
       "      <th>False</th>\n",
       "      <td>14903</td>\n",
       "      <td>14643</td>\n",
       "      <td>14941</td>\n",
       "      <td>14934</td>\n",
       "      <td>14960</td>\n",
       "      <td>14959</td>\n",
       "      <td>14842</td>\n",
       "      <td>14946</td>\n",
       "      <td>14455</td>\n",
       "      <td>14637</td>\n",
       "      <td>...</td>\n",
       "      <td>14883</td>\n",
       "      <td>14912</td>\n",
       "      <td>14686</td>\n",
       "      <td>14309</td>\n",
       "      <td>14955</td>\n",
       "      <td>14604</td>\n",
       "      <td>14788</td>\n",
       "      <td>12600</td>\n",
       "      <td>13678</td>\n",
       "      <td>14903</td>\n",
       "    </tr>\n",
       "    <tr>\n",
       "      <th>True</th>\n",
       "      <td>60</td>\n",
       "      <td>320</td>\n",
       "      <td>22</td>\n",
       "      <td>29</td>\n",
       "      <td>3</td>\n",
       "      <td>4</td>\n",
       "      <td>121</td>\n",
       "      <td>17</td>\n",
       "      <td>508</td>\n",
       "      <td>326</td>\n",
       "      <td>...</td>\n",
       "      <td>80</td>\n",
       "      <td>51</td>\n",
       "      <td>277</td>\n",
       "      <td>654</td>\n",
       "      <td>8</td>\n",
       "      <td>359</td>\n",
       "      <td>175</td>\n",
       "      <td>2363</td>\n",
       "      <td>1285</td>\n",
       "      <td>60</td>\n",
       "    </tr>\n",
       "  </tbody>\n",
       "</table>\n",
       "<p>2 rows × 167 columns</p>\n",
       "</div>"
      ],
      "text/plain": [
       "       Instant food products  UHT-milk  abrasive cleaner  artif. sweetener  \\\n",
       "False                  14903     14643             14941             14934   \n",
       "True                      60       320                22                29   \n",
       "\n",
       "       baby cosmetics   bags  baking powder  bathroom cleaner   beef  berries  \\\n",
       "False           14960  14959          14842             14946  14455    14637   \n",
       "True                3      4            121                17    508      326   \n",
       "\n",
       "       ...  turkey  vinegar  waffles  whipped/sour cream  whisky  white bread  \\\n",
       "False  ...   14883    14912    14686               14309   14955        14604   \n",
       "True   ...      80       51      277                 654       8          359   \n",
       "\n",
       "       white wine  whole milk  yogurt  zwieback  \n",
       "False       14788       12600   13678     14903  \n",
       "True          175        2363    1285        60  \n",
       "\n",
       "[2 rows x 167 columns]"
      ]
     },
     "execution_count": 18,
     "metadata": {},
     "output_type": "execute_result"
    }
   ],
   "source": [
    "result = df.apply(pd.value_counts).fillna(0)\n",
    "result"
   ]
  },
  {
   "cell_type": "code",
   "execution_count": 19,
   "id": "gross-frank",
   "metadata": {},
   "outputs": [
    {
     "data": {
      "text/plain": [
       "Instant food products     60\n",
       "UHT-milk                 320\n",
       "abrasive cleaner          22\n",
       "artif. sweetener          29\n",
       "baby cosmetics             3\n",
       "bags                       4\n",
       "baking powder            121\n",
       "bathroom cleaner          17\n",
       "beef                     508\n",
       "berries                  326\n",
       "beverages                248\n",
       "bottled beer             678\n",
       "bottled water            908\n",
       "brandy                    38\n",
       "brown bread              563\n",
       "Name: True, dtype: int64"
      ]
     },
     "execution_count": 19,
     "metadata": {},
     "output_type": "execute_result"
    }
   ],
   "source": [
    "df_true = result.iloc[1,:]\n",
    "df_true[:15]"
   ]
  },
  {
   "cell_type": "code",
   "execution_count": 20,
   "id": "ordered-hours",
   "metadata": {},
   "outputs": [],
   "source": [
    "x = df_true.sort_values(ascending=False)"
   ]
  },
  {
   "cell_type": "code",
   "execution_count": 21,
   "id": "delayed-circumstances",
   "metadata": {},
   "outputs": [
    {
     "data": {
      "text/plain": [
       "whole milk          2363\n",
       "other vegetables    1827\n",
       "rolls/buns          1646\n",
       "soda                1453\n",
       "yogurt              1285\n",
       "root vegetables     1041\n",
       "tropical fruit      1014\n",
       "bottled water        908\n",
       "sausage              903\n",
       "citrus fruit         795\n",
       "pastry               774\n",
       "pip fruit            734\n",
       "shopping bags        712\n",
       "canned beer          702\n",
       "bottled beer         678\n",
       "Name: True, dtype: int64"
      ]
     },
     "execution_count": 21,
     "metadata": {},
     "output_type": "execute_result"
    }
   ],
   "source": [
    "top_fifteen_products = x[:15]\n",
    "top_fifteen_products"
   ]
  },
  {
   "cell_type": "code",
   "execution_count": 22,
   "id": "developing-session",
   "metadata": {},
   "outputs": [
    {
     "data": {
      "text/plain": [
       "Text(0.5, 1.0, 'Fifteen products best buy')"
      ]
     },
     "execution_count": 22,
     "metadata": {},
     "output_type": "execute_result"
    },
    {
     "data": {
      "image/png": "[encoded data removed]",
      "text/plain": [
       "<Figure size 576x288 with 1 Axes>"
      ]
     },
     "metadata": {
      "needs_background": "light"
     },
     "output_type": "display_data"
    }
   ],
   "source": [
    "pos = np.arange(len(top_fifteen_products.values))\n",
    "\n",
    "plt.figure(figsize=(8,4))\n",
    "plt.bar(pos, top_fifteen_products.values, align='center')\n",
    "plt.xticks(pos, top_fifteen_products.keys(), rotation='vertical')\n",
    "plt.ylabel('Buying Times')\n",
    "plt.xlabel('Names')\n",
    "plt.title('Fifteen products best buy')"
   ]
  },
  {
   "cell_type": "code",
   "execution_count": 23,
   "id": "entertaining-invite",
   "metadata": {},
   "outputs": [
    {
     "data": {
      "text/plain": [
       "specialty vegetables     11\n",
       "organic products         10\n",
       "decalcifier               9\n",
       "hair spray                9\n",
       "liqueur                   9\n",
       "whisky                    8\n",
       "salad dressing            6\n",
       "make up remover           5\n",
       "toilet cleaner            5\n",
       "frozen chicken            5\n",
       "rubbing alcohol           5\n",
       "bags                      4\n",
       "baby cosmetics            3\n",
       "kitchen utensil           1\n",
       "preservation products     1\n",
       "Name: True, dtype: int64"
      ]
     },
     "execution_count": 23,
     "metadata": {},
     "output_type": "execute_result"
    }
   ],
   "source": [
    "bottom_fifteen_products = x[-15:]\n",
    "bottom_fifteen_products"
   ]
  },
  {
   "cell_type": "code",
   "execution_count": 24,
   "id": "tested-american",
   "metadata": {},
   "outputs": [
    {
     "data": {
      "text/plain": [
       "Text(0.5, 1.0, 'Fifteen products worst buy')"
      ]
     },
     "execution_count": 24,
     "metadata": {},
     "output_type": "execute_result"
    },
    {
     "data": {
      "image/png": "[encoded data removed]",
      "text/plain": [
       "<Figure size 576x288 with 1 Axes>"
      ]
     },
     "metadata": {
      "needs_background": "light"
     },
     "output_type": "display_data"
    }
   ],
   "source": [
    "pos = np.arange(len(bottom_fifteen_products.values))\n",
    "\n",
    "plt.figure(figsize=(8,4))\n",
    "plt.bar(pos, bottom_fifteen_products.values, align='center')\n",
    "plt.xticks(pos, bottom_fifteen_products.keys(), rotation='vertical')\n",
    "plt.ylabel('Buying Times')\n",
    "plt.xlabel('Names')\n",
    "plt.title('Fifteen products worst buy')"
   ]
  },
  {
   "cell_type": "code",
   "execution_count": null,
   "id": "elder-producer",
   "metadata": {},
   "outputs": [],
   "source": []
  }
 ],
 "metadata": {
  "kernelspec": {
   "display_name": "Python 3",
   "language": "python",
   "name": "python3"
  },
  "language_info": {
   "codemirror_mode": {
    "name": "ipython",
    "version": 3
   },
   "file_extension": ".py",
   "mimetype": "text/x-python",
   "name": "python",
   "nbconvert_exporter": "python",
   "pygments_lexer": "ipython3",
   "version": "3.8.3"
  }
 },
 "nbformat": 4,
 "nbformat_minor": 5
}
