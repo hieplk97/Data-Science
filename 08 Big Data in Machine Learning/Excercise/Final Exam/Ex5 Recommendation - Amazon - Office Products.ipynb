{
 "cells": [
  {
   "cell_type": "code",
   "execution_count": 1,
   "id": "rural-effects",
   "metadata": {},
   "outputs": [
    {
     "data": {
      "text/html": [
       "<style>pre { white-space: pre !important; }</style>"
      ],
      "text/plain": [
       "<IPython.core.display.HTML object>"
      ]
     },
     "metadata": {},
     "output_type": "display_data"
    }
   ],
   "source": [
    "from IPython.core.display import HTML\n",
    "display(HTML(\"<style>pre { white-space: pre !important; }</style>\"))"
   ]
  },
  {
   "cell_type": "code",
   "execution_count": 2,
   "id": "brutal-engine",
   "metadata": {},
   "outputs": [],
   "source": [
    "import findspark\n",
    "findspark.init()"
   ]
  },
  {
   "cell_type": "code",
   "execution_count": 3,
   "id": "separated-universal",
   "metadata": {},
   "outputs": [],
   "source": [
    "import pandas as pd\n",
    "import numpy as np\n",
    "import seaborn as sns\n",
    "import matplotlib.pyplot as plt"
   ]
  },
  {
   "cell_type": "code",
   "execution_count": 4,
   "id": "civic-postage",
   "metadata": {},
   "outputs": [],
   "source": [
    "from pyspark.sql import SparkSession\n",
    "from pyspark.sql.functions import col\n",
    "from pyspark.sql.types import StringType\n",
    "\n",
    "from pyspark.ml.feature import StringIndexer\n",
    "from pyspark.ml.recommendation import ALS\n",
    "from pyspark.ml.evaluation import RegressionEvaluator"
   ]
  },
  {
   "cell_type": "code",
   "execution_count": 5,
   "id": "apparent-forward",
   "metadata": {},
   "outputs": [],
   "source": [
    "spark = SparkSession .builder \\\n",
    "  .master(\"local[*]\")\\\n",
    "  .appName(\"amazon\")\\\n",
    "  .config(\"spark.memory.fraction\", 0.8)\\\n",
    "  .config(\"spark.executor.memory\", \"10g\")\\\n",
    "  .config(\"spark.driver.memory\", \"10g\")\\\n",
    "  .config(\"spark.sql.shuffle.partitions\" , \"800\")\\\n",
    "  .config(\"spark.memory.offHeap.enabled\",'true')\\\n",
    "  .config(\"spark.memory.offHeap.size\",\"10g\")\\\n",
    "  .getOrCreate()"
   ]
  },
  {
   "cell_type": "code",
   "execution_count": 6,
   "id": "blank-annex",
   "metadata": {},
   "outputs": [],
   "source": [
    "reviews = pd.read_csv('../../Data/ratings_Office_Products.csv',header=None)"
   ]
  },
  {
   "cell_type": "code",
   "execution_count": 7,
   "id": "heard-expression",
   "metadata": {},
   "outputs": [],
   "source": [
    "reviews.rename(columns={reviews.columns[0]: 'reviewerId',\n",
    "                        reviews.columns[1]: 'asin',\n",
    "                        reviews.columns[2]: 'overall',\n",
    "                        reviews.columns[3]: 'unixReviewTime'}, inplace=True)"
   ]
  },
  {
   "cell_type": "code",
   "execution_count": 8,
   "id": "expired-looking",
   "metadata": {},
   "outputs": [
    {
     "data": {
      "text/html": [
       "<div>\n",
       "<style scoped>\n",
       "    .dataframe tbody tr th:only-of-type {\n",
       "        vertical-align: middle;\n",
       "    }\n",
       "\n",
       "    .dataframe tbody tr th {\n",
       "        vertical-align: top;\n",
       "    }\n",
       "\n",
       "    .dataframe thead th {\n",
       "        text-align: right;\n",
       "    }\n",
       "</style>\n",
       "<table border=\"1\" class=\"dataframe\">\n",
       "  <thead>\n",
       "    <tr style=\"text-align: right;\">\n",
       "      <th></th>\n",
       "      <th>reviewerId</th>\n",
       "      <th>asin</th>\n",
       "      <th>overall</th>\n",
       "      <th>unixReviewTime</th>\n",
       "    </tr>\n",
       "  </thead>\n",
       "  <tbody>\n",
       "    <tr>\n",
       "      <th>0</th>\n",
       "      <td>A2UESEUCI73CBO</td>\n",
       "      <td>0078800242</td>\n",
       "      <td>5.0</td>\n",
       "      <td>1374192000</td>\n",
       "    </tr>\n",
       "    <tr>\n",
       "      <th>1</th>\n",
       "      <td>A3BBNK2R5TUYGV</td>\n",
       "      <td>0113000316</td>\n",
       "      <td>5.0</td>\n",
       "      <td>1359417600</td>\n",
       "    </tr>\n",
       "    <tr>\n",
       "      <th>2</th>\n",
       "      <td>A5J78T14FJ5DU</td>\n",
       "      <td>0113000316</td>\n",
       "      <td>3.0</td>\n",
       "      <td>1318723200</td>\n",
       "    </tr>\n",
       "    <tr>\n",
       "      <th>3</th>\n",
       "      <td>A2P462UH5L6T57</td>\n",
       "      <td>043928631X</td>\n",
       "      <td>5.0</td>\n",
       "      <td>1356912000</td>\n",
       "    </tr>\n",
       "    <tr>\n",
       "      <th>4</th>\n",
       "      <td>A2E0X1MWNRTQF4</td>\n",
       "      <td>0439340039</td>\n",
       "      <td>1.0</td>\n",
       "      <td>1379721600</td>\n",
       "    </tr>\n",
       "  </tbody>\n",
       "</table>\n",
       "</div>"
      ],
      "text/plain": [
       "       reviewerId        asin  overall  unixReviewTime\n",
       "0  A2UESEUCI73CBO  0078800242      5.0      1374192000\n",
       "1  A3BBNK2R5TUYGV  0113000316      5.0      1359417600\n",
       "2   A5J78T14FJ5DU  0113000316      3.0      1318723200\n",
       "3  A2P462UH5L6T57  043928631X      5.0      1356912000\n",
       "4  A2E0X1MWNRTQF4  0439340039      1.0      1379721600"
      ]
     },
     "execution_count": 8,
     "metadata": {},
     "output_type": "execute_result"
    }
   ],
   "source": [
    "reviews.head(5)"
   ]
  },
  {
   "cell_type": "code",
   "execution_count": 9,
   "id": "systematic-trainer",
   "metadata": {},
   "outputs": [
    {
     "data": {
      "text/plain": [
       "<AxesSubplot:>"
      ]
     },
     "execution_count": 9,
     "metadata": {},
     "output_type": "execute_result"
    },
    {
     "data": {
      "image/png": "[encoded data removed]",
      "text/plain": [
       "<Figure size 432x288 with 1 Axes>"
      ]
     },
     "metadata": {
      "needs_background": "light"
     },
     "output_type": "display_data"
    }
   ],
   "source": [
    "reviews['overall'].value_counts().plot.bar()"
   ]
  },
  {
   "cell_type": "markdown",
   "id": "alien-fleece",
   "metadata": {},
   "source": [
    "### Phần lớn review là 5*"
   ]
  },
  {
   "cell_type": "code",
   "execution_count": 10,
   "id": "suburban-communist",
   "metadata": {},
   "outputs": [],
   "source": [
    "users = reviews.reviewerId.nunique()\n",
    "products = reviews.asin.nunique()\n",
    "numberator = reviews.overall.count()"
   ]
  },
  {
   "cell_type": "code",
   "execution_count": 11,
   "id": "interracial-swimming",
   "metadata": {},
   "outputs": [
    {
     "name": "stdout",
     "output_type": "stream",
     "text": [
      "Number of unique reviewer: 909314\n",
      "Number of unique products: 130006\n",
      "Number of unique review: 1243186\n"
     ]
    }
   ],
   "source": [
    "print(\"Number of unique reviewer:\", users)\n",
    "print(\"Number of unique products:\", products)\n",
    "print(\"Number of unique review:\", numberator)"
   ]
  },
  {
   "cell_type": "code",
   "execution_count": 12,
   "id": "detected-facility",
   "metadata": {},
   "outputs": [
    {
     "data": {
      "text/plain": [
       "118216275884"
      ]
     },
     "execution_count": 12,
     "metadata": {},
     "output_type": "execute_result"
    }
   ],
   "source": [
    "# Number of rating matrix could contain if no empy cells\n",
    "denominator = users * products\n",
    "denominator"
   ]
  },
  {
   "cell_type": "code",
   "execution_count": 13,
   "id": "placed-confidence",
   "metadata": {},
   "outputs": [
    {
     "name": "stdout",
     "output_type": "stream",
     "text": [
      "Sparsity: 0.9999894838000039\n"
     ]
    }
   ],
   "source": [
    "# Calculating sparsity\n",
    "sparsity = 1 - (numberator * 1.0 / denominator)\n",
    "print(\"Sparsity:\", sparsity)"
   ]
  },
  {
   "cell_type": "code",
   "execution_count": 14,
   "id": "banner-snowboard",
   "metadata": {},
   "outputs": [],
   "source": [
    "data = spark.createDataFrame(reviews[['reviewerId', 'asin', 'overall']])"
   ]
  },
  {
   "cell_type": "code",
   "execution_count": 15,
   "id": "original-notification",
   "metadata": {},
   "outputs": [
    {
     "name": "stdout",
     "output_type": "stream",
     "text": [
      "+--------------+----------+-------+\n",
      "|    reviewerId|      asin|overall|\n",
      "+--------------+----------+-------+\n",
      "|A2UESEUCI73CBO|0078800242|    5.0|\n",
      "|A3BBNK2R5TUYGV|0113000316|    5.0|\n",
      "| A5J78T14FJ5DU|0113000316|    3.0|\n",
      "|A2P462UH5L6T57|043928631X|    5.0|\n",
      "|A2E0X1MWNRTQF4|0439340039|    1.0|\n",
      "+--------------+----------+-------+\n",
      "only showing top 5 rows\n",
      "\n"
     ]
    }
   ],
   "source": [
    "data.show(5)"
   ]
  },
  {
   "cell_type": "code",
   "execution_count": 16,
   "id": "reserved-commander",
   "metadata": {},
   "outputs": [],
   "source": [
    "# Create an indexer\n",
    "indexer = StringIndexer(inputCol='asin', outputCol='asin_idx')\n",
    "# Indexer identifies categories in the data\n",
    "indexer_model = indexer.fit(data)\n",
    "# Indexer create a new column with numeric index values\n",
    "data_indexed = indexer_model.transform(data)"
   ]
  },
  {
   "cell_type": "code",
   "execution_count": 17,
   "id": "accepted-impression",
   "metadata": {},
   "outputs": [],
   "source": [
    "# Repeat the process for the other categorical feature\n",
    "indexer1 = StringIndexer(inputCol='reviewerId', outputCol='reviewerId_idx')\n",
    "indexer1_model = indexer1.fit(data)\n",
    "data_indexed = indexer1_model.transform(data_indexed)"
   ]
  },
  {
   "cell_type": "code",
   "execution_count": 18,
   "id": "finite-villa",
   "metadata": {},
   "outputs": [
    {
     "name": "stdout",
     "output_type": "stream",
     "text": [
      "+--------------+----------+-------+--------+--------------+\n",
      "|    reviewerId|      asin|overall|asin_idx|reviewerId_idx|\n",
      "+--------------+----------+-------+--------+--------------+\n",
      "|A2UESEUCI73CBO|0078800242|    5.0| 71702.0|      112059.0|\n",
      "|A3BBNK2R5TUYGV|0113000316|    5.0| 51103.0|      621354.0|\n",
      "| A5J78T14FJ5DU|0113000316|    3.0| 51103.0|       26236.0|\n",
      "|A2P462UH5L6T57|043928631X|    5.0| 71703.0|      500720.0|\n",
      "|A2E0X1MWNRTQF4|0439340039|    1.0| 71704.0|      440389.0|\n",
      "+--------------+----------+-------+--------+--------------+\n",
      "only showing top 5 rows\n",
      "\n"
     ]
    }
   ],
   "source": [
    "data_indexed.show(5, truncate=True)"
   ]
  },
  {
   "cell_type": "code",
   "execution_count": 19,
   "id": "ideal-spiritual",
   "metadata": {},
   "outputs": [],
   "source": [
    "training, test = data_indexed.randomSplit([0.7, 0.3])"
   ]
  },
  {
   "cell_type": "code",
   "execution_count": 20,
   "id": "established-victory",
   "metadata": {},
   "outputs": [],
   "source": [
    "als = ALS(maxIter=5, regParam=0.09, rank=25,\n",
    "          userCol=\"reviewerId_idx\", itemCol=\"asin_idx\", ratingCol=\"overall\",\n",
    "          coldStartStrategy=\"drop\", nonnegative=True)\n",
    "model = als.fit(training)"
   ]
  },
  {
   "cell_type": "code",
   "execution_count": 21,
   "id": "labeled-overhead",
   "metadata": {},
   "outputs": [],
   "source": [
    "# Evaluate the model by computing the RMSE on the test data\n",
    "predictions = model.transform(test)"
   ]
  },
  {
   "cell_type": "code",
   "execution_count": 22,
   "id": "collect-collection",
   "metadata": {},
   "outputs": [
    {
     "name": "stdout",
     "output_type": "stream",
     "text": [
      "+--------+--------------+-------+----------+\n",
      "|asin_idx|reviewerId_idx|overall|prediction|\n",
      "+--------+--------------+-------+----------+\n",
      "|  1580.0|       20147.0|    5.0| 2.6504235|\n",
      "|  1580.0|       35533.0|    5.0| 1.6771224|\n",
      "|  1580.0|       22182.0|    5.0| 1.7683247|\n",
      "|  1580.0|       59223.0|    5.0|  3.437498|\n",
      "|  1580.0|       16896.0|    4.0|  5.971655|\n",
      "+--------+--------------+-------+----------+\n",
      "only showing top 5 rows\n",
      "\n"
     ]
    }
   ],
   "source": [
    "predictions.select([\"asin_idx\", \"reviewerId_idx\", \"overall\", \"prediction\"]).show(5)"
   ]
  },
  {
   "cell_type": "code",
   "execution_count": 23,
   "id": "expected-coordinate",
   "metadata": {},
   "outputs": [
    {
     "name": "stdout",
     "output_type": "stream",
     "text": [
      "Root mean squared error = 2.270532020346771\n"
     ]
    }
   ],
   "source": [
    "evaluator = RegressionEvaluator(metricName=\"rmse\", labelCol=\"overall\", predictionCol=\"prediction\")\n",
    "rmse = evaluator.evaluate(predictions)\n",
    "print(\"Root mean squared error =\", str(rmse))"
   ]
  },
  {
   "cell_type": "code",
   "execution_count": 24,
   "id": "waiting-block",
   "metadata": {},
   "outputs": [],
   "source": [
    "users = ['A00473363TJ8YSZ3YAGG9', 'A335QXPTV1RIV1', 'ATIMW8SYGAASW']"
   ]
  },
  {
   "cell_type": "code",
   "execution_count": 25,
   "id": "sitting-piano",
   "metadata": {},
   "outputs": [],
   "source": [
    "datasets = data_indexed.filter(data_indexed.reviewerId.isin(users)).select('reviewerId_idx').distinct()"
   ]
  },
  {
   "cell_type": "code",
   "execution_count": 26,
   "id": "peaceful-empire",
   "metadata": {},
   "outputs": [],
   "source": [
    "user_recs = model.recommendForUserSubset(datasets, 3)"
   ]
  },
  {
   "cell_type": "code",
   "execution_count": 27,
   "id": "developmental-torture",
   "metadata": {},
   "outputs": [],
   "source": [
    "result = user_recs.toPandas()"
   ]
  },
  {
   "cell_type": "code",
   "execution_count": 31,
   "id": "undefined-hybrid",
   "metadata": {},
   "outputs": [
    {
     "data": {
      "text/html": [
       "<div>\n",
       "<style scoped>\n",
       "    .dataframe tbody tr th:only-of-type {\n",
       "        vertical-align: middle;\n",
       "    }\n",
       "\n",
       "    .dataframe tbody tr th {\n",
       "        vertical-align: top;\n",
       "    }\n",
       "\n",
       "    .dataframe thead th {\n",
       "        text-align: right;\n",
       "    }\n",
       "</style>\n",
       "<table border=\"1\" class=\"dataframe\">\n",
       "  <thead>\n",
       "    <tr style=\"text-align: right;\">\n",
       "      <th></th>\n",
       "      <th>reviewerId_idx</th>\n",
       "      <th>recommendations</th>\n",
       "    </tr>\n",
       "  </thead>\n",
       "  <tbody>\n",
       "    <tr>\n",
       "      <th>0</th>\n",
       "      <td>2602</td>\n",
       "      <td>[(44515, 11.386368751525879), (90713, 10.82167...</td>\n",
       "    </tr>\n",
       "    <tr>\n",
       "      <th>1</th>\n",
       "      <td>2132</td>\n",
       "      <td>[(25690, 7.283169269561768), (66088, 7.2365217...</td>\n",
       "    </tr>\n",
       "    <tr>\n",
       "      <th>2</th>\n",
       "      <td>10981</td>\n",
       "      <td>[(54566, 9.222907066345215), (16581, 8.7635574...</td>\n",
       "    </tr>\n",
       "  </tbody>\n",
       "</table>\n",
       "</div>"
      ],
      "text/plain": [
       "   reviewerId_idx                                    recommendations\n",
       "0            2602  [(44515, 11.386368751525879), (90713, 10.82167...\n",
       "1            2132  [(25690, 7.283169269561768), (66088, 7.2365217...\n",
       "2           10981  [(54566, 9.222907066345215), (16581, 8.7635574..."
      ]
     },
     "execution_count": 31,
     "metadata": {},
     "output_type": "execute_result"
    }
   ],
   "source": [
    "result"
   ]
  },
  {
   "cell_type": "code",
   "execution_count": 39,
   "id": "miniature-joyce",
   "metadata": {},
   "outputs": [],
   "source": [
    "nrecs = result['recommendations'].apply(pd.Series).merge(result, right_index=True, left_index=True).drop([\"recommendations\"], axis=1).melt(id_vars=[\"reviewerId_idx\"], value_name=\"recommendation\").drop([\"variable\"], axis=1).dropna()\n",
    "nrecs = nrecs.sort_values('reviewerId_idx')\n",
    "nrecs = pd.concat([nrecs[\"recommendation\"].apply(pd.Series),\n",
    "                   nrecs[\"reviewerId_idx\"]], axis=1)\n",
    "nrecs.columns = ['ProductID_index', 'Rating', 'UserID_index']"
   ]
  },
  {
   "cell_type": "code",
   "execution_count": 40,
   "id": "posted-florist",
   "metadata": {},
   "outputs": [
    {
     "data": {
      "text/html": [
       "<div>\n",
       "<style scoped>\n",
       "    .dataframe tbody tr th:only-of-type {\n",
       "        vertical-align: middle;\n",
       "    }\n",
       "\n",
       "    .dataframe tbody tr th {\n",
       "        vertical-align: top;\n",
       "    }\n",
       "\n",
       "    .dataframe thead th {\n",
       "        text-align: right;\n",
       "    }\n",
       "</style>\n",
       "<table border=\"1\" class=\"dataframe\">\n",
       "  <thead>\n",
       "    <tr style=\"text-align: right;\">\n",
       "      <th></th>\n",
       "      <th>ProductID_index</th>\n",
       "      <th>Rating</th>\n",
       "      <th>UserID_index</th>\n",
       "    </tr>\n",
       "  </thead>\n",
       "  <tbody>\n",
       "    <tr>\n",
       "      <th>1</th>\n",
       "      <td>25690.0</td>\n",
       "      <td>7.283169</td>\n",
       "      <td>2132</td>\n",
       "    </tr>\n",
       "    <tr>\n",
       "      <th>4</th>\n",
       "      <td>66088.0</td>\n",
       "      <td>7.236522</td>\n",
       "      <td>2132</td>\n",
       "    </tr>\n",
       "    <tr>\n",
       "      <th>7</th>\n",
       "      <td>103794.0</td>\n",
       "      <td>7.167532</td>\n",
       "      <td>2132</td>\n",
       "    </tr>\n",
       "    <tr>\n",
       "      <th>0</th>\n",
       "      <td>44515.0</td>\n",
       "      <td>11.386369</td>\n",
       "      <td>2602</td>\n",
       "    </tr>\n",
       "    <tr>\n",
       "      <th>3</th>\n",
       "      <td>90713.0</td>\n",
       "      <td>10.821674</td>\n",
       "      <td>2602</td>\n",
       "    </tr>\n",
       "    <tr>\n",
       "      <th>6</th>\n",
       "      <td>28562.0</td>\n",
       "      <td>10.690786</td>\n",
       "      <td>2602</td>\n",
       "    </tr>\n",
       "    <tr>\n",
       "      <th>2</th>\n",
       "      <td>54566.0</td>\n",
       "      <td>9.222907</td>\n",
       "      <td>10981</td>\n",
       "    </tr>\n",
       "    <tr>\n",
       "      <th>5</th>\n",
       "      <td>16581.0</td>\n",
       "      <td>8.763557</td>\n",
       "      <td>10981</td>\n",
       "    </tr>\n",
       "    <tr>\n",
       "      <th>8</th>\n",
       "      <td>21573.0</td>\n",
       "      <td>8.707150</td>\n",
       "      <td>10981</td>\n",
       "    </tr>\n",
       "  </tbody>\n",
       "</table>\n",
       "</div>"
      ],
      "text/plain": [
       "   ProductID_index     Rating  UserID_index\n",
       "1          25690.0   7.283169          2132\n",
       "4          66088.0   7.236522          2132\n",
       "7         103794.0   7.167532          2132\n",
       "0          44515.0  11.386369          2602\n",
       "3          90713.0  10.821674          2602\n",
       "6          28562.0  10.690786          2602\n",
       "2          54566.0   9.222907         10981\n",
       "5          16581.0   8.763557         10981\n",
       "8          21573.0   8.707150         10981"
      ]
     },
     "execution_count": 40,
     "metadata": {},
     "output_type": "execute_result"
    }
   ],
   "source": [
    "nrecs"
   ]
  },
  {
   "cell_type": "code",
   "execution_count": null,
   "id": "desirable-surge",
   "metadata": {},
   "outputs": [],
   "source": []
  }
 ],
 "metadata": {
  "kernelspec": {
   "display_name": "Python 3",
   "language": "python",
   "name": "python3"
  },
  "language_info": {
   "codemirror_mode": {
    "name": "ipython",
    "version": 3
   },
   "file_extension": ".py",
   "mimetype": "text/x-python",
   "name": "python",
   "nbconvert_exporter": "python",
   "pygments_lexer": "ipython3",
   "version": "3.8.3"
  }
 },
 "nbformat": 4,
 "nbformat_minor": 5
}
