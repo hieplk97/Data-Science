{
 "cells": [
  {
   "cell_type": "code",
   "execution_count": 1,
   "metadata": {},
   "outputs": [
    {
     "name": "stderr",
     "output_type": "stream",
     "text": [
      "corrplot 0.84 loaded\n",
      "\n",
      "Loading required package: Rcpp\n",
      "\n",
      "## \n",
      "## Amelia II: Multiple Imputation\n",
      "## (Version 1.7.6, built: 2019-11-24)\n",
      "## Copyright (C) 2005-2021 James Honaker, Gary King and Matthew Blackwell\n",
      "## Refer to http://gking.harvard.edu/amelia/ for more information\n",
      "## \n",
      "\n",
      "Loading required package: lattice\n",
      "\n",
      "Loading required package: ggplot2\n",
      "\n"
     ]
    }
   ],
   "source": [
    "library(corrplot)\n",
    "library(Amelia)\n",
    "library(caret)"
   ]
  },
  {
   "cell_type": "code",
   "execution_count": 2,
   "metadata": {},
   "outputs": [],
   "source": [
    "data = read.csv('../../Data/binary.csv')"
   ]
  },
  {
   "cell_type": "code",
   "execution_count": 3,
   "metadata": {},
   "outputs": [
    {
     "data": {
      "text/html": [
       "<table>\n",
       "<caption>A data.frame: 6 × 4</caption>\n",
       "<thead>\n",
       "\t<tr><th></th><th scope=col>admit</th><th scope=col>gre</th><th scope=col>gpa</th><th scope=col>rank</th></tr>\n",
       "\t<tr><th></th><th scope=col>&lt;int&gt;</th><th scope=col>&lt;int&gt;</th><th scope=col>&lt;dbl&gt;</th><th scope=col>&lt;int&gt;</th></tr>\n",
       "</thead>\n",
       "<tbody>\n",
       "\t<tr><th scope=row>1</th><td>0</td><td>380</td><td>3.61</td><td>3</td></tr>\n",
       "\t<tr><th scope=row>2</th><td>1</td><td>660</td><td>3.67</td><td>3</td></tr>\n",
       "\t<tr><th scope=row>3</th><td>1</td><td>800</td><td>4.00</td><td>1</td></tr>\n",
       "\t<tr><th scope=row>4</th><td>1</td><td>640</td><td>3.19</td><td>4</td></tr>\n",
       "\t<tr><th scope=row>5</th><td>0</td><td>520</td><td>2.93</td><td>4</td></tr>\n",
       "\t<tr><th scope=row>6</th><td>1</td><td>760</td><td>3.00</td><td>2</td></tr>\n",
       "</tbody>\n",
       "</table>\n"
      ],
      "text/latex": [
       "A data.frame: 6 × 4\n",
       "\\begin{tabular}{r|llll}\n",
       "  & admit & gre & gpa & rank\\\\\n",
       "  & <int> & <int> & <dbl> & <int>\\\\\n",
       "\\hline\n",
       "\t1 & 0 & 380 & 3.61 & 3\\\\\n",
       "\t2 & 1 & 660 & 3.67 & 3\\\\\n",
       "\t3 & 1 & 800 & 4.00 & 1\\\\\n",
       "\t4 & 1 & 640 & 3.19 & 4\\\\\n",
       "\t5 & 0 & 520 & 2.93 & 4\\\\\n",
       "\t6 & 1 & 760 & 3.00 & 2\\\\\n",
       "\\end{tabular}\n"
      ],
      "text/markdown": [
       "\n",
       "A data.frame: 6 × 4\n",
       "\n",
       "| <!--/--> | admit &lt;int&gt; | gre &lt;int&gt; | gpa &lt;dbl&gt; | rank &lt;int&gt; |\n",
       "|---|---|---|---|---|\n",
       "| 1 | 0 | 380 | 3.61 | 3 |\n",
       "| 2 | 1 | 660 | 3.67 | 3 |\n",
       "| 3 | 1 | 800 | 4.00 | 1 |\n",
       "| 4 | 1 | 640 | 3.19 | 4 |\n",
       "| 5 | 0 | 520 | 2.93 | 4 |\n",
       "| 6 | 1 | 760 | 3.00 | 2 |\n",
       "\n"
      ],
      "text/plain": [
       "  admit gre gpa  rank\n",
       "1 0     380 3.61 3   \n",
       "2 1     660 3.67 3   \n",
       "3 1     800 4.00 1   \n",
       "4 1     640 3.19 4   \n",
       "5 0     520 2.93 4   \n",
       "6 1     760 3.00 2   "
      ]
     },
     "metadata": {},
     "output_type": "display_data"
    }
   ],
   "source": [
    "head(data)"
   ]
  },
  {
   "cell_type": "code",
   "execution_count": 4,
   "metadata": {},
   "outputs": [
    {
     "data": {
      "text/html": [
       "<table>\n",
       "<caption>A data.frame: 6 × 4</caption>\n",
       "<thead>\n",
       "\t<tr><th></th><th scope=col>admit</th><th scope=col>gre</th><th scope=col>gpa</th><th scope=col>rank</th></tr>\n",
       "\t<tr><th></th><th scope=col>&lt;int&gt;</th><th scope=col>&lt;int&gt;</th><th scope=col>&lt;dbl&gt;</th><th scope=col>&lt;int&gt;</th></tr>\n",
       "</thead>\n",
       "<tbody>\n",
       "\t<tr><th scope=row>395</th><td>1</td><td>460</td><td>3.99</td><td>3</td></tr>\n",
       "\t<tr><th scope=row>396</th><td>0</td><td>620</td><td>4.00</td><td>2</td></tr>\n",
       "\t<tr><th scope=row>397</th><td>0</td><td>560</td><td>3.04</td><td>3</td></tr>\n",
       "\t<tr><th scope=row>398</th><td>0</td><td>460</td><td>2.63</td><td>2</td></tr>\n",
       "\t<tr><th scope=row>399</th><td>0</td><td>700</td><td>3.65</td><td>2</td></tr>\n",
       "\t<tr><th scope=row>400</th><td>0</td><td>600</td><td>3.89</td><td>3</td></tr>\n",
       "</tbody>\n",
       "</table>\n"
      ],
      "text/latex": [
       "A data.frame: 6 × 4\n",
       "\\begin{tabular}{r|llll}\n",
       "  & admit & gre & gpa & rank\\\\\n",
       "  & <int> & <int> & <dbl> & <int>\\\\\n",
       "\\hline\n",
       "\t395 & 1 & 460 & 3.99 & 3\\\\\n",
       "\t396 & 0 & 620 & 4.00 & 2\\\\\n",
       "\t397 & 0 & 560 & 3.04 & 3\\\\\n",
       "\t398 & 0 & 460 & 2.63 & 2\\\\\n",
       "\t399 & 0 & 700 & 3.65 & 2\\\\\n",
       "\t400 & 0 & 600 & 3.89 & 3\\\\\n",
       "\\end{tabular}\n"
      ],
      "text/markdown": [
       "\n",
       "A data.frame: 6 × 4\n",
       "\n",
       "| <!--/--> | admit &lt;int&gt; | gre &lt;int&gt; | gpa &lt;dbl&gt; | rank &lt;int&gt; |\n",
       "|---|---|---|---|---|\n",
       "| 395 | 1 | 460 | 3.99 | 3 |\n",
       "| 396 | 0 | 620 | 4.00 | 2 |\n",
       "| 397 | 0 | 560 | 3.04 | 3 |\n",
       "| 398 | 0 | 460 | 2.63 | 2 |\n",
       "| 399 | 0 | 700 | 3.65 | 2 |\n",
       "| 400 | 0 | 600 | 3.89 | 3 |\n",
       "\n"
      ],
      "text/plain": [
       "    admit gre gpa  rank\n",
       "395 1     460 3.99 3   \n",
       "396 0     620 4.00 2   \n",
       "397 0     560 3.04 3   \n",
       "398 0     460 2.63 2   \n",
       "399 0     700 3.65 2   \n",
       "400 0     600 3.89 3   "
      ]
     },
     "metadata": {},
     "output_type": "display_data"
    }
   ],
   "source": [
    "tail(data)"
   ]
  },
  {
   "cell_type": "code",
   "execution_count": 5,
   "metadata": {},
   "outputs": [
    {
     "data": {
      "text/plain": [
       "     admit             gre             gpa             rank      \n",
       " Min.   :0.0000   Min.   :220.0   Min.   :2.260   Min.   :1.000  \n",
       " 1st Qu.:0.0000   1st Qu.:520.0   1st Qu.:3.130   1st Qu.:2.000  \n",
       " Median :0.0000   Median :580.0   Median :3.395   Median :2.000  \n",
       " Mean   :0.3175   Mean   :587.7   Mean   :3.390   Mean   :2.485  \n",
       " 3rd Qu.:1.0000   3rd Qu.:660.0   3rd Qu.:3.670   3rd Qu.:3.000  \n",
       " Max.   :1.0000   Max.   :800.0   Max.   :4.000   Max.   :4.000  "
      ]
     },
     "metadata": {},
     "output_type": "display_data"
    }
   ],
   "source": [
    "summary(data)"
   ]
  },
  {
   "cell_type": "code",
   "execution_count": 6,
   "metadata": {},
   "outputs": [
    {
     "data": {
      "image/png": "[encoded data removed]",
      "text/plain": [
       "Plot with title \"Missing values vs observed\""
      ]
     },
     "metadata": {
      "image/png": {
       "height": 420,
       "width": 420
      }
     },
     "output_type": "display_data"
    }
   ],
   "source": [
    "# Check missing value\n",
    "missmap(data, main = \"Missing values vs observed\")"
   ]
  },
  {
   "cell_type": "code",
   "execution_count": 7,
   "metadata": {},
   "outputs": [
    {
     "name": "stdout",
     "output_type": "stream",
     "text": [
      "\n",
      "  0   1 \n",
      "273 127 \n"
     ]
    }
   ],
   "source": [
    "# Count element in each Class\n",
    "print(table(data$admit))"
   ]
  },
  {
   "cell_type": "code",
   "execution_count": 8,
   "metadata": {},
   "outputs": [
    {
     "data": {
      "image/png": "[encoded data removed]",
      "text/plain": [
       "Plot with title \"rank\""
      ]
     },
     "metadata": {
      "image/png": {
       "height": 420,
       "width": 420
      }
     },
     "output_type": "display_data"
    }
   ],
   "source": [
    "par(mfrow = c(1, 3))\n",
    "boxplot(data$gre, main = \"gre\", \n",
    "        sub = paste(\"Outlier rows:\", boxplot.stats(data$gre)$out))\n",
    "boxplot(data$gpa, main = \"gpa\", \n",
    "        sub = paste(\"Outlier rows:\", boxplot.stats(data$gpa)$out))\n",
    "boxplot(data$rank, main = \"rank\", \n",
    "        sub = paste(\"Outlier rows:\", boxplot.stats(data$rank)$out))"
   ]
  },
  {
   "cell_type": "code",
   "execution_count": 9,
   "metadata": {},
   "outputs": [
    {
     "name": "stdout",
     "output_type": "stream",
     "text": [
      "[1] \"gre_outliers:\"\n",
      "[1] 300 300 220 300\n",
      "[1] \"Numrows: 3\"\n"
     ]
    }
   ],
   "source": [
    "gre_outliers = boxplot.stats(data$gre)$out\n",
    "print(\"gre_outliers:\")\n",
    "print(gre_outliers)\n",
    "print(paste(\"Numrows:\", sum(data$gre == gre_outliers[1])))"
   ]
  },
  {
   "cell_type": "code",
   "execution_count": 10,
   "metadata": {},
   "outputs": [
    {
     "name": "stdout",
     "output_type": "stream",
     "text": [
      "[1] \"gpa_outliers:\"\n",
      "[1] 2.26\n",
      "[1] \"Numrows: 1\"\n"
     ]
    }
   ],
   "source": [
    "gpa_outliers = boxplot.stats(data$gpa)$out\n",
    "print(\"gpa_outliers:\")\n",
    "print(gpa_outliers)\n",
    "print(paste(\"Numrows:\", sum(data$gpa == gpa_outliers[1])))"
   ]
  },
  {
   "cell_type": "code",
   "execution_count": 11,
   "metadata": {},
   "outputs": [
    {
     "name": "stdout",
     "output_type": "stream",
     "text": [
      "[1] \"rank_outliers:\"\n",
      "integer(0)\n",
      "[1] \"Numrows: NA\"\n"
     ]
    }
   ],
   "source": [
    "rank_outliers = boxplot.stats(data$rank)$out\n",
    "print(\"rank_outliers:\")\n",
    "print(rank_outliers)\n",
    "print(paste(\"Numrows:\", sum(data$rank == rank_outliers[1])))"
   ]
  },
  {
   "cell_type": "code",
   "execution_count": 12,
   "metadata": {},
   "outputs": [
    {
     "name": "stdout",
     "output_type": "stream",
     "text": [
      "[1] \"Before drop: 400\"\n",
      "[1] \"After drop 396\"\n"
     ]
    }
   ],
   "source": [
    "print(paste(\"Before drop:\", nrow(data)))\n",
    "data = data[data$gre != gre_outliers[1],]\n",
    "data = data[data$gpa != gpa_outliers[1],]\n",
    "print(paste(\"After drop\", nrow(data)))"
   ]
  },
  {
   "cell_type": "code",
   "execution_count": 13,
   "metadata": {},
   "outputs": [
    {
     "name": "stdout",
     "output_type": "stream",
     "text": [
      "            gre         gpa        rank\n",
      "gre   1.0000000  0.36594595 -0.11094266\n",
      "gpa   0.3659460  1.00000000 -0.04193439\n",
      "rank -0.1109427 -0.04193439  1.00000000\n"
     ]
    },
    {
     "data": {
      "image/png": "[encoded data removed]",
      "text/plain": [
       "Plot with title \"\""
      ]
     },
     "metadata": {
      "image/png": {
       "height": 420,
       "width": 420
      }
     },
     "output_type": "display_data"
    }
   ],
   "source": [
    "# Calculate the correlation between each pair of numeric variables\n",
    "correlations = cor(data[, 2:4])\n",
    "print(correlations)\n",
    "corrplot(correlations, method = \"circle\")"
   ]
  },
  {
   "cell_type": "code",
   "execution_count": 14,
   "metadata": {},
   "outputs": [
    {
     "name": "stdout",
     "output_type": "stream",
     "text": [
      "[1] 277\n",
      "[1] 119\n"
     ]
    }
   ],
   "source": [
    "# Create training and test data samples from orginal data\n",
    "set.seed(42) # Setting seed to reproduce results of ramdom sampling\n",
    "trainingRowIndex = sample(1: nrow(data), 0.7 * nrow(data))\n",
    "trainingData = data[trainingRowIndex, ]\n",
    "testData = data[- trainingRowIndex,]\n",
    "\n",
    "print(nrow(trainingData))\n",
    "print(nrow(testData))"
   ]
  },
  {
   "cell_type": "code",
   "execution_count": 15,
   "metadata": {},
   "outputs": [],
   "source": [
    "# estimate a logistic regression model using the glm (generalized linear model) function\n",
    "mylogit = glm(admit ~ gre+gpa+rank, data = trainingData, family = \"binomial\")"
   ]
  },
  {
   "cell_type": "code",
   "execution_count": 16,
   "metadata": {},
   "outputs": [
    {
     "name": "stdout",
     "output_type": "stream",
     "text": [
      "\n",
      "Call:\n",
      "glm(formula = admit ~ gre + gpa + rank, family = \"binomial\", \n",
      "    data = trainingData)\n",
      "\n",
      "Deviance Residuals: \n",
      "    Min       1Q   Median       3Q      Max  \n",
      "-1.6304  -0.9182  -0.6513   1.1352   2.1282  \n",
      "\n",
      "Coefficients:\n",
      "             Estimate Std. Error z value Pr(>|z|)    \n",
      "(Intercept) -3.739932   1.326928  -2.818 0.004825 ** \n",
      "gre          0.001974   0.001315   1.501 0.133443    \n",
      "gpa          0.943463   0.387480   2.435 0.014897 *  \n",
      "rank        -0.562940   0.150997  -3.728 0.000193 ***\n",
      "---\n",
      "Signif. codes:  0 '***' 0.001 '**' 0.01 '*' 0.05 '.' 0.1 ' ' 1\n",
      "\n",
      "(Dispersion parameter for binomial family taken to be 1)\n",
      "\n",
      "    Null deviance: 353.55  on 276  degrees of freedom\n",
      "Residual deviance: 325.04  on 273  degrees of freedom\n",
      "AIC: 333.04\n",
      "\n",
      "Number of Fisher Scoring iterations: 3\n",
      "\n"
     ]
    }
   ],
   "source": [
    "# Review dianostic measures\n",
    "print(summary(mylogit))"
   ]
  },
  {
   "cell_type": "code",
   "execution_count": 17,
   "metadata": {},
   "outputs": [
    {
     "name": "stdout",
     "output_type": "stream",
     "text": [
      "[1] \"Test data adimit vs predict (10 rows):\"\n",
      "    testAdmit pred_value.30.40.\n",
      "97          0                 0\n",
      "100         0                 0\n",
      "102         0                 0\n",
      "105         1                 1\n",
      "118         0                 1\n",
      "120         0                 0\n",
      "124         0                 0\n",
      "126         0                 0\n",
      "130         0                 0\n",
      "132         0                 0\n",
      "133         0                 0\n"
     ]
    }
   ],
   "source": [
    "pred = predict(mylogit, newdata = testData, type = \"response\")\n",
    "pred_value = ifelse(pred > 0.5, 1, 0)\n",
    "print(\"Test data adimit vs predict (10 rows):\")\n",
    "result = data.frame(testAdmit = testData$admit[30:40], pred_value[30:40])\n",
    "print(result)"
   ]
  },
  {
   "cell_type": "code",
   "execution_count": 18,
   "metadata": {},
   "outputs": [
    {
     "name": "stdout",
     "output_type": "stream",
     "text": [
      "[1] \"Accuracy s1: 0.672268907563025\"\n",
      "[1] \"Accuracy s2: 0.672268907563025\"\n"
     ]
    }
   ],
   "source": [
    "# Solution 1\n",
    "accuracy = table(pred_value, testData[, \"admit\"])\n",
    "accuracy = sum(diag(accuracy)) / sum(accuracy)\n",
    "print(paste(\"Accuracy s1:\", accuracy))\n",
    "# Solution 2\n",
    "misClasificError = mean(pred_value != testData$admit)\n",
    "print(paste(\"Accuracy s2:\", 1 - misClasificError))"
   ]
  },
  {
   "cell_type": "code",
   "execution_count": 19,
   "metadata": {},
   "outputs": [
    {
     "data": {
      "text/plain": [
       "Confusion Matrix and Statistics\n",
       "\n",
       "          Reference\n",
       "Prediction  0  1\n",
       "         0 72 25\n",
       "         1 14  8\n",
       "                                          \n",
       "               Accuracy : 0.6723          \n",
       "                 95% CI : (0.5802, 0.7555)\n",
       "    No Information Rate : 0.7227          \n",
       "    P-Value [Acc > NIR] : 0.9067          \n",
       "                                          \n",
       "                  Kappa : 0.0887          \n",
       "                                          \n",
       " Mcnemar's Test P-Value : 0.1093          \n",
       "                                          \n",
       "            Sensitivity : 0.8372          \n",
       "            Specificity : 0.2424          \n",
       "         Pos Pred Value : 0.7423          \n",
       "         Neg Pred Value : 0.3636          \n",
       "             Prevalence : 0.7227          \n",
       "         Detection Rate : 0.6050          \n",
       "   Detection Prevalence : 0.8151          \n",
       "      Balanced Accuracy : 0.5398          \n",
       "                                          \n",
       "       'Positive' Class : 0               \n",
       "                                          "
      ]
     },
     "metadata": {},
     "output_type": "display_data"
    }
   ],
   "source": [
    "confusionMatrix(as.factor(pred_value), as.factor(testData$admit))"
   ]
  },
  {
   "cell_type": "code",
   "execution_count": null,
   "metadata": {},
   "outputs": [],
   "source": []
  }
 ],
 "metadata": {
  "kernelspec": {
   "display_name": "R",
   "language": "R",
   "name": "ir"
  },
  "language_info": {
   "codemirror_mode": "r",
   "file_extension": ".r",
   "mimetype": "text/x-r-source",
   "name": "R",
   "pygments_lexer": "r",
   "version": "4.0.3"
  }
 },
 "nbformat": 4,
 "nbformat_minor": 4
}
