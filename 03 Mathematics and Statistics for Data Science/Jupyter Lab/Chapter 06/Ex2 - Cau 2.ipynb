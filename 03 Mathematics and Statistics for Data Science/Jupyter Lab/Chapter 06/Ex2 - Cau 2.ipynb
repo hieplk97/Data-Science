{
 "cells": [
  {
   "cell_type": "raw",
   "metadata": {},
   "source": [
    "\"\"\"============================================================================\n",
    "   Có 60% người mua xe thể thao là nam giới.  \n",
    "      1. Chọn loại phân phối. Tạo ra 10 mẫu (ngẫu nhiên) theo mô tả trên \n",
    "         với số lần lặp lại các thí nghiệm là 1000\n",
    "      2. Vẽ histogram quan sát. Nhận xét.\n",
    "      3. Trong 10 chủ xe thể thao được chọn ngẫu nhiên, tính xs có 7 nam giới.\n",
    "============================================================================\"\"\""
   ]
  },
  {
   "cell_type": "code",
   "execution_count": 1,
   "metadata": {},
   "outputs": [],
   "source": [
    "import math\n",
    "import seaborn as sns\n",
    "\n",
    "from scipy.stats import binom"
   ]
  },
  {
   "cell_type": "code",
   "execution_count": 3,
   "metadata": {},
   "outputs": [
    {
     "name": "stdout",
     "output_type": "stream",
     "text": [
      "P(X = 7) = 0.21499084799999998\n"
     ]
    },
    {
     "data": {
      "image/png": "[encoded data removed]",
      "text/plain": [
       "<Figure size 432x288 with 1 Axes>"
      ]
     },
     "metadata": {
      "needs_background": "light"
     },
     "output_type": "display_data"
    }
   ],
   "source": [
    "def combination(n, k):\n",
    "    # n!/(k!)(n-k)!\n",
    "    numerator   = math.factorial(n)\n",
    "    denominator = math.factorial(k) * math.factorial(n - k)\n",
    "\n",
    "    return (numerator / denominator)\n",
    "\n",
    "\n",
    "# 1. Chọn loại phân phối. Tạo ra 10 mẫu với 1000 lần lặp lại thí nghiệm\n",
    "#     X ~ Binomial(n, p)\n",
    "#     n: số mẫu thử nghiệm\n",
    "#     p: xác suất thành công\n",
    "#     size: số lần lặp lại (trials) thí nghiệm.\n",
    "n          = 10\n",
    "p          = 0.6\n",
    "size       = 1000\n",
    "data_binom = binom.rvs(n=n, p=p, size = size)\n",
    "\n",
    "# 2. Vẽ histogram quan sát. Nhận xét.\n",
    "ax = sns.distplot(data_binom, kde = False, color = 'blue',\n",
    "                  hist_kws = {'linewidth': 15, 'alpha': 1})\n",
    "ax.set(xlabel = 'Binomial Distribution', ylabel = 'Frequency')"
   ]
  },
  {
   "cell_type": "code",
   "execution_count": 4,
   "metadata": {},
   "outputs": [
    {
     "name": "stdout",
     "output_type": "stream",
     "text": [
      "P(X = 7) = 0.21499084799999998\n"
     ]
    }
   ],
   "source": [
    "# 3. Trong 10 chủ xe thể thao được chọn ngẫu nhiên, tính xs có 7 nam giới.\n",
    "#    f(k) = P(X = k) = P_x = n!/(k!)(n-k)! x p^k x (1-p)^(n-k)\n",
    "k     = 7\n",
    "P_X_k = combination(n, k) * math.pow(p, k) * math.pow(1 - p, n - k)\n",
    "print('P(X = 7) =', P_X_k)"
   ]
  }
 ],
 "metadata": {
  "kernelspec": {
   "display_name": "Python 3",
   "language": "python",
   "name": "python3"
  },
  "language_info": {
   "codemirror_mode": {
    "name": "ipython",
    "version": 3
   },
   "file_extension": ".py",
   "mimetype": "text/x-python",
   "name": "python",
   "nbconvert_exporter": "python",
   "pygments_lexer": "ipython3",
   "version": "3.8.5"
  }
 },
 "nbformat": 4,
 "nbformat_minor": 4
}
