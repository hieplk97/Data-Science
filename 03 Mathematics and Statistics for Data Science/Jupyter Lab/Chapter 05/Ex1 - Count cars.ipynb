{
 "cells": [
  {
   "cell_type": "raw",
   "metadata": {},
   "source": [
    "\"\"\"=============================================================================\n",
    "Bài toán: Một thanh tra giao thông đã đếm số lượng ô tô đi qua một điểm nhất định \n",
    "          trong 100 khoảng thời gian (cách nhau 20 phút). Các quan sát được liệt kê\n",
    "          trong tập tin count_cars.txt.\n",
    "   1. Tạo cars_array từ nội dung tập tin.\n",
    "   2. Vẽ biểu đồ phân phối tần suất của cars_array\n",
    "   3. Thống kê cơ bản cho cars_array; \n",
    "      mean, median, mode (những giá trị nào? số lần bao nhiêu?), max, min, ...\n",
    "   4. Tìm range\n",
    "   5. Cho biết giá trị ở phân vị thứ [5, 15, 25, 50, 75, 90] của cars_array. \n",
    "      Biểu diễn phân vị và giá trị tương ứng trên biểu đồ.\n",
    "   6. Vẽ boxplot của cars_array. \n",
    "      Dùng z-score để xác định outliers (indexes nào ? giá trị outliers ?)\n",
    "   7. Tìm IQR cho car_arrays\n",
    "   8. Tìm phương sai (variance) cùa cars_array\n",
    "   9. Tìm độ lệch chuẩn Standard deviation của cars_array\n",
    "   10. Tìm độ xiên (Skewness) của cars_array. Nhận xét kết quả.\n",
    "   11. Tìm độ nhọn Kurtosis của cars_array. Nhận xét kết quả.   \n",
    "=============================================================================\"\"\""
   ]
  },
  {
   "cell_type": "code",
   "execution_count": 10,
   "metadata": {},
   "outputs": [],
   "source": [
    "import numpy as np\n",
    "import matplotlib.pyplot as plt\n",
    "import seaborn as sns\n",
    "\n",
    "from numpy import mean, median\n",
    "from scipy import stats"
   ]
  },
  {
   "cell_type": "code",
   "execution_count": 24,
   "metadata": {},
   "outputs": [
    {
     "name": "stdout",
     "output_type": "stream",
     "text": [
      "====================================================\n",
      "*** 1. Tạo mảng dữ liệu chứa từ nội dung tập tin ***\n",
      "====================================================\n",
      "Data:\n",
      " 23 20 16 18 30 22 26 15 5 18\n",
      "14 17 11 37 21 6 10 20 22 25\n",
      "19 19 19 20 12 23 24 17 18 16\n",
      "27 16 28 26 15 29 19 35 20 17\n",
      "12 30 21 22 20 15 18 16 23 24\n",
      "15 24 28 19 24 22 17 19 8 18\n",
      "17 18 23 21 25 19 20 22 21 21\n",
      "16 20 19 11 23 17 23 13 17 26\n",
      "26 14 15 16 27 18 21 24 33 20\n",
      "21 27 18 22 17 20 14 21 22 19 \n",
      "\n",
      "Cars array:\n",
      " [23 20 16 18 30 22 26 15  5 18 14 17 11 37 21  6 10 20 22 25 19 19 19 20\n",
      " 12 23 24 17 18 16 27 16 28 26 15 29 19 35 20 17 12 30 21 22 20 15 18 16\n",
      " 23 24 15 24 28 19 24 22 17 19  8 18 17 18 23 21 25 19 20 22 21 21 16 20\n",
      " 19 11 23 17 23 13 17 26 26 14 15 16 27 18 21 24 33 20 21 27 18 22 17 20\n",
      " 14 21 22 19] \n",
      "\n"
     ]
    },
    {
     "data": {
      "text/plain": [
       "numpy.ndarray"
      ]
     },
     "execution_count": 24,
     "metadata": {},
     "output_type": "execute_result"
    }
   ],
   "source": [
    "print('====================================================')\n",
    "print('*** 1. Tạo mảng dữ liệu chứa từ nội dung tập tin ***')\n",
    "print('====================================================')\n",
    "LDS3folder = 'E:\\Data Science\\Mathematics and Statistics for Data Science\\Excercise'\n",
    "folder = LDS3folder + '\\Data\\B5/'\n",
    "f = open(folder + 'count_cars.txt', 'r')\n",
    "\n",
    "content = f.read()\n",
    "print('Data:\\n', content, '\\n')\n",
    "\n",
    "cars = content.split()\n",
    "cars = list(map(int, cars))\n",
    "cars_array = np.array(cars)\n",
    "print('Cars array:\\n', cars_array, '\\n')\n",
    "\n",
    "type(cars_array)"
   ]
  },
  {
   "cell_type": "code",
   "execution_count": 17,
   "metadata": {},
   "outputs": [
    {
     "name": "stdout",
     "output_type": "stream",
     "text": [
      "=======================================================\n",
      "*** 2. Vẽ biểu đồ phân phối tần suất của dữ liệu    ***\n",
      "=======================================================\n"
     ]
    },
    {
     "data": {
      "image/png": "[encoded data removed]",
      "text/plain": [
       "<Figure size 576x288 with 2 Axes>"
      ]
     },
     "metadata": {
      "needs_background": "light"
     },
     "output_type": "display_data"
    }
   ],
   "source": [
    "print('=======================================================')\n",
    "print('*** 2. Vẽ biểu đồ phân phối tần suất của dữ liệu    ***')\n",
    "print('=======================================================')\n",
    "plt.figure(figsize=(8, 4))\n",
    "plt.subplot(1, 2, 1)\n",
    "plt.hist(cars_array)\n",
    "plt.subplot(1, 2, 2)\n",
    "sns.distplot(cars_array)\n",
    "plt.show()"
   ]
  },
  {
   "cell_type": "code",
   "execution_count": 14,
   "metadata": {},
   "outputs": [
    {
     "name": "stdout",
     "output_type": "stream",
     "text": [
      "================================================\n",
      "*** 3. Những thống kê cơ bản trên dữ liệu    ***\n",
      "================================================\n",
      "Mean   x_    = 19.97\n",
      "MIN    x_min = 5\n",
      "MAX    x_max = 37\n",
      "Median x_med = 20.0\n",
      "Mode   x_mod = 19\n",
      "       f(x)  = 9\n"
     ]
    }
   ],
   "source": [
    "print('================================================')\n",
    "print('*** 3. Những thống kê cơ bản trên dữ liệu    ***')\n",
    "print('================================================')\n",
    "print('Mean   x_    =', mean(cars_array))\n",
    "print('MIN    x_min =', min(cars_array))\n",
    "print('MAX    x_max =', max(cars_array))\n",
    "print('Median x_med =', median(cars_array))\n",
    "x_mod = stats.mode(cars_array)\n",
    "print('Mode   x_mod =', x_mod[0][0])\n",
    "print('       f(x)  =', x_mod[1][0])  # số lần"
   ]
  },
  {
   "cell_type": "code",
   "execution_count": 15,
   "metadata": {},
   "outputs": [
    {
     "name": "stdout",
     "output_type": "stream",
     "text": [
      "================================================\n",
      "*** 4. Tìm range                             ***\n",
      "================================================\n",
      "Range        = 32\n"
     ]
    }
   ],
   "source": [
    "print('================================================')\n",
    "print('*** 4. Tìm range                             ***')\n",
    "print('================================================')\n",
    "range_cars = np.ptp(cars_array)\n",
    "print('Range        =', range_cars)"
   ]
  },
  {
   "cell_type": "code",
   "execution_count": 16,
   "metadata": {},
   "outputs": [
    {
     "name": "stdout",
     "output_type": "stream",
     "text": [
      "================================================\n",
      "*** 5. Tìm các giá trị bách phân vị          ***\n",
      "================================================\n",
      "Percentiles = [11. 15. 17. 20. 23. 27.]\n"
     ]
    },
    {
     "data": {
      "image/png": "[encoded data removed]",
      "text/plain": [
       "<Figure size 432x288 with 1 Axes>"
      ]
     },
     "metadata": {
      "needs_background": "light"
     },
     "output_type": "display_data"
    }
   ],
   "source": [
    "print('================================================')\n",
    "print('*** 5. Tìm các giá trị bách phân vị          ***')\n",
    "print('================================================')\n",
    "percentiles = np.array([5, 15, 25, 50, 75, 90])  # trục tung\n",
    "x = np.percentile(cars_array, percentiles)  # trục hoành\n",
    "print('Percentiles =', x)\n",
    "plt.plot(x, percentiles / 100, marker='D', color='red', linestyle='none')\n",
    "plt.show()"
   ]
  },
  {
   "cell_type": "code",
   "execution_count": 18,
   "metadata": {},
   "outputs": [
    {
     "name": "stdout",
     "output_type": "stream",
     "text": [
      "========================================================\n",
      "*** 6. Vẽ boxplot. Dùng z-score để xác định outliers ***\n",
      "========================================================\n",
      "Z-scores:\n",
      " [ 0.54874468  0.00543312 -0.71898231 -0.3567746   1.81647168  0.36764083\n",
      "  1.09205625 -0.90008617 -2.71112473 -0.3567746  -1.08119002 -0.53787845\n",
      " -1.62450159  3.08419867  0.18653697 -2.53002087 -1.80560545  0.00543312\n",
      "  0.36764083  0.9109524  -0.17567074 -0.17567074 -0.17567074  0.00543312\n",
      " -1.44339773  0.54874468  0.72984854 -0.53787845 -0.3567746  -0.71898231\n",
      "  1.27316011 -0.71898231  1.45426396  1.09205625 -0.90008617  1.63536782\n",
      " -0.17567074  2.72199096  0.00543312 -0.53787845 -1.44339773  1.81647168\n",
      "  0.18653697  0.36764083  0.00543312 -0.90008617 -0.3567746  -0.71898231\n",
      "  0.54874468  0.72984854 -0.90008617  0.72984854  1.45426396 -0.17567074\n",
      "  0.72984854  0.36764083 -0.53787845 -0.17567074 -2.16781316 -0.3567746\n",
      " -0.53787845 -0.3567746   0.54874468  0.18653697  0.9109524  -0.17567074\n",
      "  0.00543312  0.36764083  0.18653697  0.18653697 -0.71898231  0.00543312\n",
      " -0.17567074 -1.62450159  0.54874468 -0.53787845  0.54874468 -1.26229388\n",
      " -0.53787845  1.09205625  1.09205625 -1.08119002 -0.90008617 -0.71898231\n",
      "  1.27316011 -0.3567746   0.18653697  0.72984854  2.35978325  0.00543312\n",
      "  0.18653697  1.27316011 -0.3567746   0.36764083 -0.53787845  0.00543312\n",
      " -1.08119002  0.18653697  0.36764083 -0.17567074]\n",
      "Outlier(s) [ [8, 13, 15, 37] ]: [ 5 37  6 35]\n"
     ]
    },
    {
     "data": {
      "image/png": "[encoded data removed]",
      "text/plain": [
       "<Figure size 432x288 with 1 Axes>"
      ]
     },
     "metadata": {
      "needs_background": "light"
     },
     "output_type": "display_data"
    }
   ],
   "source": [
    "print('========================================================')\n",
    "print('*** 6. Vẽ boxplot. Dùng z-score để xác định outliers ***')\n",
    "print('========================================================')\n",
    "sns.boxplot(cars_array)\n",
    "\n",
    "z_scores = stats.zscore(cars_array)\n",
    "print('Z-scores:\\n', z_scores)\n",
    "\n",
    "## outliers\n",
    "outliers = z_scores[[(n <= -2.5) | (n >= 2.5) for n in z_scores]]\n",
    "indexes = [z_scores.tolist().index(i) for i in outliers]\n",
    "print('Outlier(s) [', indexes, ']:', cars_array[indexes])"
   ]
  },
  {
   "cell_type": "code",
   "execution_count": 19,
   "metadata": {},
   "outputs": [
    {
     "name": "stdout",
     "output_type": "stream",
     "text": [
      "================================================\n",
      "*** 7. Tìm IQR                               ***\n",
      "================================================\n",
      "IQR      = 6.0\n"
     ]
    }
   ],
   "source": [
    "print('================================================')\n",
    "print('*** 7. Tìm IQR                               ***')\n",
    "print('================================================')\n",
    "IQR = stats.iqr(cars_array)\n",
    "print('IQR      =', IQR)"
   ]
  },
  {
   "cell_type": "code",
   "execution_count": 20,
   "metadata": {},
   "outputs": [
    {
     "name": "stdout",
     "output_type": "stream",
     "text": [
      "================================================\n",
      "*** 8. Tìm phương sai                        ***\n",
      "================================================\n",
      "Variance = 30.489099999999993\n"
     ]
    }
   ],
   "source": [
    "print('================================================')\n",
    "print('*** 8. Tìm phương sai                        ***')\n",
    "print('================================================')\n",
    "var_cars = np.var(cars_array)\n",
    "print('Variance =', var_cars)"
   ]
  },
  {
   "cell_type": "code",
   "execution_count": 21,
   "metadata": {},
   "outputs": [
    {
     "name": "stdout",
     "output_type": "stream",
     "text": [
      "================================================\n",
      "*** 9. Tìm độ lệch chuẩn                     ***\n",
      "================================================\n",
      "Std-dev. = 5.52169358077755\n"
     ]
    }
   ],
   "source": [
    "print('================================================')\n",
    "print('*** 9. Tìm độ lệch chuẩn                     ***')\n",
    "print('================================================')\n",
    "std_cars = np.std(cars_array)\n",
    "print('Std-dev. =', std_cars)"
   ]
  },
  {
   "cell_type": "code",
   "execution_count": 22,
   "metadata": {},
   "outputs": [
    {
     "name": "stdout",
     "output_type": "stream",
     "text": [
      "================================================\n",
      "*** 10. Tìm độ nghiêng (skewness)            ***\n",
      "================================================\n",
      "Skewness = 0.21285259034645865\n"
     ]
    }
   ],
   "source": [
    "print('================================================')\n",
    "print('*** 10. Tìm độ nghiêng (skewness)            ***')\n",
    "print('================================================')\n",
    "skew_cars = stats.skew(cars_array)\n",
    "print('Skewness =', skew_cars)"
   ]
  },
  {
   "cell_type": "code",
   "execution_count": 23,
   "metadata": {},
   "outputs": [
    {
     "name": "stdout",
     "output_type": "stream",
     "text": [
      "================================================\n",
      "*** 11. Tìm độ nhọn kurtosis. Nhận xét.      ***\n",
      "================================================\n",
      "Excess Kurtosis = 0.9396339028047\n",
      "Kurtosis        = 3.9396339028047\n",
      "Số liệu thống kê: DescribeResult(nobs=100, minmax=(5, 37), mean=19.97, variance=30.797070707070702, skewness=0.21285259034645865, kurtosis=0.9396339028047)\n"
     ]
    }
   ],
   "source": [
    "print('================================================')\n",
    "print('*** 11. Tìm độ nhọn kurtosis. Nhận xét.      ***')\n",
    "print('================================================')\n",
    "kur_cars = stats.kurtosis(cars_array)  # fisher = True (default) --> (kur - 3)\n",
    "print('Excess Kurtosis =', kur_cars)\n",
    "\n",
    "kur_cars = stats.kurtosis(cars_array, fisher=False)\n",
    "print('Kurtosis        =', kur_cars)\n",
    "\n",
    "print('Số liệu thống kê:', stats.describe(cars_array))"
   ]
  },
  {
   "cell_type": "code",
   "execution_count": null,
   "metadata": {},
   "outputs": [],
   "source": []
  }
 ],
 "metadata": {
  "kernelspec": {
   "display_name": "Python 3",
   "language": "python",
   "name": "python3"
  },
  "language_info": {
   "codemirror_mode": {
    "name": "ipython",
    "version": 3
   },
   "file_extension": ".py",
   "mimetype": "text/x-python",
   "name": "python",
   "nbconvert_exporter": "python",
   "pygments_lexer": "ipython3",
   "version": "3.8.5"
  }
 },
 "nbformat": 4,
 "nbformat_minor": 4
}
