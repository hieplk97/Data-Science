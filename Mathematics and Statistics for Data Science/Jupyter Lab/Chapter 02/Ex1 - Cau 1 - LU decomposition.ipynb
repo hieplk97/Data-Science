{
 "cells": [
  {
   "cell_type": "raw",
   "metadata": {},
   "source": [
    "\"\"\"=============================================================================\n",
    "    Ex1: DECOMPOSITION\n",
    "    Câu 1: LU Decomposition\n",
    "        a) Tạo ma trận A(4 x 5) chứa các giá trị ngẫu nhiên trong khoảng 1 - 10\n",
    "        b) Phân tích thành các thành phần P, L, U. In kết quả\n",
    "        c) Tái tạo lại ma trận A từ các thành phần P, L, U\n",
    "=============================================================================\"\"\""
   ]
  },
  {
   "cell_type": "code",
   "execution_count": 1,
   "metadata": {},
   "outputs": [],
   "source": [
    "import numpy as np\n",
    "import random\n",
    "from scipy.linalg import lu"
   ]
  },
  {
   "cell_type": "code",
   "execution_count": 2,
   "metadata": {},
   "outputs": [],
   "source": [
    "##------------------------------------------------------------------------------\n",
    "## Hàm tạo 1 ma trận A[mxn] với giá trị ngẫu nhiên thuộc [start, end]\n",
    "##------------------------------------------------------------------------------\n",
    "def create_matrix_random(m, n, start, end):\n",
    "    mtr = []\n",
    "    for i in range(m):\n",
    "        row = []\n",
    "        for j in range(n):\n",
    "            a = random.randint(start, end + 1)\n",
    "\n",
    "            # Thêm giá trị vào dòng hiện hành \n",
    "            row.append(a)\n",
    "\n",
    "        # Thêm dòng vào ma trận    \n",
    "        mtr.append(row)\n",
    "\n",
    "    return np.array(mtr)"
   ]
  },
  {
   "cell_type": "code",
   "execution_count": 3,
   "metadata": {},
   "outputs": [
    {
     "name": "stdout",
     "output_type": "stream",
     "text": [
      "Ma trận A (5, 4) :\n",
      " [[ 4  6  8  9]\n",
      " [ 8  8  5  9]\n",
      " [ 7  6  8  1]\n",
      " [10  1  7  8]\n",
      " [ 4  7  4  3]]\n"
     ]
    }
   ],
   "source": [
    "## a) Tạo ma trận A(4 x 5) chứa các giá trị ngẫu nhiên trong khoảng 1 - 10\n",
    "## Ma trận HÌNH CHỮ NHẬT: A(m, n) = P_T(m, m).L(m, n).U(n, n)\n",
    "m, n, min, max = 5, 4, 1, 10\n",
    "A = create_matrix_random(m, n, min, max)\n",
    "print('Ma trận A', A.shape, ':\\n', A)"
   ]
  },
  {
   "cell_type": "code",
   "execution_count": 5,
   "metadata": {},
   "outputs": [
    {
     "name": "stdout",
     "output_type": "stream",
     "text": [
      "Ma trận P_T (5, 5) :\n",
      " [[0. 0. 1. 0. 0.]\n",
      " [0. 1. 0. 0. 0.]\n",
      " [0. 0. 0. 1. 0.]\n",
      " [1. 0. 0. 0. 0.]\n",
      " [0. 0. 0. 0. 1.]]\n",
      "Ma trận L (5, 4) :\n",
      " [[1.         0.         0.         0.        ]\n",
      " [0.8        1.         0.         0.        ]\n",
      " [0.4        0.77777778 1.         0.        ]\n",
      " [0.7        0.73611111 0.625      1.        ]\n",
      " [0.4        0.91666667 0.30882353 0.42253521]]\n",
      "Ma trận U (4, 4) :\n",
      " [[10.          1.          7.          8.        ]\n",
      " [ 0.          7.2        -0.6         2.6       ]\n",
      " [ 0.          0.          5.66666667  3.77777778]\n",
      " [ 0.          0.          0.         -8.875     ]]\n"
     ]
    }
   ],
   "source": [
    "## b) Phân tích thành các thành phần P, L, U. In kết quả\n",
    "P_T, L, U = lu(A)\n",
    "\n",
    "print('Ma trận P_T', P_T.shape, ':\\n', P_T)\n",
    "print('Ma trận L', L.shape, ':\\n', L)\n",
    "print('Ma trận U', U.shape, ':\\n', U)"
   ]
  },
  {
   "cell_type": "code",
   "execution_count": 6,
   "metadata": {},
   "outputs": [
    {
     "name": "stdout",
     "output_type": "stream",
     "text": [
      "Tái tạo ma trận A:\n",
      " [[ 4.  6.  8.  9.]\n",
      " [ 8.  8.  5.  9.]\n",
      " [ 7.  6.  8.  1.]\n",
      " [10.  1.  7.  8.]\n",
      " [ 4.  7.  4.  3.]]\n"
     ]
    }
   ],
   "source": [
    "## c) Tái tạo lại ma trận B từ các thành phần P, L, U\n",
    "print('Tái tạo ma trận A:\\n', P_T.dot(L).dot(U))"
   ]
  },
  {
   "cell_type": "code",
   "execution_count": null,
   "metadata": {},
   "outputs": [],
   "source": []
  }
 ],
 "metadata": {
  "kernelspec": {
   "display_name": "Python 3",
   "language": "python",
   "name": "python3"
  },
  "language_info": {
   "codemirror_mode": {
    "name": "ipython",
    "version": 3
   },
   "file_extension": ".py",
   "mimetype": "text/x-python",
   "name": "python",
   "nbconvert_exporter": "python",
   "pygments_lexer": "ipython3",
   "version": "3.8.5"
  }
 },
 "nbformat": 4,
 "nbformat_minor": 4
}
