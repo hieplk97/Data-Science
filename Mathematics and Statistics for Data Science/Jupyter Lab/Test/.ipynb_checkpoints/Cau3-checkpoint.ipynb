{
 "cells": [
  {
   "cell_type": "code",
   "execution_count": 17,
   "metadata": {},
   "outputs": [],
   "source": [
    "from math import sqrt\n",
    "from numpy import mean\n",
    "from numpy.random import seed, randn\n",
    "\n",
    "from scipy.stats import t, ttest_rel"
   ]
  },
  {
   "cell_type": "code",
   "execution_count": 18,
   "metadata": {},
   "outputs": [
    {
     "name": "stdout",
     "output_type": "stream",
     "text": [
      "[134, 130, 140, 151, 143, 134, 136, 144, 150, 135, 160, 141, 143, 140, 138, 141, 148, 146, 140, 146, 151, 138, 151, 139, 151, 128, 146, 147, 152, 142, 144, 134, 142, 146, 142, 136, 122, 134, 145, 147]\n"
     ]
    }
   ],
   "source": [
    "raw_1 = open(\"E:\\Data Science\\Mathematics and Statistics for Data Science\\Jupyter Lab\\Test\\Data\\Mau_1.txt\", \"r\")\n",
    "temp_1 = raw_1.read().split(\"\\n\")\n",
    "data_1 = np.asarray([x.split() for x in temp_1])\n",
    "array_1 = list(map(int, data_1.flatten()))\n",
    "\n",
    "raw_1.close()\n",
    "print(array_1)"
   ]
  },
  {
   "cell_type": "code",
   "execution_count": 19,
   "metadata": {},
   "outputs": [
    {
     "name": "stdout",
     "output_type": "stream",
     "text": [
      "[130, 145, 126, 146, 164, 130, 132, 152, 145, 129, 133, 155, 140, 127, 139, 137, 131, 126, 145, 148, 125, 132, 126, 126, 126, 135, 131, 129, 147, 136, 129, 136, 156, 146, 130, 146, 132, 142, 132, 132]\n"
     ]
    }
   ],
   "source": [
    "raw_2 = open(\"E:\\Data Science\\Mathematics and Statistics for Data Science\\Jupyter Lab\\Test\\Data\\Mau_2.txt\", \"r\")\n",
    "temp_2 = raw_2.read().split(\"\\n\")\n",
    "data_2 = np.asarray([x.split() for x in temp_2])\n",
    "array_2 = list(map(int, data_2.flatten()))\n",
    "\n",
    "raw_2.close()\n",
    "print(array_2)"
   ]
  },
  {
   "cell_type": "code",
   "execution_count": 21,
   "metadata": {},
   "outputs": [
    {
     "name": "stdout",
     "output_type": "stream",
     "text": [
      "t = 2.613, df = 39, cv = 1.685, p = 0.013\n",
      "(t >  critical value) ==> REJECT the H0 that the means are equal.\n"
     ]
    }
   ],
   "source": [
    "'''----------------------------------------------------------------------------\n",
    "   Cách 1: Tính toán truyền thống             \n",
    "----------------------------------------------------------------------------'''\n",
    "\n",
    "\n",
    "# ------------------------------------------------------------------------------\n",
    "# Function for calculating the t-test for two DEPENDENT samples\n",
    "# ------------------------------------------------------------------------------\n",
    "def dependent_T_test(data1, data2, alpha):\n",
    "    # Calculate 2 means\n",
    "    mean1, mean2 = mean(data1), mean(data2)\n",
    "\n",
    "    # Number of paired samples\n",
    "    n = len(data1)\n",
    "\n",
    "    # Sum squared difference between observations\n",
    "    d1 = sum([(data1[i] - data2[i]) ** 2 for i in range(n)])\n",
    "\n",
    "    # Sum difference between observations\n",
    "    d2 = sum([data1[i] - data2[i] for i in range(n)])\n",
    "\n",
    "    # Standard deviation of the difference between means\n",
    "    sd = sqrt((d1 - (d2 ** 2 / n)) / (n - 1))\n",
    "\n",
    "    # Standard error of the difference between the means\n",
    "    sed = sd / sqrt(n)\n",
    "\n",
    "    # Calculate the t statistic\n",
    "    t_stat = (mean1 - mean2) / sed\n",
    "\n",
    "    # Degrees of freedom\n",
    "    df = n - 1\n",
    "\n",
    "    # Calculate the critical value\n",
    "    cv = t.ppf(1.0 - alpha, df)\n",
    "\n",
    "    # calculate the p-value\n",
    "    p = (1.0 - t.cdf(abs(t_stat), df)) * 2.0\n",
    "\n",
    "    # Return everything\n",
    "    return t_stat, df, cv, p\n",
    "\n",
    "\n",
    "# ------------------------------------------------------------------------------\n",
    "# Calculate the t test\n",
    "# ------------------------------------------------------------------------------\n",
    "\n",
    "# Data\n",
    "seed(1)\n",
    "\n",
    "alpha = 0.05\n",
    "\n",
    "t_stat, df, cv, p = dependent_T_test(array_1, array_2, alpha)\n",
    "print('t = %.3f, df = %d, cv = %.3f, p = %.3f' % (t_stat, df, cv, p))\n",
    "\n",
    "# Interpret via critical value\n",
    "if abs(t_stat) <= cv:\n",
    "    print('(t <= critical value) ==> ACCEPT the H0 that the means are equal.')\n",
    "else:\n",
    "    print('(t >  critical value) ==> REJECT the H0 that the means are equal.')\n"
   ]
  },
  {
   "cell_type": "code",
   "execution_count": 22,
   "metadata": {},
   "outputs": [
    {
     "name": "stdout",
     "output_type": "stream",
     "text": [
      "\n",
      "t = 2.613, p = 0.013\n",
      "(p <= alpha) ==> REJECT the H0 that the means are equal.\n"
     ]
    }
   ],
   "source": [
    "'''----------------------------------------------------------------------------\n",
    "   Cách 2: Sử dụng Sử dụng scipy.stats import ttest_rel             \n",
    "----------------------------------------------------------------------------'''\n",
    "\n",
    "t_stat, p = ttest_rel(array_1, array_2)\n",
    "print('\\nt = %.3f, p = %.3f' % (t_stat, p))\n",
    "\n",
    "# Interpret via p-value\n",
    "if p > alpha:\n",
    "    print('(p >  alpha) ==> ACCEPT the H0 that the means are equal.')\n",
    "else:\n",
    "    print('(p <= alpha) ==> REJECT the H0 that the means are equal.')"
   ]
  },
  {
   "cell_type": "code",
   "execution_count": null,
   "metadata": {},
   "outputs": [],
   "source": []
  }
 ],
 "metadata": {
  "kernelspec": {
   "display_name": "Python 3",
   "language": "python",
   "name": "python3"
  },
  "language_info": {
   "codemirror_mode": {
    "name": "ipython",
    "version": 3
   },
   "file_extension": ".py",
   "mimetype": "text/x-python",
   "name": "python",
   "nbconvert_exporter": "python",
   "pygments_lexer": "ipython3",
   "version": "3.8.5"
  }
 },
 "nbformat": 4,
 "nbformat_minor": 4
}
