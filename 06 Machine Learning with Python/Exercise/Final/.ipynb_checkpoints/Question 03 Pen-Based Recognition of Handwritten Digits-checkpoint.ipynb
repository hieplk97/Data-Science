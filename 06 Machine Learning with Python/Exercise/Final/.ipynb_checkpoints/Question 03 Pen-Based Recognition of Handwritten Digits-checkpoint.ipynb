{
 "cells": [
  {
   "cell_type": "markdown",
   "id": "impossible-monroe",
   "metadata": {},
   "source": [
    "* Cho dữ liệu penbased-5an-nn.csv\n",
    "* Yêu cầu 1: Đọc dữ liệu, chuẩn hóa dữ liệu (nếu cần) và chọn một thuật toán thích hợp để thực  hiện việc xác định một mẫu là loại (class) nào (trong các loại 0, 1, 2, 3, 4, 5, 6, 7, 8, 9) dựa trên các thông tin được cung cấp.\n",
    "1. Áp dụng thuật toán thích hợp để xây dựng model. Dựa trên cơ sở nào để cho rằng thuật toán này thích hợp? \n",
    "2. Đánh giá model dựa trên train/test.\n",
    "3. Trực quan hóa kết quả (nếu có). Đưa ra một số nhận xét dựa trên kết quả.\n",
    "* Yêu cầu 2: Hãy áp dụng thuật toán PCA và thuật toán đã chọn ở Yêu cầu 1 để thực hiện việc xác định một mẫu là loại (class) nào (trong các loại 0, 1, 2, 3, 4, 5, 6, 7, 8, 9) dựa trên các thông tin được cung cấp. Nhận xét kết quả giữa việc có áp dụng PCA và không áp dụng PCA.\n"
   ]
  },
  {
   "cell_type": "code",
   "execution_count": 1,
   "id": "registered-listening",
   "metadata": {},
   "outputs": [],
   "source": [
    "import pandas as pd\n",
    "import numpy as np\n",
    "import matplotlib.pyplot as plt\n",
    "\n",
    "from sklearn.model_selection import train_test_split\n",
    "from sklearn.model_selection import cross_val_score\n",
    "\n",
    "from sklearn.linear_model import LogisticRegression\n",
    "from sklearn.naive_bayes import GaussianNB, MultinomialNB\n",
    "\n",
    "from sklearn.tree import DecisionTreeClassifier\n",
    "from sklearn.ensemble import RandomForestClassifier\n",
    "from sklearn.svm import SVC\n",
    "from sklearn.neighbors import KNeighborsClassifier\n",
    "\n",
    "from sklearn.metrics import accuracy_score, confusion_matrix, classification_report, roc_auc_score, roc_curve"
   ]
  },
  {
   "cell_type": "code",
   "execution_count": 2,
   "id": "involved-retirement",
   "metadata": {},
   "outputs": [],
   "source": [
    "cols = ['At1', 'At2', 'At3', 'At4', 'At5', 'At6', 'At7', 'At8',\n",
    "        'At9', 'At10','At11', 'At12', 'At13', 'At14', 'At15', 'At16', 'Class']\n",
    "df = pd.read_csv('../../Data/penbased-5an-nn.csv', header=None, names=cols)"
   ]
  },
  {
   "cell_type": "code",
   "execution_count": 3,
   "id": "cutting-muslim",
   "metadata": {},
   "outputs": [
    {
     "data": {
      "text/html": [
       "<div>\n",
       "<style scoped>\n",
       "    .dataframe tbody tr th:only-of-type {\n",
       "        vertical-align: middle;\n",
       "    }\n",
       "\n",
       "    .dataframe tbody tr th {\n",
       "        vertical-align: top;\n",
       "    }\n",
       "\n",
       "    .dataframe thead th {\n",
       "        text-align: right;\n",
       "    }\n",
       "</style>\n",
       "<table border=\"1\" class=\"dataframe\">\n",
       "  <thead>\n",
       "    <tr style=\"text-align: right;\">\n",
       "      <th></th>\n",
       "      <th>At1</th>\n",
       "      <th>At2</th>\n",
       "      <th>At3</th>\n",
       "      <th>At4</th>\n",
       "      <th>At5</th>\n",
       "      <th>At6</th>\n",
       "      <th>At7</th>\n",
       "      <th>At8</th>\n",
       "      <th>At9</th>\n",
       "      <th>At10</th>\n",
       "      <th>At11</th>\n",
       "      <th>At12</th>\n",
       "      <th>At13</th>\n",
       "      <th>At14</th>\n",
       "      <th>At15</th>\n",
       "      <th>At16</th>\n",
       "      <th>Class</th>\n",
       "    </tr>\n",
       "  </thead>\n",
       "  <tbody>\n",
       "    <tr>\n",
       "      <th>0</th>\n",
       "      <td>0</td>\n",
       "      <td>57</td>\n",
       "      <td>31</td>\n",
       "      <td>68</td>\n",
       "      <td>72</td>\n",
       "      <td>90</td>\n",
       "      <td>100</td>\n",
       "      <td>100</td>\n",
       "      <td>76</td>\n",
       "      <td>75</td>\n",
       "      <td>50</td>\n",
       "      <td>51</td>\n",
       "      <td>28</td>\n",
       "      <td>25</td>\n",
       "      <td>16</td>\n",
       "      <td>0</td>\n",
       "      <td>1</td>\n",
       "    </tr>\n",
       "    <tr>\n",
       "      <th>1</th>\n",
       "      <td>99</td>\n",
       "      <td>80</td>\n",
       "      <td>63</td>\n",
       "      <td>100</td>\n",
       "      <td>25</td>\n",
       "      <td>76</td>\n",
       "      <td>79</td>\n",
       "      <td>68</td>\n",
       "      <td>100</td>\n",
       "      <td>62</td>\n",
       "      <td>97</td>\n",
       "      <td>23</td>\n",
       "      <td>54</td>\n",
       "      <td>0</td>\n",
       "      <td>0</td>\n",
       "      <td>16</td>\n",
       "      <td>9</td>\n",
       "    </tr>\n",
       "    <tr>\n",
       "      <th>2</th>\n",
       "      <td>0</td>\n",
       "      <td>73</td>\n",
       "      <td>19</td>\n",
       "      <td>99</td>\n",
       "      <td>72</td>\n",
       "      <td>100</td>\n",
       "      <td>70</td>\n",
       "      <td>73</td>\n",
       "      <td>32</td>\n",
       "      <td>48</td>\n",
       "      <td>5</td>\n",
       "      <td>18</td>\n",
       "      <td>46</td>\n",
       "      <td>0</td>\n",
       "      <td>100</td>\n",
       "      <td>72</td>\n",
       "      <td>2</td>\n",
       "    </tr>\n",
       "    <tr>\n",
       "      <th>3</th>\n",
       "      <td>12</td>\n",
       "      <td>77</td>\n",
       "      <td>20</td>\n",
       "      <td>62</td>\n",
       "      <td>78</td>\n",
       "      <td>40</td>\n",
       "      <td>50</td>\n",
       "      <td>0</td>\n",
       "      <td>1</td>\n",
       "      <td>17</td>\n",
       "      <td>0</td>\n",
       "      <td>64</td>\n",
       "      <td>23</td>\n",
       "      <td>98</td>\n",
       "      <td>100</td>\n",
       "      <td>100</td>\n",
       "      <td>5</td>\n",
       "    </tr>\n",
       "    <tr>\n",
       "      <th>4</th>\n",
       "      <td>0</td>\n",
       "      <td>98</td>\n",
       "      <td>36</td>\n",
       "      <td>42</td>\n",
       "      <td>80</td>\n",
       "      <td>85</td>\n",
       "      <td>68</td>\n",
       "      <td>42</td>\n",
       "      <td>56</td>\n",
       "      <td>0</td>\n",
       "      <td>25</td>\n",
       "      <td>23</td>\n",
       "      <td>50</td>\n",
       "      <td>37</td>\n",
       "      <td>100</td>\n",
       "      <td>32</td>\n",
       "      <td>7</td>\n",
       "    </tr>\n",
       "  </tbody>\n",
       "</table>\n",
       "</div>"
      ],
      "text/plain": [
       "   At1  At2  At3  At4  At5  At6  At7  At8  At9  At10  At11  At12  At13  At14  \\\n",
       "0    0   57   31   68   72   90  100  100   76    75    50    51    28    25   \n",
       "1   99   80   63  100   25   76   79   68  100    62    97    23    54     0   \n",
       "2    0   73   19   99   72  100   70   73   32    48     5    18    46     0   \n",
       "3   12   77   20   62   78   40   50    0    1    17     0    64    23    98   \n",
       "4    0   98   36   42   80   85   68   42   56     0    25    23    50    37   \n",
       "\n",
       "   At15  At16  Class  \n",
       "0    16     0      1  \n",
       "1     0    16      9  \n",
       "2   100    72      2  \n",
       "3   100   100      5  \n",
       "4   100    32      7  "
      ]
     },
     "execution_count": 3,
     "metadata": {},
     "output_type": "execute_result"
    }
   ],
   "source": [
    "df.head()"
   ]
  },
  {
   "cell_type": "code",
   "execution_count": 4,
   "id": "adult-determination",
   "metadata": {},
   "outputs": [
    {
     "data": {
      "text/html": [
       "<div>\n",
       "<style scoped>\n",
       "    .dataframe tbody tr th:only-of-type {\n",
       "        vertical-align: middle;\n",
       "    }\n",
       "\n",
       "    .dataframe tbody tr th {\n",
       "        vertical-align: top;\n",
       "    }\n",
       "\n",
       "    .dataframe thead th {\n",
       "        text-align: right;\n",
       "    }\n",
       "</style>\n",
       "<table border=\"1\" class=\"dataframe\">\n",
       "  <thead>\n",
       "    <tr style=\"text-align: right;\">\n",
       "      <th></th>\n",
       "      <th>At1</th>\n",
       "      <th>At2</th>\n",
       "      <th>At3</th>\n",
       "      <th>At4</th>\n",
       "      <th>At5</th>\n",
       "      <th>At6</th>\n",
       "      <th>At7</th>\n",
       "      <th>At8</th>\n",
       "      <th>At9</th>\n",
       "      <th>At10</th>\n",
       "      <th>At11</th>\n",
       "      <th>At12</th>\n",
       "      <th>At13</th>\n",
       "      <th>At14</th>\n",
       "      <th>At15</th>\n",
       "      <th>At16</th>\n",
       "      <th>Class</th>\n",
       "    </tr>\n",
       "  </thead>\n",
       "  <tbody>\n",
       "    <tr>\n",
       "      <th>count</th>\n",
       "      <td>10992.000000</td>\n",
       "      <td>10992.000000</td>\n",
       "      <td>10992.000000</td>\n",
       "      <td>10992.000000</td>\n",
       "      <td>10992.000000</td>\n",
       "      <td>10992.000000</td>\n",
       "      <td>10992.000000</td>\n",
       "      <td>10992.000000</td>\n",
       "      <td>10992.000000</td>\n",
       "      <td>10992.000000</td>\n",
       "      <td>10992.000000</td>\n",
       "      <td>10992.000000</td>\n",
       "      <td>10992.000000</td>\n",
       "      <td>10992.000000</td>\n",
       "      <td>10992.000000</td>\n",
       "      <td>10992.000000</td>\n",
       "      <td>10992.000000</td>\n",
       "    </tr>\n",
       "    <tr>\n",
       "      <th>mean</th>\n",
       "      <td>39.505277</td>\n",
       "      <td>83.219159</td>\n",
       "      <td>41.046488</td>\n",
       "      <td>82.074509</td>\n",
       "      <td>49.764374</td>\n",
       "      <td>64.793031</td>\n",
       "      <td>51.261372</td>\n",
       "      <td>44.677584</td>\n",
       "      <td>56.449236</td>\n",
       "      <td>34.557041</td>\n",
       "      <td>60.086881</td>\n",
       "      <td>35.706423</td>\n",
       "      <td>54.602074</td>\n",
       "      <td>35.654021</td>\n",
       "      <td>47.381823</td>\n",
       "      <td>29.784934</td>\n",
       "      <td>4.431587</td>\n",
       "    </tr>\n",
       "    <tr>\n",
       "      <th>std</th>\n",
       "      <td>34.185374</td>\n",
       "      <td>19.044205</td>\n",
       "      <td>26.651870</td>\n",
       "      <td>21.033427</td>\n",
       "      <td>33.839527</td>\n",
       "      <td>27.323795</td>\n",
       "      <td>30.513046</td>\n",
       "      <td>29.884245</td>\n",
       "      <td>33.933970</td>\n",
       "      <td>27.598896</td>\n",
       "      <td>36.953507</td>\n",
       "      <td>27.481161</td>\n",
       "      <td>22.819585</td>\n",
       "      <td>33.126822</td>\n",
       "      <td>41.267376</td>\n",
       "      <td>35.721699</td>\n",
       "      <td>2.876947</td>\n",
       "    </tr>\n",
       "    <tr>\n",
       "      <th>min</th>\n",
       "      <td>0.000000</td>\n",
       "      <td>0.000000</td>\n",
       "      <td>0.000000</td>\n",
       "      <td>0.000000</td>\n",
       "      <td>0.000000</td>\n",
       "      <td>0.000000</td>\n",
       "      <td>0.000000</td>\n",
       "      <td>0.000000</td>\n",
       "      <td>0.000000</td>\n",
       "      <td>0.000000</td>\n",
       "      <td>0.000000</td>\n",
       "      <td>0.000000</td>\n",
       "      <td>0.000000</td>\n",
       "      <td>0.000000</td>\n",
       "      <td>0.000000</td>\n",
       "      <td>0.000000</td>\n",
       "      <td>0.000000</td>\n",
       "    </tr>\n",
       "    <tr>\n",
       "      <th>25%</th>\n",
       "      <td>7.000000</td>\n",
       "      <td>75.000000</td>\n",
       "      <td>20.000000</td>\n",
       "      <td>70.000000</td>\n",
       "      <td>18.000000</td>\n",
       "      <td>48.000000</td>\n",
       "      <td>28.000000</td>\n",
       "      <td>23.000000</td>\n",
       "      <td>28.000000</td>\n",
       "      <td>8.000000</td>\n",
       "      <td>24.000000</td>\n",
       "      <td>12.000000</td>\n",
       "      <td>41.000000</td>\n",
       "      <td>6.000000</td>\n",
       "      <td>0.000000</td>\n",
       "      <td>0.000000</td>\n",
       "      <td>2.000000</td>\n",
       "    </tr>\n",
       "    <tr>\n",
       "      <th>50%</th>\n",
       "      <td>33.000000</td>\n",
       "      <td>88.000000</td>\n",
       "      <td>40.000000</td>\n",
       "      <td>89.000000</td>\n",
       "      <td>53.000000</td>\n",
       "      <td>70.000000</td>\n",
       "      <td>54.000000</td>\n",
       "      <td>43.000000</td>\n",
       "      <td>59.000000</td>\n",
       "      <td>34.000000</td>\n",
       "      <td>72.000000</td>\n",
       "      <td>31.000000</td>\n",
       "      <td>53.000000</td>\n",
       "      <td>28.000000</td>\n",
       "      <td>41.000000</td>\n",
       "      <td>11.000000</td>\n",
       "      <td>4.000000</td>\n",
       "    </tr>\n",
       "    <tr>\n",
       "      <th>75%</th>\n",
       "      <td>66.000000</td>\n",
       "      <td>100.000000</td>\n",
       "      <td>59.000000</td>\n",
       "      <td>100.000000</td>\n",
       "      <td>78.000000</td>\n",
       "      <td>86.000000</td>\n",
       "      <td>74.000000</td>\n",
       "      <td>65.000000</td>\n",
       "      <td>88.000000</td>\n",
       "      <td>55.000000</td>\n",
       "      <td>96.000000</td>\n",
       "      <td>57.000000</td>\n",
       "      <td>68.000000</td>\n",
       "      <td>51.000000</td>\n",
       "      <td>100.000000</td>\n",
       "      <td>55.000000</td>\n",
       "      <td>7.000000</td>\n",
       "    </tr>\n",
       "    <tr>\n",
       "      <th>max</th>\n",
       "      <td>100.000000</td>\n",
       "      <td>100.000000</td>\n",
       "      <td>100.000000</td>\n",
       "      <td>100.000000</td>\n",
       "      <td>100.000000</td>\n",
       "      <td>100.000000</td>\n",
       "      <td>100.000000</td>\n",
       "      <td>100.000000</td>\n",
       "      <td>100.000000</td>\n",
       "      <td>100.000000</td>\n",
       "      <td>100.000000</td>\n",
       "      <td>100.000000</td>\n",
       "      <td>100.000000</td>\n",
       "      <td>100.000000</td>\n",
       "      <td>100.000000</td>\n",
       "      <td>100.000000</td>\n",
       "      <td>9.000000</td>\n",
       "    </tr>\n",
       "  </tbody>\n",
       "</table>\n",
       "</div>"
      ],
      "text/plain": [
       "                At1           At2           At3           At4           At5  \\\n",
       "count  10992.000000  10992.000000  10992.000000  10992.000000  10992.000000   \n",
       "mean      39.505277     83.219159     41.046488     82.074509     49.764374   \n",
       "std       34.185374     19.044205     26.651870     21.033427     33.839527   \n",
       "min        0.000000      0.000000      0.000000      0.000000      0.000000   \n",
       "25%        7.000000     75.000000     20.000000     70.000000     18.000000   \n",
       "50%       33.000000     88.000000     40.000000     89.000000     53.000000   \n",
       "75%       66.000000    100.000000     59.000000    100.000000     78.000000   \n",
       "max      100.000000    100.000000    100.000000    100.000000    100.000000   \n",
       "\n",
       "                At6           At7           At8           At9          At10  \\\n",
       "count  10992.000000  10992.000000  10992.000000  10992.000000  10992.000000   \n",
       "mean      64.793031     51.261372     44.677584     56.449236     34.557041   \n",
       "std       27.323795     30.513046     29.884245     33.933970     27.598896   \n",
       "min        0.000000      0.000000      0.000000      0.000000      0.000000   \n",
       "25%       48.000000     28.000000     23.000000     28.000000      8.000000   \n",
       "50%       70.000000     54.000000     43.000000     59.000000     34.000000   \n",
       "75%       86.000000     74.000000     65.000000     88.000000     55.000000   \n",
       "max      100.000000    100.000000    100.000000    100.000000    100.000000   \n",
       "\n",
       "               At11          At12          At13          At14          At15  \\\n",
       "count  10992.000000  10992.000000  10992.000000  10992.000000  10992.000000   \n",
       "mean      60.086881     35.706423     54.602074     35.654021     47.381823   \n",
       "std       36.953507     27.481161     22.819585     33.126822     41.267376   \n",
       "min        0.000000      0.000000      0.000000      0.000000      0.000000   \n",
       "25%       24.000000     12.000000     41.000000      6.000000      0.000000   \n",
       "50%       72.000000     31.000000     53.000000     28.000000     41.000000   \n",
       "75%       96.000000     57.000000     68.000000     51.000000    100.000000   \n",
       "max      100.000000    100.000000    100.000000    100.000000    100.000000   \n",
       "\n",
       "               At16         Class  \n",
       "count  10992.000000  10992.000000  \n",
       "mean      29.784934      4.431587  \n",
       "std       35.721699      2.876947  \n",
       "min        0.000000      0.000000  \n",
       "25%        0.000000      2.000000  \n",
       "50%       11.000000      4.000000  \n",
       "75%       55.000000      7.000000  \n",
       "max      100.000000      9.000000  "
      ]
     },
     "execution_count": 4,
     "metadata": {},
     "output_type": "execute_result"
    }
   ],
   "source": [
    "df.describe()"
   ]
  },
  {
   "cell_type": "code",
   "execution_count": 5,
   "id": "familiar-inspiration",
   "metadata": {},
   "outputs": [
    {
     "name": "stdout",
     "output_type": "stream",
     "text": [
      "<class 'pandas.core.frame.DataFrame'>\n",
      "RangeIndex: 10992 entries, 0 to 10991\n",
      "Data columns (total 17 columns):\n",
      " #   Column  Non-Null Count  Dtype\n",
      "---  ------  --------------  -----\n",
      " 0   At1     10992 non-null  int64\n",
      " 1   At2     10992 non-null  int64\n",
      " 2   At3     10992 non-null  int64\n",
      " 3   At4     10992 non-null  int64\n",
      " 4   At5     10992 non-null  int64\n",
      " 5   At6     10992 non-null  int64\n",
      " 6   At7     10992 non-null  int64\n",
      " 7   At8     10992 non-null  int64\n",
      " 8   At9     10992 non-null  int64\n",
      " 9   At10    10992 non-null  int64\n",
      " 10  At11    10992 non-null  int64\n",
      " 11  At12    10992 non-null  int64\n",
      " 12  At13    10992 non-null  int64\n",
      " 13  At14    10992 non-null  int64\n",
      " 14  At15    10992 non-null  int64\n",
      " 15  At16    10992 non-null  int64\n",
      " 16  Class   10992 non-null  int64\n",
      "dtypes: int64(17)\n",
      "memory usage: 1.4 MB\n"
     ]
    }
   ],
   "source": [
    "df.info()"
   ]
  },
  {
   "cell_type": "code",
   "execution_count": 6,
   "id": "italic-compression",
   "metadata": {},
   "outputs": [],
   "source": [
    "X = df.iloc[:, 0:15]\n",
    "y = df['Class']\n",
    "entries = []"
   ]
  },
  {
   "cell_type": "code",
   "execution_count": 7,
   "id": "earned-trader",
   "metadata": {},
   "outputs": [],
   "source": [
    "X_train, X_test, y_train, y_test = train_test_split(X, y, random_state=42)"
   ]
  },
  {
   "cell_type": "code",
   "execution_count": 8,
   "id": "educated-noise",
   "metadata": {},
   "outputs": [],
   "source": [
    "def create_model(clf, X_train, X_test, y_train, y_test, model_name):\n",
    "    model = clf.fit(X_train,y_train)\n",
    "    y_pred = model.predict(X_test)\n",
    "    \n",
    "    print(\"Accuracy:\", accuracy_score(y_test, y_pred)*100,\"%\")\n",
    "    # Kiểm tra độ chính xác\n",
    "    print(\"The Training prediction accuracy is: \", clf.score(X_train,y_train)*100,\"%\")\n",
    "    print(\"The Testing prediction accuracy is: \", clf.score(X_test,y_test)*100,\"%\")\n",
    "    print(\"\\n Confusion Matrix \\n\", confusion_matrix(y_test, y_pred))\n",
    "    print(classification_report(y_test, y_pred))\n",
    "    \n",
    "    accuracies = cross_val_score(model, X, y, scoring='accuracy')\n",
    "    entries.append([model_name, accuracies.mean()])\n",
    "    return model"
   ]
  },
  {
   "cell_type": "markdown",
   "id": "biblical-print",
   "metadata": {},
   "source": [
    "## Decision Tree"
   ]
  },
  {
   "cell_type": "code",
   "execution_count": 9,
   "id": "naval-match",
   "metadata": {},
   "outputs": [
    {
     "name": "stdout",
     "output_type": "stream",
     "text": [
      "Accuracy: 88.68267831149927 %\n",
      "The Training prediction accuracy is:  100.0 %\n",
      "The Testing prediction accuracy is:  88.68267831149927 %\n",
      "\n",
      " Confusion Matrix \n",
      " [[265   0   0   1   2   0   5   2   9   1]\n",
      " [  1 265  14   5   3   0   4   4   3   5]\n",
      " [  0  19 253   3   0   3   1   7   2   0]\n",
      " [  0   5   1 233   0  12   1   3   5   4]\n",
      " [  4   2   0   0 265   3   2   4   3   6]\n",
      " [  0   2   1  13   0 235   2   2  12   7]\n",
      " [  2   1   2   2   2   2 240   1   4   3]\n",
      " [  0  11   6   6   0   2   1 247   7   3]\n",
      " [  9   4   2   4   3   3   1   9 215   3]\n",
      " [  1   3   0   6   4   8   0   1   7 219]]\n",
      "              precision    recall  f1-score   support\n",
      "\n",
      "           0       0.94      0.93      0.93       285\n",
      "           1       0.85      0.87      0.86       304\n",
      "           2       0.91      0.88      0.89       288\n",
      "           3       0.85      0.88      0.87       264\n",
      "           4       0.95      0.92      0.93       289\n",
      "           5       0.88      0.86      0.87       274\n",
      "           6       0.93      0.93      0.93       259\n",
      "           7       0.88      0.87      0.88       283\n",
      "           8       0.81      0.85      0.83       253\n",
      "           9       0.87      0.88      0.88       249\n",
      "\n",
      "    accuracy                           0.89      2748\n",
      "   macro avg       0.89      0.89      0.89      2748\n",
      "weighted avg       0.89      0.89      0.89      2748\n",
      "\n"
     ]
    }
   ],
   "source": [
    "decision_tree = DecisionTreeClassifier()\n",
    "decision_tree = create_model(decision_tree, X_train, X_test, y_train, y_test, 'Decision Tree')"
   ]
  },
  {
   "cell_type": "markdown",
   "id": "warming-irish",
   "metadata": {},
   "source": [
    "## Random Forest"
   ]
  },
  {
   "cell_type": "code",
   "execution_count": 10,
   "id": "smooth-prefix",
   "metadata": {
    "tags": []
   },
   "outputs": [
    {
     "name": "stdout",
     "output_type": "stream",
     "text": [
      "Accuracy: 97.5254730713246 %\n",
      "The Training prediction accuracy is:  100.0 %\n",
      "The Testing prediction accuracy is:  97.5254730713246 %\n",
      "\n",
      " Confusion Matrix \n",
      " [[280   0   0   0   1   0   2   0   2   0]\n",
      " [  0 287  10   1   0   0   1   2   1   2]\n",
      " [  0   2 283   1   0   0   0   2   0   0]\n",
      " [  0   2   0 261   0   0   0   0   0   1]\n",
      " [  1   0   0   0 286   0   2   0   0   0]\n",
      " [  0   0   0   2   0 268   0   0   2   2]\n",
      " [  0   0   1   0   1   0 257   0   0   0]\n",
      " [  0   3   1   0   1   0   1 277   0   0]\n",
      " [  4   2   1   1   0   1   0   4 240   0]\n",
      " [  0   0   0   0   2   1   0   0   5 241]]\n",
      "              precision    recall  f1-score   support\n",
      "\n",
      "           0       0.98      0.98      0.98       285\n",
      "           1       0.97      0.94      0.96       304\n",
      "           2       0.96      0.98      0.97       288\n",
      "           3       0.98      0.99      0.98       264\n",
      "           4       0.98      0.99      0.99       289\n",
      "           5       0.99      0.98      0.99       274\n",
      "           6       0.98      0.99      0.98       259\n",
      "           7       0.97      0.98      0.98       283\n",
      "           8       0.96      0.95      0.95       253\n",
      "           9       0.98      0.97      0.97       249\n",
      "\n",
      "    accuracy                           0.98      2748\n",
      "   macro avg       0.98      0.98      0.98      2748\n",
      "weighted avg       0.98      0.98      0.98      2748\n",
      "\n"
     ]
    }
   ],
   "source": [
    "RF_model = RandomForestClassifier(n_estimators=100)\n",
    "RF_model = create_model(RF_model, X_train, X_test, y_train, y_test, 'Random Forest')"
   ]
  },
  {
   "cell_type": "code",
   "execution_count": 11,
   "id": "photographic-florist",
   "metadata": {},
   "outputs": [
    {
     "data": {
      "text/plain": [
       "At14    0.125464\n",
       "At10    0.088479\n",
       "At8     0.080861\n",
       "At15    0.076943\n",
       "At9     0.073532\n",
       "At5     0.070936\n",
       "At11    0.067173\n",
       "At1     0.065398\n",
       "At2     0.060997\n",
       "At12    0.060352\n",
       "At6     0.057834\n",
       "At7     0.049641\n",
       "At4     0.049293\n",
       "At13    0.038928\n",
       "At3     0.034169\n",
       "dtype: float64"
      ]
     },
     "execution_count": 11,
     "metadata": {},
     "output_type": "execute_result"
    }
   ],
   "source": [
    "feature_imp = pd.Series(RF_model.feature_importances_, index = np.array(X.columns)).sort_values(ascending=False)\n",
    "feature_imp"
   ]
  },
  {
   "cell_type": "code",
   "execution_count": 12,
   "id": "leading-hardware",
   "metadata": {},
   "outputs": [
    {
     "data": {
      "image/png": "[encoded data removed]",
      "text/plain": [
       "<Figure size 864x432 with 1 Axes>"
      ]
     },
     "metadata": {
      "needs_background": "light"
     },
     "output_type": "display_data"
    }
   ],
   "source": [
    "# Creating a bar plot\n",
    "plt.figure(figsize=(12,6))\n",
    "plt.bar(feature_imp.index, feature_imp, color=\"g\")\n",
    "# Add labels to your graph\n",
    "plt.xlabel('Features')\n",
    "plt.ylabel('Feature Importance Score')\n",
    "plt.title(\"Visualizing Important Features\")\n",
    "plt.show()"
   ]
  },
  {
   "cell_type": "markdown",
   "id": "commercial-pencil",
   "metadata": {},
   "source": [
    "## KNeighbors"
   ]
  },
  {
   "cell_type": "code",
   "execution_count": 13,
   "id": "scientific-coffee",
   "metadata": {},
   "outputs": [
    {
     "name": "stdout",
     "output_type": "stream",
     "text": [
      "k =  2 : Accuracy is  0.9523289665211062\n",
      "k =  3 : Accuracy is  0.9577874818049491\n",
      "k =  4 : Accuracy is  0.9570596797671034\n",
      "k =  5 : Accuracy is  0.9577874818049491\n",
      "k =  6 : Accuracy is  0.9596069868995634\n",
      "k =  7 : Accuracy is  0.960334788937409\n",
      "k =  8 : Accuracy is  0.9570596797671034\n",
      "k =  9 : Accuracy is  0.9577874818049491\n",
      "k =  10 : Accuracy is  0.9581513828238719\n",
      "k =  11 : Accuracy is  0.9577874818049491\n",
      "k =  12 : Accuracy is  0.9566957787481805\n",
      "k =  13 : Accuracy is  0.9563318777292577\n",
      "k =  14 : Accuracy is  0.9548762736535662\n",
      "k =  15 : Accuracy is  0.9559679767103348\n",
      "k =  16 : Accuracy is  0.9556040756914119\n",
      "k =  17 : Accuracy is  0.9530567685589519\n",
      "k =  18 : Accuracy is  0.9512372634643377\n",
      "k =  19 : Accuracy is  0.9497816593886463\n",
      "k =  20 : Accuracy is  0.9508733624454149\n",
      "k =  21 : Accuracy is  0.9486899563318777\n",
      "k =  22 : Accuracy is  0.9494177583697234\n",
      "k =  23 : Accuracy is  0.9479621542940321\n",
      "k =  24 : Accuracy is  0.9468704512372634\n",
      "k =  25 : Accuracy is  0.9472343522561864\n",
      "k =  26 : Accuracy is  0.9457787481804949\n",
      "k =  27 : Accuracy is  0.9450509461426492\n",
      "k =  28 : Accuracy is  0.9446870451237264\n",
      "k =  29 : Accuracy is  0.9432314410480349\n",
      "k =  30 : Accuracy is  0.9428675400291121\n",
      "k =  31 : Accuracy is  0.9421397379912664\n",
      "k =  32 : Accuracy is  0.9432314410480349\n",
      "k =  33 : Accuracy is  0.9417758369723436\n",
      "k =  34 : Accuracy is  0.9406841339155749\n",
      "k =  35 : Accuracy is  0.9399563318777293\n",
      "k =  36 : Accuracy is  0.9399563318777293\n",
      "k =  37 : Accuracy is  0.9399563318777293\n",
      "k =  38 : Accuracy is  0.9388646288209607\n",
      "k =  39 : Accuracy is  0.9377729257641921\n",
      "k =  40 : Accuracy is  0.9377729257641921\n",
      "k =  41 : Accuracy is  0.9363173216885007\n",
      "k =  42 : Accuracy is  0.9374090247452693\n",
      "k =  43 : Accuracy is  0.9352256186317321\n",
      "k =  44 : Accuracy is  0.9341339155749636\n"
     ]
    }
   ],
   "source": [
    "list_k = []\n",
    "list_acc = []\n",
    "for K_value in range(2,int((y_train.shape[0]**0.5)/2)):\n",
    "#for K_value in range(2,10):\n",
    "    list_k.append(K_value)\n",
    "    neigh = KNeighborsClassifier(n_neighbors=K_value)\n",
    "    neigh.fit(X_train, y_train)\n",
    "    y_pred = neigh.predict(X_test)\n",
    "    acc = accuracy_score(y_test,y_pred)*100\n",
    "    list_acc.append(acc)\n",
    "    print(\"k = \", K_value,\": Accuracy is \", accuracy_score(y_test, y_pred))"
   ]
  },
  {
   "cell_type": "markdown",
   "id": "composed-front",
   "metadata": {},
   "source": [
    "### k=6 cho độ chính xác cao nhất"
   ]
  },
  {
   "cell_type": "code",
   "execution_count": 14,
   "id": "geographic-nothing",
   "metadata": {},
   "outputs": [
    {
     "name": "stdout",
     "output_type": "stream",
     "text": [
      "Accuracy: 95.96069868995633 %\n",
      "The Training prediction accuracy is:  96.73702086365842 %\n",
      "The Testing prediction accuracy is:  95.96069868995633 %\n",
      "\n",
      " Confusion Matrix \n",
      " [[278   0   0   0   3   0   3   0   1   0]\n",
      " [  0 283  13   2   0   1   2   2   0   1]\n",
      " [  0   7 276   2   0   0   0   3   0   0]\n",
      " [  0   2   0 258   0   2   0   1   0   1]\n",
      " [  1   0   1   0 286   0   1   0   0   0]\n",
      " [  0   1   0   6   0 263   0   0   2   2]\n",
      " [  1   0   1   0   0   0 257   0   0   0]\n",
      " [  0   9   5   2   1   0   0 265   1   0]\n",
      " [  5   3   3   1   1   0   0   3 236   1]\n",
      " [  0   2   0   4   3   3   0   0   2 235]]\n",
      "              precision    recall  f1-score   support\n",
      "\n",
      "           0       0.98      0.98      0.98       285\n",
      "           1       0.92      0.93      0.93       304\n",
      "           2       0.92      0.96      0.94       288\n",
      "           3       0.94      0.98      0.96       264\n",
      "           4       0.97      0.99      0.98       289\n",
      "           5       0.98      0.96      0.97       274\n",
      "           6       0.98      0.99      0.98       259\n",
      "           7       0.97      0.94      0.95       283\n",
      "           8       0.98      0.93      0.95       253\n",
      "           9       0.98      0.94      0.96       249\n",
      "\n",
      "    accuracy                           0.96      2748\n",
      "   macro avg       0.96      0.96      0.96      2748\n",
      "weighted avg       0.96      0.96      0.96      2748\n",
      "\n"
     ]
    }
   ],
   "source": [
    "KN_model = KNeighborsClassifier(n_neighbors=6)\n",
    "KN_model = create_model(KN_model, X_train, X_test, y_train, y_test, 'KNeighbors')"
   ]
  },
  {
   "cell_type": "markdown",
   "id": "apart-details",
   "metadata": {},
   "source": [
    "## SVC"
   ]
  },
  {
   "cell_type": "code",
   "execution_count": 15,
   "id": "mighty-attendance",
   "metadata": {},
   "outputs": [
    {
     "name": "stdout",
     "output_type": "stream",
     "text": [
      "Accuracy: 89.51965065502183 %\n",
      "The Training prediction accuracy is:  90.24745269286754 %\n",
      "The Testing prediction accuracy is:  89.51965065502183 %\n",
      "\n",
      " Confusion Matrix \n",
      " [[267   0   0   0   5   1   2   0  10   0]\n",
      " [  0 257  16   4   0   7   1  10   4   5]\n",
      " [  0  15 262   1   0   1   0   7   2   0]\n",
      " [  0   7   0 246   0   5   0   2   2   2]\n",
      " [  7   3   0   1 267   2   3   0   2   4]\n",
      " [  4  13   0   5   2 227   2   1  15   5]\n",
      " [  2   1   0   0   1   0 253   0   2   0]\n",
      " [  0  18   3   4   1   4   1 246   3   3]\n",
      " [  6  14   1   1   1   6   1   9 213   1]\n",
      " [  1   7   0   4   7   6   0   0   2 222]]\n",
      "              precision    recall  f1-score   support\n",
      "\n",
      "           0       0.93      0.94      0.93       285\n",
      "           1       0.77      0.85      0.80       304\n",
      "           2       0.93      0.91      0.92       288\n",
      "           3       0.92      0.93      0.93       264\n",
      "           4       0.94      0.92      0.93       289\n",
      "           5       0.88      0.83      0.85       274\n",
      "           6       0.96      0.98      0.97       259\n",
      "           7       0.89      0.87      0.88       283\n",
      "           8       0.84      0.84      0.84       253\n",
      "           9       0.92      0.89      0.90       249\n",
      "\n",
      "    accuracy                           0.90      2748\n",
      "   macro avg       0.90      0.90      0.90      2748\n",
      "weighted avg       0.90      0.90      0.90      2748\n",
      "\n"
     ]
    }
   ],
   "source": [
    "svc_model = SVC(kernel='linear')\n",
    "svc_model = create_model(svc_model, X_train, X_test, y_train, y_test, 'SVC')"
   ]
  },
  {
   "cell_type": "markdown",
   "id": "fantastic-effect",
   "metadata": {},
   "source": [
    "## Logistic Regression"
   ]
  },
  {
   "cell_type": "code",
   "execution_count": 16,
   "id": "surrounded-session",
   "metadata": {},
   "outputs": [
    {
     "name": "stdout",
     "output_type": "stream",
     "text": [
      "Accuracy: 83.11499272197962 %\n",
      "The Training prediction accuracy is:  82.27802037845706 %\n",
      "The Testing prediction accuracy is:  83.11499272197962 %\n",
      "\n",
      " Confusion Matrix \n",
      " [[254   3   0   0   8   3   6   0  11   0]\n",
      " [  0 225  37   5   3  16   2   7   3   6]\n",
      " [  0  13 256   3   2   0   0   8   6   0]\n",
      " [  0   7   0 243   4   0   0   3   4   3]\n",
      " [  4   0   0   1 267   5   2   1   1   8]\n",
      " [  1   5   2  19   1 161   9  12  21  43]\n",
      " [  1   0   0   0   0   2 250   0   6   0]\n",
      " [  0  19   3   9   4   8   1 230   6   3]\n",
      " [ 11  10   4   7   0  12   1  10 195   3]\n",
      " [  0   7   2  10  10  16   0   0   1 203]]\n",
      "              precision    recall  f1-score   support\n",
      "\n",
      "           0       0.94      0.89      0.91       285\n",
      "           1       0.78      0.74      0.76       304\n",
      "           2       0.84      0.89      0.86       288\n",
      "           3       0.82      0.92      0.87       264\n",
      "           4       0.89      0.92      0.91       289\n",
      "           5       0.72      0.59      0.65       274\n",
      "           6       0.92      0.97      0.94       259\n",
      "           7       0.85      0.81      0.83       283\n",
      "           8       0.77      0.77      0.77       253\n",
      "           9       0.75      0.82      0.78       249\n",
      "\n",
      "    accuracy                           0.83      2748\n",
      "   macro avg       0.83      0.83      0.83      2748\n",
      "weighted avg       0.83      0.83      0.83      2748\n",
      "\n"
     ]
    }
   ],
   "source": [
    "logistic_model = LogisticRegression(solver='liblinear')\n",
    "logistic_model = create_model(logistic_model, X_train, X_test, y_train, y_test, 'Logistic Regression')"
   ]
  },
  {
   "cell_type": "markdown",
   "id": "active-spoke",
   "metadata": {},
   "source": [
    "## MultinomialNB"
   ]
  },
  {
   "cell_type": "code",
   "execution_count": 17,
   "id": "fresh-albania",
   "metadata": {},
   "outputs": [
    {
     "name": "stdout",
     "output_type": "stream",
     "text": [
      "Accuracy: 77.2197962154294 %\n",
      "The Training prediction accuracy is:  75.80058224163028 %\n",
      "The Testing prediction accuracy is:  77.2197962154294 %\n",
      "\n",
      " Confusion Matrix \n",
      " [[254   1   1   0  10   0  15   0   3   1]\n",
      " [  0 187  69  11   1   5   1  12   1  17]\n",
      " [  0   8 259   2   0   3   0  14   2   0]\n",
      " [  0  20   0 239   0   1   0   1   0   3]\n",
      " [  3   3   0   0 263   5   7   0   1   7]\n",
      " [  0   0   0  49   0 138   3   7  26  51]\n",
      " [  1   0   1   1   2   1 249   0   2   2]\n",
      " [  0  36   7  10   4   8   1 213   4   0]\n",
      " [ 25   5   5  13   9  10   3  12 168   3]\n",
      " [  0  19   0  34  28  15   0   1   0 152]]\n",
      "              precision    recall  f1-score   support\n",
      "\n",
      "           0       0.90      0.89      0.89       285\n",
      "           1       0.67      0.62      0.64       304\n",
      "           2       0.76      0.90      0.82       288\n",
      "           3       0.67      0.91      0.77       264\n",
      "           4       0.83      0.91      0.87       289\n",
      "           5       0.74      0.50      0.60       274\n",
      "           6       0.89      0.96      0.93       259\n",
      "           7       0.82      0.75      0.78       283\n",
      "           8       0.81      0.66      0.73       253\n",
      "           9       0.64      0.61      0.63       249\n",
      "\n",
      "    accuracy                           0.77      2748\n",
      "   macro avg       0.77      0.77      0.77      2748\n",
      "weighted avg       0.77      0.77      0.77      2748\n",
      "\n"
     ]
    }
   ],
   "source": [
    "nb = MultinomialNB()\n",
    "nb = create_model(nb, X_train, X_test, y_train, y_test, 'MultinomialNB')"
   ]
  },
  {
   "cell_type": "markdown",
   "id": "raising-emperor",
   "metadata": {},
   "source": [
    "## GaussianNB"
   ]
  },
  {
   "cell_type": "code",
   "execution_count": 18,
   "id": "fitted-observer",
   "metadata": {},
   "outputs": [
    {
     "name": "stdout",
     "output_type": "stream",
     "text": [
      "Accuracy: 79.9490538573508 %\n",
      "The Training prediction accuracy is:  79.26977195536148 %\n",
      "The Testing prediction accuracy is:  79.9490538573508 %\n",
      "\n",
      " Confusion Matrix \n",
      " [[254   0   0   0   2   0   5   0  24   0]\n",
      " [  0 205  66   4   0  15   1   3   2   8]\n",
      " [  0  17 238   0   0  19   0  10   4   0]\n",
      " [  0  15   0 235   0   1   0   1   1  11]\n",
      " [  5   2   0   0 262   2   4   0   9   5]\n",
      " [  0   7   0  30   0 154   3   0  19  61]\n",
      " [  2   0   0   0   1   4 238   0  14   0]\n",
      " [  0  33  19   0   0   5   0 212   6   8]\n",
      " [ 13  23   2   0   0   9   1  11 193   1]\n",
      " [  2  13   0  13   8   6   0   0   1 206]]\n",
      "              precision    recall  f1-score   support\n",
      "\n",
      "           0       0.92      0.89      0.91       285\n",
      "           1       0.65      0.67      0.66       304\n",
      "           2       0.73      0.83      0.78       288\n",
      "           3       0.83      0.89      0.86       264\n",
      "           4       0.96      0.91      0.93       289\n",
      "           5       0.72      0.56      0.63       274\n",
      "           6       0.94      0.92      0.93       259\n",
      "           7       0.89      0.75      0.82       283\n",
      "           8       0.71      0.76      0.73       253\n",
      "           9       0.69      0.83      0.75       249\n",
      "\n",
      "    accuracy                           0.80      2748\n",
      "   macro avg       0.80      0.80      0.80      2748\n",
      "weighted avg       0.81      0.80      0.80      2748\n",
      "\n"
     ]
    }
   ],
   "source": [
    "gaussianNB = GaussianNB()\n",
    "gaussianNB = create_model(gaussianNB, X_train, X_test, y_train, y_test, 'GaussianNB')"
   ]
  },
  {
   "cell_type": "code",
   "execution_count": 19,
   "id": "recognized-assist",
   "metadata": {},
   "outputs": [
    {
     "data": {
      "text/html": [
       "<div>\n",
       "<style scoped>\n",
       "    .dataframe tbody tr th:only-of-type {\n",
       "        vertical-align: middle;\n",
       "    }\n",
       "\n",
       "    .dataframe tbody tr th {\n",
       "        vertical-align: top;\n",
       "    }\n",
       "\n",
       "    .dataframe thead th {\n",
       "        text-align: right;\n",
       "    }\n",
       "</style>\n",
       "<table border=\"1\" class=\"dataframe\">\n",
       "  <thead>\n",
       "    <tr style=\"text-align: right;\">\n",
       "      <th></th>\n",
       "      <th>model_name</th>\n",
       "      <th>accuracy</th>\n",
       "    </tr>\n",
       "  </thead>\n",
       "  <tbody>\n",
       "    <tr>\n",
       "      <th>1</th>\n",
       "      <td>Random Forest</td>\n",
       "      <td>0.970888</td>\n",
       "    </tr>\n",
       "    <tr>\n",
       "      <th>2</th>\n",
       "      <td>KNeighbors</td>\n",
       "      <td>0.957787</td>\n",
       "    </tr>\n",
       "    <tr>\n",
       "      <th>3</th>\n",
       "      <td>SVC</td>\n",
       "      <td>0.892649</td>\n",
       "    </tr>\n",
       "    <tr>\n",
       "      <th>0</th>\n",
       "      <td>Decision Tree</td>\n",
       "      <td>0.889283</td>\n",
       "    </tr>\n",
       "    <tr>\n",
       "      <th>4</th>\n",
       "      <td>Logistic Regression</td>\n",
       "      <td>0.822506</td>\n",
       "    </tr>\n",
       "    <tr>\n",
       "      <th>6</th>\n",
       "      <td>GaussianNB</td>\n",
       "      <td>0.794122</td>\n",
       "    </tr>\n",
       "    <tr>\n",
       "      <th>5</th>\n",
       "      <td>MultinomialNB</td>\n",
       "      <td>0.758278</td>\n",
       "    </tr>\n",
       "  </tbody>\n",
       "</table>\n",
       "</div>"
      ],
      "text/plain": [
       "            model_name  accuracy\n",
       "1        Random Forest  0.970888\n",
       "2           KNeighbors  0.957787\n",
       "3                  SVC  0.892649\n",
       "0        Decision Tree  0.889283\n",
       "4  Logistic Regression  0.822506\n",
       "6           GaussianNB  0.794122\n",
       "5        MultinomialNB  0.758278"
      ]
     },
     "execution_count": 19,
     "metadata": {},
     "output_type": "execute_result"
    }
   ],
   "source": [
    "cv_df = pd.DataFrame(entries, columns=['model_name', 'accuracy'])\n",
    "cv_df.sort_values('accuracy', ascending=False)"
   ]
  },
  {
   "cell_type": "code",
   "execution_count": 20,
   "id": "extraordinary-concentrate",
   "metadata": {},
   "outputs": [
    {
     "data": {
      "image/png": "[encoded data removed]",
      "text/plain": [
       "<Figure size 1080x432 with 1 Axes>"
      ]
     },
     "metadata": {
      "needs_background": "light"
     },
     "output_type": "display_data"
    }
   ],
   "source": [
    "plt.figure(figsize=(15,6))\n",
    "plt.bar(cv_df['model_name'],cv_df['accuracy'], )\n",
    "plt.xlabel('model_name')\n",
    "plt.ylabel('Mean of accuracies')\n",
    "plt.title(\"Accuracies of Algorithms\")\n",
    "plt.show()"
   ]
  },
  {
   "cell_type": "markdown",
   "id": "phantom-printer",
   "metadata": {},
   "source": [
    "### Kết luận\n",
    "* Random forest cho kết quả tốt nhất"
   ]
  },
  {
   "cell_type": "markdown",
   "id": "several-circular",
   "metadata": {},
   "source": [
    "# Giảm chiều bằng PCA"
   ]
  },
  {
   "cell_type": "code",
   "execution_count": 21,
   "id": "corrected-guitar",
   "metadata": {},
   "outputs": [],
   "source": [
    "from sklearn.decomposition import PCA"
   ]
  },
  {
   "cell_type": "code",
   "execution_count": 22,
   "id": "filled-coating",
   "metadata": {},
   "outputs": [],
   "source": [
    "def pca_random_forest(n):\n",
    "    for i in range(2, n+1):\n",
    "        # Create pca\n",
    "        pca = PCA(n_components=i)\n",
    "        principalComponents = pca.fit_transform(X)\n",
    "        # Crete columns by length\n",
    "        cols = ['PC'+str(id) for id in range(1, i+1) ]\n",
    "        principalDf = pd.DataFrame(data=principalComponents, columns=cols)\n",
    "        # Train test split\n",
    "        X_train_pca, X_test_pca, y_train_pca, y_test_pca = train_test_split(principalDf, y, random_state=42)\n",
    "        # Create model\n",
    "        RF_model = RandomForestClassifier(n_estimators=100)\n",
    "        model = RF_model.fit(X_train_pca, y_train_pca)\n",
    "        # Predict\n",
    "        y_pred = model.predict(X_test_pca)\n",
    "        print(i, \"components have accuracy:\", accuracy_score(y_test_pca, y_pred)*100,\"%\")"
   ]
  },
  {
   "cell_type": "code",
   "execution_count": 23,
   "id": "available-borough",
   "metadata": {},
   "outputs": [
    {
     "name": "stdout",
     "output_type": "stream",
     "text": [
      "2 components have accuracy: 57.132459970887915 %\n",
      "3 components have accuracy: 77.72925764192141 %\n",
      "4 components have accuracy: 84.75254730713246 %\n",
      "5 components have accuracy: 87.91848617176127 %\n",
      "6 components have accuracy: 90.46579330422125 %\n",
      "7 components have accuracy: 91.44832605531296 %\n",
      "8 components have accuracy: 92.39446870451238 %\n",
      "9 components have accuracy: 92.8311499272198 %\n",
      "10 components have accuracy: 94.14119359534206 %\n",
      "11 components have accuracy: 94.21397379912663 %\n",
      "12 components have accuracy: 93.95924308588064 %\n",
      "13 components have accuracy: 94.54148471615721 %\n",
      "14 components have accuracy: 94.39592430858806 %\n",
      "15 components have accuracy: 94.90538573508006 %\n"
     ]
    }
   ],
   "source": [
    "pca_random_forest(15)"
   ]
  },
  {
   "cell_type": "markdown",
   "id": "falling-reality",
   "metadata": {},
   "source": [
    "## Nhận xét\n",
    "* PCA tốt nhất với là có n_components = 11\n",
    "* Không cải thiện so với không dùng PCA"
   ]
  },
  {
   "cell_type": "code",
   "execution_count": null,
   "id": "joined-softball",
   "metadata": {},
   "outputs": [],
   "source": []
  }
 ],
 "metadata": {
  "kernelspec": {
   "display_name": "Python 3",
   "language": "python",
   "name": "python3"
  },
  "language_info": {
   "codemirror_mode": {
    "name": "ipython",
    "version": 3
   },
   "file_extension": ".py",
   "mimetype": "text/x-python",
   "name": "python",
   "nbconvert_exporter": "python",
   "pygments_lexer": "ipython3",
   "version": "3.8.3"
  }
 },
 "nbformat": 4,
 "nbformat_minor": 5
}
