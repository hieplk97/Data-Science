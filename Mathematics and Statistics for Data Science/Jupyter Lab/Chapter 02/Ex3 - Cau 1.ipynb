{
 "cells": [
  {
   "cell_type": "code",
   "execution_count": null,
   "metadata": {},
   "outputs": [],
   "source": [
    "\"\"\"=============================================================================\n",
    "   Ex3: SVD\n",
    "   Câu 1: \n",
    "      a) Cho tập tin ex3.csv. Đọc tập tin vào dataframe\n",
    "      b) Phân tích SVD: U, s, VT từ dataframe\n",
    "      c) Tạo dataframe mới từ U, s, VT, nhận xét và rút gọn thành phần, nếu có thể\n",
    "      d) Tìm error nếu có rút gọn thành phần \n",
    "=============================================================================\"\"\""
   ]
  },
  {
   "cell_type": "code",
   "execution_count": 8,
   "metadata": {},
   "outputs": [],
   "source": [
    "import numpy as np\n",
    "import pandas as pd\n",
    "import matplotlib.pyplot as plt"
   ]
  },
  {
   "cell_type": "code",
   "execution_count": 3,
   "metadata": {},
   "outputs": [
    {
     "name": "stdout",
     "output_type": "stream",
     "text": [
      "\n",
      "*** a) Dataframe ex3.csv:\n",
      "        post1  post2  post3  post4\n",
      "word                             \n",
      "ice        4      4      6      2\n",
      "snow       6      1      0      5\n",
      "tahoe      3      0      0      5\n",
      "goal       0      6      5      1\n",
      "puck       0      4      5      0 \n",
      "\n"
     ]
    }
   ],
   "source": [
    "LDS3folder = 'E:\\Data Science\\Mathematics and Statistics for Data Science\\Excercise'\n",
    "folder = LDS3folder + '/Data/B2/'\n",
    "\n",
    "## a) Đọc tập tin ex3.csv vào dataframe\n",
    "df = pd.read_csv(folder + 'ex3.csv', index_col=0)\n",
    "print('\\n*** a) Dataframe ex3.csv:\\n', df, '\\n')\n"
   ]
  },
  {
   "cell_type": "code",
   "execution_count": 4,
   "metadata": {},
   "outputs": [
    {
     "name": "stdout",
     "output_type": "stream",
     "text": [
      "\n",
      "*** b) Phân tích SVD:\n",
      "- Ma trận U( 5 ,  5 ): \n",
      " [[-0.62610079  0.01852561  0.6259093   0.23487748 -0.40090488]\n",
      " [-0.35134826 -0.67829097  0.0779915  -0.56006159  0.311005  ]\n",
      " [-0.21940528 -0.51980146 -0.50346468  0.6484906  -0.08747016]\n",
      " [-0.51965373  0.37026259 -0.59046979 -0.38005352 -0.31586445]\n",
      " [-0.40788911  0.36371724 -0.00485878  0.25726028  0.79695031]] \n",
      "\n",
      "- Eigenvalues: [13.3221948   9.2609512   2.41918664  1.37892883] \n",
      "\n",
      "- Ma trận VT( 4 ,  4 ): \n",
      " [[-0.39563365 -0.57086917 -0.6301003  -0.34721178]\n",
      " [-0.59983555  0.33174302  0.4082791  -0.60286986]\n",
      " [ 0.60400142 -0.40535325  0.32193174 -0.60599586]\n",
      " [-0.34475152 -0.63225288  0.57675103  0.38569539]] \n",
      "\n"
     ]
    }
   ],
   "source": [
    "## b) Phân tích SVD: U, s, VT\n",
    "U, s, VT = np.linalg.svd(df)\n",
    "\n",
    "print('\\n*** b) Phân tích SVD:')\n",
    "print('- Ma trận U(', U.shape[1], ', ', U.shape[0], '): \\n', U, '\\n')\n",
    "print('- Eigenvalues:', s, '\\n')\n",
    "print('- Ma trận VT(', VT.shape[1], ', ', VT.shape[0], '): \\n', VT, '\\n')\n"
   ]
  },
  {
   "cell_type": "code",
   "execution_count": 5,
   "metadata": {},
   "outputs": [
    {
     "name": "stdout",
     "output_type": "stream",
     "text": [
      "\n",
      "*** c) NEW dataframe (using only the first two components):\n",
      "          post1     post2     post3     post4\n",
      "ice    3.197084  4.818556  5.325736  2.792675\n",
      "snow   5.619793  0.588201  0.384675  5.412204\n",
      "tahoe  4.043943  0.071665 -0.123639  3.917015\n",
      "goal   0.682117  5.089628  5.762122  0.336491\n",
      "puck   0.129398  4.219523  4.799185 -0.143946\n"
     ]
    }
   ],
   "source": [
    "## c) Tạo dataframe mới từ U, s, VT\n",
    "col_headers = ['post1', 'post2', 'post3', 'post4']\n",
    "words = ['ice', 'snow', 'tahoe', 'goal', 'puck']\n",
    "new_df = pd.DataFrame(VT, columns=col_headers)\n",
    "A_approx = np.matrix(U[:, :2]) * np.diag(s[:2]) * np.matrix(VT[:2, :])\n",
    "\n",
    "print('\\n*** c) NEW dataframe (using only the first two components):')\n",
    "print(pd.DataFrame(A_approx, index=words, columns=col_headers))\n"
   ]
  },
  {
   "cell_type": "code",
   "execution_count": 6,
   "metadata": {},
   "outputs": [
    {
     "name": "stdout",
     "output_type": "stream",
     "text": [
      "\n",
      "*** d) Error from actual value:\n",
      "          post1     post2     post3     post4\n",
      "word                                         \n",
      "ice    0.802916 -0.818556  0.674264 -0.792675\n",
      "snow   0.380207  0.411799 -0.384675 -0.412204\n",
      "tahoe -1.043943 -0.071665  0.123639  1.082985\n",
      "goal  -0.682117  0.910372 -0.762122  0.663509\n",
      "puck  -0.129398 -0.219523  0.200815  0.143946\n"
     ]
    }
   ],
   "source": [
    "## d) Tìm error\n",
    "print(\"\\n*** d) Error from actual value:\")\n",
    "print(df - A_approx)\n"
   ]
  },
  {
   "cell_type": "code",
   "execution_count": 9,
   "metadata": {},
   "outputs": [
    {
     "data": {
      "text/plain": [
       "<matplotlib.colorbar.Colorbar at 0x19d5718f910>"
      ]
     },
     "execution_count": 9,
     "metadata": {},
     "output_type": "execute_result"
    },
    {
     "data": {
      "image/png": "[encoded data removed]",
      "text/plain": [
       "<Figure size 432x288 with 2 Axes>"
      ]
     },
     "metadata": {
      "needs_background": "light"
     },
     "output_type": "display_data"
    }
   ],
   "source": [
    "## e) Hiển thị\n",
    "plt.imshow(VT, interpolation='none')\n",
    "plt.xticks(range(len(col_headers)))\n",
    "plt.yticks(range(len(words)))\n",
    "plt.ylim([len(words) - 1.5, -.5])\n",
    "ax = plt.gca()\n",
    "ax.set_xticklabels(col_headers)\n",
    "ax.set_yticklabels(range(1, len(words) + 1))\n",
    "plt.title(\"$V$\")\n",
    "plt.colorbar()\n"
   ]
  },
  {
   "cell_type": "code",
   "execution_count": null,
   "metadata": {},
   "outputs": [],
   "source": []
  }
 ],
 "metadata": {
  "kernelspec": {
   "display_name": "Python 3",
   "language": "python",
   "name": "python3"
  },
  "language_info": {
   "codemirror_mode": {
    "name": "ipython",
    "version": 3
   },
   "file_extension": ".py",
   "mimetype": "text/x-python",
   "name": "python",
   "nbconvert_exporter": "python",
   "pygments_lexer": "ipython3",
   "version": "3.8.5"
  }
 },
 "nbformat": 4,
 "nbformat_minor": 4
}
