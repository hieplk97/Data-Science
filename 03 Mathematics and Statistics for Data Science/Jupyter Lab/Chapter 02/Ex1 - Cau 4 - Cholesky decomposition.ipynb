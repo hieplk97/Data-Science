{
 "cells": [
  {
   "cell_type": "raw",
   "metadata": {},
   "source": [
    "\"\"\"=============================================================================\n",
    "    Ex1: DECOMPOSITION\n",
    "    Câu 4: Cholesky Decomposition\n",
    "        a) Tạo ma trận A(3 x 3) chứa các giá trị ngẫu nhiên trong khoảng 3 - 9\n",
    "        b) Chuyển A thành ma trận vuông đối xứng theo tam giác dưới\n",
    "        c) Thực hiện phân rã Cholesky, nếu có thể\n",
    "=============================================================================\"\"\"\n"
   ]
  },
  {
   "cell_type": "code",
   "execution_count": 1,
   "metadata": {},
   "outputs": [],
   "source": [
    "import numpy as np\n",
    "import random\n",
    "from scipy.linalg import cholesky\n"
   ]
  },
  {
   "cell_type": "code",
   "execution_count": 2,
   "metadata": {},
   "outputs": [],
   "source": [
    "##------------------------------------------------------------------------------\n",
    "## Hàm tạo 1 ma trận A[mxn] với giá trị ngẫu nhiên thuộc [start, end]\n",
    "##------------------------------------------------------------------------------\n",
    "def create_matrix_random(m, n, start, end):\n",
    "    mtr = []\n",
    "    for i in range(m):\n",
    "        row = []\n",
    "        for j in range(n):\n",
    "            a = random.randint(start, end + 1)\n",
    "\n",
    "            # Thêm giá trị vào dòng hiện hành \n",
    "            row.append(a)\n",
    "\n",
    "        # Thêm dòng vào ma trận    \n",
    "        mtr.append(row)\n",
    "\n",
    "    return np.array(mtr)\n"
   ]
  },
  {
   "cell_type": "code",
   "execution_count": 3,
   "metadata": {},
   "outputs": [
    {
     "name": "stdout",
     "output_type": "stream",
     "text": [
      "Ma trận A (3, 3) :\n",
      " [[4 7 5]\n",
      " [9 7 4]\n",
      " [9 5 9]]\n"
     ]
    }
   ],
   "source": [
    "## a) Tạo ma trận A(3 x 3) chứa các giá trị ngẫu nhiên trong khoảng 3 - 9\n",
    "m, n, min, max = 3, 3, 3, 9\n",
    "A = create_matrix_random(m, n, min, max)\n",
    "print('Ma trận A', A.shape, ':\\n', A)"
   ]
  },
  {
   "cell_type": "code",
   "execution_count": 4,
   "metadata": {},
   "outputs": [],
   "source": [
    "## b) Chuyển A thành ma trận vuông đối xứng theo tam giác dưới\n",
    "for i in range(A.shape[0]):\n",
    "    for j in range(i):\n",
    "        A[j][i] = A[i][j]\n"
   ]
  },
  {
   "cell_type": "code",
   "execution_count": 5,
   "metadata": {},
   "outputs": [
    {
     "name": "stdout",
     "output_type": "stream",
     "text": [
      "Không thỏa điều kiện xác định dương\n"
     ]
    }
   ],
   "source": [
    "## c) Thực hiện phân rã Cholesky, nếu có thể\n",
    "## Kiểm tra ma trận xác định dương\n",
    "test = np.linalg.eigvalsh(A)\n",
    "\n",
    "pos_def = np.all(test > 0)\n",
    "if (pos_def == True):\n",
    "    L = cholesky(A)\n",
    "\n",
    "    print('Ma trận L', L.shape, ':\\n', L)\n",
    "\n",
    "    print('Tái tạo ma trận A:\\n', L.dot(L.T))\n",
    "else:\n",
    "    print('Không thỏa điều kiện xác định dương')"
   ]
  },
  {
   "cell_type": "code",
   "execution_count": 7,
   "metadata": {},
   "outputs": [],
   "source": [
    "##------------------------------------------------------------------------------\n",
    "## Hàm tạo ma trận xác định dương    \n",
    "##------------------------------------------------------------------------------\n",
    "def create_matrix_positive_definite(m, n, start, end):\n",
    "    A = None\n",
    "    pos_def = False\n",
    "\n",
    "    while (pos_def == False):\n",
    "        A = create_matrix_random(m, n, start, end)\n",
    "        for i in range(A.shape[0]):\n",
    "            for j in range(i):\n",
    "                A[j][i] = A[i][j]\n",
    "        test = np.linalg.eigvalsh(A)\n",
    "        pos_def = np.all(test > 0)\n",
    "    return A\n"
   ]
  },
  {
   "cell_type": "code",
   "execution_count": 8,
   "metadata": {},
   "outputs": [
    {
     "name": "stdout",
     "output_type": "stream",
     "text": [
      "Ma trận L (3, 3) :\n",
      " [[ 3.16227766  1.26491106  2.52982213]\n",
      " [ 0.          2.7202941  -0.07352146]\n",
      " [ 0.          0.          1.89594161]]\n",
      "Tái tạo ma trận A:\n",
      " [[18.          3.25493388  4.79639504]\n",
      " [ 3.25493388  7.40540541 -0.1393924 ]\n",
      " [ 4.79639504 -0.1393924   3.59459459]]\n"
     ]
    }
   ],
   "source": [
    "A = create_matrix_positive_definite(3, 3, 3, 9)\n",
    "L = cholesky(A)\n",
    "print('Ma trận L', L.shape, ':\\n', L)\n",
    "\n",
    "print('Tái tạo ma trận A:\\n', L.dot(L.T))\n"
   ]
  },
  {
   "cell_type": "code",
   "execution_count": null,
   "metadata": {},
   "outputs": [],
   "source": []
  }
 ],
 "metadata": {
  "kernelspec": {
   "display_name": "Python 3",
   "language": "python",
   "name": "python3"
  },
  "language_info": {
   "codemirror_mode": {
    "name": "ipython",
    "version": 3
   },
   "file_extension": ".py",
   "mimetype": "text/x-python",
   "name": "python",
   "nbconvert_exporter": "python",
   "pygments_lexer": "ipython3",
   "version": "3.8.5"
  }
 },
 "nbformat": 4,
 "nbformat_minor": 4
}
