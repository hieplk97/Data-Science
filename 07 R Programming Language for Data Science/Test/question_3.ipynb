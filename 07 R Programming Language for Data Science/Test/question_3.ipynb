{
 "cells": [
  {
   "cell_type": "code",
   "execution_count": 1,
   "metadata": {},
   "outputs": [
    {
     "name": "stderr",
     "output_type": "stream",
     "text": [
      "Registered S3 method overwritten by 'quantmod':\n",
      "  method            from\n",
      "  as.zoo.data.frame zoo \n",
      "\n"
     ]
    }
   ],
   "source": [
    "library(forecast)"
   ]
  },
  {
   "cell_type": "markdown",
   "metadata": {},
   "source": [
    "## Câu 1"
   ]
  },
  {
   "cell_type": "code",
   "execution_count": 2,
   "metadata": {},
   "outputs": [],
   "source": [
    "data = c(12.2,38.9,75.4,69.0,158.0,161.7,119.9,140.9,89.4,134.9,68.8,158.7,\n",
    "119.2,31.9,14.9,13.5,181.5,120.3,133.0,107.6,137.7,134.6,86.3,87.5,\n",
    "98.9,43.8,32.4,114.3,204.7,178.0,124.0,157.7,101.0,139.0,83.6,44.6,\n",
    "39.6,91.7,22.7,64.6,143.5,192.8,152.4,129.4,119.4,144.5,104.2,135.0,\n",
    "49.7,72.9,45.6,81.7,147.9,123.9,111.6,107.6,97.9,93.7,75.1,67.6)"
   ]
  },
  {
   "cell_type": "markdown",
   "metadata": {},
   "source": [
    "## Câu 2"
   ]
  },
  {
   "cell_type": "code",
   "execution_count": 3,
   "metadata": {},
   "outputs": [
    {
     "data": {
      "text/html": [
       "<style>\n",
       ".list-inline {list-style: none; margin:0; padding: 0}\n",
       ".list-inline>li {display: inline-block}\n",
       ".list-inline>li:not(:last-child)::after {content: \"\\00b7\"; padding: 0 .5ex}\n",
       "</style>\n",
       "<ol class=list-inline><li>12.2</li><li>38.9</li><li>75.4</li><li>69</li><li>158</li><li>161.7</li><li>119.9</li><li>140.9</li><li>89.4</li><li>134.9</li><li>68.8</li><li>158.7</li><li>119.2</li><li>31.9</li><li>14.9</li><li>13.5</li><li>181.5</li><li>120.3</li><li>133</li><li>107.6</li><li>137.7</li><li>134.6</li><li>86.3</li><li>87.5</li><li>98.9</li><li>43.8</li><li>32.4</li><li>114.3</li><li>204.7</li><li>178</li><li>124</li><li>157.7</li><li>101</li><li>139</li><li>83.6</li><li>44.6</li><li>39.6</li><li>91.7</li><li>22.7</li><li>64.6</li><li>143.5</li><li>192.8</li><li>152.4</li><li>129.4</li><li>119.4</li><li>144.5</li><li>104.2</li><li>135</li><li>49.7</li><li>72.9</li><li>45.6</li><li>81.7</li><li>147.9</li><li>123.9</li><li>111.6</li><li>107.6</li><li>97.9</li><li>93.7</li><li>75.1</li><li>67.6</li></ol>\n"
      ],
      "text/latex": [
       "\\begin{enumerate*}\n",
       "\\item 12.2\n",
       "\\item 38.9\n",
       "\\item 75.4\n",
       "\\item 69\n",
       "\\item 158\n",
       "\\item 161.7\n",
       "\\item 119.9\n",
       "\\item 140.9\n",
       "\\item 89.4\n",
       "\\item 134.9\n",
       "\\item 68.8\n",
       "\\item 158.7\n",
       "\\item 119.2\n",
       "\\item 31.9\n",
       "\\item 14.9\n",
       "\\item 13.5\n",
       "\\item 181.5\n",
       "\\item 120.3\n",
       "\\item 133\n",
       "\\item 107.6\n",
       "\\item 137.7\n",
       "\\item 134.6\n",
       "\\item 86.3\n",
       "\\item 87.5\n",
       "\\item 98.9\n",
       "\\item 43.8\n",
       "\\item 32.4\n",
       "\\item 114.3\n",
       "\\item 204.7\n",
       "\\item 178\n",
       "\\item 124\n",
       "\\item 157.7\n",
       "\\item 101\n",
       "\\item 139\n",
       "\\item 83.6\n",
       "\\item 44.6\n",
       "\\item 39.6\n",
       "\\item 91.7\n",
       "\\item 22.7\n",
       "\\item 64.6\n",
       "\\item 143.5\n",
       "\\item 192.8\n",
       "\\item 152.4\n",
       "\\item 129.4\n",
       "\\item 119.4\n",
       "\\item 144.5\n",
       "\\item 104.2\n",
       "\\item 135\n",
       "\\item 49.7\n",
       "\\item 72.9\n",
       "\\item 45.6\n",
       "\\item 81.7\n",
       "\\item 147.9\n",
       "\\item 123.9\n",
       "\\item 111.6\n",
       "\\item 107.6\n",
       "\\item 97.9\n",
       "\\item 93.7\n",
       "\\item 75.1\n",
       "\\item 67.6\n",
       "\\end{enumerate*}\n"
      ],
      "text/markdown": [
       "1. 12.2\n",
       "2. 38.9\n",
       "3. 75.4\n",
       "4. 69\n",
       "5. 158\n",
       "6. 161.7\n",
       "7. 119.9\n",
       "8. 140.9\n",
       "9. 89.4\n",
       "10. 134.9\n",
       "11. 68.8\n",
       "12. 158.7\n",
       "13. 119.2\n",
       "14. 31.9\n",
       "15. 14.9\n",
       "16. 13.5\n",
       "17. 181.5\n",
       "18. 120.3\n",
       "19. 133\n",
       "20. 107.6\n",
       "21. 137.7\n",
       "22. 134.6\n",
       "23. 86.3\n",
       "24. 87.5\n",
       "25. 98.9\n",
       "26. 43.8\n",
       "27. 32.4\n",
       "28. 114.3\n",
       "29. 204.7\n",
       "30. 178\n",
       "31. 124\n",
       "32. 157.7\n",
       "33. 101\n",
       "34. 139\n",
       "35. 83.6\n",
       "36. 44.6\n",
       "37. 39.6\n",
       "38. 91.7\n",
       "39. 22.7\n",
       "40. 64.6\n",
       "41. 143.5\n",
       "42. 192.8\n",
       "43. 152.4\n",
       "44. 129.4\n",
       "45. 119.4\n",
       "46. 144.5\n",
       "47. 104.2\n",
       "48. 135\n",
       "49. 49.7\n",
       "50. 72.9\n",
       "51. 45.6\n",
       "52. 81.7\n",
       "53. 147.9\n",
       "54. 123.9\n",
       "55. 111.6\n",
       "56. 107.6\n",
       "57. 97.9\n",
       "58. 93.7\n",
       "59. 75.1\n",
       "60. 67.6\n",
       "\n",
       "\n"
      ],
      "text/plain": [
       " [1]  12.2  38.9  75.4  69.0 158.0 161.7 119.9 140.9  89.4 134.9  68.8 158.7\n",
       "[13] 119.2  31.9  14.9  13.5 181.5 120.3 133.0 107.6 137.7 134.6  86.3  87.5\n",
       "[25]  98.9  43.8  32.4 114.3 204.7 178.0 124.0 157.7 101.0 139.0  83.6  44.6\n",
       "[37]  39.6  91.7  22.7  64.6 143.5 192.8 152.4 129.4 119.4 144.5 104.2 135.0\n",
       "[49]  49.7  72.9  45.6  81.7 147.9 123.9 111.6 107.6  97.9  93.7  75.1  67.6"
      ]
     },
     "metadata": {},
     "output_type": "display_data"
    }
   ],
   "source": [
    "data"
   ]
  },
  {
   "cell_type": "markdown",
   "metadata": {},
   "source": [
    "## Câu 3"
   ]
  },
  {
   "cell_type": "code",
   "execution_count": 4,
   "metadata": {},
   "outputs": [],
   "source": [
    "ts.sunhour = ts(data, frequency = 12, start = c(2013, 1))"
   ]
  },
  {
   "cell_type": "code",
   "execution_count": 5,
   "metadata": {},
   "outputs": [
    {
     "data": {
      "text/html": [
       "<table>\n",
       "<caption>A Time Series: 5 × 12</caption>\n",
       "<thead>\n",
       "\t<tr><th></th><th scope=col>Jan</th><th scope=col>Feb</th><th scope=col>Mar</th><th scope=col>Apr</th><th scope=col>May</th><th scope=col>Jun</th><th scope=col>Jul</th><th scope=col>Aug</th><th scope=col>Sep</th><th scope=col>Oct</th><th scope=col>Nov</th><th scope=col>Dec</th></tr>\n",
       "</thead>\n",
       "<tbody>\n",
       "\t<tr><th scope=row>2013</th><td> 12.2</td><td> 38.9</td><td> 75.4</td><td> 69.0</td><td>158.0</td><td>161.7</td><td>119.9</td><td>140.9</td><td> 89.4</td><td>134.9</td><td> 68.8</td><td>158.7</td></tr>\n",
       "\t<tr><th scope=row>2014</th><td>119.2</td><td> 31.9</td><td> 14.9</td><td> 13.5</td><td>181.5</td><td>120.3</td><td>133.0</td><td>107.6</td><td>137.7</td><td>134.6</td><td> 86.3</td><td> 87.5</td></tr>\n",
       "\t<tr><th scope=row>2015</th><td> 98.9</td><td> 43.8</td><td> 32.4</td><td>114.3</td><td>204.7</td><td>178.0</td><td>124.0</td><td>157.7</td><td>101.0</td><td>139.0</td><td> 83.6</td><td> 44.6</td></tr>\n",
       "\t<tr><th scope=row>2016</th><td> 39.6</td><td> 91.7</td><td> 22.7</td><td> 64.6</td><td>143.5</td><td>192.8</td><td>152.4</td><td>129.4</td><td>119.4</td><td>144.5</td><td>104.2</td><td>135.0</td></tr>\n",
       "\t<tr><th scope=row>2017</th><td> 49.7</td><td> 72.9</td><td> 45.6</td><td> 81.7</td><td>147.9</td><td>123.9</td><td>111.6</td><td>107.6</td><td> 97.9</td><td> 93.7</td><td> 75.1</td><td> 67.6</td></tr>\n",
       "</tbody>\n",
       "</table>\n"
      ],
      "text/latex": [
       "A Time Series: 5 × 12\n",
       "\\begin{tabular}{r|llllllllllll}\n",
       "  & Jan & Feb & Mar & Apr & May & Jun & Jul & Aug & Sep & Oct & Nov & Dec\\\\\n",
       "\\hline\n",
       "\t2013 &  12.2 &  38.9 &  75.4 &  69.0 & 158.0 & 161.7 & 119.9 & 140.9 &  89.4 & 134.9 &  68.8 & 158.7\\\\\n",
       "\t2014 & 119.2 &  31.9 &  14.9 &  13.5 & 181.5 & 120.3 & 133.0 & 107.6 & 137.7 & 134.6 &  86.3 &  87.5\\\\\n",
       "\t2015 &  98.9 &  43.8 &  32.4 & 114.3 & 204.7 & 178.0 & 124.0 & 157.7 & 101.0 & 139.0 &  83.6 &  44.6\\\\\n",
       "\t2016 &  39.6 &  91.7 &  22.7 &  64.6 & 143.5 & 192.8 & 152.4 & 129.4 & 119.4 & 144.5 & 104.2 & 135.0\\\\\n",
       "\t2017 &  49.7 &  72.9 &  45.6 &  81.7 & 147.9 & 123.9 & 111.6 & 107.6 &  97.9 &  93.7 &  75.1 &  67.6\\\\\n",
       "\\end{tabular}\n"
      ],
      "text/markdown": [
       "\n",
       "A Time Series: 5 × 12\n",
       "\n",
       "| <!--/--> | Jan | Feb | Mar | Apr | May | Jun | Jul | Aug | Sep | Oct | Nov | Dec |\n",
       "|---|---|---|---|---|---|---|---|---|---|---|---|---|\n",
       "| 2013 |  12.2 |  38.9 |  75.4 |  69.0 | 158.0 | 161.7 | 119.9 | 140.9 |  89.4 | 134.9 |  68.8 | 158.7 |\n",
       "| 2014 | 119.2 |  31.9 |  14.9 |  13.5 | 181.5 | 120.3 | 133.0 | 107.6 | 137.7 | 134.6 |  86.3 |  87.5 |\n",
       "| 2015 |  98.9 |  43.8 |  32.4 | 114.3 | 204.7 | 178.0 | 124.0 | 157.7 | 101.0 | 139.0 |  83.6 |  44.6 |\n",
       "| 2016 |  39.6 |  91.7 |  22.7 |  64.6 | 143.5 | 192.8 | 152.4 | 129.4 | 119.4 | 144.5 | 104.2 | 135.0 |\n",
       "| 2017 |  49.7 |  72.9 |  45.6 |  81.7 | 147.9 | 123.9 | 111.6 | 107.6 |  97.9 |  93.7 |  75.1 |  67.6 |\n",
       "\n"
      ],
      "text/plain": [
       "     Jan   Feb   Mar   Apr   May   Jun   Jul   Aug   Sep   Oct   Nov   Dec  \n",
       "2013  12.2  38.9  75.4  69.0 158.0 161.7 119.9 140.9  89.4 134.9  68.8 158.7\n",
       "2014 119.2  31.9  14.9  13.5 181.5 120.3 133.0 107.6 137.7 134.6  86.3  87.5\n",
       "2015  98.9  43.8  32.4 114.3 204.7 178.0 124.0 157.7 101.0 139.0  83.6  44.6\n",
       "2016  39.6  91.7  22.7  64.6 143.5 192.8 152.4 129.4 119.4 144.5 104.2 135.0\n",
       "2017  49.7  72.9  45.6  81.7 147.9 123.9 111.6 107.6  97.9  93.7  75.1  67.6"
      ]
     },
     "metadata": {},
     "output_type": "display_data"
    }
   ],
   "source": [
    "ts.sunhour"
   ]
  },
  {
   "cell_type": "markdown",
   "metadata": {},
   "source": [
    "## Câu 4"
   ]
  },
  {
   "cell_type": "code",
   "execution_count": 6,
   "metadata": {},
   "outputs": [
    {
     "data": {
      "image/png": "[encoded data removed]",
      "text/plain": [
       "Plot with title \"Ha Noi sun hour, from 01/2013 to 12/2017\""
      ]
     },
     "metadata": {
      "image/png": {
       "height": 420,
       "width": 420
      }
     },
     "output_type": "display_data"
    }
   ],
   "source": [
    "plot.ts(ts.sunhour, main = \"Ha Noi sun hour, from 01/2013 to 12/2017\", ylab = \"mm\", xlab = \"Month\", col = \"Blue\")"
   ]
  },
  {
   "cell_type": "markdown",
   "metadata": {},
   "source": [
    "## Câu 5"
   ]
  },
  {
   "cell_type": "code",
   "execution_count": 9,
   "metadata": {},
   "outputs": [
    {
     "data": {
      "image/png": "[encoded data removed]",
      "text/plain": [
       "plot without title"
      ]
     },
     "metadata": {
      "image/png": {
       "height": 420,
       "width": 420
      }
     },
     "output_type": "display_data"
    }
   ],
   "source": [
    "comp = decompose(ts.sunhour)\n",
    "plot(comp)"
   ]
  },
  {
   "cell_type": "code",
   "execution_count": 10,
   "metadata": {},
   "outputs": [
    {
     "data": {
      "text/plain": [
       "Holt-Winters exponential smoothing with trend and additive seasonal component.\n",
       "\n",
       "Call:\n",
       "HoltWinters(x = ts.sunhour)\n",
       "\n",
       "Smoothing parameters:\n",
       " alpha: 0.03763502\n",
       " beta : 0\n",
       " gamma: 0.5369928\n",
       "\n",
       "Coefficients:\n",
       "           [,1]\n",
       "a    78.5172753\n",
       "b    -0.7618007\n",
       "s1  -32.8581584\n",
       "s2  -22.5384533\n",
       "s3  -57.3302874\n",
       "s4  -18.5327794\n",
       "s5   64.9908804\n",
       "s6   56.1819295\n",
       "s7   34.4000375\n",
       "s8   30.7905150\n",
       "s9   16.4745850\n",
       "s10  28.2419628\n",
       "s11  -3.2419491\n",
       "s12   1.3162673"
      ]
     },
     "metadata": {},
     "output_type": "display_data"
    }
   ],
   "source": [
    "ts.sunhour.forecast = HoltWinters(ts.sunhour)\n",
    "ts.sunhour.forecast"
   ]
  },
  {
   "cell_type": "markdown",
   "metadata": {},
   "source": [
    "* alpha ~ 0,037: khá thấp, cho thấy giá trị hiện tại không phụ thuộc vào các giá trị gần đây trong quá khứ\n",
    "* beta ~ 0: độ dốc của trend không cập nhật trong thời gian qua\n",
    "* gamma ~ 0.53: ảnh hưởng của yếu tố mùa tại thời điểm hiện tại có phụ thuộc vào các giá trị gần"
   ]
  },
  {
   "cell_type": "code",
   "execution_count": 11,
   "metadata": {},
   "outputs": [
    {
     "data": {
      "image/png": "[encoded data removed]",
      "text/plain": [
       "Plot with title \"Sun hour: obeserver vs forecast\""
      ]
     },
     "metadata": {
      "image/png": {
       "height": 420,
       "width": 420
      }
     },
     "output_type": "display_data"
    }
   ],
   "source": [
    "plot(ts.sunhour.forecast, main = \"Sun hour: obeserver vs forecast\", xlab = \"Year\", ylab = \"Hour\")"
   ]
  },
  {
   "cell_type": "code",
   "execution_count": 12,
   "metadata": {},
   "outputs": [
    {
     "name": "stdout",
     "output_type": "stream",
     "text": [
      "[1] \"Next 6 months:\"\n",
      "         Point Forecast      Lo 80     Hi 80      Lo 95     Hi 95\n",
      "Jan 2018       65.11419  27.098188 103.13020   6.973730 123.25466\n",
      "Feb 2018       55.83721  17.821206  93.85322  -2.303252 113.97768\n",
      "Mar 2018       36.78541  -1.230591  74.80142 -21.355049  94.92588\n",
      "Apr 2018       68.56858  30.552573 106.58459  10.428115 126.70904\n",
      "May 2018      166.04784 128.031829 204.06384 107.907370 224.18830\n",
      "Jun 2018      156.96550 118.949494 194.98151  98.825036 215.10597\n"
     ]
    }
   ],
   "source": [
    "ts.sunhour.forecast_6m = forecast(ts.sunhour, h = 6)\n",
    "print(\"Next 6 months:\")\n",
    "print(ts.sunhour.forecast_6m)"
   ]
  },
  {
   "cell_type": "code",
   "execution_count": null,
   "metadata": {},
   "outputs": [],
   "source": []
  }
 ],
 "metadata": {
  "kernelspec": {
   "display_name": "R",
   "language": "R",
   "name": "ir"
  },
  "language_info": {
   "codemirror_mode": "r",
   "file_extension": ".r",
   "mimetype": "text/x-r-source",
   "name": "R",
   "pygments_lexer": "r",
   "version": "4.0.3"
  }
 },
 "nbformat": 4,
 "nbformat_minor": 4
}
