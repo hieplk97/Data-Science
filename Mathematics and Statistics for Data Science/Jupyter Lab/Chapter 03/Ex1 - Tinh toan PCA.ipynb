{
 "cells": [
  {
   "cell_type": "raw",
   "metadata": {},
   "source": [
    "\"\"\"============================================================================\n",
    "   Ex1: Tính toán PCA\n",
    "      a) Tạo một ma trận A(3000, 3) có các giá trị ngẫu nhiên từ 1 đến 255\n",
    "      b) Áp dụng tính toán PCA\n",
    "      c) Trực quan hóa kết quả \n",
    "============================================================================\"\"\""
   ]
  },
  {
   "cell_type": "code",
   "execution_count": 1,
   "metadata": {},
   "outputs": [],
   "source": [
    "import numpy as np\n",
    "from numpy import mean\n",
    "from numpy import cov\n",
    "from numpy.linalg import eig"
   ]
  },
  {
   "cell_type": "code",
   "execution_count": 3,
   "metadata": {},
   "outputs": [
    {
     "name": "stdout",
     "output_type": "stream",
     "text": [
      "\n",
      "*** a) Tạo ma trận có các giá trị ngẫu nhiên từ 1 đến 255:\n",
      "         - Matrix A (3000, 3) : \n",
      " [[ 79 141  44]\n",
      " [ 38  89 111]\n",
      " [  4  88 105]\n",
      " [149  72 135]\n",
      " [101  94 138]\n",
      " [ 22  85 105]\n",
      " [100 237 186]\n",
      " [ 58 165 124]\n",
      " [197 177  37]\n",
      " [165 242  69]] \n",
      "\n"
     ]
    }
   ],
   "source": [
    "# a) Tạo ma trận có các giá trị \"ngẫu nhiên\"\n",
    "print('\\n*** a) Tạo ma trận có các giá trị ngẫu nhiên từ 1 đến 255:')\n",
    "# set random seed to repeat\n",
    "np.random.seed(190)\n",
    "A = np.random.randint(1, 256, (3000,3))\n",
    "print('         - Matrix A', A.shape, ': \\n', A[0:10], '\\n')"
   ]
  },
  {
   "cell_type": "code",
   "execution_count": 4,
   "metadata": {},
   "outputs": [
    {
     "name": "stdout",
     "output_type": "stream",
     "text": [
      "\n",
      "*** b) Tính PCA:\n",
      "         - Mean vectors M: [126.01266667 126.57733333 126.186     ] \n",
      "\n"
     ]
    }
   ],
   "source": [
    "print('\\n*** b) Tính PCA:')\n",
    "# column means\\n\",\n",
    "M = mean(A.T, axis = 1)\n",
    "print('         - Mean vectors M:', M, '\\n')\n"
   ]
  },
  {
   "cell_type": "code",
   "execution_count": 5,
   "metadata": {},
   "outputs": [
    {
     "name": "stdout",
     "output_type": "stream",
     "text": [
      "         - Center matrix C (3000, 3) : \n",
      " [[ -47.01266667   14.42266667  -82.186     ]\n",
      " [ -88.01266667  -37.57733333  -15.186     ]\n",
      " [-122.01266667  -38.57733333  -21.186     ]\n",
      " [  22.98733333  -54.57733333    8.814     ]\n",
      " [ -25.01266667  -32.57733333   11.814     ]\n",
      " [-104.01266667  -41.57733333  -21.186     ]\n",
      " [ -26.01266667  110.42266667   59.814     ]\n",
      " [ -68.01266667   38.42266667   -2.186     ]\n",
      " [  70.98733333   50.42266667  -89.186     ]\n",
      " [  38.98733333  115.42266667  -57.186     ]] \n",
      "\n"
     ]
    }
   ],
   "source": [
    "# center columns by subtracting column means\n",
    "C = A - M\n",
    "print('         - Center matrix C', C.shape, ': \\n', C[0:10], '\\n')\n"
   ]
  },
  {
   "cell_type": "code",
   "execution_count": 6,
   "metadata": {},
   "outputs": [
    {
     "name": "stdout",
     "output_type": "stream",
     "text": [
      "         - Covariance matrix V (3, 3) : \n",
      " [[5332.68140002   83.51886006  -59.08071624]\n",
      " [  83.51886006 5425.84196688  106.27337379]\n",
      " [ -59.08071624  106.27337379 5608.3741954 ]] \n",
      "\n"
     ]
    }
   ],
   "source": [
    "# calculate covariance matrix of centered matrix\n",
    "V = cov(C.T)\n",
    "print('         - Covariance matrix V', V.shape, ': \\n', V, '\\n')"
   ]
  },
  {
   "cell_type": "code",
   "execution_count": 7,
   "metadata": {},
   "outputs": [
    {
     "name": "stdout",
     "output_type": "stream",
     "text": [
      "\n",
      "*** b) Eigendecomposition:\n",
      "         - Eigenvectors P (3, 3) : \n",
      " [[-0.78030613  0.62203136 -0.06480225]\n",
      " [ 0.55224511  0.7339544   0.39539383]\n",
      " [-0.29350927 -0.2727415   0.91622289]] \n",
      "\n",
      "         - Eigenvalues Lambda (3,) : \n",
      " [5251.34970535 5457.13299907 5658.41485788] \n",
      "\n"
     ]
    }
   ],
   "source": [
    "# factorize covariance matrix\n",
    "eigenvalues, eigenvectors = eig(V)\n",
    "\n",
    "print('\\n*** b) Eigendecomposition:')\n",
    "print('         - Eigenvectors P', eigenvectors.shape, ': \\n', eigenvectors, '\\n')\n",
    "print('         - Eigenvalues Lambda', eigenvalues.shape, ': \\n', eigenvalues, '\\n')\n"
   ]
  },
  {
   "cell_type": "code",
   "execution_count": 8,
   "metadata": {},
   "outputs": [
    {
     "name": "stdout",
     "output_type": "stream",
     "text": [
      "[[  68.77147141    3.75775968  -66.55153416]\n",
      " [  52.38215614  -78.18483555  -23.06818757]\n",
      " [  80.12137491  -98.43140729  -26.75764212]\n",
      " ...\n",
      " [  23.27167441  -91.31931987 -107.24695672]\n",
      " [-115.87133389    2.29863061  -63.9237229 ]\n",
      " [ -39.65243049  126.97690536   76.19053965]]\n"
     ]
    }
   ],
   "source": [
    "# project data\n",
    "P = eigenvectors.T.dot(C.T)\n",
    "print(P.T)"
   ]
  },
  {
   "cell_type": "code",
   "execution_count": null,
   "metadata": {},
   "outputs": [],
   "source": []
  }
 ],
 "metadata": {
  "kernelspec": {
   "display_name": "Python 3",
   "language": "python",
   "name": "python3"
  },
  "language_info": {
   "codemirror_mode": {
    "name": "ipython",
    "version": 3
   },
   "file_extension": ".py",
   "mimetype": "text/x-python",
   "name": "python",
   "nbconvert_exporter": "python",
   "pygments_lexer": "ipython3",
   "version": "3.8.5"
  }
 },
 "nbformat": 4,
 "nbformat_minor": 4
}
