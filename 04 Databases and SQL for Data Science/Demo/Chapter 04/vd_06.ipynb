{
 "cells": [
  {
   "cell_type": "code",
   "execution_count": 8,
   "metadata": {},
   "outputs": [],
   "source": [
    "# import thu vien\n",
    "from mysql.connector import connect"
   ]
  },
  {
   "cell_type": "code",
   "execution_count": 9,
   "metadata": {},
   "outputs": [],
   "source": [
    "# ket noi den CSDL\n",
    "conn = connect(host='172.24.40.247', database='salesdb', user='hv', password='123456', \n",
    "               port='3306')"
   ]
  },
  {
   "cell_type": "code",
   "execution_count": 11,
   "metadata": {},
   "outputs": [],
   "source": [
    "# xin cap cursor\n",
    "cur = conn.cursor()"
   ]
  },
  {
   "cell_type": "code",
   "execution_count": 12,
   "metadata": {},
   "outputs": [
    {
     "name": "stdout",
     "output_type": "stream",
     "text": [
      "1 : (1, 'Maria', 'Anders', 'Berlin', 'Germany', '030-0074321')\n",
      "2 : (6, 'Hanna', 'Moos', 'Mannheim', 'Germany', '0621-08460')\n",
      "3 : (17, 'Sven', 'Ottlieb', 'Aachen', 'Germany', '0241-039123')\n",
      "4 : (25, 'Peter', 'Franken', 'München', 'Germany', '089-0877310')\n",
      "5 : (39, 'Philip', 'Cramer', 'Brandenburg', 'Germany', '0555-09876')\n",
      "6 : (44, 'Renate', 'Messner', 'Frankfurt a.M.', 'Germany', '069-0245984')\n",
      "7 : (52, 'Alexander', 'Feuer', 'Leipzig', 'Germany', '0342-023176')\n",
      "8 : (56, 'Henriette', 'Pfalzheim', 'Köln', 'Germany', '0221-0644327')\n",
      "9 : (63, 'Horst', 'Kloss', 'Cunewalde', 'Germany', '0372-035188')\n",
      "10 : (79, 'Karin', 'Josephs', 'Münster', 'Germany', '0251-031259')\n",
      "11 : (86, 'Rita', 'Müller', 'Stuttgart', 'Germany', '0711-020361')\n"
     ]
    }
   ],
   "source": [
    "stm = \"\"\"\n",
    "SELECT *\n",
    "FROM customers\n",
    "WHERE Country='Germany'\n",
    "\"\"\"\n",
    "cur.execute(stm)\n",
    "# doc va in ra\n",
    "row = cur.fetchone() # doc dong dau tien\n",
    "while row:\n",
    "    print(cur.rowcount, ':', row)\n",
    "    row = cur.fetchone()"
   ]
  },
  {
   "cell_type": "code",
   "execution_count": 6,
   "metadata": {},
   "outputs": [
    {
     "data": {
      "text/plain": [
       "True"
      ]
     },
     "execution_count": 6,
     "metadata": {},
     "output_type": "execute_result"
    }
   ],
   "source": [
    "cur.close()"
   ]
  },
  {
   "cell_type": "code",
   "execution_count": 7,
   "metadata": {},
   "outputs": [],
   "source": [
    "conn.close()"
   ]
  },
  {
   "cell_type": "code",
   "execution_count": null,
   "metadata": {},
   "outputs": [],
   "source": []
  }
 ],
 "metadata": {
  "kernelspec": {
   "display_name": "Python 3",
   "language": "python",
   "name": "python3"
  },
  "language_info": {
   "codemirror_mode": {
    "name": "ipython",
    "version": 3
   },
   "file_extension": ".py",
   "mimetype": "text/x-python",
   "name": "python",
   "nbconvert_exporter": "python",
   "pygments_lexer": "ipython3",
   "version": "3.8.3"
  }
 },
 "nbformat": 4,
 "nbformat_minor": 4
}
