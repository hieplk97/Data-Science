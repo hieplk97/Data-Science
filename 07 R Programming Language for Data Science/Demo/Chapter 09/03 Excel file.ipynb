{
 "cells": [
  {
   "cell_type": "code",
   "execution_count": 1,
   "metadata": {},
   "outputs": [],
   "source": [
    "setwd(\"E:\\\\Data Science\\\\07 R Programming Language for Data Science\\\\Data\")"
   ]
  },
  {
   "cell_type": "code",
   "execution_count": 2,
   "metadata": {},
   "outputs": [],
   "source": [
    "library(\"xlsx\")"
   ]
  },
  {
   "cell_type": "markdown",
   "metadata": {},
   "source": [
    "# Read excel file"
   ]
  },
  {
   "cell_type": "code",
   "execution_count": 3,
   "metadata": {},
   "outputs": [
    {
     "name": "stdout",
     "output_type": "stream",
     "text": [
      "  id     name salary start_date       dept\n",
      "1  1     Rick 623.30 2012-01-01         IT\n",
      "2  2      Dan 515.20 2013-09-23 Operations\n",
      "3  3 Michelle 611.00 2014-11-15         IT\n",
      "4  4     Ryan 729.00 2014-05-11         HR\n",
      "5        Gary 843.25 2015-03-27    Finance\n",
      "6  6     Nina 578.00 2013-05-21         IT\n",
      "7  7    Simon 632.80 2013-07-30 Operations\n",
      "8  8     Guru 722.50 2014-06-17    Finance\n"
     ]
    }
   ],
   "source": [
    "data = read.xlsx(\"emp_data.xlsx\", sheetIndex = 1)\n",
    "print(data)"
   ]
  },
  {
   "cell_type": "code",
   "execution_count": 4,
   "metadata": {},
   "outputs": [
    {
     "name": "stdout",
     "output_type": "stream",
     "text": [
      "      name    city\n",
      "1     Rick Seattle\n",
      "2      Dan   Tampa\n",
      "3 Michelle Chicago\n",
      "4     Ryan Seattle\n",
      "5     Gary Houston\n",
      "6     Nina  Boston\n",
      "7    Simon  Mumbai\n",
      "8     Guru  Dallas\n"
     ]
    }
   ],
   "source": [
    "data = read.xlsx(\"emp_data.xlsx\", sheetName = \"city\")\n",
    "print(data)"
   ]
  },
  {
   "cell_type": "markdown",
   "metadata": {},
   "source": [
    "# Write excel file"
   ]
  },
  {
   "cell_type": "code",
   "execution_count": 5,
   "metadata": {},
   "outputs": [
    {
     "name": "stdout",
     "output_type": "stream",
     "text": [
      "  id     name salary start_date dept\n",
      "1  1     Rick  623.3 2012-01-01   IT\n",
      "3  3 Michelle  611.0 2014-11-15   IT\n",
      "6  6     Nina  578.0 2013-05-21   IT\n"
     ]
    }
   ],
   "source": [
    "data = read.csv(\"emp.csv\")\n",
    "retval = subset(data, dept == \"IT\")\n",
    "print(retval)"
   ]
  },
  {
   "cell_type": "code",
   "execution_count": 6,
   "metadata": {},
   "outputs": [
    {
     "name": "stdout",
     "output_type": "stream",
     "text": [
      "  NA. id     name salary start_date dept\n",
      "1   1  1     Rick  623.3 2012-01-01   IT\n",
      "2   3  3 Michelle  611.0 2014-11-15   IT\n",
      "3   6  6     Nina  578.0 2013-05-21   IT\n"
     ]
    }
   ],
   "source": [
    "write.xlsx(retval, file = \"emp_data.xlsx\", sheetName = \"Sheet1\", append = FALSE)\n",
    "newdata = read.xlsx(\"emp_data.xlsx\", sheetName = \"Sheet1\")\n",
    "print(newdata)"
   ]
  }
 ],
 "metadata": {
  "kernelspec": {
   "display_name": "R",
   "language": "R",
   "name": "ir"
  },
  "language_info": {
   "codemirror_mode": "r",
   "file_extension": ".r",
   "mimetype": "text/x-r-source",
   "name": "R",
   "pygments_lexer": "r",
   "version": "4.0.3"
  }
 },
 "nbformat": 4,
 "nbformat_minor": 4
}
