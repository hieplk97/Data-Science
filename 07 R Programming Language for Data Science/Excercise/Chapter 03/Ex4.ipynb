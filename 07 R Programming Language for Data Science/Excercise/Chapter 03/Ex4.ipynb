{
 "cells": [
  {
   "cell_type": "code",
   "execution_count": 1,
   "metadata": {},
   "outputs": [
    {
     "name": "stdin",
     "output_type": "stream",
     "text": [
      "input scissor/rock/paper:  scissor\n",
      "input scissor/rock/paper:  paper\n"
     ]
    }
   ],
   "source": [
    "player_1 = readline(prompt = \"input scissor/rock/paper: \")\n",
    "player_2 = readline(prompt = \"input scissor/rock/paper: \")"
   ]
  },
  {
   "cell_type": "code",
   "execution_count": 2,
   "metadata": {},
   "outputs": [],
   "source": [
    "result = \"\"\n",
    "\n",
    "if (player_1 == player_2){\n",
    "    result = \"Draw\"\n",
    "} else if (player_1 == \"scissor\"){\n",
    "    if (player_2 == \"rock\"){\n",
    "        result = \"Player 2 win\"\n",
    "    }else{\n",
    "        result = \"Player 1 win\"\n",
    "    }\n",
    "} else if (player_1 == \"rock\"){\n",
    "    if (player_2 == \"scissor\"){\n",
    "        result = \"Player 2 win\"\n",
    "    }else{\n",
    "        result = \"Player 1 win\"\n",
    "    }\n",
    "} else if (player_1 == \"paper\"){\n",
    "    if (player_2 == \"scissor\"){\n",
    "        result = \"Player 2 win\"\n",
    "    }else{\n",
    "        result = \"Player 1 win\"\n",
    "    }\n",
    "}"
   ]
  },
  {
   "cell_type": "code",
   "execution_count": 3,
   "metadata": {},
   "outputs": [
    {
     "name": "stdout",
     "output_type": "stream",
     "text": [
      "[1] \"Player 1 chooses  scissor\"\n",
      "[1] \"Player 2 chooses  paper\"\n",
      "[1] \"Player 1 win\"\n"
     ]
    }
   ],
   "source": [
    "print(paste(\"Player 1 chooses \", player_1))\n",
    "print(paste(\"Player 2 chooses \", player_2))\n",
    "print(result)"
   ]
  },
  {
   "cell_type": "code",
   "execution_count": null,
   "metadata": {},
   "outputs": [],
   "source": []
  }
 ],
 "metadata": {
  "kernelspec": {
   "display_name": "R",
   "language": "R",
   "name": "ir"
  },
  "language_info": {
   "codemirror_mode": "r",
   "file_extension": ".r",
   "mimetype": "text/x-r-source",
   "name": "R",
   "pygments_lexer": "r",
   "version": "4.0.3"
  }
 },
 "nbformat": 4,
 "nbformat_minor": 4
}
