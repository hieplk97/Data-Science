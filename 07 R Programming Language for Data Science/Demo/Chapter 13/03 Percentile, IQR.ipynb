{
 "cells": [
  {
   "cell_type": "code",
   "execution_count": 1,
   "metadata": {},
   "outputs": [],
   "source": [
    "age = c(15, 16, 15, 15, 16, 25, 19, 18, 15, 24, 17, 18, 18, 15)"
   ]
  },
  {
   "cell_type": "markdown",
   "metadata": {},
   "source": [
    "# Percentile"
   ]
  },
  {
   "cell_type": "code",
   "execution_count": 2,
   "metadata": {},
   "outputs": [
    {
     "data": {
      "text/html": [
       "<style>\n",
       ".dl-inline {width: auto; margin:0; padding: 0}\n",
       ".dl-inline>dt, .dl-inline>dd {float: none; width: auto; display: inline-block}\n",
       ".dl-inline>dt::after {content: \":\\0020\"; padding-right: .5ex}\n",
       ".dl-inline>dt:not(:first-of-type) {padding-left: .5ex}\n",
       "</style><dl class=dl-inline><dt>35%</dt><dd>15.55</dd><dt>50%</dt><dd>16.5</dd><dt>98%</dt><dd>24.74</dd></dl>\n"
      ],
      "text/latex": [
       "\\begin{description*}\n",
       "\\item[35\\textbackslash{}\\%] 15.55\n",
       "\\item[50\\textbackslash{}\\%] 16.5\n",
       "\\item[98\\textbackslash{}\\%] 24.74\n",
       "\\end{description*}\n"
      ],
      "text/markdown": [
       "35%\n",
       ":   15.5550%\n",
       ":   16.598%\n",
       ":   24.74\n",
       "\n"
      ],
      "text/plain": [
       "  35%   50%   98% \n",
       "15.55 16.50 24.74 "
      ]
     },
     "metadata": {},
     "output_type": "display_data"
    }
   ],
   "source": [
    "quantile(age, c(0.35, 0.5, .98))"
   ]
  },
  {
   "cell_type": "markdown",
   "metadata": {},
   "source": [
    "# Quartile"
   ]
  },
  {
   "cell_type": "code",
   "execution_count": 3,
   "metadata": {},
   "outputs": [
    {
     "data": {
      "text/html": [
       "<style>\n",
       ".dl-inline {width: auto; margin:0; padding: 0}\n",
       ".dl-inline>dt, .dl-inline>dd {float: none; width: auto; display: inline-block}\n",
       ".dl-inline>dt::after {content: \":\\0020\"; padding-right: .5ex}\n",
       ".dl-inline>dt:not(:first-of-type) {padding-left: .5ex}\n",
       "</style><dl class=dl-inline><dt>0%</dt><dd>15</dd><dt>25%</dt><dd>15</dd><dt>50%</dt><dd>16.5</dd><dt>75%</dt><dd>18</dd><dt>100%</dt><dd>25</dd></dl>\n"
      ],
      "text/latex": [
       "\\begin{description*}\n",
       "\\item[0\\textbackslash{}\\%] 15\n",
       "\\item[25\\textbackslash{}\\%] 15\n",
       "\\item[50\\textbackslash{}\\%] 16.5\n",
       "\\item[75\\textbackslash{}\\%] 18\n",
       "\\item[100\\textbackslash{}\\%] 25\n",
       "\\end{description*}\n"
      ],
      "text/markdown": [
       "0%\n",
       ":   1525%\n",
       ":   1550%\n",
       ":   16.575%\n",
       ":   18100%\n",
       ":   25\n",
       "\n"
      ],
      "text/plain": [
       "  0%  25%  50%  75% 100% \n",
       "15.0 15.0 16.5 18.0 25.0 "
      ]
     },
     "metadata": {},
     "output_type": "display_data"
    }
   ],
   "source": [
    "quantile(age)"
   ]
  },
  {
   "cell_type": "markdown",
   "metadata": {},
   "source": [
    "# IQR"
   ]
  },
  {
   "cell_type": "code",
   "execution_count": 4,
   "metadata": {},
   "outputs": [
    {
     "data": {
      "text/html": [
       "3"
      ],
      "text/latex": [
       "3"
      ],
      "text/markdown": [
       "3"
      ],
      "text/plain": [
       "[1] 3"
      ]
     },
     "metadata": {},
     "output_type": "display_data"
    }
   ],
   "source": [
    "IQR(age)"
   ]
  },
  {
   "cell_type": "code",
   "execution_count": null,
   "metadata": {},
   "outputs": [],
   "source": []
  }
 ],
 "metadata": {
  "kernelspec": {
   "display_name": "R",
   "language": "R",
   "name": "ir"
  },
  "language_info": {
   "codemirror_mode": "r",
   "file_extension": ".r",
   "mimetype": "text/x-r-source",
   "name": "R",
   "pygments_lexer": "r",
   "version": "4.0.3"
  }
 },
 "nbformat": 4,
 "nbformat_minor": 4
}
