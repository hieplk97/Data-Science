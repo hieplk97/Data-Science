{
 "cells": [
  {
   "cell_type": "markdown",
   "metadata": {
    "id": "htieX36WILOL"
   },
   "source": [
    "# Demo Pipeline Linear Regression"
   ]
  },
  {
   "cell_type": "markdown",
   "metadata": {
    "id": "BX15GVB5ILOL"
   },
   "source": [
    "### Dataset: flights.csv\n",
    "- You'll build a regression model to predict flight duration \n",
    "- With dow, org, mile as a predictor"
   ]
  },
  {
   "cell_type": "markdown",
   "metadata": {
    "id": "07jAfrdhILOM"
   },
   "source": [
    "First thing to do is start a Spark Session"
   ]
  },
  {
   "cell_type": "code",
   "execution_count": 1,
   "metadata": {
    "id": "56yI2SNpILOO"
   },
   "outputs": [],
   "source": [
    "import findspark\n",
    "findspark.init()"
   ]
  },
  {
   "cell_type": "code",
   "execution_count": 2,
   "metadata": {
    "id": "HTl7r5lTILOQ"
   },
   "outputs": [],
   "source": [
    "import pyspark"
   ]
  },
  {
   "cell_type": "code",
   "execution_count": 3,
   "metadata": {
    "id": "wEAWgYNVILOT"
   },
   "outputs": [],
   "source": [
    "from pyspark import SparkContext\n",
    "from pyspark.conf import SparkConf\n",
    "from pyspark.sql import SparkSession\n",
    "\n",
    "from pyspark.ml.regression import LinearRegression\n",
    "from pyspark.ml.feature import StringIndexer\n",
    "from pyspark.ml.feature import OneHotEncoder\n",
    "from pyspark.ml.linalg import Vectors\n",
    "from pyspark.ml.feature import VectorAssembler"
   ]
  },
  {
   "cell_type": "code",
   "execution_count": 4,
   "metadata": {
    "id": "4Z3YBe6bILOV"
   },
   "outputs": [],
   "source": [
    "spark = SparkSession.builder.appName('lr_demo').getOrCreate()"
   ]
  },
  {
   "cell_type": "code",
   "execution_count": 5,
   "metadata": {
    "id": "9--eXhWQILOX"
   },
   "outputs": [],
   "source": [
    "# Use Spark to read in the Ecommerce Customers csv file.\n",
    "data = spark.read.csv(\"../../Data/flights.csv\",inferSchema=True,header=True)"
   ]
  },
  {
   "cell_type": "code",
   "execution_count": 6,
   "metadata": {
    "id": "p5Gc7RpCILOZ",
    "outputId": "b1b5df58-d984-4818-c203-c8ea8f9e1cd8"
   },
   "outputs": [
    {
     "name": "stdout",
     "output_type": "stream",
     "text": [
      "root\n",
      " |-- mon: integer (nullable = true)\n",
      " |-- dom: integer (nullable = true)\n",
      " |-- dow: integer (nullable = true)\n",
      " |-- carrier: string (nullable = true)\n",
      " |-- flight: integer (nullable = true)\n",
      " |-- org: string (nullable = true)\n",
      " |-- mile: integer (nullable = true)\n",
      " |-- depart: double (nullable = true)\n",
      " |-- duration: integer (nullable = true)\n",
      " |-- delay: string (nullable = true)\n",
      "\n"
     ]
    }
   ],
   "source": [
    "# Print the Schema of the DataFrame\n",
    "data.printSchema()"
   ]
  },
  {
   "cell_type": "code",
   "execution_count": 7,
   "metadata": {
    "id": "wKMl-nIvILOe",
    "outputId": "de5c3a95-43e9-4367-f42a-278c2daeaa3f"
   },
   "outputs": [
    {
     "name": "stdout",
     "output_type": "stream",
     "text": [
      "+---+---+---+-------+------+---+----+------+--------+-----+\n",
      "|mon|dom|dow|carrier|flight|org|mile|depart|duration|delay|\n",
      "+---+---+---+-------+------+---+----+------+--------+-----+\n",
      "| 11| 20|  6|     US|    19|JFK|2153|  9.48|     351|   NA|\n",
      "|  0| 22|  2|     UA|  1107|ORD| 316| 16.33|      82|   30|\n",
      "|  2| 20|  4|     UA|   226|SFO| 337|  6.17|      82|   -8|\n",
      "+---+---+---+-------+------+---+----+------+--------+-----+\n",
      "only showing top 3 rows\n",
      "\n"
     ]
    }
   ],
   "source": [
    "data.show(3)"
   ]
  },
  {
   "cell_type": "code",
   "execution_count": 8,
   "metadata": {
    "id": "ZlEOiqwtILOh",
    "outputId": "92fc43c8-5fe9-4c3c-9aad-2aa3f4cebcef"
   },
   "outputs": [
    {
     "data": {
      "text/plain": [
       "Row(mon=11, dom=20, dow=6, carrier='US', flight=19, org='JFK', mile=2153, depart=9.48, duration=351, delay='NA')"
      ]
     },
     "execution_count": 8,
     "metadata": {},
     "output_type": "execute_result"
    }
   ],
   "source": [
    "data.head()"
   ]
  },
  {
   "cell_type": "code",
   "execution_count": 9,
   "metadata": {
    "id": "wWfwRZEMILOj"
   },
   "outputs": [],
   "source": [
    "# for item in data.head():\n",
    "#     print(item)"
   ]
  },
  {
   "cell_type": "code",
   "execution_count": 10,
   "metadata": {
    "id": "hkonA9VXILOl",
    "outputId": "99876fa5-6e5a-4ada-f008-b55f378ae5ee"
   },
   "outputs": [
    {
     "data": {
      "text/plain": [
       "50000"
      ]
     },
     "execution_count": 10,
     "metadata": {},
     "output_type": "execute_result"
    }
   ],
   "source": [
    "data.count()"
   ]
  },
  {
   "cell_type": "code",
   "execution_count": 11,
   "metadata": {
    "id": "MS8SkhJWILOo"
   },
   "outputs": [],
   "source": [
    "# Remove the 'flight' column\n",
    "data = data.drop('flight')"
   ]
  },
  {
   "cell_type": "code",
   "execution_count": 12,
   "metadata": {
    "id": "wVArl35CILOq",
    "outputId": "3be1251e-eade-4c01-f786-bc982d7009cd"
   },
   "outputs": [
    {
     "data": {
      "text/plain": [
       "0"
      ]
     },
     "execution_count": 12,
     "metadata": {},
     "output_type": "execute_result"
    }
   ],
   "source": [
    "# Number of records with missing 'delay' values\n",
    "data.filter('delay IS NULL').count()"
   ]
  },
  {
   "cell_type": "code",
   "execution_count": 13,
   "metadata": {
    "id": "w9c00fcpILOs"
   },
   "outputs": [],
   "source": [
    "# Remove records with missing 'delay' values\n",
    "data = data.filter('delay IS NOT NULL')"
   ]
  },
  {
   "cell_type": "code",
   "execution_count": 14,
   "metadata": {
    "id": "X4-ITkOsILOv",
    "outputId": "a0e180a2-45cf-4afb-b6ce-d9333ccaeaea"
   },
   "outputs": [
    {
     "data": {
      "text/plain": [
       "50000"
      ]
     },
     "execution_count": 14,
     "metadata": {},
     "output_type": "execute_result"
    }
   ],
   "source": [
    "# Remove records with missing values in any column and get the number of remaining rows\n",
    "data = data.na.drop()\n",
    "data.count()"
   ]
  },
  {
   "cell_type": "code",
   "execution_count": 15,
   "metadata": {
    "id": "m5vet7cwILOx"
   },
   "outputs": [],
   "source": [
    "# Import the required function\n",
    "from pyspark.sql.functions import round"
   ]
  },
  {
   "cell_type": "code",
   "execution_count": 16,
   "metadata": {
    "id": "yLj744ytILOz"
   },
   "outputs": [],
   "source": [
    "# Convert 'mile' to 'km' and drop 'mile' column\n",
    "data = data.withColumn('km', round(data.mile * 1.60934, 0))"
   ]
  },
  {
   "cell_type": "code",
   "execution_count": 17,
   "metadata": {
    "id": "bVH4QEMdILO1",
    "outputId": "24f17c56-8a4a-4912-fb03-a06b82b4259e"
   },
   "outputs": [
    {
     "name": "stdout",
     "output_type": "stream",
     "text": [
      "+---+---+---+-------+---+----+------+--------+-----+------+-----+\n",
      "|mon|dom|dow|carrier|org|mile|depart|duration|delay|    km|label|\n",
      "+---+---+---+-------+---+----+------+--------+-----+------+-----+\n",
      "| 11| 20|  6|     US|JFK|2153|  9.48|     351|   NA|3465.0| null|\n",
      "|  0| 22|  2|     UA|ORD| 316| 16.33|      82|   30| 509.0|    1|\n",
      "|  2| 20|  4|     UA|SFO| 337|  6.17|      82|   -8| 542.0|    0|\n",
      "|  9| 13|  1|     AA|ORD|1236| 10.33|     195|   -5|1989.0|    0|\n",
      "|  4|  2|  5|     AA|ORD| 258|  8.92|      65|   NA| 415.0| null|\n",
      "+---+---+---+-------+---+----+------+--------+-----+------+-----+\n",
      "only showing top 5 rows\n",
      "\n"
     ]
    }
   ],
   "source": [
    "# Create 'label' column indicating whether flight delayed (1) or not (0)\n",
    "data = data.withColumn('label', (data.delay >= 15).cast('integer'))\n",
    "# Check first five records\n",
    "data.show(5)"
   ]
  },
  {
   "cell_type": "code",
   "execution_count": 18,
   "metadata": {
    "id": "x81Ip4tDILO_",
    "outputId": "5d51f7db-93a6-48e3-93af-33978c072c87"
   },
   "outputs": [
    {
     "name": "stdout",
     "output_type": "stream",
     "text": [
      "+---+---+---+-------+---+----+------+--------+-----+------+-----+\n",
      "|mon|dom|dow|carrier|org|mile|depart|duration|delay|    km|label|\n",
      "+---+---+---+-------+---+----+------+--------+-----+------+-----+\n",
      "|  0| 22|  2|     UA|ORD| 316| 16.33|      82|   30| 509.0|    1|\n",
      "|  2| 20|  4|     UA|SFO| 337|  6.17|      82|   -8| 542.0|    0|\n",
      "|  9| 13|  1|     AA|ORD|1236| 10.33|     195|   -5|1989.0|    0|\n",
      "|  5|  2|  1|     UA|SFO| 550|  7.98|     102|    2| 885.0|    0|\n",
      "|  7|  2|  6|     AA|ORD| 733| 10.83|     135|   54|1180.0|    1|\n",
      "+---+---+---+-------+---+----+------+--------+-----+------+-----+\n",
      "only showing top 5 rows\n",
      "\n"
     ]
    }
   ],
   "source": [
    "final_data = data\n",
    "final_data.count()\n",
    "\n",
    "final_data = final_data.na.drop()\n",
    "final_data.count()\n",
    "\n",
    "final_data.show(5)"
   ]
  },
  {
   "cell_type": "markdown",
   "metadata": {
    "id": "dFJSoLs_wZuO"
   },
   "source": [
    "# Thực hiện Pipeline"
   ]
  },
  {
   "cell_type": "code",
   "execution_count": 19,
   "metadata": {},
   "outputs": [],
   "source": [
    "train_data, test_data = final_data.randomSplit([0.8, 0.2])"
   ]
  },
  {
   "cell_type": "code",
   "execution_count": 20,
   "metadata": {},
   "outputs": [],
   "source": [
    "# Import class for creating a pipeline\n",
    "from pyspark.ml import Pipeline"
   ]
  },
  {
   "cell_type": "code",
   "execution_count": 21,
   "metadata": {},
   "outputs": [],
   "source": [
    "# Convert categorical strings to index values\n",
    "indexer = StringIndexer(inputCol='org', outputCol='org_idx')\n",
    "# One-hot encode index values\n",
    "onehot = OneHotEncoder(inputCols=['org_idx', 'dow'], outputCols=['org_dummy', 'dow_dummy'])\n",
    "# Assemble predictors into a single column\n",
    "assembler = VectorAssembler(inputCols=['km', 'org_dummy', 'dow_dummy'], outputCol='features')\n",
    "# A linear regression object\n",
    "regression = LinearRegression(featuresCol='features', labelCol='duration', predictionCol='prediction')"
   ]
  },
  {
   "cell_type": "code",
   "execution_count": 22,
   "metadata": {},
   "outputs": [],
   "source": [
    "# Construct a pipeLine\n",
    "pipeline = Pipeline(stages=[indexer, onehot, assembler, regression])\n",
    "# Train the pipeline on the training data\n",
    "pipeline = pipeline.fit(test_data)"
   ]
  },
  {
   "cell_type": "markdown",
   "metadata": {},
   "source": [
    "### Đánh giá kết quả"
   ]
  },
  {
   "cell_type": "code",
   "execution_count": 23,
   "metadata": {},
   "outputs": [],
   "source": [
    "# Make predictions on the testing data\n",
    "predictions = pipeline.transform(test_data)"
   ]
  },
  {
   "cell_type": "code",
   "execution_count": 24,
   "metadata": {},
   "outputs": [
    {
     "name": "stdout",
     "output_type": "stream",
     "text": [
      "+------------------+--------+\n",
      "|        prediction|duration|\n",
      "+------------------+--------+\n",
      "| 92.06544884577296|      85|\n",
      "|131.49858178771746|     135|\n",
      "|131.49858178771746|     130|\n",
      "|164.47091893691396|     170|\n",
      "| 76.54487590652394|      80|\n",
      "+------------------+--------+\n",
      "only showing top 5 rows\n",
      "\n"
     ]
    }
   ],
   "source": [
    "# Inspect results\n",
    "predictions.select(\"prediction\", \"duration\").show(5)"
   ]
  },
  {
   "cell_type": "code",
   "execution_count": 25,
   "metadata": {},
   "outputs": [],
   "source": [
    "from pyspark.ml.evaluation import RegressionEvaluator"
   ]
  },
  {
   "cell_type": "code",
   "execution_count": 26,
   "metadata": {},
   "outputs": [
    {
     "data": {
      "text/plain": [
       "11.102217054757931"
      ]
     },
     "execution_count": 26,
     "metadata": {},
     "output_type": "execute_result"
    }
   ],
   "source": [
    "RegressionEvaluator(labelCol='duration').evaluate(predictions)"
   ]
  },
  {
   "cell_type": "markdown",
   "metadata": {},
   "source": [
    "### Lưu và load model"
   ]
  },
  {
   "cell_type": "code",
   "execution_count": 27,
   "metadata": {},
   "outputs": [],
   "source": [
    "# Save pipiline model\n",
    "pipeline.save(\"Pipeline_flight_50k\")"
   ]
  },
  {
   "cell_type": "code",
   "execution_count": 29,
   "metadata": {},
   "outputs": [],
   "source": [
    "# Load pipeline model\n",
    "from pyspark.ml import PipelineModel"
   ]
  },
  {
   "cell_type": "code",
   "execution_count": 30,
   "metadata": {},
   "outputs": [],
   "source": [
    "pipeline2 = PipelineModel.load('Pipeline_flight_50k')"
   ]
  },
  {
   "cell_type": "markdown",
   "metadata": {},
   "source": [
    "### Dự đoán mẫu mới"
   ]
  },
  {
   "cell_type": "code",
   "execution_count": 31,
   "metadata": {},
   "outputs": [],
   "source": [
    "# Predict new values (Assuming select test_data)\n",
    "unlabeled_data = test_data.drop('label')"
   ]
  },
  {
   "cell_type": "code",
   "execution_count": 35,
   "metadata": {},
   "outputs": [],
   "source": [
    "# Make predictions on the new data\n",
    "predictions2 = pipeline2.transform(unlabeled_data)"
   ]
  },
  {
   "cell_type": "code",
   "execution_count": 37,
   "metadata": {},
   "outputs": [
    {
     "name": "stdout",
     "output_type": "stream",
     "text": [
      "+--------------------+------------------+\n",
      "|            features|        prediction|\n",
      "+--------------------+------------------+\n",
      "|(14,[0,1,10],[649...| 92.06544884577296|\n",
      "|(14,[0,1,10],[118...|131.49858178771746|\n",
      "|(14,[0,1,10],[118...|131.49858178771746|\n",
      "|(14,[0,1,10],[162...|164.47091893691396|\n",
      "|(14,[0,2,10],[542...| 76.54487590652394|\n",
      "+--------------------+------------------+\n",
      "only showing top 5 rows\n",
      "\n"
     ]
    }
   ],
   "source": [
    "# Inspect results\n",
    "predictions2.select('features', 'prediction').show(5)"
   ]
  },
  {
   "cell_type": "code",
   "execution_count": null,
   "metadata": {},
   "outputs": [],
   "source": []
  }
 ],
 "metadata": {
  "anaconda-cloud": {},
  "colab": {
   "collapsed_sections": [],
   "name": "demo_Pipeline_LR_flights_student.ipynb",
   "provenance": []
  },
  "kernelspec": {
   "display_name": "Python 3",
   "language": "python",
   "name": "python3"
  },
  "language_info": {
   "codemirror_mode": {
    "name": "ipython",
    "version": 3
   },
   "file_extension": ".py",
   "mimetype": "text/x-python",
   "name": "python",
   "nbconvert_exporter": "python",
   "pygments_lexer": "ipython3",
   "version": "3.8.3"
  }
 },
 "nbformat": 4,
 "nbformat_minor": 4
}
