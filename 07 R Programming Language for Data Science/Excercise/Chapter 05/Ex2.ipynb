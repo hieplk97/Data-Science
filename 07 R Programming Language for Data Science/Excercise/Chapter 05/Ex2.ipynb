{
 "cells": [
  {
   "cell_type": "code",
   "execution_count": 2,
   "metadata": {},
   "outputs": [],
   "source": [
    "ptb1.function = function(a, b){\n",
    "    result = \"\"\n",
    "    if (a==0 & b!=0){\n",
    "        result = \"PT vo nghiem\"\n",
    "    } else if (a==0 & b==0){\n",
    "        result = \"PT vo so nghiem\"\n",
    "    } else {\n",
    "        result = paste(\"Nghiem:\", -b / a)\n",
    "    }\n",
    "    return (result)\n",
    "}"
   ]
  },
  {
   "cell_type": "code",
   "execution_count": 5,
   "metadata": {},
   "outputs": [
    {
     "name": "stdin",
     "output_type": "stream",
     "text": [
      "Input a:  5\n",
      "Input b:  7\n"
     ]
    },
    {
     "name": "stdout",
     "output_type": "stream",
     "text": [
      "[1] \"5 x+ 7 =0 Nghiem: -1.4\"\n"
     ]
    }
   ],
   "source": [
    "a = as.numeric(readline(prompt = \"Input a: \"))\n",
    "b = as.numeric(readline(prompt = \"Input b: \"))\n",
    "\n",
    "result = ptb1.function(a, b)\n",
    "print(paste(a, \"x+\", b, \"=0\", result))"
   ]
  },
  {
   "cell_type": "code",
   "execution_count": 6,
   "metadata": {},
   "outputs": [],
   "source": [
    "ptb2.function = function(a, b, c){\n",
    "    result = \"\"\n",
    "    if (a==0){\n",
    "        result = ptb1.function(b, c) \n",
    "    } else {\n",
    "        delta = b^2 - 4*a*c\n",
    "        if (delta < 0){\n",
    "            result = \"PT vo nghiem\"\n",
    "        } else if (delta == 0){\n",
    "            nghiem = -b/(2*a)\n",
    "            result = paste(\"x1 = x2 =\", nghiem)\n",
    "        } else {\n",
    "            x1 = (-b + sqrt(delta)) / (2*a)\n",
    "            x2 = (-b - sqrt(delta)) / (2*a)\n",
    "            \n",
    "            result = paste(\"x1 =\", x1, \" x2 =\", x2)\n",
    "        }\n",
    "    }\n",
    "    \n",
    "    return (result)\n",
    "}"
   ]
  },
  {
   "cell_type": "code",
   "execution_count": 8,
   "metadata": {},
   "outputs": [
    {
     "name": "stdin",
     "output_type": "stream",
     "text": [
      "Input a:  -3\n",
      "Input b:  2\n",
      "Input c:  4\n"
     ]
    },
    {
     "name": "stdout",
     "output_type": "stream",
     "text": [
      "[1] \"-3 x^2 + 2 x +  4 =0 x1 = -0.86851709182133  x2 = 1.535183758488\"\n"
     ]
    }
   ],
   "source": [
    "a = as.numeric(readline(prompt = \"Input a: \"))\n",
    "b = as.numeric(readline(prompt = \"Input b: \"))\n",
    "c = as.numeric(readline(prompt = \"Input c: \"))\n",
    "\n",
    "result = ptb2.function(a, b, c)\n",
    "print(paste(a, \"x^2 +\", b, \"x + \", c, \"=0\", result))"
   ]
  },
  {
   "cell_type": "code",
   "execution_count": null,
   "metadata": {},
   "outputs": [],
   "source": []
  }
 ],
 "metadata": {
  "kernelspec": {
   "display_name": "R",
   "language": "R",
   "name": "ir"
  },
  "language_info": {
   "codemirror_mode": "r",
   "file_extension": ".r",
   "mimetype": "text/x-r-source",
   "name": "R",
   "pygments_lexer": "r",
   "version": "4.0.3"
  }
 },
 "nbformat": 4,
 "nbformat_minor": 4
}
