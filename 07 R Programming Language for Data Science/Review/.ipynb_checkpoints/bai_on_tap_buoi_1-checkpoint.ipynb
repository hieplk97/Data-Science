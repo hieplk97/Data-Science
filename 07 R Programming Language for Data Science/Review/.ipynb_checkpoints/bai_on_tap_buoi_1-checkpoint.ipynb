{
 "cells": [
  {
   "cell_type": "markdown",
   "metadata": {
    "id": "3KkCxqxNZhdE"
   },
   "source": [
    "# Bài tập ôn buổi 1\n",
    "#### Viết chương trình cho phép người dùng:\n",
    "- Nhập vào một chuỗi. In chuỗi.\n",
    "- Nhập vào một ký tự. In ký tự.\n",
    "- Tạo chuỗi mới từ chuỗi đã có trong đó tất cả các ký tự đã nhập ở trên đều được in hoa.\n",
    "- Tách chuỗi đã nhập ở đầu bài thành danh sách các phần tử.\n",
    "- Nhập vào một từ. In từ.\n",
    "- Tìm xem từ vừa nhập có là phần tử nào trong danh sách phần tử trên hay không? Nêu tìm thấy thì thông báo là \"Found!!!\" ngược lại thì thông báo là \"Not found!!!\"\n",
    "- Nhập vào một từ cần tìm (find) trong chuỗi và một từ mới sẽ thay thế (replace). Thay thế tất cả các từ tìm (find) trong chuỗi bằng từ thay thế (replace\n"
   ]
  },
  {
   "cell_type": "code",
   "execution_count": 1,
   "metadata": {},
   "outputs": [
    {
     "name": "stdin",
     "output_type": "stream",
     "text": [
      "Input String:  I would like to test if an element of a list exists, here is an example\n"
     ]
    },
    {
     "name": "stdout",
     "output_type": "stream",
     "text": [
      "[1] \"I would like to test if an element of a list exists, here is an example\"\n"
     ]
    }
   ],
   "source": [
    "chuoi = readline(prompt = \"Input String: \")\n",
    "print(chuoi)"
   ]
  },
  {
   "cell_type": "code",
   "execution_count": 2,
   "metadata": {},
   "outputs": [
    {
     "name": "stdin",
     "output_type": "stream",
     "text": [
      "Input charater:  i\n"
     ]
    },
    {
     "name": "stdout",
     "output_type": "stream",
     "text": [
      "[1] \"i\"\n"
     ]
    }
   ],
   "source": [
    "ki_tu = readline(prompt = \"Input charater: \")\n",
    "print(ki_tu)"
   ]
  },
  {
   "cell_type": "code",
   "execution_count": 18,
   "metadata": {},
   "outputs": [
    {
     "name": "stdout",
     "output_type": "stream",
     "text": [
      "[1] \"I WOULD LIKE TO TEST IF AN ELEMENT OF A LIST EXISTS, HERE IS AN EXAMPLE\"\n"
     ]
    }
   ],
   "source": [
    "str_new = toupper(chuoi)\n",
    "print(str_new)"
   ]
  },
  {
   "cell_type": "code",
   "execution_count": 4,
   "metadata": {},
   "outputs": [],
   "source": [
    "char_lst = strsplit(chuoi, \" \")"
   ]
  },
  {
   "cell_type": "code",
   "execution_count": 5,
   "metadata": {},
   "outputs": [
    {
     "name": "stdin",
     "output_type": "stream",
     "text": [
      "Input String:  list\n"
     ]
    },
    {
     "name": "stdout",
     "output_type": "stream",
     "text": [
      "[1] \"list\"\n"
     ]
    }
   ],
   "source": [
    "word = readline(prompt = \"Input String: \")\n",
    "print(word)"
   ]
  },
  {
   "cell_type": "code",
   "execution_count": 16,
   "metadata": {},
   "outputs": [
    {
     "name": "stdout",
     "output_type": "stream",
     "text": [
      "[1] \"Found\"\n"
     ]
    }
   ],
   "source": [
    "if (word %in% char_lst){\n",
    "    print(\"Not Found\")\n",
    "} else {\n",
    "    print(\"Found\")\n",
    "}"
   ]
  },
  {
   "cell_type": "code",
   "execution_count": 7,
   "metadata": {},
   "outputs": [
    {
     "name": "stdin",
     "output_type": "stream",
     "text": [
      "Find string:  list\n",
      "Replaced string:  LIST\n"
     ]
    }
   ],
   "source": [
    "str_find = readline(prompt = \"Find string: \")\n",
    "str_replace = readline(prompt = \"Replaced string: \")"
   ]
  },
  {
   "cell_type": "code",
   "execution_count": 8,
   "metadata": {},
   "outputs": [],
   "source": [
    "str_new = gsub(str_find, str_replace, chuoi)"
   ]
  },
  {
   "cell_type": "code",
   "execution_count": 9,
   "metadata": {},
   "outputs": [
    {
     "name": "stdout",
     "output_type": "stream",
     "text": [
      "[1] \"I would like to test if an element of a LIST exists, here is an example\"\n"
     ]
    }
   ],
   "source": [
    "print(str_new)"
   ]
  },
  {
   "cell_type": "markdown",
   "metadata": {
    "id": "7tdvIByoRzaE"
   },
   "source": [
    "### Viết chương trình cho phép người dùng:\n",
    "- Nhập vào ngày sinh của mình theo định dạng: 2021-mm-dd. \n",
    "- Lấy ngày hiện hành\n",
    "- Hãy in ra một trong 3 nội dung sau tùy kết quả (so với ngày hiện hành):\n",
    "  - Nếu ngày sinh nhật của bạn chưa tới thì \"The next xx days will be your birthday.\"\n",
    "  - Nếu ngày sinh nhật của bạn dã qua thì \"Your birthday has passed xx days.\"\n",
    "  - Nếu hôm nay là sinh nhật của bạn thì \"Happy birthday to you!\" "
   ]
  },
  {
   "cell_type": "code",
   "execution_count": 26,
   "metadata": {},
   "outputs": [
    {
     "name": "stdin",
     "output_type": "stream",
     "text": [
      "Input date: 2021-mm-dd 2021-07-21\n"
     ]
    }
   ],
   "source": [
    "date_1 = as.Date(readline(prompt = \"Input date: 2021-mm-dd\"), format(\"2021-%m-%d\"))"
   ]
  },
  {
   "cell_type": "code",
   "execution_count": 27,
   "metadata": {},
   "outputs": [
    {
     "name": "stdout",
     "output_type": "stream",
     "text": [
      "[1] \"2021-07-21\"\n"
     ]
    }
   ],
   "source": [
    "print(date_1)"
   ]
  },
  {
   "cell_type": "code",
   "execution_count": 28,
   "metadata": {},
   "outputs": [],
   "source": [
    "today = Sys.Date()"
   ]
  },
  {
   "cell_type": "code",
   "execution_count": 29,
   "metadata": {},
   "outputs": [
    {
     "name": "stdout",
     "output_type": "stream",
     "text": [
      "[1] \"The next 192  days will be your birthday.\"\n"
     ]
    }
   ],
   "source": [
    "distance = date_1 - today\n",
    "\n",
    "if (distance < 0) {\n",
    "    passed_days = today - date_1\n",
    "    print(paste(\"Your birthday has passed\", passed_days, \" days\"))\n",
    "} else if (distance == 0){\n",
    "    print('Happy birthday to you!')\n",
    "} else {\n",
    "    print(paste(\"The next\", distance, \" days will be your birthday.\"))\n",
    "}"
   ]
  }
 ],
 "metadata": {
  "colab": {
   "authorship_tag": "ABX9TyPNV9VZAuKe71mWuJcfDXBv",
   "collapsed_sections": [],
   "name": "OnTapBuoi1.ipynb",
   "provenance": []
  },
  "kernelspec": {
   "display_name": "R",
   "language": "R",
   "name": "ir"
  },
  "language_info": {
   "codemirror_mode": "r",
   "file_extension": ".r",
   "mimetype": "text/x-r-source",
   "name": "R",
   "pygments_lexer": "r",
   "version": "4.0.3"
  }
 },
 "nbformat": 4,
 "nbformat_minor": 4
}
