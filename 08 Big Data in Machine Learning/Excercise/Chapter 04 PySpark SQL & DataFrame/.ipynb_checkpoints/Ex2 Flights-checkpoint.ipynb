{
 "cells": [
  {
   "cell_type": "code",
   "execution_count": null,
   "id": "intellectual-mississippi",
   "metadata": {},
   "outputs": [],
   "source": [
    "import findspark\n",
    "findspark.init()"
   ]
  },
  {
   "cell_type": "code",
   "execution_count": null,
   "id": "visible-pattern",
   "metadata": {},
   "outputs": [],
   "source": [
    "from pyspark import SparkContext\n",
    "from pyspark.conf import SparkConf\n",
    "from pyspark.sql import SparkSession\n",
    "from pyspark.sql.types import IntegerType\n",
    "import pyspark.sql.functions as F"
   ]
  },
  {
   "cell_type": "code",
   "execution_count": null,
   "id": "piano-valentine",
   "metadata": {},
   "outputs": [],
   "source": [
    "import matplotlib.pyplot as plt"
   ]
  },
  {
   "cell_type": "code",
   "execution_count": null,
   "id": "secondary-commercial",
   "metadata": {},
   "outputs": [],
   "source": [
    "sc = SparkContext()\n",
    "spark = SparkSession(sc)"
   ]
  },
  {
   "cell_type": "markdown",
   "id": "charged-harris",
   "metadata": {},
   "source": [
    "### 1. Đọc tập tin flights_small.csv vào data."
   ]
  },
  {
   "cell_type": "code",
   "execution_count": null,
   "id": "stuffed-newspaper",
   "metadata": {},
   "outputs": [],
   "source": [
    "# Create a Dataframe from CSV file. Load the dataframe\n",
    "data = spark.read.csv('../../Data/flights_small.csv', header=True, inferSchema=True)"
   ]
  },
  {
   "cell_type": "markdown",
   "id": "mineral-patch",
   "metadata": {},
   "source": [
    "### 2. In schema của data. Hiển thị 3 dòng đầu tiên của dữ liệu. Cho biết dữ liệu có bao nhiêu dòng?"
   ]
  },
  {
   "cell_type": "code",
   "execution_count": null,
   "id": "competent-assault",
   "metadata": {},
   "outputs": [],
   "source": [
    "data.printSchema()"
   ]
  },
  {
   "cell_type": "code",
   "execution_count": null,
   "id": "weighted-people",
   "metadata": {},
   "outputs": [],
   "source": [
    "# Print the total number of rows\n",
    "print(\"There are {} rows in the data Dataframe\".format(data.count()))"
   ]
  },
  {
   "cell_type": "markdown",
   "id": "closed-madrid",
   "metadata": {},
   "source": [
    "### 3. Từ data hãy tạo một view có tên là flights_small."
   ]
  },
  {
   "cell_type": "code",
   "execution_count": null,
   "id": "loose-namibia",
   "metadata": {},
   "outputs": [],
   "source": [
    "# Create a temporary view of data\n",
    "data.createOrReplaceTempView('flights_small')"
   ]
  },
  {
   "cell_type": "markdown",
   "id": "talented-baltimore",
   "metadata": {},
   "source": [
    "### 4. Từ view filghts_small hãy tạo một dataframe có tên là flights. Hiển thị 3 dòng đầu tiên của dữ liệu."
   ]
  },
  {
   "cell_type": "code",
   "execution_count": null,
   "id": "incorporated-drive",
   "metadata": {},
   "outputs": [],
   "source": [
    "# Create the DataFrame flights\n",
    "flights = spark.table(\"flights_small\")"
   ]
  },
  {
   "cell_type": "code",
   "execution_count": null,
   "id": "beginning-production",
   "metadata": {},
   "outputs": [],
   "source": [
    "# Show the head\n",
    "flights.show(3)"
   ]
  },
  {
   "cell_type": "markdown",
   "id": "expected-attempt",
   "metadata": {},
   "source": [
    "### 5. Trong flights, hãy tạo thêm một cột duration_hrs(=air_time/60)."
   ]
  },
  {
   "cell_type": "code",
   "execution_count": null,
   "id": "private-tension",
   "metadata": {},
   "outputs": [],
   "source": [
    "# Add duration_hrs\n",
    "flights = flights.withColumn(\"duration_hrs\", flights.air_time/60)"
   ]
  },
  {
   "cell_type": "code",
   "execution_count": null,
   "id": "ideal-device",
   "metadata": {},
   "outputs": [],
   "source": [
    "flights.show(3)"
   ]
  },
  {
   "cell_type": "code",
   "execution_count": null,
   "id": "significant-daily",
   "metadata": {},
   "outputs": [],
   "source": [
    "# Show the first 3 observations\n",
    "for row in flights.head(3):\n",
    "    print(row)\n",
    "    print('\\n')"
   ]
  },
  {
   "cell_type": "markdown",
   "id": "forced-nicaragua",
   "metadata": {},
   "source": [
    "### 6. Lọc dữ liệu các chuyến bay có distance > 2000 => long_fligts1. Cho biết có bao nhiêu dòng dữ liệu thỏa điều kiện này? (bằng cả SQL và Dataframe)."
   ]
  },
  {
   "cell_type": "code",
   "execution_count": null,
   "id": "billion-video",
   "metadata": {},
   "outputs": [],
   "source": [
    "# Filter flights by passing a string\n",
    "long_fligts1 = flights.filter(\"distance > 2000\")"
   ]
  },
  {
   "cell_type": "code",
   "execution_count": null,
   "id": "pressing-narrow",
   "metadata": {},
   "outputs": [],
   "source": [
    "print(\"Number of rows (distance > 2000)\": long_fligts1.count())"
   ]
  },
  {
   "cell_type": "code",
   "execution_count": null,
   "id": "entertaining-referral",
   "metadata": {},
   "outputs": [],
   "source": [
    "# Print the data to check\n",
    "long_fligts1.show(2)"
   ]
  },
  {
   "cell_type": "code",
   "execution_count": null,
   "id": "union-bearing",
   "metadata": {},
   "outputs": [],
   "source": [
    "# Construct the \"query\"\n",
    "query = '''SELECT * FROM flights_small WHERE distance > 2000'''\n",
    "# Apply the SQL \"query\"\n",
    "long_flights_sql = spark.sql(query)"
   ]
  },
  {
   "cell_type": "code",
   "execution_count": null,
   "id": "photographic-evidence",
   "metadata": {},
   "outputs": [],
   "source": [
    "long_fligts.count())"
   ]
  },
  {
   "cell_type": "markdown",
   "id": "guided-placement",
   "metadata": {},
   "source": [
    "### 7. Lọc dữ liệu các chuyến bay có 300 >= air_time >= 600 => time_flights. Cho biết có bao nhiêu dòng dữ liệu thỏa điều kiện này? (bằng cả SQL và Dataframe)."
   ]
  },
  {
   "cell_type": "code",
   "execution_count": null,
   "id": "aggregate-forum",
   "metadata": {},
   "outputs": [],
   "source": [
    "# Filter flights by passing a string\n",
    "time_flights - flights.filter(\"air_time >= 300 and air_time <= 600\")\n",
    "time_flights.show(2)"
   ]
  },
  {
   "cell_type": "code",
   "execution_count": null,
   "id": "indie-basin",
   "metadata": {},
   "outputs": [],
   "source": [
    "print(\"Number of rows (air_time >= 300 and air_time <= 600)\": time_flights.count())"
   ]
  },
  {
   "cell_type": "code",
   "execution_count": null,
   "id": "matched-script",
   "metadata": {},
   "outputs": [],
   "source": [
    "# Construct the \"query\"\n",
    "query = '''SELECT * FROM flights_small WHERE air_time BETWEEN 300 AND 600'''\n",
    "# Apply the SQL \"query\"\n",
    "time_flights_sql = spark.sql(query)"
   ]
  },
  {
   "cell_type": "code",
   "execution_count": null,
   "id": "interstate-parcel",
   "metadata": {},
   "outputs": [],
   "source": [
    "time_flights_sql.count())"
   ]
  },
  {
   "cell_type": "markdown",
   "id": "cathedral-margin",
   "metadata": {},
   "source": [
    "### 8. Tạo dữ liệu selected1 từ flights với các cột \"origin\", \"dest\", \"carrier\". Tạo biến điều kiện lọc thứ nhất filterA là các chuyến bay có origin là \"SEA\", tạo biến điều kiện lọc thứ hai filterB là các chuyến bay có dest là \"PDX\". Từ đó hãy tạo Dataframe kết quả selected2 từ selected1 thỏa cả filterA và filterB. Cho biết có bao nhiêu dòng dữ liệu thỏa điều kiện này?"
   ]
  },
  {
   "cell_type": "code",
   "execution_count": null,
   "id": "charitable-dragon",
   "metadata": {},
   "outputs": [],
   "source": [
    "# Select set of columns\n",
    "selected1 = flight.select(flights.origin, flights.dest, flight.carrier)\n",
    "# Define first filter\n",
    "filterA = flights.orgin == \"SEA\"\n",
    "# Define second filter\n",
    "filterB = flights.dest == \"PDX\"\n",
    "# Filter the data, first by filterA then by filterB\n",
    "selected2 = selected1.filter(filterA).filter(filterB)"
   ]
  },
  {
   "cell_type": "code",
   "execution_count": null,
   "id": "continent-swimming",
   "metadata": {},
   "outputs": [],
   "source": [
    "selected2.show(5)"
   ]
  },
  {
   "cell_type": "code",
   "execution_count": null,
   "id": "contained-style",
   "metadata": {},
   "outputs": [],
   "source": [
    "print(\"Number of rows (orgin = 'SEA' and dest = 'PDX')\": selected2.count())"
   ]
  },
  {
   "cell_type": "markdown",
   "id": "liberal-macedonia",
   "metadata": {},
   "source": [
    "### 9. Tạo riêng một biến avg_speed(alias \"avg_speed\") là tốc độ trung bình của chuyến bay (tính theo giờ) distance/(air_time/60). Tạo Dataframe speed1 từ flights với các cột \"origin\", \"dest\", \"tailnum\" và cột \"avg_speed\" vừa tạo."
   ]
  },
  {
   "cell_type": "code",
   "execution_count": null,
   "id": "capable-pizza",
   "metadata": {},
   "outputs": [],
   "source": [
    "# Define avg_speed\n",
    "avg_speed = (flights.distance/(flights.air_time/60)).alias(\"avg_speed\")\n",
    "# Select the correct columns\n",
    "speed1 = flights.select(\"origin\", \"dest\", \"tailnum\", avg_speed)"
   ]
  },
  {
   "cell_type": "code",
   "execution_count": null,
   "id": "accessory-polyester",
   "metadata": {},
   "outputs": [],
   "source": [
    "speed1.show(2)"
   ]
  },
  {
   "cell_type": "markdown",
   "id": "optional-girlfriend",
   "metadata": {},
   "source": [
    "### 10. Tạo Dataframe speed2 từ flights với các cột \"origin\", \"dest\", \"tailnum\" và cột avg_speed = distance/(air_time/60) trong cùng một lệnh (dùng selectExpr)."
   ]
  },
  {
   "cell_type": "code",
   "execution_count": null,
   "id": "chicken-loading",
   "metadata": {},
   "outputs": [],
   "source": [
    "# Create the same table using a SQL expression\n",
    "speed2 = flights.selectExpr(\"origin\", \"dest\", \"tailnum\", \"distance/(air_time/60) as avg_speed\")"
   ]
  },
  {
   "cell_type": "code",
   "execution_count": null,
   "id": "separated-spending",
   "metadata": {},
   "outputs": [],
   "source": [
    "speed2.show(2)"
   ]
  },
  {
   "cell_type": "markdown",
   "id": "wrapped-kernel",
   "metadata": {},
   "source": [
    "### 11. Sử dụng aggregation method để: tìm air_time nhỏ nhất của các chuyến bay có \"origin\" là \"PDX\", tìm distance lớn nhất của các chuyến bay có \"origin\" là \"SEA\". Tìm tổng duration các chuyến bay (theo giờ)."
   ]
  },
  {
   "cell_type": "code",
   "execution_count": null,
   "id": "featured-burner",
   "metadata": {},
   "outputs": [],
   "source": [
    "flights = flights.withColumn(\"air_time\", flights[\"air_time\"].cast(IntegerType()))"
   ]
  },
  {
   "cell_type": "code",
   "execution_count": null,
   "id": "latest-laundry",
   "metadata": {},
   "outputs": [],
   "source": [
    "# Find the shortest time from PDX in terms of air_time\n",
    "flights.filter(flights.origin == \"PDX\").groupBy().min(\"air_time\").show()"
   ]
  },
  {
   "cell_type": "code",
   "execution_count": null,
   "id": "refined-budget",
   "metadata": {},
   "outputs": [],
   "source": [
    "# Find the longges time from PDX in terms of air_time\n",
    "flights.filter(flights.origin == \"SEA\").groupBy().min(\"distance\").show()"
   ]
  },
  {
   "cell_type": "code",
   "execution_count": null,
   "id": "minimal-joseph",
   "metadata": {},
   "outputs": [],
   "source": [
    "# Total hour in the air\n",
    "flights.withColumn(\"duration_hrs\", flights.air_time/60).groupBy().sum(\"duration_hrs\").show()"
   ]
  },
  {
   "cell_type": "markdown",
   "id": "affiliated-marsh",
   "metadata": {},
   "source": [
    "### 12. Nhóm dữ liệu và đếm số chuyến bay theo từng \"tailnum\", nhóm dữ liệu và đếm số chuyến bay theo từng \"origin\", nhóm dữ liệu và tính trung bình của air_time theo từng \"origin\"."
   ]
  },
  {
   "cell_type": "code",
   "execution_count": null,
   "id": "separated-point",
   "metadata": {},
   "outputs": [],
   "source": [
    "# Group by tailnum\n",
    "by_plane = flights.groupBy(\"tailnum\")"
   ]
  },
  {
   "cell_type": "code",
   "execution_count": null,
   "id": "caroline-trance",
   "metadata": {},
   "outputs": [],
   "source": [
    "# Number of flights each plane made\n",
    "by_plane.count().show()"
   ]
  },
  {
   "cell_type": "code",
   "execution_count": null,
   "id": "precise-sentence",
   "metadata": {},
   "outputs": [],
   "source": [
    "# Group by origin\n",
    "by_origin = flights.groupBy(\"origin\").count()"
   ]
  },
  {
   "cell_type": "code",
   "execution_count": null,
   "id": "intensive-wells",
   "metadata": {},
   "outputs": [],
   "source": [
    "by_origin.show()"
   ]
  },
  {
   "cell_type": "code",
   "execution_count": null,
   "id": "committed-strap",
   "metadata": {},
   "outputs": [],
   "source": [
    "# Average air_time\n",
    "flights.groupBy(\"origin\").avg(\"air_time\").show()"
   ]
  },
  {
   "cell_type": "markdown",
   "id": "experienced-independence",
   "metadata": {},
   "source": [
    "### 13. Nhóm các chuyến bay theo \"month\", \"dest\" => by_month_dest. Tính trung bình \"dep_delay\" theo by_month_dest. Tính std \"dep_delay\" theo by_month_dest"
   ]
  },
  {
   "cell_type": "code",
   "execution_count": null,
   "id": "dried-exhaust",
   "metadata": {},
   "outputs": [],
   "source": [
    "flights = flights.withColumn(\"dep_delay\", flights[\"dep_delay\"].cast(IntegerType()))\n",
    "# Group by month and dest\n",
    "by_month_dest = flights.groupBy(\"month\", \"dest\")\n",
    "# Average departure delay by month and destination\n",
    "by_month_dest.avg(\"dep_delay\").show()"
   ]
  },
  {
   "cell_type": "code",
   "execution_count": null,
   "id": "adapted-helicopter",
   "metadata": {},
   "outputs": [],
   "source": [
    "# Standard deviation of departure delay\n",
    "by_month_dest.agg(F.stddev(\"dep_delay\")).show()"
   ]
  },
  {
   "cell_type": "markdown",
   "id": "different-photographer",
   "metadata": {},
   "source": [
    "### 14. Đọc tập tin airports.csv vào airports. In schema của airports. Hiển thị 3 dòng đầu tiên của dữ liệu. Cho biết dữ liệu có bao nhiêu dòng?"
   ]
  },
  {
   "cell_type": "code",
   "execution_count": null,
   "id": "signed-healthcare",
   "metadata": {},
   "outputs": [],
   "source": [
    "airports = spark.read.csv('../../Data/airports.csv', header=True, inferSchema=True)"
   ]
  },
  {
   "cell_type": "code",
   "execution_count": null,
   "id": "oriented-chess",
   "metadata": {},
   "outputs": [],
   "source": [
    "airports.printSchema()"
   ]
  },
  {
   "cell_type": "code",
   "execution_count": null,
   "id": "colonial-container",
   "metadata": {},
   "outputs": [],
   "source": [
    "# Print the total number of rows\n",
    "print(\"There are {} rows in the data Dataframe\".format(airports.count()))"
   ]
  },
  {
   "cell_type": "code",
   "execution_count": null,
   "id": "measured-mitchell",
   "metadata": {},
   "outputs": [],
   "source": [
    "# Examine the data\n",
    "airports.show(3)"
   ]
  },
  {
   "cell_type": "markdown",
   "id": "legislative-squad",
   "metadata": {},
   "source": [
    "### 15. Đổi tên cột \"faa\" trong airports thành \"dest\""
   ]
  },
  {
   "cell_type": "code",
   "execution_count": null,
   "id": "operational-weight",
   "metadata": {},
   "outputs": [],
   "source": [
    "# Rename the faa column\n",
    "airports = airports.withColumnRenamed(\"faa\", \"dest\")"
   ]
  },
  {
   "cell_type": "code",
   "execution_count": null,
   "id": "complimentary-lunch",
   "metadata": {},
   "outputs": [],
   "source": [
    "airports.show(3)"
   ]
  },
  {
   "cell_type": "markdown",
   "id": "valid-subscriber",
   "metadata": {},
   "source": [
    "### 16. Tạo một DataFrame mới bằng cách kết hợp flights và airports theo \"dest\""
   ]
  },
  {
   "cell_type": "code",
   "execution_count": null,
   "id": "reasonable-olive",
   "metadata": {},
   "outputs": [],
   "source": [
    "flights_with_airports = flights.join(airports, on=\"dest\", how=\"leftouter\")"
   ]
  },
  {
   "cell_type": "code",
   "execution_count": null,
   "id": "dramatic-peeing",
   "metadata": {},
   "outputs": [],
   "source": [
    "# Examine the new Dataframe\n",
    "flights_with_airports.show(3)"
   ]
  }
 ],
 "metadata": {
  "kernelspec": {
   "display_name": "Python 3",
   "language": "python",
   "name": "python3"
  },
  "language_info": {
   "codemirror_mode": {
    "name": "ipython",
    "version": 3
   },
   "file_extension": ".py",
   "mimetype": "text/x-python",
   "name": "python",
   "nbconvert_exporter": "python",
   "pygments_lexer": "ipython3",
   "version": "3.8.3"
  }
 },
 "nbformat": 4,
 "nbformat_minor": 5
}
