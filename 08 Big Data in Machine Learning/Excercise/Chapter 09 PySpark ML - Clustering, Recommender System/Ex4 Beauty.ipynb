{
 "cells": [
  {
   "cell_type": "markdown",
   "metadata": {},
   "source": [
    "#### Dataset: Beauty_5.json\n",
    "#### Requirement:\n",
    "* Read dataset\n",
    "* Pre-processing data\n",
    "* Use \"asin\" (ProductID), \"reviewerID\" and overall (User's reviews for each product - rating) to build model to predict overalls => Give recommendation for users."
   ]
  },
  {
   "cell_type": "code",
   "execution_count": 1,
   "metadata": {},
   "outputs": [
    {
     "data": {
      "text/html": [
       "<style>pre { white-space: pre !important; }</style>"
      ],
      "text/plain": [
       "<IPython.core.display.HTML object>"
      ]
     },
     "metadata": {},
     "output_type": "display_data"
    }
   ],
   "source": [
    "from IPython.core.display import HTML\n",
    "display(HTML(\"<style>pre { white-space: pre !important; }</style>\"))"
   ]
  },
  {
   "cell_type": "code",
   "execution_count": 2,
   "metadata": {},
   "outputs": [],
   "source": [
    "import findspark\n",
    "findspark.init()"
   ]
  },
  {
   "cell_type": "code",
   "execution_count": 3,
   "metadata": {},
   "outputs": [],
   "source": [
    "import pandas as pd"
   ]
  },
  {
   "cell_type": "code",
   "execution_count": 4,
   "metadata": {},
   "outputs": [],
   "source": [
    "from pyspark.sql import SparkSession\n",
    "from pyspark.sql.functions import col, udf, isnull, when, count\n",
    "\n",
    "from pyspark.ml.feature import StringIndexer\n",
    "from pyspark.ml.recommendation import ALS\n",
    "from pyspark.ml.evaluation import RegressionEvaluator"
   ]
  },
  {
   "cell_type": "code",
   "execution_count": 5,
   "metadata": {},
   "outputs": [],
   "source": [
    "spark = SparkSession.builder.appName('Recommendation_system').getOrCreate()"
   ]
  },
  {
   "cell_type": "code",
   "execution_count": 6,
   "metadata": {},
   "outputs": [],
   "source": [
    "# Load data\n",
    "data = spark.read.json(\"../../Data/Beauty_5.json\")"
   ]
  },
  {
   "cell_type": "code",
   "execution_count": 7,
   "metadata": {},
   "outputs": [
    {
     "name": "stdout",
     "output_type": "stream",
     "text": [
      "+----------+-------+-------+--------------------+-----------+--------------+------------+--------------------+--------------+\n",
      "|      asin|helpful|overall|          reviewText| reviewTime|    reviewerID|reviewerName|             summary|unixReviewTime|\n",
      "+----------+-------+-------+--------------------+-----------+--------------+------------+--------------------+--------------+\n",
      "|7806397051| [3, 4]|    1.0|Very oily and cre...|01 30, 2014|A1YJEY40YUW4SE|      Andrea|Don't waste your ...|    1391040000|\n",
      "|7806397051| [1, 1]|    3.0|This palette was ...|04 18, 2014| A60XNB876KYML|  Jessica H.|         OK Palette!|    1397779200|\n",
      "|7806397051| [0, 1]|    4.0|The texture of th...| 09 6, 2013|A3G6XNM240RMWA|       Karen|       great quality|    1378425600|\n",
      "|7806397051| [2, 2]|    2.0|I really can't te...| 12 8, 2013|A1PQFP6SAJ6D80|       Norah|Do not work on my...|    1386460800|\n",
      "|7806397051| [0, 0]|    3.0|It was a little s...|10 19, 2013|A38FVHZTNQ271F|   Nova Amor|          It's okay.|    1382140800|\n",
      "+----------+-------+-------+--------------------+-----------+--------------+------------+--------------------+--------------+\n",
      "only showing top 5 rows\n",
      "\n"
     ]
    }
   ],
   "source": [
    "data.show(5, truncate=True)"
   ]
  },
  {
   "cell_type": "code",
   "execution_count": 8,
   "metadata": {},
   "outputs": [],
   "source": [
    "data_sub = data.select(['asin', 'overall', 'reviewerID'])"
   ]
  },
  {
   "cell_type": "code",
   "execution_count": 9,
   "metadata": {},
   "outputs": [
    {
     "data": {
      "text/plain": [
       "198502"
      ]
     },
     "execution_count": 9,
     "metadata": {},
     "output_type": "execute_result"
    }
   ],
   "source": [
    "data_sub.count()"
   ]
  },
  {
   "cell_type": "code",
   "execution_count": 10,
   "metadata": {},
   "outputs": [
    {
     "name": "stdout",
     "output_type": "stream",
     "text": [
      "+----------+-------+--------------+\n",
      "|      asin|overall|    reviewerID|\n",
      "+----------+-------+--------------+\n",
      "|7806397051|    1.0|A1YJEY40YUW4SE|\n",
      "|7806397051|    3.0| A60XNB876KYML|\n",
      "|7806397051|    4.0|A3G6XNM240RMWA|\n",
      "|7806397051|    2.0|A1PQFP6SAJ6D80|\n",
      "|7806397051|    3.0|A38FVHZTNQ271F|\n",
      "+----------+-------+--------------+\n",
      "only showing top 5 rows\n",
      "\n"
     ]
    }
   ],
   "source": [
    "data_sub.show(5, truncate=True)"
   ]
  },
  {
   "cell_type": "code",
   "execution_count": 11,
   "metadata": {},
   "outputs": [
    {
     "data": {
      "text/html": [
       "<div>\n",
       "<style scoped>\n",
       "    .dataframe tbody tr th:only-of-type {\n",
       "        vertical-align: middle;\n",
       "    }\n",
       "\n",
       "    .dataframe tbody tr th {\n",
       "        vertical-align: top;\n",
       "    }\n",
       "\n",
       "    .dataframe thead th {\n",
       "        text-align: right;\n",
       "    }\n",
       "</style>\n",
       "<table border=\"1\" class=\"dataframe\">\n",
       "  <thead>\n",
       "    <tr style=\"text-align: right;\">\n",
       "      <th></th>\n",
       "      <th>0</th>\n",
       "    </tr>\n",
       "  </thead>\n",
       "  <tbody>\n",
       "    <tr>\n",
       "      <th>asin</th>\n",
       "      <td>0</td>\n",
       "    </tr>\n",
       "    <tr>\n",
       "      <th>overall</th>\n",
       "      <td>0</td>\n",
       "    </tr>\n",
       "    <tr>\n",
       "      <th>reviewerID</th>\n",
       "      <td>0</td>\n",
       "    </tr>\n",
       "  </tbody>\n",
       "</table>\n",
       "</div>"
      ],
      "text/plain": [
       "            0\n",
       "asin        0\n",
       "overall     0\n",
       "reviewerID  0"
      ]
     },
     "execution_count": 11,
     "metadata": {},
     "output_type": "execute_result"
    }
   ],
   "source": [
    "data_sub.select([count(when(isnull(c), c)).alias(c) for c in data_sub.columns]).toPandas().T"
   ]
  },
  {
   "cell_type": "code",
   "execution_count": 12,
   "metadata": {},
   "outputs": [],
   "source": [
    "# District users and movies"
   ]
  },
  {
   "cell_type": "code",
   "execution_count": 13,
   "metadata": {},
   "outputs": [],
   "source": [
    "users = data_sub.select(\"reviewerID\").distinct().count()\n",
    "products = data_sub.select(\"asin\").distinct().count()\n",
    "numberator = data_sub.count()"
   ]
  },
  {
   "cell_type": "code",
   "execution_count": 14,
   "metadata": {},
   "outputs": [
    {
     "data": {
      "text/plain": [
       "198502"
      ]
     },
     "metadata": {},
     "output_type": "display_data"
    },
    {
     "data": {
      "text/plain": [
       "22363"
      ]
     },
     "metadata": {},
     "output_type": "display_data"
    },
    {
     "data": {
      "text/plain": [
       "12101"
      ]
     },
     "metadata": {},
     "output_type": "display_data"
    }
   ],
   "source": [
    "display(numberator, users, products)"
   ]
  },
  {
   "cell_type": "code",
   "execution_count": 15,
   "metadata": {},
   "outputs": [
    {
     "data": {
      "text/plain": [
       "270614663"
      ]
     },
     "execution_count": 15,
     "metadata": {},
     "output_type": "execute_result"
    }
   ],
   "source": [
    "# Number of rating matrix could contain if no empy cells\n",
    "denominator = users * products\n",
    "denominator"
   ]
  },
  {
   "cell_type": "code",
   "execution_count": 16,
   "metadata": {},
   "outputs": [
    {
     "name": "stdout",
     "output_type": "stream",
     "text": [
      "Sparsity: 0.9992664772935825\n"
     ]
    }
   ],
   "source": [
    "# Calculating sparsity\n",
    "sparsity = 1 - (numberator * 1.0 / denominator)\n",
    "print(\"Sparsity:\", sparsity)"
   ]
  },
  {
   "cell_type": "code",
   "execution_count": 17,
   "metadata": {},
   "outputs": [],
   "source": [
    "# Create an indexer\n",
    "indexer = StringIndexer(inputCol='asin', outputCol='asin_idx')\n",
    "# Indexer identifies categories in the data\n",
    "indexer_model = indexer.fit(data_sub)\n",
    "# Indexer create a new column with numeric index values\n",
    "data_indexed = indexer_model.transform(data_sub)"
   ]
  },
  {
   "cell_type": "code",
   "execution_count": 18,
   "metadata": {},
   "outputs": [],
   "source": [
    "# Repeat the process for the other categorical feature\n",
    "indexer1 = StringIndexer(inputCol='reviewerID', outputCol='reviewerID_idx')\n",
    "indexer1_model = indexer1.fit(data_sub)\n",
    "data_indexed = indexer1_model.transform(data_indexed)"
   ]
  },
  {
   "cell_type": "code",
   "execution_count": 19,
   "metadata": {},
   "outputs": [
    {
     "name": "stdout",
     "output_type": "stream",
     "text": [
      "+----------+-------+--------------+--------+--------------+\n",
      "|      asin|overall|    reviewerID|asin_idx|reviewerID_idx|\n",
      "+----------+-------+--------------+--------+--------------+\n",
      "|7806397051|    1.0|A1YJEY40YUW4SE|  6194.0|       16983.0|\n",
      "|7806397051|    3.0| A60XNB876KYML|  6194.0|       10399.0|\n",
      "|7806397051|    4.0|A3G6XNM240RMWA|  6194.0|        5985.0|\n",
      "|7806397051|    2.0|A1PQFP6SAJ6D80|  6194.0|       11765.0|\n",
      "|7806397051|    3.0|A38FVHZTNQ271F|  6194.0|        5910.0|\n",
      "+----------+-------+--------------+--------+--------------+\n",
      "only showing top 5 rows\n",
      "\n"
     ]
    }
   ],
   "source": [
    "data_indexed.show(5, truncate=True)"
   ]
  },
  {
   "cell_type": "code",
   "execution_count": 20,
   "metadata": {},
   "outputs": [
    {
     "data": {
      "text/html": [
       "<div>\n",
       "<style scoped>\n",
       "    .dataframe tbody tr th:only-of-type {\n",
       "        vertical-align: middle;\n",
       "    }\n",
       "\n",
       "    .dataframe tbody tr th {\n",
       "        vertical-align: top;\n",
       "    }\n",
       "\n",
       "    .dataframe thead th {\n",
       "        text-align: right;\n",
       "    }\n",
       "</style>\n",
       "<table border=\"1\" class=\"dataframe\">\n",
       "  <thead>\n",
       "    <tr style=\"text-align: right;\">\n",
       "      <th></th>\n",
       "      <th>0</th>\n",
       "    </tr>\n",
       "  </thead>\n",
       "  <tbody>\n",
       "    <tr>\n",
       "      <th>asin</th>\n",
       "      <td>0</td>\n",
       "    </tr>\n",
       "    <tr>\n",
       "      <th>overall</th>\n",
       "      <td>0</td>\n",
       "    </tr>\n",
       "    <tr>\n",
       "      <th>reviewerID</th>\n",
       "      <td>0</td>\n",
       "    </tr>\n",
       "  </tbody>\n",
       "</table>\n",
       "</div>"
      ],
      "text/plain": [
       "            0\n",
       "asin        0\n",
       "overall     0\n",
       "reviewerID  0"
      ]
     },
     "execution_count": 20,
     "metadata": {},
     "output_type": "execute_result"
    }
   ],
   "source": [
    "data_sub.select([count(when(isnull(c), c)).alias(c) for c in data_sub.columns]).toPandas().T"
   ]
  },
  {
   "cell_type": "code",
   "execution_count": 21,
   "metadata": {},
   "outputs": [],
   "source": [
    "# Smaller dataset so we will use 0.8/0.2\n",
    "training, test = data_indexed.randomSplit([0.8, 0.2])"
   ]
  },
  {
   "cell_type": "code",
   "execution_count": 22,
   "metadata": {},
   "outputs": [],
   "source": [
    "als = ALS(maxIter=5, regParam=0.09, rank=25,\n",
    "          userCol=\"reviewerID_idx\", itemCol=\"asin_idx\", ratingCol=\"overall\",\n",
    "          coldStartStrategy=\"drop\", nonnegative=True)\n",
    "model = als.fit(training)"
   ]
  },
  {
   "cell_type": "code",
   "execution_count": 23,
   "metadata": {},
   "outputs": [],
   "source": [
    "# Evaluate the model by computing the RMSE on the test data\n",
    "predictions = model.transform(test)"
   ]
  },
  {
   "cell_type": "code",
   "execution_count": 24,
   "metadata": {},
   "outputs": [
    {
     "name": "stdout",
     "output_type": "stream",
     "text": [
      "+--------+--------------+-------+----------+\n",
      "|asin_idx|reviewerID_idx|overall|prediction|\n",
      "+--------+--------------+-------+----------+\n",
      "|   148.0|          31.0|    2.0|  3.669877|\n",
      "|   148.0|          34.0|    5.0| 3.3353481|\n",
      "|   148.0|        6288.0|    3.0| 1.6924319|\n",
      "|   148.0|          27.0|    5.0| 4.3108854|\n",
      "|   148.0|           1.0|    5.0| 3.6594493|\n",
      "+--------+--------------+-------+----------+\n",
      "only showing top 5 rows\n",
      "\n"
     ]
    }
   ],
   "source": [
    "predictions.select([\"asin_idx\", \"reviewerID_idx\", \"overall\", \"prediction\"]).show(5)"
   ]
  },
  {
   "cell_type": "code",
   "execution_count": 25,
   "metadata": {},
   "outputs": [
    {
     "name": "stdout",
     "output_type": "stream",
     "text": [
      "Root mean squared error = 1.3395595305029961\n"
     ]
    }
   ],
   "source": [
    "evaluator = RegressionEvaluator(metricName=\"rmse\", labelCol=\"overall\", predictionCol=\"prediction\")\n",
    "rmse = evaluator.evaluate(predictions)\n",
    "print(\"Root mean squared error =\", str(rmse))"
   ]
  },
  {
   "cell_type": "markdown",
   "metadata": {},
   "source": [
    "### Providing Recommendations: for all users"
   ]
  },
  {
   "cell_type": "code",
   "execution_count": 26,
   "metadata": {},
   "outputs": [],
   "source": [
    "# Get 20 recommendations which have highest rating\n",
    "user_recs = model.recommendForAllUsers(20)"
   ]
  },
  {
   "cell_type": "code",
   "execution_count": 27,
   "metadata": {},
   "outputs": [
    {
     "name": "stdout",
     "output_type": "stream",
     "text": [
      "Row(reviewerID_idx=1580, recommendations=[Row(asin_idx=11293, rating=5.867204666137695), Row(asin_idx=5561, rating=5.8324689865112305), Row(asin_idx=4606, rating=5.80586051940918), Row(asin_idx=10231, rating=5.701236248016357), Row(asin_idx=4896, rating=5.68094539642334), Row(asin_idx=9900, rating=5.666428565979004), Row(asin_idx=7372, rating=5.644848346710205), Row(asin_idx=8498, rating=5.616497039794922), Row(asin_idx=8172, rating=5.5590996742248535), Row(asin_idx=9657, rating=5.503898620605469), Row(asin_idx=7098, rating=5.494077205657959), Row(asin_idx=11166, rating=5.484093189239502), Row(asin_idx=8408, rating=5.4612860679626465), Row(asin_idx=5604, rating=5.460039138793945), Row(asin_idx=2810, rating=5.449482440948486), Row(asin_idx=6104, rating=5.441318511962891), Row(asin_idx=4073, rating=5.438269138336182), Row(asin_idx=11233, rating=5.4266676902771), Row(asin_idx=8962, rating=5.420121192932129), Row(asin_idx=4649, rating=5.410305976867676)])\n",
      "\n",
      "\n",
      "Row(reviewerID_idx=4900, recommendations=[Row(asin_idx=7372, rating=6.735057353973389), Row(asin_idx=10564, rating=6.708271503448486), Row(asin_idx=9037, rating=6.680370807647705), Row(asin_idx=6077, rating=6.634364128112793), Row(asin_idx=7081, rating=6.6187005043029785), Row(asin_idx=9904, rating=6.599928379058838), Row(asin_idx=9013, rating=6.598475456237793), Row(asin_idx=10783, rating=6.576180458068848), Row(asin_idx=8542, rating=6.464482307434082), Row(asin_idx=10997, rating=6.429113388061523), Row(asin_idx=6976, rating=6.377238750457764), Row(asin_idx=4731, rating=6.3499250411987305), Row(asin_idx=4080, rating=6.333837032318115), Row(asin_idx=8535, rating=6.332632064819336), Row(asin_idx=8402, rating=6.3190531730651855), Row(asin_idx=9199, rating=6.314138412475586), Row(asin_idx=2046, rating=6.308884620666504), Row(asin_idx=2705, rating=6.284015655517578), Row(asin_idx=8545, rating=6.281552791595459), Row(asin_idx=9362, rating=6.2729997634887695)])\n",
      "\n",
      "\n",
      "Row(reviewerID_idx=5300, recommendations=[Row(asin_idx=7372, rating=6.038241386413574), Row(asin_idx=8394, rating=5.80571174621582), Row(asin_idx=10783, rating=5.757381439208984), Row(asin_idx=9900, rating=5.703186511993408), Row(asin_idx=6077, rating=5.639822006225586), Row(asin_idx=6680, rating=5.632201194763184), Row(asin_idx=9199, rating=5.628186225891113), Row(asin_idx=8701, rating=5.5484113693237305), Row(asin_idx=4034, rating=5.545469760894775), Row(asin_idx=4495, rating=5.530875205993652), Row(asin_idx=3709, rating=5.506560802459717), Row(asin_idx=11677, rating=5.496025562286377), Row(asin_idx=9981, rating=5.478744029998779), Row(asin_idx=9036, rating=5.476705074310303), Row(asin_idx=4606, rating=5.467248439788818), Row(asin_idx=6307, rating=5.449451923370361), Row(asin_idx=7443, rating=5.424164772033691), Row(asin_idx=8101, rating=5.419580936431885), Row(asin_idx=2561, rating=5.407722473144531), Row(asin_idx=2725, rating=5.402957439422607)])\n",
      "\n",
      "\n",
      "Row(reviewerID_idx=6620, recommendations=[Row(asin_idx=10876, rating=7.219048023223877), Row(asin_idx=8701, rating=7.145467758178711), Row(asin_idx=8394, rating=7.126401424407959), Row(asin_idx=5137, rating=7.115893840789795), Row(asin_idx=6698, rating=7.057657241821289), Row(asin_idx=7329, rating=6.974044322967529), Row(asin_idx=8271, rating=6.878565788269043), Row(asin_idx=7780, rating=6.870526313781738), Row(asin_idx=9470, rating=6.854516506195068), Row(asin_idx=9904, rating=6.822436809539795), Row(asin_idx=10783, rating=6.80318021774292), Row(asin_idx=9199, rating=6.789633274078369), Row(asin_idx=5115, rating=6.783321857452393), Row(asin_idx=9525, rating=6.6884050369262695), Row(asin_idx=8453, rating=6.682051658630371), Row(asin_idx=9342, rating=6.671138763427734), Row(asin_idx=6616, rating=6.667545318603516), Row(asin_idx=8818, rating=6.637388229370117), Row(asin_idx=6918, rating=6.629054069519043), Row(asin_idx=6363, rating=6.615945339202881)])\n",
      "\n",
      "\n",
      "Row(reviewerID_idx=7240, recommendations=[Row(asin_idx=7372, rating=6.371034622192383), Row(asin_idx=10783, rating=6.360749244689941), Row(asin_idx=6698, rating=6.292793273925781), Row(asin_idx=8701, rating=6.217228889465332), Row(asin_idx=9900, rating=6.195097923278809), Row(asin_idx=11166, rating=6.104715824127197), Row(asin_idx=6325, rating=6.078668117523193), Row(asin_idx=8545, rating=6.069717884063721), Row(asin_idx=6077, rating=5.9976654052734375), Row(asin_idx=9904, rating=5.973474979400635), Row(asin_idx=8590, rating=5.941137313842773), Row(asin_idx=9013, rating=5.923793315887451), Row(asin_idx=10643, rating=5.898123741149902), Row(asin_idx=5137, rating=5.88823938369751), Row(asin_idx=10458, rating=5.877104759216309), Row(asin_idx=10515, rating=5.876058578491211), Row(asin_idx=5115, rating=5.867400646209717), Row(asin_idx=12036, rating=5.856845855712891), Row(asin_idx=4587, rating=5.848647594451904), Row(asin_idx=7334, rating=5.840877056121826)])\n",
      "\n",
      "\n"
     ]
    }
   ],
   "source": [
    "for user in user_recs.head(5):\n",
    "    print(user)\n",
    "    print(\"\\n\")"
   ]
  },
  {
   "cell_type": "markdown",
   "metadata": {},
   "source": [
    "### Converting back to string form"
   ]
  },
  {
   "cell_type": "code",
   "execution_count": 28,
   "metadata": {},
   "outputs": [],
   "source": [
    "recs = model.recommendForAllUsers(10).toPandas()\n",
    "nrecs = recs['recommendations'].apply(pd.Series).merge(recs, right_index=True, left_index=True).drop([\"recommendations\"], axis=1).melt(id_vars=[\"reviewerID_idx\"], value_name=\"recommendation\").drop([\"variable\"], axis=1).dropna()\n",
    "nrecs = nrecs.sort_values('reviewerID_idx')\n",
    "nrecs = pd.concat([nrecs[\"recommendation\"].apply(pd.Series),\n",
    "                   nrecs[\"reviewerID_idx\"]], axis=1)\n",
    "nrecs.columns = ['ProductID_index', 'Rating', 'UserID_index']"
   ]
  },
  {
   "cell_type": "code",
   "execution_count": 29,
   "metadata": {},
   "outputs": [
    {
     "data": {
      "text/html": [
       "<div>\n",
       "<style scoped>\n",
       "    .dataframe tbody tr th:only-of-type {\n",
       "        vertical-align: middle;\n",
       "    }\n",
       "\n",
       "    .dataframe tbody tr th {\n",
       "        vertical-align: top;\n",
       "    }\n",
       "\n",
       "    .dataframe thead th {\n",
       "        text-align: right;\n",
       "    }\n",
       "</style>\n",
       "<table border=\"1\" class=\"dataframe\">\n",
       "  <thead>\n",
       "    <tr style=\"text-align: right;\">\n",
       "      <th></th>\n",
       "      <th>ProductID_index</th>\n",
       "      <th>Rating</th>\n",
       "      <th>UserID_index</th>\n",
       "    </tr>\n",
       "  </thead>\n",
       "  <tbody>\n",
       "    <tr>\n",
       "      <th>88494</th>\n",
       "      <td>11407.0</td>\n",
       "      <td>6.288699</td>\n",
       "      <td>0</td>\n",
       "    </tr>\n",
       "    <tr>\n",
       "      <th>155580</th>\n",
       "      <td>6077.0</td>\n",
       "      <td>6.166509</td>\n",
       "      <td>0</td>\n",
       "    </tr>\n",
       "    <tr>\n",
       "      <th>66132</th>\n",
       "      <td>11166.0</td>\n",
       "      <td>6.325033</td>\n",
       "      <td>0</td>\n",
       "    </tr>\n",
       "    <tr>\n",
       "      <th>133218</th>\n",
       "      <td>9981.0</td>\n",
       "      <td>6.197639</td>\n",
       "      <td>0</td>\n",
       "    </tr>\n",
       "    <tr>\n",
       "      <th>222666</th>\n",
       "      <td>7780.0</td>\n",
       "      <td>6.043042</td>\n",
       "      <td>0</td>\n",
       "    </tr>\n",
       "    <tr>\n",
       "      <th>...</th>\n",
       "      <td>...</td>\n",
       "      <td>...</td>\n",
       "      <td>...</td>\n",
       "    </tr>\n",
       "    <tr>\n",
       "      <th>152129</th>\n",
       "      <td>10564.0</td>\n",
       "      <td>5.987124</td>\n",
       "      <td>22362</td>\n",
       "    </tr>\n",
       "    <tr>\n",
       "      <th>129767</th>\n",
       "      <td>12069.0</td>\n",
       "      <td>6.164086</td>\n",
       "      <td>22362</td>\n",
       "    </tr>\n",
       "    <tr>\n",
       "      <th>219215</th>\n",
       "      <td>9900.0</td>\n",
       "      <td>5.398891</td>\n",
       "      <td>22362</td>\n",
       "    </tr>\n",
       "    <tr>\n",
       "      <th>62681</th>\n",
       "      <td>12067.0</td>\n",
       "      <td>6.164173</td>\n",
       "      <td>22362</td>\n",
       "    </tr>\n",
       "    <tr>\n",
       "      <th>107405</th>\n",
       "      <td>11395.0</td>\n",
       "      <td>6.164128</td>\n",
       "      <td>22362</td>\n",
       "    </tr>\n",
       "  </tbody>\n",
       "</table>\n",
       "<p>223620 rows × 3 columns</p>\n",
       "</div>"
      ],
      "text/plain": [
       "        ProductID_index    Rating  UserID_index\n",
       "88494           11407.0  6.288699             0\n",
       "155580           6077.0  6.166509             0\n",
       "66132           11166.0  6.325033             0\n",
       "133218           9981.0  6.197639             0\n",
       "222666           7780.0  6.043042             0\n",
       "...                 ...       ...           ...\n",
       "152129          10564.0  5.987124         22362\n",
       "129767          12069.0  6.164086         22362\n",
       "219215           9900.0  5.398891         22362\n",
       "62681           12067.0  6.164173         22362\n",
       "107405          11395.0  6.164128         22362\n",
       "\n",
       "[223620 rows x 3 columns]"
      ]
     },
     "execution_count": 29,
     "metadata": {},
     "output_type": "execute_result"
    }
   ],
   "source": [
    "nrecs"
   ]
  },
  {
   "cell_type": "code",
   "execution_count": 30,
   "metadata": {},
   "outputs": [
    {
     "name": "stderr",
     "output_type": "stream",
     "text": [
      "<ipython-input-30-cebb134bb618>:10: SettingWithCopyWarning: \n",
      "A value is trying to be set on a copy of a slice from a DataFrame.\n",
      "Try using .loc[row_indexer,col_indexer] = value instead\n",
      "\n",
      "See the caveats in the documentation: https://pandas.pydata.org/pandas-docs/stable/user_guide/indexing.html#returning-a-view-versus-a-copy\n",
      "  new['recommendations'] = list(zip(new.asin, new.Rating))\n"
     ]
    }
   ],
   "source": [
    "md = data_indexed.select(['reviewerID', 'reviewerID_idx', 'asin', 'asin_idx'])\n",
    "md = md.toPandas()\n",
    "dict1 = dict(zip(md['reviewerID_idx'], md['reviewerID']))\n",
    "dict2 = dict(zip(md['asin_idx'], md['asin']))\n",
    "nrecs['reviewerID'] = nrecs['UserID_index'].map(dict1)\n",
    "nrecs['asin'] = nrecs['ProductID_index'].map(dict2)\n",
    "nrecs = nrecs.sort_values('reviewerID')\n",
    "nrecs.reset_index(drop=True, inplace=True)\n",
    "new = nrecs[['reviewerID', 'asin', 'Rating']]\n",
    "new['recommendations'] = list(zip(new.asin, new.Rating))\n",
    "res = new[['reviewerID', 'recommendations']]\n",
    "res_new = res['recommendations'].groupby(res['reviewerID']).apply(list).reset_index()"
   ]
  },
  {
   "cell_type": "code",
   "execution_count": 31,
   "metadata": {},
   "outputs": [
    {
     "data": {
      "text/html": [
       "<div>\n",
       "<style scoped>\n",
       "    .dataframe tbody tr th:only-of-type {\n",
       "        vertical-align: middle;\n",
       "    }\n",
       "\n",
       "    .dataframe tbody tr th {\n",
       "        vertical-align: top;\n",
       "    }\n",
       "\n",
       "    .dataframe thead th {\n",
       "        text-align: right;\n",
       "    }\n",
       "</style>\n",
       "<table border=\"1\" class=\"dataframe\">\n",
       "  <thead>\n",
       "    <tr style=\"text-align: right;\">\n",
       "      <th></th>\n",
       "      <th>reviewerID</th>\n",
       "      <th>recommendations</th>\n",
       "    </tr>\n",
       "  </thead>\n",
       "  <tbody>\n",
       "    <tr>\n",
       "      <th>0</th>\n",
       "      <td>A00414041RD0BXM6WK0GX</td>\n",
       "      <td>(B00HFP4JZU, 4.88042688369751)</td>\n",
       "    </tr>\n",
       "    <tr>\n",
       "      <th>1</th>\n",
       "      <td>A00414041RD0BXM6WK0GX</td>\n",
       "      <td>(B00GRTQBTM, 4.794581890106201)</td>\n",
       "    </tr>\n",
       "    <tr>\n",
       "      <th>2</th>\n",
       "      <td>A00414041RD0BXM6WK0GX</td>\n",
       "      <td>(B00319V9BG, 4.843811988830566)</td>\n",
       "    </tr>\n",
       "    <tr>\n",
       "      <th>3</th>\n",
       "      <td>A00414041RD0BXM6WK0GX</td>\n",
       "      <td>(B0009MMK5M, 4.4037885665893555)</td>\n",
       "    </tr>\n",
       "    <tr>\n",
       "      <th>4</th>\n",
       "      <td>A00414041RD0BXM6WK0GX</td>\n",
       "      <td>(B0002X4F0Q, 4.534732818603516)</td>\n",
       "    </tr>\n",
       "    <tr>\n",
       "      <th>...</th>\n",
       "      <td>...</td>\n",
       "      <td>...</td>\n",
       "    </tr>\n",
       "    <tr>\n",
       "      <th>223615</th>\n",
       "      <td>AZZZLM1E5JJ8C</td>\n",
       "      <td>(B003Y69DJG, 4.763320446014404)</td>\n",
       "    </tr>\n",
       "    <tr>\n",
       "      <th>223616</th>\n",
       "      <td>AZZZLM1E5JJ8C</td>\n",
       "      <td>(B00ANTO6YO, 4.809251308441162)</td>\n",
       "    </tr>\n",
       "    <tr>\n",
       "      <th>223617</th>\n",
       "      <td>AZZZLM1E5JJ8C</td>\n",
       "      <td>(B000X1LOJM, 5.338888645172119)</td>\n",
       "    </tr>\n",
       "    <tr>\n",
       "      <th>223618</th>\n",
       "      <td>AZZZLM1E5JJ8C</td>\n",
       "      <td>(B003WG3AQ0, 5.041476249694824)</td>\n",
       "    </tr>\n",
       "    <tr>\n",
       "      <th>223619</th>\n",
       "      <td>AZZZLM1E5JJ8C</td>\n",
       "      <td>(B0047TMDCI, 4.8719801902771)</td>\n",
       "    </tr>\n",
       "  </tbody>\n",
       "</table>\n",
       "<p>223620 rows × 2 columns</p>\n",
       "</div>"
      ],
      "text/plain": [
       "                   reviewerID                   recommendations\n",
       "0       A00414041RD0BXM6WK0GX    (B00HFP4JZU, 4.88042688369751)\n",
       "1       A00414041RD0BXM6WK0GX   (B00GRTQBTM, 4.794581890106201)\n",
       "2       A00414041RD0BXM6WK0GX   (B00319V9BG, 4.843811988830566)\n",
       "3       A00414041RD0BXM6WK0GX  (B0009MMK5M, 4.4037885665893555)\n",
       "4       A00414041RD0BXM6WK0GX   (B0002X4F0Q, 4.534732818603516)\n",
       "...                       ...                               ...\n",
       "223615          AZZZLM1E5JJ8C   (B003Y69DJG, 4.763320446014404)\n",
       "223616          AZZZLM1E5JJ8C   (B00ANTO6YO, 4.809251308441162)\n",
       "223617          AZZZLM1E5JJ8C   (B000X1LOJM, 5.338888645172119)\n",
       "223618          AZZZLM1E5JJ8C   (B003WG3AQ0, 5.041476249694824)\n",
       "223619          AZZZLM1E5JJ8C     (B0047TMDCI, 4.8719801902771)\n",
       "\n",
       "[223620 rows x 2 columns]"
      ]
     },
     "execution_count": 31,
     "metadata": {},
     "output_type": "execute_result"
    }
   ],
   "source": [
    "res_new"
   ]
  },
  {
   "cell_type": "code",
   "execution_count": null,
   "metadata": {},
   "outputs": [],
   "source": []
  }
 ],
 "metadata": {
  "kernelspec": {
   "display_name": "Python 3",
   "language": "python",
   "name": "python3"
  },
  "language_info": {
   "codemirror_mode": {
    "name": "ipython",
    "version": 3
   },
   "file_extension": ".py",
   "mimetype": "text/x-python",
   "name": "python",
   "nbconvert_exporter": "python",
   "pygments_lexer": "ipython3",
   "version": "3.8.3"
  }
 },
 "nbformat": 4,
 "nbformat_minor": 4
}
