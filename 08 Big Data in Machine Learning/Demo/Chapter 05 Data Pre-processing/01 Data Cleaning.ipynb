{
 "cells": [
  {
   "cell_type": "code",
   "execution_count": 1,
   "id": "presidential-marathon",
   "metadata": {},
   "outputs": [],
   "source": [
    "import findspark\n",
    "findspark.init()"
   ]
  },
  {
   "cell_type": "code",
   "execution_count": 2,
   "id": "trained-freeware",
   "metadata": {},
   "outputs": [],
   "source": [
    "import matplotlib.pyplot as plt\n",
    "import seaborn as sns\n",
    "from datetime import datetime\n",
    "\n",
    "from pyspark import SparkContext\n",
    "from pyspark.conf import SparkConf\n",
    "\n",
    "from pyspark.sql import SparkSession\n",
    "from pyspark.sql.functions import mean, stddev, col, log\n",
    "from pyspark.sql.functions import to_date, dayofweek, to_timestamp\n",
    "from pyspark.sql import types \n",
    "from pyspark.sql.functions import col, udf\n",
    "from pyspark.sql.types import DateType\n",
    "from pyspark.sql.functions import year, month\n",
    "from pyspark.sql.functions import dayofmonth, weekofyear\n",
    "from pyspark.sql.functions import split, explode\n",
    "from pyspark.sql.functions import coalesce, first, lit\n",
    "from pyspark.sql.functions import regexp_extract, col\n",
    "\n",
    "from pyspark.ml.feature import Binarizer\n",
    "from pyspark.ml.feature import Bucketizer\n",
    "from pyspark.ml.feature import OneHotEncoder, StringIndexer"
   ]
  },
  {
   "cell_type": "code",
   "execution_count": 3,
   "id": "searching-preference",
   "metadata": {},
   "outputs": [],
   "source": [
    "sc = SparkContext()\n",
    "spark = SparkSession(sc)"
   ]
  },
  {
   "cell_type": "code",
   "execution_count": 4,
   "id": "serial-chance",
   "metadata": {},
   "outputs": [],
   "source": [
    "df = spark.read.csv(\"../../Data/2017_StPaul_MN_Real_Estate.csv\", header=True, inferSchema=True)"
   ]
  },
  {
   "cell_type": "code",
   "execution_count": 5,
   "id": "synthetic-appeal",
   "metadata": {},
   "outputs": [],
   "source": [
    "df_sub = df.select('STREETNUMBERNUMERIC', 'FIREPLACES', \n",
    "                   'LOTSIZEDIMENSIONS', 'LISTTYPE', 'ACRES', \n",
    "                   'ASSUMABLEMORTGAGE', 'SalesClosePrice', 'ListPrice',\n",
    "                   'DAYSONMARKET')"
   ]
  },
  {
   "cell_type": "code",
   "execution_count": 6,
   "id": "horizontal-browse",
   "metadata": {},
   "outputs": [
    {
     "name": "stdout",
     "output_type": "stream",
     "text": [
      "+-------------------+----------+-----------------+---------------+-----+-----------------+---------------+---------+------------+\n",
      "|STREETNUMBERNUMERIC|FIREPLACES|LOTSIZEDIMENSIONS|       LISTTYPE|ACRES|ASSUMABLEMORTGAGE|SalesClosePrice|ListPrice|DAYSONMARKET|\n",
      "+-------------------+----------+-----------------+---------------+-----+-----------------+---------------+---------+------------+\n",
      "|              11511|         0|          279X200|Exclusive Right| 1.28|             null|         143000|   139900|          10|\n",
      "|              11200|         0|          100x140|Exclusive Right| 0.32|             null|         190000|   210000|           4|\n",
      "|               8583|         0|          120x296|Exclusive Right|0.822|    Not Assumable|         225000|   225000|          28|\n",
      "|               9350|         1|          208X208|Exclusive Right| 0.94|             null|         265000|   230000|          19|\n",
      "|               2915|         1|          116x200|Exclusive Right|  0.0|             null|         249900|   239900|          21|\n",
      "+-------------------+----------+-----------------+---------------+-----+-----------------+---------------+---------+------------+\n",
      "only showing top 5 rows\n",
      "\n"
     ]
    }
   ],
   "source": [
    "df_sub.show(5)"
   ]
  },
  {
   "cell_type": "markdown",
   "id": "equivalent-gasoline",
   "metadata": {},
   "source": [
    "### Xóa các thuộc tính không liên quan"
   ]
  },
  {
   "cell_type": "code",
   "execution_count": 7,
   "id": "rubber-injection",
   "metadata": {},
   "outputs": [
    {
     "name": "stdout",
     "output_type": "stream",
     "text": [
      "+----------+---------------+-----+-----------------+---------------+---------+------------+\n",
      "|FIREPLACES|       LISTTYPE|ACRES|ASSUMABLEMORTGAGE|SalesClosePrice|ListPrice|DAYSONMARKET|\n",
      "+----------+---------------+-----+-----------------+---------------+---------+------------+\n",
      "|         0|Exclusive Right| 1.28|             null|         143000|   139900|          10|\n",
      "|         0|Exclusive Right| 0.32|             null|         190000|   210000|           4|\n",
      "|         0|Exclusive Right|0.822|    Not Assumable|         225000|   225000|          28|\n",
      "|         1|Exclusive Right| 0.94|             null|         265000|   230000|          19|\n",
      "|         1|Exclusive Right|  0.0|             null|         249900|   239900|          21|\n",
      "+----------+---------------+-----+-----------------+---------------+---------+------------+\n",
      "only showing top 5 rows\n",
      "\n"
     ]
    }
   ],
   "source": [
    "# Drop columns in list\n",
    "df_sub = df_sub.drop(*['STREETNUMBERNUMERIC', 'LOTSIZEDIMENSIONS'])\n",
    "df_sub.show(5)"
   ]
  },
  {
   "cell_type": "markdown",
   "id": "dense-accreditation",
   "metadata": {},
   "source": [
    "### Lọc dữ liệu"
   ]
  },
  {
   "cell_type": "code",
   "execution_count": 8,
   "id": "violent-reminder",
   "metadata": {},
   "outputs": [
    {
     "name": "stdout",
     "output_type": "stream",
     "text": [
      "+-------------------+\n",
      "|  ASSUMABLEMORTGAGE|\n",
      "+-------------------+\n",
      "|  Yes w/ Qualifying|\n",
      "| Information Coming|\n",
      "|               null|\n",
      "|Yes w/No Qualifying|\n",
      "|      Not Assumable|\n",
      "+-------------------+\n",
      "\n"
     ]
    }
   ],
   "source": [
    "# Inspect unique values in the column 'ASSUMABLEMORTGAGE'\n",
    "df_sub.select(['ASSUMABLEMORTGAGE']).distinct().show()"
   ]
  },
  {
   "cell_type": "code",
   "execution_count": 9,
   "id": "sealed-judgment",
   "metadata": {},
   "outputs": [
    {
     "name": "stdout",
     "output_type": "stream",
     "text": [
      "Before: 5000\n",
      "After: 4976\n"
     ]
    }
   ],
   "source": [
    "print(\"Before:\", df_sub.count())\n",
    "# List of the possible values containing 'yes'\n",
    "yes_values = ['Yes w/ Qualifying', 'Yes w/No Qualifying']\n",
    "# Filter the text values out of df_sub but keep null values\n",
    "text_filter = ~df_sub['ASSUMABLEMORTGAGE'].isin(yes_values) | df_sub['ASSUMABLEMORTGAGE'].isNull()\n",
    "df_sub = df.where(text_filter)\n",
    "# Print counth of remaining records\n",
    "print(\"After:\", df_sub.count())"
   ]
  },
  {
   "cell_type": "markdown",
   "id": "legal-treasure",
   "metadata": {},
   "source": [
    "### Xóa dữ liệu outlier theo phân phối chuẩn"
   ]
  },
  {
   "cell_type": "code",
   "execution_count": 10,
   "id": "stuck-newman",
   "metadata": {},
   "outputs": [
    {
     "data": {
      "text/plain": [
       "<seaborn.axisgrid.FacetGrid at 0x1cfd0b96100>"
      ]
     },
     "execution_count": 10,
     "metadata": {},
     "output_type": "execute_result"
    },
    {
     "data": {
      "image/png": "[encoded data removed]",
      "text/plain": [
       "<Figure size 474.25x360 with 1 Axes>"
      ]
     },
     "metadata": {
      "needs_background": "light"
     },
     "output_type": "display_data"
    }
   ],
   "source": [
    "sns.displot(df_sub.select(['SalesClosePrice']).toPandas(), kde=True)"
   ]
  },
  {
   "cell_type": "code",
   "execution_count": 11,
   "id": "coated-insured",
   "metadata": {},
   "outputs": [
    {
     "data": {
      "text/plain": [
       "4976"
      ]
     },
     "execution_count": 11,
     "metadata": {},
     "output_type": "execute_result"
    }
   ],
   "source": [
    "df_sub = df_sub.withColumn(\"Log_ScaleClosePrice\", log(col(\"SalesClosePrice\")))\n",
    "df_sub.count()"
   ]
  },
  {
   "cell_type": "code",
   "execution_count": 12,
   "id": "affiliated-jerusalem",
   "metadata": {},
   "outputs": [
    {
     "data": {
      "text/plain": [
       "<seaborn.axisgrid.FacetGrid at 0x1cfd69199d0>"
      ]
     },
     "execution_count": 12,
     "metadata": {},
     "output_type": "execute_result"
    },
    {
     "data": {
      "image/png": "[encoded data removed]",
      "text/plain": [
       "<Figure size 497.25x360 with 1 Axes>"
      ]
     },
     "metadata": {
      "needs_background": "light"
     },
     "output_type": "display_data"
    }
   ],
   "source": [
    "sns.displot(df_sub.select([\"Log_ScaleClosePrice\"]).toPandas(), kde=True)"
   ]
  },
  {
   "cell_type": "code",
   "execution_count": 13,
   "id": "sexual-definition",
   "metadata": {},
   "outputs": [],
   "source": [
    "# Calculate values used for outlier filtering\n",
    "mean_val = df_sub.agg({'Log_ScaleClosePrice': 'mean'}).collect()[0][0]\n",
    "stddev_val = df_sub.agg({'Log_ScaleClosePrice': 'stddev'}).collect()[0][0]\n",
    "# Create three standard deviation lower and upper bounds for data\n",
    "low_bound = mean_val - (3* stddev_val)\n",
    "high_bound = mean_val + (3* stddev_val)\n",
    "# Filter the data to fit between the lower and upper bounds\n",
    "df_sub = df_sub.where((df_sub['Log_ScaleClosePrice'] < high_bound) & (df_sub['Log_ScaleClosePrice'] > low_bound))"
   ]
  },
  {
   "cell_type": "code",
   "execution_count": 14,
   "id": "tribal-supplement",
   "metadata": {},
   "outputs": [
    {
     "data": {
      "text/plain": [
       "{'whiskers': [<matplotlib.lines.Line2D at 0x1cfd6af28e0>,\n",
       "  <matplotlib.lines.Line2D at 0x1cfd6af2c40>],\n",
       " 'caps': [<matplotlib.lines.Line2D at 0x1cfd6af2fa0>,\n",
       "  <matplotlib.lines.Line2D at 0x1cfd6b5c340>],\n",
       " 'boxes': [<matplotlib.lines.Line2D at 0x1cfd6af2580>],\n",
       " 'medians': [<matplotlib.lines.Line2D at 0x1cfd6b5c6a0>],\n",
       " 'fliers': [<matplotlib.lines.Line2D at 0x1cfd6b5ca00>],\n",
       " 'means': []}"
      ]
     },
     "execution_count": 14,
     "metadata": {},
     "output_type": "execute_result"
    },
    {
     "data": {
      "image/png": "[encoded data removed]",
      "text/plain": [
       "<Figure size 432x288 with 1 Axes>"
      ]
     },
     "metadata": {
      "needs_background": "light"
     },
     "output_type": "display_data"
    }
   ],
   "source": [
    "plt.boxplot(df_sub.select(['Log_ScaleClosePrice']).toPandas())"
   ]
  },
  {
   "cell_type": "code",
   "execution_count": 15,
   "id": "serious-europe",
   "metadata": {},
   "outputs": [
    {
     "data": {
      "text/plain": [
       "4946"
      ]
     },
     "execution_count": 15,
     "metadata": {},
     "output_type": "execute_result"
    }
   ],
   "source": [
    "df_sub.count()"
   ]
  },
  {
   "cell_type": "code",
   "execution_count": 16,
   "id": "physical-somalia",
   "metadata": {},
   "outputs": [],
   "source": [
    "# Drop records if both ListPrice and SalesClosePrice is null\n",
    "df_sub = df_sub.dropna(how='all', subset=['ListPrice', 'SalesClosePrice'])"
   ]
  },
  {
   "cell_type": "code",
   "execution_count": 17,
   "id": "different-birthday",
   "metadata": {},
   "outputs": [],
   "source": [
    "# Drop records where at least 2 columns have NULL values\n",
    "df_sub = df_sub.dropna(thresh=2)"
   ]
  },
  {
   "cell_type": "markdown",
   "id": "excited-transcription",
   "metadata": {},
   "source": [
    "### MinMax Scaling"
   ]
  },
  {
   "cell_type": "code",
   "execution_count": 18,
   "id": "interstate-combat",
   "metadata": {},
   "outputs": [
    {
     "name": "stdout",
     "output_type": "stream",
     "text": [
      "[Row(max(SalesClosePrice)=920000)]\n",
      "[Row(min(SalesClosePrice)=61000)]\n"
     ]
    }
   ],
   "source": [
    "print(df_sub.agg({'SalesClosePrice': 'max'}).collect())\n",
    "print(df_sub.agg({'SalesClosePrice': 'min'}).collect())"
   ]
  },
  {
   "cell_type": "code",
   "execution_count": 19,
   "id": "rubber-concentration",
   "metadata": {},
   "outputs": [],
   "source": [
    "# Define max and min values and collect them\n",
    "max_price = df_sub.agg({'SalesClosePrice': 'max'}).collect()[0][0]\n",
    "min_price = df_sub.agg({'SalesClosePrice': 'min'}).collect()[0][0]"
   ]
  },
  {
   "cell_type": "code",
   "execution_count": 20,
   "id": "grand-context",
   "metadata": {},
   "outputs": [
    {
     "name": "stdout",
     "output_type": "stream",
     "text": [
      "[Row(max(scaled_price)=1.0)]\n",
      "[Row(min(scaled_price)=0.0)]\n"
     ]
    }
   ],
   "source": [
    "# Create a new column based off the scaled data\n",
    "df_sub = df_sub.withColumn('scaled_price', (df_sub['SalesClosePrice'] - min_price) / (max_price - min_price))\n",
    "# Calculate max and min for new column\n",
    "print(df_sub.agg({'scaled_price': 'max'}).collect())\n",
    "print(df_sub.agg({'scaled_price': 'min'}).collect())"
   ]
  },
  {
   "cell_type": "markdown",
   "id": "thrown-queensland",
   "metadata": {},
   "source": [
    "### Hiển thị dữ liệu thiếu"
   ]
  },
  {
   "cell_type": "code",
   "execution_count": 21,
   "id": "conceptual-tunnel",
   "metadata": {},
   "outputs": [
    {
     "data": {
      "text/plain": [
       "765"
      ]
     },
     "execution_count": 21,
     "metadata": {},
     "output_type": "execute_result"
    }
   ],
   "source": [
    "roof = df[['ROOF']]\n",
    "roof.where(df['ROOF'].isNull()).count()"
   ]
  },
  {
   "cell_type": "code",
   "execution_count": 23,
   "id": "gross-profit",
   "metadata": {},
   "outputs": [
    {
     "data": {
      "text/plain": [
       "<AxesSubplot:>"
      ]
     },
     "execution_count": 23,
     "metadata": {},
     "output_type": "execute_result"
    },
    {
     "data": {
      "image/png": "[encoded data removed]",
      "text/plain": [
       "<Figure size 432x288 with 2 Axes>"
      ]
     },
     "metadata": {
      "needs_background": "light"
     },
     "output_type": "display_data"
    }
   ],
   "source": [
    "roof_df = roof.toPandas()\n",
    "sns.heatmap(data=roof_df.isnull())"
   ]
  },
  {
   "cell_type": "code",
   "execution_count": null,
   "id": "chubby-paste",
   "metadata": {},
   "outputs": [],
   "source": []
  }
 ],
 "metadata": {
  "kernelspec": {
   "display_name": "Python 3",
   "language": "python",
   "name": "python3"
  },
  "language_info": {
   "codemirror_mode": {
    "name": "ipython",
    "version": 3
   },
   "file_extension": ".py",
   "mimetype": "text/x-python",
   "name": "python",
   "nbconvert_exporter": "python",
   "pygments_lexer": "ipython3",
   "version": "3.8.3"
  }
 },
 "nbformat": 4,
 "nbformat_minor": 5
}
