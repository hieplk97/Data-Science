{
 "cells": [
  {
   "cell_type": "code",
   "execution_count": 1,
   "metadata": {},
   "outputs": [
    {
     "name": "stderr",
     "output_type": "stream",
     "text": [
      "Registered S3 method overwritten by 'quantmod':\n",
      "  method            from\n",
      "  as.zoo.data.frame zoo \n",
      "\n"
     ]
    }
   ],
   "source": [
    "library(\"forecast\")"
   ]
  },
  {
   "cell_type": "code",
   "execution_count": 2,
   "metadata": {},
   "outputs": [],
   "source": [
    "births = scan(\"../../Data/mybirths.dat.txt\", skip = 3)"
   ]
  },
  {
   "cell_type": "code",
   "execution_count": 3,
   "metadata": {},
   "outputs": [
    {
     "name": "stdout",
     "output_type": "stream",
     "text": [
      "  [1] 24.740 25.806 24.364 24.477 23.901 23.175 23.227 21.672 21.870 21.439\n",
      " [11] 21.089 23.709 21.669 21.752 20.761 23.479 23.824 23.105 23.110 21.759\n",
      " [21] 22.073 21.937 20.035 23.590 21.672 22.222 22.123 23.950 23.504 22.238\n",
      " [31] 23.142 21.059 21.573 21.548 20.000 22.424 20.615 21.761 22.874 24.104\n",
      " [41] 23.748 23.262 22.907 21.519 22.025 22.604 20.894 24.677 23.673 25.320\n",
      " [51] 23.583 24.671 24.454 24.122 24.252 22.084 22.991 23.287 23.049 25.076\n",
      " [61] 24.037 24.430 24.667 26.451 25.618 25.014 25.110 22.964 23.981 23.798\n",
      " [71] 22.270 24.775 22.646 23.988 24.737 26.276 25.816 25.210 25.199 23.162\n",
      " [81] 24.707 24.364 22.644 25.565 24.062 25.431 24.635 27.009 26.606 26.268\n",
      " [91] 26.462 25.246 25.180 24.657 23.304 26.982 26.199 27.210 26.122 26.706\n",
      "[101] 26.878 26.152 26.379 24.712 25.688 24.990 24.239 26.721 23.475 24.767\n",
      "[111] 26.219 28.361 28.599 27.914 27.784 25.693 26.881 26.217 24.218 27.914\n",
      "[121] 26.975 28.527 27.139 28.982 28.169 28.056 29.136 26.291 26.987 26.589\n",
      "[131] 24.848 27.543 26.896 28.878 27.390 28.065 28.141 29.048 28.484 26.634\n",
      "[141] 27.735 27.132 24.924 28.963 26.589 27.931 28.009 29.229 28.759 28.405\n",
      "[151] 27.945 25.912 26.619 26.076 25.286 27.660 25.951 26.398 25.565 28.865\n",
      "[161] 30.000 29.261 29.012 26.992 27.897\n"
     ]
    }
   ],
   "source": [
    "print(births)"
   ]
  },
  {
   "cell_type": "code",
   "execution_count": 4,
   "metadata": {},
   "outputs": [
    {
     "name": "stdout",
     "output_type": "stream",
     "text": [
      "[1] \"Birth Time Series:\"\n"
     ]
    },
    {
     "data": {
      "text/html": [
       "<table>\n",
       "<caption>A Time Series: 14 × 12</caption>\n",
       "<thead>\n",
       "\t<tr><th></th><th scope=col>Jan</th><th scope=col>Feb</th><th scope=col>Mar</th><th scope=col>Apr</th><th scope=col>May</th><th scope=col>Jun</th><th scope=col>Jul</th><th scope=col>Aug</th><th scope=col>Sep</th><th scope=col>Oct</th><th scope=col>Nov</th><th scope=col>Dec</th></tr>\n",
       "</thead>\n",
       "<tbody>\n",
       "\t<tr><th scope=row>1946</th><td>24.740</td><td>25.806</td><td>24.364</td><td>24.477</td><td>23.901</td><td>23.175</td><td>23.227</td><td>21.672</td><td>21.870</td><td>21.439</td><td>21.089</td><td>23.709</td></tr>\n",
       "\t<tr><th scope=row>1947</th><td>21.669</td><td>21.752</td><td>20.761</td><td>23.479</td><td>23.824</td><td>23.105</td><td>23.110</td><td>21.759</td><td>22.073</td><td>21.937</td><td>20.035</td><td>23.590</td></tr>\n",
       "\t<tr><th scope=row>1948</th><td>21.672</td><td>22.222</td><td>22.123</td><td>23.950</td><td>23.504</td><td>22.238</td><td>23.142</td><td>21.059</td><td>21.573</td><td>21.548</td><td>20.000</td><td>22.424</td></tr>\n",
       "\t<tr><th scope=row>1949</th><td>20.615</td><td>21.761</td><td>22.874</td><td>24.104</td><td>23.748</td><td>23.262</td><td>22.907</td><td>21.519</td><td>22.025</td><td>22.604</td><td>20.894</td><td>24.677</td></tr>\n",
       "\t<tr><th scope=row>1950</th><td>23.673</td><td>25.320</td><td>23.583</td><td>24.671</td><td>24.454</td><td>24.122</td><td>24.252</td><td>22.084</td><td>22.991</td><td>23.287</td><td>23.049</td><td>25.076</td></tr>\n",
       "\t<tr><th scope=row>1951</th><td>24.037</td><td>24.430</td><td>24.667</td><td>26.451</td><td>25.618</td><td>25.014</td><td>25.110</td><td>22.964</td><td>23.981</td><td>23.798</td><td>22.270</td><td>24.775</td></tr>\n",
       "\t<tr><th scope=row>1952</th><td>22.646</td><td>23.988</td><td>24.737</td><td>26.276</td><td>25.816</td><td>25.210</td><td>25.199</td><td>23.162</td><td>24.707</td><td>24.364</td><td>22.644</td><td>25.565</td></tr>\n",
       "\t<tr><th scope=row>1953</th><td>24.062</td><td>25.431</td><td>24.635</td><td>27.009</td><td>26.606</td><td>26.268</td><td>26.462</td><td>25.246</td><td>25.180</td><td>24.657</td><td>23.304</td><td>26.982</td></tr>\n",
       "\t<tr><th scope=row>1954</th><td>26.199</td><td>27.210</td><td>26.122</td><td>26.706</td><td>26.878</td><td>26.152</td><td>26.379</td><td>24.712</td><td>25.688</td><td>24.990</td><td>24.239</td><td>26.721</td></tr>\n",
       "\t<tr><th scope=row>1955</th><td>23.475</td><td>24.767</td><td>26.219</td><td>28.361</td><td>28.599</td><td>27.914</td><td>27.784</td><td>25.693</td><td>26.881</td><td>26.217</td><td>24.218</td><td>27.914</td></tr>\n",
       "\t<tr><th scope=row>1956</th><td>26.975</td><td>28.527</td><td>27.139</td><td>28.982</td><td>28.169</td><td>28.056</td><td>29.136</td><td>26.291</td><td>26.987</td><td>26.589</td><td>24.848</td><td>27.543</td></tr>\n",
       "\t<tr><th scope=row>1957</th><td>26.896</td><td>28.878</td><td>27.390</td><td>28.065</td><td>28.141</td><td>29.048</td><td>28.484</td><td>26.634</td><td>27.735</td><td>27.132</td><td>24.924</td><td>28.963</td></tr>\n",
       "\t<tr><th scope=row>1958</th><td>26.589</td><td>27.931</td><td>28.009</td><td>29.229</td><td>28.759</td><td>28.405</td><td>27.945</td><td>25.912</td><td>26.619</td><td>26.076</td><td>25.286</td><td>27.660</td></tr>\n",
       "\t<tr><th scope=row>1959</th><td>25.951</td><td>26.398</td><td>25.565</td><td>28.865</td><td>30.000</td><td>29.261</td><td>29.012</td><td>26.992</td><td>27.897</td><td>      </td><td>      </td><td>      </td></tr>\n",
       "</tbody>\n",
       "</table>\n"
      ],
      "text/latex": [
       "A Time Series: 14 × 12\n",
       "\\begin{tabular}{r|llllllllllll}\n",
       "  & Jan & Feb & Mar & Apr & May & Jun & Jul & Aug & Sep & Oct & Nov & Dec\\\\\n",
       "\\hline\n",
       "\t1946 & 24.740 & 25.806 & 24.364 & 24.477 & 23.901 & 23.175 & 23.227 & 21.672 & 21.870 & 21.439 & 21.089 & 23.709\\\\\n",
       "\t1947 & 21.669 & 21.752 & 20.761 & 23.479 & 23.824 & 23.105 & 23.110 & 21.759 & 22.073 & 21.937 & 20.035 & 23.590\\\\\n",
       "\t1948 & 21.672 & 22.222 & 22.123 & 23.950 & 23.504 & 22.238 & 23.142 & 21.059 & 21.573 & 21.548 & 20.000 & 22.424\\\\\n",
       "\t1949 & 20.615 & 21.761 & 22.874 & 24.104 & 23.748 & 23.262 & 22.907 & 21.519 & 22.025 & 22.604 & 20.894 & 24.677\\\\\n",
       "\t1950 & 23.673 & 25.320 & 23.583 & 24.671 & 24.454 & 24.122 & 24.252 & 22.084 & 22.991 & 23.287 & 23.049 & 25.076\\\\\n",
       "\t1951 & 24.037 & 24.430 & 24.667 & 26.451 & 25.618 & 25.014 & 25.110 & 22.964 & 23.981 & 23.798 & 22.270 & 24.775\\\\\n",
       "\t1952 & 22.646 & 23.988 & 24.737 & 26.276 & 25.816 & 25.210 & 25.199 & 23.162 & 24.707 & 24.364 & 22.644 & 25.565\\\\\n",
       "\t1953 & 24.062 & 25.431 & 24.635 & 27.009 & 26.606 & 26.268 & 26.462 & 25.246 & 25.180 & 24.657 & 23.304 & 26.982\\\\\n",
       "\t1954 & 26.199 & 27.210 & 26.122 & 26.706 & 26.878 & 26.152 & 26.379 & 24.712 & 25.688 & 24.990 & 24.239 & 26.721\\\\\n",
       "\t1955 & 23.475 & 24.767 & 26.219 & 28.361 & 28.599 & 27.914 & 27.784 & 25.693 & 26.881 & 26.217 & 24.218 & 27.914\\\\\n",
       "\t1956 & 26.975 & 28.527 & 27.139 & 28.982 & 28.169 & 28.056 & 29.136 & 26.291 & 26.987 & 26.589 & 24.848 & 27.543\\\\\n",
       "\t1957 & 26.896 & 28.878 & 27.390 & 28.065 & 28.141 & 29.048 & 28.484 & 26.634 & 27.735 & 27.132 & 24.924 & 28.963\\\\\n",
       "\t1958 & 26.589 & 27.931 & 28.009 & 29.229 & 28.759 & 28.405 & 27.945 & 25.912 & 26.619 & 26.076 & 25.286 & 27.660\\\\\n",
       "\t1959 & 25.951 & 26.398 & 25.565 & 28.865 & 30.000 & 29.261 & 29.012 & 26.992 & 27.897 &        &        &       \\\\\n",
       "\\end{tabular}\n"
      ],
      "text/markdown": [
       "\n",
       "A Time Series: 14 × 12\n",
       "\n",
       "| <!--/--> | Jan | Feb | Mar | Apr | May | Jun | Jul | Aug | Sep | Oct | Nov | Dec |\n",
       "|---|---|---|---|---|---|---|---|---|---|---|---|---|\n",
       "| 1946 | 24.740 | 25.806 | 24.364 | 24.477 | 23.901 | 23.175 | 23.227 | 21.672 | 21.870 | 21.439 | 21.089 | 23.709 |\n",
       "| 1947 | 21.669 | 21.752 | 20.761 | 23.479 | 23.824 | 23.105 | 23.110 | 21.759 | 22.073 | 21.937 | 20.035 | 23.590 |\n",
       "| 1948 | 21.672 | 22.222 | 22.123 | 23.950 | 23.504 | 22.238 | 23.142 | 21.059 | 21.573 | 21.548 | 20.000 | 22.424 |\n",
       "| 1949 | 20.615 | 21.761 | 22.874 | 24.104 | 23.748 | 23.262 | 22.907 | 21.519 | 22.025 | 22.604 | 20.894 | 24.677 |\n",
       "| 1950 | 23.673 | 25.320 | 23.583 | 24.671 | 24.454 | 24.122 | 24.252 | 22.084 | 22.991 | 23.287 | 23.049 | 25.076 |\n",
       "| 1951 | 24.037 | 24.430 | 24.667 | 26.451 | 25.618 | 25.014 | 25.110 | 22.964 | 23.981 | 23.798 | 22.270 | 24.775 |\n",
       "| 1952 | 22.646 | 23.988 | 24.737 | 26.276 | 25.816 | 25.210 | 25.199 | 23.162 | 24.707 | 24.364 | 22.644 | 25.565 |\n",
       "| 1953 | 24.062 | 25.431 | 24.635 | 27.009 | 26.606 | 26.268 | 26.462 | 25.246 | 25.180 | 24.657 | 23.304 | 26.982 |\n",
       "| 1954 | 26.199 | 27.210 | 26.122 | 26.706 | 26.878 | 26.152 | 26.379 | 24.712 | 25.688 | 24.990 | 24.239 | 26.721 |\n",
       "| 1955 | 23.475 | 24.767 | 26.219 | 28.361 | 28.599 | 27.914 | 27.784 | 25.693 | 26.881 | 26.217 | 24.218 | 27.914 |\n",
       "| 1956 | 26.975 | 28.527 | 27.139 | 28.982 | 28.169 | 28.056 | 29.136 | 26.291 | 26.987 | 26.589 | 24.848 | 27.543 |\n",
       "| 1957 | 26.896 | 28.878 | 27.390 | 28.065 | 28.141 | 29.048 | 28.484 | 26.634 | 27.735 | 27.132 | 24.924 | 28.963 |\n",
       "| 1958 | 26.589 | 27.931 | 28.009 | 29.229 | 28.759 | 28.405 | 27.945 | 25.912 | 26.619 | 26.076 | 25.286 | 27.660 |\n",
       "| 1959 | 25.951 | 26.398 | 25.565 | 28.865 | 30.000 | 29.261 | 29.012 | 26.992 | 27.897 | <!----> | <!----> | <!----> |\n",
       "\n"
      ],
      "text/plain": [
       "     Jan    Feb    Mar    Apr    May    Jun    Jul    Aug    Sep    Oct   \n",
       "1946 24.740 25.806 24.364 24.477 23.901 23.175 23.227 21.672 21.870 21.439\n",
       "1947 21.669 21.752 20.761 23.479 23.824 23.105 23.110 21.759 22.073 21.937\n",
       "1948 21.672 22.222 22.123 23.950 23.504 22.238 23.142 21.059 21.573 21.548\n",
       "1949 20.615 21.761 22.874 24.104 23.748 23.262 22.907 21.519 22.025 22.604\n",
       "1950 23.673 25.320 23.583 24.671 24.454 24.122 24.252 22.084 22.991 23.287\n",
       "1951 24.037 24.430 24.667 26.451 25.618 25.014 25.110 22.964 23.981 23.798\n",
       "1952 22.646 23.988 24.737 26.276 25.816 25.210 25.199 23.162 24.707 24.364\n",
       "1953 24.062 25.431 24.635 27.009 26.606 26.268 26.462 25.246 25.180 24.657\n",
       "1954 26.199 27.210 26.122 26.706 26.878 26.152 26.379 24.712 25.688 24.990\n",
       "1955 23.475 24.767 26.219 28.361 28.599 27.914 27.784 25.693 26.881 26.217\n",
       "1956 26.975 28.527 27.139 28.982 28.169 28.056 29.136 26.291 26.987 26.589\n",
       "1957 26.896 28.878 27.390 28.065 28.141 29.048 28.484 26.634 27.735 27.132\n",
       "1958 26.589 27.931 28.009 29.229 28.759 28.405 27.945 25.912 26.619 26.076\n",
       "1959 25.951 26.398 25.565 28.865 30.000 29.261 29.012 26.992 27.897       \n",
       "     Nov    Dec   \n",
       "1946 21.089 23.709\n",
       "1947 20.035 23.590\n",
       "1948 20.000 22.424\n",
       "1949 20.894 24.677\n",
       "1950 23.049 25.076\n",
       "1951 22.270 24.775\n",
       "1952 22.644 25.565\n",
       "1953 23.304 26.982\n",
       "1954 24.239 26.721\n",
       "1955 24.218 27.914\n",
       "1956 24.848 27.543\n",
       "1957 24.924 28.963\n",
       "1958 25.286 27.660\n",
       "1959              "
      ]
     },
     "metadata": {},
     "output_type": "display_data"
    }
   ],
   "source": [
    "# Convert to time series\n",
    "births.timeseries = ts(births, start = c(1946, 1), frequency = 12)\n",
    "print(\"Birth Time Series:\")\n",
    "births.timeseries"
   ]
  },
  {
   "cell_type": "code",
   "execution_count": 5,
   "metadata": {},
   "outputs": [
    {
     "data": {
      "image/png": "[encoded data removed]",
      "text/plain": [
       "Plot with title \"Births per month in New York city, from Jan 1946 to Dec 1959\""
      ]
     },
     "metadata": {
      "image/png": {
       "height": 420,
       "width": 420
      }
     },
     "output_type": "display_data"
    }
   ],
   "source": [
    "plot(births.timeseries, main = \"Births per month in New York city, from Jan 1946 to Dec 1959\",\n",
    "     col = 'red', xlab = 'Year', ylab = 'Births')"
   ]
  },
  {
   "cell_type": "markdown",
   "metadata": {},
   "source": [
    "* From 1950 newborn increased every year"
   ]
  },
  {
   "cell_type": "code",
   "execution_count": 6,
   "metadata": {},
   "outputs": [
    {
     "data": {
      "text/html": [
       "<table>\n",
       "<caption>A Time Series: 14 × 12</caption>\n",
       "<thead>\n",
       "\t<tr><th></th><th scope=col>Jan</th><th scope=col>Feb</th><th scope=col>Mar</th><th scope=col>Apr</th><th scope=col>May</th><th scope=col>Jun</th><th scope=col>Jul</th><th scope=col>Aug</th><th scope=col>Sep</th><th scope=col>Oct</th><th scope=col>Nov</th><th scope=col>Dec</th></tr>\n",
       "</thead>\n",
       "<tbody>\n",
       "\t<tr><th scope=row>1946</th><td>24.740</td><td>25.806</td><td>24.364</td><td>24.477</td><td>23.901</td><td>23.175</td><td>23.227</td><td>21.672</td><td>21.870</td><td>21.439</td><td>21.089</td><td>23.709</td></tr>\n",
       "\t<tr><th scope=row>1947</th><td>21.669</td><td>21.752</td><td>20.761</td><td>23.479</td><td>23.824</td><td>23.105</td><td>23.110</td><td>21.759</td><td>22.073</td><td>21.937</td><td>20.035</td><td>23.590</td></tr>\n",
       "\t<tr><th scope=row>1948</th><td>21.672</td><td>22.222</td><td>22.123</td><td>23.950</td><td>23.504</td><td>22.238</td><td>23.142</td><td>21.059</td><td>21.573</td><td>21.548</td><td>20.000</td><td>22.424</td></tr>\n",
       "\t<tr><th scope=row>1949</th><td>20.615</td><td>21.761</td><td>22.874</td><td>24.104</td><td>23.748</td><td>23.262</td><td>22.907</td><td>21.519</td><td>22.025</td><td>22.604</td><td>20.894</td><td>24.677</td></tr>\n",
       "\t<tr><th scope=row>1950</th><td>23.673</td><td>25.320</td><td>23.583</td><td>24.671</td><td>24.454</td><td>24.122</td><td>24.252</td><td>22.084</td><td>22.991</td><td>23.287</td><td>23.049</td><td>25.076</td></tr>\n",
       "\t<tr><th scope=row>1951</th><td>24.037</td><td>24.430</td><td>24.667</td><td>26.451</td><td>25.618</td><td>25.014</td><td>25.110</td><td>22.964</td><td>23.981</td><td>23.798</td><td>22.270</td><td>24.775</td></tr>\n",
       "\t<tr><th scope=row>1952</th><td>22.646</td><td>23.988</td><td>24.737</td><td>26.276</td><td>25.816</td><td>25.210</td><td>25.199</td><td>23.162</td><td>24.707</td><td>24.364</td><td>22.644</td><td>25.565</td></tr>\n",
       "\t<tr><th scope=row>1953</th><td>24.062</td><td>25.431</td><td>24.635</td><td>27.009</td><td>26.606</td><td>26.268</td><td>26.462</td><td>25.246</td><td>25.180</td><td>24.657</td><td>23.304</td><td>26.982</td></tr>\n",
       "\t<tr><th scope=row>1954</th><td>26.199</td><td>27.210</td><td>26.122</td><td>26.706</td><td>26.878</td><td>26.152</td><td>26.379</td><td>24.712</td><td>25.688</td><td>24.990</td><td>24.239</td><td>26.721</td></tr>\n",
       "\t<tr><th scope=row>1955</th><td>23.475</td><td>24.767</td><td>26.219</td><td>28.361</td><td>28.599</td><td>27.914</td><td>27.784</td><td>25.693</td><td>26.881</td><td>26.217</td><td>24.218</td><td>27.914</td></tr>\n",
       "\t<tr><th scope=row>1956</th><td>26.975</td><td>28.527</td><td>27.139</td><td>28.982</td><td>28.169</td><td>28.056</td><td>29.136</td><td>26.291</td><td>26.987</td><td>26.589</td><td>24.848</td><td>27.543</td></tr>\n",
       "\t<tr><th scope=row>1957</th><td>26.896</td><td>28.878</td><td>27.390</td><td>28.065</td><td>28.141</td><td>29.048</td><td>28.484</td><td>26.634</td><td>27.735</td><td>27.132</td><td>24.924</td><td>28.963</td></tr>\n",
       "\t<tr><th scope=row>1958</th><td>26.589</td><td>27.931</td><td>28.009</td><td>29.229</td><td>28.759</td><td>28.405</td><td>27.945</td><td>25.912</td><td>26.619</td><td>26.076</td><td>25.286</td><td>27.660</td></tr>\n",
       "\t<tr><th scope=row>1959</th><td>25.951</td><td>26.398</td><td>25.565</td><td>28.865</td><td>30.000</td><td>29.261</td><td>29.012</td><td>26.992</td><td>27.897</td><td>      </td><td>      </td><td>      </td></tr>\n",
       "</tbody>\n",
       "</table>\n"
      ],
      "text/latex": [
       "A Time Series: 14 × 12\n",
       "\\begin{tabular}{r|llllllllllll}\n",
       "  & Jan & Feb & Mar & Apr & May & Jun & Jul & Aug & Sep & Oct & Nov & Dec\\\\\n",
       "\\hline\n",
       "\t1946 & 24.740 & 25.806 & 24.364 & 24.477 & 23.901 & 23.175 & 23.227 & 21.672 & 21.870 & 21.439 & 21.089 & 23.709\\\\\n",
       "\t1947 & 21.669 & 21.752 & 20.761 & 23.479 & 23.824 & 23.105 & 23.110 & 21.759 & 22.073 & 21.937 & 20.035 & 23.590\\\\\n",
       "\t1948 & 21.672 & 22.222 & 22.123 & 23.950 & 23.504 & 22.238 & 23.142 & 21.059 & 21.573 & 21.548 & 20.000 & 22.424\\\\\n",
       "\t1949 & 20.615 & 21.761 & 22.874 & 24.104 & 23.748 & 23.262 & 22.907 & 21.519 & 22.025 & 22.604 & 20.894 & 24.677\\\\\n",
       "\t1950 & 23.673 & 25.320 & 23.583 & 24.671 & 24.454 & 24.122 & 24.252 & 22.084 & 22.991 & 23.287 & 23.049 & 25.076\\\\\n",
       "\t1951 & 24.037 & 24.430 & 24.667 & 26.451 & 25.618 & 25.014 & 25.110 & 22.964 & 23.981 & 23.798 & 22.270 & 24.775\\\\\n",
       "\t1952 & 22.646 & 23.988 & 24.737 & 26.276 & 25.816 & 25.210 & 25.199 & 23.162 & 24.707 & 24.364 & 22.644 & 25.565\\\\\n",
       "\t1953 & 24.062 & 25.431 & 24.635 & 27.009 & 26.606 & 26.268 & 26.462 & 25.246 & 25.180 & 24.657 & 23.304 & 26.982\\\\\n",
       "\t1954 & 26.199 & 27.210 & 26.122 & 26.706 & 26.878 & 26.152 & 26.379 & 24.712 & 25.688 & 24.990 & 24.239 & 26.721\\\\\n",
       "\t1955 & 23.475 & 24.767 & 26.219 & 28.361 & 28.599 & 27.914 & 27.784 & 25.693 & 26.881 & 26.217 & 24.218 & 27.914\\\\\n",
       "\t1956 & 26.975 & 28.527 & 27.139 & 28.982 & 28.169 & 28.056 & 29.136 & 26.291 & 26.987 & 26.589 & 24.848 & 27.543\\\\\n",
       "\t1957 & 26.896 & 28.878 & 27.390 & 28.065 & 28.141 & 29.048 & 28.484 & 26.634 & 27.735 & 27.132 & 24.924 & 28.963\\\\\n",
       "\t1958 & 26.589 & 27.931 & 28.009 & 29.229 & 28.759 & 28.405 & 27.945 & 25.912 & 26.619 & 26.076 & 25.286 & 27.660\\\\\n",
       "\t1959 & 25.951 & 26.398 & 25.565 & 28.865 & 30.000 & 29.261 & 29.012 & 26.992 & 27.897 &        &        &       \\\\\n",
       "\\end{tabular}\n"
      ],
      "text/markdown": [
       "\n",
       "A Time Series: 14 × 12\n",
       "\n",
       "| <!--/--> | Jan | Feb | Mar | Apr | May | Jun | Jul | Aug | Sep | Oct | Nov | Dec |\n",
       "|---|---|---|---|---|---|---|---|---|---|---|---|---|\n",
       "| 1946 | 24.740 | 25.806 | 24.364 | 24.477 | 23.901 | 23.175 | 23.227 | 21.672 | 21.870 | 21.439 | 21.089 | 23.709 |\n",
       "| 1947 | 21.669 | 21.752 | 20.761 | 23.479 | 23.824 | 23.105 | 23.110 | 21.759 | 22.073 | 21.937 | 20.035 | 23.590 |\n",
       "| 1948 | 21.672 | 22.222 | 22.123 | 23.950 | 23.504 | 22.238 | 23.142 | 21.059 | 21.573 | 21.548 | 20.000 | 22.424 |\n",
       "| 1949 | 20.615 | 21.761 | 22.874 | 24.104 | 23.748 | 23.262 | 22.907 | 21.519 | 22.025 | 22.604 | 20.894 | 24.677 |\n",
       "| 1950 | 23.673 | 25.320 | 23.583 | 24.671 | 24.454 | 24.122 | 24.252 | 22.084 | 22.991 | 23.287 | 23.049 | 25.076 |\n",
       "| 1951 | 24.037 | 24.430 | 24.667 | 26.451 | 25.618 | 25.014 | 25.110 | 22.964 | 23.981 | 23.798 | 22.270 | 24.775 |\n",
       "| 1952 | 22.646 | 23.988 | 24.737 | 26.276 | 25.816 | 25.210 | 25.199 | 23.162 | 24.707 | 24.364 | 22.644 | 25.565 |\n",
       "| 1953 | 24.062 | 25.431 | 24.635 | 27.009 | 26.606 | 26.268 | 26.462 | 25.246 | 25.180 | 24.657 | 23.304 | 26.982 |\n",
       "| 1954 | 26.199 | 27.210 | 26.122 | 26.706 | 26.878 | 26.152 | 26.379 | 24.712 | 25.688 | 24.990 | 24.239 | 26.721 |\n",
       "| 1955 | 23.475 | 24.767 | 26.219 | 28.361 | 28.599 | 27.914 | 27.784 | 25.693 | 26.881 | 26.217 | 24.218 | 27.914 |\n",
       "| 1956 | 26.975 | 28.527 | 27.139 | 28.982 | 28.169 | 28.056 | 29.136 | 26.291 | 26.987 | 26.589 | 24.848 | 27.543 |\n",
       "| 1957 | 26.896 | 28.878 | 27.390 | 28.065 | 28.141 | 29.048 | 28.484 | 26.634 | 27.735 | 27.132 | 24.924 | 28.963 |\n",
       "| 1958 | 26.589 | 27.931 | 28.009 | 29.229 | 28.759 | 28.405 | 27.945 | 25.912 | 26.619 | 26.076 | 25.286 | 27.660 |\n",
       "| 1959 | 25.951 | 26.398 | 25.565 | 28.865 | 30.000 | 29.261 | 29.012 | 26.992 | 27.897 | <!----> | <!----> | <!----> |\n",
       "\n"
      ],
      "text/plain": [
       "     Jan    Feb    Mar    Apr    May    Jun    Jul    Aug    Sep    Oct   \n",
       "1946 24.740 25.806 24.364 24.477 23.901 23.175 23.227 21.672 21.870 21.439\n",
       "1947 21.669 21.752 20.761 23.479 23.824 23.105 23.110 21.759 22.073 21.937\n",
       "1948 21.672 22.222 22.123 23.950 23.504 22.238 23.142 21.059 21.573 21.548\n",
       "1949 20.615 21.761 22.874 24.104 23.748 23.262 22.907 21.519 22.025 22.604\n",
       "1950 23.673 25.320 23.583 24.671 24.454 24.122 24.252 22.084 22.991 23.287\n",
       "1951 24.037 24.430 24.667 26.451 25.618 25.014 25.110 22.964 23.981 23.798\n",
       "1952 22.646 23.988 24.737 26.276 25.816 25.210 25.199 23.162 24.707 24.364\n",
       "1953 24.062 25.431 24.635 27.009 26.606 26.268 26.462 25.246 25.180 24.657\n",
       "1954 26.199 27.210 26.122 26.706 26.878 26.152 26.379 24.712 25.688 24.990\n",
       "1955 23.475 24.767 26.219 28.361 28.599 27.914 27.784 25.693 26.881 26.217\n",
       "1956 26.975 28.527 27.139 28.982 28.169 28.056 29.136 26.291 26.987 26.589\n",
       "1957 26.896 28.878 27.390 28.065 28.141 29.048 28.484 26.634 27.735 27.132\n",
       "1958 26.589 27.931 28.009 29.229 28.759 28.405 27.945 25.912 26.619 26.076\n",
       "1959 25.951 26.398 25.565 28.865 30.000 29.261 29.012 26.992 27.897       \n",
       "     Nov    Dec   \n",
       "1946 21.089 23.709\n",
       "1947 20.035 23.590\n",
       "1948 20.000 22.424\n",
       "1949 20.894 24.677\n",
       "1950 23.049 25.076\n",
       "1951 22.270 24.775\n",
       "1952 22.644 25.565\n",
       "1953 23.304 26.982\n",
       "1954 24.239 26.721\n",
       "1955 24.218 27.914\n",
       "1956 24.848 27.543\n",
       "1957 24.924 28.963\n",
       "1958 25.286 27.660\n",
       "1959              "
      ]
     },
     "metadata": {},
     "output_type": "display_data"
    }
   ],
   "source": [
    "comp = decompose(births.timeseries)\n",
    "comp$x"
   ]
  },
  {
   "cell_type": "code",
   "execution_count": 7,
   "metadata": {},
   "outputs": [
    {
     "data": {
      "text/html": [
       "<table>\n",
       "<caption>A Time Series: 14 × 12</caption>\n",
       "<thead>\n",
       "\t<tr><th></th><th scope=col>Jan</th><th scope=col>Feb</th><th scope=col>Mar</th><th scope=col>Apr</th><th scope=col>May</th><th scope=col>Jun</th><th scope=col>Jul</th><th scope=col>Aug</th><th scope=col>Sep</th><th scope=col>Oct</th><th scope=col>Nov</th><th scope=col>Dec</th></tr>\n",
       "</thead>\n",
       "<tbody>\n",
       "\t<tr><th scope=row>1946</th><td>-0.8204260</td><td> 0.2329041</td><td>-0.1720029</td><td> 1.5139845</td><td> 1.2193943</td><td> 0.7476026</td><td> 0.7564971</td><td>-1.1285125</td><td>-0.3955670</td><td>-0.6959420</td><td>-2.1017080</td><td> 0.8437759</td></tr>\n",
       "\t<tr><th scope=row>1947</th><td>-0.8204260</td><td> 0.2329041</td><td>-0.1720029</td><td> 1.5139845</td><td> 1.2193943</td><td> 0.7476026</td><td> 0.7564971</td><td>-1.1285125</td><td>-0.3955670</td><td>-0.6959420</td><td>-2.1017080</td><td> 0.8437759</td></tr>\n",
       "\t<tr><th scope=row>1948</th><td>-0.8204260</td><td> 0.2329041</td><td>-0.1720029</td><td> 1.5139845</td><td> 1.2193943</td><td> 0.7476026</td><td> 0.7564971</td><td>-1.1285125</td><td>-0.3955670</td><td>-0.6959420</td><td>-2.1017080</td><td> 0.8437759</td></tr>\n",
       "\t<tr><th scope=row>1949</th><td>-0.8204260</td><td> 0.2329041</td><td>-0.1720029</td><td> 1.5139845</td><td> 1.2193943</td><td> 0.7476026</td><td> 0.7564971</td><td>-1.1285125</td><td>-0.3955670</td><td>-0.6959420</td><td>-2.1017080</td><td> 0.8437759</td></tr>\n",
       "\t<tr><th scope=row>1950</th><td>-0.8204260</td><td> 0.2329041</td><td>-0.1720029</td><td> 1.5139845</td><td> 1.2193943</td><td> 0.7476026</td><td> 0.7564971</td><td>-1.1285125</td><td>-0.3955670</td><td>-0.6959420</td><td>-2.1017080</td><td> 0.8437759</td></tr>\n",
       "\t<tr><th scope=row>1951</th><td>-0.8204260</td><td> 0.2329041</td><td>-0.1720029</td><td> 1.5139845</td><td> 1.2193943</td><td> 0.7476026</td><td> 0.7564971</td><td>-1.1285125</td><td>-0.3955670</td><td>-0.6959420</td><td>-2.1017080</td><td> 0.8437759</td></tr>\n",
       "\t<tr><th scope=row>1952</th><td>-0.8204260</td><td> 0.2329041</td><td>-0.1720029</td><td> 1.5139845</td><td> 1.2193943</td><td> 0.7476026</td><td> 0.7564971</td><td>-1.1285125</td><td>-0.3955670</td><td>-0.6959420</td><td>-2.1017080</td><td> 0.8437759</td></tr>\n",
       "\t<tr><th scope=row>1953</th><td>-0.8204260</td><td> 0.2329041</td><td>-0.1720029</td><td> 1.5139845</td><td> 1.2193943</td><td> 0.7476026</td><td> 0.7564971</td><td>-1.1285125</td><td>-0.3955670</td><td>-0.6959420</td><td>-2.1017080</td><td> 0.8437759</td></tr>\n",
       "\t<tr><th scope=row>1954</th><td>-0.8204260</td><td> 0.2329041</td><td>-0.1720029</td><td> 1.5139845</td><td> 1.2193943</td><td> 0.7476026</td><td> 0.7564971</td><td>-1.1285125</td><td>-0.3955670</td><td>-0.6959420</td><td>-2.1017080</td><td> 0.8437759</td></tr>\n",
       "\t<tr><th scope=row>1955</th><td>-0.8204260</td><td> 0.2329041</td><td>-0.1720029</td><td> 1.5139845</td><td> 1.2193943</td><td> 0.7476026</td><td> 0.7564971</td><td>-1.1285125</td><td>-0.3955670</td><td>-0.6959420</td><td>-2.1017080</td><td> 0.8437759</td></tr>\n",
       "\t<tr><th scope=row>1956</th><td>-0.8204260</td><td> 0.2329041</td><td>-0.1720029</td><td> 1.5139845</td><td> 1.2193943</td><td> 0.7476026</td><td> 0.7564971</td><td>-1.1285125</td><td>-0.3955670</td><td>-0.6959420</td><td>-2.1017080</td><td> 0.8437759</td></tr>\n",
       "\t<tr><th scope=row>1957</th><td>-0.8204260</td><td> 0.2329041</td><td>-0.1720029</td><td> 1.5139845</td><td> 1.2193943</td><td> 0.7476026</td><td> 0.7564971</td><td>-1.1285125</td><td>-0.3955670</td><td>-0.6959420</td><td>-2.1017080</td><td> 0.8437759</td></tr>\n",
       "\t<tr><th scope=row>1958</th><td>-0.8204260</td><td> 0.2329041</td><td>-0.1720029</td><td> 1.5139845</td><td> 1.2193943</td><td> 0.7476026</td><td> 0.7564971</td><td>-1.1285125</td><td>-0.3955670</td><td>-0.6959420</td><td>-2.1017080</td><td> 0.8437759</td></tr>\n",
       "\t<tr><th scope=row>1959</th><td>-0.8204260</td><td> 0.2329041</td><td>-0.1720029</td><td> 1.5139845</td><td> 1.2193943</td><td> 0.7476026</td><td> 0.7564971</td><td>-1.1285125</td><td>-0.3955670</td><td>          </td><td>          </td><td>          </td></tr>\n",
       "</tbody>\n",
       "</table>\n"
      ],
      "text/latex": [
       "A Time Series: 14 × 12\n",
       "\\begin{tabular}{r|llllllllllll}\n",
       "  & Jan & Feb & Mar & Apr & May & Jun & Jul & Aug & Sep & Oct & Nov & Dec\\\\\n",
       "\\hline\n",
       "\t1946 & -0.8204260 &  0.2329041 & -0.1720029 &  1.5139845 &  1.2193943 &  0.7476026 &  0.7564971 & -1.1285125 & -0.3955670 & -0.6959420 & -2.1017080 &  0.8437759\\\\\n",
       "\t1947 & -0.8204260 &  0.2329041 & -0.1720029 &  1.5139845 &  1.2193943 &  0.7476026 &  0.7564971 & -1.1285125 & -0.3955670 & -0.6959420 & -2.1017080 &  0.8437759\\\\\n",
       "\t1948 & -0.8204260 &  0.2329041 & -0.1720029 &  1.5139845 &  1.2193943 &  0.7476026 &  0.7564971 & -1.1285125 & -0.3955670 & -0.6959420 & -2.1017080 &  0.8437759\\\\\n",
       "\t1949 & -0.8204260 &  0.2329041 & -0.1720029 &  1.5139845 &  1.2193943 &  0.7476026 &  0.7564971 & -1.1285125 & -0.3955670 & -0.6959420 & -2.1017080 &  0.8437759\\\\\n",
       "\t1950 & -0.8204260 &  0.2329041 & -0.1720029 &  1.5139845 &  1.2193943 &  0.7476026 &  0.7564971 & -1.1285125 & -0.3955670 & -0.6959420 & -2.1017080 &  0.8437759\\\\\n",
       "\t1951 & -0.8204260 &  0.2329041 & -0.1720029 &  1.5139845 &  1.2193943 &  0.7476026 &  0.7564971 & -1.1285125 & -0.3955670 & -0.6959420 & -2.1017080 &  0.8437759\\\\\n",
       "\t1952 & -0.8204260 &  0.2329041 & -0.1720029 &  1.5139845 &  1.2193943 &  0.7476026 &  0.7564971 & -1.1285125 & -0.3955670 & -0.6959420 & -2.1017080 &  0.8437759\\\\\n",
       "\t1953 & -0.8204260 &  0.2329041 & -0.1720029 &  1.5139845 &  1.2193943 &  0.7476026 &  0.7564971 & -1.1285125 & -0.3955670 & -0.6959420 & -2.1017080 &  0.8437759\\\\\n",
       "\t1954 & -0.8204260 &  0.2329041 & -0.1720029 &  1.5139845 &  1.2193943 &  0.7476026 &  0.7564971 & -1.1285125 & -0.3955670 & -0.6959420 & -2.1017080 &  0.8437759\\\\\n",
       "\t1955 & -0.8204260 &  0.2329041 & -0.1720029 &  1.5139845 &  1.2193943 &  0.7476026 &  0.7564971 & -1.1285125 & -0.3955670 & -0.6959420 & -2.1017080 &  0.8437759\\\\\n",
       "\t1956 & -0.8204260 &  0.2329041 & -0.1720029 &  1.5139845 &  1.2193943 &  0.7476026 &  0.7564971 & -1.1285125 & -0.3955670 & -0.6959420 & -2.1017080 &  0.8437759\\\\\n",
       "\t1957 & -0.8204260 &  0.2329041 & -0.1720029 &  1.5139845 &  1.2193943 &  0.7476026 &  0.7564971 & -1.1285125 & -0.3955670 & -0.6959420 & -2.1017080 &  0.8437759\\\\\n",
       "\t1958 & -0.8204260 &  0.2329041 & -0.1720029 &  1.5139845 &  1.2193943 &  0.7476026 &  0.7564971 & -1.1285125 & -0.3955670 & -0.6959420 & -2.1017080 &  0.8437759\\\\\n",
       "\t1959 & -0.8204260 &  0.2329041 & -0.1720029 &  1.5139845 &  1.2193943 &  0.7476026 &  0.7564971 & -1.1285125 & -0.3955670 &            &            &           \\\\\n",
       "\\end{tabular}\n"
      ],
      "text/markdown": [
       "\n",
       "A Time Series: 14 × 12\n",
       "\n",
       "| <!--/--> | Jan | Feb | Mar | Apr | May | Jun | Jul | Aug | Sep | Oct | Nov | Dec |\n",
       "|---|---|---|---|---|---|---|---|---|---|---|---|---|\n",
       "| 1946 | -0.8204260 |  0.2329041 | -0.1720029 |  1.5139845 |  1.2193943 |  0.7476026 |  0.7564971 | -1.1285125 | -0.3955670 | -0.6959420 | -2.1017080 |  0.8437759 |\n",
       "| 1947 | -0.8204260 |  0.2329041 | -0.1720029 |  1.5139845 |  1.2193943 |  0.7476026 |  0.7564971 | -1.1285125 | -0.3955670 | -0.6959420 | -2.1017080 |  0.8437759 |\n",
       "| 1948 | -0.8204260 |  0.2329041 | -0.1720029 |  1.5139845 |  1.2193943 |  0.7476026 |  0.7564971 | -1.1285125 | -0.3955670 | -0.6959420 | -2.1017080 |  0.8437759 |\n",
       "| 1949 | -0.8204260 |  0.2329041 | -0.1720029 |  1.5139845 |  1.2193943 |  0.7476026 |  0.7564971 | -1.1285125 | -0.3955670 | -0.6959420 | -2.1017080 |  0.8437759 |\n",
       "| 1950 | -0.8204260 |  0.2329041 | -0.1720029 |  1.5139845 |  1.2193943 |  0.7476026 |  0.7564971 | -1.1285125 | -0.3955670 | -0.6959420 | -2.1017080 |  0.8437759 |\n",
       "| 1951 | -0.8204260 |  0.2329041 | -0.1720029 |  1.5139845 |  1.2193943 |  0.7476026 |  0.7564971 | -1.1285125 | -0.3955670 | -0.6959420 | -2.1017080 |  0.8437759 |\n",
       "| 1952 | -0.8204260 |  0.2329041 | -0.1720029 |  1.5139845 |  1.2193943 |  0.7476026 |  0.7564971 | -1.1285125 | -0.3955670 | -0.6959420 | -2.1017080 |  0.8437759 |\n",
       "| 1953 | -0.8204260 |  0.2329041 | -0.1720029 |  1.5139845 |  1.2193943 |  0.7476026 |  0.7564971 | -1.1285125 | -0.3955670 | -0.6959420 | -2.1017080 |  0.8437759 |\n",
       "| 1954 | -0.8204260 |  0.2329041 | -0.1720029 |  1.5139845 |  1.2193943 |  0.7476026 |  0.7564971 | -1.1285125 | -0.3955670 | -0.6959420 | -2.1017080 |  0.8437759 |\n",
       "| 1955 | -0.8204260 |  0.2329041 | -0.1720029 |  1.5139845 |  1.2193943 |  0.7476026 |  0.7564971 | -1.1285125 | -0.3955670 | -0.6959420 | -2.1017080 |  0.8437759 |\n",
       "| 1956 | -0.8204260 |  0.2329041 | -0.1720029 |  1.5139845 |  1.2193943 |  0.7476026 |  0.7564971 | -1.1285125 | -0.3955670 | -0.6959420 | -2.1017080 |  0.8437759 |\n",
       "| 1957 | -0.8204260 |  0.2329041 | -0.1720029 |  1.5139845 |  1.2193943 |  0.7476026 |  0.7564971 | -1.1285125 | -0.3955670 | -0.6959420 | -2.1017080 |  0.8437759 |\n",
       "| 1958 | -0.8204260 |  0.2329041 | -0.1720029 |  1.5139845 |  1.2193943 |  0.7476026 |  0.7564971 | -1.1285125 | -0.3955670 | -0.6959420 | -2.1017080 |  0.8437759 |\n",
       "| 1959 | -0.8204260 |  0.2329041 | -0.1720029 |  1.5139845 |  1.2193943 |  0.7476026 |  0.7564971 | -1.1285125 | -0.3955670 | <!----> | <!----> | <!----> |\n",
       "\n"
      ],
      "text/plain": [
       "     Jan        Feb        Mar        Apr        May        Jun       \n",
       "1946 -0.8204260  0.2329041 -0.1720029  1.5139845  1.2193943  0.7476026\n",
       "1947 -0.8204260  0.2329041 -0.1720029  1.5139845  1.2193943  0.7476026\n",
       "1948 -0.8204260  0.2329041 -0.1720029  1.5139845  1.2193943  0.7476026\n",
       "1949 -0.8204260  0.2329041 -0.1720029  1.5139845  1.2193943  0.7476026\n",
       "1950 -0.8204260  0.2329041 -0.1720029  1.5139845  1.2193943  0.7476026\n",
       "1951 -0.8204260  0.2329041 -0.1720029  1.5139845  1.2193943  0.7476026\n",
       "1952 -0.8204260  0.2329041 -0.1720029  1.5139845  1.2193943  0.7476026\n",
       "1953 -0.8204260  0.2329041 -0.1720029  1.5139845  1.2193943  0.7476026\n",
       "1954 -0.8204260  0.2329041 -0.1720029  1.5139845  1.2193943  0.7476026\n",
       "1955 -0.8204260  0.2329041 -0.1720029  1.5139845  1.2193943  0.7476026\n",
       "1956 -0.8204260  0.2329041 -0.1720029  1.5139845  1.2193943  0.7476026\n",
       "1957 -0.8204260  0.2329041 -0.1720029  1.5139845  1.2193943  0.7476026\n",
       "1958 -0.8204260  0.2329041 -0.1720029  1.5139845  1.2193943  0.7476026\n",
       "1959 -0.8204260  0.2329041 -0.1720029  1.5139845  1.2193943  0.7476026\n",
       "     Jul        Aug        Sep        Oct        Nov        Dec       \n",
       "1946  0.7564971 -1.1285125 -0.3955670 -0.6959420 -2.1017080  0.8437759\n",
       "1947  0.7564971 -1.1285125 -0.3955670 -0.6959420 -2.1017080  0.8437759\n",
       "1948  0.7564971 -1.1285125 -0.3955670 -0.6959420 -2.1017080  0.8437759\n",
       "1949  0.7564971 -1.1285125 -0.3955670 -0.6959420 -2.1017080  0.8437759\n",
       "1950  0.7564971 -1.1285125 -0.3955670 -0.6959420 -2.1017080  0.8437759\n",
       "1951  0.7564971 -1.1285125 -0.3955670 -0.6959420 -2.1017080  0.8437759\n",
       "1952  0.7564971 -1.1285125 -0.3955670 -0.6959420 -2.1017080  0.8437759\n",
       "1953  0.7564971 -1.1285125 -0.3955670 -0.6959420 -2.1017080  0.8437759\n",
       "1954  0.7564971 -1.1285125 -0.3955670 -0.6959420 -2.1017080  0.8437759\n",
       "1955  0.7564971 -1.1285125 -0.3955670 -0.6959420 -2.1017080  0.8437759\n",
       "1956  0.7564971 -1.1285125 -0.3955670 -0.6959420 -2.1017080  0.8437759\n",
       "1957  0.7564971 -1.1285125 -0.3955670 -0.6959420 -2.1017080  0.8437759\n",
       "1958  0.7564971 -1.1285125 -0.3955670 -0.6959420 -2.1017080  0.8437759\n",
       "1959  0.7564971 -1.1285125 -0.3955670                                 "
      ]
     },
     "metadata": {},
     "output_type": "display_data"
    }
   ],
   "source": [
    "comp$seasonal"
   ]
  },
  {
   "cell_type": "code",
   "execution_count": 8,
   "metadata": {},
   "outputs": [
    {
     "data": {
      "text/html": [
       "<table>\n",
       "<caption>A Time Series: 14 × 12</caption>\n",
       "<thead>\n",
       "\t<tr><th></th><th scope=col>Jan</th><th scope=col>Feb</th><th scope=col>Mar</th><th scope=col>Apr</th><th scope=col>May</th><th scope=col>Jun</th><th scope=col>Jul</th><th scope=col>Aug</th><th scope=col>Sep</th><th scope=col>Oct</th><th scope=col>Nov</th><th scope=col>Dec</th></tr>\n",
       "</thead>\n",
       "<tbody>\n",
       "\t<tr><th scope=row>1946</th><td>      NA</td><td>      NA</td><td>      NA</td><td>      NA</td><td>      NA</td><td>      NA</td><td>23.16112</td><td>22.86425</td><td>22.54521</td><td>22.35350</td><td>22.30871</td><td>22.30258</td></tr>\n",
       "\t<tr><th scope=row>1947</th><td>22.29479</td><td>22.29354</td><td>22.30562</td><td>22.33483</td><td>22.31167</td><td>22.26279</td><td>22.25796</td><td>22.27767</td><td>22.35400</td><td>22.43038</td><td>22.43667</td><td>22.38721</td></tr>\n",
       "\t<tr><th scope=row>1948</th><td>22.35242</td><td>22.32458</td><td>22.27458</td><td>22.23754</td><td>22.21988</td><td>22.16983</td><td>22.07721</td><td>22.01396</td><td>22.02604</td><td>22.06375</td><td>22.08033</td><td>22.13317</td></tr>\n",
       "\t<tr><th scope=row>1949</th><td>22.16604</td><td>22.17542</td><td>22.21342</td><td>22.27625</td><td>22.35750</td><td>22.48862</td><td>22.70992</td><td>22.98563</td><td>23.16346</td><td>23.21663</td><td>23.26967</td><td>23.33492</td></tr>\n",
       "\t<tr><th scope=row>1950</th><td>23.42679</td><td>23.50638</td><td>23.57017</td><td>23.63888</td><td>23.75713</td><td>23.86354</td><td>23.89533</td><td>23.87342</td><td>23.88150</td><td>24.00083</td><td>24.12350</td><td>24.20917</td></tr>\n",
       "\t<tr><th scope=row>1951</th><td>24.28208</td><td>24.35450</td><td>24.43242</td><td>24.49496</td><td>24.48379</td><td>24.43879</td><td>24.36829</td><td>24.29192</td><td>24.27642</td><td>24.27204</td><td>24.27300</td><td>24.28942</td></tr>\n",
       "\t<tr><th scope=row>1952</th><td>24.30129</td><td>24.31325</td><td>24.35175</td><td>24.40558</td><td>24.44475</td><td>24.49325</td><td>24.58517</td><td>24.70429</td><td>24.76017</td><td>24.78646</td><td>24.84992</td><td>24.92692</td></tr>\n",
       "\t<tr><th scope=row>1953</th><td>25.02362</td><td>25.16308</td><td>25.26963</td><td>25.30154</td><td>25.34125</td><td>25.42779</td><td>25.57588</td><td>25.73904</td><td>25.87513</td><td>25.92446</td><td>25.92317</td><td>25.92967</td></tr>\n",
       "\t<tr><th scope=row>1954</th><td>25.92137</td><td>25.89567</td><td>25.89458</td><td>25.92963</td><td>25.98246</td><td>26.01054</td><td>25.88617</td><td>25.67087</td><td>25.57312</td><td>25.64612</td><td>25.78679</td><td>25.93192</td></tr>\n",
       "\t<tr><th scope=row>1955</th><td>26.06388</td><td>26.16329</td><td>26.25388</td><td>26.35471</td><td>26.40496</td><td>26.45379</td><td>26.64933</td><td>26.95183</td><td>27.14683</td><td>27.21104</td><td>27.21900</td><td>27.20700</td></tr>\n",
       "\t<tr><th scope=row>1956</th><td>27.26925</td><td>27.35050</td><td>27.37983</td><td>27.39975</td><td>27.44150</td><td>27.45229</td><td>27.43354</td><td>27.44488</td><td>27.46996</td><td>27.44221</td><td>27.40283</td><td>27.44300</td></tr>\n",
       "\t<tr><th scope=row>1957</th><td>27.45717</td><td>27.44429</td><td>27.48975</td><td>27.54354</td><td>27.56933</td><td>27.63167</td><td>27.67804</td><td>27.62579</td><td>27.61212</td><td>27.68642</td><td>27.76067</td><td>27.75963</td></tr>\n",
       "\t<tr><th scope=row>1958</th><td>27.71037</td><td>27.65783</td><td>27.58125</td><td>27.49075</td><td>27.46183</td><td>27.42262</td><td>27.34175</td><td>27.25129</td><td>27.08558</td><td>26.96858</td><td>27.00512</td><td>27.09250</td></tr>\n",
       "\t<tr><th scope=row>1959</th><td>27.17263</td><td>27.26208</td><td>27.36033</td><td>      NA</td><td>      NA</td><td>      NA</td><td>      NA</td><td>      NA</td><td>      NA</td><td>        </td><td>        </td><td>        </td></tr>\n",
       "</tbody>\n",
       "</table>\n"
      ],
      "text/latex": [
       "A Time Series: 14 × 12\n",
       "\\begin{tabular}{r|llllllllllll}\n",
       "  & Jan & Feb & Mar & Apr & May & Jun & Jul & Aug & Sep & Oct & Nov & Dec\\\\\n",
       "\\hline\n",
       "\t1946 &       NA &       NA &       NA &       NA &       NA &       NA & 23.16112 & 22.86425 & 22.54521 & 22.35350 & 22.30871 & 22.30258\\\\\n",
       "\t1947 & 22.29479 & 22.29354 & 22.30562 & 22.33483 & 22.31167 & 22.26279 & 22.25796 & 22.27767 & 22.35400 & 22.43038 & 22.43667 & 22.38721\\\\\n",
       "\t1948 & 22.35242 & 22.32458 & 22.27458 & 22.23754 & 22.21988 & 22.16983 & 22.07721 & 22.01396 & 22.02604 & 22.06375 & 22.08033 & 22.13317\\\\\n",
       "\t1949 & 22.16604 & 22.17542 & 22.21342 & 22.27625 & 22.35750 & 22.48862 & 22.70992 & 22.98563 & 23.16346 & 23.21663 & 23.26967 & 23.33492\\\\\n",
       "\t1950 & 23.42679 & 23.50638 & 23.57017 & 23.63888 & 23.75713 & 23.86354 & 23.89533 & 23.87342 & 23.88150 & 24.00083 & 24.12350 & 24.20917\\\\\n",
       "\t1951 & 24.28208 & 24.35450 & 24.43242 & 24.49496 & 24.48379 & 24.43879 & 24.36829 & 24.29192 & 24.27642 & 24.27204 & 24.27300 & 24.28942\\\\\n",
       "\t1952 & 24.30129 & 24.31325 & 24.35175 & 24.40558 & 24.44475 & 24.49325 & 24.58517 & 24.70429 & 24.76017 & 24.78646 & 24.84992 & 24.92692\\\\\n",
       "\t1953 & 25.02362 & 25.16308 & 25.26963 & 25.30154 & 25.34125 & 25.42779 & 25.57588 & 25.73904 & 25.87513 & 25.92446 & 25.92317 & 25.92967\\\\\n",
       "\t1954 & 25.92137 & 25.89567 & 25.89458 & 25.92963 & 25.98246 & 26.01054 & 25.88617 & 25.67087 & 25.57312 & 25.64612 & 25.78679 & 25.93192\\\\\n",
       "\t1955 & 26.06388 & 26.16329 & 26.25388 & 26.35471 & 26.40496 & 26.45379 & 26.64933 & 26.95183 & 27.14683 & 27.21104 & 27.21900 & 27.20700\\\\\n",
       "\t1956 & 27.26925 & 27.35050 & 27.37983 & 27.39975 & 27.44150 & 27.45229 & 27.43354 & 27.44488 & 27.46996 & 27.44221 & 27.40283 & 27.44300\\\\\n",
       "\t1957 & 27.45717 & 27.44429 & 27.48975 & 27.54354 & 27.56933 & 27.63167 & 27.67804 & 27.62579 & 27.61212 & 27.68642 & 27.76067 & 27.75963\\\\\n",
       "\t1958 & 27.71037 & 27.65783 & 27.58125 & 27.49075 & 27.46183 & 27.42262 & 27.34175 & 27.25129 & 27.08558 & 26.96858 & 27.00512 & 27.09250\\\\\n",
       "\t1959 & 27.17263 & 27.26208 & 27.36033 &       NA &       NA &       NA &       NA &       NA &       NA &          &          &         \\\\\n",
       "\\end{tabular}\n"
      ],
      "text/markdown": [
       "\n",
       "A Time Series: 14 × 12\n",
       "\n",
       "| <!--/--> | Jan | Feb | Mar | Apr | May | Jun | Jul | Aug | Sep | Oct | Nov | Dec |\n",
       "|---|---|---|---|---|---|---|---|---|---|---|---|---|\n",
       "| 1946 |       NA |       NA |       NA |       NA |       NA |       NA | 23.16112 | 22.86425 | 22.54521 | 22.35350 | 22.30871 | 22.30258 |\n",
       "| 1947 | 22.29479 | 22.29354 | 22.30562 | 22.33483 | 22.31167 | 22.26279 | 22.25796 | 22.27767 | 22.35400 | 22.43038 | 22.43667 | 22.38721 |\n",
       "| 1948 | 22.35242 | 22.32458 | 22.27458 | 22.23754 | 22.21988 | 22.16983 | 22.07721 | 22.01396 | 22.02604 | 22.06375 | 22.08033 | 22.13317 |\n",
       "| 1949 | 22.16604 | 22.17542 | 22.21342 | 22.27625 | 22.35750 | 22.48862 | 22.70992 | 22.98563 | 23.16346 | 23.21663 | 23.26967 | 23.33492 |\n",
       "| 1950 | 23.42679 | 23.50638 | 23.57017 | 23.63888 | 23.75713 | 23.86354 | 23.89533 | 23.87342 | 23.88150 | 24.00083 | 24.12350 | 24.20917 |\n",
       "| 1951 | 24.28208 | 24.35450 | 24.43242 | 24.49496 | 24.48379 | 24.43879 | 24.36829 | 24.29192 | 24.27642 | 24.27204 | 24.27300 | 24.28942 |\n",
       "| 1952 | 24.30129 | 24.31325 | 24.35175 | 24.40558 | 24.44475 | 24.49325 | 24.58517 | 24.70429 | 24.76017 | 24.78646 | 24.84992 | 24.92692 |\n",
       "| 1953 | 25.02362 | 25.16308 | 25.26963 | 25.30154 | 25.34125 | 25.42779 | 25.57588 | 25.73904 | 25.87513 | 25.92446 | 25.92317 | 25.92967 |\n",
       "| 1954 | 25.92137 | 25.89567 | 25.89458 | 25.92963 | 25.98246 | 26.01054 | 25.88617 | 25.67087 | 25.57312 | 25.64612 | 25.78679 | 25.93192 |\n",
       "| 1955 | 26.06388 | 26.16329 | 26.25388 | 26.35471 | 26.40496 | 26.45379 | 26.64933 | 26.95183 | 27.14683 | 27.21104 | 27.21900 | 27.20700 |\n",
       "| 1956 | 27.26925 | 27.35050 | 27.37983 | 27.39975 | 27.44150 | 27.45229 | 27.43354 | 27.44488 | 27.46996 | 27.44221 | 27.40283 | 27.44300 |\n",
       "| 1957 | 27.45717 | 27.44429 | 27.48975 | 27.54354 | 27.56933 | 27.63167 | 27.67804 | 27.62579 | 27.61212 | 27.68642 | 27.76067 | 27.75963 |\n",
       "| 1958 | 27.71037 | 27.65783 | 27.58125 | 27.49075 | 27.46183 | 27.42262 | 27.34175 | 27.25129 | 27.08558 | 26.96858 | 27.00512 | 27.09250 |\n",
       "| 1959 | 27.17263 | 27.26208 | 27.36033 |       NA |       NA |       NA |       NA |       NA |       NA | <!----> | <!----> | <!----> |\n",
       "\n"
      ],
      "text/plain": [
       "     Jan      Feb      Mar      Apr      May      Jun      Jul      Aug     \n",
       "1946       NA       NA       NA       NA       NA       NA 23.16112 22.86425\n",
       "1947 22.29479 22.29354 22.30562 22.33483 22.31167 22.26279 22.25796 22.27767\n",
       "1948 22.35242 22.32458 22.27458 22.23754 22.21988 22.16983 22.07721 22.01396\n",
       "1949 22.16604 22.17542 22.21342 22.27625 22.35750 22.48862 22.70992 22.98563\n",
       "1950 23.42679 23.50638 23.57017 23.63888 23.75713 23.86354 23.89533 23.87342\n",
       "1951 24.28208 24.35450 24.43242 24.49496 24.48379 24.43879 24.36829 24.29192\n",
       "1952 24.30129 24.31325 24.35175 24.40558 24.44475 24.49325 24.58517 24.70429\n",
       "1953 25.02362 25.16308 25.26963 25.30154 25.34125 25.42779 25.57588 25.73904\n",
       "1954 25.92137 25.89567 25.89458 25.92963 25.98246 26.01054 25.88617 25.67087\n",
       "1955 26.06388 26.16329 26.25388 26.35471 26.40496 26.45379 26.64933 26.95183\n",
       "1956 27.26925 27.35050 27.37983 27.39975 27.44150 27.45229 27.43354 27.44488\n",
       "1957 27.45717 27.44429 27.48975 27.54354 27.56933 27.63167 27.67804 27.62579\n",
       "1958 27.71037 27.65783 27.58125 27.49075 27.46183 27.42262 27.34175 27.25129\n",
       "1959 27.17263 27.26208 27.36033       NA       NA       NA       NA       NA\n",
       "     Sep      Oct      Nov      Dec     \n",
       "1946 22.54521 22.35350 22.30871 22.30258\n",
       "1947 22.35400 22.43038 22.43667 22.38721\n",
       "1948 22.02604 22.06375 22.08033 22.13317\n",
       "1949 23.16346 23.21663 23.26967 23.33492\n",
       "1950 23.88150 24.00083 24.12350 24.20917\n",
       "1951 24.27642 24.27204 24.27300 24.28942\n",
       "1952 24.76017 24.78646 24.84992 24.92692\n",
       "1953 25.87513 25.92446 25.92317 25.92967\n",
       "1954 25.57312 25.64612 25.78679 25.93192\n",
       "1955 27.14683 27.21104 27.21900 27.20700\n",
       "1956 27.46996 27.44221 27.40283 27.44300\n",
       "1957 27.61212 27.68642 27.76067 27.75963\n",
       "1958 27.08558 26.96858 27.00512 27.09250\n",
       "1959       NA                           "
      ]
     },
     "metadata": {},
     "output_type": "display_data"
    }
   ],
   "source": [
    "comp$trend"
   ]
  },
  {
   "cell_type": "markdown",
   "metadata": {},
   "source": [
    "* According to seasonal part, April was the most newborn month, and the least was July"
   ]
  },
  {
   "cell_type": "code",
   "execution_count": 9,
   "metadata": {},
   "outputs": [
    {
     "data": {
      "text/html": [
       "<table>\n",
       "<caption>A Time Series: 14 × 12</caption>\n",
       "<thead>\n",
       "\t<tr><th></th><th scope=col>Jan</th><th scope=col>Feb</th><th scope=col>Mar</th><th scope=col>Apr</th><th scope=col>May</th><th scope=col>Jun</th><th scope=col>Jul</th><th scope=col>Aug</th><th scope=col>Sep</th><th scope=col>Oct</th><th scope=col>Nov</th><th scope=col>Dec</th></tr>\n",
       "</thead>\n",
       "<tbody>\n",
       "\t<tr><th scope=row>1946</th><td>         NA</td><td>         NA</td><td>         NA</td><td>         NA</td><td>         NA</td><td>         NA</td><td>-0.69062208</td><td>-0.06373747</td><td>-0.27964131</td><td>-0.21855798</td><td> 0.88199971</td><td> 0.56264074</td></tr>\n",
       "\t<tr><th scope=row>1947</th><td> 0.19463433</td><td>-0.77444580</td><td>-1.37262208</td><td>-0.36981786</td><td> 0.29293908</td><td> 0.09460575</td><td> 0.09554458</td><td> 0.60984586</td><td> 0.11456702</td><td> 0.20256702</td><td>-0.29995862</td><td> 0.35901574</td></tr>\n",
       "\t<tr><th scope=row>1948</th><td> 0.14000933</td><td>-0.33548747</td><td> 0.02041958</td><td> 0.19847380</td><td> 0.06473075</td><td>-0.67943592</td><td> 0.30829458</td><td> 0.17355420</td><td>-0.05747465</td><td> 0.18019202</td><td> 0.02137471</td><td>-0.55294260</td></tr>\n",
       "\t<tr><th scope=row>1949</th><td>-0.73061567</td><td>-0.64732080</td><td> 0.83258625</td><td> 0.31376547</td><td> 0.17110575</td><td> 0.02577241</td><td>-0.55941375</td><td>-0.33811247</td><td>-0.74289131</td><td> 0.08331702</td><td>-0.27395862</td><td> 0.49830740</td></tr>\n",
       "\t<tr><th scope=row>1950</th><td> 1.06663433</td><td> 1.58072086</td><td> 0.18483625</td><td>-0.48185953</td><td>-0.52251925</td><td>-0.48914425</td><td>-0.39983042</td><td>-0.66090414</td><td>-0.49493298</td><td>-0.01789131</td><td> 1.02720804</td><td> 0.02305740</td></tr>\n",
       "\t<tr><th scope=row>1951</th><td> 0.57534266</td><td>-0.15740414</td><td> 0.40658625</td><td> 0.44205714</td><td>-0.08518592</td><td>-0.17239425</td><td>-0.01478875</td><td>-0.19940414</td><td> 0.10015035</td><td> 0.22190035</td><td> 0.09870804</td><td>-0.35819260</td></tr>\n",
       "\t<tr><th scope=row>1952</th><td>-0.83486567</td><td>-0.55815414</td><td> 0.55725292</td><td> 0.35643214</td><td> 0.15185575</td><td>-0.03085259</td><td>-0.14266375</td><td>-0.41377914</td><td> 0.34240035</td><td> 0.27348369</td><td>-0.10420862</td><td>-0.20569260</td></tr>\n",
       "\t<tr><th scope=row>1953</th><td>-0.14119901</td><td> 0.03501253</td><td>-0.46262208</td><td> 0.19347380</td><td> 0.04535575</td><td> 0.09260575</td><td> 0.12962792</td><td> 0.63547086</td><td>-0.29955798</td><td>-0.57151631</td><td>-0.51745862</td><td> 0.20855740</td></tr>\n",
       "\t<tr><th scope=row>1954</th><td> 1.09805099</td><td> 1.08142920</td><td> 0.39941958</td><td>-0.73760953</td><td>-0.32385259</td><td>-0.60614425</td><td>-0.26366375</td><td> 0.16963753</td><td> 0.51044202</td><td> 0.03981702</td><td> 0.55391638</td><td>-0.05469260</td></tr>\n",
       "\t<tr><th scope=row>1955</th><td>-1.76844901</td><td>-1.62919580</td><td> 0.13712792</td><td> 0.49230714</td><td> 0.97464741</td><td> 0.71260575</td><td> 0.37816958</td><td>-0.13032080</td><td> 0.12973369</td><td>-0.29809965</td><td>-0.89929196</td><td>-0.13677593</td></tr>\n",
       "\t<tr><th scope=row>1956</th><td> 0.52617599</td><td> 0.94359586</td><td>-0.06883042</td><td> 0.06826547</td><td>-0.49189425</td><td>-0.14389425</td><td> 0.94596125</td><td>-0.02536247</td><td>-0.08739131</td><td>-0.15726631</td><td>-0.45312529</td><td>-0.74377593</td></tr>\n",
       "\t<tr><th scope=row>1957</th><td> 0.25925933</td><td> 1.20080420</td><td> 0.07225292</td><td>-0.99252620</td><td>-0.64772759</td><td> 0.66873075</td><td> 0.04946125</td><td> 0.13672086</td><td> 0.51844202</td><td> 0.14152535</td><td>-0.73495862</td><td> 0.35959907</td></tr>\n",
       "\t<tr><th scope=row>1958</th><td>-0.30094901</td><td> 0.04026253</td><td> 0.59975292</td><td> 0.22426547</td><td> 0.07777241</td><td> 0.23477241</td><td>-0.15324708</td><td>-0.21077914</td><td>-0.07101631</td><td>-0.19664131</td><td> 0.38258304</td><td>-0.27627593</td></tr>\n",
       "\t<tr><th scope=row>1959</th><td>-0.40119901</td><td>-1.09698747</td><td>-1.62333042</td><td>         NA</td><td>         NA</td><td>         NA</td><td>         NA</td><td>         NA</td><td>         NA</td><td>           </td><td>           </td><td>           </td></tr>\n",
       "</tbody>\n",
       "</table>\n"
      ],
      "text/latex": [
       "A Time Series: 14 × 12\n",
       "\\begin{tabular}{r|llllllllllll}\n",
       "  & Jan & Feb & Mar & Apr & May & Jun & Jul & Aug & Sep & Oct & Nov & Dec\\\\\n",
       "\\hline\n",
       "\t1946 &          NA &          NA &          NA &          NA &          NA &          NA & -0.69062208 & -0.06373747 & -0.27964131 & -0.21855798 &  0.88199971 &  0.56264074\\\\\n",
       "\t1947 &  0.19463433 & -0.77444580 & -1.37262208 & -0.36981786 &  0.29293908 &  0.09460575 &  0.09554458 &  0.60984586 &  0.11456702 &  0.20256702 & -0.29995862 &  0.35901574\\\\\n",
       "\t1948 &  0.14000933 & -0.33548747 &  0.02041958 &  0.19847380 &  0.06473075 & -0.67943592 &  0.30829458 &  0.17355420 & -0.05747465 &  0.18019202 &  0.02137471 & -0.55294260\\\\\n",
       "\t1949 & -0.73061567 & -0.64732080 &  0.83258625 &  0.31376547 &  0.17110575 &  0.02577241 & -0.55941375 & -0.33811247 & -0.74289131 &  0.08331702 & -0.27395862 &  0.49830740\\\\\n",
       "\t1950 &  1.06663433 &  1.58072086 &  0.18483625 & -0.48185953 & -0.52251925 & -0.48914425 & -0.39983042 & -0.66090414 & -0.49493298 & -0.01789131 &  1.02720804 &  0.02305740\\\\\n",
       "\t1951 &  0.57534266 & -0.15740414 &  0.40658625 &  0.44205714 & -0.08518592 & -0.17239425 & -0.01478875 & -0.19940414 &  0.10015035 &  0.22190035 &  0.09870804 & -0.35819260\\\\\n",
       "\t1952 & -0.83486567 & -0.55815414 &  0.55725292 &  0.35643214 &  0.15185575 & -0.03085259 & -0.14266375 & -0.41377914 &  0.34240035 &  0.27348369 & -0.10420862 & -0.20569260\\\\\n",
       "\t1953 & -0.14119901 &  0.03501253 & -0.46262208 &  0.19347380 &  0.04535575 &  0.09260575 &  0.12962792 &  0.63547086 & -0.29955798 & -0.57151631 & -0.51745862 &  0.20855740\\\\\n",
       "\t1954 &  1.09805099 &  1.08142920 &  0.39941958 & -0.73760953 & -0.32385259 & -0.60614425 & -0.26366375 &  0.16963753 &  0.51044202 &  0.03981702 &  0.55391638 & -0.05469260\\\\\n",
       "\t1955 & -1.76844901 & -1.62919580 &  0.13712792 &  0.49230714 &  0.97464741 &  0.71260575 &  0.37816958 & -0.13032080 &  0.12973369 & -0.29809965 & -0.89929196 & -0.13677593\\\\\n",
       "\t1956 &  0.52617599 &  0.94359586 & -0.06883042 &  0.06826547 & -0.49189425 & -0.14389425 &  0.94596125 & -0.02536247 & -0.08739131 & -0.15726631 & -0.45312529 & -0.74377593\\\\\n",
       "\t1957 &  0.25925933 &  1.20080420 &  0.07225292 & -0.99252620 & -0.64772759 &  0.66873075 &  0.04946125 &  0.13672086 &  0.51844202 &  0.14152535 & -0.73495862 &  0.35959907\\\\\n",
       "\t1958 & -0.30094901 &  0.04026253 &  0.59975292 &  0.22426547 &  0.07777241 &  0.23477241 & -0.15324708 & -0.21077914 & -0.07101631 & -0.19664131 &  0.38258304 & -0.27627593\\\\\n",
       "\t1959 & -0.40119901 & -1.09698747 & -1.62333042 &          NA &          NA &          NA &          NA &          NA &          NA &             &             &            \\\\\n",
       "\\end{tabular}\n"
      ],
      "text/markdown": [
       "\n",
       "A Time Series: 14 × 12\n",
       "\n",
       "| <!--/--> | Jan | Feb | Mar | Apr | May | Jun | Jul | Aug | Sep | Oct | Nov | Dec |\n",
       "|---|---|---|---|---|---|---|---|---|---|---|---|---|\n",
       "| 1946 |          NA |          NA |          NA |          NA |          NA |          NA | -0.69062208 | -0.06373747 | -0.27964131 | -0.21855798 |  0.88199971 |  0.56264074 |\n",
       "| 1947 |  0.19463433 | -0.77444580 | -1.37262208 | -0.36981786 |  0.29293908 |  0.09460575 |  0.09554458 |  0.60984586 |  0.11456702 |  0.20256702 | -0.29995862 |  0.35901574 |\n",
       "| 1948 |  0.14000933 | -0.33548747 |  0.02041958 |  0.19847380 |  0.06473075 | -0.67943592 |  0.30829458 |  0.17355420 | -0.05747465 |  0.18019202 |  0.02137471 | -0.55294260 |\n",
       "| 1949 | -0.73061567 | -0.64732080 |  0.83258625 |  0.31376547 |  0.17110575 |  0.02577241 | -0.55941375 | -0.33811247 | -0.74289131 |  0.08331702 | -0.27395862 |  0.49830740 |\n",
       "| 1950 |  1.06663433 |  1.58072086 |  0.18483625 | -0.48185953 | -0.52251925 | -0.48914425 | -0.39983042 | -0.66090414 | -0.49493298 | -0.01789131 |  1.02720804 |  0.02305740 |\n",
       "| 1951 |  0.57534266 | -0.15740414 |  0.40658625 |  0.44205714 | -0.08518592 | -0.17239425 | -0.01478875 | -0.19940414 |  0.10015035 |  0.22190035 |  0.09870804 | -0.35819260 |\n",
       "| 1952 | -0.83486567 | -0.55815414 |  0.55725292 |  0.35643214 |  0.15185575 | -0.03085259 | -0.14266375 | -0.41377914 |  0.34240035 |  0.27348369 | -0.10420862 | -0.20569260 |\n",
       "| 1953 | -0.14119901 |  0.03501253 | -0.46262208 |  0.19347380 |  0.04535575 |  0.09260575 |  0.12962792 |  0.63547086 | -0.29955798 | -0.57151631 | -0.51745862 |  0.20855740 |\n",
       "| 1954 |  1.09805099 |  1.08142920 |  0.39941958 | -0.73760953 | -0.32385259 | -0.60614425 | -0.26366375 |  0.16963753 |  0.51044202 |  0.03981702 |  0.55391638 | -0.05469260 |\n",
       "| 1955 | -1.76844901 | -1.62919580 |  0.13712792 |  0.49230714 |  0.97464741 |  0.71260575 |  0.37816958 | -0.13032080 |  0.12973369 | -0.29809965 | -0.89929196 | -0.13677593 |\n",
       "| 1956 |  0.52617599 |  0.94359586 | -0.06883042 |  0.06826547 | -0.49189425 | -0.14389425 |  0.94596125 | -0.02536247 | -0.08739131 | -0.15726631 | -0.45312529 | -0.74377593 |\n",
       "| 1957 |  0.25925933 |  1.20080420 |  0.07225292 | -0.99252620 | -0.64772759 |  0.66873075 |  0.04946125 |  0.13672086 |  0.51844202 |  0.14152535 | -0.73495862 |  0.35959907 |\n",
       "| 1958 | -0.30094901 |  0.04026253 |  0.59975292 |  0.22426547 |  0.07777241 |  0.23477241 | -0.15324708 | -0.21077914 | -0.07101631 | -0.19664131 |  0.38258304 | -0.27627593 |\n",
       "| 1959 | -0.40119901 | -1.09698747 | -1.62333042 |          NA |          NA |          NA |          NA |          NA |          NA | <!----> | <!----> | <!----> |\n",
       "\n"
      ],
      "text/plain": [
       "     Jan         Feb         Mar         Apr         May         Jun        \n",
       "1946          NA          NA          NA          NA          NA          NA\n",
       "1947  0.19463433 -0.77444580 -1.37262208 -0.36981786  0.29293908  0.09460575\n",
       "1948  0.14000933 -0.33548747  0.02041958  0.19847380  0.06473075 -0.67943592\n",
       "1949 -0.73061567 -0.64732080  0.83258625  0.31376547  0.17110575  0.02577241\n",
       "1950  1.06663433  1.58072086  0.18483625 -0.48185953 -0.52251925 -0.48914425\n",
       "1951  0.57534266 -0.15740414  0.40658625  0.44205714 -0.08518592 -0.17239425\n",
       "1952 -0.83486567 -0.55815414  0.55725292  0.35643214  0.15185575 -0.03085259\n",
       "1953 -0.14119901  0.03501253 -0.46262208  0.19347380  0.04535575  0.09260575\n",
       "1954  1.09805099  1.08142920  0.39941958 -0.73760953 -0.32385259 -0.60614425\n",
       "1955 -1.76844901 -1.62919580  0.13712792  0.49230714  0.97464741  0.71260575\n",
       "1956  0.52617599  0.94359586 -0.06883042  0.06826547 -0.49189425 -0.14389425\n",
       "1957  0.25925933  1.20080420  0.07225292 -0.99252620 -0.64772759  0.66873075\n",
       "1958 -0.30094901  0.04026253  0.59975292  0.22426547  0.07777241  0.23477241\n",
       "1959 -0.40119901 -1.09698747 -1.62333042          NA          NA          NA\n",
       "     Jul         Aug         Sep         Oct         Nov         Dec        \n",
       "1946 -0.69062208 -0.06373747 -0.27964131 -0.21855798  0.88199971  0.56264074\n",
       "1947  0.09554458  0.60984586  0.11456702  0.20256702 -0.29995862  0.35901574\n",
       "1948  0.30829458  0.17355420 -0.05747465  0.18019202  0.02137471 -0.55294260\n",
       "1949 -0.55941375 -0.33811247 -0.74289131  0.08331702 -0.27395862  0.49830740\n",
       "1950 -0.39983042 -0.66090414 -0.49493298 -0.01789131  1.02720804  0.02305740\n",
       "1951 -0.01478875 -0.19940414  0.10015035  0.22190035  0.09870804 -0.35819260\n",
       "1952 -0.14266375 -0.41377914  0.34240035  0.27348369 -0.10420862 -0.20569260\n",
       "1953  0.12962792  0.63547086 -0.29955798 -0.57151631 -0.51745862  0.20855740\n",
       "1954 -0.26366375  0.16963753  0.51044202  0.03981702  0.55391638 -0.05469260\n",
       "1955  0.37816958 -0.13032080  0.12973369 -0.29809965 -0.89929196 -0.13677593\n",
       "1956  0.94596125 -0.02536247 -0.08739131 -0.15726631 -0.45312529 -0.74377593\n",
       "1957  0.04946125  0.13672086  0.51844202  0.14152535 -0.73495862  0.35959907\n",
       "1958 -0.15324708 -0.21077914 -0.07101631 -0.19664131  0.38258304 -0.27627593\n",
       "1959          NA          NA          NA                                    "
      ]
     },
     "metadata": {},
     "output_type": "display_data"
    }
   ],
   "source": [
    "comp$random"
   ]
  },
  {
   "cell_type": "code",
   "execution_count": 10,
   "metadata": {},
   "outputs": [
    {
     "data": {
      "image/png": "[encoded data removed]",
      "text/plain": [
       "plot without title"
      ]
     },
     "metadata": {
      "image/png": {
       "height": 420,
       "width": 420
      }
     },
     "output_type": "display_data"
    }
   ],
   "source": [
    "plot(comp)"
   ]
  },
  {
   "cell_type": "code",
   "execution_count": 11,
   "metadata": {},
   "outputs": [
    {
     "name": "stdout",
     "output_type": "stream",
     "text": [
      "Holt-Winters exponential smoothing with trend and additive seasonal component.\n",
      "\n",
      "Call:\n",
      "HoltWinters(x = births.timeseries)\n",
      "\n",
      "Smoothing parameters:\n",
      " alpha: 0.686454\n",
      " beta : 0.008857567\n",
      " gamma: 0.6828562\n",
      "\n",
      "Coefficients:\n",
      "           [,1]\n",
      "a   28.23526659\n",
      "b    0.01404313\n",
      "s1  -0.77365521\n",
      "s2  -2.08404489\n",
      "s3   1.11945752\n",
      "s4  -0.37371601\n",
      "s5   0.83714172\n",
      "s6   0.20710404\n",
      "s7   1.88468799\n",
      "s8   1.59554494\n",
      "s9   0.96254105\n",
      "s10  0.74685563\n",
      "s11 -1.24615200\n",
      "s12 -0.33493561\n"
     ]
    }
   ],
   "source": [
    "# Forecasting\n",
    "births.timeseries.forecast = HoltWinters(births.timeseries)\n",
    "print(births.timeseries.forecast)"
   ]
  },
  {
   "cell_type": "markdown",
   "metadata": {},
   "source": [
    "* alpha ~ 0,7: khá cao, cho thấy giá trị hiện tại phụ thuộc vào các giá trị gần đây trong quá khứ\n",
    "* beta ~ 0: độ dốc của trend không cập nhật trong thời gian qua\n",
    "* gamma ~ 0.7: ảnh hưởng của yếu tố mùa tại thời điểm hiện tại có phụ thuộc vào các giá trị gần"
   ]
  },
  {
   "cell_type": "code",
   "execution_count": 12,
   "metadata": {},
   "outputs": [
    {
     "data": {
      "image/png": "[encoded data removed]",
      "text/plain": [
       "Plot with title \"Birth: obeserver vs forecast\""
      ]
     },
     "metadata": {
      "image/png": {
       "height": 420,
       "width": 420
      }
     },
     "output_type": "display_data"
    }
   ],
   "source": [
    "plot(births.timeseries.forecast, main = \"Birth: obeserver vs forecast\", xlab = \"Year\", ylab = \"Births\")"
   ]
  },
  {
   "cell_type": "code",
   "execution_count": 14,
   "metadata": {},
   "outputs": [
    {
     "name": "stdout",
     "output_type": "stream",
     "text": [
      "[1] \"Next 6 months:\"\n",
      "         Point Forecast    Lo 80    Hi 80    Lo 95    Hi 95\n",
      "Oct 1959       27.53257 26.71748 28.34767 26.28599 28.77915\n",
      "Nov 1959       26.16734 25.02565 27.30904 24.42128 27.91341\n",
      "Dec 1959       29.11625 27.72245 30.51004 26.98463 31.24787\n",
      "Jan 1960       27.45746 25.85062 29.06430 25.00001 29.91491\n",
      "Feb 1960       28.56743 26.77263 30.36223 25.82252 31.31234\n",
      "Mar 1960       28.15576 26.19088 30.12063 25.15074 31.16077\n"
     ]
    }
   ],
   "source": [
    "births.timeseries.forecast_6m = forecast(births.timeseries, h = 6)\n",
    "print(\"Next 6 months:\")\n",
    "print(births.timeseries.forecast_6m)"
   ]
  },
  {
   "cell_type": "code",
   "execution_count": 15,
   "metadata": {},
   "outputs": [
    {
     "data": {
      "image/png": "[encoded data removed]",
      "text/plain": [
       "Plot with title \"Birth: forecast next six months\""
      ]
     },
     "metadata": {
      "image/png": {
       "height": 420,
       "width": 420
      }
     },
     "output_type": "display_data"
    }
   ],
   "source": [
    "plot(births.timeseries.forecast_6m, main = \"Birth: forecast next six months\", xlab = \"Year\", ylab = \"Births\")"
   ]
  },
  {
   "cell_type": "code",
   "execution_count": null,
   "metadata": {},
   "outputs": [],
   "source": []
  }
 ],
 "metadata": {
  "kernelspec": {
   "display_name": "R",
   "language": "R",
   "name": "ir"
  },
  "language_info": {
   "codemirror_mode": "r",
   "file_extension": ".r",
   "mimetype": "text/x-r-source",
   "name": "R",
   "pygments_lexer": "r",
   "version": "4.0.3"
  }
 },
 "nbformat": 4,
 "nbformat_minor": 4
}
