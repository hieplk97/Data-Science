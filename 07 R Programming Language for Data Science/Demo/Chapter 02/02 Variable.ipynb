{
 "cells": [
  {
   "cell_type": "code",
   "execution_count": 1,
   "metadata": {},
   "outputs": [
    {
     "name": "stdout",
     "output_type": "stream",
     "text": [
      "[1] \"red\"   \"green\" \"blue\" \n"
     ]
    }
   ],
   "source": [
    "colors <- c('red', 'green', 'blue')\n",
    "print(colors)"
   ]
  },
  {
   "cell_type": "code",
   "execution_count": 2,
   "metadata": {},
   "outputs": [
    {
     "name": "stdout",
     "output_type": "stream",
     "text": [
      "[1] 10.0 15.5  7.0\n"
     ]
    }
   ],
   "source": [
    "numbers = c(10, 15.5, 7)\n",
    "print(numbers)"
   ]
  },
  {
   "cell_type": "code",
   "execution_count": 3,
   "metadata": {},
   "outputs": [
    {
     "name": "stdout",
     "output_type": "stream",
     "text": [
      "[1]  TRUE FALSE  TRUE FALSE\n"
     ]
    }
   ],
   "source": [
    "c(TRUE, FALSE, TRUE, FALSE) -> pass\n",
    "print(pass)"
   ]
  },
  {
   "cell_type": "code",
   "execution_count": 4,
   "metadata": {},
   "outputs": [
    {
     "data": {
      "text/html": [
       "\n",
       "<table width=\"100%\" summary=\"page for Reserved {base}\"><tr><td>Reserved {base}</td><td style=\"text-align: right;\">R Documentation</td></tr></table>\n",
       "\n",
       "<h2>Reserved Words in R</h2>\n",
       "\n",
       "<h3>Description</h3>\n",
       "\n",
       "<p>The reserved words in <span style=\"font-family: Courier New, Courier; color: #666666;\"><b>R</b></span>'s parser are\n",
       "</p>\n",
       "<p><code>if</code> <code>else</code> <code>repeat</code> <code>while</code>\n",
       "<code>function</code> <code>for</code> <code>in</code>\n",
       "<code>next</code> <code>break</code>\n",
       "</p>\n",
       "<p><code>TRUE</code> <code>FALSE</code> <code>NULL</code>\n",
       "<code>Inf</code> <code>NaN</code>\n",
       "<code>NA</code> <code>NA_integer_</code> <code>NA_real_</code>\n",
       "<code>NA_complex_</code> <code>NA_character_</code>\n",
       "</p>\n",
       "<p><code>...</code> and <code>..1</code>, <code>..2</code> etc, which are used to refer to\n",
       "arguments passed down from a calling function, see <code>...</code>.\n",
       "</p>\n",
       "\n",
       "\n",
       "<h3>Details</h3>\n",
       "\n",
       "<p>Reserved words outside quotes are always parsed to be\n",
       "references to the objects linked to in the &lsquo;Description&rsquo;, and\n",
       "hence they are not allowed as syntactic names (see\n",
       "<code>make.names</code>).  They <b>are</b> allowed as non-syntactic\n",
       "names, e.g. inside backtick quotes.\n",
       "</p>\n",
       "\n",
       "<hr /><div style=\"text-align: center;\">[Package <em>base</em> version 4.0.3 ]</div>"
      ],
      "text/latex": [
       "\\inputencoding{utf8}\n",
       "\\HeaderA{Reserved}{Reserved Words in R}{Reserved}\n",
       "\\aliasA{reserved}{Reserved}{reserved}\n",
       "\\keyword{programming}{Reserved}\n",
       "\\keyword{documentation}{Reserved}\n",
       "%\n",
       "\\begin{Description}\\relax\n",
       "The reserved words in \\R{}'s parser are\n",
       "\n",
       "\\code{\\LinkA{if}{if}} \\code{\\LinkA{else}{else}} \\code{\\LinkA{repeat}{repeat}} \\code{\\LinkA{while}{while}}\n",
       "\\code{\\LinkA{function}{function}} \\code{\\LinkA{for}{for}} \\code{in}\n",
       "\\code{\\LinkA{next}{next}} \\code{\\LinkA{break}{break}}\n",
       "\n",
       "\\code{\\LinkA{TRUE}{TRUE}} \\code{\\LinkA{FALSE}{FALSE}} \\code{\\LinkA{NULL}{NULL}}\n",
       "\\code{\\LinkA{Inf}{Inf}} \\code{\\LinkA{NaN}{NaN}}\n",
       "\\code{\\LinkA{NA}{NA}} \\code{\\LinkA{NA\\_integer\\_}{NA.Rul.integer.Rul.}} \\code{\\LinkA{NA\\_real\\_}{NA.Rul.real.Rul.}}\n",
       "\\code{\\LinkA{NA\\_complex\\_}{NA.Rul.complex.Rul.}} \\code{\\LinkA{NA\\_character\\_}{NA.Rul.character.Rul.}}\n",
       "\n",
       "\\code{...} and \\code{..1}, \\code{..2} etc, which are used to refer to\n",
       "arguments passed down from a calling function, see \\code{\\LinkA{...}{...}}.\n",
       "\\end{Description}\n",
       "%\n",
       "\\begin{Details}\\relax\n",
       "Reserved words outside \\LinkA{quotes}{Quotes} are always parsed to be\n",
       "references to the objects linked to in the `Description', and\n",
       "hence they are not allowed as syntactic names (see\n",
       "\\code{\\LinkA{make.names}{make.names}}).  They \\bold{are} allowed as non-syntactic\n",
       "names, e.g.~inside \\LinkA{backtick}{backtick} quotes.\n",
       "\\end{Details}"
      ],
      "text/plain": [
       "Reserved                 package:base                  R Documentation\n",
       "\n",
       "_\bR_\be_\bs_\be_\br_\bv_\be_\bd _\bW_\bo_\br_\bd_\bs _\bi_\bn _\bR\n",
       "\n",
       "_\bD_\be_\bs_\bc_\br_\bi_\bp_\bt_\bi_\bo_\bn:\n",
       "\n",
       "     The reserved words in R's parser are\n",
       "\n",
       "     'if' 'else' 'repeat' 'while' 'function' 'for' 'in' 'next' 'break'\n",
       "\n",
       "     'TRUE' 'FALSE' 'NULL' 'Inf' 'NaN' 'NA' 'NA_integer_' 'NA_real_'\n",
       "     'NA_complex_' 'NA_character_'\n",
       "\n",
       "     '...' and '..1', '..2' etc, which are used to refer to arguments\n",
       "     passed down from a calling function, see '...'.\n",
       "\n",
       "_\bD_\be_\bt_\ba_\bi_\bl_\bs:\n",
       "\n",
       "     Reserved words outside quotes are always parsed to be references\n",
       "     to the objects linked to in the 'Description', and hence they are\n",
       "     not allowed as syntactic names (see 'make.names').  They *are*\n",
       "     allowed as non-syntactic names, e.g. inside backtick quotes.\n"
      ]
     },
     "metadata": {},
     "output_type": "display_data"
    }
   ],
   "source": [
    "?reserved"
   ]
  },
  {
   "cell_type": "code",
   "execution_count": 5,
   "metadata": {},
   "outputs": [
    {
     "name": "stdout",
     "output_type": "stream",
     "text": [
      "[1] \"colors\"  \"numbers\" \"pass\"   \n"
     ]
    }
   ],
   "source": [
    "print(ls())"
   ]
  },
  {
   "cell_type": "code",
   "execution_count": null,
   "metadata": {},
   "outputs": [],
   "source": []
  }
 ],
 "metadata": {
  "kernelspec": {
   "display_name": "R",
   "language": "R",
   "name": "ir"
  },
  "language_info": {
   "codemirror_mode": "r",
   "file_extension": ".r",
   "mimetype": "text/x-r-source",
   "name": "R",
   "pygments_lexer": "r",
   "version": "4.0.3"
  }
 },
 "nbformat": 4,
 "nbformat_minor": 4
}
