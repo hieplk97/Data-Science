{
 "cells": [
  {
   "cell_type": "code",
   "execution_count": 1,
   "id": "particular-specialist",
   "metadata": {},
   "outputs": [
    {
     "data": {
      "text/html": [
       "<style>pre { white-space: pre !important; }</style>"
      ],
      "text/plain": [
       "<IPython.core.display.HTML object>"
      ]
     },
     "metadata": {},
     "output_type": "display_data"
    }
   ],
   "source": [
    "from IPython.core.display import HTML\n",
    "display(HTML(\"<style>pre { white-space: pre !important; }</style>\"))"
   ]
  },
  {
   "cell_type": "code",
   "execution_count": 2,
   "id": "higher-destination",
   "metadata": {},
   "outputs": [],
   "source": [
    "import findspark\n",
    "findspark.init()"
   ]
  },
  {
   "cell_type": "code",
   "execution_count": 3,
   "id": "provincial-characterization",
   "metadata": {},
   "outputs": [],
   "source": [
    "import pandas as pd\n",
    "import numpy as np\n",
    "import seaborn as sns\n",
    "import matplotlib.pyplot as plt"
   ]
  },
  {
   "cell_type": "code",
   "execution_count": 4,
   "id": "genuine-pressure",
   "metadata": {},
   "outputs": [],
   "source": [
    "from pyspark.sql import SparkSession\n",
    "from pyspark.sql.functions import collect_list, col, count, collect_set\n",
    "from pyspark.sql.types import StringType\n",
    "\n",
    "from pyspark.ml.fpm import FPGrowth\n",
    "from pyspark.ml.evaluation import RegressionEvaluator"
   ]
  },
  {
   "cell_type": "code",
   "execution_count": 5,
   "id": "possible-church",
   "metadata": {},
   "outputs": [],
   "source": [
    "spark = SparkSession.builder.appName('bakery').getOrCreate()"
   ]
  },
  {
   "cell_type": "code",
   "execution_count": 6,
   "id": "intelligent-remedy",
   "metadata": {},
   "outputs": [],
   "source": [
    "# Load data\n",
    "data = spark.read.csv(\"../../Data/75000/75000i.csv\", header=False, inferSchema=True)"
   ]
  },
  {
   "cell_type": "code",
   "execution_count": 7,
   "id": "driving-omega",
   "metadata": {},
   "outputs": [
    {
     "name": "stdout",
     "output_type": "stream",
     "text": [
      "+---+---+---+\n",
      "|_c0|_c1|_c2|\n",
      "+---+---+---+\n",
      "|  1|  1| 21|\n",
      "|  1|  5| 11|\n",
      "|  2|  1|  7|\n",
      "|  2|  3| 11|\n",
      "|  2|  4| 37|\n",
      "|  2|  3| 45|\n",
      "|  3|  5|  3|\n",
      "|  3|  3| 42|\n",
      "|  3|  3| 33|\n",
      "|  4|  1|  5|\n",
      "|  4|  2| 12|\n",
      "|  4|  1| 47|\n",
      "|  4|  4| 17|\n",
      "|  5|  2| 42|\n",
      "|  5|  5|  6|\n",
      "|  5|  3| 18|\n",
      "|  6|  4|  2|\n",
      "|  6|  3|  4|\n",
      "|  6|  4| 34|\n",
      "|  7|  1| 15|\n",
      "+---+---+---+\n",
      "only showing top 20 rows\n",
      "\n"
     ]
    }
   ],
   "source": [
    "data.show()"
   ]
  },
  {
   "cell_type": "code",
   "execution_count": 8,
   "id": "egyptian-imaging",
   "metadata": {},
   "outputs": [],
   "source": [
    "data = data.withColumnRenamed(\"_c0\",\"OrderID\").withColumnRenamed(\"_c1\",\"Rating\").withColumnRenamed(\"_c2\",\"ProductID\")"
   ]
  },
  {
   "cell_type": "code",
   "execution_count": 9,
   "id": "rural-england",
   "metadata": {},
   "outputs": [],
   "source": [
    "data.createOrReplaceTempView('order_products_train')"
   ]
  },
  {
   "cell_type": "code",
   "execution_count": 10,
   "id": "piano-damage",
   "metadata": {},
   "outputs": [],
   "source": [
    "raw_data = spark.sql('SELECT * FROM order_products_train')\n",
    "grouping_data = raw_data.groupby('OrderID').agg(collect_set('ProductID').alias('items'))\n",
    "grouping_data.createOrReplaceTempView('baskets')"
   ]
  },
  {
   "cell_type": "code",
   "execution_count": 11,
   "id": "cooperative-birmingham",
   "metadata": {},
   "outputs": [
    {
     "name": "stdout",
     "output_type": "stream",
     "text": [
      "+-------+--------------------+\n",
      "|OrderID|               items|\n",
      "+-------+--------------------+\n",
      "|    148|[33, 27, 9, 46, 2...|\n",
      "|    463|            [17, 14]|\n",
      "|    471|     [9, 37, 34, 20]|\n",
      "|    496|     [15, 6, 47, 26]|\n",
      "|    833|         [12, 5, 21]|\n",
      "+-------+--------------------+\n",
      "only showing top 5 rows\n",
      "\n"
     ]
    }
   ],
   "source": [
    "grouping_data.show(5)"
   ]
  },
  {
   "cell_type": "code",
   "execution_count": 12,
   "id": "dental-japanese",
   "metadata": {},
   "outputs": [],
   "source": [
    "fpGrowth = FPGrowth(itemsCol='items', minSupport=0.005, minConfidence=0.005)\n",
    "#model = fpGrowth.fit(grouping_data)"
   ]
  },
  {
   "cell_type": "code",
   "execution_count": 13,
   "id": "innocent-ivory",
   "metadata": {},
   "outputs": [
    {
     "name": "stdout",
     "output_type": "stream",
     "text": [
      "+---+------------+--------+-----+------+\n",
      "| Id|      Flavor|    Food|Price|  Type|\n",
      "+---+------------+--------+-----+------+\n",
      "|  0| 'Chocolate'|  'Cake'| 8.95|'Food'|\n",
      "|  1|     'Lemon'|  'Cake'| 8.95|'Food'|\n",
      "|  2|    'Casino'|  'Cake'|15.95|'Food'|\n",
      "|  3|     'Opera'|  'Cake'|15.95|'Food'|\n",
      "|  4|'Strawberry'|  'Cake'|11.95|'Food'|\n",
      "|  5|   'Truffle'|  'Cake'|15.95|'Food'|\n",
      "|  6| 'Chocolate'|'Eclair'| 3.25|'Food'|\n",
      "|  7|    'Coffee'|'Eclair'|  3.5|'Food'|\n",
      "|  8|   'Vanilla'|'Eclair'| 3.25|'Food'|\n",
      "|  9|  'Napoleon'|  'Cake'|13.49|'Food'|\n",
      "+---+------------+--------+-----+------+\n",
      "only showing top 10 rows\n",
      "\n"
     ]
    }
   ],
   "source": [
    "goods = spark.read.csv('../../Data/75000/goods.csv', header=True, inferSchema=True)\n",
    "goods.show(10)"
   ]
  },
  {
   "cell_type": "code",
   "execution_count": 14,
   "id": "appreciated-inside",
   "metadata": {},
   "outputs": [],
   "source": [
    "goods.createOrReplaceTempView('goods')"
   ]
  },
  {
   "cell_type": "code",
   "execution_count": 15,
   "id": "freelance-delivery",
   "metadata": {},
   "outputs": [],
   "source": [
    "rawdata_1 = spark.sql('''SELECT g.Flavor, g.Food, o.OrderID \n",
    "                         FROM goods g \n",
    "                         INNER JOIN order_products_train o WHERE o.ProductID = g.Id''')"
   ]
  },
  {
   "cell_type": "code",
   "execution_count": 16,
   "id": "invalid-music",
   "metadata": {},
   "outputs": [
    {
     "name": "stdout",
     "output_type": "stream",
     "text": [
      "+-------+-----------------------------------------------------+\n",
      "|OrderID|items                                                |\n",
      "+-------+-----------------------------------------------------+\n",
      "|148    |['Cookie', 'Cake', 'Coffee', 'Croissant']            |\n",
      "|463    |['Tart']                                             |\n",
      "|471    |['Tart', 'Cake', 'Croissant', 'Twist']               |\n",
      "|496    |['Tart', 'Frappuccino', 'Eclair', 'Meringue']        |\n",
      "|833    |['Cookie', 'Tart', 'Cake']                           |\n",
      "|1088   |['Cookie', 'Tart', 'Cake', 'Danish', 'Lemonade']     |\n",
      "|1238   |['Tart', 'Croissant']                                |\n",
      "|1342   |['Tart', 'Espresso', 'Eclair']                       |\n",
      "|1580   |['Tart', 'Danish', 'Croissant']                      |\n",
      "|1591   |['Tart', 'Cake']                                     |\n",
      "|1645   |['Tart', 'Espresso', 'Eclair']                       |\n",
      "|1829   |['Cookie', 'Tart', 'Espresso', 'Eclair', 'Bear Claw']|\n",
      "|1959   |['Cookie', 'Tart', 'Cake']                           |\n",
      "|2122   |['Cookie', 'Cake']                                   |\n",
      "|2142   |['Tart', 'Lemonade', 'Water']                        |\n",
      "|2366   |['Cookie', 'Cake']                                   |\n",
      "|2659   |['Juice']                                            |\n",
      "|2866   |['Cookie', 'Cake', 'Lemonade']                       |\n",
      "|3175   |['Juice', 'Croissant']                               |\n",
      "|3749   |['Cake', 'Pie', 'Coffee']                            |\n",
      "+-------+-----------------------------------------------------+\n",
      "only showing top 20 rows\n",
      "\n"
     ]
    }
   ],
   "source": [
    "baskets = rawdata_1.groupBy('OrderID').agg(collect_set('Food').alias('items'))\n",
    "baskets.show(truncate=False)"
   ]
  },
  {
   "cell_type": "code",
   "execution_count": 17,
   "id": "fatal-virus",
   "metadata": {},
   "outputs": [],
   "source": [
    "baskets.createOrReplaceTempView('baskets')"
   ]
  },
  {
   "cell_type": "code",
   "execution_count": 18,
   "id": "executive-joshua",
   "metadata": {},
   "outputs": [],
   "source": [
    "model = fpGrowth.fit(baskets)"
   ]
  },
  {
   "cell_type": "code",
   "execution_count": 19,
   "id": "assigned-obligation",
   "metadata": {},
   "outputs": [
    {
     "name": "stdout",
     "output_type": "stream",
     "text": [
      "+---------------------------------------+-----+\n",
      "|items                                  |freq |\n",
      "+---------------------------------------+-----+\n",
      "|['Tart']                               |41111|\n",
      "|['Cake']                               |32605|\n",
      "|['Cake', 'Tart']                       |16944|\n",
      "|['Cookie']                             |29198|\n",
      "|['Cookie', 'Cake']                     |11789|\n",
      "|['Cookie', 'Cake', 'Tart']             |5345 |\n",
      "|['Cookie', 'Tart']                     |13648|\n",
      "|['Croissant']                          |21668|\n",
      "|['Croissant', 'Cookie']                |6769 |\n",
      "|['Croissant', 'Cookie', 'Cake']        |2725 |\n",
      "|['Croissant', 'Cookie', 'Cake', 'Tart']|1338 |\n",
      "|['Croissant', 'Cookie', 'Tart']        |3447 |\n",
      "|['Croissant', 'Cake']                  |7123 |\n",
      "|['Croissant', 'Cake', 'Tart']          |3721 |\n",
      "|['Croissant', 'Tart']                  |12706|\n",
      "|['Danish']                             |14597|\n",
      "|['Danish', 'Cookie']                   |4139 |\n",
      "|['Danish', 'Cookie', 'Cake']           |1909 |\n",
      "|['Danish', 'Cookie', 'Cake', 'Tart']   |1111 |\n",
      "|['Danish', 'Cookie', 'Tart']           |2337 |\n",
      "+---------------------------------------+-----+\n",
      "only showing top 20 rows\n",
      "\n"
     ]
    }
   ],
   "source": [
    "model.freqItemsets.show(truncate=False)"
   ]
  },
  {
   "cell_type": "code",
   "execution_count": 20,
   "id": "natural-bradley",
   "metadata": {},
   "outputs": [],
   "source": [
    "# Transform examines the input items agaist all the association rules and summary consquents as predict\n",
    "mostPopularItem = model.transform(baskets)"
   ]
  },
  {
   "cell_type": "code",
   "execution_count": 21,
   "id": "joint-threshold",
   "metadata": {},
   "outputs": [
    {
     "data": {
      "text/plain": [
       "[Row(OrderID=148, items=[\"'Cookie'\", \"'Cake'\", \"'Coffee'\", \"'Croissant'\"], prediction=[\"'Tart'\", \"'Danish'\", \"'Eclair'\", \"'Lemonade'\", \"'Juice'\", \"'Meringue'\", \"'Frappuccino'\", \"'Twist'\", \"'Pie'\", \"'Water'\", \"'Espresso'\", \"'Tea'\", \"'Soda'\", \"'Bear Claw'\"]),\n",
       " Row(OrderID=463, items=[\"'Tart'\"], prediction=[\"'Cake'\", \"'Cookie'\", \"'Croissant'\", \"'Danish'\", \"'Eclair'\", \"'Coffee'\", \"'Lemonade'\", \"'Juice'\", \"'Meringue'\", \"'Frappuccino'\", \"'Twist'\", \"'Pie'\", \"'Water'\", \"'Espresso'\", \"'Tea'\", \"'Soda'\", \"'Bear Claw'\"]),\n",
       " Row(OrderID=471, items=[\"'Tart'\", \"'Cake'\", \"'Croissant'\", \"'Twist'\"], prediction=[\"'Cookie'\", \"'Eclair'\", \"'Coffee'\", \"'Danish'\", \"'Juice'\", \"'Lemonade'\", \"'Meringue'\", \"'Frappuccino'\", \"'Pie'\", \"'Water'\", \"'Espresso'\", \"'Tea'\", \"'Soda'\", \"'Bear Claw'\"])]"
      ]
     },
     "execution_count": 21,
     "metadata": {},
     "output_type": "execute_result"
    }
   ],
   "source": [
    "mostPopularItem.head(3)"
   ]
  },
  {
   "cell_type": "code",
   "execution_count": 22,
   "id": "alternative-directive",
   "metadata": {},
   "outputs": [],
   "source": [
    "mostPopularItem.createOrReplaceTempView('popular_items')"
   ]
  },
  {
   "cell_type": "code",
   "execution_count": 23,
   "id": "funded-distributor",
   "metadata": {},
   "outputs": [
    {
     "name": "stdout",
     "output_type": "stream",
     "text": [
      "root\n",
      " |-- OrderID: integer (nullable = true)\n",
      " |-- items: string (nullable = false)\n",
      " |-- prediction: string (nullable = true)\n",
      "\n"
     ]
    }
   ],
   "source": [
    "DF_cast = mostPopularItem.select('OrderID', mostPopularItem.items.cast(StringType()), mostPopularItem.prediction.cast(StringType()))\n",
    "DF_cast.printSchema()"
   ]
  },
  {
   "cell_type": "code",
   "execution_count": 24,
   "id": "substantial-establishment",
   "metadata": {},
   "outputs": [
    {
     "data": {
      "text/plain": [
       "[Row(OrderID=148, items=\"['Cookie', 'Cake', 'Coffee', 'Croissant']\", prediction=\"['Tart', 'Danish', 'Eclair', 'Lemonade', 'Juice', 'Meringue', 'Frappuccino', 'Twist', 'Pie', 'Water', 'Espresso', 'Tea', 'Soda', 'Bear Claw']\"),\n",
       " Row(OrderID=463, items=\"['Tart']\", prediction=\"['Cake', 'Cookie', 'Croissant', 'Danish', 'Eclair', 'Coffee', 'Lemonade', 'Juice', 'Meringue', 'Frappuccino', 'Twist', 'Pie', 'Water', 'Espresso', 'Tea', 'Soda', 'Bear Claw']\"),\n",
       " Row(OrderID=471, items=\"['Tart', 'Cake', 'Croissant', 'Twist']\", prediction=\"['Cookie', 'Eclair', 'Coffee', 'Danish', 'Juice', 'Lemonade', 'Meringue', 'Frappuccino', 'Pie', 'Water', 'Espresso', 'Tea', 'Soda', 'Bear Claw']\")]"
      ]
     },
     "execution_count": 24,
     "metadata": {},
     "output_type": "execute_result"
    }
   ],
   "source": [
    "DF_cast.head(3)"
   ]
  },
  {
   "cell_type": "code",
   "execution_count": null,
   "id": "pharmaceutical-clone",
   "metadata": {},
   "outputs": [],
   "source": []
  }
 ],
 "metadata": {
  "kernelspec": {
   "display_name": "Python 3",
   "language": "python",
   "name": "python3"
  },
  "language_info": {
   "codemirror_mode": {
    "name": "ipython",
    "version": 3
   },
   "file_extension": ".py",
   "mimetype": "text/x-python",
   "name": "python",
   "nbconvert_exporter": "python",
   "pygments_lexer": "ipython3",
   "version": "3.8.3"
  }
 },
 "nbformat": 4,
 "nbformat_minor": 5
}
