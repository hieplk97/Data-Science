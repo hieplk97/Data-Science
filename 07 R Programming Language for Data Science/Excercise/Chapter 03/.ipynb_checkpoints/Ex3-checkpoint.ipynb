{
 "cells": [
  {
   "cell_type": "code",
   "execution_count": 1,
   "metadata": {},
   "outputs": [],
   "source": [
    "vip_1 = 1000000\n",
    "vip_2 = 900000\n",
    "vip_3 = 850000\n",
    "standard_1 = 700000\n",
    "standard_2 = 550000"
   ]
  },
  {
   "cell_type": "code",
   "execution_count": 2,
   "metadata": {},
   "outputs": [
    {
     "name": "stdin",
     "output_type": "stream",
     "text": [
      "Input code:  1\n",
      "Input days:  3\n"
     ]
    }
   ],
   "source": [
    "code = as.integer(readline(prompt = \"Input code: \"))\n",
    "days = as.integer(readline(prompt = \"Input days: \"))"
   ]
  },
  {
   "cell_type": "code",
   "execution_count": 4,
   "metadata": {},
   "outputs": [],
   "source": [
    "price = switch (code, vip_1, vip_2, vip_3, standard_1, standard_2)"
   ]
  },
  {
   "cell_type": "code",
   "execution_count": 5,
   "metadata": {},
   "outputs": [],
   "source": [
    "payment = 0\n",
    "\n",
    "if (days < 3){\n",
    "    payment = price * days\n",
    "} else if (days < 7){\n",
    "    payment = price * days * 0.9\n",
    "} else{\n",
    "    payment = price * days * 0.8\n",
    "}"
   ]
  },
  {
   "cell_type": "code",
   "execution_count": 7,
   "metadata": {},
   "outputs": [
    {
     "name": "stdout",
     "output_type": "stream",
     "text": [
      "[1] \"Your payment:  2700000  VND\"\n"
     ]
    }
   ],
   "source": [
    "print(paste(\"Your payment: \", payment, \" VND\"))"
   ]
  }
 ],
 "metadata": {
  "kernelspec": {
   "display_name": "R",
   "language": "R",
   "name": "ir"
  },
  "language_info": {
   "codemirror_mode": "r",
   "file_extension": ".r",
   "mimetype": "text/x-r-source",
   "name": "R",
   "pygments_lexer": "r",
   "version": "4.0.3"
  }
 },
 "nbformat": 4,
 "nbformat_minor": 4
}
