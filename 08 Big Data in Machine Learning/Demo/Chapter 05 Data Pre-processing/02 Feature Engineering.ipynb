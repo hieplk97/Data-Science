{
 "cells": [
  {
   "cell_type": "code",
   "execution_count": 1,
   "id": "simplified-composer",
   "metadata": {},
   "outputs": [],
   "source": [
    "import findspark\n",
    "findspark.init()"
   ]
  },
  {
   "cell_type": "code",
   "execution_count": 2,
   "id": "universal-dance",
   "metadata": {},
   "outputs": [],
   "source": [
    "import matplotlib.pyplot as plt\n",
    "import seaborn as sns\n",
    "from datetime import datetime\n",
    "\n",
    "from pyspark import SparkContext\n",
    "from pyspark.conf import SparkConf\n",
    "\n",
    "from pyspark.sql import SparkSession\n",
    "from pyspark.sql import types \n",
    "from pyspark.sql.functions import mean, stddev, col, log, datediff\n",
    "from pyspark.sql.functions import to_date, dayofweek, to_timestamp\n",
    "from pyspark.sql.functions import col, udf\n",
    "from pyspark.sql.functions import year, month\n",
    "from pyspark.sql.functions import dayofmonth, weekofyear\n",
    "from pyspark.sql.functions import split, explode\n",
    "from pyspark.sql.functions import coalesce, first, lit\n",
    "from pyspark.sql.functions import regexp_extract, col\n",
    "from pyspark.sql.functions import when\n",
    "from pyspark.sql.types import DateType\n",
    "\n",
    "from pyspark.ml.feature import Binarizer\n",
    "from pyspark.ml.feature import Bucketizer\n",
    "from pyspark.ml.feature import OneHotEncoder, StringIndexer"
   ]
  },
  {
   "cell_type": "code",
   "execution_count": 3,
   "id": "behind-suspect",
   "metadata": {},
   "outputs": [],
   "source": [
    "sc = SparkContext()\n",
    "spark = SparkSession(sc)"
   ]
  },
  {
   "cell_type": "code",
   "execution_count": 4,
   "id": "logical-alias",
   "metadata": {},
   "outputs": [],
   "source": [
    "df = spark.read.csv(\"../../Data/2017_StPaul_MN_Real_Estate.csv\", header=True, inferSchema=True)"
   ]
  },
  {
   "cell_type": "code",
   "execution_count": 5,
   "id": "elect-westminster",
   "metadata": {
    "tags": []
   },
   "outputs": [
    {
     "name": "stdout",
     "output_type": "stream",
     "text": [
      "+---+-----+-------------------+--------------------+----------+----------+---------------+----------------+---------------+--------------+---------+---------------+-----------------+------------+--------------+----------+---------+-----------------+--------------------+------------+---------------+----------+---------+--------------------+--------------------+----------+------------------+---------------+----+--------------------+---------------+-----+----------+---------+------------------+-------+----------+----------+---------+------------------+--------------------+-----+------------------+--------------------+----------------+--------------+---------+------------+----------+----------+---------+---------------------+--------------------+---------+---------+-----------+-----------------+-----+----------+--------------------+---------+----------+---------+----------+---------+----------+---------+----------+--------+---------------+-----------------+--------------+-----------------+-----------------+\n",
      "| No|MLSID|StreetNumberNumeric|       streetaddress|STREETNAME|PostalCode|StateOrProvince|            City|SalesClosePrice|      LISTDATE|LISTPRICE|       LISTTYPE|OriginalListPrice|PricePerTSFT|FOUNDATIONSIZE|     FENCE|MapLetter|LotSizeDimensions|SchoolDistrictNumber|DAYSONMARKET|  offmarketdate|Fireplaces|RoomArea4|            roomtype|                ROOF|RoomFloor4|PotentialShortSale|PoolDescription|PDOM|   GarageDescription|SQFTABOVEGROUND|Taxes|RoomFloor1|RoomArea1|TAXWITHASSESSMENTS|TAXYEAR|LivingArea|UNITNUMBER|YEARBUILT|            ZONING|               STYLE|ACRES|CoolingDescription|          APPLIANCES|backonmarketdate|ROOMFAMILYCHAR|RoomArea3|    EXTERIOR|RoomFloor3|RoomFloor2|RoomArea2|DiningRoomDescription|            BASEMENT|BathsFull|BathsHalf|BATHQUARTER|BATHSTHREEQUARTER|Class|BATHSTOTAL|            BATHDESC|RoomArea5|RoomFloor5|RoomArea6|RoomFloor6|RoomArea7|RoomFloor7|RoomArea8|RoomFloor8|Bedrooms|SQFTBELOWGROUND|AssumableMortgage|AssociationFee|ASSESSMENTPENDING|AssessedValuation|\n",
      "+---+-----+-------------------+--------------------+----------+----------+---------------+----------------+---------------+--------------+---------+---------------+-----------------+------------+--------------+----------+---------+-----------------+--------------------+------------+---------------+----------+---------+--------------------+--------------------+----------+------------------+---------------+----+--------------------+---------------+-----+----------+---------+------------------+-------+----------+----------+---------+------------------+--------------------+-----+------------------+--------------------+----------------+--------------+---------+------------+----------+----------+---------+---------------------+--------------------+---------+---------+-----------+-----------------+-----+----------+--------------------+---------+----------+---------+----------+---------+----------+---------+----------+--------+---------------+-----------------+--------------+-----------------+-----------------+\n",
      "|  1| RMLS|              11511|11511 Stillwater ...|Stillwater|     55042|             MN|LELM - Lake Elmo|         143000|7/15/2017 0:00|   139900|Exclusive Right|           139900|    145.9184|           980|     Other|       C4|          279X200|    834 - Stillwater|          10| 7/30/2017 0:00|         0|  12 x  9|Living Room, Dini...|                null|      Main|                No|           null|  10|     Attached Garage|            980| 1858|      Main|  16 x 13|            1858.0|   2017|       980|      null|     1950|Residential-Single|      (SF) One Story| 1.28|           Central|Range, Dishwasher...|            null|          null|     null|       Vinyl|      null|      Main|   9 x  7|       Eat In Kitchen|                Full|        1|        1|          0|                0|   SF|         2|Main Floor 3/4 Ba...|  13 x 11|      Main|  10 x 10|      Main|     null|      null|     null|      null|       3|              0|             null|             0|          Unknown|              0.0|\n",
      "|  2| RMLS|              11200|     11200 31st St N|      31st|     55042|             MN|LELM - Lake Elmo|         190000|10/9/2017 0:00|   210000|Exclusive Right|           210000|     85.2783|          1144|      null|       C1|          100x140|    834 - Stillwater|           4|10/13/2017 0:00|         0|    11x11|Living Room, Dini...|Asphalt Shingles,...|      Main|                No|           null|   4|Attached Garage, ...|           1268| 1640|      Main|    22x14|            1640.0|   2017|      2228|      null|     1971|Residential-Single|(SF) Split Entry ...| 0.32|           Central|Range, Microwave,...|            null|   Lower Level|    22x14|       Vinyl|     Lower|      Main|    11x12| Informal Dining R...|Full, Partial Fin...|        1|        0|          0|                2|   SF|         3|Main Floor Full B...|    15x11|      Main|    14x11|      Main|    10x11|      Main|    11x11|     Lower|       4|            960|             null|             0|          Unknown|              0.0|\n",
      "|  3| RMLS|               8583|8583 Stillwater B...|Stillwater|     55042|             MN|LELM - Lake Elmo|         225000|6/26/2017 0:00|   225000|Exclusive Right|           225000|    204.1742|          1102|      None|       E1|          120x296|622 - North St Pa...|          28| 7/24/2017 0:00|         0|    14x12|Living Room, Dini...|                null|      Main|                No|           None|  28|     Attached Garage|           1102| 2390|      Main|    20x13|            2390.0|   2016|      1102|      null|     1949|Residential-Single|      (SF) One Story|0.822|            Window|Range, Microwave,...|            null|          null|     null|Cement Board|      null|      Main|    18x11| Informal Dining Room|Full, Crawl Space...|        1|        0|          0|                0|   SF|         1|Main Floor Full Bath|    12x12|      Main|    12x12|      Main|     null|      null|     null|      null|       2|              0|    Not Assumable|             0|               No|              0.0|\n",
      "|  4| RMLS|               9350|      9350 31st St N|      31st|     55042|             MN|LELM - Lake Elmo|         265000|8/25/2017 0:00|   230000|Exclusive Right|           230000|    162.3775|           959|      None|       A1|          208X208|    834 - Stillwater|          19| 9/13/2017 0:00|         1|    12X16|Living Room, Dini...|Asphalt Shingles,...|      Main|                No|           None|  19|Attached Garage, ...|           1284| 2146|      null|     null|            2146.0|   2017|      1632|      null|     1960|Residential-Single|      (SF) One Story| 0.94|           Central|Range, Washer, Dryer|            null|    Main Level|    25X13|      Stucco|      Main|      Main|    20X11|                 null|Full, Partial Fin...|        1|        1|          0|                0|   SF|         2|Main Floor Full B...|    13X11|      Main|    13X10|      Main|     null|      null|     null|      null|       2|            348|             null|             0|          Unknown|              0.0|\n",
      "|  5| RMLS|               2915|   2915 Inwood Ave N|    Inwood|     55042|             MN|LELM - Lake Elmo|         249900|9/12/2017 0:00|   239900|Exclusive Right|           239900|    121.7836|          1026|Chain Link|       E1|          116x200|622 - North St Pa...|          21| 10/3/2017 0:00|         1|    12x10|Living Room, Dini...|Asphalt Shingles,...|      Main|                No|           null|  21|Attached Garage, ...|           1026| 2010|      Main|    22x14|            2010.0|   2017|      2052|      null|     1978|Residential-Single|(SF) Split Entry ...|  0.0|           Central|Range, Exhaust Fa...|            null|   Lower Level|    22x18|       Vinyl|     Lower|      Main|    12x10| Breakfast Area, K...|Walkout, Full, Fi...|        1|        0|          0|                1|   SF|         2|Main Floor Full B...|    13x11|      Main|    13x12|      Main|    14x13|     Lower|     null|      null|       3|           1026|             null|             0|               No|              0.0|\n",
      "+---+-----+-------------------+--------------------+----------+----------+---------------+----------------+---------------+--------------+---------+---------------+-----------------+------------+--------------+----------+---------+-----------------+--------------------+------------+---------------+----------+---------+--------------------+--------------------+----------+------------------+---------------+----+--------------------+---------------+-----+----------+---------+------------------+-------+----------+----------+---------+------------------+--------------------+-----+------------------+--------------------+----------------+--------------+---------+------------+----------+----------+---------+---------------------+--------------------+---------+---------+-----------+-----------------+-----+----------+--------------------+---------+----------+---------+----------+---------+----------+---------+----------+--------+---------------+-----------------+--------------+-----------------+-----------------+\n",
      "only showing top 5 rows\n",
      "\n"
     ]
    }
   ],
   "source": [
    "df.show(5)"
   ]
  },
  {
   "cell_type": "code",
   "execution_count": 6,
   "id": "major-vitamin",
   "metadata": {},
   "outputs": [
    {
     "name": "stdout",
     "output_type": "stream",
     "text": [
      "+---+-----+--------------------+----------+----------+---------------+----------------+---------------+--------------+---------+---------------+-----------------+------------+--------------+----------+---------+--------------------+------------+---------------+----------+---------+--------------------+--------------------+----------+------------------+---------------+----+--------------------+---------------+-----+----------+---------+------------------+-------+----------+----------+---------+------------------+--------------------+-----+------------------+--------------------+----------------+--------------+---------+------------+----------+----------+---------+---------------------+--------------------+---------+---------+-----------+-----------------+-----+----------+--------------------+---------+----------+---------+----------+---------+----------+---------+----------+--------+---------------+-----------------+--------------+-----------------+-----------------+\n",
      "| No|MLSID|       streetaddress|STREETNAME|PostalCode|StateOrProvince|            City|SalesClosePrice|      LISTDATE|LISTPRICE|       LISTTYPE|OriginalListPrice|PricePerTSFT|FOUNDATIONSIZE|     FENCE|MapLetter|SchoolDistrictNumber|DAYSONMARKET|  offmarketdate|Fireplaces|RoomArea4|            roomtype|                ROOF|RoomFloor4|PotentialShortSale|PoolDescription|PDOM|   GarageDescription|SQFTABOVEGROUND|Taxes|RoomFloor1|RoomArea1|TAXWITHASSESSMENTS|TAXYEAR|LivingArea|UNITNUMBER|YEARBUILT|            ZONING|               STYLE|ACRES|CoolingDescription|          APPLIANCES|backonmarketdate|ROOMFAMILYCHAR|RoomArea3|    EXTERIOR|RoomFloor3|RoomFloor2|RoomArea2|DiningRoomDescription|            BASEMENT|BathsFull|BathsHalf|BATHQUARTER|BATHSTHREEQUARTER|Class|BATHSTOTAL|            BATHDESC|RoomArea5|RoomFloor5|RoomArea6|RoomFloor6|RoomArea7|RoomFloor7|RoomArea8|RoomFloor8|Bedrooms|SQFTBELOWGROUND|AssumableMortgage|AssociationFee|ASSESSMENTPENDING|AssessedValuation|\n",
      "+---+-----+--------------------+----------+----------+---------------+----------------+---------------+--------------+---------+---------------+-----------------+------------+--------------+----------+---------+--------------------+------------+---------------+----------+---------+--------------------+--------------------+----------+------------------+---------------+----+--------------------+---------------+-----+----------+---------+------------------+-------+----------+----------+---------+------------------+--------------------+-----+------------------+--------------------+----------------+--------------+---------+------------+----------+----------+---------+---------------------+--------------------+---------+---------+-----------+-----------------+-----+----------+--------------------+---------+----------+---------+----------+---------+----------+---------+----------+--------+---------------+-----------------+--------------+-----------------+-----------------+\n",
      "|  1| RMLS|11511 Stillwater ...|Stillwater|     55042|             MN|LELM - Lake Elmo|         143000|7/15/2017 0:00|   139900|Exclusive Right|           139900|    145.9184|           980|     Other|       C4|    834 - Stillwater|          10| 7/30/2017 0:00|         0|  12 x  9|Living Room, Dini...|                null|      Main|                No|           null|  10|     Attached Garage|            980| 1858|      Main|  16 x 13|            1858.0|   2017|       980|      null|     1950|Residential-Single|      (SF) One Story| 1.28|           Central|Range, Dishwasher...|            null|          null|     null|       Vinyl|      null|      Main|   9 x  7|       Eat In Kitchen|                Full|        1|        1|          0|                0|   SF|         2|Main Floor 3/4 Ba...|  13 x 11|      Main|  10 x 10|      Main|     null|      null|     null|      null|       3|              0|             null|             0|          Unknown|              0.0|\n",
      "|  2| RMLS|     11200 31st St N|      31st|     55042|             MN|LELM - Lake Elmo|         190000|10/9/2017 0:00|   210000|Exclusive Right|           210000|     85.2783|          1144|      null|       C1|    834 - Stillwater|           4|10/13/2017 0:00|         0|    11x11|Living Room, Dini...|Asphalt Shingles,...|      Main|                No|           null|   4|Attached Garage, ...|           1268| 1640|      Main|    22x14|            1640.0|   2017|      2228|      null|     1971|Residential-Single|(SF) Split Entry ...| 0.32|           Central|Range, Microwave,...|            null|   Lower Level|    22x14|       Vinyl|     Lower|      Main|    11x12| Informal Dining R...|Full, Partial Fin...|        1|        0|          0|                2|   SF|         3|Main Floor Full B...|    15x11|      Main|    14x11|      Main|    10x11|      Main|    11x11|     Lower|       4|            960|             null|             0|          Unknown|              0.0|\n",
      "|  3| RMLS|8583 Stillwater B...|Stillwater|     55042|             MN|LELM - Lake Elmo|         225000|6/26/2017 0:00|   225000|Exclusive Right|           225000|    204.1742|          1102|      None|       E1|622 - North St Pa...|          28| 7/24/2017 0:00|         0|    14x12|Living Room, Dini...|                null|      Main|                No|           None|  28|     Attached Garage|           1102| 2390|      Main|    20x13|            2390.0|   2016|      1102|      null|     1949|Residential-Single|      (SF) One Story|0.822|            Window|Range, Microwave,...|            null|          null|     null|Cement Board|      null|      Main|    18x11| Informal Dining Room|Full, Crawl Space...|        1|        0|          0|                0|   SF|         1|Main Floor Full Bath|    12x12|      Main|    12x12|      Main|     null|      null|     null|      null|       2|              0|    Not Assumable|             0|               No|              0.0|\n",
      "|  4| RMLS|      9350 31st St N|      31st|     55042|             MN|LELM - Lake Elmo|         265000|8/25/2017 0:00|   230000|Exclusive Right|           230000|    162.3775|           959|      None|       A1|    834 - Stillwater|          19| 9/13/2017 0:00|         1|    12X16|Living Room, Dini...|Asphalt Shingles,...|      Main|                No|           None|  19|Attached Garage, ...|           1284| 2146|      null|     null|            2146.0|   2017|      1632|      null|     1960|Residential-Single|      (SF) One Story| 0.94|           Central|Range, Washer, Dryer|            null|    Main Level|    25X13|      Stucco|      Main|      Main|    20X11|                 null|Full, Partial Fin...|        1|        1|          0|                0|   SF|         2|Main Floor Full B...|    13X11|      Main|    13X10|      Main|     null|      null|     null|      null|       2|            348|             null|             0|          Unknown|              0.0|\n",
      "|  5| RMLS|   2915 Inwood Ave N|    Inwood|     55042|             MN|LELM - Lake Elmo|         249900|9/12/2017 0:00|   239900|Exclusive Right|           239900|    121.7836|          1026|Chain Link|       E1|622 - North St Pa...|          21| 10/3/2017 0:00|         1|    12x10|Living Room, Dini...|Asphalt Shingles,...|      Main|                No|           null|  21|Attached Garage, ...|           1026| 2010|      Main|    22x14|            2010.0|   2017|      2052|      null|     1978|Residential-Single|(SF) Split Entry ...|  0.0|           Central|Range, Exhaust Fa...|            null|   Lower Level|    22x18|       Vinyl|     Lower|      Main|    12x10| Breakfast Area, K...|Walkout, Full, Fi...|        1|        0|          0|                1|   SF|         2|Main Floor Full B...|    13x11|      Main|    13x12|      Main|    14x13|     Lower|     null|      null|       3|           1026|             null|             0|               No|              0.0|\n",
      "+---+-----+--------------------+----------+----------+---------------+----------------+---------------+--------------+---------+---------------+-----------------+------------+--------------+----------+---------+--------------------+------------+---------------+----------+---------+--------------------+--------------------+----------+------------------+---------------+----+--------------------+---------------+-----+----------+---------+------------------+-------+----------+----------+---------+------------------+--------------------+-----+------------------+--------------------+----------------+--------------+---------+------------+----------+----------+---------+---------------------+--------------------+---------+---------+-----------+-----------------+-----+----------+--------------------+---------+----------+---------+----------+---------+----------+---------+----------+--------+---------------+-----------------+--------------+-----------------+-----------------+\n",
      "only showing top 5 rows\n",
      "\n"
     ]
    }
   ],
   "source": [
    "# Drop columns in list\n",
    "df = df.drop(*['STREETNUMBERNUMERIC', 'LOTSIZEDIMENSIONS'])\n",
    "df.show(5)"
   ]
  },
  {
   "cell_type": "code",
   "execution_count": 7,
   "id": "trained-penguin",
   "metadata": {},
   "outputs": [],
   "source": [
    "# Sum two columns\n",
    "df = df.withColumn('TSQFT', (df['SQFTBELOWGROUND'] + df['SQFTABOVEGROUND']))\n",
    "# Divide two columns\n",
    "df = df.withColumn('PRICEPERTSQFT', (df['LISTPRICE'] / df['TSQFT']))"
   ]
  },
  {
   "cell_type": "code",
   "execution_count": 8,
   "id": "unnecessary-update",
   "metadata": {},
   "outputs": [
    {
     "name": "stdout",
     "output_type": "stream",
     "text": [
      "Correlation of ACRES vs SalesClosePrice: 0.22060612588935327\n",
      "Correlation of FOUNDATIONSIZE vs SalesClosePrice: 0.6152231695664401\n",
      "Correlation of ACRES vs SalesClosePrice: 0.20714585430854263\n"
     ]
    }
   ],
   "source": [
    "# Lot size in square feet\n",
    "acres_to_sqfeet = 43560\n",
    "df = df.withColumn('LOT_SIZE_SQFT', df['ACRES'] * acres_to_sqfeet)\n",
    "# Create new column YARD_SIZE\n",
    "df = df.withColumn('YARD_SIZE', df['LOT_SIZE_SQFT'] - df['FOUNDATIONSIZE'])\n",
    "\n",
    "# Correlation of ACRES vs SalesClosePrice\n",
    "print('Correlation of ACRES vs SalesClosePrice:', str(df.corr('ACRES', 'SalesClosePrice')))\n",
    "# Correlation of ACRES vs SalesClosePrice\n",
    "print('Correlation of FOUNDATIONSIZE vs SalesClosePrice:', str(df.corr('FOUNDATIONSIZE', 'SalesClosePrice')))\n",
    "# Correlation of YARD_SIZE vs SalesClosePrice\n",
    "print('Correlation of ACRES vs SalesClosePrice:', str(df.corr('YARD_SIZE', 'SalesClosePrice')))"
   ]
  },
  {
   "cell_type": "code",
   "execution_count": 9,
   "id": "fundamental-stevens",
   "metadata": {},
   "outputs": [
    {
     "name": "stdout",
     "output_type": "stream",
     "text": [
      "+------------------+--------+----------+\n",
      "|      BED_TO_BATHS|BEDROOMS|BATHSTOTAL|\n",
      "+------------------+--------+----------+\n",
      "|               1.5|       3|         2|\n",
      "|1.3333333333333333|       4|         3|\n",
      "|               2.0|       2|         1|\n",
      "|               1.0|       2|         2|\n",
      "|               1.5|       3|         2|\n",
      "+------------------+--------+----------+\n",
      "only showing top 5 rows\n",
      "\n"
     ]
    }
   ],
   "source": [
    "df = df.withColumn('BED_TO_BATHS', df['BEDROOMS'] / df['BATHSTOTAL'])\n",
    "df[['BED_TO_BATHS', 'BEDROOMS', 'BATHSTOTAL']].show(5)"
   ]
  },
  {
   "cell_type": "markdown",
   "id": "formal-intensity",
   "metadata": {},
   "source": [
    "### Tạo ra các thành phần từ Time Feature"
   ]
  },
  {
   "cell_type": "code",
   "execution_count": 10,
   "id": "eastern-stick",
   "metadata": {},
   "outputs": [],
   "source": [
    "# Convert to date type\n",
    "func = udf(lambda x: datetime.strptime(x, '%m/%d/%Y %H:%M'), DateType())\n",
    "df = df.withColumn('LISTDATE_new', func(col('LISTDATE')))\n",
    "# Get the ate of week\n",
    "df = df.withColumn('List_Day_of_week', dayofweek('LISTDATE_new'))\n",
    "# Sample and convert to pandas dataframe\n",
    "sample_df = df.sample(False, 0.5, 42).toPandas()"
   ]
  },
  {
   "cell_type": "code",
   "execution_count": 11,
   "id": "alike-degree",
   "metadata": {},
   "outputs": [
    {
     "data": {
      "text/html": [
       "<div>\n",
       "<style scoped>\n",
       "    .dataframe tbody tr th:only-of-type {\n",
       "        vertical-align: middle;\n",
       "    }\n",
       "\n",
       "    .dataframe tbody tr th {\n",
       "        vertical-align: top;\n",
       "    }\n",
       "\n",
       "    .dataframe thead th {\n",
       "        text-align: right;\n",
       "    }\n",
       "</style>\n",
       "<table border=\"1\" class=\"dataframe\">\n",
       "  <thead>\n",
       "    <tr style=\"text-align: right;\">\n",
       "      <th></th>\n",
       "      <th>LISTDATE</th>\n",
       "      <th>LISTDATE_new</th>\n",
       "      <th>List_Day_of_week</th>\n",
       "    </tr>\n",
       "  </thead>\n",
       "  <tbody>\n",
       "    <tr>\n",
       "      <th>0</th>\n",
       "      <td>8/25/2017 0:00</td>\n",
       "      <td>2017-08-25</td>\n",
       "      <td>6</td>\n",
       "    </tr>\n",
       "    <tr>\n",
       "      <th>1</th>\n",
       "      <td>11/5/2017 0:00</td>\n",
       "      <td>2017-11-05</td>\n",
       "      <td>1</td>\n",
       "    </tr>\n",
       "    <tr>\n",
       "      <th>2</th>\n",
       "      <td>5/19/2017 0:00</td>\n",
       "      <td>2017-05-19</td>\n",
       "      <td>6</td>\n",
       "    </tr>\n",
       "    <tr>\n",
       "      <th>3</th>\n",
       "      <td>3/12/2017 0:00</td>\n",
       "      <td>2017-03-12</td>\n",
       "      <td>1</td>\n",
       "    </tr>\n",
       "    <tr>\n",
       "      <th>4</th>\n",
       "      <td>9/10/2017 0:00</td>\n",
       "      <td>2017-09-10</td>\n",
       "      <td>1</td>\n",
       "    </tr>\n",
       "  </tbody>\n",
       "</table>\n",
       "</div>"
      ],
      "text/plain": [
       "         LISTDATE LISTDATE_new  List_Day_of_week\n",
       "0  8/25/2017 0:00   2017-08-25                 6\n",
       "1  11/5/2017 0:00   2017-11-05                 1\n",
       "2  5/19/2017 0:00   2017-05-19                 6\n",
       "3  3/12/2017 0:00   2017-03-12                 1\n",
       "4  9/10/2017 0:00   2017-09-10                 1"
      ]
     },
     "execution_count": 11,
     "metadata": {},
     "output_type": "execute_result"
    }
   ],
   "source": [
    "sample_df[['LISTDATE', 'LISTDATE_new', 'List_Day_of_week']].head(5)"
   ]
  },
  {
   "cell_type": "code",
   "execution_count": 12,
   "id": "outer-friendly",
   "metadata": {},
   "outputs": [
    {
     "data": {
      "image/png": "[encoded data removed]",
      "text/plain": [
       "<Figure size 432x288 with 1 Axes>"
      ]
     },
     "metadata": {
      "needs_background": "light"
     },
     "output_type": "display_data"
    }
   ],
   "source": [
    "# Plot count plot of day of week\n",
    "ax = sns.countplot(x=\"List_Day_of_week\", data=sample_df)\n",
    "plt.show()"
   ]
  },
  {
   "cell_type": "code",
   "execution_count": 13,
   "id": "prompt-metadata",
   "metadata": {},
   "outputs": [
    {
     "name": "stdout",
     "output_type": "stream",
     "text": [
      "+------------+---------+----------+---------------+---------------+\n",
      "|LISTDATE_new|LIST_YEAR|LIST_MONTH|LIST_DAYOFMONTH|LIST_WEEKOFYEAR|\n",
      "+------------+---------+----------+---------------+---------------+\n",
      "|  2017-07-15|     2017|         7|             15|             28|\n",
      "|  2017-10-09|     2017|        10|              9|             41|\n",
      "|  2017-06-26|     2017|         6|             26|             26|\n",
      "+------------+---------+----------+---------------+---------------+\n",
      "only showing top 3 rows\n",
      "\n"
     ]
    }
   ],
   "source": [
    "# Create a new column with year of number\n",
    "df = df.withColumn('LIST_YEAR', year('LISTDATE_new'))\n",
    "# Create a new column with month of number\n",
    "df = df.withColumn('LIST_MONTH', month('LISTDATE_new'))\n",
    "# Create a new column of the day number within the month\n",
    "df = df.withColumn('LIST_DAYOFMONTH', dayofmonth('LISTDATE_new'))\n",
    "# Create a new column of the week number within the year\n",
    "df = df.withColumn('LIST_WEEKOFYEAR', weekofyear('LISTDATE_new'))\n",
    "\n",
    "df[['LISTDATE_new', 'LIST_YEAR', 'LIST_MONTH', 'LIST_DAYOFMONTH', 'LIST_WEEKOFYEAR']].show(3)"
   ]
  },
  {
   "cell_type": "code",
   "execution_count": 14,
   "id": "alternative-church",
   "metadata": {},
   "outputs": [
    {
     "name": "stdout",
     "output_type": "stream",
     "text": [
      "+------------+-----------------+------------+\n",
      "|DAYSONMARKET|OFFMARKETDATE_new|LISTDATE_new|\n",
      "+------------+-----------------+------------+\n",
      "|          15|       2017-07-30|  2017-07-15|\n",
      "|           4|       2017-10-13|  2017-10-09|\n",
      "|          28|       2017-07-24|  2017-06-26|\n",
      "|          19|       2017-09-13|  2017-08-25|\n",
      "|          21|       2017-10-03|  2017-09-12|\n",
      "+------------+-----------------+------------+\n",
      "only showing top 5 rows\n",
      "\n"
     ]
    }
   ],
   "source": [
    "df = df.withColumn('OFFMARKETDATE_new', func(col('OFFMARKETDATE')))\n",
    "df = df.withColumn('DAYSONMARKET',datediff('OFFMARKETDATE_new','LISTDATE_new'))\n",
    "df[['DAYSONMARKET','OFFMARKETDATE_new','LISTDATE_new']].show(5)"
   ]
  },
  {
   "cell_type": "markdown",
   "id": "statewide-director",
   "metadata": {},
   "source": [
    "## Trích xuất tính năng (Extracting Feature)"
   ]
  },
  {
   "cell_type": "markdown",
   "id": "pending-airfare",
   "metadata": {},
   "source": [
    "### Trích xuất text thành feature mới"
   ]
  },
  {
   "cell_type": "code",
   "execution_count": 15,
   "id": "ranging-insurance",
   "metadata": {},
   "outputs": [
    {
     "name": "stdout",
     "output_type": "stream",
     "text": [
      "+--------------------------------------------------------------+-------------------+\n",
      "|                                             GARAGEDESCRIPTION|has_attached_garage|\n",
      "+--------------------------------------------------------------+-------------------+\n",
      "|                                               Attached Garage|                  1|\n",
      "|       Attached Garage, Driveway - Asphalt, Garage Door Opener|                  1|\n",
      "|                                               Attached Garage|                  1|\n",
      "|Attached Garage, Detached Garage, Tuckunder, Driveway - Gravel|                  1|\n",
      "|       Attached Garage, Driveway - Asphalt, Garage Door Opener|                  1|\n",
      "+--------------------------------------------------------------+-------------------+\n",
      "only showing top 5 rows\n",
      "\n"
     ]
    }
   ],
   "source": [
    "# Create boolean conditions for string matches\n",
    "has_attached_garage = df['GARAGEDESCRIPTION'].like('%Attached Garage%')\n",
    "has_detached_garage = df['GARAGEDESCRIPTION'].like('%Detached Garage%')\n",
    "# Conditional value assignment\n",
    "df = df.withColumn('has_attached_garage', (when(has_attached_garage, 1)\n",
    "                                           .when(has_detached_garage, 0)\n",
    "                                           .otherwise(None)))\n",
    "# Inspect results\n",
    "df[['GARAGEDESCRIPTION', 'has_attached_garage']].show(5, truncate=100)"
   ]
  },
  {
   "cell_type": "markdown",
   "id": "disabled-cathedral",
   "metadata": {},
   "source": [
    "### Cắt chuỗi(spliting) thành feature mới"
   ]
  },
  {
   "cell_type": "code",
   "execution_count": 16,
   "id": "retained-lending",
   "metadata": {},
   "outputs": [
    {
     "name": "stdout",
     "output_type": "stream",
     "text": [
      "+----------------------------------------------+----------------+\n",
      "|                                          ROOF|   Roof_Material|\n",
      "+----------------------------------------------+----------------+\n",
      "|                                          null|            null|\n",
      "|Asphalt Shingles, Pitched, Age 8 Years or Less|Asphalt Shingles|\n",
      "|                                          null|            null|\n",
      "|Asphalt Shingles, Pitched, Age 8 Years or Less|Asphalt Shingles|\n",
      "|            Asphalt Shingles, Age Over 8 Years|Asphalt Shingles|\n",
      "+----------------------------------------------+----------------+\n",
      "only showing top 5 rows\n",
      "\n"
     ]
    }
   ],
   "source": [
    "# Split the column on commas into a list\n",
    "split_col = split(df['ROOF'], ',')\n",
    "# Put the first value of the list into a new column\n",
    "df = df.withColumn('Roof_Material', split_col.getItem(0))\n",
    "# Inspect the values\n",
    "df[['ROOF', 'Roof_Material']].show(n=5, truncate=100)"
   ]
  },
  {
   "cell_type": "markdown",
   "id": "proprietary-clear",
   "metadata": {},
   "source": [
    "### Tạo nhiều thuộc tính mới (exploding) cho record"
   ]
  },
  {
   "cell_type": "code",
   "execution_count": 17,
   "id": "advised-transaction",
   "metadata": {},
   "outputs": [
    {
     "name": "stdout",
     "output_type": "stream",
     "text": [
      "+---+------------------------------------------------+\n",
      "| No|                                       roof_list|\n",
      "+---+------------------------------------------------+\n",
      "|  1|                                            null|\n",
      "|  2|[Asphalt Shingles, Pitched, Age 8 Years or Less]|\n",
      "|  3|                                            null|\n",
      "|  4|[Asphalt Shingles, Pitched, Age 8 Years or Less]|\n",
      "+---+------------------------------------------------+\n",
      "only showing top 4 rows\n",
      "\n"
     ]
    }
   ],
   "source": [
    "# Convert string to list-like array\n",
    "df = df.withColumn('roof_list', split(df['ROOF'], ', '))\n",
    "df[[\"No\", \"roof_list\"]].show(4, truncate=50)"
   ]
  },
  {
   "cell_type": "code",
   "execution_count": 18,
   "id": "alien-taiwan",
   "metadata": {},
   "outputs": [
    {
     "name": "stdout",
     "output_type": "stream",
     "text": [
      "+---+-------------------+\n",
      "| No|       ex_roof_list|\n",
      "+---+-------------------+\n",
      "|  2|   Asphalt Shingles|\n",
      "|  2|            Pitched|\n",
      "|  2|Age 8 Years or Less|\n",
      "|  4|   Asphalt Shingles|\n",
      "|  4|            Pitched|\n",
      "+---+-------------------+\n",
      "only showing top 5 rows\n",
      "\n"
     ]
    }
   ],
   "source": [
    "# Explode the values into new records\n",
    "roof_df = df.withColumn('ex_roof_list', explode(df['roof_list']))\n",
    "# Inspect the values\n",
    "roof_df[['No', 'ex_roof_list']].show(n=5, truncate=50)"
   ]
  },
  {
   "cell_type": "markdown",
   "id": "opposed-colonial",
   "metadata": {},
   "source": [
    "### Pivot"
   ]
  },
  {
   "cell_type": "code",
   "execution_count": 19,
   "id": "polyphonic-dinner",
   "metadata": {},
   "outputs": [
    {
     "name": "stdout",
     "output_type": "stream",
     "text": [
      "+---+-------------------+------------+\n",
      "| No|       ex_roof_list|constant_val|\n",
      "+---+-------------------+------------+\n",
      "|  2|   Asphalt Shingles|           1|\n",
      "|  2|            Pitched|           1|\n",
      "|  2|Age 8 Years or Less|           1|\n",
      "|  4|   Asphalt Shingles|           1|\n",
      "|  4|            Pitched|           1|\n",
      "+---+-------------------+------------+\n",
      "only showing top 5 rows\n",
      "\n"
     ]
    }
   ],
   "source": [
    "# Create a dummy column of constant value\n",
    "roof_df = roof_df.withColumn('constant_val', lit(1))\n",
    "roof_df[['No', 'ex_roof_list', 'constant_val']].show(5)"
   ]
  },
  {
   "cell_type": "code",
   "execution_count": 20,
   "id": "bizarre-distance",
   "metadata": {},
   "outputs": [
    {
     "name": "stdout",
     "output_type": "stream",
     "text": [
      "+---+-------------------+----------------+----------------+----+-----+-----+-------+------+------+-----+----------+----+-------------------+-------------+\n",
      "| No|Age 8 Years or Less|Age Over 8 Years|Asphalt Shingles|Flat|Metal|Other|Pitched|Rubber|Shakes|Slate|Tar/Gravel|Tile|Unspecified Shingle|Wood Shingles|\n",
      "+---+-------------------+----------------+----------------+----+-----+-----+-------+------+------+-----+----------+----+-------------------+-------------+\n",
      "|  2|                  1|            null|               1|null| null| null|      1|  null|  null| null|      null|null|               null|         null|\n",
      "|  4|                  1|            null|               1|null| null| null|      1|  null|  null| null|      null|null|               null|         null|\n",
      "|  5|               null|               1|               1|null| null| null|   null|  null|  null| null|      null|null|               null|         null|\n",
      "|  6|                  1|            null|               1|null| null| null|   null|  null|  null| null|      null|null|               null|         null|\n",
      "|  7|                  1|            null|               1|null| null| null|   null|  null|  null| null|      null|null|               null|         null|\n",
      "+---+-------------------+----------------+----------------+----+-----+-----+-------+------+------+-----+----------+----+-------------------+-------------+\n",
      "only showing top 5 rows\n",
      "\n"
     ]
    }
   ],
   "source": [
    "# Pivot the values into booleans columns\n",
    "roof_piv_df = roof_df.groupBy('No').pivot('ex_roof_list').agg(coalesce(first('constant_val')))\n",
    "roof_piv_df.orderBy('No').show(5)"
   ]
  },
  {
   "cell_type": "markdown",
   "id": "educated-premium",
   "metadata": {},
   "source": [
    "### Join"
   ]
  },
  {
   "cell_type": "code",
   "execution_count": 21,
   "id": "billion-forge",
   "metadata": {},
   "outputs": [],
   "source": [
    "# Join the dataframes together and fill null\n",
    "joined_data = df.join(roof_piv_df, on='No', how='left')\n",
    "# Columns to zero fill\n",
    "zfill_cols = roof_piv_df.columns\n",
    "# Zero fill the pivoted values\n",
    "zfilled_df = joined_data.fillna(0, subset=zfill_cols)"
   ]
  },
  {
   "cell_type": "markdown",
   "id": "desirable-chassis",
   "metadata": {},
   "source": [
    "### Binarizing"
   ]
  },
  {
   "cell_type": "code",
   "execution_count": 22,
   "id": "parental-government",
   "metadata": {},
   "outputs": [
    {
     "name": "stdout",
     "output_type": "stream",
     "text": [
      "+------------------+-----------+\n",
      "|         YARD_SIZE|YARD_SIZE_B|\n",
      "+------------------+-----------+\n",
      "|           54776.8|        1.0|\n",
      "|           12795.2|        1.0|\n",
      "|          34704.32|        1.0|\n",
      "|39987.399999999994|        1.0|\n",
      "|           -1026.0|        0.0|\n",
      "|           6340.32|        1.0|\n",
      "+------------------+-----------+\n",
      "only showing top 6 rows\n",
      "\n"
     ]
    }
   ],
   "source": [
    "# Cast the data type to double\n",
    "df = df.withColumn('YARD_SIZE', df['YARD_SIZE'].cast('double'))\n",
    "# Create binarizing transformer\n",
    "bin = Binarizer(threshold=500.0, inputCol='YARD_SIZE', outputCol='YARD_SIZE_B')\n",
    "# Apply the transformer\n",
    "df = bin.transform(df)\n",
    "# Inspect the results\n",
    "df[['YARD_SIZE', 'YARD_SIZE_B']].show(6)"
   ]
  },
  {
   "cell_type": "markdown",
   "id": "handled-employer",
   "metadata": {},
   "source": [
    "### Bucketing"
   ]
  },
  {
   "cell_type": "code",
   "execution_count": 23,
   "id": "significant-repair",
   "metadata": {},
   "outputs": [
    {
     "name": "stdout",
     "output_type": "stream",
     "text": [
      "+----------+-----+\n",
      "|BATHSTOTAL|baths|\n",
      "+----------+-----+\n",
      "|         2|  2.0|\n",
      "|         3|  3.0|\n",
      "|         1|  1.0|\n",
      "|         2|  2.0|\n",
      "|         2|  2.0|\n",
      "+----------+-----+\n",
      "only showing top 5 rows\n",
      "\n"
     ]
    }
   ],
   "source": [
    "# Define how to split data\n",
    "splits = [0, 1, 2, 3, 4, float('Inf')]\n",
    "# Create bucketing transformer\n",
    "buck = Bucketizer(splits=splits, inputCol='BATHSTOTAL', outputCol='baths')\n",
    "# Apply transformer\n",
    "df = buck.transform(df)\n",
    "# Inspect the results\n",
    "df[['BATHSTOTAL', 'baths']].show(5)"
   ]
  },
  {
   "cell_type": "code",
   "execution_count": 24,
   "id": "adjacent-intellectual",
   "metadata": {},
   "outputs": [
    {
     "name": "stderr",
     "output_type": "stream",
     "text": [
      "C:\\ProgramData\\Anaconda3\\lib\\site-packages\\seaborn\\distributions.py:2557: FutureWarning: `distplot` is a deprecated function and will be removed in a future version. Please adapt your code to use either `displot` (a figure-level function with similar flexibility) or `histplot` (an axes-level function for histograms).\n",
      "  warnings.warn(msg, FutureWarning)\n"
     ]
    },
    {
     "data": {
      "image/png": "[encoded data removed]",
      "text/plain": [
       "<Figure size 432x288 with 1 Axes>"
      ]
     },
     "metadata": {
      "needs_background": "light"
     },
     "output_type": "display_data"
    }
   ],
   "source": [
    "sns.distplot(df[['BATHSTOTAL']].toPandas())\n",
    "plt.show()"
   ]
  },
  {
   "cell_type": "code",
   "execution_count": 25,
   "id": "dependent-wealth",
   "metadata": {},
   "outputs": [
    {
     "name": "stderr",
     "output_type": "stream",
     "text": [
      "C:\\ProgramData\\Anaconda3\\lib\\site-packages\\seaborn\\distributions.py:2557: FutureWarning: `distplot` is a deprecated function and will be removed in a future version. Please adapt your code to use either `displot` (a figure-level function with similar flexibility) or `histplot` (an axes-level function for histograms).\n",
      "  warnings.warn(msg, FutureWarning)\n"
     ]
    },
    {
     "data": {
      "image/png": "[encoded data removed]",
      "text/plain": [
       "<Figure size 432x288 with 1 Axes>"
      ]
     },
     "metadata": {
      "needs_background": "light"
     },
     "output_type": "display_data"
    }
   ],
   "source": [
    "sns.distplot(df[['baths']].toPandas())\n",
    "plt.show()"
   ]
  },
  {
   "cell_type": "markdown",
   "id": "split-hypothesis",
   "metadata": {},
   "source": [
    "### OneHotEncoding"
   ]
  },
  {
   "cell_type": "code",
   "execution_count": 26,
   "id": "japanese-express",
   "metadata": {},
   "outputs": [],
   "source": [
    "# Create indexer transformer\n",
    "stringIndexer = StringIndexer(inputCol='City', outputCol='City_Index')"
   ]
  },
  {
   "cell_type": "code",
   "execution_count": 27,
   "id": "abroad-pacific",
   "metadata": {},
   "outputs": [],
   "source": [
    "# Fit transformer\n",
    "model = stringIndexer.fit(df)\n",
    "# Apply transformer\n",
    "indexed = model.transform(df)"
   ]
  },
  {
   "cell_type": "code",
   "execution_count": null,
   "id": "coated-technical",
   "metadata": {},
   "outputs": [],
   "source": [
    "indexed[['City', 'City_Index']].show(5)"
   ]
  }
 ],
 "metadata": {
  "kernelspec": {
   "display_name": "Python 3",
   "language": "python",
   "name": "python3"
  },
  "language_info": {
   "codemirror_mode": {
    "name": "ipython",
    "version": 3
   },
   "file_extension": ".py",
   "mimetype": "text/x-python",
   "name": "python",
   "nbconvert_exporter": "python",
   "pygments_lexer": "ipython3",
   "version": "3.8.3"
  }
 },
 "nbformat": 4,
 "nbformat_minor": 5
}
