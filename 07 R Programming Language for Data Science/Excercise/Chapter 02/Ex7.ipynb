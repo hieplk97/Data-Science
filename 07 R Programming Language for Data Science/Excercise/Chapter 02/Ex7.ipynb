{
 "cells": [
  {
   "cell_type": "code",
   "execution_count": 1,
   "metadata": {},
   "outputs": [
    {
     "name": "stdin",
     "output_type": "stream",
     "text": [
      "Input date: dd-mm-YYYY 09-01-2020\n"
     ]
    }
   ],
   "source": [
    "date_str = readline(prompt = \"Input date: dd-mm-YYYY\")\n",
    "date_1 = as.Date(date_str, format(\"%d-%m-%y\"))"
   ]
  },
  {
   "cell_type": "code",
   "execution_count": 3,
   "metadata": {},
   "outputs": [
    {
     "name": "stdout",
     "output_type": "stream",
     "text": [
      "[1] \"2020-01-09  is  Thư\\354 Năm\"\n",
      "[1] \"7 contining days:  2020-01-09, 2020-01-10, 2020-01-11, 2020-01-12, 2020-01-13, 2020-01-14, 2020-01-15\"\n"
     ]
    }
   ],
   "source": [
    "if (is.na(date_1)){\n",
    "    print(paste(date_str, \"Can not create a date\"))\n",
    "} else {\n",
    "    print(paste(date_1, \" is \", weekdays.Date(date_1)))\n",
    "    seven_days = seq(date_1, length = 7, by = 1)\n",
    "    print(paste(\"7 contining days: \", toString(seven_days)))\n",
    "}"
   ]
  },
  {
   "cell_type": "code",
   "execution_count": null,
   "metadata": {},
   "outputs": [],
   "source": []
  }
 ],
 "metadata": {
  "kernelspec": {
   "display_name": "R",
   "language": "R",
   "name": "ir"
  },
  "language_info": {
   "codemirror_mode": "r",
   "file_extension": ".r",
   "mimetype": "text/x-r-source",
   "name": "R",
   "pygments_lexer": "r",
   "version": "4.0.3"
  }
 },
 "nbformat": 4,
 "nbformat_minor": 4
}
