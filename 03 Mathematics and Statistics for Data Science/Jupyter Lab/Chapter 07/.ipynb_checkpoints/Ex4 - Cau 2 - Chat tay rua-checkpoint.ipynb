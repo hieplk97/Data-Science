{
 "cells": [
  {
   "cell_type": "raw",
   "metadata": {},
   "source": [
    "\"\"\"============================================================================\n",
    "   1. Cho tập tin data.xlsx. Đọc dữ liệu\n",
    "   2. Dữ liệu có 2 factors: Detergent (super, best), Temperature (hot, warm, cold).\n",
    "   3. Sử dụng ANOVA hai chiều, đánh giá chất tẩy rửa và nhiệt độ ảnh hưởng \n",
    "      như thế nào đối với chất bẩn bị loại bỏ.\n",
    "      a) Ảnh hưởng của chất tẩy rửa đến lượng chất bẩn bị loại bỏ \n",
    "      b) Ảnh hưởng của nhiệt độ đến lượng chất bẩn bị loại bỏ \n",
    "      c) Ảnh hưởng của chất tẩy rửa và nhiệt độ đến lượng chất bẩn bị loại bỏ\n",
    "      H0D: Lượng chất bẩn bị loại bỏ không phụ thuộc vào loại chất tẩy rửa.\n",
    "      H0T: Lượng chất bẩn bị loại bỏ không phụ thuộc vào nhiệt độ.\n",
    "============================================================================\"\"\""
   ]
  },
  {
   "cell_type": "code",
   "execution_count": 1,
   "metadata": {},
   "outputs": [],
   "source": [
    "import pandas as pd\n",
    "import matplotlib.pyplot as plt\n",
    "import scipy.stats as stats\n",
    "import seaborn as sns\n",
    "import statsmodels.api as sm\n",
    "\n",
    "from statsmodels.formula.api import ols\n",
    "from statsmodels.stats.multicomp import pairwise_tukeyhsd"
   ]
  },
  {
   "cell_type": "code",
   "execution_count": 4,
   "metadata": {},
   "outputs": [
    {
     "name": "stdout",
     "output_type": "stream",
     "text": [
      "    type  cold  warm  hot\n",
      "0  super     4     7   10\n",
      "1  super     5     9   12\n",
      "2  super     6     8   11\n",
      "3  super     5    12    9\n",
      "4   best     6    13   12\n",
      "5   best     6    15   13\n",
      "6   best     4    12   10\n",
      "7   best     4    12   13\n"
     ]
    }
   ],
   "source": [
    "# 1. Load data file\n",
    "LDS3folder = 'E:\\Data Science\\Mathematics and Statistics for Data Science\\Excercise'\n",
    "folder = LDS3folder + '/Data/B7/'\n",
    "data       = pd.read_excel(folder + 'data.xlsx')\n",
    "print(data)"
   ]
  },
  {
   "cell_type": "code",
   "execution_count": 5,
   "metadata": {},
   "outputs": [
    {
     "data": {
      "text/html": [
       "<div>\n",
       "<style scoped>\n",
       "    .dataframe tbody tr th:only-of-type {\n",
       "        vertical-align: middle;\n",
       "    }\n",
       "\n",
       "    .dataframe tbody tr th {\n",
       "        vertical-align: top;\n",
       "    }\n",
       "\n",
       "    .dataframe thead th {\n",
       "        text-align: right;\n",
       "    }\n",
       "</style>\n",
       "<table border=\"1\" class=\"dataframe\">\n",
       "  <thead>\n",
       "    <tr style=\"text-align: right;\">\n",
       "      <th></th>\n",
       "      <th>type</th>\n",
       "      <th>temperature</th>\n",
       "      <th>value</th>\n",
       "    </tr>\n",
       "  </thead>\n",
       "  <tbody>\n",
       "    <tr>\n",
       "      <th>0</th>\n",
       "      <td>super</td>\n",
       "      <td>cold</td>\n",
       "      <td>4</td>\n",
       "    </tr>\n",
       "    <tr>\n",
       "      <th>1</th>\n",
       "      <td>super</td>\n",
       "      <td>cold</td>\n",
       "      <td>5</td>\n",
       "    </tr>\n",
       "    <tr>\n",
       "      <th>2</th>\n",
       "      <td>super</td>\n",
       "      <td>cold</td>\n",
       "      <td>6</td>\n",
       "    </tr>\n",
       "    <tr>\n",
       "      <th>3</th>\n",
       "      <td>super</td>\n",
       "      <td>cold</td>\n",
       "      <td>5</td>\n",
       "    </tr>\n",
       "    <tr>\n",
       "      <th>4</th>\n",
       "      <td>best</td>\n",
       "      <td>cold</td>\n",
       "      <td>6</td>\n",
       "    </tr>\n",
       "  </tbody>\n",
       "</table>\n",
       "</div>"
      ],
      "text/plain": [
       "    type temperature  value\n",
       "0  super        cold      4\n",
       "1  super        cold      5\n",
       "2  super        cold      6\n",
       "3  super        cold      5\n",
       "4   best        cold      6"
      ]
     },
     "execution_count": 5,
     "metadata": {},
     "output_type": "execute_result"
    }
   ],
   "source": [
    "# reshape the d dataframe suitable for statsmodels package\n",
    "# you do not need to reshape if your data is already in stacked format.\n",
    "# Compare d and d_melt tables for detail understanding\n",
    "d_melt = pd.melt(data, id_vars = ['type'], value_vars = ['cold', 'warm', 'hot'])\n",
    "# replace column names\n",
    "d_melt.columns = ['type', 'temperature', 'value']\n",
    "d_melt.head()"
   ]
  },
  {
   "cell_type": "code",
   "execution_count": 3,
   "metadata": {},
   "outputs": [
    {
     "data": {
      "image/png": "[encoded data removed]",
      "text/plain": [
       "<Figure size 864x720 with 1 Axes>"
      ]
     },
     "metadata": {
      "needs_background": "light"
     },
     "output_type": "display_data"
    }
   ],
   "source": [
    "# 2. Vẽ boxplot, quan sát kết quả.\n",
    "plt.figure(figsize = (12,10))\n",
    "sns.boxplot(x = \"type\", y = \"value\", hue = \"temperature\", data = d_melt, palette = \"Set3\")\n",
    "plt.show()"
   ]
  },
  {
   "cell_type": "code",
   "execution_count": 6,
   "metadata": {},
   "outputs": [
    {
     "name": "stdout",
     "output_type": "stream",
     "text": [
      "                            sum_sq    df          F        PR(>F)\n",
      "C(type)                  20.166667   1.0   9.810811  5.758440e-03\n",
      "C(temperature)          200.333333   2.0  48.729730  5.439849e-08\n",
      "C(type):C(temperature)   16.333333   2.0   3.972973  3.722434e-02\n",
      "Residual                 37.000000  18.0        NaN           NaN\n"
     ]
    }
   ],
   "source": [
    "# 3. Áp dụng ANOVA\n",
    "model = ols('value ~ C(type) + C(temperature) + C(type):C(temperature)', data=d_melt).fit()\n",
    "anova_table = sm.stats.anova_lm(model, typ=2)\n",
    "print(anova_table)"
   ]
  },
  {
   "cell_type": "code",
   "execution_count": 7,
   "metadata": {},
   "outputs": [
    {
     "name": "stdout",
     "output_type": "stream",
     "text": [
      "Multiple Comparison of Means - Tukey HSD, FWER=0.05\n",
      "===================================================\n",
      "group1 group2 meandiff p-adj   lower  upper  reject\n",
      "---------------------------------------------------\n",
      "  best  super  -1.8333 0.1996 -4.7083 1.0416  False\n",
      "---------------------------------------------------\n"
     ]
    }
   ],
   "source": [
    "# Sự khác biệt về chất tẩy rửa và nhiệt độ có ý nghĩa thống kê,\n",
    "# nhưng ANOVA không cho biết chất tẩy rửa và nhiệt độ khác nhau đáng kể với nhau. \n",
    "# Để biết các cặp chất tẩy rửa và nhiệt độ khác nhau đáng kể, \n",
    "# thực hiện nhiều phân tích so sánh cặp bằng cách sử dụng Tukey HSD test.\n",
    "\n",
    "# perform multiple pairwise comparison (Tukey HSD)\n",
    "m_comp = pairwise_tukeyhsd(endog=d_melt['value'], groups=d_melt['type'], alpha=0.05)\n",
    "print(m_comp)"
   ]
  },
  {
   "cell_type": "code",
   "execution_count": 8,
   "metadata": {},
   "outputs": [
    {
     "name": "stdout",
     "output_type": "stream",
     "text": [
      "2.015151515151515 0.15827359485276266\n"
     ]
    }
   ],
   "source": [
    "# ngoại trừ X_cars và M_cars, tất cả các so sánh cặp khác đều bác bỏ H0\n",
    "# và chỉ ra sự khác biệt đáng kể về mặt thống kê.\n",
    "\n",
    "# Kiểm định Levene: phương sai bằng nhau ?\n",
    "w, pvalue = stats.levene(data['hot'], data['warm'], data['cold'])\n",
    "print(w, pvalue)\n",
    "# p-value > 0.05 => không bác bỏ H0: các mẫu từ các quần thể có phương sai bằng nhau."
   ]
  },
  {
   "cell_type": "code",
   "execution_count": 9,
   "metadata": {},
   "outputs": [
    {
     "name": "stdout",
     "output_type": "stream",
     "text": [
      "type: best Multiple Comparison of Means - Tukey HSD, FWER=0.05 \n",
      "====================================================\n",
      "group1 group2 meandiff p-adj   lower   upper  reject\n",
      "----------------------------------------------------\n",
      "  cold    hot      7.0  0.001  4.3699  9.6301   True\n",
      "  cold   warm      8.0  0.001  5.3699 10.6301   True\n",
      "   hot   warm      1.0 0.5595 -1.6301  3.6301  False\n",
      "----------------------------------------------------\n",
      "type: super Multiple Comparison of Means - Tukey HSD, FWER=0.05\n",
      "===================================================\n",
      "group1 group2 meandiff p-adj   lower  upper  reject\n",
      "---------------------------------------------------\n",
      "  cold    hot      5.5 0.0017  2.4868 8.5132   True\n",
      "  cold   warm      4.0 0.0122  0.9868 7.0132   True\n",
      "   hot   warm     -1.5 0.3871 -4.5132 1.5132  False\n",
      "---------------------------------------------------\n"
     ]
    }
   ],
   "source": [
    "for name, grouped_df in d_melt.groupby('type'):\n",
    "    print('type: {}'.format(name), pairwise_tukeyhsd(grouped_df['value'],\n",
    "                                                     grouped_df['temperature'],\n",
    "                                                     alpha=0.05))"
   ]
  },
  {
   "cell_type": "code",
   "execution_count": null,
   "metadata": {},
   "outputs": [],
   "source": []
  }
 ],
 "metadata": {
  "kernelspec": {
   "display_name": "Python 3",
   "language": "python",
   "name": "python3"
  },
  "language_info": {
   "codemirror_mode": {
    "name": "ipython",
    "version": 3
   },
   "file_extension": ".py",
   "mimetype": "text/x-python",
   "name": "python",
   "nbconvert_exporter": "python",
   "pygments_lexer": "ipython3",
   "version": "3.8.5"
  }
 },
 "nbformat": 4,
 "nbformat_minor": 4
}
