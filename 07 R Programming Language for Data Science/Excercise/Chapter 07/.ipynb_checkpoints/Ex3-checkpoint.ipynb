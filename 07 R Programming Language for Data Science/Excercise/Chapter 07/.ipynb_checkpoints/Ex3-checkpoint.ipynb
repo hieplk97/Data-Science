{
 "cells": [
  {
   "cell_type": "code",
   "execution_count": 1,
   "metadata": {},
   "outputs": [
    {
     "name": "stdin",
     "output_type": "stream",
     "text": [
      "Please input n:  4\n"
     ]
    }
   ],
   "source": [
    "n = as.integer(readline(prompt = \"Please input n: \"))"
   ]
  },
  {
   "cell_type": "code",
   "execution_count": 2,
   "metadata": {},
   "outputs": [
    {
     "name": "stdout",
     "output_type": "stream",
     "text": [
      "[1] \"A1\"\n",
      "          [,1]      [,2]      [,3]      [,4]\n",
      "[1,] 14.279355 11.692947  8.488736 11.442764\n",
      "[2,]  8.848219 14.925103  5.213358 11.877076\n",
      "[3,]  3.067931 11.970610  9.785971  7.685790\n",
      "[4,]  9.712925  1.591398 13.413664  3.150719\n"
     ]
    }
   ],
   "source": [
    "A1 = matrix(runif(n*n, min=1, max=n*n), n, n)\n",
    "print(\"A1\")\n",
    "print(A1)"
   ]
  },
  {
   "cell_type": "code",
   "execution_count": 3,
   "metadata": {},
   "outputs": [
    {
     "name": "stdin",
     "output_type": "stream",
     "text": [
      "Please input m:  3\n"
     ]
    }
   ],
   "source": [
    "m = as.integer(readline(prompt = \"Please input m: \"))"
   ]
  },
  {
   "cell_type": "code",
   "execution_count": 4,
   "metadata": {},
   "outputs": [
    {
     "name": "stdout",
     "output_type": "stream",
     "text": [
      "[1] \"A2\"\n",
      "          [,1]      [,2]     [,3]\n",
      "[1,] 11.336870  8.459049 5.381247\n",
      "[2,]  4.552499  6.054856 6.250559\n",
      "[3,]  9.497868  4.894415 2.475058\n",
      "[4,]  2.809540 11.519890 2.570263\n"
     ]
    }
   ],
   "source": [
    "A2 = matrix(runif(n*m, min=1, max=n*m), n, m)\n",
    "print(\"A2\")\n",
    "print(A2)"
   ]
  },
  {
   "cell_type": "code",
   "execution_count": 5,
   "metadata": {},
   "outputs": [
    {
     "name": "stdout",
     "output_type": "stream",
     "text": [
      "[1] \"Matrix M\"\n",
      "           [,1]       [,2]        [,3]\n",
      "[1,] -164.59562   44.96922   34.948862\n",
      "[2,] -301.57018   81.62247   63.796213\n",
      "[3,]   41.55016  -10.64300   -8.764911\n",
      "[4,]  483.72856 -130.88918 -101.831048\n"
     ]
    }
   ],
   "source": [
    "# A1 * M = A2\n",
    "M = solve(A1, A2)\n",
    "print(\"Matrix M\")\n",
    "print(M)"
   ]
  },
  {
   "cell_type": "code",
   "execution_count": 6,
   "metadata": {},
   "outputs": [
    {
     "name": "stdout",
     "output_type": "stream",
     "text": [
      "[1] \"Row 1\"\n",
      "[1] -164.59562   44.96922   34.94886\n"
     ]
    }
   ],
   "source": [
    "print(\"Row 1\")\n",
    "print(M[1,])"
   ]
  },
  {
   "cell_type": "code",
   "execution_count": 7,
   "metadata": {},
   "outputs": [
    {
     "name": "stdout",
     "output_type": "stream",
     "text": [
      "[1] \"Column 1\"\n",
      "[1] -164.59562 -301.57018   41.55016  483.72856\n"
     ]
    }
   ],
   "source": [
    "print(\"Column 1\")\n",
    "print(M[,1])"
   ]
  },
  {
   "cell_type": "code",
   "execution_count": 8,
   "metadata": {},
   "outputs": [
    {
     "name": "stdout",
     "output_type": "stream",
     "text": [
      "[1] \"M[3][2]\"\n",
      "[1] NA\n"
     ]
    }
   ],
   "source": [
    "if (n >= 3 && m >=2){\n",
    "    print(\"M[3][2]\")\n",
    "    print(M[3][2])\n",
    "}"
   ]
  }
 ],
 "metadata": {
  "kernelspec": {
   "display_name": "R",
   "language": "R",
   "name": "ir"
  },
  "language_info": {
   "codemirror_mode": "r",
   "file_extension": ".r",
   "mimetype": "text/x-r-source",
   "name": "R",
   "pygments_lexer": "r",
   "version": "4.0.3"
  }
 },
 "nbformat": 4,
 "nbformat_minor": 4
}
