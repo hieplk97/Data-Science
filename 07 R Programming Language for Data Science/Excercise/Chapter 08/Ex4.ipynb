{
 "cells": [
  {
   "cell_type": "code",
   "execution_count": 1,
   "metadata": {},
   "outputs": [
    {
     "name": "stdout",
     "output_type": "stream",
     "text": [
      "[1] \"Data frame:\"\n",
      "           state.abb state.area     state.division state.region\n",
      "Alabama           AL      51609 East South Central        South\n",
      "Alaska            AK     589757            Pacific         West\n",
      "Arizona           AZ     113909           Mountain         West\n",
      "Arkansas          AR      53104 West South Central        South\n",
      "California        CA     158693            Pacific         West\n",
      "Colorado          CO     104247           Mountain         West\n"
     ]
    }
   ],
   "source": [
    "df = data.frame(state.abb, state.area, state.division, state.region, row.names = state.name)\n",
    "print(\"Data frame:\")\n",
    "print(head(df))"
   ]
  },
  {
   "cell_type": "code",
   "execution_count": 2,
   "metadata": {},
   "outputs": [
    {
     "name": "stdout",
     "output_type": "stream",
     "text": [
      "[1] \"After rename:\"\n",
      "           abb    are                div   reg\n",
      "Alabama     AL  51609 East South Central South\n",
      "Alaska      AK 589757            Pacific  West\n",
      "Arizona     AZ 113909           Mountain  West\n",
      "Arkansas    AR  53104 West South Central South\n",
      "California  CA 158693            Pacific  West\n",
      "Colorado    CO 104247           Mountain  West\n"
     ]
    }
   ],
   "source": [
    "colnames(df) = substr(colnames(df), 7, 9)\n",
    "print(\"After rename:\")\n",
    "print(head(df))"
   ]
  },
  {
   "cell_type": "code",
   "execution_count": 3,
   "metadata": {},
   "outputs": [
    {
     "name": "stdout",
     "output_type": "stream",
     "text": [
      "[1] \"New data frame:\"\n",
      "           Population Income Illiteracy Life Exp Murder HS Grad Frost   Area\n",
      "Alabama          3615   3624        2.1    69.05   15.1    41.3    20  50708\n",
      "Alaska            365   6315        1.5    69.31   11.3    66.7   152 566432\n",
      "Arizona          2212   4530        1.8    70.55    7.8    58.1    15 113417\n",
      "Arkansas         2110   3378        1.9    70.66   10.1    39.9    65  51945\n",
      "California      21198   5114        1.1    71.71   10.3    62.6    20 156361\n",
      "Colorado         2541   4884        0.7    72.06    6.8    63.9   166 103766\n",
      "           abb    are                div   reg\n",
      "Alabama     AL  51609 East South Central South\n",
      "Alaska      AK 589757            Pacific  West\n",
      "Arizona     AZ 113909           Mountain  West\n",
      "Arkansas    AR  53104 West South Central South\n",
      "California  CA 158693            Pacific  West\n",
      "Colorado    CO 104247           Mountain  West\n"
     ]
    }
   ],
   "source": [
    "df_new = cbind(state.x77, df)\n",
    "print(\"New data frame:\")\n",
    "print(head(df_new))"
   ]
  },
  {
   "cell_type": "code",
   "execution_count": 4,
   "metadata": {},
   "outputs": [
    {
     "name": "stdout",
     "output_type": "stream",
     "text": [
      "[1] \"After drop Life Exp, HS Grad, Frost. abb and are:\"\n",
      "           Population Income Illiteracy Murder   Area   reg\n",
      "Alabama          3615   3624        2.1   15.1  50708 South\n",
      "Alaska            365   6315        1.5   11.3 566432  West\n",
      "Arizona          2212   4530        1.8    7.8 113417  West\n",
      "Arkansas         2110   3378        1.9   10.1  51945 South\n",
      "California      21198   5114        1.1   10.3 156361  West\n",
      "Colorado         2541   4884        0.7    6.8 103766  West\n"
     ]
    }
   ],
   "source": [
    "df_new$div = NULL\n",
    "df_new = subset(df_new, select = -c(4, 6, 7, 9, 10))\n",
    "\n",
    "print(\"After drop Life Exp, HS Grad, Frost. abb and are:\")\n",
    "print(head(df_new))"
   ]
  },
  {
   "cell_type": "code",
   "execution_count": 5,
   "metadata": {},
   "outputs": [
    {
     "name": "stdout",
     "output_type": "stream",
     "text": [
      "[1] \"After insert Illiteracy.levels\"\n",
      "           Population Income Illiteracy Murder   Area   reg Illiteracy.levels\n",
      "Alabama          3615   3624        2.1   15.1  50708 South              High\n",
      "Alaska            365   6315        1.5   11.3 566432  West              Some\n",
      "Arizona          2212   4530        1.8    7.8 113417  West              Some\n",
      "Arkansas         2110   3378        1.9   10.1  51945 South              Some\n",
      "California      21198   5114        1.1   10.3 156361  West              Some\n",
      "Colorado         2541   4884        0.7    6.8 103766  West               Low\n"
     ]
    }
   ],
   "source": [
    "df_new$Illiteracy.levels = ifelse(df_new$Illiteracy >= 0 & df_new$Illiteracy < 1, \"Low\",\n",
    "                                  ifelse(df_new$Illiteracy >= 1 & df_new$Illiteracy < 2, \"Some\", \"High\") )\n",
    "print(\"After insert Illiteracy.levels\")\n",
    "print(head(df_new))"
   ]
  },
  {
   "cell_type": "code",
   "execution_count": 6,
   "metadata": {},
   "outputs": [
    {
     "name": "stdout",
     "output_type": "stream",
     "text": [
      "[1] \"Number of regions: 4 . There are: Northeast, South, North Central, West\"\n"
     ]
    }
   ],
   "source": [
    "print(paste(\"Number of regions:\", nlevels(df_new$reg), \". There are:\", toString(levels(df_new$reg))))"
   ]
  },
  {
   "cell_type": "code",
   "execution_count": null,
   "metadata": {},
   "outputs": [],
   "source": []
  }
 ],
 "metadata": {
  "kernelspec": {
   "display_name": "R",
   "language": "R",
   "name": "ir"
  },
  "language_info": {
   "codemirror_mode": "r",
   "file_extension": ".r",
   "mimetype": "text/x-r-source",
   "name": "R",
   "pygments_lexer": "r",
   "version": "4.0.3"
  }
 },
 "nbformat": 4,
 "nbformat_minor": 4
}
