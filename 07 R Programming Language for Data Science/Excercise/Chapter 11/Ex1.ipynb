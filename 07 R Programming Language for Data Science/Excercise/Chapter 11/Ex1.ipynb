{
 "cells": [
  {
   "cell_type": "code",
   "execution_count": 1,
   "metadata": {},
   "outputs": [],
   "source": [
    "library(MASS)"
   ]
  },
  {
   "cell_type": "code",
   "execution_count": 3,
   "metadata": {},
   "outputs": [
    {
     "name": "stdout",
     "output_type": "stream",
     "text": [
      "[1] \"Data type: data.frame\"\n",
      "[1] \"Nrows: 54 , Ncols:  5\"\n"
     ]
    }
   ],
   "source": [
    "print(paste(\"Data type:\", class(painters)))\n",
    "print(paste(\"Nrows:\", nrow(painters), \", Ncols: \", ncol(painters)))"
   ]
  },
  {
   "cell_type": "code",
   "execution_count": 5,
   "metadata": {},
   "outputs": [
    {
     "name": "stdout",
     "output_type": "stream",
     "text": [
      "[1] \"School type: factor\"\n",
      "[1] \"School:\"\n",
      " [1] A A A A A A A A A A B B B B B B C C C C C C D D D D D D D D D D E E E E E E\n",
      "[39] E F F F F G G G G G G G H H H H\n",
      "Levels: A B C D E F G H\n"
     ]
    }
   ],
   "source": [
    "school = painters$School\n",
    "print(paste(\"School type:\", class(school)))\n",
    "print(\"School:\")\n",
    "print(school)"
   ]
  },
  {
   "cell_type": "code",
   "execution_count": 6,
   "metadata": {},
   "outputs": [
    {
     "name": "stdout",
     "output_type": "stream",
     "text": [
      "[1] \"School table:\"\n",
      "school\n",
      " A  B  C  D  E  F  G  H \n",
      "10  6  6 10  7  4  7  4 \n"
     ]
    }
   ],
   "source": [
    "# factor -> table\n",
    "school.freq = table(school)\n",
    "print(\"School table:\")\n",
    "print(school.freq)"
   ]
  },
  {
   "cell_type": "code",
   "execution_count": 7,
   "metadata": {},
   "outputs": [
    {
     "data": {
      "image/png": "[encoded data removed]",
      "text/plain": [
       "plot without title"
      ]
     },
     "metadata": {
      "image/png": {
       "height": 420,
       "width": 420
      }
     },
     "output_type": "display_data"
    }
   ],
   "source": [
    "pie(school.freq)"
   ]
  }
 ],
 "metadata": {
  "kernelspec": {
   "display_name": "R",
   "language": "R",
   "name": "ir"
  },
  "language_info": {
   "codemirror_mode": "r",
   "file_extension": ".r",
   "mimetype": "text/x-r-source",
   "name": "R",
   "pygments_lexer": "r",
   "version": "4.0.3"
  }
 },
 "nbformat": 4,
 "nbformat_minor": 4
}
