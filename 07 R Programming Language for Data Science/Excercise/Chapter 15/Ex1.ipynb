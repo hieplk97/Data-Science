{
 "cells": [
  {
   "cell_type": "code",
   "execution_count": 1,
   "metadata": {},
   "outputs": [
    {
     "name": "stdout",
     "output_type": "stream",
     "text": [
      "[1] 0.2964755\n"
     ]
    }
   ],
   "source": [
    "# Probability of 2 of them buying a t-shirt P(X = 2)\n",
    "p1 = dbinom(2, size = 8, prob = 0.3)\n",
    "print(p1)"
   ]
  },
  {
   "cell_type": "code",
   "execution_count": 2,
   "metadata": {},
   "outputs": [
    {
     "name": "stdout",
     "output_type": "stream",
     "text": [
      "[1] 0.00122472\n"
     ]
    }
   ],
   "source": [
    "# Probability of 7 of them buying a t-shirt P(X = 7)\n",
    "p2 = dbinom(7, size = 8, prob = 0.3)\n",
    "print(p2)"
   ]
  },
  {
   "cell_type": "code",
   "execution_count": 4,
   "metadata": {},
   "outputs": [
    {
     "name": "stdout",
     "output_type": "stream",
     "text": [
      "[1] 0.7447017\n"
     ]
    }
   ],
   "source": [
    "# Probability that at least 2 of the customer buy a t-shirt\n",
    "p3 = pbinom(1, size = 8, prob = 0.3, lower.tail = FALSE)\n",
    "print(p3)"
   ]
  },
  {
   "cell_type": "code",
   "execution_count": null,
   "metadata": {},
   "outputs": [],
   "source": []
  }
 ],
 "metadata": {
  "kernelspec": {
   "display_name": "R",
   "language": "R",
   "name": "ir"
  },
  "language_info": {
   "codemirror_mode": "r",
   "file_extension": ".r",
   "mimetype": "text/x-r-source",
   "name": "R",
   "pygments_lexer": "r",
   "version": "4.0.3"
  }
 },
 "nbformat": 4,
 "nbformat_minor": 4
}
