{
 "cells": [
  {
   "cell_type": "code",
   "execution_count": 1,
   "id": "innocent-eugene",
   "metadata": {},
   "outputs": [],
   "source": [
    "import findspark\n",
    "findspark.init()"
   ]
  },
  {
   "cell_type": "code",
   "execution_count": 2,
   "id": "unusual-software",
   "metadata": {},
   "outputs": [],
   "source": [
    "import pyspark\n",
    "import matplotlib.pyplot as plt\n",
    "import pandas as pd\n",
    "import seaborn as sns"
   ]
  },
  {
   "cell_type": "code",
   "execution_count": 3,
   "id": "desirable-thailand",
   "metadata": {},
   "outputs": [],
   "source": [
    "from pyspark import SparkContext\n",
    "from pyspark.conf import SparkConf\n",
    "from pyspark.sql import SparkSession"
   ]
  },
  {
   "cell_type": "code",
   "execution_count": 4,
   "id": "labeled-content",
   "metadata": {},
   "outputs": [],
   "source": [
    "spark = SparkSession.builder.appName('recommender_demo').getOrCreate()"
   ]
  },
  {
   "cell_type": "markdown",
   "id": "critical-ghana",
   "metadata": {},
   "source": [
    "### Đọc dữ liệu"
   ]
  },
  {
   "cell_type": "code",
   "execution_count": 5,
   "id": "framed-disability",
   "metadata": {},
   "outputs": [],
   "source": [
    "data = spark.read.csv('../../Data/movielens_ratings.csv', inferSchema=True, header=True)"
   ]
  },
  {
   "cell_type": "code",
   "execution_count": 6,
   "id": "environmental-interim",
   "metadata": {},
   "outputs": [
    {
     "name": "stdout",
     "output_type": "stream",
     "text": [
      "+-------+------+------+\n",
      "|movieId|rating|userId|\n",
      "+-------+------+------+\n",
      "|2      |3.0   |0     |\n",
      "|3      |1.0   |0     |\n",
      "|5      |2.0   |0     |\n",
      "|9      |4.0   |0     |\n",
      "|11     |1.0   |0     |\n",
      "+-------+------+------+\n",
      "only showing top 5 rows\n",
      "\n"
     ]
    }
   ],
   "source": [
    "data.show(5, False)"
   ]
  },
  {
   "cell_type": "code",
   "execution_count": 7,
   "id": "dental-healing",
   "metadata": {},
   "outputs": [],
   "source": [
    "# Distinct users and movies\n",
    "users = data.select(\"userId\").distinct().count()\n",
    "movies = data.select(\"movieId\").distinct().count()\n",
    "numerator = data.count()"
   ]
  },
  {
   "cell_type": "code",
   "execution_count": 8,
   "id": "empty-membership",
   "metadata": {},
   "outputs": [
    {
     "data": {
      "text/plain": [
       "30"
      ]
     },
     "metadata": {},
     "output_type": "display_data"
    },
    {
     "data": {
      "text/plain": [
       "100"
      ]
     },
     "metadata": {},
     "output_type": "display_data"
    },
    {
     "data": {
      "text/plain": [
       "1501"
      ]
     },
     "metadata": {},
     "output_type": "display_data"
    }
   ],
   "source": [
    "display(users, movies, numerator)"
   ]
  },
  {
   "cell_type": "markdown",
   "id": "bacterial-beads",
   "metadata": {},
   "source": [
    "### Chuẩn hóa dữ liệu, chuyển đổi dữ liệu (nếu cần)\n",
    "### Chia sẻ dữ liệu train-test"
   ]
  },
  {
   "cell_type": "code",
   "execution_count": 9,
   "id": "productive-morocco",
   "metadata": {},
   "outputs": [],
   "source": [
    "# Smaller dataset so we will use 0.8/0.2\n",
    "(training, test) = data.randomSplit([0.8, 0.2])"
   ]
  },
  {
   "cell_type": "markdown",
   "id": "gross-silver",
   "metadata": {},
   "source": [
    "### Xây dựng model"
   ]
  },
  {
   "cell_type": "code",
   "execution_count": 10,
   "id": "sound-annotation",
   "metadata": {},
   "outputs": [],
   "source": [
    "from pyspark.ml.evaluation import RegressionEvaluator\n",
    "from pyspark.ml.recommendation import ALS"
   ]
  },
  {
   "cell_type": "markdown",
   "id": "muslim-arbitration",
   "metadata": {},
   "source": [
    "* maxIter is the maximum number of iterations to run (defaults to 10).\n",
    "* regParam specifies the regularization parameter in ALS (defaults to 1.0).\n",
    "* rank is the number of latent factors in the model (defaults to 10).\n",
    "* numBlocks is the number of blocks the users and ittems will be partitioned into in order to parallelize computation (defaults to 10).\n",
    "* implicitPrefs specifies whether to use the explicit feedback ALS variant or one adapted for implicit feedback data (defaults to false which means using explicit feedback).\n",
    "* alpha is a parameter applicable to the implicit feedback variant of ALS that governs the baseline confidence in preference observations (defaults to 1.0).\n",
    "* nonnegative specifies whether or not to use nonnegative constraints for least squares (defaults to false)."
   ]
  },
  {
   "cell_type": "code",
   "execution_count": 11,
   "id": "indoor-armenia",
   "metadata": {},
   "outputs": [],
   "source": [
    "als = ALS(maxIter=10, regParam=0.1, userCol=\"userId\", itemCol=\"movieId\", ratingCol=\"rating\", alpha=0.01)\n",
    "model = als.fit(training)"
   ]
  },
  {
   "cell_type": "markdown",
   "id": "prerequisite-better",
   "metadata": {},
   "source": [
    "### Đánh giá kết quả"
   ]
  },
  {
   "cell_type": "code",
   "execution_count": 12,
   "id": "competitive-hindu",
   "metadata": {},
   "outputs": [],
   "source": [
    "# Evaluate the model by computing the RMSE on the test data\n",
    "predictions = model.transform(test)"
   ]
  },
  {
   "cell_type": "code",
   "execution_count": 13,
   "id": "asian-consideration",
   "metadata": {},
   "outputs": [
    {
     "name": "stdout",
     "output_type": "stream",
     "text": [
      "+-------+------+------+----------+\n",
      "|movieId|rating|userId|prediction|\n",
      "+-------+------+------+----------+\n",
      "|     31|   1.0|    27| 0.6368803|\n",
      "|     31|   4.0|    12| 1.0867245|\n",
      "|     31|   1.0|     4| 1.7705575|\n",
      "|     85|   1.0|    12| 0.8865745|\n",
      "|     85|   3.0|     6|  2.700335|\n",
      "|     85|   1.0|     4| 2.6832724|\n",
      "|     85|   1.0|    25|0.90189505|\n",
      "|     65|   1.0|    22|  0.778532|\n",
      "|     65|   1.0|     4|0.78153044|\n",
      "|     53|   1.0|     6|  2.258929|\n",
      "|     53|   3.0|    20| 1.0708176|\n",
      "|     53|   2.0|    19| 0.9484483|\n",
      "|     53|   5.0|    21| 2.9477472|\n",
      "|     78|   1.0|     1| 0.7810516|\n",
      "|     78|   1.0|    19| 0.7383895|\n",
      "|     78|   1.0|     4|0.89909494|\n",
      "|     34|   1.0|    16|0.99475443|\n",
      "|     34|   1.0|    19| 1.7423106|\n",
      "|     34|   3.0|    25| 1.0933553|\n",
      "|     34|   4.0|     2| 1.6565886|\n",
      "+-------+------+------+----------+\n",
      "only showing top 20 rows\n",
      "\n"
     ]
    }
   ],
   "source": [
    "predictions.show()"
   ]
  },
  {
   "cell_type": "code",
   "execution_count": 14,
   "id": "widespread-bracket",
   "metadata": {},
   "outputs": [
    {
     "name": "stdout",
     "output_type": "stream",
     "text": [
      "Root-mean-square error = 1.0528745793022518\n"
     ]
    }
   ],
   "source": [
    "evaluator = RegressionEvaluator(metricName='rmse', labelCol='rating', predictionCol='prediction')\n",
    "rmse = evaluator.evaluate(predictions)\n",
    "print('Root-mean-square error =', str(rmse))"
   ]
  },
  {
   "cell_type": "markdown",
   "id": "systematic-classics",
   "metadata": {},
   "source": [
    "### Đưa ra đề xuất cho tất cả user"
   ]
  },
  {
   "cell_type": "code",
   "execution_count": 15,
   "id": "published-compact",
   "metadata": {},
   "outputs": [],
   "source": [
    "# Get 3 recommendations which have highest rating\n",
    "user_recs = model.recommendForAllUsers(3)"
   ]
  },
  {
   "cell_type": "code",
   "execution_count": 18,
   "id": "collect-outreach",
   "metadata": {},
   "outputs": [
    {
     "name": "stdout",
     "output_type": "stream",
     "text": [
      "Row(userId=28, recommendations=[Row(movieId=81, rating=4.012272834777832), Row(movieId=12, rating=3.9162325859069824), Row(movieId=2, rating=3.6629419326782227)])\n",
      "\n",
      "\n",
      "Row(userId=26, recommendations=[Row(movieId=22, rating=4.6804962158203125), Row(movieId=94, rating=4.527807712554932), Row(movieId=24, rating=4.452171802520752)])\n",
      "\n",
      "\n",
      "Row(userId=27, recommendations=[Row(movieId=32, rating=3.397430896759033), Row(movieId=18, rating=3.343568801879883), Row(movieId=38, rating=3.1188554763793945)])\n",
      "\n",
      "\n",
      "Row(userId=12, recommendations=[Row(movieId=46, rating=5.055620193481445), Row(movieId=55, rating=4.19067907333374), Row(movieId=64, rating=4.030313968658447)])\n",
      "\n",
      "\n",
      "Row(userId=22, recommendations=[Row(movieId=75, rating=4.6111907958984375), Row(movieId=74, rating=4.492098808288574), Row(movieId=88, rating=4.179080009460449)])\n",
      "\n",
      "\n",
      "Row(userId=1, recommendations=[Row(movieId=62, rating=3.0914840698242188), Row(movieId=68, rating=3.079878568649292), Row(movieId=22, rating=2.9451892375946045)])\n",
      "\n",
      "\n",
      "Row(userId=13, recommendations=[Row(movieId=93, rating=3.147221088409424), Row(movieId=74, rating=2.893507242202759), Row(movieId=29, rating=2.591428756713867)])\n",
      "\n",
      "\n",
      "Row(userId=6, recommendations=[Row(movieId=25, rating=3.612015962600708), Row(movieId=47, rating=3.1512258052825928), Row(movieId=76, rating=3.064009189605713)])\n",
      "\n",
      "\n",
      "Row(userId=16, recommendations=[Row(movieId=85, rating=4.227083206176758), Row(movieId=90, rating=3.8036694526672363), Row(movieId=62, rating=3.6319031715393066)])\n",
      "\n",
      "\n",
      "Row(userId=3, recommendations=[Row(movieId=32, rating=3.519221782684326), Row(movieId=74, rating=3.249117136001587), Row(movieId=18, rating=3.1501331329345703)])\n",
      "\n",
      "\n"
     ]
    }
   ],
   "source": [
    "for user in user_recs.head(10):\n",
    "    print(user)\n",
    "    print('\\n')"
   ]
  },
  {
   "cell_type": "markdown",
   "id": "prepared-rental",
   "metadata": {},
   "source": [
    "### Đưa ra đề xuất cho một user cụ thể"
   ]
  },
  {
   "cell_type": "code",
   "execution_count": 19,
   "id": "involved-thirty",
   "metadata": {},
   "outputs": [
    {
     "name": "stdout",
     "output_type": "stream",
     "text": [
      "+------+--------------------------------------------------+\n",
      "|userId|recommendations                                   |\n",
      "+------+--------------------------------------------------+\n",
      "|27    |[{32, 3.397431}, {18, 3.3435688}, {38, 3.1188555}]|\n",
      "+------+--------------------------------------------------+\n",
      "\n"
     ]
    }
   ],
   "source": [
    "userId = 27\n",
    "user_recs.filter(user_recs['userId']==27).show(truncate=False)"
   ]
  },
  {
   "cell_type": "code",
   "execution_count": null,
   "id": "quick-postage",
   "metadata": {},
   "outputs": [],
   "source": []
  }
 ],
 "metadata": {
  "kernelspec": {
   "display_name": "Python 3",
   "language": "python",
   "name": "python3"
  },
  "language_info": {
   "codemirror_mode": {
    "name": "ipython",
    "version": 3
   },
   "file_extension": ".py",
   "mimetype": "text/x-python",
   "name": "python",
   "nbconvert_exporter": "python",
   "pygments_lexer": "ipython3",
   "version": "3.8.3"
  }
 },
 "nbformat": 4,
 "nbformat_minor": 5
}
