{
 "cells": [
  {
   "cell_type": "code",
   "execution_count": 1,
   "metadata": {},
   "outputs": [
    {
     "name": "stdout",
     "output_type": "stream",
     "text": [
      " [1] 30 14 20  6 46 12  8 44 24  6 28 12 18 26 30 40 28 10 34 22 42 14 14 20 32\n",
      "[26] 28 10 36 20 46 36 44  6 18 22  6 42 22 40 42 16  6 10  8 38 32 16 24 30 20\n"
     ]
    }
   ],
   "source": [
    "v = c()\n",
    "i = 1\n",
    "while(i <=50){\n",
    "    x = floor(runif(1, min = 5, max = 50))\n",
    "    if (x %% 2 == 0){\n",
    "        v[i] = x\n",
    "        i = i +1\n",
    "    }\n",
    "}\n",
    "\n",
    "print(v)"
   ]
  },
  {
   "cell_type": "code",
   "execution_count": 2,
   "metadata": {},
   "outputs": [
    {
     "name": "stdout",
     "output_type": "stream",
     "text": [
      "[1] \"Array A4:\"\n",
      ", , 1\n",
      "\n",
      "     [,1] [,2] [,3] [,4] [,5]\n",
      "[1,]   30   12   28   40   42\n",
      "[2,]   14    8   12   28   14\n",
      "[3,]   20   44   18   10   14\n",
      "[4,]    6   24   26   34   20\n",
      "[5,]   46    6   30   22   32\n",
      "\n",
      ", , 2\n",
      "\n",
      "     [,1] [,2] [,3] [,4] [,5]\n",
      "[1,]   28   36    6   16   32\n",
      "[2,]   10   44   42    6   16\n",
      "[3,]   36    6   22   10   24\n",
      "[4,]   20   18   40    8   30\n",
      "[5,]   46   22   42   38   20\n",
      "\n"
     ]
    }
   ],
   "source": [
    "A4 = array(v, dim=c(5, 5, 2))\n",
    "print(\"Array A4:\")\n",
    "print(A4)"
   ]
  },
  {
   "cell_type": "code",
   "execution_count": 3,
   "metadata": {},
   "outputs": [
    {
     "name": "stdout",
     "output_type": "stream",
     "text": [
      "[1] 5\n",
      "[1] 5\n",
      "[1] 2\n"
     ]
    }
   ],
   "source": [
    "rows = nrow(A4)\n",
    "print(rows)\n",
    "\n",
    "cols = ncol(A4)\n",
    "print(cols)\n",
    "\n",
    "dims = dim(A4)[3]\n",
    "print(dims)"
   ]
  },
  {
   "cell_type": "code",
   "execution_count": 4,
   "metadata": {},
   "outputs": [
    {
     "name": "stdout",
     "output_type": "stream",
     "text": [
      "[1] \"A4[ 1 , 1 , 1 ]= 30\"\n",
      "[1] \"A4[ 1 , 2 , 1 ]= 12\"\n",
      "[1] \"A4[ 1 , 5 , 1 ]= 42\"\n",
      "[1] \"A4[ 2 , 3 , 1 ]= 12\"\n",
      "[1] \"A4[ 3 , 3 , 1 ]= 18\"\n",
      "[1] \"A4[ 4 , 1 , 1 ]= 6\"\n",
      "[1] \"A4[ 4 , 2 , 1 ]= 24\"\n",
      "[1] \"A4[ 5 , 2 , 1 ]= 6\"\n",
      "[1] \"A4[ 5 , 3 , 1 ]= 30\"\n",
      "[1] \"A4[ 1 , 2 , 2 ]= 36\"\n",
      "[1] \"A4[ 1 , 3 , 2 ]= 6\"\n",
      "[1] \"A4[ 2 , 3 , 2 ]= 42\"\n",
      "[1] \"A4[ 2 , 4 , 2 ]= 6\"\n",
      "[1] \"A4[ 3 , 1 , 2 ]= 36\"\n",
      "[1] \"A4[ 3 , 2 , 2 ]= 6\"\n",
      "[1] \"A4[ 3 , 5 , 2 ]= 24\"\n",
      "[1] \"A4[ 4 , 2 , 2 ]= 18\"\n",
      "[1] \"A4[ 4 , 5 , 2 ]= 30\"\n",
      "[1] \"A4[ 5 , 3 , 2 ]= 42\"\n",
      "[1] \"Tong= 426\"\n"
     ]
    }
   ],
   "source": [
    "i = 1\n",
    "j = 1\n",
    "k = 1\n",
    "total = 0\n",
    "\n",
    "while(i <= dims){\n",
    "    j = 1\n",
    "    while(j <= rows){\n",
    "        k = 1\n",
    "        while(k <= cols){\n",
    "            if (A4[j, k ,i] %% 6 == 0){\n",
    "                print(paste(\"A4[\", j, \",\", k, \",\", i, \"]=\", A4[j, k, i]))\n",
    "                total = total + A4[j, k ,i]\n",
    "            }\n",
    "            k = k +1\n",
    "        }\n",
    "        j = j + 1 \n",
    "    }\n",
    "    i = i + 1\n",
    "}\n",
    "print(paste(\"Tong=\", total))"
   ]
  }
 ],
 "metadata": {
  "kernelspec": {
   "display_name": "R",
   "language": "R",
   "name": "ir"
  },
  "language_info": {
   "codemirror_mode": "r",
   "file_extension": ".r",
   "mimetype": "text/x-r-source",
   "name": "R",
   "pygments_lexer": "r",
   "version": "4.0.3"
  }
 },
 "nbformat": 4,
 "nbformat_minor": 4
}
