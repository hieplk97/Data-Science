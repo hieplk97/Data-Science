{
 "cells": [
  {
   "cell_type": "code",
   "execution_count": 1,
   "metadata": {},
   "outputs": [],
   "source": [
    "students_1 = data.frame(\"name\" = c('Helen', 'Jolie', 'Kiwi', 'John', 'Mark', 'Tom'),\n",
    "                        \"age\" = c(17, 16, 17, 18, 19, 16),\n",
    "                        \"mark\" = c(9, 9, 8, 7.5, 7.5, 8),\n",
    "                        stringsAsFactors = FALSE)"
   ]
  },
  {
   "cell_type": "code",
   "execution_count": 2,
   "metadata": {},
   "outputs": [
    {
     "name": "stdout",
     "output_type": "stream",
     "text": [
      "   name age mark\n",
      "1 Helen  17  9.0\n",
      "2 Jolie  16  9.0\n",
      "3  Kiwi  17  8.0\n",
      "4  John  18  7.5\n",
      "5  Mark  19  7.5\n",
      "6   Tom  16  8.0\n"
     ]
    }
   ],
   "source": [
    "print(students_1)"
   ]
  },
  {
   "cell_type": "code",
   "execution_count": 3,
   "metadata": {},
   "outputs": [
    {
     "name": "stdout",
     "output_type": "stream",
     "text": [
      "'data.frame':\t6 obs. of  3 variables:\n",
      " $ name: chr  \"Helen\" \"Jolie\" \"Kiwi\" \"John\" ...\n",
      " $ age : num  17 16 17 18 19 16\n",
      " $ mark: num  9 9 8 7.5 7.5 8\n"
     ]
    }
   ],
   "source": [
    "str(students_1)"
   ]
  },
  {
   "cell_type": "code",
   "execution_count": 4,
   "metadata": {},
   "outputs": [],
   "source": [
    "name = c('Helen', 'Jolie', 'Kiwi', 'John', 'Mark', 'Tom')\n",
    "age = c(17, 16, 17, 18, 19, 16)\n",
    "mark = c(9, 9, 8, 7.5, 7.5, 8)\n",
    "\n",
    "students = data.frame(name, age, mark, stringsAsFactors = FALSE)"
   ]
  },
  {
   "cell_type": "code",
   "execution_count": 5,
   "metadata": {},
   "outputs": [
    {
     "name": "stdout",
     "output_type": "stream",
     "text": [
      "'data.frame':\t6 obs. of  3 variables:\n",
      " $ name: chr  \"Helen\" \"Jolie\" \"Kiwi\" \"John\" ...\n",
      " $ age : num  17 16 17 18 19 16\n",
      " $ mark: num  9 9 8 7.5 7.5 8\n"
     ]
    }
   ],
   "source": [
    "str(students)"
   ]
  },
  {
   "cell_type": "code",
   "execution_count": 6,
   "metadata": {},
   "outputs": [
    {
     "name": "stdout",
     "output_type": "stream",
     "text": [
      "[1] 9.0 9.0 8.0 7.5 7.5 8.0\n"
     ]
    }
   ],
   "source": [
    "# get mark column as vector\n",
    "print(students$mark)"
   ]
  },
  {
   "cell_type": "code",
   "execution_count": 8,
   "metadata": {},
   "outputs": [
    {
     "name": "stdout",
     "output_type": "stream",
     "text": [
      "  students.age\n",
      "1           17\n",
      "2           16\n",
      "3           17\n",
      "4           18\n",
      "5           19\n",
      "6           16\n"
     ]
    }
   ],
   "source": [
    "# get age column as data.frame\n",
    "print(data.frame(students$age))"
   ]
  },
  {
   "cell_type": "code",
   "execution_count": 10,
   "metadata": {},
   "outputs": [
    {
     "name": "stdout",
     "output_type": "stream",
     "text": [
      "   name age mark\n",
      "1 Helen  17    9\n",
      "2 Jolie  16    9\n"
     ]
    }
   ],
   "source": [
    "# Get 2 first rows\n",
    "print(students[1:2,])"
   ]
  },
  {
   "cell_type": "code",
   "execution_count": 11,
   "metadata": {},
   "outputs": [
    {
     "name": "stdout",
     "output_type": "stream",
     "text": [
      "  name age\n",
      "3 Kiwi  17\n",
      "5 Mark  19\n"
     ]
    }
   ],
   "source": [
    "# Get rows 3, 5 & columns 1,2\n",
    "print(students[c(3, 5), c(1, 2)])"
   ]
  },
  {
   "cell_type": "code",
   "execution_count": 12,
   "metadata": {},
   "outputs": [],
   "source": [
    "# Add column to dataframe\n",
    "students$class = c('K256_S7N', 'K256_S7N', 'K256_S24', 'K256_S7N', 'K256_S24', 'K256_C7N')"
   ]
  },
  {
   "cell_type": "code",
   "execution_count": 13,
   "metadata": {},
   "outputs": [
    {
     "data": {
      "text/html": [
       "<table>\n",
       "<caption>A data.frame: 6 × 4</caption>\n",
       "<thead>\n",
       "\t<tr><th scope=col>name</th><th scope=col>age</th><th scope=col>mark</th><th scope=col>class</th></tr>\n",
       "\t<tr><th scope=col>&lt;chr&gt;</th><th scope=col>&lt;dbl&gt;</th><th scope=col>&lt;dbl&gt;</th><th scope=col>&lt;chr&gt;</th></tr>\n",
       "</thead>\n",
       "<tbody>\n",
       "\t<tr><td>Helen</td><td>17</td><td>9.0</td><td>K256_S7N</td></tr>\n",
       "\t<tr><td>Jolie</td><td>16</td><td>9.0</td><td>K256_S7N</td></tr>\n",
       "\t<tr><td>Kiwi </td><td>17</td><td>8.0</td><td>K256_S24</td></tr>\n",
       "\t<tr><td>John </td><td>18</td><td>7.5</td><td>K256_S7N</td></tr>\n",
       "\t<tr><td>Mark </td><td>19</td><td>7.5</td><td>K256_S24</td></tr>\n",
       "\t<tr><td>Tom  </td><td>16</td><td>8.0</td><td>K256_C7N</td></tr>\n",
       "</tbody>\n",
       "</table>\n"
      ],
      "text/latex": [
       "A data.frame: 6 × 4\n",
       "\\begin{tabular}{llll}\n",
       " name & age & mark & class\\\\\n",
       " <chr> & <dbl> & <dbl> & <chr>\\\\\n",
       "\\hline\n",
       "\t Helen & 17 & 9.0 & K256\\_S7N\\\\\n",
       "\t Jolie & 16 & 9.0 & K256\\_S7N\\\\\n",
       "\t Kiwi  & 17 & 8.0 & K256\\_S24\\\\\n",
       "\t John  & 18 & 7.5 & K256\\_S7N\\\\\n",
       "\t Mark  & 19 & 7.5 & K256\\_S24\\\\\n",
       "\t Tom   & 16 & 8.0 & K256\\_C7N\\\\\n",
       "\\end{tabular}\n"
      ],
      "text/markdown": [
       "\n",
       "A data.frame: 6 × 4\n",
       "\n",
       "| name &lt;chr&gt; | age &lt;dbl&gt; | mark &lt;dbl&gt; | class &lt;chr&gt; |\n",
       "|---|---|---|---|\n",
       "| Helen | 17 | 9.0 | K256_S7N |\n",
       "| Jolie | 16 | 9.0 | K256_S7N |\n",
       "| Kiwi  | 17 | 8.0 | K256_S24 |\n",
       "| John  | 18 | 7.5 | K256_S7N |\n",
       "| Mark  | 19 | 7.5 | K256_S24 |\n",
       "| Tom   | 16 | 8.0 | K256_C7N |\n",
       "\n"
      ],
      "text/plain": [
       "  name  age mark class   \n",
       "1 Helen 17  9.0  K256_S7N\n",
       "2 Jolie 16  9.0  K256_S7N\n",
       "3 Kiwi  17  8.0  K256_S24\n",
       "4 John  18  7.5  K256_S7N\n",
       "5 Mark  19  7.5  K256_S24\n",
       "6 Tom   16  8.0  K256_C7N"
      ]
     },
     "metadata": {},
     "output_type": "display_data"
    }
   ],
   "source": [
    "students"
   ]
  },
  {
   "cell_type": "code",
   "execution_count": 15,
   "metadata": {},
   "outputs": [],
   "source": [
    "df_POB = data.frame(\"POB\" = c(\"UK\", \"US\", \"EU\", \"UK\", \"US\", \"EU\"))\n",
    "students = cbind(students, df_POB)"
   ]
  },
  {
   "cell_type": "code",
   "execution_count": 16,
   "metadata": {},
   "outputs": [
    {
     "data": {
      "text/html": [
       "<table>\n",
       "<caption>A data.frame: 6 × 5</caption>\n",
       "<thead>\n",
       "\t<tr><th scope=col>name</th><th scope=col>age</th><th scope=col>mark</th><th scope=col>class</th><th scope=col>POB</th></tr>\n",
       "\t<tr><th scope=col>&lt;chr&gt;</th><th scope=col>&lt;dbl&gt;</th><th scope=col>&lt;dbl&gt;</th><th scope=col>&lt;chr&gt;</th><th scope=col>&lt;chr&gt;</th></tr>\n",
       "</thead>\n",
       "<tbody>\n",
       "\t<tr><td>Helen</td><td>17</td><td>9.0</td><td>K256_S7N</td><td>UK</td></tr>\n",
       "\t<tr><td>Jolie</td><td>16</td><td>9.0</td><td>K256_S7N</td><td>US</td></tr>\n",
       "\t<tr><td>Kiwi </td><td>17</td><td>8.0</td><td>K256_S24</td><td>EU</td></tr>\n",
       "\t<tr><td>John </td><td>18</td><td>7.5</td><td>K256_S7N</td><td>UK</td></tr>\n",
       "\t<tr><td>Mark </td><td>19</td><td>7.5</td><td>K256_S24</td><td>US</td></tr>\n",
       "\t<tr><td>Tom  </td><td>16</td><td>8.0</td><td>K256_C7N</td><td>EU</td></tr>\n",
       "</tbody>\n",
       "</table>\n"
      ],
      "text/latex": [
       "A data.frame: 6 × 5\n",
       "\\begin{tabular}{lllll}\n",
       " name & age & mark & class & POB\\\\\n",
       " <chr> & <dbl> & <dbl> & <chr> & <chr>\\\\\n",
       "\\hline\n",
       "\t Helen & 17 & 9.0 & K256\\_S7N & UK\\\\\n",
       "\t Jolie & 16 & 9.0 & K256\\_S7N & US\\\\\n",
       "\t Kiwi  & 17 & 8.0 & K256\\_S24 & EU\\\\\n",
       "\t John  & 18 & 7.5 & K256\\_S7N & UK\\\\\n",
       "\t Mark  & 19 & 7.5 & K256\\_S24 & US\\\\\n",
       "\t Tom   & 16 & 8.0 & K256\\_C7N & EU\\\\\n",
       "\\end{tabular}\n"
      ],
      "text/markdown": [
       "\n",
       "A data.frame: 6 × 5\n",
       "\n",
       "| name &lt;chr&gt; | age &lt;dbl&gt; | mark &lt;dbl&gt; | class &lt;chr&gt; | POB &lt;chr&gt; |\n",
       "|---|---|---|---|---|\n",
       "| Helen | 17 | 9.0 | K256_S7N | UK |\n",
       "| Jolie | 16 | 9.0 | K256_S7N | US |\n",
       "| Kiwi  | 17 | 8.0 | K256_S24 | EU |\n",
       "| John  | 18 | 7.5 | K256_S7N | UK |\n",
       "| Mark  | 19 | 7.5 | K256_S24 | US |\n",
       "| Tom   | 16 | 8.0 | K256_C7N | EU |\n",
       "\n"
      ],
      "text/plain": [
       "  name  age mark class    POB\n",
       "1 Helen 17  9.0  K256_S7N UK \n",
       "2 Jolie 16  9.0  K256_S7N US \n",
       "3 Kiwi  17  8.0  K256_S24 EU \n",
       "4 John  18  7.5  K256_S7N UK \n",
       "5 Mark  19  7.5  K256_S24 US \n",
       "6 Tom   16  8.0  K256_C7N EU "
      ]
     },
     "metadata": {},
     "output_type": "display_data"
    }
   ],
   "source": [
    "students"
   ]
  },
  {
   "cell_type": "code",
   "execution_count": 17,
   "metadata": {},
   "outputs": [],
   "source": [
    "new_students = data.frame(\"name\" = c(\"Sunny\", 'Lucy'),\n",
    "                          \"age\" = c(17, 18),\n",
    "                          \"mark\" = c(8, 9),\n",
    "                          \"class\" = c(\"k256_C7N\", \"k256_S24\"),\n",
    "                          \"POB\" = c(\"EU\", \"UK\"),\n",
    "                          stringsAsFactors = FALSE)"
   ]
  },
  {
   "cell_type": "code",
   "execution_count": 18,
   "metadata": {},
   "outputs": [
    {
     "data": {
      "text/html": [
       "<table>\n",
       "<caption>A data.frame: 8 × 5</caption>\n",
       "<thead>\n",
       "\t<tr><th scope=col>name</th><th scope=col>age</th><th scope=col>mark</th><th scope=col>class</th><th scope=col>POB</th></tr>\n",
       "\t<tr><th scope=col>&lt;chr&gt;</th><th scope=col>&lt;dbl&gt;</th><th scope=col>&lt;dbl&gt;</th><th scope=col>&lt;chr&gt;</th><th scope=col>&lt;chr&gt;</th></tr>\n",
       "</thead>\n",
       "<tbody>\n",
       "\t<tr><td>Helen</td><td>17</td><td>9.0</td><td>K256_S7N</td><td>UK</td></tr>\n",
       "\t<tr><td>Jolie</td><td>16</td><td>9.0</td><td>K256_S7N</td><td>US</td></tr>\n",
       "\t<tr><td>Kiwi </td><td>17</td><td>8.0</td><td>K256_S24</td><td>EU</td></tr>\n",
       "\t<tr><td>John </td><td>18</td><td>7.5</td><td>K256_S7N</td><td>UK</td></tr>\n",
       "\t<tr><td>Mark </td><td>19</td><td>7.5</td><td>K256_S24</td><td>US</td></tr>\n",
       "\t<tr><td>Tom  </td><td>16</td><td>8.0</td><td>K256_C7N</td><td>EU</td></tr>\n",
       "\t<tr><td>Sunny</td><td>17</td><td>8.0</td><td>k256_C7N</td><td>EU</td></tr>\n",
       "\t<tr><td>Lucy </td><td>18</td><td>9.0</td><td>k256_S24</td><td>UK</td></tr>\n",
       "</tbody>\n",
       "</table>\n"
      ],
      "text/latex": [
       "A data.frame: 8 × 5\n",
       "\\begin{tabular}{lllll}\n",
       " name & age & mark & class & POB\\\\\n",
       " <chr> & <dbl> & <dbl> & <chr> & <chr>\\\\\n",
       "\\hline\n",
       "\t Helen & 17 & 9.0 & K256\\_S7N & UK\\\\\n",
       "\t Jolie & 16 & 9.0 & K256\\_S7N & US\\\\\n",
       "\t Kiwi  & 17 & 8.0 & K256\\_S24 & EU\\\\\n",
       "\t John  & 18 & 7.5 & K256\\_S7N & UK\\\\\n",
       "\t Mark  & 19 & 7.5 & K256\\_S24 & US\\\\\n",
       "\t Tom   & 16 & 8.0 & K256\\_C7N & EU\\\\\n",
       "\t Sunny & 17 & 8.0 & k256\\_C7N & EU\\\\\n",
       "\t Lucy  & 18 & 9.0 & k256\\_S24 & UK\\\\\n",
       "\\end{tabular}\n"
      ],
      "text/markdown": [
       "\n",
       "A data.frame: 8 × 5\n",
       "\n",
       "| name &lt;chr&gt; | age &lt;dbl&gt; | mark &lt;dbl&gt; | class &lt;chr&gt; | POB &lt;chr&gt; |\n",
       "|---|---|---|---|---|\n",
       "| Helen | 17 | 9.0 | K256_S7N | UK |\n",
       "| Jolie | 16 | 9.0 | K256_S7N | US |\n",
       "| Kiwi  | 17 | 8.0 | K256_S24 | EU |\n",
       "| John  | 18 | 7.5 | K256_S7N | UK |\n",
       "| Mark  | 19 | 7.5 | K256_S24 | US |\n",
       "| Tom   | 16 | 8.0 | K256_C7N | EU |\n",
       "| Sunny | 17 | 8.0 | k256_C7N | EU |\n",
       "| Lucy  | 18 | 9.0 | k256_S24 | UK |\n",
       "\n"
      ],
      "text/plain": [
       "  name  age mark class    POB\n",
       "1 Helen 17  9.0  K256_S7N UK \n",
       "2 Jolie 16  9.0  K256_S7N US \n",
       "3 Kiwi  17  8.0  K256_S24 EU \n",
       "4 John  18  7.5  K256_S7N UK \n",
       "5 Mark  19  7.5  K256_S24 US \n",
       "6 Tom   16  8.0  K256_C7N EU \n",
       "7 Sunny 17  8.0  k256_C7N EU \n",
       "8 Lucy  18  9.0  k256_S24 UK "
      ]
     },
     "metadata": {},
     "output_type": "display_data"
    }
   ],
   "source": [
    "students = rbind(students, new_students)\n",
    "students"
   ]
  },
  {
   "cell_type": "code",
   "execution_count": 19,
   "metadata": {},
   "outputs": [
    {
     "data": {
      "text/html": [
       "<table>\n",
       "<caption>A data.frame: 6 × 5</caption>\n",
       "<thead>\n",
       "\t<tr><th></th><th scope=col>name</th><th scope=col>age</th><th scope=col>mark</th><th scope=col>class</th><th scope=col>Place_of_birth</th></tr>\n",
       "\t<tr><th></th><th scope=col>&lt;chr&gt;</th><th scope=col>&lt;dbl&gt;</th><th scope=col>&lt;dbl&gt;</th><th scope=col>&lt;chr&gt;</th><th scope=col>&lt;chr&gt;</th></tr>\n",
       "</thead>\n",
       "<tbody>\n",
       "\t<tr><th scope=row>1</th><td>Helen</td><td>17</td><td>9.0</td><td>K256_S7N</td><td>UK</td></tr>\n",
       "\t<tr><th scope=row>2</th><td>Jolie</td><td>16</td><td>9.0</td><td>K256_S7N</td><td>US</td></tr>\n",
       "\t<tr><th scope=row>3</th><td>Kiwi </td><td>17</td><td>8.0</td><td>K256_S24</td><td>EU</td></tr>\n",
       "\t<tr><th scope=row>4</th><td>John </td><td>18</td><td>7.5</td><td>K256_S7N</td><td>UK</td></tr>\n",
       "\t<tr><th scope=row>5</th><td>Mark </td><td>19</td><td>7.5</td><td>K256_S24</td><td>US</td></tr>\n",
       "\t<tr><th scope=row>6</th><td>Tom  </td><td>16</td><td>8.0</td><td>K256_C7N</td><td>EU</td></tr>\n",
       "</tbody>\n",
       "</table>\n"
      ],
      "text/latex": [
       "A data.frame: 6 × 5\n",
       "\\begin{tabular}{r|lllll}\n",
       "  & name & age & mark & class & Place\\_of\\_birth\\\\\n",
       "  & <chr> & <dbl> & <dbl> & <chr> & <chr>\\\\\n",
       "\\hline\n",
       "\t1 & Helen & 17 & 9.0 & K256\\_S7N & UK\\\\\n",
       "\t2 & Jolie & 16 & 9.0 & K256\\_S7N & US\\\\\n",
       "\t3 & Kiwi  & 17 & 8.0 & K256\\_S24 & EU\\\\\n",
       "\t4 & John  & 18 & 7.5 & K256\\_S7N & UK\\\\\n",
       "\t5 & Mark  & 19 & 7.5 & K256\\_S24 & US\\\\\n",
       "\t6 & Tom   & 16 & 8.0 & K256\\_C7N & EU\\\\\n",
       "\\end{tabular}\n"
      ],
      "text/markdown": [
       "\n",
       "A data.frame: 6 × 5\n",
       "\n",
       "| <!--/--> | name &lt;chr&gt; | age &lt;dbl&gt; | mark &lt;dbl&gt; | class &lt;chr&gt; | Place_of_birth &lt;chr&gt; |\n",
       "|---|---|---|---|---|---|\n",
       "| 1 | Helen | 17 | 9.0 | K256_S7N | UK |\n",
       "| 2 | Jolie | 16 | 9.0 | K256_S7N | US |\n",
       "| 3 | Kiwi  | 17 | 8.0 | K256_S24 | EU |\n",
       "| 4 | John  | 18 | 7.5 | K256_S7N | UK |\n",
       "| 5 | Mark  | 19 | 7.5 | K256_S24 | US |\n",
       "| 6 | Tom   | 16 | 8.0 | K256_C7N | EU |\n",
       "\n"
      ],
      "text/plain": [
       "  name  age mark class    Place_of_birth\n",
       "1 Helen 17  9.0  K256_S7N UK            \n",
       "2 Jolie 16  9.0  K256_S7N US            \n",
       "3 Kiwi  17  8.0  K256_S24 EU            \n",
       "4 John  18  7.5  K256_S7N UK            \n",
       "5 Mark  19  7.5  K256_S24 US            \n",
       "6 Tom   16  8.0  K256_C7N EU            "
      ]
     },
     "metadata": {},
     "output_type": "display_data"
    }
   ],
   "source": [
    "# Rename\n",
    "names(students)[names(students)==\"POB\"] = \"Place_of_birth\"\n",
    "head(students)"
   ]
  },
  {
   "cell_type": "code",
   "execution_count": null,
   "metadata": {},
   "outputs": [],
   "source": []
  }
 ],
 "metadata": {
  "kernelspec": {
   "display_name": "R",
   "language": "R",
   "name": "ir"
  },
  "language_info": {
   "codemirror_mode": "r",
   "file_extension": ".r",
   "mimetype": "text/x-r-source",
   "name": "R",
   "pygments_lexer": "r",
   "version": "4.0.3"
  }
 },
 "nbformat": 4,
 "nbformat_minor": 4
}
