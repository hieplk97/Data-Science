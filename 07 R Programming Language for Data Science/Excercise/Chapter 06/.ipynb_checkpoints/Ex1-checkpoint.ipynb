{
 "cells": [
  {
   "cell_type": "code",
   "execution_count": 1,
   "metadata": {},
   "outputs": [],
   "source": [
    "friend.vector = c('Tam', 'Tung', 'Quan')"
   ]
  },
  {
   "cell_type": "code",
   "execution_count": 2,
   "metadata": {},
   "outputs": [
    {
     "name": "stdin",
     "output_type": "stream",
     "text": [
      "Input your friend's name:  Tuan\n",
      "Continue: 1, Stop: != 1 1\n",
      "Input your friend's name:  Hoang\n",
      "Continue: 1, Stop: != 1 1\n",
      "Input your friend's name:  Nguyen\n",
      "Continue: 1, Stop: != 1 0\n"
     ]
    }
   ],
   "source": [
    "repeat {\n",
    "    len = length(friend.vector)\n",
    "    friend.vector[len+1] = readline(prompt=\"Input your friend's name: \")\n",
    "    i = as.integer(readline(prompt = \"Continue: 1, Stop: != 1\"))\n",
    "    if (i != 1){\n",
    "        break\n",
    "    }\n",
    "}"
   ]
  },
  {
   "cell_type": "code",
   "execution_count": 4,
   "metadata": {},
   "outputs": [
    {
     "name": "stdout",
     "output_type": "stream",
     "text": [
      "[1] \"There are 6 friend in vector: Tam, Tung, Quan, Tuan, Hoang, Nguyen\"\n"
     ]
    }
   ],
   "source": [
    "print(paste(\"There are\", length(friend.vector), \"friend in vector:\", toString(friend.vector)))"
   ]
  },
  {
   "cell_type": "code",
   "execution_count": 5,
   "metadata": {},
   "outputs": [
    {
     "name": "stdout",
     "output_type": "stream",
     "text": [
      "[1] \"Two first friends: Tam, Tung\"\n"
     ]
    }
   ],
   "source": [
    "print(paste(\"Two first friends:\", toString(friend.vector[1:2])))"
   ]
  },
  {
   "cell_type": "code",
   "execution_count": 7,
   "metadata": {},
   "outputs": [
    {
     "name": "stdout",
     "output_type": "stream",
     "text": [
      "[1] \"Two last friends: Nguyen, Hoang\"\n"
     ]
    }
   ],
   "source": [
    "print(paste(\"Two last friends:\", toString(friend.vector[c(length(friend.vector),length(friend.vector)-1)])))"
   ]
  },
  {
   "cell_type": "code",
   "execution_count": 8,
   "metadata": {},
   "outputs": [
    {
     "name": "stdout",
     "output_type": "stream",
     "text": [
      "[1] \"Sort of my friends: Hoang, Nguyen, Quan, Tam, Tuan, Tung\"\n"
     ]
    }
   ],
   "source": [
    "print(paste(\"Sort of my friends:\", toString(sort(friend.vector))))"
   ]
  },
  {
   "cell_type": "code",
   "execution_count": 9,
   "metadata": {},
   "outputs": [
    {
     "name": "stdout",
     "output_type": "stream",
     "text": [
      "[1] \"Descending sort of my friends: Tung, Tuan, Tam, Quan, Nguyen, Hoang\"\n"
     ]
    }
   ],
   "source": [
    "print(paste(\"Descending sort of my friends:\", toString(sort(friend.vector, decreasing=TRUE))))"
   ]
  }
 ],
 "metadata": {
  "kernelspec": {
   "display_name": "R",
   "language": "R",
   "name": "ir"
  },
  "language_info": {
   "codemirror_mode": "r",
   "file_extension": ".r",
   "mimetype": "text/x-r-source",
   "name": "R",
   "pygments_lexer": "r",
   "version": "4.0.3"
  }
 },
 "nbformat": 4,
 "nbformat_minor": 4
}
