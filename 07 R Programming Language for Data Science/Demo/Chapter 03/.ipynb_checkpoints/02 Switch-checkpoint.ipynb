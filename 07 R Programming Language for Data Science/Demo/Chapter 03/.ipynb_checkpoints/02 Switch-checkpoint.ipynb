{
 "cells": [
  {
   "cell_type": "code",
   "execution_count": null,
   "metadata": {},
   "outputs": [],
   "source": [
    "x = switch(2, \"dog\", \"cat\", \"goat\")\n",
    "print(x)"
   ]
  },
  {
   "cell_type": "code",
   "execution_count": null,
   "metadata": {},
   "outputs": [],
   "source": [
    "x = switch(4, \"dog\", \"cat\", \"goat\")\n",
    "print(x)"
   ]
  },
  {
   "cell_type": "code",
   "execution_count": null,
   "metadata": {},
   "outputs": [],
   "source": [
    "num1 = as.integer(readline(prompt = \"Input number 1: \"))\n",
    "num2 = as.integer(readline(prompt = \"Input number 2: \"))\n",
    "operator = as.integer(readline(prompt = \"Input Arithmetic Operator: \"))\n",
    "\n",
    "switch(operator,\n",
    "      '+', print(paste(\"Sum:\", num1 + num2)),\n",
    "      '-', print(paste(\"Sub:\", num1 - num2)),\n",
    "      '*', print(paste(\"Mul:\", num1 * num2)),\n",
    "      '/', print(paste(\"Div:\", num1 / num2)),)"
   ]
  },
  {
   "cell_type": "code",
   "execution_count": null,
   "metadata": {},
   "outputs": [],
   "source": []
  }
 ],
 "metadata": {
  "kernelspec": {
   "display_name": "R",
   "language": "R",
   "name": "ir"
  },
  "language_info": {
   "codemirror_mode": "r",
   "file_extension": ".r",
   "mimetype": "text/x-r-source",
   "name": "R",
   "pygments_lexer": "r",
   "version": "4.0.3"
  }
 },
 "nbformat": 4,
 "nbformat_minor": 4
}
