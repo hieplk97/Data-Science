{
 "cells": [
  {
   "cell_type": "code",
   "execution_count": 1,
   "metadata": {},
   "outputs": [],
   "source": [
    "import numpy       as np\n",
    "import pandas      as pd\n",
    "import scipy.stats as stats"
   ]
  },
  {
   "cell_type": "code",
   "execution_count": 2,
   "metadata": {},
   "outputs": [
    {
     "name": "stdout",
     "output_type": "stream",
     "text": [
      "      A     B      C     D\n",
      "0    93  85.0  100.0  96.0\n",
      "1   120  45.0   75.0  58.0\n",
      "2    65  80.0   65.0  95.0\n",
      "3   105  28.0   40.0  90.0\n",
      "4   115  75.0   73.0  65.0\n",
      "5    82  70.0   65.0  80.0\n",
      "6    99  65.0   50.0  85.0\n",
      "7    87  55.0   30.0  95.0\n",
      "8   100  50.0   45.0  82.0\n",
      "9    90  40.0   50.0   NaN\n",
      "10   78   NaN   45.0   NaN\n",
      "11   95   NaN   55.0   NaN\n",
      "12   93   NaN    NaN   NaN\n",
      "13   88   NaN    NaN   NaN\n",
      "14  110   NaN    NaN   NaN\n"
     ]
    }
   ],
   "source": [
    "data = pd.read_csv('E:\\Data Science\\Mathematics and Statistics for Data Science\\Jupyter Lab\\Test\\Data\\One way ANOVA.txt', sep = '\\t')\n",
    "print(data)"
   ]
  },
  {
   "cell_type": "code",
   "execution_count": 7,
   "metadata": {},
   "outputs": [],
   "source": [
    "## Xác định k nhóm là k cột trong tập dữ liệu\n",
    "# groupsA = list(d.columns.values) # array\n",
    "k      = len(data.columns)\n",
    "groups = list(data.columns) # (k column headers)\n",
    "\n",
    "## Tạo k mẫu (loại bỏ giá trị NaN trong các mẫu)\n",
    "samples = []\n",
    "for j in range(k):\n",
    "    sample = [x for x in data[groups[j]] if pd.notnull(x)]\n",
    "    samples.append(sample)\n",
    "    \n",
    "## Số phần tử của mỗi nhóm\n",
    "sizes = np.zeros(k)\n",
    "for j in range(k):\n",
    "    sizes[j] = np.size(samples[j])"
   ]
  },
  {
   "cell_type": "code",
   "execution_count": 11,
   "metadata": {},
   "outputs": [
    {
     "name": "stdout",
     "output_type": "stream",
     "text": [
      "0.7977710039415561 0.5020818274234007\n",
      "không bác bỏ H0: các mẫu từ các quần thể có phương sai bằng nhau.\n"
     ]
    }
   ],
   "source": [
    "# Với  = 0.05, hãy kiểm định giả thuyết H0: “Các quần thể có cùng phương sai.” \n",
    "\n",
    "w, pvalue = stats.levene(samples[0], samples[1], samples[2], samples[3])\n",
    "print(w, pvalue)\n",
    "\n",
    "if pvalue > 0.05:\n",
    "    print('không bác bỏ H0: các mẫu từ các quần thể có phương sai bằng nhau.')\n",
    "else:\n",
    "    print('bác bỏ H0: các mẫu từ các quần thể có phương sai bằng nhau.')\n",
    "# p-value > 0.05 => không bác bỏ H0: các mẫu từ các quần thể có phương sai bằng nhau."
   ]
  },
  {
   "cell_type": "code",
   "execution_count": 12,
   "metadata": {},
   "outputs": [
    {
     "name": "stdout",
     "output_type": "stream",
     "text": [
      "----------- Cách 1: Tính toán \"truyền thống\" theo các công thức ---------\n",
      "SSB           : 12486.4848\n",
      "dfB           : 3\n",
      "SSW           : 11464.5722\n",
      "dfW           : 42\n",
      "F statistic   : 15.2479\n",
      "Critical value: 2.8270\n",
      "(F >= critical value) ==> REJECT the H0 that the means are equal.\n"
     ]
    }
   ],
   "source": [
    "#Với  = 0.05, hãy cho kết luận về giả thuyết H0: “Các quần thể có cùng giá trị trung bình.”\n",
    "#bằng 2 phương pháp:\n",
    "\n",
    "#a) Tính toán truyền thống\n",
    "\n",
    "##------------------------------------------------------------------------------\n",
    "print('----------- Cách 1: Tính toán \"truyền thống\" theo các công thức ---------')\n",
    "##------------------------------------------------------------------------------    \n",
    "## Giá trị trung bình của mỗi mẫu\n",
    "means = np.zeros(k)\n",
    "for j in range(k):\n",
    "    means[j] = np.mean(samples[j])\n",
    "\n",
    "## Giá trị trung bình của tất cả các mẫu\n",
    "meanT = np.mean(means)\n",
    "\n",
    "## Các đại lượng BETWEEN groups: SSB, dfB\n",
    "SSB = 0\n",
    "for j in range(k):\n",
    "    SSB += sizes[j] * np.power((means[j] - meanT), 2)\n",
    "dfB = (k - 1)\n",
    "print('SSB           : %.4f' % SSB)\n",
    "print('dfB           : %d' % dfB)\n",
    "\n",
    "## Các đại lượng WITHIN groups: SSW, dfW\n",
    "SSW = 0\n",
    "for j in range(k):\n",
    "    SSWj = 0\n",
    "    for i in range(int(sizes[j])):\n",
    "        SSWj += np.power(samples[j][i] - means[j], 2)\n",
    "    SSW += SSWj\n",
    "dfW = int(np.sum(sizes) - k)\n",
    "print('SSW           : %.4f' % SSW)\n",
    "print('dfW           : %d' % dfW)\n",
    "\n",
    "## Trị thống kê: F statistics\n",
    "F = (SSB / dfB) / (SSW / dfW)\n",
    "print('F statistic   : %.4f' % F)\n",
    "\n",
    "## Giá trị tới hạn\n",
    "##------------------------------------------------------------------------------\n",
    "## Hàm scipy.stats.f.ppf(q, dfn, dfd) xác định giá trị tới hạn\n",
    "##    q  : confidence level     (1 - alpha)\n",
    "##    dfn: tử số (numerator)    dfB (BETWEEN groups)\n",
    "##    dfd: mẫu số (denominator) dfW (WITHIN groups)\n",
    "##\n",
    "## Hàm scipy.stats.f.cdf(crit, dfn, dfd) xác định confidence level (1 - alpha)\n",
    "##------------------------------------------------------------------------------\n",
    "critical_value = stats.f.ppf(q=1 - alpha, dfn=dfB, dfd=dfW)\n",
    "print('Critical value: %.4f' % critical_value)\n",
    "conf_level = stats.f.cdf(critical_value, dfn=dfB, dfd=dfW)\n",
    "\n",
    "if (F < critical_value):\n",
    "    print('(F <  critical value) ==> ACCEPT the H0 that the means are equal.')\n",
    "else:\n",
    "    print('(F >= critical value) ==> REJECT the H0 that the means are equal.')\n"
   ]
  },
  {
   "cell_type": "code",
   "execution_count": 5,
   "metadata": {},
   "outputs": [
    {
     "name": "stdout",
     "output_type": "stream",
     "text": [
      "----------- Cách 2: Tính toán theo các hàm thống kê ---------\n",
      "Critical value: 2.8270\n",
      "p-value       : 0.0000\n",
      "F statistic   : 15.1391\n",
      "(F >= critical value) ==> REJECT the H0 that the means are equal.\n"
     ]
    }
   ],
   "source": [
    "## b) Dùng các hàm thống kê có sẵn. \n",
    "print('----------- Cách 2: Tính toán theo các hàm thống kê ---------')\n",
    "##------------------------------------------------------------------------------  \n",
    "alpha = 0.05\n",
    "dfB = (k - 1)\n",
    "dfW = int(np.sum(sizes) - k)\n",
    "\n",
    "critical_value = stats.f.ppf(q = 1 - alpha, dfn = dfB, dfd = dfW)\n",
    "print('Critical value: %.4f' %critical_value)\n",
    "\n",
    "fvalue, pvalue = stats.f_oneway(samples[0], samples[1], samples[2], samples[3])\n",
    "\n",
    "print('p-value       : %.4f' %pvalue)\n",
    "print('F statistic   : %.4f' %fvalue)\n",
    "\n",
    "if (fvalue < critical_value):\n",
    "    print('(F <  critical value) ==> ACCEPT the H0 that the means are equal.')\n",
    "else:\n",
    "    print('(F >= critical value) ==> REJECT the H0 that the means are equal.')"
   ]
  },
  {
   "cell_type": "code",
   "execution_count": null,
   "metadata": {},
   "outputs": [],
   "source": []
  }
 ],
 "metadata": {
  "kernelspec": {
   "display_name": "Python 3",
   "language": "python",
   "name": "python3"
  },
  "language_info": {
   "codemirror_mode": {
    "name": "ipython",
    "version": 3
   },
   "file_extension": ".py",
   "mimetype": "text/x-python",
   "name": "python",
   "nbconvert_exporter": "python",
   "pygments_lexer": "ipython3",
   "version": "3.8.5"
  }
 },
 "nbformat": 4,
 "nbformat_minor": 4
}
