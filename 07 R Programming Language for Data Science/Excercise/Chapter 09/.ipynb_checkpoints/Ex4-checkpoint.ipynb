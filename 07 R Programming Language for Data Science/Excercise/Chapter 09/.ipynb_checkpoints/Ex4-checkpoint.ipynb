{
 "cells": [
  {
   "cell_type": "code",
   "execution_count": 2,
   "metadata": {},
   "outputs": [],
   "source": [
    "df = read.csv('../../Data/states2.csv', row.names = 1, sep = \";\", dec = \",\")"
   ]
  },
  {
   "cell_type": "code",
   "execution_count": 3,
   "metadata": {},
   "outputs": [
    {
     "name": "stdout",
     "output_type": "stream",
     "text": [
      "           Population Income Illiteracy Life.Exp Murder HS.Grad Frost   Area\n",
      "Alabama          3615   3624        2.1    69.05   15.1    41.3    20  50708\n",
      "Alaska            365   6315        1.5    69.31   11.3    66.7   152 566432\n",
      "Arizona          2212   4530        1.8    70.55    7.8    58.1    15 113417\n",
      "Arkansas         2110   3378        1.9    70.66   10.1    39.9    65  51945\n",
      "California      21198   5114        1.1    71.71   10.3    62.6    20 156361\n",
      "Colorado         2541   4884        0.7    72.06    6.8    63.9   166 103766\n"
     ]
    }
   ],
   "source": [
    "print(head(df))"
   ]
  },
  {
   "cell_type": "code",
   "execution_count": 4,
   "metadata": {},
   "outputs": [],
   "source": [
    "df_1 = subset(df, df$Income > 4500 & df$Population > 10000)"
   ]
  },
  {
   "cell_type": "code",
   "execution_count": 5,
   "metadata": {},
   "outputs": [
    {
     "name": "stdout",
     "output_type": "stream",
     "text": [
      "[1] \"Data subset of income > 4500 and population > 10000\"\n",
      "           Population Income Illiteracy Life.Exp Murder HS.Grad Frost   Area\n",
      "California      21198   5114        1.1    71.71   10.3    62.6    20 156361\n",
      "Illinois        11197   5107        0.9    70.14   10.3    52.6   127  55748\n",
      "New York        18076   4903        1.4    70.55   10.9    52.7    82  47831\n",
      "Ohio            10735   4561        0.8    70.82    7.4    53.2   124  40975\n"
     ]
    }
   ],
   "source": [
    "print(\"Data subset of income > 4500 and population > 10000\")\n",
    "print(df_1)"
   ]
  },
  {
   "cell_type": "code",
   "execution_count": 6,
   "metadata": {},
   "outputs": [],
   "source": [
    "write.csv(df_1, file = \"states_income.csv\")"
   ]
  },
  {
   "cell_type": "code",
   "execution_count": 7,
   "metadata": {},
   "outputs": [],
   "source": [
    "df_a = read.csv('states_income.csv', row.names = 1)"
   ]
  },
  {
   "cell_type": "code",
   "execution_count": 8,
   "metadata": {},
   "outputs": [
    {
     "name": "stdout",
     "output_type": "stream",
     "text": [
      "[1] \"Data in states_income.csv\"\n",
      "           Population Income Illiteracy Life.Exp Murder HS.Grad Frost   Area\n",
      "California      21198   5114        1.1    71.71   10.3    62.6    20 156361\n",
      "Illinois        11197   5107        0.9    70.14   10.3    52.6   127  55748\n",
      "New York        18076   4903        1.4    70.55   10.9    52.7    82  47831\n",
      "Ohio            10735   4561        0.8    70.82    7.4    53.2   124  40975\n"
     ]
    }
   ],
   "source": [
    "print(\"Data in states_income.csv\")\n",
    "print(df_a)"
   ]
  },
  {
   "cell_type": "code",
   "execution_count": 9,
   "metadata": {},
   "outputs": [
    {
     "name": "stderr",
     "output_type": "stream",
     "text": [
      "-- \u001b[1mAttaching packages\u001b[22m ------------------------------------------------------------------------------- tidyverse 1.3.0 --\n",
      "\n",
      "\u001b[32m<U+221A>\u001b[39m \u001b[34mggplot2\u001b[39m 3.3.3     \u001b[32m<U+221A>\u001b[39m \u001b[34mpurrr  \u001b[39m 0.3.4\n",
      "\u001b[32m<U+221A>\u001b[39m \u001b[34mtibble \u001b[39m 3.0.4     \u001b[32m<U+221A>\u001b[39m \u001b[34mdplyr  \u001b[39m 1.0.2\n",
      "\u001b[32m<U+221A>\u001b[39m \u001b[34mtidyr  \u001b[39m 1.1.2     \u001b[32m<U+221A>\u001b[39m \u001b[34mstringr\u001b[39m 1.4.0\n",
      "\u001b[32m<U+221A>\u001b[39m \u001b[34mreadr  \u001b[39m 1.4.0     \u001b[32m<U+221A>\u001b[39m \u001b[34mforcats\u001b[39m 0.5.0\n",
      "\n",
      "-- \u001b[1mConflicts\u001b[22m ---------------------------------------------------------------------------------- tidyverse_conflicts() --\n",
      "\u001b[31mx\u001b[39m \u001b[34mdplyr\u001b[39m::\u001b[32mfilter()\u001b[39m masks \u001b[34mstats\u001b[39m::filter()\n",
      "\u001b[31mx\u001b[39m \u001b[34mdplyr\u001b[39m::\u001b[32mlag()\u001b[39m    masks \u001b[34mstats\u001b[39m::lag()\n",
      "\n"
     ]
    }
   ],
   "source": [
    "library(tidyverse)"
   ]
  },
  {
   "cell_type": "code",
   "execution_count": 10,
   "metadata": {},
   "outputs": [
    {
     "data": {
      "text/html": [
       "<table>\n",
       "<caption>A data.frame: 4 × 8</caption>\n",
       "<thead>\n",
       "\t<tr><th></th><th scope=col>Population</th><th scope=col>Income</th><th scope=col>Illiteracy</th><th scope=col>Life.Exp</th><th scope=col>Murder</th><th scope=col>HS.Grad</th><th scope=col>Frost</th><th scope=col>Area</th></tr>\n",
       "\t<tr><th></th><th scope=col>&lt;int&gt;</th><th scope=col>&lt;int&gt;</th><th scope=col>&lt;dbl&gt;</th><th scope=col>&lt;dbl&gt;</th><th scope=col>&lt;dbl&gt;</th><th scope=col>&lt;dbl&gt;</th><th scope=col>&lt;int&gt;</th><th scope=col>&lt;int&gt;</th></tr>\n",
       "</thead>\n",
       "<tbody>\n",
       "\t<tr><th scope=row>California</th><td>21198</td><td>5114</td><td>1.1</td><td>71.71</td><td>10.3</td><td>62.6</td><td> 20</td><td>156361</td></tr>\n",
       "\t<tr><th scope=row>Illinois</th><td>11197</td><td>5107</td><td>0.9</td><td>70.14</td><td>10.3</td><td>52.6</td><td>127</td><td> 55748</td></tr>\n",
       "\t<tr><th scope=row>New York</th><td>18076</td><td>4903</td><td>1.4</td><td>70.55</td><td>10.9</td><td>52.7</td><td> 82</td><td> 47831</td></tr>\n",
       "\t<tr><th scope=row>Ohio</th><td>10735</td><td>4561</td><td>0.8</td><td>70.82</td><td> 7.4</td><td>53.2</td><td>124</td><td> 40975</td></tr>\n",
       "</tbody>\n",
       "</table>\n"
      ],
      "text/latex": [
       "A data.frame: 4 × 8\n",
       "\\begin{tabular}{r|llllllll}\n",
       "  & Population & Income & Illiteracy & Life.Exp & Murder & HS.Grad & Frost & Area\\\\\n",
       "  & <int> & <int> & <dbl> & <dbl> & <dbl> & <dbl> & <int> & <int>\\\\\n",
       "\\hline\n",
       "\tCalifornia & 21198 & 5114 & 1.1 & 71.71 & 10.3 & 62.6 &  20 & 156361\\\\\n",
       "\tIllinois & 11197 & 5107 & 0.9 & 70.14 & 10.3 & 52.6 & 127 &  55748\\\\\n",
       "\tNew York & 18076 & 4903 & 1.4 & 70.55 & 10.9 & 52.7 &  82 &  47831\\\\\n",
       "\tOhio & 10735 & 4561 & 0.8 & 70.82 &  7.4 & 53.2 & 124 &  40975\\\\\n",
       "\\end{tabular}\n"
      ],
      "text/markdown": [
       "\n",
       "A data.frame: 4 × 8\n",
       "\n",
       "| <!--/--> | Population &lt;int&gt; | Income &lt;int&gt; | Illiteracy &lt;dbl&gt; | Life.Exp &lt;dbl&gt; | Murder &lt;dbl&gt; | HS.Grad &lt;dbl&gt; | Frost &lt;int&gt; | Area &lt;int&gt; |\n",
       "|---|---|---|---|---|---|---|---|---|\n",
       "| California | 21198 | 5114 | 1.1 | 71.71 | 10.3 | 62.6 |  20 | 156361 |\n",
       "| Illinois | 11197 | 5107 | 0.9 | 70.14 | 10.3 | 52.6 | 127 |  55748 |\n",
       "| New York | 18076 | 4903 | 1.4 | 70.55 | 10.9 | 52.7 |  82 |  47831 |\n",
       "| Ohio | 10735 | 4561 | 0.8 | 70.82 |  7.4 | 53.2 | 124 |  40975 |\n",
       "\n"
      ],
      "text/plain": [
       "           Population Income Illiteracy Life.Exp Murder HS.Grad Frost Area  \n",
       "California 21198      5114   1.1        71.71    10.3   62.6     20   156361\n",
       "Illinois   11197      5107   0.9        70.14    10.3   52.6    127    55748\n",
       "New York   18076      4903   1.4        70.55    10.9   52.7     82    47831\n",
       "Ohio       10735      4561   0.8        70.82     7.4   53.2    124    40975"
      ]
     },
     "metadata": {},
     "output_type": "display_data"
    }
   ],
   "source": [
    "df_2 = df %>% filter(Income > 4500, df$Population > 10000)\n",
    "df_2"
   ]
  },
  {
   "cell_type": "code",
   "execution_count": null,
   "metadata": {},
   "outputs": [],
   "source": []
  }
 ],
 "metadata": {
  "kernelspec": {
   "display_name": "R",
   "language": "R",
   "name": "ir"
  },
  "language_info": {
   "codemirror_mode": "r",
   "file_extension": ".r",
   "mimetype": "text/x-r-source",
   "name": "R",
   "pygments_lexer": "r",
   "version": "4.0.3"
  }
 },
 "nbformat": 4,
 "nbformat_minor": 4
}
