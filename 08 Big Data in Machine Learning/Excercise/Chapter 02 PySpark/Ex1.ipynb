{
 "cells": [
  {
   "cell_type": "code",
   "execution_count": 1,
   "id": "absolute-technique",
   "metadata": {},
   "outputs": [],
   "source": [
    "import findspark\n",
    "findspark.init()"
   ]
  },
  {
   "cell_type": "code",
   "execution_count": 2,
   "id": "funded-china",
   "metadata": {},
   "outputs": [],
   "source": [
    "import pyspark\n",
    "from pyspark import SparkContext"
   ]
  },
  {
   "cell_type": "code",
   "execution_count": 3,
   "id": "formed-mapping",
   "metadata": {},
   "outputs": [],
   "source": [
    "sc = SparkContext(master=\"local\", appName=\"Ex1 Spark Context\")"
   ]
  },
  {
   "cell_type": "code",
   "execution_count": 4,
   "id": "automatic-survivor",
   "metadata": {},
   "outputs": [],
   "source": [
    "file_name = \"../../Data/t8.shakespeare.txt\"\n",
    "data = sc.textFile(file_name).cache()"
   ]
  },
  {
   "cell_type": "markdown",
   "id": "numerical-athletics",
   "metadata": {},
   "source": [
    "* Cho biết tệp tin có bao nhiêu dòng"
   ]
  },
  {
   "cell_type": "code",
   "execution_count": 5,
   "id": "wireless-christianity",
   "metadata": {},
   "outputs": [
    {
     "name": "stdout",
     "output_type": "stream",
     "text": [
      "Lines: 124456\n"
     ]
    }
   ],
   "source": [
    "print(\"Lines: %i\" % (len(data.collect())))"
   ]
  },
  {
   "cell_type": "markdown",
   "id": "derived-arrival",
   "metadata": {},
   "source": [
    "* Cho biết từ \"Love\" xuất hiện trong bao nhiêu dòng"
   ]
  },
  {
   "cell_type": "code",
   "execution_count": 6,
   "id": "secret-greenhouse",
   "metadata": {},
   "outputs": [],
   "source": [
    "numLoves = data.filter(lambda s: 'love' in s).count()"
   ]
  },
  {
   "cell_type": "code",
   "execution_count": 7,
   "id": "american-lender",
   "metadata": {},
   "outputs": [
    {
     "name": "stdout",
     "output_type": "stream",
     "text": [
      "Line with 'love': 2484\n"
     ]
    }
   ],
   "source": [
    "print(\"Line with 'love': %i\" % (numLoves))"
   ]
  },
  {
   "cell_type": "markdown",
   "id": "blond-birth",
   "metadata": {},
   "source": [
    "* Cho biết trong tệp tin có xuất hiện số (bất kỳ) không? Nếu có thì xuất hiện trong bao nhiêu dòng? Liệt kê các dòng đó."
   ]
  },
  {
   "cell_type": "code",
   "execution_count": 8,
   "id": "dedicated-valentine",
   "metadata": {},
   "outputs": [],
   "source": [
    "import re"
   ]
  },
  {
   "cell_type": "code",
   "execution_count": 9,
   "id": "whole-compensation",
   "metadata": {},
   "outputs": [],
   "source": [
    "pattern = \"[\\s|\\S]*\\d{1,}{\\s|\\S}\"\n",
    "numbers = data.filter(lambda s:re.match(pattern, s)).count()"
   ]
  },
  {
   "cell_type": "code",
   "execution_count": 10,
   "id": "facial-highlight",
   "metadata": {},
   "outputs": [
    {
     "name": "stdout",
     "output_type": "stream",
     "text": [
      "No number in this file.\n"
     ]
    }
   ],
   "source": [
    "if numbers > 0:\n",
    "    print(\"Line with number: %i\" % (numbers))\n",
    "    number_line = data.filter(lambda s: re.match(pattern, s))\n",
    "    i = 0\n",
    "    for line in number_lines.collect():\n",
    "        print(i, \":\", line)\n",
    "else:\n",
    "    print(\"No number in this file.\")"
   ]
  }
 ],
 "metadata": {
  "kernelspec": {
   "display_name": "Python 3",
   "language": "python",
   "name": "python3"
  },
  "language_info": {
   "codemirror_mode": {
    "name": "ipython",
    "version": 3
   },
   "file_extension": ".py",
   "mimetype": "text/x-python",
   "name": "python",
   "nbconvert_exporter": "python",
   "pygments_lexer": "ipython3",
   "version": "3.8.3"
  }
 },
 "nbformat": 4,
 "nbformat_minor": 5
}
