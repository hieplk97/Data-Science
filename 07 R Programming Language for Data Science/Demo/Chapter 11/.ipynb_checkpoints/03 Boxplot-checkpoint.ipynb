{
 "cells": [
  {
   "cell_type": "code",
   "execution_count": 1,
   "metadata": {},
   "outputs": [
    {
     "data": {
      "text/html": [
       "<table>\n",
       "<caption>A data.frame: 6 × 3</caption>\n",
       "<thead>\n",
       "\t<tr><th></th><th scope=col>X</th><th scope=col>height</th><th scope=col>weight</th></tr>\n",
       "\t<tr><th></th><th scope=col>&lt;int&gt;</th><th scope=col>&lt;dbl&gt;</th><th scope=col>&lt;dbl&gt;</th></tr>\n",
       "</thead>\n",
       "<tbody>\n",
       "\t<tr><th scope=row>1</th><td>0</td><td>1.8796</td><td>81.64656</td></tr>\n",
       "\t<tr><th scope=row>2</th><td>1</td><td>1.8796</td><td>97.52228</td></tr>\n",
       "\t<tr><th scope=row>3</th><td>2</td><td>1.8288</td><td>95.25432</td></tr>\n",
       "\t<tr><th scope=row>4</th><td>3</td><td>1.8288</td><td>95.25432</td></tr>\n",
       "\t<tr><th scope=row>5</th><td>4</td><td>1.8542</td><td>85.27530</td></tr>\n",
       "\t<tr><th scope=row>6</th><td>5</td><td>1.7526</td><td>79.83219</td></tr>\n",
       "</tbody>\n",
       "</table>\n"
      ],
      "text/latex": [
       "A data.frame: 6 × 3\n",
       "\\begin{tabular}{r|lll}\n",
       "  & X & height & weight\\\\\n",
       "  & <int> & <dbl> & <dbl>\\\\\n",
       "\\hline\n",
       "\t1 & 0 & 1.8796 & 81.64656\\\\\n",
       "\t2 & 1 & 1.8796 & 97.52228\\\\\n",
       "\t3 & 2 & 1.8288 & 95.25432\\\\\n",
       "\t4 & 3 & 1.8288 & 95.25432\\\\\n",
       "\t5 & 4 & 1.8542 & 85.27530\\\\\n",
       "\t6 & 5 & 1.7526 & 79.83219\\\\\n",
       "\\end{tabular}\n"
      ],
      "text/markdown": [
       "\n",
       "A data.frame: 6 × 3\n",
       "\n",
       "| <!--/--> | X &lt;int&gt; | height &lt;dbl&gt; | weight &lt;dbl&gt; |\n",
       "|---|---|---|---|\n",
       "| 1 | 0 | 1.8796 | 81.64656 |\n",
       "| 2 | 1 | 1.8796 | 97.52228 |\n",
       "| 3 | 2 | 1.8288 | 95.25432 |\n",
       "| 4 | 3 | 1.8288 | 95.25432 |\n",
       "| 5 | 4 | 1.8542 | 85.27530 |\n",
       "| 6 | 5 | 1.7526 | 79.83219 |\n",
       "\n"
      ],
      "text/plain": [
       "  X height weight  \n",
       "1 0 1.8796 81.64656\n",
       "2 1 1.8796 97.52228\n",
       "3 2 1.8288 95.25432\n",
       "4 3 1.8288 95.25432\n",
       "5 4 1.8542 85.27530\n",
       "6 5 1.7526 79.83219"
      ]
     },
     "metadata": {},
     "output_type": "display_data"
    }
   ],
   "source": [
    "data = read.csv(\"../../Data/baseball.csv\")\n",
    "head(data)"
   ]
  },
  {
   "cell_type": "code",
   "execution_count": 2,
   "metadata": {},
   "outputs": [
    {
     "data": {
      "image/png": "[encoded data removed]",
      "text/plain": [
       "Plot with title \"Height\""
      ]
     },
     "metadata": {
      "image/png": {
       "height": 420,
       "width": 420
      }
     },
     "output_type": "display_data"
    }
   ],
   "source": [
    "boxplot(data$height, main=\"Height\", ylab=\"(m)\")"
   ]
  },
  {
   "cell_type": "code",
   "execution_count": 3,
   "metadata": {},
   "outputs": [
    {
     "name": "stderr",
     "output_type": "stream",
     "text": [
      "Warning message in bxp(list(stats = structure(c(1.7272, 1.8288, 1.8796, 1.905, 2.0066:\n",
      "\"Duplicated argument main = \"Height\" is disregarded\"\n"
     ]
    },
    {
     "data": {
      "image/png": "[encoded data removed]",
      "text/plain": [
       "Plot with title \"Height\""
      ]
     },
     "metadata": {
      "image/png": {
       "height": 420,
       "width": 420
      }
     },
     "output_type": "display_data"
    }
   ],
   "source": [
    "boxplot(data$height, main=\"Height\", ylab=\"(m)\",\n",
    "       notch = TRUE, varwidth = TRUE, col = c(\"green\"), main = \"Height\")"
   ]
  }
 ],
 "metadata": {
  "kernelspec": {
   "display_name": "R",
   "language": "R",
   "name": "ir"
  },
  "language_info": {
   "codemirror_mode": "r",
   "file_extension": ".r",
   "mimetype": "text/x-r-source",
   "name": "R",
   "pygments_lexer": "r",
   "version": "4.0.3"
  }
 },
 "nbformat": 4,
 "nbformat_minor": 4
}
