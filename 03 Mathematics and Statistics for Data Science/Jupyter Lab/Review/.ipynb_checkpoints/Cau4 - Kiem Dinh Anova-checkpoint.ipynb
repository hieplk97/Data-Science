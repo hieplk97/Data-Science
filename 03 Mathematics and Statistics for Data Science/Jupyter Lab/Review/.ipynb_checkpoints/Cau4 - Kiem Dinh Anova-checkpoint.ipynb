{
 "cells": [
  {
   "cell_type": "raw",
   "metadata": {},
   "source": [
    "Tập tin ‘One way ANOVA.txt’ lưu trữ bốn mẫu dữ liệu A, B, C và D.\n",
    "4.1) Đọc và xem thông tin của dữ liệu.\n",
    "4.2) Với  = 0.05, hãy cho kết luận về giả thuyết H0: “Các quần thể có cùng giá trị trung bình.”. "
   ]
  },
  {
   "cell_type": "code",
   "execution_count": 1,
   "metadata": {},
   "outputs": [],
   "source": [
    "import numpy       as np\n",
    "import pandas      as pd\n",
    "import scipy.stats as stats"
   ]
  },
  {
   "cell_type": "code",
   "execution_count": 6,
   "metadata": {},
   "outputs": [
    {
     "name": "stdout",
     "output_type": "stream",
     "text": [
      "      A     B      C     D\n",
      "0    93  85.0  100.0  96.0\n",
      "1   120  45.0   75.0  58.0\n",
      "2    65  80.0   65.0  95.0\n",
      "3   105  28.0   40.0  90.0\n",
      "4   115  75.0   73.0  65.0\n",
      "5    82  70.0   65.0  80.0\n",
      "6    99  65.0   50.0  85.0\n",
      "7    87  55.0   30.0  95.0\n",
      "8   100  50.0   45.0  82.0\n",
      "9    90  40.0   50.0   NaN\n",
      "10   78   NaN   45.0   NaN\n",
      "11   95   NaN   55.0   NaN\n",
      "12   93   NaN    NaN   NaN\n",
      "13   88   NaN    NaN   NaN\n",
      "14  110   NaN    NaN   NaN\n"
     ]
    }
   ],
   "source": [
    "data = pd.read_csv('E:\\Data Science\\Mathematics and Statistics for Data Science\\Review\\One way ANOVA.txt', sep = '\\t')\n",
    "print(data)"
   ]
  },
  {
   "cell_type": "code",
   "execution_count": 7,
   "metadata": {},
   "outputs": [],
   "source": [
    "## Xác định k nhóm là k cột trong tập dữ liệu\n",
    "# groupsA = list(d.columns.values) # array\n",
    "k      = len(data.columns)\n",
    "groups = list(data.columns) # (k column headers)\n",
    "\n",
    "## Tạo k mẫu (loại bỏ giá trị NaN trong các mẫu)\n",
    "samples = []\n",
    "for j in range(k):\n",
    "    sample = [x for x in data[groups[j]] if pd.notnull(x)]\n",
    "    samples.append(sample)"
   ]
  },
  {
   "cell_type": "code",
   "execution_count": 9,
   "metadata": {},
   "outputs": [
    {
     "ename": "NameError",
     "evalue": "name 'alpha' is not defined",
     "output_type": "error",
     "traceback": [
      "\u001b[1;31m---------------------------------------------------------------------------\u001b[0m",
      "\u001b[1;31mNameError\u001b[0m                                 Traceback (most recent call last)",
      "\u001b[1;32m<ipython-input-9-e726e5128d27>\u001b[0m in \u001b[0;36m<module>\u001b[1;34m\u001b[0m\n\u001b[1;32m----> 1\u001b[1;33m \u001b[0mcritical_value\u001b[0m \u001b[1;33m=\u001b[0m \u001b[0mstats\u001b[0m\u001b[1;33m.\u001b[0m\u001b[0mf\u001b[0m\u001b[1;33m.\u001b[0m\u001b[0mppf\u001b[0m\u001b[1;33m(\u001b[0m\u001b[0mq\u001b[0m \u001b[1;33m=\u001b[0m \u001b[1;36m1\u001b[0m \u001b[1;33m-\u001b[0m \u001b[0malpha\u001b[0m\u001b[1;33m,\u001b[0m \u001b[0mdfn\u001b[0m \u001b[1;33m=\u001b[0m \u001b[0mdfB\u001b[0m\u001b[1;33m,\u001b[0m \u001b[0mdfd\u001b[0m \u001b[1;33m=\u001b[0m \u001b[0mdfW\u001b[0m\u001b[1;33m)\u001b[0m\u001b[1;33m\u001b[0m\u001b[1;33m\u001b[0m\u001b[0m\n\u001b[0m\u001b[0;32m      2\u001b[0m \u001b[0mprint\u001b[0m\u001b[1;33m(\u001b[0m\u001b[1;34m'Critical value: %.4f'\u001b[0m \u001b[1;33m%\u001b[0m\u001b[0mcritical_value\u001b[0m\u001b[1;33m)\u001b[0m\u001b[1;33m\u001b[0m\u001b[1;33m\u001b[0m\u001b[0m\n\u001b[0;32m      3\u001b[0m \u001b[1;33m\u001b[0m\u001b[0m\n\u001b[0;32m      4\u001b[0m \u001b[0mfvalue\u001b[0m\u001b[1;33m,\u001b[0m \u001b[0mpvalue\u001b[0m \u001b[1;33m=\u001b[0m \u001b[0mstats\u001b[0m\u001b[1;33m.\u001b[0m\u001b[0mf_oneway\u001b[0m\u001b[1;33m(\u001b[0m\u001b[0msamples\u001b[0m\u001b[1;33m[\u001b[0m\u001b[1;36m0\u001b[0m\u001b[1;33m]\u001b[0m\u001b[1;33m,\u001b[0m \u001b[0msamples\u001b[0m\u001b[1;33m[\u001b[0m\u001b[1;36m1\u001b[0m\u001b[1;33m]\u001b[0m\u001b[1;33m,\u001b[0m \u001b[0msamples\u001b[0m\u001b[1;33m[\u001b[0m\u001b[1;36m2\u001b[0m\u001b[1;33m]\u001b[0m\u001b[1;33m,\u001b[0m \u001b[0msamples\u001b[0m\u001b[1;33m[\u001b[0m\u001b[1;36m3\u001b[0m\u001b[1;33m]\u001b[0m\u001b[1;33m)\u001b[0m\u001b[1;33m\u001b[0m\u001b[1;33m\u001b[0m\u001b[0m\n\u001b[0;32m      5\u001b[0m \u001b[1;33m\u001b[0m\u001b[0m\n",
      "\u001b[1;31mNameError\u001b[0m: name 'alpha' is not defined"
     ]
    }
   ],
   "source": [
    "alpha = 0.05\n",
    "critical_value = stats.f.ppf(q = 1 - alpha, dfn = dfB, dfd = dfW)\n",
    "print('Critical value: %.4f' %critical_value)\n",
    "\n",
    "fvalue, pvalue = stats.f_oneway(samples[0], samples[1], samples[2], samples[3])\n",
    "\n",
    "print('p-value       : %.4f' %pvalue)\n",
    "print('F statistic   : %.4f' %fvalue)\n",
    "\n",
    "if (fvalue < critical_value):\n",
    "    print('(F <  critical value) ==> ACCEPT the H0 that the means are equal.')\n",
    "else:\n",
    "    print('(F >= critical value) ==> REJECT the H0 that the means are equal.')"
   ]
  },
  {
   "cell_type": "code",
   "execution_count": 8,
   "metadata": {},
   "outputs": [
    {
     "name": "stdout",
     "output_type": "stream",
     "text": [
      "p-value       : 0.0000\n",
      "F statistic   : 15.1391\n"
     ]
    }
   ],
   "source": []
  }
 ],
 "metadata": {
  "kernelspec": {
   "display_name": "Python 3",
   "language": "python",
   "name": "python3"
  },
  "language_info": {
   "codemirror_mode": {
    "name": "ipython",
    "version": 3
   },
   "file_extension": ".py",
   "mimetype": "text/x-python",
   "name": "python",
   "nbconvert_exporter": "python",
   "pygments_lexer": "ipython3",
   "version": "3.8.5"
  }
 },
 "nbformat": 4,
 "nbformat_minor": 4
}
