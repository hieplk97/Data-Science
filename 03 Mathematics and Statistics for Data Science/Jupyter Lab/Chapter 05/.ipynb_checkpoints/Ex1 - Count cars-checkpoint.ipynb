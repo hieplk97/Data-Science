{
 "cells": [
  {
   "cell_type": "raw",
   "metadata": {},
   "source": [
    "\"\"\"=============================================================================\n",
    "Bài toán: Một thanh tra giao thông đã đếm số lượng ô tô đi qua một điểm nhất định \n",
    "          trong 100 khoảng thời gian (cách nhau 20 phút). Các quan sát được liệt kê\n",
    "          trong tập tin count_cars.txt.\n",
    "   1. Tạo cars_array từ nội dung tập tin.\n",
    "   2. Vẽ biểu đồ phân phối tần suất của cars_array\n",
    "   3. Thống kê cơ bản cho cars_array; \n",
    "      mean, median, mode (những giá trị nào? số lần bao nhiêu?), max, min, ...\n",
    "   4. Tìm range\n",
    "   5. Cho biết giá trị ở phân vị thứ [5, 15, 25, 50, 75, 90] của cars_array. \n",
    "      Biểu diễn phân vị và giá trị tương ứng trên biểu đồ.\n",
    "   6. Vẽ boxplot của cars_array. \n",
    "      Dùng z-score để xác định outliers (indexes nào ? giá trị outliers ?)\n",
    "   7. Tìm IQR cho car_arrays\n",
    "   8. Tìm phương sai (variance) cùa cars_array\n",
    "   9. Tìm độ lệch chuẩn Standard deviation của cars_array\n",
    "   10. Tìm độ xiên (Skewness) của cars_array. Nhận xét kết quả.\n",
    "   11. Tìm độ nhọn Kurtosis của cars_array. Nhận xét kết quả.   \n",
    "=============================================================================\"\"\""
   ]
  },
  {
   "cell_type": "code",
   "execution_count": null,
   "metadata": {},
   "outputs": [],
   "source": [
    "import numpy as np\n",
    "import matplotlib.pyplot as plt\n",
    "import seaborn as sns\n",
    "\n",
    "from numpy import mean, median\n",
    "from scipy import stats"
   ]
  },
  {
   "cell_type": "code",
   "execution_count": null,
   "metadata": {},
   "outputs": [],
   "source": [
    "print('====================================================')\n",
    "print('*** 1. Tạo mảng dữ liệu chứa từ nội dung tập tin ***')\n",
    "print('====================================================')\n",
    "LDS3folder = 'E:\\Data Science\\Mathematics and Statistics for Data Science\\Excercise'\n",
    "folder = LDS3folder + '\\Data\\B5/'\n",
    "f = open(folder + 'count_cars.txt', 'r')\n",
    "\n",
    "content = f.read()\n",
    "print('Data:\\n', content, '\\n')"
   ]
  },
  {
   "cell_type": "code",
   "execution_count": null,
   "metadata": {},
   "outputs": [],
   "source": [
    "cars = content.split()\n",
    "cars = list(map(int, cars))\n",
    "cars_array = np.array(cars)\n",
    "print('Cars array:\\n', cars_array, '\\n')\n",
    "\n",
    "type(cars_array)\n",
    "\n",
    "print('=======================================================')\n",
    "print('*** 2. Vẽ biểu đồ phân phối tần suất của dữ liệu    ***')\n",
    "print('=======================================================')"
   ]
  },
  {
   "cell_type": "code",
   "execution_count": null,
   "metadata": {},
   "outputs": [],
   "source": [
    "plt.figure(figsize=(8, 4))\n",
    "plt.subplot(1, 2, 1)\n",
    "plt.hist(cars_array)\n",
    "plt.subplot(1, 2, 2)\n",
    "sns.distplot(cars_array)\n",
    "plt.show()"
   ]
  },
  {
   "cell_type": "code",
   "execution_count": null,
   "metadata": {},
   "outputs": [],
   "source": [
    "print('================================================')\n",
    "print('*** 3. Những thống kê cơ bản trên dữ liệu    ***')\n",
    "print('================================================')\n",
    "print('Mean   x_    =', mean(cars_array))\n",
    "print('MIN    x_min =', min(cars_array))\n",
    "print('MAX    x_max =', max(cars_array))\n",
    "print('Median x_med =', median(cars_array))\n",
    "x_mod = stats.mode(cars_array)\n",
    "print('Mode   x_mod =', x_mod[0][0])\n",
    "print('       f(x)  =', x_mod[1][0])  # số lần"
   ]
  },
  {
   "cell_type": "code",
   "execution_count": null,
   "metadata": {},
   "outputs": [],
   "source": [
    "print('================================================')\n",
    "print('*** 4. Tìm range                             ***')\n",
    "print('================================================')\n",
    "range_cars = np.ptp(cars_array)\n",
    "print('Range        =', range_cars)"
   ]
  },
  {
   "cell_type": "code",
   "execution_count": null,
   "metadata": {},
   "outputs": [],
   "source": [
    "print('================================================')\n",
    "print('*** 5. Tìm các giá trị bách phân vị          ***')\n",
    "print('================================================')\n",
    "percentiles = np.array([5, 15, 25, 50, 75, 90])  # trục tung\n",
    "x = np.percentile(cars_array, percentiles)  # trục hoành\n",
    "print('Percentiles =', x)\n",
    "plt.plot(x, percentiles / 100, marker='D', color='red', linestyle='none')\n",
    "plt.show()"
   ]
  },
  {
   "cell_type": "code",
   "execution_count": null,
   "metadata": {},
   "outputs": [],
   "source": []
  }
 ],
 "metadata": {
  "kernelspec": {
   "display_name": "Python 3",
   "language": "python",
   "name": "python3"
  },
  "language_info": {
   "codemirror_mode": {
    "name": "ipython",
    "version": 3
   },
   "file_extension": ".py",
   "mimetype": "text/x-python",
   "name": "python",
   "nbconvert_exporter": "python",
   "pygments_lexer": "ipython3",
   "version": "3.8.5"
  }
 },
 "nbformat": 4,
 "nbformat_minor": 4
}
