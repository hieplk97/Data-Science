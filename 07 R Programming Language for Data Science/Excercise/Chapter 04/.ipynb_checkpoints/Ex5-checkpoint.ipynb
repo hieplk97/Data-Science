{
 "cells": [
  {
   "cell_type": "code",
   "execution_count": 1,
   "metadata": {},
   "outputs": [
    {
     "name": "stdin",
     "output_type": "stream",
     "text": [
      "Guess:  5\n"
     ]
    },
    {
     "name": "stderr",
     "output_type": "stream",
     "text": [
      "Your number > Our number\n",
      "\n"
     ]
    },
    {
     "name": "stdin",
     "output_type": "stream",
     "text": [
      "Guess:  3\n"
     ]
    },
    {
     "name": "stderr",
     "output_type": "stream",
     "text": [
      "Your number > Our number\n",
      "\n"
     ]
    },
    {
     "name": "stdin",
     "output_type": "stream",
     "text": [
      "Guess:  1\n"
     ]
    },
    {
     "name": "stderr",
     "output_type": "stream",
     "text": [
      "Your number > Our number\n",
      "\n",
      "You lose! Our number is  9\n",
      "\n"
     ]
    },
    {
     "name": "stdin",
     "output_type": "stream",
     "text": [
      "Continue-y / Stop-others  n\n"
     ]
    }
   ],
   "source": [
    "cont = \"y\"\n",
    "while (cont == \"y\") {\n",
    "    time = 0\n",
    "    random_number = round(runif(1, 1, 10), 0)\n",
    "    win = FALSE\n",
    "    repeat {\n",
    "        answer = as.integer(readline(prompt = \"Guess: \"))\n",
    "        time = time +1\n",
    "\n",
    "        if (answer < random_number){\n",
    "            message('Your number > Our number')\n",
    "        } else if (answer > random_number){\n",
    "            message('Your number < Our number')\n",
    "        } else {\n",
    "            message('Your number = Our number => You win')\n",
    "            win = TRUE\n",
    "            break\n",
    "        }\n",
    "        \n",
    "        if (time == 3 & win == FALSE){\n",
    "            message(paste('You lose! Our number is ', random_number))\n",
    "            break\n",
    "        }\n",
    "        \n",
    "    }\n",
    "    cont = (readline(prompt = \"Continue-y / Stop-others \"))\n",
    "}"
   ]
  },
  {
   "cell_type": "code",
   "execution_count": null,
   "metadata": {},
   "outputs": [],
   "source": []
  }
 ],
 "metadata": {
  "kernelspec": {
   "display_name": "R",
   "language": "R",
   "name": "ir"
  },
  "language_info": {
   "codemirror_mode": "r",
   "file_extension": ".r",
   "mimetype": "text/x-r-source",
   "name": "R",
   "pygments_lexer": "r",
   "version": "4.0.3"
  }
 },
 "nbformat": 4,
 "nbformat_minor": 4
}
