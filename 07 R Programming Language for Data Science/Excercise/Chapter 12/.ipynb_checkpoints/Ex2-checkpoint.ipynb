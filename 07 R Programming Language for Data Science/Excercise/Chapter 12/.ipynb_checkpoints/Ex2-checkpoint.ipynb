{
 "cells": [
  {
   "cell_type": "code",
   "execution_count": 1,
   "metadata": {},
   "outputs": [],
   "source": [
    "library(ggplot2)"
   ]
  },
  {
   "cell_type": "code",
   "execution_count": 2,
   "metadata": {},
   "outputs": [],
   "source": [
    "land_data = read.csv(\"../../Data/landdata_states.csv\")"
   ]
  },
  {
   "cell_type": "code",
   "execution_count": 3,
   "metadata": {},
   "outputs": [
    {
     "data": {
      "text/html": [
       "<table>\n",
       "<caption>A data.frame: 6 × 11</caption>\n",
       "<thead>\n",
       "\t<tr><th></th><th scope=col>State</th><th scope=col>region</th><th scope=col>Date</th><th scope=col>Home.Value</th><th scope=col>Structure.Cost</th><th scope=col>Land.Value</th><th scope=col>Land.Share..Pct.</th><th scope=col>Home.Price.Index</th><th scope=col>Land.Price.Index</th><th scope=col>Year</th><th scope=col>Qrtr</th></tr>\n",
       "\t<tr><th></th><th scope=col>&lt;chr&gt;</th><th scope=col>&lt;chr&gt;</th><th scope=col>&lt;dbl&gt;</th><th scope=col>&lt;int&gt;</th><th scope=col>&lt;int&gt;</th><th scope=col>&lt;int&gt;</th><th scope=col>&lt;dbl&gt;</th><th scope=col>&lt;dbl&gt;</th><th scope=col>&lt;dbl&gt;</th><th scope=col>&lt;int&gt;</th><th scope=col>&lt;int&gt;</th></tr>\n",
       "</thead>\n",
       "<tbody>\n",
       "\t<tr><th scope=row>1</th><td>AK</td><td>West</td><td>2010.25</td><td>224952</td><td>160599</td><td>64352</td><td>28.6</td><td>1.481</td><td>1.552</td><td>2010</td><td>1</td></tr>\n",
       "\t<tr><th scope=row>2</th><td>AK</td><td>West</td><td>2010.50</td><td>225511</td><td>160252</td><td>65259</td><td>28.9</td><td>1.484</td><td>1.576</td><td>2010</td><td>2</td></tr>\n",
       "\t<tr><th scope=row>3</th><td>AK</td><td>West</td><td>2009.75</td><td>225820</td><td>163791</td><td>62029</td><td>27.5</td><td>1.486</td><td>1.494</td><td>2009</td><td>3</td></tr>\n",
       "\t<tr><th scope=row>4</th><td>AK</td><td>West</td><td>2010.00</td><td>224994</td><td>161787</td><td>63207</td><td>28.1</td><td>1.481</td><td>1.524</td><td>2009</td><td>4</td></tr>\n",
       "\t<tr><th scope=row>5</th><td>AK</td><td>West</td><td>2008.00</td><td>234590</td><td>155400</td><td>79190</td><td>33.8</td><td>1.544</td><td>1.885</td><td>2007</td><td>4</td></tr>\n",
       "\t<tr><th scope=row>6</th><td>AK</td><td>West</td><td>2008.25</td><td>233714</td><td>157458</td><td>76256</td><td>32.6</td><td>1.538</td><td>1.817</td><td>2008</td><td>1</td></tr>\n",
       "</tbody>\n",
       "</table>\n"
      ],
      "text/latex": [
       "A data.frame: 6 × 11\n",
       "\\begin{tabular}{r|lllllllllll}\n",
       "  & State & region & Date & Home.Value & Structure.Cost & Land.Value & Land.Share..Pct. & Home.Price.Index & Land.Price.Index & Year & Qrtr\\\\\n",
       "  & <chr> & <chr> & <dbl> & <int> & <int> & <int> & <dbl> & <dbl> & <dbl> & <int> & <int>\\\\\n",
       "\\hline\n",
       "\t1 & AK & West & 2010.25 & 224952 & 160599 & 64352 & 28.6 & 1.481 & 1.552 & 2010 & 1\\\\\n",
       "\t2 & AK & West & 2010.50 & 225511 & 160252 & 65259 & 28.9 & 1.484 & 1.576 & 2010 & 2\\\\\n",
       "\t3 & AK & West & 2009.75 & 225820 & 163791 & 62029 & 27.5 & 1.486 & 1.494 & 2009 & 3\\\\\n",
       "\t4 & AK & West & 2010.00 & 224994 & 161787 & 63207 & 28.1 & 1.481 & 1.524 & 2009 & 4\\\\\n",
       "\t5 & AK & West & 2008.00 & 234590 & 155400 & 79190 & 33.8 & 1.544 & 1.885 & 2007 & 4\\\\\n",
       "\t6 & AK & West & 2008.25 & 233714 & 157458 & 76256 & 32.6 & 1.538 & 1.817 & 2008 & 1\\\\\n",
       "\\end{tabular}\n"
      ],
      "text/markdown": [
       "\n",
       "A data.frame: 6 × 11\n",
       "\n",
       "| <!--/--> | State &lt;chr&gt; | region &lt;chr&gt; | Date &lt;dbl&gt; | Home.Value &lt;int&gt; | Structure.Cost &lt;int&gt; | Land.Value &lt;int&gt; | Land.Share..Pct. &lt;dbl&gt; | Home.Price.Index &lt;dbl&gt; | Land.Price.Index &lt;dbl&gt; | Year &lt;int&gt; | Qrtr &lt;int&gt; |\n",
       "|---|---|---|---|---|---|---|---|---|---|---|---|\n",
       "| 1 | AK | West | 2010.25 | 224952 | 160599 | 64352 | 28.6 | 1.481 | 1.552 | 2010 | 1 |\n",
       "| 2 | AK | West | 2010.50 | 225511 | 160252 | 65259 | 28.9 | 1.484 | 1.576 | 2010 | 2 |\n",
       "| 3 | AK | West | 2009.75 | 225820 | 163791 | 62029 | 27.5 | 1.486 | 1.494 | 2009 | 3 |\n",
       "| 4 | AK | West | 2010.00 | 224994 | 161787 | 63207 | 28.1 | 1.481 | 1.524 | 2009 | 4 |\n",
       "| 5 | AK | West | 2008.00 | 234590 | 155400 | 79190 | 33.8 | 1.544 | 1.885 | 2007 | 4 |\n",
       "| 6 | AK | West | 2008.25 | 233714 | 157458 | 76256 | 32.6 | 1.538 | 1.817 | 2008 | 1 |\n",
       "\n"
      ],
      "text/plain": [
       "  State region Date    Home.Value Structure.Cost Land.Value Land.Share..Pct.\n",
       "1 AK    West   2010.25 224952     160599         64352      28.6            \n",
       "2 AK    West   2010.50 225511     160252         65259      28.9            \n",
       "3 AK    West   2009.75 225820     163791         62029      27.5            \n",
       "4 AK    West   2010.00 224994     161787         63207      28.1            \n",
       "5 AK    West   2008.00 234590     155400         79190      33.8            \n",
       "6 AK    West   2008.25 233714     157458         76256      32.6            \n",
       "  Home.Price.Index Land.Price.Index Year Qrtr\n",
       "1 1.481            1.552            2010 1   \n",
       "2 1.484            1.576            2010 2   \n",
       "3 1.486            1.494            2009 3   \n",
       "4 1.481            1.524            2009 4   \n",
       "5 1.544            1.885            2007 4   \n",
       "6 1.538            1.817            2008 1   "
      ]
     },
     "metadata": {},
     "output_type": "display_data"
    }
   ],
   "source": [
    "head(land_data)"
   ]
  },
  {
   "cell_type": "code",
   "execution_count": 4,
   "metadata": {},
   "outputs": [
    {
     "data": {
      "text/plain": [
       "    State              region               Date        Home.Value    \n",
       " Length:7803        Length:7803        Min.   :1975   Min.   : 18763  \n",
       " Class :character   Class :character   1st Qu.:1985   1st Qu.: 62235  \n",
       " Mode  :character   Mode  :character   Median :1994   Median :108724  \n",
       "                                       Mean   :1994   Mean   :135313  \n",
       "                                       3rd Qu.:2004   3rd Qu.:172031  \n",
       "                                       Max.   :2013   Max.   :862885  \n",
       " Structure.Cost     Land.Value     Land.Share..Pct. Home.Price.Index\n",
       " Min.   : 17825   Min.   :   938   Min.   : 5.00    Min.   :0.1350  \n",
       " 1st Qu.: 53777   1st Qu.:  4178   1st Qu.: 5.00    1st Qu.:0.4550  \n",
       " Median : 88352   Median :  9478   Median :10.40    Median :0.7830  \n",
       " Mean   : 99534   Mean   : 35779   Mean   :18.17    Mean   :0.8695  \n",
       " 3rd Qu.:134871   3rd Qu.: 38631   3rd Qu.:26.30    3rd Qu.:1.2075  \n",
       " Max.   :325595   Max.   :594417   Max.   :81.70    Max.   :2.8930  \n",
       " Land.Price.Index       Year           Qrtr     \n",
       " Min.   : 0.0000   Min.   :1975   Min.   :1.00  \n",
       " 1st Qu.: 0.0020   1st Qu.:1984   1st Qu.:1.00  \n",
       " Median : 0.2520   Median :1994   Median :2.00  \n",
       " Mean   : 0.9912   Mean   :1994   Mean   :2.49  \n",
       " 3rd Qu.: 1.1510   3rd Qu.:2003   3rd Qu.:3.00  \n",
       " Max.   :15.4340   Max.   :2013   Max.   :4.00  "
      ]
     },
     "metadata": {},
     "output_type": "display_data"
    }
   ],
   "source": [
    "summary(land_data)"
   ]
  },
  {
   "cell_type": "code",
   "execution_count": 5,
   "metadata": {},
   "outputs": [
    {
     "name": "stdout",
     "output_type": "stream",
     "text": [
      "'data.frame':\t7803 obs. of  11 variables:\n",
      " $ State           : chr  \"AK\" \"AK\" \"AK\" \"AK\" ...\n",
      " $ region          : chr  \"West\" \"West\" \"West\" \"West\" ...\n",
      " $ Date            : num  2010 2010 2010 2010 2008 ...\n",
      " $ Home.Value      : int  224952 225511 225820 224994 234590 233714 232999 232164 231039 229395 ...\n",
      " $ Structure.Cost  : int  160599 160252 163791 161787 155400 157458 160092 162704 164739 165424 ...\n",
      " $ Land.Value      : int  64352 65259 62029 63207 79190 76256 72906 69460 66299 63971 ...\n",
      " $ Land.Share..Pct.: num  28.6 28.9 27.5 28.1 33.8 32.6 31.3 29.9 28.7 27.9 ...\n",
      " $ Home.Price.Index: num  1.48 1.48 1.49 1.48 1.54 ...\n",
      " $ Land.Price.Index: num  1.55 1.58 1.49 1.52 1.88 ...\n",
      " $ Year            : int  2010 2010 2009 2009 2007 2008 2008 2008 2008 2009 ...\n",
      " $ Qrtr            : int  1 2 3 4 4 1 2 3 4 1 ...\n"
     ]
    }
   ],
   "source": [
    "str(land_data)"
   ]
  },
  {
   "cell_type": "code",
   "execution_count": 6,
   "metadata": {},
   "outputs": [
    {
     "data": {
      "image/png": "[encoded data removed]",
      "text/plain": [
       "plot without title"
      ]
     },
     "metadata": {
      "image/png": {
       "height": 420,
       "width": 420
      }
     },
     "output_type": "display_data"
    }
   ],
   "source": [
    "ggplot(land_data, aes(Home.Value)) + \n",
    "geom_histogram(bins = 10, color = \"white\", fill = \"blue\") +\n",
    "ggtitle(\"Distribution of Home value\") + \n",
    "theme_bw(base_size = 12)"
   ]
  },
  {
   "cell_type": "code",
   "execution_count": 7,
   "metadata": {},
   "outputs": [
    {
     "data": {
      "text/html": [
       "<table>\n",
       "<caption>A data.frame: 6 × 11</caption>\n",
       "<thead>\n",
       "\t<tr><th></th><th scope=col>State</th><th scope=col>region</th><th scope=col>Date</th><th scope=col>Home.Value</th><th scope=col>Structure.Cost</th><th scope=col>Land.Value</th><th scope=col>Land.Share..Pct.</th><th scope=col>Home.Price.Index</th><th scope=col>Land.Price.Index</th><th scope=col>Year</th><th scope=col>Qrtr</th></tr>\n",
       "\t<tr><th></th><th scope=col>&lt;chr&gt;</th><th scope=col>&lt;chr&gt;</th><th scope=col>&lt;dbl&gt;</th><th scope=col>&lt;int&gt;</th><th scope=col>&lt;int&gt;</th><th scope=col>&lt;int&gt;</th><th scope=col>&lt;dbl&gt;</th><th scope=col>&lt;dbl&gt;</th><th scope=col>&lt;dbl&gt;</th><th scope=col>&lt;int&gt;</th><th scope=col>&lt;int&gt;</th></tr>\n",
       "</thead>\n",
       "<tbody>\n",
       "\t<tr><th scope=row>143</th><td>AK</td><td>West </td><td>2001.25</td><td>156664</td><td>110027</td><td> 46637</td><td>29.8</td><td>1.031</td><td>1.041</td><td>2001</td><td>1</td></tr>\n",
       "\t<tr><th scope=row>226</th><td>AL</td><td>South</td><td>2001.25</td><td>115113</td><td> 86846</td><td> 28267</td><td>24.6</td><td>1.030</td><td>1.068</td><td>2001</td><td>1</td></tr>\n",
       "\t<tr><th scope=row>380</th><td>AR</td><td>South</td><td>2001.25</td><td>100293</td><td> 83398</td><td> 16894</td><td>16.8</td><td>1.039</td><td>1.110</td><td>2001</td><td>1</td></tr>\n",
       "\t<tr><th scope=row>532</th><td>AZ</td><td>West </td><td>2001.25</td><td>168724</td><td> 92652</td><td> 76072</td><td>45.1</td><td>1.049</td><td>1.084</td><td>2001</td><td>1</td></tr>\n",
       "\t<tr><th scope=row>685</th><td>CA</td><td>West </td><td>2001.25</td><td>330676</td><td>118865</td><td>211811</td><td>64.1</td><td>1.102</td><td>1.152</td><td>2001</td><td>1</td></tr>\n",
       "\t<tr><th scope=row>907</th><td>CO</td><td>West </td><td>2001.25</td><td>226894</td><td> 92568</td><td>134326</td><td>59.2</td><td>1.075</td><td>1.104</td><td>2001</td><td>1</td></tr>\n",
       "</tbody>\n",
       "</table>\n"
      ],
      "text/latex": [
       "A data.frame: 6 × 11\n",
       "\\begin{tabular}{r|lllllllllll}\n",
       "  & State & region & Date & Home.Value & Structure.Cost & Land.Value & Land.Share..Pct. & Home.Price.Index & Land.Price.Index & Year & Qrtr\\\\\n",
       "  & <chr> & <chr> & <dbl> & <int> & <int> & <int> & <dbl> & <dbl> & <dbl> & <int> & <int>\\\\\n",
       "\\hline\n",
       "\t143 & AK & West  & 2001.25 & 156664 & 110027 &  46637 & 29.8 & 1.031 & 1.041 & 2001 & 1\\\\\n",
       "\t226 & AL & South & 2001.25 & 115113 &  86846 &  28267 & 24.6 & 1.030 & 1.068 & 2001 & 1\\\\\n",
       "\t380 & AR & South & 2001.25 & 100293 &  83398 &  16894 & 16.8 & 1.039 & 1.110 & 2001 & 1\\\\\n",
       "\t532 & AZ & West  & 2001.25 & 168724 &  92652 &  76072 & 45.1 & 1.049 & 1.084 & 2001 & 1\\\\\n",
       "\t685 & CA & West  & 2001.25 & 330676 & 118865 & 211811 & 64.1 & 1.102 & 1.152 & 2001 & 1\\\\\n",
       "\t907 & CO & West  & 2001.25 & 226894 &  92568 & 134326 & 59.2 & 1.075 & 1.104 & 2001 & 1\\\\\n",
       "\\end{tabular}\n"
      ],
      "text/markdown": [
       "\n",
       "A data.frame: 6 × 11\n",
       "\n",
       "| <!--/--> | State &lt;chr&gt; | region &lt;chr&gt; | Date &lt;dbl&gt; | Home.Value &lt;int&gt; | Structure.Cost &lt;int&gt; | Land.Value &lt;int&gt; | Land.Share..Pct. &lt;dbl&gt; | Home.Price.Index &lt;dbl&gt; | Land.Price.Index &lt;dbl&gt; | Year &lt;int&gt; | Qrtr &lt;int&gt; |\n",
       "|---|---|---|---|---|---|---|---|---|---|---|---|\n",
       "| 143 | AK | West  | 2001.25 | 156664 | 110027 |  46637 | 29.8 | 1.031 | 1.041 | 2001 | 1 |\n",
       "| 226 | AL | South | 2001.25 | 115113 |  86846 |  28267 | 24.6 | 1.030 | 1.068 | 2001 | 1 |\n",
       "| 380 | AR | South | 2001.25 | 100293 |  83398 |  16894 | 16.8 | 1.039 | 1.110 | 2001 | 1 |\n",
       "| 532 | AZ | West  | 2001.25 | 168724 |  92652 |  76072 | 45.1 | 1.049 | 1.084 | 2001 | 1 |\n",
       "| 685 | CA | West  | 2001.25 | 330676 | 118865 | 211811 | 64.1 | 1.102 | 1.152 | 2001 | 1 |\n",
       "| 907 | CO | West  | 2001.25 | 226894 |  92568 | 134326 | 59.2 | 1.075 | 1.104 | 2001 | 1 |\n",
       "\n"
      ],
      "text/plain": [
       "    State region Date    Home.Value Structure.Cost Land.Value Land.Share..Pct.\n",
       "143 AK    West   2001.25 156664     110027          46637     29.8            \n",
       "226 AL    South  2001.25 115113      86846          28267     24.6            \n",
       "380 AR    South  2001.25 100293      83398          16894     16.8            \n",
       "532 AZ    West   2001.25 168724      92652          76072     45.1            \n",
       "685 CA    West   2001.25 330676     118865         211811     64.1            \n",
       "907 CO    West   2001.25 226894      92568         134326     59.2            \n",
       "    Home.Price.Index Land.Price.Index Year Qrtr\n",
       "143 1.031            1.041            2001 1   \n",
       "226 1.030            1.068            2001 1   \n",
       "380 1.039            1.110            2001 1   \n",
       "532 1.049            1.084            2001 1   \n",
       "685 1.102            1.152            2001 1   \n",
       "907 1.075            1.104            2001 1   "
      ]
     },
     "metadata": {},
     "output_type": "display_data"
    }
   ],
   "source": [
    "data = land_data[land_data$Date == \"2001.25\",]\n",
    "head(data)"
   ]
  },
  {
   "cell_type": "code",
   "execution_count": 8,
   "metadata": {},
   "outputs": [],
   "source": [
    "p = ggplot(data = data, aes(x = Land.Value, y = Structure.Cost))"
   ]
  },
  {
   "cell_type": "code",
   "execution_count": 9,
   "metadata": {},
   "outputs": [
    {
     "data": {
      "image/png": "[encoded data removed]",
      "text/plain": [
       "plot without title"
      ]
     },
     "metadata": {
      "image/png": {
       "height": 420,
       "width": 420
      }
     },
     "output_type": "display_data"
    }
   ],
   "source": [
    "p1 = p + geom_point() + theme_bw(base_size = 14)\n",
    "p1"
   ]
  },
  {
   "cell_type": "code",
   "execution_count": null,
   "metadata": {},
   "outputs": [],
   "source": []
  }
 ],
 "metadata": {
  "kernelspec": {
   "display_name": "R",
   "language": "R",
   "name": "ir"
  },
  "language_info": {
   "codemirror_mode": "r",
   "file_extension": ".r",
   "mimetype": "text/x-r-source",
   "name": "R",
   "pygments_lexer": "r",
   "version": "4.0.3"
  }
 },
 "nbformat": 4,
 "nbformat_minor": 4
}
