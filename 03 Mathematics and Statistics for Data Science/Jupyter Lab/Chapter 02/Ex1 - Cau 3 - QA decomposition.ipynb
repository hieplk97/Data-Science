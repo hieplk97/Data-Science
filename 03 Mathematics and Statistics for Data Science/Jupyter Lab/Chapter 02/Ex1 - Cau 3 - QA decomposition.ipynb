{
 "cells": [
  {
   "cell_type": "raw",
   "metadata": {},
   "source": [
    "\"\"\"=============================================================================\n",
    "    Ex1: DECOMPOSITION\n",
    "    Câu 3: QA Decomposition\n",
    "        a) Tạo ma trận A(4 x 4) chứa các giá trị ngẫu nhiên trong khoảng 5 - 10\n",
    "        b) Phân tích thành các thành phần Q và R. In kết quả\n",
    "        c) Tái tạo lại ma trận A từ các thành phần Q và R\n",
    "=============================================================================\"\"\"\n"
   ]
  },
  {
   "cell_type": "code",
   "execution_count": 1,
   "metadata": {},
   "outputs": [],
   "source": [
    "import numpy  as np\n",
    "import random\n",
    "from scipy.linalg import qr\n"
   ]
  },
  {
   "cell_type": "code",
   "execution_count": 2,
   "metadata": {},
   "outputs": [],
   "source": [
    "##------------------------------------------------------------------------------\n",
    "## Hàm tạo 1 ma trận A[mxn] với giá trị ngẫu nhiên thuộc [start, end]\n",
    "##------------------------------------------------------------------------------\n",
    "def create_matrix_random(m, n, start, end):\n",
    "    mtr = []\n",
    "    for i in range(m):\n",
    "        row = []\n",
    "        for j in range(n):\n",
    "            a = random.randint(start, end + 1)\n",
    "\n",
    "            # Thêm giá trị vào dòng hiện hành \n",
    "            row.append(a)\n",
    "\n",
    "        # Thêm dòng vào ma trận    \n",
    "        mtr.append(row)\n",
    "\n",
    "    return np.array(mtr)\n"
   ]
  },
  {
   "cell_type": "code",
   "execution_count": 3,
   "metadata": {},
   "outputs": [
    {
     "name": "stdout",
     "output_type": "stream",
     "text": [
      "Ma trận A (4, 4) :\n",
      " [[11  6 11 11]\n",
      " [ 5 11  8  5]\n",
      " [ 7  8  5  7]\n",
      " [11  7  7  5]]\n"
     ]
    }
   ],
   "source": [
    "## a) Tạo ma trận A(4 x 4) chứa các giá trị ngẫu nhiên trong khoảng 5 - 10\n",
    "m, n, min, max = 4, 4, 5, 10\n",
    "A = create_matrix_random(m, n, min, max)\n",
    "print('Ma trận A', A.shape, ':\\n', A)"
   ]
  },
  {
   "cell_type": "code",
   "execution_count": 4,
   "metadata": {},
   "outputs": [
    {
     "name": "stdout",
     "output_type": "stream",
     "text": [
      "Ma trận Q (4, 4) :\n",
      " [[-0.61879835  0.35023486  0.65534876 -0.2548375 ]\n",
      " [-0.28127198 -0.86037651  0.30807657  0.29279202]\n",
      " [-0.39378077 -0.29251241 -0.49450638 -0.71752118]\n",
      " [-0.61879835  0.22698963 -0.48069769  0.5783546 ]]\n",
      "Ma trận R (4, 4) :\n",
      " [[-17.77638883 -14.28861634 -15.35744985 -14.06359876]\n",
      " [  0.          -8.1139043   -2.90406323  -1.36193779]\n",
      " [  0.           0.           3.83603323   2.88418614]\n",
      " [  0.           0.           0.          -3.47012761]]\n"
     ]
    }
   ],
   "source": [
    "## b) Phân tích thành các thành phần Q và R. In kết quả\n",
    "Q, R = qr(A)\n",
    "\n",
    "print('Ma trận Q', Q.shape, ':\\n', Q)\n",
    "print('Ma trận R', R.shape, ':\\n', R)\n"
   ]
  },
  {
   "cell_type": "code",
   "execution_count": 5,
   "metadata": {},
   "outputs": [
    {
     "name": "stdout",
     "output_type": "stream",
     "text": [
      "Tái tạo ma trận A:\n",
      " [[11.  6. 11. 11.]\n",
      " [ 5. 11.  8.  5.]\n",
      " [ 7.  8.  5.  7.]\n",
      " [11.  7.  7.  5.]]\n"
     ]
    }
   ],
   "source": [
    "## c) Tái tạo lại ma trận A từ các thành phần Q và R\n",
    "print('Tái tạo ma trận A:\\n', Q.dot(R))"
   ]
  },
  {
   "cell_type": "code",
   "execution_count": null,
   "metadata": {},
   "outputs": [],
   "source": []
  }
 ],
 "metadata": {
  "kernelspec": {
   "display_name": "Python 3",
   "language": "python",
   "name": "python3"
  },
  "language_info": {
   "codemirror_mode": {
    "name": "ipython",
    "version": 3
   },
   "file_extension": ".py",
   "mimetype": "text/x-python",
   "name": "python",
   "nbconvert_exporter": "python",
   "pygments_lexer": "ipython3",
   "version": "3.8.5"
  }
 },
 "nbformat": 4,
 "nbformat_minor": 4
}
