{
 "cells": [
  {
   "cell_type": "code",
   "execution_count": 2,
   "metadata": {},
   "outputs": [],
   "source": [
    "years = c(7, 28, 23, 18, 19, 15, 24, 13, 2, 8, 20, 21, 18, 7, 2)\n",
    "salary = c(26075 , 79370, 65726, 41983, 62308, 41154, 53610, 33697,\n",
    "           22444, 32562, 43076, 56000, 58667, 22210, 20521)"
   ]
  },
  {
   "cell_type": "markdown",
   "metadata": {},
   "source": [
    "# Covariance"
   ]
  },
  {
   "cell_type": "code",
   "execution_count": 3,
   "metadata": {},
   "outputs": [
    {
     "data": {
      "text/html": [
       "135894.071428571"
      ],
      "text/latex": [
       "135894.071428571"
      ],
      "text/markdown": [
       "135894.071428571"
      ],
      "text/plain": [
       "[1] 135894.1"
      ]
     },
     "metadata": {},
     "output_type": "display_data"
    }
   ],
   "source": [
    "cov(years, salary)"
   ]
  },
  {
   "cell_type": "markdown",
   "metadata": {},
   "source": [
    "# Correlation"
   ]
  },
  {
   "cell_type": "code",
   "execution_count": 4,
   "metadata": {},
   "outputs": [
    {
     "data": {
      "text/html": [
       "0.923665165962887"
      ],
      "text/latex": [
       "0.923665165962887"
      ],
      "text/markdown": [
       "0.923665165962887"
      ],
      "text/plain": [
       "[1] 0.9236652"
      ]
     },
     "metadata": {},
     "output_type": "display_data"
    }
   ],
   "source": [
    "cor(years, salary)"
   ]
  }
 ],
 "metadata": {
  "kernelspec": {
   "display_name": "R",
   "language": "R",
   "name": "ir"
  },
  "language_info": {
   "codemirror_mode": "r",
   "file_extension": ".r",
   "mimetype": "text/x-r-source",
   "name": "R",
   "pygments_lexer": "r",
   "version": "4.0.3"
  }
 },
 "nbformat": 4,
 "nbformat_minor": 4
}
