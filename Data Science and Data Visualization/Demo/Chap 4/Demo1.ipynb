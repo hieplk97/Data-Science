{
 "cells": [
  {
   "cell_type": "code",
   "execution_count": 14,
   "metadata": {},
   "outputs": [
    {
     "name": "stdout",
     "output_type": "stream",
     "text": [
      "5      0\n",
      "6      1\n",
      "7      2\n",
      "8      3\n",
      "9      4\n",
      "10     5\n",
      "11     6\n",
      "12     7\n",
      "13     8\n",
      "14     9\n",
      "15    10\n",
      "16    11\n",
      "17    12\n",
      "18    13\n",
      "19    14\n",
      "20    15\n",
      "21    16\n",
      "22    17\n",
      "23    18\n",
      "24    19\n",
      "dtype: int64\n"
     ]
    },
    {
     "data": {
      "text/plain": [
       "count    20.00000\n",
       "mean      9.50000\n",
       "std       5.91608\n",
       "min       0.00000\n",
       "25%       4.75000\n",
       "50%       9.50000\n",
       "75%      14.25000\n",
       "max      19.00000\n",
       "dtype: float64"
      ]
     },
     "execution_count": 14,
     "metadata": {},
     "output_type": "execute_result"
    }
   ],
   "source": [
    "import pandas as pd\n",
    "\n",
    "s = pd.Series([i for i in range(20)], index = [i for i in range(5,25)])\n",
    "print(s)\n",
    "s.describe()"
   ]
  },
  {
   "cell_type": "code",
   "execution_count": null,
   "metadata": {},
   "outputs": [],
   "source": []
  },
  {
   "cell_type": "code",
   "execution_count": null,
   "metadata": {},
   "outputs": [],
   "source": []
  }
 ],
 "metadata": {
  "kernelspec": {
   "display_name": "Python 3",
   "language": "python",
   "name": "python3"
  },
  "language_info": {
   "codemirror_mode": {
    "name": "ipython",
    "version": 3
   },
   "file_extension": ".py",
   "mimetype": "text/x-python",
   "name": "python",
   "nbconvert_exporter": "python",
   "pygments_lexer": "ipython3",
   "version": "3.8.3"
  }
 },
 "nbformat": 4,
 "nbformat_minor": 4
}
