{
 "cells": [
  {
   "cell_type": "code",
   "execution_count": 1,
   "metadata": {},
   "outputs": [],
   "source": [
    "below_2km_bike = 10000\n",
    "km_bike = 3600\n",
    "\n",
    "below_2km_send = 15000\n",
    "km_send = 4000"
   ]
  },
  {
   "cell_type": "code",
   "execution_count": 2,
   "metadata": {},
   "outputs": [
    {
     "name": "stdin",
     "output_type": "stream",
     "text": [
      "1- GoBike, 2- GoSend:  2\n",
      "Input km:  10\n"
     ]
    }
   ],
   "source": [
    "type = as.integer(readline(prompt = \"1- GoBike, 2- GoSend: \"))\n",
    "km = as.numeric(readline(prompt = \"Input km: \"))"
   ]
  },
  {
   "cell_type": "code",
   "execution_count": 5,
   "metadata": {},
   "outputs": [],
   "source": [
    "payment = 0\n",
    "\n",
    "if (type == 1){\n",
    "    if (km <= 2){\n",
    "        payment = below_2km_bike\n",
    "    } else {\n",
    "        payment = below_2km_bike + (km - 2) * km_bike\n",
    "    }\n",
    "} else {\n",
    "    if (km <= 2){\n",
    "        payment = below_2km_send\n",
    "    } else {\n",
    "        payment = below_2km_send + (km - 2) * km_send\n",
    "    }\n",
    "}"
   ]
  },
  {
   "cell_type": "code",
   "execution_count": 6,
   "metadata": {},
   "outputs": [
    {
     "name": "stdout",
     "output_type": "stream",
     "text": [
      "[1] \"Payment: 47.000,00\"\n"
     ]
    }
   ],
   "source": [
    "print(paste(\"Payment: \", format(payment, big.mark = \".\", decimal.mark = \",\", nsmall = 2), sep = \"\"))"
   ]
  },
  {
   "cell_type": "code",
   "execution_count": null,
   "metadata": {},
   "outputs": [],
   "source": []
  }
 ],
 "metadata": {
  "kernelspec": {
   "display_name": "R",
   "language": "R",
   "name": "ir"
  },
  "language_info": {
   "codemirror_mode": "r",
   "file_extension": ".r",
   "mimetype": "text/x-r-source",
   "name": "R",
   "pygments_lexer": "r",
   "version": "4.0.3"
  }
 },
 "nbformat": 4,
 "nbformat_minor": 4
}
