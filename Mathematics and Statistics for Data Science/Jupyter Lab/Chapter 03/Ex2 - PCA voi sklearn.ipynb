{
 "cells": [
  {
   "cell_type": "raw",
   "metadata": {},
   "source": [
    "\"\"\"============================================================================\n",
    "   Ex2: PCA - sklearn\n",
    "      a) Đọc dữ liệu từ student.xlsx vào dataframe\n",
    "      b) Thực hiện giảm chiều dữ liệu với sklearn.PCA\n",
    "      c) Trực quan hóa dữ liệu\n",
    "============================================================================\"\"\""
   ]
  },
  {
   "cell_type": "code",
   "execution_count": 1,
   "metadata": {},
   "outputs": [],
   "source": [
    "import pandas as pd\n",
    "import matplotlib.pyplot as plt\n",
    "import seaborn as sns\n",
    "from sklearn.decomposition import PCA"
   ]
  },
  {
   "cell_type": "code",
   "execution_count": 2,
   "metadata": {},
   "outputs": [
    {
     "name": "stdout",
     "output_type": "stream",
     "text": [
      "\n",
      "*** a) Đọc dữ liệu từ student.xlsx vào dataframe:\n",
      "         Math  English  Art\n",
      "Student                    \n",
      "1          90       60   90\n",
      "2          90       90   30\n",
      "3          60       60   60\n",
      "4          60       60   90\n",
      "5          30       30   30 \n",
      "\n"
     ]
    }
   ],
   "source": [
    "# a) Đọc dữ liệu từ student.xlsx vào dataframe\n",
    "print('\\n*** a) Đọc dữ liệu từ student.xlsx vào dataframe:')\n",
    "\n",
    "# Default folder: 'C:\\Users\\AnTe'\n",
    "# Muốn biết [default folder] thì thực hiện [File > Open]\n",
    "LDS3folder = 'E:\\Data Science\\Mathematics and Statistics for Data Science\\Excercise'\n",
    "folder = LDS3folder + '/Data/B3/'\n",
    "\n",
    "data = pd.read_excel(folder + 'student.xlsx', index_col=0)\n",
    "print(data.head(), '\\n')"
   ]
  },
  {
   "cell_type": "code",
   "execution_count": 3,
   "metadata": {},
   "outputs": [
    {
     "name": "stdout",
     "output_type": "stream",
     "text": [
      "\n",
      "*** b) Thực hiện giảm chiều dữ liệu với sklearn.PCA:\n",
      "PCA.Components:\n",
      " [[-0.59862919 -0.51336438 -0.61489845]\n",
      " [ 0.47005554  0.39643891 -0.78859621]]\n",
      "PCA.Shape:  (2, 3)\n",
      "PCA.Explained variance:  [605.64181179 313.26463747]\n",
      "PCA.Explained variance shape:  (2,)\n"
     ]
    }
   ],
   "source": [
    "# b) Thực hiện giảm chiều dữ liệu xuống còn k = 2, với sklearn.PCA\n",
    "print('\\n*** b) Thực hiện giảm chiều dữ liệu với sklearn.PCA:')\n",
    "pca = PCA(2)\n",
    "pca.fit(data)\n",
    "\n",
    "# access values and vectors\n",
    "# components_ : array, shape (n_components, n_features)\n",
    "# Các trục chính trong không gian feature, biểu thị\n",
    "# các hướng của phương sai tối đa trong dữ liệu\n",
    "# explained_variance_ : array, shape (n_components,)\n",
    "# Số lượng phương sai được giải thích bởi từng thành phần được chọn.\n",
    "print('PCA.Components:\\n', pca.components_)\n",
    "print('PCA.Shape: ', pca.components_.shape)\n",
    "print('PCA.Explained variance: ', pca.explained_variance_)\n",
    "print('PCA.Explained variance shape: ', pca.explained_variance_.shape)"
   ]
  },
  {
   "cell_type": "code",
   "execution_count": 1,
   "metadata": {},
   "outputs": [],
   "source": [
    "import numpy as np\n",
    "from numpy import mean\n",
    "from numpy import cov\n",
    "from numpy.linalg import eig"
   ]
  },
  {
   "cell_type": "code",
   "execution_count": 4,
   "metadata": {},
   "outputs": [
    {
     "name": "stdout",
     "output_type": "stream",
     "text": [
      "         - Ma trận B_T (15, 2) : \n",
      " [[-28.71093503 -11.33365494]\n",
      " [ -7.21795959  47.87528492]\n",
      " [  7.69489417  -1.77743486]\n",
      " [-10.75205928 -25.43532109]\n",
      " [ 59.50165485  -4.11438216]] \n",
      "\n",
      "[0.57863867 0.29929742]\n",
      "        PC 1       PC 2\n",
      "0 -28.710935 -11.333655\n",
      "1  -7.217960  47.875285\n",
      "2   7.694894  -1.777435\n",
      "3 -10.752059 -25.435321\n",
      "4  59.501655  -4.114382 \n",
      "\n"
     ]
    }
   ],
   "source": [
    "# transform data\n",
    "B = pca.transform(data)\n",
    "print('         - Ma trận B_T', B.shape, ': \\n', B[0:5], '\\n')\n",
    "print(pca.explained_variance_ratio_)\n",
    "\n",
    "principalDf = pd.DataFrame(data=B, columns=['PC 1', 'PC 2'])\n",
    "print(principalDf.head(), '\\n')"
   ]
  },
  {
   "cell_type": "code",
   "execution_count": 5,
   "metadata": {},
   "outputs": [
    {
     "name": "stdout",
     "output_type": "stream",
     "text": [
      "\n",
      "*** c) Trực quan hóa dữ liệu:\n"
     ]
    },
    {
     "data": {
      "text/plain": [
       "<Figure size 576x432 with 0 Axes>"
      ]
     },
     "metadata": {},
     "output_type": "display_data"
    },
    {
     "data": {
      "image/png": "[encoded data removed]",
      "text/plain": [
       "<Figure size 432x432 with 3 Axes>"
      ]
     },
     "metadata": {
      "needs_background": "light"
     },
     "output_type": "display_data"
    }
   ],
   "source": [
    "# c) Trực quan hóa dữ liệu\n",
    "print('\\n*** c) Trực quan hóa dữ liệu:')\n",
    "plt.figure(figsize=(8, 6))\n",
    "sns.jointplot(x='PC 1', y='PC 2', data=principalDf)\n",
    "plt.show()"
   ]
  },
  {
   "cell_type": "code",
   "execution_count": null,
   "metadata": {},
   "outputs": [],
   "source": []
  }
 ],
 "metadata": {
  "kernelspec": {
   "display_name": "Python 3",
   "language": "python",
   "name": "python3"
  },
  "language_info": {
   "codemirror_mode": {
    "name": "ipython",
    "version": 3
   },
   "file_extension": ".py",
   "mimetype": "text/x-python",
   "name": "python",
   "nbconvert_exporter": "python",
   "pygments_lexer": "ipython3",
   "version": "3.8.5"
  }
 },
 "nbformat": 4,
 "nbformat_minor": 4
}
