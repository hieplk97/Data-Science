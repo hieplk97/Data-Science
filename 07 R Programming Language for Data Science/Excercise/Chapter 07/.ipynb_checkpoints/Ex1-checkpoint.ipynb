{
 "cells": [
  {
   "cell_type": "code",
   "execution_count": 1,
   "metadata": {},
   "outputs": [],
   "source": [
    "x = c(1, 2, 3)\n",
    "y = c(4, 5, 6)\n",
    "z = c(7, 8, 9)\n",
    "\n",
    "v1 = c(x, y, z)"
   ]
  },
  {
   "cell_type": "code",
   "execution_count": 2,
   "metadata": {},
   "outputs": [
    {
     "name": "stdout",
     "output_type": "stream",
     "text": [
      "[1] \"matrix_1\"\n",
      "   c1 c2 c3\n",
      "r1  1  2  3\n",
      "r2  4  5  6\n",
      "r3  7  8  9\n"
     ]
    }
   ],
   "source": [
    "matrix_1 = matrix(v1, nrow = 3, ncol = 3, byrow = TRUE,\n",
    "                  dimnames = list(c(\"r1\", \"r2\", \"r3\"), c(\"c1\", \"c2\", \"c3\")))\n",
    "print(\"matrix_1\")\n",
    "print(matrix_1)"
   ]
  },
  {
   "cell_type": "code",
   "execution_count": 3,
   "metadata": {},
   "outputs": [
    {
     "name": "stdout",
     "output_type": "stream",
     "text": [
      "[1] \"Ma tran chuyen vi cua matrix_1\"\n",
      "   r1 r2 r3\n",
      "c1  1  4  7\n",
      "c2  2  5  8\n",
      "c3  3  6  9\n"
     ]
    }
   ],
   "source": [
    "t_matrix_1 = t(matrix_1)\n",
    "print(\"Ma tran chuyen vi cua matrix_1\")\n",
    "print(t_matrix_1)"
   ]
  }
 ],
 "metadata": {
  "kernelspec": {
   "display_name": "R",
   "language": "R",
   "name": "ir"
  },
  "language_info": {
   "codemirror_mode": "r",
   "file_extension": ".r",
   "mimetype": "text/x-r-source",
   "name": "R",
   "pygments_lexer": "r",
   "version": "4.0.3"
  }
 },
 "nbformat": 4,
 "nbformat_minor": 4
}
