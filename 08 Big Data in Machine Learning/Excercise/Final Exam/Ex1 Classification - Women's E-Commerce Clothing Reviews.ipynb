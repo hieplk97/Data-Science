{
 "cells": [
  {
   "cell_type": "code",
   "execution_count": 1,
   "id": "limited-cyprus",
   "metadata": {},
   "outputs": [
    {
     "data": {
      "text/html": [
       "<style>pre { white-space: pre !important; }</style>"
      ],
      "text/plain": [
       "<IPython.core.display.HTML object>"
      ]
     },
     "metadata": {},
     "output_type": "display_data"
    }
   ],
   "source": [
    "from IPython.core.display import HTML\n",
    "display(HTML(\"<style>pre { white-space: pre !important; }</style>\"))"
   ]
  },
  {
   "cell_type": "code",
   "execution_count": 2,
   "id": "driving-bookmark",
   "metadata": {},
   "outputs": [],
   "source": [
    "import findspark\n",
    "findspark.init()"
   ]
  },
  {
   "cell_type": "code",
   "execution_count": 3,
   "id": "thrown-latino",
   "metadata": {},
   "outputs": [],
   "source": [
    "import pandas as pd\n",
    "import numpy as np"
   ]
  },
  {
   "cell_type": "code",
   "execution_count": 4,
   "id": "eleven-redhead",
   "metadata": {},
   "outputs": [],
   "source": [
    "from pyspark.sql import SparkSession\n",
    "from pyspark.sql.functions import length\n",
    "from pyspark.sql.types import StringType\n",
    "\n",
    "from pyspark.ml import Pipeline\n",
    "from pyspark.ml.feature import Tokenizer, StopWordsRemover, CountVectorizer, IDF, StringIndexer, VectorAssembler\n",
    "from pyspark.ml.linalg import Vector\n",
    "from pyspark.ml.classification import NaiveBayes, LogisticRegression, RandomForestClassifier\n",
    "from pyspark.ml.evaluation import MulticlassClassificationEvaluator"
   ]
  },
  {
   "cell_type": "code",
   "execution_count": 5,
   "id": "numeric-silence",
   "metadata": {},
   "outputs": [],
   "source": [
    "spark = SparkSession.builder.appName('review').getOrCreate()"
   ]
  },
  {
   "cell_type": "code",
   "execution_count": 6,
   "id": "defined-yesterday",
   "metadata": {},
   "outputs": [],
   "source": [
    "# Load data\n",
    "pd_data = pd.read_excel(\"../../Data/Womens_Clothing_E_Commerce_Reviews.xlsx\", sheet_name='Reviews', index_col=0)"
   ]
  },
  {
   "cell_type": "code",
   "execution_count": 7,
   "id": "clinical-swing",
   "metadata": {},
   "outputs": [
    {
     "data": {
      "text/html": [
       "<div>\n",
       "<style scoped>\n",
       "    .dataframe tbody tr th:only-of-type {\n",
       "        vertical-align: middle;\n",
       "    }\n",
       "\n",
       "    .dataframe tbody tr th {\n",
       "        vertical-align: top;\n",
       "    }\n",
       "\n",
       "    .dataframe thead th {\n",
       "        text-align: right;\n",
       "    }\n",
       "</style>\n",
       "<table border=\"1\" class=\"dataframe\">\n",
       "  <thead>\n",
       "    <tr style=\"text-align: right;\">\n",
       "      <th></th>\n",
       "      <th>Clothing ID</th>\n",
       "      <th>Age</th>\n",
       "      <th>Title</th>\n",
       "      <th>Review Text</th>\n",
       "      <th>Rating</th>\n",
       "      <th>Recommended IND</th>\n",
       "      <th>Positive Feedback Count</th>\n",
       "      <th>Division Name</th>\n",
       "      <th>Department Name</th>\n",
       "      <th>Class Name</th>\n",
       "    </tr>\n",
       "  </thead>\n",
       "  <tbody>\n",
       "    <tr>\n",
       "      <th>0</th>\n",
       "      <td>767</td>\n",
       "      <td>33</td>\n",
       "      <td>NaN</td>\n",
       "      <td>Absolutely wonderful - silky and sexy and comf...</td>\n",
       "      <td>4</td>\n",
       "      <td>1</td>\n",
       "      <td>0</td>\n",
       "      <td>Initmates</td>\n",
       "      <td>Intimate</td>\n",
       "      <td>Intimates</td>\n",
       "    </tr>\n",
       "    <tr>\n",
       "      <th>1</th>\n",
       "      <td>1080</td>\n",
       "      <td>34</td>\n",
       "      <td>NaN</td>\n",
       "      <td>Love this dress!  it's sooo pretty.  i happene...</td>\n",
       "      <td>5</td>\n",
       "      <td>1</td>\n",
       "      <td>4</td>\n",
       "      <td>General</td>\n",
       "      <td>Dresses</td>\n",
       "      <td>Dresses</td>\n",
       "    </tr>\n",
       "    <tr>\n",
       "      <th>2</th>\n",
       "      <td>1077</td>\n",
       "      <td>60</td>\n",
       "      <td>Some major design flaws</td>\n",
       "      <td>I had such high hopes for this dress and reall...</td>\n",
       "      <td>3</td>\n",
       "      <td>0</td>\n",
       "      <td>0</td>\n",
       "      <td>General</td>\n",
       "      <td>Dresses</td>\n",
       "      <td>Dresses</td>\n",
       "    </tr>\n",
       "    <tr>\n",
       "      <th>3</th>\n",
       "      <td>1049</td>\n",
       "      <td>50</td>\n",
       "      <td>My favorite buy!</td>\n",
       "      <td>I love, love, love this jumpsuit. it's fun, fl...</td>\n",
       "      <td>5</td>\n",
       "      <td>1</td>\n",
       "      <td>0</td>\n",
       "      <td>General Petite</td>\n",
       "      <td>Bottoms</td>\n",
       "      <td>Pants</td>\n",
       "    </tr>\n",
       "    <tr>\n",
       "      <th>4</th>\n",
       "      <td>847</td>\n",
       "      <td>47</td>\n",
       "      <td>Flattering shirt</td>\n",
       "      <td>This shirt is very flattering to all due to th...</td>\n",
       "      <td>5</td>\n",
       "      <td>1</td>\n",
       "      <td>6</td>\n",
       "      <td>General</td>\n",
       "      <td>Tops</td>\n",
       "      <td>Blouses</td>\n",
       "    </tr>\n",
       "  </tbody>\n",
       "</table>\n",
       "</div>"
      ],
      "text/plain": [
       "   Clothing ID  Age                    Title  \\\n",
       "0          767   33                      NaN   \n",
       "1         1080   34                      NaN   \n",
       "2         1077   60  Some major design flaws   \n",
       "3         1049   50         My favorite buy!   \n",
       "4          847   47         Flattering shirt   \n",
       "\n",
       "                                         Review Text  Rating  Recommended IND  \\\n",
       "0  Absolutely wonderful - silky and sexy and comf...       4                1   \n",
       "1  Love this dress!  it's sooo pretty.  i happene...       5                1   \n",
       "2  I had such high hopes for this dress and reall...       3                0   \n",
       "3  I love, love, love this jumpsuit. it's fun, fl...       5                1   \n",
       "4  This shirt is very flattering to all due to th...       5                1   \n",
       "\n",
       "   Positive Feedback Count   Division Name Department Name Class Name  \n",
       "0                        0       Initmates        Intimate  Intimates  \n",
       "1                        4         General         Dresses    Dresses  \n",
       "2                        0         General         Dresses    Dresses  \n",
       "3                        0  General Petite         Bottoms      Pants  \n",
       "4                        6         General            Tops    Blouses  "
      ]
     },
     "execution_count": 7,
     "metadata": {},
     "output_type": "execute_result"
    }
   ],
   "source": [
    "pd_data.head(5)"
   ]
  },
  {
   "cell_type": "code",
   "execution_count": 8,
   "id": "subsequent-destiny",
   "metadata": {},
   "outputs": [],
   "source": [
    "pd_data = pd_data[['Review Text', 'Rating', 'Recommended IND']]"
   ]
  },
  {
   "cell_type": "code",
   "execution_count": 9,
   "id": "objective-impression",
   "metadata": {},
   "outputs": [],
   "source": [
    "pd_data = pd_data.dropna()"
   ]
  },
  {
   "cell_type": "code",
   "execution_count": 10,
   "id": "reasonable-swedish",
   "metadata": {},
   "outputs": [],
   "source": [
    "data = spark.createDataFrame(pd_data)"
   ]
  },
  {
   "cell_type": "code",
   "execution_count": 11,
   "id": "cultural-syndication",
   "metadata": {},
   "outputs": [
    {
     "name": "stdout",
     "output_type": "stream",
     "text": [
      "+--------------------+------+---------------+\n",
      "|         Review Text|Rating|Recommended IND|\n",
      "+--------------------+------+---------------+\n",
      "|Absolutely wonder...|     4|              1|\n",
      "|Love this dress! ...|     5|              1|\n",
      "|I had such high h...|     3|              0|\n",
      "|I love, love, lov...|     5|              1|\n",
      "|This shirt is ver...|     5|              1|\n",
      "+--------------------+------+---------------+\n",
      "only showing top 5 rows\n",
      "\n"
     ]
    }
   ],
   "source": [
    "data.show(5)"
   ]
  },
  {
   "cell_type": "code",
   "execution_count": 12,
   "id": "documentary-trader",
   "metadata": {},
   "outputs": [],
   "source": [
    "data = data.withColumn('length', length(data['Review Text']))"
   ]
  },
  {
   "cell_type": "code",
   "execution_count": 13,
   "id": "stainless-paste",
   "metadata": {},
   "outputs": [
    {
     "name": "stdout",
     "output_type": "stream",
     "text": [
      "+--------------------+------+---------------+------+\n",
      "|         Review Text|Rating|Recommended IND|length|\n",
      "+--------------------+------+---------------+------+\n",
      "|Absolutely wonder...|     4|              1|    53|\n",
      "|Love this dress! ...|     5|              1|   303|\n",
      "|I had such high h...|     3|              0|   500|\n",
      "|I love, love, lov...|     5|              1|   124|\n",
      "|This shirt is ver...|     5|              1|   192|\n",
      "+--------------------+------+---------------+------+\n",
      "only showing top 5 rows\n",
      "\n"
     ]
    }
   ],
   "source": [
    "data.show(5)"
   ]
  },
  {
   "cell_type": "code",
   "execution_count": 14,
   "id": "better-playing",
   "metadata": {},
   "outputs": [
    {
     "name": "stdout",
     "output_type": "stream",
     "text": [
      "+------+-----------+--------------------+------------------+\n",
      "|Rating|avg(Rating)|avg(Recommended IND)|       avg(length)|\n",
      "+------+-----------+--------------------+------------------+\n",
      "|     5|        5.0|  0.9981657229444134| 298.9145864901507|\n",
      "|     1|        1.0|0.018292682926829267| 305.0365853658537|\n",
      "|     3|        3.0|  0.4145995747696669| 328.4156626506024|\n",
      "|     2|        2.0|0.060723514211886306|319.40374677002586|\n",
      "|     4|        4.0|  0.9665783574485429|323.43386998165886|\n",
      "+------+-----------+--------------------+------------------+\n",
      "\n"
     ]
    }
   ],
   "source": [
    "data.groupby('Rating').mean().show()"
   ]
  },
  {
   "cell_type": "markdown",
   "id": "damaged-watershed",
   "metadata": {},
   "source": [
    "#### Độ dài review của từng loại ratings không chênh lệch đáng kể"
   ]
  },
  {
   "cell_type": "code",
   "execution_count": 15,
   "id": "ruled-military",
   "metadata": {},
   "outputs": [
    {
     "name": "stdout",
     "output_type": "stream",
     "text": [
      "+------+-----+\n",
      "|Rating|count|\n",
      "+------+-----+\n",
      "|     5|12539|\n",
      "|     1|  820|\n",
      "|     3| 2822|\n",
      "|     2| 1548|\n",
      "|     4| 4907|\n",
      "+------+-----+\n",
      "\n"
     ]
    }
   ],
   "source": [
    "data.groupby('Rating').count().show()"
   ]
  },
  {
   "cell_type": "markdown",
   "id": "subjective-ceiling",
   "metadata": {},
   "source": [
    "#### Rating 4-5* chiếm đa số => phần lớn các review là tích cực"
   ]
  },
  {
   "cell_type": "code",
   "execution_count": 16,
   "id": "brazilian-corner",
   "metadata": {},
   "outputs": [],
   "source": [
    "rating_to_num = StringIndexer(inputCol='Rating', outputCol='label')\n",
    "tokenizer = Tokenizer(inputCol='Review Text', outputCol='token_text')\n",
    "stopremove = StopWordsRemover(inputCol='token_text', outputCol='stop_tokens')\n",
    "count_vec = CountVectorizer(inputCol='stop_tokens', outputCol='c_vec')\n",
    "idf = IDF(inputCol='c_vec', outputCol='tf_idf')\n",
    "clean_up = VectorAssembler(inputCols=['tf_idf', 'length', 'Recommended IND'], outputCol='features')"
   ]
  },
  {
   "cell_type": "code",
   "execution_count": 17,
   "id": "least-affair",
   "metadata": {},
   "outputs": [],
   "source": [
    "data_prep_pipe = Pipeline(stages=[tokenizer, stopremove, count_vec, idf, clean_up, rating_to_num])\n",
    "clearer = data_prep_pipe.fit(data)\n",
    "clean_data = clearer.transform(data)"
   ]
  },
  {
   "cell_type": "code",
   "execution_count": 18,
   "id": "differential-reform",
   "metadata": {},
   "outputs": [],
   "source": [
    "clean_data = clean_data.select(['label', 'features'])"
   ]
  },
  {
   "cell_type": "code",
   "execution_count": 19,
   "id": "respective-batch",
   "metadata": {},
   "outputs": [
    {
     "name": "stdout",
     "output_type": "stream",
     "text": [
      "+-----+--------------------+\n",
      "|label|            features|\n",
      "+-----+--------------------+\n",
      "|  1.0|(38356,[22,51,140...|\n",
      "|  0.0|(38356,[0,10,11,1...|\n",
      "|  2.0|(38356,[1,5,6,8,1...|\n",
      "|  0.0|(38356,[0,4,7,41,...|\n",
      "|  0.0|(38356,[0,4,23,36...|\n",
      "|  3.0|(38356,[0,1,4,14,...|\n",
      "|  0.0|(38356,[2,3,8,11,...|\n",
      "|  1.0|(38356,[6,8,10,14...|\n",
      "|  0.0|(38356,[0,10,11,3...|\n",
      "|  0.0|(38356,[0,1,4,5,9...|\n",
      "+-----+--------------------+\n",
      "only showing top 10 rows\n",
      "\n"
     ]
    }
   ],
   "source": [
    "clean_data.show(10)"
   ]
  },
  {
   "cell_type": "code",
   "execution_count": 20,
   "id": "important-updating",
   "metadata": {},
   "outputs": [],
   "source": [
    "(training, testing) = clean_data.randomSplit([0.7, 0.3])"
   ]
  },
  {
   "cell_type": "markdown",
   "id": "earned-russia",
   "metadata": {},
   "source": [
    "### Naive Bayer"
   ]
  },
  {
   "cell_type": "code",
   "execution_count": 21,
   "id": "tribal-boutique",
   "metadata": {},
   "outputs": [],
   "source": [
    "nb = NaiveBayes()"
   ]
  },
  {
   "cell_type": "code",
   "execution_count": 22,
   "id": "mechanical-hawaiian",
   "metadata": {},
   "outputs": [
    {
     "name": "stdout",
     "output_type": "stream",
     "text": [
      "+-----+----------+-----+\n",
      "|label|prediction|count|\n",
      "+-----+----------+-----+\n",
      "|  2.0|       0.0|   82|\n",
      "|  1.0|       1.0|  544|\n",
      "|  3.0|       2.0|  198|\n",
      "|  4.0|       2.0|   90|\n",
      "|  0.0|       1.0|  810|\n",
      "|  0.0|       4.0|   80|\n",
      "|  1.0|       0.0|  525|\n",
      "|  2.0|       2.0|  338|\n",
      "|  3.0|       1.0|   76|\n",
      "|  2.0|       3.0|  167|\n",
      "|  1.0|       4.0|   25|\n",
      "|  4.0|       4.0|   40|\n",
      "|  2.0|       4.0|   40|\n",
      "|  3.0|       4.0|   49|\n",
      "|  2.0|       1.0|  241|\n",
      "|  1.0|       2.0|  294|\n",
      "|  0.0|       0.0| 2558|\n",
      "|  1.0|       3.0|   88|\n",
      "|  4.0|       3.0|   88|\n",
      "|  0.0|       2.0|  215|\n",
      "+-----+----------+-----+\n",
      "only showing top 20 rows\n",
      "\n"
     ]
    }
   ],
   "source": [
    "predictor_nb = nb.fit(training)\n",
    "test_result_nb = predictor_nb.transform(testing)\n",
    "test_result_nb.groupBy(\"label\", \"prediction\").count().show()"
   ]
  },
  {
   "cell_type": "code",
   "execution_count": 23,
   "id": "bearing-angola",
   "metadata": {},
   "outputs": [],
   "source": [
    "acc_eval = MulticlassClassificationEvaluator()"
   ]
  },
  {
   "cell_type": "code",
   "execution_count": 24,
   "id": "solar-magic",
   "metadata": {},
   "outputs": [
    {
     "name": "stdout",
     "output_type": "stream",
     "text": [
      "Accuracy of Naive Bayer at predicting was: 0.5435579286225068\n"
     ]
    }
   ],
   "source": [
    "acc_nb = acc_eval.evaluate(test_result_nb)\n",
    "print(\"Accuracy of Naive Bayer at predicting was: {}\".format(acc_nb))"
   ]
  },
  {
   "cell_type": "markdown",
   "id": "bibliographic-rough",
   "metadata": {},
   "source": [
    "### Logistic Regression"
   ]
  },
  {
   "cell_type": "code",
   "execution_count": 25,
   "id": "careful-professor",
   "metadata": {},
   "outputs": [],
   "source": [
    "lg = LogisticRegression(maxIter=20, regParam=0.3, elasticNetParam=0)"
   ]
  },
  {
   "cell_type": "code",
   "execution_count": 26,
   "id": "immune-collectible",
   "metadata": {},
   "outputs": [
    {
     "name": "stdout",
     "output_type": "stream",
     "text": [
      "+-----+----------+-----+\n",
      "|label|prediction|count|\n",
      "+-----+----------+-----+\n",
      "|  2.0|       0.0|  434|\n",
      "|  1.0|       1.0|  292|\n",
      "|  3.0|       2.0|  180|\n",
      "|  4.0|       2.0|   90|\n",
      "|  0.0|       1.0|  189|\n",
      "|  1.0|       0.0| 1137|\n",
      "|  2.0|       2.0|  200|\n",
      "|  3.0|       1.0|   83|\n",
      "|  2.0|       3.0|   28|\n",
      "|  4.0|       4.0|    5|\n",
      "|  2.0|       4.0|    3|\n",
      "|  3.0|       4.0|    4|\n",
      "|  2.0|       1.0|  203|\n",
      "|  1.0|       2.0|   43|\n",
      "|  0.0|       0.0| 3558|\n",
      "|  1.0|       3.0|    4|\n",
      "|  4.0|       3.0|   25|\n",
      "|  0.0|       2.0|   11|\n",
      "|  4.0|       0.0|  102|\n",
      "|  3.0|       3.0|   29|\n",
      "+-----+----------+-----+\n",
      "only showing top 20 rows\n",
      "\n"
     ]
    }
   ],
   "source": [
    "predictor_lg = lg.fit(training)\n",
    "test_result_lg = predictor_lg.transform(testing)\n",
    "test_result_lg.groupBy(\"label\", \"prediction\").count().show()"
   ]
  },
  {
   "cell_type": "code",
   "execution_count": 27,
   "id": "indian-special",
   "metadata": {},
   "outputs": [
    {
     "name": "stdout",
     "output_type": "stream",
     "text": [
      "Accuracy of Logistic Regression model at predicting was: 0.5262167409666229\n"
     ]
    }
   ],
   "source": [
    "acc_lg = acc_eval.evaluate(test_result_lg)\n",
    "print(\"Accuracy of Logistic Regression model at predicting was: {}\".format(acc_lg))"
   ]
  },
  {
   "cell_type": "markdown",
   "id": "desirable-course",
   "metadata": {},
   "source": [
    "### Random Forest"
   ]
  },
  {
   "cell_type": "code",
   "execution_count": 28,
   "id": "collect-johns",
   "metadata": {},
   "outputs": [],
   "source": [
    "rf = RandomForestClassifier(labelCol=\"label\", featuresCol=\"features\", numTrees=500, maxDepth=5, maxBins=64)"
   ]
  },
  {
   "cell_type": "code",
   "execution_count": 29,
   "id": "polyphonic-europe",
   "metadata": {},
   "outputs": [
    {
     "name": "stdout",
     "output_type": "stream",
     "text": [
      "+-----+----------+-----+\n",
      "|label|prediction|count|\n",
      "+-----+----------+-----+\n",
      "|  2.0|       0.0|  434|\n",
      "|  1.0|       1.0|  292|\n",
      "|  3.0|       2.0|  180|\n",
      "|  4.0|       2.0|   90|\n",
      "|  0.0|       1.0|  189|\n",
      "|  1.0|       0.0| 1137|\n",
      "|  2.0|       2.0|  200|\n",
      "|  3.0|       1.0|   83|\n",
      "|  2.0|       3.0|   28|\n",
      "|  4.0|       4.0|    5|\n",
      "|  2.0|       4.0|    3|\n",
      "|  3.0|       4.0|    4|\n",
      "|  2.0|       1.0|  203|\n",
      "|  1.0|       2.0|   43|\n",
      "|  0.0|       0.0| 3558|\n",
      "|  1.0|       3.0|    4|\n",
      "|  4.0|       3.0|   25|\n",
      "|  0.0|       2.0|   11|\n",
      "|  4.0|       0.0|  102|\n",
      "|  3.0|       3.0|   29|\n",
      "+-----+----------+-----+\n",
      "only showing top 20 rows\n",
      "\n"
     ]
    }
   ],
   "source": [
    "predictor_rf = lg.fit(training)\n",
    "test_result_rf = predictor_rf.transform(testing)\n",
    "test_result_rf.groupBy(\"label\", \"prediction\").count().show()"
   ]
  },
  {
   "cell_type": "code",
   "execution_count": 30,
   "id": "overall-pontiac",
   "metadata": {},
   "outputs": [
    {
     "name": "stdout",
     "output_type": "stream",
     "text": [
      "Accuracy of model at predicting was: 0.5262167409666229\n"
     ]
    }
   ],
   "source": [
    "acc_rf = acc_eval.evaluate(test_result_rf)\n",
    "print(\"Accuracy of model at predicting was: {}\".format(acc_rf))"
   ]
  },
  {
   "cell_type": "code",
   "execution_count": null,
   "id": "suburban-creature",
   "metadata": {},
   "outputs": [],
   "source": []
  }
 ],
 "metadata": {
  "kernelspec": {
   "display_name": "Python 3",
   "language": "python",
   "name": "python3"
  },
  "language_info": {
   "codemirror_mode": {
    "name": "ipython",
    "version": 3
   },
   "file_extension": ".py",
   "mimetype": "text/x-python",
   "name": "python",
   "nbconvert_exporter": "python",
   "pygments_lexer": "ipython3",
   "version": "3.8.3"
  }
 },
 "nbformat": 4,
 "nbformat_minor": 5
}
