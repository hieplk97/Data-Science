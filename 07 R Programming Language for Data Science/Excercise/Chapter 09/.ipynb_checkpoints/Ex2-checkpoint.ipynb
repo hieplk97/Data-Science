{
 "cells": [
  {
   "cell_type": "code",
   "execution_count": 2,
   "metadata": {},
   "outputs": [],
   "source": [
    "df = read.table(\"../../Data/Table0.txt\")"
   ]
  },
  {
   "cell_type": "code",
   "execution_count": 3,
   "metadata": {},
   "outputs": [
    {
     "name": "stdout",
     "output_type": "stream",
     "text": [
      "[1] \"Content of file:\"\n",
      "        V1 V2  V3 V4 V5\n",
      "1     Alex 25 177 57  F\n",
      "2    Lilly 31 163 69  F\n",
      "3     Mark 23 190 83  M\n",
      "4   Oliver 52 179 75  M\n",
      "5   Martha 76 163 70  F\n",
      "6    Lucas 49 183 83  M\n",
      "7 Caroline 26 164 53  F\n"
     ]
    }
   ],
   "source": [
    "print(\"Content of file:\")\n",
    "print(df)"
   ]
  },
  {
   "cell_type": "code",
   "execution_count": 4,
   "metadata": {},
   "outputs": [
    {
     "name": "stdout",
     "output_type": "stream",
     "text": [
      "      Name Age Height Weight Sex\n",
      "1     Alex  25    177     57   F\n",
      "2    Lilly  31    163     69   F\n",
      "3     Mark  23    190     83   M\n",
      "4   Oliver  52    179     75   M\n",
      "5   Martha  76    163     70   F\n",
      "6    Lucas  49    183     83   M\n",
      "7 Caroline  26    164     53   F\n"
     ]
    }
   ],
   "source": [
    "names(df) = c('Name', 'Age', 'Height', 'Weight', 'Sex')\n",
    "print(df)"
   ]
  },
  {
   "cell_type": "code",
   "execution_count": 6,
   "metadata": {},
   "outputs": [
    {
     "name": "stdout",
     "output_type": "stream",
     "text": [
      "             Name Age Height Weight Sex\n",
      "Alex         Alex  25    177     57   F\n",
      "Lilly       Lilly  31    163     69   F\n",
      "Mark         Mark  23    190     83   M\n",
      "Oliver     Oliver  52    179     75   M\n",
      "Martha     Martha  76    163     70   F\n",
      "Lucas       Lucas  49    183     83   M\n",
      "Caroline Caroline  26    164     53   F\n"
     ]
    }
   ],
   "source": [
    "row.names(df) = df$Name\n",
    "print(df)"
   ]
  },
  {
   "cell_type": "code",
   "execution_count": 7,
   "metadata": {},
   "outputs": [
    {
     "name": "stdout",
     "output_type": "stream",
     "text": [
      "[1] \"Content of data frame:\"\n",
      "         Age Height Weight Sex\n",
      "Alex      25    177     57   F\n",
      "Lilly     31    163     69   F\n",
      "Mark      23    190     83   M\n",
      "Oliver    52    179     75   M\n",
      "Martha    76    163     70   F\n",
      "Lucas     49    183     83   M\n",
      "Caroline  26    164     53   F\n"
     ]
    }
   ],
   "source": [
    "df$Name = NULL\n",
    "print('Content of data frame:')\n",
    "print(df)"
   ]
  },
  {
   "cell_type": "code",
   "execution_count": 8,
   "metadata": {},
   "outputs": [
    {
     "name": "stdout",
     "output_type": "stream",
     "text": [
      "[1] \"Write to file...\"\n",
      "[1] \"Write completed\"\n"
     ]
    }
   ],
   "source": [
    "print('Write to file...')\n",
    "write.table(df, file=\"Table0_new.txt\")\n",
    "print('Write completed')"
   ]
  }
 ],
 "metadata": {
  "kernelspec": {
   "display_name": "R",
   "language": "R",
   "name": "ir"
  },
  "language_info": {
   "codemirror_mode": "r",
   "file_extension": ".r",
   "mimetype": "text/x-r-source",
   "name": "R",
   "pygments_lexer": "r",
   "version": "4.0.3"
  }
 },
 "nbformat": 4,
 "nbformat_minor": 4
}
