{
 "cells": [
  {
   "cell_type": "code",
   "execution_count": 1,
   "metadata": {},
   "outputs": [],
   "source": [
    "import numpy  as np\n",
    "import random\n",
    "\n",
    "from operator import itemgetter"
   ]
  },
  {
   "cell_type": "raw",
   "metadata": {},
   "source": [
    "\"\"\"============================================================================\n",
    "   Các tham số: \n",
    "      - Kích thước quần thể: sP\n",
    "      - Kích thước mẫu:      sS\n",
    "      - Số lần lấy mẫu:      n\n",
    "============================================================================\"\"\"\n",
    "import numpy  as np\n",
    "import random\n",
    "\n",
    "from operator import itemgetter\n",
    "\n",
    "'''----------------------------------------------------------------------------\n",
    "   Hàm tính các trung bình mẫu\n",
    "----------------------------------------------------------------------------'''"
   ]
  },
  {
   "cell_type": "code",
   "execution_count": 2,
   "metadata": {},
   "outputs": [],
   "source": [
    "def sampleMeans(data, n, sS, Mu):\n",
    "    result = np.zeros((len(n), 3))\n",
    "    for t in range(len(n)):\n",
    "        sampleMeans = []\n",
    "        for i in range(n[t]):\n",
    "            # Lấy mẫu S(i) gồm sS cá thể từ quần thể\n",
    "            sample = random.choices(data, k = sS)\n",
    "            sampleMeans.append(np.mean(sample))\n",
    "    \n",
    "        x_bar = np.mean(sampleMeans)\n",
    "        result[t, 0] = n[t]\n",
    "        result[t, 1] = x_bar\n",
    "        result[t, 2] = abs(Mu - x_bar)\n",
    "    return result"
   ]
  },
  {
   "cell_type": "raw",
   "metadata": {},
   "source": [
    "#==============================================================================\n",
    "# Kích thước quần thể sP và kích thước mẫu sS   "
   ]
  },
  {
   "cell_type": "code",
   "execution_count": 3,
   "metadata": {},
   "outputs": [],
   "source": [
    "sP = np.power(10, 6)\n",
    "sS = 20\n",
    "n  = [1, 100, 1000, 10000]    # Thay đổi số lần lấy mẫu"
   ]
  },
  {
   "cell_type": "code",
   "execution_count": 4,
   "metadata": {},
   "outputs": [
    {
     "name": "stdout",
     "output_type": "stream",
     "text": [
      "----------------------------------------------------------------------\n",
      "1) UNIFORM\n",
      "----------------------------------------------------------------------\n",
      "Kỳ vọng Mu = 170.0000\n",
      "Lấy mẫu   100 lần --> trung bình mẫu = 169.5125 (epsilon = 0.4875)\n",
      "Lấy mẫu 10000 lần --> trung bình mẫu = 169.4658 (epsilon = 0.5342)\n",
      "Lấy mẫu  1000 lần --> trung bình mẫu = 169.3864 (epsilon = 0.6136)\n",
      "Lấy mẫu     1 lần --> trung bình mẫu = 168.3000 (epsilon = 1.7000)\n"
     ]
    }
   ],
   "source": [
    "print('----------------------------------------------------------------------')\n",
    "print('1) UNIFORM')\n",
    "print('----------------------------------------------------------------------')\n",
    "\n",
    "# Tạo quần thể có chiều cao (cm) nằm trong khoảng [hMin, hMax]\n",
    "hMin = 145\n",
    "hMax = 195\n",
    "data = np.random.uniform(hMin, hMax, sP)\n",
    "data = data.astype(int) # chuyển sang kiểu INT\n",
    "Mu   = (hMin + hMax) / 2\n",
    "print('Kỳ vọng Mu = %.4f' %Mu)\n",
    "# Phân tích kết quả theo số lần lấy mẫu n\n",
    "means = sampleMeans(data, n, sS, Mu).tolist()\n",
    "means = sorted(means, key = itemgetter(2))\n",
    "\n",
    "for i in range(len(n)):\n",
    "    print('Lấy mẫu %5d' %means[i][0], 'lần --> trung bình mẫu = %.4f' %means[i][1], \n",
    "             '(epsilon = %.4f)' %abs(means[i][2]))"
   ]
  },
  {
   "cell_type": "code",
   "execution_count": 5,
   "metadata": {},
   "outputs": [
    {
     "name": "stdout",
     "output_type": "stream",
     "text": [
      "\n",
      "----------------------------------------------------------------------\n",
      "2) BINOMIAL\n",
      "----------------------------------------------------------------------\n",
      "Kỳ vọng Mu = 3.0000\n",
      "Lấy mẫu 10000 lần --> trung bình mẫu = 2.9986 (epsilon = 0.0014)\n",
      "Lấy mẫu  1000 lần --> trung bình mẫu = 3.0021 (epsilon = 0.0021)\n",
      "Lấy mẫu   100 lần --> trung bình mẫu = 3.0095 (epsilon = 0.0095)\n",
      "Lấy mẫu     1 lần --> trung bình mẫu = 3.4500 (epsilon = 0.4500)\n"
     ]
    }
   ],
   "source": [
    "print('\\n----------------------------------------------------------------------')\n",
    "print('2) BINOMIAL')\n",
    "print('----------------------------------------------------------------------')\n",
    "# Tạo quần thể từ thí nghiệm n phép thử Bernoulli\n",
    "trials = 10\n",
    "p      = 0.3\n",
    "data   = np.random.binomial(n = trials, p = p, size = sP)\n",
    "Mu     = (10 * 0.3)\n",
    "print('Kỳ vọng Mu = %.4f' %Mu)\n",
    "# Phân tích kết quả theo số lần lấy mẫu n \n",
    "means = sampleMeans(data, n, sS, Mu).tolist()\n",
    "means = sorted(means, key = itemgetter(2))\n",
    "\n",
    "for i in range(len(n)):\n",
    "    print('Lấy mẫu %5d' %means[i][0], 'lần --> trung bình mẫu = %.4f' %means[i][1], \n",
    "             '(epsilon = %.4f)' %abs(means[i][2]))"
   ]
  },
  {
   "cell_type": "code",
   "execution_count": 6,
   "metadata": {},
   "outputs": [
    {
     "name": "stdout",
     "output_type": "stream",
     "text": [
      "\n",
      "----------------------------------------------------------------------\n",
      "3) POISSON\n",
      "----------------------------------------------------------------------\n",
      "Kỳ vọng Mu = 30.0000\n",
      "Lấy mẫu 10000 lần --> trung bình mẫu = 29.9990 (epsilon = 0.0010)\n",
      "Lấy mẫu   100 lần --> trung bình mẫu = 29.9605 (epsilon = 0.0395)\n",
      "Lấy mẫu  1000 lần --> trung bình mẫu = 29.9487 (epsilon = 0.0513)\n",
      "Lấy mẫu     1 lần --> trung bình mẫu = 31.1500 (epsilon = 1.1500)\n"
     ]
    }
   ],
   "source": [
    "print('\\n----------------------------------------------------------------------')\n",
    "print('3) POISSON')\n",
    "print('----------------------------------------------------------------------')\n",
    "# Tạo quần thể\n",
    "lambda_ = 30\n",
    "data    = np.random.poisson(lam = lambda_, size = sP)\n",
    "Mu      = lambda_\n",
    "print('Kỳ vọng Mu = %.4f' %Mu)\n",
    "# Phân tích kết quả theo số lần lấy mẫu n \n",
    "means = sampleMeans(data, n, sS, Mu).tolist()\n",
    "means = sorted(means, key = itemgetter(2))\n",
    "\n",
    "for i in range(len(n)):\n",
    "    print('Lấy mẫu %5d' %means[i][0], 'lần --> trung bình mẫu = %.4f' %means[i][1], \n",
    "             '(epsilon = %.4f)' %abs(means[i][2]))"
   ]
  },
  {
   "cell_type": "code",
   "execution_count": 7,
   "metadata": {},
   "outputs": [
    {
     "name": "stdout",
     "output_type": "stream",
     "text": [
      "\n",
      "----------------------------------------------------------------------\n",
      "4) GEOMETRIC\n",
      "----------------------------------------------------------------------\n",
      "Kỳ vọng Mu = 3.3333\n",
      "Lấy mẫu 10000 lần --> trung bình mẫu = 3.3285 (epsilon = 0.0048)\n",
      "Lấy mẫu  1000 lần --> trung bình mẫu = 3.3544 (epsilon = 0.0210)\n",
      "Lấy mẫu   100 lần --> trung bình mẫu = 3.2930 (epsilon = 0.0403)\n",
      "Lấy mẫu     1 lần --> trung bình mẫu = 2.5000 (epsilon = 0.8333)\n"
     ]
    }
   ],
   "source": [
    "\n",
    "\n",
    "print('\\n----------------------------------------------------------------------')\n",
    "print('4) GEOMETRIC')\n",
    "print('----------------------------------------------------------------------')\n",
    "# Tạo quần thể\n",
    "p    = 0.3\n",
    "data = np.random.geometric(p = p, size = sP)\n",
    "Mu   = 1 / p\n",
    "print('Kỳ vọng Mu = %.4f' %Mu)\n",
    "# Phân tích kết quả theo số lần lấy mẫu n \n",
    "means = sampleMeans(data, n, sS, Mu).tolist()\n",
    "means = sorted(means, key = itemgetter(2))\n",
    "\n",
    "for i in range(len(n)):\n",
    "    print('Lấy mẫu %5d' %means[i][0], 'lần --> trung bình mẫu = %.4f' %means[i][1], \n",
    "             '(epsilon = %.4f)' %abs(means[i][2]))\n",
    "    "
   ]
  },
  {
   "cell_type": "code",
   "execution_count": 8,
   "metadata": {},
   "outputs": [
    {
     "name": "stdout",
     "output_type": "stream",
     "text": [
      "\n",
      "----------------------------------------------------------------------\n",
      "5) EXPONENTIAL\n",
      "----------------------------------------------------------------------\n",
      "Kỳ vọng Mu = 0.0333\n",
      "Lấy mẫu 10000 lần --> trung bình mẫu = 0.0334 (epsilon = 0.0000)\n",
      "Lấy mẫu     1 lần --> trung bình mẫu = 0.0331 (epsilon = 0.0002)\n",
      "Lấy mẫu  1000 lần --> trung bình mẫu = 0.0331 (epsilon = 0.0003)\n",
      "Lấy mẫu   100 lần --> trung bình mẫu = 0.0348 (epsilon = 0.0015)\n"
     ]
    }
   ],
   "source": [
    "print('\\n----------------------------------------------------------------------')\n",
    "print('5) EXPONENTIAL')\n",
    "print('----------------------------------------------------------------------')\n",
    "# Tạo quần thể\n",
    "lambda_ = 30\n",
    "data    = np.random.exponential(1. / lambda_, size = sP)\n",
    "Mu      = 1. / lambda_\n",
    "print('Kỳ vọng Mu = %.4f' %Mu)\n",
    "# Phân tích kết quả theo số lần lấy mẫu n \n",
    "means = sampleMeans(data, n, sS, Mu).tolist()\n",
    "means = sorted(means, key = itemgetter(2))\n",
    "\n",
    "for i in range(len(n)):\n",
    "    print('Lấy mẫu %5d' %means[i][0], 'lần --> trung bình mẫu = %.4f' %means[i][1], \n",
    "             '(epsilon = %.4f)' %abs(means[i][2]))"
   ]
  },
  {
   "cell_type": "code",
   "execution_count": 9,
   "metadata": {},
   "outputs": [
    {
     "name": "stdout",
     "output_type": "stream",
     "text": [
      "\n",
      "----------------------------------------------------------------------\n",
      "6) PARETO\n",
      "----------------------------------------------------------------------\n",
      "Kỳ vọng Mu = 1.5000\n",
      "Lấy mẫu 10000 lần --> trung bình mẫu = 1.4996 (epsilon = 0.0004)\n",
      "Lấy mẫu  1000 lần --> trung bình mẫu = 1.4969 (epsilon = 0.0031)\n",
      "Lấy mẫu   100 lần --> trung bình mẫu = 1.4803 (epsilon = 0.0197)\n",
      "Lấy mẫu     1 lần --> trung bình mẫu = 1.5415 (epsilon = 0.0415)\n"
     ]
    }
   ],
   "source": [
    "print('\\n----------------------------------------------------------------------')\n",
    "print('6) PARETO')\n",
    "print('----------------------------------------------------------------------')\n",
    "# Tạo quần thể\n",
    "alpha = 3.0   # shape (độ dốc ở phần đầu, gần giá trị của k)\n",
    "k     = 1     # location hay là giá trị min, default = 0 --> dời curve k đơn vị\n",
    "data  = np.random.pareto(alpha, sP) + k\n",
    "Mu    = (k * alpha) / (alpha - 1)\n",
    "print('Kỳ vọng Mu = %.4f' %Mu)\n",
    "# Phân tích kết quả theo số lần lấy mẫu n \n",
    "means = sampleMeans(data, n, sS, Mu).tolist()\n",
    "means = sorted(means, key = itemgetter(2))\n",
    "\n",
    "for i in range(len(n)):\n",
    "    print('Lấy mẫu %5d' %means[i][0], 'lần --> trung bình mẫu = %.4f' %means[i][1], \n",
    "             '(epsilon = %.4f)' %abs(means[i][2]))"
   ]
  },
  {
   "cell_type": "code",
   "execution_count": null,
   "metadata": {},
   "outputs": [],
   "source": []
  }
 ],
 "metadata": {
  "kernelspec": {
   "display_name": "Python 3",
   "language": "python",
   "name": "python3"
  },
  "language_info": {
   "codemirror_mode": {
    "name": "ipython",
    "version": 3
   },
   "file_extension": ".py",
   "mimetype": "text/x-python",
   "name": "python",
   "nbconvert_exporter": "python",
   "pygments_lexer": "ipython3",
   "version": "3.8.5"
  }
 },
 "nbformat": 4,
 "nbformat_minor": 4
}
