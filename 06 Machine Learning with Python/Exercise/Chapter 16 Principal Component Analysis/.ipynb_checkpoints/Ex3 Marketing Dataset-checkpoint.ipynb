{
 "cells": [
  {
   "cell_type": "markdown",
   "metadata": {},
   "source": [
    "## Cho dữ liệu marketing_data.csv chứa liệu bán hàng: thị phần (market share), thông tin cửa hàng (store variables), thông tin cạnh tranh (competition variables), và dữ liệu trong hoạt động quảng cáo (advertising activity data).\n",
    "\n",
    "#### Definition: Private label products are those manufactured by one company for sale under store own brands name sometime also known as white labels.\n",
    "#### GRP: Le GRP is an indicator of the advertising pressure of a given media. It corresponds to the average number of advertising contacts obtained on 100 individuals of the targeted target.\n",
    "#### Reach: refers to the total number of different people or households exposed, at least once, to a medium during a given period.\n",
    "#### Here is a description of the fields in the data set:\n",
    "* week: the week number\n",
    "* Year: the data span approximately 3 years from mi 2010 to mid 2013\n",
    "* Market.Share: the category market share of the product\n",
    "* Av.Price.per.kg: average price of 1 kilogram of the product\n",
    "* Non.Promo.Price.per.kg: Non promotional price of the product\n",
    "* Promo.Vol.Share: ratio of the promotion to. Normal sales\n",
    "* Total.Weigh: total weight of the product sold\n",
    "* Share.of.Ean.Weigh:\n",
    "* Avg.price.vs.PLB: Ratio of price versus the store private brand in the same category.\n",
    "* Non.promo.price.vs.PLB: average non promotion price ration to the private label brand\n",
    "* Promo.vol.sh.index.vs.PLB: ratio promotion volume to the private label brand\n",
    "* Total.cm.shelf: Total of linear space taken by the product in centimeters\n",
    "* Shelf.share: share of the total shelf taken by the category\n",
    "* Top.of.mind: ratio interview that cited the brand top of mind. (this is an answer to the question: can you cite some brands in the category X)\n",
    "* Spontaneous: ratio of interviewees spontaneously citing the brand\n",
    "* Aided: ratio of the interviewees that recognized the brand by their logo\n",
    "* Penetration: ratio of the household that bought at least once the brand in the year.\n",
    "* Competitor: one competitor market share. This is a competitor brand that is of interest in the analysis.\n",
    "* GRP.radio: GRP of the radio in a given week.\n",
    "* Reach.radio: Reach of the radio advertising in a given week.\n",
    "* GRP.TV: GRP of TV advertising\n",
    "* Reach.TV: reach of TV advertising\n",
    "* Reach.cinema: Reach of Cinema advertising\n",
    "* GRP.outdoor: GRP of outdoor advertising\n",
    "* GRP.print: GRP of Print advertising\n",
    "* Share.of.spend: share of the marketing budget in these activities in the given week.\n",
    "\n",
    "## Với khá nhiều thông tin, sẽ rất khó để tìm ra insight từ bộ dữ liệu này. Hãy áp dụng thuật toán PCA để trực quan hóa dữ liệu với 2 hoặc 3 thành phần chính. Tìm insight từ các thành phần chính."
   ]
  },
  {
   "cell_type": "code",
   "execution_count": 1,
   "metadata": {},
   "outputs": [],
   "source": [
    "import matplotlib.pyplot as plt\n",
    "import numpy as np\n",
    "import pandas as pd\n",
    "import seaborn as sns\n",
    "\n",
    "from sklearn import datasets\n",
    "from sklearn import svm\n",
    "from sklearn.model_selection import train_test_split\n",
    "from sklearn.preprocessing import StandardScaler\n",
    "from sklearn.decomposition import PCA"
   ]
  },
  {
   "cell_type": "code",
   "execution_count": 2,
   "metadata": {},
   "outputs": [],
   "source": [
    "data = pd.read_csv(\"../../Data/marketing_data.csv\")"
   ]
  },
  {
   "cell_type": "code",
   "execution_count": 3,
   "metadata": {},
   "outputs": [
    {
     "name": "stdout",
     "output_type": "stream",
     "text": [
      "2021-03-30 17:27:24.082876\n"
     ]
    }
   ],
   "source": [
    "import datetime\n",
    "x1 = datetime.datetime.now()\n",
    "print(x1)"
   ]
  },
  {
   "cell_type": "code",
   "execution_count": 4,
   "metadata": {},
   "outputs": [
    {
     "data": {
      "text/html": [
       "<div>\n",
       "<style scoped>\n",
       "    .dataframe tbody tr th:only-of-type {\n",
       "        vertical-align: middle;\n",
       "    }\n",
       "\n",
       "    .dataframe tbody tr th {\n",
       "        vertical-align: top;\n",
       "    }\n",
       "\n",
       "    .dataframe thead th {\n",
       "        text-align: right;\n",
       "    }\n",
       "</style>\n",
       "<table border=\"1\" class=\"dataframe\">\n",
       "  <thead>\n",
       "    <tr style=\"text-align: right;\">\n",
       "      <th></th>\n",
       "      <th>week</th>\n",
       "      <th>Year</th>\n",
       "      <th>Market.Share</th>\n",
       "      <th>Av.Price.per.kg</th>\n",
       "      <th>Non-Promo Price.per.kg</th>\n",
       "      <th>Promo.Vol.Share</th>\n",
       "      <th>Total.Weigh</th>\n",
       "      <th>Share.of.Ean.Weigh</th>\n",
       "      <th>Avg price.vs.PLB</th>\n",
       "      <th>Non.promo.price.vs.PLB</th>\n",
       "      <th>...</th>\n",
       "      <th>Penetration</th>\n",
       "      <th>Competitor</th>\n",
       "      <th>GRP.radio</th>\n",
       "      <th>Reach.radio</th>\n",
       "      <th>GRP.TV</th>\n",
       "      <th>Reach.TV</th>\n",
       "      <th>Reach.cinema</th>\n",
       "      <th>GRP.outdoor</th>\n",
       "      <th>GRP.print</th>\n",
       "      <th>Share.of.spend</th>\n",
       "    </tr>\n",
       "  </thead>\n",
       "  <tbody>\n",
       "    <tr>\n",
       "      <th>0</th>\n",
       "      <td>19</td>\n",
       "      <td>2010</td>\n",
       "      <td>38.40</td>\n",
       "      <td>7.61</td>\n",
       "      <td>7.77</td>\n",
       "      <td>26.87</td>\n",
       "      <td>84</td>\n",
       "      <td>19.28</td>\n",
       "      <td>2.01</td>\n",
       "      <td>2.20</td>\n",
       "      <td>...</td>\n",
       "      <td>NaN</td>\n",
       "      <td>NaN</td>\n",
       "      <td>NaN</td>\n",
       "      <td>NaN</td>\n",
       "      <td>NaN</td>\n",
       "      <td>NaN</td>\n",
       "      <td>NaN</td>\n",
       "      <td>NaN</td>\n",
       "      <td>NaN</td>\n",
       "      <td>NaN</td>\n",
       "    </tr>\n",
       "    <tr>\n",
       "      <th>1</th>\n",
       "      <td>20</td>\n",
       "      <td>2010</td>\n",
       "      <td>36.80</td>\n",
       "      <td>7.60</td>\n",
       "      <td>7.80</td>\n",
       "      <td>29.42</td>\n",
       "      <td>84</td>\n",
       "      <td>18.90</td>\n",
       "      <td>2.00</td>\n",
       "      <td>2.19</td>\n",
       "      <td>...</td>\n",
       "      <td>NaN</td>\n",
       "      <td>NaN</td>\n",
       "      <td>NaN</td>\n",
       "      <td>NaN</td>\n",
       "      <td>NaN</td>\n",
       "      <td>NaN</td>\n",
       "      <td>NaN</td>\n",
       "      <td>NaN</td>\n",
       "      <td>NaN</td>\n",
       "      <td>NaN</td>\n",
       "    </tr>\n",
       "    <tr>\n",
       "      <th>2</th>\n",
       "      <td>21</td>\n",
       "      <td>2010</td>\n",
       "      <td>35.21</td>\n",
       "      <td>7.63</td>\n",
       "      <td>7.85</td>\n",
       "      <td>27.27</td>\n",
       "      <td>82</td>\n",
       "      <td>19.11</td>\n",
       "      <td>2.07</td>\n",
       "      <td>2.23</td>\n",
       "      <td>...</td>\n",
       "      <td>NaN</td>\n",
       "      <td>NaN</td>\n",
       "      <td>NaN</td>\n",
       "      <td>NaN</td>\n",
       "      <td>NaN</td>\n",
       "      <td>NaN</td>\n",
       "      <td>NaN</td>\n",
       "      <td>NaN</td>\n",
       "      <td>NaN</td>\n",
       "      <td>NaN</td>\n",
       "    </tr>\n",
       "    <tr>\n",
       "      <th>3</th>\n",
       "      <td>22</td>\n",
       "      <td>2010</td>\n",
       "      <td>35.03</td>\n",
       "      <td>7.22</td>\n",
       "      <td>7.76</td>\n",
       "      <td>52.48</td>\n",
       "      <td>88</td>\n",
       "      <td>18.67</td>\n",
       "      <td>1.90</td>\n",
       "      <td>2.12</td>\n",
       "      <td>...</td>\n",
       "      <td>NaN</td>\n",
       "      <td>NaN</td>\n",
       "      <td>NaN</td>\n",
       "      <td>NaN</td>\n",
       "      <td>NaN</td>\n",
       "      <td>NaN</td>\n",
       "      <td>NaN</td>\n",
       "      <td>NaN</td>\n",
       "      <td>NaN</td>\n",
       "      <td>NaN</td>\n",
       "    </tr>\n",
       "    <tr>\n",
       "      <th>4</th>\n",
       "      <td>23</td>\n",
       "      <td>2010</td>\n",
       "      <td>32.37</td>\n",
       "      <td>7.70</td>\n",
       "      <td>7.78</td>\n",
       "      <td>16.11</td>\n",
       "      <td>82</td>\n",
       "      <td>18.61</td>\n",
       "      <td>2.18</td>\n",
       "      <td>2.15</td>\n",
       "      <td>...</td>\n",
       "      <td>NaN</td>\n",
       "      <td>NaN</td>\n",
       "      <td>NaN</td>\n",
       "      <td>NaN</td>\n",
       "      <td>NaN</td>\n",
       "      <td>NaN</td>\n",
       "      <td>NaN</td>\n",
       "      <td>NaN</td>\n",
       "      <td>NaN</td>\n",
       "      <td>NaN</td>\n",
       "    </tr>\n",
       "  </tbody>\n",
       "</table>\n",
       "<p>5 rows × 26 columns</p>\n",
       "</div>"
      ],
      "text/plain": [
       "   week  Year  Market.Share  Av.Price.per.kg  Non-Promo Price.per.kg  \\\n",
       "0    19  2010         38.40             7.61                    7.77   \n",
       "1    20  2010         36.80             7.60                    7.80   \n",
       "2    21  2010         35.21             7.63                    7.85   \n",
       "3    22  2010         35.03             7.22                    7.76   \n",
       "4    23  2010         32.37             7.70                    7.78   \n",
       "\n",
       "   Promo.Vol.Share  Total.Weigh  Share.of.Ean.Weigh  Avg price.vs.PLB  \\\n",
       "0            26.87           84               19.28              2.01   \n",
       "1            29.42           84               18.90              2.00   \n",
       "2            27.27           82               19.11              2.07   \n",
       "3            52.48           88               18.67              1.90   \n",
       "4            16.11           82               18.61              2.18   \n",
       "\n",
       "   Non.promo.price.vs.PLB  ...  Penetration  Competitor  GRP.radio  \\\n",
       "0                    2.20  ...          NaN         NaN        NaN   \n",
       "1                    2.19  ...          NaN         NaN        NaN   \n",
       "2                    2.23  ...          NaN         NaN        NaN   \n",
       "3                    2.12  ...          NaN         NaN        NaN   \n",
       "4                    2.15  ...          NaN         NaN        NaN   \n",
       "\n",
       "   Reach.radio  GRP.TV  Reach.TV  Reach.cinema  GRP.outdoor  GRP.print  \\\n",
       "0          NaN     NaN       NaN           NaN          NaN        NaN   \n",
       "1          NaN     NaN       NaN           NaN          NaN        NaN   \n",
       "2          NaN     NaN       NaN           NaN          NaN        NaN   \n",
       "3          NaN     NaN       NaN           NaN          NaN        NaN   \n",
       "4          NaN     NaN       NaN           NaN          NaN        NaN   \n",
       "\n",
       "   Share.of.spend  \n",
       "0             NaN  \n",
       "1             NaN  \n",
       "2             NaN  \n",
       "3             NaN  \n",
       "4             NaN  \n",
       "\n",
       "[5 rows x 26 columns]"
      ]
     },
     "execution_count": 4,
     "metadata": {},
     "output_type": "execute_result"
    }
   ],
   "source": [
    "data.head()"
   ]
  },
  {
   "cell_type": "code",
   "execution_count": 5,
   "metadata": {},
   "outputs": [
    {
     "name": "stdout",
     "output_type": "stream",
     "text": [
      "<class 'pandas.core.frame.DataFrame'>\n",
      "RangeIndex: 156 entries, 0 to 155\n",
      "Data columns (total 26 columns):\n",
      " #   Column                     Non-Null Count  Dtype  \n",
      "---  ------                     --------------  -----  \n",
      " 0   week                       156 non-null    int64  \n",
      " 1   Year                       156 non-null    int64  \n",
      " 2   Market.Share               156 non-null    float64\n",
      " 3   Av.Price.per.kg            156 non-null    float64\n",
      " 4   Non-Promo Price.per.kg     156 non-null    float64\n",
      " 5   Promo.Vol.Share            156 non-null    float64\n",
      " 6   Total.Weigh                156 non-null    int64  \n",
      " 7   Share.of.Ean.Weigh         156 non-null    float64\n",
      " 8   Avg price.vs.PLB           156 non-null    float64\n",
      " 9   Non.promo.price.vs.PLB     156 non-null    float64\n",
      " 10  Promo.vol.sh.index.vs.PLB  156 non-null    float64\n",
      " 11  Total.cm.shelf             156 non-null    float64\n",
      " 12  Shelf.share                156 non-null    float64\n",
      " 13  Top.of.mind                123 non-null    float64\n",
      " 14  Spontaneous                123 non-null    float64\n",
      " 15  Aided                      123 non-null    float64\n",
      " 16  Penetration                123 non-null    float64\n",
      " 17  Competitor                 111 non-null    float64\n",
      " 18  GRP.radio                  14 non-null     float64\n",
      " 19  Reach.radio                14 non-null     float64\n",
      " 20  GRP.TV                     52 non-null     float64\n",
      " 21  Reach.TV                   52 non-null     float64\n",
      " 22  Reach.cinema               18 non-null     float64\n",
      " 23  GRP.outdoor                1 non-null      float64\n",
      " 24  GRP.print                  22 non-null     float64\n",
      " 25  Share.of.spend             116 non-null    float64\n",
      "dtypes: float64(23), int64(3)\n",
      "memory usage: 31.8 KB\n"
     ]
    }
   ],
   "source": [
    "data.info()"
   ]
  },
  {
   "cell_type": "code",
   "execution_count": 6,
   "metadata": {},
   "outputs": [
    {
     "data": {
      "text/plain": [
       "week                           0\n",
       "Year                           0\n",
       "Market.Share                   0\n",
       "Av.Price.per.kg                0\n",
       "Non-Promo Price.per.kg         0\n",
       "Promo.Vol.Share                0\n",
       "Total.Weigh                    0\n",
       "Share.of.Ean.Weigh             0\n",
       "Avg price.vs.PLB               0\n",
       "Non.promo.price.vs.PLB         0\n",
       "Promo.vol.sh.index.vs.PLB      0\n",
       "Total.cm.shelf                 0\n",
       "Shelf.share                    0\n",
       "Top.of.mind                   33\n",
       "Spontaneous                   33\n",
       "Aided                         33\n",
       "Penetration                   33\n",
       "Competitor                    45\n",
       "GRP.radio                    142\n",
       "Reach.radio                  142\n",
       "GRP.TV                       104\n",
       "Reach.TV                     104\n",
       "Reach.cinema                 138\n",
       "GRP.outdoor                  155\n",
       "GRP.print                    134\n",
       "Share.of.spend                40\n",
       "dtype: int64"
      ]
     },
     "execution_count": 6,
     "metadata": {},
     "output_type": "execute_result"
    }
   ],
   "source": [
    "# Kiểm tra dữ liệu null\n",
    "pd.isnull(data).sum()"
   ]
  },
  {
   "cell_type": "code",
   "execution_count": 7,
   "metadata": {},
   "outputs": [],
   "source": [
    "# Cần bỏ đi các cột thiếu nhiều dữ liệu\n",
    "# Trên 20% dữ liệu thiếu\n",
    "datasub = data.iloc[:, 2:13]\n",
    "# bỏ cột week/Year (là cột sẽ tổng hợp theo Group: Year)"
   ]
  },
  {
   "cell_type": "code",
   "execution_count": 8,
   "metadata": {},
   "outputs": [
    {
     "data": {
      "text/html": [
       "<div>\n",
       "<style scoped>\n",
       "    .dataframe tbody tr th:only-of-type {\n",
       "        vertical-align: middle;\n",
       "    }\n",
       "\n",
       "    .dataframe tbody tr th {\n",
       "        vertical-align: top;\n",
       "    }\n",
       "\n",
       "    .dataframe thead th {\n",
       "        text-align: right;\n",
       "    }\n",
       "</style>\n",
       "<table border=\"1\" class=\"dataframe\">\n",
       "  <thead>\n",
       "    <tr style=\"text-align: right;\">\n",
       "      <th></th>\n",
       "      <th>Market.Share</th>\n",
       "      <th>Av.Price.per.kg</th>\n",
       "      <th>Non-Promo Price.per.kg</th>\n",
       "      <th>Promo.Vol.Share</th>\n",
       "      <th>Total.Weigh</th>\n",
       "      <th>Share.of.Ean.Weigh</th>\n",
       "      <th>Avg price.vs.PLB</th>\n",
       "      <th>Non.promo.price.vs.PLB</th>\n",
       "      <th>Promo.vol.sh.index.vs.PLB</th>\n",
       "      <th>Total.cm.shelf</th>\n",
       "      <th>Shelf.share</th>\n",
       "    </tr>\n",
       "  </thead>\n",
       "  <tbody>\n",
       "    <tr>\n",
       "      <th>0</th>\n",
       "      <td>38.40</td>\n",
       "      <td>7.61</td>\n",
       "      <td>7.77</td>\n",
       "      <td>26.87</td>\n",
       "      <td>84</td>\n",
       "      <td>19.28</td>\n",
       "      <td>2.01</td>\n",
       "      <td>2.20</td>\n",
       "      <td>2.02</td>\n",
       "      <td>754253.0</td>\n",
       "      <td>0.25</td>\n",
       "    </tr>\n",
       "    <tr>\n",
       "      <th>1</th>\n",
       "      <td>36.80</td>\n",
       "      <td>7.60</td>\n",
       "      <td>7.80</td>\n",
       "      <td>29.42</td>\n",
       "      <td>84</td>\n",
       "      <td>18.90</td>\n",
       "      <td>2.00</td>\n",
       "      <td>2.19</td>\n",
       "      <td>1.59</td>\n",
       "      <td>752248.7</td>\n",
       "      <td>0.25</td>\n",
       "    </tr>\n",
       "    <tr>\n",
       "      <th>2</th>\n",
       "      <td>35.21</td>\n",
       "      <td>7.63</td>\n",
       "      <td>7.85</td>\n",
       "      <td>27.27</td>\n",
       "      <td>82</td>\n",
       "      <td>19.11</td>\n",
       "      <td>2.07</td>\n",
       "      <td>2.23</td>\n",
       "      <td>1.03</td>\n",
       "      <td>750244.4</td>\n",
       "      <td>0.25</td>\n",
       "    </tr>\n",
       "  </tbody>\n",
       "</table>\n",
       "</div>"
      ],
      "text/plain": [
       "   Market.Share  Av.Price.per.kg  Non-Promo Price.per.kg  Promo.Vol.Share  \\\n",
       "0         38.40             7.61                    7.77            26.87   \n",
       "1         36.80             7.60                    7.80            29.42   \n",
       "2         35.21             7.63                    7.85            27.27   \n",
       "\n",
       "   Total.Weigh  Share.of.Ean.Weigh  Avg price.vs.PLB  Non.promo.price.vs.PLB  \\\n",
       "0           84               19.28              2.01                    2.20   \n",
       "1           84               18.90              2.00                    2.19   \n",
       "2           82               19.11              2.07                    2.23   \n",
       "\n",
       "   Promo.vol.sh.index.vs.PLB  Total.cm.shelf  Shelf.share  \n",
       "0                       2.02        754253.0         0.25  \n",
       "1                       1.59        752248.7         0.25  \n",
       "2                       1.03        750244.4         0.25  "
      ]
     },
     "execution_count": 8,
     "metadata": {},
     "output_type": "execute_result"
    }
   ],
   "source": [
    "datasub.head(3)"
   ]
  },
  {
   "cell_type": "code",
   "execution_count": 9,
   "metadata": {},
   "outputs": [
    {
     "data": {
      "text/plain": [
       "Market.Share                 0\n",
       "Av.Price.per.kg              0\n",
       "Non-Promo Price.per.kg       0\n",
       "Promo.Vol.Share              0\n",
       "Total.Weigh                  0\n",
       "Share.of.Ean.Weigh           0\n",
       "Avg price.vs.PLB             0\n",
       "Non.promo.price.vs.PLB       0\n",
       "Promo.vol.sh.index.vs.PLB    0\n",
       "Total.cm.shelf               0\n",
       "Shelf.share                  0\n",
       "dtype: int64"
      ]
     },
     "execution_count": 9,
     "metadata": {},
     "output_type": "execute_result"
    }
   ],
   "source": [
    "# Kiểm tra dữ liệu null\n",
    "pd.isnull(datasub).sum()"
   ]
  },
  {
   "cell_type": "markdown",
   "metadata": {},
   "source": [
    "Không còn dữ liệu null"
   ]
  },
  {
   "cell_type": "code",
   "execution_count": 10,
   "metadata": {},
   "outputs": [
    {
     "data": {
      "text/plain": [
       "(156, 11)"
      ]
     },
     "execution_count": 10,
     "metadata": {},
     "output_type": "execute_result"
    }
   ],
   "source": [
    "datasub.shape"
   ]
  },
  {
   "cell_type": "code",
   "execution_count": 11,
   "metadata": {},
   "outputs": [
    {
     "data": {
      "text/html": [
       "<div>\n",
       "<style scoped>\n",
       "    .dataframe tbody tr th:only-of-type {\n",
       "        vertical-align: middle;\n",
       "    }\n",
       "\n",
       "    .dataframe tbody tr th {\n",
       "        vertical-align: top;\n",
       "    }\n",
       "\n",
       "    .dataframe thead th {\n",
       "        text-align: right;\n",
       "    }\n",
       "</style>\n",
       "<table border=\"1\" class=\"dataframe\">\n",
       "  <thead>\n",
       "    <tr style=\"text-align: right;\">\n",
       "      <th></th>\n",
       "      <th>Market.Share</th>\n",
       "      <th>Av.Price.per.kg</th>\n",
       "      <th>Non-Promo Price.per.kg</th>\n",
       "      <th>Promo.Vol.Share</th>\n",
       "      <th>Total.Weigh</th>\n",
       "      <th>Share.of.Ean.Weigh</th>\n",
       "      <th>Avg price.vs.PLB</th>\n",
       "      <th>Non.promo.price.vs.PLB</th>\n",
       "      <th>Promo.vol.sh.index.vs.PLB</th>\n",
       "      <th>Total.cm.shelf</th>\n",
       "      <th>Shelf.share</th>\n",
       "    </tr>\n",
       "  </thead>\n",
       "  <tbody>\n",
       "    <tr>\n",
       "      <th>Market.Share</th>\n",
       "      <td>1.000000</td>\n",
       "      <td>-0.324174</td>\n",
       "      <td>0.047841</td>\n",
       "      <td>0.575326</td>\n",
       "      <td>0.063402</td>\n",
       "      <td>0.517212</td>\n",
       "      <td>-0.537902</td>\n",
       "      <td>-0.275228</td>\n",
       "      <td>0.603217</td>\n",
       "      <td>0.511062</td>\n",
       "      <td>0.531925</td>\n",
       "    </tr>\n",
       "    <tr>\n",
       "      <th>Av.Price.per.kg</th>\n",
       "      <td>-0.324174</td>\n",
       "      <td>1.000000</td>\n",
       "      <td>0.717341</td>\n",
       "      <td>-0.336154</td>\n",
       "      <td>0.005114</td>\n",
       "      <td>0.040078</td>\n",
       "      <td>0.713328</td>\n",
       "      <td>0.616339</td>\n",
       "      <td>-0.194633</td>\n",
       "      <td>0.049864</td>\n",
       "      <td>-0.098341</td>\n",
       "    </tr>\n",
       "    <tr>\n",
       "      <th>Non-Promo Price.per.kg</th>\n",
       "      <td>0.047841</td>\n",
       "      <td>0.717341</td>\n",
       "      <td>1.000000</td>\n",
       "      <td>0.281971</td>\n",
       "      <td>0.005141</td>\n",
       "      <td>0.324106</td>\n",
       "      <td>0.508281</td>\n",
       "      <td>0.630557</td>\n",
       "      <td>0.274118</td>\n",
       "      <td>0.291483</td>\n",
       "      <td>0.141191</td>\n",
       "    </tr>\n",
       "    <tr>\n",
       "      <th>Promo.Vol.Share</th>\n",
       "      <td>0.575326</td>\n",
       "      <td>-0.336154</td>\n",
       "      <td>0.281971</td>\n",
       "      <td>1.000000</td>\n",
       "      <td>0.047171</td>\n",
       "      <td>0.347524</td>\n",
       "      <td>-0.243109</td>\n",
       "      <td>-0.022154</td>\n",
       "      <td>0.729234</td>\n",
       "      <td>0.284730</td>\n",
       "      <td>0.302807</td>\n",
       "    </tr>\n",
       "    <tr>\n",
       "      <th>Total.Weigh</th>\n",
       "      <td>0.063402</td>\n",
       "      <td>0.005114</td>\n",
       "      <td>0.005141</td>\n",
       "      <td>0.047171</td>\n",
       "      <td>1.000000</td>\n",
       "      <td>-0.141587</td>\n",
       "      <td>0.312546</td>\n",
       "      <td>0.241235</td>\n",
       "      <td>-0.202382</td>\n",
       "      <td>-0.205174</td>\n",
       "      <td>-0.232825</td>\n",
       "    </tr>\n",
       "    <tr>\n",
       "      <th>Share.of.Ean.Weigh</th>\n",
       "      <td>0.517212</td>\n",
       "      <td>0.040078</td>\n",
       "      <td>0.324106</td>\n",
       "      <td>0.347524</td>\n",
       "      <td>-0.141587</td>\n",
       "      <td>1.000000</td>\n",
       "      <td>-0.306241</td>\n",
       "      <td>-0.158216</td>\n",
       "      <td>0.316825</td>\n",
       "      <td>0.671051</td>\n",
       "      <td>0.638498</td>\n",
       "    </tr>\n",
       "    <tr>\n",
       "      <th>Avg price.vs.PLB</th>\n",
       "      <td>-0.537902</td>\n",
       "      <td>0.713328</td>\n",
       "      <td>0.508281</td>\n",
       "      <td>-0.243109</td>\n",
       "      <td>0.312546</td>\n",
       "      <td>-0.306241</td>\n",
       "      <td>1.000000</td>\n",
       "      <td>0.809193</td>\n",
       "      <td>-0.297964</td>\n",
       "      <td>-0.502074</td>\n",
       "      <td>-0.633546</td>\n",
       "    </tr>\n",
       "    <tr>\n",
       "      <th>Non.promo.price.vs.PLB</th>\n",
       "      <td>-0.275228</td>\n",
       "      <td>0.616339</td>\n",
       "      <td>0.630557</td>\n",
       "      <td>-0.022154</td>\n",
       "      <td>0.241235</td>\n",
       "      <td>-0.158216</td>\n",
       "      <td>0.809193</td>\n",
       "      <td>1.000000</td>\n",
       "      <td>0.096460</td>\n",
       "      <td>-0.388016</td>\n",
       "      <td>-0.511281</td>\n",
       "    </tr>\n",
       "    <tr>\n",
       "      <th>Promo.vol.sh.index.vs.PLB</th>\n",
       "      <td>0.603217</td>\n",
       "      <td>-0.194633</td>\n",
       "      <td>0.274118</td>\n",
       "      <td>0.729234</td>\n",
       "      <td>-0.202382</td>\n",
       "      <td>0.316825</td>\n",
       "      <td>-0.297964</td>\n",
       "      <td>0.096460</td>\n",
       "      <td>1.000000</td>\n",
       "      <td>0.277914</td>\n",
       "      <td>0.296365</td>\n",
       "    </tr>\n",
       "    <tr>\n",
       "      <th>Total.cm.shelf</th>\n",
       "      <td>0.511062</td>\n",
       "      <td>0.049864</td>\n",
       "      <td>0.291483</td>\n",
       "      <td>0.284730</td>\n",
       "      <td>-0.205174</td>\n",
       "      <td>0.671051</td>\n",
       "      <td>-0.502074</td>\n",
       "      <td>-0.388016</td>\n",
       "      <td>0.277914</td>\n",
       "      <td>1.000000</td>\n",
       "      <td>0.959483</td>\n",
       "    </tr>\n",
       "    <tr>\n",
       "      <th>Shelf.share</th>\n",
       "      <td>0.531925</td>\n",
       "      <td>-0.098341</td>\n",
       "      <td>0.141191</td>\n",
       "      <td>0.302807</td>\n",
       "      <td>-0.232825</td>\n",
       "      <td>0.638498</td>\n",
       "      <td>-0.633546</td>\n",
       "      <td>-0.511281</td>\n",
       "      <td>0.296365</td>\n",
       "      <td>0.959483</td>\n",
       "      <td>1.000000</td>\n",
       "    </tr>\n",
       "  </tbody>\n",
       "</table>\n",
       "</div>"
      ],
      "text/plain": [
       "                           Market.Share  Av.Price.per.kg  \\\n",
       "Market.Share                   1.000000        -0.324174   \n",
       "Av.Price.per.kg               -0.324174         1.000000   \n",
       "Non-Promo Price.per.kg         0.047841         0.717341   \n",
       "Promo.Vol.Share                0.575326        -0.336154   \n",
       "Total.Weigh                    0.063402         0.005114   \n",
       "Share.of.Ean.Weigh             0.517212         0.040078   \n",
       "Avg price.vs.PLB              -0.537902         0.713328   \n",
       "Non.promo.price.vs.PLB        -0.275228         0.616339   \n",
       "Promo.vol.sh.index.vs.PLB      0.603217        -0.194633   \n",
       "Total.cm.shelf                 0.511062         0.049864   \n",
       "Shelf.share                    0.531925        -0.098341   \n",
       "\n",
       "                           Non-Promo Price.per.kg  Promo.Vol.Share  \\\n",
       "Market.Share                             0.047841         0.575326   \n",
       "Av.Price.per.kg                          0.717341        -0.336154   \n",
       "Non-Promo Price.per.kg                   1.000000         0.281971   \n",
       "Promo.Vol.Share                          0.281971         1.000000   \n",
       "Total.Weigh                              0.005141         0.047171   \n",
       "Share.of.Ean.Weigh                       0.324106         0.347524   \n",
       "Avg price.vs.PLB                         0.508281        -0.243109   \n",
       "Non.promo.price.vs.PLB                   0.630557        -0.022154   \n",
       "Promo.vol.sh.index.vs.PLB                0.274118         0.729234   \n",
       "Total.cm.shelf                           0.291483         0.284730   \n",
       "Shelf.share                              0.141191         0.302807   \n",
       "\n",
       "                           Total.Weigh  Share.of.Ean.Weigh  Avg price.vs.PLB  \\\n",
       "Market.Share                  0.063402            0.517212         -0.537902   \n",
       "Av.Price.per.kg               0.005114            0.040078          0.713328   \n",
       "Non-Promo Price.per.kg        0.005141            0.324106          0.508281   \n",
       "Promo.Vol.Share               0.047171            0.347524         -0.243109   \n",
       "Total.Weigh                   1.000000           -0.141587          0.312546   \n",
       "Share.of.Ean.Weigh           -0.141587            1.000000         -0.306241   \n",
       "Avg price.vs.PLB              0.312546           -0.306241          1.000000   \n",
       "Non.promo.price.vs.PLB        0.241235           -0.158216          0.809193   \n",
       "Promo.vol.sh.index.vs.PLB    -0.202382            0.316825         -0.297964   \n",
       "Total.cm.shelf               -0.205174            0.671051         -0.502074   \n",
       "Shelf.share                  -0.232825            0.638498         -0.633546   \n",
       "\n",
       "                           Non.promo.price.vs.PLB  Promo.vol.sh.index.vs.PLB  \\\n",
       "Market.Share                            -0.275228                   0.603217   \n",
       "Av.Price.per.kg                          0.616339                  -0.194633   \n",
       "Non-Promo Price.per.kg                   0.630557                   0.274118   \n",
       "Promo.Vol.Share                         -0.022154                   0.729234   \n",
       "Total.Weigh                              0.241235                  -0.202382   \n",
       "Share.of.Ean.Weigh                      -0.158216                   0.316825   \n",
       "Avg price.vs.PLB                         0.809193                  -0.297964   \n",
       "Non.promo.price.vs.PLB                   1.000000                   0.096460   \n",
       "Promo.vol.sh.index.vs.PLB                0.096460                   1.000000   \n",
       "Total.cm.shelf                          -0.388016                   0.277914   \n",
       "Shelf.share                             -0.511281                   0.296365   \n",
       "\n",
       "                           Total.cm.shelf  Shelf.share  \n",
       "Market.Share                     0.511062     0.531925  \n",
       "Av.Price.per.kg                  0.049864    -0.098341  \n",
       "Non-Promo Price.per.kg           0.291483     0.141191  \n",
       "Promo.Vol.Share                  0.284730     0.302807  \n",
       "Total.Weigh                     -0.205174    -0.232825  \n",
       "Share.of.Ean.Weigh               0.671051     0.638498  \n",
       "Avg price.vs.PLB                -0.502074    -0.633546  \n",
       "Non.promo.price.vs.PLB          -0.388016    -0.511281  \n",
       "Promo.vol.sh.index.vs.PLB        0.277914     0.296365  \n",
       "Total.cm.shelf                   1.000000     0.959483  \n",
       "Shelf.share                      0.959483     1.000000  "
      ]
     },
     "execution_count": 11,
     "metadata": {},
     "output_type": "execute_result"
    }
   ],
   "source": [
    "# Xem xét mối liên quan của các thuộc tính khi áp dụng PCA\n",
    "datasub.corr()"
   ]
  },
  {
   "cell_type": "code",
   "execution_count": 12,
   "metadata": {},
   "outputs": [
    {
     "data": {
      "image/png": "[encoded data removed]",
      "text/plain": [
       "<Figure size 720x720 with 2 Axes>"
      ]
     },
     "metadata": {
      "needs_background": "light"
     },
     "output_type": "display_data"
    }
   ],
   "source": [
    "plt.figure(figsize=(10,10))\n",
    "sns.heatmap(datasub.corr())\n",
    "plt.show()"
   ]
  },
  {
   "cell_type": "markdown",
   "metadata": {},
   "source": [
    "Một số biến trong đó có liên quan đến nhau => có thể áp dụng PCA"
   ]
  },
  {
   "cell_type": "code",
   "execution_count": 13,
   "metadata": {},
   "outputs": [],
   "source": [
    "scaler = StandardScaler()\n",
    "scaler.fit(datasub)\n",
    "# Apply transform to datasub\n",
    "X_scaler = scaler.transform(datasub)"
   ]
  },
  {
   "cell_type": "code",
   "execution_count": 14,
   "metadata": {},
   "outputs": [],
   "source": [
    "# Make an instance of the Model\n",
    "pca = PCA(n_components=datasub.shape[1])"
   ]
  },
  {
   "cell_type": "code",
   "execution_count": 15,
   "metadata": {},
   "outputs": [
    {
     "data": {
      "text/plain": [
       "PCA(n_components=11)"
      ]
     },
     "execution_count": 15,
     "metadata": {},
     "output_type": "execute_result"
    }
   ],
   "source": [
    "pca.fit(X_scaler)"
   ]
  },
  {
   "cell_type": "code",
   "execution_count": 16,
   "metadata": {},
   "outputs": [
    {
     "data": {
      "text/plain": [
       "11"
      ]
     },
     "execution_count": 16,
     "metadata": {},
     "output_type": "execute_result"
    }
   ],
   "source": [
    "pca.n_components_"
   ]
  },
  {
   "cell_type": "code",
   "execution_count": 17,
   "metadata": {},
   "outputs": [
    {
     "data": {
      "text/plain": [
       "array([0.39684497, 0.24705638, 0.1479238 , 0.0920585 , 0.03877938,\n",
       "       0.03453391, 0.01872898, 0.0111113 , 0.00669423, 0.00406497,\n",
       "       0.0022036 ])"
      ]
     },
     "execution_count": 17,
     "metadata": {},
     "output_type": "execute_result"
    }
   ],
   "source": [
    "pca.explained_variance_ratio_"
   ]
  },
  {
   "cell_type": "code",
   "execution_count": 18,
   "metadata": {},
   "outputs": [
    {
     "data": {
      "image/png": "[encoded data removed]",
      "text/plain": [
       "<Figure size 432x360 with 1 Axes>"
      ]
     },
     "metadata": {
      "needs_background": "light"
     },
     "output_type": "display_data"
    }
   ],
   "source": [
    "plt.figure(figsize=(6,5))\n",
    "plt.plot(pca.explained_variance_ratio_)\n",
    "plt.show()"
   ]
  },
  {
   "cell_type": "code",
   "execution_count": 19,
   "metadata": {},
   "outputs": [
    {
     "data": {
      "text/plain": [
       "Text(0, 0.5, 'Cumulative explained variance')"
      ]
     },
     "execution_count": 19,
     "metadata": {},
     "output_type": "execute_result"
    },
    {
     "data": {
      "image/png": "[encoded data removed]",
      "text/plain": [
       "<Figure size 432x360 with 1 Axes>"
      ]
     },
     "metadata": {
      "needs_background": "light"
     },
     "output_type": "display_data"
    }
   ],
   "source": [
    "plt.figure(figsize=(6,5))\n",
    "plt.plot(np.cumsum(pca.explained_variance_ratio_))\n",
    "plt.xlabel('Number of components')\n",
    "plt.ylabel('Cumulative explained variance')"
   ]
  },
  {
   "cell_type": "code",
   "execution_count": 20,
   "metadata": {},
   "outputs": [
    {
     "data": {
      "text/plain": [
       "0.6439013436160662"
      ]
     },
     "execution_count": 20,
     "metadata": {},
     "output_type": "execute_result"
    }
   ],
   "source": [
    "# if two components\n",
    "sum(pca.explained_variance_ratio_[0:2])"
   ]
  },
  {
   "cell_type": "code",
   "execution_count": 21,
   "metadata": {},
   "outputs": [
    {
     "data": {
      "text/plain": [
       "0.7918251413353534"
      ]
     },
     "execution_count": 21,
     "metadata": {},
     "output_type": "execute_result"
    }
   ],
   "source": [
    "# if three components\n",
    "sum(pca.explained_variance_ratio_[0:3])"
   ]
  },
  {
   "cell_type": "code",
   "execution_count": 22,
   "metadata": {},
   "outputs": [],
   "source": [
    "# 2 components\n",
    "pca = PCA(n_components=2)"
   ]
  },
  {
   "cell_type": "code",
   "execution_count": 23,
   "metadata": {},
   "outputs": [],
   "source": [
    "principalComponents = pca.fit_transform(X_scaler)"
   ]
  },
  {
   "cell_type": "code",
   "execution_count": 24,
   "metadata": {},
   "outputs": [],
   "source": [
    "principalDf = pd.DataFrame(data = principalComponents, columns = ['PC1','PC2'])"
   ]
  },
  {
   "cell_type": "code",
   "execution_count": 25,
   "metadata": {},
   "outputs": [
    {
     "data": {
      "text/html": [
       "<div>\n",
       "<style scoped>\n",
       "    .dataframe tbody tr th:only-of-type {\n",
       "        vertical-align: middle;\n",
       "    }\n",
       "\n",
       "    .dataframe tbody tr th {\n",
       "        vertical-align: top;\n",
       "    }\n",
       "\n",
       "    .dataframe thead th {\n",
       "        text-align: right;\n",
       "    }\n",
       "</style>\n",
       "<table border=\"1\" class=\"dataframe\">\n",
       "  <thead>\n",
       "    <tr style=\"text-align: right;\">\n",
       "      <th></th>\n",
       "      <th>PC1</th>\n",
       "      <th>PC2</th>\n",
       "    </tr>\n",
       "  </thead>\n",
       "  <tbody>\n",
       "    <tr>\n",
       "      <th>0</th>\n",
       "      <td>3.086575</td>\n",
       "      <td>2.856932</td>\n",
       "    </tr>\n",
       "    <tr>\n",
       "      <th>1</th>\n",
       "      <td>2.632491</td>\n",
       "      <td>2.655537</td>\n",
       "    </tr>\n",
       "    <tr>\n",
       "      <th>2</th>\n",
       "      <td>2.117565</td>\n",
       "      <td>2.768653</td>\n",
       "    </tr>\n",
       "  </tbody>\n",
       "</table>\n",
       "</div>"
      ],
      "text/plain": [
       "        PC1       PC2\n",
       "0  3.086575  2.856932\n",
       "1  2.632491  2.655537\n",
       "2  2.117565  2.768653"
      ]
     },
     "execution_count": 25,
     "metadata": {},
     "output_type": "execute_result"
    }
   ],
   "source": [
    "principalDf.head(3)"
   ]
  },
  {
   "cell_type": "code",
   "execution_count": 26,
   "metadata": {},
   "outputs": [],
   "source": [
    "principalDf['Year'] = data.Year"
   ]
  },
  {
   "cell_type": "code",
   "execution_count": 27,
   "metadata": {},
   "outputs": [
    {
     "data": {
      "text/html": [
       "<div>\n",
       "<style scoped>\n",
       "    .dataframe tbody tr th:only-of-type {\n",
       "        vertical-align: middle;\n",
       "    }\n",
       "\n",
       "    .dataframe tbody tr th {\n",
       "        vertical-align: top;\n",
       "    }\n",
       "\n",
       "    .dataframe thead th {\n",
       "        text-align: right;\n",
       "    }\n",
       "</style>\n",
       "<table border=\"1\" class=\"dataframe\">\n",
       "  <thead>\n",
       "    <tr style=\"text-align: right;\">\n",
       "      <th></th>\n",
       "      <th>PC1</th>\n",
       "      <th>PC2</th>\n",
       "      <th>Year</th>\n",
       "    </tr>\n",
       "  </thead>\n",
       "  <tbody>\n",
       "    <tr>\n",
       "      <th>0</th>\n",
       "      <td>3.086575</td>\n",
       "      <td>2.856932</td>\n",
       "      <td>2010</td>\n",
       "    </tr>\n",
       "    <tr>\n",
       "      <th>1</th>\n",
       "      <td>2.632491</td>\n",
       "      <td>2.655537</td>\n",
       "      <td>2010</td>\n",
       "    </tr>\n",
       "    <tr>\n",
       "      <th>2</th>\n",
       "      <td>2.117565</td>\n",
       "      <td>2.768653</td>\n",
       "      <td>2010</td>\n",
       "    </tr>\n",
       "  </tbody>\n",
       "</table>\n",
       "</div>"
      ],
      "text/plain": [
       "        PC1       PC2  Year\n",
       "0  3.086575  2.856932  2010\n",
       "1  2.632491  2.655537  2010\n",
       "2  2.117565  2.768653  2010"
      ]
     },
     "execution_count": 27,
     "metadata": {},
     "output_type": "execute_result"
    }
   ],
   "source": [
    "principalDf.head(3)"
   ]
  },
  {
   "cell_type": "code",
   "execution_count": 28,
   "metadata": {},
   "outputs": [
    {
     "data": {
      "image/png": "[encoded data removed]",
      "text/plain": [
       "<Figure size 432x432 with 1 Axes>"
      ]
     },
     "metadata": {
      "needs_background": "light"
     },
     "output_type": "display_data"
    }
   ],
   "source": [
    "plt.figure(figsize=(6,6))\n",
    "sns.scatterplot(data=principalDf, x='PC1', y='PC2', hue='Year', palette='Set2')\n",
    "plt.show()"
   ]
  },
  {
   "cell_type": "code",
   "execution_count": 29,
   "metadata": {},
   "outputs": [],
   "source": [
    "# 3 components\n",
    "pca3 = PCA(n_components=3)"
   ]
  },
  {
   "cell_type": "code",
   "execution_count": 30,
   "metadata": {},
   "outputs": [],
   "source": [
    "principalComponents3 = pca3.fit_transform(X_scaler)"
   ]
  },
  {
   "cell_type": "code",
   "execution_count": 31,
   "metadata": {},
   "outputs": [],
   "source": [
    "principalDf3 = pd.DataFrame(data = principalComponents3,\n",
    "columns = ['PC1', 'PC2', 'PC3'])"
   ]
  },
  {
   "cell_type": "code",
   "execution_count": 32,
   "metadata": {},
   "outputs": [
    {
     "data": {
      "text/html": [
       "<div>\n",
       "<style scoped>\n",
       "    .dataframe tbody tr th:only-of-type {\n",
       "        vertical-align: middle;\n",
       "    }\n",
       "\n",
       "    .dataframe tbody tr th {\n",
       "        vertical-align: top;\n",
       "    }\n",
       "\n",
       "    .dataframe thead th {\n",
       "        text-align: right;\n",
       "    }\n",
       "</style>\n",
       "<table border=\"1\" class=\"dataframe\">\n",
       "  <thead>\n",
       "    <tr style=\"text-align: right;\">\n",
       "      <th></th>\n",
       "      <th>PC1</th>\n",
       "      <th>PC2</th>\n",
       "      <th>PC3</th>\n",
       "    </tr>\n",
       "  </thead>\n",
       "  <tbody>\n",
       "    <tr>\n",
       "      <th>0</th>\n",
       "      <td>3.086575</td>\n",
       "      <td>2.856932</td>\n",
       "      <td>0.947778</td>\n",
       "    </tr>\n",
       "    <tr>\n",
       "      <th>1</th>\n",
       "      <td>2.632491</td>\n",
       "      <td>2.655537</td>\n",
       "      <td>1.218877</td>\n",
       "    </tr>\n",
       "    <tr>\n",
       "      <th>2</th>\n",
       "      <td>2.117565</td>\n",
       "      <td>2.768653</td>\n",
       "      <td>2.253001</td>\n",
       "    </tr>\n",
       "  </tbody>\n",
       "</table>\n",
       "</div>"
      ],
      "text/plain": [
       "        PC1       PC2       PC3\n",
       "0  3.086575  2.856932  0.947778\n",
       "1  2.632491  2.655537  1.218877\n",
       "2  2.117565  2.768653  2.253001"
      ]
     },
     "execution_count": 32,
     "metadata": {},
     "output_type": "execute_result"
    }
   ],
   "source": [
    "principalDf3.head(3)"
   ]
  },
  {
   "cell_type": "code",
   "execution_count": 33,
   "metadata": {},
   "outputs": [],
   "source": [
    "principalDf3['Year'] = data.Year"
   ]
  },
  {
   "cell_type": "code",
   "execution_count": 34,
   "metadata": {},
   "outputs": [
    {
     "data": {
      "text/html": [
       "<div>\n",
       "<style scoped>\n",
       "    .dataframe tbody tr th:only-of-type {\n",
       "        vertical-align: middle;\n",
       "    }\n",
       "\n",
       "    .dataframe tbody tr th {\n",
       "        vertical-align: top;\n",
       "    }\n",
       "\n",
       "    .dataframe thead th {\n",
       "        text-align: right;\n",
       "    }\n",
       "</style>\n",
       "<table border=\"1\" class=\"dataframe\">\n",
       "  <thead>\n",
       "    <tr style=\"text-align: right;\">\n",
       "      <th></th>\n",
       "      <th>PC1</th>\n",
       "      <th>PC2</th>\n",
       "      <th>PC3</th>\n",
       "      <th>Year</th>\n",
       "    </tr>\n",
       "  </thead>\n",
       "  <tbody>\n",
       "    <tr>\n",
       "      <th>0</th>\n",
       "      <td>3.086575</td>\n",
       "      <td>2.856932</td>\n",
       "      <td>0.947778</td>\n",
       "      <td>2010</td>\n",
       "    </tr>\n",
       "    <tr>\n",
       "      <th>1</th>\n",
       "      <td>2.632491</td>\n",
       "      <td>2.655537</td>\n",
       "      <td>1.218877</td>\n",
       "      <td>2010</td>\n",
       "    </tr>\n",
       "    <tr>\n",
       "      <th>2</th>\n",
       "      <td>2.117565</td>\n",
       "      <td>2.768653</td>\n",
       "      <td>2.253001</td>\n",
       "      <td>2010</td>\n",
       "    </tr>\n",
       "  </tbody>\n",
       "</table>\n",
       "</div>"
      ],
      "text/plain": [
       "        PC1       PC2       PC3  Year\n",
       "0  3.086575  2.856932  0.947778  2010\n",
       "1  2.632491  2.655537  1.218877  2010\n",
       "2  2.117565  2.768653  2.253001  2010"
      ]
     },
     "execution_count": 34,
     "metadata": {},
     "output_type": "execute_result"
    }
   ],
   "source": [
    "principalDf3.head(3)"
   ]
  },
  {
   "cell_type": "code",
   "execution_count": 35,
   "metadata": {},
   "outputs": [
    {
     "data": {
      "image/png": "[encoded data removed]",
      "text/plain": [
       "<Figure size 576x576 with 1 Axes>"
      ]
     },
     "metadata": {
      "needs_background": "light"
     },
     "output_type": "display_data"
    }
   ],
   "source": [
    "from mpl_toolkits.mplot3d import Axes3D\n",
    "fig = plt.figure(figsize=(8, 8))\n",
    "ax = fig.add_subplot(111, projection='3d')\n",
    "ax.scatter(principalDf3['PC1'],\n",
    "           principalDf3['PC2'],\n",
    "           principalDf3['PC3'],\n",
    "           c=principalDf3['Year'], marker = 'x', cmap=plt.cm.Spectral)\n",
    "ax.set_xlabel('principal component 1')\n",
    "ax.set_ylabel('principal component 2')\n",
    "ax.set_zlabel('principal component 2')\n",
    "plt.show()"
   ]
  },
  {
   "cell_type": "code",
   "execution_count": 36,
   "metadata": {},
   "outputs": [
    {
     "data": {
      "text/plain": [
       "0.7918251413353534"
      ]
     },
     "execution_count": 36,
     "metadata": {},
     "output_type": "execute_result"
    }
   ],
   "source": [
    "sum(pca3.explained_variance_ratio_)"
   ]
  },
  {
   "cell_type": "markdown",
   "metadata": {},
   "source": [
    "## Explaining PCA\n",
    "* The first 3 eigenvectors account for 79.18% of the variance and will be kept.\n",
    "* Explaining dataset with 3 main components (PCA)"
   ]
  },
  {
   "cell_type": "code",
   "execution_count": 37,
   "metadata": {},
   "outputs": [],
   "source": [
    "principalDf3 = principalDf3.join(datasub)"
   ]
  },
  {
   "cell_type": "code",
   "execution_count": 38,
   "metadata": {},
   "outputs": [
    {
     "data": {
      "text/html": [
       "<div>\n",
       "<style scoped>\n",
       "    .dataframe tbody tr th:only-of-type {\n",
       "        vertical-align: middle;\n",
       "    }\n",
       "\n",
       "    .dataframe tbody tr th {\n",
       "        vertical-align: top;\n",
       "    }\n",
       "\n",
       "    .dataframe thead th {\n",
       "        text-align: right;\n",
       "    }\n",
       "</style>\n",
       "<table border=\"1\" class=\"dataframe\">\n",
       "  <thead>\n",
       "    <tr style=\"text-align: right;\">\n",
       "      <th></th>\n",
       "      <th>PC1</th>\n",
       "      <th>PC2</th>\n",
       "      <th>PC3</th>\n",
       "      <th>Year</th>\n",
       "      <th>Market.Share</th>\n",
       "      <th>Av.Price.per.kg</th>\n",
       "      <th>Non-Promo Price.per.kg</th>\n",
       "      <th>Promo.Vol.Share</th>\n",
       "      <th>Total.Weigh</th>\n",
       "      <th>Share.of.Ean.Weigh</th>\n",
       "      <th>Avg price.vs.PLB</th>\n",
       "      <th>Non.promo.price.vs.PLB</th>\n",
       "      <th>Promo.vol.sh.index.vs.PLB</th>\n",
       "      <th>Total.cm.shelf</th>\n",
       "      <th>Shelf.share</th>\n",
       "    </tr>\n",
       "  </thead>\n",
       "  <tbody>\n",
       "    <tr>\n",
       "      <th>0</th>\n",
       "      <td>3.086575</td>\n",
       "      <td>2.856932</td>\n",
       "      <td>0.947778</td>\n",
       "      <td>2010</td>\n",
       "      <td>38.40</td>\n",
       "      <td>7.61</td>\n",
       "      <td>7.77</td>\n",
       "      <td>26.87</td>\n",
       "      <td>84</td>\n",
       "      <td>19.28</td>\n",
       "      <td>2.01</td>\n",
       "      <td>2.20</td>\n",
       "      <td>2.02</td>\n",
       "      <td>754253.0</td>\n",
       "      <td>0.25</td>\n",
       "    </tr>\n",
       "    <tr>\n",
       "      <th>1</th>\n",
       "      <td>2.632491</td>\n",
       "      <td>2.655537</td>\n",
       "      <td>1.218877</td>\n",
       "      <td>2010</td>\n",
       "      <td>36.80</td>\n",
       "      <td>7.60</td>\n",
       "      <td>7.80</td>\n",
       "      <td>29.42</td>\n",
       "      <td>84</td>\n",
       "      <td>18.90</td>\n",
       "      <td>2.00</td>\n",
       "      <td>2.19</td>\n",
       "      <td>1.59</td>\n",
       "      <td>752248.7</td>\n",
       "      <td>0.25</td>\n",
       "    </tr>\n",
       "    <tr>\n",
       "      <th>2</th>\n",
       "      <td>2.117565</td>\n",
       "      <td>2.768653</td>\n",
       "      <td>2.253001</td>\n",
       "      <td>2010</td>\n",
       "      <td>35.21</td>\n",
       "      <td>7.63</td>\n",
       "      <td>7.85</td>\n",
       "      <td>27.27</td>\n",
       "      <td>82</td>\n",
       "      <td>19.11</td>\n",
       "      <td>2.07</td>\n",
       "      <td>2.23</td>\n",
       "      <td>1.03</td>\n",
       "      <td>750244.4</td>\n",
       "      <td>0.25</td>\n",
       "    </tr>\n",
       "  </tbody>\n",
       "</table>\n",
       "</div>"
      ],
      "text/plain": [
       "        PC1       PC2       PC3  Year  Market.Share  Av.Price.per.kg  \\\n",
       "0  3.086575  2.856932  0.947778  2010         38.40             7.61   \n",
       "1  2.632491  2.655537  1.218877  2010         36.80             7.60   \n",
       "2  2.117565  2.768653  2.253001  2010         35.21             7.63   \n",
       "\n",
       "   Non-Promo Price.per.kg  Promo.Vol.Share  Total.Weigh  Share.of.Ean.Weigh  \\\n",
       "0                    7.77            26.87           84               19.28   \n",
       "1                    7.80            29.42           84               18.90   \n",
       "2                    7.85            27.27           82               19.11   \n",
       "\n",
       "   Avg price.vs.PLB  Non.promo.price.vs.PLB  Promo.vol.sh.index.vs.PLB  \\\n",
       "0              2.01                    2.20                       2.02   \n",
       "1              2.00                    2.19                       1.59   \n",
       "2              2.07                    2.23                       1.03   \n",
       "\n",
       "   Total.cm.shelf  Shelf.share  \n",
       "0        754253.0         0.25  \n",
       "1        752248.7         0.25  \n",
       "2        750244.4         0.25  "
      ]
     },
     "execution_count": 38,
     "metadata": {},
     "output_type": "execute_result"
    }
   ],
   "source": [
    "principalDf3.head(3)"
   ]
  },
  {
   "cell_type": "code",
   "execution_count": 39,
   "metadata": {},
   "outputs": [],
   "source": [
    "vects = pca3.components_[:3]"
   ]
  },
  {
   "cell_type": "markdown",
   "metadata": {},
   "source": [
    "### Component one\n",
    "* High: Shelf.share, Total.cm.shelf, Market.Share, Share.of.Ean.Weigh\n",
    "* Low: Avg price.vs.PLB"
   ]
  },
  {
   "cell_type": "code",
   "execution_count": 40,
   "metadata": {},
   "outputs": [
    {
     "data": {
      "text/plain": [
       "Shelf.share                  0.406310\n",
       "Total.cm.shelf               0.374088\n",
       "Market.Share                 0.369844\n",
       "Share.of.Ean.Weigh           0.310990\n",
       "Promo.Vol.Share              0.269878\n",
       "Promo.vol.sh.index.vs.PLB    0.265543\n",
       "Non-Promo Price.per.kg      -0.036021\n",
       "Total.Weigh                 -0.128102\n",
       "Av.Price.per.kg             -0.227731\n",
       "Non.promo.price.vs.PLB      -0.297696\n",
       "Avg price.vs.PLB            -0.399915\n",
       "dtype: float64"
      ]
     },
     "execution_count": 40,
     "metadata": {},
     "output_type": "execute_result"
    }
   ],
   "source": [
    "one = pd.Series(vects[0], index=datasub.columns)\n",
    "one.sort_values(ascending=False)"
   ]
  },
  {
   "cell_type": "markdown",
   "metadata": {},
   "source": [
    "### Component two\n",
    "* High: Non-Promo Price.per.kg, Av.Price.per.kg, Non.promo.price.vs.PLB...\n",
    "* Low: Total.Weigh, Market.Share, Shelf.share"
   ]
  },
  {
   "cell_type": "code",
   "execution_count": 41,
   "metadata": {},
   "outputs": [
    {
     "data": {
      "text/plain": [
       "Non-Promo Price.per.kg       0.580366\n",
       "Av.Price.per.kg              0.426798\n",
       "Non.promo.price.vs.PLB       0.401240\n",
       "Avg price.vs.PLB             0.294492\n",
       "Share.of.Ean.Weigh           0.263778\n",
       "Promo.vol.sh.index.vs.PLB    0.237134\n",
       "Promo.Vol.Share              0.207890\n",
       "Total.cm.shelf               0.199172\n",
       "Shelf.share                  0.110330\n",
       "Market.Share                 0.106128\n",
       "Total.Weigh                  0.034143\n",
       "dtype: float64"
      ]
     },
     "execution_count": 41,
     "metadata": {},
     "output_type": "execute_result"
    }
   ],
   "source": [
    "two = pd.Series(vects[1], index=datasub.columns)\n",
    "two.sort_values(ascending=False)"
   ]
  },
  {
   "cell_type": "markdown",
   "metadata": {},
   "source": [
    "### Component three\n",
    "* High: Total.cm.shelf, Av.Price.per.kg, Shelf.share...\n",
    "* Low: Promo.Vol.Share, Promo.vol.sh.index.vs.PLB, Total.Weigh"
   ]
  },
  {
   "cell_type": "code",
   "execution_count": 42,
   "metadata": {},
   "outputs": [
    {
     "data": {
      "text/plain": [
       "Total.cm.shelf               0.349165\n",
       "Av.Price.per.kg              0.348326\n",
       "Shelf.share                  0.316943\n",
       "Share.of.Ean.Weigh           0.176539\n",
       "Non-Promo Price.per.kg       0.058696\n",
       "Avg price.vs.PLB            -0.031666\n",
       "Non.promo.price.vs.PLB      -0.204910\n",
       "Market.Share                -0.257276\n",
       "Total.Weigh                 -0.286274\n",
       "Promo.vol.sh.index.vs.PLB   -0.433281\n",
       "Promo.Vol.Share             -0.492769\n",
       "dtype: float64"
      ]
     },
     "execution_count": 42,
     "metadata": {},
     "output_type": "execute_result"
    }
   ],
   "source": [
    "three = pd.Series(vects[2], index=datasub.columns)\n",
    "three.sort_values(ascending=False)"
   ]
  }
 ],
 "metadata": {
  "kernelspec": {
   "display_name": "Python 3",
   "language": "python",
   "name": "python3"
  },
  "language_info": {
   "codemirror_mode": {
    "name": "ipython",
    "version": 3
   },
   "file_extension": ".py",
   "mimetype": "text/x-python",
   "name": "python",
   "nbconvert_exporter": "python",
   "pygments_lexer": "ipython3",
   "version": "3.8.3"
  }
 },
 "nbformat": 4,
 "nbformat_minor": 4
}
