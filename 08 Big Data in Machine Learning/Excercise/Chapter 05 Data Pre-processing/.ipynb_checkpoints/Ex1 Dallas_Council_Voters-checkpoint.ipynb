{
 "cells": [
  {
   "cell_type": "code",
   "execution_count": 1,
   "id": "partial-commission",
   "metadata": {},
   "outputs": [],
   "source": [
    "import findspark\n",
    "findspark.init()"
   ]
  },
  {
   "cell_type": "code",
   "execution_count": 2,
   "id": "restricted-chapel",
   "metadata": {},
   "outputs": [],
   "source": [
    "from pyspark import SparkContext\n",
    "from pyspark.conf import SparkConf\n",
    "\n",
    "from pyspark.sql import SparkSession\n",
    "from pyspark.sql import types \n",
    "from pyspark.sql.functions import col, udf, rand, monotonically_increasing_id\n",
    "from pyspark.sql.types import StringType\n",
    "\n",
    "from pyspark.sql.functions import split, size\n",
    "from pyspark.sql.functions import isnan, isnull, when, count"
   ]
  },
  {
   "cell_type": "code",
   "execution_count": 3,
   "id": "unlimited-bunny",
   "metadata": {},
   "outputs": [],
   "source": [
    "sc = SparkContext()\n",
    "spark = SparkSession(sc)"
   ]
  },
  {
   "cell_type": "markdown",
   "id": "corporate-blend",
   "metadata": {},
   "source": [
    "## Cho dữ liệu DallasCouncilVoters.csv"
   ]
  },
  {
   "cell_type": "markdown",
   "id": "renewable-massachusetts",
   "metadata": {},
   "source": [
    "### 1. Đọc dữ liệu => df"
   ]
  },
  {
   "cell_type": "code",
   "execution_count": 4,
   "id": "mineral-banks",
   "metadata": {},
   "outputs": [],
   "source": [
    "df = spark.read.csv(\"../../Data/DallasCouncilVoters.csv\", header=True, inferSchema=True)"
   ]
  },
  {
   "cell_type": "markdown",
   "id": "sexual-modification",
   "metadata": {},
   "source": [
    "### 2. Cho biết dữ liệu có bao nhiêu dòng, in scheme. Hiển thị 5 dòng dữ liệu đầu tiên."
   ]
  },
  {
   "cell_type": "code",
   "execution_count": 5,
   "id": "thrown-advantage",
   "metadata": {},
   "outputs": [
    {
     "data": {
      "text/plain": [
       "44625"
      ]
     },
     "execution_count": 5,
     "metadata": {},
     "output_type": "execute_result"
    }
   ],
   "source": [
    "df.count()"
   ]
  },
  {
   "cell_type": "code",
   "execution_count": 6,
   "id": "processed-citizenship",
   "metadata": {},
   "outputs": [
    {
     "name": "stdout",
     "output_type": "stream",
     "text": [
      "root\n",
      " |-- DATE: string (nullable = true)\n",
      " |-- TITLE: string (nullable = true)\n",
      " |-- VOTER_NAME: string (nullable = true)\n",
      "\n"
     ]
    }
   ],
   "source": [
    "df.printSchema()"
   ]
  },
  {
   "cell_type": "code",
   "execution_count": 7,
   "id": "fitted-coupon",
   "metadata": {
    "tags": []
   },
   "outputs": [
    {
     "name": "stdout",
     "output_type": "stream",
     "text": [
      "+----------+-------------+-------------------+\n",
      "|      DATE|        TITLE|         VOTER_NAME|\n",
      "+----------+-------------+-------------------+\n",
      "|02/08/2017|Councilmember|  Jennifer S. Gates|\n",
      "|02/08/2017|Councilmember| Philip T. Kingston|\n",
      "|02/08/2017|        Mayor|Michael S. Rawlings|\n",
      "|02/08/2017|Councilmember|       Adam Medrano|\n",
      "|02/08/2017|Councilmember|       Casey Thomas|\n",
      "+----------+-------------+-------------------+\n",
      "only showing top 5 rows\n",
      "\n"
     ]
    }
   ],
   "source": [
    "df.show(5)"
   ]
  },
  {
   "cell_type": "markdown",
   "id": "popular-sociology",
   "metadata": {},
   "source": [
    "### 3. Kiểm tra dữ liệu NaN, null. Nếu dòng nào 'VOTER_NAME' có dữ liệ null thì xóa hết các dòng đó."
   ]
  },
  {
   "cell_type": "code",
   "execution_count": 8,
   "id": "cellular-treasurer",
   "metadata": {},
   "outputs": [],
   "source": [
    "df = df.dropna(subset='VOTER_NAME')"
   ]
  },
  {
   "cell_type": "code",
   "execution_count": 9,
   "id": "deadly-alpha",
   "metadata": {},
   "outputs": [
    {
     "data": {
      "text/html": [
       "<div>\n",
       "<style scoped>\n",
       "    .dataframe tbody tr th:only-of-type {\n",
       "        vertical-align: middle;\n",
       "    }\n",
       "\n",
       "    .dataframe tbody tr th {\n",
       "        vertical-align: top;\n",
       "    }\n",
       "\n",
       "    .dataframe thead th {\n",
       "        text-align: right;\n",
       "    }\n",
       "</style>\n",
       "<table border=\"1\" class=\"dataframe\">\n",
       "  <thead>\n",
       "    <tr style=\"text-align: right;\">\n",
       "      <th></th>\n",
       "      <th>0</th>\n",
       "    </tr>\n",
       "  </thead>\n",
       "  <tbody>\n",
       "    <tr>\n",
       "      <th>DATE</th>\n",
       "      <td>0</td>\n",
       "    </tr>\n",
       "    <tr>\n",
       "      <th>TITLE</th>\n",
       "      <td>0</td>\n",
       "    </tr>\n",
       "    <tr>\n",
       "      <th>VOTER_NAME</th>\n",
       "      <td>0</td>\n",
       "    </tr>\n",
       "  </tbody>\n",
       "</table>\n",
       "</div>"
      ],
      "text/plain": [
       "            0\n",
       "DATE        0\n",
       "TITLE       0\n",
       "VOTER_NAME  0"
      ]
     },
     "execution_count": 9,
     "metadata": {},
     "output_type": "execute_result"
    }
   ],
   "source": [
    "df.select([count(when(isnull(c), c)).alias(c) for c in df.columns]).toPandas().T"
   ]
  },
  {
   "cell_type": "markdown",
   "id": "prime-knitting",
   "metadata": {},
   "source": [
    "=> Hết dữ liệu null."
   ]
  },
  {
   "cell_type": "markdown",
   "id": "primary-truth",
   "metadata": {},
   "source": [
    "### 4. Kiểm tra dữ liệu trùng. Xóa dữ liệu trùng."
   ]
  },
  {
   "cell_type": "code",
   "execution_count": 10,
   "id": "black-julian",
   "metadata": {},
   "outputs": [],
   "source": [
    "num_rows = df.count()\n",
    "num_dist_rows = df.distinct().count()\n",
    "dup_rows = num_rows - num_dist_rows"
   ]
  },
  {
   "cell_type": "code",
   "execution_count": 11,
   "id": "portable-slope",
   "metadata": {},
   "outputs": [
    {
     "data": {
      "text/plain": [
       "44122"
      ]
     },
     "metadata": {},
     "output_type": "display_data"
    },
    {
     "data": {
      "text/plain": [
       "1273"
      ]
     },
     "metadata": {},
     "output_type": "display_data"
    },
    {
     "data": {
      "text/plain": [
       "42849"
      ]
     },
     "metadata": {},
     "output_type": "display_data"
    }
   ],
   "source": [
    "display(num_rows, num_dist_rows, dup_rows)"
   ]
  },
  {
   "cell_type": "code",
   "execution_count": 12,
   "id": "infectious-sleeve",
   "metadata": {},
   "outputs": [
    {
     "name": "stdout",
     "output_type": "stream",
     "text": [
      "+----------+-------------+------------------+\n",
      "|      DATE|        TITLE|        VOTER_NAME|\n",
      "+----------+-------------+------------------+\n",
      "|02/08/2017|Councilmember|Philip T. Kingston|\n",
      "|02/08/2017|Councilmember|Philip T. Kingston|\n",
      "|01/11/2017|Councilmember|Philip T. Kingston|\n",
      "|09/14/2016|Councilmember|Philip T. Kingston|\n",
      "|01/04/2017|Councilmember|Philip T. Kingston|\n",
      "+----------+-------------+------------------+\n",
      "only showing top 5 rows\n",
      "\n"
     ]
    }
   ],
   "source": [
    "# Check duplicate\n",
    "df.filter(df['VOTER_NAME'] == 'Philip T. Kingston').show(5)"
   ]
  },
  {
   "cell_type": "code",
   "execution_count": 13,
   "id": "cultural-drama",
   "metadata": {},
   "outputs": [],
   "source": [
    "df = df.drop_duplicates()"
   ]
  },
  {
   "cell_type": "code",
   "execution_count": 14,
   "id": "recorded-headset",
   "metadata": {},
   "outputs": [
    {
     "data": {
      "text/plain": [
       "1273"
      ]
     },
     "execution_count": 14,
     "metadata": {},
     "output_type": "execute_result"
    }
   ],
   "source": [
    "df.count()"
   ]
  },
  {
   "cell_type": "markdown",
   "id": "orange-poster",
   "metadata": {},
   "source": [
    "### 5. Tìm các VOTER_NAME duy nhất và hiển thị 10 dòng đầu tiên."
   ]
  },
  {
   "cell_type": "code",
   "execution_count": 15,
   "id": "verified-connection",
   "metadata": {},
   "outputs": [
    {
     "name": "stdout",
     "output_type": "stream",
     "text": [
      "+--------------------+\n",
      "|          VOTER_NAME|\n",
      "+--------------------+\n",
      "|      Tennell Atkins|\n",
      "|  the  final   20...|\n",
      "|        Scott Griggs|\n",
      "|       Scott  Griggs|\n",
      "|       Sandy Greyson|\n",
      "| Michael S. Rawlings|\n",
      "| the final 2018 A...|\n",
      "|        Kevin Felder|\n",
      "|        Adam Medrano|\n",
      "|       Casey  Thomas|\n",
      "+--------------------+\n",
      "only showing top 10 rows\n",
      "\n"
     ]
    }
   ],
   "source": [
    "# Show the distinct VOTER_NAME entries\n",
    "df.select(df['VOTER_NAME']).distinct().show(10)"
   ]
  },
  {
   "cell_type": "markdown",
   "id": "present-holiday",
   "metadata": {},
   "source": [
    "### 6. Lọc dữ liệu theo điều kiện 'VOTER_NAME' duy nhất có chiều dài 1-20 ký tự."
   ]
  },
  {
   "cell_type": "code",
   "execution_count": 16,
   "id": "conventional-variance",
   "metadata": {},
   "outputs": [],
   "source": [
    "df = df.filter('length(VOTER_NAME) > 0 and length(VOTER_NAME) < 20')"
   ]
  },
  {
   "cell_type": "code",
   "execution_count": 17,
   "id": "curious-carpet",
   "metadata": {},
   "outputs": [
    {
     "name": "stdout",
     "output_type": "stream",
     "text": [
      "+----------+--------------------+------------------+\n",
      "|      DATE|               TITLE|        VOTER_NAME|\n",
      "+----------+--------------------+------------------+\n",
      "|04/11/2018|Deputy Mayor Pro Tem|      Adam Medrano|\n",
      "|02/14/2018|       Councilmember|   Lee M. Kleinman|\n",
      "|04/25/2018|       Councilmember|    Tennell Atkins|\n",
      "|08/29/2018|       Councilmember|      Kevin Felder|\n",
      "|10/18/2017|       Councilmember|Jennifer S.  Gates|\n",
      "+----------+--------------------+------------------+\n",
      "only showing top 5 rows\n",
      "\n"
     ]
    }
   ],
   "source": [
    "df.show(5)"
   ]
  },
  {
   "cell_type": "markdown",
   "id": "quantitative-robin",
   "metadata": {},
   "source": [
    "### 7. Lọc bỏ các dữ liệu mà trong 'VOTER_NAME' có chứa dấu '_' (underscore)."
   ]
  },
  {
   "cell_type": "code",
   "execution_count": 18,
   "id": "worse-effort",
   "metadata": {},
   "outputs": [],
   "source": [
    "# Filter out df where the VOTER_NAME contains an underscore\n",
    "df = df.filter(~ col('VOTER_NAME').contains('_'))"
   ]
  },
  {
   "cell_type": "code",
   "execution_count": 19,
   "id": "patent-durham",
   "metadata": {},
   "outputs": [
    {
     "name": "stdout",
     "output_type": "stream",
     "text": [
      "+-------------------+\n",
      "|         VOTER_NAME|\n",
      "+-------------------+\n",
      "|     Tennell Atkins|\n",
      "|       Scott Griggs|\n",
      "|      Scott  Griggs|\n",
      "|      Sandy Greyson|\n",
      "|Michael S. Rawlings|\n",
      "|       Kevin Felder|\n",
      "|       Adam Medrano|\n",
      "|      Casey  Thomas|\n",
      "|      Mark  Clayton|\n",
      "|       Casey Thomas|\n",
      "+-------------------+\n",
      "only showing top 10 rows\n",
      "\n"
     ]
    }
   ],
   "source": [
    "# Show the distinct VOTER_NAME entries again\n",
    "df.select(df['VOTER_NAME']).distinct().show(10)"
   ]
  },
  {
   "cell_type": "markdown",
   "id": "initial-peter",
   "metadata": {},
   "source": [
    "## Modifying DataFrame "
   ]
  },
  {
   "cell_type": "markdown",
   "id": "practical-monaco",
   "metadata": {},
   "source": [
    "### 8. Tạo cột 'splits' chứa thông tin được cắt theo khoảng trắng từ 'VOTER_NAME'."
   ]
  },
  {
   "cell_type": "code",
   "execution_count": 20,
   "id": "burning-merit",
   "metadata": {},
   "outputs": [],
   "source": [
    "df = df.withColumn('splits', split(df.VOTER_NAME, '\\s+'))"
   ]
  },
  {
   "cell_type": "markdown",
   "id": "sixth-exercise",
   "metadata": {},
   "source": [
    "### 9. Tạo cột 'first_name' lấy dữ liệu từ phần tử đầu tiên của cột 'splits'."
   ]
  },
  {
   "cell_type": "code",
   "execution_count": 21,
   "id": "under-kruger",
   "metadata": {},
   "outputs": [],
   "source": [
    "df = df.withColumn('first_name', df.splits.getItem(0))"
   ]
  },
  {
   "cell_type": "markdown",
   "id": "spectacular-princess",
   "metadata": {},
   "source": [
    "### 10. Tạo cột 'last_name' lấy dữ liệu từ phần tử cuối cùng của cột 'splits'."
   ]
  },
  {
   "cell_type": "code",
   "execution_count": 22,
   "id": "infrared-homeless",
   "metadata": {},
   "outputs": [],
   "source": [
    "df = df.withColumn('first_name', df.splits.getItem(size('splits') - 1))"
   ]
  },
  {
   "cell_type": "code",
   "execution_count": 23,
   "id": "revised-longer",
   "metadata": {},
   "outputs": [
    {
     "name": "stdout",
     "output_type": "stream",
     "text": [
      "+----------+--------------------+---------------+-------------------+----------+\n",
      "|      DATE|               TITLE|     VOTER_NAME|             splits|first_name|\n",
      "+----------+--------------------+---------------+-------------------+----------+\n",
      "|04/11/2018|Deputy Mayor Pro Tem|   Adam Medrano|    [Adam, Medrano]|   Medrano|\n",
      "|02/14/2018|       Councilmember|Lee M. Kleinman|[Lee, M., Kleinman]|  Kleinman|\n",
      "|04/25/2018|       Councilmember| Tennell Atkins|  [Tennell, Atkins]|    Atkins|\n",
      "+----------+--------------------+---------------+-------------------+----------+\n",
      "only showing top 3 rows\n",
      "\n"
     ]
    }
   ],
   "source": [
    "# Show the voter_df DataFrame\n",
    "df.show(3)"
   ]
  },
  {
   "cell_type": "markdown",
   "id": "experimental-decimal",
   "metadata": {},
   "source": [
    "### 11. Tạo cột 'random_val' theo điều kiện: nếu cột 'TITLE' có nội dung là 'Councilmember' thì 'random_val' sẽ có giá trị rand(), nếu nội dung là 'Mayor' thì 'random_val' sẽ có giá trị 2, ngược lại sẽ có giá trị là 0."
   ]
  },
  {
   "cell_type": "code",
   "execution_count": 24,
   "id": "flying-party",
   "metadata": {},
   "outputs": [],
   "source": [
    "# Adding a column to df for any voter with the title 'Councilmember'\n",
    "df = df.withColumn('random_val', when(df.TITLE == 'Councilmember', rand()))"
   ]
  },
  {
   "cell_type": "code",
   "execution_count": 25,
   "id": "according-titanium",
   "metadata": {},
   "outputs": [
    {
     "name": "stdout",
     "output_type": "stream",
     "text": [
      "+----------+--------------------+------------------+--------------------+----------+-------------------+\n",
      "|      DATE|               TITLE|        VOTER_NAME|              splits|first_name|         random_val|\n",
      "+----------+--------------------+------------------+--------------------+----------+-------------------+\n",
      "|04/11/2018|Deputy Mayor Pro Tem|      Adam Medrano|     [Adam, Medrano]|   Medrano|               null|\n",
      "|02/14/2018|       Councilmember|   Lee M. Kleinman| [Lee, M., Kleinman]|  Kleinman| 0.7790104265374944|\n",
      "|04/25/2018|       Councilmember|    Tennell Atkins|   [Tennell, Atkins]|    Atkins| 0.8959771037726254|\n",
      "|08/29/2018|       Councilmember|      Kevin Felder|     [Kevin, Felder]|    Felder| 0.5467229195967777|\n",
      "|10/18/2017|       Councilmember|Jennifer S.  Gates|[Jennifer, S., Ga...|     Gates|0.46853095667399847|\n",
      "+----------+--------------------+------------------+--------------------+----------+-------------------+\n",
      "only showing top 5 rows\n",
      "\n"
     ]
    }
   ],
   "source": [
    "# Show some of the dataframe rows, noting whether the when clause worked \n",
    "df.show(5)"
   ]
  },
  {
   "cell_type": "code",
   "execution_count": 26,
   "id": "shared-portfolio",
   "metadata": {},
   "outputs": [],
   "source": [
    "# Add a column to df for a voter based on their position\n",
    "df = df.withColumn('random_val', when(df.TITLE == 'Councilmember', rand())\n",
    "                                .when(df.TITLE == 'Mayor', 2)\n",
    "                                .otherwise(0))"
   ]
  },
  {
   "cell_type": "code",
   "execution_count": 27,
   "id": "identical-ecuador",
   "metadata": {},
   "outputs": [
    {
     "name": "stdout",
     "output_type": "stream",
     "text": [
      "+----------+--------------------+------------------+--------------------+----------+------------------+\n",
      "|      DATE|               TITLE|        VOTER_NAME|              splits|first_name|        random_val|\n",
      "+----------+--------------------+------------------+--------------------+----------+------------------+\n",
      "|04/11/2018|Deputy Mayor Pro Tem|      Adam Medrano|     [Adam, Medrano]|   Medrano|               0.0|\n",
      "|02/14/2018|       Councilmember|   Lee M. Kleinman| [Lee, M., Kleinman]|  Kleinman|0.7227242158649618|\n",
      "|04/25/2018|       Councilmember|    Tennell Atkins|   [Tennell, Atkins]|    Atkins|0.7210447300563411|\n",
      "|08/29/2018|       Councilmember|      Kevin Felder|     [Kevin, Felder]|    Felder|0.6518188447309439|\n",
      "|10/18/2017|       Councilmember|Jennifer S.  Gates|[Jennifer, S., Ga...|     Gates|0.9389604031415943|\n",
      "+----------+--------------------+------------------+--------------------+----------+------------------+\n",
      "only showing top 5 rows\n",
      "\n"
     ]
    }
   ],
   "source": [
    "# Show some of the dataframe rows\n",
    "df.show(5)"
   ]
  },
  {
   "cell_type": "markdown",
   "id": "classified-pension",
   "metadata": {},
   "source": [
    "### 12. Lọc các dòng dữ liệu có 'random_val'=0. Hiển thị"
   ]
  },
  {
   "cell_type": "code",
   "execution_count": 28,
   "id": "baking-marine",
   "metadata": {},
   "outputs": [
    {
     "name": "stdout",
     "output_type": "stream",
     "text": [
      "+----------+--------------------+-----------------+--------------------+----------+----------+\n",
      "|      DATE|               TITLE|       VOTER_NAME|              splits|first_name|random_val|\n",
      "+----------+--------------------+-----------------+--------------------+----------+----------+\n",
      "|04/11/2018|Deputy Mayor Pro Tem|     Adam Medrano|     [Adam, Medrano]|   Medrano|       0.0|\n",
      "|04/12/2017|       Mayor Pro Tem| Monica R. Alonzo|[Monica, R., Alonzo]|    Alonzo|       0.0|\n",
      "|06/28/2017|Deputy Mayor Pro Tem|     Adam Medrano|     [Adam, Medrano]|   Medrano|       0.0|\n",
      "|01/03/2018|Deputy Mayor Pro Tem|     Adam Medrano|     [Adam, Medrano]|   Medrano|       0.0|\n",
      "|01/17/2018|       Mayor Pro Tem|Dwaine R. Caraway|[Dwaine, R., Cara...|   Caraway|       0.0|\n",
      "+----------+--------------------+-----------------+--------------------+----------+----------+\n",
      "only showing top 5 rows\n",
      "\n"
     ]
    }
   ],
   "source": [
    "df.filter(df.random_val == 0).show(5)"
   ]
  },
  {
   "cell_type": "markdown",
   "id": "sapphire-uncle",
   "metadata": {},
   "source": [
    "### 13. Xây dựng function: getFirstAndMiddle(names) trả về kết quả gồm First và Middle (names). Khai báo function vừa viết dưới dạng udf đặt tên là udfFirstAndMiddle."
   ]
  },
  {
   "cell_type": "code",
   "execution_count": 29,
   "id": "norman-firewall",
   "metadata": {},
   "outputs": [],
   "source": [
    "def getFirstAndMiddle(names):\n",
    "    # Return a space separated string of names\n",
    "    return ' '.join(names[:-1])"
   ]
  },
  {
   "cell_type": "code",
   "execution_count": 30,
   "id": "composed-context",
   "metadata": {},
   "outputs": [],
   "source": [
    "udfFirstAndMiddle = udf(getFirstAndMiddle, StringType())"
   ]
  },
  {
   "cell_type": "markdown",
   "id": "combined-separation",
   "metadata": {},
   "source": [
    "### 14. Tạo cột first_and_middle_name bằng cách gọi udf trên với tham số truyền vào là cột 'splits'. In kết quả."
   ]
  },
  {
   "cell_type": "code",
   "execution_count": 31,
   "id": "respiratory-practice",
   "metadata": {},
   "outputs": [],
   "source": [
    "df = df.withColumn('first_and_middle_name', udfFirstAndMiddle(df.splits))"
   ]
  },
  {
   "cell_type": "markdown",
   "id": "introductory-flour",
   "metadata": {},
   "source": [
    "### 15. Xóa bỏ các cột 'first_name', 'splits'. In kết quả."
   ]
  },
  {
   "cell_type": "code",
   "execution_count": 32,
   "id": "latest-packaging",
   "metadata": {},
   "outputs": [],
   "source": [
    "df = df.drop('first_name')\n",
    "df = df.drop('splits')"
   ]
  },
  {
   "cell_type": "code",
   "execution_count": 33,
   "id": "stock-accountability",
   "metadata": {},
   "outputs": [
    {
     "name": "stdout",
     "output_type": "stream",
     "text": [
      "+----------+--------------------+------------------+------------------+---------------------+\n",
      "|      DATE|               TITLE|        VOTER_NAME|        random_val|first_and_middle_name|\n",
      "+----------+--------------------+------------------+------------------+---------------------+\n",
      "|04/11/2018|Deputy Mayor Pro Tem|      Adam Medrano|               0.0|                 Adam|\n",
      "|02/14/2018|       Councilmember|   Lee M. Kleinman|0.7227242158649618|               Lee M.|\n",
      "|04/25/2018|       Councilmember|    Tennell Atkins|0.7210447300563411|              Tennell|\n",
      "|08/29/2018|       Councilmember|      Kevin Felder|0.6518188447309439|                Kevin|\n",
      "|10/18/2017|       Councilmember|Jennifer S.  Gates|0.9389604031415943|          Jennifer S.|\n",
      "+----------+--------------------+------------------+------------------+---------------------+\n",
      "only showing top 5 rows\n",
      "\n"
     ]
    }
   ],
   "source": [
    "df.show(5)"
   ]
  },
  {
   "cell_type": "markdown",
   "id": "innovative-dutch",
   "metadata": {},
   "source": [
    "## Adding an ID Field"
   ]
  },
  {
   "cell_type": "code",
   "execution_count": 34,
   "id": "minute-harassment",
   "metadata": {},
   "outputs": [
    {
     "name": "stdout",
     "output_type": "stream",
     "text": [
      "\n",
      " There are 27 rows in the df dataframe\n"
     ]
    }
   ],
   "source": [
    "# Select all the unique council voters\n",
    "df = df.select(df['VOTER_NAME']).distinct()\n",
    "# Count the rows in voter_df\n",
    "print('\\n There are %d rows in the df dataframe' % df.count())"
   ]
  },
  {
   "cell_type": "markdown",
   "id": "wrapped-eugene",
   "metadata": {},
   "source": [
    "### 16. Thêm cột 'ROW_ID' bằng phương thức: monotonically_increasing_id() (trong pyspark.sql.functions)."
   ]
  },
  {
   "cell_type": "code",
   "execution_count": 35,
   "id": "sunrise-ideal",
   "metadata": {},
   "outputs": [
    {
     "ename": "NameError",
     "evalue": "name 'monotonically_increasing_id' is not defined",
     "output_type": "error",
     "traceback": [
      "\u001b[1;31m---------------------------------------------------------------------------\u001b[0m",
      "\u001b[1;31mNameError\u001b[0m                                 Traceback (most recent call last)",
      "\u001b[1;32m<ipython-input-35-d938416fa395>\u001b[0m in \u001b[0;36m<module>\u001b[1;34m\u001b[0m\n\u001b[1;32m----> 1\u001b[1;33m \u001b[0mdf\u001b[0m \u001b[1;33m=\u001b[0m \u001b[0mdf\u001b[0m\u001b[1;33m.\u001b[0m\u001b[0mwithColumn\u001b[0m\u001b[1;33m(\u001b[0m\u001b[1;34m'ROW_ID'\u001b[0m\u001b[1;33m,\u001b[0m \u001b[0mmonotonically_increasing_id\u001b[0m\u001b[1;33m(\u001b[0m\u001b[1;33m)\u001b[0m\u001b[1;33m)\u001b[0m\u001b[1;33m\u001b[0m\u001b[1;33m\u001b[0m\u001b[0m\n\u001b[0m",
      "\u001b[1;31mNameError\u001b[0m: name 'monotonically_increasing_id' is not defined"
     ]
    }
   ],
   "source": [
    "df = df.withColumn('ROW_ID', monotonically_increasing_id())"
   ]
  },
  {
   "cell_type": "markdown",
   "id": "regional-castle",
   "metadata": {},
   "source": [
    "### 17. Hiển thị 10 dòng đầu tiên của dữ liệu với ROW_ID tăng dần."
   ]
  },
  {
   "cell_type": "code",
   "execution_count": null,
   "id": "controlling-russell",
   "metadata": {},
   "outputs": [],
   "source": [
    "df.orderBy(df.ROW_ID.desc()).show(10)"
   ]
  },
  {
   "cell_type": "markdown",
   "id": "portuguese-paintball",
   "metadata": {},
   "source": [
    "## IDs with different partitions"
   ]
  },
  {
   "cell_type": "code",
   "execution_count": null,
   "id": "laden-vitamin",
   "metadata": {},
   "outputs": [],
   "source": [
    "# Print the number of partitions in each DataFrame\n",
    "print(\"\\nThere are %d partitions in the df Dataframe.\\n\" % df.rdd.getNumPartitions())"
   ]
  },
  {
   "cell_type": "markdown",
   "id": "laughing-sector",
   "metadata": {},
   "source": [
    "* Make sure to store the result of .rdd.max().[0] in the variable.\n",
    "* monotonically_increasing_id() return an integer. You can modify that value in-line.\n",
    "* Make sure to show both Data Frames."
   ]
  },
  {
   "cell_type": "code",
   "execution_count": null,
   "id": "strong-belgium",
   "metadata": {},
   "outputs": [],
   "source": [
    "# Detemine the highest ROW_ID and save it in previous_max_id\n",
    "previous_max_id = df.select('ROW_ID').rdd.max()[0]\n",
    "# Add a RORW_ID column to df_april starting at the desired value\n",
    "voter_df_april = df.withColumn('ROW_ID', monotonically_increasing_id() + previous_max_id)"
   ]
  },
  {
   "cell_type": "code",
   "execution_count": null,
   "id": "sound-international",
   "metadata": {},
   "outputs": [],
   "source": [
    "# Show the ROW_ID from both DataFrames and compare\n",
    "df.select('ROW_ID').show(5)\n",
    "voter_df_april.select('ROW_ID').show(5)"
   ]
  }
 ],
 "metadata": {
  "kernelspec": {
   "display_name": "Python 3",
   "language": "python",
   "name": "python3"
  },
  "language_info": {
   "codemirror_mode": {
    "name": "ipython",
    "version": 3
   },
   "file_extension": ".py",
   "mimetype": "text/x-python",
   "name": "python",
   "nbconvert_exporter": "python",
   "pygments_lexer": "ipython3",
   "version": "3.8.3"
  }
 },
 "nbformat": 4,
 "nbformat_minor": 5
}
