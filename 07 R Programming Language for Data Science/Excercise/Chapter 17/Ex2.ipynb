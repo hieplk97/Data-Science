{
 "cells": [
  {
   "cell_type": "code",
   "execution_count": 1,
   "metadata": {},
   "outputs": [],
   "source": [
    "data = read.csv(\"../../Data/petrol_consumption.csv\")"
   ]
  },
  {
   "cell_type": "code",
   "execution_count": 2,
   "metadata": {},
   "outputs": [
    {
     "name": "stdout",
     "output_type": "stream",
     "text": [
      "  Petrol_tax Average_income Paved_Highways Population_Driver_licence...\n",
      "1        9.0           3571           1976                        0.525\n",
      "2        9.0           4092           1250                        0.572\n",
      "3        9.0           3865           1586                        0.580\n",
      "4        7.5           4870           2351                        0.529\n",
      "5        8.0           4399            431                        0.544\n",
      "6       10.0           5342           1333                        0.571\n",
      "  Petrol_Consumption\n",
      "1                541\n",
      "2                524\n",
      "3                561\n",
      "4                414\n",
      "5                410\n",
      "6                457\n",
      "[1] TRUE\n",
      "[1] \"cols: 5\"\n",
      "[1] \"rows: 48\"\n"
     ]
    }
   ],
   "source": [
    "print(head(data))\n",
    "print(is.data.frame(data))\n",
    "print(paste(\"cols:\", ncol(data)))\n",
    "print(paste(\"rows:\", nrow(data)))"
   ]
  },
  {
   "cell_type": "code",
   "execution_count": 3,
   "metadata": {},
   "outputs": [
    {
     "data": {
      "text/plain": [
       "   Petrol_tax     Average_income Paved_Highways  Population_Driver_licence...\n",
       " Min.   : 5.000   Min.   :3063   Min.   :  431   Min.   :0.4510              \n",
       " 1st Qu.: 7.000   1st Qu.:3739   1st Qu.: 3110   1st Qu.:0.5298              \n",
       " Median : 7.500   Median :4298   Median : 4736   Median :0.5645              \n",
       " Mean   : 7.668   Mean   :4242   Mean   : 5565   Mean   :0.5703              \n",
       " 3rd Qu.: 8.125   3rd Qu.:4579   3rd Qu.: 7156   3rd Qu.:0.5952              \n",
       " Max.   :10.000   Max.   :5342   Max.   :17782   Max.   :0.7240              \n",
       " Petrol_Consumption\n",
       " Min.   :344.0     \n",
       " 1st Qu.:509.5     \n",
       " Median :568.5     \n",
       " Mean   :576.8     \n",
       " 3rd Qu.:632.8     \n",
       " Max.   :968.0     "
      ]
     },
     "metadata": {},
     "output_type": "display_data"
    }
   ],
   "source": [
    "summary(data)"
   ]
  },
  {
   "cell_type": "code",
   "execution_count": 4,
   "metadata": {},
   "outputs": [
    {
     "name": "stdout",
     "output_type": "stream",
     "text": [
      "'data.frame':\t48 obs. of  5 variables:\n",
      " $ Petrol_tax                  : num  9 9 9 7.5 8 10 8 8 8 7 ...\n",
      " $ Average_income              : int  3571 4092 3865 4870 4399 5342 5319 5126 4447 4512 ...\n",
      " $ Paved_Highways              : int  1976 1250 1586 2351 431 1333 11868 2138 8577 8507 ...\n",
      " $ Population_Driver_licence...: num  0.525 0.572 0.58 0.529 0.544 0.571 0.451 0.553 0.529 0.552 ...\n",
      " $ Petrol_Consumption          : int  541 524 561 414 410 457 344 467 464 498 ...\n"
     ]
    }
   ],
   "source": [
    "str(data)"
   ]
  },
  {
   "cell_type": "code",
   "execution_count": 5,
   "metadata": {},
   "outputs": [
    {
     "data": {
      "image/png": "[encoded data removed]",
      "text/plain": [
       "plot without title"
      ]
     },
     "metadata": {
      "image/png": {
       "height": 420,
       "width": 420
      }
     },
     "output_type": "display_data"
    }
   ],
   "source": [
    "# Visualization\n",
    "pairs(~Petrol_Consumption+Petrol_tax+Average_income+Paved_Highways+Population_Driver_licence..., data = data)"
   ]
  },
  {
   "cell_type": "code",
   "execution_count": 6,
   "metadata": {},
   "outputs": [
    {
     "data": {
      "text/html": [
       "<table>\n",
       "<caption>A data.frame: 6 × 3</caption>\n",
       "<thead>\n",
       "\t<tr><th></th><th scope=col>Petrol_tax</th><th scope=col>Population_Driver_licence...</th><th scope=col>Petrol_Consumption</th></tr>\n",
       "\t<tr><th></th><th scope=col>&lt;dbl&gt;</th><th scope=col>&lt;dbl&gt;</th><th scope=col>&lt;int&gt;</th></tr>\n",
       "</thead>\n",
       "<tbody>\n",
       "\t<tr><th scope=row>1</th><td> 9.0</td><td>0.525</td><td>541</td></tr>\n",
       "\t<tr><th scope=row>2</th><td> 9.0</td><td>0.572</td><td>524</td></tr>\n",
       "\t<tr><th scope=row>3</th><td> 9.0</td><td>0.580</td><td>561</td></tr>\n",
       "\t<tr><th scope=row>4</th><td> 7.5</td><td>0.529</td><td>414</td></tr>\n",
       "\t<tr><th scope=row>5</th><td> 8.0</td><td>0.544</td><td>410</td></tr>\n",
       "\t<tr><th scope=row>6</th><td>10.0</td><td>0.571</td><td>457</td></tr>\n",
       "</tbody>\n",
       "</table>\n"
      ],
      "text/latex": [
       "A data.frame: 6 × 3\n",
       "\\begin{tabular}{r|lll}\n",
       "  & Petrol\\_tax & Population\\_Driver\\_licence... & Petrol\\_Consumption\\\\\n",
       "  & <dbl> & <dbl> & <int>\\\\\n",
       "\\hline\n",
       "\t1 &  9.0 & 0.525 & 541\\\\\n",
       "\t2 &  9.0 & 0.572 & 524\\\\\n",
       "\t3 &  9.0 & 0.580 & 561\\\\\n",
       "\t4 &  7.5 & 0.529 & 414\\\\\n",
       "\t5 &  8.0 & 0.544 & 410\\\\\n",
       "\t6 & 10.0 & 0.571 & 457\\\\\n",
       "\\end{tabular}\n"
      ],
      "text/markdown": [
       "\n",
       "A data.frame: 6 × 3\n",
       "\n",
       "| <!--/--> | Petrol_tax &lt;dbl&gt; | Population_Driver_licence... &lt;dbl&gt; | Petrol_Consumption &lt;int&gt; |\n",
       "|---|---|---|---|\n",
       "| 1 |  9.0 | 0.525 | 541 |\n",
       "| 2 |  9.0 | 0.572 | 524 |\n",
       "| 3 |  9.0 | 0.580 | 561 |\n",
       "| 4 |  7.5 | 0.529 | 414 |\n",
       "| 5 |  8.0 | 0.544 | 410 |\n",
       "| 6 | 10.0 | 0.571 | 457 |\n",
       "\n"
      ],
      "text/plain": [
       "  Petrol_tax Population_Driver_licence... Petrol_Consumption\n",
       "1  9.0       0.525                        541               \n",
       "2  9.0       0.572                        524               \n",
       "3  9.0       0.580                        561               \n",
       "4  7.5       0.529                        414               \n",
       "5  8.0       0.544                        410               \n",
       "6 10.0       0.571                        457               "
      ]
     },
     "metadata": {},
     "output_type": "display_data"
    }
   ],
   "source": [
    "input = data[, c(\"Petrol_tax\", \"Population_Driver_licence...\", \"Petrol_Consumption\")]\n",
    "head(input)"
   ]
  },
  {
   "cell_type": "code",
   "execution_count": 7,
   "metadata": {},
   "outputs": [
    {
     "data": {
      "image/png": "[encoded data removed]",
      "text/plain": [
       "Plot with title \"Population_Driver_licence...\""
      ]
     },
     "metadata": {
      "image/png": {
       "height": 420,
       "width": 420
      }
     },
     "output_type": "display_data"
    }
   ],
   "source": [
    "par(mfrow = c(1, 3))\n",
    "boxplot(input$Petrol_Consumption, main = \"Petrol_Consumption\", \n",
    "        sub = paste(\"Outlier rows:\", boxplot.stats(input$Petrol_Consumption)$out))\n",
    "boxplot(input$Petrol_tax, main = \"Petrol_tax\", \n",
    "        sub = paste(\"Outlier rows:\", boxplot.stats(input$Petrol_tax)$out))\n",
    "boxplot(input$Population_Driver_licence..., main = \"Population_Driver_licence...\", \n",
    "        sub = paste(\"Outlier rows:\", boxplot.stats(input$Population_Driver_licence...)$out))"
   ]
  },
  {
   "cell_type": "code",
   "execution_count": 8,
   "metadata": {},
   "outputs": [
    {
     "name": "stdout",
     "output_type": "stream",
     "text": [
      "[1] \"pc_outliers:\"\n",
      "[1] 865 968\n",
      "[1] \"pt_outliers:\"\n",
      "[1] 5\n",
      "[1] \"pd_outliers:\"\n",
      "[1] 0.724\n"
     ]
    }
   ],
   "source": [
    "pc_outliers = boxplot.stats(input$Petrol_Consumption)$out\n",
    "print(\"pc_outliers:\")\n",
    "print(pc_outliers)\n",
    "\n",
    "pt_outliers = boxplot.stats(input$Petrol_tax)$out\n",
    "print(\"pt_outliers:\")\n",
    "print(pt_outliers)\n",
    "\n",
    "pd_outliers = boxplot.stats(input$Population_Driver_licence...)$out\n",
    "print(\"pd_outliers:\")\n",
    "print(pd_outliers)"
   ]
  },
  {
   "cell_type": "code",
   "execution_count": 9,
   "metadata": {},
   "outputs": [
    {
     "name": "stdout",
     "output_type": "stream",
     "text": [
      "[1] \"Before drop: 48\"\n",
      "[1] \"After drop: 45\"\n"
     ]
    }
   ],
   "source": [
    "# Drop rows have outliers\n",
    "print(paste(\"Before drop:\", nrow(input)))\n",
    "for (record in pc_outliers){\n",
    "    input = input[input$Petrol_Consumption != record, ]\n",
    "}\n",
    "for (record in pt_outliers){\n",
    "    input = input[input$Petrol_tax != record, ]\n",
    "}\n",
    "for (record in pd_outliers){\n",
    "    input = input[input$Population_Driver_licence... != record, ]\n",
    "}\n",
    "print(paste(\"After drop:\", nrow(input)))"
   ]
  },
  {
   "cell_type": "code",
   "execution_count": 10,
   "metadata": {},
   "outputs": [
    {
     "name": "stdout",
     "output_type": "stream",
     "text": [
      "[1] \"Correlations pc vs pt and pdl\"\n",
      "[1] -0.4629515\n",
      "[1] 0.6052256\n"
     ]
    }
   ],
   "source": [
    "print(\"Correlations pc vs pt and pdl\")\n",
    "print(cor(input$Petrol_Consumption, input$Petrol_tax))\n",
    "print(cor(input$Petrol_Consumption, input$Population_Driver_licence...))"
   ]
  },
  {
   "cell_type": "code",
   "execution_count": 11,
   "metadata": {},
   "outputs": [
    {
     "name": "stdout",
     "output_type": "stream",
     "text": [
      "[1] \"Selected training row indexes:\"\n",
      " [1] 37  1 25 10 36 18 24  7 41 43 20 26  3  9 45 27  4  5 13 28 35  2  8 33 44\n",
      "[26] 42 11 15 23 29 16  6 39 12 34 40\n",
      "[1] \"Rows of training data and test data:\"\n",
      "[1] 36\n",
      "[1] 9\n"
     ]
    }
   ],
   "source": [
    "# Create training and test data samples from orginal data\n",
    "set.seed(42) # Setting seed to reproduce results of ramdom sampling\n",
    "trainingRowIndex = sample(1: nrow(input), 0.8 * nrow(input))\n",
    "print(\"Selected training row indexes:\")\n",
    "print(trainingRowIndex)\n",
    "trainingData = input[trainingRowIndex, ] # training data\n",
    "testData = input[- trainingRowIndex,] # testing data\n",
    "print(\"Rows of training data and test data:\")\n",
    "print(nrow(trainingData))\n",
    "print(nrow(testData))"
   ]
  },
  {
   "cell_type": "code",
   "execution_count": 12,
   "metadata": {},
   "outputs": [
    {
     "name": "stdout",
     "output_type": "stream",
     "text": [
      "[1] \"mse: 4739.38834330754\"\n",
      "[1] \"mse in test: 1247.25293774595\"\n"
     ]
    }
   ],
   "source": [
    "# Develop the model on the training data and use it to preidict the Length on test data\n",
    "lmMod = lm(Petrol_Consumption~Petrol_tax+Population_Driver_licence..., data =  trainingData) # Build the model\n",
    "iPred = predict(lmMod, testData) # predict length\n",
    "\n",
    "# mean square error according to model\n",
    "mse = mean(lmMod$residuals^2)\n",
    "print(paste(\"mse:\", mse))\n",
    "\n",
    "# mean square error of test data\n",
    "mse_test = mean((testData$Petrol_Consumption - iPred)^2)\n",
    "print(paste(\"mse in test:\", mse_test))"
   ]
  },
  {
   "cell_type": "code",
   "execution_count": 13,
   "metadata": {},
   "outputs": [
    {
     "name": "stdout",
     "output_type": "stream",
     "text": [
      "\n",
      "Call:\n",
      "lm(formula = Petrol_Consumption ~ Petrol_tax + Population_Driver_licence..., \n",
      "    data = trainingData)\n",
      "\n",
      "Residuals:\n",
      "    Min      1Q  Median      3Q     Max \n",
      "-125.16  -61.70    7.70   58.74  151.40 \n",
      "\n",
      "Coefficients:\n",
      "                             Estimate Std. Error t value Pr(>|t|)   \n",
      "(Intercept)                    256.26     221.90   1.155  0.25647   \n",
      "Petrol_tax                     -31.34      14.47  -2.166  0.03762 * \n",
      "Population_Driver_licence...   973.59     270.33   3.602  0.00103 **\n",
      "---\n",
      "Signif. codes:  0 '***' 0.001 '**' 0.01 '*' 0.05 '.' 0.1 ' ' 1\n",
      "\n",
      "Residual standard error: 71.9 on 33 degrees of freedom\n",
      "Multiple R-squared:  0.457,\tAdjusted R-squared:  0.4241 \n",
      "F-statistic: 13.89 on 2 and 33 DF,  p-value: 4.205e-05\n",
      "\n"
     ]
    }
   ],
   "source": [
    "# Review dianostic measures\n",
    "print(summary(lmMod))"
   ]
  },
  {
   "cell_type": "markdown",
   "metadata": {},
   "source": [
    "### => r^2 has low value, this model fits ~ 45% data, not good"
   ]
  },
  {
   "cell_type": "code",
   "execution_count": 14,
   "metadata": {},
   "outputs": [
    {
     "name": "stdout",
     "output_type": "stream",
     "text": [
      "                 (Intercept)                   Petrol_tax \n",
      "                   256.25506                    -31.34155 \n",
      "Population_Driver_licence... \n",
      "                   973.59063 \n"
     ]
    }
   ],
   "source": [
    "# Model coefficients\n",
    "print(coef(lmMod))\n",
    "b = coef(lmMod)[1]\n",
    "mph = coef(lmMod)[2]\n",
    "mpd = coef(lmMod)[3]"
   ]
  },
  {
   "cell_type": "code",
   "execution_count": 15,
   "metadata": {},
   "outputs": [
    {
     "name": "stdout",
     "output_type": "stream",
     "text": [
      "[1] \"Solution 1 - results:\"\n",
      "Petrol_tax \n",
      "  538.8637 \n",
      "[1] \"Solution 2 - results:\"\n",
      "       1 \n",
      "538.8637 \n"
     ]
    }
   ],
   "source": [
    "# new predictions\n",
    "# pt = 9, pd = 0.58\n",
    "x1 = 9\n",
    "x2 = 0.58\n",
    "# solution 1\n",
    "y = (mph * x1 + mpd * x2 + b)\n",
    "print(\"Solution 1 - results:\")\n",
    "print(y)\n",
    "\n",
    "# solution 2\n",
    "y1 = predict(lmMod, data.frame(Petrol_tax = x1, Population_Driver_licence... = x2))\n",
    "print(\"Solution 2 - results:\")\n",
    "print(y1)"
   ]
  },
  {
   "cell_type": "markdown",
   "metadata": {},
   "source": [
    "# MBA"
   ]
  },
  {
   "cell_type": "code",
   "execution_count": 16,
   "metadata": {},
   "outputs": [
    {
     "name": "stderr",
     "output_type": "stream",
     "text": [
      "Loading required package: survival\n",
      "\n",
      "Loading required package: leaps\n",
      "\n",
      "Loading required package: robustbase\n",
      "\n",
      "\n",
      "Attaching package: 'robustbase'\n",
      "\n",
      "\n",
      "The following object is masked from 'package:survival':\n",
      "\n",
      "    heart\n",
      "\n",
      "\n",
      "Loading required package: inline\n",
      "\n",
      "Loading required package: rrcov\n",
      "\n",
      "Scalable Robust Estimators with High Breakdown Point (version 1.5-5)\n",
      "\n",
      "\n",
      "Loading required package: MASS\n",
      "\n",
      "Loading required package: boot\n",
      "\n",
      "\n",
      "Attaching package: 'boot'\n",
      "\n",
      "\n",
      "The following object is masked from 'package:robustbase':\n",
      "\n",
      "    salinity\n",
      "\n",
      "\n",
      "The following object is masked from 'package:survival':\n",
      "\n",
      "    aml\n",
      "\n",
      "\n",
      "Loading required package: survey\n",
      "\n",
      "Loading required package: grid\n",
      "\n",
      "Loading required package: Matrix\n",
      "\n",
      "\n",
      "Attaching package: 'survey'\n",
      "\n",
      "\n",
      "The following object is masked from 'package:graphics':\n",
      "\n",
      "    dotchart\n",
      "\n",
      "\n",
      "Loading required package: mitools\n",
      "\n",
      "This is the global version of package relaimpo.\n",
      "\n",
      "\n",
      "If you are a non-US user, a version with the interesting additional metric pmvd is available\n",
      "\n",
      "\n",
      "from Ulrike Groempings web site at prof.beuth-hochschule.de/groemping.\n",
      "\n",
      "\n"
     ]
    }
   ],
   "source": [
    "library(\"BMA\")\n",
    "library(\"relaimpo\")"
   ]
  },
  {
   "cell_type": "code",
   "execution_count": 17,
   "metadata": {},
   "outputs": [],
   "source": [
    "yvar = data[, (\"Petrol_Consumption\")]\n",
    "xvars = data[, c(-5)]\n",
    "bma = bicreg(xvars, yvar, strict = F, OR = 2)"
   ]
  },
  {
   "cell_type": "code",
   "execution_count": 18,
   "metadata": {},
   "outputs": [
    {
     "name": "stdout",
     "output_type": "stream",
     "text": [
      "\n",
      "Call:\n",
      "bicreg(x = xvars, y = yvar, strict = F, OR = 2)\n",
      "\n",
      "\n",
      "  1  models were selected\n",
      " Best  1  models (cumulative posterior probability =  1 ): \n",
      "\n",
      "                              p!=0   EV         SD         model 1   \n",
      "Intercept                     100    307.32790  156.83067   307.32790\n",
      "Petrol_tax                    100    -29.48381   10.58358   -29.48381\n",
      "Average_income                100     -0.06802    0.01701    -0.06802\n",
      "Paved_Highways                  0      0.00000    0.00000       .    \n",
      "Population_Driver_licence...  100   1374.76841  183.66954  1374.76841\n",
      "                                                                     \n",
      "nVar                                                            3    \n",
      "r2                                                            0.675  \n",
      "BIC                                                         -42.31437\n",
      "post prob                                                     1      \n"
     ]
    }
   ],
   "source": [
    "summary(bma)"
   ]
  },
  {
   "cell_type": "code",
   "execution_count": 19,
   "metadata": {},
   "outputs": [
    {
     "data": {
      "image/png": "[encoded data removed]",
      "text/plain": [
       "Plot with title \"Models selected by BMA\""
      ]
     },
     "metadata": {
      "image/png": {
       "height": 420,
       "width": 420
      }
     },
     "output_type": "display_data"
    }
   ],
   "source": [
    "imageplot.bma(bma)"
   ]
  },
  {
   "cell_type": "markdown",
   "metadata": {},
   "source": [
    "### Select model with: Petrol_tax, Average_income, Population_Driver_licence..."
   ]
  },
  {
   "cell_type": "code",
   "execution_count": 20,
   "metadata": {},
   "outputs": [],
   "source": [
    "m = lm(Petrol_Consumption~Petrol_tax+Average_income+Population_Driver_licence..., data = data)"
   ]
  },
  {
   "cell_type": "code",
   "execution_count": 21,
   "metadata": {},
   "outputs": [
    {
     "data": {
      "text/plain": [
       "Response variable: Petrol_Consumption \n",
       "Total response variance: 12518.44 \n",
       "Analysis based on 48 observations \n",
       "\n",
       "3 Regressors: \n",
       "Petrol_tax Average_income Population_Driver_licence... \n",
       "Proportion of variance explained by model: 67.49%\n",
       "Metrics are normalized to sum to 100% (rela=TRUE). \n",
       "\n",
       "Relative importance metrics: \n",
       "\n",
       "                                   lmg\n",
       "Petrol_tax                   0.1953570\n",
       "Average_income               0.1339606\n",
       "Population_Driver_licence... 0.6706823\n",
       "\n",
       "Average coefficients for different model sizes: \n",
       "\n",
       "                                        1X           2Xs           3Xs\n",
       "Petrol_tax                    -53.10629788  -42.41256600  -29.48380857\n",
       "Average_income                 -0.04776056   -0.05878876   -0.06802286\n",
       "Population_Driver_licence... 1409.84211133 1388.26447384 1374.76841106"
      ]
     },
     "metadata": {},
     "output_type": "display_data"
    }
   ],
   "source": [
    "calc.relimp(m, type = \"lmg\", rela = T, rank = T)"
   ]
  },
  {
   "cell_type": "code",
   "execution_count": null,
   "metadata": {},
   "outputs": [],
   "source": []
  }
 ],
 "metadata": {
  "kernelspec": {
   "display_name": "R",
   "language": "R",
   "name": "ir"
  },
  "language_info": {
   "codemirror_mode": "r",
   "file_extension": ".r",
   "mimetype": "text/x-r-source",
   "name": "R",
   "pygments_lexer": "r",
   "version": "4.0.3"
  }
 },
 "nbformat": 4,
 "nbformat_minor": 4
}
