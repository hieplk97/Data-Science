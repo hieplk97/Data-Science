{
 "cells": [
  {
   "cell_type": "markdown",
   "metadata": {
    "id": "uMHMUfWVC15L"
   },
   "source": [
    "# Bài ôn tập\n",
    "### Viết chương trình cho phép người dùng:\n",
    "1.  Nhập vào một số n với điều kiện sau: 10<=n<=20. Nếu số người dùng nhập không thỏa điều kiện thì thông báo cho người dùng biết và yêu cầu nhập lại. Nêu thỏa điều kiện thì qua 2.\n",
    "2. Tạo một dãy số v1 có n số mà mỗi số là một số ngẫu nhiên từ 1 đến 10. Ví dụ: v1:  5, 5, 5, 9, 9, 8, 5, 9, 9, 10, 7, 7\n",
    "3. Viết một function tạo dãy số mới v2 từ dãy số v1 nói trên theo điều kiện sau: phần tử đầu tiên và cuối cùng của v2 bằng v1, các phần tử khác thì v2[i] = v1[i] + v1[i-1] + v1[i+1] nếu cả v1[i-1] và v1[i+1] cùng chẵn hoặc cùng lẻ, ngược lại v2[i] = v1[i]. Ví dụ: v2:  5, 15, 19, 23, 9, 22, 5, 23, 9, 26, 7, 7\n",
    "4. Gọi function vừa viết và in kết quả v2.\n",
    "5. Viết function Cho biết trong một dãy số có số chính phương nào hay không?\n",
    "6. Gọi function vừa viết với input là v2 và in kết quả.\n"
   ]
  },
  {
   "cell_type": "code",
   "execution_count": 1,
   "metadata": {
    "id": "-k2hqwVpvU4W"
   },
   "outputs": [
    {
     "name": "stdin",
     "output_type": "stream",
     "text": [
      "Please input n:  10\n"
     ]
    }
   ],
   "source": [
    "ok = FALSE\n",
    "while (!ok){\n",
    "    n = as.integer(readline(prompt = \"Please input n: \"))\n",
    "    if (n >= 10 & n <= 20){\n",
    "        ok = TRUE\n",
    "    }\n",
    "}\n",
    "\n"
   ]
  },
  {
   "cell_type": "code",
   "execution_count": 2,
   "metadata": {},
   "outputs": [],
   "source": [
    "v1 = round(runif(n, min=1, max=10),0)"
   ]
  },
  {
   "cell_type": "code",
   "execution_count": 3,
   "metadata": {},
   "outputs": [
    {
     "data": {
      "text/html": [
       "<style>\n",
       ".list-inline {list-style: none; margin:0; padding: 0}\n",
       ".list-inline>li {display: inline-block}\n",
       ".list-inline>li:not(:last-child)::after {content: \"\\00b7\"; padding: 0 .5ex}\n",
       "</style>\n",
       "<ol class=list-inline><li>3</li><li>6</li><li>3</li><li>6</li><li>8</li><li>5</li><li>7</li><li>6</li><li>5</li><li>1</li></ol>\n"
      ],
      "text/latex": [
       "\\begin{enumerate*}\n",
       "\\item 3\n",
       "\\item 6\n",
       "\\item 3\n",
       "\\item 6\n",
       "\\item 8\n",
       "\\item 5\n",
       "\\item 7\n",
       "\\item 6\n",
       "\\item 5\n",
       "\\item 1\n",
       "\\end{enumerate*}\n"
      ],
      "text/markdown": [
       "1. 3\n",
       "2. 6\n",
       "3. 3\n",
       "4. 6\n",
       "5. 8\n",
       "6. 5\n",
       "7. 7\n",
       "8. 6\n",
       "9. 5\n",
       "10. 1\n",
       "\n",
       "\n"
      ],
      "text/plain": [
       " [1] 3 6 3 6 8 5 7 6 5 1"
      ]
     },
     "metadata": {},
     "output_type": "display_data"
    }
   ],
   "source": [
    "v1"
   ]
  },
  {
   "cell_type": "code",
   "execution_count": 9,
   "metadata": {},
   "outputs": [],
   "source": [
    "createV2.function = function(lst){\n",
    "    v2 = []\n",
    "    range = 1:length(lst)\n",
    "    for (i in range){\n",
    "      if (i==1){\n",
    "          v2[i] = lst[i]\n",
    "      }else if (i==range){\n",
    "          v2[i] = lst[i]\n",
    "      }else{\n",
    "          if ((v[i-1] + v[i-1]) % 2 == 0){\n",
    "              \n",
    "          }\n",
    "      }\n",
    "    }\n",
    "}"
   ]
  },
  {
   "cell_type": "code",
   "execution_count": null,
   "metadata": {},
   "outputs": [],
   "source": []
  }
 ],
 "metadata": {
  "colab": {
   "collapsed_sections": [],
   "name": "bai_on_tap_buoi_2_SV.ipynb",
   "provenance": []
  },
  "kernelspec": {
   "display_name": "R",
   "language": "R",
   "name": "ir"
  },
  "language_info": {
   "codemirror_mode": "r",
   "file_extension": ".r",
   "mimetype": "text/x-r-source",
   "name": "R",
   "pygments_lexer": "r",
   "version": "4.0.3"
  }
 },
 "nbformat": 4,
 "nbformat_minor": 4
}
