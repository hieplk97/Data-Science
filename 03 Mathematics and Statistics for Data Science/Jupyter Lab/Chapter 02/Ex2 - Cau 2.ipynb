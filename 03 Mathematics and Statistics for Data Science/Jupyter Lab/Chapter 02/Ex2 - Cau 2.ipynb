{
 "cells": [
  {
   "cell_type": "raw",
   "metadata": {},
   "source": [
    "\"\"\"=============================================================================\n",
    "    Ex2: EIGENDECOMPOSITION\n",
    "    Câu 2:\n",
    "        a) Tạo ma trận A(4 x 4) chứa các giá trị ngẫu nhiên trong khoảng 1 - 9\n",
    "        b) Tạo ma trận đối xứng B = A.A_T\n",
    "        c) Phân tích eigenvalues và eigenvectors của B\n",
    "=============================================================================\"\"\"\n"
   ]
  },
  {
   "cell_type": "code",
   "execution_count": 1,
   "metadata": {},
   "outputs": [],
   "source": [
    "import numpy as np\n",
    "from numpy.linalg import eig"
   ]
  },
  {
   "cell_type": "code",
   "execution_count": 2,
   "metadata": {},
   "outputs": [
    {
     "name": "stdout",
     "output_type": "stream",
     "text": [
      "Ma trận A (4, 4) :\n",
      " [[1 5 8 2]\n",
      " [3 7 9 6]\n",
      " [2 8 1 3]\n",
      " [7 7 6 9]]\n"
     ]
    }
   ],
   "source": [
    "## a) Tạo ma trận A(5 x 5) chứa các giá trị ngẫu nhiên trong khoảng 1 - 10\n",
    "m, n, min, max = 4, 4, 1, 9\n",
    "A = np.random.randint(1, 10, (n, n))\n",
    "print('Ma trận A', A.shape, ':\\n', A)"
   ]
  },
  {
   "cell_type": "code",
   "execution_count": 3,
   "metadata": {},
   "outputs": [
    {
     "name": "stdout",
     "output_type": "stream",
     "text": [
      "Ma trận đối xứng B (4, 4) :\n",
      " [[ 94 122  56 108]\n",
      " [122 175  89 178]\n",
      " [ 56  89  78 103]\n",
      " [108 178 103 215]]\n"
     ]
    }
   ],
   "source": [
    "## b) Tạo ma trận đối xứng B = A.A_T\n",
    "B = A @ A.T\n",
    "print('Ma trận đối xứng B', B.shape, ':\\n', B)"
   ]
  },
  {
   "cell_type": "code",
   "execution_count": 4,
   "metadata": {},
   "outputs": [
    {
     "name": "stdout",
     "output_type": "stream",
     "text": [
      "Eigenvalues (4,) :\n",
      " [4.99503936e+02 4.96226012e-01 3.93539994e+01 2.26458382e+01]\n",
      "Eigenvectors (4, 4) :\n",
      " [[-0.38936149 -0.60754137 -0.6581309  -0.21483678]\n",
      " [-0.58343111  0.73450045 -0.34468506  0.03618602]\n",
      " [-0.32937585 -0.00270472  0.46551497 -0.82146214]\n",
      " [-0.63207382 -0.30231649  0.48099038  0.52700633]]\n"
     ]
    }
   ],
   "source": [
    "## c) Phân tích eigenvalues và eigenvectors\n",
    "values, vectors = eig(B)\n",
    "\n",
    "print('Eigenvalues',  values.shape,  ':\\n', values)\n",
    "print('Eigenvectors', vectors.shape, ':\\n', vectors)"
   ]
  },
  {
   "cell_type": "code",
   "execution_count": null,
   "metadata": {},
   "outputs": [],
   "source": []
  }
 ],
 "metadata": {
  "kernelspec": {
   "display_name": "Python 3",
   "language": "python",
   "name": "python3"
  },
  "language_info": {
   "codemirror_mode": {
    "name": "ipython",
    "version": 3
   },
   "file_extension": ".py",
   "mimetype": "text/x-python",
   "name": "python",
   "nbconvert_exporter": "python",
   "pygments_lexer": "ipython3",
   "version": "3.8.5"
  }
 },
 "nbformat": 4,
 "nbformat_minor": 4
}
