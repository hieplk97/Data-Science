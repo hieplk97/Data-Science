{
 "cells": [
  {
   "cell_type": "code",
   "execution_count": 1,
   "metadata": {},
   "outputs": [
    {
     "name": "stdin",
     "output_type": "stream",
     "text": [
      "Total of food and drink:  500000\n",
      "Tax (10-20%):  10\n",
      "Tip (5-10%):  5\n"
     ]
    }
   ],
   "source": [
    "sum_of_items = as.integer(readline(prompt = \"Total of food and drink: \"))\n",
    "tax = as.integer(readline(prompt = \"Tax (10-20%): \"))\n",
    "tip = as.integer(readline(prompt = \"Tip (5-10%): \"))"
   ]
  },
  {
   "cell_type": "code",
   "execution_count": 2,
   "metadata": {},
   "outputs": [],
   "source": [
    "tax.m = sum_of_items * tax/100\n",
    "tip.m = sum_of_items * tip/100\n",
    "total = sum_of_items + tax.m + tip.m"
   ]
  },
  {
   "cell_type": "code",
   "execution_count": 3,
   "metadata": {},
   "outputs": [
    {
     "name": "stdout",
     "output_type": "stream",
     "text": [
      "[1] \"Total of food and drink:  500000  VND\"\n",
      "[1] \"Tax:  50000  VND\"\n",
      "[1] \"Tip:  25000  VND\"\n",
      "[1] \"Total:  575000  VND\"\n"
     ]
    }
   ],
   "source": [
    "print(paste(\"Total of food and drink: \", sum_of_items, \" VND\"))\n",
    "print(paste(\"Tax: \", tax.m, \" VND\"))\n",
    "print(paste(\"Tip: \", tip.m, \" VND\"))\n",
    "print(paste(\"Total: \", format(total, scientific=FALSE), \" VND\"))"
   ]
  }
 ],
 "metadata": {
  "kernelspec": {
   "display_name": "R",
   "language": "R",
   "name": "ir"
  },
  "language_info": {
   "codemirror_mode": "r",
   "file_extension": ".r",
   "mimetype": "text/x-r-source",
   "name": "R",
   "pygments_lexer": "r",
   "version": "4.0.3"
  }
 },
 "nbformat": 4,
 "nbformat_minor": 4
}
