{
 "cells": [
  {
   "cell_type": "raw",
   "metadata": {},
   "source": [
    "\"\"\"=============================================================================\n",
    "   Ex5: Gradient Descent\n",
    "   Cho dữ liệu chiều cao heights (heights_1.txt), weights (weights_1.txt)\n",
    "      1) Tạo 2 numpy array heights và weights chứa 2 danh sách từ 2 tập tin trên.\n",
    "      2) Chuyển inches --> mét (h * 0.0254), lbs --> kg (w * 0.453592)\n",
    "      3) Trực quan hóa dữ liệu theo heights, weights\n",
    "      4) x = heights đã chuyển theo định dạng chuẩn, y = weights\n",
    "      5) Với phương trình: y = mx + b (weights = (m * heights) + b) \n",
    "            gọi hàm tính m, b: theta = gradient_descent_2(alpha, x, y, 1000)\n",
    "      6) Từ m, b (m = theta[1], b = theta[0]) => dự đoán weights_predict theo m, b\n",
    "      7) Trực quan hóa dữ liệu\n",
    "      8) Với chiều cao là 1.8, 1.9, 2.0 thì cân nặng lần lượt là bao nhiêu?   \n",
    "=============================================================================\"\"\""
   ]
  },
  {
   "cell_type": "code",
   "execution_count": 4,
   "metadata": {},
   "outputs": [],
   "source": [
    "import os\n",
    "import sys\n",
    "\n",
    "import matplotlib.pyplot as plt\n",
    "import numpy as np\n",
    "import seaborn as sns"
   ]
  },
  {
   "cell_type": "code",
   "execution_count": 5,
   "metadata": {},
   "outputs": [],
   "source": [
    "# Hàm tính m (slope), b (theta/bias):    y = mx + b\n",
    "def gradient_descent_2(alpha, x, y, numIterations):\n",
    "    M     = x.shape[0] # number of samples\n",
    "    theta = np.ones(2)\n",
    "    x_T   = x.transpose()\n",
    "    for iter in range(0, numIterations):\n",
    "        hypothesis = np.dot(x, theta)\n",
    "        loss       = hypothesis - y\n",
    "        # J          = np.sum(loss ** 2) / (2 * M)  # cost\n",
    "        # print(\"iter %s | J: %.3f\" % (iter, J))      \n",
    "        gradient   = np.dot(x_T, loss) / M      \n",
    "        \n",
    "        theta    = theta - (alpha * gradient)  # update\n",
    "    return theta"
   ]
  },
  {
   "cell_type": "code",
   "execution_count": 6,
   "metadata": {},
   "outputs": [],
   "source": [
    "LDS3folder = 'E:\\Data Science\\Mathematics and Statistics for Data Science\\Excercise'\n",
    "folder = LDS3folder + '\\Data\\B4'\n",
    "lib_path = os.path.abspath(os.path.join(folder))\n",
    "sys.path.append(lib_path)"
   ]
  },
  {
   "cell_type": "code",
   "execution_count": 7,
   "metadata": {},
   "outputs": [],
   "source": [
    "##------------------------------------------------------------------------------\n",
    "## 1) Dataset: #samples = 1015\n",
    "##------------------------------------------------------------------------------\n",
    "## Chiều cao (inches)\n",
    "h = [74, 74, 72, 72, 73, 69, 69, 71, 76, 71, 73, 73, 74, 74, 69, 70, 73, 75, 78,\n",
    "     79, 76, 74, 76, 72, 71, 75, 77, 74, 73, 74, 78, 73, 75, 73, 75, 75, 74, 69,\n",
    "     71, 74, 73, 73, 76, 74, 74, 70, 72, 77, 74, 70, 73, 75, 76, 76, 78, 74, 74,\n",
    "     76, 77, 81, 78, 75, 77, 75, 76, 74, 72, 72, 75, 73, 73, 73, 70, 70, 70, 76,\n",
    "     68, 71, 72, 75, 75, 75, 75, 68, 74, 78, 71, 73, 76, 74, 74, 79, 75, 73, 76,\n",
    "     74, 74, 73, 72, 74, 73, 74, 72, 73, 69, 72, 73, 75, 75, 73, 72, 72, 76, 74,\n",
    "     72, 77, 74, 77, 75, 76, 80, 74, 74, 75, 78, 73, 73, 74, 75, 76, 71, 73, 74,\n",
    "     76, 76, 74, 73, 74, 70, 72, 73, 73, 73, 73, 71, 74, 74, 72, 74, 71, 74, 73,\n",
    "     75, 75, 79, 73, 75, 76, 74, 76, 78, 74, 76, 72, 74, 76, 74, 75, 78, 75, 72,\n",
    "     74, 72, 74, 70, 71, 70, 75, 71, 71, 73, 72, 71, 73, 72, 75, 74, 74, 75, 73,\n",
    "     77, 73, 76, 75, 74, 76, 75, 73, 71, 76, 75, 72, 71, 77, 73, 74, 71, 72, 74,\n",
    "     75, 73, 72, 75, 75, 74, 72, 74, 71, 70, 74, 77, 77, 75, 75, 78, 75, 76, 73,\n",
    "     75, 75, 79, 77, 76, 71, 75, 74, 69, 71, 76, 72, 72, 70, 72, 73, 71, 72, 71,\n",
    "     73, 72, 73, 74, 74, 72, 75, 74, 74, 77, 75, 73, 72, 71, 74, 77, 75, 75, 75,\n",
    "     78, 78, 74, 76, 78, 76, 70, 72, 80, 74, 74, 71, 70, 72, 71, 74, 71, 72, 71,\n",
    "     74, 69, 76, 75, 75, 76, 73, 76, 73, 77, 73, 72, 72, 77, 77, 71, 74, 74, 73,\n",
    "     78, 75, 73, 70, 74, 72, 73, 73, 75, 75, 74, 76, 73, 74, 75, 75, 72, 73, 73,\n",
    "     72, 74, 78, 76, 73, 74, 75, 70, 75, 71, 72, 78, 75, 73, 73, 71, 75, 77, 72,\n",
    "     69, 73, 74, 72, 70, 75, 70, 72, 72, 74, 73, 74, 76, 75, 80, 72, 75, 73, 74,\n",
    "     74, 73, 75, 75, 71, 73, 75, 74, 74, 72, 74, 74, 74, 73, 76, 75, 72, 73, 73,\n",
    "     73, 72, 72, 72, 72, 71, 75, 75, 74, 73, 75, 79, 74, 76, 73, 74, 74, 72, 74,\n",
    "     74, 75, 78, 74, 74, 74, 77, 70, 73, 74, 73, 71, 75, 71, 72, 77, 74, 70, 77,\n",
    "     73, 72, 76, 71, 76, 78, 75, 73, 78, 74, 79, 75, 76, 72, 75, 75, 70, 72, 70,\n",
    "     74, 71, 76, 73, 76, 71, 69, 72, 72, 69, 73, 69, 73, 74, 74, 72, 71, 72, 72,\n",
    "     76, 76, 76, 74, 76, 75, 71, 72, 71, 73, 75, 76, 75, 71, 75, 74, 72, 73, 73,\n",
    "     73, 73, 76, 72, 76, 73, 73, 73, 75, 75, 77, 73, 72, 75, 70, 74, 72, 80, 71,\n",
    "     71, 74, 74, 73, 75, 76, 73, 77, 72, 73, 77, 76, 71, 75, 73, 74, 77, 71, 72,\n",
    "     73, 69, 73, 70, 74, 76, 73, 73, 75, 73, 79, 74, 73, 74, 77, 75, 74, 73, 77,\n",
    "     73, 77, 74, 74, 73, 77, 74, 77, 75, 77, 75, 71, 74, 70, 79, 72, 72, 70, 74,\n",
    "     74, 72, 73, 72, 74, 74, 76, 82, 74, 74, 70, 73, 73, 74, 77, 72, 76, 73, 73,\n",
    "     72, 74, 74, 71, 72, 75, 74, 74, 77, 70, 71, 73, 76, 71, 75, 74, 72, 76, 79,\n",
    "     76, 73, 76, 78, 75, 76, 72, 72, 73, 73, 75, 71, 76, 70, 75, 74, 75, 73, 71,\n",
    "     71, 72, 73, 73, 72, 69, 73, 78, 71, 73, 75, 76, 70, 74, 77, 75, 79, 72, 77,\n",
    "     73, 75, 75, 75, 73, 73, 76, 77, 75, 70, 71, 71, 75, 74, 69, 70, 75, 72, 75,\n",
    "     73, 72, 72, 72, 76, 75, 74, 69, 73, 72, 72, 75, 77, 76, 80, 77, 76, 79, 71,\n",
    "     75, 73, 76, 77, 73, 76, 70, 75, 73, 75, 70, 69, 71, 72, 72, 73, 70, 70, 73,\n",
    "     76, 75, 72, 73, 79, 71, 72, 74, 74, 74, 72, 76, 76, 72, 72, 71, 72, 72, 70,\n",
    "     77, 74, 72, 76, 71, 76, 71, 73, 70, 73, 73, 72, 71, 71, 71, 72, 72, 74, 74,\n",
    "     74, 71, 72, 75, 72, 71, 72, 72, 72, 72, 74, 74, 77, 75, 73, 75, 73, 76, 72,\n",
    "     77, 75, 72, 71, 71, 75, 72, 73, 73, 71, 70, 75, 71, 76, 73, 68, 71, 72, 74,\n",
    "     77, 72, 76, 78, 81, 72, 73, 76, 72, 72, 74, 76, 73, 76, 75, 70, 71, 74, 72,\n",
    "     73, 76, 76, 73, 71, 68, 71, 71, 74, 77, 69, 72, 76, 75, 76, 75, 76, 72, 74,\n",
    "     76, 74, 72, 75, 78, 77, 70, 72, 79, 74, 71, 68, 77, 75, 71, 72, 70, 72, 72,\n",
    "     73, 72, 74, 72, 72, 75, 72, 73, 74, 72, 78, 75, 72, 74, 75, 75, 76, 74, 74,\n",
    "     73, 74, 71, 74, 75, 76, 74, 76, 76, 73, 75, 75, 74, 68, 72, 75, 71, 70, 72,\n",
    "     73, 72, 75, 74, 70, 76, 71, 82, 72, 73, 74, 71, 75, 77, 72, 74, 72, 73, 78,\n",
    "     77, 73, 73, 73, 73, 73, 76, 75, 70, 73, 72, 73, 75, 74, 73, 73, 76, 73, 75,\n",
    "     70, 77, 72, 77, 74, 75, 75, 75, 75, 72, 74, 71, 76, 71, 75, 76, 83, 75, 74,\n",
    "     76, 72, 72, 75, 75, 72, 77, 73, 72, 70, 74, 72, 74, 72, 71, 70, 71, 76, 74,\n",
    "     76, 74, 74, 74, 75, 75, 71, 71, 74, 77, 71, 74, 75, 77, 76, 74, 76, 72, 71,\n",
    "     72, 75, 73, 68, 72, 69, 73, 73, 75, 70, 70, 74, 75, 74, 74, 73, 74, 75, 77,\n",
    "     73, 74, 76, 74, 75, 73, 76, 78, 75, 73, 77, 74, 72, 74, 72, 71, 73, 75, 73,\n",
    "     67, 67, 76, 74, 73, 70, 75, 70, 72, 77, 79, 78, 74, 75, 75, 78, 76, 75, 69,\n",
    "     75, 72, 75, 73, 74, 75, 75, 73]\n",
    "heights = np.array(h)\n",
    "\n",
    "## Cân nặng (lbs)\n",
    "w = [180, 215, 210, 210, 188, 176, 209, 200, 231, 180, 188, 180, 185, 160, 180,\n",
    "     185, 189, 185, 219, 230, 205, 230, 195, 180, 192, 225, 203, 195, 182, 188,\n",
    "     200, 180, 200, 200, 245, 240, 215, 185, 175, 199, 200, 215, 200, 205, 206,\n",
    "     186, 188, 220, 210, 195, 200, 200, 212, 224, 210, 205, 220, 195, 200, 260,\n",
    "     228, 270, 200, 210, 190, 220, 180, 205, 210, 220, 211, 200, 180, 190, 170,\n",
    "     230, 155, 185, 185, 200, 225, 225, 220, 160, 205, 235, 250, 210, 190, 160,\n",
    "     200, 205, 222, 195, 205, 220, 220, 170, 185, 195, 220, 230, 180, 220, 180,\n",
    "     180, 170, 210, 215, 200, 213, 180, 192, 235, 185, 235, 210, 222, 210, 230,\n",
    "     220, 180, 190, 200, 210, 194, 180, 190, 240, 200, 198, 200, 195, 210, 220,\n",
    "     190, 210, 225, 180, 185, 170, 185, 185, 180, 178, 175, 200, 204, 211, 190,\n",
    "     210, 190, 190, 185, 290, 175, 185, 200, 220, 170, 220, 190, 220, 205, 200,\n",
    "     250, 225, 215, 210, 215, 195, 200, 194, 220, 180, 180, 170, 195, 180, 170,\n",
    "     206, 205, 200, 225, 201, 225, 233, 180, 225, 180, 220, 180, 237, 215, 190,\n",
    "     235, 190, 180, 165, 195, 200, 190, 190, 185, 185, 205, 190, 205, 206, 220,\n",
    "     208, 170, 195, 210, 190, 211, 230, 170, 185, 185, 241, 225, 210, 175, 230,\n",
    "     200, 215, 198, 226, 278, 215, 230, 240, 184, 219, 170, 218, 190, 225, 220,\n",
    "     176, 190, 197, 204, 167, 180, 195, 220, 215, 185, 190, 205, 205, 200, 210,\n",
    "     215, 200, 205, 211, 190, 208, 200, 210, 232, 230, 210, 220, 210, 202, 212,\n",
    "     225, 170, 190, 200, 237, 220, 170, 193, 190, 150, 220, 200, 190, 185, 185,\n",
    "     200, 172, 220, 225, 190, 195, 219, 190, 197, 200, 195, 210, 177, 220, 235,\n",
    "     180, 195, 195, 190, 230, 190, 200, 190, 190, 200, 200, 184, 200, 180, 219,\n",
    "     187, 200, 220, 205, 190, 170, 160, 215, 175, 205, 200, 214, 200, 190, 180,\n",
    "     205, 220, 190, 215, 235, 191, 200, 181, 200, 210, 240, 185, 165, 190, 185,\n",
    "     175, 155, 210, 170, 175, 220, 210, 205, 200, 205, 195, 240, 150, 200, 215,\n",
    "     202, 200, 190, 205, 190, 160, 215, 185, 200, 190, 210, 185, 220, 190, 202,\n",
    "     205, 220, 175, 160, 190, 200, 229, 206, 220, 180, 195, 175, 188, 230, 190,\n",
    "     200, 190, 219, 235, 180, 180, 180, 200, 234, 185, 220, 223, 200, 210, 200,\n",
    "     210, 190, 177, 227, 180, 195, 199, 175, 185, 240, 210, 180, 194, 225, 180,\n",
    "     205, 193, 230, 230, 220, 200, 249, 190, 208, 245, 250, 160, 192, 220, 170,\n",
    "     197, 155, 190, 200, 220, 210, 228, 190, 160, 184, 180, 180, 200, 176, 160,\n",
    "     222, 211, 195, 200, 175, 206, 240, 185, 260, 185, 221, 205, 200, 170, 201,\n",
    "     205, 185, 205, 245, 220, 210, 220, 185, 175, 170, 180, 200, 210, 175, 220,\n",
    "     206, 180, 210, 195, 200, 200, 164, 180, 220, 195, 205, 170, 240, 210, 195,\n",
    "     200, 205, 192, 190, 170, 240, 200, 205, 175, 250, 220, 224, 210, 195, 180,\n",
    "     245, 175, 180, 215, 175, 180, 195, 230, 230, 205, 215, 195, 180, 205, 180,\n",
    "     190, 180, 190, 190, 220, 210, 255, 190, 230, 200, 205, 210, 225, 215, 220,\n",
    "     205, 200, 220, 197, 225, 187, 245, 185, 185, 175, 200, 180, 188, 225, 200,\n",
    "     210, 245, 213, 231, 165, 228, 210, 250, 191, 190, 200, 215, 254, 232, 180,\n",
    "     215, 220, 180, 200, 170, 195, 210, 200, 220, 165, 180, 200, 200, 170, 224,\n",
    "     220, 180, 198, 240, 239, 185, 210, 220, 200, 195, 220, 230, 170, 220, 230,\n",
    "     165, 205, 192, 210, 205, 200, 210, 185, 195, 202, 205, 195, 180, 200, 185,\n",
    "     240, 185, 220, 205, 205, 180, 201, 190, 208, 240, 180, 230, 195, 215, 190,\n",
    "     195, 215, 215, 220, 220, 230, 195, 190, 195, 209, 204, 170, 185, 205, 175,\n",
    "     210, 190, 180, 180, 160, 235, 200, 210, 180, 190, 197, 203, 205, 170, 200,\n",
    "     250, 200, 220, 200, 190, 170, 190, 220, 215, 206, 215, 185, 235, 188, 230,\n",
    "     195, 168, 190, 160, 200, 200, 189, 180, 190, 200, 220, 187, 240, 190, 180,\n",
    "     185, 210, 220, 219, 190, 193, 175, 180, 215, 210, 200, 190, 185, 220, 170,\n",
    "     195, 205, 195, 210, 190, 190, 180, 220, 190, 186, 185, 190, 180, 190, 170,\n",
    "     210, 240, 220, 180, 210, 210, 195, 160, 180, 205, 200, 185, 245, 190, 210,\n",
    "     200, 200, 222, 215, 240, 170, 220, 156, 190, 202, 221, 200, 190, 210, 190,\n",
    "     200, 165, 190, 185, 230, 208, 209, 175, 180, 200, 205, 200, 250, 210, 230,\n",
    "     244, 202, 240, 200, 215, 177, 210, 170, 215, 217, 198, 200, 220, 170, 200,\n",
    "     230, 231, 183, 192, 167, 190, 180, 180, 215, 160, 205, 223, 175, 170, 190,\n",
    "     240, 175, 230, 223, 196, 167, 195, 190, 250, 190, 190, 190, 170, 160, 150,\n",
    "     225, 220, 209, 210, 176, 260, 195, 190, 184, 180, 195, 195, 219, 225, 212,\n",
    "     202, 185, 200, 209, 200, 195, 228, 210, 190, 212, 190, 218, 220, 190, 235,\n",
    "     210, 200, 188, 210, 235, 188, 215, 216, 220, 180, 185, 200, 210, 220, 185,\n",
    "     231, 210, 195, 200, 205, 200, 190, 250, 185, 180, 170, 180, 208, 235, 215,\n",
    "     244, 220, 185, 230, 190, 200, 180, 190, 196, 180, 230, 224, 160, 178, 205,\n",
    "     185, 210, 180, 190, 200, 257, 190, 220, 165, 205, 200, 208, 185, 215, 170,\n",
    "     235, 210, 170, 180, 170, 190, 150, 230, 203, 260, 246, 186, 210, 198, 210,\n",
    "     215, 180, 200, 245, 200, 192, 192, 200, 192, 205, 190, 186, 170, 197, 219,\n",
    "     200, 220, 207, 225, 207, 212, 225, 170, 190, 210, 230, 210, 200, 238, 234,\n",
    "     222, 200, 190, 170, 220, 223, 210, 215, 196, 175, 175, 189, 205, 210, 180,\n",
    "     180, 197, 220, 228, 190, 204, 165, 216, 220, 208, 210, 215, 195, 200, 215,\n",
    "     229, 240, 207, 205, 208, 185, 190, 170, 208, 225, 190, 225, 185, 180, 165,\n",
    "     240, 220, 212, 163, 215, 175, 205, 210, 205, 208, 215, 180, 200, 230, 211,\n",
    "     230, 190, 220, 180, 205, 190, 180, 205, 190, 195]\n",
    "weights = np.array(w)"
   ]
  },
  {
   "cell_type": "code",
   "execution_count": 8,
   "metadata": {},
   "outputs": [
    {
     "name": "stdout",
     "output_type": "stream",
     "text": [
      "Chiều cao chuyển đổi sang cm: [1.8796 1.8796 1.8288 1.8288 1.8542]\n",
      "Cân nặng  chuyển đổi sang kg: [81.64656  97.52228  95.25432  95.25432  85.275296]\n"
     ]
    }
   ],
   "source": [
    "##------------------------------------------------------------------------------\n",
    "## 2) Chuyển đổi đơn vị tính\n",
    "##------------------------------------------------------------------------------\n",
    "heights = heights * 0.0254\n",
    "weights = weights * 0.453592\n",
    "\n",
    "print('Chiều cao chuyển đổi sang cm:', heights[0:5])\n",
    "print('Cân nặng  chuyển đổi sang kg:', weights[0:5])"
   ]
  },
  {
   "cell_type": "code",
   "execution_count": 9,
   "metadata": {},
   "outputs": [
    {
     "data": {
      "text/plain": [
       "<Figure size 864x576 with 0 Axes>"
      ]
     },
     "metadata": {},
     "output_type": "display_data"
    },
    {
     "data": {
      "image/png": "[encoded data removed]",
      "text/plain": [
       "<Figure size 432x432 with 3 Axes>"
      ]
     },
     "metadata": {
      "needs_background": "light"
     },
     "output_type": "display_data"
    }
   ],
   "source": [
    "##------------------------------------------------------------------------------\n",
    "## 3) Trực quan hóa dữ liệu theo heights, weights\n",
    "##------------------------------------------------------------------------------\n",
    "plt.figure(figsize=(12, 8))\n",
    "sns.jointplot(x=heights, y=weights)\n",
    "plt.show()"
   ]
  },
  {
   "cell_type": "code",
   "execution_count": 10,
   "metadata": {},
   "outputs": [
    {
     "name": "stdout",
     "output_type": "stream",
     "text": [
      "------------- Cách 1: Giải bằng hàm tính Gradient descent -------------\n",
      "Ma trận x (1015, 2)\n",
      "Ma trận y (1015,)\n"
     ]
    }
   ],
   "source": [
    "# ------------------------------------------------------------------------------\n",
    "# 4) x = heights đã chuyển theo định dạng chuẩn, y = weights\n",
    "# ------------------------------------------------------------------------------\n",
    "M = heights.size\n",
    "\n",
    "## Thêm 1 cột chứa giá trị 1 vào cột đầu tiên của x --> xBar\n",
    "xBar1 = np.c_[np.ones(M), heights]  # insert column\n",
    "y = weights\n",
    "\n",
    "##------------------------------------------------------------------------------\n",
    "print('------------- Cách 1: Giải bằng hàm tính Gradient descent -------------')\n",
    "##------------------------------------------------------------------------------\n",
    "print('Ma trận x', xBar1.shape)\n",
    "print('Ma trận y', y.shape)"
   ]
  },
  {
   "cell_type": "code",
   "execution_count": 12,
   "metadata": {},
   "outputs": [],
   "source": [
    "##------------------------------------------------------------------------------\n",
    "## 5) Với phương trình: y = mx + b (weights = (m * heights) + b) \n",
    "##       gọi hàm tính m (slope), b (theta/bias)\n",
    "##------------------------------------------------------------------------------\n",
    "alpha = 0.01  # learning rate\n",
    "theta = gradient_descent_2(alpha, xBar1, y, 1000)\n",
    "slope1 = theta[1]\n",
    "bias1 = theta[0]"
   ]
  },
  {
   "cell_type": "code",
   "execution_count": 13,
   "metadata": {},
   "outputs": [],
   "source": [
    "##------------------------------------------------------------------------------\n",
    "## 6) Dự đoán weights_predict theo m (slope), b (bias)\n",
    "##------------------------------------------------------------------------------\n",
    "for i in range(xBar1.shape[1]):\n",
    "    weights_predict = (slope1 * xBar1) + bias1\n"
   ]
  },
  {
   "cell_type": "code",
   "execution_count": 14,
   "metadata": {},
   "outputs": [
    {
     "name": "stdout",
     "output_type": "stream",
     "text": [
      "\n",
      " y = m.x + B --> y =  38.16395791358294 .x + ( 19.96584532847684 )\n",
      "\n"
     ]
    },
    {
     "data": {
      "image/png": "[encoded data removed]",
      "text/plain": [
       "<Figure size 864x576 with 1 Axes>"
      ]
     },
     "metadata": {
      "needs_background": "light"
     },
     "output_type": "display_data"
    }
   ],
   "source": [
    "##------------------------------------------------------------------------------\n",
    "## 7) Vẽ đường biểu diễn dữ liệu\n",
    "##------------------------------------------------------------------------------\n",
    "print('\\n y = m.x + B --> y = ', slope1, '.x + (', bias1, ')\\n')\n",
    "plt.figure(figsize=(12, 8))\n",
    "plt.xlim(1.6, 2.2)\n",
    "plt.ylim(60, 150)\n",
    "plt.scatter(xBar1[:, 1], weights, color=\"blue\")\n",
    "plt.plot(xBar1, weights_predict)\n",
    "plt.xlabel(\"Chiều cao (cm)\")\n",
    "plt.ylabel(\"Cân nặng (kg)\")\n",
    "plt.show()"
   ]
  },
  {
   "cell_type": "code",
   "execution_count": 15,
   "metadata": {},
   "outputs": [
    {
     "name": "stdout",
     "output_type": "stream",
     "text": [
      "Dự đoán người cao 1,8 m có cân nặng: 88.66 kg\n",
      "Dự đoán người cao 1,9 m có cân nặng: 92.48 kg\n",
      "Dự đoán người cao 2,0 m có cân nặng: 96.29 kg\n"
     ]
    }
   ],
   "source": [
    "##------------------------------------------------------------------------------\n",
    "## 8) Với chiều cao là 1.8, 1.9, 2.0 thì cân nặng lần lượt là bao nhiêu? \n",
    "##------------------------------------------------------------------------------\n",
    "height = np.array([1.8, 1.9, 2.0])\n",
    "weight = (slope1 * height) + bias1\n",
    "print(u'Dự đoán người cao 1,8 m có cân nặng: %.2f kg' % weight[0])\n",
    "print(u'Dự đoán người cao 1,9 m có cân nặng: %.2f kg' % weight[1])\n",
    "print(u'Dự đoán người cao 2,0 m có cân nặng: %.2f kg' % weight[2])"
   ]
  },
  {
   "cell_type": "code",
   "execution_count": null,
   "metadata": {},
   "outputs": [],
   "source": []
  }
 ],
 "metadata": {
  "kernelspec": {
   "display_name": "Python 3",
   "language": "python",
   "name": "python3"
  },
  "language_info": {
   "codemirror_mode": {
    "name": "ipython",
    "version": 3
   },
   "file_extension": ".py",
   "mimetype": "text/x-python",
   "name": "python",
   "nbconvert_exporter": "python",
   "pygments_lexer": "ipython3",
   "version": "3.8.5"
  }
 },
 "nbformat": 4,
 "nbformat_minor": 4
}
