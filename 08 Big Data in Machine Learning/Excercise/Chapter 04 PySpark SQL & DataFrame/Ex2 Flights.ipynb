{
 "cells": [
  {
   "cell_type": "code",
   "execution_count": 1,
   "id": "understood-deadline",
   "metadata": {},
   "outputs": [],
   "source": [
    "import findspark\n",
    "findspark.init()"
   ]
  },
  {
   "cell_type": "code",
   "execution_count": 2,
   "id": "bound-softball",
   "metadata": {},
   "outputs": [],
   "source": [
    "from pyspark import SparkContext\n",
    "from pyspark.conf import SparkConf\n",
    "from pyspark.sql import SparkSession\n",
    "from pyspark.sql.types import IntegerType\n",
    "import pyspark.sql.functions as F"
   ]
  },
  {
   "cell_type": "code",
   "execution_count": 3,
   "id": "missing-nebraska",
   "metadata": {},
   "outputs": [],
   "source": [
    "import matplotlib.pyplot as plt"
   ]
  },
  {
   "cell_type": "code",
   "execution_count": 4,
   "id": "sharp-witness",
   "metadata": {},
   "outputs": [],
   "source": [
    "sc = SparkContext()\n",
    "spark = SparkSession(sc)"
   ]
  },
  {
   "cell_type": "markdown",
   "id": "legal-joyce",
   "metadata": {},
   "source": [
    "### 1. Đọc tập tin flights_small.csv vào data."
   ]
  },
  {
   "cell_type": "code",
   "execution_count": 5,
   "id": "baking-deployment",
   "metadata": {},
   "outputs": [],
   "source": [
    "# Create a Dataframe from CSV file. Load the dataframe\n",
    "data = spark.read.csv('../../Data/flights_small.csv', header=True, inferSchema=True)"
   ]
  },
  {
   "cell_type": "markdown",
   "id": "proprietary-helicopter",
   "metadata": {},
   "source": [
    "### 2. In schema của data. Hiển thị 3 dòng đầu tiên của dữ liệu. Cho biết dữ liệu có bao nhiêu dòng?"
   ]
  },
  {
   "cell_type": "code",
   "execution_count": 6,
   "id": "bacterial-hollywood",
   "metadata": {},
   "outputs": [
    {
     "name": "stdout",
     "output_type": "stream",
     "text": [
      "root\n",
      " |-- year: integer (nullable = true)\n",
      " |-- month: integer (nullable = true)\n",
      " |-- day: integer (nullable = true)\n",
      " |-- dep_time: string (nullable = true)\n",
      " |-- dep_delay: string (nullable = true)\n",
      " |-- arr_time: string (nullable = true)\n",
      " |-- arr_delay: string (nullable = true)\n",
      " |-- carrier: string (nullable = true)\n",
      " |-- tailnum: string (nullable = true)\n",
      " |-- flight: integer (nullable = true)\n",
      " |-- origin: string (nullable = true)\n",
      " |-- dest: string (nullable = true)\n",
      " |-- air_time: string (nullable = true)\n",
      " |-- distance: integer (nullable = true)\n",
      " |-- hour: string (nullable = true)\n",
      " |-- minute: string (nullable = true)\n",
      "\n"
     ]
    }
   ],
   "source": [
    "data.printSchema()"
   ]
  },
  {
   "cell_type": "code",
   "execution_count": 7,
   "id": "handed-collection",
   "metadata": {},
   "outputs": [
    {
     "name": "stdout",
     "output_type": "stream",
     "text": [
      "There are 10000 rows in the data Dataframe\n"
     ]
    }
   ],
   "source": [
    "# Print the total number of rows\n",
    "print(\"There are {} rows in the data Dataframe\".format(data.count()))"
   ]
  },
  {
   "cell_type": "markdown",
   "id": "married-ideal",
   "metadata": {},
   "source": [
    "### 3. Từ data hãy tạo một view có tên là flights_small."
   ]
  },
  {
   "cell_type": "code",
   "execution_count": 8,
   "id": "sorted-fisher",
   "metadata": {},
   "outputs": [],
   "source": [
    "# Create a temporary view of data\n",
    "data.createOrReplaceTempView('flights_small')"
   ]
  },
  {
   "cell_type": "markdown",
   "id": "warming-tract",
   "metadata": {},
   "source": [
    "### 4. Từ view filghts_small hãy tạo một dataframe có tên là flights. Hiển thị 3 dòng đầu tiên của dữ liệu."
   ]
  },
  {
   "cell_type": "code",
   "execution_count": 9,
   "id": "creative-amino",
   "metadata": {},
   "outputs": [],
   "source": [
    "# Create the DataFrame flights\n",
    "flights = spark.table(\"flights_small\")"
   ]
  },
  {
   "cell_type": "code",
   "execution_count": 10,
   "id": "communist-print",
   "metadata": {},
   "outputs": [
    {
     "name": "stdout",
     "output_type": "stream",
     "text": [
      "+----+-----+---+--------+---------+--------+---------+-------+-------+------+------+----+--------+--------+----+------+\n",
      "|year|month|day|dep_time|dep_delay|arr_time|arr_delay|carrier|tailnum|flight|origin|dest|air_time|distance|hour|minute|\n",
      "+----+-----+---+--------+---------+--------+---------+-------+-------+------+------+----+--------+--------+----+------+\n",
      "|2014|   12|  8|     658|       -7|     935|       -5|     VX| N846VA|  1780|   SEA| LAX|     132|     954|   6|    58|\n",
      "|2014|    1| 22|    1040|        5|    1505|        5|     AS| N559AS|   851|   SEA| HNL|     360|    2677|  10|    40|\n",
      "|2014|    3|  9|    1443|       -2|    1652|        2|     VX| N847VA|   755|   SEA| SFO|     111|     679|  14|    43|\n",
      "+----+-----+---+--------+---------+--------+---------+-------+-------+------+------+----+--------+--------+----+------+\n",
      "only showing top 3 rows\n",
      "\n"
     ]
    }
   ],
   "source": [
    "# Show the head\n",
    "flights.show(3)"
   ]
  },
  {
   "cell_type": "markdown",
   "id": "expensive-cheat",
   "metadata": {},
   "source": [
    "### 5. Trong flights, hãy tạo thêm một cột duration_hrs(=air_time/60)."
   ]
  },
  {
   "cell_type": "code",
   "execution_count": 11,
   "id": "continued-violin",
   "metadata": {},
   "outputs": [],
   "source": [
    "# Add duration_hrs\n",
    "flights = flights.withColumn(\"duration_hrs\", flights.air_time/60)"
   ]
  },
  {
   "cell_type": "code",
   "execution_count": 12,
   "id": "stainless-benjamin",
   "metadata": {},
   "outputs": [
    {
     "name": "stdout",
     "output_type": "stream",
     "text": [
      "+----+-----+---+--------+---------+--------+---------+-------+-------+------+------+----+--------+--------+----+------+------------+\n",
      "|year|month|day|dep_time|dep_delay|arr_time|arr_delay|carrier|tailnum|flight|origin|dest|air_time|distance|hour|minute|duration_hrs|\n",
      "+----+-----+---+--------+---------+--------+---------+-------+-------+------+------+----+--------+--------+----+------+------------+\n",
      "|2014|   12|  8|     658|       -7|     935|       -5|     VX| N846VA|  1780|   SEA| LAX|     132|     954|   6|    58|         2.2|\n",
      "|2014|    1| 22|    1040|        5|    1505|        5|     AS| N559AS|   851|   SEA| HNL|     360|    2677|  10|    40|         6.0|\n",
      "|2014|    3|  9|    1443|       -2|    1652|        2|     VX| N847VA|   755|   SEA| SFO|     111|     679|  14|    43|        1.85|\n",
      "+----+-----+---+--------+---------+--------+---------+-------+-------+------+------+----+--------+--------+----+------+------------+\n",
      "only showing top 3 rows\n",
      "\n"
     ]
    }
   ],
   "source": [
    "flights.show(3)"
   ]
  },
  {
   "cell_type": "code",
   "execution_count": 13,
   "id": "agreed-smile",
   "metadata": {},
   "outputs": [
    {
     "name": "stdout",
     "output_type": "stream",
     "text": [
      "Row(year=2014, month=12, day=8, dep_time='658', dep_delay='-7', arr_time='935', arr_delay='-5', carrier='VX', tailnum='N846VA', flight=1780, origin='SEA', dest='LAX', air_time='132', distance=954, hour='6', minute='58', duration_hrs=2.2)\n",
      "\n",
      "\n",
      "Row(year=2014, month=1, day=22, dep_time='1040', dep_delay='5', arr_time='1505', arr_delay='5', carrier='AS', tailnum='N559AS', flight=851, origin='SEA', dest='HNL', air_time='360', distance=2677, hour='10', minute='40', duration_hrs=6.0)\n",
      "\n",
      "\n",
      "Row(year=2014, month=3, day=9, dep_time='1443', dep_delay='-2', arr_time='1652', arr_delay='2', carrier='VX', tailnum='N847VA', flight=755, origin='SEA', dest='SFO', air_time='111', distance=679, hour='14', minute='43', duration_hrs=1.85)\n",
      "\n",
      "\n"
     ]
    }
   ],
   "source": [
    "# Show the first 3 observations\n",
    "for row in flights.head(3):\n",
    "    print(row)\n",
    "    print('\\n')"
   ]
  },
  {
   "cell_type": "markdown",
   "id": "downtown-eleven",
   "metadata": {},
   "source": [
    "### 6. Lọc dữ liệu các chuyến bay có distance > 2000 => long_fligts1. Cho biết có bao nhiêu dòng dữ liệu thỏa điều kiện này? (bằng cả SQL và Dataframe)."
   ]
  },
  {
   "cell_type": "code",
   "execution_count": 14,
   "id": "colonial-timer",
   "metadata": {},
   "outputs": [],
   "source": [
    "# Filter flights by passing a string\n",
    "long_fligts1 = flights.filter(\"distance > 2000\")"
   ]
  },
  {
   "cell_type": "code",
   "execution_count": 15,
   "id": "statutory-compatibility",
   "metadata": {},
   "outputs": [
    {
     "name": "stdout",
     "output_type": "stream",
     "text": [
      "Number of rows (distance > 2000): 1481\n"
     ]
    }
   ],
   "source": [
    "print(\"Number of rows (distance > 2000):\", long_fligts1.count())"
   ]
  },
  {
   "cell_type": "code",
   "execution_count": 16,
   "id": "accessory-shanghai",
   "metadata": {},
   "outputs": [
    {
     "name": "stdout",
     "output_type": "stream",
     "text": [
      "+----+-----+---+--------+---------+--------+---------+-------+-------+------+------+----+--------+--------+----+------+-----------------+\n",
      "|year|month|day|dep_time|dep_delay|arr_time|arr_delay|carrier|tailnum|flight|origin|dest|air_time|distance|hour|minute|     duration_hrs|\n",
      "+----+-----+---+--------+---------+--------+---------+-------+-------+------+------+----+--------+--------+----+------+-----------------+\n",
      "|2014|    1| 22|    1040|        5|    1505|        5|     AS| N559AS|   851|   SEA| HNL|     360|    2677|  10|    40|              6.0|\n",
      "|2014|    1| 13|    2156|       -9|     607|      -15|     AS| N597AS|    24|   SEA| BOS|     290|    2496|  21|    56|4.833333333333333|\n",
      "+----+-----+---+--------+---------+--------+---------+-------+-------+------+------+----+--------+--------+----+------+-----------------+\n",
      "only showing top 2 rows\n",
      "\n"
     ]
    }
   ],
   "source": [
    "# Print the data to check\n",
    "long_fligts1.show(2)"
   ]
  },
  {
   "cell_type": "code",
   "execution_count": 17,
   "id": "greenhouse-willow",
   "metadata": {},
   "outputs": [],
   "source": [
    "# Construct the \"query\"\n",
    "query = '''SELECT * FROM flights_small WHERE distance > 2000'''\n",
    "# Apply the SQL \"query\"\n",
    "long_flights_sql = spark.sql(query)"
   ]
  },
  {
   "cell_type": "code",
   "execution_count": 18,
   "id": "demonstrated-throat",
   "metadata": {},
   "outputs": [
    {
     "data": {
      "text/plain": [
       "1481"
      ]
     },
     "execution_count": 18,
     "metadata": {},
     "output_type": "execute_result"
    }
   ],
   "source": [
    "long_flights_sql.count()"
   ]
  },
  {
   "cell_type": "markdown",
   "id": "subtle-morocco",
   "metadata": {},
   "source": [
    "### 7. Lọc dữ liệu các chuyến bay có 300 >= air_time >= 600 => time_flights. Cho biết có bao nhiêu dòng dữ liệu thỏa điều kiện này? (bằng cả SQL và Dataframe)."
   ]
  },
  {
   "cell_type": "code",
   "execution_count": 19,
   "id": "overall-moscow",
   "metadata": {},
   "outputs": [
    {
     "name": "stdout",
     "output_type": "stream",
     "text": [
      "+----+-----+---+--------+---------+--------+---------+-------+-------+------+------+----+--------+--------+----+------+------------+\n",
      "|year|month|day|dep_time|dep_delay|arr_time|arr_delay|carrier|tailnum|flight|origin|dest|air_time|distance|hour|minute|duration_hrs|\n",
      "+----+-----+---+--------+---------+--------+---------+-------+-------+------+------+----+--------+--------+----+------+------------+\n",
      "|2014|    1| 22|    1040|        5|    1505|        5|     AS| N559AS|   851|   SEA| HNL|     360|    2677|  10|    40|         6.0|\n",
      "|2014|   12|  4|     954|       -6|    1348|      -17|     HA| N395HA|    29|   SEA| OGG|     333|    2640|   9|    54|        5.55|\n",
      "+----+-----+---+--------+---------+--------+---------+-------+-------+------+------+----+--------+--------+----+------+------------+\n",
      "only showing top 2 rows\n",
      "\n"
     ]
    }
   ],
   "source": [
    "# Filter flights by passing a string\n",
    "time_flights = flights.filter(\"air_time >= 300 and air_time <= 600\")\n",
    "time_flights.show(2)"
   ]
  },
  {
   "cell_type": "code",
   "execution_count": 20,
   "id": "offensive-award",
   "metadata": {},
   "outputs": [
    {
     "name": "stdout",
     "output_type": "stream",
     "text": [
      "Number of rows (air_time >= 300 and air_time <= 600): 440\n"
     ]
    }
   ],
   "source": [
    "print(\"Number of rows (air_time >= 300 and air_time <= 600):\", time_flights.count())"
   ]
  },
  {
   "cell_type": "code",
   "execution_count": 21,
   "id": "worth-medium",
   "metadata": {},
   "outputs": [],
   "source": [
    "# Construct the \"query\"\n",
    "query = '''SELECT * FROM flights_small WHERE air_time BETWEEN 300 AND 600'''\n",
    "# Apply the SQL \"query\"\n",
    "time_flights_sql = spark.sql(query)"
   ]
  },
  {
   "cell_type": "code",
   "execution_count": 22,
   "id": "legitimate-order",
   "metadata": {},
   "outputs": [
    {
     "data": {
      "text/plain": [
       "440"
      ]
     },
     "execution_count": 22,
     "metadata": {},
     "output_type": "execute_result"
    }
   ],
   "source": [
    "time_flights_sql.count()"
   ]
  },
  {
   "cell_type": "markdown",
   "id": "dominant-radius",
   "metadata": {},
   "source": [
    "### 8. Tạo dữ liệu selected1 từ flights với các cột \"origin\", \"dest\", \"carrier\". Tạo biến điều kiện lọc thứ nhất filterA là các chuyến bay có origin là \"SEA\", tạo biến điều kiện lọc thứ hai filterB là các chuyến bay có dest là \"PDX\". Từ đó hãy tạo Dataframe kết quả selected2 từ selected1 thỏa cả filterA và filterB. Cho biết có bao nhiêu dòng dữ liệu thỏa điều kiện này?"
   ]
  },
  {
   "cell_type": "code",
   "execution_count": 23,
   "id": "level-choice",
   "metadata": {},
   "outputs": [],
   "source": [
    "# Select set of columns\n",
    "selected1 = flights.select(flights.origin, flights.dest, flights.carrier)\n",
    "# Define first filter\n",
    "filterA = flights.origin == \"SEA\"\n",
    "# Define second filter\n",
    "filterB = flights.dest == \"PDX\"\n",
    "# Filter the data, first by filterA then by filterB\n",
    "selected2 = selected1.filter(filterA).filter(filterB)"
   ]
  },
  {
   "cell_type": "code",
   "execution_count": 24,
   "id": "statewide-slovenia",
   "metadata": {},
   "outputs": [
    {
     "name": "stdout",
     "output_type": "stream",
     "text": [
      "+------+----+-------+\n",
      "|origin|dest|carrier|\n",
      "+------+----+-------+\n",
      "|   SEA| PDX|     OO|\n",
      "|   SEA| PDX|     OO|\n",
      "|   SEA| PDX|     OO|\n",
      "|   SEA| PDX|     OO|\n",
      "|   SEA| PDX|     OO|\n",
      "+------+----+-------+\n",
      "only showing top 5 rows\n",
      "\n"
     ]
    }
   ],
   "source": [
    "selected2.show(5)"
   ]
  },
  {
   "cell_type": "code",
   "execution_count": 25,
   "id": "lightweight-rebate",
   "metadata": {},
   "outputs": [
    {
     "name": "stdout",
     "output_type": "stream",
     "text": [
      "Number of rows (orgin = 'SEA' and dest = 'PDX'): 157\n"
     ]
    }
   ],
   "source": [
    "print(\"Number of rows (orgin = 'SEA' and dest = 'PDX'):\", selected2.count())"
   ]
  },
  {
   "cell_type": "markdown",
   "id": "compliant-relevance",
   "metadata": {},
   "source": [
    "### 9. Tạo riêng một biến avg_speed(alias \"avg_speed\") là tốc độ trung bình của chuyến bay (tính theo giờ) distance/(air_time/60). Tạo Dataframe speed1 từ flights với các cột \"origin\", \"dest\", \"tailnum\" và cột \"avg_speed\" vừa tạo."
   ]
  },
  {
   "cell_type": "code",
   "execution_count": 26,
   "id": "spread-routine",
   "metadata": {},
   "outputs": [],
   "source": [
    "# Define avg_speed\n",
    "avg_speed = (flights.distance/(flights.air_time/60)).alias(\"avg_speed\")\n",
    "# Select the correct columns\n",
    "speed1 = flights.select(\"origin\", \"dest\", \"tailnum\", avg_speed)"
   ]
  },
  {
   "cell_type": "code",
   "execution_count": 27,
   "id": "built-synthetic",
   "metadata": {},
   "outputs": [
    {
     "name": "stdout",
     "output_type": "stream",
     "text": [
      "+------+----+-------+-----------------+\n",
      "|origin|dest|tailnum|        avg_speed|\n",
      "+------+----+-------+-----------------+\n",
      "|   SEA| LAX| N846VA|433.6363636363636|\n",
      "|   SEA| HNL| N559AS|446.1666666666667|\n",
      "+------+----+-------+-----------------+\n",
      "only showing top 2 rows\n",
      "\n"
     ]
    }
   ],
   "source": [
    "speed1.show(2)"
   ]
  },
  {
   "cell_type": "markdown",
   "id": "foster-morris",
   "metadata": {},
   "source": [
    "### 10. Tạo Dataframe speed2 từ flights với các cột \"origin\", \"dest\", \"tailnum\" và cột avg_speed = distance/(air_time/60) trong cùng một lệnh (dùng selectExpr)."
   ]
  },
  {
   "cell_type": "code",
   "execution_count": 28,
   "id": "dying-direction",
   "metadata": {},
   "outputs": [],
   "source": [
    "# Create the same table using a SQL expression\n",
    "speed2 = flights.selectExpr(\"origin\", \"dest\", \"tailnum\", \"distance/(air_time/60) as avg_speed\")"
   ]
  },
  {
   "cell_type": "code",
   "execution_count": 29,
   "id": "furnished-smith",
   "metadata": {},
   "outputs": [
    {
     "name": "stdout",
     "output_type": "stream",
     "text": [
      "+------+----+-------+-----------------+\n",
      "|origin|dest|tailnum|        avg_speed|\n",
      "+------+----+-------+-----------------+\n",
      "|   SEA| LAX| N846VA|433.6363636363636|\n",
      "|   SEA| HNL| N559AS|446.1666666666667|\n",
      "+------+----+-------+-----------------+\n",
      "only showing top 2 rows\n",
      "\n"
     ]
    }
   ],
   "source": [
    "speed2.show(2)"
   ]
  },
  {
   "cell_type": "markdown",
   "id": "regular-delicious",
   "metadata": {},
   "source": [
    "### 11. Sử dụng aggregation method để: tìm air_time nhỏ nhất của các chuyến bay có \"origin\" là \"PDX\", tìm distance lớn nhất của các chuyến bay có \"origin\" là \"SEA\". Tìm tổng duration các chuyến bay (theo giờ)."
   ]
  },
  {
   "cell_type": "code",
   "execution_count": 30,
   "id": "dressed-trace",
   "metadata": {},
   "outputs": [],
   "source": [
    "flights = flights.withColumn(\"air_time\", flights[\"air_time\"].cast(IntegerType()))"
   ]
  },
  {
   "cell_type": "code",
   "execution_count": 31,
   "id": "rational-guest",
   "metadata": {},
   "outputs": [
    {
     "name": "stdout",
     "output_type": "stream",
     "text": [
      "+-------------+\n",
      "|min(air_time)|\n",
      "+-------------+\n",
      "|           24|\n",
      "+-------------+\n",
      "\n"
     ]
    }
   ],
   "source": [
    "# Find the shortest time from PDX in terms of air_time\n",
    "flights.filter(flights.origin == \"PDX\").groupBy().min(\"air_time\").show()"
   ]
  },
  {
   "cell_type": "code",
   "execution_count": 32,
   "id": "alive-lounge",
   "metadata": {},
   "outputs": [
    {
     "name": "stdout",
     "output_type": "stream",
     "text": [
      "+-------------+\n",
      "|min(distance)|\n",
      "+-------------+\n",
      "|           93|\n",
      "+-------------+\n",
      "\n"
     ]
    }
   ],
   "source": [
    "# Find the longges time from PDX in terms of air_time\n",
    "flights.filter(flights.origin == \"SEA\").groupBy().min(\"distance\").show()"
   ]
  },
  {
   "cell_type": "code",
   "execution_count": 33,
   "id": "afraid-person",
   "metadata": {},
   "outputs": [
    {
     "name": "stdout",
     "output_type": "stream",
     "text": [
      "+------------------+\n",
      "| sum(duration_hrs)|\n",
      "+------------------+\n",
      "|25289.600000000126|\n",
      "+------------------+\n",
      "\n"
     ]
    }
   ],
   "source": [
    "# Total hour in the air\n",
    "flights.withColumn(\"duration_hrs\", flights.air_time/60).groupBy().sum(\"duration_hrs\").show()"
   ]
  },
  {
   "cell_type": "markdown",
   "id": "allied-cooper",
   "metadata": {},
   "source": [
    "### 12. Nhóm dữ liệu và đếm số chuyến bay theo từng \"tailnum\", nhóm dữ liệu và đếm số chuyến bay theo từng \"origin\", nhóm dữ liệu và tính trung bình của air_time theo từng \"origin\"."
   ]
  },
  {
   "cell_type": "code",
   "execution_count": 34,
   "id": "civic-alarm",
   "metadata": {},
   "outputs": [],
   "source": [
    "# Group by tailnum\n",
    "by_plane = flights.groupBy(\"tailnum\")"
   ]
  },
  {
   "cell_type": "code",
   "execution_count": 35,
   "id": "charming-america",
   "metadata": {},
   "outputs": [
    {
     "name": "stdout",
     "output_type": "stream",
     "text": [
      "+-------+-----+\n",
      "|tailnum|count|\n",
      "+-------+-----+\n",
      "| N442AS|   38|\n",
      "| N102UW|    2|\n",
      "| N36472|    4|\n",
      "| N38451|    4|\n",
      "| N73283|    4|\n",
      "| N513UA|    2|\n",
      "| N954WN|    5|\n",
      "| N388DA|    3|\n",
      "| N567AA|    1|\n",
      "| N516UA|    2|\n",
      "| N927DN|    1|\n",
      "| N8322X|    1|\n",
      "| N466SW|    1|\n",
      "|  N6700|    1|\n",
      "| N607AS|   45|\n",
      "| N622SW|    4|\n",
      "| N584AS|   31|\n",
      "| N914WN|    4|\n",
      "| N654AW|    2|\n",
      "| N336NW|    1|\n",
      "+-------+-----+\n",
      "only showing top 20 rows\n",
      "\n"
     ]
    }
   ],
   "source": [
    "# Number of flights each plane made\n",
    "by_plane.count().show()"
   ]
  },
  {
   "cell_type": "code",
   "execution_count": 36,
   "id": "australian-brick",
   "metadata": {},
   "outputs": [],
   "source": [
    "# Group by origin\n",
    "by_origin = flights.groupBy(\"origin\").count()"
   ]
  },
  {
   "cell_type": "code",
   "execution_count": 37,
   "id": "tropical-fantasy",
   "metadata": {},
   "outputs": [
    {
     "name": "stdout",
     "output_type": "stream",
     "text": [
      "+------+-----+\n",
      "|origin|count|\n",
      "+------+-----+\n",
      "|   SEA| 6754|\n",
      "|   PDX| 3246|\n",
      "+------+-----+\n",
      "\n"
     ]
    }
   ],
   "source": [
    "by_origin.show()"
   ]
  },
  {
   "cell_type": "code",
   "execution_count": 38,
   "id": "threaded-insider",
   "metadata": {},
   "outputs": [
    {
     "name": "stdout",
     "output_type": "stream",
     "text": [
      "+------+------------------+\n",
      "|origin|     avg(air_time)|\n",
      "+------+------------------+\n",
      "|   SEA| 160.4361496051259|\n",
      "|   PDX|137.11543248288737|\n",
      "+------+------------------+\n",
      "\n"
     ]
    }
   ],
   "source": [
    "# Average air_time\n",
    "flights.groupBy(\"origin\").avg(\"air_time\").show()"
   ]
  },
  {
   "cell_type": "markdown",
   "id": "demonstrated-hunger",
   "metadata": {},
   "source": [
    "### 13. Nhóm các chuyến bay theo \"month\", \"dest\" => by_month_dest. Tính trung bình \"dep_delay\" theo by_month_dest. Tính std \"dep_delay\" theo by_month_dest"
   ]
  },
  {
   "cell_type": "code",
   "execution_count": 39,
   "id": "settled-disabled",
   "metadata": {},
   "outputs": [
    {
     "name": "stdout",
     "output_type": "stream",
     "text": [
      "+-----+----+-------------------+\n",
      "|month|dest|     avg(dep_delay)|\n",
      "+-----+----+-------------------+\n",
      "|    4| PHX| 1.6833333333333333|\n",
      "|    1| RDM|             -1.625|\n",
      "|    5| ONT| 3.5555555555555554|\n",
      "|    7| OMA|               -6.5|\n",
      "|    8| MDW|               7.45|\n",
      "|    6| DEN|  5.418181818181818|\n",
      "|    5| IAD|               -4.0|\n",
      "|   12| COS|               -1.0|\n",
      "|   11| ANC|  7.529411764705882|\n",
      "|    5| AUS|              -0.75|\n",
      "|    5| COS| 11.666666666666666|\n",
      "|    2| PSP|                0.6|\n",
      "|    4| ORD|0.14285714285714285|\n",
      "|   10| DFW| 18.176470588235293|\n",
      "|   10| DCA|               -1.5|\n",
      "|    8| JNU|             18.125|\n",
      "|   11| KOA|               -1.0|\n",
      "|   10| OMA|-0.6666666666666666|\n",
      "|    6| ONT|              9.625|\n",
      "|    3| MSP|                3.2|\n",
      "+-----+----+-------------------+\n",
      "only showing top 20 rows\n",
      "\n"
     ]
    }
   ],
   "source": [
    "flights = flights.withColumn(\"dep_delay\", flights[\"dep_delay\"].cast(IntegerType()))\n",
    "# Group by month and dest\n",
    "by_month_dest = flights.groupBy(\"month\", \"dest\")\n",
    "# Average departure delay by month and destination\n",
    "by_month_dest.avg(\"dep_delay\").show()"
   ]
  },
  {
   "cell_type": "code",
   "execution_count": 40,
   "id": "occupied-presence",
   "metadata": {},
   "outputs": [
    {
     "name": "stdout",
     "output_type": "stream",
     "text": [
      "+-----+----+----------------------+\n",
      "|month|dest|stddev_samp(dep_delay)|\n",
      "+-----+----+----------------------+\n",
      "|    4| PHX|    15.003380033491737|\n",
      "|    1| RDM|     8.830749846821778|\n",
      "|    5| ONT|    18.895178691342874|\n",
      "|    7| OMA|    2.1213203435596424|\n",
      "|    8| MDW|    14.467659032985843|\n",
      "|    6| DEN|    13.536905534420026|\n",
      "|    5| IAD|    3.8078865529319543|\n",
      "|   12| COS|    1.4142135623730951|\n",
      "|   11| ANC|    18.604716401245316|\n",
      "|    5| AUS|     4.031128874149275|\n",
      "|    5| COS|     33.38163167571851|\n",
      "|    2| PSP|     4.878524367060187|\n",
      "|    4| ORD|    11.593882803741764|\n",
      "|   10| DFW|     45.53019017606675|\n",
      "|   10| DCA|    0.7071067811865476|\n",
      "|    8| JNU|     40.79368823727514|\n",
      "|   11| KOA|    1.8708286933869707|\n",
      "|   10| OMA|    5.8594652770823155|\n",
      "|    6| ONT|     25.98316762829351|\n",
      "|    3| MSP|    21.556779370817555|\n",
      "+-----+----+----------------------+\n",
      "only showing top 20 rows\n",
      "\n"
     ]
    }
   ],
   "source": [
    "# Standard deviation of departure delay\n",
    "by_month_dest.agg(F.stddev(\"dep_delay\")).show()"
   ]
  },
  {
   "cell_type": "markdown",
   "id": "earlier-maria",
   "metadata": {},
   "source": [
    "### 14. Đọc tập tin airports.csv vào airports. In schema của airports. Hiển thị 3 dòng đầu tiên của dữ liệu. Cho biết dữ liệu có bao nhiêu dòng?"
   ]
  },
  {
   "cell_type": "code",
   "execution_count": 41,
   "id": "grateful-silly",
   "metadata": {},
   "outputs": [],
   "source": [
    "airports = spark.read.csv('../../Data/airports.csv', header=True, inferSchema=True)"
   ]
  },
  {
   "cell_type": "code",
   "execution_count": 42,
   "id": "biological-blanket",
   "metadata": {},
   "outputs": [
    {
     "name": "stdout",
     "output_type": "stream",
     "text": [
      "root\n",
      " |-- faa: string (nullable = true)\n",
      " |-- name: string (nullable = true)\n",
      " |-- lat: double (nullable = true)\n",
      " |-- lon: double (nullable = true)\n",
      " |-- alt: integer (nullable = true)\n",
      " |-- tz: integer (nullable = true)\n",
      " |-- dst: string (nullable = true)\n",
      "\n"
     ]
    }
   ],
   "source": [
    "airports.printSchema()"
   ]
  },
  {
   "cell_type": "code",
   "execution_count": 43,
   "id": "analyzed-importance",
   "metadata": {},
   "outputs": [
    {
     "name": "stdout",
     "output_type": "stream",
     "text": [
      "There are 1397 rows in the data Dataframe\n"
     ]
    }
   ],
   "source": [
    "# Print the total number of rows\n",
    "print(\"There are {} rows in the data Dataframe\".format(airports.count()))"
   ]
  },
  {
   "cell_type": "code",
   "execution_count": 44,
   "id": "resident-voluntary",
   "metadata": {},
   "outputs": [
    {
     "name": "stdout",
     "output_type": "stream",
     "text": [
      "+---+--------------------+----------+-----------+----+---+---+\n",
      "|faa|                name|       lat|        lon| alt| tz|dst|\n",
      "+---+--------------------+----------+-----------+----+---+---+\n",
      "|04G|   Lansdowne Airport|41.1304722|-80.6195833|1044| -5|  A|\n",
      "|06A|Moton Field Munic...|32.4605722|-85.6800278| 264| -5|  A|\n",
      "|06C| Schaumburg Regional|41.9893408|-88.1012428| 801| -6|  A|\n",
      "+---+--------------------+----------+-----------+----+---+---+\n",
      "only showing top 3 rows\n",
      "\n"
     ]
    }
   ],
   "source": [
    "# Examine the data\n",
    "airports.show(3)"
   ]
  },
  {
   "cell_type": "markdown",
   "id": "immune-validity",
   "metadata": {},
   "source": [
    "### 15. Đổi tên cột \"faa\" trong airports thành \"dest\""
   ]
  },
  {
   "cell_type": "code",
   "execution_count": 45,
   "id": "exotic-specific",
   "metadata": {},
   "outputs": [],
   "source": [
    "# Rename the faa column\n",
    "airports = airports.withColumnRenamed(\"faa\", \"dest\")"
   ]
  },
  {
   "cell_type": "code",
   "execution_count": 46,
   "id": "occupied-symbol",
   "metadata": {},
   "outputs": [
    {
     "name": "stdout",
     "output_type": "stream",
     "text": [
      "+----+--------------------+----------+-----------+----+---+---+\n",
      "|dest|                name|       lat|        lon| alt| tz|dst|\n",
      "+----+--------------------+----------+-----------+----+---+---+\n",
      "| 04G|   Lansdowne Airport|41.1304722|-80.6195833|1044| -5|  A|\n",
      "| 06A|Moton Field Munic...|32.4605722|-85.6800278| 264| -5|  A|\n",
      "| 06C| Schaumburg Regional|41.9893408|-88.1012428| 801| -6|  A|\n",
      "+----+--------------------+----------+-----------+----+---+---+\n",
      "only showing top 3 rows\n",
      "\n"
     ]
    }
   ],
   "source": [
    "airports.show(3)"
   ]
  },
  {
   "cell_type": "markdown",
   "id": "applicable-consumer",
   "metadata": {},
   "source": [
    "### 16. Tạo một DataFrame mới bằng cách kết hợp flights và airports theo \"dest\""
   ]
  },
  {
   "cell_type": "code",
   "execution_count": 47,
   "id": "irish-airport",
   "metadata": {},
   "outputs": [],
   "source": [
    "flights_with_airports = flights.join(airports, on=\"dest\", how=\"leftouter\")"
   ]
  },
  {
   "cell_type": "code",
   "execution_count": 48,
   "id": "horizontal-malaysia",
   "metadata": {},
   "outputs": [
    {
     "name": "stdout",
     "output_type": "stream",
     "text": [
      "+----+----+-----+---+--------+---------+--------+---------+-------+-------+------+------+--------+--------+----+------+------------+------------------+---------+-----------+---+---+---+\n",
      "|dest|year|month|day|dep_time|dep_delay|arr_time|arr_delay|carrier|tailnum|flight|origin|air_time|distance|hour|minute|duration_hrs|              name|      lat|        lon|alt| tz|dst|\n",
      "+----+----+-----+---+--------+---------+--------+---------+-------+-------+------+------+--------+--------+----+------+------------+------------------+---------+-----------+---+---+---+\n",
      "| LAX|2014|   12|  8|     658|       -7|     935|       -5|     VX| N846VA|  1780|   SEA|     132|     954|   6|    58|         2.2|  Los Angeles Intl|33.942536|-118.408075|126| -8|  A|\n",
      "| HNL|2014|    1| 22|    1040|        5|    1505|        5|     AS| N559AS|   851|   SEA|     360|    2677|  10|    40|         6.0|     Honolulu Intl|21.318681|-157.922428| 13|-10|  N|\n",
      "| SFO|2014|    3|  9|    1443|       -2|    1652|        2|     VX| N847VA|   755|   SEA|     111|     679|  14|    43|        1.85|San Francisco Intl|37.618972|-122.374889| 13| -8|  A|\n",
      "+----+----+-----+---+--------+---------+--------+---------+-------+-------+------+------+--------+--------+----+------+------------+------------------+---------+-----------+---+---+---+\n",
      "only showing top 3 rows\n",
      "\n"
     ]
    }
   ],
   "source": [
    "# Examine the new Dataframe\n",
    "flights_with_airports.show(3)"
   ]
  },
  {
   "cell_type": "code",
   "execution_count": null,
   "id": "married-forum",
   "metadata": {},
   "outputs": [],
   "source": []
  }
 ],
 "metadata": {
  "kernelspec": {
   "display_name": "Python 3",
   "language": "python",
   "name": "python3"
  },
  "language_info": {
   "codemirror_mode": {
    "name": "ipython",
    "version": 3
   },
   "file_extension": ".py",
   "mimetype": "text/x-python",
   "name": "python",
   "nbconvert_exporter": "python",
   "pygments_lexer": "ipython3",
   "version": "3.8.3"
  }
 },
 "nbformat": 4,
 "nbformat_minor": 5
}
